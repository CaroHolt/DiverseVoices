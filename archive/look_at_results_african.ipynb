{
 "cells": [
  {
   "cell_type": "code",
   "execution_count": 1,
   "metadata": {},
   "outputs": [],
   "source": [
    "import pandas as pd\n",
    "from prompts import *\n",
    "import plotly.express as px\n",
    "import glob\n",
    "\n",
    "pd.set_option('display.max_colwidth', None)"
   ]
  },
  {
   "cell_type": "code",
   "execution_count": 15,
   "metadata": {},
   "outputs": [],
   "source": [
    "df = pd.read_csv('african_dialects_ATL.csv')"
   ]
  },
  {
   "cell_type": "code",
   "execution_count": 17,
   "metadata": {},
   "outputs": [],
   "source": [
    "df_metadata = pd.read_csv('/work/bbc6523/diverse_voices/full_metadata.csv')"
   ]
  },
  {
   "cell_type": "code",
   "execution_count": 18,
   "metadata": {},
   "outputs": [],
   "source": [
    "df = pd.merge(df, df_metadata, left_on='Spkr', right_on='CORAAL.File')"
   ]
  },
  {
   "cell_type": "code",
   "execution_count": 3,
   "metadata": {},
   "outputs": [],
   "source": [
    "df_adjectives = pd.read_csv('filtered_valence_adjectives.csv')"
   ]
  },
  {
   "cell_type": "code",
   "execution_count": 4,
   "metadata": {},
   "outputs": [],
   "source": [
    "def parse_adjectives(row, col, adjectivelist):\n",
    "    adj_found = []\n",
    "    for adj in list(set(adjectivelist)):\n",
    "        if adj in row[col].lower():\n",
    "            adj_found.append(adj)\n",
    "\n",
    "    return adj_found"
   ]
  },
  {
   "cell_type": "markdown",
   "metadata": {},
   "source": [
    "## Adjectives Princeton"
   ]
  },
  {
   "cell_type": "markdown",
   "metadata": {},
   "source": [
    "### Qwen2"
   ]
  },
  {
   "cell_type": "code",
   "execution_count": 34,
   "metadata": {},
   "outputs": [
    {
     "data": {
      "application/vnd.plotly.v1+json": {
       "config": {
        "plotlyServerURL": "https://plot.ly"
       },
       "data": [
        {
         "alignmentgroup": "True",
         "hovertemplate": "Gender=Female<br>parsed=%{x}<br>Percentage=%{y}<extra></extra>",
         "legendgroup": "Female",
         "marker": {
          "color": "#636efa",
          "pattern": {
           "shape": ""
          }
         },
         "name": "Female",
         "offsetgroup": "Female",
         "orientation": "v",
         "showlegend": true,
         "textposition": "auto",
         "type": "bar",
         "x": [
          "aggressive",
          "ambitious",
          "angry",
          "arrogant",
          "athletic",
          "competitive",
          "complaining",
          "diverse",
          "energetic",
          "independent",
          "loud",
          "musical",
          "opinionated",
          "outgoing",
          "outspoken",
          "passionate",
          "rebellious",
          "rude",
          "straightforward",
          "strong",
          "unreliable"
         ],
         "xaxis": "x",
         "y": [
          3.286384976525822,
          3.286384976525822,
          2.112676056338028,
          5.164319248826291,
          2.3474178403755865,
          1.643192488262911,
          2.3474178403755865,
          5.39906103286385,
          1.1737089201877933,
          1.4084507042253522,
          6.103286384976526,
          4.929577464788732,
          6.572769953051644,
          2.112676056338028,
          11.971830985915492,
          5.868544600938967,
          4.225352112676056,
          1.8779342723004695,
          1.643192488262911,
          1.8779342723004695,
          4.929577464788732
         ],
         "yaxis": "y"
        },
        {
         "alignmentgroup": "True",
         "hovertemplate": "Gender=Male<br>parsed=%{x}<br>Percentage=%{y}<extra></extra>",
         "legendgroup": "Male",
         "marker": {
          "color": "#EF553B",
          "pattern": {
           "shape": ""
          }
         },
         "name": "Male",
         "offsetgroup": "Male",
         "orientation": "v",
         "showlegend": true,
         "textposition": "auto",
         "type": "bar",
         "x": [
          "aggressive",
          "ambitious",
          "angry",
          "arrogant",
          "athletic",
          "competitive",
          "complaining",
          "cool",
          "diverse",
          "emotional",
          "loud",
          "musical",
          "opinionated",
          "outgoing",
          "outspoken",
          "passionate",
          "rebellious",
          "rude",
          "straightforward",
          "strong",
          "unreliable"
         ],
         "xaxis": "x",
         "y": [
          3.7142857142857144,
          4.428571428571428,
          3.428571428571429,
          10,
          3.785714285714286,
          1.8571428571428572,
          1.2857142857142856,
          1.0714285714285714,
          1.5714285714285716,
          1.4285714285714286,
          7.428571428571429,
          3.428571428571429,
          6.071428571428571,
          1.7857142857142856,
          6.928571428571429,
          8.785714285714285,
          3.2857142857142856,
          3,
          2.357142857142857,
          2.857142857142857,
          2.214285714285714
         ],
         "yaxis": "y"
        }
       ],
       "layout": {
        "barmode": "group",
        "legend": {
         "title": {
          "text": "Gender"
         },
         "tracegroupgap": 0
        },
        "margin": {
         "t": 60
        },
        "template": {
         "data": {
          "bar": [
           {
            "error_x": {
             "color": "#2a3f5f"
            },
            "error_y": {
             "color": "#2a3f5f"
            },
            "marker": {
             "line": {
              "color": "#E5ECF6",
              "width": 0.5
             },
             "pattern": {
              "fillmode": "overlay",
              "size": 10,
              "solidity": 0.2
             }
            },
            "type": "bar"
           }
          ],
          "barpolar": [
           {
            "marker": {
             "line": {
              "color": "#E5ECF6",
              "width": 0.5
             },
             "pattern": {
              "fillmode": "overlay",
              "size": 10,
              "solidity": 0.2
             }
            },
            "type": "barpolar"
           }
          ],
          "carpet": [
           {
            "aaxis": {
             "endlinecolor": "#2a3f5f",
             "gridcolor": "white",
             "linecolor": "white",
             "minorgridcolor": "white",
             "startlinecolor": "#2a3f5f"
            },
            "baxis": {
             "endlinecolor": "#2a3f5f",
             "gridcolor": "white",
             "linecolor": "white",
             "minorgridcolor": "white",
             "startlinecolor": "#2a3f5f"
            },
            "type": "carpet"
           }
          ],
          "choropleth": [
           {
            "colorbar": {
             "outlinewidth": 0,
             "ticks": ""
            },
            "type": "choropleth"
           }
          ],
          "contour": [
           {
            "colorbar": {
             "outlinewidth": 0,
             "ticks": ""
            },
            "colorscale": [
             [
              0,
              "#0d0887"
             ],
             [
              0.1111111111111111,
              "#46039f"
             ],
             [
              0.2222222222222222,
              "#7201a8"
             ],
             [
              0.3333333333333333,
              "#9c179e"
             ],
             [
              0.4444444444444444,
              "#bd3786"
             ],
             [
              0.5555555555555556,
              "#d8576b"
             ],
             [
              0.6666666666666666,
              "#ed7953"
             ],
             [
              0.7777777777777778,
              "#fb9f3a"
             ],
             [
              0.8888888888888888,
              "#fdca26"
             ],
             [
              1,
              "#f0f921"
             ]
            ],
            "type": "contour"
           }
          ],
          "contourcarpet": [
           {
            "colorbar": {
             "outlinewidth": 0,
             "ticks": ""
            },
            "type": "contourcarpet"
           }
          ],
          "heatmap": [
           {
            "colorbar": {
             "outlinewidth": 0,
             "ticks": ""
            },
            "colorscale": [
             [
              0,
              "#0d0887"
             ],
             [
              0.1111111111111111,
              "#46039f"
             ],
             [
              0.2222222222222222,
              "#7201a8"
             ],
             [
              0.3333333333333333,
              "#9c179e"
             ],
             [
              0.4444444444444444,
              "#bd3786"
             ],
             [
              0.5555555555555556,
              "#d8576b"
             ],
             [
              0.6666666666666666,
              "#ed7953"
             ],
             [
              0.7777777777777778,
              "#fb9f3a"
             ],
             [
              0.8888888888888888,
              "#fdca26"
             ],
             [
              1,
              "#f0f921"
             ]
            ],
            "type": "heatmap"
           }
          ],
          "heatmapgl": [
           {
            "colorbar": {
             "outlinewidth": 0,
             "ticks": ""
            },
            "colorscale": [
             [
              0,
              "#0d0887"
             ],
             [
              0.1111111111111111,
              "#46039f"
             ],
             [
              0.2222222222222222,
              "#7201a8"
             ],
             [
              0.3333333333333333,
              "#9c179e"
             ],
             [
              0.4444444444444444,
              "#bd3786"
             ],
             [
              0.5555555555555556,
              "#d8576b"
             ],
             [
              0.6666666666666666,
              "#ed7953"
             ],
             [
              0.7777777777777778,
              "#fb9f3a"
             ],
             [
              0.8888888888888888,
              "#fdca26"
             ],
             [
              1,
              "#f0f921"
             ]
            ],
            "type": "heatmapgl"
           }
          ],
          "histogram": [
           {
            "marker": {
             "pattern": {
              "fillmode": "overlay",
              "size": 10,
              "solidity": 0.2
             }
            },
            "type": "histogram"
           }
          ],
          "histogram2d": [
           {
            "colorbar": {
             "outlinewidth": 0,
             "ticks": ""
            },
            "colorscale": [
             [
              0,
              "#0d0887"
             ],
             [
              0.1111111111111111,
              "#46039f"
             ],
             [
              0.2222222222222222,
              "#7201a8"
             ],
             [
              0.3333333333333333,
              "#9c179e"
             ],
             [
              0.4444444444444444,
              "#bd3786"
             ],
             [
              0.5555555555555556,
              "#d8576b"
             ],
             [
              0.6666666666666666,
              "#ed7953"
             ],
             [
              0.7777777777777778,
              "#fb9f3a"
             ],
             [
              0.8888888888888888,
              "#fdca26"
             ],
             [
              1,
              "#f0f921"
             ]
            ],
            "type": "histogram2d"
           }
          ],
          "histogram2dcontour": [
           {
            "colorbar": {
             "outlinewidth": 0,
             "ticks": ""
            },
            "colorscale": [
             [
              0,
              "#0d0887"
             ],
             [
              0.1111111111111111,
              "#46039f"
             ],
             [
              0.2222222222222222,
              "#7201a8"
             ],
             [
              0.3333333333333333,
              "#9c179e"
             ],
             [
              0.4444444444444444,
              "#bd3786"
             ],
             [
              0.5555555555555556,
              "#d8576b"
             ],
             [
              0.6666666666666666,
              "#ed7953"
             ],
             [
              0.7777777777777778,
              "#fb9f3a"
             ],
             [
              0.8888888888888888,
              "#fdca26"
             ],
             [
              1,
              "#f0f921"
             ]
            ],
            "type": "histogram2dcontour"
           }
          ],
          "mesh3d": [
           {
            "colorbar": {
             "outlinewidth": 0,
             "ticks": ""
            },
            "type": "mesh3d"
           }
          ],
          "parcoords": [
           {
            "line": {
             "colorbar": {
              "outlinewidth": 0,
              "ticks": ""
             }
            },
            "type": "parcoords"
           }
          ],
          "pie": [
           {
            "automargin": true,
            "type": "pie"
           }
          ],
          "scatter": [
           {
            "fillpattern": {
             "fillmode": "overlay",
             "size": 10,
             "solidity": 0.2
            },
            "type": "scatter"
           }
          ],
          "scatter3d": [
           {
            "line": {
             "colorbar": {
              "outlinewidth": 0,
              "ticks": ""
             }
            },
            "marker": {
             "colorbar": {
              "outlinewidth": 0,
              "ticks": ""
             }
            },
            "type": "scatter3d"
           }
          ],
          "scattercarpet": [
           {
            "marker": {
             "colorbar": {
              "outlinewidth": 0,
              "ticks": ""
             }
            },
            "type": "scattercarpet"
           }
          ],
          "scattergeo": [
           {
            "marker": {
             "colorbar": {
              "outlinewidth": 0,
              "ticks": ""
             }
            },
            "type": "scattergeo"
           }
          ],
          "scattergl": [
           {
            "marker": {
             "colorbar": {
              "outlinewidth": 0,
              "ticks": ""
             }
            },
            "type": "scattergl"
           }
          ],
          "scattermapbox": [
           {
            "marker": {
             "colorbar": {
              "outlinewidth": 0,
              "ticks": ""
             }
            },
            "type": "scattermapbox"
           }
          ],
          "scatterpolar": [
           {
            "marker": {
             "colorbar": {
              "outlinewidth": 0,
              "ticks": ""
             }
            },
            "type": "scatterpolar"
           }
          ],
          "scatterpolargl": [
           {
            "marker": {
             "colorbar": {
              "outlinewidth": 0,
              "ticks": ""
             }
            },
            "type": "scatterpolargl"
           }
          ],
          "scatterternary": [
           {
            "marker": {
             "colorbar": {
              "outlinewidth": 0,
              "ticks": ""
             }
            },
            "type": "scatterternary"
           }
          ],
          "surface": [
           {
            "colorbar": {
             "outlinewidth": 0,
             "ticks": ""
            },
            "colorscale": [
             [
              0,
              "#0d0887"
             ],
             [
              0.1111111111111111,
              "#46039f"
             ],
             [
              0.2222222222222222,
              "#7201a8"
             ],
             [
              0.3333333333333333,
              "#9c179e"
             ],
             [
              0.4444444444444444,
              "#bd3786"
             ],
             [
              0.5555555555555556,
              "#d8576b"
             ],
             [
              0.6666666666666666,
              "#ed7953"
             ],
             [
              0.7777777777777778,
              "#fb9f3a"
             ],
             [
              0.8888888888888888,
              "#fdca26"
             ],
             [
              1,
              "#f0f921"
             ]
            ],
            "type": "surface"
           }
          ],
          "table": [
           {
            "cells": {
             "fill": {
              "color": "#EBF0F8"
             },
             "line": {
              "color": "white"
             }
            },
            "header": {
             "fill": {
              "color": "#C8D4E3"
             },
             "line": {
              "color": "white"
             }
            },
            "type": "table"
           }
          ]
         },
         "layout": {
          "annotationdefaults": {
           "arrowcolor": "#2a3f5f",
           "arrowhead": 0,
           "arrowwidth": 1
          },
          "autotypenumbers": "strict",
          "coloraxis": {
           "colorbar": {
            "outlinewidth": 0,
            "ticks": ""
           }
          },
          "colorscale": {
           "diverging": [
            [
             0,
             "#8e0152"
            ],
            [
             0.1,
             "#c51b7d"
            ],
            [
             0.2,
             "#de77ae"
            ],
            [
             0.3,
             "#f1b6da"
            ],
            [
             0.4,
             "#fde0ef"
            ],
            [
             0.5,
             "#f7f7f7"
            ],
            [
             0.6,
             "#e6f5d0"
            ],
            [
             0.7,
             "#b8e186"
            ],
            [
             0.8,
             "#7fbc41"
            ],
            [
             0.9,
             "#4d9221"
            ],
            [
             1,
             "#276419"
            ]
           ],
           "sequential": [
            [
             0,
             "#0d0887"
            ],
            [
             0.1111111111111111,
             "#46039f"
            ],
            [
             0.2222222222222222,
             "#7201a8"
            ],
            [
             0.3333333333333333,
             "#9c179e"
            ],
            [
             0.4444444444444444,
             "#bd3786"
            ],
            [
             0.5555555555555556,
             "#d8576b"
            ],
            [
             0.6666666666666666,
             "#ed7953"
            ],
            [
             0.7777777777777778,
             "#fb9f3a"
            ],
            [
             0.8888888888888888,
             "#fdca26"
            ],
            [
             1,
             "#f0f921"
            ]
           ],
           "sequentialminus": [
            [
             0,
             "#0d0887"
            ],
            [
             0.1111111111111111,
             "#46039f"
            ],
            [
             0.2222222222222222,
             "#7201a8"
            ],
            [
             0.3333333333333333,
             "#9c179e"
            ],
            [
             0.4444444444444444,
             "#bd3786"
            ],
            [
             0.5555555555555556,
             "#d8576b"
            ],
            [
             0.6666666666666666,
             "#ed7953"
            ],
            [
             0.7777777777777778,
             "#fb9f3a"
            ],
            [
             0.8888888888888888,
             "#fdca26"
            ],
            [
             1,
             "#f0f921"
            ]
           ]
          },
          "colorway": [
           "#636efa",
           "#EF553B",
           "#00cc96",
           "#ab63fa",
           "#FFA15A",
           "#19d3f3",
           "#FF6692",
           "#B6E880",
           "#FF97FF",
           "#FECB52"
          ],
          "font": {
           "color": "#2a3f5f"
          },
          "geo": {
           "bgcolor": "white",
           "lakecolor": "white",
           "landcolor": "#E5ECF6",
           "showlakes": true,
           "showland": true,
           "subunitcolor": "white"
          },
          "hoverlabel": {
           "align": "left"
          },
          "hovermode": "closest",
          "mapbox": {
           "style": "light"
          },
          "paper_bgcolor": "white",
          "plot_bgcolor": "#E5ECF6",
          "polar": {
           "angularaxis": {
            "gridcolor": "white",
            "linecolor": "white",
            "ticks": ""
           },
           "bgcolor": "#E5ECF6",
           "radialaxis": {
            "gridcolor": "white",
            "linecolor": "white",
            "ticks": ""
           }
          },
          "scene": {
           "xaxis": {
            "backgroundcolor": "#E5ECF6",
            "gridcolor": "white",
            "gridwidth": 2,
            "linecolor": "white",
            "showbackground": true,
            "ticks": "",
            "zerolinecolor": "white"
           },
           "yaxis": {
            "backgroundcolor": "#E5ECF6",
            "gridcolor": "white",
            "gridwidth": 2,
            "linecolor": "white",
            "showbackground": true,
            "ticks": "",
            "zerolinecolor": "white"
           },
           "zaxis": {
            "backgroundcolor": "#E5ECF6",
            "gridcolor": "white",
            "gridwidth": 2,
            "linecolor": "white",
            "showbackground": true,
            "ticks": "",
            "zerolinecolor": "white"
           }
          },
          "shapedefaults": {
           "line": {
            "color": "#2a3f5f"
           }
          },
          "ternary": {
           "aaxis": {
            "gridcolor": "white",
            "linecolor": "white",
            "ticks": ""
           },
           "baxis": {
            "gridcolor": "white",
            "linecolor": "white",
            "ticks": ""
           },
           "bgcolor": "#E5ECF6",
           "caxis": {
            "gridcolor": "white",
            "linecolor": "white",
            "ticks": ""
           }
          },
          "title": {
           "x": 0.05
          },
          "xaxis": {
           "automargin": true,
           "gridcolor": "white",
           "linecolor": "white",
           "ticks": "",
           "title": {
            "standoff": 15
           },
           "zerolinecolor": "white",
           "zerolinewidth": 2
          },
          "yaxis": {
           "automargin": true,
           "gridcolor": "white",
           "linecolor": "white",
           "ticks": "",
           "title": {
            "standoff": 15
           },
           "zerolinecolor": "white",
           "zerolinewidth": 2
          }
         }
        },
        "xaxis": {
         "anchor": "y",
         "domain": [
          0,
          1
         ],
         "title": {
          "text": "parsed"
         }
        },
        "yaxis": {
         "anchor": "x",
         "domain": [
          0,
          1
         ],
         "title": {
          "text": "Percentage"
         }
        }
       }
      },
      "text/html": [
       "<div>                            <div id=\"bb1cbce6-13c5-449b-ac50-e5ccc3216e83\" class=\"plotly-graph-div\" style=\"height:525px; width:100%;\"></div>            <script type=\"text/javascript\">                require([\"plotly\"], function(Plotly) {                    window.PLOTLYENV=window.PLOTLYENV || {};                                    if (document.getElementById(\"bb1cbce6-13c5-449b-ac50-e5ccc3216e83\")) {                    Plotly.newPlot(                        \"bb1cbce6-13c5-449b-ac50-e5ccc3216e83\",                        [{\"alignmentgroup\":\"True\",\"hovertemplate\":\"Gender=Female\\u003cbr\\u003eparsed=%{x}\\u003cbr\\u003ePercentage=%{y}\\u003cextra\\u003e\\u003c\\u002fextra\\u003e\",\"legendgroup\":\"Female\",\"marker\":{\"color\":\"#636efa\",\"pattern\":{\"shape\":\"\"}},\"name\":\"Female\",\"offsetgroup\":\"Female\",\"orientation\":\"v\",\"showlegend\":true,\"textposition\":\"auto\",\"x\":[\"aggressive\",\"ambitious\",\"angry\",\"arrogant\",\"athletic\",\"competitive\",\"complaining\",\"diverse\",\"energetic\",\"independent\",\"loud\",\"musical\",\"opinionated\",\"outgoing\",\"outspoken\",\"passionate\",\"rebellious\",\"rude\",\"straightforward\",\"strong\",\"unreliable\"],\"xaxis\":\"x\",\"y\":[3.286384976525822,3.286384976525822,2.112676056338028,5.164319248826291,2.3474178403755865,1.643192488262911,2.3474178403755865,5.39906103286385,1.1737089201877933,1.4084507042253522,6.103286384976526,4.929577464788732,6.572769953051644,2.112676056338028,11.971830985915492,5.868544600938967,4.225352112676056,1.8779342723004695,1.643192488262911,1.8779342723004695,4.929577464788732],\"yaxis\":\"y\",\"type\":\"bar\"},{\"alignmentgroup\":\"True\",\"hovertemplate\":\"Gender=Male\\u003cbr\\u003eparsed=%{x}\\u003cbr\\u003ePercentage=%{y}\\u003cextra\\u003e\\u003c\\u002fextra\\u003e\",\"legendgroup\":\"Male\",\"marker\":{\"color\":\"#EF553B\",\"pattern\":{\"shape\":\"\"}},\"name\":\"Male\",\"offsetgroup\":\"Male\",\"orientation\":\"v\",\"showlegend\":true,\"textposition\":\"auto\",\"x\":[\"aggressive\",\"ambitious\",\"angry\",\"arrogant\",\"athletic\",\"competitive\",\"complaining\",\"cool\",\"diverse\",\"emotional\",\"loud\",\"musical\",\"opinionated\",\"outgoing\",\"outspoken\",\"passionate\",\"rebellious\",\"rude\",\"straightforward\",\"strong\",\"unreliable\"],\"xaxis\":\"x\",\"y\":[3.7142857142857144,4.428571428571428,3.428571428571429,10.0,3.785714285714286,1.8571428571428572,1.2857142857142856,1.0714285714285714,1.5714285714285716,1.4285714285714286,7.428571428571429,3.428571428571429,6.071428571428571,1.7857142857142856,6.928571428571429,8.785714285714285,3.2857142857142856,3.0,2.357142857142857,2.857142857142857,2.214285714285714],\"yaxis\":\"y\",\"type\":\"bar\"}],                        {\"template\":{\"data\":{\"histogram2dcontour\":[{\"type\":\"histogram2dcontour\",\"colorbar\":{\"outlinewidth\":0,\"ticks\":\"\"},\"colorscale\":[[0.0,\"#0d0887\"],[0.1111111111111111,\"#46039f\"],[0.2222222222222222,\"#7201a8\"],[0.3333333333333333,\"#9c179e\"],[0.4444444444444444,\"#bd3786\"],[0.5555555555555556,\"#d8576b\"],[0.6666666666666666,\"#ed7953\"],[0.7777777777777778,\"#fb9f3a\"],[0.8888888888888888,\"#fdca26\"],[1.0,\"#f0f921\"]]}],\"choropleth\":[{\"type\":\"choropleth\",\"colorbar\":{\"outlinewidth\":0,\"ticks\":\"\"}}],\"histogram2d\":[{\"type\":\"histogram2d\",\"colorbar\":{\"outlinewidth\":0,\"ticks\":\"\"},\"colorscale\":[[0.0,\"#0d0887\"],[0.1111111111111111,\"#46039f\"],[0.2222222222222222,\"#7201a8\"],[0.3333333333333333,\"#9c179e\"],[0.4444444444444444,\"#bd3786\"],[0.5555555555555556,\"#d8576b\"],[0.6666666666666666,\"#ed7953\"],[0.7777777777777778,\"#fb9f3a\"],[0.8888888888888888,\"#fdca26\"],[1.0,\"#f0f921\"]]}],\"heatmap\":[{\"type\":\"heatmap\",\"colorbar\":{\"outlinewidth\":0,\"ticks\":\"\"},\"colorscale\":[[0.0,\"#0d0887\"],[0.1111111111111111,\"#46039f\"],[0.2222222222222222,\"#7201a8\"],[0.3333333333333333,\"#9c179e\"],[0.4444444444444444,\"#bd3786\"],[0.5555555555555556,\"#d8576b\"],[0.6666666666666666,\"#ed7953\"],[0.7777777777777778,\"#fb9f3a\"],[0.8888888888888888,\"#fdca26\"],[1.0,\"#f0f921\"]]}],\"heatmapgl\":[{\"type\":\"heatmapgl\",\"colorbar\":{\"outlinewidth\":0,\"ticks\":\"\"},\"colorscale\":[[0.0,\"#0d0887\"],[0.1111111111111111,\"#46039f\"],[0.2222222222222222,\"#7201a8\"],[0.3333333333333333,\"#9c179e\"],[0.4444444444444444,\"#bd3786\"],[0.5555555555555556,\"#d8576b\"],[0.6666666666666666,\"#ed7953\"],[0.7777777777777778,\"#fb9f3a\"],[0.8888888888888888,\"#fdca26\"],[1.0,\"#f0f921\"]]}],\"contourcarpet\":[{\"type\":\"contourcarpet\",\"colorbar\":{\"outlinewidth\":0,\"ticks\":\"\"}}],\"contour\":[{\"type\":\"contour\",\"colorbar\":{\"outlinewidth\":0,\"ticks\":\"\"},\"colorscale\":[[0.0,\"#0d0887\"],[0.1111111111111111,\"#46039f\"],[0.2222222222222222,\"#7201a8\"],[0.3333333333333333,\"#9c179e\"],[0.4444444444444444,\"#bd3786\"],[0.5555555555555556,\"#d8576b\"],[0.6666666666666666,\"#ed7953\"],[0.7777777777777778,\"#fb9f3a\"],[0.8888888888888888,\"#fdca26\"],[1.0,\"#f0f921\"]]}],\"surface\":[{\"type\":\"surface\",\"colorbar\":{\"outlinewidth\":0,\"ticks\":\"\"},\"colorscale\":[[0.0,\"#0d0887\"],[0.1111111111111111,\"#46039f\"],[0.2222222222222222,\"#7201a8\"],[0.3333333333333333,\"#9c179e\"],[0.4444444444444444,\"#bd3786\"],[0.5555555555555556,\"#d8576b\"],[0.6666666666666666,\"#ed7953\"],[0.7777777777777778,\"#fb9f3a\"],[0.8888888888888888,\"#fdca26\"],[1.0,\"#f0f921\"]]}],\"mesh3d\":[{\"type\":\"mesh3d\",\"colorbar\":{\"outlinewidth\":0,\"ticks\":\"\"}}],\"scatter\":[{\"fillpattern\":{\"fillmode\":\"overlay\",\"size\":10,\"solidity\":0.2},\"type\":\"scatter\"}],\"parcoords\":[{\"type\":\"parcoords\",\"line\":{\"colorbar\":{\"outlinewidth\":0,\"ticks\":\"\"}}}],\"scatterpolargl\":[{\"type\":\"scatterpolargl\",\"marker\":{\"colorbar\":{\"outlinewidth\":0,\"ticks\":\"\"}}}],\"bar\":[{\"error_x\":{\"color\":\"#2a3f5f\"},\"error_y\":{\"color\":\"#2a3f5f\"},\"marker\":{\"line\":{\"color\":\"#E5ECF6\",\"width\":0.5},\"pattern\":{\"fillmode\":\"overlay\",\"size\":10,\"solidity\":0.2}},\"type\":\"bar\"}],\"scattergeo\":[{\"type\":\"scattergeo\",\"marker\":{\"colorbar\":{\"outlinewidth\":0,\"ticks\":\"\"}}}],\"scatterpolar\":[{\"type\":\"scatterpolar\",\"marker\":{\"colorbar\":{\"outlinewidth\":0,\"ticks\":\"\"}}}],\"histogram\":[{\"marker\":{\"pattern\":{\"fillmode\":\"overlay\",\"size\":10,\"solidity\":0.2}},\"type\":\"histogram\"}],\"scattergl\":[{\"type\":\"scattergl\",\"marker\":{\"colorbar\":{\"outlinewidth\":0,\"ticks\":\"\"}}}],\"scatter3d\":[{\"type\":\"scatter3d\",\"line\":{\"colorbar\":{\"outlinewidth\":0,\"ticks\":\"\"}},\"marker\":{\"colorbar\":{\"outlinewidth\":0,\"ticks\":\"\"}}}],\"scattermapbox\":[{\"type\":\"scattermapbox\",\"marker\":{\"colorbar\":{\"outlinewidth\":0,\"ticks\":\"\"}}}],\"scatterternary\":[{\"type\":\"scatterternary\",\"marker\":{\"colorbar\":{\"outlinewidth\":0,\"ticks\":\"\"}}}],\"scattercarpet\":[{\"type\":\"scattercarpet\",\"marker\":{\"colorbar\":{\"outlinewidth\":0,\"ticks\":\"\"}}}],\"carpet\":[{\"aaxis\":{\"endlinecolor\":\"#2a3f5f\",\"gridcolor\":\"white\",\"linecolor\":\"white\",\"minorgridcolor\":\"white\",\"startlinecolor\":\"#2a3f5f\"},\"baxis\":{\"endlinecolor\":\"#2a3f5f\",\"gridcolor\":\"white\",\"linecolor\":\"white\",\"minorgridcolor\":\"white\",\"startlinecolor\":\"#2a3f5f\"},\"type\":\"carpet\"}],\"table\":[{\"cells\":{\"fill\":{\"color\":\"#EBF0F8\"},\"line\":{\"color\":\"white\"}},\"header\":{\"fill\":{\"color\":\"#C8D4E3\"},\"line\":{\"color\":\"white\"}},\"type\":\"table\"}],\"barpolar\":[{\"marker\":{\"line\":{\"color\":\"#E5ECF6\",\"width\":0.5},\"pattern\":{\"fillmode\":\"overlay\",\"size\":10,\"solidity\":0.2}},\"type\":\"barpolar\"}],\"pie\":[{\"automargin\":true,\"type\":\"pie\"}]},\"layout\":{\"autotypenumbers\":\"strict\",\"colorway\":[\"#636efa\",\"#EF553B\",\"#00cc96\",\"#ab63fa\",\"#FFA15A\",\"#19d3f3\",\"#FF6692\",\"#B6E880\",\"#FF97FF\",\"#FECB52\"],\"font\":{\"color\":\"#2a3f5f\"},\"hovermode\":\"closest\",\"hoverlabel\":{\"align\":\"left\"},\"paper_bgcolor\":\"white\",\"plot_bgcolor\":\"#E5ECF6\",\"polar\":{\"bgcolor\":\"#E5ECF6\",\"angularaxis\":{\"gridcolor\":\"white\",\"linecolor\":\"white\",\"ticks\":\"\"},\"radialaxis\":{\"gridcolor\":\"white\",\"linecolor\":\"white\",\"ticks\":\"\"}},\"ternary\":{\"bgcolor\":\"#E5ECF6\",\"aaxis\":{\"gridcolor\":\"white\",\"linecolor\":\"white\",\"ticks\":\"\"},\"baxis\":{\"gridcolor\":\"white\",\"linecolor\":\"white\",\"ticks\":\"\"},\"caxis\":{\"gridcolor\":\"white\",\"linecolor\":\"white\",\"ticks\":\"\"}},\"coloraxis\":{\"colorbar\":{\"outlinewidth\":0,\"ticks\":\"\"}},\"colorscale\":{\"sequential\":[[0.0,\"#0d0887\"],[0.1111111111111111,\"#46039f\"],[0.2222222222222222,\"#7201a8\"],[0.3333333333333333,\"#9c179e\"],[0.4444444444444444,\"#bd3786\"],[0.5555555555555556,\"#d8576b\"],[0.6666666666666666,\"#ed7953\"],[0.7777777777777778,\"#fb9f3a\"],[0.8888888888888888,\"#fdca26\"],[1.0,\"#f0f921\"]],\"sequentialminus\":[[0.0,\"#0d0887\"],[0.1111111111111111,\"#46039f\"],[0.2222222222222222,\"#7201a8\"],[0.3333333333333333,\"#9c179e\"],[0.4444444444444444,\"#bd3786\"],[0.5555555555555556,\"#d8576b\"],[0.6666666666666666,\"#ed7953\"],[0.7777777777777778,\"#fb9f3a\"],[0.8888888888888888,\"#fdca26\"],[1.0,\"#f0f921\"]],\"diverging\":[[0,\"#8e0152\"],[0.1,\"#c51b7d\"],[0.2,\"#de77ae\"],[0.3,\"#f1b6da\"],[0.4,\"#fde0ef\"],[0.5,\"#f7f7f7\"],[0.6,\"#e6f5d0\"],[0.7,\"#b8e186\"],[0.8,\"#7fbc41\"],[0.9,\"#4d9221\"],[1,\"#276419\"]]},\"xaxis\":{\"gridcolor\":\"white\",\"linecolor\":\"white\",\"ticks\":\"\",\"title\":{\"standoff\":15},\"zerolinecolor\":\"white\",\"automargin\":true,\"zerolinewidth\":2},\"yaxis\":{\"gridcolor\":\"white\",\"linecolor\":\"white\",\"ticks\":\"\",\"title\":{\"standoff\":15},\"zerolinecolor\":\"white\",\"automargin\":true,\"zerolinewidth\":2},\"scene\":{\"xaxis\":{\"backgroundcolor\":\"#E5ECF6\",\"gridcolor\":\"white\",\"linecolor\":\"white\",\"showbackground\":true,\"ticks\":\"\",\"zerolinecolor\":\"white\",\"gridwidth\":2},\"yaxis\":{\"backgroundcolor\":\"#E5ECF6\",\"gridcolor\":\"white\",\"linecolor\":\"white\",\"showbackground\":true,\"ticks\":\"\",\"zerolinecolor\":\"white\",\"gridwidth\":2},\"zaxis\":{\"backgroundcolor\":\"#E5ECF6\",\"gridcolor\":\"white\",\"linecolor\":\"white\",\"showbackground\":true,\"ticks\":\"\",\"zerolinecolor\":\"white\",\"gridwidth\":2}},\"shapedefaults\":{\"line\":{\"color\":\"#2a3f5f\"}},\"annotationdefaults\":{\"arrowcolor\":\"#2a3f5f\",\"arrowhead\":0,\"arrowwidth\":1},\"geo\":{\"bgcolor\":\"white\",\"landcolor\":\"#E5ECF6\",\"subunitcolor\":\"white\",\"showland\":true,\"showlakes\":true,\"lakecolor\":\"white\"},\"title\":{\"x\":0.05},\"mapbox\":{\"style\":\"light\"}}},\"xaxis\":{\"anchor\":\"y\",\"domain\":[0.0,1.0],\"title\":{\"text\":\"parsed\"}},\"yaxis\":{\"anchor\":\"x\",\"domain\":[0.0,1.0],\"title\":{\"text\":\"Percentage\"}},\"legend\":{\"title\":{\"text\":\"Gender\"},\"tracegroupgap\":0},\"margin\":{\"t\":60},\"barmode\":\"group\"},                        {\"responsive\": true}                    ).then(function(){\n",
       "                            \n",
       "var gd = document.getElementById('bb1cbce6-13c5-449b-ac50-e5ccc3216e83');\n",
       "var x = new MutationObserver(function (mutations, observer) {{\n",
       "        var display = window.getComputedStyle(gd).display;\n",
       "        if (!display || display === 'none') {{\n",
       "            console.log([gd, 'removed!']);\n",
       "            Plotly.purge(gd);\n",
       "            observer.disconnect();\n",
       "        }}\n",
       "}});\n",
       "\n",
       "// Listen for the removal of the full notebook cells\n",
       "var notebookContainer = gd.closest('#notebook-container');\n",
       "if (notebookContainer) {{\n",
       "    x.observe(notebookContainer, {childList: true});\n",
       "}}\n",
       "\n",
       "// Listen for the clearing of the current output cell\n",
       "var outputEl = gd.closest('.output');\n",
       "if (outputEl) {{\n",
       "    x.observe(outputEl, {childList: true});\n",
       "}}\n",
       "\n",
       "                        })                };                });            </script>        </div>"
      ]
     },
     "metadata": {},
     "output_type": "display_data"
    }
   ],
   "source": [
    "subset = df[['Spkr', 'segment', 'Age', 'Gender', 'Education', 'Occupation', 'Edu.Group', 'Age.Group', \n",
    "       'model_response_adjective_princeton_Qwen2-Audio-7B-Instruct',\n",
    "       'model_prompt_adjective_princeton_Qwen2-Audio-7B-Instruct']].copy()\n",
    "\n",
    "\n",
    "subset['parsed'] = subset.apply(lambda row: parse_adjectives(row, 'model_response_adjective_princeton_Qwen2-Audio-7B-Instruct', ADJECTIVES_PRINCETON['english']), axis=1)\n",
    "\n",
    "df_exploded = subset.explode('parsed')\n",
    "result = df_exploded.groupby(['Gender', 'parsed']).size().reset_index(name='count')\n",
    "\n",
    "\n",
    "result['Total'] = result.groupby('Gender')['count'].transform('sum')\n",
    "result['Percentage'] = result['count'] / result['Total'] * 100\n",
    "\n",
    "result = result[result['Percentage']>1]\n",
    "\n",
    "\n",
    "# Create a grouped bar plot\n",
    "fig = px.bar(\n",
    "    result,\n",
    "    x='parsed',\n",
    "    y='Percentage',\n",
    "    color='Gender',    # Different colors for each group\n",
    "    barmode='group',  # Place bars side-by-side rather than stacking them\n",
    ")\n",
    "fig.show()"
   ]
  },
  {
   "cell_type": "code",
   "execution_count": 35,
   "metadata": {},
   "outputs": [
    {
     "data": {
      "application/vnd.plotly.v1+json": {
       "config": {
        "plotlyServerURL": "https://plot.ly"
       },
       "data": [
        {
         "alignmentgroup": "True",
         "hovertemplate": "parsed=%{x}<br>Percentage=%{y}<br>Age=%{marker.color}<extra></extra>",
         "legendgroup": "",
         "marker": {
          "color": [
           22,
           22,
           22,
           22,
           22,
           22,
           22,
           22,
           22,
           22,
           22,
           22,
           22,
           22,
           22,
           22,
           22,
           22,
           22,
           22,
           22,
           22,
           22,
           22,
           22,
           22,
           22,
           22,
           22,
           23,
           23,
           23,
           23,
           23,
           23,
           23,
           23,
           23,
           23,
           23,
           23,
           23,
           23,
           23,
           23,
           23,
           23,
           23,
           23,
           23,
           24,
           24,
           24,
           24,
           24,
           24,
           24,
           24,
           24,
           24,
           24,
           24,
           24,
           24,
           24,
           24,
           24,
           24,
           24,
           24,
           24,
           24,
           24,
           24,
           24,
           24,
           24,
           25,
           25,
           25,
           25,
           25,
           25,
           25,
           25,
           25,
           25,
           25,
           25,
           25,
           25,
           25,
           25,
           25,
           25,
           25,
           25,
           25,
           25,
           25,
           25,
           25,
           25,
           27,
           27,
           27,
           27,
           27,
           27,
           27,
           27,
           27,
           27,
           27,
           27,
           27,
           27,
           27,
           27,
           27,
           27,
           27,
           27,
           27,
           27,
           27,
           27,
           27,
           29,
           29,
           29,
           29,
           29,
           29,
           29,
           29,
           29,
           29,
           29,
           29,
           29,
           29,
           29,
           29,
           29,
           29,
           30,
           30,
           30,
           30,
           30,
           30,
           30,
           30,
           30,
           30,
           30,
           30,
           30,
           30,
           30,
           30,
           30,
           30,
           30,
           30,
           30,
           30,
           30,
           30,
           30,
           30,
           30,
           31,
           31,
           31,
           31,
           31,
           31,
           31,
           31,
           31,
           31,
           31,
           31,
           31,
           31,
           31,
           31,
           31,
           31,
           31,
           31,
           31,
           31,
           31,
           31,
           31,
           32,
           32,
           32,
           32,
           32,
           32,
           32,
           32,
           32,
           32,
           32,
           32,
           32,
           32,
           32,
           32,
           32,
           32,
           32,
           32,
           32,
           32,
           32,
           32,
           32,
           32,
           32,
           32,
           32,
           32,
           32,
           36,
           36,
           36,
           36,
           36,
           36,
           36,
           36,
           36,
           36,
           36,
           36,
           36,
           36,
           36,
           36,
           36,
           36,
           36,
           36,
           36,
           36,
           36,
           36,
           36,
           36,
           36,
           36,
           36,
           36,
           36,
           36,
           36,
           36,
           36,
           40,
           40,
           40,
           40,
           40,
           40,
           40,
           40,
           40,
           40,
           40,
           40,
           40,
           40,
           40,
           40,
           40,
           40,
           40,
           40,
           40
          ],
          "coloraxis": "coloraxis",
          "pattern": {
           "shape": ""
          }
         },
         "name": "",
         "offsetgroup": "",
         "orientation": "v",
         "showlegend": false,
         "textposition": "auto",
         "type": "bar",
         "x": [
          "aggressive",
          "ambitious",
          "angry",
          "arrogant",
          "artistic",
          "diverse",
          "emotional",
          "energetic",
          "have an attitude",
          "independent",
          "individualistic",
          "intelligent",
          "loud",
          "musical",
          "naive",
          "noisy",
          "opinionated",
          "outgoing",
          "outspoken",
          "passionate",
          "prejudiced",
          "progressive",
          "rebellious",
          "rude",
          "sensitive",
          "sing and dance well",
          "straightforward",
          "strong",
          "unreliable",
          "ambitious",
          "angry",
          "arrogant",
          "athletic",
          "competitive",
          "cool",
          "emotional",
          "ignorant",
          "imitative",
          "loud",
          "musical",
          "opinionated",
          "outgoing",
          "outspoken",
          "passionate",
          "politically active",
          "rebellious",
          "rude",
          "strong",
          "tough",
          "unreliable",
          "adventurous",
          "aggressive",
          "ambitious",
          "angry",
          "arrogant",
          "athletic",
          "competitive",
          "complaining",
          "cool",
          "diverse",
          "emotional",
          "happy-go-lucky",
          "hard-headed",
          "impulsive",
          "individualistic",
          "intelligent",
          "loud",
          "musical",
          "opinionated",
          "outgoing",
          "outspoken",
          "passionate",
          "rebellious",
          "rude",
          "straightforward",
          "strong",
          "unreliable",
          "aggressive",
          "ambitious",
          "angry",
          "arrogant",
          "athletic",
          "competitive",
          "complaining",
          "cultural",
          "diverse",
          "energetic",
          "hard-headed",
          "independent",
          "individualistic",
          "loud",
          "musical",
          "naive",
          "opinionated",
          "outspoken",
          "passionate",
          "rebellious",
          "rude",
          "sportsmanlike",
          "straightforward",
          "strong",
          "talkative",
          "unreliable",
          "adventurous",
          "aggressive",
          "ambitious",
          "angry",
          "arrogant",
          "athletic",
          "competitive",
          "cool",
          "diverse",
          "energetic",
          "impulsive",
          "independent",
          "loud",
          "musical",
          "opinionated",
          "outgoing",
          "outspoken",
          "passionate",
          "patriotic",
          "rebellious",
          "rude",
          "straightforward",
          "strong",
          "tough",
          "unreliable",
          "ambitious",
          "angry",
          "arrogant",
          "athletic",
          "competitive",
          "emotional",
          "hard-headed",
          "loud",
          "opinionated",
          "outgoing",
          "outspoken",
          "passionate",
          "prejudiced",
          "rebellious",
          "rude",
          "straightforward",
          "strong",
          "unreliable",
          "aggressive",
          "ambitious",
          "angry",
          "arrogant",
          "artistic",
          "athletic",
          "boastful",
          "complaining",
          "conventional",
          "cool",
          "cruel",
          "cultural",
          "diverse",
          "emotional",
          "impulsive",
          "loud",
          "musical",
          "opinionated",
          "outgoing",
          "outspoken",
          "passionate",
          "prejudiced",
          "rebellious",
          "rude",
          "straightforward",
          "strong",
          "unreliable",
          "aggressive",
          "ambitious",
          "angry",
          "arrogant",
          "athletic",
          "boastful",
          "competitive",
          "complaining",
          "diverse",
          "ignorant",
          "imitative",
          "impulsive",
          "loud",
          "musical",
          "noisy",
          "opinionated",
          "outspoken",
          "passionate",
          "patriotic",
          "prejudiced",
          "rebellious",
          "rude",
          "straightforward",
          "strong",
          "unreliable",
          "adventurous",
          "aggressive",
          "ambitious",
          "angry",
          "arrogant",
          "artistic",
          "athletic",
          "complaining",
          "diverse",
          "emotional",
          "energetic",
          "flirtatious",
          "gregarious",
          "hard-headed",
          "imitative",
          "intelligent",
          "interests wide",
          "listen to a lot of music",
          "loud",
          "musical",
          "opinionated",
          "outgoing",
          "outspoken",
          "passionate",
          "patriotic",
          "practical",
          "prejudiced",
          "rebellious",
          "rude",
          "slovenly",
          "unreliable",
          "adventurous",
          "aggressive",
          "ambitious",
          "angry",
          "arrogant",
          "athletic",
          "competitive",
          "complaining",
          "conventional",
          "cool",
          "cruel",
          "efficient",
          "emotional",
          "happy-go-lucky",
          "hard-headed",
          "ignorant",
          "independent",
          "intelligent",
          "loud",
          "musical",
          "naive",
          "opinionated",
          "outgoing",
          "outspoken",
          "passionate",
          "practical",
          "prejudiced",
          "quarrelsome",
          "rebellious",
          "sportsmanlike",
          "straightforward",
          "strong",
          "superficial",
          "superstitious",
          "unreliable",
          "aggressive",
          "ambitious",
          "angry",
          "arrogant",
          "competitive",
          "complaining",
          "emotional",
          "ignorant",
          "imitative",
          "intelligent",
          "loud",
          "musical",
          "opinionated",
          "outspoken",
          "passionate",
          "rebellious",
          "rude",
          "sensitive",
          "straightforward",
          "strong",
          "unreliable"
         ],
         "xaxis": "x",
         "y": [
          4.6875,
          3.125,
          1.5625,
          4.6875,
          1.5625,
          4.6875,
          1.5625,
          1.5625,
          1.5625,
          1.5625,
          1.5625,
          1.5625,
          12.5,
          4.6875,
          1.5625,
          1.5625,
          10.9375,
          3.125,
          10.9375,
          4.6875,
          3.125,
          1.5625,
          3.125,
          1.5625,
          1.5625,
          1.5625,
          1.5625,
          1.5625,
          4.6875,
          8.148148148148149,
          2.2222222222222223,
          6.666666666666667,
          5.185185185185185,
          2.2222222222222223,
          1.4814814814814816,
          4.444444444444445,
          2.2222222222222223,
          1.4814814814814816,
          5.185185185185185,
          5.185185185185185,
          3.7037037037037033,
          2.9629629629629632,
          9.62962962962963,
          10.37037037037037,
          1.4814814814814816,
          3.7037037037037033,
          2.9629629629629632,
          2.9629629629629632,
          1.4814814814814816,
          3.7037037037037033,
          1.107011070110701,
          2.952029520295203,
          2.5830258302583027,
          1.8450184501845017,
          8.487084870848708,
          1.8450184501845017,
          1.8450184501845017,
          1.8450184501845017,
          1.107011070110701,
          3.6900369003690034,
          1.4760147601476015,
          1.4760147601476015,
          1.4760147601476015,
          1.107011070110701,
          1.107011070110701,
          1.107011070110701,
          7.7490774907749085,
          2.5830258302583027,
          6.273062730627306,
          2.5830258302583027,
          12.177121771217712,
          5.904059040590406,
          3.6900369003690034,
          3.6900369003690034,
          1.4760147601476015,
          1.4760147601476015,
          1.8450184501845017,
          4.761904761904762,
          2.0408163265306123,
          2.7210884353741496,
          3.4013605442176873,
          3.4013605442176873,
          3.4013605442176873,
          3.4013605442176873,
          1.3605442176870748,
          6.122448979591836,
          1.3605442176870748,
          1.3605442176870748,
          2.0408163265306123,
          1.3605442176870748,
          6.122448979591836,
          1.3605442176870748,
          1.3605442176870748,
          6.122448979591836,
          6.802721088435375,
          8.843537414965986,
          5.442176870748299,
          2.7210884353741496,
          2.0408163265306123,
          2.0408163265306123,
          2.7210884353741496,
          2.0408163265306123,
          3.4013605442176873,
          1.03359173126615,
          4.3927648578811365,
          4.3927648578811365,
          4.3927648578811365,
          10.594315245478036,
          6.2015503875969,
          1.8087855297157622,
          1.550387596899225,
          1.8087855297157622,
          2.0671834625323,
          1.03359173126615,
          1.2919896640826873,
          7.493540051679587,
          3.359173126614987,
          5.167958656330749,
          2.3255813953488373,
          6.459948320413436,
          7.751937984496124,
          1.03359173126615,
          3.10077519379845,
          1.8087855297157622,
          2.842377260981912,
          2.3255813953488373,
          1.03359173126615,
          2.0671834625323,
          2.7027027027027026,
          2.7027027027027026,
          12.612612612612612,
          4.504504504504505,
          5.405405405405405,
          1.8018018018018018,
          3.6036036036036037,
          8.108108108108109,
          4.504504504504505,
          1.8018018018018018,
          4.504504504504505,
          10.81081081081081,
          2.7027027027027026,
          4.504504504504505,
          1.8018018018018018,
          3.6036036036036037,
          1.8018018018018018,
          4.504504504504505,
          3.125,
          6.25,
          1.25,
          11.25,
          1.25,
          3.75,
          1.25,
          1.25,
          1.25,
          1.875,
          1.25,
          1.25,
          1.875,
          1.25,
          1.25,
          3.125,
          8.125,
          6.875000000000001,
          2.5,
          8.75,
          8.125,
          1.875,
          1.875,
          1.875,
          1.875,
          5,
          1.875,
          6.315789473684211,
          3.508771929824561,
          4.912280701754386,
          11.578947368421053,
          2.456140350877193,
          1.0526315789473684,
          1.0526315789473684,
          1.4035087719298245,
          2.807017543859649,
          1.4035087719298245,
          1.0526315789473684,
          1.0526315789473684,
          10.526315789473683,
          2.1052631578947367,
          1.0526315789473684,
          7.719298245614035,
          5.614035087719298,
          7.368421052631578,
          1.0526315789473684,
          1.0526315789473684,
          3.8596491228070176,
          3.8596491228070176,
          2.807017543859649,
          2.456140350877193,
          1.4035087719298245,
          2.631578947368421,
          1.3157894736842104,
          3.9473684210526314,
          2.631578947368421,
          5.263157894736842,
          1.3157894736842104,
          2.631578947368421,
          3.9473684210526314,
          3.9473684210526314,
          1.3157894736842104,
          2.631578947368421,
          1.3157894736842104,
          1.3157894736842104,
          1.3157894736842104,
          1.3157894736842104,
          1.3157894736842104,
          1.3157894736842104,
          1.3157894736842104,
          1.3157894736842104,
          9.210526315789473,
          6.578947368421052,
          2.631578947368421,
          15.789473684210526,
          3.9473684210526314,
          3.9473684210526314,
          1.3157894736842104,
          1.3157894736842104,
          5.263157894736842,
          2.631578947368421,
          1.3157894736842104,
          3.9473684210526314,
          1.3888888888888888,
          2.7777777777777777,
          5.555555555555555,
          1.3888888888888888,
          8.333333333333332,
          1.3888888888888888,
          1.3888888888888888,
          1.3888888888888888,
          1.3888888888888888,
          1.3888888888888888,
          1.3888888888888888,
          1.3888888888888888,
          1.3888888888888888,
          1.3888888888888888,
          1.3888888888888888,
          1.3888888888888888,
          2.7777777777777777,
          2.7777777777777777,
          5.555555555555555,
          6.944444444444445,
          1.3888888888888888,
          4.166666666666666,
          1.3888888888888888,
          5.555555555555555,
          5.555555555555555,
          1.3888888888888888,
          1.3888888888888888,
          1.3888888888888888,
          2.7777777777777777,
          1.3888888888888888,
          4.166666666666666,
          4.166666666666666,
          1.3888888888888888,
          1.3888888888888888,
          9.722222222222223,
          2.5423728813559325,
          5.084745762711865,
          4.23728813559322,
          5.084745762711865,
          1.694915254237288,
          3.389830508474576,
          1.694915254237288,
          2.5423728813559325,
          1.694915254237288,
          1.694915254237288,
          5.932203389830509,
          4.23728813559322,
          7.627118644067797,
          7.627118644067797,
          16.101694915254235,
          1.694915254237288,
          5.084745762711865,
          1.694915254237288,
          1.694915254237288,
          5.084745762711865,
          3.389830508474576
         ],
         "yaxis": "y"
        }
       ],
       "layout": {
        "barmode": "group",
        "coloraxis": {
         "colorbar": {
          "title": {
           "text": "Age"
          }
         },
         "colorscale": [
          [
           0,
           "#0d0887"
          ],
          [
           0.1111111111111111,
           "#46039f"
          ],
          [
           0.2222222222222222,
           "#7201a8"
          ],
          [
           0.3333333333333333,
           "#9c179e"
          ],
          [
           0.4444444444444444,
           "#bd3786"
          ],
          [
           0.5555555555555556,
           "#d8576b"
          ],
          [
           0.6666666666666666,
           "#ed7953"
          ],
          [
           0.7777777777777778,
           "#fb9f3a"
          ],
          [
           0.8888888888888888,
           "#fdca26"
          ],
          [
           1,
           "#f0f921"
          ]
         ]
        },
        "legend": {
         "tracegroupgap": 0
        },
        "margin": {
         "t": 60
        },
        "template": {
         "data": {
          "bar": [
           {
            "error_x": {
             "color": "#2a3f5f"
            },
            "error_y": {
             "color": "#2a3f5f"
            },
            "marker": {
             "line": {
              "color": "#E5ECF6",
              "width": 0.5
             },
             "pattern": {
              "fillmode": "overlay",
              "size": 10,
              "solidity": 0.2
             }
            },
            "type": "bar"
           }
          ],
          "barpolar": [
           {
            "marker": {
             "line": {
              "color": "#E5ECF6",
              "width": 0.5
             },
             "pattern": {
              "fillmode": "overlay",
              "size": 10,
              "solidity": 0.2
             }
            },
            "type": "barpolar"
           }
          ],
          "carpet": [
           {
            "aaxis": {
             "endlinecolor": "#2a3f5f",
             "gridcolor": "white",
             "linecolor": "white",
             "minorgridcolor": "white",
             "startlinecolor": "#2a3f5f"
            },
            "baxis": {
             "endlinecolor": "#2a3f5f",
             "gridcolor": "white",
             "linecolor": "white",
             "minorgridcolor": "white",
             "startlinecolor": "#2a3f5f"
            },
            "type": "carpet"
           }
          ],
          "choropleth": [
           {
            "colorbar": {
             "outlinewidth": 0,
             "ticks": ""
            },
            "type": "choropleth"
           }
          ],
          "contour": [
           {
            "colorbar": {
             "outlinewidth": 0,
             "ticks": ""
            },
            "colorscale": [
             [
              0,
              "#0d0887"
             ],
             [
              0.1111111111111111,
              "#46039f"
             ],
             [
              0.2222222222222222,
              "#7201a8"
             ],
             [
              0.3333333333333333,
              "#9c179e"
             ],
             [
              0.4444444444444444,
              "#bd3786"
             ],
             [
              0.5555555555555556,
              "#d8576b"
             ],
             [
              0.6666666666666666,
              "#ed7953"
             ],
             [
              0.7777777777777778,
              "#fb9f3a"
             ],
             [
              0.8888888888888888,
              "#fdca26"
             ],
             [
              1,
              "#f0f921"
             ]
            ],
            "type": "contour"
           }
          ],
          "contourcarpet": [
           {
            "colorbar": {
             "outlinewidth": 0,
             "ticks": ""
            },
            "type": "contourcarpet"
           }
          ],
          "heatmap": [
           {
            "colorbar": {
             "outlinewidth": 0,
             "ticks": ""
            },
            "colorscale": [
             [
              0,
              "#0d0887"
             ],
             [
              0.1111111111111111,
              "#46039f"
             ],
             [
              0.2222222222222222,
              "#7201a8"
             ],
             [
              0.3333333333333333,
              "#9c179e"
             ],
             [
              0.4444444444444444,
              "#bd3786"
             ],
             [
              0.5555555555555556,
              "#d8576b"
             ],
             [
              0.6666666666666666,
              "#ed7953"
             ],
             [
              0.7777777777777778,
              "#fb9f3a"
             ],
             [
              0.8888888888888888,
              "#fdca26"
             ],
             [
              1,
              "#f0f921"
             ]
            ],
            "type": "heatmap"
           }
          ],
          "heatmapgl": [
           {
            "colorbar": {
             "outlinewidth": 0,
             "ticks": ""
            },
            "colorscale": [
             [
              0,
              "#0d0887"
             ],
             [
              0.1111111111111111,
              "#46039f"
             ],
             [
              0.2222222222222222,
              "#7201a8"
             ],
             [
              0.3333333333333333,
              "#9c179e"
             ],
             [
              0.4444444444444444,
              "#bd3786"
             ],
             [
              0.5555555555555556,
              "#d8576b"
             ],
             [
              0.6666666666666666,
              "#ed7953"
             ],
             [
              0.7777777777777778,
              "#fb9f3a"
             ],
             [
              0.8888888888888888,
              "#fdca26"
             ],
             [
              1,
              "#f0f921"
             ]
            ],
            "type": "heatmapgl"
           }
          ],
          "histogram": [
           {
            "marker": {
             "pattern": {
              "fillmode": "overlay",
              "size": 10,
              "solidity": 0.2
             }
            },
            "type": "histogram"
           }
          ],
          "histogram2d": [
           {
            "colorbar": {
             "outlinewidth": 0,
             "ticks": ""
            },
            "colorscale": [
             [
              0,
              "#0d0887"
             ],
             [
              0.1111111111111111,
              "#46039f"
             ],
             [
              0.2222222222222222,
              "#7201a8"
             ],
             [
              0.3333333333333333,
              "#9c179e"
             ],
             [
              0.4444444444444444,
              "#bd3786"
             ],
             [
              0.5555555555555556,
              "#d8576b"
             ],
             [
              0.6666666666666666,
              "#ed7953"
             ],
             [
              0.7777777777777778,
              "#fb9f3a"
             ],
             [
              0.8888888888888888,
              "#fdca26"
             ],
             [
              1,
              "#f0f921"
             ]
            ],
            "type": "histogram2d"
           }
          ],
          "histogram2dcontour": [
           {
            "colorbar": {
             "outlinewidth": 0,
             "ticks": ""
            },
            "colorscale": [
             [
              0,
              "#0d0887"
             ],
             [
              0.1111111111111111,
              "#46039f"
             ],
             [
              0.2222222222222222,
              "#7201a8"
             ],
             [
              0.3333333333333333,
              "#9c179e"
             ],
             [
              0.4444444444444444,
              "#bd3786"
             ],
             [
              0.5555555555555556,
              "#d8576b"
             ],
             [
              0.6666666666666666,
              "#ed7953"
             ],
             [
              0.7777777777777778,
              "#fb9f3a"
             ],
             [
              0.8888888888888888,
              "#fdca26"
             ],
             [
              1,
              "#f0f921"
             ]
            ],
            "type": "histogram2dcontour"
           }
          ],
          "mesh3d": [
           {
            "colorbar": {
             "outlinewidth": 0,
             "ticks": ""
            },
            "type": "mesh3d"
           }
          ],
          "parcoords": [
           {
            "line": {
             "colorbar": {
              "outlinewidth": 0,
              "ticks": ""
             }
            },
            "type": "parcoords"
           }
          ],
          "pie": [
           {
            "automargin": true,
            "type": "pie"
           }
          ],
          "scatter": [
           {
            "fillpattern": {
             "fillmode": "overlay",
             "size": 10,
             "solidity": 0.2
            },
            "type": "scatter"
           }
          ],
          "scatter3d": [
           {
            "line": {
             "colorbar": {
              "outlinewidth": 0,
              "ticks": ""
             }
            },
            "marker": {
             "colorbar": {
              "outlinewidth": 0,
              "ticks": ""
             }
            },
            "type": "scatter3d"
           }
          ],
          "scattercarpet": [
           {
            "marker": {
             "colorbar": {
              "outlinewidth": 0,
              "ticks": ""
             }
            },
            "type": "scattercarpet"
           }
          ],
          "scattergeo": [
           {
            "marker": {
             "colorbar": {
              "outlinewidth": 0,
              "ticks": ""
             }
            },
            "type": "scattergeo"
           }
          ],
          "scattergl": [
           {
            "marker": {
             "colorbar": {
              "outlinewidth": 0,
              "ticks": ""
             }
            },
            "type": "scattergl"
           }
          ],
          "scattermapbox": [
           {
            "marker": {
             "colorbar": {
              "outlinewidth": 0,
              "ticks": ""
             }
            },
            "type": "scattermapbox"
           }
          ],
          "scatterpolar": [
           {
            "marker": {
             "colorbar": {
              "outlinewidth": 0,
              "ticks": ""
             }
            },
            "type": "scatterpolar"
           }
          ],
          "scatterpolargl": [
           {
            "marker": {
             "colorbar": {
              "outlinewidth": 0,
              "ticks": ""
             }
            },
            "type": "scatterpolargl"
           }
          ],
          "scatterternary": [
           {
            "marker": {
             "colorbar": {
              "outlinewidth": 0,
              "ticks": ""
             }
            },
            "type": "scatterternary"
           }
          ],
          "surface": [
           {
            "colorbar": {
             "outlinewidth": 0,
             "ticks": ""
            },
            "colorscale": [
             [
              0,
              "#0d0887"
             ],
             [
              0.1111111111111111,
              "#46039f"
             ],
             [
              0.2222222222222222,
              "#7201a8"
             ],
             [
              0.3333333333333333,
              "#9c179e"
             ],
             [
              0.4444444444444444,
              "#bd3786"
             ],
             [
              0.5555555555555556,
              "#d8576b"
             ],
             [
              0.6666666666666666,
              "#ed7953"
             ],
             [
              0.7777777777777778,
              "#fb9f3a"
             ],
             [
              0.8888888888888888,
              "#fdca26"
             ],
             [
              1,
              "#f0f921"
             ]
            ],
            "type": "surface"
           }
          ],
          "table": [
           {
            "cells": {
             "fill": {
              "color": "#EBF0F8"
             },
             "line": {
              "color": "white"
             }
            },
            "header": {
             "fill": {
              "color": "#C8D4E3"
             },
             "line": {
              "color": "white"
             }
            },
            "type": "table"
           }
          ]
         },
         "layout": {
          "annotationdefaults": {
           "arrowcolor": "#2a3f5f",
           "arrowhead": 0,
           "arrowwidth": 1
          },
          "autotypenumbers": "strict",
          "coloraxis": {
           "colorbar": {
            "outlinewidth": 0,
            "ticks": ""
           }
          },
          "colorscale": {
           "diverging": [
            [
             0,
             "#8e0152"
            ],
            [
             0.1,
             "#c51b7d"
            ],
            [
             0.2,
             "#de77ae"
            ],
            [
             0.3,
             "#f1b6da"
            ],
            [
             0.4,
             "#fde0ef"
            ],
            [
             0.5,
             "#f7f7f7"
            ],
            [
             0.6,
             "#e6f5d0"
            ],
            [
             0.7,
             "#b8e186"
            ],
            [
             0.8,
             "#7fbc41"
            ],
            [
             0.9,
             "#4d9221"
            ],
            [
             1,
             "#276419"
            ]
           ],
           "sequential": [
            [
             0,
             "#0d0887"
            ],
            [
             0.1111111111111111,
             "#46039f"
            ],
            [
             0.2222222222222222,
             "#7201a8"
            ],
            [
             0.3333333333333333,
             "#9c179e"
            ],
            [
             0.4444444444444444,
             "#bd3786"
            ],
            [
             0.5555555555555556,
             "#d8576b"
            ],
            [
             0.6666666666666666,
             "#ed7953"
            ],
            [
             0.7777777777777778,
             "#fb9f3a"
            ],
            [
             0.8888888888888888,
             "#fdca26"
            ],
            [
             1,
             "#f0f921"
            ]
           ],
           "sequentialminus": [
            [
             0,
             "#0d0887"
            ],
            [
             0.1111111111111111,
             "#46039f"
            ],
            [
             0.2222222222222222,
             "#7201a8"
            ],
            [
             0.3333333333333333,
             "#9c179e"
            ],
            [
             0.4444444444444444,
             "#bd3786"
            ],
            [
             0.5555555555555556,
             "#d8576b"
            ],
            [
             0.6666666666666666,
             "#ed7953"
            ],
            [
             0.7777777777777778,
             "#fb9f3a"
            ],
            [
             0.8888888888888888,
             "#fdca26"
            ],
            [
             1,
             "#f0f921"
            ]
           ]
          },
          "colorway": [
           "#636efa",
           "#EF553B",
           "#00cc96",
           "#ab63fa",
           "#FFA15A",
           "#19d3f3",
           "#FF6692",
           "#B6E880",
           "#FF97FF",
           "#FECB52"
          ],
          "font": {
           "color": "#2a3f5f"
          },
          "geo": {
           "bgcolor": "white",
           "lakecolor": "white",
           "landcolor": "#E5ECF6",
           "showlakes": true,
           "showland": true,
           "subunitcolor": "white"
          },
          "hoverlabel": {
           "align": "left"
          },
          "hovermode": "closest",
          "mapbox": {
           "style": "light"
          },
          "paper_bgcolor": "white",
          "plot_bgcolor": "#E5ECF6",
          "polar": {
           "angularaxis": {
            "gridcolor": "white",
            "linecolor": "white",
            "ticks": ""
           },
           "bgcolor": "#E5ECF6",
           "radialaxis": {
            "gridcolor": "white",
            "linecolor": "white",
            "ticks": ""
           }
          },
          "scene": {
           "xaxis": {
            "backgroundcolor": "#E5ECF6",
            "gridcolor": "white",
            "gridwidth": 2,
            "linecolor": "white",
            "showbackground": true,
            "ticks": "",
            "zerolinecolor": "white"
           },
           "yaxis": {
            "backgroundcolor": "#E5ECF6",
            "gridcolor": "white",
            "gridwidth": 2,
            "linecolor": "white",
            "showbackground": true,
            "ticks": "",
            "zerolinecolor": "white"
           },
           "zaxis": {
            "backgroundcolor": "#E5ECF6",
            "gridcolor": "white",
            "gridwidth": 2,
            "linecolor": "white",
            "showbackground": true,
            "ticks": "",
            "zerolinecolor": "white"
           }
          },
          "shapedefaults": {
           "line": {
            "color": "#2a3f5f"
           }
          },
          "ternary": {
           "aaxis": {
            "gridcolor": "white",
            "linecolor": "white",
            "ticks": ""
           },
           "baxis": {
            "gridcolor": "white",
            "linecolor": "white",
            "ticks": ""
           },
           "bgcolor": "#E5ECF6",
           "caxis": {
            "gridcolor": "white",
            "linecolor": "white",
            "ticks": ""
           }
          },
          "title": {
           "x": 0.05
          },
          "xaxis": {
           "automargin": true,
           "gridcolor": "white",
           "linecolor": "white",
           "ticks": "",
           "title": {
            "standoff": 15
           },
           "zerolinecolor": "white",
           "zerolinewidth": 2
          },
          "yaxis": {
           "automargin": true,
           "gridcolor": "white",
           "linecolor": "white",
           "ticks": "",
           "title": {
            "standoff": 15
           },
           "zerolinecolor": "white",
           "zerolinewidth": 2
          }
         }
        },
        "xaxis": {
         "anchor": "y",
         "domain": [
          0,
          1
         ],
         "title": {
          "text": "parsed"
         }
        },
        "yaxis": {
         "anchor": "x",
         "domain": [
          0,
          1
         ],
         "title": {
          "text": "Percentage"
         }
        }
       }
      },
      "text/html": [
       "<div>                            <div id=\"4112bbf8-d574-4ff3-a3ef-099192d9367a\" class=\"plotly-graph-div\" style=\"height:525px; width:100%;\"></div>            <script type=\"text/javascript\">                require([\"plotly\"], function(Plotly) {                    window.PLOTLYENV=window.PLOTLYENV || {};                                    if (document.getElementById(\"4112bbf8-d574-4ff3-a3ef-099192d9367a\")) {                    Plotly.newPlot(                        \"4112bbf8-d574-4ff3-a3ef-099192d9367a\",                        [{\"alignmentgroup\":\"True\",\"hovertemplate\":\"parsed=%{x}\\u003cbr\\u003ePercentage=%{y}\\u003cbr\\u003eAge=%{marker.color}\\u003cextra\\u003e\\u003c\\u002fextra\\u003e\",\"legendgroup\":\"\",\"marker\":{\"color\":[22,22,22,22,22,22,22,22,22,22,22,22,22,22,22,22,22,22,22,22,22,22,22,22,22,22,22,22,22,23,23,23,23,23,23,23,23,23,23,23,23,23,23,23,23,23,23,23,23,23,24,24,24,24,24,24,24,24,24,24,24,24,24,24,24,24,24,24,24,24,24,24,24,24,24,24,24,25,25,25,25,25,25,25,25,25,25,25,25,25,25,25,25,25,25,25,25,25,25,25,25,25,25,27,27,27,27,27,27,27,27,27,27,27,27,27,27,27,27,27,27,27,27,27,27,27,27,27,29,29,29,29,29,29,29,29,29,29,29,29,29,29,29,29,29,29,30,30,30,30,30,30,30,30,30,30,30,30,30,30,30,30,30,30,30,30,30,30,30,30,30,30,30,31,31,31,31,31,31,31,31,31,31,31,31,31,31,31,31,31,31,31,31,31,31,31,31,31,32,32,32,32,32,32,32,32,32,32,32,32,32,32,32,32,32,32,32,32,32,32,32,32,32,32,32,32,32,32,32,36,36,36,36,36,36,36,36,36,36,36,36,36,36,36,36,36,36,36,36,36,36,36,36,36,36,36,36,36,36,36,36,36,36,36,40,40,40,40,40,40,40,40,40,40,40,40,40,40,40,40,40,40,40,40,40],\"coloraxis\":\"coloraxis\",\"pattern\":{\"shape\":\"\"}},\"name\":\"\",\"offsetgroup\":\"\",\"orientation\":\"v\",\"showlegend\":false,\"textposition\":\"auto\",\"x\":[\"aggressive\",\"ambitious\",\"angry\",\"arrogant\",\"artistic\",\"diverse\",\"emotional\",\"energetic\",\"have an attitude\",\"independent\",\"individualistic\",\"intelligent\",\"loud\",\"musical\",\"naive\",\"noisy\",\"opinionated\",\"outgoing\",\"outspoken\",\"passionate\",\"prejudiced\",\"progressive\",\"rebellious\",\"rude\",\"sensitive\",\"sing and dance well\",\"straightforward\",\"strong\",\"unreliable\",\"ambitious\",\"angry\",\"arrogant\",\"athletic\",\"competitive\",\"cool\",\"emotional\",\"ignorant\",\"imitative\",\"loud\",\"musical\",\"opinionated\",\"outgoing\",\"outspoken\",\"passionate\",\"politically active\",\"rebellious\",\"rude\",\"strong\",\"tough\",\"unreliable\",\"adventurous\",\"aggressive\",\"ambitious\",\"angry\",\"arrogant\",\"athletic\",\"competitive\",\"complaining\",\"cool\",\"diverse\",\"emotional\",\"happy-go-lucky\",\"hard-headed\",\"impulsive\",\"individualistic\",\"intelligent\",\"loud\",\"musical\",\"opinionated\",\"outgoing\",\"outspoken\",\"passionate\",\"rebellious\",\"rude\",\"straightforward\",\"strong\",\"unreliable\",\"aggressive\",\"ambitious\",\"angry\",\"arrogant\",\"athletic\",\"competitive\",\"complaining\",\"cultural\",\"diverse\",\"energetic\",\"hard-headed\",\"independent\",\"individualistic\",\"loud\",\"musical\",\"naive\",\"opinionated\",\"outspoken\",\"passionate\",\"rebellious\",\"rude\",\"sportsmanlike\",\"straightforward\",\"strong\",\"talkative\",\"unreliable\",\"adventurous\",\"aggressive\",\"ambitious\",\"angry\",\"arrogant\",\"athletic\",\"competitive\",\"cool\",\"diverse\",\"energetic\",\"impulsive\",\"independent\",\"loud\",\"musical\",\"opinionated\",\"outgoing\",\"outspoken\",\"passionate\",\"patriotic\",\"rebellious\",\"rude\",\"straightforward\",\"strong\",\"tough\",\"unreliable\",\"ambitious\",\"angry\",\"arrogant\",\"athletic\",\"competitive\",\"emotional\",\"hard-headed\",\"loud\",\"opinionated\",\"outgoing\",\"outspoken\",\"passionate\",\"prejudiced\",\"rebellious\",\"rude\",\"straightforward\",\"strong\",\"unreliable\",\"aggressive\",\"ambitious\",\"angry\",\"arrogant\",\"artistic\",\"athletic\",\"boastful\",\"complaining\",\"conventional\",\"cool\",\"cruel\",\"cultural\",\"diverse\",\"emotional\",\"impulsive\",\"loud\",\"musical\",\"opinionated\",\"outgoing\",\"outspoken\",\"passionate\",\"prejudiced\",\"rebellious\",\"rude\",\"straightforward\",\"strong\",\"unreliable\",\"aggressive\",\"ambitious\",\"angry\",\"arrogant\",\"athletic\",\"boastful\",\"competitive\",\"complaining\",\"diverse\",\"ignorant\",\"imitative\",\"impulsive\",\"loud\",\"musical\",\"noisy\",\"opinionated\",\"outspoken\",\"passionate\",\"patriotic\",\"prejudiced\",\"rebellious\",\"rude\",\"straightforward\",\"strong\",\"unreliable\",\"adventurous\",\"aggressive\",\"ambitious\",\"angry\",\"arrogant\",\"artistic\",\"athletic\",\"complaining\",\"diverse\",\"emotional\",\"energetic\",\"flirtatious\",\"gregarious\",\"hard-headed\",\"imitative\",\"intelligent\",\"interests wide\",\"listen to a lot of music\",\"loud\",\"musical\",\"opinionated\",\"outgoing\",\"outspoken\",\"passionate\",\"patriotic\",\"practical\",\"prejudiced\",\"rebellious\",\"rude\",\"slovenly\",\"unreliable\",\"adventurous\",\"aggressive\",\"ambitious\",\"angry\",\"arrogant\",\"athletic\",\"competitive\",\"complaining\",\"conventional\",\"cool\",\"cruel\",\"efficient\",\"emotional\",\"happy-go-lucky\",\"hard-headed\",\"ignorant\",\"independent\",\"intelligent\",\"loud\",\"musical\",\"naive\",\"opinionated\",\"outgoing\",\"outspoken\",\"passionate\",\"practical\",\"prejudiced\",\"quarrelsome\",\"rebellious\",\"sportsmanlike\",\"straightforward\",\"strong\",\"superficial\",\"superstitious\",\"unreliable\",\"aggressive\",\"ambitious\",\"angry\",\"arrogant\",\"competitive\",\"complaining\",\"emotional\",\"ignorant\",\"imitative\",\"intelligent\",\"loud\",\"musical\",\"opinionated\",\"outspoken\",\"passionate\",\"rebellious\",\"rude\",\"sensitive\",\"straightforward\",\"strong\",\"unreliable\"],\"xaxis\":\"x\",\"y\":[4.6875,3.125,1.5625,4.6875,1.5625,4.6875,1.5625,1.5625,1.5625,1.5625,1.5625,1.5625,12.5,4.6875,1.5625,1.5625,10.9375,3.125,10.9375,4.6875,3.125,1.5625,3.125,1.5625,1.5625,1.5625,1.5625,1.5625,4.6875,8.148148148148149,2.2222222222222223,6.666666666666667,5.185185185185185,2.2222222222222223,1.4814814814814816,4.444444444444445,2.2222222222222223,1.4814814814814816,5.185185185185185,5.185185185185185,3.7037037037037033,2.9629629629629632,9.62962962962963,10.37037037037037,1.4814814814814816,3.7037037037037033,2.9629629629629632,2.9629629629629632,1.4814814814814816,3.7037037037037033,1.107011070110701,2.952029520295203,2.5830258302583027,1.8450184501845017,8.487084870848708,1.8450184501845017,1.8450184501845017,1.8450184501845017,1.107011070110701,3.6900369003690034,1.4760147601476015,1.4760147601476015,1.4760147601476015,1.107011070110701,1.107011070110701,1.107011070110701,7.7490774907749085,2.5830258302583027,6.273062730627306,2.5830258302583027,12.177121771217712,5.904059040590406,3.6900369003690034,3.6900369003690034,1.4760147601476015,1.4760147601476015,1.8450184501845017,4.761904761904762,2.0408163265306123,2.7210884353741496,3.4013605442176873,3.4013605442176873,3.4013605442176873,3.4013605442176873,1.3605442176870748,6.122448979591836,1.3605442176870748,1.3605442176870748,2.0408163265306123,1.3605442176870748,6.122448979591836,1.3605442176870748,1.3605442176870748,6.122448979591836,6.802721088435375,8.843537414965986,5.442176870748299,2.7210884353741496,2.0408163265306123,2.0408163265306123,2.7210884353741496,2.0408163265306123,3.4013605442176873,1.03359173126615,4.3927648578811365,4.3927648578811365,4.3927648578811365,10.594315245478036,6.2015503875969,1.8087855297157622,1.550387596899225,1.8087855297157622,2.0671834625323,1.03359173126615,1.2919896640826873,7.493540051679587,3.359173126614987,5.167958656330749,2.3255813953488373,6.459948320413436,7.751937984496124,1.03359173126615,3.10077519379845,1.8087855297157622,2.842377260981912,2.3255813953488373,1.03359173126615,2.0671834625323,2.7027027027027026,2.7027027027027026,12.612612612612612,4.504504504504505,5.405405405405405,1.8018018018018018,3.6036036036036037,8.108108108108109,4.504504504504505,1.8018018018018018,4.504504504504505,10.81081081081081,2.7027027027027026,4.504504504504505,1.8018018018018018,3.6036036036036037,1.8018018018018018,4.504504504504505,3.125,6.25,1.25,11.25,1.25,3.75,1.25,1.25,1.25,1.875,1.25,1.25,1.875,1.25,1.25,3.125,8.125,6.875000000000001,2.5,8.75,8.125,1.875,1.875,1.875,1.875,5.0,1.875,6.315789473684211,3.508771929824561,4.912280701754386,11.578947368421053,2.456140350877193,1.0526315789473684,1.0526315789473684,1.4035087719298245,2.807017543859649,1.4035087719298245,1.0526315789473684,1.0526315789473684,10.526315789473683,2.1052631578947367,1.0526315789473684,7.719298245614035,5.614035087719298,7.368421052631578,1.0526315789473684,1.0526315789473684,3.8596491228070176,3.8596491228070176,2.807017543859649,2.456140350877193,1.4035087719298245,2.631578947368421,1.3157894736842104,3.9473684210526314,2.631578947368421,5.263157894736842,1.3157894736842104,2.631578947368421,3.9473684210526314,3.9473684210526314,1.3157894736842104,2.631578947368421,1.3157894736842104,1.3157894736842104,1.3157894736842104,1.3157894736842104,1.3157894736842104,1.3157894736842104,1.3157894736842104,1.3157894736842104,9.210526315789473,6.578947368421052,2.631578947368421,15.789473684210526,3.9473684210526314,3.9473684210526314,1.3157894736842104,1.3157894736842104,5.263157894736842,2.631578947368421,1.3157894736842104,3.9473684210526314,1.3888888888888888,2.7777777777777777,5.555555555555555,1.3888888888888888,8.333333333333332,1.3888888888888888,1.3888888888888888,1.3888888888888888,1.3888888888888888,1.3888888888888888,1.3888888888888888,1.3888888888888888,1.3888888888888888,1.3888888888888888,1.3888888888888888,1.3888888888888888,2.7777777777777777,2.7777777777777777,5.555555555555555,6.944444444444445,1.3888888888888888,4.166666666666666,1.3888888888888888,5.555555555555555,5.555555555555555,1.3888888888888888,1.3888888888888888,1.3888888888888888,2.7777777777777777,1.3888888888888888,4.166666666666666,4.166666666666666,1.3888888888888888,1.3888888888888888,9.722222222222223,2.5423728813559325,5.084745762711865,4.23728813559322,5.084745762711865,1.694915254237288,3.389830508474576,1.694915254237288,2.5423728813559325,1.694915254237288,1.694915254237288,5.932203389830509,4.23728813559322,7.627118644067797,7.627118644067797,16.101694915254235,1.694915254237288,5.084745762711865,1.694915254237288,1.694915254237288,5.084745762711865,3.389830508474576],\"yaxis\":\"y\",\"type\":\"bar\"}],                        {\"template\":{\"data\":{\"histogram2dcontour\":[{\"type\":\"histogram2dcontour\",\"colorbar\":{\"outlinewidth\":0,\"ticks\":\"\"},\"colorscale\":[[0.0,\"#0d0887\"],[0.1111111111111111,\"#46039f\"],[0.2222222222222222,\"#7201a8\"],[0.3333333333333333,\"#9c179e\"],[0.4444444444444444,\"#bd3786\"],[0.5555555555555556,\"#d8576b\"],[0.6666666666666666,\"#ed7953\"],[0.7777777777777778,\"#fb9f3a\"],[0.8888888888888888,\"#fdca26\"],[1.0,\"#f0f921\"]]}],\"choropleth\":[{\"type\":\"choropleth\",\"colorbar\":{\"outlinewidth\":0,\"ticks\":\"\"}}],\"histogram2d\":[{\"type\":\"histogram2d\",\"colorbar\":{\"outlinewidth\":0,\"ticks\":\"\"},\"colorscale\":[[0.0,\"#0d0887\"],[0.1111111111111111,\"#46039f\"],[0.2222222222222222,\"#7201a8\"],[0.3333333333333333,\"#9c179e\"],[0.4444444444444444,\"#bd3786\"],[0.5555555555555556,\"#d8576b\"],[0.6666666666666666,\"#ed7953\"],[0.7777777777777778,\"#fb9f3a\"],[0.8888888888888888,\"#fdca26\"],[1.0,\"#f0f921\"]]}],\"heatmap\":[{\"type\":\"heatmap\",\"colorbar\":{\"outlinewidth\":0,\"ticks\":\"\"},\"colorscale\":[[0.0,\"#0d0887\"],[0.1111111111111111,\"#46039f\"],[0.2222222222222222,\"#7201a8\"],[0.3333333333333333,\"#9c179e\"],[0.4444444444444444,\"#bd3786\"],[0.5555555555555556,\"#d8576b\"],[0.6666666666666666,\"#ed7953\"],[0.7777777777777778,\"#fb9f3a\"],[0.8888888888888888,\"#fdca26\"],[1.0,\"#f0f921\"]]}],\"heatmapgl\":[{\"type\":\"heatmapgl\",\"colorbar\":{\"outlinewidth\":0,\"ticks\":\"\"},\"colorscale\":[[0.0,\"#0d0887\"],[0.1111111111111111,\"#46039f\"],[0.2222222222222222,\"#7201a8\"],[0.3333333333333333,\"#9c179e\"],[0.4444444444444444,\"#bd3786\"],[0.5555555555555556,\"#d8576b\"],[0.6666666666666666,\"#ed7953\"],[0.7777777777777778,\"#fb9f3a\"],[0.8888888888888888,\"#fdca26\"],[1.0,\"#f0f921\"]]}],\"contourcarpet\":[{\"type\":\"contourcarpet\",\"colorbar\":{\"outlinewidth\":0,\"ticks\":\"\"}}],\"contour\":[{\"type\":\"contour\",\"colorbar\":{\"outlinewidth\":0,\"ticks\":\"\"},\"colorscale\":[[0.0,\"#0d0887\"],[0.1111111111111111,\"#46039f\"],[0.2222222222222222,\"#7201a8\"],[0.3333333333333333,\"#9c179e\"],[0.4444444444444444,\"#bd3786\"],[0.5555555555555556,\"#d8576b\"],[0.6666666666666666,\"#ed7953\"],[0.7777777777777778,\"#fb9f3a\"],[0.8888888888888888,\"#fdca26\"],[1.0,\"#f0f921\"]]}],\"surface\":[{\"type\":\"surface\",\"colorbar\":{\"outlinewidth\":0,\"ticks\":\"\"},\"colorscale\":[[0.0,\"#0d0887\"],[0.1111111111111111,\"#46039f\"],[0.2222222222222222,\"#7201a8\"],[0.3333333333333333,\"#9c179e\"],[0.4444444444444444,\"#bd3786\"],[0.5555555555555556,\"#d8576b\"],[0.6666666666666666,\"#ed7953\"],[0.7777777777777778,\"#fb9f3a\"],[0.8888888888888888,\"#fdca26\"],[1.0,\"#f0f921\"]]}],\"mesh3d\":[{\"type\":\"mesh3d\",\"colorbar\":{\"outlinewidth\":0,\"ticks\":\"\"}}],\"scatter\":[{\"fillpattern\":{\"fillmode\":\"overlay\",\"size\":10,\"solidity\":0.2},\"type\":\"scatter\"}],\"parcoords\":[{\"type\":\"parcoords\",\"line\":{\"colorbar\":{\"outlinewidth\":0,\"ticks\":\"\"}}}],\"scatterpolargl\":[{\"type\":\"scatterpolargl\",\"marker\":{\"colorbar\":{\"outlinewidth\":0,\"ticks\":\"\"}}}],\"bar\":[{\"error_x\":{\"color\":\"#2a3f5f\"},\"error_y\":{\"color\":\"#2a3f5f\"},\"marker\":{\"line\":{\"color\":\"#E5ECF6\",\"width\":0.5},\"pattern\":{\"fillmode\":\"overlay\",\"size\":10,\"solidity\":0.2}},\"type\":\"bar\"}],\"scattergeo\":[{\"type\":\"scattergeo\",\"marker\":{\"colorbar\":{\"outlinewidth\":0,\"ticks\":\"\"}}}],\"scatterpolar\":[{\"type\":\"scatterpolar\",\"marker\":{\"colorbar\":{\"outlinewidth\":0,\"ticks\":\"\"}}}],\"histogram\":[{\"marker\":{\"pattern\":{\"fillmode\":\"overlay\",\"size\":10,\"solidity\":0.2}},\"type\":\"histogram\"}],\"scattergl\":[{\"type\":\"scattergl\",\"marker\":{\"colorbar\":{\"outlinewidth\":0,\"ticks\":\"\"}}}],\"scatter3d\":[{\"type\":\"scatter3d\",\"line\":{\"colorbar\":{\"outlinewidth\":0,\"ticks\":\"\"}},\"marker\":{\"colorbar\":{\"outlinewidth\":0,\"ticks\":\"\"}}}],\"scattermapbox\":[{\"type\":\"scattermapbox\",\"marker\":{\"colorbar\":{\"outlinewidth\":0,\"ticks\":\"\"}}}],\"scatterternary\":[{\"type\":\"scatterternary\",\"marker\":{\"colorbar\":{\"outlinewidth\":0,\"ticks\":\"\"}}}],\"scattercarpet\":[{\"type\":\"scattercarpet\",\"marker\":{\"colorbar\":{\"outlinewidth\":0,\"ticks\":\"\"}}}],\"carpet\":[{\"aaxis\":{\"endlinecolor\":\"#2a3f5f\",\"gridcolor\":\"white\",\"linecolor\":\"white\",\"minorgridcolor\":\"white\",\"startlinecolor\":\"#2a3f5f\"},\"baxis\":{\"endlinecolor\":\"#2a3f5f\",\"gridcolor\":\"white\",\"linecolor\":\"white\",\"minorgridcolor\":\"white\",\"startlinecolor\":\"#2a3f5f\"},\"type\":\"carpet\"}],\"table\":[{\"cells\":{\"fill\":{\"color\":\"#EBF0F8\"},\"line\":{\"color\":\"white\"}},\"header\":{\"fill\":{\"color\":\"#C8D4E3\"},\"line\":{\"color\":\"white\"}},\"type\":\"table\"}],\"barpolar\":[{\"marker\":{\"line\":{\"color\":\"#E5ECF6\",\"width\":0.5},\"pattern\":{\"fillmode\":\"overlay\",\"size\":10,\"solidity\":0.2}},\"type\":\"barpolar\"}],\"pie\":[{\"automargin\":true,\"type\":\"pie\"}]},\"layout\":{\"autotypenumbers\":\"strict\",\"colorway\":[\"#636efa\",\"#EF553B\",\"#00cc96\",\"#ab63fa\",\"#FFA15A\",\"#19d3f3\",\"#FF6692\",\"#B6E880\",\"#FF97FF\",\"#FECB52\"],\"font\":{\"color\":\"#2a3f5f\"},\"hovermode\":\"closest\",\"hoverlabel\":{\"align\":\"left\"},\"paper_bgcolor\":\"white\",\"plot_bgcolor\":\"#E5ECF6\",\"polar\":{\"bgcolor\":\"#E5ECF6\",\"angularaxis\":{\"gridcolor\":\"white\",\"linecolor\":\"white\",\"ticks\":\"\"},\"radialaxis\":{\"gridcolor\":\"white\",\"linecolor\":\"white\",\"ticks\":\"\"}},\"ternary\":{\"bgcolor\":\"#E5ECF6\",\"aaxis\":{\"gridcolor\":\"white\",\"linecolor\":\"white\",\"ticks\":\"\"},\"baxis\":{\"gridcolor\":\"white\",\"linecolor\":\"white\",\"ticks\":\"\"},\"caxis\":{\"gridcolor\":\"white\",\"linecolor\":\"white\",\"ticks\":\"\"}},\"coloraxis\":{\"colorbar\":{\"outlinewidth\":0,\"ticks\":\"\"}},\"colorscale\":{\"sequential\":[[0.0,\"#0d0887\"],[0.1111111111111111,\"#46039f\"],[0.2222222222222222,\"#7201a8\"],[0.3333333333333333,\"#9c179e\"],[0.4444444444444444,\"#bd3786\"],[0.5555555555555556,\"#d8576b\"],[0.6666666666666666,\"#ed7953\"],[0.7777777777777778,\"#fb9f3a\"],[0.8888888888888888,\"#fdca26\"],[1.0,\"#f0f921\"]],\"sequentialminus\":[[0.0,\"#0d0887\"],[0.1111111111111111,\"#46039f\"],[0.2222222222222222,\"#7201a8\"],[0.3333333333333333,\"#9c179e\"],[0.4444444444444444,\"#bd3786\"],[0.5555555555555556,\"#d8576b\"],[0.6666666666666666,\"#ed7953\"],[0.7777777777777778,\"#fb9f3a\"],[0.8888888888888888,\"#fdca26\"],[1.0,\"#f0f921\"]],\"diverging\":[[0,\"#8e0152\"],[0.1,\"#c51b7d\"],[0.2,\"#de77ae\"],[0.3,\"#f1b6da\"],[0.4,\"#fde0ef\"],[0.5,\"#f7f7f7\"],[0.6,\"#e6f5d0\"],[0.7,\"#b8e186\"],[0.8,\"#7fbc41\"],[0.9,\"#4d9221\"],[1,\"#276419\"]]},\"xaxis\":{\"gridcolor\":\"white\",\"linecolor\":\"white\",\"ticks\":\"\",\"title\":{\"standoff\":15},\"zerolinecolor\":\"white\",\"automargin\":true,\"zerolinewidth\":2},\"yaxis\":{\"gridcolor\":\"white\",\"linecolor\":\"white\",\"ticks\":\"\",\"title\":{\"standoff\":15},\"zerolinecolor\":\"white\",\"automargin\":true,\"zerolinewidth\":2},\"scene\":{\"xaxis\":{\"backgroundcolor\":\"#E5ECF6\",\"gridcolor\":\"white\",\"linecolor\":\"white\",\"showbackground\":true,\"ticks\":\"\",\"zerolinecolor\":\"white\",\"gridwidth\":2},\"yaxis\":{\"backgroundcolor\":\"#E5ECF6\",\"gridcolor\":\"white\",\"linecolor\":\"white\",\"showbackground\":true,\"ticks\":\"\",\"zerolinecolor\":\"white\",\"gridwidth\":2},\"zaxis\":{\"backgroundcolor\":\"#E5ECF6\",\"gridcolor\":\"white\",\"linecolor\":\"white\",\"showbackground\":true,\"ticks\":\"\",\"zerolinecolor\":\"white\",\"gridwidth\":2}},\"shapedefaults\":{\"line\":{\"color\":\"#2a3f5f\"}},\"annotationdefaults\":{\"arrowcolor\":\"#2a3f5f\",\"arrowhead\":0,\"arrowwidth\":1},\"geo\":{\"bgcolor\":\"white\",\"landcolor\":\"#E5ECF6\",\"subunitcolor\":\"white\",\"showland\":true,\"showlakes\":true,\"lakecolor\":\"white\"},\"title\":{\"x\":0.05},\"mapbox\":{\"style\":\"light\"}}},\"xaxis\":{\"anchor\":\"y\",\"domain\":[0.0,1.0],\"title\":{\"text\":\"parsed\"}},\"yaxis\":{\"anchor\":\"x\",\"domain\":[0.0,1.0],\"title\":{\"text\":\"Percentage\"}},\"coloraxis\":{\"colorbar\":{\"title\":{\"text\":\"Age\"}},\"colorscale\":[[0.0,\"#0d0887\"],[0.1111111111111111,\"#46039f\"],[0.2222222222222222,\"#7201a8\"],[0.3333333333333333,\"#9c179e\"],[0.4444444444444444,\"#bd3786\"],[0.5555555555555556,\"#d8576b\"],[0.6666666666666666,\"#ed7953\"],[0.7777777777777778,\"#fb9f3a\"],[0.8888888888888888,\"#fdca26\"],[1.0,\"#f0f921\"]]},\"legend\":{\"tracegroupgap\":0},\"margin\":{\"t\":60},\"barmode\":\"group\"},                        {\"responsive\": true}                    ).then(function(){\n",
       "                            \n",
       "var gd = document.getElementById('4112bbf8-d574-4ff3-a3ef-099192d9367a');\n",
       "var x = new MutationObserver(function (mutations, observer) {{\n",
       "        var display = window.getComputedStyle(gd).display;\n",
       "        if (!display || display === 'none') {{\n",
       "            console.log([gd, 'removed!']);\n",
       "            Plotly.purge(gd);\n",
       "            observer.disconnect();\n",
       "        }}\n",
       "}});\n",
       "\n",
       "// Listen for the removal of the full notebook cells\n",
       "var notebookContainer = gd.closest('#notebook-container');\n",
       "if (notebookContainer) {{\n",
       "    x.observe(notebookContainer, {childList: true});\n",
       "}}\n",
       "\n",
       "// Listen for the clearing of the current output cell\n",
       "var outputEl = gd.closest('.output');\n",
       "if (outputEl) {{\n",
       "    x.observe(outputEl, {childList: true});\n",
       "}}\n",
       "\n",
       "                        })                };                });            </script>        </div>"
      ]
     },
     "metadata": {},
     "output_type": "display_data"
    }
   ],
   "source": [
    "subset = df[['Spkr', 'segment', 'Age', 'Gender', 'Education', 'Occupation', 'Edu.Group', 'Age.Group', \n",
    "       'model_response_adjective_princeton_Qwen2-Audio-7B-Instruct',\n",
    "       'model_prompt_adjective_princeton_Qwen2-Audio-7B-Instruct']].copy()\n",
    "\n",
    "\n",
    "subset['parsed'] = subset.apply(lambda row: parse_adjectives(row, 'model_response_adjective_princeton_Qwen2-Audio-7B-Instruct', ADJECTIVES_PRINCETON['english']), axis=1)\n",
    "\n",
    "df_exploded = subset.explode('parsed')\n",
    "result = df_exploded.groupby(['Age', 'parsed']).size().reset_index(name='count')\n",
    "\n",
    "\n",
    "result['Total'] = result.groupby('Age')['count'].transform('sum')\n",
    "result['Percentage'] = result['count'] / result['Total'] * 100\n",
    "\n",
    "result = result[result['Percentage']>1]\n",
    "\n",
    "# Create a grouped bar plot\n",
    "fig = px.bar(\n",
    "    result,\n",
    "    x='parsed',\n",
    "    y='Percentage',\n",
    "    color='Age',    # Different colors for each group\n",
    "    barmode='group',  # Place bars side-by-side rather than stacking them\n",
    ")\n",
    "fig.show()"
   ]
  },
  {
   "cell_type": "markdown",
   "metadata": {},
   "source": [
    "### Meralion"
   ]
  },
  {
   "cell_type": "code",
   "execution_count": 36,
   "metadata": {},
   "outputs": [
    {
     "data": {
      "application/vnd.plotly.v1+json": {
       "config": {
        "plotlyServerURL": "https://plot.ly"
       },
       "data": [
        {
         "alignmentgroup": "True",
         "hovertemplate": "Gender=Female<br>parsed=%{x}<br>Percentage=%{y}<extra></extra>",
         "legendgroup": "Female",
         "marker": {
          "color": "#636efa",
          "pattern": {
           "shape": ""
          }
         },
         "name": "Female",
         "offsetgroup": "Female",
         "orientation": "v",
         "showlegend": true,
         "textposition": "auto",
         "type": "bar",
         "x": [
          "aggressive",
          "ambitious",
          "angry",
          "artistic",
          "boastful",
          "bossy",
          "competitive",
          "complaining",
          "cool",
          "emotional",
          "happy-go-lucky",
          "independent",
          "intelligent",
          "loud",
          "musical",
          "noisy",
          "outgoing",
          "outspoken",
          "passionate",
          "sensitive",
          "strong",
          "stubborn",
          "talkative"
         ],
         "xaxis": "x",
         "y": [
          2.923976608187134,
          1.1695906432748537,
          1.1695906432748537,
          2.53411306042885,
          4.28849902534113,
          1.364522417153996,
          2.3391812865497075,
          4.093567251461988,
          2.144249512670565,
          7.017543859649122,
          3.898635477582846,
          1.364522417153996,
          1.1695906432748537,
          6.237816764132553,
          1.949317738791423,
          1.949317738791423,
          9.746588693957115,
          7.992202729044834,
          4.678362573099415,
          3.313840155945419,
          2.144249512670565,
          2.53411306042885,
          12.865497076023392
         ],
         "yaxis": "y"
        },
        {
         "alignmentgroup": "True",
         "hovertemplate": "Gender=Male<br>parsed=%{x}<br>Percentage=%{y}<extra></extra>",
         "legendgroup": "Male",
         "marker": {
          "color": "#EF553B",
          "pattern": {
           "shape": ""
          }
         },
         "name": "Male",
         "offsetgroup": "Male",
         "orientation": "v",
         "showlegend": true,
         "textposition": "auto",
         "type": "bar",
         "x": [
          "aggressive",
          "ambitious",
          "angry",
          "arrogant",
          "artistic",
          "athletic",
          "boastful",
          "competitive",
          "complaining",
          "cool",
          "emotional",
          "energetic",
          "happy-go-lucky",
          "intelligent",
          "lazy",
          "loud",
          "musical",
          "noisy",
          "outgoing",
          "outspoken",
          "passionate",
          "sensitive",
          "strong",
          "stubborn",
          "talkative"
         ],
         "xaxis": "x",
         "y": [
          6.341107871720117,
          1.3119533527696794,
          4.300291545189505,
          1.8221574344023324,
          1.0932944606413995,
          1.3848396501457727,
          7.798833819241982,
          3.1341107871720117,
          2.8425655976676385,
          2.1137026239067054,
          4.591836734693878,
          1.0204081632653061,
          1.4577259475218658,
          1.6034985422740524,
          1.0932944606413995,
          7.653061224489796,
          3.498542274052478,
          1.6034985422740524,
          6.049562682215743,
          9.693877551020408,
          2.7696793002915454,
          1.8950437317784257,
          3.7900874635568513,
          2.7696793002915454,
          8.309037900874635
         ],
         "yaxis": "y"
        }
       ],
       "layout": {
        "barmode": "group",
        "legend": {
         "title": {
          "text": "Gender"
         },
         "tracegroupgap": 0
        },
        "margin": {
         "t": 60
        },
        "template": {
         "data": {
          "bar": [
           {
            "error_x": {
             "color": "#2a3f5f"
            },
            "error_y": {
             "color": "#2a3f5f"
            },
            "marker": {
             "line": {
              "color": "#E5ECF6",
              "width": 0.5
             },
             "pattern": {
              "fillmode": "overlay",
              "size": 10,
              "solidity": 0.2
             }
            },
            "type": "bar"
           }
          ],
          "barpolar": [
           {
            "marker": {
             "line": {
              "color": "#E5ECF6",
              "width": 0.5
             },
             "pattern": {
              "fillmode": "overlay",
              "size": 10,
              "solidity": 0.2
             }
            },
            "type": "barpolar"
           }
          ],
          "carpet": [
           {
            "aaxis": {
             "endlinecolor": "#2a3f5f",
             "gridcolor": "white",
             "linecolor": "white",
             "minorgridcolor": "white",
             "startlinecolor": "#2a3f5f"
            },
            "baxis": {
             "endlinecolor": "#2a3f5f",
             "gridcolor": "white",
             "linecolor": "white",
             "minorgridcolor": "white",
             "startlinecolor": "#2a3f5f"
            },
            "type": "carpet"
           }
          ],
          "choropleth": [
           {
            "colorbar": {
             "outlinewidth": 0,
             "ticks": ""
            },
            "type": "choropleth"
           }
          ],
          "contour": [
           {
            "colorbar": {
             "outlinewidth": 0,
             "ticks": ""
            },
            "colorscale": [
             [
              0,
              "#0d0887"
             ],
             [
              0.1111111111111111,
              "#46039f"
             ],
             [
              0.2222222222222222,
              "#7201a8"
             ],
             [
              0.3333333333333333,
              "#9c179e"
             ],
             [
              0.4444444444444444,
              "#bd3786"
             ],
             [
              0.5555555555555556,
              "#d8576b"
             ],
             [
              0.6666666666666666,
              "#ed7953"
             ],
             [
              0.7777777777777778,
              "#fb9f3a"
             ],
             [
              0.8888888888888888,
              "#fdca26"
             ],
             [
              1,
              "#f0f921"
             ]
            ],
            "type": "contour"
           }
          ],
          "contourcarpet": [
           {
            "colorbar": {
             "outlinewidth": 0,
             "ticks": ""
            },
            "type": "contourcarpet"
           }
          ],
          "heatmap": [
           {
            "colorbar": {
             "outlinewidth": 0,
             "ticks": ""
            },
            "colorscale": [
             [
              0,
              "#0d0887"
             ],
             [
              0.1111111111111111,
              "#46039f"
             ],
             [
              0.2222222222222222,
              "#7201a8"
             ],
             [
              0.3333333333333333,
              "#9c179e"
             ],
             [
              0.4444444444444444,
              "#bd3786"
             ],
             [
              0.5555555555555556,
              "#d8576b"
             ],
             [
              0.6666666666666666,
              "#ed7953"
             ],
             [
              0.7777777777777778,
              "#fb9f3a"
             ],
             [
              0.8888888888888888,
              "#fdca26"
             ],
             [
              1,
              "#f0f921"
             ]
            ],
            "type": "heatmap"
           }
          ],
          "heatmapgl": [
           {
            "colorbar": {
             "outlinewidth": 0,
             "ticks": ""
            },
            "colorscale": [
             [
              0,
              "#0d0887"
             ],
             [
              0.1111111111111111,
              "#46039f"
             ],
             [
              0.2222222222222222,
              "#7201a8"
             ],
             [
              0.3333333333333333,
              "#9c179e"
             ],
             [
              0.4444444444444444,
              "#bd3786"
             ],
             [
              0.5555555555555556,
              "#d8576b"
             ],
             [
              0.6666666666666666,
              "#ed7953"
             ],
             [
              0.7777777777777778,
              "#fb9f3a"
             ],
             [
              0.8888888888888888,
              "#fdca26"
             ],
             [
              1,
              "#f0f921"
             ]
            ],
            "type": "heatmapgl"
           }
          ],
          "histogram": [
           {
            "marker": {
             "pattern": {
              "fillmode": "overlay",
              "size": 10,
              "solidity": 0.2
             }
            },
            "type": "histogram"
           }
          ],
          "histogram2d": [
           {
            "colorbar": {
             "outlinewidth": 0,
             "ticks": ""
            },
            "colorscale": [
             [
              0,
              "#0d0887"
             ],
             [
              0.1111111111111111,
              "#46039f"
             ],
             [
              0.2222222222222222,
              "#7201a8"
             ],
             [
              0.3333333333333333,
              "#9c179e"
             ],
             [
              0.4444444444444444,
              "#bd3786"
             ],
             [
              0.5555555555555556,
              "#d8576b"
             ],
             [
              0.6666666666666666,
              "#ed7953"
             ],
             [
              0.7777777777777778,
              "#fb9f3a"
             ],
             [
              0.8888888888888888,
              "#fdca26"
             ],
             [
              1,
              "#f0f921"
             ]
            ],
            "type": "histogram2d"
           }
          ],
          "histogram2dcontour": [
           {
            "colorbar": {
             "outlinewidth": 0,
             "ticks": ""
            },
            "colorscale": [
             [
              0,
              "#0d0887"
             ],
             [
              0.1111111111111111,
              "#46039f"
             ],
             [
              0.2222222222222222,
              "#7201a8"
             ],
             [
              0.3333333333333333,
              "#9c179e"
             ],
             [
              0.4444444444444444,
              "#bd3786"
             ],
             [
              0.5555555555555556,
              "#d8576b"
             ],
             [
              0.6666666666666666,
              "#ed7953"
             ],
             [
              0.7777777777777778,
              "#fb9f3a"
             ],
             [
              0.8888888888888888,
              "#fdca26"
             ],
             [
              1,
              "#f0f921"
             ]
            ],
            "type": "histogram2dcontour"
           }
          ],
          "mesh3d": [
           {
            "colorbar": {
             "outlinewidth": 0,
             "ticks": ""
            },
            "type": "mesh3d"
           }
          ],
          "parcoords": [
           {
            "line": {
             "colorbar": {
              "outlinewidth": 0,
              "ticks": ""
             }
            },
            "type": "parcoords"
           }
          ],
          "pie": [
           {
            "automargin": true,
            "type": "pie"
           }
          ],
          "scatter": [
           {
            "fillpattern": {
             "fillmode": "overlay",
             "size": 10,
             "solidity": 0.2
            },
            "type": "scatter"
           }
          ],
          "scatter3d": [
           {
            "line": {
             "colorbar": {
              "outlinewidth": 0,
              "ticks": ""
             }
            },
            "marker": {
             "colorbar": {
              "outlinewidth": 0,
              "ticks": ""
             }
            },
            "type": "scatter3d"
           }
          ],
          "scattercarpet": [
           {
            "marker": {
             "colorbar": {
              "outlinewidth": 0,
              "ticks": ""
             }
            },
            "type": "scattercarpet"
           }
          ],
          "scattergeo": [
           {
            "marker": {
             "colorbar": {
              "outlinewidth": 0,
              "ticks": ""
             }
            },
            "type": "scattergeo"
           }
          ],
          "scattergl": [
           {
            "marker": {
             "colorbar": {
              "outlinewidth": 0,
              "ticks": ""
             }
            },
            "type": "scattergl"
           }
          ],
          "scattermapbox": [
           {
            "marker": {
             "colorbar": {
              "outlinewidth": 0,
              "ticks": ""
             }
            },
            "type": "scattermapbox"
           }
          ],
          "scatterpolar": [
           {
            "marker": {
             "colorbar": {
              "outlinewidth": 0,
              "ticks": ""
             }
            },
            "type": "scatterpolar"
           }
          ],
          "scatterpolargl": [
           {
            "marker": {
             "colorbar": {
              "outlinewidth": 0,
              "ticks": ""
             }
            },
            "type": "scatterpolargl"
           }
          ],
          "scatterternary": [
           {
            "marker": {
             "colorbar": {
              "outlinewidth": 0,
              "ticks": ""
             }
            },
            "type": "scatterternary"
           }
          ],
          "surface": [
           {
            "colorbar": {
             "outlinewidth": 0,
             "ticks": ""
            },
            "colorscale": [
             [
              0,
              "#0d0887"
             ],
             [
              0.1111111111111111,
              "#46039f"
             ],
             [
              0.2222222222222222,
              "#7201a8"
             ],
             [
              0.3333333333333333,
              "#9c179e"
             ],
             [
              0.4444444444444444,
              "#bd3786"
             ],
             [
              0.5555555555555556,
              "#d8576b"
             ],
             [
              0.6666666666666666,
              "#ed7953"
             ],
             [
              0.7777777777777778,
              "#fb9f3a"
             ],
             [
              0.8888888888888888,
              "#fdca26"
             ],
             [
              1,
              "#f0f921"
             ]
            ],
            "type": "surface"
           }
          ],
          "table": [
           {
            "cells": {
             "fill": {
              "color": "#EBF0F8"
             },
             "line": {
              "color": "white"
             }
            },
            "header": {
             "fill": {
              "color": "#C8D4E3"
             },
             "line": {
              "color": "white"
             }
            },
            "type": "table"
           }
          ]
         },
         "layout": {
          "annotationdefaults": {
           "arrowcolor": "#2a3f5f",
           "arrowhead": 0,
           "arrowwidth": 1
          },
          "autotypenumbers": "strict",
          "coloraxis": {
           "colorbar": {
            "outlinewidth": 0,
            "ticks": ""
           }
          },
          "colorscale": {
           "diverging": [
            [
             0,
             "#8e0152"
            ],
            [
             0.1,
             "#c51b7d"
            ],
            [
             0.2,
             "#de77ae"
            ],
            [
             0.3,
             "#f1b6da"
            ],
            [
             0.4,
             "#fde0ef"
            ],
            [
             0.5,
             "#f7f7f7"
            ],
            [
             0.6,
             "#e6f5d0"
            ],
            [
             0.7,
             "#b8e186"
            ],
            [
             0.8,
             "#7fbc41"
            ],
            [
             0.9,
             "#4d9221"
            ],
            [
             1,
             "#276419"
            ]
           ],
           "sequential": [
            [
             0,
             "#0d0887"
            ],
            [
             0.1111111111111111,
             "#46039f"
            ],
            [
             0.2222222222222222,
             "#7201a8"
            ],
            [
             0.3333333333333333,
             "#9c179e"
            ],
            [
             0.4444444444444444,
             "#bd3786"
            ],
            [
             0.5555555555555556,
             "#d8576b"
            ],
            [
             0.6666666666666666,
             "#ed7953"
            ],
            [
             0.7777777777777778,
             "#fb9f3a"
            ],
            [
             0.8888888888888888,
             "#fdca26"
            ],
            [
             1,
             "#f0f921"
            ]
           ],
           "sequentialminus": [
            [
             0,
             "#0d0887"
            ],
            [
             0.1111111111111111,
             "#46039f"
            ],
            [
             0.2222222222222222,
             "#7201a8"
            ],
            [
             0.3333333333333333,
             "#9c179e"
            ],
            [
             0.4444444444444444,
             "#bd3786"
            ],
            [
             0.5555555555555556,
             "#d8576b"
            ],
            [
             0.6666666666666666,
             "#ed7953"
            ],
            [
             0.7777777777777778,
             "#fb9f3a"
            ],
            [
             0.8888888888888888,
             "#fdca26"
            ],
            [
             1,
             "#f0f921"
            ]
           ]
          },
          "colorway": [
           "#636efa",
           "#EF553B",
           "#00cc96",
           "#ab63fa",
           "#FFA15A",
           "#19d3f3",
           "#FF6692",
           "#B6E880",
           "#FF97FF",
           "#FECB52"
          ],
          "font": {
           "color": "#2a3f5f"
          },
          "geo": {
           "bgcolor": "white",
           "lakecolor": "white",
           "landcolor": "#E5ECF6",
           "showlakes": true,
           "showland": true,
           "subunitcolor": "white"
          },
          "hoverlabel": {
           "align": "left"
          },
          "hovermode": "closest",
          "mapbox": {
           "style": "light"
          },
          "paper_bgcolor": "white",
          "plot_bgcolor": "#E5ECF6",
          "polar": {
           "angularaxis": {
            "gridcolor": "white",
            "linecolor": "white",
            "ticks": ""
           },
           "bgcolor": "#E5ECF6",
           "radialaxis": {
            "gridcolor": "white",
            "linecolor": "white",
            "ticks": ""
           }
          },
          "scene": {
           "xaxis": {
            "backgroundcolor": "#E5ECF6",
            "gridcolor": "white",
            "gridwidth": 2,
            "linecolor": "white",
            "showbackground": true,
            "ticks": "",
            "zerolinecolor": "white"
           },
           "yaxis": {
            "backgroundcolor": "#E5ECF6",
            "gridcolor": "white",
            "gridwidth": 2,
            "linecolor": "white",
            "showbackground": true,
            "ticks": "",
            "zerolinecolor": "white"
           },
           "zaxis": {
            "backgroundcolor": "#E5ECF6",
            "gridcolor": "white",
            "gridwidth": 2,
            "linecolor": "white",
            "showbackground": true,
            "ticks": "",
            "zerolinecolor": "white"
           }
          },
          "shapedefaults": {
           "line": {
            "color": "#2a3f5f"
           }
          },
          "ternary": {
           "aaxis": {
            "gridcolor": "white",
            "linecolor": "white",
            "ticks": ""
           },
           "baxis": {
            "gridcolor": "white",
            "linecolor": "white",
            "ticks": ""
           },
           "bgcolor": "#E5ECF6",
           "caxis": {
            "gridcolor": "white",
            "linecolor": "white",
            "ticks": ""
           }
          },
          "title": {
           "x": 0.05
          },
          "xaxis": {
           "automargin": true,
           "gridcolor": "white",
           "linecolor": "white",
           "ticks": "",
           "title": {
            "standoff": 15
           },
           "zerolinecolor": "white",
           "zerolinewidth": 2
          },
          "yaxis": {
           "automargin": true,
           "gridcolor": "white",
           "linecolor": "white",
           "ticks": "",
           "title": {
            "standoff": 15
           },
           "zerolinecolor": "white",
           "zerolinewidth": 2
          }
         }
        },
        "xaxis": {
         "anchor": "y",
         "domain": [
          0,
          1
         ],
         "title": {
          "text": "parsed"
         }
        },
        "yaxis": {
         "anchor": "x",
         "domain": [
          0,
          1
         ],
         "title": {
          "text": "Percentage"
         }
        }
       }
      },
      "text/html": [
       "<div>                            <div id=\"421765df-437d-4213-b69e-cafc4f148160\" class=\"plotly-graph-div\" style=\"height:525px; width:100%;\"></div>            <script type=\"text/javascript\">                require([\"plotly\"], function(Plotly) {                    window.PLOTLYENV=window.PLOTLYENV || {};                                    if (document.getElementById(\"421765df-437d-4213-b69e-cafc4f148160\")) {                    Plotly.newPlot(                        \"421765df-437d-4213-b69e-cafc4f148160\",                        [{\"alignmentgroup\":\"True\",\"hovertemplate\":\"Gender=Female\\u003cbr\\u003eparsed=%{x}\\u003cbr\\u003ePercentage=%{y}\\u003cextra\\u003e\\u003c\\u002fextra\\u003e\",\"legendgroup\":\"Female\",\"marker\":{\"color\":\"#636efa\",\"pattern\":{\"shape\":\"\"}},\"name\":\"Female\",\"offsetgroup\":\"Female\",\"orientation\":\"v\",\"showlegend\":true,\"textposition\":\"auto\",\"x\":[\"aggressive\",\"ambitious\",\"angry\",\"artistic\",\"boastful\",\"bossy\",\"competitive\",\"complaining\",\"cool\",\"emotional\",\"happy-go-lucky\",\"independent\",\"intelligent\",\"loud\",\"musical\",\"noisy\",\"outgoing\",\"outspoken\",\"passionate\",\"sensitive\",\"strong\",\"stubborn\",\"talkative\"],\"xaxis\":\"x\",\"y\":[2.923976608187134,1.1695906432748537,1.1695906432748537,2.53411306042885,4.28849902534113,1.364522417153996,2.3391812865497075,4.093567251461988,2.144249512670565,7.017543859649122,3.898635477582846,1.364522417153996,1.1695906432748537,6.237816764132553,1.949317738791423,1.949317738791423,9.746588693957115,7.992202729044834,4.678362573099415,3.313840155945419,2.144249512670565,2.53411306042885,12.865497076023392],\"yaxis\":\"y\",\"type\":\"bar\"},{\"alignmentgroup\":\"True\",\"hovertemplate\":\"Gender=Male\\u003cbr\\u003eparsed=%{x}\\u003cbr\\u003ePercentage=%{y}\\u003cextra\\u003e\\u003c\\u002fextra\\u003e\",\"legendgroup\":\"Male\",\"marker\":{\"color\":\"#EF553B\",\"pattern\":{\"shape\":\"\"}},\"name\":\"Male\",\"offsetgroup\":\"Male\",\"orientation\":\"v\",\"showlegend\":true,\"textposition\":\"auto\",\"x\":[\"aggressive\",\"ambitious\",\"angry\",\"arrogant\",\"artistic\",\"athletic\",\"boastful\",\"competitive\",\"complaining\",\"cool\",\"emotional\",\"energetic\",\"happy-go-lucky\",\"intelligent\",\"lazy\",\"loud\",\"musical\",\"noisy\",\"outgoing\",\"outspoken\",\"passionate\",\"sensitive\",\"strong\",\"stubborn\",\"talkative\"],\"xaxis\":\"x\",\"y\":[6.341107871720117,1.3119533527696794,4.300291545189505,1.8221574344023324,1.0932944606413995,1.3848396501457727,7.798833819241982,3.1341107871720117,2.8425655976676385,2.1137026239067054,4.591836734693878,1.0204081632653061,1.4577259475218658,1.6034985422740524,1.0932944606413995,7.653061224489796,3.498542274052478,1.6034985422740524,6.049562682215743,9.693877551020408,2.7696793002915454,1.8950437317784257,3.7900874635568513,2.7696793002915454,8.309037900874635],\"yaxis\":\"y\",\"type\":\"bar\"}],                        {\"template\":{\"data\":{\"histogram2dcontour\":[{\"type\":\"histogram2dcontour\",\"colorbar\":{\"outlinewidth\":0,\"ticks\":\"\"},\"colorscale\":[[0.0,\"#0d0887\"],[0.1111111111111111,\"#46039f\"],[0.2222222222222222,\"#7201a8\"],[0.3333333333333333,\"#9c179e\"],[0.4444444444444444,\"#bd3786\"],[0.5555555555555556,\"#d8576b\"],[0.6666666666666666,\"#ed7953\"],[0.7777777777777778,\"#fb9f3a\"],[0.8888888888888888,\"#fdca26\"],[1.0,\"#f0f921\"]]}],\"choropleth\":[{\"type\":\"choropleth\",\"colorbar\":{\"outlinewidth\":0,\"ticks\":\"\"}}],\"histogram2d\":[{\"type\":\"histogram2d\",\"colorbar\":{\"outlinewidth\":0,\"ticks\":\"\"},\"colorscale\":[[0.0,\"#0d0887\"],[0.1111111111111111,\"#46039f\"],[0.2222222222222222,\"#7201a8\"],[0.3333333333333333,\"#9c179e\"],[0.4444444444444444,\"#bd3786\"],[0.5555555555555556,\"#d8576b\"],[0.6666666666666666,\"#ed7953\"],[0.7777777777777778,\"#fb9f3a\"],[0.8888888888888888,\"#fdca26\"],[1.0,\"#f0f921\"]]}],\"heatmap\":[{\"type\":\"heatmap\",\"colorbar\":{\"outlinewidth\":0,\"ticks\":\"\"},\"colorscale\":[[0.0,\"#0d0887\"],[0.1111111111111111,\"#46039f\"],[0.2222222222222222,\"#7201a8\"],[0.3333333333333333,\"#9c179e\"],[0.4444444444444444,\"#bd3786\"],[0.5555555555555556,\"#d8576b\"],[0.6666666666666666,\"#ed7953\"],[0.7777777777777778,\"#fb9f3a\"],[0.8888888888888888,\"#fdca26\"],[1.0,\"#f0f921\"]]}],\"heatmapgl\":[{\"type\":\"heatmapgl\",\"colorbar\":{\"outlinewidth\":0,\"ticks\":\"\"},\"colorscale\":[[0.0,\"#0d0887\"],[0.1111111111111111,\"#46039f\"],[0.2222222222222222,\"#7201a8\"],[0.3333333333333333,\"#9c179e\"],[0.4444444444444444,\"#bd3786\"],[0.5555555555555556,\"#d8576b\"],[0.6666666666666666,\"#ed7953\"],[0.7777777777777778,\"#fb9f3a\"],[0.8888888888888888,\"#fdca26\"],[1.0,\"#f0f921\"]]}],\"contourcarpet\":[{\"type\":\"contourcarpet\",\"colorbar\":{\"outlinewidth\":0,\"ticks\":\"\"}}],\"contour\":[{\"type\":\"contour\",\"colorbar\":{\"outlinewidth\":0,\"ticks\":\"\"},\"colorscale\":[[0.0,\"#0d0887\"],[0.1111111111111111,\"#46039f\"],[0.2222222222222222,\"#7201a8\"],[0.3333333333333333,\"#9c179e\"],[0.4444444444444444,\"#bd3786\"],[0.5555555555555556,\"#d8576b\"],[0.6666666666666666,\"#ed7953\"],[0.7777777777777778,\"#fb9f3a\"],[0.8888888888888888,\"#fdca26\"],[1.0,\"#f0f921\"]]}],\"surface\":[{\"type\":\"surface\",\"colorbar\":{\"outlinewidth\":0,\"ticks\":\"\"},\"colorscale\":[[0.0,\"#0d0887\"],[0.1111111111111111,\"#46039f\"],[0.2222222222222222,\"#7201a8\"],[0.3333333333333333,\"#9c179e\"],[0.4444444444444444,\"#bd3786\"],[0.5555555555555556,\"#d8576b\"],[0.6666666666666666,\"#ed7953\"],[0.7777777777777778,\"#fb9f3a\"],[0.8888888888888888,\"#fdca26\"],[1.0,\"#f0f921\"]]}],\"mesh3d\":[{\"type\":\"mesh3d\",\"colorbar\":{\"outlinewidth\":0,\"ticks\":\"\"}}],\"scatter\":[{\"fillpattern\":{\"fillmode\":\"overlay\",\"size\":10,\"solidity\":0.2},\"type\":\"scatter\"}],\"parcoords\":[{\"type\":\"parcoords\",\"line\":{\"colorbar\":{\"outlinewidth\":0,\"ticks\":\"\"}}}],\"scatterpolargl\":[{\"type\":\"scatterpolargl\",\"marker\":{\"colorbar\":{\"outlinewidth\":0,\"ticks\":\"\"}}}],\"bar\":[{\"error_x\":{\"color\":\"#2a3f5f\"},\"error_y\":{\"color\":\"#2a3f5f\"},\"marker\":{\"line\":{\"color\":\"#E5ECF6\",\"width\":0.5},\"pattern\":{\"fillmode\":\"overlay\",\"size\":10,\"solidity\":0.2}},\"type\":\"bar\"}],\"scattergeo\":[{\"type\":\"scattergeo\",\"marker\":{\"colorbar\":{\"outlinewidth\":0,\"ticks\":\"\"}}}],\"scatterpolar\":[{\"type\":\"scatterpolar\",\"marker\":{\"colorbar\":{\"outlinewidth\":0,\"ticks\":\"\"}}}],\"histogram\":[{\"marker\":{\"pattern\":{\"fillmode\":\"overlay\",\"size\":10,\"solidity\":0.2}},\"type\":\"histogram\"}],\"scattergl\":[{\"type\":\"scattergl\",\"marker\":{\"colorbar\":{\"outlinewidth\":0,\"ticks\":\"\"}}}],\"scatter3d\":[{\"type\":\"scatter3d\",\"line\":{\"colorbar\":{\"outlinewidth\":0,\"ticks\":\"\"}},\"marker\":{\"colorbar\":{\"outlinewidth\":0,\"ticks\":\"\"}}}],\"scattermapbox\":[{\"type\":\"scattermapbox\",\"marker\":{\"colorbar\":{\"outlinewidth\":0,\"ticks\":\"\"}}}],\"scatterternary\":[{\"type\":\"scatterternary\",\"marker\":{\"colorbar\":{\"outlinewidth\":0,\"ticks\":\"\"}}}],\"scattercarpet\":[{\"type\":\"scattercarpet\",\"marker\":{\"colorbar\":{\"outlinewidth\":0,\"ticks\":\"\"}}}],\"carpet\":[{\"aaxis\":{\"endlinecolor\":\"#2a3f5f\",\"gridcolor\":\"white\",\"linecolor\":\"white\",\"minorgridcolor\":\"white\",\"startlinecolor\":\"#2a3f5f\"},\"baxis\":{\"endlinecolor\":\"#2a3f5f\",\"gridcolor\":\"white\",\"linecolor\":\"white\",\"minorgridcolor\":\"white\",\"startlinecolor\":\"#2a3f5f\"},\"type\":\"carpet\"}],\"table\":[{\"cells\":{\"fill\":{\"color\":\"#EBF0F8\"},\"line\":{\"color\":\"white\"}},\"header\":{\"fill\":{\"color\":\"#C8D4E3\"},\"line\":{\"color\":\"white\"}},\"type\":\"table\"}],\"barpolar\":[{\"marker\":{\"line\":{\"color\":\"#E5ECF6\",\"width\":0.5},\"pattern\":{\"fillmode\":\"overlay\",\"size\":10,\"solidity\":0.2}},\"type\":\"barpolar\"}],\"pie\":[{\"automargin\":true,\"type\":\"pie\"}]},\"layout\":{\"autotypenumbers\":\"strict\",\"colorway\":[\"#636efa\",\"#EF553B\",\"#00cc96\",\"#ab63fa\",\"#FFA15A\",\"#19d3f3\",\"#FF6692\",\"#B6E880\",\"#FF97FF\",\"#FECB52\"],\"font\":{\"color\":\"#2a3f5f\"},\"hovermode\":\"closest\",\"hoverlabel\":{\"align\":\"left\"},\"paper_bgcolor\":\"white\",\"plot_bgcolor\":\"#E5ECF6\",\"polar\":{\"bgcolor\":\"#E5ECF6\",\"angularaxis\":{\"gridcolor\":\"white\",\"linecolor\":\"white\",\"ticks\":\"\"},\"radialaxis\":{\"gridcolor\":\"white\",\"linecolor\":\"white\",\"ticks\":\"\"}},\"ternary\":{\"bgcolor\":\"#E5ECF6\",\"aaxis\":{\"gridcolor\":\"white\",\"linecolor\":\"white\",\"ticks\":\"\"},\"baxis\":{\"gridcolor\":\"white\",\"linecolor\":\"white\",\"ticks\":\"\"},\"caxis\":{\"gridcolor\":\"white\",\"linecolor\":\"white\",\"ticks\":\"\"}},\"coloraxis\":{\"colorbar\":{\"outlinewidth\":0,\"ticks\":\"\"}},\"colorscale\":{\"sequential\":[[0.0,\"#0d0887\"],[0.1111111111111111,\"#46039f\"],[0.2222222222222222,\"#7201a8\"],[0.3333333333333333,\"#9c179e\"],[0.4444444444444444,\"#bd3786\"],[0.5555555555555556,\"#d8576b\"],[0.6666666666666666,\"#ed7953\"],[0.7777777777777778,\"#fb9f3a\"],[0.8888888888888888,\"#fdca26\"],[1.0,\"#f0f921\"]],\"sequentialminus\":[[0.0,\"#0d0887\"],[0.1111111111111111,\"#46039f\"],[0.2222222222222222,\"#7201a8\"],[0.3333333333333333,\"#9c179e\"],[0.4444444444444444,\"#bd3786\"],[0.5555555555555556,\"#d8576b\"],[0.6666666666666666,\"#ed7953\"],[0.7777777777777778,\"#fb9f3a\"],[0.8888888888888888,\"#fdca26\"],[1.0,\"#f0f921\"]],\"diverging\":[[0,\"#8e0152\"],[0.1,\"#c51b7d\"],[0.2,\"#de77ae\"],[0.3,\"#f1b6da\"],[0.4,\"#fde0ef\"],[0.5,\"#f7f7f7\"],[0.6,\"#e6f5d0\"],[0.7,\"#b8e186\"],[0.8,\"#7fbc41\"],[0.9,\"#4d9221\"],[1,\"#276419\"]]},\"xaxis\":{\"gridcolor\":\"white\",\"linecolor\":\"white\",\"ticks\":\"\",\"title\":{\"standoff\":15},\"zerolinecolor\":\"white\",\"automargin\":true,\"zerolinewidth\":2},\"yaxis\":{\"gridcolor\":\"white\",\"linecolor\":\"white\",\"ticks\":\"\",\"title\":{\"standoff\":15},\"zerolinecolor\":\"white\",\"automargin\":true,\"zerolinewidth\":2},\"scene\":{\"xaxis\":{\"backgroundcolor\":\"#E5ECF6\",\"gridcolor\":\"white\",\"linecolor\":\"white\",\"showbackground\":true,\"ticks\":\"\",\"zerolinecolor\":\"white\",\"gridwidth\":2},\"yaxis\":{\"backgroundcolor\":\"#E5ECF6\",\"gridcolor\":\"white\",\"linecolor\":\"white\",\"showbackground\":true,\"ticks\":\"\",\"zerolinecolor\":\"white\",\"gridwidth\":2},\"zaxis\":{\"backgroundcolor\":\"#E5ECF6\",\"gridcolor\":\"white\",\"linecolor\":\"white\",\"showbackground\":true,\"ticks\":\"\",\"zerolinecolor\":\"white\",\"gridwidth\":2}},\"shapedefaults\":{\"line\":{\"color\":\"#2a3f5f\"}},\"annotationdefaults\":{\"arrowcolor\":\"#2a3f5f\",\"arrowhead\":0,\"arrowwidth\":1},\"geo\":{\"bgcolor\":\"white\",\"landcolor\":\"#E5ECF6\",\"subunitcolor\":\"white\",\"showland\":true,\"showlakes\":true,\"lakecolor\":\"white\"},\"title\":{\"x\":0.05},\"mapbox\":{\"style\":\"light\"}}},\"xaxis\":{\"anchor\":\"y\",\"domain\":[0.0,1.0],\"title\":{\"text\":\"parsed\"}},\"yaxis\":{\"anchor\":\"x\",\"domain\":[0.0,1.0],\"title\":{\"text\":\"Percentage\"}},\"legend\":{\"title\":{\"text\":\"Gender\"},\"tracegroupgap\":0},\"margin\":{\"t\":60},\"barmode\":\"group\"},                        {\"responsive\": true}                    ).then(function(){\n",
       "                            \n",
       "var gd = document.getElementById('421765df-437d-4213-b69e-cafc4f148160');\n",
       "var x = new MutationObserver(function (mutations, observer) {{\n",
       "        var display = window.getComputedStyle(gd).display;\n",
       "        if (!display || display === 'none') {{\n",
       "            console.log([gd, 'removed!']);\n",
       "            Plotly.purge(gd);\n",
       "            observer.disconnect();\n",
       "        }}\n",
       "}});\n",
       "\n",
       "// Listen for the removal of the full notebook cells\n",
       "var notebookContainer = gd.closest('#notebook-container');\n",
       "if (notebookContainer) {{\n",
       "    x.observe(notebookContainer, {childList: true});\n",
       "}}\n",
       "\n",
       "// Listen for the clearing of the current output cell\n",
       "var outputEl = gd.closest('.output');\n",
       "if (outputEl) {{\n",
       "    x.observe(outputEl, {childList: true});\n",
       "}}\n",
       "\n",
       "                        })                };                });            </script>        </div>"
      ]
     },
     "metadata": {},
     "output_type": "display_data"
    }
   ],
   "source": [
    "subset = df[['Spkr', 'segment', 'Age', 'Gender', 'Education', 'Occupation', 'Edu.Group', 'Age.Group', \n",
    "       'model_response_adjective_princeton_MERaLiON-AudioLLM-Whisper-SEA-LION',\n",
    "       'model_prompt_adjective_princeton_MERaLiON-AudioLLM-Whisper-SEA-LION']].copy()\n",
    "\n",
    "\n",
    "subset['parsed'] = subset.apply(lambda row: parse_adjectives(row, 'model_response_adjective_princeton_MERaLiON-AudioLLM-Whisper-SEA-LION', ADJECTIVES_PRINCETON['english']), axis=1)\n",
    "\n",
    "df_exploded = subset.explode('parsed')\n",
    "result = df_exploded.groupby(['Gender', 'parsed']).size().reset_index(name='count')\n",
    "\n",
    "\n",
    "result['Total'] = result.groupby('Gender')['count'].transform('sum')\n",
    "result['Percentage'] = result['count'] / result['Total'] * 100\n",
    "\n",
    "result = result[result['Percentage']>1]\n",
    "\n",
    "# Create a grouped bar plot\n",
    "fig = px.bar(\n",
    "    result,\n",
    "    x='parsed',\n",
    "    y='Percentage',\n",
    "    color='Gender',    # Different colors for each group\n",
    "    barmode='group',  # Place bars side-by-side rather than stacking them\n",
    ")\n",
    "fig.show()"
   ]
  },
  {
   "cell_type": "code",
   "execution_count": 37,
   "metadata": {},
   "outputs": [
    {
     "data": {
      "application/vnd.plotly.v1+json": {
       "config": {
        "plotlyServerURL": "https://plot.ly"
       },
       "data": [
        {
         "alignmentgroup": "True",
         "hovertemplate": "parsed=%{x}<br>Percentage=%{y}<br>Age=%{marker.color}<extra></extra>",
         "legendgroup": "",
         "marker": {
          "color": [
           22,
           22,
           22,
           22,
           22,
           22,
           22,
           22,
           22,
           22,
           22,
           22,
           22,
           22,
           22,
           22,
           22,
           22,
           22,
           22,
           22,
           22,
           22,
           22,
           22,
           22,
           22,
           22,
           22,
           23,
           23,
           23,
           23,
           23,
           23,
           23,
           23,
           23,
           23,
           23,
           23,
           23,
           23,
           23,
           23,
           23,
           23,
           23,
           23,
           23,
           23,
           23,
           23,
           23,
           23,
           23,
           23,
           24,
           24,
           24,
           24,
           24,
           24,
           24,
           24,
           24,
           24,
           24,
           24,
           24,
           24,
           24,
           24,
           24,
           24,
           24,
           24,
           24,
           24,
           25,
           25,
           25,
           25,
           25,
           25,
           25,
           25,
           25,
           25,
           25,
           25,
           25,
           25,
           25,
           25,
           25,
           25,
           25,
           25,
           25,
           25,
           27,
           27,
           27,
           27,
           27,
           27,
           27,
           27,
           27,
           27,
           27,
           27,
           27,
           27,
           27,
           27,
           27,
           27,
           27,
           27,
           27,
           29,
           29,
           29,
           29,
           29,
           29,
           29,
           29,
           29,
           29,
           29,
           29,
           29,
           29,
           29,
           29,
           29,
           29,
           29,
           29,
           30,
           30,
           30,
           30,
           30,
           30,
           30,
           30,
           30,
           30,
           30,
           30,
           30,
           30,
           30,
           30,
           30,
           30,
           30,
           30,
           30,
           30,
           30,
           31,
           31,
           31,
           31,
           31,
           31,
           31,
           31,
           31,
           31,
           31,
           31,
           31,
           31,
           31,
           31,
           31,
           31,
           31,
           32,
           32,
           32,
           32,
           32,
           32,
           32,
           32,
           32,
           32,
           32,
           32,
           32,
           32,
           32,
           32,
           32,
           32,
           32,
           36,
           36,
           36,
           36,
           36,
           36,
           36,
           36,
           36,
           36,
           36,
           36,
           36,
           36,
           36,
           36,
           36,
           36,
           36,
           36,
           36,
           36,
           36,
           36,
           36,
           36,
           36,
           36,
           40,
           40,
           40,
           40,
           40,
           40,
           40,
           40,
           40,
           40,
           40,
           40,
           40,
           40,
           40,
           40,
           40,
           40,
           40,
           40,
           40,
           40,
           40,
           40
          ],
          "coloraxis": "coloraxis",
          "pattern": {
           "shape": ""
          }
         },
         "name": "",
         "offsetgroup": "",
         "orientation": "v",
         "showlegend": false,
         "textposition": "auto",
         "type": "bar",
         "x": [
          "aggressive",
          "ambitious",
          "angry",
          "arrogant",
          "boastful",
          "bossy",
          "complaining",
          "conventional",
          "cool",
          "emotional",
          "energetic",
          "happy-go-lucky",
          "imitative",
          "independent",
          "lazy",
          "loud",
          "musical",
          "naive",
          "noisy",
          "outgoing",
          "outspoken",
          "passionate",
          "quarrelsome",
          "rebellious",
          "rude",
          "sensitive",
          "strong",
          "stubborn",
          "talkative",
          "aggressive",
          "alert",
          "ambitious",
          "angry",
          "artistic",
          "athletic",
          "boastful",
          "competitive",
          "complaining",
          "emotional",
          "energetic",
          "happy-go-lucky",
          "independent",
          "individualistic",
          "intelligent",
          "loud",
          "musical",
          "noisy",
          "outgoing",
          "outspoken",
          "passionate",
          "proud",
          "rude",
          "sensitive",
          "straightforward",
          "strong",
          "stubborn",
          "talkative",
          "aggressive",
          "ambitious",
          "angry",
          "artistic",
          "boastful",
          "competitive",
          "complaining",
          "cool",
          "emotional",
          "energetic",
          "happy-go-lucky",
          "lazy",
          "loud",
          "musical",
          "noisy",
          "outgoing",
          "outspoken",
          "passionate",
          "rude",
          "sensitive",
          "strong",
          "talkative",
          "aggressive",
          "ambitious",
          "angry",
          "artistic",
          "boastful",
          "bossy",
          "competitive",
          "complaining",
          "cool",
          "emotional",
          "happy-go-lucky",
          "intelligent",
          "loud",
          "musical",
          "noisy",
          "outgoing",
          "outspoken",
          "passionate",
          "sensitive",
          "strong",
          "stubborn",
          "talkative",
          "aggressive",
          "angry",
          "arrogant",
          "athletic",
          "boastful",
          "competitive",
          "complaining",
          "emotional",
          "energetic",
          "happy-go-lucky",
          "loud",
          "musical",
          "noisy",
          "outgoing",
          "outspoken",
          "passionate",
          "sensitive",
          "straightforward",
          "strong",
          "stubborn",
          "talkative",
          "aggressive",
          "ambitious",
          "angry",
          "boastful",
          "competitive",
          "cool",
          "emotional",
          "intelligent",
          "lazy",
          "loud",
          "musical",
          "opinionated",
          "outgoing",
          "outspoken",
          "passionate",
          "rebellious",
          "sensitive",
          "stubborn",
          "talkative",
          "tough",
          "aggressive",
          "ambitious",
          "angry",
          "artistic",
          "athletic",
          "boastful",
          "competitive",
          "complaining",
          "cool",
          "emotional",
          "energetic",
          "intelligent",
          "lazy",
          "loud",
          "musical",
          "noisy",
          "outgoing",
          "outspoken",
          "passionate",
          "sensitive",
          "strong",
          "stubborn",
          "talkative",
          "aggressive",
          "angry",
          "arrogant",
          "boastful",
          "bossy",
          "competitive",
          "complaining",
          "cool",
          "emotional",
          "happy-go-lucky",
          "loud",
          "musical",
          "outgoing",
          "outspoken",
          "passionate",
          "rude",
          "strong",
          "stubborn",
          "talkative",
          "ambitious",
          "artistic",
          "boastful",
          "competitive",
          "complaining",
          "cool",
          "emotional",
          "happy-go-lucky",
          "intelligent",
          "lazy",
          "loud",
          "noisy",
          "outgoing",
          "outspoken",
          "passionate",
          "sensitive",
          "straightforward",
          "strong",
          "talkative",
          "aggressive",
          "artistic",
          "athletic",
          "boastful",
          "bossy",
          "competitive",
          "complaining",
          "conventional",
          "cool",
          "emotional",
          "extremely nationalistic",
          "happy-go-lucky",
          "ignorant",
          "imitative",
          "independent",
          "individualistic",
          "loud",
          "musical",
          "noisy",
          "opinionated",
          "outgoing",
          "outspoken",
          "rebellious",
          "sensitive",
          "strong",
          "stubborn",
          "talkative",
          "very religious",
          "aggressive",
          "angry",
          "arrogant",
          "artistic",
          "boastful",
          "competitive",
          "complaining",
          "cool",
          "emotional",
          "energetic",
          "happy-go-lucky",
          "intelligent",
          "loud",
          "musical",
          "noisy",
          "opinionated",
          "outgoing",
          "outspoken",
          "passionate",
          "sensitive",
          "straightforward",
          "strong",
          "stubborn",
          "talkative"
         ],
         "xaxis": "x",
         "y": [
          4.651162790697675,
          1.1627906976744187,
          2.3255813953488373,
          1.1627906976744187,
          5.813953488372093,
          1.1627906976744187,
          4.651162790697675,
          1.1627906976744187,
          1.1627906976744187,
          8.13953488372093,
          1.1627906976744187,
          1.1627906976744187,
          1.1627906976744187,
          1.1627906976744187,
          2.3255813953488373,
          10.465116279069768,
          1.1627906976744187,
          1.1627906976744187,
          2.3255813953488373,
          6.976744186046512,
          5.813953488372093,
          6.976744186046512,
          1.1627906976744187,
          1.1627906976744187,
          1.1627906976744187,
          3.488372093023256,
          1.1627906976744187,
          5.813953488372093,
          12.790697674418606,
          4.25531914893617,
          1.4184397163120568,
          1.4184397163120568,
          1.4184397163120568,
          2.127659574468085,
          2.127659574468085,
          5.673758865248227,
          6.382978723404255,
          4.964539007092199,
          5.673758865248227,
          1.4184397163120568,
          1.4184397163120568,
          1.4184397163120568,
          1.4184397163120568,
          2.127659574468085,
          4.25531914893617,
          2.8368794326241136,
          2.127659574468085,
          6.382978723404255,
          11.347517730496454,
          2.127659574468085,
          1.4184397163120568,
          1.4184397163120568,
          3.546099290780142,
          2.8368794326241136,
          3.546099290780142,
          1.4184397163120568,
          7.092198581560284,
          4.11522633744856,
          1.646090534979424,
          4.526748971193416,
          2.4691358024691357,
          7.4074074074074066,
          2.05761316872428,
          4.526748971193416,
          5.349794238683128,
          6.172839506172839,
          1.646090534979424,
          1.646090534979424,
          1.2345679012345678,
          5.761316872427984,
          2.880658436213992,
          2.880658436213992,
          9.876543209876543,
          5.761316872427984,
          3.292181069958848,
          1.646090534979424,
          1.646090534979424,
          2.880658436213992,
          8.23045267489712,
          4.10958904109589,
          1.36986301369863,
          1.36986301369863,
          2.73972602739726,
          4.10958904109589,
          1.36986301369863,
          2.054794520547945,
          3.4246575342465753,
          1.36986301369863,
          6.8493150684931505,
          4.10958904109589,
          2.054794520547945,
          6.164383561643835,
          2.73972602739726,
          2.054794520547945,
          8.904109589041095,
          9.58904109589041,
          5.47945205479452,
          2.054794520547945,
          4.10958904109589,
          3.4246575342465753,
          16.43835616438356,
          5.205479452054795,
          6.301369863013699,
          1.36986301369863,
          2.73972602739726,
          6.027397260273973,
          4.383561643835616,
          2.4657534246575343,
          4.10958904109589,
          1.095890410958904,
          2.73972602739726,
          7.123287671232877,
          3.5616438356164384,
          1.095890410958904,
          7.123287671232877,
          10.95890410958904,
          1.36986301369863,
          2.191780821917808,
          1.095890410958904,
          4.657534246575342,
          3.287671232876712,
          9.863013698630137,
          6.896551724137931,
          1.7241379310344827,
          2.586206896551724,
          10.344827586206897,
          2.586206896551724,
          3.4482758620689653,
          7.758620689655173,
          2.586206896551724,
          4.310344827586207,
          3.4482758620689653,
          2.586206896551724,
          1.7241379310344827,
          7.758620689655173,
          7.758620689655173,
          4.310344827586207,
          1.7241379310344827,
          2.586206896551724,
          6.0344827586206895,
          7.758620689655173,
          2.586206896551724,
          3.4682080924855487,
          2.8901734104046244,
          4.046242774566474,
          1.1560693641618496,
          1.1560693641618496,
          6.9364161849710975,
          1.7341040462427744,
          3.4682080924855487,
          2.312138728323699,
          2.312138728323699,
          1.1560693641618496,
          4.624277456647398,
          1.1560693641618496,
          10.982658959537572,
          8.092485549132949,
          1.7341040462427744,
          5.780346820809249,
          8.092485549132949,
          5.202312138728324,
          1.7341040462427744,
          5.202312138728324,
          2.312138728323699,
          6.9364161849710975,
          10.508474576271185,
          4.067796610169491,
          5.084745762711865,
          9.491525423728813,
          2.3728813559322033,
          1.694915254237288,
          2.3728813559322033,
          2.0338983050847457,
          4.067796610169491,
          1.0169491525423728,
          9.830508474576272,
          1.694915254237288,
          5.423728813559322,
          11.186440677966102,
          2.711864406779661,
          2.0338983050847457,
          3.728813559322034,
          1.694915254237288,
          8.135593220338983,
          1.9230769230769231,
          3.8461538461538463,
          2.8846153846153846,
          2.8846153846153846,
          1.9230769230769231,
          1.9230769230769231,
          3.8461538461538463,
          8.653846153846153,
          2.8846153846153846,
          1.9230769230769231,
          7.6923076923076925,
          3.8461538461538463,
          8.653846153846153,
          7.6923076923076925,
          4.807692307692308,
          5.769230769230769,
          1.9230769230769231,
          1.9230769230769231,
          11.538461538461538,
          4.819277108433735,
          1.2048192771084338,
          2.4096385542168677,
          3.614457831325301,
          3.614457831325301,
          4.819277108433735,
          8.433734939759036,
          1.2048192771084338,
          3.614457831325301,
          7.228915662650602,
          1.2048192771084338,
          1.2048192771084338,
          1.2048192771084338,
          1.2048192771084338,
          4.819277108433735,
          1.2048192771084338,
          4.819277108433735,
          2.4096385542168677,
          1.2048192771084338,
          1.2048192771084338,
          7.228915662650602,
          9.63855421686747,
          1.2048192771084338,
          2.4096385542168677,
          2.4096385542168677,
          2.4096385542168677,
          12.048192771084338,
          1.2048192771084338,
          5.263157894736842,
          2.2556390977443606,
          1.5037593984962405,
          3.007518796992481,
          9.022556390977442,
          3.007518796992481,
          1.5037593984962405,
          1.5037593984962405,
          6.7669172932330826,
          2.2556390977443606,
          2.2556390977443606,
          2.2556390977443606,
          6.7669172932330826,
          3.007518796992481,
          2.2556390977443606,
          3.007518796992481,
          3.7593984962406015,
          9.774436090225564,
          3.7593984962406015,
          3.007518796992481,
          1.5037593984962405,
          1.5037593984962405,
          4.511278195488721,
          9.022556390977442
         ],
         "yaxis": "y"
        }
       ],
       "layout": {
        "barmode": "group",
        "coloraxis": {
         "colorbar": {
          "title": {
           "text": "Age"
          }
         },
         "colorscale": [
          [
           0,
           "#0d0887"
          ],
          [
           0.1111111111111111,
           "#46039f"
          ],
          [
           0.2222222222222222,
           "#7201a8"
          ],
          [
           0.3333333333333333,
           "#9c179e"
          ],
          [
           0.4444444444444444,
           "#bd3786"
          ],
          [
           0.5555555555555556,
           "#d8576b"
          ],
          [
           0.6666666666666666,
           "#ed7953"
          ],
          [
           0.7777777777777778,
           "#fb9f3a"
          ],
          [
           0.8888888888888888,
           "#fdca26"
          ],
          [
           1,
           "#f0f921"
          ]
         ]
        },
        "legend": {
         "tracegroupgap": 0
        },
        "margin": {
         "t": 60
        },
        "template": {
         "data": {
          "bar": [
           {
            "error_x": {
             "color": "#2a3f5f"
            },
            "error_y": {
             "color": "#2a3f5f"
            },
            "marker": {
             "line": {
              "color": "#E5ECF6",
              "width": 0.5
             },
             "pattern": {
              "fillmode": "overlay",
              "size": 10,
              "solidity": 0.2
             }
            },
            "type": "bar"
           }
          ],
          "barpolar": [
           {
            "marker": {
             "line": {
              "color": "#E5ECF6",
              "width": 0.5
             },
             "pattern": {
              "fillmode": "overlay",
              "size": 10,
              "solidity": 0.2
             }
            },
            "type": "barpolar"
           }
          ],
          "carpet": [
           {
            "aaxis": {
             "endlinecolor": "#2a3f5f",
             "gridcolor": "white",
             "linecolor": "white",
             "minorgridcolor": "white",
             "startlinecolor": "#2a3f5f"
            },
            "baxis": {
             "endlinecolor": "#2a3f5f",
             "gridcolor": "white",
             "linecolor": "white",
             "minorgridcolor": "white",
             "startlinecolor": "#2a3f5f"
            },
            "type": "carpet"
           }
          ],
          "choropleth": [
           {
            "colorbar": {
             "outlinewidth": 0,
             "ticks": ""
            },
            "type": "choropleth"
           }
          ],
          "contour": [
           {
            "colorbar": {
             "outlinewidth": 0,
             "ticks": ""
            },
            "colorscale": [
             [
              0,
              "#0d0887"
             ],
             [
              0.1111111111111111,
              "#46039f"
             ],
             [
              0.2222222222222222,
              "#7201a8"
             ],
             [
              0.3333333333333333,
              "#9c179e"
             ],
             [
              0.4444444444444444,
              "#bd3786"
             ],
             [
              0.5555555555555556,
              "#d8576b"
             ],
             [
              0.6666666666666666,
              "#ed7953"
             ],
             [
              0.7777777777777778,
              "#fb9f3a"
             ],
             [
              0.8888888888888888,
              "#fdca26"
             ],
             [
              1,
              "#f0f921"
             ]
            ],
            "type": "contour"
           }
          ],
          "contourcarpet": [
           {
            "colorbar": {
             "outlinewidth": 0,
             "ticks": ""
            },
            "type": "contourcarpet"
           }
          ],
          "heatmap": [
           {
            "colorbar": {
             "outlinewidth": 0,
             "ticks": ""
            },
            "colorscale": [
             [
              0,
              "#0d0887"
             ],
             [
              0.1111111111111111,
              "#46039f"
             ],
             [
              0.2222222222222222,
              "#7201a8"
             ],
             [
              0.3333333333333333,
              "#9c179e"
             ],
             [
              0.4444444444444444,
              "#bd3786"
             ],
             [
              0.5555555555555556,
              "#d8576b"
             ],
             [
              0.6666666666666666,
              "#ed7953"
             ],
             [
              0.7777777777777778,
              "#fb9f3a"
             ],
             [
              0.8888888888888888,
              "#fdca26"
             ],
             [
              1,
              "#f0f921"
             ]
            ],
            "type": "heatmap"
           }
          ],
          "heatmapgl": [
           {
            "colorbar": {
             "outlinewidth": 0,
             "ticks": ""
            },
            "colorscale": [
             [
              0,
              "#0d0887"
             ],
             [
              0.1111111111111111,
              "#46039f"
             ],
             [
              0.2222222222222222,
              "#7201a8"
             ],
             [
              0.3333333333333333,
              "#9c179e"
             ],
             [
              0.4444444444444444,
              "#bd3786"
             ],
             [
              0.5555555555555556,
              "#d8576b"
             ],
             [
              0.6666666666666666,
              "#ed7953"
             ],
             [
              0.7777777777777778,
              "#fb9f3a"
             ],
             [
              0.8888888888888888,
              "#fdca26"
             ],
             [
              1,
              "#f0f921"
             ]
            ],
            "type": "heatmapgl"
           }
          ],
          "histogram": [
           {
            "marker": {
             "pattern": {
              "fillmode": "overlay",
              "size": 10,
              "solidity": 0.2
             }
            },
            "type": "histogram"
           }
          ],
          "histogram2d": [
           {
            "colorbar": {
             "outlinewidth": 0,
             "ticks": ""
            },
            "colorscale": [
             [
              0,
              "#0d0887"
             ],
             [
              0.1111111111111111,
              "#46039f"
             ],
             [
              0.2222222222222222,
              "#7201a8"
             ],
             [
              0.3333333333333333,
              "#9c179e"
             ],
             [
              0.4444444444444444,
              "#bd3786"
             ],
             [
              0.5555555555555556,
              "#d8576b"
             ],
             [
              0.6666666666666666,
              "#ed7953"
             ],
             [
              0.7777777777777778,
              "#fb9f3a"
             ],
             [
              0.8888888888888888,
              "#fdca26"
             ],
             [
              1,
              "#f0f921"
             ]
            ],
            "type": "histogram2d"
           }
          ],
          "histogram2dcontour": [
           {
            "colorbar": {
             "outlinewidth": 0,
             "ticks": ""
            },
            "colorscale": [
             [
              0,
              "#0d0887"
             ],
             [
              0.1111111111111111,
              "#46039f"
             ],
             [
              0.2222222222222222,
              "#7201a8"
             ],
             [
              0.3333333333333333,
              "#9c179e"
             ],
             [
              0.4444444444444444,
              "#bd3786"
             ],
             [
              0.5555555555555556,
              "#d8576b"
             ],
             [
              0.6666666666666666,
              "#ed7953"
             ],
             [
              0.7777777777777778,
              "#fb9f3a"
             ],
             [
              0.8888888888888888,
              "#fdca26"
             ],
             [
              1,
              "#f0f921"
             ]
            ],
            "type": "histogram2dcontour"
           }
          ],
          "mesh3d": [
           {
            "colorbar": {
             "outlinewidth": 0,
             "ticks": ""
            },
            "type": "mesh3d"
           }
          ],
          "parcoords": [
           {
            "line": {
             "colorbar": {
              "outlinewidth": 0,
              "ticks": ""
             }
            },
            "type": "parcoords"
           }
          ],
          "pie": [
           {
            "automargin": true,
            "type": "pie"
           }
          ],
          "scatter": [
           {
            "fillpattern": {
             "fillmode": "overlay",
             "size": 10,
             "solidity": 0.2
            },
            "type": "scatter"
           }
          ],
          "scatter3d": [
           {
            "line": {
             "colorbar": {
              "outlinewidth": 0,
              "ticks": ""
             }
            },
            "marker": {
             "colorbar": {
              "outlinewidth": 0,
              "ticks": ""
             }
            },
            "type": "scatter3d"
           }
          ],
          "scattercarpet": [
           {
            "marker": {
             "colorbar": {
              "outlinewidth": 0,
              "ticks": ""
             }
            },
            "type": "scattercarpet"
           }
          ],
          "scattergeo": [
           {
            "marker": {
             "colorbar": {
              "outlinewidth": 0,
              "ticks": ""
             }
            },
            "type": "scattergeo"
           }
          ],
          "scattergl": [
           {
            "marker": {
             "colorbar": {
              "outlinewidth": 0,
              "ticks": ""
             }
            },
            "type": "scattergl"
           }
          ],
          "scattermapbox": [
           {
            "marker": {
             "colorbar": {
              "outlinewidth": 0,
              "ticks": ""
             }
            },
            "type": "scattermapbox"
           }
          ],
          "scatterpolar": [
           {
            "marker": {
             "colorbar": {
              "outlinewidth": 0,
              "ticks": ""
             }
            },
            "type": "scatterpolar"
           }
          ],
          "scatterpolargl": [
           {
            "marker": {
             "colorbar": {
              "outlinewidth": 0,
              "ticks": ""
             }
            },
            "type": "scatterpolargl"
           }
          ],
          "scatterternary": [
           {
            "marker": {
             "colorbar": {
              "outlinewidth": 0,
              "ticks": ""
             }
            },
            "type": "scatterternary"
           }
          ],
          "surface": [
           {
            "colorbar": {
             "outlinewidth": 0,
             "ticks": ""
            },
            "colorscale": [
             [
              0,
              "#0d0887"
             ],
             [
              0.1111111111111111,
              "#46039f"
             ],
             [
              0.2222222222222222,
              "#7201a8"
             ],
             [
              0.3333333333333333,
              "#9c179e"
             ],
             [
              0.4444444444444444,
              "#bd3786"
             ],
             [
              0.5555555555555556,
              "#d8576b"
             ],
             [
              0.6666666666666666,
              "#ed7953"
             ],
             [
              0.7777777777777778,
              "#fb9f3a"
             ],
             [
              0.8888888888888888,
              "#fdca26"
             ],
             [
              1,
              "#f0f921"
             ]
            ],
            "type": "surface"
           }
          ],
          "table": [
           {
            "cells": {
             "fill": {
              "color": "#EBF0F8"
             },
             "line": {
              "color": "white"
             }
            },
            "header": {
             "fill": {
              "color": "#C8D4E3"
             },
             "line": {
              "color": "white"
             }
            },
            "type": "table"
           }
          ]
         },
         "layout": {
          "annotationdefaults": {
           "arrowcolor": "#2a3f5f",
           "arrowhead": 0,
           "arrowwidth": 1
          },
          "autotypenumbers": "strict",
          "coloraxis": {
           "colorbar": {
            "outlinewidth": 0,
            "ticks": ""
           }
          },
          "colorscale": {
           "diverging": [
            [
             0,
             "#8e0152"
            ],
            [
             0.1,
             "#c51b7d"
            ],
            [
             0.2,
             "#de77ae"
            ],
            [
             0.3,
             "#f1b6da"
            ],
            [
             0.4,
             "#fde0ef"
            ],
            [
             0.5,
             "#f7f7f7"
            ],
            [
             0.6,
             "#e6f5d0"
            ],
            [
             0.7,
             "#b8e186"
            ],
            [
             0.8,
             "#7fbc41"
            ],
            [
             0.9,
             "#4d9221"
            ],
            [
             1,
             "#276419"
            ]
           ],
           "sequential": [
            [
             0,
             "#0d0887"
            ],
            [
             0.1111111111111111,
             "#46039f"
            ],
            [
             0.2222222222222222,
             "#7201a8"
            ],
            [
             0.3333333333333333,
             "#9c179e"
            ],
            [
             0.4444444444444444,
             "#bd3786"
            ],
            [
             0.5555555555555556,
             "#d8576b"
            ],
            [
             0.6666666666666666,
             "#ed7953"
            ],
            [
             0.7777777777777778,
             "#fb9f3a"
            ],
            [
             0.8888888888888888,
             "#fdca26"
            ],
            [
             1,
             "#f0f921"
            ]
           ],
           "sequentialminus": [
            [
             0,
             "#0d0887"
            ],
            [
             0.1111111111111111,
             "#46039f"
            ],
            [
             0.2222222222222222,
             "#7201a8"
            ],
            [
             0.3333333333333333,
             "#9c179e"
            ],
            [
             0.4444444444444444,
             "#bd3786"
            ],
            [
             0.5555555555555556,
             "#d8576b"
            ],
            [
             0.6666666666666666,
             "#ed7953"
            ],
            [
             0.7777777777777778,
             "#fb9f3a"
            ],
            [
             0.8888888888888888,
             "#fdca26"
            ],
            [
             1,
             "#f0f921"
            ]
           ]
          },
          "colorway": [
           "#636efa",
           "#EF553B",
           "#00cc96",
           "#ab63fa",
           "#FFA15A",
           "#19d3f3",
           "#FF6692",
           "#B6E880",
           "#FF97FF",
           "#FECB52"
          ],
          "font": {
           "color": "#2a3f5f"
          },
          "geo": {
           "bgcolor": "white",
           "lakecolor": "white",
           "landcolor": "#E5ECF6",
           "showlakes": true,
           "showland": true,
           "subunitcolor": "white"
          },
          "hoverlabel": {
           "align": "left"
          },
          "hovermode": "closest",
          "mapbox": {
           "style": "light"
          },
          "paper_bgcolor": "white",
          "plot_bgcolor": "#E5ECF6",
          "polar": {
           "angularaxis": {
            "gridcolor": "white",
            "linecolor": "white",
            "ticks": ""
           },
           "bgcolor": "#E5ECF6",
           "radialaxis": {
            "gridcolor": "white",
            "linecolor": "white",
            "ticks": ""
           }
          },
          "scene": {
           "xaxis": {
            "backgroundcolor": "#E5ECF6",
            "gridcolor": "white",
            "gridwidth": 2,
            "linecolor": "white",
            "showbackground": true,
            "ticks": "",
            "zerolinecolor": "white"
           },
           "yaxis": {
            "backgroundcolor": "#E5ECF6",
            "gridcolor": "white",
            "gridwidth": 2,
            "linecolor": "white",
            "showbackground": true,
            "ticks": "",
            "zerolinecolor": "white"
           },
           "zaxis": {
            "backgroundcolor": "#E5ECF6",
            "gridcolor": "white",
            "gridwidth": 2,
            "linecolor": "white",
            "showbackground": true,
            "ticks": "",
            "zerolinecolor": "white"
           }
          },
          "shapedefaults": {
           "line": {
            "color": "#2a3f5f"
           }
          },
          "ternary": {
           "aaxis": {
            "gridcolor": "white",
            "linecolor": "white",
            "ticks": ""
           },
           "baxis": {
            "gridcolor": "white",
            "linecolor": "white",
            "ticks": ""
           },
           "bgcolor": "#E5ECF6",
           "caxis": {
            "gridcolor": "white",
            "linecolor": "white",
            "ticks": ""
           }
          },
          "title": {
           "x": 0.05
          },
          "xaxis": {
           "automargin": true,
           "gridcolor": "white",
           "linecolor": "white",
           "ticks": "",
           "title": {
            "standoff": 15
           },
           "zerolinecolor": "white",
           "zerolinewidth": 2
          },
          "yaxis": {
           "automargin": true,
           "gridcolor": "white",
           "linecolor": "white",
           "ticks": "",
           "title": {
            "standoff": 15
           },
           "zerolinecolor": "white",
           "zerolinewidth": 2
          }
         }
        },
        "xaxis": {
         "anchor": "y",
         "domain": [
          0,
          1
         ],
         "title": {
          "text": "parsed"
         }
        },
        "yaxis": {
         "anchor": "x",
         "domain": [
          0,
          1
         ],
         "title": {
          "text": "Percentage"
         }
        }
       }
      },
      "text/html": [
       "<div>                            <div id=\"4a553ef7-ec6c-4ffb-931b-e2cace51ed94\" class=\"plotly-graph-div\" style=\"height:525px; width:100%;\"></div>            <script type=\"text/javascript\">                require([\"plotly\"], function(Plotly) {                    window.PLOTLYENV=window.PLOTLYENV || {};                                    if (document.getElementById(\"4a553ef7-ec6c-4ffb-931b-e2cace51ed94\")) {                    Plotly.newPlot(                        \"4a553ef7-ec6c-4ffb-931b-e2cace51ed94\",                        [{\"alignmentgroup\":\"True\",\"hovertemplate\":\"parsed=%{x}\\u003cbr\\u003ePercentage=%{y}\\u003cbr\\u003eAge=%{marker.color}\\u003cextra\\u003e\\u003c\\u002fextra\\u003e\",\"legendgroup\":\"\",\"marker\":{\"color\":[22,22,22,22,22,22,22,22,22,22,22,22,22,22,22,22,22,22,22,22,22,22,22,22,22,22,22,22,22,23,23,23,23,23,23,23,23,23,23,23,23,23,23,23,23,23,23,23,23,23,23,23,23,23,23,23,23,24,24,24,24,24,24,24,24,24,24,24,24,24,24,24,24,24,24,24,24,24,24,25,25,25,25,25,25,25,25,25,25,25,25,25,25,25,25,25,25,25,25,25,25,27,27,27,27,27,27,27,27,27,27,27,27,27,27,27,27,27,27,27,27,27,29,29,29,29,29,29,29,29,29,29,29,29,29,29,29,29,29,29,29,29,30,30,30,30,30,30,30,30,30,30,30,30,30,30,30,30,30,30,30,30,30,30,30,31,31,31,31,31,31,31,31,31,31,31,31,31,31,31,31,31,31,31,32,32,32,32,32,32,32,32,32,32,32,32,32,32,32,32,32,32,32,36,36,36,36,36,36,36,36,36,36,36,36,36,36,36,36,36,36,36,36,36,36,36,36,36,36,36,36,40,40,40,40,40,40,40,40,40,40,40,40,40,40,40,40,40,40,40,40,40,40,40,40],\"coloraxis\":\"coloraxis\",\"pattern\":{\"shape\":\"\"}},\"name\":\"\",\"offsetgroup\":\"\",\"orientation\":\"v\",\"showlegend\":false,\"textposition\":\"auto\",\"x\":[\"aggressive\",\"ambitious\",\"angry\",\"arrogant\",\"boastful\",\"bossy\",\"complaining\",\"conventional\",\"cool\",\"emotional\",\"energetic\",\"happy-go-lucky\",\"imitative\",\"independent\",\"lazy\",\"loud\",\"musical\",\"naive\",\"noisy\",\"outgoing\",\"outspoken\",\"passionate\",\"quarrelsome\",\"rebellious\",\"rude\",\"sensitive\",\"strong\",\"stubborn\",\"talkative\",\"aggressive\",\"alert\",\"ambitious\",\"angry\",\"artistic\",\"athletic\",\"boastful\",\"competitive\",\"complaining\",\"emotional\",\"energetic\",\"happy-go-lucky\",\"independent\",\"individualistic\",\"intelligent\",\"loud\",\"musical\",\"noisy\",\"outgoing\",\"outspoken\",\"passionate\",\"proud\",\"rude\",\"sensitive\",\"straightforward\",\"strong\",\"stubborn\",\"talkative\",\"aggressive\",\"ambitious\",\"angry\",\"artistic\",\"boastful\",\"competitive\",\"complaining\",\"cool\",\"emotional\",\"energetic\",\"happy-go-lucky\",\"lazy\",\"loud\",\"musical\",\"noisy\",\"outgoing\",\"outspoken\",\"passionate\",\"rude\",\"sensitive\",\"strong\",\"talkative\",\"aggressive\",\"ambitious\",\"angry\",\"artistic\",\"boastful\",\"bossy\",\"competitive\",\"complaining\",\"cool\",\"emotional\",\"happy-go-lucky\",\"intelligent\",\"loud\",\"musical\",\"noisy\",\"outgoing\",\"outspoken\",\"passionate\",\"sensitive\",\"strong\",\"stubborn\",\"talkative\",\"aggressive\",\"angry\",\"arrogant\",\"athletic\",\"boastful\",\"competitive\",\"complaining\",\"emotional\",\"energetic\",\"happy-go-lucky\",\"loud\",\"musical\",\"noisy\",\"outgoing\",\"outspoken\",\"passionate\",\"sensitive\",\"straightforward\",\"strong\",\"stubborn\",\"talkative\",\"aggressive\",\"ambitious\",\"angry\",\"boastful\",\"competitive\",\"cool\",\"emotional\",\"intelligent\",\"lazy\",\"loud\",\"musical\",\"opinionated\",\"outgoing\",\"outspoken\",\"passionate\",\"rebellious\",\"sensitive\",\"stubborn\",\"talkative\",\"tough\",\"aggressive\",\"ambitious\",\"angry\",\"artistic\",\"athletic\",\"boastful\",\"competitive\",\"complaining\",\"cool\",\"emotional\",\"energetic\",\"intelligent\",\"lazy\",\"loud\",\"musical\",\"noisy\",\"outgoing\",\"outspoken\",\"passionate\",\"sensitive\",\"strong\",\"stubborn\",\"talkative\",\"aggressive\",\"angry\",\"arrogant\",\"boastful\",\"bossy\",\"competitive\",\"complaining\",\"cool\",\"emotional\",\"happy-go-lucky\",\"loud\",\"musical\",\"outgoing\",\"outspoken\",\"passionate\",\"rude\",\"strong\",\"stubborn\",\"talkative\",\"ambitious\",\"artistic\",\"boastful\",\"competitive\",\"complaining\",\"cool\",\"emotional\",\"happy-go-lucky\",\"intelligent\",\"lazy\",\"loud\",\"noisy\",\"outgoing\",\"outspoken\",\"passionate\",\"sensitive\",\"straightforward\",\"strong\",\"talkative\",\"aggressive\",\"artistic\",\"athletic\",\"boastful\",\"bossy\",\"competitive\",\"complaining\",\"conventional\",\"cool\",\"emotional\",\"extremely nationalistic\",\"happy-go-lucky\",\"ignorant\",\"imitative\",\"independent\",\"individualistic\",\"loud\",\"musical\",\"noisy\",\"opinionated\",\"outgoing\",\"outspoken\",\"rebellious\",\"sensitive\",\"strong\",\"stubborn\",\"talkative\",\"very religious\",\"aggressive\",\"angry\",\"arrogant\",\"artistic\",\"boastful\",\"competitive\",\"complaining\",\"cool\",\"emotional\",\"energetic\",\"happy-go-lucky\",\"intelligent\",\"loud\",\"musical\",\"noisy\",\"opinionated\",\"outgoing\",\"outspoken\",\"passionate\",\"sensitive\",\"straightforward\",\"strong\",\"stubborn\",\"talkative\"],\"xaxis\":\"x\",\"y\":[4.651162790697675,1.1627906976744187,2.3255813953488373,1.1627906976744187,5.813953488372093,1.1627906976744187,4.651162790697675,1.1627906976744187,1.1627906976744187,8.13953488372093,1.1627906976744187,1.1627906976744187,1.1627906976744187,1.1627906976744187,2.3255813953488373,10.465116279069768,1.1627906976744187,1.1627906976744187,2.3255813953488373,6.976744186046512,5.813953488372093,6.976744186046512,1.1627906976744187,1.1627906976744187,1.1627906976744187,3.488372093023256,1.1627906976744187,5.813953488372093,12.790697674418606,4.25531914893617,1.4184397163120568,1.4184397163120568,1.4184397163120568,2.127659574468085,2.127659574468085,5.673758865248227,6.382978723404255,4.964539007092199,5.673758865248227,1.4184397163120568,1.4184397163120568,1.4184397163120568,1.4184397163120568,2.127659574468085,4.25531914893617,2.8368794326241136,2.127659574468085,6.382978723404255,11.347517730496454,2.127659574468085,1.4184397163120568,1.4184397163120568,3.546099290780142,2.8368794326241136,3.546099290780142,1.4184397163120568,7.092198581560284,4.11522633744856,1.646090534979424,4.526748971193416,2.4691358024691357,7.4074074074074066,2.05761316872428,4.526748971193416,5.349794238683128,6.172839506172839,1.646090534979424,1.646090534979424,1.2345679012345678,5.761316872427984,2.880658436213992,2.880658436213992,9.876543209876543,5.761316872427984,3.292181069958848,1.646090534979424,1.646090534979424,2.880658436213992,8.23045267489712,4.10958904109589,1.36986301369863,1.36986301369863,2.73972602739726,4.10958904109589,1.36986301369863,2.054794520547945,3.4246575342465753,1.36986301369863,6.8493150684931505,4.10958904109589,2.054794520547945,6.164383561643835,2.73972602739726,2.054794520547945,8.904109589041095,9.58904109589041,5.47945205479452,2.054794520547945,4.10958904109589,3.4246575342465753,16.43835616438356,5.205479452054795,6.301369863013699,1.36986301369863,2.73972602739726,6.027397260273973,4.383561643835616,2.4657534246575343,4.10958904109589,1.095890410958904,2.73972602739726,7.123287671232877,3.5616438356164384,1.095890410958904,7.123287671232877,10.95890410958904,1.36986301369863,2.191780821917808,1.095890410958904,4.657534246575342,3.287671232876712,9.863013698630137,6.896551724137931,1.7241379310344827,2.586206896551724,10.344827586206897,2.586206896551724,3.4482758620689653,7.758620689655173,2.586206896551724,4.310344827586207,3.4482758620689653,2.586206896551724,1.7241379310344827,7.758620689655173,7.758620689655173,4.310344827586207,1.7241379310344827,2.586206896551724,6.0344827586206895,7.758620689655173,2.586206896551724,3.4682080924855487,2.8901734104046244,4.046242774566474,1.1560693641618496,1.1560693641618496,6.9364161849710975,1.7341040462427744,3.4682080924855487,2.312138728323699,2.312138728323699,1.1560693641618496,4.624277456647398,1.1560693641618496,10.982658959537572,8.092485549132949,1.7341040462427744,5.780346820809249,8.092485549132949,5.202312138728324,1.7341040462427744,5.202312138728324,2.312138728323699,6.9364161849710975,10.508474576271185,4.067796610169491,5.084745762711865,9.491525423728813,2.3728813559322033,1.694915254237288,2.3728813559322033,2.0338983050847457,4.067796610169491,1.0169491525423728,9.830508474576272,1.694915254237288,5.423728813559322,11.186440677966102,2.711864406779661,2.0338983050847457,3.728813559322034,1.694915254237288,8.135593220338983,1.9230769230769231,3.8461538461538463,2.8846153846153846,2.8846153846153846,1.9230769230769231,1.9230769230769231,3.8461538461538463,8.653846153846153,2.8846153846153846,1.9230769230769231,7.6923076923076925,3.8461538461538463,8.653846153846153,7.6923076923076925,4.807692307692308,5.769230769230769,1.9230769230769231,1.9230769230769231,11.538461538461538,4.819277108433735,1.2048192771084338,2.4096385542168677,3.614457831325301,3.614457831325301,4.819277108433735,8.433734939759036,1.2048192771084338,3.614457831325301,7.228915662650602,1.2048192771084338,1.2048192771084338,1.2048192771084338,1.2048192771084338,4.819277108433735,1.2048192771084338,4.819277108433735,2.4096385542168677,1.2048192771084338,1.2048192771084338,7.228915662650602,9.63855421686747,1.2048192771084338,2.4096385542168677,2.4096385542168677,2.4096385542168677,12.048192771084338,1.2048192771084338,5.263157894736842,2.2556390977443606,1.5037593984962405,3.007518796992481,9.022556390977442,3.007518796992481,1.5037593984962405,1.5037593984962405,6.7669172932330826,2.2556390977443606,2.2556390977443606,2.2556390977443606,6.7669172932330826,3.007518796992481,2.2556390977443606,3.007518796992481,3.7593984962406015,9.774436090225564,3.7593984962406015,3.007518796992481,1.5037593984962405,1.5037593984962405,4.511278195488721,9.022556390977442],\"yaxis\":\"y\",\"type\":\"bar\"}],                        {\"template\":{\"data\":{\"histogram2dcontour\":[{\"type\":\"histogram2dcontour\",\"colorbar\":{\"outlinewidth\":0,\"ticks\":\"\"},\"colorscale\":[[0.0,\"#0d0887\"],[0.1111111111111111,\"#46039f\"],[0.2222222222222222,\"#7201a8\"],[0.3333333333333333,\"#9c179e\"],[0.4444444444444444,\"#bd3786\"],[0.5555555555555556,\"#d8576b\"],[0.6666666666666666,\"#ed7953\"],[0.7777777777777778,\"#fb9f3a\"],[0.8888888888888888,\"#fdca26\"],[1.0,\"#f0f921\"]]}],\"choropleth\":[{\"type\":\"choropleth\",\"colorbar\":{\"outlinewidth\":0,\"ticks\":\"\"}}],\"histogram2d\":[{\"type\":\"histogram2d\",\"colorbar\":{\"outlinewidth\":0,\"ticks\":\"\"},\"colorscale\":[[0.0,\"#0d0887\"],[0.1111111111111111,\"#46039f\"],[0.2222222222222222,\"#7201a8\"],[0.3333333333333333,\"#9c179e\"],[0.4444444444444444,\"#bd3786\"],[0.5555555555555556,\"#d8576b\"],[0.6666666666666666,\"#ed7953\"],[0.7777777777777778,\"#fb9f3a\"],[0.8888888888888888,\"#fdca26\"],[1.0,\"#f0f921\"]]}],\"heatmap\":[{\"type\":\"heatmap\",\"colorbar\":{\"outlinewidth\":0,\"ticks\":\"\"},\"colorscale\":[[0.0,\"#0d0887\"],[0.1111111111111111,\"#46039f\"],[0.2222222222222222,\"#7201a8\"],[0.3333333333333333,\"#9c179e\"],[0.4444444444444444,\"#bd3786\"],[0.5555555555555556,\"#d8576b\"],[0.6666666666666666,\"#ed7953\"],[0.7777777777777778,\"#fb9f3a\"],[0.8888888888888888,\"#fdca26\"],[1.0,\"#f0f921\"]]}],\"heatmapgl\":[{\"type\":\"heatmapgl\",\"colorbar\":{\"outlinewidth\":0,\"ticks\":\"\"},\"colorscale\":[[0.0,\"#0d0887\"],[0.1111111111111111,\"#46039f\"],[0.2222222222222222,\"#7201a8\"],[0.3333333333333333,\"#9c179e\"],[0.4444444444444444,\"#bd3786\"],[0.5555555555555556,\"#d8576b\"],[0.6666666666666666,\"#ed7953\"],[0.7777777777777778,\"#fb9f3a\"],[0.8888888888888888,\"#fdca26\"],[1.0,\"#f0f921\"]]}],\"contourcarpet\":[{\"type\":\"contourcarpet\",\"colorbar\":{\"outlinewidth\":0,\"ticks\":\"\"}}],\"contour\":[{\"type\":\"contour\",\"colorbar\":{\"outlinewidth\":0,\"ticks\":\"\"},\"colorscale\":[[0.0,\"#0d0887\"],[0.1111111111111111,\"#46039f\"],[0.2222222222222222,\"#7201a8\"],[0.3333333333333333,\"#9c179e\"],[0.4444444444444444,\"#bd3786\"],[0.5555555555555556,\"#d8576b\"],[0.6666666666666666,\"#ed7953\"],[0.7777777777777778,\"#fb9f3a\"],[0.8888888888888888,\"#fdca26\"],[1.0,\"#f0f921\"]]}],\"surface\":[{\"type\":\"surface\",\"colorbar\":{\"outlinewidth\":0,\"ticks\":\"\"},\"colorscale\":[[0.0,\"#0d0887\"],[0.1111111111111111,\"#46039f\"],[0.2222222222222222,\"#7201a8\"],[0.3333333333333333,\"#9c179e\"],[0.4444444444444444,\"#bd3786\"],[0.5555555555555556,\"#d8576b\"],[0.6666666666666666,\"#ed7953\"],[0.7777777777777778,\"#fb9f3a\"],[0.8888888888888888,\"#fdca26\"],[1.0,\"#f0f921\"]]}],\"mesh3d\":[{\"type\":\"mesh3d\",\"colorbar\":{\"outlinewidth\":0,\"ticks\":\"\"}}],\"scatter\":[{\"fillpattern\":{\"fillmode\":\"overlay\",\"size\":10,\"solidity\":0.2},\"type\":\"scatter\"}],\"parcoords\":[{\"type\":\"parcoords\",\"line\":{\"colorbar\":{\"outlinewidth\":0,\"ticks\":\"\"}}}],\"scatterpolargl\":[{\"type\":\"scatterpolargl\",\"marker\":{\"colorbar\":{\"outlinewidth\":0,\"ticks\":\"\"}}}],\"bar\":[{\"error_x\":{\"color\":\"#2a3f5f\"},\"error_y\":{\"color\":\"#2a3f5f\"},\"marker\":{\"line\":{\"color\":\"#E5ECF6\",\"width\":0.5},\"pattern\":{\"fillmode\":\"overlay\",\"size\":10,\"solidity\":0.2}},\"type\":\"bar\"}],\"scattergeo\":[{\"type\":\"scattergeo\",\"marker\":{\"colorbar\":{\"outlinewidth\":0,\"ticks\":\"\"}}}],\"scatterpolar\":[{\"type\":\"scatterpolar\",\"marker\":{\"colorbar\":{\"outlinewidth\":0,\"ticks\":\"\"}}}],\"histogram\":[{\"marker\":{\"pattern\":{\"fillmode\":\"overlay\",\"size\":10,\"solidity\":0.2}},\"type\":\"histogram\"}],\"scattergl\":[{\"type\":\"scattergl\",\"marker\":{\"colorbar\":{\"outlinewidth\":0,\"ticks\":\"\"}}}],\"scatter3d\":[{\"type\":\"scatter3d\",\"line\":{\"colorbar\":{\"outlinewidth\":0,\"ticks\":\"\"}},\"marker\":{\"colorbar\":{\"outlinewidth\":0,\"ticks\":\"\"}}}],\"scattermapbox\":[{\"type\":\"scattermapbox\",\"marker\":{\"colorbar\":{\"outlinewidth\":0,\"ticks\":\"\"}}}],\"scatterternary\":[{\"type\":\"scatterternary\",\"marker\":{\"colorbar\":{\"outlinewidth\":0,\"ticks\":\"\"}}}],\"scattercarpet\":[{\"type\":\"scattercarpet\",\"marker\":{\"colorbar\":{\"outlinewidth\":0,\"ticks\":\"\"}}}],\"carpet\":[{\"aaxis\":{\"endlinecolor\":\"#2a3f5f\",\"gridcolor\":\"white\",\"linecolor\":\"white\",\"minorgridcolor\":\"white\",\"startlinecolor\":\"#2a3f5f\"},\"baxis\":{\"endlinecolor\":\"#2a3f5f\",\"gridcolor\":\"white\",\"linecolor\":\"white\",\"minorgridcolor\":\"white\",\"startlinecolor\":\"#2a3f5f\"},\"type\":\"carpet\"}],\"table\":[{\"cells\":{\"fill\":{\"color\":\"#EBF0F8\"},\"line\":{\"color\":\"white\"}},\"header\":{\"fill\":{\"color\":\"#C8D4E3\"},\"line\":{\"color\":\"white\"}},\"type\":\"table\"}],\"barpolar\":[{\"marker\":{\"line\":{\"color\":\"#E5ECF6\",\"width\":0.5},\"pattern\":{\"fillmode\":\"overlay\",\"size\":10,\"solidity\":0.2}},\"type\":\"barpolar\"}],\"pie\":[{\"automargin\":true,\"type\":\"pie\"}]},\"layout\":{\"autotypenumbers\":\"strict\",\"colorway\":[\"#636efa\",\"#EF553B\",\"#00cc96\",\"#ab63fa\",\"#FFA15A\",\"#19d3f3\",\"#FF6692\",\"#B6E880\",\"#FF97FF\",\"#FECB52\"],\"font\":{\"color\":\"#2a3f5f\"},\"hovermode\":\"closest\",\"hoverlabel\":{\"align\":\"left\"},\"paper_bgcolor\":\"white\",\"plot_bgcolor\":\"#E5ECF6\",\"polar\":{\"bgcolor\":\"#E5ECF6\",\"angularaxis\":{\"gridcolor\":\"white\",\"linecolor\":\"white\",\"ticks\":\"\"},\"radialaxis\":{\"gridcolor\":\"white\",\"linecolor\":\"white\",\"ticks\":\"\"}},\"ternary\":{\"bgcolor\":\"#E5ECF6\",\"aaxis\":{\"gridcolor\":\"white\",\"linecolor\":\"white\",\"ticks\":\"\"},\"baxis\":{\"gridcolor\":\"white\",\"linecolor\":\"white\",\"ticks\":\"\"},\"caxis\":{\"gridcolor\":\"white\",\"linecolor\":\"white\",\"ticks\":\"\"}},\"coloraxis\":{\"colorbar\":{\"outlinewidth\":0,\"ticks\":\"\"}},\"colorscale\":{\"sequential\":[[0.0,\"#0d0887\"],[0.1111111111111111,\"#46039f\"],[0.2222222222222222,\"#7201a8\"],[0.3333333333333333,\"#9c179e\"],[0.4444444444444444,\"#bd3786\"],[0.5555555555555556,\"#d8576b\"],[0.6666666666666666,\"#ed7953\"],[0.7777777777777778,\"#fb9f3a\"],[0.8888888888888888,\"#fdca26\"],[1.0,\"#f0f921\"]],\"sequentialminus\":[[0.0,\"#0d0887\"],[0.1111111111111111,\"#46039f\"],[0.2222222222222222,\"#7201a8\"],[0.3333333333333333,\"#9c179e\"],[0.4444444444444444,\"#bd3786\"],[0.5555555555555556,\"#d8576b\"],[0.6666666666666666,\"#ed7953\"],[0.7777777777777778,\"#fb9f3a\"],[0.8888888888888888,\"#fdca26\"],[1.0,\"#f0f921\"]],\"diverging\":[[0,\"#8e0152\"],[0.1,\"#c51b7d\"],[0.2,\"#de77ae\"],[0.3,\"#f1b6da\"],[0.4,\"#fde0ef\"],[0.5,\"#f7f7f7\"],[0.6,\"#e6f5d0\"],[0.7,\"#b8e186\"],[0.8,\"#7fbc41\"],[0.9,\"#4d9221\"],[1,\"#276419\"]]},\"xaxis\":{\"gridcolor\":\"white\",\"linecolor\":\"white\",\"ticks\":\"\",\"title\":{\"standoff\":15},\"zerolinecolor\":\"white\",\"automargin\":true,\"zerolinewidth\":2},\"yaxis\":{\"gridcolor\":\"white\",\"linecolor\":\"white\",\"ticks\":\"\",\"title\":{\"standoff\":15},\"zerolinecolor\":\"white\",\"automargin\":true,\"zerolinewidth\":2},\"scene\":{\"xaxis\":{\"backgroundcolor\":\"#E5ECF6\",\"gridcolor\":\"white\",\"linecolor\":\"white\",\"showbackground\":true,\"ticks\":\"\",\"zerolinecolor\":\"white\",\"gridwidth\":2},\"yaxis\":{\"backgroundcolor\":\"#E5ECF6\",\"gridcolor\":\"white\",\"linecolor\":\"white\",\"showbackground\":true,\"ticks\":\"\",\"zerolinecolor\":\"white\",\"gridwidth\":2},\"zaxis\":{\"backgroundcolor\":\"#E5ECF6\",\"gridcolor\":\"white\",\"linecolor\":\"white\",\"showbackground\":true,\"ticks\":\"\",\"zerolinecolor\":\"white\",\"gridwidth\":2}},\"shapedefaults\":{\"line\":{\"color\":\"#2a3f5f\"}},\"annotationdefaults\":{\"arrowcolor\":\"#2a3f5f\",\"arrowhead\":0,\"arrowwidth\":1},\"geo\":{\"bgcolor\":\"white\",\"landcolor\":\"#E5ECF6\",\"subunitcolor\":\"white\",\"showland\":true,\"showlakes\":true,\"lakecolor\":\"white\"},\"title\":{\"x\":0.05},\"mapbox\":{\"style\":\"light\"}}},\"xaxis\":{\"anchor\":\"y\",\"domain\":[0.0,1.0],\"title\":{\"text\":\"parsed\"}},\"yaxis\":{\"anchor\":\"x\",\"domain\":[0.0,1.0],\"title\":{\"text\":\"Percentage\"}},\"coloraxis\":{\"colorbar\":{\"title\":{\"text\":\"Age\"}},\"colorscale\":[[0.0,\"#0d0887\"],[0.1111111111111111,\"#46039f\"],[0.2222222222222222,\"#7201a8\"],[0.3333333333333333,\"#9c179e\"],[0.4444444444444444,\"#bd3786\"],[0.5555555555555556,\"#d8576b\"],[0.6666666666666666,\"#ed7953\"],[0.7777777777777778,\"#fb9f3a\"],[0.8888888888888888,\"#fdca26\"],[1.0,\"#f0f921\"]]},\"legend\":{\"tracegroupgap\":0},\"margin\":{\"t\":60},\"barmode\":\"group\"},                        {\"responsive\": true}                    ).then(function(){\n",
       "                            \n",
       "var gd = document.getElementById('4a553ef7-ec6c-4ffb-931b-e2cace51ed94');\n",
       "var x = new MutationObserver(function (mutations, observer) {{\n",
       "        var display = window.getComputedStyle(gd).display;\n",
       "        if (!display || display === 'none') {{\n",
       "            console.log([gd, 'removed!']);\n",
       "            Plotly.purge(gd);\n",
       "            observer.disconnect();\n",
       "        }}\n",
       "}});\n",
       "\n",
       "// Listen for the removal of the full notebook cells\n",
       "var notebookContainer = gd.closest('#notebook-container');\n",
       "if (notebookContainer) {{\n",
       "    x.observe(notebookContainer, {childList: true});\n",
       "}}\n",
       "\n",
       "// Listen for the clearing of the current output cell\n",
       "var outputEl = gd.closest('.output');\n",
       "if (outputEl) {{\n",
       "    x.observe(outputEl, {childList: true});\n",
       "}}\n",
       "\n",
       "                        })                };                });            </script>        </div>"
      ]
     },
     "metadata": {},
     "output_type": "display_data"
    }
   ],
   "source": [
    "subset = df[['Spkr', 'segment', 'Age', 'Gender', 'Education', 'Occupation', 'Edu.Group', 'Age.Group', \n",
    "       'model_response_adjective_princeton_MERaLiON-AudioLLM-Whisper-SEA-LION',\n",
    "       'model_prompt_adjective_princeton_MERaLiON-AudioLLM-Whisper-SEA-LION']].copy()\n",
    "\n",
    "\n",
    "subset['parsed'] = subset.apply(lambda row: parse_adjectives(row, 'model_response_adjective_princeton_MERaLiON-AudioLLM-Whisper-SEA-LION', ADJECTIVES_PRINCETON['english']), axis=1)\n",
    "\n",
    "df_exploded = subset.explode('parsed')\n",
    "result = df_exploded.groupby(['Age', 'parsed']).size().reset_index(name='count')\n",
    "\n",
    "\n",
    "result['Total'] = result.groupby('Age')['count'].transform('sum')\n",
    "result['Percentage'] = result['count'] / result['Total'] * 100\n",
    "\n",
    "result = result[result['Percentage']>1]\n",
    "\n",
    "# Create a grouped bar plot\n",
    "fig = px.bar(\n",
    "    result,\n",
    "    x='parsed',\n",
    "    y='Percentage',\n",
    "    color='Age',    # Different colors for each group\n",
    "    barmode='group',  # Place bars side-by-side rather than stacking them\n",
    ")\n",
    "fig.show()"
   ]
  },
  {
   "cell_type": "markdown",
   "metadata": {},
   "source": [
    "## Adjectives Arousal"
   ]
  },
  {
   "cell_type": "markdown",
   "metadata": {},
   "source": [
    "### Qwen2"
   ]
  },
  {
   "cell_type": "code",
   "execution_count": 38,
   "metadata": {},
   "outputs": [
    {
     "data": {
      "application/vnd.plotly.v1+json": {
       "config": {
        "plotlyServerURL": "https://plot.ly"
       },
       "data": [
        {
         "alignmentgroup": "True",
         "hovertemplate": "Gender=Female<br>parsed=%{x}<br>Percentage=%{y}<extra></extra>",
         "legendgroup": "Female",
         "marker": {
          "color": "#636efa",
          "pattern": {
           "shape": ""
          }
         },
         "name": "Female",
         "offsetgroup": "Female",
         "orientation": "v",
         "showlegend": true,
         "textposition": "auto",
         "type": "bar",
         "x": [
          "bland",
          "calm",
          "comfortable",
          "conservative",
          "dismissive",
          "dramatic",
          "dull",
          "erotic",
          "excite",
          "exciting",
          "intense",
          "irritable",
          "low",
          "molest",
          "normal",
          "perky",
          "rebellious",
          "seductive",
          "sensual",
          "stale",
          "stunning",
          "thoughtful",
          "tiresome",
          "undisturbed",
          "venomous"
         ],
         "xaxis": "x",
         "y": [
          1.5228426395939088,
          1.5228426395939088,
          1.2690355329949239,
          1.015228426395939,
          1.015228426395939,
          3.5532994923857872,
          2.5380710659898478,
          12.944162436548224,
          11.16751269035533,
          2.5380710659898478,
          4.822335025380711,
          4.822335025380711,
          3.807106598984772,
          1.5228426395939088,
          1.7766497461928936,
          1.2690355329949239,
          1.7766497461928936,
          8.121827411167512,
          4.822335025380711,
          1.5228426395939088,
          3.5532994923857872,
          3.2994923857868024,
          2.7918781725888326,
          1.5228426395939088,
          2.030456852791878
         ],
         "yaxis": "y"
        },
        {
         "alignmentgroup": "True",
         "hovertemplate": "Gender=Male<br>parsed=%{x}<br>Percentage=%{y}<extra></extra>",
         "legendgroup": "Male",
         "marker": {
          "color": "#EF553B",
          "pattern": {
           "shape": ""
          }
         },
         "name": "Male",
         "offsetgroup": "Male",
         "orientation": "v",
         "showlegend": true,
         "textposition": "auto",
         "type": "bar",
         "x": [
          "arsonist",
          "destructive",
          "dramatic",
          "dull",
          "erotic",
          "excite",
          "exciting",
          "intense",
          "irritable",
          "low",
          "molest",
          "perky",
          "rebellious",
          "seductive",
          "sensual",
          "stunning",
          "thoughtful",
          "tiresome",
          "undisturbed",
          "venomous"
         ],
         "xaxis": "x",
         "y": [
          1.1639185257032008,
          1.7458777885548011,
          4.75266731328807,
          3.0067895247332688,
          7.953443258971872,
          15.42192046556741,
          5.140640155189137,
          6.401551891367604,
          5.722599418040737,
          5.625606207565471,
          1.2609117361784674,
          1.066925315227934,
          2.8128031037827355,
          6.595538312318137,
          4.655674102812803,
          1.1639185257032008,
          1.7458777885548011,
          1.3579049466537343,
          1.842870999030068,
          2.424830261881668
         ],
         "yaxis": "y"
        }
       ],
       "layout": {
        "barmode": "group",
        "legend": {
         "title": {
          "text": "Gender"
         },
         "tracegroupgap": 0
        },
        "margin": {
         "t": 60
        },
        "template": {
         "data": {
          "bar": [
           {
            "error_x": {
             "color": "#2a3f5f"
            },
            "error_y": {
             "color": "#2a3f5f"
            },
            "marker": {
             "line": {
              "color": "#E5ECF6",
              "width": 0.5
             },
             "pattern": {
              "fillmode": "overlay",
              "size": 10,
              "solidity": 0.2
             }
            },
            "type": "bar"
           }
          ],
          "barpolar": [
           {
            "marker": {
             "line": {
              "color": "#E5ECF6",
              "width": 0.5
             },
             "pattern": {
              "fillmode": "overlay",
              "size": 10,
              "solidity": 0.2
             }
            },
            "type": "barpolar"
           }
          ],
          "carpet": [
           {
            "aaxis": {
             "endlinecolor": "#2a3f5f",
             "gridcolor": "white",
             "linecolor": "white",
             "minorgridcolor": "white",
             "startlinecolor": "#2a3f5f"
            },
            "baxis": {
             "endlinecolor": "#2a3f5f",
             "gridcolor": "white",
             "linecolor": "white",
             "minorgridcolor": "white",
             "startlinecolor": "#2a3f5f"
            },
            "type": "carpet"
           }
          ],
          "choropleth": [
           {
            "colorbar": {
             "outlinewidth": 0,
             "ticks": ""
            },
            "type": "choropleth"
           }
          ],
          "contour": [
           {
            "colorbar": {
             "outlinewidth": 0,
             "ticks": ""
            },
            "colorscale": [
             [
              0,
              "#0d0887"
             ],
             [
              0.1111111111111111,
              "#46039f"
             ],
             [
              0.2222222222222222,
              "#7201a8"
             ],
             [
              0.3333333333333333,
              "#9c179e"
             ],
             [
              0.4444444444444444,
              "#bd3786"
             ],
             [
              0.5555555555555556,
              "#d8576b"
             ],
             [
              0.6666666666666666,
              "#ed7953"
             ],
             [
              0.7777777777777778,
              "#fb9f3a"
             ],
             [
              0.8888888888888888,
              "#fdca26"
             ],
             [
              1,
              "#f0f921"
             ]
            ],
            "type": "contour"
           }
          ],
          "contourcarpet": [
           {
            "colorbar": {
             "outlinewidth": 0,
             "ticks": ""
            },
            "type": "contourcarpet"
           }
          ],
          "heatmap": [
           {
            "colorbar": {
             "outlinewidth": 0,
             "ticks": ""
            },
            "colorscale": [
             [
              0,
              "#0d0887"
             ],
             [
              0.1111111111111111,
              "#46039f"
             ],
             [
              0.2222222222222222,
              "#7201a8"
             ],
             [
              0.3333333333333333,
              "#9c179e"
             ],
             [
              0.4444444444444444,
              "#bd3786"
             ],
             [
              0.5555555555555556,
              "#d8576b"
             ],
             [
              0.6666666666666666,
              "#ed7953"
             ],
             [
              0.7777777777777778,
              "#fb9f3a"
             ],
             [
              0.8888888888888888,
              "#fdca26"
             ],
             [
              1,
              "#f0f921"
             ]
            ],
            "type": "heatmap"
           }
          ],
          "heatmapgl": [
           {
            "colorbar": {
             "outlinewidth": 0,
             "ticks": ""
            },
            "colorscale": [
             [
              0,
              "#0d0887"
             ],
             [
              0.1111111111111111,
              "#46039f"
             ],
             [
              0.2222222222222222,
              "#7201a8"
             ],
             [
              0.3333333333333333,
              "#9c179e"
             ],
             [
              0.4444444444444444,
              "#bd3786"
             ],
             [
              0.5555555555555556,
              "#d8576b"
             ],
             [
              0.6666666666666666,
              "#ed7953"
             ],
             [
              0.7777777777777778,
              "#fb9f3a"
             ],
             [
              0.8888888888888888,
              "#fdca26"
             ],
             [
              1,
              "#f0f921"
             ]
            ],
            "type": "heatmapgl"
           }
          ],
          "histogram": [
           {
            "marker": {
             "pattern": {
              "fillmode": "overlay",
              "size": 10,
              "solidity": 0.2
             }
            },
            "type": "histogram"
           }
          ],
          "histogram2d": [
           {
            "colorbar": {
             "outlinewidth": 0,
             "ticks": ""
            },
            "colorscale": [
             [
              0,
              "#0d0887"
             ],
             [
              0.1111111111111111,
              "#46039f"
             ],
             [
              0.2222222222222222,
              "#7201a8"
             ],
             [
              0.3333333333333333,
              "#9c179e"
             ],
             [
              0.4444444444444444,
              "#bd3786"
             ],
             [
              0.5555555555555556,
              "#d8576b"
             ],
             [
              0.6666666666666666,
              "#ed7953"
             ],
             [
              0.7777777777777778,
              "#fb9f3a"
             ],
             [
              0.8888888888888888,
              "#fdca26"
             ],
             [
              1,
              "#f0f921"
             ]
            ],
            "type": "histogram2d"
           }
          ],
          "histogram2dcontour": [
           {
            "colorbar": {
             "outlinewidth": 0,
             "ticks": ""
            },
            "colorscale": [
             [
              0,
              "#0d0887"
             ],
             [
              0.1111111111111111,
              "#46039f"
             ],
             [
              0.2222222222222222,
              "#7201a8"
             ],
             [
              0.3333333333333333,
              "#9c179e"
             ],
             [
              0.4444444444444444,
              "#bd3786"
             ],
             [
              0.5555555555555556,
              "#d8576b"
             ],
             [
              0.6666666666666666,
              "#ed7953"
             ],
             [
              0.7777777777777778,
              "#fb9f3a"
             ],
             [
              0.8888888888888888,
              "#fdca26"
             ],
             [
              1,
              "#f0f921"
             ]
            ],
            "type": "histogram2dcontour"
           }
          ],
          "mesh3d": [
           {
            "colorbar": {
             "outlinewidth": 0,
             "ticks": ""
            },
            "type": "mesh3d"
           }
          ],
          "parcoords": [
           {
            "line": {
             "colorbar": {
              "outlinewidth": 0,
              "ticks": ""
             }
            },
            "type": "parcoords"
           }
          ],
          "pie": [
           {
            "automargin": true,
            "type": "pie"
           }
          ],
          "scatter": [
           {
            "fillpattern": {
             "fillmode": "overlay",
             "size": 10,
             "solidity": 0.2
            },
            "type": "scatter"
           }
          ],
          "scatter3d": [
           {
            "line": {
             "colorbar": {
              "outlinewidth": 0,
              "ticks": ""
             }
            },
            "marker": {
             "colorbar": {
              "outlinewidth": 0,
              "ticks": ""
             }
            },
            "type": "scatter3d"
           }
          ],
          "scattercarpet": [
           {
            "marker": {
             "colorbar": {
              "outlinewidth": 0,
              "ticks": ""
             }
            },
            "type": "scattercarpet"
           }
          ],
          "scattergeo": [
           {
            "marker": {
             "colorbar": {
              "outlinewidth": 0,
              "ticks": ""
             }
            },
            "type": "scattergeo"
           }
          ],
          "scattergl": [
           {
            "marker": {
             "colorbar": {
              "outlinewidth": 0,
              "ticks": ""
             }
            },
            "type": "scattergl"
           }
          ],
          "scattermapbox": [
           {
            "marker": {
             "colorbar": {
              "outlinewidth": 0,
              "ticks": ""
             }
            },
            "type": "scattermapbox"
           }
          ],
          "scatterpolar": [
           {
            "marker": {
             "colorbar": {
              "outlinewidth": 0,
              "ticks": ""
             }
            },
            "type": "scatterpolar"
           }
          ],
          "scatterpolargl": [
           {
            "marker": {
             "colorbar": {
              "outlinewidth": 0,
              "ticks": ""
             }
            },
            "type": "scatterpolargl"
           }
          ],
          "scatterternary": [
           {
            "marker": {
             "colorbar": {
              "outlinewidth": 0,
              "ticks": ""
             }
            },
            "type": "scatterternary"
           }
          ],
          "surface": [
           {
            "colorbar": {
             "outlinewidth": 0,
             "ticks": ""
            },
            "colorscale": [
             [
              0,
              "#0d0887"
             ],
             [
              0.1111111111111111,
              "#46039f"
             ],
             [
              0.2222222222222222,
              "#7201a8"
             ],
             [
              0.3333333333333333,
              "#9c179e"
             ],
             [
              0.4444444444444444,
              "#bd3786"
             ],
             [
              0.5555555555555556,
              "#d8576b"
             ],
             [
              0.6666666666666666,
              "#ed7953"
             ],
             [
              0.7777777777777778,
              "#fb9f3a"
             ],
             [
              0.8888888888888888,
              "#fdca26"
             ],
             [
              1,
              "#f0f921"
             ]
            ],
            "type": "surface"
           }
          ],
          "table": [
           {
            "cells": {
             "fill": {
              "color": "#EBF0F8"
             },
             "line": {
              "color": "white"
             }
            },
            "header": {
             "fill": {
              "color": "#C8D4E3"
             },
             "line": {
              "color": "white"
             }
            },
            "type": "table"
           }
          ]
         },
         "layout": {
          "annotationdefaults": {
           "arrowcolor": "#2a3f5f",
           "arrowhead": 0,
           "arrowwidth": 1
          },
          "autotypenumbers": "strict",
          "coloraxis": {
           "colorbar": {
            "outlinewidth": 0,
            "ticks": ""
           }
          },
          "colorscale": {
           "diverging": [
            [
             0,
             "#8e0152"
            ],
            [
             0.1,
             "#c51b7d"
            ],
            [
             0.2,
             "#de77ae"
            ],
            [
             0.3,
             "#f1b6da"
            ],
            [
             0.4,
             "#fde0ef"
            ],
            [
             0.5,
             "#f7f7f7"
            ],
            [
             0.6,
             "#e6f5d0"
            ],
            [
             0.7,
             "#b8e186"
            ],
            [
             0.8,
             "#7fbc41"
            ],
            [
             0.9,
             "#4d9221"
            ],
            [
             1,
             "#276419"
            ]
           ],
           "sequential": [
            [
             0,
             "#0d0887"
            ],
            [
             0.1111111111111111,
             "#46039f"
            ],
            [
             0.2222222222222222,
             "#7201a8"
            ],
            [
             0.3333333333333333,
             "#9c179e"
            ],
            [
             0.4444444444444444,
             "#bd3786"
            ],
            [
             0.5555555555555556,
             "#d8576b"
            ],
            [
             0.6666666666666666,
             "#ed7953"
            ],
            [
             0.7777777777777778,
             "#fb9f3a"
            ],
            [
             0.8888888888888888,
             "#fdca26"
            ],
            [
             1,
             "#f0f921"
            ]
           ],
           "sequentialminus": [
            [
             0,
             "#0d0887"
            ],
            [
             0.1111111111111111,
             "#46039f"
            ],
            [
             0.2222222222222222,
             "#7201a8"
            ],
            [
             0.3333333333333333,
             "#9c179e"
            ],
            [
             0.4444444444444444,
             "#bd3786"
            ],
            [
             0.5555555555555556,
             "#d8576b"
            ],
            [
             0.6666666666666666,
             "#ed7953"
            ],
            [
             0.7777777777777778,
             "#fb9f3a"
            ],
            [
             0.8888888888888888,
             "#fdca26"
            ],
            [
             1,
             "#f0f921"
            ]
           ]
          },
          "colorway": [
           "#636efa",
           "#EF553B",
           "#00cc96",
           "#ab63fa",
           "#FFA15A",
           "#19d3f3",
           "#FF6692",
           "#B6E880",
           "#FF97FF",
           "#FECB52"
          ],
          "font": {
           "color": "#2a3f5f"
          },
          "geo": {
           "bgcolor": "white",
           "lakecolor": "white",
           "landcolor": "#E5ECF6",
           "showlakes": true,
           "showland": true,
           "subunitcolor": "white"
          },
          "hoverlabel": {
           "align": "left"
          },
          "hovermode": "closest",
          "mapbox": {
           "style": "light"
          },
          "paper_bgcolor": "white",
          "plot_bgcolor": "#E5ECF6",
          "polar": {
           "angularaxis": {
            "gridcolor": "white",
            "linecolor": "white",
            "ticks": ""
           },
           "bgcolor": "#E5ECF6",
           "radialaxis": {
            "gridcolor": "white",
            "linecolor": "white",
            "ticks": ""
           }
          },
          "scene": {
           "xaxis": {
            "backgroundcolor": "#E5ECF6",
            "gridcolor": "white",
            "gridwidth": 2,
            "linecolor": "white",
            "showbackground": true,
            "ticks": "",
            "zerolinecolor": "white"
           },
           "yaxis": {
            "backgroundcolor": "#E5ECF6",
            "gridcolor": "white",
            "gridwidth": 2,
            "linecolor": "white",
            "showbackground": true,
            "ticks": "",
            "zerolinecolor": "white"
           },
           "zaxis": {
            "backgroundcolor": "#E5ECF6",
            "gridcolor": "white",
            "gridwidth": 2,
            "linecolor": "white",
            "showbackground": true,
            "ticks": "",
            "zerolinecolor": "white"
           }
          },
          "shapedefaults": {
           "line": {
            "color": "#2a3f5f"
           }
          },
          "ternary": {
           "aaxis": {
            "gridcolor": "white",
            "linecolor": "white",
            "ticks": ""
           },
           "baxis": {
            "gridcolor": "white",
            "linecolor": "white",
            "ticks": ""
           },
           "bgcolor": "#E5ECF6",
           "caxis": {
            "gridcolor": "white",
            "linecolor": "white",
            "ticks": ""
           }
          },
          "title": {
           "x": 0.05
          },
          "xaxis": {
           "automargin": true,
           "gridcolor": "white",
           "linecolor": "white",
           "ticks": "",
           "title": {
            "standoff": 15
           },
           "zerolinecolor": "white",
           "zerolinewidth": 2
          },
          "yaxis": {
           "automargin": true,
           "gridcolor": "white",
           "linecolor": "white",
           "ticks": "",
           "title": {
            "standoff": 15
           },
           "zerolinecolor": "white",
           "zerolinewidth": 2
          }
         }
        },
        "xaxis": {
         "anchor": "y",
         "domain": [
          0,
          1
         ],
         "title": {
          "text": "parsed"
         }
        },
        "yaxis": {
         "anchor": "x",
         "domain": [
          0,
          1
         ],
         "title": {
          "text": "Percentage"
         }
        }
       }
      },
      "text/html": [
       "<div>                            <div id=\"0da860d9-21a4-4489-8909-26eb8dd03354\" class=\"plotly-graph-div\" style=\"height:525px; width:100%;\"></div>            <script type=\"text/javascript\">                require([\"plotly\"], function(Plotly) {                    window.PLOTLYENV=window.PLOTLYENV || {};                                    if (document.getElementById(\"0da860d9-21a4-4489-8909-26eb8dd03354\")) {                    Plotly.newPlot(                        \"0da860d9-21a4-4489-8909-26eb8dd03354\",                        [{\"alignmentgroup\":\"True\",\"hovertemplate\":\"Gender=Female\\u003cbr\\u003eparsed=%{x}\\u003cbr\\u003ePercentage=%{y}\\u003cextra\\u003e\\u003c\\u002fextra\\u003e\",\"legendgroup\":\"Female\",\"marker\":{\"color\":\"#636efa\",\"pattern\":{\"shape\":\"\"}},\"name\":\"Female\",\"offsetgroup\":\"Female\",\"orientation\":\"v\",\"showlegend\":true,\"textposition\":\"auto\",\"x\":[\"bland\",\"calm\",\"comfortable\",\"conservative\",\"dismissive\",\"dramatic\",\"dull\",\"erotic\",\"excite\",\"exciting\",\"intense\",\"irritable\",\"low\",\"molest\",\"normal\",\"perky\",\"rebellious\",\"seductive\",\"sensual\",\"stale\",\"stunning\",\"thoughtful\",\"tiresome\",\"undisturbed\",\"venomous\"],\"xaxis\":\"x\",\"y\":[1.5228426395939088,1.5228426395939088,1.2690355329949239,1.015228426395939,1.015228426395939,3.5532994923857872,2.5380710659898478,12.944162436548224,11.16751269035533,2.5380710659898478,4.822335025380711,4.822335025380711,3.807106598984772,1.5228426395939088,1.7766497461928936,1.2690355329949239,1.7766497461928936,8.121827411167512,4.822335025380711,1.5228426395939088,3.5532994923857872,3.2994923857868024,2.7918781725888326,1.5228426395939088,2.030456852791878],\"yaxis\":\"y\",\"type\":\"bar\"},{\"alignmentgroup\":\"True\",\"hovertemplate\":\"Gender=Male\\u003cbr\\u003eparsed=%{x}\\u003cbr\\u003ePercentage=%{y}\\u003cextra\\u003e\\u003c\\u002fextra\\u003e\",\"legendgroup\":\"Male\",\"marker\":{\"color\":\"#EF553B\",\"pattern\":{\"shape\":\"\"}},\"name\":\"Male\",\"offsetgroup\":\"Male\",\"orientation\":\"v\",\"showlegend\":true,\"textposition\":\"auto\",\"x\":[\"arsonist\",\"destructive\",\"dramatic\",\"dull\",\"erotic\",\"excite\",\"exciting\",\"intense\",\"irritable\",\"low\",\"molest\",\"perky\",\"rebellious\",\"seductive\",\"sensual\",\"stunning\",\"thoughtful\",\"tiresome\",\"undisturbed\",\"venomous\"],\"xaxis\":\"x\",\"y\":[1.1639185257032008,1.7458777885548011,4.75266731328807,3.0067895247332688,7.953443258971872,15.42192046556741,5.140640155189137,6.401551891367604,5.722599418040737,5.625606207565471,1.2609117361784674,1.066925315227934,2.8128031037827355,6.595538312318137,4.655674102812803,1.1639185257032008,1.7458777885548011,1.3579049466537343,1.842870999030068,2.424830261881668],\"yaxis\":\"y\",\"type\":\"bar\"}],                        {\"template\":{\"data\":{\"histogram2dcontour\":[{\"type\":\"histogram2dcontour\",\"colorbar\":{\"outlinewidth\":0,\"ticks\":\"\"},\"colorscale\":[[0.0,\"#0d0887\"],[0.1111111111111111,\"#46039f\"],[0.2222222222222222,\"#7201a8\"],[0.3333333333333333,\"#9c179e\"],[0.4444444444444444,\"#bd3786\"],[0.5555555555555556,\"#d8576b\"],[0.6666666666666666,\"#ed7953\"],[0.7777777777777778,\"#fb9f3a\"],[0.8888888888888888,\"#fdca26\"],[1.0,\"#f0f921\"]]}],\"choropleth\":[{\"type\":\"choropleth\",\"colorbar\":{\"outlinewidth\":0,\"ticks\":\"\"}}],\"histogram2d\":[{\"type\":\"histogram2d\",\"colorbar\":{\"outlinewidth\":0,\"ticks\":\"\"},\"colorscale\":[[0.0,\"#0d0887\"],[0.1111111111111111,\"#46039f\"],[0.2222222222222222,\"#7201a8\"],[0.3333333333333333,\"#9c179e\"],[0.4444444444444444,\"#bd3786\"],[0.5555555555555556,\"#d8576b\"],[0.6666666666666666,\"#ed7953\"],[0.7777777777777778,\"#fb9f3a\"],[0.8888888888888888,\"#fdca26\"],[1.0,\"#f0f921\"]]}],\"heatmap\":[{\"type\":\"heatmap\",\"colorbar\":{\"outlinewidth\":0,\"ticks\":\"\"},\"colorscale\":[[0.0,\"#0d0887\"],[0.1111111111111111,\"#46039f\"],[0.2222222222222222,\"#7201a8\"],[0.3333333333333333,\"#9c179e\"],[0.4444444444444444,\"#bd3786\"],[0.5555555555555556,\"#d8576b\"],[0.6666666666666666,\"#ed7953\"],[0.7777777777777778,\"#fb9f3a\"],[0.8888888888888888,\"#fdca26\"],[1.0,\"#f0f921\"]]}],\"heatmapgl\":[{\"type\":\"heatmapgl\",\"colorbar\":{\"outlinewidth\":0,\"ticks\":\"\"},\"colorscale\":[[0.0,\"#0d0887\"],[0.1111111111111111,\"#46039f\"],[0.2222222222222222,\"#7201a8\"],[0.3333333333333333,\"#9c179e\"],[0.4444444444444444,\"#bd3786\"],[0.5555555555555556,\"#d8576b\"],[0.6666666666666666,\"#ed7953\"],[0.7777777777777778,\"#fb9f3a\"],[0.8888888888888888,\"#fdca26\"],[1.0,\"#f0f921\"]]}],\"contourcarpet\":[{\"type\":\"contourcarpet\",\"colorbar\":{\"outlinewidth\":0,\"ticks\":\"\"}}],\"contour\":[{\"type\":\"contour\",\"colorbar\":{\"outlinewidth\":0,\"ticks\":\"\"},\"colorscale\":[[0.0,\"#0d0887\"],[0.1111111111111111,\"#46039f\"],[0.2222222222222222,\"#7201a8\"],[0.3333333333333333,\"#9c179e\"],[0.4444444444444444,\"#bd3786\"],[0.5555555555555556,\"#d8576b\"],[0.6666666666666666,\"#ed7953\"],[0.7777777777777778,\"#fb9f3a\"],[0.8888888888888888,\"#fdca26\"],[1.0,\"#f0f921\"]]}],\"surface\":[{\"type\":\"surface\",\"colorbar\":{\"outlinewidth\":0,\"ticks\":\"\"},\"colorscale\":[[0.0,\"#0d0887\"],[0.1111111111111111,\"#46039f\"],[0.2222222222222222,\"#7201a8\"],[0.3333333333333333,\"#9c179e\"],[0.4444444444444444,\"#bd3786\"],[0.5555555555555556,\"#d8576b\"],[0.6666666666666666,\"#ed7953\"],[0.7777777777777778,\"#fb9f3a\"],[0.8888888888888888,\"#fdca26\"],[1.0,\"#f0f921\"]]}],\"mesh3d\":[{\"type\":\"mesh3d\",\"colorbar\":{\"outlinewidth\":0,\"ticks\":\"\"}}],\"scatter\":[{\"fillpattern\":{\"fillmode\":\"overlay\",\"size\":10,\"solidity\":0.2},\"type\":\"scatter\"}],\"parcoords\":[{\"type\":\"parcoords\",\"line\":{\"colorbar\":{\"outlinewidth\":0,\"ticks\":\"\"}}}],\"scatterpolargl\":[{\"type\":\"scatterpolargl\",\"marker\":{\"colorbar\":{\"outlinewidth\":0,\"ticks\":\"\"}}}],\"bar\":[{\"error_x\":{\"color\":\"#2a3f5f\"},\"error_y\":{\"color\":\"#2a3f5f\"},\"marker\":{\"line\":{\"color\":\"#E5ECF6\",\"width\":0.5},\"pattern\":{\"fillmode\":\"overlay\",\"size\":10,\"solidity\":0.2}},\"type\":\"bar\"}],\"scattergeo\":[{\"type\":\"scattergeo\",\"marker\":{\"colorbar\":{\"outlinewidth\":0,\"ticks\":\"\"}}}],\"scatterpolar\":[{\"type\":\"scatterpolar\",\"marker\":{\"colorbar\":{\"outlinewidth\":0,\"ticks\":\"\"}}}],\"histogram\":[{\"marker\":{\"pattern\":{\"fillmode\":\"overlay\",\"size\":10,\"solidity\":0.2}},\"type\":\"histogram\"}],\"scattergl\":[{\"type\":\"scattergl\",\"marker\":{\"colorbar\":{\"outlinewidth\":0,\"ticks\":\"\"}}}],\"scatter3d\":[{\"type\":\"scatter3d\",\"line\":{\"colorbar\":{\"outlinewidth\":0,\"ticks\":\"\"}},\"marker\":{\"colorbar\":{\"outlinewidth\":0,\"ticks\":\"\"}}}],\"scattermapbox\":[{\"type\":\"scattermapbox\",\"marker\":{\"colorbar\":{\"outlinewidth\":0,\"ticks\":\"\"}}}],\"scatterternary\":[{\"type\":\"scatterternary\",\"marker\":{\"colorbar\":{\"outlinewidth\":0,\"ticks\":\"\"}}}],\"scattercarpet\":[{\"type\":\"scattercarpet\",\"marker\":{\"colorbar\":{\"outlinewidth\":0,\"ticks\":\"\"}}}],\"carpet\":[{\"aaxis\":{\"endlinecolor\":\"#2a3f5f\",\"gridcolor\":\"white\",\"linecolor\":\"white\",\"minorgridcolor\":\"white\",\"startlinecolor\":\"#2a3f5f\"},\"baxis\":{\"endlinecolor\":\"#2a3f5f\",\"gridcolor\":\"white\",\"linecolor\":\"white\",\"minorgridcolor\":\"white\",\"startlinecolor\":\"#2a3f5f\"},\"type\":\"carpet\"}],\"table\":[{\"cells\":{\"fill\":{\"color\":\"#EBF0F8\"},\"line\":{\"color\":\"white\"}},\"header\":{\"fill\":{\"color\":\"#C8D4E3\"},\"line\":{\"color\":\"white\"}},\"type\":\"table\"}],\"barpolar\":[{\"marker\":{\"line\":{\"color\":\"#E5ECF6\",\"width\":0.5},\"pattern\":{\"fillmode\":\"overlay\",\"size\":10,\"solidity\":0.2}},\"type\":\"barpolar\"}],\"pie\":[{\"automargin\":true,\"type\":\"pie\"}]},\"layout\":{\"autotypenumbers\":\"strict\",\"colorway\":[\"#636efa\",\"#EF553B\",\"#00cc96\",\"#ab63fa\",\"#FFA15A\",\"#19d3f3\",\"#FF6692\",\"#B6E880\",\"#FF97FF\",\"#FECB52\"],\"font\":{\"color\":\"#2a3f5f\"},\"hovermode\":\"closest\",\"hoverlabel\":{\"align\":\"left\"},\"paper_bgcolor\":\"white\",\"plot_bgcolor\":\"#E5ECF6\",\"polar\":{\"bgcolor\":\"#E5ECF6\",\"angularaxis\":{\"gridcolor\":\"white\",\"linecolor\":\"white\",\"ticks\":\"\"},\"radialaxis\":{\"gridcolor\":\"white\",\"linecolor\":\"white\",\"ticks\":\"\"}},\"ternary\":{\"bgcolor\":\"#E5ECF6\",\"aaxis\":{\"gridcolor\":\"white\",\"linecolor\":\"white\",\"ticks\":\"\"},\"baxis\":{\"gridcolor\":\"white\",\"linecolor\":\"white\",\"ticks\":\"\"},\"caxis\":{\"gridcolor\":\"white\",\"linecolor\":\"white\",\"ticks\":\"\"}},\"coloraxis\":{\"colorbar\":{\"outlinewidth\":0,\"ticks\":\"\"}},\"colorscale\":{\"sequential\":[[0.0,\"#0d0887\"],[0.1111111111111111,\"#46039f\"],[0.2222222222222222,\"#7201a8\"],[0.3333333333333333,\"#9c179e\"],[0.4444444444444444,\"#bd3786\"],[0.5555555555555556,\"#d8576b\"],[0.6666666666666666,\"#ed7953\"],[0.7777777777777778,\"#fb9f3a\"],[0.8888888888888888,\"#fdca26\"],[1.0,\"#f0f921\"]],\"sequentialminus\":[[0.0,\"#0d0887\"],[0.1111111111111111,\"#46039f\"],[0.2222222222222222,\"#7201a8\"],[0.3333333333333333,\"#9c179e\"],[0.4444444444444444,\"#bd3786\"],[0.5555555555555556,\"#d8576b\"],[0.6666666666666666,\"#ed7953\"],[0.7777777777777778,\"#fb9f3a\"],[0.8888888888888888,\"#fdca26\"],[1.0,\"#f0f921\"]],\"diverging\":[[0,\"#8e0152\"],[0.1,\"#c51b7d\"],[0.2,\"#de77ae\"],[0.3,\"#f1b6da\"],[0.4,\"#fde0ef\"],[0.5,\"#f7f7f7\"],[0.6,\"#e6f5d0\"],[0.7,\"#b8e186\"],[0.8,\"#7fbc41\"],[0.9,\"#4d9221\"],[1,\"#276419\"]]},\"xaxis\":{\"gridcolor\":\"white\",\"linecolor\":\"white\",\"ticks\":\"\",\"title\":{\"standoff\":15},\"zerolinecolor\":\"white\",\"automargin\":true,\"zerolinewidth\":2},\"yaxis\":{\"gridcolor\":\"white\",\"linecolor\":\"white\",\"ticks\":\"\",\"title\":{\"standoff\":15},\"zerolinecolor\":\"white\",\"automargin\":true,\"zerolinewidth\":2},\"scene\":{\"xaxis\":{\"backgroundcolor\":\"#E5ECF6\",\"gridcolor\":\"white\",\"linecolor\":\"white\",\"showbackground\":true,\"ticks\":\"\",\"zerolinecolor\":\"white\",\"gridwidth\":2},\"yaxis\":{\"backgroundcolor\":\"#E5ECF6\",\"gridcolor\":\"white\",\"linecolor\":\"white\",\"showbackground\":true,\"ticks\":\"\",\"zerolinecolor\":\"white\",\"gridwidth\":2},\"zaxis\":{\"backgroundcolor\":\"#E5ECF6\",\"gridcolor\":\"white\",\"linecolor\":\"white\",\"showbackground\":true,\"ticks\":\"\",\"zerolinecolor\":\"white\",\"gridwidth\":2}},\"shapedefaults\":{\"line\":{\"color\":\"#2a3f5f\"}},\"annotationdefaults\":{\"arrowcolor\":\"#2a3f5f\",\"arrowhead\":0,\"arrowwidth\":1},\"geo\":{\"bgcolor\":\"white\",\"landcolor\":\"#E5ECF6\",\"subunitcolor\":\"white\",\"showland\":true,\"showlakes\":true,\"lakecolor\":\"white\"},\"title\":{\"x\":0.05},\"mapbox\":{\"style\":\"light\"}}},\"xaxis\":{\"anchor\":\"y\",\"domain\":[0.0,1.0],\"title\":{\"text\":\"parsed\"}},\"yaxis\":{\"anchor\":\"x\",\"domain\":[0.0,1.0],\"title\":{\"text\":\"Percentage\"}},\"legend\":{\"title\":{\"text\":\"Gender\"},\"tracegroupgap\":0},\"margin\":{\"t\":60},\"barmode\":\"group\"},                        {\"responsive\": true}                    ).then(function(){\n",
       "                            \n",
       "var gd = document.getElementById('0da860d9-21a4-4489-8909-26eb8dd03354');\n",
       "var x = new MutationObserver(function (mutations, observer) {{\n",
       "        var display = window.getComputedStyle(gd).display;\n",
       "        if (!display || display === 'none') {{\n",
       "            console.log([gd, 'removed!']);\n",
       "            Plotly.purge(gd);\n",
       "            observer.disconnect();\n",
       "        }}\n",
       "}});\n",
       "\n",
       "// Listen for the removal of the full notebook cells\n",
       "var notebookContainer = gd.closest('#notebook-container');\n",
       "if (notebookContainer) {{\n",
       "    x.observe(notebookContainer, {childList: true});\n",
       "}}\n",
       "\n",
       "// Listen for the clearing of the current output cell\n",
       "var outputEl = gd.closest('.output');\n",
       "if (outputEl) {{\n",
       "    x.observe(outputEl, {childList: true});\n",
       "}}\n",
       "\n",
       "                        })                };                });            </script>        </div>"
      ]
     },
     "metadata": {},
     "output_type": "display_data"
    }
   ],
   "source": [
    "subset = df[['Spkr', 'segment', 'Age', 'Gender', 'Education', 'Occupation', 'Edu.Group', 'Age.Group', \n",
    "       'model_response_adjective_arousal_Qwen2-Audio-7B-Instruct',\n",
    "       'model_prompt_adjective_arousal_Qwen2-Audio-7B-Instruct']].copy()\n",
    "\n",
    "\n",
    "subset['parsed'] = subset.apply(lambda row: parse_adjectives(row, 'model_response_adjective_arousal_Qwen2-Audio-7B-Instruct', ADJECTIVES_AROUSAL['english']), axis=1)\n",
    "\n",
    "\n",
    "df_exploded = subset.explode('parsed')\n",
    "result = df_exploded.groupby(['Gender', 'parsed']).size().reset_index(name='count')\n",
    "\n",
    "\n",
    "result['Total'] = result.groupby('Gender')['count'].transform('sum')\n",
    "result['Percentage'] = result['count'] / result['Total'] * 100\n",
    "\n",
    "result = result[result['Percentage']>1]\n",
    "\n",
    "\n",
    "# Create a grouped bar plot\n",
    "fig = px.bar(\n",
    "    result,\n",
    "    x='parsed',\n",
    "    y='Percentage',\n",
    "    color='Gender',    # Different colors for each group\n",
    "    barmode='group',  # Place bars side-by-side rather than stacking them\n",
    ")\n",
    "fig.show()"
   ]
  },
  {
   "cell_type": "code",
   "execution_count": null,
   "metadata": {},
   "outputs": [
    {
     "data": {
      "application/vnd.plotly.v1+json": {
       "config": {
        "plotlyServerURL": "https://plot.ly"
       },
       "data": [
        {
         "alignmentgroup": "True",
         "hovertemplate": "Edu.Group=College<br>parsed=%{x}<br>Percentage=%{y}<extra></extra>",
         "legendgroup": "College",
         "marker": {
          "color": "#636efa",
          "pattern": {
           "shape": ""
          }
         },
         "name": "College",
         "offsetgroup": "College",
         "orientation": "v",
         "showlegend": true,
         "textposition": "auto",
         "type": "bar",
         "x": [
          "bland",
          "destructive",
          "dramatic",
          "dull",
          "erotic",
          "excite",
          "exciting",
          "gruesome",
          "intense",
          "irritable",
          "low",
          "molest",
          "monotonous",
          "rebellious",
          "seductive",
          "sensual",
          "sexual",
          "stunning",
          "thoughtful",
          "tiresome",
          "undisturbed",
          "venomous"
         ],
         "xaxis": "x",
         "y": [
          1.0869565217391304,
          1.0869565217391304,
          6.159420289855073,
          3.985507246376811,
          5.797101449275362,
          23.55072463768116,
          2.536231884057971,
          1.0869565217391304,
          5.072463768115942,
          6.884057971014493,
          5.434782608695652,
          1.8115942028985508,
          1.4492753623188406,
          2.1739130434782608,
          5.797101449275362,
          3.260869565217391,
          1.0869565217391304,
          2.1739130434782608,
          2.536231884057971,
          1.4492753623188406,
          2.1739130434782608,
          1.4492753623188406
         ],
         "yaxis": "y"
        },
        {
         "alignmentgroup": "True",
         "hovertemplate": "Edu.Group=HIgh School<br>parsed=%{x}<br>Percentage=%{y}<extra></extra>",
         "legendgroup": "HIgh School",
         "marker": {
          "color": "#EF553B",
          "pattern": {
           "shape": ""
          }
         },
         "name": "HIgh School",
         "offsetgroup": "HIgh School",
         "orientation": "v",
         "showlegend": true,
         "textposition": "auto",
         "type": "bar",
         "x": [
          "arsonist",
          "destructive",
          "devilish",
          "dramatic",
          "dull",
          "erotic",
          "excite",
          "exciting",
          "intense",
          "irritable",
          "low",
          "molest",
          "rebellious",
          "seductive",
          "sensual",
          "sexual",
          "stale",
          "stunning",
          "tiresome",
          "undisturbed",
          "venomous"
         ],
         "xaxis": "x",
         "y": [
          2.8213166144200628,
          1.5673981191222568,
          1.2539184952978055,
          5.015673981191222,
          1.8808777429467085,
          9.090909090909092,
          15.360501567398119,
          5.015673981191222,
          5.6426332288401255,
          5.015673981191222,
          4.38871473354232,
          1.8808777429467085,
          3.1347962382445136,
          7.523510971786834,
          6.269592476489027,
          1.2539184952978055,
          1.2539184952978055,
          1.8808777429467085,
          1.2539184952978055,
          2.507836990595611,
          4.075235109717868
         ],
         "yaxis": "y"
        },
        {
         "alignmentgroup": "True",
         "hovertemplate": "Edu.Group=High School<br>parsed=%{x}<br>Percentage=%{y}<extra></extra>",
         "legendgroup": "High School",
         "marker": {
          "color": "#00cc96",
          "pattern": {
           "shape": ""
          }
         },
         "name": "High School",
         "offsetgroup": "High School",
         "orientation": "v",
         "showlegend": true,
         "textposition": "auto",
         "type": "bar",
         "x": [
          "bland",
          "calm",
          "destructive",
          "dismissive",
          "dramatic",
          "dull",
          "erotic",
          "excite",
          "exciting",
          "incredible",
          "intense",
          "irritable",
          "low",
          "monotonous",
          "normal",
          "perky",
          "rebellious",
          "seductive",
          "sensual",
          "stunning",
          "thoughtful",
          "tiresome",
          "undisturbed",
          "venomous"
         ],
         "xaxis": "x",
         "y": [
          1.1494252873563218,
          1.3793103448275863,
          1.3793103448275863,
          1.3793103448275863,
          2.9885057471264367,
          2.528735632183908,
          11.03448275862069,
          7.816091954022989,
          4.597701149425287,
          1.3793103448275863,
          7.816091954022989,
          4.827586206896552,
          5.747126436781609,
          1.1494252873563218,
          2.528735632183908,
          1.839080459770115,
          2.7586206896551726,
          6.896551724137931,
          4.137931034482759,
          1.6091954022988506,
          2.9885057471264367,
          1.3793103448275863,
          1.3793103448275863,
          2.7586206896551726
         ],
         "yaxis": "y"
        },
        {
         "alignmentgroup": "True",
         "hovertemplate": "Edu.Group=Some College<br>parsed=%{x}<br>Percentage=%{y}<extra></extra>",
         "legendgroup": "Some College",
         "marker": {
          "color": "#ab63fa",
          "pattern": {
           "shape": ""
          }
         },
         "name": "Some College",
         "offsetgroup": "Some College",
         "orientation": "v",
         "showlegend": true,
         "textposition": "auto",
         "type": "bar",
         "x": [
          "bland",
          "calm",
          "comfortable",
          "common",
          "conservative",
          "destructive",
          "dramatic",
          "dull",
          "erotic",
          "excite",
          "exciting",
          "incredible",
          "intense",
          "irritable",
          "low",
          "molest",
          "perky",
          "rebellious",
          "seductive",
          "sensual",
          "stale",
          "stunning",
          "thoughtful",
          "tiresome",
          "undisturbed",
          "venomous"
         ],
         "xaxis": "x",
         "y": [
          1.5189873417721518,
          1.5189873417721518,
          1.0126582278481013,
          1.0126582278481013,
          1.2658227848101267,
          1.2658227848101267,
          4.30379746835443,
          3.2911392405063293,
          10.126582278481013,
          13.924050632911392,
          5.063291139240507,
          1.0126582278481013,
          4.810126582278481,
          5.5696202531645564,
          4.810126582278481,
          1.5189873417721518,
          1.2658227848101267,
          2.0253164556962027,
          7.59493670886076,
          5.063291139240507,
          1.0126582278481013,
          1.7721518987341773,
          2.278481012658228,
          2.7848101265822782,
          1.2658227848101267,
          1.0126582278481013
         ],
         "yaxis": "y"
        }
       ],
       "layout": {
        "barmode": "group",
        "legend": {
         "title": {
          "text": "Edu.Group"
         },
         "tracegroupgap": 0
        },
        "margin": {
         "t": 60
        },
        "template": {
         "data": {
          "bar": [
           {
            "error_x": {
             "color": "#2a3f5f"
            },
            "error_y": {
             "color": "#2a3f5f"
            },
            "marker": {
             "line": {
              "color": "#E5ECF6",
              "width": 0.5
             },
             "pattern": {
              "fillmode": "overlay",
              "size": 10,
              "solidity": 0.2
             }
            },
            "type": "bar"
           }
          ],
          "barpolar": [
           {
            "marker": {
             "line": {
              "color": "#E5ECF6",
              "width": 0.5
             },
             "pattern": {
              "fillmode": "overlay",
              "size": 10,
              "solidity": 0.2
             }
            },
            "type": "barpolar"
           }
          ],
          "carpet": [
           {
            "aaxis": {
             "endlinecolor": "#2a3f5f",
             "gridcolor": "white",
             "linecolor": "white",
             "minorgridcolor": "white",
             "startlinecolor": "#2a3f5f"
            },
            "baxis": {
             "endlinecolor": "#2a3f5f",
             "gridcolor": "white",
             "linecolor": "white",
             "minorgridcolor": "white",
             "startlinecolor": "#2a3f5f"
            },
            "type": "carpet"
           }
          ],
          "choropleth": [
           {
            "colorbar": {
             "outlinewidth": 0,
             "ticks": ""
            },
            "type": "choropleth"
           }
          ],
          "contour": [
           {
            "colorbar": {
             "outlinewidth": 0,
             "ticks": ""
            },
            "colorscale": [
             [
              0,
              "#0d0887"
             ],
             [
              0.1111111111111111,
              "#46039f"
             ],
             [
              0.2222222222222222,
              "#7201a8"
             ],
             [
              0.3333333333333333,
              "#9c179e"
             ],
             [
              0.4444444444444444,
              "#bd3786"
             ],
             [
              0.5555555555555556,
              "#d8576b"
             ],
             [
              0.6666666666666666,
              "#ed7953"
             ],
             [
              0.7777777777777778,
              "#fb9f3a"
             ],
             [
              0.8888888888888888,
              "#fdca26"
             ],
             [
              1,
              "#f0f921"
             ]
            ],
            "type": "contour"
           }
          ],
          "contourcarpet": [
           {
            "colorbar": {
             "outlinewidth": 0,
             "ticks": ""
            },
            "type": "contourcarpet"
           }
          ],
          "heatmap": [
           {
            "colorbar": {
             "outlinewidth": 0,
             "ticks": ""
            },
            "colorscale": [
             [
              0,
              "#0d0887"
             ],
             [
              0.1111111111111111,
              "#46039f"
             ],
             [
              0.2222222222222222,
              "#7201a8"
             ],
             [
              0.3333333333333333,
              "#9c179e"
             ],
             [
              0.4444444444444444,
              "#bd3786"
             ],
             [
              0.5555555555555556,
              "#d8576b"
             ],
             [
              0.6666666666666666,
              "#ed7953"
             ],
             [
              0.7777777777777778,
              "#fb9f3a"
             ],
             [
              0.8888888888888888,
              "#fdca26"
             ],
             [
              1,
              "#f0f921"
             ]
            ],
            "type": "heatmap"
           }
          ],
          "heatmapgl": [
           {
            "colorbar": {
             "outlinewidth": 0,
             "ticks": ""
            },
            "colorscale": [
             [
              0,
              "#0d0887"
             ],
             [
              0.1111111111111111,
              "#46039f"
             ],
             [
              0.2222222222222222,
              "#7201a8"
             ],
             [
              0.3333333333333333,
              "#9c179e"
             ],
             [
              0.4444444444444444,
              "#bd3786"
             ],
             [
              0.5555555555555556,
              "#d8576b"
             ],
             [
              0.6666666666666666,
              "#ed7953"
             ],
             [
              0.7777777777777778,
              "#fb9f3a"
             ],
             [
              0.8888888888888888,
              "#fdca26"
             ],
             [
              1,
              "#f0f921"
             ]
            ],
            "type": "heatmapgl"
           }
          ],
          "histogram": [
           {
            "marker": {
             "pattern": {
              "fillmode": "overlay",
              "size": 10,
              "solidity": 0.2
             }
            },
            "type": "histogram"
           }
          ],
          "histogram2d": [
           {
            "colorbar": {
             "outlinewidth": 0,
             "ticks": ""
            },
            "colorscale": [
             [
              0,
              "#0d0887"
             ],
             [
              0.1111111111111111,
              "#46039f"
             ],
             [
              0.2222222222222222,
              "#7201a8"
             ],
             [
              0.3333333333333333,
              "#9c179e"
             ],
             [
              0.4444444444444444,
              "#bd3786"
             ],
             [
              0.5555555555555556,
              "#d8576b"
             ],
             [
              0.6666666666666666,
              "#ed7953"
             ],
             [
              0.7777777777777778,
              "#fb9f3a"
             ],
             [
              0.8888888888888888,
              "#fdca26"
             ],
             [
              1,
              "#f0f921"
             ]
            ],
            "type": "histogram2d"
           }
          ],
          "histogram2dcontour": [
           {
            "colorbar": {
             "outlinewidth": 0,
             "ticks": ""
            },
            "colorscale": [
             [
              0,
              "#0d0887"
             ],
             [
              0.1111111111111111,
              "#46039f"
             ],
             [
              0.2222222222222222,
              "#7201a8"
             ],
             [
              0.3333333333333333,
              "#9c179e"
             ],
             [
              0.4444444444444444,
              "#bd3786"
             ],
             [
              0.5555555555555556,
              "#d8576b"
             ],
             [
              0.6666666666666666,
              "#ed7953"
             ],
             [
              0.7777777777777778,
              "#fb9f3a"
             ],
             [
              0.8888888888888888,
              "#fdca26"
             ],
             [
              1,
              "#f0f921"
             ]
            ],
            "type": "histogram2dcontour"
           }
          ],
          "mesh3d": [
           {
            "colorbar": {
             "outlinewidth": 0,
             "ticks": ""
            },
            "type": "mesh3d"
           }
          ],
          "parcoords": [
           {
            "line": {
             "colorbar": {
              "outlinewidth": 0,
              "ticks": ""
             }
            },
            "type": "parcoords"
           }
          ],
          "pie": [
           {
            "automargin": true,
            "type": "pie"
           }
          ],
          "scatter": [
           {
            "fillpattern": {
             "fillmode": "overlay",
             "size": 10,
             "solidity": 0.2
            },
            "type": "scatter"
           }
          ],
          "scatter3d": [
           {
            "line": {
             "colorbar": {
              "outlinewidth": 0,
              "ticks": ""
             }
            },
            "marker": {
             "colorbar": {
              "outlinewidth": 0,
              "ticks": ""
             }
            },
            "type": "scatter3d"
           }
          ],
          "scattercarpet": [
           {
            "marker": {
             "colorbar": {
              "outlinewidth": 0,
              "ticks": ""
             }
            },
            "type": "scattercarpet"
           }
          ],
          "scattergeo": [
           {
            "marker": {
             "colorbar": {
              "outlinewidth": 0,
              "ticks": ""
             }
            },
            "type": "scattergeo"
           }
          ],
          "scattergl": [
           {
            "marker": {
             "colorbar": {
              "outlinewidth": 0,
              "ticks": ""
             }
            },
            "type": "scattergl"
           }
          ],
          "scattermapbox": [
           {
            "marker": {
             "colorbar": {
              "outlinewidth": 0,
              "ticks": ""
             }
            },
            "type": "scattermapbox"
           }
          ],
          "scatterpolar": [
           {
            "marker": {
             "colorbar": {
              "outlinewidth": 0,
              "ticks": ""
             }
            },
            "type": "scatterpolar"
           }
          ],
          "scatterpolargl": [
           {
            "marker": {
             "colorbar": {
              "outlinewidth": 0,
              "ticks": ""
             }
            },
            "type": "scatterpolargl"
           }
          ],
          "scatterternary": [
           {
            "marker": {
             "colorbar": {
              "outlinewidth": 0,
              "ticks": ""
             }
            },
            "type": "scatterternary"
           }
          ],
          "surface": [
           {
            "colorbar": {
             "outlinewidth": 0,
             "ticks": ""
            },
            "colorscale": [
             [
              0,
              "#0d0887"
             ],
             [
              0.1111111111111111,
              "#46039f"
             ],
             [
              0.2222222222222222,
              "#7201a8"
             ],
             [
              0.3333333333333333,
              "#9c179e"
             ],
             [
              0.4444444444444444,
              "#bd3786"
             ],
             [
              0.5555555555555556,
              "#d8576b"
             ],
             [
              0.6666666666666666,
              "#ed7953"
             ],
             [
              0.7777777777777778,
              "#fb9f3a"
             ],
             [
              0.8888888888888888,
              "#fdca26"
             ],
             [
              1,
              "#f0f921"
             ]
            ],
            "type": "surface"
           }
          ],
          "table": [
           {
            "cells": {
             "fill": {
              "color": "#EBF0F8"
             },
             "line": {
              "color": "white"
             }
            },
            "header": {
             "fill": {
              "color": "#C8D4E3"
             },
             "line": {
              "color": "white"
             }
            },
            "type": "table"
           }
          ]
         },
         "layout": {
          "annotationdefaults": {
           "arrowcolor": "#2a3f5f",
           "arrowhead": 0,
           "arrowwidth": 1
          },
          "autotypenumbers": "strict",
          "coloraxis": {
           "colorbar": {
            "outlinewidth": 0,
            "ticks": ""
           }
          },
          "colorscale": {
           "diverging": [
            [
             0,
             "#8e0152"
            ],
            [
             0.1,
             "#c51b7d"
            ],
            [
             0.2,
             "#de77ae"
            ],
            [
             0.3,
             "#f1b6da"
            ],
            [
             0.4,
             "#fde0ef"
            ],
            [
             0.5,
             "#f7f7f7"
            ],
            [
             0.6,
             "#e6f5d0"
            ],
            [
             0.7,
             "#b8e186"
            ],
            [
             0.8,
             "#7fbc41"
            ],
            [
             0.9,
             "#4d9221"
            ],
            [
             1,
             "#276419"
            ]
           ],
           "sequential": [
            [
             0,
             "#0d0887"
            ],
            [
             0.1111111111111111,
             "#46039f"
            ],
            [
             0.2222222222222222,
             "#7201a8"
            ],
            [
             0.3333333333333333,
             "#9c179e"
            ],
            [
             0.4444444444444444,
             "#bd3786"
            ],
            [
             0.5555555555555556,
             "#d8576b"
            ],
            [
             0.6666666666666666,
             "#ed7953"
            ],
            [
             0.7777777777777778,
             "#fb9f3a"
            ],
            [
             0.8888888888888888,
             "#fdca26"
            ],
            [
             1,
             "#f0f921"
            ]
           ],
           "sequentialminus": [
            [
             0,
             "#0d0887"
            ],
            [
             0.1111111111111111,
             "#46039f"
            ],
            [
             0.2222222222222222,
             "#7201a8"
            ],
            [
             0.3333333333333333,
             "#9c179e"
            ],
            [
             0.4444444444444444,
             "#bd3786"
            ],
            [
             0.5555555555555556,
             "#d8576b"
            ],
            [
             0.6666666666666666,
             "#ed7953"
            ],
            [
             0.7777777777777778,
             "#fb9f3a"
            ],
            [
             0.8888888888888888,
             "#fdca26"
            ],
            [
             1,
             "#f0f921"
            ]
           ]
          },
          "colorway": [
           "#636efa",
           "#EF553B",
           "#00cc96",
           "#ab63fa",
           "#FFA15A",
           "#19d3f3",
           "#FF6692",
           "#B6E880",
           "#FF97FF",
           "#FECB52"
          ],
          "font": {
           "color": "#2a3f5f"
          },
          "geo": {
           "bgcolor": "white",
           "lakecolor": "white",
           "landcolor": "#E5ECF6",
           "showlakes": true,
           "showland": true,
           "subunitcolor": "white"
          },
          "hoverlabel": {
           "align": "left"
          },
          "hovermode": "closest",
          "mapbox": {
           "style": "light"
          },
          "paper_bgcolor": "white",
          "plot_bgcolor": "#E5ECF6",
          "polar": {
           "angularaxis": {
            "gridcolor": "white",
            "linecolor": "white",
            "ticks": ""
           },
           "bgcolor": "#E5ECF6",
           "radialaxis": {
            "gridcolor": "white",
            "linecolor": "white",
            "ticks": ""
           }
          },
          "scene": {
           "xaxis": {
            "backgroundcolor": "#E5ECF6",
            "gridcolor": "white",
            "gridwidth": 2,
            "linecolor": "white",
            "showbackground": true,
            "ticks": "",
            "zerolinecolor": "white"
           },
           "yaxis": {
            "backgroundcolor": "#E5ECF6",
            "gridcolor": "white",
            "gridwidth": 2,
            "linecolor": "white",
            "showbackground": true,
            "ticks": "",
            "zerolinecolor": "white"
           },
           "zaxis": {
            "backgroundcolor": "#E5ECF6",
            "gridcolor": "white",
            "gridwidth": 2,
            "linecolor": "white",
            "showbackground": true,
            "ticks": "",
            "zerolinecolor": "white"
           }
          },
          "shapedefaults": {
           "line": {
            "color": "#2a3f5f"
           }
          },
          "ternary": {
           "aaxis": {
            "gridcolor": "white",
            "linecolor": "white",
            "ticks": ""
           },
           "baxis": {
            "gridcolor": "white",
            "linecolor": "white",
            "ticks": ""
           },
           "bgcolor": "#E5ECF6",
           "caxis": {
            "gridcolor": "white",
            "linecolor": "white",
            "ticks": ""
           }
          },
          "title": {
           "x": 0.05
          },
          "xaxis": {
           "automargin": true,
           "gridcolor": "white",
           "linecolor": "white",
           "ticks": "",
           "title": {
            "standoff": 15
           },
           "zerolinecolor": "white",
           "zerolinewidth": 2
          },
          "yaxis": {
           "automargin": true,
           "gridcolor": "white",
           "linecolor": "white",
           "ticks": "",
           "title": {
            "standoff": 15
           },
           "zerolinecolor": "white",
           "zerolinewidth": 2
          }
         }
        },
        "xaxis": {
         "anchor": "y",
         "domain": [
          0,
          1
         ],
         "title": {
          "text": "parsed"
         }
        },
        "yaxis": {
         "anchor": "x",
         "domain": [
          0,
          1
         ],
         "title": {
          "text": "Percentage"
         }
        }
       }
      },
      "text/html": [
       "<div>                            <div id=\"4384a36b-1eb4-4ed8-bcdc-03159c6f0c87\" class=\"plotly-graph-div\" style=\"height:525px; width:100%;\"></div>            <script type=\"text/javascript\">                require([\"plotly\"], function(Plotly) {                    window.PLOTLYENV=window.PLOTLYENV || {};                                    if (document.getElementById(\"4384a36b-1eb4-4ed8-bcdc-03159c6f0c87\")) {                    Plotly.newPlot(                        \"4384a36b-1eb4-4ed8-bcdc-03159c6f0c87\",                        [{\"alignmentgroup\":\"True\",\"hovertemplate\":\"Edu.Group=College\\u003cbr\\u003eparsed=%{x}\\u003cbr\\u003ePercentage=%{y}\\u003cextra\\u003e\\u003c\\u002fextra\\u003e\",\"legendgroup\":\"College\",\"marker\":{\"color\":\"#636efa\",\"pattern\":{\"shape\":\"\"}},\"name\":\"College\",\"offsetgroup\":\"College\",\"orientation\":\"v\",\"showlegend\":true,\"textposition\":\"auto\",\"x\":[\"bland\",\"destructive\",\"dramatic\",\"dull\",\"erotic\",\"excite\",\"exciting\",\"gruesome\",\"intense\",\"irritable\",\"low\",\"molest\",\"monotonous\",\"rebellious\",\"seductive\",\"sensual\",\"sexual\",\"stunning\",\"thoughtful\",\"tiresome\",\"undisturbed\",\"venomous\"],\"xaxis\":\"x\",\"y\":[1.0869565217391304,1.0869565217391304,6.159420289855073,3.985507246376811,5.797101449275362,23.55072463768116,2.536231884057971,1.0869565217391304,5.072463768115942,6.884057971014493,5.434782608695652,1.8115942028985508,1.4492753623188406,2.1739130434782608,5.797101449275362,3.260869565217391,1.0869565217391304,2.1739130434782608,2.536231884057971,1.4492753623188406,2.1739130434782608,1.4492753623188406],\"yaxis\":\"y\",\"type\":\"bar\"},{\"alignmentgroup\":\"True\",\"hovertemplate\":\"Edu.Group=HIgh School\\u003cbr\\u003eparsed=%{x}\\u003cbr\\u003ePercentage=%{y}\\u003cextra\\u003e\\u003c\\u002fextra\\u003e\",\"legendgroup\":\"HIgh School\",\"marker\":{\"color\":\"#EF553B\",\"pattern\":{\"shape\":\"\"}},\"name\":\"HIgh School\",\"offsetgroup\":\"HIgh School\",\"orientation\":\"v\",\"showlegend\":true,\"textposition\":\"auto\",\"x\":[\"arsonist\",\"destructive\",\"devilish\",\"dramatic\",\"dull\",\"erotic\",\"excite\",\"exciting\",\"intense\",\"irritable\",\"low\",\"molest\",\"rebellious\",\"seductive\",\"sensual\",\"sexual\",\"stale\",\"stunning\",\"tiresome\",\"undisturbed\",\"venomous\"],\"xaxis\":\"x\",\"y\":[2.8213166144200628,1.5673981191222568,1.2539184952978055,5.015673981191222,1.8808777429467085,9.090909090909092,15.360501567398119,5.015673981191222,5.6426332288401255,5.015673981191222,4.38871473354232,1.8808777429467085,3.1347962382445136,7.523510971786834,6.269592476489027,1.2539184952978055,1.2539184952978055,1.8808777429467085,1.2539184952978055,2.507836990595611,4.075235109717868],\"yaxis\":\"y\",\"type\":\"bar\"},{\"alignmentgroup\":\"True\",\"hovertemplate\":\"Edu.Group=High School\\u003cbr\\u003eparsed=%{x}\\u003cbr\\u003ePercentage=%{y}\\u003cextra\\u003e\\u003c\\u002fextra\\u003e\",\"legendgroup\":\"High School\",\"marker\":{\"color\":\"#00cc96\",\"pattern\":{\"shape\":\"\"}},\"name\":\"High School\",\"offsetgroup\":\"High School\",\"orientation\":\"v\",\"showlegend\":true,\"textposition\":\"auto\",\"x\":[\"bland\",\"calm\",\"destructive\",\"dismissive\",\"dramatic\",\"dull\",\"erotic\",\"excite\",\"exciting\",\"incredible\",\"intense\",\"irritable\",\"low\",\"monotonous\",\"normal\",\"perky\",\"rebellious\",\"seductive\",\"sensual\",\"stunning\",\"thoughtful\",\"tiresome\",\"undisturbed\",\"venomous\"],\"xaxis\":\"x\",\"y\":[1.1494252873563218,1.3793103448275863,1.3793103448275863,1.3793103448275863,2.9885057471264367,2.528735632183908,11.03448275862069,7.816091954022989,4.597701149425287,1.3793103448275863,7.816091954022989,4.827586206896552,5.747126436781609,1.1494252873563218,2.528735632183908,1.839080459770115,2.7586206896551726,6.896551724137931,4.137931034482759,1.6091954022988506,2.9885057471264367,1.3793103448275863,1.3793103448275863,2.7586206896551726],\"yaxis\":\"y\",\"type\":\"bar\"},{\"alignmentgroup\":\"True\",\"hovertemplate\":\"Edu.Group=Some College\\u003cbr\\u003eparsed=%{x}\\u003cbr\\u003ePercentage=%{y}\\u003cextra\\u003e\\u003c\\u002fextra\\u003e\",\"legendgroup\":\"Some College\",\"marker\":{\"color\":\"#ab63fa\",\"pattern\":{\"shape\":\"\"}},\"name\":\"Some College\",\"offsetgroup\":\"Some College\",\"orientation\":\"v\",\"showlegend\":true,\"textposition\":\"auto\",\"x\":[\"bland\",\"calm\",\"comfortable\",\"common\",\"conservative\",\"destructive\",\"dramatic\",\"dull\",\"erotic\",\"excite\",\"exciting\",\"incredible\",\"intense\",\"irritable\",\"low\",\"molest\",\"perky\",\"rebellious\",\"seductive\",\"sensual\",\"stale\",\"stunning\",\"thoughtful\",\"tiresome\",\"undisturbed\",\"venomous\"],\"xaxis\":\"x\",\"y\":[1.5189873417721518,1.5189873417721518,1.0126582278481013,1.0126582278481013,1.2658227848101267,1.2658227848101267,4.30379746835443,3.2911392405063293,10.126582278481013,13.924050632911392,5.063291139240507,1.0126582278481013,4.810126582278481,5.5696202531645564,4.810126582278481,1.5189873417721518,1.2658227848101267,2.0253164556962027,7.59493670886076,5.063291139240507,1.0126582278481013,1.7721518987341773,2.278481012658228,2.7848101265822782,1.2658227848101267,1.0126582278481013],\"yaxis\":\"y\",\"type\":\"bar\"}],                        {\"template\":{\"data\":{\"histogram2dcontour\":[{\"type\":\"histogram2dcontour\",\"colorbar\":{\"outlinewidth\":0,\"ticks\":\"\"},\"colorscale\":[[0.0,\"#0d0887\"],[0.1111111111111111,\"#46039f\"],[0.2222222222222222,\"#7201a8\"],[0.3333333333333333,\"#9c179e\"],[0.4444444444444444,\"#bd3786\"],[0.5555555555555556,\"#d8576b\"],[0.6666666666666666,\"#ed7953\"],[0.7777777777777778,\"#fb9f3a\"],[0.8888888888888888,\"#fdca26\"],[1.0,\"#f0f921\"]]}],\"choropleth\":[{\"type\":\"choropleth\",\"colorbar\":{\"outlinewidth\":0,\"ticks\":\"\"}}],\"histogram2d\":[{\"type\":\"histogram2d\",\"colorbar\":{\"outlinewidth\":0,\"ticks\":\"\"},\"colorscale\":[[0.0,\"#0d0887\"],[0.1111111111111111,\"#46039f\"],[0.2222222222222222,\"#7201a8\"],[0.3333333333333333,\"#9c179e\"],[0.4444444444444444,\"#bd3786\"],[0.5555555555555556,\"#d8576b\"],[0.6666666666666666,\"#ed7953\"],[0.7777777777777778,\"#fb9f3a\"],[0.8888888888888888,\"#fdca26\"],[1.0,\"#f0f921\"]]}],\"heatmap\":[{\"type\":\"heatmap\",\"colorbar\":{\"outlinewidth\":0,\"ticks\":\"\"},\"colorscale\":[[0.0,\"#0d0887\"],[0.1111111111111111,\"#46039f\"],[0.2222222222222222,\"#7201a8\"],[0.3333333333333333,\"#9c179e\"],[0.4444444444444444,\"#bd3786\"],[0.5555555555555556,\"#d8576b\"],[0.6666666666666666,\"#ed7953\"],[0.7777777777777778,\"#fb9f3a\"],[0.8888888888888888,\"#fdca26\"],[1.0,\"#f0f921\"]]}],\"heatmapgl\":[{\"type\":\"heatmapgl\",\"colorbar\":{\"outlinewidth\":0,\"ticks\":\"\"},\"colorscale\":[[0.0,\"#0d0887\"],[0.1111111111111111,\"#46039f\"],[0.2222222222222222,\"#7201a8\"],[0.3333333333333333,\"#9c179e\"],[0.4444444444444444,\"#bd3786\"],[0.5555555555555556,\"#d8576b\"],[0.6666666666666666,\"#ed7953\"],[0.7777777777777778,\"#fb9f3a\"],[0.8888888888888888,\"#fdca26\"],[1.0,\"#f0f921\"]]}],\"contourcarpet\":[{\"type\":\"contourcarpet\",\"colorbar\":{\"outlinewidth\":0,\"ticks\":\"\"}}],\"contour\":[{\"type\":\"contour\",\"colorbar\":{\"outlinewidth\":0,\"ticks\":\"\"},\"colorscale\":[[0.0,\"#0d0887\"],[0.1111111111111111,\"#46039f\"],[0.2222222222222222,\"#7201a8\"],[0.3333333333333333,\"#9c179e\"],[0.4444444444444444,\"#bd3786\"],[0.5555555555555556,\"#d8576b\"],[0.6666666666666666,\"#ed7953\"],[0.7777777777777778,\"#fb9f3a\"],[0.8888888888888888,\"#fdca26\"],[1.0,\"#f0f921\"]]}],\"surface\":[{\"type\":\"surface\",\"colorbar\":{\"outlinewidth\":0,\"ticks\":\"\"},\"colorscale\":[[0.0,\"#0d0887\"],[0.1111111111111111,\"#46039f\"],[0.2222222222222222,\"#7201a8\"],[0.3333333333333333,\"#9c179e\"],[0.4444444444444444,\"#bd3786\"],[0.5555555555555556,\"#d8576b\"],[0.6666666666666666,\"#ed7953\"],[0.7777777777777778,\"#fb9f3a\"],[0.8888888888888888,\"#fdca26\"],[1.0,\"#f0f921\"]]}],\"mesh3d\":[{\"type\":\"mesh3d\",\"colorbar\":{\"outlinewidth\":0,\"ticks\":\"\"}}],\"scatter\":[{\"fillpattern\":{\"fillmode\":\"overlay\",\"size\":10,\"solidity\":0.2},\"type\":\"scatter\"}],\"parcoords\":[{\"type\":\"parcoords\",\"line\":{\"colorbar\":{\"outlinewidth\":0,\"ticks\":\"\"}}}],\"scatterpolargl\":[{\"type\":\"scatterpolargl\",\"marker\":{\"colorbar\":{\"outlinewidth\":0,\"ticks\":\"\"}}}],\"bar\":[{\"error_x\":{\"color\":\"#2a3f5f\"},\"error_y\":{\"color\":\"#2a3f5f\"},\"marker\":{\"line\":{\"color\":\"#E5ECF6\",\"width\":0.5},\"pattern\":{\"fillmode\":\"overlay\",\"size\":10,\"solidity\":0.2}},\"type\":\"bar\"}],\"scattergeo\":[{\"type\":\"scattergeo\",\"marker\":{\"colorbar\":{\"outlinewidth\":0,\"ticks\":\"\"}}}],\"scatterpolar\":[{\"type\":\"scatterpolar\",\"marker\":{\"colorbar\":{\"outlinewidth\":0,\"ticks\":\"\"}}}],\"histogram\":[{\"marker\":{\"pattern\":{\"fillmode\":\"overlay\",\"size\":10,\"solidity\":0.2}},\"type\":\"histogram\"}],\"scattergl\":[{\"type\":\"scattergl\",\"marker\":{\"colorbar\":{\"outlinewidth\":0,\"ticks\":\"\"}}}],\"scatter3d\":[{\"type\":\"scatter3d\",\"line\":{\"colorbar\":{\"outlinewidth\":0,\"ticks\":\"\"}},\"marker\":{\"colorbar\":{\"outlinewidth\":0,\"ticks\":\"\"}}}],\"scattermapbox\":[{\"type\":\"scattermapbox\",\"marker\":{\"colorbar\":{\"outlinewidth\":0,\"ticks\":\"\"}}}],\"scatterternary\":[{\"type\":\"scatterternary\",\"marker\":{\"colorbar\":{\"outlinewidth\":0,\"ticks\":\"\"}}}],\"scattercarpet\":[{\"type\":\"scattercarpet\",\"marker\":{\"colorbar\":{\"outlinewidth\":0,\"ticks\":\"\"}}}],\"carpet\":[{\"aaxis\":{\"endlinecolor\":\"#2a3f5f\",\"gridcolor\":\"white\",\"linecolor\":\"white\",\"minorgridcolor\":\"white\",\"startlinecolor\":\"#2a3f5f\"},\"baxis\":{\"endlinecolor\":\"#2a3f5f\",\"gridcolor\":\"white\",\"linecolor\":\"white\",\"minorgridcolor\":\"white\",\"startlinecolor\":\"#2a3f5f\"},\"type\":\"carpet\"}],\"table\":[{\"cells\":{\"fill\":{\"color\":\"#EBF0F8\"},\"line\":{\"color\":\"white\"}},\"header\":{\"fill\":{\"color\":\"#C8D4E3\"},\"line\":{\"color\":\"white\"}},\"type\":\"table\"}],\"barpolar\":[{\"marker\":{\"line\":{\"color\":\"#E5ECF6\",\"width\":0.5},\"pattern\":{\"fillmode\":\"overlay\",\"size\":10,\"solidity\":0.2}},\"type\":\"barpolar\"}],\"pie\":[{\"automargin\":true,\"type\":\"pie\"}]},\"layout\":{\"autotypenumbers\":\"strict\",\"colorway\":[\"#636efa\",\"#EF553B\",\"#00cc96\",\"#ab63fa\",\"#FFA15A\",\"#19d3f3\",\"#FF6692\",\"#B6E880\",\"#FF97FF\",\"#FECB52\"],\"font\":{\"color\":\"#2a3f5f\"},\"hovermode\":\"closest\",\"hoverlabel\":{\"align\":\"left\"},\"paper_bgcolor\":\"white\",\"plot_bgcolor\":\"#E5ECF6\",\"polar\":{\"bgcolor\":\"#E5ECF6\",\"angularaxis\":{\"gridcolor\":\"white\",\"linecolor\":\"white\",\"ticks\":\"\"},\"radialaxis\":{\"gridcolor\":\"white\",\"linecolor\":\"white\",\"ticks\":\"\"}},\"ternary\":{\"bgcolor\":\"#E5ECF6\",\"aaxis\":{\"gridcolor\":\"white\",\"linecolor\":\"white\",\"ticks\":\"\"},\"baxis\":{\"gridcolor\":\"white\",\"linecolor\":\"white\",\"ticks\":\"\"},\"caxis\":{\"gridcolor\":\"white\",\"linecolor\":\"white\",\"ticks\":\"\"}},\"coloraxis\":{\"colorbar\":{\"outlinewidth\":0,\"ticks\":\"\"}},\"colorscale\":{\"sequential\":[[0.0,\"#0d0887\"],[0.1111111111111111,\"#46039f\"],[0.2222222222222222,\"#7201a8\"],[0.3333333333333333,\"#9c179e\"],[0.4444444444444444,\"#bd3786\"],[0.5555555555555556,\"#d8576b\"],[0.6666666666666666,\"#ed7953\"],[0.7777777777777778,\"#fb9f3a\"],[0.8888888888888888,\"#fdca26\"],[1.0,\"#f0f921\"]],\"sequentialminus\":[[0.0,\"#0d0887\"],[0.1111111111111111,\"#46039f\"],[0.2222222222222222,\"#7201a8\"],[0.3333333333333333,\"#9c179e\"],[0.4444444444444444,\"#bd3786\"],[0.5555555555555556,\"#d8576b\"],[0.6666666666666666,\"#ed7953\"],[0.7777777777777778,\"#fb9f3a\"],[0.8888888888888888,\"#fdca26\"],[1.0,\"#f0f921\"]],\"diverging\":[[0,\"#8e0152\"],[0.1,\"#c51b7d\"],[0.2,\"#de77ae\"],[0.3,\"#f1b6da\"],[0.4,\"#fde0ef\"],[0.5,\"#f7f7f7\"],[0.6,\"#e6f5d0\"],[0.7,\"#b8e186\"],[0.8,\"#7fbc41\"],[0.9,\"#4d9221\"],[1,\"#276419\"]]},\"xaxis\":{\"gridcolor\":\"white\",\"linecolor\":\"white\",\"ticks\":\"\",\"title\":{\"standoff\":15},\"zerolinecolor\":\"white\",\"automargin\":true,\"zerolinewidth\":2},\"yaxis\":{\"gridcolor\":\"white\",\"linecolor\":\"white\",\"ticks\":\"\",\"title\":{\"standoff\":15},\"zerolinecolor\":\"white\",\"automargin\":true,\"zerolinewidth\":2},\"scene\":{\"xaxis\":{\"backgroundcolor\":\"#E5ECF6\",\"gridcolor\":\"white\",\"linecolor\":\"white\",\"showbackground\":true,\"ticks\":\"\",\"zerolinecolor\":\"white\",\"gridwidth\":2},\"yaxis\":{\"backgroundcolor\":\"#E5ECF6\",\"gridcolor\":\"white\",\"linecolor\":\"white\",\"showbackground\":true,\"ticks\":\"\",\"zerolinecolor\":\"white\",\"gridwidth\":2},\"zaxis\":{\"backgroundcolor\":\"#E5ECF6\",\"gridcolor\":\"white\",\"linecolor\":\"white\",\"showbackground\":true,\"ticks\":\"\",\"zerolinecolor\":\"white\",\"gridwidth\":2}},\"shapedefaults\":{\"line\":{\"color\":\"#2a3f5f\"}},\"annotationdefaults\":{\"arrowcolor\":\"#2a3f5f\",\"arrowhead\":0,\"arrowwidth\":1},\"geo\":{\"bgcolor\":\"white\",\"landcolor\":\"#E5ECF6\",\"subunitcolor\":\"white\",\"showland\":true,\"showlakes\":true,\"lakecolor\":\"white\"},\"title\":{\"x\":0.05},\"mapbox\":{\"style\":\"light\"}}},\"xaxis\":{\"anchor\":\"y\",\"domain\":[0.0,1.0],\"title\":{\"text\":\"parsed\"}},\"yaxis\":{\"anchor\":\"x\",\"domain\":[0.0,1.0],\"title\":{\"text\":\"Percentage\"}},\"legend\":{\"title\":{\"text\":\"Edu.Group\"},\"tracegroupgap\":0},\"margin\":{\"t\":60},\"barmode\":\"group\"},                        {\"responsive\": true}                    ).then(function(){\n",
       "                            \n",
       "var gd = document.getElementById('4384a36b-1eb4-4ed8-bcdc-03159c6f0c87');\n",
       "var x = new MutationObserver(function (mutations, observer) {{\n",
       "        var display = window.getComputedStyle(gd).display;\n",
       "        if (!display || display === 'none') {{\n",
       "            console.log([gd, 'removed!']);\n",
       "            Plotly.purge(gd);\n",
       "            observer.disconnect();\n",
       "        }}\n",
       "}});\n",
       "\n",
       "// Listen for the removal of the full notebook cells\n",
       "var notebookContainer = gd.closest('#notebook-container');\n",
       "if (notebookContainer) {{\n",
       "    x.observe(notebookContainer, {childList: true});\n",
       "}}\n",
       "\n",
       "// Listen for the clearing of the current output cell\n",
       "var outputEl = gd.closest('.output');\n",
       "if (outputEl) {{\n",
       "    x.observe(outputEl, {childList: true});\n",
       "}}\n",
       "\n",
       "                        })                };                });            </script>        </div>"
      ]
     },
     "metadata": {},
     "output_type": "display_data"
    }
   ],
   "source": [
    "dsubset = df[['Spkr', 'segment', 'Age', 'Gender', 'Education', 'Occupation', 'Edu.Group', 'Age.Group', \n",
    "       'model_response_adjective_arousal_Qwen2-Audio-7B-Instruct',\n",
    "       'model_prompt_adjective_arousal_Qwen2-Audio-7B-Instruct']].copy()\n",
    "\n",
    "\n",
    "subset['parsed'] = subset.apply(lambda row: parse_adjectives(row, 'model_response_adjective_arousal_Qwen2-Audio-7B-Instruct', ADJECTIVES_AROUSAL['english']), axis=1)\n",
    "\n",
    "\n",
    "df_exploded = subset.explode('parsed')\n",
    "result = df_exploded.groupby(['Edu.Group', 'parsed']).size().reset_index(name='count')\n",
    "\n",
    "\n",
    "result['Total'] = result.groupby('Edu.Group')['count'].transform('sum')\n",
    "result['Percentage'] = result['count'] / result['Total'] * 100\n",
    "\n",
    "result = result[result['Percentage']>1]\n",
    "\n",
    "\n",
    "# Create a grouped bar plot\n",
    "fig = px.bar(\n",
    "    result,\n",
    "    x='parsed',\n",
    "    y='Percentage',\n",
    "    color='Edu.Group',    # Different colors for each group\n",
    "    barmode='group',  # Place bars side-by-side rather than stacking them\n",
    ")\n",
    "fig.show()"
   ]
  },
  {
   "cell_type": "code",
   "execution_count": 43,
   "metadata": {},
   "outputs": [
    {
     "data": {
      "application/vnd.plotly.v1+json": {
       "config": {
        "plotlyServerURL": "https://plot.ly"
       },
       "data": [
        {
         "alignmentgroup": "True",
         "bingroup": "x",
         "histnorm": "percent",
         "hovertemplate": "Gender=Female<br>arousal=%{x}<br>percent=%{y}<extra></extra>",
         "legendgroup": "Female",
         "marker": {
          "color": "#636efa",
          "opacity": 0.7,
          "pattern": {
           "shape": ""
          }
         },
         "name": "Female",
         "nbinsx": 40,
         "offsetgroup": "Female",
         "orientation": "v",
         "showlegend": true,
         "type": "histogram",
         "x": [
          6.52,
          6.52,
          6.61,
          6.61,
          6.52,
          1.67,
          6.61,
          2.55,
          2.38,
          6.61,
          6.5,
          1.67,
          6.61,
          6.59,
          6.59,
          1.67,
          6.6,
          6.52,
          6.67,
          2.55,
          1.67,
          7.27,
          6.35,
          2.55,
          6.43,
          2.68,
          2.55,
          7.27,
          2.45,
          7.27,
          2.55,
          2.38,
          2.55,
          6.45,
          6.37,
          1.67,
          2.38,
          6.59,
          6.59,
          6.37,
          6.5,
          6.37,
          6.37,
          7.27,
          2.68,
          6.61,
          2.52,
          6.61,
          1.95,
          6.35,
          6.5,
          6.35,
          1.67,
          6.52,
          6.52,
          2.68,
          7.27,
          6.61,
          6.6,
          2.59,
          6.37,
          6.6,
          6.52,
          6.6,
          6.35,
          6.52,
          6.52,
          2.59,
          7.27,
          6.95,
          6.43,
          7.27,
          6.35,
          2.43,
          6.61,
          2.59,
          7.27,
          6.57,
          6.61,
          2.68,
          2.38,
          2.6,
          2.52,
          6.5,
          2.55,
          6.45,
          2.55,
          2.21,
          2.68,
          6.37,
          2.49,
          6.6,
          7.27,
          2.52,
          6.35,
          6.61,
          1.67,
          6.37,
          7.27,
          7.21,
          2.68,
          6.5,
          6.61,
          6.59,
          6.5,
          6.5,
          6.5,
          6.61,
          6.61,
          7.27,
          7.27,
          7.27,
          6.61,
          7.27,
          7.27,
          2.64,
          2.21,
          6.59,
          6.61,
          6.52,
          6.59,
          2.21,
          6.37,
          6.52,
          6.6,
          2.21,
          6.52,
          6.43,
          2.43,
          6.61,
          2.52,
          6.61,
          2.65,
          6.61,
          6.37,
          2.55,
          2.59,
          7.27,
          2.5,
          6.95,
          6.37,
          6.95,
          6.6,
          6.43,
          6.35,
          6.59,
          6.61,
          6.61,
          2.43,
          6.6,
          6.43,
          6.37,
          7.27,
          6.95,
          7.27,
          2.5,
          2.52,
          7.21,
          6.57,
          7.05,
          6.37,
          2.29,
          7.27,
          7.27,
          6.35,
          7.27,
          1.67,
          6.57,
          7.27,
          6.52,
          6.37,
          6.35,
          6.37,
          6.6,
          6.6,
          6.35,
          6.95,
          6.61,
          7.27,
          6.45,
          6.61,
          2.68,
          2.55,
          2.67,
          2.21,
          6.95,
          6.95,
          6.95,
          2.21,
          6.37,
          6.61,
          2.65,
          7.27,
          7.27,
          2.38,
          7.21,
          7.27,
          2.67,
          7.21,
          6.52,
          6.61,
          2.55,
          7.27,
          2.68,
          6.38,
          2.55,
          6.52,
          2.52,
          6.5,
          1.95,
          6.57,
          6.61,
          6.35,
          7.27,
          6.5,
          6.35,
          2.64,
          2.21,
          6.52,
          6.33,
          6.61,
          7.27,
          1.67,
          7.27,
          6.61,
          6.81,
          6.45,
          7.27,
          6.59,
          6.6,
          6.33,
          1.67,
          6.43,
          7.27,
          6.37,
          6.52,
          6.52,
          6.45,
          1.67,
          2.57,
          6.52,
          2.43,
          6.35,
          6.6,
          6.52,
          2.52,
          2.65,
          7.27,
          7.27,
          7.27,
          7.27,
          6.57,
          2.21,
          6.52,
          6.38,
          6.6,
          7.27,
          6.59,
          2.45,
          2.64,
          2.5,
          2.43,
          2.49,
          6.35,
          2.52,
          7.27,
          7.27,
          2.68,
          6.61,
          6.35,
          2.29,
          2.5,
          6.37,
          2.21,
          6.62,
          2.68,
          2.21,
          2.64,
          6.35,
          2.65,
          7.27,
          6.61,
          6.61,
          7.27,
          6.95,
          6.52,
          6.52,
          7.27,
          6.61,
          2.43,
          2.21,
          2.59,
          6.61,
          6.61,
          7.27,
          6.95,
          6.95,
          6.61,
          6.61,
          6.61,
          7.27,
          6.45,
          6.52,
          2.21,
          2.67,
          2.38,
          6.6,
          6.61,
          6.61,
          2.43,
          2.43,
          2.29,
          6.59,
          6.5,
          6.59,
          2.52,
          6.6,
          7.27,
          6.52,
          6.6,
          7.21,
          6.6,
          6.35,
          2.55,
          6.5,
          2.29,
          6.45,
          6.52,
          6.52,
          6.52,
          6.6,
          6.61,
          6.95,
          2.21,
          6.6,
          2.21,
          2.7,
          6.61,
          6.6,
          2.45,
          6.35,
          6.67,
          6.62,
          6.8,
          2.6,
          1.67,
          7.21,
          2.68,
          6.52,
          6.5,
          2.67,
          6.61,
          7.27,
          6.5,
          1.67,
          2.29,
          7.27,
          2.64,
          6.59,
          7.27,
          7.27,
          6.35,
          2.59,
          6.95,
          6.37,
          6.35,
          6.61,
          6.74,
          2.5,
          6.61,
          6.55,
          7.27,
          6.52,
          2.29,
          6.52,
          6.59,
          6.35,
          7.27,
          6.35,
          2.5,
          7.21,
          6.37,
          6.55,
          1.67,
          2.49,
          1.67,
          1.67,
          6.52,
          2.52,
          7.21,
          6.52,
          2.52,
          2.21,
          2.29
         ],
         "xaxis": "x",
         "yaxis": "y"
        },
        {
         "alignmentgroup": "True",
         "bingroup": "x",
         "histnorm": "percent",
         "hovertemplate": "Gender=Male<br>arousal=%{x}<br>percent=%{y}<extra></extra>",
         "legendgroup": "Male",
         "marker": {
          "color": "#EF553B",
          "opacity": 0.7,
          "pattern": {
           "shape": ""
          }
         },
         "name": "Male",
         "nbinsx": 40,
         "offsetgroup": "Male",
         "orientation": "v",
         "showlegend": true,
         "type": "histogram",
         "x": [
          6.59,
          7.27,
          7.27,
          2.43,
          7.27,
          6.95,
          6.6,
          6.6,
          6.6,
          7.27,
          6.6,
          6.6,
          6.52,
          2.64,
          7.27,
          2.65,
          6.37,
          6.38,
          6.62,
          6.38,
          6.38,
          6.38,
          6.59,
          1.67,
          2.52,
          2.55,
          2.21,
          6.6,
          6.35,
          6.35,
          6.37,
          6.35,
          2.65,
          6.61,
          2.52,
          6.59,
          2.25,
          6.5,
          6.52,
          6.61,
          2.21,
          2.55,
          6.35,
          1.67,
          2.21,
          7.27,
          2.21,
          6.52,
          6.59,
          6.61,
          6.61,
          6.37,
          7.27,
          6.61,
          6.61,
          2.52,
          6.61,
          6.81,
          6.35,
          1.67,
          6.57,
          2.21,
          2.35,
          7.21,
          6.59,
          7.27,
          1.67,
          6.52,
          6.43,
          6.8,
          6.37,
          2.65,
          6.52,
          6.95,
          1.67,
          6.37,
          6.52,
          2.68,
          6.95,
          7.27,
          6.45,
          2.21,
          2.68,
          6.6,
          6.62,
          6.61,
          6.37,
          6.35,
          2.38,
          2.21,
          2.21,
          6.52,
          6.95,
          6.6,
          6.35,
          2.67,
          6.35,
          6.95,
          7.27,
          6.61,
          6.8,
          6.61,
          6.43,
          6.61,
          6.52,
          6.61,
          6.8,
          6.95,
          2.67,
          2.5,
          6.43,
          2.68,
          6.95,
          2.29,
          6.61,
          7.27,
          6.61,
          6.38,
          7.21,
          7.21,
          6.62,
          2.52,
          6.52,
          2.52,
          6.61,
          6.35,
          6.6,
          6.61,
          6.45,
          6.37,
          6.52,
          6.37,
          6.95,
          6.61,
          6.52,
          6.61,
          6.37,
          6.45,
          6.95,
          6.59,
          7.27,
          6.57,
          7.27,
          6.61,
          2.21,
          1.67,
          6.6,
          6.57,
          6.61,
          2.52,
          6.61,
          2.21,
          6.61,
          6.37,
          6.5,
          6.61,
          6.45,
          6.37,
          6.37,
          6.35,
          6.61,
          7.27,
          6.52,
          2.43,
          6.35,
          6.61,
          6.35,
          6.38,
          6.59,
          6.61,
          1.67,
          2.21,
          6.61,
          6.95,
          6.95,
          6.37,
          6.61,
          6.37,
          7.27,
          1.67,
          7.27,
          6.95,
          1.67,
          6.52,
          6.95,
          2.21,
          2.59,
          6.95,
          6.95,
          6.67,
          6.59,
          6.35,
          6.61,
          2.43,
          6.61,
          2.55,
          1.95,
          6.37,
          2.68,
          6.6,
          6.61,
          2.21,
          1.67,
          2.56,
          6.95,
          2.52,
          6.95,
          6.95,
          7.21,
          2.43,
          6.61,
          6.59,
          6.95,
          6.35,
          6.37,
          6.61,
          6.52,
          2.52,
          6.45,
          6.61,
          2.29,
          6.35,
          6.95,
          2.65,
          2.59,
          7.27,
          6.45,
          6.67,
          2.59,
          1.67,
          7.27,
          6.35,
          6.5,
          2.21,
          2.45,
          6.35,
          7.27,
          6.59,
          6.95,
          7.27,
          7.27,
          6.61,
          6.6,
          6.61,
          6.95,
          6.33,
          2.67,
          6.35,
          2.21,
          6.5,
          6.37,
          6.95,
          6.61,
          6.61,
          6.61,
          2.21,
          6.6,
          6.61,
          6.52,
          2.68,
          6.95,
          6.61,
          6.35,
          2.21,
          6.95,
          6.6,
          6.52,
          6.61,
          2.68,
          6.45,
          1.67,
          2.21,
          7.21,
          6.61,
          6.5,
          2.5,
          6.61,
          6.59,
          6.61,
          6.95,
          6.6,
          6.38,
          6.35,
          2.43,
          6.61,
          6.57,
          6.61,
          6.59,
          2.68,
          7.27,
          6.95,
          7.27,
          6.95,
          2.65,
          7.21,
          2.68,
          7.27,
          6.37,
          7.05,
          6.35,
          6.95,
          6.59,
          6.59,
          6.61,
          6.61,
          6.61,
          6.6,
          6.37,
          2.29,
          6.35,
          6.5,
          2.59,
          1.67,
          2.21,
          6.37,
          1.95,
          6.35,
          7.27,
          1.67,
          6.61,
          1.67,
          2.67,
          6.95,
          6.61,
          7.21,
          6.61,
          6.52,
          6.45,
          1.67,
          6.95,
          1.67,
          6.38,
          2.21,
          2.55,
          6.61,
          6.61,
          6.8,
          6.35,
          2.25,
          2.55,
          6.95,
          6.61,
          6.35,
          6.61,
          6.61,
          6.6,
          6.61,
          7.27,
          6.61,
          6.35,
          6.61,
          6.35,
          2.52,
          6.59,
          2.61,
          6.45,
          6.37,
          6.52,
          6.59,
          6.62,
          6.37,
          2.68,
          6.52,
          2.59,
          1.67,
          6.61,
          6.59,
          6.6,
          6.52,
          6.52,
          6.61,
          6.61,
          6.45,
          2.55,
          6.61,
          6.95,
          6.81,
          1.67,
          6.59,
          6.6,
          6.37,
          6.45,
          6.61,
          6.37,
          6.95,
          6.61,
          2.5,
          6.35,
          2.43,
          6.45,
          2.59,
          6.61,
          6.95,
          2.68,
          6.37,
          6.95,
          6.52,
          6.37,
          6.59,
          6.61,
          6.6,
          7.21,
          6.61,
          6.61,
          6.61,
          1.67,
          6.6,
          2.21,
          6.59,
          6.61,
          6.43,
          6.43,
          2.21,
          6.61,
          6.81,
          1.67,
          6.9,
          6.61,
          7.21,
          2.68,
          6.61,
          6.61,
          6.61,
          6.61,
          6.59,
          6.61,
          6.59,
          2.21,
          6.62,
          6.61,
          2.59,
          2.21,
          6.67,
          6.61,
          6.61,
          6.61,
          6.52,
          6.61,
          6.61,
          6.59,
          1.67,
          6.52,
          6.35,
          6.61,
          6.59,
          2.21,
          6.52,
          6.61,
          2.38,
          2.55,
          6.6,
          7.27,
          6.38,
          6.95,
          6.67,
          2.59,
          6.61,
          2.67,
          6.6,
          6.61,
          6.52,
          6.37,
          6.35,
          7.27,
          6.52,
          6.61,
          6.59,
          6.6,
          6.61,
          6.37,
          6.61,
          6.38,
          6.59,
          6.5,
          6.61,
          6.95,
          2.59,
          6.52,
          6.6,
          7.27,
          6.61,
          6.61,
          6.52,
          6.37,
          2.21,
          6.37,
          2.59,
          6.61,
          6.61,
          6.38,
          6.95,
          2.21,
          6.37,
          2.21,
          6.37,
          6.61,
          1.67,
          6.62,
          6.8,
          2.55,
          6.61,
          6.59,
          7.27,
          6.37,
          7.27,
          2.43,
          1.67,
          6.61,
          2.29,
          6.61,
          6.6,
          2.21,
          6.61,
          7.27,
          6.35,
          2.5,
          6.61,
          6.95,
          2.5,
          7.27,
          6.35,
          2.49,
          6.6,
          6.61,
          2.55,
          2.68,
          1.67,
          7.27,
          1.67,
          7.27,
          6.52,
          1.67,
          1.67,
          2.43,
          2.29,
          6.45,
          6.6,
          7.27,
          6.6,
          7.21,
          6.95,
          2.7,
          6.57,
          6.59,
          2.21,
          2.21,
          7.27,
          2.43,
          6.37,
          6.8,
          6.45,
          1.95,
          7.27,
          2.55,
          2.68,
          2.59,
          2.52,
          2.21,
          6.59,
          7.21,
          6.6,
          2.21,
          6.45,
          6.35,
          6.52,
          6.95,
          6.57,
          6.6,
          7.27,
          6.37,
          6.5,
          6.6,
          6.45,
          6.6,
          6.52,
          2.6,
          2.68,
          2.49,
          6.45,
          6.35,
          2.55,
          6.95,
          6.61,
          2.21,
          2.45,
          6.61,
          2.21,
          6.6,
          6.37,
          7.27,
          6.52,
          2.43,
          6.74,
          7.27,
          6.61,
          6.52,
          6.95,
          7.27,
          2.29,
          7.27,
          6.52,
          6.61,
          7.27,
          6.37,
          2.38,
          6.38,
          6.52,
          6.6,
          2.21,
          7.27,
          7.27,
          6.6,
          7.27,
          2.65,
          2.21,
          2.67,
          6.81,
          6.45,
          6.6,
          6.37,
          1.67,
          6.45,
          2.21,
          1.95,
          2.67,
          6.45,
          6.38,
          7.27,
          2.52,
          6.38,
          6.43,
          6.59,
          6.61,
          7.21,
          6.45,
          7.27,
          1.67,
          6.61,
          6.95,
          6.61,
          2.21,
          2.55,
          6.37,
          7.27,
          6.6,
          6.37,
          2.43,
          6.59,
          6.37,
          2.21,
          6.37,
          6.45,
          1.67,
          6.38,
          6.52,
          6.35,
          6.38,
          7.27,
          6.95,
          1.67,
          6.59,
          6.35,
          2.59,
          6.52,
          6.95,
          6.52,
          6.95,
          6.61,
          6.59,
          2.57,
          7.21,
          6.35,
          2.5,
          6.52,
          6.6,
          6.6,
          6.52,
          6.43,
          6.95,
          6.61,
          6.6,
          6.95,
          7.27,
          6.43,
          6.37,
          6.57,
          6.6,
          6.52,
          6.52,
          6.61,
          6.61,
          6.59,
          6.37,
          7.21,
          7.27,
          6.95,
          6.45,
          7.21,
          6.62,
          7.27,
          6.43,
          6.6,
          6.43,
          6.35,
          6.45,
          6.35,
          6.38,
          7.27,
          6.95,
          6.35,
          2.21,
          2.59,
          6.6,
          6.95,
          7.27,
          6.35,
          6.61,
          2.21,
          2.21,
          2.59,
          6.52,
          2.59,
          6.95,
          6.38,
          7.27,
          6.61,
          6.59,
          1.67,
          6.6,
          2.55,
          6.61,
          2.52,
          7.27,
          6.61,
          6.61,
          6.61,
          6.45,
          6.95,
          6.81,
          6.95,
          7.27,
          6.5,
          6.59,
          7.21,
          6.6,
          6.37,
          6.6,
          1.67,
          6.95,
          6.35,
          2.21,
          6.37,
          6.61,
          7.27,
          7.27,
          7.27,
          6.61,
          6.6,
          6.52,
          2.43,
          2.21,
          2.59,
          6.6,
          6.61,
          6.45,
          6.5,
          6.95,
          6.95,
          6.52,
          1.67,
          6.37,
          6.61,
          7.27,
          6.38,
          6.61,
          6.61,
          6.59,
          7.27,
          6.52,
          7.27,
          2.6,
          2.68,
          6.95,
          6.95,
          6.52,
          6.52,
          6.35,
          6.95,
          7.21,
          7.21,
          6.37,
          6.59,
          2.21,
          6.61,
          2.5,
          6.37,
          2.55,
          2.43,
          6.61,
          6.61,
          6.8,
          6.35,
          6.52,
          6.59,
          2.21,
          6.61,
          6.61,
          6.52,
          6.61,
          6.52,
          2.59,
          6.52,
          6.61,
          6.61,
          7.21,
          6.37,
          6.59,
          7.21,
          6.6,
          2.55,
          6.61,
          7.27,
          6.61,
          7.27,
          6.52,
          2.45,
          7.21,
          6.95,
          6.43,
          7.27,
          6.52,
          6.52,
          7.21,
          6.35,
          2.68,
          6.35,
          6.52,
          2.68,
          2.59,
          6.61,
          2.52,
          6.61,
          6.38,
          6.62,
          6.37,
          6.57,
          6.52,
          6.95,
          7.21,
          6.95,
          6.6,
          2.58,
          6.5,
          6.43,
          6.61,
          6.35,
          2.67,
          6.52,
          6.6,
          6.95,
          6.95,
          7.27,
          6.59,
          6.6,
          6.6,
          7.27,
          6.61,
          6.57,
          6.52,
          6.81,
          6.35,
          6.6,
          6.52,
          7.27,
          7.27,
          6.38,
          7.27,
          2.5,
          2.21,
          6.35,
          6.52,
          6.95,
          2.21,
          6.52,
          6.37,
          2.52,
          6.57,
          6.61,
          6.59,
          6.38,
          6.37,
          6.61,
          6.37,
          2.59,
          6.37,
          6.61,
          2.21,
          6.45,
          7.27,
          6.61,
          6.6,
          6.45,
          6.61,
          6.52,
          6.6,
          6.6,
          2.43,
          6.35,
          2.67,
          6.61,
          6.6,
          2.21,
          6.59,
          6.52,
          7.27,
          7.27,
          6.6,
          1.67,
          7.27,
          6.52,
          6.6,
          6.59,
          6.61,
          6.61,
          6.61,
          6.37,
          2.21,
          2.43,
          6.37,
          6.59,
          6.61,
          6.95,
          7.27,
          6.52,
          2.43,
          2.68,
          6.59,
          6.61,
          6.95,
          7.05,
          6.6,
          2.68,
          6.35,
          6.37,
          7.21,
          2.55,
          7.27,
          6.45,
          6.35,
          2.59,
          2.21,
          6.6,
          6.6,
          2.21,
          2.29,
          1.67,
          2.55,
          2.5,
          2.55,
          1.67,
          6.95,
          6.45,
          6.59,
          1.67,
          6.59,
          6.61,
          2.68,
          6.37,
          2.68,
          6.61,
          2.68,
          2.29,
          6.95,
          6.67,
          6.35,
          1.67,
          2.29,
          2.65,
          6.43,
          6.35,
          2.43,
          6.38,
          6.4,
          2.29,
          6.52,
          2.64,
          7.27,
          7.27,
          2.21,
          6.61,
          6.61,
          2.21,
          6.67,
          6.95,
          6.95,
          6.5,
          6.61,
          2.59,
          6.95,
          6.95,
          2.21,
          7.21,
          2.43,
          6.95,
          6.52,
          6.61,
          6.59,
          6.61,
          6.35,
          6.35,
          6.35,
          6.61,
          2.68,
          1.67,
          2.55,
          2.21,
          6.38,
          2.55,
          2.55,
          6.8,
          6.6,
          2.59,
          6.61,
          2.65,
          6.52,
          6.6,
          6.57,
          6.95,
          2.38,
          7.27,
          2.43
         ],
         "xaxis": "x",
         "yaxis": "y"
        }
       ],
       "layout": {
        "barmode": "overlay",
        "legend": {
         "title": {
          "text": "Gender"
         },
         "tracegroupgap": 0
        },
        "template": {
         "data": {
          "bar": [
           {
            "error_x": {
             "color": "#2a3f5f"
            },
            "error_y": {
             "color": "#2a3f5f"
            },
            "marker": {
             "line": {
              "color": "#E5ECF6",
              "width": 0.5
             },
             "pattern": {
              "fillmode": "overlay",
              "size": 10,
              "solidity": 0.2
             }
            },
            "type": "bar"
           }
          ],
          "barpolar": [
           {
            "marker": {
             "line": {
              "color": "#E5ECF6",
              "width": 0.5
             },
             "pattern": {
              "fillmode": "overlay",
              "size": 10,
              "solidity": 0.2
             }
            },
            "type": "barpolar"
           }
          ],
          "carpet": [
           {
            "aaxis": {
             "endlinecolor": "#2a3f5f",
             "gridcolor": "white",
             "linecolor": "white",
             "minorgridcolor": "white",
             "startlinecolor": "#2a3f5f"
            },
            "baxis": {
             "endlinecolor": "#2a3f5f",
             "gridcolor": "white",
             "linecolor": "white",
             "minorgridcolor": "white",
             "startlinecolor": "#2a3f5f"
            },
            "type": "carpet"
           }
          ],
          "choropleth": [
           {
            "colorbar": {
             "outlinewidth": 0,
             "ticks": ""
            },
            "type": "choropleth"
           }
          ],
          "contour": [
           {
            "colorbar": {
             "outlinewidth": 0,
             "ticks": ""
            },
            "colorscale": [
             [
              0,
              "#0d0887"
             ],
             [
              0.1111111111111111,
              "#46039f"
             ],
             [
              0.2222222222222222,
              "#7201a8"
             ],
             [
              0.3333333333333333,
              "#9c179e"
             ],
             [
              0.4444444444444444,
              "#bd3786"
             ],
             [
              0.5555555555555556,
              "#d8576b"
             ],
             [
              0.6666666666666666,
              "#ed7953"
             ],
             [
              0.7777777777777778,
              "#fb9f3a"
             ],
             [
              0.8888888888888888,
              "#fdca26"
             ],
             [
              1,
              "#f0f921"
             ]
            ],
            "type": "contour"
           }
          ],
          "contourcarpet": [
           {
            "colorbar": {
             "outlinewidth": 0,
             "ticks": ""
            },
            "type": "contourcarpet"
           }
          ],
          "heatmap": [
           {
            "colorbar": {
             "outlinewidth": 0,
             "ticks": ""
            },
            "colorscale": [
             [
              0,
              "#0d0887"
             ],
             [
              0.1111111111111111,
              "#46039f"
             ],
             [
              0.2222222222222222,
              "#7201a8"
             ],
             [
              0.3333333333333333,
              "#9c179e"
             ],
             [
              0.4444444444444444,
              "#bd3786"
             ],
             [
              0.5555555555555556,
              "#d8576b"
             ],
             [
              0.6666666666666666,
              "#ed7953"
             ],
             [
              0.7777777777777778,
              "#fb9f3a"
             ],
             [
              0.8888888888888888,
              "#fdca26"
             ],
             [
              1,
              "#f0f921"
             ]
            ],
            "type": "heatmap"
           }
          ],
          "heatmapgl": [
           {
            "colorbar": {
             "outlinewidth": 0,
             "ticks": ""
            },
            "colorscale": [
             [
              0,
              "#0d0887"
             ],
             [
              0.1111111111111111,
              "#46039f"
             ],
             [
              0.2222222222222222,
              "#7201a8"
             ],
             [
              0.3333333333333333,
              "#9c179e"
             ],
             [
              0.4444444444444444,
              "#bd3786"
             ],
             [
              0.5555555555555556,
              "#d8576b"
             ],
             [
              0.6666666666666666,
              "#ed7953"
             ],
             [
              0.7777777777777778,
              "#fb9f3a"
             ],
             [
              0.8888888888888888,
              "#fdca26"
             ],
             [
              1,
              "#f0f921"
             ]
            ],
            "type": "heatmapgl"
           }
          ],
          "histogram": [
           {
            "marker": {
             "pattern": {
              "fillmode": "overlay",
              "size": 10,
              "solidity": 0.2
             }
            },
            "type": "histogram"
           }
          ],
          "histogram2d": [
           {
            "colorbar": {
             "outlinewidth": 0,
             "ticks": ""
            },
            "colorscale": [
             [
              0,
              "#0d0887"
             ],
             [
              0.1111111111111111,
              "#46039f"
             ],
             [
              0.2222222222222222,
              "#7201a8"
             ],
             [
              0.3333333333333333,
              "#9c179e"
             ],
             [
              0.4444444444444444,
              "#bd3786"
             ],
             [
              0.5555555555555556,
              "#d8576b"
             ],
             [
              0.6666666666666666,
              "#ed7953"
             ],
             [
              0.7777777777777778,
              "#fb9f3a"
             ],
             [
              0.8888888888888888,
              "#fdca26"
             ],
             [
              1,
              "#f0f921"
             ]
            ],
            "type": "histogram2d"
           }
          ],
          "histogram2dcontour": [
           {
            "colorbar": {
             "outlinewidth": 0,
             "ticks": ""
            },
            "colorscale": [
             [
              0,
              "#0d0887"
             ],
             [
              0.1111111111111111,
              "#46039f"
             ],
             [
              0.2222222222222222,
              "#7201a8"
             ],
             [
              0.3333333333333333,
              "#9c179e"
             ],
             [
              0.4444444444444444,
              "#bd3786"
             ],
             [
              0.5555555555555556,
              "#d8576b"
             ],
             [
              0.6666666666666666,
              "#ed7953"
             ],
             [
              0.7777777777777778,
              "#fb9f3a"
             ],
             [
              0.8888888888888888,
              "#fdca26"
             ],
             [
              1,
              "#f0f921"
             ]
            ],
            "type": "histogram2dcontour"
           }
          ],
          "mesh3d": [
           {
            "colorbar": {
             "outlinewidth": 0,
             "ticks": ""
            },
            "type": "mesh3d"
           }
          ],
          "parcoords": [
           {
            "line": {
             "colorbar": {
              "outlinewidth": 0,
              "ticks": ""
             }
            },
            "type": "parcoords"
           }
          ],
          "pie": [
           {
            "automargin": true,
            "type": "pie"
           }
          ],
          "scatter": [
           {
            "fillpattern": {
             "fillmode": "overlay",
             "size": 10,
             "solidity": 0.2
            },
            "type": "scatter"
           }
          ],
          "scatter3d": [
           {
            "line": {
             "colorbar": {
              "outlinewidth": 0,
              "ticks": ""
             }
            },
            "marker": {
             "colorbar": {
              "outlinewidth": 0,
              "ticks": ""
             }
            },
            "type": "scatter3d"
           }
          ],
          "scattercarpet": [
           {
            "marker": {
             "colorbar": {
              "outlinewidth": 0,
              "ticks": ""
             }
            },
            "type": "scattercarpet"
           }
          ],
          "scattergeo": [
           {
            "marker": {
             "colorbar": {
              "outlinewidth": 0,
              "ticks": ""
             }
            },
            "type": "scattergeo"
           }
          ],
          "scattergl": [
           {
            "marker": {
             "colorbar": {
              "outlinewidth": 0,
              "ticks": ""
             }
            },
            "type": "scattergl"
           }
          ],
          "scattermapbox": [
           {
            "marker": {
             "colorbar": {
              "outlinewidth": 0,
              "ticks": ""
             }
            },
            "type": "scattermapbox"
           }
          ],
          "scatterpolar": [
           {
            "marker": {
             "colorbar": {
              "outlinewidth": 0,
              "ticks": ""
             }
            },
            "type": "scatterpolar"
           }
          ],
          "scatterpolargl": [
           {
            "marker": {
             "colorbar": {
              "outlinewidth": 0,
              "ticks": ""
             }
            },
            "type": "scatterpolargl"
           }
          ],
          "scatterternary": [
           {
            "marker": {
             "colorbar": {
              "outlinewidth": 0,
              "ticks": ""
             }
            },
            "type": "scatterternary"
           }
          ],
          "surface": [
           {
            "colorbar": {
             "outlinewidth": 0,
             "ticks": ""
            },
            "colorscale": [
             [
              0,
              "#0d0887"
             ],
             [
              0.1111111111111111,
              "#46039f"
             ],
             [
              0.2222222222222222,
              "#7201a8"
             ],
             [
              0.3333333333333333,
              "#9c179e"
             ],
             [
              0.4444444444444444,
              "#bd3786"
             ],
             [
              0.5555555555555556,
              "#d8576b"
             ],
             [
              0.6666666666666666,
              "#ed7953"
             ],
             [
              0.7777777777777778,
              "#fb9f3a"
             ],
             [
              0.8888888888888888,
              "#fdca26"
             ],
             [
              1,
              "#f0f921"
             ]
            ],
            "type": "surface"
           }
          ],
          "table": [
           {
            "cells": {
             "fill": {
              "color": "#EBF0F8"
             },
             "line": {
              "color": "white"
             }
            },
            "header": {
             "fill": {
              "color": "#C8D4E3"
             },
             "line": {
              "color": "white"
             }
            },
            "type": "table"
           }
          ]
         },
         "layout": {
          "annotationdefaults": {
           "arrowcolor": "#2a3f5f",
           "arrowhead": 0,
           "arrowwidth": 1
          },
          "autotypenumbers": "strict",
          "coloraxis": {
           "colorbar": {
            "outlinewidth": 0,
            "ticks": ""
           }
          },
          "colorscale": {
           "diverging": [
            [
             0,
             "#8e0152"
            ],
            [
             0.1,
             "#c51b7d"
            ],
            [
             0.2,
             "#de77ae"
            ],
            [
             0.3,
             "#f1b6da"
            ],
            [
             0.4,
             "#fde0ef"
            ],
            [
             0.5,
             "#f7f7f7"
            ],
            [
             0.6,
             "#e6f5d0"
            ],
            [
             0.7,
             "#b8e186"
            ],
            [
             0.8,
             "#7fbc41"
            ],
            [
             0.9,
             "#4d9221"
            ],
            [
             1,
             "#276419"
            ]
           ],
           "sequential": [
            [
             0,
             "#0d0887"
            ],
            [
             0.1111111111111111,
             "#46039f"
            ],
            [
             0.2222222222222222,
             "#7201a8"
            ],
            [
             0.3333333333333333,
             "#9c179e"
            ],
            [
             0.4444444444444444,
             "#bd3786"
            ],
            [
             0.5555555555555556,
             "#d8576b"
            ],
            [
             0.6666666666666666,
             "#ed7953"
            ],
            [
             0.7777777777777778,
             "#fb9f3a"
            ],
            [
             0.8888888888888888,
             "#fdca26"
            ],
            [
             1,
             "#f0f921"
            ]
           ],
           "sequentialminus": [
            [
             0,
             "#0d0887"
            ],
            [
             0.1111111111111111,
             "#46039f"
            ],
            [
             0.2222222222222222,
             "#7201a8"
            ],
            [
             0.3333333333333333,
             "#9c179e"
            ],
            [
             0.4444444444444444,
             "#bd3786"
            ],
            [
             0.5555555555555556,
             "#d8576b"
            ],
            [
             0.6666666666666666,
             "#ed7953"
            ],
            [
             0.7777777777777778,
             "#fb9f3a"
            ],
            [
             0.8888888888888888,
             "#fdca26"
            ],
            [
             1,
             "#f0f921"
            ]
           ]
          },
          "colorway": [
           "#636efa",
           "#EF553B",
           "#00cc96",
           "#ab63fa",
           "#FFA15A",
           "#19d3f3",
           "#FF6692",
           "#B6E880",
           "#FF97FF",
           "#FECB52"
          ],
          "font": {
           "color": "#2a3f5f"
          },
          "geo": {
           "bgcolor": "white",
           "lakecolor": "white",
           "landcolor": "#E5ECF6",
           "showlakes": true,
           "showland": true,
           "subunitcolor": "white"
          },
          "hoverlabel": {
           "align": "left"
          },
          "hovermode": "closest",
          "mapbox": {
           "style": "light"
          },
          "paper_bgcolor": "white",
          "plot_bgcolor": "#E5ECF6",
          "polar": {
           "angularaxis": {
            "gridcolor": "white",
            "linecolor": "white",
            "ticks": ""
           },
           "bgcolor": "#E5ECF6",
           "radialaxis": {
            "gridcolor": "white",
            "linecolor": "white",
            "ticks": ""
           }
          },
          "scene": {
           "xaxis": {
            "backgroundcolor": "#E5ECF6",
            "gridcolor": "white",
            "gridwidth": 2,
            "linecolor": "white",
            "showbackground": true,
            "ticks": "",
            "zerolinecolor": "white"
           },
           "yaxis": {
            "backgroundcolor": "#E5ECF6",
            "gridcolor": "white",
            "gridwidth": 2,
            "linecolor": "white",
            "showbackground": true,
            "ticks": "",
            "zerolinecolor": "white"
           },
           "zaxis": {
            "backgroundcolor": "#E5ECF6",
            "gridcolor": "white",
            "gridwidth": 2,
            "linecolor": "white",
            "showbackground": true,
            "ticks": "",
            "zerolinecolor": "white"
           }
          },
          "shapedefaults": {
           "line": {
            "color": "#2a3f5f"
           }
          },
          "ternary": {
           "aaxis": {
            "gridcolor": "white",
            "linecolor": "white",
            "ticks": ""
           },
           "baxis": {
            "gridcolor": "white",
            "linecolor": "white",
            "ticks": ""
           },
           "bgcolor": "#E5ECF6",
           "caxis": {
            "gridcolor": "white",
            "linecolor": "white",
            "ticks": ""
           }
          },
          "title": {
           "x": 0.05
          },
          "xaxis": {
           "automargin": true,
           "gridcolor": "white",
           "linecolor": "white",
           "ticks": "",
           "title": {
            "standoff": 15
           },
           "zerolinecolor": "white",
           "zerolinewidth": 2
          },
          "yaxis": {
           "automargin": true,
           "gridcolor": "white",
           "linecolor": "white",
           "ticks": "",
           "title": {
            "standoff": 15
           },
           "zerolinecolor": "white",
           "zerolinewidth": 2
          }
         }
        },
        "title": {
         "text": "Histogram of arousal values extreme"
        },
        "xaxis": {
         "anchor": "y",
         "domain": [
          0,
          1
         ],
         "title": {
          "text": "arousal"
         }
        },
        "yaxis": {
         "anchor": "x",
         "domain": [
          0,
          1
         ],
         "title": {
          "text": "percent"
         }
        }
       }
      },
      "text/html": [
       "<div>                            <div id=\"6642a0e5-92d8-4749-b4ff-a31ee76c8e71\" class=\"plotly-graph-div\" style=\"height:525px; width:100%;\"></div>            <script type=\"text/javascript\">                require([\"plotly\"], function(Plotly) {                    window.PLOTLYENV=window.PLOTLYENV || {};                                    if (document.getElementById(\"6642a0e5-92d8-4749-b4ff-a31ee76c8e71\")) {                    Plotly.newPlot(                        \"6642a0e5-92d8-4749-b4ff-a31ee76c8e71\",                        [{\"alignmentgroup\":\"True\",\"bingroup\":\"x\",\"histnorm\":\"percent\",\"hovertemplate\":\"Gender=Female\\u003cbr\\u003earousal=%{x}\\u003cbr\\u003epercent=%{y}\\u003cextra\\u003e\\u003c\\u002fextra\\u003e\",\"legendgroup\":\"Female\",\"marker\":{\"color\":\"#636efa\",\"opacity\":0.7,\"pattern\":{\"shape\":\"\"}},\"name\":\"Female\",\"nbinsx\":40,\"offsetgroup\":\"Female\",\"orientation\":\"v\",\"showlegend\":true,\"x\":[6.52,6.52,6.61,6.61,6.52,1.67,6.61,2.55,2.38,6.61,6.5,1.67,6.61,6.59,6.59,1.67,6.6,6.52,6.67,2.55,1.67,7.27,6.35,2.55,6.43,2.68,2.55,7.27,2.45,7.27,2.55,2.38,2.55,6.45,6.37,1.67,2.38,6.59,6.59,6.37,6.5,6.37,6.37,7.27,2.68,6.61,2.52,6.61,1.95,6.35,6.5,6.35,1.67,6.52,6.52,2.68,7.27,6.61,6.6,2.59,6.37,6.6,6.52,6.6,6.35,6.52,6.52,2.59,7.27,6.95,6.43,7.27,6.35,2.43,6.61,2.59,7.27,6.57,6.61,2.68,2.38,2.6,2.52,6.5,2.55,6.45,2.55,2.21,2.68,6.37,2.49,6.6,7.27,2.52,6.35,6.61,1.67,6.37,7.27,7.21,2.68,6.5,6.61,6.59,6.5,6.5,6.5,6.61,6.61,7.27,7.27,7.27,6.61,7.27,7.27,2.64,2.21,6.59,6.61,6.52,6.59,2.21,6.37,6.52,6.6,2.21,6.52,6.43,2.43,6.61,2.52,6.61,2.65,6.61,6.37,2.55,2.59,7.27,2.5,6.95,6.37,6.95,6.6,6.43,6.35,6.59,6.61,6.61,2.43,6.6,6.43,6.37,7.27,6.95,7.27,2.5,2.52,7.21,6.57,7.05,6.37,2.29,7.27,7.27,6.35,7.27,1.67,6.57,7.27,6.52,6.37,6.35,6.37,6.6,6.6,6.35,6.95,6.61,7.27,6.45,6.61,2.68,2.55,2.67,2.21,6.95,6.95,6.95,2.21,6.37,6.61,2.65,7.27,7.27,2.38,7.21,7.27,2.67,7.21,6.52,6.61,2.55,7.27,2.68,6.38,2.55,6.52,2.52,6.5,1.95,6.57,6.61,6.35,7.27,6.5,6.35,2.64,2.21,6.52,6.33,6.61,7.27,1.67,7.27,6.61,6.81,6.45,7.27,6.59,6.6,6.33,1.67,6.43,7.27,6.37,6.52,6.52,6.45,1.67,2.57,6.52,2.43,6.35,6.6,6.52,2.52,2.65,7.27,7.27,7.27,7.27,6.57,2.21,6.52,6.38,6.6,7.27,6.59,2.45,2.64,2.5,2.43,2.49,6.35,2.52,7.27,7.27,2.68,6.61,6.35,2.29,2.5,6.37,2.21,6.62,2.68,2.21,2.64,6.35,2.65,7.27,6.61,6.61,7.27,6.95,6.52,6.52,7.27,6.61,2.43,2.21,2.59,6.61,6.61,7.27,6.95,6.95,6.61,6.61,6.61,7.27,6.45,6.52,2.21,2.67,2.38,6.6,6.61,6.61,2.43,2.43,2.29,6.59,6.5,6.59,2.52,6.6,7.27,6.52,6.6,7.21,6.6,6.35,2.55,6.5,2.29,6.45,6.52,6.52,6.52,6.6,6.61,6.95,2.21,6.6,2.21,2.7,6.61,6.6,2.45,6.35,6.67,6.62,6.8,2.6,1.67,7.21,2.68,6.52,6.5,2.67,6.61,7.27,6.5,1.67,2.29,7.27,2.64,6.59,7.27,7.27,6.35,2.59,6.95,6.37,6.35,6.61,6.74,2.5,6.61,6.55,7.27,6.52,2.29,6.52,6.59,6.35,7.27,6.35,2.5,7.21,6.37,6.55,1.67,2.49,1.67,1.67,6.52,2.52,7.21,6.52,2.52,2.21,2.29],\"xaxis\":\"x\",\"yaxis\":\"y\",\"type\":\"histogram\"},{\"alignmentgroup\":\"True\",\"bingroup\":\"x\",\"histnorm\":\"percent\",\"hovertemplate\":\"Gender=Male\\u003cbr\\u003earousal=%{x}\\u003cbr\\u003epercent=%{y}\\u003cextra\\u003e\\u003c\\u002fextra\\u003e\",\"legendgroup\":\"Male\",\"marker\":{\"color\":\"#EF553B\",\"opacity\":0.7,\"pattern\":{\"shape\":\"\"}},\"name\":\"Male\",\"nbinsx\":40,\"offsetgroup\":\"Male\",\"orientation\":\"v\",\"showlegend\":true,\"x\":[6.59,7.27,7.27,2.43,7.27,6.95,6.6,6.6,6.6,7.27,6.6,6.6,6.52,2.64,7.27,2.65,6.37,6.38,6.62,6.38,6.38,6.38,6.59,1.67,2.52,2.55,2.21,6.6,6.35,6.35,6.37,6.35,2.65,6.61,2.52,6.59,2.25,6.5,6.52,6.61,2.21,2.55,6.35,1.67,2.21,7.27,2.21,6.52,6.59,6.61,6.61,6.37,7.27,6.61,6.61,2.52,6.61,6.81,6.35,1.67,6.57,2.21,2.35,7.21,6.59,7.27,1.67,6.52,6.43,6.8,6.37,2.65,6.52,6.95,1.67,6.37,6.52,2.68,6.95,7.27,6.45,2.21,2.68,6.6,6.62,6.61,6.37,6.35,2.38,2.21,2.21,6.52,6.95,6.6,6.35,2.67,6.35,6.95,7.27,6.61,6.8,6.61,6.43,6.61,6.52,6.61,6.8,6.95,2.67,2.5,6.43,2.68,6.95,2.29,6.61,7.27,6.61,6.38,7.21,7.21,6.62,2.52,6.52,2.52,6.61,6.35,6.6,6.61,6.45,6.37,6.52,6.37,6.95,6.61,6.52,6.61,6.37,6.45,6.95,6.59,7.27,6.57,7.27,6.61,2.21,1.67,6.6,6.57,6.61,2.52,6.61,2.21,6.61,6.37,6.5,6.61,6.45,6.37,6.37,6.35,6.61,7.27,6.52,2.43,6.35,6.61,6.35,6.38,6.59,6.61,1.67,2.21,6.61,6.95,6.95,6.37,6.61,6.37,7.27,1.67,7.27,6.95,1.67,6.52,6.95,2.21,2.59,6.95,6.95,6.67,6.59,6.35,6.61,2.43,6.61,2.55,1.95,6.37,2.68,6.6,6.61,2.21,1.67,2.56,6.95,2.52,6.95,6.95,7.21,2.43,6.61,6.59,6.95,6.35,6.37,6.61,6.52,2.52,6.45,6.61,2.29,6.35,6.95,2.65,2.59,7.27,6.45,6.67,2.59,1.67,7.27,6.35,6.5,2.21,2.45,6.35,7.27,6.59,6.95,7.27,7.27,6.61,6.6,6.61,6.95,6.33,2.67,6.35,2.21,6.5,6.37,6.95,6.61,6.61,6.61,2.21,6.6,6.61,6.52,2.68,6.95,6.61,6.35,2.21,6.95,6.6,6.52,6.61,2.68,6.45,1.67,2.21,7.21,6.61,6.5,2.5,6.61,6.59,6.61,6.95,6.6,6.38,6.35,2.43,6.61,6.57,6.61,6.59,2.68,7.27,6.95,7.27,6.95,2.65,7.21,2.68,7.27,6.37,7.05,6.35,6.95,6.59,6.59,6.61,6.61,6.61,6.6,6.37,2.29,6.35,6.5,2.59,1.67,2.21,6.37,1.95,6.35,7.27,1.67,6.61,1.67,2.67,6.95,6.61,7.21,6.61,6.52,6.45,1.67,6.95,1.67,6.38,2.21,2.55,6.61,6.61,6.8,6.35,2.25,2.55,6.95,6.61,6.35,6.61,6.61,6.6,6.61,7.27,6.61,6.35,6.61,6.35,2.52,6.59,2.61,6.45,6.37,6.52,6.59,6.62,6.37,2.68,6.52,2.59,1.67,6.61,6.59,6.6,6.52,6.52,6.61,6.61,6.45,2.55,6.61,6.95,6.81,1.67,6.59,6.6,6.37,6.45,6.61,6.37,6.95,6.61,2.5,6.35,2.43,6.45,2.59,6.61,6.95,2.68,6.37,6.95,6.52,6.37,6.59,6.61,6.6,7.21,6.61,6.61,6.61,1.67,6.6,2.21,6.59,6.61,6.43,6.43,2.21,6.61,6.81,1.67,6.9,6.61,7.21,2.68,6.61,6.61,6.61,6.61,6.59,6.61,6.59,2.21,6.62,6.61,2.59,2.21,6.67,6.61,6.61,6.61,6.52,6.61,6.61,6.59,1.67,6.52,6.35,6.61,6.59,2.21,6.52,6.61,2.38,2.55,6.6,7.27,6.38,6.95,6.67,2.59,6.61,2.67,6.6,6.61,6.52,6.37,6.35,7.27,6.52,6.61,6.59,6.6,6.61,6.37,6.61,6.38,6.59,6.5,6.61,6.95,2.59,6.52,6.6,7.27,6.61,6.61,6.52,6.37,2.21,6.37,2.59,6.61,6.61,6.38,6.95,2.21,6.37,2.21,6.37,6.61,1.67,6.62,6.8,2.55,6.61,6.59,7.27,6.37,7.27,2.43,1.67,6.61,2.29,6.61,6.6,2.21,6.61,7.27,6.35,2.5,6.61,6.95,2.5,7.27,6.35,2.49,6.6,6.61,2.55,2.68,1.67,7.27,1.67,7.27,6.52,1.67,1.67,2.43,2.29,6.45,6.6,7.27,6.6,7.21,6.95,2.7,6.57,6.59,2.21,2.21,7.27,2.43,6.37,6.8,6.45,1.95,7.27,2.55,2.68,2.59,2.52,2.21,6.59,7.21,6.6,2.21,6.45,6.35,6.52,6.95,6.57,6.6,7.27,6.37,6.5,6.6,6.45,6.6,6.52,2.6,2.68,2.49,6.45,6.35,2.55,6.95,6.61,2.21,2.45,6.61,2.21,6.6,6.37,7.27,6.52,2.43,6.74,7.27,6.61,6.52,6.95,7.27,2.29,7.27,6.52,6.61,7.27,6.37,2.38,6.38,6.52,6.6,2.21,7.27,7.27,6.6,7.27,2.65,2.21,2.67,6.81,6.45,6.6,6.37,1.67,6.45,2.21,1.95,2.67,6.45,6.38,7.27,2.52,6.38,6.43,6.59,6.61,7.21,6.45,7.27,1.67,6.61,6.95,6.61,2.21,2.55,6.37,7.27,6.6,6.37,2.43,6.59,6.37,2.21,6.37,6.45,1.67,6.38,6.52,6.35,6.38,7.27,6.95,1.67,6.59,6.35,2.59,6.52,6.95,6.52,6.95,6.61,6.59,2.57,7.21,6.35,2.5,6.52,6.6,6.6,6.52,6.43,6.95,6.61,6.6,6.95,7.27,6.43,6.37,6.57,6.6,6.52,6.52,6.61,6.61,6.59,6.37,7.21,7.27,6.95,6.45,7.21,6.62,7.27,6.43,6.6,6.43,6.35,6.45,6.35,6.38,7.27,6.95,6.35,2.21,2.59,6.6,6.95,7.27,6.35,6.61,2.21,2.21,2.59,6.52,2.59,6.95,6.38,7.27,6.61,6.59,1.67,6.6,2.55,6.61,2.52,7.27,6.61,6.61,6.61,6.45,6.95,6.81,6.95,7.27,6.5,6.59,7.21,6.6,6.37,6.6,1.67,6.95,6.35,2.21,6.37,6.61,7.27,7.27,7.27,6.61,6.6,6.52,2.43,2.21,2.59,6.6,6.61,6.45,6.5,6.95,6.95,6.52,1.67,6.37,6.61,7.27,6.38,6.61,6.61,6.59,7.27,6.52,7.27,2.6,2.68,6.95,6.95,6.52,6.52,6.35,6.95,7.21,7.21,6.37,6.59,2.21,6.61,2.5,6.37,2.55,2.43,6.61,6.61,6.8,6.35,6.52,6.59,2.21,6.61,6.61,6.52,6.61,6.52,2.59,6.52,6.61,6.61,7.21,6.37,6.59,7.21,6.6,2.55,6.61,7.27,6.61,7.27,6.52,2.45,7.21,6.95,6.43,7.27,6.52,6.52,7.21,6.35,2.68,6.35,6.52,2.68,2.59,6.61,2.52,6.61,6.38,6.62,6.37,6.57,6.52,6.95,7.21,6.95,6.6,2.58,6.5,6.43,6.61,6.35,2.67,6.52,6.6,6.95,6.95,7.27,6.59,6.6,6.6,7.27,6.61,6.57,6.52,6.81,6.35,6.6,6.52,7.27,7.27,6.38,7.27,2.5,2.21,6.35,6.52,6.95,2.21,6.52,6.37,2.52,6.57,6.61,6.59,6.38,6.37,6.61,6.37,2.59,6.37,6.61,2.21,6.45,7.27,6.61,6.6,6.45,6.61,6.52,6.6,6.6,2.43,6.35,2.67,6.61,6.6,2.21,6.59,6.52,7.27,7.27,6.6,1.67,7.27,6.52,6.6,6.59,6.61,6.61,6.61,6.37,2.21,2.43,6.37,6.59,6.61,6.95,7.27,6.52,2.43,2.68,6.59,6.61,6.95,7.05,6.6,2.68,6.35,6.37,7.21,2.55,7.27,6.45,6.35,2.59,2.21,6.6,6.6,2.21,2.29,1.67,2.55,2.5,2.55,1.67,6.95,6.45,6.59,1.67,6.59,6.61,2.68,6.37,2.68,6.61,2.68,2.29,6.95,6.67,6.35,1.67,2.29,2.65,6.43,6.35,2.43,6.38,6.4,2.29,6.52,2.64,7.27,7.27,2.21,6.61,6.61,2.21,6.67,6.95,6.95,6.5,6.61,2.59,6.95,6.95,2.21,7.21,2.43,6.95,6.52,6.61,6.59,6.61,6.35,6.35,6.35,6.61,2.68,1.67,2.55,2.21,6.38,2.55,2.55,6.8,6.6,2.59,6.61,2.65,6.52,6.6,6.57,6.95,2.38,7.27,2.43],\"xaxis\":\"x\",\"yaxis\":\"y\",\"type\":\"histogram\"}],                        {\"template\":{\"data\":{\"histogram2dcontour\":[{\"type\":\"histogram2dcontour\",\"colorbar\":{\"outlinewidth\":0,\"ticks\":\"\"},\"colorscale\":[[0.0,\"#0d0887\"],[0.1111111111111111,\"#46039f\"],[0.2222222222222222,\"#7201a8\"],[0.3333333333333333,\"#9c179e\"],[0.4444444444444444,\"#bd3786\"],[0.5555555555555556,\"#d8576b\"],[0.6666666666666666,\"#ed7953\"],[0.7777777777777778,\"#fb9f3a\"],[0.8888888888888888,\"#fdca26\"],[1.0,\"#f0f921\"]]}],\"choropleth\":[{\"type\":\"choropleth\",\"colorbar\":{\"outlinewidth\":0,\"ticks\":\"\"}}],\"histogram2d\":[{\"type\":\"histogram2d\",\"colorbar\":{\"outlinewidth\":0,\"ticks\":\"\"},\"colorscale\":[[0.0,\"#0d0887\"],[0.1111111111111111,\"#46039f\"],[0.2222222222222222,\"#7201a8\"],[0.3333333333333333,\"#9c179e\"],[0.4444444444444444,\"#bd3786\"],[0.5555555555555556,\"#d8576b\"],[0.6666666666666666,\"#ed7953\"],[0.7777777777777778,\"#fb9f3a\"],[0.8888888888888888,\"#fdca26\"],[1.0,\"#f0f921\"]]}],\"heatmap\":[{\"type\":\"heatmap\",\"colorbar\":{\"outlinewidth\":0,\"ticks\":\"\"},\"colorscale\":[[0.0,\"#0d0887\"],[0.1111111111111111,\"#46039f\"],[0.2222222222222222,\"#7201a8\"],[0.3333333333333333,\"#9c179e\"],[0.4444444444444444,\"#bd3786\"],[0.5555555555555556,\"#d8576b\"],[0.6666666666666666,\"#ed7953\"],[0.7777777777777778,\"#fb9f3a\"],[0.8888888888888888,\"#fdca26\"],[1.0,\"#f0f921\"]]}],\"heatmapgl\":[{\"type\":\"heatmapgl\",\"colorbar\":{\"outlinewidth\":0,\"ticks\":\"\"},\"colorscale\":[[0.0,\"#0d0887\"],[0.1111111111111111,\"#46039f\"],[0.2222222222222222,\"#7201a8\"],[0.3333333333333333,\"#9c179e\"],[0.4444444444444444,\"#bd3786\"],[0.5555555555555556,\"#d8576b\"],[0.6666666666666666,\"#ed7953\"],[0.7777777777777778,\"#fb9f3a\"],[0.8888888888888888,\"#fdca26\"],[1.0,\"#f0f921\"]]}],\"contourcarpet\":[{\"type\":\"contourcarpet\",\"colorbar\":{\"outlinewidth\":0,\"ticks\":\"\"}}],\"contour\":[{\"type\":\"contour\",\"colorbar\":{\"outlinewidth\":0,\"ticks\":\"\"},\"colorscale\":[[0.0,\"#0d0887\"],[0.1111111111111111,\"#46039f\"],[0.2222222222222222,\"#7201a8\"],[0.3333333333333333,\"#9c179e\"],[0.4444444444444444,\"#bd3786\"],[0.5555555555555556,\"#d8576b\"],[0.6666666666666666,\"#ed7953\"],[0.7777777777777778,\"#fb9f3a\"],[0.8888888888888888,\"#fdca26\"],[1.0,\"#f0f921\"]]}],\"surface\":[{\"type\":\"surface\",\"colorbar\":{\"outlinewidth\":0,\"ticks\":\"\"},\"colorscale\":[[0.0,\"#0d0887\"],[0.1111111111111111,\"#46039f\"],[0.2222222222222222,\"#7201a8\"],[0.3333333333333333,\"#9c179e\"],[0.4444444444444444,\"#bd3786\"],[0.5555555555555556,\"#d8576b\"],[0.6666666666666666,\"#ed7953\"],[0.7777777777777778,\"#fb9f3a\"],[0.8888888888888888,\"#fdca26\"],[1.0,\"#f0f921\"]]}],\"mesh3d\":[{\"type\":\"mesh3d\",\"colorbar\":{\"outlinewidth\":0,\"ticks\":\"\"}}],\"scatter\":[{\"fillpattern\":{\"fillmode\":\"overlay\",\"size\":10,\"solidity\":0.2},\"type\":\"scatter\"}],\"parcoords\":[{\"type\":\"parcoords\",\"line\":{\"colorbar\":{\"outlinewidth\":0,\"ticks\":\"\"}}}],\"scatterpolargl\":[{\"type\":\"scatterpolargl\",\"marker\":{\"colorbar\":{\"outlinewidth\":0,\"ticks\":\"\"}}}],\"bar\":[{\"error_x\":{\"color\":\"#2a3f5f\"},\"error_y\":{\"color\":\"#2a3f5f\"},\"marker\":{\"line\":{\"color\":\"#E5ECF6\",\"width\":0.5},\"pattern\":{\"fillmode\":\"overlay\",\"size\":10,\"solidity\":0.2}},\"type\":\"bar\"}],\"scattergeo\":[{\"type\":\"scattergeo\",\"marker\":{\"colorbar\":{\"outlinewidth\":0,\"ticks\":\"\"}}}],\"scatterpolar\":[{\"type\":\"scatterpolar\",\"marker\":{\"colorbar\":{\"outlinewidth\":0,\"ticks\":\"\"}}}],\"histogram\":[{\"marker\":{\"pattern\":{\"fillmode\":\"overlay\",\"size\":10,\"solidity\":0.2}},\"type\":\"histogram\"}],\"scattergl\":[{\"type\":\"scattergl\",\"marker\":{\"colorbar\":{\"outlinewidth\":0,\"ticks\":\"\"}}}],\"scatter3d\":[{\"type\":\"scatter3d\",\"line\":{\"colorbar\":{\"outlinewidth\":0,\"ticks\":\"\"}},\"marker\":{\"colorbar\":{\"outlinewidth\":0,\"ticks\":\"\"}}}],\"scattermapbox\":[{\"type\":\"scattermapbox\",\"marker\":{\"colorbar\":{\"outlinewidth\":0,\"ticks\":\"\"}}}],\"scatterternary\":[{\"type\":\"scatterternary\",\"marker\":{\"colorbar\":{\"outlinewidth\":0,\"ticks\":\"\"}}}],\"scattercarpet\":[{\"type\":\"scattercarpet\",\"marker\":{\"colorbar\":{\"outlinewidth\":0,\"ticks\":\"\"}}}],\"carpet\":[{\"aaxis\":{\"endlinecolor\":\"#2a3f5f\",\"gridcolor\":\"white\",\"linecolor\":\"white\",\"minorgridcolor\":\"white\",\"startlinecolor\":\"#2a3f5f\"},\"baxis\":{\"endlinecolor\":\"#2a3f5f\",\"gridcolor\":\"white\",\"linecolor\":\"white\",\"minorgridcolor\":\"white\",\"startlinecolor\":\"#2a3f5f\"},\"type\":\"carpet\"}],\"table\":[{\"cells\":{\"fill\":{\"color\":\"#EBF0F8\"},\"line\":{\"color\":\"white\"}},\"header\":{\"fill\":{\"color\":\"#C8D4E3\"},\"line\":{\"color\":\"white\"}},\"type\":\"table\"}],\"barpolar\":[{\"marker\":{\"line\":{\"color\":\"#E5ECF6\",\"width\":0.5},\"pattern\":{\"fillmode\":\"overlay\",\"size\":10,\"solidity\":0.2}},\"type\":\"barpolar\"}],\"pie\":[{\"automargin\":true,\"type\":\"pie\"}]},\"layout\":{\"autotypenumbers\":\"strict\",\"colorway\":[\"#636efa\",\"#EF553B\",\"#00cc96\",\"#ab63fa\",\"#FFA15A\",\"#19d3f3\",\"#FF6692\",\"#B6E880\",\"#FF97FF\",\"#FECB52\"],\"font\":{\"color\":\"#2a3f5f\"},\"hovermode\":\"closest\",\"hoverlabel\":{\"align\":\"left\"},\"paper_bgcolor\":\"white\",\"plot_bgcolor\":\"#E5ECF6\",\"polar\":{\"bgcolor\":\"#E5ECF6\",\"angularaxis\":{\"gridcolor\":\"white\",\"linecolor\":\"white\",\"ticks\":\"\"},\"radialaxis\":{\"gridcolor\":\"white\",\"linecolor\":\"white\",\"ticks\":\"\"}},\"ternary\":{\"bgcolor\":\"#E5ECF6\",\"aaxis\":{\"gridcolor\":\"white\",\"linecolor\":\"white\",\"ticks\":\"\"},\"baxis\":{\"gridcolor\":\"white\",\"linecolor\":\"white\",\"ticks\":\"\"},\"caxis\":{\"gridcolor\":\"white\",\"linecolor\":\"white\",\"ticks\":\"\"}},\"coloraxis\":{\"colorbar\":{\"outlinewidth\":0,\"ticks\":\"\"}},\"colorscale\":{\"sequential\":[[0.0,\"#0d0887\"],[0.1111111111111111,\"#46039f\"],[0.2222222222222222,\"#7201a8\"],[0.3333333333333333,\"#9c179e\"],[0.4444444444444444,\"#bd3786\"],[0.5555555555555556,\"#d8576b\"],[0.6666666666666666,\"#ed7953\"],[0.7777777777777778,\"#fb9f3a\"],[0.8888888888888888,\"#fdca26\"],[1.0,\"#f0f921\"]],\"sequentialminus\":[[0.0,\"#0d0887\"],[0.1111111111111111,\"#46039f\"],[0.2222222222222222,\"#7201a8\"],[0.3333333333333333,\"#9c179e\"],[0.4444444444444444,\"#bd3786\"],[0.5555555555555556,\"#d8576b\"],[0.6666666666666666,\"#ed7953\"],[0.7777777777777778,\"#fb9f3a\"],[0.8888888888888888,\"#fdca26\"],[1.0,\"#f0f921\"]],\"diverging\":[[0,\"#8e0152\"],[0.1,\"#c51b7d\"],[0.2,\"#de77ae\"],[0.3,\"#f1b6da\"],[0.4,\"#fde0ef\"],[0.5,\"#f7f7f7\"],[0.6,\"#e6f5d0\"],[0.7,\"#b8e186\"],[0.8,\"#7fbc41\"],[0.9,\"#4d9221\"],[1,\"#276419\"]]},\"xaxis\":{\"gridcolor\":\"white\",\"linecolor\":\"white\",\"ticks\":\"\",\"title\":{\"standoff\":15},\"zerolinecolor\":\"white\",\"automargin\":true,\"zerolinewidth\":2},\"yaxis\":{\"gridcolor\":\"white\",\"linecolor\":\"white\",\"ticks\":\"\",\"title\":{\"standoff\":15},\"zerolinecolor\":\"white\",\"automargin\":true,\"zerolinewidth\":2},\"scene\":{\"xaxis\":{\"backgroundcolor\":\"#E5ECF6\",\"gridcolor\":\"white\",\"linecolor\":\"white\",\"showbackground\":true,\"ticks\":\"\",\"zerolinecolor\":\"white\",\"gridwidth\":2},\"yaxis\":{\"backgroundcolor\":\"#E5ECF6\",\"gridcolor\":\"white\",\"linecolor\":\"white\",\"showbackground\":true,\"ticks\":\"\",\"zerolinecolor\":\"white\",\"gridwidth\":2},\"zaxis\":{\"backgroundcolor\":\"#E5ECF6\",\"gridcolor\":\"white\",\"linecolor\":\"white\",\"showbackground\":true,\"ticks\":\"\",\"zerolinecolor\":\"white\",\"gridwidth\":2}},\"shapedefaults\":{\"line\":{\"color\":\"#2a3f5f\"}},\"annotationdefaults\":{\"arrowcolor\":\"#2a3f5f\",\"arrowhead\":0,\"arrowwidth\":1},\"geo\":{\"bgcolor\":\"white\",\"landcolor\":\"#E5ECF6\",\"subunitcolor\":\"white\",\"showland\":true,\"showlakes\":true,\"lakecolor\":\"white\"},\"title\":{\"x\":0.05},\"mapbox\":{\"style\":\"light\"}}},\"xaxis\":{\"anchor\":\"y\",\"domain\":[0.0,1.0],\"title\":{\"text\":\"arousal\"}},\"yaxis\":{\"anchor\":\"x\",\"domain\":[0.0,1.0],\"title\":{\"text\":\"percent\"}},\"legend\":{\"title\":{\"text\":\"Gender\"},\"tracegroupgap\":0},\"title\":{\"text\":\"Histogram of arousal values extreme\"},\"barmode\":\"overlay\"},                        {\"responsive\": true}                    ).then(function(){\n",
       "                            \n",
       "var gd = document.getElementById('6642a0e5-92d8-4749-b4ff-a31ee76c8e71');\n",
       "var x = new MutationObserver(function (mutations, observer) {{\n",
       "        var display = window.getComputedStyle(gd).display;\n",
       "        if (!display || display === 'none') {{\n",
       "            console.log([gd, 'removed!']);\n",
       "            Plotly.purge(gd);\n",
       "            observer.disconnect();\n",
       "        }}\n",
       "}});\n",
       "\n",
       "// Listen for the removal of the full notebook cells\n",
       "var notebookContainer = gd.closest('#notebook-container');\n",
       "if (notebookContainer) {{\n",
       "    x.observe(notebookContainer, {childList: true});\n",
       "}}\n",
       "\n",
       "// Listen for the clearing of the current output cell\n",
       "var outputEl = gd.closest('.output');\n",
       "if (outputEl) {{\n",
       "    x.observe(outputEl, {childList: true});\n",
       "}}\n",
       "\n",
       "                        })                };                });            </script>        </div>"
      ]
     },
     "metadata": {},
     "output_type": "display_data"
    }
   ],
   "source": [
    "df_exploded = subset.explode('parsed')\n",
    "merged_df = pd.merge(df_exploded[['parsed', 'Gender']], df_adjectives[['word', 'arousal']], left_on='parsed', right_on='word')\n",
    "\n",
    "fig = px.histogram(\n",
    "    merged_df,\n",
    "    x='arousal',\n",
    "    color='Gender',\n",
    "    barmode='overlay',    # use 'overlay' to display them on top of each other; use 'group' for side-by-side bars\n",
    "    nbins=40,             # adjust the number of bins as needed\n",
    "    opacity=0.7,          # set opacity to help with overlapping areas\n",
    "    histnorm='percent',\n",
    "    title=\"Histogram of arousal values extreme\"\n",
    ")\n",
    "fig.show()"
   ]
  },
  {
   "cell_type": "code",
   "execution_count": 44,
   "metadata": {},
   "outputs": [
    {
     "data": {
      "application/vnd.plotly.v1+json": {
       "config": {
        "plotlyServerURL": "https://plot.ly"
       },
       "data": [
        {
         "alignmentgroup": "True",
         "bingroup": "x",
         "histnorm": "percent",
         "hovertemplate": "Gender=Female<br>arousal=%{x}<br>percent=%{y}<extra></extra>",
         "legendgroup": "Female",
         "marker": {
          "color": "#636efa",
          "opacity": 0.5,
          "pattern": {
           "shape": ""
          }
         },
         "name": "Female",
         "nbinsx": 50,
         "offsetgroup": "Female",
         "orientation": "v",
         "showlegend": true,
         "type": "histogram",
         "x": [
          4.86,
          3.48,
          3.2,
          4.86,
          3.81,
          3.2,
          4.46,
          4.46,
          3.48,
          5.85,
          4.39,
          4.41,
          3.48,
          3.2,
          5.85,
          4.86,
          5.85,
          4.41,
          4.86,
          4.46,
          3.2,
          3.55,
          5.85,
          4.86,
          3.2,
          3,
          3,
          4.86,
          4.86,
          5.85,
          4.67,
          3.48,
          4.86,
          3.2,
          4.41,
          3.18,
          3.2,
          4.35,
          4.74,
          4.41,
          2.55,
          4.46,
          3.2,
          4.95,
          5.85,
          6.1,
          3,
          5.85,
          3.48,
          4.86,
          5.85,
          4.86,
          3.2,
          4.35,
          4.86,
          4.86,
          4.74,
          4.74,
          3.2,
          4.86,
          3.2,
          4.71,
          3.32,
          4.86,
          6.1,
          6,
          4.74,
          5.27,
          4.86,
          4.86,
          5.85,
          4.67,
          5.05,
          4.74,
          3,
          3.78,
          5.27,
          4.86,
          5.85,
          4.86,
          4.86,
          5.85,
          4.86,
          4.86,
          3.2,
          4.43,
          6.3,
          4.86,
          5.85,
          2.55,
          3.81,
          5.85,
          5.16,
          5.05,
          4.86,
          5.85,
          4.05,
          4.74,
          4.71,
          4.86,
          5.85,
          4.86,
          4.86,
          4.74,
          6.3,
          4.71,
          6.1,
          5.85,
          3.2,
          4.86,
          4.86,
          2.55,
          3.2,
          3.32,
          5.85,
          5.85,
          5.85,
          5.05,
          6.1,
          4.19,
          4.86,
          4.86,
          4.86,
          5.05,
          4.71,
          3.2,
          3.76,
          2.55,
          6.61,
          4.86,
          3.2,
          5.27,
          4.71,
          4.86,
          5.27,
          4.86,
          4.74,
          4.86,
          4.05,
          4.86,
          3.76,
          5.27,
          3.48,
          4.74,
          3.48,
          4.86,
          4.86,
          4.86,
          6.1,
          4.71,
          5.85,
          4.86,
          4.86,
          6.1,
          4.74,
          5.1,
          4.86,
          5.85,
          4.86,
          3,
          5.85,
          3.48,
          3.2,
          3.2,
          5.85,
          4.86,
          4.86,
          4.86,
          5.85,
          3.48,
          3.2,
          4.86,
          5.85,
          4.71,
          5.27,
          5.85,
          6.1,
          3.2,
          4.74,
          4.86,
          5.27,
          4.86,
          3.2,
          6.1,
          3,
          5.85,
          4.86,
          4.74,
          4.86,
          3.55,
          4.86,
          4.86,
          3.78,
          4.86,
          4.86,
          5.05,
          4.33,
          5.85,
          4.86,
          5.85,
          4.86,
          4.86,
          5.85,
          5.85,
          6.1,
          5.27,
          4.41,
          4.95,
          5.85,
          4.05,
          6.1,
          4.86,
          4.86,
          3.48,
          4.86,
          3.48,
          5.27,
          4.86,
          5.27,
          4.86,
          4.86,
          4.74,
          5.85,
          3.48,
          4.95,
          5.85,
          4.74,
          5.85,
          3.2,
          2.55,
          4.74,
          4.86,
          3.2,
          4.86,
          4,
          3.5,
          3.81,
          4.86,
          6.1,
          5.85,
          6.1,
          3.2,
          4.25,
          3.2,
          4.74,
          4.41,
          3.2,
          4.86,
          6.3,
          3.48,
          5.9,
          4.71,
          5.85,
          5.05,
          5.85,
          3.2,
          5.05,
          3.86,
          3,
          4.86,
          5.85,
          4.17,
          4.67,
          2.55,
          4.86,
          4.86,
          4.35,
          4.86,
          4.86,
          4.86,
          4.95,
          6.1,
          4.86,
          4.86,
          4.86,
          4.86,
          4.86,
          5.27,
          5.85,
          4.86,
          6.1,
          3.2,
          4.74,
          5.85,
          6.1,
          3.2,
          2.55,
          4.86,
          4.86,
          5.27,
          3.2,
          5.85,
          4.3,
          6.61,
          4.46,
          5.85,
          4.41,
          4.6,
          4.86,
          4.67,
          3.2,
          4.71,
          4.41,
          4.67,
          6.1,
          3.86,
          4.86,
          5.85,
          5.85,
          4.86,
          5.27,
          3.2,
          5.27,
          5.85,
          5.05,
          4.86,
          5.27,
          5.85,
          4.86,
          4.67,
          4.86,
          4.41,
          3.18,
          5.85,
          4.86,
          4.62,
          3.2,
          4.86,
          4.74,
          3.2,
          4.86,
          3.2,
          4.86,
          5.85,
          3,
          4.86,
          3,
          6.1,
          3.2,
          4.74,
          4.41,
          4.74,
          3.2,
          4.43,
          4.86,
          4.86,
          5.85,
          4.74,
          4.74,
          4.86,
          4.3,
          3.2,
          3,
          3,
          4.86,
          3,
          2.85,
          2.85,
          5.1,
          3.2,
          4.67,
          3.48,
          4.19,
          4.86,
          4.21,
          3,
          3,
          4.86,
          6.1,
          5.85,
          4.46,
          5.85,
          4.74,
          3.2,
          3.2,
          3.2,
          5.85,
          4.86,
          4.86,
          3.48,
          6.1
         ],
         "xaxis": "x",
         "yaxis": "y"
        },
        {
         "alignmentgroup": "True",
         "bingroup": "x",
         "histnorm": "percent",
         "hovertemplate": "Gender=Male<br>arousal=%{x}<br>percent=%{y}<extra></extra>",
         "legendgroup": "Male",
         "marker": {
          "color": "#EF553B",
          "opacity": 0.5,
          "pattern": {
           "shape": ""
          }
         },
         "name": "Male",
         "nbinsx": 50,
         "offsetgroup": "Male",
         "orientation": "v",
         "showlegend": true,
         "type": "histogram",
         "x": [
          5.9,
          2.55,
          6.1,
          4.74,
          4.86,
          4,
          5.85,
          2.55,
          3.48,
          6.1,
          5.05,
          5.27,
          6.1,
          5.85,
          4.71,
          4.86,
          4.74,
          6.1,
          4.86,
          4.95,
          5.85,
          5.85,
          4.74,
          5.22,
          4.74,
          3.25,
          5.9,
          4.67,
          5.85,
          4.71,
          5.85,
          4.86,
          3.48,
          4.86,
          5.27,
          5.27,
          3.95,
          5.85,
          4.67,
          4.71,
          5.85,
          3.48,
          4.86,
          4.86,
          3.2,
          4.55,
          4.86,
          4.27,
          6.1,
          5.05,
          5.62,
          5.7,
          5.05,
          4.62,
          4.86,
          4.86,
          6.1,
          3.2,
          4.86,
          4.86,
          4.86,
          3.2,
          4.95,
          3,
          2.85,
          5.85,
          3.81,
          4.86,
          4.62,
          5.27,
          4.41,
          4.86,
          5.27,
          3.48,
          4.74,
          4.74,
          3.48,
          2.55,
          1.67,
          3.48,
          3,
          4.46,
          4.86,
          4.71,
          3.2,
          5.85,
          4.74,
          5.05,
          4.74,
          3.2,
          4.57,
          3.76,
          3.2,
          5.22,
          4.71,
          4.86,
          4.86,
          3.2,
          4.86,
          4.86,
          4.86,
          5.27,
          4.25,
          3.32,
          3.18,
          4.86,
          4.67,
          5.85,
          5.05,
          5.27,
          3,
          4.71,
          4.86,
          4.86,
          4.86,
          5.1,
          3.2,
          3,
          4.86,
          3,
          5.85,
          3.2,
          4.86,
          3.2,
          5.85,
          5.85,
          4.86,
          6.1,
          5.85,
          6.1,
          6.1,
          3,
          4.95,
          3.2,
          6,
          4.86,
          4.05,
          6.1,
          4.95,
          4.86,
          5.85,
          6.1,
          6.1,
          4.86,
          5.9,
          5.85,
          4.41,
          4.86,
          4.86,
          3.86,
          4.86,
          3,
          3.48,
          6.1,
          4.71,
          4.86,
          4.86,
          4.86,
          4.39,
          5.9,
          4.86,
          4.74,
          4.7,
          4.86,
          4.95,
          6.1,
          6.1,
          4.86,
          6.1,
          6.1,
          5.85,
          5.1,
          3.45,
          6.1,
          4.86,
          4.25,
          6.1,
          4.86,
          4.74,
          4.86,
          5.27,
          5.85,
          4.86,
          5.85,
          4.71,
          4.67,
          4.86,
          5.85,
          4.86,
          4.86,
          4.19,
          3.48,
          5.7,
          4.74,
          4.86,
          4.74,
          5.85,
          4.86,
          6.1,
          6,
          3.2,
          3,
          4.86,
          4.74,
          3.78,
          3.2,
          4.86,
          4.86,
          3.32,
          3.2,
          4.86,
          4.25,
          6.1,
          3,
          3.2,
          5.05,
          4.39,
          4.86,
          4.86,
          3.48,
          4.39,
          5.85,
          5.9,
          3.48,
          4.86,
          5.27,
          1.67,
          4.74,
          4.71,
          4.46,
          4.86,
          4.86,
          4.46,
          4.41,
          4.86,
          4.86,
          3.2,
          4.86,
          3.2,
          4.41,
          4.39,
          5.27,
          3.55,
          3.32,
          4.86,
          3.48,
          4.86,
          5.05,
          2.85,
          5.85,
          4.86,
          4.86,
          5.05,
          4.74,
          5.85,
          2.55,
          4.74,
          5.85,
          3.2,
          5.9,
          4,
          4.62,
          4.86,
          3.2,
          3.2,
          4.86,
          4.74,
          4.86,
          5.27,
          4.86,
          5,
          4.86,
          4.86,
          6.1,
          5.9,
          4.95,
          4.74,
          2.55,
          5.1,
          6.1,
          3.55,
          5.85,
          3.48,
          5.9,
          3.48,
          6.61,
          4.71,
          4.71,
          3.2,
          4.86,
          4.86,
          2.55,
          3.2,
          4.74,
          4.86,
          5.27,
          4.86,
          3.2,
          3.86,
          2.55,
          4.86,
          5.85,
          4.71,
          4.23,
          4.74,
          3.2,
          5.27,
          5.27,
          4.41,
          5.85,
          5.27,
          4.95,
          5.05,
          5.27,
          4.74,
          4.95,
          4.74,
          5.85,
          4.86,
          5.9,
          4.74,
          5.05,
          4.86,
          4.86,
          4.95,
          3.14,
          5.14,
          4.86,
          5.27,
          4.86,
          4.05,
          4.74,
          4.86,
          3.48,
          3,
          4.86,
          5,
          5.85,
          3.78,
          4.74,
          4.41,
          4.74,
          3.81,
          3.2,
          3.48,
          4.86,
          4.86,
          3,
          4.86,
          3,
          3.2,
          4.86,
          3,
          2.55,
          4.41,
          4.86,
          4.74,
          4.86,
          3.2,
          5,
          5.85,
          5.22,
          5.05,
          3.32,
          5,
          5,
          5.14,
          3.78,
          5.85,
          6.61,
          2.55,
          4.86,
          5.85,
          4.74,
          4.86,
          4.86,
          5,
          2.85,
          4.86,
          4.71,
          2.55,
          3.48,
          4.86,
          4.67,
          4.86,
          5.05,
          3.81,
          3.18,
          4.86,
          4.86,
          5.85,
          6.1,
          4.86,
          3,
          4.74,
          4.86,
          4.86,
          4.86,
          5.05,
          4.71,
          5.9,
          4,
          4.41,
          4.86,
          5.85,
          5.85,
          4.74,
          5.9,
          4.86,
          5.85,
          6.1,
          6.1,
          4.17,
          4.74,
          4.25,
          4.71,
          4.86,
          4.86,
          5.85,
          4.86,
          4.74,
          4.41,
          4.71,
          4.62,
          5.85,
          4.74,
          3,
          5.27,
          6.61,
          4.41,
          4.41,
          5.1,
          4.86,
          6.1,
          6.1,
          4.86,
          4.95,
          6.1,
          5.05,
          4.14,
          4.71,
          4.95,
          4.74,
          4,
          4.71,
          4.67,
          4.86,
          4.46,
          4.86,
          3.48,
          3.2,
          4.86,
          4.86,
          5.85,
          4.71,
          3.2,
          4.86,
          3.48,
          4.86,
          4.86,
          5.85,
          4.41,
          4.46,
          4.95,
          4.86,
          6.1,
          3,
          4.41,
          4.86,
          4.74,
          5.85,
          5.85,
          4.86,
          5.05,
          6.1,
          4.86,
          4.41,
          5.85,
          4.86,
          3.2,
          6.1,
          3.78,
          4.86,
          4.86,
          4.74,
          4.41,
          6.1,
          3.2,
          3.95,
          4.62,
          6.1,
          4.74,
          4.86,
          5.85,
          4.39,
          4.95,
          4.86,
          4.74,
          3,
          4.86,
          4.86,
          4.74,
          3.2,
          4.86,
          5.85,
          5.85,
          4.41,
          4.71,
          4.86,
          5.05,
          3.48,
          4.86,
          4.86,
          6.1,
          5.9,
          5.85,
          4.86,
          6.1,
          3.2,
          5.05,
          5.05,
          4.86,
          4.74,
          5.05,
          4.74,
          5.1,
          5.1,
          3.48,
          4.74,
          4.86,
          5.9,
          4.74,
          4.86,
          3.5,
          3.2,
          3,
          2.55,
          3.2,
          4.43,
          5.85,
          3.48,
          4.74,
          5.85,
          3.48,
          3.32,
          5.9,
          3,
          4.86,
          3,
          6.1,
          4.74,
          3.81,
          5.27,
          4.39,
          5.05,
          4.74,
          4.74,
          5.05,
          4.86,
          6.1,
          4.86,
          4.86,
          3.48,
          5.85,
          4.46,
          4.86,
          4.57,
          6.1,
          5.85,
          4.71,
          3.14,
          3.2,
          4.74,
          4.86,
          4.86,
          6.1,
          6,
          4.86,
          4.86,
          3.2,
          5.9,
          4.41,
          2.55,
          4.71,
          4.19,
          4.86,
          4.74,
          4.41,
          3.48,
          4.41,
          4.71,
          4.41,
          6.1,
          4.41,
          2.55,
          3,
          5.27,
          4.35,
          3.2,
          2.55,
          5.85,
          3.32,
          3.48,
          4.74,
          4.86,
          4.71,
          4.86,
          4.86,
          4.86,
          4.86,
          4.86,
          4.86,
          3.48,
          6,
          3.48,
          5.85,
          4.74,
          3.48,
          5.85,
          6.1,
          6.1,
          5.7,
          4.43,
          4.74,
          5.27,
          4.62,
          6.1,
          4.41,
          3.2,
          2.55,
          3.86,
          5.05,
          3.18,
          3.2,
          4.86,
          4.74,
          5.1,
          4.86,
          4.86,
          4.46,
          4.86,
          4.71,
          3.2,
          3.89,
          3.32,
          3.32,
          4.95,
          4.74,
          4.74,
          5.76,
          5.48,
          4.46,
          4.71,
          4.74,
          4.35,
          4.62,
          4.86,
          4.86,
          5.27,
          5.27,
          5.27,
          4.27,
          5.05,
          6.1,
          4.46,
          5.85,
          5.27,
          3.2,
          5.27,
          5.27,
          3.48,
          4.86,
          5.05,
          4.86,
          6.1,
          6,
          3.32,
          4.39,
          4.86,
          3,
          4.95,
          4.86,
          4.86,
          5.9,
          4.67,
          6.1,
          4.86,
          5.85,
          4.67,
          4.71,
          4.41,
          4.86,
          4.86,
          4.74,
          6.3,
          5.85,
          5.05,
          5.27,
          4.86,
          4.86,
          4.86,
          3,
          6.1,
          5.05,
          5.85,
          4.95,
          4.71,
          4.95,
          4.86,
          5.85,
          5.27,
          6.1,
          6.1,
          4.86,
          6.1,
          6.1,
          4.86,
          4.86,
          4.86,
          4.43,
          4.71,
          5.1,
          6.1,
          5.1,
          6.1,
          4.86,
          6.1,
          4.41,
          5.85,
          4.41,
          5.85,
          5.85,
          4.86,
          4.17,
          4.86,
          4.86,
          5.85,
          4.41,
          3.48,
          4.71,
          4.39,
          3.2,
          3.2,
          4.25,
          4.86,
          3.2,
          5.1,
          4,
          4.86,
          3.48,
          3.2,
          4.86,
          4.86,
          4.25,
          5.85,
          4.95,
          4.71,
          4.41,
          3.2,
          4.41,
          3.78,
          4.86,
          3.2,
          6.1,
          4,
          6.1,
          3.48,
          4.71,
          3.2,
          4.95,
          6.1,
          4.74,
          4.74,
          6.1,
          4.86,
          4.74,
          5.05,
          4.86,
          3.2,
          4.86,
          5.85,
          4.86,
          4.86,
          6.1,
          6,
          4.86,
          6.1,
          5.85,
          3,
          5.27,
          4.67,
          4.86,
          4.86,
          4.86,
          3.32,
          4.86,
          3.76,
          6.1,
          5.27,
          4.95,
          3,
          4.74,
          4.86,
          3.2,
          6.1,
          6.1,
          4.86,
          4.86,
          4.86,
          4.95,
          4.71,
          6.1,
          3.76,
          5.85,
          4.86,
          3.32,
          4.86,
          4.86,
          4.86,
          4.86,
          3.32,
          6.1,
          4.41,
          4.86,
          6.1,
          4.95,
          3,
          4.62,
          4.86,
          4.86,
          4.35,
          4.86,
          3.86,
          4.86,
          4.86,
          6,
          4.41,
          4.86,
          4.86,
          5.85,
          4.95,
          3.48,
          4.74,
          4.95,
          4.71,
          3,
          4.86,
          5.85,
          5.85,
          4.86,
          5.27,
          6,
          4.86,
          6.1,
          4.86,
          4.95,
          4.71,
          4.74,
          4.71,
          6.1,
          5.27,
          4.62,
          5.85,
          3,
          5.7,
          4.19,
          4.86,
          3.5,
          6.1,
          4.95,
          4.74,
          3.48,
          2.55,
          2.85,
          4.71,
          6.1,
          4.86,
          4.86,
          4.86,
          3.92,
          4.05,
          4.95,
          3.48,
          4.39,
          4.55,
          3.2,
          3.48,
          4.86,
          5.85,
          6,
          5.85,
          4.46,
          5.85,
          3.48,
          4.86,
          3.48,
          4.86,
          4.17,
          4.71,
          3.55,
          3.2,
          4.95,
          5.9,
          6.1,
          4.86,
          4.62,
          6.1,
          4.86,
          4.41,
          4.74,
          4.86,
          4.86,
          4.19,
          4.19,
          4.86,
          5.27,
          4.86,
          3.39,
          4.86,
          5.27,
          4.86,
          3.48,
          3.18,
          4.5,
          4.86,
          4.86,
          5.85,
          6,
          4,
          4.86,
          3.18,
          3.2,
          4.86,
          4.86,
          5,
          4.74,
          4.86,
          4.95,
          4.86,
          6.61,
          4.86,
          3,
          3.48,
          4.41,
          4.74,
          5.85,
          3.2,
          5.05,
          5.05,
          6.1,
          5.85,
          4.86,
          4.86,
          5.27,
          3.2,
          3.48,
          5.05,
          4.62,
          3.32,
          3.39,
          6.1,
          4.71,
          4.71,
          6.1,
          4.86,
          4.46,
          4.86,
          4.86,
          2.55,
          4.74,
          4.43,
          4.74,
          4.74,
          4.91,
          4.35,
          5.85,
          6,
          2.85,
          3.48,
          3.48,
          4.86,
          5.85,
          5,
          2.85,
          4.86,
          4.5,
          5.9,
          5.85,
          5.05,
          4.3,
          2.55,
          4.74,
          3.32,
          2.55,
          3.32,
          4.39,
          4.41,
          4.86,
          4.71,
          4.95,
          4,
          3.48,
          1.67,
          5.85,
          4.74,
          4.74,
          6.3,
          4.74,
          4.86,
          2.55,
          5.27,
          4.86,
          4.86,
          5.05,
          4.95,
          4.46,
          4.86,
          3,
          4.86,
          4.86,
          3,
          4.41,
          4.74,
          4.74,
          4.86,
          2.85,
          5.05,
          5.05,
          3.2,
          5.27,
          6.1,
          2.55,
          5.27,
          5.27,
          4.86,
          4.86,
          5.05
         ],
         "xaxis": "x",
         "yaxis": "y"
        }
       ],
       "layout": {
        "barmode": "overlay",
        "legend": {
         "title": {
          "text": "Gender"
         },
         "tracegroupgap": 0
        },
        "template": {
         "data": {
          "bar": [
           {
            "error_x": {
             "color": "#2a3f5f"
            },
            "error_y": {
             "color": "#2a3f5f"
            },
            "marker": {
             "line": {
              "color": "#E5ECF6",
              "width": 0.5
             },
             "pattern": {
              "fillmode": "overlay",
              "size": 10,
              "solidity": 0.2
             }
            },
            "type": "bar"
           }
          ],
          "barpolar": [
           {
            "marker": {
             "line": {
              "color": "#E5ECF6",
              "width": 0.5
             },
             "pattern": {
              "fillmode": "overlay",
              "size": 10,
              "solidity": 0.2
             }
            },
            "type": "barpolar"
           }
          ],
          "carpet": [
           {
            "aaxis": {
             "endlinecolor": "#2a3f5f",
             "gridcolor": "white",
             "linecolor": "white",
             "minorgridcolor": "white",
             "startlinecolor": "#2a3f5f"
            },
            "baxis": {
             "endlinecolor": "#2a3f5f",
             "gridcolor": "white",
             "linecolor": "white",
             "minorgridcolor": "white",
             "startlinecolor": "#2a3f5f"
            },
            "type": "carpet"
           }
          ],
          "choropleth": [
           {
            "colorbar": {
             "outlinewidth": 0,
             "ticks": ""
            },
            "type": "choropleth"
           }
          ],
          "contour": [
           {
            "colorbar": {
             "outlinewidth": 0,
             "ticks": ""
            },
            "colorscale": [
             [
              0,
              "#0d0887"
             ],
             [
              0.1111111111111111,
              "#46039f"
             ],
             [
              0.2222222222222222,
              "#7201a8"
             ],
             [
              0.3333333333333333,
              "#9c179e"
             ],
             [
              0.4444444444444444,
              "#bd3786"
             ],
             [
              0.5555555555555556,
              "#d8576b"
             ],
             [
              0.6666666666666666,
              "#ed7953"
             ],
             [
              0.7777777777777778,
              "#fb9f3a"
             ],
             [
              0.8888888888888888,
              "#fdca26"
             ],
             [
              1,
              "#f0f921"
             ]
            ],
            "type": "contour"
           }
          ],
          "contourcarpet": [
           {
            "colorbar": {
             "outlinewidth": 0,
             "ticks": ""
            },
            "type": "contourcarpet"
           }
          ],
          "heatmap": [
           {
            "colorbar": {
             "outlinewidth": 0,
             "ticks": ""
            },
            "colorscale": [
             [
              0,
              "#0d0887"
             ],
             [
              0.1111111111111111,
              "#46039f"
             ],
             [
              0.2222222222222222,
              "#7201a8"
             ],
             [
              0.3333333333333333,
              "#9c179e"
             ],
             [
              0.4444444444444444,
              "#bd3786"
             ],
             [
              0.5555555555555556,
              "#d8576b"
             ],
             [
              0.6666666666666666,
              "#ed7953"
             ],
             [
              0.7777777777777778,
              "#fb9f3a"
             ],
             [
              0.8888888888888888,
              "#fdca26"
             ],
             [
              1,
              "#f0f921"
             ]
            ],
            "type": "heatmap"
           }
          ],
          "heatmapgl": [
           {
            "colorbar": {
             "outlinewidth": 0,
             "ticks": ""
            },
            "colorscale": [
             [
              0,
              "#0d0887"
             ],
             [
              0.1111111111111111,
              "#46039f"
             ],
             [
              0.2222222222222222,
              "#7201a8"
             ],
             [
              0.3333333333333333,
              "#9c179e"
             ],
             [
              0.4444444444444444,
              "#bd3786"
             ],
             [
              0.5555555555555556,
              "#d8576b"
             ],
             [
              0.6666666666666666,
              "#ed7953"
             ],
             [
              0.7777777777777778,
              "#fb9f3a"
             ],
             [
              0.8888888888888888,
              "#fdca26"
             ],
             [
              1,
              "#f0f921"
             ]
            ],
            "type": "heatmapgl"
           }
          ],
          "histogram": [
           {
            "marker": {
             "pattern": {
              "fillmode": "overlay",
              "size": 10,
              "solidity": 0.2
             }
            },
            "type": "histogram"
           }
          ],
          "histogram2d": [
           {
            "colorbar": {
             "outlinewidth": 0,
             "ticks": ""
            },
            "colorscale": [
             [
              0,
              "#0d0887"
             ],
             [
              0.1111111111111111,
              "#46039f"
             ],
             [
              0.2222222222222222,
              "#7201a8"
             ],
             [
              0.3333333333333333,
              "#9c179e"
             ],
             [
              0.4444444444444444,
              "#bd3786"
             ],
             [
              0.5555555555555556,
              "#d8576b"
             ],
             [
              0.6666666666666666,
              "#ed7953"
             ],
             [
              0.7777777777777778,
              "#fb9f3a"
             ],
             [
              0.8888888888888888,
              "#fdca26"
             ],
             [
              1,
              "#f0f921"
             ]
            ],
            "type": "histogram2d"
           }
          ],
          "histogram2dcontour": [
           {
            "colorbar": {
             "outlinewidth": 0,
             "ticks": ""
            },
            "colorscale": [
             [
              0,
              "#0d0887"
             ],
             [
              0.1111111111111111,
              "#46039f"
             ],
             [
              0.2222222222222222,
              "#7201a8"
             ],
             [
              0.3333333333333333,
              "#9c179e"
             ],
             [
              0.4444444444444444,
              "#bd3786"
             ],
             [
              0.5555555555555556,
              "#d8576b"
             ],
             [
              0.6666666666666666,
              "#ed7953"
             ],
             [
              0.7777777777777778,
              "#fb9f3a"
             ],
             [
              0.8888888888888888,
              "#fdca26"
             ],
             [
              1,
              "#f0f921"
             ]
            ],
            "type": "histogram2dcontour"
           }
          ],
          "mesh3d": [
           {
            "colorbar": {
             "outlinewidth": 0,
             "ticks": ""
            },
            "type": "mesh3d"
           }
          ],
          "parcoords": [
           {
            "line": {
             "colorbar": {
              "outlinewidth": 0,
              "ticks": ""
             }
            },
            "type": "parcoords"
           }
          ],
          "pie": [
           {
            "automargin": true,
            "type": "pie"
           }
          ],
          "scatter": [
           {
            "fillpattern": {
             "fillmode": "overlay",
             "size": 10,
             "solidity": 0.2
            },
            "type": "scatter"
           }
          ],
          "scatter3d": [
           {
            "line": {
             "colorbar": {
              "outlinewidth": 0,
              "ticks": ""
             }
            },
            "marker": {
             "colorbar": {
              "outlinewidth": 0,
              "ticks": ""
             }
            },
            "type": "scatter3d"
           }
          ],
          "scattercarpet": [
           {
            "marker": {
             "colorbar": {
              "outlinewidth": 0,
              "ticks": ""
             }
            },
            "type": "scattercarpet"
           }
          ],
          "scattergeo": [
           {
            "marker": {
             "colorbar": {
              "outlinewidth": 0,
              "ticks": ""
             }
            },
            "type": "scattergeo"
           }
          ],
          "scattergl": [
           {
            "marker": {
             "colorbar": {
              "outlinewidth": 0,
              "ticks": ""
             }
            },
            "type": "scattergl"
           }
          ],
          "scattermapbox": [
           {
            "marker": {
             "colorbar": {
              "outlinewidth": 0,
              "ticks": ""
             }
            },
            "type": "scattermapbox"
           }
          ],
          "scatterpolar": [
           {
            "marker": {
             "colorbar": {
              "outlinewidth": 0,
              "ticks": ""
             }
            },
            "type": "scatterpolar"
           }
          ],
          "scatterpolargl": [
           {
            "marker": {
             "colorbar": {
              "outlinewidth": 0,
              "ticks": ""
             }
            },
            "type": "scatterpolargl"
           }
          ],
          "scatterternary": [
           {
            "marker": {
             "colorbar": {
              "outlinewidth": 0,
              "ticks": ""
             }
            },
            "type": "scatterternary"
           }
          ],
          "surface": [
           {
            "colorbar": {
             "outlinewidth": 0,
             "ticks": ""
            },
            "colorscale": [
             [
              0,
              "#0d0887"
             ],
             [
              0.1111111111111111,
              "#46039f"
             ],
             [
              0.2222222222222222,
              "#7201a8"
             ],
             [
              0.3333333333333333,
              "#9c179e"
             ],
             [
              0.4444444444444444,
              "#bd3786"
             ],
             [
              0.5555555555555556,
              "#d8576b"
             ],
             [
              0.6666666666666666,
              "#ed7953"
             ],
             [
              0.7777777777777778,
              "#fb9f3a"
             ],
             [
              0.8888888888888888,
              "#fdca26"
             ],
             [
              1,
              "#f0f921"
             ]
            ],
            "type": "surface"
           }
          ],
          "table": [
           {
            "cells": {
             "fill": {
              "color": "#EBF0F8"
             },
             "line": {
              "color": "white"
             }
            },
            "header": {
             "fill": {
              "color": "#C8D4E3"
             },
             "line": {
              "color": "white"
             }
            },
            "type": "table"
           }
          ]
         },
         "layout": {
          "annotationdefaults": {
           "arrowcolor": "#2a3f5f",
           "arrowhead": 0,
           "arrowwidth": 1
          },
          "autotypenumbers": "strict",
          "coloraxis": {
           "colorbar": {
            "outlinewidth": 0,
            "ticks": ""
           }
          },
          "colorscale": {
           "diverging": [
            [
             0,
             "#8e0152"
            ],
            [
             0.1,
             "#c51b7d"
            ],
            [
             0.2,
             "#de77ae"
            ],
            [
             0.3,
             "#f1b6da"
            ],
            [
             0.4,
             "#fde0ef"
            ],
            [
             0.5,
             "#f7f7f7"
            ],
            [
             0.6,
             "#e6f5d0"
            ],
            [
             0.7,
             "#b8e186"
            ],
            [
             0.8,
             "#7fbc41"
            ],
            [
             0.9,
             "#4d9221"
            ],
            [
             1,
             "#276419"
            ]
           ],
           "sequential": [
            [
             0,
             "#0d0887"
            ],
            [
             0.1111111111111111,
             "#46039f"
            ],
            [
             0.2222222222222222,
             "#7201a8"
            ],
            [
             0.3333333333333333,
             "#9c179e"
            ],
            [
             0.4444444444444444,
             "#bd3786"
            ],
            [
             0.5555555555555556,
             "#d8576b"
            ],
            [
             0.6666666666666666,
             "#ed7953"
            ],
            [
             0.7777777777777778,
             "#fb9f3a"
            ],
            [
             0.8888888888888888,
             "#fdca26"
            ],
            [
             1,
             "#f0f921"
            ]
           ],
           "sequentialminus": [
            [
             0,
             "#0d0887"
            ],
            [
             0.1111111111111111,
             "#46039f"
            ],
            [
             0.2222222222222222,
             "#7201a8"
            ],
            [
             0.3333333333333333,
             "#9c179e"
            ],
            [
             0.4444444444444444,
             "#bd3786"
            ],
            [
             0.5555555555555556,
             "#d8576b"
            ],
            [
             0.6666666666666666,
             "#ed7953"
            ],
            [
             0.7777777777777778,
             "#fb9f3a"
            ],
            [
             0.8888888888888888,
             "#fdca26"
            ],
            [
             1,
             "#f0f921"
            ]
           ]
          },
          "colorway": [
           "#636efa",
           "#EF553B",
           "#00cc96",
           "#ab63fa",
           "#FFA15A",
           "#19d3f3",
           "#FF6692",
           "#B6E880",
           "#FF97FF",
           "#FECB52"
          ],
          "font": {
           "color": "#2a3f5f"
          },
          "geo": {
           "bgcolor": "white",
           "lakecolor": "white",
           "landcolor": "#E5ECF6",
           "showlakes": true,
           "showland": true,
           "subunitcolor": "white"
          },
          "hoverlabel": {
           "align": "left"
          },
          "hovermode": "closest",
          "mapbox": {
           "style": "light"
          },
          "paper_bgcolor": "white",
          "plot_bgcolor": "#E5ECF6",
          "polar": {
           "angularaxis": {
            "gridcolor": "white",
            "linecolor": "white",
            "ticks": ""
           },
           "bgcolor": "#E5ECF6",
           "radialaxis": {
            "gridcolor": "white",
            "linecolor": "white",
            "ticks": ""
           }
          },
          "scene": {
           "xaxis": {
            "backgroundcolor": "#E5ECF6",
            "gridcolor": "white",
            "gridwidth": 2,
            "linecolor": "white",
            "showbackground": true,
            "ticks": "",
            "zerolinecolor": "white"
           },
           "yaxis": {
            "backgroundcolor": "#E5ECF6",
            "gridcolor": "white",
            "gridwidth": 2,
            "linecolor": "white",
            "showbackground": true,
            "ticks": "",
            "zerolinecolor": "white"
           },
           "zaxis": {
            "backgroundcolor": "#E5ECF6",
            "gridcolor": "white",
            "gridwidth": 2,
            "linecolor": "white",
            "showbackground": true,
            "ticks": "",
            "zerolinecolor": "white"
           }
          },
          "shapedefaults": {
           "line": {
            "color": "#2a3f5f"
           }
          },
          "ternary": {
           "aaxis": {
            "gridcolor": "white",
            "linecolor": "white",
            "ticks": ""
           },
           "baxis": {
            "gridcolor": "white",
            "linecolor": "white",
            "ticks": ""
           },
           "bgcolor": "#E5ECF6",
           "caxis": {
            "gridcolor": "white",
            "linecolor": "white",
            "ticks": ""
           }
          },
          "title": {
           "x": 0.05
          },
          "xaxis": {
           "automargin": true,
           "gridcolor": "white",
           "linecolor": "white",
           "ticks": "",
           "title": {
            "standoff": 15
           },
           "zerolinecolor": "white",
           "zerolinewidth": 2
          },
          "yaxis": {
           "automargin": true,
           "gridcolor": "white",
           "linecolor": "white",
           "ticks": "",
           "title": {
            "standoff": 15
           },
           "zerolinecolor": "white",
           "zerolinewidth": 2
          }
         }
        },
        "title": {
         "text": "Histogram of arousal values uniform"
        },
        "xaxis": {
         "anchor": "y",
         "domain": [
          0,
          1
         ],
         "title": {
          "text": "arousal"
         }
        },
        "yaxis": {
         "anchor": "x",
         "domain": [
          0,
          1
         ],
         "title": {
          "text": "percent"
         }
        }
       }
      },
      "text/html": [
       "<div>                            <div id=\"af8ea45e-ae97-48b5-bfa2-03fb5866f54c\" class=\"plotly-graph-div\" style=\"height:525px; width:100%;\"></div>            <script type=\"text/javascript\">                require([\"plotly\"], function(Plotly) {                    window.PLOTLYENV=window.PLOTLYENV || {};                                    if (document.getElementById(\"af8ea45e-ae97-48b5-bfa2-03fb5866f54c\")) {                    Plotly.newPlot(                        \"af8ea45e-ae97-48b5-bfa2-03fb5866f54c\",                        [{\"alignmentgroup\":\"True\",\"bingroup\":\"x\",\"histnorm\":\"percent\",\"hovertemplate\":\"Gender=Female\\u003cbr\\u003earousal=%{x}\\u003cbr\\u003epercent=%{y}\\u003cextra\\u003e\\u003c\\u002fextra\\u003e\",\"legendgroup\":\"Female\",\"marker\":{\"color\":\"#636efa\",\"opacity\":0.5,\"pattern\":{\"shape\":\"\"}},\"name\":\"Female\",\"nbinsx\":50,\"offsetgroup\":\"Female\",\"orientation\":\"v\",\"showlegend\":true,\"x\":[4.86,3.48,3.2,4.86,3.81,3.2,4.46,4.46,3.48,5.85,4.39,4.41,3.48,3.2,5.85,4.86,5.85,4.41,4.86,4.46,3.2,3.55,5.85,4.86,3.2,3.0,3.0,4.86,4.86,5.85,4.67,3.48,4.86,3.2,4.41,3.18,3.2,4.35,4.74,4.41,2.55,4.46,3.2,4.95,5.85,6.1,3.0,5.85,3.48,4.86,5.85,4.86,3.2,4.35,4.86,4.86,4.74,4.74,3.2,4.86,3.2,4.71,3.32,4.86,6.1,6.0,4.74,5.27,4.86,4.86,5.85,4.67,5.05,4.74,3.0,3.78,5.27,4.86,5.85,4.86,4.86,5.85,4.86,4.86,3.2,4.43,6.3,4.86,5.85,2.55,3.81,5.85,5.16,5.05,4.86,5.85,4.05,4.74,4.71,4.86,5.85,4.86,4.86,4.74,6.3,4.71,6.1,5.85,3.2,4.86,4.86,2.55,3.2,3.32,5.85,5.85,5.85,5.05,6.1,4.19,4.86,4.86,4.86,5.05,4.71,3.2,3.76,2.55,6.61,4.86,3.2,5.27,4.71,4.86,5.27,4.86,4.74,4.86,4.05,4.86,3.76,5.27,3.48,4.74,3.48,4.86,4.86,4.86,6.1,4.71,5.85,4.86,4.86,6.1,4.74,5.1,4.86,5.85,4.86,3.0,5.85,3.48,3.2,3.2,5.85,4.86,4.86,4.86,5.85,3.48,3.2,4.86,5.85,4.71,5.27,5.85,6.1,3.2,4.74,4.86,5.27,4.86,3.2,6.1,3.0,5.85,4.86,4.74,4.86,3.55,4.86,4.86,3.78,4.86,4.86,5.05,4.33,5.85,4.86,5.85,4.86,4.86,5.85,5.85,6.1,5.27,4.41,4.95,5.85,4.05,6.1,4.86,4.86,3.48,4.86,3.48,5.27,4.86,5.27,4.86,4.86,4.74,5.85,3.48,4.95,5.85,4.74,5.85,3.2,2.55,4.74,4.86,3.2,4.86,4.0,3.5,3.81,4.86,6.1,5.85,6.1,3.2,4.25,3.2,4.74,4.41,3.2,4.86,6.3,3.48,5.9,4.71,5.85,5.05,5.85,3.2,5.05,3.86,3.0,4.86,5.85,4.17,4.67,2.55,4.86,4.86,4.35,4.86,4.86,4.86,4.95,6.1,4.86,4.86,4.86,4.86,4.86,5.27,5.85,4.86,6.1,3.2,4.74,5.85,6.1,3.2,2.55,4.86,4.86,5.27,3.2,5.85,4.3,6.61,4.46,5.85,4.41,4.6,4.86,4.67,3.2,4.71,4.41,4.67,6.1,3.86,4.86,5.85,5.85,4.86,5.27,3.2,5.27,5.85,5.05,4.86,5.27,5.85,4.86,4.67,4.86,4.41,3.18,5.85,4.86,4.62,3.2,4.86,4.74,3.2,4.86,3.2,4.86,5.85,3.0,4.86,3.0,6.1,3.2,4.74,4.41,4.74,3.2,4.43,4.86,4.86,5.85,4.74,4.74,4.86,4.3,3.2,3.0,3.0,4.86,3.0,2.85,2.85,5.1,3.2,4.67,3.48,4.19,4.86,4.21,3.0,3.0,4.86,6.1,5.85,4.46,5.85,4.74,3.2,3.2,3.2,5.85,4.86,4.86,3.48,6.1],\"xaxis\":\"x\",\"yaxis\":\"y\",\"type\":\"histogram\"},{\"alignmentgroup\":\"True\",\"bingroup\":\"x\",\"histnorm\":\"percent\",\"hovertemplate\":\"Gender=Male\\u003cbr\\u003earousal=%{x}\\u003cbr\\u003epercent=%{y}\\u003cextra\\u003e\\u003c\\u002fextra\\u003e\",\"legendgroup\":\"Male\",\"marker\":{\"color\":\"#EF553B\",\"opacity\":0.5,\"pattern\":{\"shape\":\"\"}},\"name\":\"Male\",\"nbinsx\":50,\"offsetgroup\":\"Male\",\"orientation\":\"v\",\"showlegend\":true,\"x\":[5.9,2.55,6.1,4.74,4.86,4.0,5.85,2.55,3.48,6.1,5.05,5.27,6.1,5.85,4.71,4.86,4.74,6.1,4.86,4.95,5.85,5.85,4.74,5.22,4.74,3.25,5.9,4.67,5.85,4.71,5.85,4.86,3.48,4.86,5.27,5.27,3.95,5.85,4.67,4.71,5.85,3.48,4.86,4.86,3.2,4.55,4.86,4.27,6.1,5.05,5.62,5.7,5.05,4.62,4.86,4.86,6.1,3.2,4.86,4.86,4.86,3.2,4.95,3.0,2.85,5.85,3.81,4.86,4.62,5.27,4.41,4.86,5.27,3.48,4.74,4.74,3.48,2.55,1.67,3.48,3.0,4.46,4.86,4.71,3.2,5.85,4.74,5.05,4.74,3.2,4.57,3.76,3.2,5.22,4.71,4.86,4.86,3.2,4.86,4.86,4.86,5.27,4.25,3.32,3.18,4.86,4.67,5.85,5.05,5.27,3.0,4.71,4.86,4.86,4.86,5.1,3.2,3.0,4.86,3.0,5.85,3.2,4.86,3.2,5.85,5.85,4.86,6.1,5.85,6.1,6.1,3.0,4.95,3.2,6.0,4.86,4.05,6.1,4.95,4.86,5.85,6.1,6.1,4.86,5.9,5.85,4.41,4.86,4.86,3.86,4.86,3.0,3.48,6.1,4.71,4.86,4.86,4.86,4.39,5.9,4.86,4.74,4.7,4.86,4.95,6.1,6.1,4.86,6.1,6.1,5.85,5.1,3.45,6.1,4.86,4.25,6.1,4.86,4.74,4.86,5.27,5.85,4.86,5.85,4.71,4.67,4.86,5.85,4.86,4.86,4.19,3.48,5.7,4.74,4.86,4.74,5.85,4.86,6.1,6.0,3.2,3.0,4.86,4.74,3.78,3.2,4.86,4.86,3.32,3.2,4.86,4.25,6.1,3.0,3.2,5.05,4.39,4.86,4.86,3.48,4.39,5.85,5.9,3.48,4.86,5.27,1.67,4.74,4.71,4.46,4.86,4.86,4.46,4.41,4.86,4.86,3.2,4.86,3.2,4.41,4.39,5.27,3.55,3.32,4.86,3.48,4.86,5.05,2.85,5.85,4.86,4.86,5.05,4.74,5.85,2.55,4.74,5.85,3.2,5.9,4.0,4.62,4.86,3.2,3.2,4.86,4.74,4.86,5.27,4.86,5.0,4.86,4.86,6.1,5.9,4.95,4.74,2.55,5.1,6.1,3.55,5.85,3.48,5.9,3.48,6.61,4.71,4.71,3.2,4.86,4.86,2.55,3.2,4.74,4.86,5.27,4.86,3.2,3.86,2.55,4.86,5.85,4.71,4.23,4.74,3.2,5.27,5.27,4.41,5.85,5.27,4.95,5.05,5.27,4.74,4.95,4.74,5.85,4.86,5.9,4.74,5.05,4.86,4.86,4.95,3.14,5.14,4.86,5.27,4.86,4.05,4.74,4.86,3.48,3.0,4.86,5.0,5.85,3.78,4.74,4.41,4.74,3.81,3.2,3.48,4.86,4.86,3.0,4.86,3.0,3.2,4.86,3.0,2.55,4.41,4.86,4.74,4.86,3.2,5.0,5.85,5.22,5.05,3.32,5.0,5.0,5.14,3.78,5.85,6.61,2.55,4.86,5.85,4.74,4.86,4.86,5.0,2.85,4.86,4.71,2.55,3.48,4.86,4.67,4.86,5.05,3.81,3.18,4.86,4.86,5.85,6.1,4.86,3.0,4.74,4.86,4.86,4.86,5.05,4.71,5.9,4.0,4.41,4.86,5.85,5.85,4.74,5.9,4.86,5.85,6.1,6.1,4.17,4.74,4.25,4.71,4.86,4.86,5.85,4.86,4.74,4.41,4.71,4.62,5.85,4.74,3.0,5.27,6.61,4.41,4.41,5.1,4.86,6.1,6.1,4.86,4.95,6.1,5.05,4.14,4.71,4.95,4.74,4.0,4.71,4.67,4.86,4.46,4.86,3.48,3.2,4.86,4.86,5.85,4.71,3.2,4.86,3.48,4.86,4.86,5.85,4.41,4.46,4.95,4.86,6.1,3.0,4.41,4.86,4.74,5.85,5.85,4.86,5.05,6.1,4.86,4.41,5.85,4.86,3.2,6.1,3.78,4.86,4.86,4.74,4.41,6.1,3.2,3.95,4.62,6.1,4.74,4.86,5.85,4.39,4.95,4.86,4.74,3.0,4.86,4.86,4.74,3.2,4.86,5.85,5.85,4.41,4.71,4.86,5.05,3.48,4.86,4.86,6.1,5.9,5.85,4.86,6.1,3.2,5.05,5.05,4.86,4.74,5.05,4.74,5.1,5.1,3.48,4.74,4.86,5.9,4.74,4.86,3.5,3.2,3.0,2.55,3.2,4.43,5.85,3.48,4.74,5.85,3.48,3.32,5.9,3.0,4.86,3.0,6.1,4.74,3.81,5.27,4.39,5.05,4.74,4.74,5.05,4.86,6.1,4.86,4.86,3.48,5.85,4.46,4.86,4.57,6.1,5.85,4.71,3.14,3.2,4.74,4.86,4.86,6.1,6.0,4.86,4.86,3.2,5.9,4.41,2.55,4.71,4.19,4.86,4.74,4.41,3.48,4.41,4.71,4.41,6.1,4.41,2.55,3.0,5.27,4.35,3.2,2.55,5.85,3.32,3.48,4.74,4.86,4.71,4.86,4.86,4.86,4.86,4.86,4.86,3.48,6.0,3.48,5.85,4.74,3.48,5.85,6.1,6.1,5.7,4.43,4.74,5.27,4.62,6.1,4.41,3.2,2.55,3.86,5.05,3.18,3.2,4.86,4.74,5.1,4.86,4.86,4.46,4.86,4.71,3.2,3.89,3.32,3.32,4.95,4.74,4.74,5.76,5.48,4.46,4.71,4.74,4.35,4.62,4.86,4.86,5.27,5.27,5.27,4.27,5.05,6.1,4.46,5.85,5.27,3.2,5.27,5.27,3.48,4.86,5.05,4.86,6.1,6.0,3.32,4.39,4.86,3.0,4.95,4.86,4.86,5.9,4.67,6.1,4.86,5.85,4.67,4.71,4.41,4.86,4.86,4.74,6.3,5.85,5.05,5.27,4.86,4.86,4.86,3.0,6.1,5.05,5.85,4.95,4.71,4.95,4.86,5.85,5.27,6.1,6.1,4.86,6.1,6.1,4.86,4.86,4.86,4.43,4.71,5.1,6.1,5.1,6.1,4.86,6.1,4.41,5.85,4.41,5.85,5.85,4.86,4.17,4.86,4.86,5.85,4.41,3.48,4.71,4.39,3.2,3.2,4.25,4.86,3.2,5.1,4.0,4.86,3.48,3.2,4.86,4.86,4.25,5.85,4.95,4.71,4.41,3.2,4.41,3.78,4.86,3.2,6.1,4.0,6.1,3.48,4.71,3.2,4.95,6.1,4.74,4.74,6.1,4.86,4.74,5.05,4.86,3.2,4.86,5.85,4.86,4.86,6.1,6.0,4.86,6.1,5.85,3.0,5.27,4.67,4.86,4.86,4.86,3.32,4.86,3.76,6.1,5.27,4.95,3.0,4.74,4.86,3.2,6.1,6.1,4.86,4.86,4.86,4.95,4.71,6.1,3.76,5.85,4.86,3.32,4.86,4.86,4.86,4.86,3.32,6.1,4.41,4.86,6.1,4.95,3.0,4.62,4.86,4.86,4.35,4.86,3.86,4.86,4.86,6.0,4.41,4.86,4.86,5.85,4.95,3.48,4.74,4.95,4.71,3.0,4.86,5.85,5.85,4.86,5.27,6.0,4.86,6.1,4.86,4.95,4.71,4.74,4.71,6.1,5.27,4.62,5.85,3.0,5.7,4.19,4.86,3.5,6.1,4.95,4.74,3.48,2.55,2.85,4.71,6.1,4.86,4.86,4.86,3.92,4.05,4.95,3.48,4.39,4.55,3.2,3.48,4.86,5.85,6.0,5.85,4.46,5.85,3.48,4.86,3.48,4.86,4.17,4.71,3.55,3.2,4.95,5.9,6.1,4.86,4.62,6.1,4.86,4.41,4.74,4.86,4.86,4.19,4.19,4.86,5.27,4.86,3.39,4.86,5.27,4.86,3.48,3.18,4.5,4.86,4.86,5.85,6.0,4.0,4.86,3.18,3.2,4.86,4.86,5.0,4.74,4.86,4.95,4.86,6.61,4.86,3.0,3.48,4.41,4.74,5.85,3.2,5.05,5.05,6.1,5.85,4.86,4.86,5.27,3.2,3.48,5.05,4.62,3.32,3.39,6.1,4.71,4.71,6.1,4.86,4.46,4.86,4.86,2.55,4.74,4.43,4.74,4.74,4.91,4.35,5.85,6.0,2.85,3.48,3.48,4.86,5.85,5.0,2.85,4.86,4.5,5.9,5.85,5.05,4.3,2.55,4.74,3.32,2.55,3.32,4.39,4.41,4.86,4.71,4.95,4.0,3.48,1.67,5.85,4.74,4.74,6.3,4.74,4.86,2.55,5.27,4.86,4.86,5.05,4.95,4.46,4.86,3.0,4.86,4.86,3.0,4.41,4.74,4.74,4.86,2.85,5.05,5.05,3.2,5.27,6.1,2.55,5.27,5.27,4.86,4.86,5.05],\"xaxis\":\"x\",\"yaxis\":\"y\",\"type\":\"histogram\"}],                        {\"template\":{\"data\":{\"histogram2dcontour\":[{\"type\":\"histogram2dcontour\",\"colorbar\":{\"outlinewidth\":0,\"ticks\":\"\"},\"colorscale\":[[0.0,\"#0d0887\"],[0.1111111111111111,\"#46039f\"],[0.2222222222222222,\"#7201a8\"],[0.3333333333333333,\"#9c179e\"],[0.4444444444444444,\"#bd3786\"],[0.5555555555555556,\"#d8576b\"],[0.6666666666666666,\"#ed7953\"],[0.7777777777777778,\"#fb9f3a\"],[0.8888888888888888,\"#fdca26\"],[1.0,\"#f0f921\"]]}],\"choropleth\":[{\"type\":\"choropleth\",\"colorbar\":{\"outlinewidth\":0,\"ticks\":\"\"}}],\"histogram2d\":[{\"type\":\"histogram2d\",\"colorbar\":{\"outlinewidth\":0,\"ticks\":\"\"},\"colorscale\":[[0.0,\"#0d0887\"],[0.1111111111111111,\"#46039f\"],[0.2222222222222222,\"#7201a8\"],[0.3333333333333333,\"#9c179e\"],[0.4444444444444444,\"#bd3786\"],[0.5555555555555556,\"#d8576b\"],[0.6666666666666666,\"#ed7953\"],[0.7777777777777778,\"#fb9f3a\"],[0.8888888888888888,\"#fdca26\"],[1.0,\"#f0f921\"]]}],\"heatmap\":[{\"type\":\"heatmap\",\"colorbar\":{\"outlinewidth\":0,\"ticks\":\"\"},\"colorscale\":[[0.0,\"#0d0887\"],[0.1111111111111111,\"#46039f\"],[0.2222222222222222,\"#7201a8\"],[0.3333333333333333,\"#9c179e\"],[0.4444444444444444,\"#bd3786\"],[0.5555555555555556,\"#d8576b\"],[0.6666666666666666,\"#ed7953\"],[0.7777777777777778,\"#fb9f3a\"],[0.8888888888888888,\"#fdca26\"],[1.0,\"#f0f921\"]]}],\"heatmapgl\":[{\"type\":\"heatmapgl\",\"colorbar\":{\"outlinewidth\":0,\"ticks\":\"\"},\"colorscale\":[[0.0,\"#0d0887\"],[0.1111111111111111,\"#46039f\"],[0.2222222222222222,\"#7201a8\"],[0.3333333333333333,\"#9c179e\"],[0.4444444444444444,\"#bd3786\"],[0.5555555555555556,\"#d8576b\"],[0.6666666666666666,\"#ed7953\"],[0.7777777777777778,\"#fb9f3a\"],[0.8888888888888888,\"#fdca26\"],[1.0,\"#f0f921\"]]}],\"contourcarpet\":[{\"type\":\"contourcarpet\",\"colorbar\":{\"outlinewidth\":0,\"ticks\":\"\"}}],\"contour\":[{\"type\":\"contour\",\"colorbar\":{\"outlinewidth\":0,\"ticks\":\"\"},\"colorscale\":[[0.0,\"#0d0887\"],[0.1111111111111111,\"#46039f\"],[0.2222222222222222,\"#7201a8\"],[0.3333333333333333,\"#9c179e\"],[0.4444444444444444,\"#bd3786\"],[0.5555555555555556,\"#d8576b\"],[0.6666666666666666,\"#ed7953\"],[0.7777777777777778,\"#fb9f3a\"],[0.8888888888888888,\"#fdca26\"],[1.0,\"#f0f921\"]]}],\"surface\":[{\"type\":\"surface\",\"colorbar\":{\"outlinewidth\":0,\"ticks\":\"\"},\"colorscale\":[[0.0,\"#0d0887\"],[0.1111111111111111,\"#46039f\"],[0.2222222222222222,\"#7201a8\"],[0.3333333333333333,\"#9c179e\"],[0.4444444444444444,\"#bd3786\"],[0.5555555555555556,\"#d8576b\"],[0.6666666666666666,\"#ed7953\"],[0.7777777777777778,\"#fb9f3a\"],[0.8888888888888888,\"#fdca26\"],[1.0,\"#f0f921\"]]}],\"mesh3d\":[{\"type\":\"mesh3d\",\"colorbar\":{\"outlinewidth\":0,\"ticks\":\"\"}}],\"scatter\":[{\"fillpattern\":{\"fillmode\":\"overlay\",\"size\":10,\"solidity\":0.2},\"type\":\"scatter\"}],\"parcoords\":[{\"type\":\"parcoords\",\"line\":{\"colorbar\":{\"outlinewidth\":0,\"ticks\":\"\"}}}],\"scatterpolargl\":[{\"type\":\"scatterpolargl\",\"marker\":{\"colorbar\":{\"outlinewidth\":0,\"ticks\":\"\"}}}],\"bar\":[{\"error_x\":{\"color\":\"#2a3f5f\"},\"error_y\":{\"color\":\"#2a3f5f\"},\"marker\":{\"line\":{\"color\":\"#E5ECF6\",\"width\":0.5},\"pattern\":{\"fillmode\":\"overlay\",\"size\":10,\"solidity\":0.2}},\"type\":\"bar\"}],\"scattergeo\":[{\"type\":\"scattergeo\",\"marker\":{\"colorbar\":{\"outlinewidth\":0,\"ticks\":\"\"}}}],\"scatterpolar\":[{\"type\":\"scatterpolar\",\"marker\":{\"colorbar\":{\"outlinewidth\":0,\"ticks\":\"\"}}}],\"histogram\":[{\"marker\":{\"pattern\":{\"fillmode\":\"overlay\",\"size\":10,\"solidity\":0.2}},\"type\":\"histogram\"}],\"scattergl\":[{\"type\":\"scattergl\",\"marker\":{\"colorbar\":{\"outlinewidth\":0,\"ticks\":\"\"}}}],\"scatter3d\":[{\"type\":\"scatter3d\",\"line\":{\"colorbar\":{\"outlinewidth\":0,\"ticks\":\"\"}},\"marker\":{\"colorbar\":{\"outlinewidth\":0,\"ticks\":\"\"}}}],\"scattermapbox\":[{\"type\":\"scattermapbox\",\"marker\":{\"colorbar\":{\"outlinewidth\":0,\"ticks\":\"\"}}}],\"scatterternary\":[{\"type\":\"scatterternary\",\"marker\":{\"colorbar\":{\"outlinewidth\":0,\"ticks\":\"\"}}}],\"scattercarpet\":[{\"type\":\"scattercarpet\",\"marker\":{\"colorbar\":{\"outlinewidth\":0,\"ticks\":\"\"}}}],\"carpet\":[{\"aaxis\":{\"endlinecolor\":\"#2a3f5f\",\"gridcolor\":\"white\",\"linecolor\":\"white\",\"minorgridcolor\":\"white\",\"startlinecolor\":\"#2a3f5f\"},\"baxis\":{\"endlinecolor\":\"#2a3f5f\",\"gridcolor\":\"white\",\"linecolor\":\"white\",\"minorgridcolor\":\"white\",\"startlinecolor\":\"#2a3f5f\"},\"type\":\"carpet\"}],\"table\":[{\"cells\":{\"fill\":{\"color\":\"#EBF0F8\"},\"line\":{\"color\":\"white\"}},\"header\":{\"fill\":{\"color\":\"#C8D4E3\"},\"line\":{\"color\":\"white\"}},\"type\":\"table\"}],\"barpolar\":[{\"marker\":{\"line\":{\"color\":\"#E5ECF6\",\"width\":0.5},\"pattern\":{\"fillmode\":\"overlay\",\"size\":10,\"solidity\":0.2}},\"type\":\"barpolar\"}],\"pie\":[{\"automargin\":true,\"type\":\"pie\"}]},\"layout\":{\"autotypenumbers\":\"strict\",\"colorway\":[\"#636efa\",\"#EF553B\",\"#00cc96\",\"#ab63fa\",\"#FFA15A\",\"#19d3f3\",\"#FF6692\",\"#B6E880\",\"#FF97FF\",\"#FECB52\"],\"font\":{\"color\":\"#2a3f5f\"},\"hovermode\":\"closest\",\"hoverlabel\":{\"align\":\"left\"},\"paper_bgcolor\":\"white\",\"plot_bgcolor\":\"#E5ECF6\",\"polar\":{\"bgcolor\":\"#E5ECF6\",\"angularaxis\":{\"gridcolor\":\"white\",\"linecolor\":\"white\",\"ticks\":\"\"},\"radialaxis\":{\"gridcolor\":\"white\",\"linecolor\":\"white\",\"ticks\":\"\"}},\"ternary\":{\"bgcolor\":\"#E5ECF6\",\"aaxis\":{\"gridcolor\":\"white\",\"linecolor\":\"white\",\"ticks\":\"\"},\"baxis\":{\"gridcolor\":\"white\",\"linecolor\":\"white\",\"ticks\":\"\"},\"caxis\":{\"gridcolor\":\"white\",\"linecolor\":\"white\",\"ticks\":\"\"}},\"coloraxis\":{\"colorbar\":{\"outlinewidth\":0,\"ticks\":\"\"}},\"colorscale\":{\"sequential\":[[0.0,\"#0d0887\"],[0.1111111111111111,\"#46039f\"],[0.2222222222222222,\"#7201a8\"],[0.3333333333333333,\"#9c179e\"],[0.4444444444444444,\"#bd3786\"],[0.5555555555555556,\"#d8576b\"],[0.6666666666666666,\"#ed7953\"],[0.7777777777777778,\"#fb9f3a\"],[0.8888888888888888,\"#fdca26\"],[1.0,\"#f0f921\"]],\"sequentialminus\":[[0.0,\"#0d0887\"],[0.1111111111111111,\"#46039f\"],[0.2222222222222222,\"#7201a8\"],[0.3333333333333333,\"#9c179e\"],[0.4444444444444444,\"#bd3786\"],[0.5555555555555556,\"#d8576b\"],[0.6666666666666666,\"#ed7953\"],[0.7777777777777778,\"#fb9f3a\"],[0.8888888888888888,\"#fdca26\"],[1.0,\"#f0f921\"]],\"diverging\":[[0,\"#8e0152\"],[0.1,\"#c51b7d\"],[0.2,\"#de77ae\"],[0.3,\"#f1b6da\"],[0.4,\"#fde0ef\"],[0.5,\"#f7f7f7\"],[0.6,\"#e6f5d0\"],[0.7,\"#b8e186\"],[0.8,\"#7fbc41\"],[0.9,\"#4d9221\"],[1,\"#276419\"]]},\"xaxis\":{\"gridcolor\":\"white\",\"linecolor\":\"white\",\"ticks\":\"\",\"title\":{\"standoff\":15},\"zerolinecolor\":\"white\",\"automargin\":true,\"zerolinewidth\":2},\"yaxis\":{\"gridcolor\":\"white\",\"linecolor\":\"white\",\"ticks\":\"\",\"title\":{\"standoff\":15},\"zerolinecolor\":\"white\",\"automargin\":true,\"zerolinewidth\":2},\"scene\":{\"xaxis\":{\"backgroundcolor\":\"#E5ECF6\",\"gridcolor\":\"white\",\"linecolor\":\"white\",\"showbackground\":true,\"ticks\":\"\",\"zerolinecolor\":\"white\",\"gridwidth\":2},\"yaxis\":{\"backgroundcolor\":\"#E5ECF6\",\"gridcolor\":\"white\",\"linecolor\":\"white\",\"showbackground\":true,\"ticks\":\"\",\"zerolinecolor\":\"white\",\"gridwidth\":2},\"zaxis\":{\"backgroundcolor\":\"#E5ECF6\",\"gridcolor\":\"white\",\"linecolor\":\"white\",\"showbackground\":true,\"ticks\":\"\",\"zerolinecolor\":\"white\",\"gridwidth\":2}},\"shapedefaults\":{\"line\":{\"color\":\"#2a3f5f\"}},\"annotationdefaults\":{\"arrowcolor\":\"#2a3f5f\",\"arrowhead\":0,\"arrowwidth\":1},\"geo\":{\"bgcolor\":\"white\",\"landcolor\":\"#E5ECF6\",\"subunitcolor\":\"white\",\"showland\":true,\"showlakes\":true,\"lakecolor\":\"white\"},\"title\":{\"x\":0.05},\"mapbox\":{\"style\":\"light\"}}},\"xaxis\":{\"anchor\":\"y\",\"domain\":[0.0,1.0],\"title\":{\"text\":\"arousal\"}},\"yaxis\":{\"anchor\":\"x\",\"domain\":[0.0,1.0],\"title\":{\"text\":\"percent\"}},\"legend\":{\"title\":{\"text\":\"Gender\"},\"tracegroupgap\":0},\"title\":{\"text\":\"Histogram of arousal values uniform\"},\"barmode\":\"overlay\"},                        {\"responsive\": true}                    ).then(function(){\n",
       "                            \n",
       "var gd = document.getElementById('af8ea45e-ae97-48b5-bfa2-03fb5866f54c');\n",
       "var x = new MutationObserver(function (mutations, observer) {{\n",
       "        var display = window.getComputedStyle(gd).display;\n",
       "        if (!display || display === 'none') {{\n",
       "            console.log([gd, 'removed!']);\n",
       "            Plotly.purge(gd);\n",
       "            observer.disconnect();\n",
       "        }}\n",
       "}});\n",
       "\n",
       "// Listen for the removal of the full notebook cells\n",
       "var notebookContainer = gd.closest('#notebook-container');\n",
       "if (notebookContainer) {{\n",
       "    x.observe(notebookContainer, {childList: true});\n",
       "}}\n",
       "\n",
       "// Listen for the clearing of the current output cell\n",
       "var outputEl = gd.closest('.output');\n",
       "if (outputEl) {{\n",
       "    x.observe(outputEl, {childList: true});\n",
       "}}\n",
       "\n",
       "                        })                };                });            </script>        </div>"
      ]
     },
     "metadata": {},
     "output_type": "display_data"
    }
   ],
   "source": [
    "subset = df[['Spkr', 'segment', 'Age', 'Gender', 'Education', 'Occupation', 'Edu.Group', 'Age.Group', \n",
    "       'model_response_adjective_arousal_uniform_Qwen2-Audio-7B-Instruct',\n",
    "       'model_prompt_adjective_arousal_uniform_Qwen2-Audio-7B-Instruct']].copy()\n",
    "\n",
    "\n",
    "subset['parsed'] = subset.apply(lambda row: parse_adjectives(row, 'model_response_adjective_arousal_uniform_Qwen2-Audio-7B-Instruct', ADJECTIVES_AROUSAL_UNIFORM['english']), axis=1)\n",
    "\n",
    "\n",
    "df_exploded = subset.explode('parsed')\n",
    "\n",
    "merged_df = pd.merge(df_exploded[['parsed', 'Gender']], df_adjectives[['word', 'arousal']], left_on='parsed', right_on='word')\n",
    "\n",
    "fig = px.histogram(\n",
    "    merged_df,\n",
    "    x='arousal',\n",
    "    color='Gender',\n",
    "    barmode='overlay',    # use 'overlay' to display them on top of each other; use 'group' for side-by-side bars\n",
    "    nbins=50,             # adjust the number of bins as needed\n",
    "    opacity=0.5,          # set opacity to help with overlapping areas\n",
    "    histnorm='percent',\n",
    "    title=\"Histogram of arousal values uniform\"\n",
    ")\n",
    "fig.show()"
   ]
  },
  {
   "cell_type": "markdown",
   "metadata": {},
   "source": [
    "### Meralion"
   ]
  },
  {
   "cell_type": "code",
   "execution_count": 45,
   "metadata": {},
   "outputs": [
    {
     "data": {
      "application/vnd.plotly.v1+json": {
       "config": {
        "plotlyServerURL": "https://plot.ly"
       },
       "data": [
        {
         "alignmentgroup": "True",
         "hovertemplate": "Gender=Female<br>parsed=%{x}<br>Percentage=%{y}<extra></extra>",
         "legendgroup": "Female",
         "marker": {
          "color": "#636efa",
          "pattern": {
           "shape": ""
          }
         },
         "name": "Female",
         "offsetgroup": "Female",
         "orientation": "v",
         "showlegend": true,
         "textposition": "auto",
         "type": "bar",
         "x": [
          "bland",
          "calm",
          "dramatic",
          "dull",
          "ecstatic",
          "excite",
          "exciting",
          "fantastic",
          "intense",
          "monotonous",
          "panicky",
          "perky",
          "relaxed",
          "restful",
          "sensual",
          "sexy",
          "spectacular",
          "thoughtful",
          "uneventful"
         ],
         "xaxis": "x",
         "y": [
          3.9761431411530817,
          19.4831013916501,
          3.180914512922465,
          6.958250497017893,
          5.566600397614314,
          2.1868787276341948,
          9.145129224652088,
          3.5785288270377733,
          3.3797216699801194,
          2.3856858846918487,
          1.1928429423459244,
          4.7713717693836974,
          9.343936381709742,
          1.3916500994035785,
          4.174950298210735,
          1.3916500994035785,
          2.584493041749503,
          6.560636182902585,
          1.3916500994035785
         ],
         "yaxis": "y"
        },
        {
         "alignmentgroup": "True",
         "hovertemplate": "Gender=Male<br>parsed=%{x}<br>Percentage=%{y}<extra></extra>",
         "legendgroup": "Male",
         "marker": {
          "color": "#EF553B",
          "pattern": {
           "shape": ""
          }
         },
         "name": "Male",
         "offsetgroup": "Male",
         "orientation": "v",
         "showlegend": true,
         "textposition": "auto",
         "type": "bar",
         "x": [
          "bland",
          "calm",
          "dramatic",
          "dull",
          "ecstatic",
          "excite",
          "exciting",
          "fantastic",
          "hyperactive",
          "intense",
          "low",
          "monotonous",
          "perky",
          "relaxed",
          "restful",
          "sensual",
          "sexual",
          "specific",
          "spectacular",
          "thoughtful",
          "unharmed"
         ],
         "xaxis": "x",
         "y": [
          3.5048471290082026,
          17.89709172259508,
          2.9082774049217,
          7.606263982102908,
          2.8337061894108873,
          1.7897091722595078,
          9.843400447427292,
          2.684563758389262,
          1.193139448173005,
          10.663683818046234,
          1.1185682326621924,
          2.982848620432513,
          2.162565249813572,
          6.1894108873974645,
          1.0439970171513795,
          2.3117076808351977,
          1.4168530947054436,
          1.0439970171513795,
          2.162565249813572,
          7.979120059656973,
          1.5659955257270695
         ],
         "yaxis": "y"
        }
       ],
       "layout": {
        "barmode": "group",
        "legend": {
         "title": {
          "text": "Gender"
         },
         "tracegroupgap": 0
        },
        "margin": {
         "t": 60
        },
        "template": {
         "data": {
          "bar": [
           {
            "error_x": {
             "color": "#2a3f5f"
            },
            "error_y": {
             "color": "#2a3f5f"
            },
            "marker": {
             "line": {
              "color": "#E5ECF6",
              "width": 0.5
             },
             "pattern": {
              "fillmode": "overlay",
              "size": 10,
              "solidity": 0.2
             }
            },
            "type": "bar"
           }
          ],
          "barpolar": [
           {
            "marker": {
             "line": {
              "color": "#E5ECF6",
              "width": 0.5
             },
             "pattern": {
              "fillmode": "overlay",
              "size": 10,
              "solidity": 0.2
             }
            },
            "type": "barpolar"
           }
          ],
          "carpet": [
           {
            "aaxis": {
             "endlinecolor": "#2a3f5f",
             "gridcolor": "white",
             "linecolor": "white",
             "minorgridcolor": "white",
             "startlinecolor": "#2a3f5f"
            },
            "baxis": {
             "endlinecolor": "#2a3f5f",
             "gridcolor": "white",
             "linecolor": "white",
             "minorgridcolor": "white",
             "startlinecolor": "#2a3f5f"
            },
            "type": "carpet"
           }
          ],
          "choropleth": [
           {
            "colorbar": {
             "outlinewidth": 0,
             "ticks": ""
            },
            "type": "choropleth"
           }
          ],
          "contour": [
           {
            "colorbar": {
             "outlinewidth": 0,
             "ticks": ""
            },
            "colorscale": [
             [
              0,
              "#0d0887"
             ],
             [
              0.1111111111111111,
              "#46039f"
             ],
             [
              0.2222222222222222,
              "#7201a8"
             ],
             [
              0.3333333333333333,
              "#9c179e"
             ],
             [
              0.4444444444444444,
              "#bd3786"
             ],
             [
              0.5555555555555556,
              "#d8576b"
             ],
             [
              0.6666666666666666,
              "#ed7953"
             ],
             [
              0.7777777777777778,
              "#fb9f3a"
             ],
             [
              0.8888888888888888,
              "#fdca26"
             ],
             [
              1,
              "#f0f921"
             ]
            ],
            "type": "contour"
           }
          ],
          "contourcarpet": [
           {
            "colorbar": {
             "outlinewidth": 0,
             "ticks": ""
            },
            "type": "contourcarpet"
           }
          ],
          "heatmap": [
           {
            "colorbar": {
             "outlinewidth": 0,
             "ticks": ""
            },
            "colorscale": [
             [
              0,
              "#0d0887"
             ],
             [
              0.1111111111111111,
              "#46039f"
             ],
             [
              0.2222222222222222,
              "#7201a8"
             ],
             [
              0.3333333333333333,
              "#9c179e"
             ],
             [
              0.4444444444444444,
              "#bd3786"
             ],
             [
              0.5555555555555556,
              "#d8576b"
             ],
             [
              0.6666666666666666,
              "#ed7953"
             ],
             [
              0.7777777777777778,
              "#fb9f3a"
             ],
             [
              0.8888888888888888,
              "#fdca26"
             ],
             [
              1,
              "#f0f921"
             ]
            ],
            "type": "heatmap"
           }
          ],
          "heatmapgl": [
           {
            "colorbar": {
             "outlinewidth": 0,
             "ticks": ""
            },
            "colorscale": [
             [
              0,
              "#0d0887"
             ],
             [
              0.1111111111111111,
              "#46039f"
             ],
             [
              0.2222222222222222,
              "#7201a8"
             ],
             [
              0.3333333333333333,
              "#9c179e"
             ],
             [
              0.4444444444444444,
              "#bd3786"
             ],
             [
              0.5555555555555556,
              "#d8576b"
             ],
             [
              0.6666666666666666,
              "#ed7953"
             ],
             [
              0.7777777777777778,
              "#fb9f3a"
             ],
             [
              0.8888888888888888,
              "#fdca26"
             ],
             [
              1,
              "#f0f921"
             ]
            ],
            "type": "heatmapgl"
           }
          ],
          "histogram": [
           {
            "marker": {
             "pattern": {
              "fillmode": "overlay",
              "size": 10,
              "solidity": 0.2
             }
            },
            "type": "histogram"
           }
          ],
          "histogram2d": [
           {
            "colorbar": {
             "outlinewidth": 0,
             "ticks": ""
            },
            "colorscale": [
             [
              0,
              "#0d0887"
             ],
             [
              0.1111111111111111,
              "#46039f"
             ],
             [
              0.2222222222222222,
              "#7201a8"
             ],
             [
              0.3333333333333333,
              "#9c179e"
             ],
             [
              0.4444444444444444,
              "#bd3786"
             ],
             [
              0.5555555555555556,
              "#d8576b"
             ],
             [
              0.6666666666666666,
              "#ed7953"
             ],
             [
              0.7777777777777778,
              "#fb9f3a"
             ],
             [
              0.8888888888888888,
              "#fdca26"
             ],
             [
              1,
              "#f0f921"
             ]
            ],
            "type": "histogram2d"
           }
          ],
          "histogram2dcontour": [
           {
            "colorbar": {
             "outlinewidth": 0,
             "ticks": ""
            },
            "colorscale": [
             [
              0,
              "#0d0887"
             ],
             [
              0.1111111111111111,
              "#46039f"
             ],
             [
              0.2222222222222222,
              "#7201a8"
             ],
             [
              0.3333333333333333,
              "#9c179e"
             ],
             [
              0.4444444444444444,
              "#bd3786"
             ],
             [
              0.5555555555555556,
              "#d8576b"
             ],
             [
              0.6666666666666666,
              "#ed7953"
             ],
             [
              0.7777777777777778,
              "#fb9f3a"
             ],
             [
              0.8888888888888888,
              "#fdca26"
             ],
             [
              1,
              "#f0f921"
             ]
            ],
            "type": "histogram2dcontour"
           }
          ],
          "mesh3d": [
           {
            "colorbar": {
             "outlinewidth": 0,
             "ticks": ""
            },
            "type": "mesh3d"
           }
          ],
          "parcoords": [
           {
            "line": {
             "colorbar": {
              "outlinewidth": 0,
              "ticks": ""
             }
            },
            "type": "parcoords"
           }
          ],
          "pie": [
           {
            "automargin": true,
            "type": "pie"
           }
          ],
          "scatter": [
           {
            "fillpattern": {
             "fillmode": "overlay",
             "size": 10,
             "solidity": 0.2
            },
            "type": "scatter"
           }
          ],
          "scatter3d": [
           {
            "line": {
             "colorbar": {
              "outlinewidth": 0,
              "ticks": ""
             }
            },
            "marker": {
             "colorbar": {
              "outlinewidth": 0,
              "ticks": ""
             }
            },
            "type": "scatter3d"
           }
          ],
          "scattercarpet": [
           {
            "marker": {
             "colorbar": {
              "outlinewidth": 0,
              "ticks": ""
             }
            },
            "type": "scattercarpet"
           }
          ],
          "scattergeo": [
           {
            "marker": {
             "colorbar": {
              "outlinewidth": 0,
              "ticks": ""
             }
            },
            "type": "scattergeo"
           }
          ],
          "scattergl": [
           {
            "marker": {
             "colorbar": {
              "outlinewidth": 0,
              "ticks": ""
             }
            },
            "type": "scattergl"
           }
          ],
          "scattermapbox": [
           {
            "marker": {
             "colorbar": {
              "outlinewidth": 0,
              "ticks": ""
             }
            },
            "type": "scattermapbox"
           }
          ],
          "scatterpolar": [
           {
            "marker": {
             "colorbar": {
              "outlinewidth": 0,
              "ticks": ""
             }
            },
            "type": "scatterpolar"
           }
          ],
          "scatterpolargl": [
           {
            "marker": {
             "colorbar": {
              "outlinewidth": 0,
              "ticks": ""
             }
            },
            "type": "scatterpolargl"
           }
          ],
          "scatterternary": [
           {
            "marker": {
             "colorbar": {
              "outlinewidth": 0,
              "ticks": ""
             }
            },
            "type": "scatterternary"
           }
          ],
          "surface": [
           {
            "colorbar": {
             "outlinewidth": 0,
             "ticks": ""
            },
            "colorscale": [
             [
              0,
              "#0d0887"
             ],
             [
              0.1111111111111111,
              "#46039f"
             ],
             [
              0.2222222222222222,
              "#7201a8"
             ],
             [
              0.3333333333333333,
              "#9c179e"
             ],
             [
              0.4444444444444444,
              "#bd3786"
             ],
             [
              0.5555555555555556,
              "#d8576b"
             ],
             [
              0.6666666666666666,
              "#ed7953"
             ],
             [
              0.7777777777777778,
              "#fb9f3a"
             ],
             [
              0.8888888888888888,
              "#fdca26"
             ],
             [
              1,
              "#f0f921"
             ]
            ],
            "type": "surface"
           }
          ],
          "table": [
           {
            "cells": {
             "fill": {
              "color": "#EBF0F8"
             },
             "line": {
              "color": "white"
             }
            },
            "header": {
             "fill": {
              "color": "#C8D4E3"
             },
             "line": {
              "color": "white"
             }
            },
            "type": "table"
           }
          ]
         },
         "layout": {
          "annotationdefaults": {
           "arrowcolor": "#2a3f5f",
           "arrowhead": 0,
           "arrowwidth": 1
          },
          "autotypenumbers": "strict",
          "coloraxis": {
           "colorbar": {
            "outlinewidth": 0,
            "ticks": ""
           }
          },
          "colorscale": {
           "diverging": [
            [
             0,
             "#8e0152"
            ],
            [
             0.1,
             "#c51b7d"
            ],
            [
             0.2,
             "#de77ae"
            ],
            [
             0.3,
             "#f1b6da"
            ],
            [
             0.4,
             "#fde0ef"
            ],
            [
             0.5,
             "#f7f7f7"
            ],
            [
             0.6,
             "#e6f5d0"
            ],
            [
             0.7,
             "#b8e186"
            ],
            [
             0.8,
             "#7fbc41"
            ],
            [
             0.9,
             "#4d9221"
            ],
            [
             1,
             "#276419"
            ]
           ],
           "sequential": [
            [
             0,
             "#0d0887"
            ],
            [
             0.1111111111111111,
             "#46039f"
            ],
            [
             0.2222222222222222,
             "#7201a8"
            ],
            [
             0.3333333333333333,
             "#9c179e"
            ],
            [
             0.4444444444444444,
             "#bd3786"
            ],
            [
             0.5555555555555556,
             "#d8576b"
            ],
            [
             0.6666666666666666,
             "#ed7953"
            ],
            [
             0.7777777777777778,
             "#fb9f3a"
            ],
            [
             0.8888888888888888,
             "#fdca26"
            ],
            [
             1,
             "#f0f921"
            ]
           ],
           "sequentialminus": [
            [
             0,
             "#0d0887"
            ],
            [
             0.1111111111111111,
             "#46039f"
            ],
            [
             0.2222222222222222,
             "#7201a8"
            ],
            [
             0.3333333333333333,
             "#9c179e"
            ],
            [
             0.4444444444444444,
             "#bd3786"
            ],
            [
             0.5555555555555556,
             "#d8576b"
            ],
            [
             0.6666666666666666,
             "#ed7953"
            ],
            [
             0.7777777777777778,
             "#fb9f3a"
            ],
            [
             0.8888888888888888,
             "#fdca26"
            ],
            [
             1,
             "#f0f921"
            ]
           ]
          },
          "colorway": [
           "#636efa",
           "#EF553B",
           "#00cc96",
           "#ab63fa",
           "#FFA15A",
           "#19d3f3",
           "#FF6692",
           "#B6E880",
           "#FF97FF",
           "#FECB52"
          ],
          "font": {
           "color": "#2a3f5f"
          },
          "geo": {
           "bgcolor": "white",
           "lakecolor": "white",
           "landcolor": "#E5ECF6",
           "showlakes": true,
           "showland": true,
           "subunitcolor": "white"
          },
          "hoverlabel": {
           "align": "left"
          },
          "hovermode": "closest",
          "mapbox": {
           "style": "light"
          },
          "paper_bgcolor": "white",
          "plot_bgcolor": "#E5ECF6",
          "polar": {
           "angularaxis": {
            "gridcolor": "white",
            "linecolor": "white",
            "ticks": ""
           },
           "bgcolor": "#E5ECF6",
           "radialaxis": {
            "gridcolor": "white",
            "linecolor": "white",
            "ticks": ""
           }
          },
          "scene": {
           "xaxis": {
            "backgroundcolor": "#E5ECF6",
            "gridcolor": "white",
            "gridwidth": 2,
            "linecolor": "white",
            "showbackground": true,
            "ticks": "",
            "zerolinecolor": "white"
           },
           "yaxis": {
            "backgroundcolor": "#E5ECF6",
            "gridcolor": "white",
            "gridwidth": 2,
            "linecolor": "white",
            "showbackground": true,
            "ticks": "",
            "zerolinecolor": "white"
           },
           "zaxis": {
            "backgroundcolor": "#E5ECF6",
            "gridcolor": "white",
            "gridwidth": 2,
            "linecolor": "white",
            "showbackground": true,
            "ticks": "",
            "zerolinecolor": "white"
           }
          },
          "shapedefaults": {
           "line": {
            "color": "#2a3f5f"
           }
          },
          "ternary": {
           "aaxis": {
            "gridcolor": "white",
            "linecolor": "white",
            "ticks": ""
           },
           "baxis": {
            "gridcolor": "white",
            "linecolor": "white",
            "ticks": ""
           },
           "bgcolor": "#E5ECF6",
           "caxis": {
            "gridcolor": "white",
            "linecolor": "white",
            "ticks": ""
           }
          },
          "title": {
           "x": 0.05
          },
          "xaxis": {
           "automargin": true,
           "gridcolor": "white",
           "linecolor": "white",
           "ticks": "",
           "title": {
            "standoff": 15
           },
           "zerolinecolor": "white",
           "zerolinewidth": 2
          },
          "yaxis": {
           "automargin": true,
           "gridcolor": "white",
           "linecolor": "white",
           "ticks": "",
           "title": {
            "standoff": 15
           },
           "zerolinecolor": "white",
           "zerolinewidth": 2
          }
         }
        },
        "xaxis": {
         "anchor": "y",
         "domain": [
          0,
          1
         ],
         "title": {
          "text": "parsed"
         }
        },
        "yaxis": {
         "anchor": "x",
         "domain": [
          0,
          1
         ],
         "title": {
          "text": "Percentage"
         }
        }
       }
      },
      "text/html": [
       "<div>                            <div id=\"d40e9ce6-408a-4c0a-a71a-63c888e9cfec\" class=\"plotly-graph-div\" style=\"height:525px; width:100%;\"></div>            <script type=\"text/javascript\">                require([\"plotly\"], function(Plotly) {                    window.PLOTLYENV=window.PLOTLYENV || {};                                    if (document.getElementById(\"d40e9ce6-408a-4c0a-a71a-63c888e9cfec\")) {                    Plotly.newPlot(                        \"d40e9ce6-408a-4c0a-a71a-63c888e9cfec\",                        [{\"alignmentgroup\":\"True\",\"hovertemplate\":\"Gender=Female\\u003cbr\\u003eparsed=%{x}\\u003cbr\\u003ePercentage=%{y}\\u003cextra\\u003e\\u003c\\u002fextra\\u003e\",\"legendgroup\":\"Female\",\"marker\":{\"color\":\"#636efa\",\"pattern\":{\"shape\":\"\"}},\"name\":\"Female\",\"offsetgroup\":\"Female\",\"orientation\":\"v\",\"showlegend\":true,\"textposition\":\"auto\",\"x\":[\"bland\",\"calm\",\"dramatic\",\"dull\",\"ecstatic\",\"excite\",\"exciting\",\"fantastic\",\"intense\",\"monotonous\",\"panicky\",\"perky\",\"relaxed\",\"restful\",\"sensual\",\"sexy\",\"spectacular\",\"thoughtful\",\"uneventful\"],\"xaxis\":\"x\",\"y\":[3.9761431411530817,19.4831013916501,3.180914512922465,6.958250497017893,5.566600397614314,2.1868787276341948,9.145129224652088,3.5785288270377733,3.3797216699801194,2.3856858846918487,1.1928429423459244,4.7713717693836974,9.343936381709742,1.3916500994035785,4.174950298210735,1.3916500994035785,2.584493041749503,6.560636182902585,1.3916500994035785],\"yaxis\":\"y\",\"type\":\"bar\"},{\"alignmentgroup\":\"True\",\"hovertemplate\":\"Gender=Male\\u003cbr\\u003eparsed=%{x}\\u003cbr\\u003ePercentage=%{y}\\u003cextra\\u003e\\u003c\\u002fextra\\u003e\",\"legendgroup\":\"Male\",\"marker\":{\"color\":\"#EF553B\",\"pattern\":{\"shape\":\"\"}},\"name\":\"Male\",\"offsetgroup\":\"Male\",\"orientation\":\"v\",\"showlegend\":true,\"textposition\":\"auto\",\"x\":[\"bland\",\"calm\",\"dramatic\",\"dull\",\"ecstatic\",\"excite\",\"exciting\",\"fantastic\",\"hyperactive\",\"intense\",\"low\",\"monotonous\",\"perky\",\"relaxed\",\"restful\",\"sensual\",\"sexual\",\"specific\",\"spectacular\",\"thoughtful\",\"unharmed\"],\"xaxis\":\"x\",\"y\":[3.5048471290082026,17.89709172259508,2.9082774049217,7.606263982102908,2.8337061894108873,1.7897091722595078,9.843400447427292,2.684563758389262,1.193139448173005,10.663683818046234,1.1185682326621924,2.982848620432513,2.162565249813572,6.1894108873974645,1.0439970171513795,2.3117076808351977,1.4168530947054436,1.0439970171513795,2.162565249813572,7.979120059656973,1.5659955257270695],\"yaxis\":\"y\",\"type\":\"bar\"}],                        {\"template\":{\"data\":{\"histogram2dcontour\":[{\"type\":\"histogram2dcontour\",\"colorbar\":{\"outlinewidth\":0,\"ticks\":\"\"},\"colorscale\":[[0.0,\"#0d0887\"],[0.1111111111111111,\"#46039f\"],[0.2222222222222222,\"#7201a8\"],[0.3333333333333333,\"#9c179e\"],[0.4444444444444444,\"#bd3786\"],[0.5555555555555556,\"#d8576b\"],[0.6666666666666666,\"#ed7953\"],[0.7777777777777778,\"#fb9f3a\"],[0.8888888888888888,\"#fdca26\"],[1.0,\"#f0f921\"]]}],\"choropleth\":[{\"type\":\"choropleth\",\"colorbar\":{\"outlinewidth\":0,\"ticks\":\"\"}}],\"histogram2d\":[{\"type\":\"histogram2d\",\"colorbar\":{\"outlinewidth\":0,\"ticks\":\"\"},\"colorscale\":[[0.0,\"#0d0887\"],[0.1111111111111111,\"#46039f\"],[0.2222222222222222,\"#7201a8\"],[0.3333333333333333,\"#9c179e\"],[0.4444444444444444,\"#bd3786\"],[0.5555555555555556,\"#d8576b\"],[0.6666666666666666,\"#ed7953\"],[0.7777777777777778,\"#fb9f3a\"],[0.8888888888888888,\"#fdca26\"],[1.0,\"#f0f921\"]]}],\"heatmap\":[{\"type\":\"heatmap\",\"colorbar\":{\"outlinewidth\":0,\"ticks\":\"\"},\"colorscale\":[[0.0,\"#0d0887\"],[0.1111111111111111,\"#46039f\"],[0.2222222222222222,\"#7201a8\"],[0.3333333333333333,\"#9c179e\"],[0.4444444444444444,\"#bd3786\"],[0.5555555555555556,\"#d8576b\"],[0.6666666666666666,\"#ed7953\"],[0.7777777777777778,\"#fb9f3a\"],[0.8888888888888888,\"#fdca26\"],[1.0,\"#f0f921\"]]}],\"heatmapgl\":[{\"type\":\"heatmapgl\",\"colorbar\":{\"outlinewidth\":0,\"ticks\":\"\"},\"colorscale\":[[0.0,\"#0d0887\"],[0.1111111111111111,\"#46039f\"],[0.2222222222222222,\"#7201a8\"],[0.3333333333333333,\"#9c179e\"],[0.4444444444444444,\"#bd3786\"],[0.5555555555555556,\"#d8576b\"],[0.6666666666666666,\"#ed7953\"],[0.7777777777777778,\"#fb9f3a\"],[0.8888888888888888,\"#fdca26\"],[1.0,\"#f0f921\"]]}],\"contourcarpet\":[{\"type\":\"contourcarpet\",\"colorbar\":{\"outlinewidth\":0,\"ticks\":\"\"}}],\"contour\":[{\"type\":\"contour\",\"colorbar\":{\"outlinewidth\":0,\"ticks\":\"\"},\"colorscale\":[[0.0,\"#0d0887\"],[0.1111111111111111,\"#46039f\"],[0.2222222222222222,\"#7201a8\"],[0.3333333333333333,\"#9c179e\"],[0.4444444444444444,\"#bd3786\"],[0.5555555555555556,\"#d8576b\"],[0.6666666666666666,\"#ed7953\"],[0.7777777777777778,\"#fb9f3a\"],[0.8888888888888888,\"#fdca26\"],[1.0,\"#f0f921\"]]}],\"surface\":[{\"type\":\"surface\",\"colorbar\":{\"outlinewidth\":0,\"ticks\":\"\"},\"colorscale\":[[0.0,\"#0d0887\"],[0.1111111111111111,\"#46039f\"],[0.2222222222222222,\"#7201a8\"],[0.3333333333333333,\"#9c179e\"],[0.4444444444444444,\"#bd3786\"],[0.5555555555555556,\"#d8576b\"],[0.6666666666666666,\"#ed7953\"],[0.7777777777777778,\"#fb9f3a\"],[0.8888888888888888,\"#fdca26\"],[1.0,\"#f0f921\"]]}],\"mesh3d\":[{\"type\":\"mesh3d\",\"colorbar\":{\"outlinewidth\":0,\"ticks\":\"\"}}],\"scatter\":[{\"fillpattern\":{\"fillmode\":\"overlay\",\"size\":10,\"solidity\":0.2},\"type\":\"scatter\"}],\"parcoords\":[{\"type\":\"parcoords\",\"line\":{\"colorbar\":{\"outlinewidth\":0,\"ticks\":\"\"}}}],\"scatterpolargl\":[{\"type\":\"scatterpolargl\",\"marker\":{\"colorbar\":{\"outlinewidth\":0,\"ticks\":\"\"}}}],\"bar\":[{\"error_x\":{\"color\":\"#2a3f5f\"},\"error_y\":{\"color\":\"#2a3f5f\"},\"marker\":{\"line\":{\"color\":\"#E5ECF6\",\"width\":0.5},\"pattern\":{\"fillmode\":\"overlay\",\"size\":10,\"solidity\":0.2}},\"type\":\"bar\"}],\"scattergeo\":[{\"type\":\"scattergeo\",\"marker\":{\"colorbar\":{\"outlinewidth\":0,\"ticks\":\"\"}}}],\"scatterpolar\":[{\"type\":\"scatterpolar\",\"marker\":{\"colorbar\":{\"outlinewidth\":0,\"ticks\":\"\"}}}],\"histogram\":[{\"marker\":{\"pattern\":{\"fillmode\":\"overlay\",\"size\":10,\"solidity\":0.2}},\"type\":\"histogram\"}],\"scattergl\":[{\"type\":\"scattergl\",\"marker\":{\"colorbar\":{\"outlinewidth\":0,\"ticks\":\"\"}}}],\"scatter3d\":[{\"type\":\"scatter3d\",\"line\":{\"colorbar\":{\"outlinewidth\":0,\"ticks\":\"\"}},\"marker\":{\"colorbar\":{\"outlinewidth\":0,\"ticks\":\"\"}}}],\"scattermapbox\":[{\"type\":\"scattermapbox\",\"marker\":{\"colorbar\":{\"outlinewidth\":0,\"ticks\":\"\"}}}],\"scatterternary\":[{\"type\":\"scatterternary\",\"marker\":{\"colorbar\":{\"outlinewidth\":0,\"ticks\":\"\"}}}],\"scattercarpet\":[{\"type\":\"scattercarpet\",\"marker\":{\"colorbar\":{\"outlinewidth\":0,\"ticks\":\"\"}}}],\"carpet\":[{\"aaxis\":{\"endlinecolor\":\"#2a3f5f\",\"gridcolor\":\"white\",\"linecolor\":\"white\",\"minorgridcolor\":\"white\",\"startlinecolor\":\"#2a3f5f\"},\"baxis\":{\"endlinecolor\":\"#2a3f5f\",\"gridcolor\":\"white\",\"linecolor\":\"white\",\"minorgridcolor\":\"white\",\"startlinecolor\":\"#2a3f5f\"},\"type\":\"carpet\"}],\"table\":[{\"cells\":{\"fill\":{\"color\":\"#EBF0F8\"},\"line\":{\"color\":\"white\"}},\"header\":{\"fill\":{\"color\":\"#C8D4E3\"},\"line\":{\"color\":\"white\"}},\"type\":\"table\"}],\"barpolar\":[{\"marker\":{\"line\":{\"color\":\"#E5ECF6\",\"width\":0.5},\"pattern\":{\"fillmode\":\"overlay\",\"size\":10,\"solidity\":0.2}},\"type\":\"barpolar\"}],\"pie\":[{\"automargin\":true,\"type\":\"pie\"}]},\"layout\":{\"autotypenumbers\":\"strict\",\"colorway\":[\"#636efa\",\"#EF553B\",\"#00cc96\",\"#ab63fa\",\"#FFA15A\",\"#19d3f3\",\"#FF6692\",\"#B6E880\",\"#FF97FF\",\"#FECB52\"],\"font\":{\"color\":\"#2a3f5f\"},\"hovermode\":\"closest\",\"hoverlabel\":{\"align\":\"left\"},\"paper_bgcolor\":\"white\",\"plot_bgcolor\":\"#E5ECF6\",\"polar\":{\"bgcolor\":\"#E5ECF6\",\"angularaxis\":{\"gridcolor\":\"white\",\"linecolor\":\"white\",\"ticks\":\"\"},\"radialaxis\":{\"gridcolor\":\"white\",\"linecolor\":\"white\",\"ticks\":\"\"}},\"ternary\":{\"bgcolor\":\"#E5ECF6\",\"aaxis\":{\"gridcolor\":\"white\",\"linecolor\":\"white\",\"ticks\":\"\"},\"baxis\":{\"gridcolor\":\"white\",\"linecolor\":\"white\",\"ticks\":\"\"},\"caxis\":{\"gridcolor\":\"white\",\"linecolor\":\"white\",\"ticks\":\"\"}},\"coloraxis\":{\"colorbar\":{\"outlinewidth\":0,\"ticks\":\"\"}},\"colorscale\":{\"sequential\":[[0.0,\"#0d0887\"],[0.1111111111111111,\"#46039f\"],[0.2222222222222222,\"#7201a8\"],[0.3333333333333333,\"#9c179e\"],[0.4444444444444444,\"#bd3786\"],[0.5555555555555556,\"#d8576b\"],[0.6666666666666666,\"#ed7953\"],[0.7777777777777778,\"#fb9f3a\"],[0.8888888888888888,\"#fdca26\"],[1.0,\"#f0f921\"]],\"sequentialminus\":[[0.0,\"#0d0887\"],[0.1111111111111111,\"#46039f\"],[0.2222222222222222,\"#7201a8\"],[0.3333333333333333,\"#9c179e\"],[0.4444444444444444,\"#bd3786\"],[0.5555555555555556,\"#d8576b\"],[0.6666666666666666,\"#ed7953\"],[0.7777777777777778,\"#fb9f3a\"],[0.8888888888888888,\"#fdca26\"],[1.0,\"#f0f921\"]],\"diverging\":[[0,\"#8e0152\"],[0.1,\"#c51b7d\"],[0.2,\"#de77ae\"],[0.3,\"#f1b6da\"],[0.4,\"#fde0ef\"],[0.5,\"#f7f7f7\"],[0.6,\"#e6f5d0\"],[0.7,\"#b8e186\"],[0.8,\"#7fbc41\"],[0.9,\"#4d9221\"],[1,\"#276419\"]]},\"xaxis\":{\"gridcolor\":\"white\",\"linecolor\":\"white\",\"ticks\":\"\",\"title\":{\"standoff\":15},\"zerolinecolor\":\"white\",\"automargin\":true,\"zerolinewidth\":2},\"yaxis\":{\"gridcolor\":\"white\",\"linecolor\":\"white\",\"ticks\":\"\",\"title\":{\"standoff\":15},\"zerolinecolor\":\"white\",\"automargin\":true,\"zerolinewidth\":2},\"scene\":{\"xaxis\":{\"backgroundcolor\":\"#E5ECF6\",\"gridcolor\":\"white\",\"linecolor\":\"white\",\"showbackground\":true,\"ticks\":\"\",\"zerolinecolor\":\"white\",\"gridwidth\":2},\"yaxis\":{\"backgroundcolor\":\"#E5ECF6\",\"gridcolor\":\"white\",\"linecolor\":\"white\",\"showbackground\":true,\"ticks\":\"\",\"zerolinecolor\":\"white\",\"gridwidth\":2},\"zaxis\":{\"backgroundcolor\":\"#E5ECF6\",\"gridcolor\":\"white\",\"linecolor\":\"white\",\"showbackground\":true,\"ticks\":\"\",\"zerolinecolor\":\"white\",\"gridwidth\":2}},\"shapedefaults\":{\"line\":{\"color\":\"#2a3f5f\"}},\"annotationdefaults\":{\"arrowcolor\":\"#2a3f5f\",\"arrowhead\":0,\"arrowwidth\":1},\"geo\":{\"bgcolor\":\"white\",\"landcolor\":\"#E5ECF6\",\"subunitcolor\":\"white\",\"showland\":true,\"showlakes\":true,\"lakecolor\":\"white\"},\"title\":{\"x\":0.05},\"mapbox\":{\"style\":\"light\"}}},\"xaxis\":{\"anchor\":\"y\",\"domain\":[0.0,1.0],\"title\":{\"text\":\"parsed\"}},\"yaxis\":{\"anchor\":\"x\",\"domain\":[0.0,1.0],\"title\":{\"text\":\"Percentage\"}},\"legend\":{\"title\":{\"text\":\"Gender\"},\"tracegroupgap\":0},\"margin\":{\"t\":60},\"barmode\":\"group\"},                        {\"responsive\": true}                    ).then(function(){\n",
       "                            \n",
       "var gd = document.getElementById('d40e9ce6-408a-4c0a-a71a-63c888e9cfec');\n",
       "var x = new MutationObserver(function (mutations, observer) {{\n",
       "        var display = window.getComputedStyle(gd).display;\n",
       "        if (!display || display === 'none') {{\n",
       "            console.log([gd, 'removed!']);\n",
       "            Plotly.purge(gd);\n",
       "            observer.disconnect();\n",
       "        }}\n",
       "}});\n",
       "\n",
       "// Listen for the removal of the full notebook cells\n",
       "var notebookContainer = gd.closest('#notebook-container');\n",
       "if (notebookContainer) {{\n",
       "    x.observe(notebookContainer, {childList: true});\n",
       "}}\n",
       "\n",
       "// Listen for the clearing of the current output cell\n",
       "var outputEl = gd.closest('.output');\n",
       "if (outputEl) {{\n",
       "    x.observe(outputEl, {childList: true});\n",
       "}}\n",
       "\n",
       "                        })                };                });            </script>        </div>"
      ]
     },
     "metadata": {},
     "output_type": "display_data"
    }
   ],
   "source": [
    "subset = df[['Spkr', 'segment', 'Age', 'Gender', 'Education', 'Occupation', 'Edu.Group', 'Age.Group', \n",
    "       'model_response_adjective_arousal_MERaLiON-AudioLLM-Whisper-SEA-LION',\n",
    "       'model_prompt_adjective_arousal_MERaLiON-AudioLLM-Whisper-SEA-LION']].copy()\n",
    "\n",
    "\n",
    "subset['parsed'] = subset.apply(lambda row: parse_adjectives(row, 'model_response_adjective_arousal_MERaLiON-AudioLLM-Whisper-SEA-LION', ADJECTIVES_AROUSAL['english']), axis=1)\n",
    "\n",
    "df_exploded = subset.explode('parsed')\n",
    "result = df_exploded.groupby(['Gender', 'parsed']).size().reset_index(name='count')\n",
    "\n",
    "\n",
    "result['Total'] = result.groupby('Gender')['count'].transform('sum')\n",
    "result['Percentage'] = result['count'] / result['Total'] * 100\n",
    "\n",
    "result = result[result['Percentage']>1]\n",
    "\n",
    "\n",
    "# Create a grouped bar plot\n",
    "fig = px.bar(\n",
    "    result,\n",
    "    x='parsed',\n",
    "    y='Percentage',\n",
    "    color='Gender',    # Different colors for each group\n",
    "    barmode='group',  # Place bars side-by-side rather than stacking them\n",
    ")\n",
    "fig.show()"
   ]
  },
  {
   "cell_type": "code",
   "execution_count": 46,
   "metadata": {},
   "outputs": [
    {
     "data": {
      "application/vnd.plotly.v1+json": {
       "config": {
        "plotlyServerURL": "https://plot.ly"
       },
       "data": [
        {
         "alignmentgroup": "True",
         "bingroup": "x",
         "histnorm": "percent",
         "hovertemplate": "Gender=Female<br>arousal=%{x}<br>percent=%{y}<extra></extra>",
         "legendgroup": "Female",
         "marker": {
          "color": "#636efa",
          "opacity": 0.7,
          "pattern": {
           "shape": ""
          }
         },
         "name": "Female",
         "nbinsx": 30,
         "offsetgroup": "Female",
         "orientation": "v",
         "showlegend": true,
         "type": "histogram",
         "x": [
          2.55,
          4.91,
          1.67,
          5.05,
          1.67,
          2.55,
          1.67,
          1.67,
          2.55,
          3.86,
          2.55,
          4.19,
          4.25,
          2.55,
          2.55,
          2.55,
          2.55,
          3.2,
          2.55,
          4.78,
          3.86,
          4.27,
          4.91,
          1.67,
          2.55,
          2.55,
          2.55,
          2.55,
          1.67,
          1.67,
          2.55,
          2.55,
          2.55,
          5.05,
          1.67,
          2.55,
          4.27,
          3.86,
          1.67,
          5.16,
          3.2,
          2.55,
          2.55,
          3.86,
          2.55,
          4.25,
          2.55,
          2.55,
          1.67,
          4.19,
          1.67,
          2.55,
          3.86,
          3.86,
          3.86,
          2.55,
          4.71,
          2.55,
          5.7,
          4.25,
          4.57,
          1.67,
          4.19,
          2.55,
          3.2,
          3.86,
          2.55,
          1.67,
          2.55,
          3.86,
          4.3,
          4.6,
          4.78,
          3.86,
          1.67,
          4.19,
          4.78,
          4.25,
          5.05,
          2.55,
          2.55,
          4.19,
          4.27,
          1.67,
          1.67,
          3.48,
          1.67,
          4.3,
          2.55,
          5.05,
          3.86,
          4.19,
          1.67,
          5.7,
          2.55,
          2.55,
          3.32,
          3.86,
          2.55,
          4.78,
          4.91,
          1.67,
          4.91,
          3.86,
          3.48,
          2.55,
          1.67,
          2.55,
          4.41,
          4.25,
          2.55,
          3.2,
          3.86,
          5.9,
          1.67,
          1.67,
          4.91,
          4.91,
          3.86,
          3.86,
          3.86,
          4.91,
          4.05,
          4.91,
          2.55,
          4.19,
          2.55,
          2.55,
          2.55,
          2.55,
          4.95,
          4.78,
          6.3,
          1.67,
          3.86,
          4.78,
          3.86,
          5.32,
          3.48,
          5,
          4.91,
          2.55,
          4.19,
          2.55,
          1.67,
          5.7,
          2.55,
          2.55,
          2.55,
          4.19,
          2.55,
          2.55,
          1.67,
          4.78,
          1.67,
          5.05,
          4.19,
          2.55,
          2.55,
          4.19,
          1.67,
          1.67,
          2.55,
          1.67,
          4.3,
          4.91,
          1.67,
          2.55,
          2.55,
          2.55,
          3.5,
          2.55,
          2.55,
          3.86,
          2.55,
          4.25,
          5.05,
          2.55,
          1.67,
          4.19,
          4.3,
          4.91,
          1.67,
          3.86,
          2.55,
          2.55,
          3.32,
          5.9,
          4.6,
          1.67,
          3.86,
          1.67,
          1.67,
          2.55,
          2.55,
          4.19,
          5.05,
          3.48,
          3.48,
          5.7,
          1.67,
          1.67,
          6,
          3.86,
          3.48,
          1.67,
          4.91,
          1.67,
          2.55,
          3.2,
          4.78,
          1.67,
          3.48,
          4.57,
          4.91,
          2.55,
          2.55,
          3.76,
          3.32,
          2.55,
          4.74,
          3.32,
          4.78,
          3.86,
          4.25,
          4.27,
          4.27,
          2.55,
          4.19,
          4.25,
          2.55,
          4.78,
          4.14,
          5.9,
          5.7,
          3.86,
          4.25,
          1.67,
          3.48,
          3.86,
          1.67,
          4.91,
          2.55,
          4.25,
          3.48,
          5.7,
          4.74,
          5.7,
          3.86,
          2.55,
          4.78,
          1.67,
          4.3,
          6,
          4.3,
          4.3,
          1.67,
          3.2,
          4.19,
          3.86,
          1.67,
          2.55,
          1.67,
          5.05,
          4.25,
          2.55,
          4.78,
          1.67,
          2.55,
          6,
          2.55,
          4.74,
          4.19,
          4.19,
          4.3,
          2.55,
          3.86,
          1.67,
          2.55,
          1.67,
          4.27,
          4.19,
          5.05,
          5.05,
          2.55,
          2.55,
          1.67,
          3.18,
          1.67,
          4.12,
          2.55,
          4.25,
          4.91,
          1.67,
          2.55,
          1.67,
          3.86,
          2.55,
          3.57,
          4.3,
          2.55,
          2.55,
          2.55,
          1.67,
          2.55,
          3.48,
          2.55,
          2.55,
          2.55,
          1.67,
          4.19,
          4.3,
          3.86,
          5.7,
          6,
          5.76,
          2.55,
          2.55,
          4.19,
          1.67,
          3.2,
          3.5,
          2.55,
          4.78,
          5.05,
          1.67,
          5.05,
          1.67,
          2.55,
          2.55,
          1.67,
          4.19,
          4.19,
          2.55,
          3.86,
          1.67,
          2.55,
          4.19,
          1.67,
          2.55,
          1.67,
          2.55,
          2.55,
          2.55,
          4.3,
          5.9,
          4.25,
          1.67,
          4.19,
          4.95,
          4.25,
          1.67,
          2.55,
          3.86,
          4.25,
          4.19,
          3,
          5.9,
          3.5,
          4.19,
          5.05,
          3.5,
          2.55,
          4.25,
          3.86,
          4.19,
          4.78,
          2.55,
          5.16,
          3.2,
          2.55,
          1.67,
          2.55,
          2.55,
          2.55,
          4.25,
          4.78,
          4.19,
          4.19,
          4.19,
          1.67,
          4.27,
          4.3,
          3.86,
          4.78,
          5,
          3.32,
          2.55,
          3.86,
          4.19,
          1.67,
          4.91,
          2.55,
          2.55,
          4.91,
          3.86,
          5.7,
          2.55,
          2.55,
          5.27,
          5.05,
          4.74,
          1.67,
          3.86,
          6,
          1.67,
          2.55,
          2.55,
          4.78,
          2.55,
          2.55,
          3.86,
          2.55,
          4.91,
          5.9,
          4.3,
          4.17,
          4.78,
          4.91,
          4.19,
          4.25,
          1.67,
          4.19,
          2.55,
          2.55,
          3.2,
          2.55,
          2.55,
          4.78,
          1.67,
          1.67,
          2.55,
          3.86,
          1.67,
          3.86,
          3.86,
          2.55,
          2.55,
          4.25,
          1.67,
          2.55,
          1.67,
          4.19,
          4.41,
          5.9,
          2.55,
          2.55,
          5.32,
          4.78,
          1.67,
          2.55,
          4.46,
          4.19,
          1.67,
          1.67,
          2.55,
          4.91,
          2.55,
          3.2,
          1.67,
          2.55,
          2.55,
          3.86,
          4.27,
          2.55,
          2.55,
          4.78,
          2.55,
          5.05,
          2.55,
          4.19,
          2.55,
          2.55,
          4.78,
          4.91,
          2.55,
          5.7,
          2.55,
          2.55,
          2.55,
          2.55,
          2.55,
          3.86,
          6,
          4.25,
          5.14,
          2.55,
          4.91,
          6,
          1.67,
          2.55,
          2.55,
          1.67,
          3.32,
          4.91,
          3.48,
          3.2,
          2.55,
          1.67,
          1.67,
          5.7,
          4.19,
          1.67,
          2.55,
          2.55,
          2.55,
          6,
          4.3,
          6,
          3.5,
          4.91,
          4.74,
          4.19,
          1.67,
          4.78,
          4.17,
          3.2
         ],
         "xaxis": "x",
         "yaxis": "y"
        },
        {
         "alignmentgroup": "True",
         "bingroup": "x",
         "histnorm": "percent",
         "hovertemplate": "Gender=Male<br>arousal=%{x}<br>percent=%{y}<extra></extra>",
         "legendgroup": "Male",
         "marker": {
          "color": "#EF553B",
          "opacity": 0.7,
          "pattern": {
           "shape": ""
          }
         },
         "name": "Male",
         "nbinsx": 30,
         "offsetgroup": "Male",
         "orientation": "v",
         "showlegend": true,
         "type": "histogram",
         "x": [
          5.7,
          2.55,
          2.55,
          5.7,
          1.67,
          4.25,
          4.3,
          3.86,
          2.55,
          4.78,
          2.55,
          5,
          4.19,
          2.55,
          4.91,
          2.55,
          3.32,
          2.55,
          4.3,
          4.91,
          3.57,
          5.38,
          2.55,
          5.7,
          5.76,
          4.25,
          2.55,
          4.25,
          4.19,
          3.32,
          2.55,
          5.05,
          2.55,
          2.55,
          3.32,
          3.32,
          4.91,
          2.55,
          3.86,
          1.67,
          4.74,
          4.25,
          4.19,
          4.91,
          2.55,
          2.55,
          6,
          1.67,
          4.78,
          5.7,
          1.67,
          2.55,
          2.55,
          2.55,
          4.25,
          5.38,
          1.67,
          4.25,
          2.55,
          1.67,
          4.78,
          3.57,
          1.67,
          1.67,
          2.55,
          2.55,
          2.55,
          2.55,
          1.67,
          1.67,
          5.7,
          2.55,
          3.86,
          4.91,
          2.55,
          4.91,
          3.86,
          2.55,
          2.55,
          5.9,
          4.12,
          5.9,
          2.55,
          4.91,
          4.25,
          1.67,
          3.2,
          4.78,
          2.55,
          2.55,
          2.55,
          4.62,
          4.3,
          3.86,
          6,
          1.67,
          1.67,
          1.67,
          4.19,
          2.55,
          6,
          2.55,
          2.55,
          4.78,
          2.55,
          2.55,
          4.78,
          1.67,
          5.22,
          1.67,
          4.12,
          4.12,
          5.05,
          2.55,
          4.78,
          4.19,
          3.76,
          4.19,
          6,
          1.67,
          4.19,
          2.55,
          2.55,
          1.67,
          6,
          4.3,
          2.55,
          3.32,
          2.55,
          3.48,
          4.19,
          4.25,
          1.67,
          4.91,
          2.55,
          1.67,
          4.3,
          4.91,
          1.67,
          2.55,
          2.55,
          5.05,
          4.74,
          4.27,
          4.17,
          3.86,
          3.86,
          3.86,
          3.86,
          4.91,
          6,
          3.76,
          5.05,
          6.1,
          3.86,
          5.9,
          4.25,
          6,
          4.78,
          2.55,
          6.3,
          4.25,
          1.67,
          5.38,
          4.27,
          4.17,
          4.78,
          4.78,
          3.32,
          4.78,
          2.55,
          4.74,
          6,
          4.25,
          2.55,
          5.7,
          4.71,
          4.17,
          3.86,
          4.27,
          4.25,
          2.55,
          5.05,
          3,
          4.78,
          4.25,
          4.62,
          4.78,
          4.3,
          2.55,
          4.78,
          6,
          5.05,
          6.1,
          6,
          1.67,
          4.91,
          4.41,
          6.3,
          5.7,
          4.78,
          1.67,
          3,
          4.19,
          4.25,
          6,
          5.38,
          2.55,
          4.74,
          4.25,
          4.25,
          4.74,
          4.78,
          5.05,
          1.67,
          2.55,
          3.86,
          2.55,
          4.78,
          1.67,
          3.86,
          3.86,
          4.3,
          4.25,
          1.67,
          4.3,
          4.71,
          4.19,
          2.55,
          4.74,
          1.67,
          4.41,
          4.19,
          4.91,
          4.19,
          2.55,
          3.48,
          3.32,
          4.91,
          4.25,
          4.19,
          4.78,
          6,
          4.91,
          4.91,
          4.67,
          4.91,
          4.27,
          4.78,
          4.91,
          1.67,
          2.55,
          3.76,
          2.55,
          4.55,
          2.55,
          2.55,
          4.3,
          4.78,
          3.86,
          4.17,
          2.55,
          4.74,
          4.12,
          2.55,
          4.25,
          4.25,
          4.27,
          5,
          4.78,
          4.19,
          4.19,
          1.67,
          1.67,
          4.19,
          4.91,
          5.05,
          4.74,
          5.14,
          2.55,
          2.55,
          4.55,
          2.55,
          4.91,
          2.55,
          4.41,
          4.19,
          2.55,
          2.55,
          3.86,
          4.74,
          2.55,
          3.48,
          4.91,
          4.78,
          4.19,
          5.7,
          4.3,
          5.05,
          1.67,
          1.67,
          1.67,
          1.67,
          2.55,
          2.55,
          4.71,
          2.55,
          2.55,
          2.55,
          2.55,
          2.55,
          2.55,
          3.86,
          2.55,
          3.86,
          2.55,
          2.55,
          1.67,
          4.19,
          2.55,
          2.55,
          1.67,
          4.25,
          2.55,
          4.19,
          2.55,
          5.7,
          4.17,
          1.67,
          2.55,
          1.67,
          2.55,
          3.86,
          2.55,
          2.55,
          2.55,
          1.67,
          2.55,
          2.55,
          4.91,
          2.55,
          4.78,
          2.55,
          2.55,
          2.55,
          3.86,
          5,
          5,
          4.12,
          3.2,
          4.91,
          4.91,
          6,
          5.9,
          4.25,
          1.67,
          2.55,
          2.55,
          4.74,
          2.55,
          5,
          1.67,
          1.67,
          5.9,
          1.67,
          1.67,
          3.86,
          5.38,
          1.67,
          2.55,
          2.55,
          4.91,
          1.67,
          4.78,
          3.32,
          1.67,
          4.3,
          1.67,
          2.55,
          1.67,
          3.57,
          2.55,
          1.67,
          4.78,
          4.78,
          5.9,
          4.74,
          4.3,
          2.55,
          1.67,
          4.78,
          2.55,
          4.19,
          1.67,
          4.25,
          3,
          5.05,
          2.55,
          2.55,
          4.3,
          2.55,
          2.55,
          2.55,
          2.55,
          6,
          1.67,
          1.67,
          4.41,
          2.55,
          4.25,
          5,
          2.55,
          3.86,
          3.86,
          4.17,
          2.55,
          1.67,
          4.78,
          2.55,
          2.55,
          2.55,
          2.55,
          4.19,
          2.55,
          4.19,
          3.48,
          1.67,
          5,
          2.55,
          2.55,
          2.55,
          4.78,
          2.55,
          3.86,
          1.67,
          4.78,
          2.55,
          2.55,
          4.19,
          2.55,
          3.86,
          3.86,
          2.55,
          2.55,
          1.67,
          4.25,
          2.55,
          6.61,
          4.25,
          4.25,
          2.55,
          2.55,
          4.25,
          2.55,
          4.91,
          1.67,
          4.19,
          4.27,
          4.91,
          4.91,
          2.55,
          4.12,
          2.55,
          5,
          1.67,
          2.55,
          4.19,
          2.55,
          3.86,
          1.67,
          5,
          4.91,
          4.78,
          4.41,
          1.67,
          1.67,
          4.91,
          1.67,
          2.55,
          5.38,
          4.91,
          1.67,
          6.3,
          4.25,
          1.67,
          1.67,
          5,
          5,
          4.19,
          4.91,
          2.55,
          4.78,
          4.78,
          2.55,
          1.67,
          2.55,
          2.55,
          2.55,
          4.25,
          2.55,
          5.7,
          4.91,
          5.9,
          4.19,
          4.78,
          1.67,
          2.55,
          1.67,
          2.55,
          2.55,
          2.55,
          5,
          4.19,
          2.55,
          4.95,
          1.67,
          5.38,
          5.05,
          6,
          6.1,
          4.19,
          4.74,
          4.78,
          1.67,
          2.55,
          3.14,
          4.19,
          4.78,
          2.55,
          4.25,
          1.67,
          4.3,
          4.91,
          2.55,
          4.91,
          3.86,
          2.55,
          2.55,
          1.67,
          5,
          5.9,
          4.19,
          5,
          2.55,
          2.55,
          1.67,
          2.55,
          4.91,
          2.55,
          2.55,
          3.32,
          4.78,
          6.61,
          3.86,
          5.05,
          4.3,
          2.55,
          3.57,
          2.55,
          1.67,
          2.55,
          6,
          3.2,
          4.41,
          2.55,
          6,
          5.38,
          4.12,
          4.91,
          3.14,
          3.2,
          4.78,
          2.55,
          2.55,
          4.78,
          4.17,
          1.67,
          4.25,
          3.86,
          2.55,
          5.7,
          6,
          5.7,
          2.55,
          1.67,
          2.55,
          2.55,
          2.55,
          2.55,
          2.55,
          4.25,
          3.86,
          4.78,
          2.55,
          4.78,
          4.91,
          4.27,
          2.55,
          4.25,
          4.91,
          4.3,
          3.86,
          2.55,
          6,
          4.78,
          5,
          4.25,
          1.67,
          3.32,
          4.74,
          2.55,
          4.62,
          6,
          4.25,
          5.38,
          4.78,
          4.6,
          5.9,
          6.3,
          3,
          4.78,
          4.55,
          2.55,
          6.3,
          5.7,
          4.25,
          5.7,
          6.3,
          3.32,
          2.55,
          3.81,
          3.78,
          5.38,
          4.78,
          2.55,
          4.19,
          4.78,
          4.91,
          4.91,
          4.3,
          5.05,
          4.78,
          3.48,
          4.19,
          6.3,
          4.62,
          4.67,
          3.86,
          4.78,
          1.67,
          6,
          4.71,
          5.9,
          4.25,
          6,
          4.17,
          2.55,
          1.67,
          2.55,
          1.67,
          2.55,
          4.95,
          1.67,
          4.19,
          1.67,
          2.55,
          4.41,
          4.3,
          5.9,
          5.05,
          4.27,
          2.55,
          4.19,
          6.3,
          2.55,
          3.57,
          2.55,
          3.86,
          2.55,
          2.55,
          2.55,
          4.91,
          4.91,
          4.25,
          4.19,
          3.48,
          1.67,
          3.48,
          2.55,
          4.91,
          2.55,
          2.55,
          3.14,
          1.67,
          2.55,
          2.55,
          4.91,
          2.55,
          4.91,
          2.55,
          1.67,
          2.55,
          4.27,
          4.19,
          1.67,
          4.78,
          4.27,
          1.67,
          2.55,
          2.55,
          2.55,
          4.27,
          3.86,
          3.86,
          4.91,
          1.67,
          2.55,
          4.78,
          2.55,
          2.55,
          3.86,
          2.55,
          1.67,
          1.67,
          3.86,
          5.38,
          2.55,
          4.91,
          2.55,
          2.55,
          1.67,
          3.57,
          5.05,
          5.7,
          2.55,
          4.25,
          3.86,
          2.55,
          2.55,
          2.55,
          2.55,
          4.27,
          2.55,
          4.19,
          2.55,
          2.55,
          3.48,
          1.67,
          4.19,
          5.05,
          2.55,
          2.55,
          1.67,
          2.55,
          4.91,
          1.67,
          2.55,
          4.19,
          2.55,
          1.67,
          2.55,
          2.55,
          2.55,
          5.38,
          1.67,
          3.5,
          4.19,
          4.78,
          1.67,
          5.9,
          2.55,
          4.19,
          3.86,
          3.48,
          3.86,
          4.78,
          1.67,
          5.48,
          1.67,
          2.55,
          1.67,
          4.3,
          4.3,
          4.78,
          4.74,
          2.55,
          5.05,
          1.67,
          4.41,
          1.67,
          3.14,
          4.25,
          4.78,
          2.55,
          4.25,
          4.19,
          4.12,
          4.19,
          5.32,
          5.7,
          4.91,
          2.55,
          2.55,
          4.91,
          1.67,
          2.55,
          1.67,
          1.67,
          2.55,
          1.67,
          2.55,
          4.91,
          4.35,
          2.55,
          2.55,
          5.76,
          4.19,
          2.55,
          1.67,
          4.25,
          1.67,
          5.05,
          2.55,
          2.55,
          1.67,
          1.67,
          4.3,
          4.25,
          1.67,
          2.55,
          4.95,
          6,
          3.86,
          3.86,
          4.78,
          5,
          2.55,
          4.25,
          2.55,
          1.67,
          1.67,
          2.55,
          3.48,
          5.05,
          3.86,
          2.55,
          4.46,
          2.55,
          6.61,
          4.41,
          4.78,
          1.67,
          1.67,
          1.67,
          4.78,
          4.91,
          2.55,
          5.7,
          5.05,
          5.76,
          1.67,
          1.67,
          2.55,
          5.38,
          4.74,
          2.55,
          4.55,
          2.55,
          4.91,
          4.78,
          3.57,
          2.55,
          4.91,
          1.67,
          4.91,
          2.55,
          4.25,
          2.55,
          2.55,
          1.67,
          2.55,
          1.67,
          5.05,
          1.67,
          1.67,
          4.91,
          2.55,
          4.19,
          6.3,
          6,
          2.55,
          4.3,
          2.55,
          2.55,
          4.19,
          4.78,
          3.86,
          4.25,
          5.05,
          2.55,
          5.05,
          1.67,
          2.55,
          2.55,
          5.7,
          2.55,
          4.78,
          4.78,
          4.25,
          5.7,
          1.67,
          2.55,
          1.67,
          4.95,
          4.19,
          4.25,
          4.46,
          1.67,
          3.14,
          5.7,
          5.05,
          3.86,
          4.74,
          2.55,
          2.55,
          1.67,
          2.55,
          5.38,
          4.12,
          4.12,
          4.25,
          4.17,
          4.95,
          4.3,
          1.67,
          2.55,
          2.55,
          6,
          3.86,
          3.86,
          5.9,
          1.67,
          4.27,
          3.86,
          3.86,
          2.55,
          3.2,
          4.27,
          4.67,
          2.55,
          2.55,
          4.3,
          4.25,
          4.67,
          4.25,
          4.19,
          1.67,
          5.05,
          5.38,
          4.19,
          6.3,
          3.2,
          3.86,
          4.17,
          2.55,
          1.67,
          4.91,
          2.55,
          4.3,
          4.17,
          4.91,
          6.61,
          2.55,
          4.91,
          4.74,
          2.55,
          2.55,
          4.19,
          2.55,
          1.67,
          4.91,
          1.67,
          3.5,
          2.55,
          3.86,
          4.25,
          5.9,
          3.86,
          4.25,
          4.78,
          5.38,
          6.3,
          3.86,
          4.74,
          2.55,
          4.78,
          4.25,
          6.3,
          6,
          4.95,
          4.19,
          6,
          1.67,
          3.86,
          5.9,
          3.14,
          4.67,
          3.48,
          4.17,
          4.67,
          6,
          4.91,
          4.12,
          4.17,
          2.55,
          6.3,
          3.81,
          4.19,
          4.67,
          4.25,
          2.55,
          2.55,
          5.7,
          4.25,
          4.25,
          6,
          2.55,
          4.95,
          3.57,
          3.32,
          6,
          4.27,
          4.62,
          1.67,
          3.86,
          5.38,
          2.55,
          5.7,
          4.3,
          1.67,
          4.25,
          5.9,
          5.9,
          4.78,
          2.55,
          5.05,
          3.86,
          2.55,
          4.67,
          5.05,
          2.55,
          2.55,
          2.55,
          5,
          5.16,
          5.05,
          1.67,
          4.78,
          2.55,
          5.05,
          2.55,
          2.55,
          4.25,
          1.67,
          6.3,
          6.61,
          4.95,
          3.86,
          3.48,
          4.19,
          3.76,
          4.62,
          1.67,
          4.25,
          1.67,
          4.67,
          4.12,
          4.25,
          5.9,
          5.38,
          3.48,
          5.7,
          6.3,
          1.67,
          3.2,
          5.38,
          5.9,
          3.76,
          4.19,
          6,
          1.67,
          4.3,
          4.17,
          2.55,
          1.67,
          4.3,
          4.25,
          3.2,
          4.19,
          5.05,
          4.19,
          6,
          4.91,
          1.67,
          4.67,
          4.95,
          4.3,
          2.55,
          3.5,
          4.25,
          5.05,
          4.91,
          2.55,
          5.9,
          6.3,
          4.12,
          5.05,
          1.67,
          6,
          4.78,
          5.9,
          4.67,
          4.78,
          5.38,
          2.55,
          5.9,
          2.55,
          3.86,
          2.55,
          3.86,
          2.55,
          2.55,
          4.91,
          4.12,
          6.3,
          1.67,
          4.19,
          1.67,
          5.05,
          2.55,
          1.67,
          1.67,
          2.55,
          2.55,
          5.05,
          2.55,
          1.67,
          4.41,
          2.55,
          3.86,
          4.78,
          2.55,
          2.55,
          2.55,
          1.67,
          2.55,
          1.67,
          2.55,
          2.55,
          1.67,
          6,
          4.91,
          2.55,
          4.74,
          2.55,
          2.55,
          4.78,
          1.67,
          4.78,
          2.55,
          3.86,
          2.55,
          4.91,
          4.91,
          6.3,
          2.55,
          2.55,
          2.55,
          3.2,
          5.05,
          2.55,
          2.55,
          3.86,
          1.67,
          3.86,
          4.41,
          3.86,
          1.67,
          2.55,
          4.27,
          3.48,
          1.67,
          1.67,
          4.91,
          3.86,
          2.55,
          4.41,
          3.86,
          5,
          1.67,
          6.3,
          4.78,
          1.67,
          3.32,
          2.55,
          3.2,
          4.25,
          3.48,
          4.78,
          3.48,
          5.05,
          4.78,
          2.55,
          2.55,
          2.55,
          3.2,
          4.78,
          2.55,
          2.55,
          1.67,
          5.7,
          1.67,
          2.55,
          4.19,
          4.27,
          5,
          1.67,
          5.9,
          6.61,
          4.91,
          2.55,
          2.55,
          1.67,
          1.67,
          1.67,
          4.46,
          1.67,
          2.55,
          5.14,
          5.9,
          4.78,
          2.55,
          4.17,
          1.67,
          4.19,
          4.91,
          3.57,
          1.67,
          5.38,
          4.71,
          4.17,
          1.67,
          4.91,
          5.7,
          5.38,
          3.48,
          1.67,
          4.19,
          2.55,
          2.55,
          4.91,
          2.55,
          3.86,
          1.67,
          5.7,
          1.67,
          3.48,
          2.55,
          4.46,
          1.67,
          4.19,
          1.67,
          1.67,
          3.48,
          4.91,
          1.67,
          2.55,
          2.55,
          3.48,
          2.55,
          1.67,
          2.55,
          2.55,
          4.3,
          3.2,
          5,
          2.55,
          4.74,
          2.55,
          4.41,
          3.2,
          3.2,
          4.19,
          5.05,
          2.55,
          2.55,
          1.67,
          4.78,
          2.55,
          1.67,
          2.55,
          2.55,
          2.55,
          6.3,
          1.67,
          1.67,
          4.91,
          2.55,
          3,
          4.17,
          2.55,
          4.91,
          1.67,
          3.14,
          4.27,
          2.55,
          4.74,
          6,
          3.86,
          6.3,
          1.67,
          1.67,
          2.55,
          3.86,
          4.19,
          4.91,
          4.91,
          3.86,
          4.78,
          2.55,
          2.55,
          4.19,
          3.48,
          2.55,
          4.19,
          4.78,
          5.9,
          4.25,
          2.55,
          2.55,
          4.74,
          4.57,
          2.55,
          3.86,
          3.86,
          2.55,
          2.55,
          2.55,
          2.55,
          2.55,
          2.55,
          1.67,
          3.48,
          1.67,
          4.91,
          2.55,
          3.86,
          4.46,
          4.25,
          1.67,
          1.67,
          2.55
         ],
         "xaxis": "x",
         "yaxis": "y"
        }
       ],
       "layout": {
        "barmode": "overlay",
        "legend": {
         "title": {
          "text": "Gender"
         },
         "tracegroupgap": 0
        },
        "template": {
         "data": {
          "bar": [
           {
            "error_x": {
             "color": "#2a3f5f"
            },
            "error_y": {
             "color": "#2a3f5f"
            },
            "marker": {
             "line": {
              "color": "#E5ECF6",
              "width": 0.5
             },
             "pattern": {
              "fillmode": "overlay",
              "size": 10,
              "solidity": 0.2
             }
            },
            "type": "bar"
           }
          ],
          "barpolar": [
           {
            "marker": {
             "line": {
              "color": "#E5ECF6",
              "width": 0.5
             },
             "pattern": {
              "fillmode": "overlay",
              "size": 10,
              "solidity": 0.2
             }
            },
            "type": "barpolar"
           }
          ],
          "carpet": [
           {
            "aaxis": {
             "endlinecolor": "#2a3f5f",
             "gridcolor": "white",
             "linecolor": "white",
             "minorgridcolor": "white",
             "startlinecolor": "#2a3f5f"
            },
            "baxis": {
             "endlinecolor": "#2a3f5f",
             "gridcolor": "white",
             "linecolor": "white",
             "minorgridcolor": "white",
             "startlinecolor": "#2a3f5f"
            },
            "type": "carpet"
           }
          ],
          "choropleth": [
           {
            "colorbar": {
             "outlinewidth": 0,
             "ticks": ""
            },
            "type": "choropleth"
           }
          ],
          "contour": [
           {
            "colorbar": {
             "outlinewidth": 0,
             "ticks": ""
            },
            "colorscale": [
             [
              0,
              "#0d0887"
             ],
             [
              0.1111111111111111,
              "#46039f"
             ],
             [
              0.2222222222222222,
              "#7201a8"
             ],
             [
              0.3333333333333333,
              "#9c179e"
             ],
             [
              0.4444444444444444,
              "#bd3786"
             ],
             [
              0.5555555555555556,
              "#d8576b"
             ],
             [
              0.6666666666666666,
              "#ed7953"
             ],
             [
              0.7777777777777778,
              "#fb9f3a"
             ],
             [
              0.8888888888888888,
              "#fdca26"
             ],
             [
              1,
              "#f0f921"
             ]
            ],
            "type": "contour"
           }
          ],
          "contourcarpet": [
           {
            "colorbar": {
             "outlinewidth": 0,
             "ticks": ""
            },
            "type": "contourcarpet"
           }
          ],
          "heatmap": [
           {
            "colorbar": {
             "outlinewidth": 0,
             "ticks": ""
            },
            "colorscale": [
             [
              0,
              "#0d0887"
             ],
             [
              0.1111111111111111,
              "#46039f"
             ],
             [
              0.2222222222222222,
              "#7201a8"
             ],
             [
              0.3333333333333333,
              "#9c179e"
             ],
             [
              0.4444444444444444,
              "#bd3786"
             ],
             [
              0.5555555555555556,
              "#d8576b"
             ],
             [
              0.6666666666666666,
              "#ed7953"
             ],
             [
              0.7777777777777778,
              "#fb9f3a"
             ],
             [
              0.8888888888888888,
              "#fdca26"
             ],
             [
              1,
              "#f0f921"
             ]
            ],
            "type": "heatmap"
           }
          ],
          "heatmapgl": [
           {
            "colorbar": {
             "outlinewidth": 0,
             "ticks": ""
            },
            "colorscale": [
             [
              0,
              "#0d0887"
             ],
             [
              0.1111111111111111,
              "#46039f"
             ],
             [
              0.2222222222222222,
              "#7201a8"
             ],
             [
              0.3333333333333333,
              "#9c179e"
             ],
             [
              0.4444444444444444,
              "#bd3786"
             ],
             [
              0.5555555555555556,
              "#d8576b"
             ],
             [
              0.6666666666666666,
              "#ed7953"
             ],
             [
              0.7777777777777778,
              "#fb9f3a"
             ],
             [
              0.8888888888888888,
              "#fdca26"
             ],
             [
              1,
              "#f0f921"
             ]
            ],
            "type": "heatmapgl"
           }
          ],
          "histogram": [
           {
            "marker": {
             "pattern": {
              "fillmode": "overlay",
              "size": 10,
              "solidity": 0.2
             }
            },
            "type": "histogram"
           }
          ],
          "histogram2d": [
           {
            "colorbar": {
             "outlinewidth": 0,
             "ticks": ""
            },
            "colorscale": [
             [
              0,
              "#0d0887"
             ],
             [
              0.1111111111111111,
              "#46039f"
             ],
             [
              0.2222222222222222,
              "#7201a8"
             ],
             [
              0.3333333333333333,
              "#9c179e"
             ],
             [
              0.4444444444444444,
              "#bd3786"
             ],
             [
              0.5555555555555556,
              "#d8576b"
             ],
             [
              0.6666666666666666,
              "#ed7953"
             ],
             [
              0.7777777777777778,
              "#fb9f3a"
             ],
             [
              0.8888888888888888,
              "#fdca26"
             ],
             [
              1,
              "#f0f921"
             ]
            ],
            "type": "histogram2d"
           }
          ],
          "histogram2dcontour": [
           {
            "colorbar": {
             "outlinewidth": 0,
             "ticks": ""
            },
            "colorscale": [
             [
              0,
              "#0d0887"
             ],
             [
              0.1111111111111111,
              "#46039f"
             ],
             [
              0.2222222222222222,
              "#7201a8"
             ],
             [
              0.3333333333333333,
              "#9c179e"
             ],
             [
              0.4444444444444444,
              "#bd3786"
             ],
             [
              0.5555555555555556,
              "#d8576b"
             ],
             [
              0.6666666666666666,
              "#ed7953"
             ],
             [
              0.7777777777777778,
              "#fb9f3a"
             ],
             [
              0.8888888888888888,
              "#fdca26"
             ],
             [
              1,
              "#f0f921"
             ]
            ],
            "type": "histogram2dcontour"
           }
          ],
          "mesh3d": [
           {
            "colorbar": {
             "outlinewidth": 0,
             "ticks": ""
            },
            "type": "mesh3d"
           }
          ],
          "parcoords": [
           {
            "line": {
             "colorbar": {
              "outlinewidth": 0,
              "ticks": ""
             }
            },
            "type": "parcoords"
           }
          ],
          "pie": [
           {
            "automargin": true,
            "type": "pie"
           }
          ],
          "scatter": [
           {
            "fillpattern": {
             "fillmode": "overlay",
             "size": 10,
             "solidity": 0.2
            },
            "type": "scatter"
           }
          ],
          "scatter3d": [
           {
            "line": {
             "colorbar": {
              "outlinewidth": 0,
              "ticks": ""
             }
            },
            "marker": {
             "colorbar": {
              "outlinewidth": 0,
              "ticks": ""
             }
            },
            "type": "scatter3d"
           }
          ],
          "scattercarpet": [
           {
            "marker": {
             "colorbar": {
              "outlinewidth": 0,
              "ticks": ""
             }
            },
            "type": "scattercarpet"
           }
          ],
          "scattergeo": [
           {
            "marker": {
             "colorbar": {
              "outlinewidth": 0,
              "ticks": ""
             }
            },
            "type": "scattergeo"
           }
          ],
          "scattergl": [
           {
            "marker": {
             "colorbar": {
              "outlinewidth": 0,
              "ticks": ""
             }
            },
            "type": "scattergl"
           }
          ],
          "scattermapbox": [
           {
            "marker": {
             "colorbar": {
              "outlinewidth": 0,
              "ticks": ""
             }
            },
            "type": "scattermapbox"
           }
          ],
          "scatterpolar": [
           {
            "marker": {
             "colorbar": {
              "outlinewidth": 0,
              "ticks": ""
             }
            },
            "type": "scatterpolar"
           }
          ],
          "scatterpolargl": [
           {
            "marker": {
             "colorbar": {
              "outlinewidth": 0,
              "ticks": ""
             }
            },
            "type": "scatterpolargl"
           }
          ],
          "scatterternary": [
           {
            "marker": {
             "colorbar": {
              "outlinewidth": 0,
              "ticks": ""
             }
            },
            "type": "scatterternary"
           }
          ],
          "surface": [
           {
            "colorbar": {
             "outlinewidth": 0,
             "ticks": ""
            },
            "colorscale": [
             [
              0,
              "#0d0887"
             ],
             [
              0.1111111111111111,
              "#46039f"
             ],
             [
              0.2222222222222222,
              "#7201a8"
             ],
             [
              0.3333333333333333,
              "#9c179e"
             ],
             [
              0.4444444444444444,
              "#bd3786"
             ],
             [
              0.5555555555555556,
              "#d8576b"
             ],
             [
              0.6666666666666666,
              "#ed7953"
             ],
             [
              0.7777777777777778,
              "#fb9f3a"
             ],
             [
              0.8888888888888888,
              "#fdca26"
             ],
             [
              1,
              "#f0f921"
             ]
            ],
            "type": "surface"
           }
          ],
          "table": [
           {
            "cells": {
             "fill": {
              "color": "#EBF0F8"
             },
             "line": {
              "color": "white"
             }
            },
            "header": {
             "fill": {
              "color": "#C8D4E3"
             },
             "line": {
              "color": "white"
             }
            },
            "type": "table"
           }
          ]
         },
         "layout": {
          "annotationdefaults": {
           "arrowcolor": "#2a3f5f",
           "arrowhead": 0,
           "arrowwidth": 1
          },
          "autotypenumbers": "strict",
          "coloraxis": {
           "colorbar": {
            "outlinewidth": 0,
            "ticks": ""
           }
          },
          "colorscale": {
           "diverging": [
            [
             0,
             "#8e0152"
            ],
            [
             0.1,
             "#c51b7d"
            ],
            [
             0.2,
             "#de77ae"
            ],
            [
             0.3,
             "#f1b6da"
            ],
            [
             0.4,
             "#fde0ef"
            ],
            [
             0.5,
             "#f7f7f7"
            ],
            [
             0.6,
             "#e6f5d0"
            ],
            [
             0.7,
             "#b8e186"
            ],
            [
             0.8,
             "#7fbc41"
            ],
            [
             0.9,
             "#4d9221"
            ],
            [
             1,
             "#276419"
            ]
           ],
           "sequential": [
            [
             0,
             "#0d0887"
            ],
            [
             0.1111111111111111,
             "#46039f"
            ],
            [
             0.2222222222222222,
             "#7201a8"
            ],
            [
             0.3333333333333333,
             "#9c179e"
            ],
            [
             0.4444444444444444,
             "#bd3786"
            ],
            [
             0.5555555555555556,
             "#d8576b"
            ],
            [
             0.6666666666666666,
             "#ed7953"
            ],
            [
             0.7777777777777778,
             "#fb9f3a"
            ],
            [
             0.8888888888888888,
             "#fdca26"
            ],
            [
             1,
             "#f0f921"
            ]
           ],
           "sequentialminus": [
            [
             0,
             "#0d0887"
            ],
            [
             0.1111111111111111,
             "#46039f"
            ],
            [
             0.2222222222222222,
             "#7201a8"
            ],
            [
             0.3333333333333333,
             "#9c179e"
            ],
            [
             0.4444444444444444,
             "#bd3786"
            ],
            [
             0.5555555555555556,
             "#d8576b"
            ],
            [
             0.6666666666666666,
             "#ed7953"
            ],
            [
             0.7777777777777778,
             "#fb9f3a"
            ],
            [
             0.8888888888888888,
             "#fdca26"
            ],
            [
             1,
             "#f0f921"
            ]
           ]
          },
          "colorway": [
           "#636efa",
           "#EF553B",
           "#00cc96",
           "#ab63fa",
           "#FFA15A",
           "#19d3f3",
           "#FF6692",
           "#B6E880",
           "#FF97FF",
           "#FECB52"
          ],
          "font": {
           "color": "#2a3f5f"
          },
          "geo": {
           "bgcolor": "white",
           "lakecolor": "white",
           "landcolor": "#E5ECF6",
           "showlakes": true,
           "showland": true,
           "subunitcolor": "white"
          },
          "hoverlabel": {
           "align": "left"
          },
          "hovermode": "closest",
          "mapbox": {
           "style": "light"
          },
          "paper_bgcolor": "white",
          "plot_bgcolor": "#E5ECF6",
          "polar": {
           "angularaxis": {
            "gridcolor": "white",
            "linecolor": "white",
            "ticks": ""
           },
           "bgcolor": "#E5ECF6",
           "radialaxis": {
            "gridcolor": "white",
            "linecolor": "white",
            "ticks": ""
           }
          },
          "scene": {
           "xaxis": {
            "backgroundcolor": "#E5ECF6",
            "gridcolor": "white",
            "gridwidth": 2,
            "linecolor": "white",
            "showbackground": true,
            "ticks": "",
            "zerolinecolor": "white"
           },
           "yaxis": {
            "backgroundcolor": "#E5ECF6",
            "gridcolor": "white",
            "gridwidth": 2,
            "linecolor": "white",
            "showbackground": true,
            "ticks": "",
            "zerolinecolor": "white"
           },
           "zaxis": {
            "backgroundcolor": "#E5ECF6",
            "gridcolor": "white",
            "gridwidth": 2,
            "linecolor": "white",
            "showbackground": true,
            "ticks": "",
            "zerolinecolor": "white"
           }
          },
          "shapedefaults": {
           "line": {
            "color": "#2a3f5f"
           }
          },
          "ternary": {
           "aaxis": {
            "gridcolor": "white",
            "linecolor": "white",
            "ticks": ""
           },
           "baxis": {
            "gridcolor": "white",
            "linecolor": "white",
            "ticks": ""
           },
           "bgcolor": "#E5ECF6",
           "caxis": {
            "gridcolor": "white",
            "linecolor": "white",
            "ticks": ""
           }
          },
          "title": {
           "x": 0.05
          },
          "xaxis": {
           "automargin": true,
           "gridcolor": "white",
           "linecolor": "white",
           "ticks": "",
           "title": {
            "standoff": 15
           },
           "zerolinecolor": "white",
           "zerolinewidth": 2
          },
          "yaxis": {
           "automargin": true,
           "gridcolor": "white",
           "linecolor": "white",
           "ticks": "",
           "title": {
            "standoff": 15
           },
           "zerolinecolor": "white",
           "zerolinewidth": 2
          }
         }
        },
        "title": {
         "text": "Histogram of dominance values uniform"
        },
        "xaxis": {
         "anchor": "y",
         "domain": [
          0,
          1
         ],
         "title": {
          "text": "arousal"
         }
        },
        "yaxis": {
         "anchor": "x",
         "domain": [
          0,
          1
         ],
         "title": {
          "text": "percent"
         }
        }
       }
      },
      "text/html": [
       "<div>                            <div id=\"cafb397e-41d5-4ab7-a999-86946558e3c2\" class=\"plotly-graph-div\" style=\"height:525px; width:100%;\"></div>            <script type=\"text/javascript\">                require([\"plotly\"], function(Plotly) {                    window.PLOTLYENV=window.PLOTLYENV || {};                                    if (document.getElementById(\"cafb397e-41d5-4ab7-a999-86946558e3c2\")) {                    Plotly.newPlot(                        \"cafb397e-41d5-4ab7-a999-86946558e3c2\",                        [{\"alignmentgroup\":\"True\",\"bingroup\":\"x\",\"histnorm\":\"percent\",\"hovertemplate\":\"Gender=Female\\u003cbr\\u003earousal=%{x}\\u003cbr\\u003epercent=%{y}\\u003cextra\\u003e\\u003c\\u002fextra\\u003e\",\"legendgroup\":\"Female\",\"marker\":{\"color\":\"#636efa\",\"opacity\":0.7,\"pattern\":{\"shape\":\"\"}},\"name\":\"Female\",\"nbinsx\":30,\"offsetgroup\":\"Female\",\"orientation\":\"v\",\"showlegend\":true,\"x\":[2.55,4.91,1.67,5.05,1.67,2.55,1.67,1.67,2.55,3.86,2.55,4.19,4.25,2.55,2.55,2.55,2.55,3.2,2.55,4.78,3.86,4.27,4.91,1.67,2.55,2.55,2.55,2.55,1.67,1.67,2.55,2.55,2.55,5.05,1.67,2.55,4.27,3.86,1.67,5.16,3.2,2.55,2.55,3.86,2.55,4.25,2.55,2.55,1.67,4.19,1.67,2.55,3.86,3.86,3.86,2.55,4.71,2.55,5.7,4.25,4.57,1.67,4.19,2.55,3.2,3.86,2.55,1.67,2.55,3.86,4.3,4.6,4.78,3.86,1.67,4.19,4.78,4.25,5.05,2.55,2.55,4.19,4.27,1.67,1.67,3.48,1.67,4.3,2.55,5.05,3.86,4.19,1.67,5.7,2.55,2.55,3.32,3.86,2.55,4.78,4.91,1.67,4.91,3.86,3.48,2.55,1.67,2.55,4.41,4.25,2.55,3.2,3.86,5.9,1.67,1.67,4.91,4.91,3.86,3.86,3.86,4.91,4.05,4.91,2.55,4.19,2.55,2.55,2.55,2.55,4.95,4.78,6.3,1.67,3.86,4.78,3.86,5.32,3.48,5.0,4.91,2.55,4.19,2.55,1.67,5.7,2.55,2.55,2.55,4.19,2.55,2.55,1.67,4.78,1.67,5.05,4.19,2.55,2.55,4.19,1.67,1.67,2.55,1.67,4.3,4.91,1.67,2.55,2.55,2.55,3.5,2.55,2.55,3.86,2.55,4.25,5.05,2.55,1.67,4.19,4.3,4.91,1.67,3.86,2.55,2.55,3.32,5.9,4.6,1.67,3.86,1.67,1.67,2.55,2.55,4.19,5.05,3.48,3.48,5.7,1.67,1.67,6.0,3.86,3.48,1.67,4.91,1.67,2.55,3.2,4.78,1.67,3.48,4.57,4.91,2.55,2.55,3.76,3.32,2.55,4.74,3.32,4.78,3.86,4.25,4.27,4.27,2.55,4.19,4.25,2.55,4.78,4.14,5.9,5.7,3.86,4.25,1.67,3.48,3.86,1.67,4.91,2.55,4.25,3.48,5.7,4.74,5.7,3.86,2.55,4.78,1.67,4.3,6.0,4.3,4.3,1.67,3.2,4.19,3.86,1.67,2.55,1.67,5.05,4.25,2.55,4.78,1.67,2.55,6.0,2.55,4.74,4.19,4.19,4.3,2.55,3.86,1.67,2.55,1.67,4.27,4.19,5.05,5.05,2.55,2.55,1.67,3.18,1.67,4.12,2.55,4.25,4.91,1.67,2.55,1.67,3.86,2.55,3.57,4.3,2.55,2.55,2.55,1.67,2.55,3.48,2.55,2.55,2.55,1.67,4.19,4.3,3.86,5.7,6.0,5.76,2.55,2.55,4.19,1.67,3.2,3.5,2.55,4.78,5.05,1.67,5.05,1.67,2.55,2.55,1.67,4.19,4.19,2.55,3.86,1.67,2.55,4.19,1.67,2.55,1.67,2.55,2.55,2.55,4.3,5.9,4.25,1.67,4.19,4.95,4.25,1.67,2.55,3.86,4.25,4.19,3.0,5.9,3.5,4.19,5.05,3.5,2.55,4.25,3.86,4.19,4.78,2.55,5.16,3.2,2.55,1.67,2.55,2.55,2.55,4.25,4.78,4.19,4.19,4.19,1.67,4.27,4.3,3.86,4.78,5.0,3.32,2.55,3.86,4.19,1.67,4.91,2.55,2.55,4.91,3.86,5.7,2.55,2.55,5.27,5.05,4.74,1.67,3.86,6.0,1.67,2.55,2.55,4.78,2.55,2.55,3.86,2.55,4.91,5.9,4.3,4.17,4.78,4.91,4.19,4.25,1.67,4.19,2.55,2.55,3.2,2.55,2.55,4.78,1.67,1.67,2.55,3.86,1.67,3.86,3.86,2.55,2.55,4.25,1.67,2.55,1.67,4.19,4.41,5.9,2.55,2.55,5.32,4.78,1.67,2.55,4.46,4.19,1.67,1.67,2.55,4.91,2.55,3.2,1.67,2.55,2.55,3.86,4.27,2.55,2.55,4.78,2.55,5.05,2.55,4.19,2.55,2.55,4.78,4.91,2.55,5.7,2.55,2.55,2.55,2.55,2.55,3.86,6.0,4.25,5.14,2.55,4.91,6.0,1.67,2.55,2.55,1.67,3.32,4.91,3.48,3.2,2.55,1.67,1.67,5.7,4.19,1.67,2.55,2.55,2.55,6.0,4.3,6.0,3.5,4.91,4.74,4.19,1.67,4.78,4.17,3.2],\"xaxis\":\"x\",\"yaxis\":\"y\",\"type\":\"histogram\"},{\"alignmentgroup\":\"True\",\"bingroup\":\"x\",\"histnorm\":\"percent\",\"hovertemplate\":\"Gender=Male\\u003cbr\\u003earousal=%{x}\\u003cbr\\u003epercent=%{y}\\u003cextra\\u003e\\u003c\\u002fextra\\u003e\",\"legendgroup\":\"Male\",\"marker\":{\"color\":\"#EF553B\",\"opacity\":0.7,\"pattern\":{\"shape\":\"\"}},\"name\":\"Male\",\"nbinsx\":30,\"offsetgroup\":\"Male\",\"orientation\":\"v\",\"showlegend\":true,\"x\":[5.7,2.55,2.55,5.7,1.67,4.25,4.3,3.86,2.55,4.78,2.55,5.0,4.19,2.55,4.91,2.55,3.32,2.55,4.3,4.91,3.57,5.38,2.55,5.7,5.76,4.25,2.55,4.25,4.19,3.32,2.55,5.05,2.55,2.55,3.32,3.32,4.91,2.55,3.86,1.67,4.74,4.25,4.19,4.91,2.55,2.55,6.0,1.67,4.78,5.7,1.67,2.55,2.55,2.55,4.25,5.38,1.67,4.25,2.55,1.67,4.78,3.57,1.67,1.67,2.55,2.55,2.55,2.55,1.67,1.67,5.7,2.55,3.86,4.91,2.55,4.91,3.86,2.55,2.55,5.9,4.12,5.9,2.55,4.91,4.25,1.67,3.2,4.78,2.55,2.55,2.55,4.62,4.3,3.86,6.0,1.67,1.67,1.67,4.19,2.55,6.0,2.55,2.55,4.78,2.55,2.55,4.78,1.67,5.22,1.67,4.12,4.12,5.05,2.55,4.78,4.19,3.76,4.19,6.0,1.67,4.19,2.55,2.55,1.67,6.0,4.3,2.55,3.32,2.55,3.48,4.19,4.25,1.67,4.91,2.55,1.67,4.3,4.91,1.67,2.55,2.55,5.05,4.74,4.27,4.17,3.86,3.86,3.86,3.86,4.91,6.0,3.76,5.05,6.1,3.86,5.9,4.25,6.0,4.78,2.55,6.3,4.25,1.67,5.38,4.27,4.17,4.78,4.78,3.32,4.78,2.55,4.74,6.0,4.25,2.55,5.7,4.71,4.17,3.86,4.27,4.25,2.55,5.05,3.0,4.78,4.25,4.62,4.78,4.3,2.55,4.78,6.0,5.05,6.1,6.0,1.67,4.91,4.41,6.3,5.7,4.78,1.67,3.0,4.19,4.25,6.0,5.38,2.55,4.74,4.25,4.25,4.74,4.78,5.05,1.67,2.55,3.86,2.55,4.78,1.67,3.86,3.86,4.3,4.25,1.67,4.3,4.71,4.19,2.55,4.74,1.67,4.41,4.19,4.91,4.19,2.55,3.48,3.32,4.91,4.25,4.19,4.78,6.0,4.91,4.91,4.67,4.91,4.27,4.78,4.91,1.67,2.55,3.76,2.55,4.55,2.55,2.55,4.3,4.78,3.86,4.17,2.55,4.74,4.12,2.55,4.25,4.25,4.27,5.0,4.78,4.19,4.19,1.67,1.67,4.19,4.91,5.05,4.74,5.14,2.55,2.55,4.55,2.55,4.91,2.55,4.41,4.19,2.55,2.55,3.86,4.74,2.55,3.48,4.91,4.78,4.19,5.7,4.3,5.05,1.67,1.67,1.67,1.67,2.55,2.55,4.71,2.55,2.55,2.55,2.55,2.55,2.55,3.86,2.55,3.86,2.55,2.55,1.67,4.19,2.55,2.55,1.67,4.25,2.55,4.19,2.55,5.7,4.17,1.67,2.55,1.67,2.55,3.86,2.55,2.55,2.55,1.67,2.55,2.55,4.91,2.55,4.78,2.55,2.55,2.55,3.86,5.0,5.0,4.12,3.2,4.91,4.91,6.0,5.9,4.25,1.67,2.55,2.55,4.74,2.55,5.0,1.67,1.67,5.9,1.67,1.67,3.86,5.38,1.67,2.55,2.55,4.91,1.67,4.78,3.32,1.67,4.3,1.67,2.55,1.67,3.57,2.55,1.67,4.78,4.78,5.9,4.74,4.3,2.55,1.67,4.78,2.55,4.19,1.67,4.25,3.0,5.05,2.55,2.55,4.3,2.55,2.55,2.55,2.55,6.0,1.67,1.67,4.41,2.55,4.25,5.0,2.55,3.86,3.86,4.17,2.55,1.67,4.78,2.55,2.55,2.55,2.55,4.19,2.55,4.19,3.48,1.67,5.0,2.55,2.55,2.55,4.78,2.55,3.86,1.67,4.78,2.55,2.55,4.19,2.55,3.86,3.86,2.55,2.55,1.67,4.25,2.55,6.61,4.25,4.25,2.55,2.55,4.25,2.55,4.91,1.67,4.19,4.27,4.91,4.91,2.55,4.12,2.55,5.0,1.67,2.55,4.19,2.55,3.86,1.67,5.0,4.91,4.78,4.41,1.67,1.67,4.91,1.67,2.55,5.38,4.91,1.67,6.3,4.25,1.67,1.67,5.0,5.0,4.19,4.91,2.55,4.78,4.78,2.55,1.67,2.55,2.55,2.55,4.25,2.55,5.7,4.91,5.9,4.19,4.78,1.67,2.55,1.67,2.55,2.55,2.55,5.0,4.19,2.55,4.95,1.67,5.38,5.05,6.0,6.1,4.19,4.74,4.78,1.67,2.55,3.14,4.19,4.78,2.55,4.25,1.67,4.3,4.91,2.55,4.91,3.86,2.55,2.55,1.67,5.0,5.9,4.19,5.0,2.55,2.55,1.67,2.55,4.91,2.55,2.55,3.32,4.78,6.61,3.86,5.05,4.3,2.55,3.57,2.55,1.67,2.55,6.0,3.2,4.41,2.55,6.0,5.38,4.12,4.91,3.14,3.2,4.78,2.55,2.55,4.78,4.17,1.67,4.25,3.86,2.55,5.7,6.0,5.7,2.55,1.67,2.55,2.55,2.55,2.55,2.55,4.25,3.86,4.78,2.55,4.78,4.91,4.27,2.55,4.25,4.91,4.3,3.86,2.55,6.0,4.78,5.0,4.25,1.67,3.32,4.74,2.55,4.62,6.0,4.25,5.38,4.78,4.6,5.9,6.3,3.0,4.78,4.55,2.55,6.3,5.7,4.25,5.7,6.3,3.32,2.55,3.81,3.78,5.38,4.78,2.55,4.19,4.78,4.91,4.91,4.3,5.05,4.78,3.48,4.19,6.3,4.62,4.67,3.86,4.78,1.67,6.0,4.71,5.9,4.25,6.0,4.17,2.55,1.67,2.55,1.67,2.55,4.95,1.67,4.19,1.67,2.55,4.41,4.3,5.9,5.05,4.27,2.55,4.19,6.3,2.55,3.57,2.55,3.86,2.55,2.55,2.55,4.91,4.91,4.25,4.19,3.48,1.67,3.48,2.55,4.91,2.55,2.55,3.14,1.67,2.55,2.55,4.91,2.55,4.91,2.55,1.67,2.55,4.27,4.19,1.67,4.78,4.27,1.67,2.55,2.55,2.55,4.27,3.86,3.86,4.91,1.67,2.55,4.78,2.55,2.55,3.86,2.55,1.67,1.67,3.86,5.38,2.55,4.91,2.55,2.55,1.67,3.57,5.05,5.7,2.55,4.25,3.86,2.55,2.55,2.55,2.55,4.27,2.55,4.19,2.55,2.55,3.48,1.67,4.19,5.05,2.55,2.55,1.67,2.55,4.91,1.67,2.55,4.19,2.55,1.67,2.55,2.55,2.55,5.38,1.67,3.5,4.19,4.78,1.67,5.9,2.55,4.19,3.86,3.48,3.86,4.78,1.67,5.48,1.67,2.55,1.67,4.3,4.3,4.78,4.74,2.55,5.05,1.67,4.41,1.67,3.14,4.25,4.78,2.55,4.25,4.19,4.12,4.19,5.32,5.7,4.91,2.55,2.55,4.91,1.67,2.55,1.67,1.67,2.55,1.67,2.55,4.91,4.35,2.55,2.55,5.76,4.19,2.55,1.67,4.25,1.67,5.05,2.55,2.55,1.67,1.67,4.3,4.25,1.67,2.55,4.95,6.0,3.86,3.86,4.78,5.0,2.55,4.25,2.55,1.67,1.67,2.55,3.48,5.05,3.86,2.55,4.46,2.55,6.61,4.41,4.78,1.67,1.67,1.67,4.78,4.91,2.55,5.7,5.05,5.76,1.67,1.67,2.55,5.38,4.74,2.55,4.55,2.55,4.91,4.78,3.57,2.55,4.91,1.67,4.91,2.55,4.25,2.55,2.55,1.67,2.55,1.67,5.05,1.67,1.67,4.91,2.55,4.19,6.3,6.0,2.55,4.3,2.55,2.55,4.19,4.78,3.86,4.25,5.05,2.55,5.05,1.67,2.55,2.55,5.7,2.55,4.78,4.78,4.25,5.7,1.67,2.55,1.67,4.95,4.19,4.25,4.46,1.67,3.14,5.7,5.05,3.86,4.74,2.55,2.55,1.67,2.55,5.38,4.12,4.12,4.25,4.17,4.95,4.3,1.67,2.55,2.55,6.0,3.86,3.86,5.9,1.67,4.27,3.86,3.86,2.55,3.2,4.27,4.67,2.55,2.55,4.3,4.25,4.67,4.25,4.19,1.67,5.05,5.38,4.19,6.3,3.2,3.86,4.17,2.55,1.67,4.91,2.55,4.3,4.17,4.91,6.61,2.55,4.91,4.74,2.55,2.55,4.19,2.55,1.67,4.91,1.67,3.5,2.55,3.86,4.25,5.9,3.86,4.25,4.78,5.38,6.3,3.86,4.74,2.55,4.78,4.25,6.3,6.0,4.95,4.19,6.0,1.67,3.86,5.9,3.14,4.67,3.48,4.17,4.67,6.0,4.91,4.12,4.17,2.55,6.3,3.81,4.19,4.67,4.25,2.55,2.55,5.7,4.25,4.25,6.0,2.55,4.95,3.57,3.32,6.0,4.27,4.62,1.67,3.86,5.38,2.55,5.7,4.3,1.67,4.25,5.9,5.9,4.78,2.55,5.05,3.86,2.55,4.67,5.05,2.55,2.55,2.55,5.0,5.16,5.05,1.67,4.78,2.55,5.05,2.55,2.55,4.25,1.67,6.3,6.61,4.95,3.86,3.48,4.19,3.76,4.62,1.67,4.25,1.67,4.67,4.12,4.25,5.9,5.38,3.48,5.7,6.3,1.67,3.2,5.38,5.9,3.76,4.19,6.0,1.67,4.3,4.17,2.55,1.67,4.3,4.25,3.2,4.19,5.05,4.19,6.0,4.91,1.67,4.67,4.95,4.3,2.55,3.5,4.25,5.05,4.91,2.55,5.9,6.3,4.12,5.05,1.67,6.0,4.78,5.9,4.67,4.78,5.38,2.55,5.9,2.55,3.86,2.55,3.86,2.55,2.55,4.91,4.12,6.3,1.67,4.19,1.67,5.05,2.55,1.67,1.67,2.55,2.55,5.05,2.55,1.67,4.41,2.55,3.86,4.78,2.55,2.55,2.55,1.67,2.55,1.67,2.55,2.55,1.67,6.0,4.91,2.55,4.74,2.55,2.55,4.78,1.67,4.78,2.55,3.86,2.55,4.91,4.91,6.3,2.55,2.55,2.55,3.2,5.05,2.55,2.55,3.86,1.67,3.86,4.41,3.86,1.67,2.55,4.27,3.48,1.67,1.67,4.91,3.86,2.55,4.41,3.86,5.0,1.67,6.3,4.78,1.67,3.32,2.55,3.2,4.25,3.48,4.78,3.48,5.05,4.78,2.55,2.55,2.55,3.2,4.78,2.55,2.55,1.67,5.7,1.67,2.55,4.19,4.27,5.0,1.67,5.9,6.61,4.91,2.55,2.55,1.67,1.67,1.67,4.46,1.67,2.55,5.14,5.9,4.78,2.55,4.17,1.67,4.19,4.91,3.57,1.67,5.38,4.71,4.17,1.67,4.91,5.7,5.38,3.48,1.67,4.19,2.55,2.55,4.91,2.55,3.86,1.67,5.7,1.67,3.48,2.55,4.46,1.67,4.19,1.67,1.67,3.48,4.91,1.67,2.55,2.55,3.48,2.55,1.67,2.55,2.55,4.3,3.2,5.0,2.55,4.74,2.55,4.41,3.2,3.2,4.19,5.05,2.55,2.55,1.67,4.78,2.55,1.67,2.55,2.55,2.55,6.3,1.67,1.67,4.91,2.55,3.0,4.17,2.55,4.91,1.67,3.14,4.27,2.55,4.74,6.0,3.86,6.3,1.67,1.67,2.55,3.86,4.19,4.91,4.91,3.86,4.78,2.55,2.55,4.19,3.48,2.55,4.19,4.78,5.9,4.25,2.55,2.55,4.74,4.57,2.55,3.86,3.86,2.55,2.55,2.55,2.55,2.55,2.55,1.67,3.48,1.67,4.91,2.55,3.86,4.46,4.25,1.67,1.67,2.55],\"xaxis\":\"x\",\"yaxis\":\"y\",\"type\":\"histogram\"}],                        {\"template\":{\"data\":{\"histogram2dcontour\":[{\"type\":\"histogram2dcontour\",\"colorbar\":{\"outlinewidth\":0,\"ticks\":\"\"},\"colorscale\":[[0.0,\"#0d0887\"],[0.1111111111111111,\"#46039f\"],[0.2222222222222222,\"#7201a8\"],[0.3333333333333333,\"#9c179e\"],[0.4444444444444444,\"#bd3786\"],[0.5555555555555556,\"#d8576b\"],[0.6666666666666666,\"#ed7953\"],[0.7777777777777778,\"#fb9f3a\"],[0.8888888888888888,\"#fdca26\"],[1.0,\"#f0f921\"]]}],\"choropleth\":[{\"type\":\"choropleth\",\"colorbar\":{\"outlinewidth\":0,\"ticks\":\"\"}}],\"histogram2d\":[{\"type\":\"histogram2d\",\"colorbar\":{\"outlinewidth\":0,\"ticks\":\"\"},\"colorscale\":[[0.0,\"#0d0887\"],[0.1111111111111111,\"#46039f\"],[0.2222222222222222,\"#7201a8\"],[0.3333333333333333,\"#9c179e\"],[0.4444444444444444,\"#bd3786\"],[0.5555555555555556,\"#d8576b\"],[0.6666666666666666,\"#ed7953\"],[0.7777777777777778,\"#fb9f3a\"],[0.8888888888888888,\"#fdca26\"],[1.0,\"#f0f921\"]]}],\"heatmap\":[{\"type\":\"heatmap\",\"colorbar\":{\"outlinewidth\":0,\"ticks\":\"\"},\"colorscale\":[[0.0,\"#0d0887\"],[0.1111111111111111,\"#46039f\"],[0.2222222222222222,\"#7201a8\"],[0.3333333333333333,\"#9c179e\"],[0.4444444444444444,\"#bd3786\"],[0.5555555555555556,\"#d8576b\"],[0.6666666666666666,\"#ed7953\"],[0.7777777777777778,\"#fb9f3a\"],[0.8888888888888888,\"#fdca26\"],[1.0,\"#f0f921\"]]}],\"heatmapgl\":[{\"type\":\"heatmapgl\",\"colorbar\":{\"outlinewidth\":0,\"ticks\":\"\"},\"colorscale\":[[0.0,\"#0d0887\"],[0.1111111111111111,\"#46039f\"],[0.2222222222222222,\"#7201a8\"],[0.3333333333333333,\"#9c179e\"],[0.4444444444444444,\"#bd3786\"],[0.5555555555555556,\"#d8576b\"],[0.6666666666666666,\"#ed7953\"],[0.7777777777777778,\"#fb9f3a\"],[0.8888888888888888,\"#fdca26\"],[1.0,\"#f0f921\"]]}],\"contourcarpet\":[{\"type\":\"contourcarpet\",\"colorbar\":{\"outlinewidth\":0,\"ticks\":\"\"}}],\"contour\":[{\"type\":\"contour\",\"colorbar\":{\"outlinewidth\":0,\"ticks\":\"\"},\"colorscale\":[[0.0,\"#0d0887\"],[0.1111111111111111,\"#46039f\"],[0.2222222222222222,\"#7201a8\"],[0.3333333333333333,\"#9c179e\"],[0.4444444444444444,\"#bd3786\"],[0.5555555555555556,\"#d8576b\"],[0.6666666666666666,\"#ed7953\"],[0.7777777777777778,\"#fb9f3a\"],[0.8888888888888888,\"#fdca26\"],[1.0,\"#f0f921\"]]}],\"surface\":[{\"type\":\"surface\",\"colorbar\":{\"outlinewidth\":0,\"ticks\":\"\"},\"colorscale\":[[0.0,\"#0d0887\"],[0.1111111111111111,\"#46039f\"],[0.2222222222222222,\"#7201a8\"],[0.3333333333333333,\"#9c179e\"],[0.4444444444444444,\"#bd3786\"],[0.5555555555555556,\"#d8576b\"],[0.6666666666666666,\"#ed7953\"],[0.7777777777777778,\"#fb9f3a\"],[0.8888888888888888,\"#fdca26\"],[1.0,\"#f0f921\"]]}],\"mesh3d\":[{\"type\":\"mesh3d\",\"colorbar\":{\"outlinewidth\":0,\"ticks\":\"\"}}],\"scatter\":[{\"fillpattern\":{\"fillmode\":\"overlay\",\"size\":10,\"solidity\":0.2},\"type\":\"scatter\"}],\"parcoords\":[{\"type\":\"parcoords\",\"line\":{\"colorbar\":{\"outlinewidth\":0,\"ticks\":\"\"}}}],\"scatterpolargl\":[{\"type\":\"scatterpolargl\",\"marker\":{\"colorbar\":{\"outlinewidth\":0,\"ticks\":\"\"}}}],\"bar\":[{\"error_x\":{\"color\":\"#2a3f5f\"},\"error_y\":{\"color\":\"#2a3f5f\"},\"marker\":{\"line\":{\"color\":\"#E5ECF6\",\"width\":0.5},\"pattern\":{\"fillmode\":\"overlay\",\"size\":10,\"solidity\":0.2}},\"type\":\"bar\"}],\"scattergeo\":[{\"type\":\"scattergeo\",\"marker\":{\"colorbar\":{\"outlinewidth\":0,\"ticks\":\"\"}}}],\"scatterpolar\":[{\"type\":\"scatterpolar\",\"marker\":{\"colorbar\":{\"outlinewidth\":0,\"ticks\":\"\"}}}],\"histogram\":[{\"marker\":{\"pattern\":{\"fillmode\":\"overlay\",\"size\":10,\"solidity\":0.2}},\"type\":\"histogram\"}],\"scattergl\":[{\"type\":\"scattergl\",\"marker\":{\"colorbar\":{\"outlinewidth\":0,\"ticks\":\"\"}}}],\"scatter3d\":[{\"type\":\"scatter3d\",\"line\":{\"colorbar\":{\"outlinewidth\":0,\"ticks\":\"\"}},\"marker\":{\"colorbar\":{\"outlinewidth\":0,\"ticks\":\"\"}}}],\"scattermapbox\":[{\"type\":\"scattermapbox\",\"marker\":{\"colorbar\":{\"outlinewidth\":0,\"ticks\":\"\"}}}],\"scatterternary\":[{\"type\":\"scatterternary\",\"marker\":{\"colorbar\":{\"outlinewidth\":0,\"ticks\":\"\"}}}],\"scattercarpet\":[{\"type\":\"scattercarpet\",\"marker\":{\"colorbar\":{\"outlinewidth\":0,\"ticks\":\"\"}}}],\"carpet\":[{\"aaxis\":{\"endlinecolor\":\"#2a3f5f\",\"gridcolor\":\"white\",\"linecolor\":\"white\",\"minorgridcolor\":\"white\",\"startlinecolor\":\"#2a3f5f\"},\"baxis\":{\"endlinecolor\":\"#2a3f5f\",\"gridcolor\":\"white\",\"linecolor\":\"white\",\"minorgridcolor\":\"white\",\"startlinecolor\":\"#2a3f5f\"},\"type\":\"carpet\"}],\"table\":[{\"cells\":{\"fill\":{\"color\":\"#EBF0F8\"},\"line\":{\"color\":\"white\"}},\"header\":{\"fill\":{\"color\":\"#C8D4E3\"},\"line\":{\"color\":\"white\"}},\"type\":\"table\"}],\"barpolar\":[{\"marker\":{\"line\":{\"color\":\"#E5ECF6\",\"width\":0.5},\"pattern\":{\"fillmode\":\"overlay\",\"size\":10,\"solidity\":0.2}},\"type\":\"barpolar\"}],\"pie\":[{\"automargin\":true,\"type\":\"pie\"}]},\"layout\":{\"autotypenumbers\":\"strict\",\"colorway\":[\"#636efa\",\"#EF553B\",\"#00cc96\",\"#ab63fa\",\"#FFA15A\",\"#19d3f3\",\"#FF6692\",\"#B6E880\",\"#FF97FF\",\"#FECB52\"],\"font\":{\"color\":\"#2a3f5f\"},\"hovermode\":\"closest\",\"hoverlabel\":{\"align\":\"left\"},\"paper_bgcolor\":\"white\",\"plot_bgcolor\":\"#E5ECF6\",\"polar\":{\"bgcolor\":\"#E5ECF6\",\"angularaxis\":{\"gridcolor\":\"white\",\"linecolor\":\"white\",\"ticks\":\"\"},\"radialaxis\":{\"gridcolor\":\"white\",\"linecolor\":\"white\",\"ticks\":\"\"}},\"ternary\":{\"bgcolor\":\"#E5ECF6\",\"aaxis\":{\"gridcolor\":\"white\",\"linecolor\":\"white\",\"ticks\":\"\"},\"baxis\":{\"gridcolor\":\"white\",\"linecolor\":\"white\",\"ticks\":\"\"},\"caxis\":{\"gridcolor\":\"white\",\"linecolor\":\"white\",\"ticks\":\"\"}},\"coloraxis\":{\"colorbar\":{\"outlinewidth\":0,\"ticks\":\"\"}},\"colorscale\":{\"sequential\":[[0.0,\"#0d0887\"],[0.1111111111111111,\"#46039f\"],[0.2222222222222222,\"#7201a8\"],[0.3333333333333333,\"#9c179e\"],[0.4444444444444444,\"#bd3786\"],[0.5555555555555556,\"#d8576b\"],[0.6666666666666666,\"#ed7953\"],[0.7777777777777778,\"#fb9f3a\"],[0.8888888888888888,\"#fdca26\"],[1.0,\"#f0f921\"]],\"sequentialminus\":[[0.0,\"#0d0887\"],[0.1111111111111111,\"#46039f\"],[0.2222222222222222,\"#7201a8\"],[0.3333333333333333,\"#9c179e\"],[0.4444444444444444,\"#bd3786\"],[0.5555555555555556,\"#d8576b\"],[0.6666666666666666,\"#ed7953\"],[0.7777777777777778,\"#fb9f3a\"],[0.8888888888888888,\"#fdca26\"],[1.0,\"#f0f921\"]],\"diverging\":[[0,\"#8e0152\"],[0.1,\"#c51b7d\"],[0.2,\"#de77ae\"],[0.3,\"#f1b6da\"],[0.4,\"#fde0ef\"],[0.5,\"#f7f7f7\"],[0.6,\"#e6f5d0\"],[0.7,\"#b8e186\"],[0.8,\"#7fbc41\"],[0.9,\"#4d9221\"],[1,\"#276419\"]]},\"xaxis\":{\"gridcolor\":\"white\",\"linecolor\":\"white\",\"ticks\":\"\",\"title\":{\"standoff\":15},\"zerolinecolor\":\"white\",\"automargin\":true,\"zerolinewidth\":2},\"yaxis\":{\"gridcolor\":\"white\",\"linecolor\":\"white\",\"ticks\":\"\",\"title\":{\"standoff\":15},\"zerolinecolor\":\"white\",\"automargin\":true,\"zerolinewidth\":2},\"scene\":{\"xaxis\":{\"backgroundcolor\":\"#E5ECF6\",\"gridcolor\":\"white\",\"linecolor\":\"white\",\"showbackground\":true,\"ticks\":\"\",\"zerolinecolor\":\"white\",\"gridwidth\":2},\"yaxis\":{\"backgroundcolor\":\"#E5ECF6\",\"gridcolor\":\"white\",\"linecolor\":\"white\",\"showbackground\":true,\"ticks\":\"\",\"zerolinecolor\":\"white\",\"gridwidth\":2},\"zaxis\":{\"backgroundcolor\":\"#E5ECF6\",\"gridcolor\":\"white\",\"linecolor\":\"white\",\"showbackground\":true,\"ticks\":\"\",\"zerolinecolor\":\"white\",\"gridwidth\":2}},\"shapedefaults\":{\"line\":{\"color\":\"#2a3f5f\"}},\"annotationdefaults\":{\"arrowcolor\":\"#2a3f5f\",\"arrowhead\":0,\"arrowwidth\":1},\"geo\":{\"bgcolor\":\"white\",\"landcolor\":\"#E5ECF6\",\"subunitcolor\":\"white\",\"showland\":true,\"showlakes\":true,\"lakecolor\":\"white\"},\"title\":{\"x\":0.05},\"mapbox\":{\"style\":\"light\"}}},\"xaxis\":{\"anchor\":\"y\",\"domain\":[0.0,1.0],\"title\":{\"text\":\"arousal\"}},\"yaxis\":{\"anchor\":\"x\",\"domain\":[0.0,1.0],\"title\":{\"text\":\"percent\"}},\"legend\":{\"title\":{\"text\":\"Gender\"},\"tracegroupgap\":0},\"title\":{\"text\":\"Histogram of dominance values uniform\"},\"barmode\":\"overlay\"},                        {\"responsive\": true}                    ).then(function(){\n",
       "                            \n",
       "var gd = document.getElementById('cafb397e-41d5-4ab7-a999-86946558e3c2');\n",
       "var x = new MutationObserver(function (mutations, observer) {{\n",
       "        var display = window.getComputedStyle(gd).display;\n",
       "        if (!display || display === 'none') {{\n",
       "            console.log([gd, 'removed!']);\n",
       "            Plotly.purge(gd);\n",
       "            observer.disconnect();\n",
       "        }}\n",
       "}});\n",
       "\n",
       "// Listen for the removal of the full notebook cells\n",
       "var notebookContainer = gd.closest('#notebook-container');\n",
       "if (notebookContainer) {{\n",
       "    x.observe(notebookContainer, {childList: true});\n",
       "}}\n",
       "\n",
       "// Listen for the clearing of the current output cell\n",
       "var outputEl = gd.closest('.output');\n",
       "if (outputEl) {{\n",
       "    x.observe(outputEl, {childList: true});\n",
       "}}\n",
       "\n",
       "                        })                };                });            </script>        </div>"
      ]
     },
     "metadata": {},
     "output_type": "display_data"
    }
   ],
   "source": [
    "subset = df[['Spkr', 'segment', 'Age', 'Gender', 'Education', 'Occupation', 'Edu.Group', 'Age.Group', \n",
    "       'model_response_adjective_arousal_uniform_MERaLiON-AudioLLM-Whisper-SEA-LION',\n",
    "       'model_prompt_adjective_arousal_uniform_MERaLiON-AudioLLM-Whisper-SEA-LION']].copy()\n",
    "\n",
    "\n",
    "subset['parsed'] = subset.apply(lambda row: parse_adjectives(row, 'model_response_adjective_arousal_uniform_MERaLiON-AudioLLM-Whisper-SEA-LION', ADJECTIVES_AROUSAL_UNIFORM['english']), axis=1)\n",
    "\n",
    "\n",
    "df_exploded = subset.explode('parsed')\n",
    "\n",
    "merged_df = pd.merge(df_exploded[['parsed', 'Gender']], df_adjectives[['word', 'arousal']], left_on='parsed', right_on='word')\n",
    "\n",
    "fig = px.histogram(\n",
    "    merged_df,\n",
    "    x='arousal',\n",
    "    color='Gender',\n",
    "    barmode='overlay',    # use 'overlay' to display them on top of each other; use 'group' for side-by-side bars\n",
    "    nbins=30,             # adjust the number of bins as needed\n",
    "    opacity=0.7,          # set opacity to help with overlapping areas\n",
    "    histnorm='percent',\n",
    "    title=\"Histogram of dominance values uniform\"\n",
    ")\n",
    "fig.show()"
   ]
  },
  {
   "cell_type": "markdown",
   "metadata": {},
   "source": [
    "## Adjectives Dominance"
   ]
  },
  {
   "cell_type": "markdown",
   "metadata": {},
   "source": [
    "### Qwen2"
   ]
  },
  {
   "cell_type": "code",
   "execution_count": 47,
   "metadata": {},
   "outputs": [
    {
     "data": {
      "application/vnd.plotly.v1+json": {
       "config": {
        "plotlyServerURL": "https://plot.ly"
       },
       "data": [
        {
         "alignmentgroup": "True",
         "hovertemplate": "Gender=Female<br>parsed=%{x}<br>Percentage=%{y}<extra></extra>",
         "legendgroup": "Female",
         "marker": {
          "color": "#636efa",
          "pattern": {
           "shape": ""
          }
         },
         "name": "Female",
         "offsetgroup": "Female",
         "orientation": "v",
         "showlegend": true,
         "textposition": "auto",
         "type": "bar",
         "x": [
          "awful",
          "calm",
          "catastrophic",
          "complete",
          "courteous",
          "disgraceful",
          "expressive",
          "happy",
          "helpless",
          "hopeless",
          "insatiable",
          "kind",
          "knowledgeable",
          "overwhelmed",
          "overwhelming",
          "polite",
          "positive",
          "psychotic",
          "schizophrenic",
          "sincere",
          "sleepless",
          "uncontrollable",
          "victorious",
          "vulnerable",
          "wonderful"
         ],
         "xaxis": "x",
         "y": [
          8.786610878661087,
          1.2552301255230125,
          3.3472803347280333,
          1.2552301255230125,
          1.2552301255230125,
          7.531380753138076,
          1.2552301255230125,
          1.2552301255230125,
          1.2552301255230125,
          3.3472803347280333,
          2.510460251046025,
          2.510460251046025,
          10.460251046025103,
          7.112970711297072,
          2.928870292887029,
          2.510460251046025,
          2.092050209205021,
          2.928870292887029,
          2.510460251046025,
          1.6736401673640167,
          1.2552301255230125,
          6.694560669456067,
          3.3472803347280333,
          3.3472803347280333,
          1.6736401673640167
         ],
         "yaxis": "y"
        },
        {
         "alignmentgroup": "True",
         "hovertemplate": "Gender=Male<br>parsed=%{x}<br>Percentage=%{y}<extra></extra>",
         "legendgroup": "Male",
         "marker": {
          "color": "#EF553B",
          "pattern": {
           "shape": ""
          }
         },
         "name": "Male",
         "offsetgroup": "Male",
         "orientation": "v",
         "showlegend": true,
         "textposition": "auto",
         "type": "bar",
         "x": [
          "awesome",
          "awful",
          "calm",
          "catastrophic",
          "courageous",
          "disgraceful",
          "drunk",
          "dysfunctional",
          "expressive",
          "happy",
          "helpless",
          "hopeless",
          "insatiable",
          "intact",
          "kind",
          "knowledgeable",
          "molest",
          "overwhelmed",
          "overwhelming",
          "polite",
          "positive",
          "powerless",
          "psychotic",
          "schizophrenic",
          "sick",
          "sincere",
          "thorough",
          "unconscious",
          "uncontrollable",
          "victorious"
         ],
         "xaxis": "x",
         "y": [
          1.0174418604651163,
          6.540697674418605,
          2.4709302325581395,
          4.941860465116279,
          1.744186046511628,
          11.773255813953488,
          1.744186046511628,
          2.761627906976744,
          1.4534883720930232,
          1.0174418604651163,
          1.5988372093023258,
          3.6337209302325584,
          4.069767441860465,
          1.0174418604651163,
          1.88953488372093,
          6.686046511627906,
          1.1627906976744187,
          4.796511627906977,
          1.1627906976744187,
          1.744186046511628,
          1.744186046511628,
          1.308139534883721,
          2.4709302325581395,
          2.0348837209302326,
          1.88953488372093,
          1.1627906976744187,
          1.308139534883721,
          2.0348837209302326,
          5.087209302325581,
          2.616279069767442
         ],
         "yaxis": "y"
        }
       ],
       "layout": {
        "barmode": "group",
        "legend": {
         "title": {
          "text": "Gender"
         },
         "tracegroupgap": 0
        },
        "margin": {
         "t": 60
        },
        "template": {
         "data": {
          "bar": [
           {
            "error_x": {
             "color": "#2a3f5f"
            },
            "error_y": {
             "color": "#2a3f5f"
            },
            "marker": {
             "line": {
              "color": "#E5ECF6",
              "width": 0.5
             },
             "pattern": {
              "fillmode": "overlay",
              "size": 10,
              "solidity": 0.2
             }
            },
            "type": "bar"
           }
          ],
          "barpolar": [
           {
            "marker": {
             "line": {
              "color": "#E5ECF6",
              "width": 0.5
             },
             "pattern": {
              "fillmode": "overlay",
              "size": 10,
              "solidity": 0.2
             }
            },
            "type": "barpolar"
           }
          ],
          "carpet": [
           {
            "aaxis": {
             "endlinecolor": "#2a3f5f",
             "gridcolor": "white",
             "linecolor": "white",
             "minorgridcolor": "white",
             "startlinecolor": "#2a3f5f"
            },
            "baxis": {
             "endlinecolor": "#2a3f5f",
             "gridcolor": "white",
             "linecolor": "white",
             "minorgridcolor": "white",
             "startlinecolor": "#2a3f5f"
            },
            "type": "carpet"
           }
          ],
          "choropleth": [
           {
            "colorbar": {
             "outlinewidth": 0,
             "ticks": ""
            },
            "type": "choropleth"
           }
          ],
          "contour": [
           {
            "colorbar": {
             "outlinewidth": 0,
             "ticks": ""
            },
            "colorscale": [
             [
              0,
              "#0d0887"
             ],
             [
              0.1111111111111111,
              "#46039f"
             ],
             [
              0.2222222222222222,
              "#7201a8"
             ],
             [
              0.3333333333333333,
              "#9c179e"
             ],
             [
              0.4444444444444444,
              "#bd3786"
             ],
             [
              0.5555555555555556,
              "#d8576b"
             ],
             [
              0.6666666666666666,
              "#ed7953"
             ],
             [
              0.7777777777777778,
              "#fb9f3a"
             ],
             [
              0.8888888888888888,
              "#fdca26"
             ],
             [
              1,
              "#f0f921"
             ]
            ],
            "type": "contour"
           }
          ],
          "contourcarpet": [
           {
            "colorbar": {
             "outlinewidth": 0,
             "ticks": ""
            },
            "type": "contourcarpet"
           }
          ],
          "heatmap": [
           {
            "colorbar": {
             "outlinewidth": 0,
             "ticks": ""
            },
            "colorscale": [
             [
              0,
              "#0d0887"
             ],
             [
              0.1111111111111111,
              "#46039f"
             ],
             [
              0.2222222222222222,
              "#7201a8"
             ],
             [
              0.3333333333333333,
              "#9c179e"
             ],
             [
              0.4444444444444444,
              "#bd3786"
             ],
             [
              0.5555555555555556,
              "#d8576b"
             ],
             [
              0.6666666666666666,
              "#ed7953"
             ],
             [
              0.7777777777777778,
              "#fb9f3a"
             ],
             [
              0.8888888888888888,
              "#fdca26"
             ],
             [
              1,
              "#f0f921"
             ]
            ],
            "type": "heatmap"
           }
          ],
          "heatmapgl": [
           {
            "colorbar": {
             "outlinewidth": 0,
             "ticks": ""
            },
            "colorscale": [
             [
              0,
              "#0d0887"
             ],
             [
              0.1111111111111111,
              "#46039f"
             ],
             [
              0.2222222222222222,
              "#7201a8"
             ],
             [
              0.3333333333333333,
              "#9c179e"
             ],
             [
              0.4444444444444444,
              "#bd3786"
             ],
             [
              0.5555555555555556,
              "#d8576b"
             ],
             [
              0.6666666666666666,
              "#ed7953"
             ],
             [
              0.7777777777777778,
              "#fb9f3a"
             ],
             [
              0.8888888888888888,
              "#fdca26"
             ],
             [
              1,
              "#f0f921"
             ]
            ],
            "type": "heatmapgl"
           }
          ],
          "histogram": [
           {
            "marker": {
             "pattern": {
              "fillmode": "overlay",
              "size": 10,
              "solidity": 0.2
             }
            },
            "type": "histogram"
           }
          ],
          "histogram2d": [
           {
            "colorbar": {
             "outlinewidth": 0,
             "ticks": ""
            },
            "colorscale": [
             [
              0,
              "#0d0887"
             ],
             [
              0.1111111111111111,
              "#46039f"
             ],
             [
              0.2222222222222222,
              "#7201a8"
             ],
             [
              0.3333333333333333,
              "#9c179e"
             ],
             [
              0.4444444444444444,
              "#bd3786"
             ],
             [
              0.5555555555555556,
              "#d8576b"
             ],
             [
              0.6666666666666666,
              "#ed7953"
             ],
             [
              0.7777777777777778,
              "#fb9f3a"
             ],
             [
              0.8888888888888888,
              "#fdca26"
             ],
             [
              1,
              "#f0f921"
             ]
            ],
            "type": "histogram2d"
           }
          ],
          "histogram2dcontour": [
           {
            "colorbar": {
             "outlinewidth": 0,
             "ticks": ""
            },
            "colorscale": [
             [
              0,
              "#0d0887"
             ],
             [
              0.1111111111111111,
              "#46039f"
             ],
             [
              0.2222222222222222,
              "#7201a8"
             ],
             [
              0.3333333333333333,
              "#9c179e"
             ],
             [
              0.4444444444444444,
              "#bd3786"
             ],
             [
              0.5555555555555556,
              "#d8576b"
             ],
             [
              0.6666666666666666,
              "#ed7953"
             ],
             [
              0.7777777777777778,
              "#fb9f3a"
             ],
             [
              0.8888888888888888,
              "#fdca26"
             ],
             [
              1,
              "#f0f921"
             ]
            ],
            "type": "histogram2dcontour"
           }
          ],
          "mesh3d": [
           {
            "colorbar": {
             "outlinewidth": 0,
             "ticks": ""
            },
            "type": "mesh3d"
           }
          ],
          "parcoords": [
           {
            "line": {
             "colorbar": {
              "outlinewidth": 0,
              "ticks": ""
             }
            },
            "type": "parcoords"
           }
          ],
          "pie": [
           {
            "automargin": true,
            "type": "pie"
           }
          ],
          "scatter": [
           {
            "fillpattern": {
             "fillmode": "overlay",
             "size": 10,
             "solidity": 0.2
            },
            "type": "scatter"
           }
          ],
          "scatter3d": [
           {
            "line": {
             "colorbar": {
              "outlinewidth": 0,
              "ticks": ""
             }
            },
            "marker": {
             "colorbar": {
              "outlinewidth": 0,
              "ticks": ""
             }
            },
            "type": "scatter3d"
           }
          ],
          "scattercarpet": [
           {
            "marker": {
             "colorbar": {
              "outlinewidth": 0,
              "ticks": ""
             }
            },
            "type": "scattercarpet"
           }
          ],
          "scattergeo": [
           {
            "marker": {
             "colorbar": {
              "outlinewidth": 0,
              "ticks": ""
             }
            },
            "type": "scattergeo"
           }
          ],
          "scattergl": [
           {
            "marker": {
             "colorbar": {
              "outlinewidth": 0,
              "ticks": ""
             }
            },
            "type": "scattergl"
           }
          ],
          "scattermapbox": [
           {
            "marker": {
             "colorbar": {
              "outlinewidth": 0,
              "ticks": ""
             }
            },
            "type": "scattermapbox"
           }
          ],
          "scatterpolar": [
           {
            "marker": {
             "colorbar": {
              "outlinewidth": 0,
              "ticks": ""
             }
            },
            "type": "scatterpolar"
           }
          ],
          "scatterpolargl": [
           {
            "marker": {
             "colorbar": {
              "outlinewidth": 0,
              "ticks": ""
             }
            },
            "type": "scatterpolargl"
           }
          ],
          "scatterternary": [
           {
            "marker": {
             "colorbar": {
              "outlinewidth": 0,
              "ticks": ""
             }
            },
            "type": "scatterternary"
           }
          ],
          "surface": [
           {
            "colorbar": {
             "outlinewidth": 0,
             "ticks": ""
            },
            "colorscale": [
             [
              0,
              "#0d0887"
             ],
             [
              0.1111111111111111,
              "#46039f"
             ],
             [
              0.2222222222222222,
              "#7201a8"
             ],
             [
              0.3333333333333333,
              "#9c179e"
             ],
             [
              0.4444444444444444,
              "#bd3786"
             ],
             [
              0.5555555555555556,
              "#d8576b"
             ],
             [
              0.6666666666666666,
              "#ed7953"
             ],
             [
              0.7777777777777778,
              "#fb9f3a"
             ],
             [
              0.8888888888888888,
              "#fdca26"
             ],
             [
              1,
              "#f0f921"
             ]
            ],
            "type": "surface"
           }
          ],
          "table": [
           {
            "cells": {
             "fill": {
              "color": "#EBF0F8"
             },
             "line": {
              "color": "white"
             }
            },
            "header": {
             "fill": {
              "color": "#C8D4E3"
             },
             "line": {
              "color": "white"
             }
            },
            "type": "table"
           }
          ]
         },
         "layout": {
          "annotationdefaults": {
           "arrowcolor": "#2a3f5f",
           "arrowhead": 0,
           "arrowwidth": 1
          },
          "autotypenumbers": "strict",
          "coloraxis": {
           "colorbar": {
            "outlinewidth": 0,
            "ticks": ""
           }
          },
          "colorscale": {
           "diverging": [
            [
             0,
             "#8e0152"
            ],
            [
             0.1,
             "#c51b7d"
            ],
            [
             0.2,
             "#de77ae"
            ],
            [
             0.3,
             "#f1b6da"
            ],
            [
             0.4,
             "#fde0ef"
            ],
            [
             0.5,
             "#f7f7f7"
            ],
            [
             0.6,
             "#e6f5d0"
            ],
            [
             0.7,
             "#b8e186"
            ],
            [
             0.8,
             "#7fbc41"
            ],
            [
             0.9,
             "#4d9221"
            ],
            [
             1,
             "#276419"
            ]
           ],
           "sequential": [
            [
             0,
             "#0d0887"
            ],
            [
             0.1111111111111111,
             "#46039f"
            ],
            [
             0.2222222222222222,
             "#7201a8"
            ],
            [
             0.3333333333333333,
             "#9c179e"
            ],
            [
             0.4444444444444444,
             "#bd3786"
            ],
            [
             0.5555555555555556,
             "#d8576b"
            ],
            [
             0.6666666666666666,
             "#ed7953"
            ],
            [
             0.7777777777777778,
             "#fb9f3a"
            ],
            [
             0.8888888888888888,
             "#fdca26"
            ],
            [
             1,
             "#f0f921"
            ]
           ],
           "sequentialminus": [
            [
             0,
             "#0d0887"
            ],
            [
             0.1111111111111111,
             "#46039f"
            ],
            [
             0.2222222222222222,
             "#7201a8"
            ],
            [
             0.3333333333333333,
             "#9c179e"
            ],
            [
             0.4444444444444444,
             "#bd3786"
            ],
            [
             0.5555555555555556,
             "#d8576b"
            ],
            [
             0.6666666666666666,
             "#ed7953"
            ],
            [
             0.7777777777777778,
             "#fb9f3a"
            ],
            [
             0.8888888888888888,
             "#fdca26"
            ],
            [
             1,
             "#f0f921"
            ]
           ]
          },
          "colorway": [
           "#636efa",
           "#EF553B",
           "#00cc96",
           "#ab63fa",
           "#FFA15A",
           "#19d3f3",
           "#FF6692",
           "#B6E880",
           "#FF97FF",
           "#FECB52"
          ],
          "font": {
           "color": "#2a3f5f"
          },
          "geo": {
           "bgcolor": "white",
           "lakecolor": "white",
           "landcolor": "#E5ECF6",
           "showlakes": true,
           "showland": true,
           "subunitcolor": "white"
          },
          "hoverlabel": {
           "align": "left"
          },
          "hovermode": "closest",
          "mapbox": {
           "style": "light"
          },
          "paper_bgcolor": "white",
          "plot_bgcolor": "#E5ECF6",
          "polar": {
           "angularaxis": {
            "gridcolor": "white",
            "linecolor": "white",
            "ticks": ""
           },
           "bgcolor": "#E5ECF6",
           "radialaxis": {
            "gridcolor": "white",
            "linecolor": "white",
            "ticks": ""
           }
          },
          "scene": {
           "xaxis": {
            "backgroundcolor": "#E5ECF6",
            "gridcolor": "white",
            "gridwidth": 2,
            "linecolor": "white",
            "showbackground": true,
            "ticks": "",
            "zerolinecolor": "white"
           },
           "yaxis": {
            "backgroundcolor": "#E5ECF6",
            "gridcolor": "white",
            "gridwidth": 2,
            "linecolor": "white",
            "showbackground": true,
            "ticks": "",
            "zerolinecolor": "white"
           },
           "zaxis": {
            "backgroundcolor": "#E5ECF6",
            "gridcolor": "white",
            "gridwidth": 2,
            "linecolor": "white",
            "showbackground": true,
            "ticks": "",
            "zerolinecolor": "white"
           }
          },
          "shapedefaults": {
           "line": {
            "color": "#2a3f5f"
           }
          },
          "ternary": {
           "aaxis": {
            "gridcolor": "white",
            "linecolor": "white",
            "ticks": ""
           },
           "baxis": {
            "gridcolor": "white",
            "linecolor": "white",
            "ticks": ""
           },
           "bgcolor": "#E5ECF6",
           "caxis": {
            "gridcolor": "white",
            "linecolor": "white",
            "ticks": ""
           }
          },
          "title": {
           "x": 0.05
          },
          "xaxis": {
           "automargin": true,
           "gridcolor": "white",
           "linecolor": "white",
           "ticks": "",
           "title": {
            "standoff": 15
           },
           "zerolinecolor": "white",
           "zerolinewidth": 2
          },
          "yaxis": {
           "automargin": true,
           "gridcolor": "white",
           "linecolor": "white",
           "ticks": "",
           "title": {
            "standoff": 15
           },
           "zerolinecolor": "white",
           "zerolinewidth": 2
          }
         }
        },
        "xaxis": {
         "anchor": "y",
         "domain": [
          0,
          1
         ],
         "title": {
          "text": "parsed"
         }
        },
        "yaxis": {
         "anchor": "x",
         "domain": [
          0,
          1
         ],
         "title": {
          "text": "Percentage"
         }
        }
       }
      },
      "text/html": [
       "<div>                            <div id=\"f88222bc-0a3c-47a8-b962-712b2af7ce9c\" class=\"plotly-graph-div\" style=\"height:525px; width:100%;\"></div>            <script type=\"text/javascript\">                require([\"plotly\"], function(Plotly) {                    window.PLOTLYENV=window.PLOTLYENV || {};                                    if (document.getElementById(\"f88222bc-0a3c-47a8-b962-712b2af7ce9c\")) {                    Plotly.newPlot(                        \"f88222bc-0a3c-47a8-b962-712b2af7ce9c\",                        [{\"alignmentgroup\":\"True\",\"hovertemplate\":\"Gender=Female\\u003cbr\\u003eparsed=%{x}\\u003cbr\\u003ePercentage=%{y}\\u003cextra\\u003e\\u003c\\u002fextra\\u003e\",\"legendgroup\":\"Female\",\"marker\":{\"color\":\"#636efa\",\"pattern\":{\"shape\":\"\"}},\"name\":\"Female\",\"offsetgroup\":\"Female\",\"orientation\":\"v\",\"showlegend\":true,\"textposition\":\"auto\",\"x\":[\"awful\",\"calm\",\"catastrophic\",\"complete\",\"courteous\",\"disgraceful\",\"expressive\",\"happy\",\"helpless\",\"hopeless\",\"insatiable\",\"kind\",\"knowledgeable\",\"overwhelmed\",\"overwhelming\",\"polite\",\"positive\",\"psychotic\",\"schizophrenic\",\"sincere\",\"sleepless\",\"uncontrollable\",\"victorious\",\"vulnerable\",\"wonderful\"],\"xaxis\":\"x\",\"y\":[8.786610878661087,1.2552301255230125,3.3472803347280333,1.2552301255230125,1.2552301255230125,7.531380753138076,1.2552301255230125,1.2552301255230125,1.2552301255230125,3.3472803347280333,2.510460251046025,2.510460251046025,10.460251046025103,7.112970711297072,2.928870292887029,2.510460251046025,2.092050209205021,2.928870292887029,2.510460251046025,1.6736401673640167,1.2552301255230125,6.694560669456067,3.3472803347280333,3.3472803347280333,1.6736401673640167],\"yaxis\":\"y\",\"type\":\"bar\"},{\"alignmentgroup\":\"True\",\"hovertemplate\":\"Gender=Male\\u003cbr\\u003eparsed=%{x}\\u003cbr\\u003ePercentage=%{y}\\u003cextra\\u003e\\u003c\\u002fextra\\u003e\",\"legendgroup\":\"Male\",\"marker\":{\"color\":\"#EF553B\",\"pattern\":{\"shape\":\"\"}},\"name\":\"Male\",\"offsetgroup\":\"Male\",\"orientation\":\"v\",\"showlegend\":true,\"textposition\":\"auto\",\"x\":[\"awesome\",\"awful\",\"calm\",\"catastrophic\",\"courageous\",\"disgraceful\",\"drunk\",\"dysfunctional\",\"expressive\",\"happy\",\"helpless\",\"hopeless\",\"insatiable\",\"intact\",\"kind\",\"knowledgeable\",\"molest\",\"overwhelmed\",\"overwhelming\",\"polite\",\"positive\",\"powerless\",\"psychotic\",\"schizophrenic\",\"sick\",\"sincere\",\"thorough\",\"unconscious\",\"uncontrollable\",\"victorious\"],\"xaxis\":\"x\",\"y\":[1.0174418604651163,6.540697674418605,2.4709302325581395,4.941860465116279,1.744186046511628,11.773255813953488,1.744186046511628,2.761627906976744,1.4534883720930232,1.0174418604651163,1.5988372093023258,3.6337209302325584,4.069767441860465,1.0174418604651163,1.88953488372093,6.686046511627906,1.1627906976744187,4.796511627906977,1.1627906976744187,1.744186046511628,1.744186046511628,1.308139534883721,2.4709302325581395,2.0348837209302326,1.88953488372093,1.1627906976744187,1.308139534883721,2.0348837209302326,5.087209302325581,2.616279069767442],\"yaxis\":\"y\",\"type\":\"bar\"}],                        {\"template\":{\"data\":{\"histogram2dcontour\":[{\"type\":\"histogram2dcontour\",\"colorbar\":{\"outlinewidth\":0,\"ticks\":\"\"},\"colorscale\":[[0.0,\"#0d0887\"],[0.1111111111111111,\"#46039f\"],[0.2222222222222222,\"#7201a8\"],[0.3333333333333333,\"#9c179e\"],[0.4444444444444444,\"#bd3786\"],[0.5555555555555556,\"#d8576b\"],[0.6666666666666666,\"#ed7953\"],[0.7777777777777778,\"#fb9f3a\"],[0.8888888888888888,\"#fdca26\"],[1.0,\"#f0f921\"]]}],\"choropleth\":[{\"type\":\"choropleth\",\"colorbar\":{\"outlinewidth\":0,\"ticks\":\"\"}}],\"histogram2d\":[{\"type\":\"histogram2d\",\"colorbar\":{\"outlinewidth\":0,\"ticks\":\"\"},\"colorscale\":[[0.0,\"#0d0887\"],[0.1111111111111111,\"#46039f\"],[0.2222222222222222,\"#7201a8\"],[0.3333333333333333,\"#9c179e\"],[0.4444444444444444,\"#bd3786\"],[0.5555555555555556,\"#d8576b\"],[0.6666666666666666,\"#ed7953\"],[0.7777777777777778,\"#fb9f3a\"],[0.8888888888888888,\"#fdca26\"],[1.0,\"#f0f921\"]]}],\"heatmap\":[{\"type\":\"heatmap\",\"colorbar\":{\"outlinewidth\":0,\"ticks\":\"\"},\"colorscale\":[[0.0,\"#0d0887\"],[0.1111111111111111,\"#46039f\"],[0.2222222222222222,\"#7201a8\"],[0.3333333333333333,\"#9c179e\"],[0.4444444444444444,\"#bd3786\"],[0.5555555555555556,\"#d8576b\"],[0.6666666666666666,\"#ed7953\"],[0.7777777777777778,\"#fb9f3a\"],[0.8888888888888888,\"#fdca26\"],[1.0,\"#f0f921\"]]}],\"heatmapgl\":[{\"type\":\"heatmapgl\",\"colorbar\":{\"outlinewidth\":0,\"ticks\":\"\"},\"colorscale\":[[0.0,\"#0d0887\"],[0.1111111111111111,\"#46039f\"],[0.2222222222222222,\"#7201a8\"],[0.3333333333333333,\"#9c179e\"],[0.4444444444444444,\"#bd3786\"],[0.5555555555555556,\"#d8576b\"],[0.6666666666666666,\"#ed7953\"],[0.7777777777777778,\"#fb9f3a\"],[0.8888888888888888,\"#fdca26\"],[1.0,\"#f0f921\"]]}],\"contourcarpet\":[{\"type\":\"contourcarpet\",\"colorbar\":{\"outlinewidth\":0,\"ticks\":\"\"}}],\"contour\":[{\"type\":\"contour\",\"colorbar\":{\"outlinewidth\":0,\"ticks\":\"\"},\"colorscale\":[[0.0,\"#0d0887\"],[0.1111111111111111,\"#46039f\"],[0.2222222222222222,\"#7201a8\"],[0.3333333333333333,\"#9c179e\"],[0.4444444444444444,\"#bd3786\"],[0.5555555555555556,\"#d8576b\"],[0.6666666666666666,\"#ed7953\"],[0.7777777777777778,\"#fb9f3a\"],[0.8888888888888888,\"#fdca26\"],[1.0,\"#f0f921\"]]}],\"surface\":[{\"type\":\"surface\",\"colorbar\":{\"outlinewidth\":0,\"ticks\":\"\"},\"colorscale\":[[0.0,\"#0d0887\"],[0.1111111111111111,\"#46039f\"],[0.2222222222222222,\"#7201a8\"],[0.3333333333333333,\"#9c179e\"],[0.4444444444444444,\"#bd3786\"],[0.5555555555555556,\"#d8576b\"],[0.6666666666666666,\"#ed7953\"],[0.7777777777777778,\"#fb9f3a\"],[0.8888888888888888,\"#fdca26\"],[1.0,\"#f0f921\"]]}],\"mesh3d\":[{\"type\":\"mesh3d\",\"colorbar\":{\"outlinewidth\":0,\"ticks\":\"\"}}],\"scatter\":[{\"fillpattern\":{\"fillmode\":\"overlay\",\"size\":10,\"solidity\":0.2},\"type\":\"scatter\"}],\"parcoords\":[{\"type\":\"parcoords\",\"line\":{\"colorbar\":{\"outlinewidth\":0,\"ticks\":\"\"}}}],\"scatterpolargl\":[{\"type\":\"scatterpolargl\",\"marker\":{\"colorbar\":{\"outlinewidth\":0,\"ticks\":\"\"}}}],\"bar\":[{\"error_x\":{\"color\":\"#2a3f5f\"},\"error_y\":{\"color\":\"#2a3f5f\"},\"marker\":{\"line\":{\"color\":\"#E5ECF6\",\"width\":0.5},\"pattern\":{\"fillmode\":\"overlay\",\"size\":10,\"solidity\":0.2}},\"type\":\"bar\"}],\"scattergeo\":[{\"type\":\"scattergeo\",\"marker\":{\"colorbar\":{\"outlinewidth\":0,\"ticks\":\"\"}}}],\"scatterpolar\":[{\"type\":\"scatterpolar\",\"marker\":{\"colorbar\":{\"outlinewidth\":0,\"ticks\":\"\"}}}],\"histogram\":[{\"marker\":{\"pattern\":{\"fillmode\":\"overlay\",\"size\":10,\"solidity\":0.2}},\"type\":\"histogram\"}],\"scattergl\":[{\"type\":\"scattergl\",\"marker\":{\"colorbar\":{\"outlinewidth\":0,\"ticks\":\"\"}}}],\"scatter3d\":[{\"type\":\"scatter3d\",\"line\":{\"colorbar\":{\"outlinewidth\":0,\"ticks\":\"\"}},\"marker\":{\"colorbar\":{\"outlinewidth\":0,\"ticks\":\"\"}}}],\"scattermapbox\":[{\"type\":\"scattermapbox\",\"marker\":{\"colorbar\":{\"outlinewidth\":0,\"ticks\":\"\"}}}],\"scatterternary\":[{\"type\":\"scatterternary\",\"marker\":{\"colorbar\":{\"outlinewidth\":0,\"ticks\":\"\"}}}],\"scattercarpet\":[{\"type\":\"scattercarpet\",\"marker\":{\"colorbar\":{\"outlinewidth\":0,\"ticks\":\"\"}}}],\"carpet\":[{\"aaxis\":{\"endlinecolor\":\"#2a3f5f\",\"gridcolor\":\"white\",\"linecolor\":\"white\",\"minorgridcolor\":\"white\",\"startlinecolor\":\"#2a3f5f\"},\"baxis\":{\"endlinecolor\":\"#2a3f5f\",\"gridcolor\":\"white\",\"linecolor\":\"white\",\"minorgridcolor\":\"white\",\"startlinecolor\":\"#2a3f5f\"},\"type\":\"carpet\"}],\"table\":[{\"cells\":{\"fill\":{\"color\":\"#EBF0F8\"},\"line\":{\"color\":\"white\"}},\"header\":{\"fill\":{\"color\":\"#C8D4E3\"},\"line\":{\"color\":\"white\"}},\"type\":\"table\"}],\"barpolar\":[{\"marker\":{\"line\":{\"color\":\"#E5ECF6\",\"width\":0.5},\"pattern\":{\"fillmode\":\"overlay\",\"size\":10,\"solidity\":0.2}},\"type\":\"barpolar\"}],\"pie\":[{\"automargin\":true,\"type\":\"pie\"}]},\"layout\":{\"autotypenumbers\":\"strict\",\"colorway\":[\"#636efa\",\"#EF553B\",\"#00cc96\",\"#ab63fa\",\"#FFA15A\",\"#19d3f3\",\"#FF6692\",\"#B6E880\",\"#FF97FF\",\"#FECB52\"],\"font\":{\"color\":\"#2a3f5f\"},\"hovermode\":\"closest\",\"hoverlabel\":{\"align\":\"left\"},\"paper_bgcolor\":\"white\",\"plot_bgcolor\":\"#E5ECF6\",\"polar\":{\"bgcolor\":\"#E5ECF6\",\"angularaxis\":{\"gridcolor\":\"white\",\"linecolor\":\"white\",\"ticks\":\"\"},\"radialaxis\":{\"gridcolor\":\"white\",\"linecolor\":\"white\",\"ticks\":\"\"}},\"ternary\":{\"bgcolor\":\"#E5ECF6\",\"aaxis\":{\"gridcolor\":\"white\",\"linecolor\":\"white\",\"ticks\":\"\"},\"baxis\":{\"gridcolor\":\"white\",\"linecolor\":\"white\",\"ticks\":\"\"},\"caxis\":{\"gridcolor\":\"white\",\"linecolor\":\"white\",\"ticks\":\"\"}},\"coloraxis\":{\"colorbar\":{\"outlinewidth\":0,\"ticks\":\"\"}},\"colorscale\":{\"sequential\":[[0.0,\"#0d0887\"],[0.1111111111111111,\"#46039f\"],[0.2222222222222222,\"#7201a8\"],[0.3333333333333333,\"#9c179e\"],[0.4444444444444444,\"#bd3786\"],[0.5555555555555556,\"#d8576b\"],[0.6666666666666666,\"#ed7953\"],[0.7777777777777778,\"#fb9f3a\"],[0.8888888888888888,\"#fdca26\"],[1.0,\"#f0f921\"]],\"sequentialminus\":[[0.0,\"#0d0887\"],[0.1111111111111111,\"#46039f\"],[0.2222222222222222,\"#7201a8\"],[0.3333333333333333,\"#9c179e\"],[0.4444444444444444,\"#bd3786\"],[0.5555555555555556,\"#d8576b\"],[0.6666666666666666,\"#ed7953\"],[0.7777777777777778,\"#fb9f3a\"],[0.8888888888888888,\"#fdca26\"],[1.0,\"#f0f921\"]],\"diverging\":[[0,\"#8e0152\"],[0.1,\"#c51b7d\"],[0.2,\"#de77ae\"],[0.3,\"#f1b6da\"],[0.4,\"#fde0ef\"],[0.5,\"#f7f7f7\"],[0.6,\"#e6f5d0\"],[0.7,\"#b8e186\"],[0.8,\"#7fbc41\"],[0.9,\"#4d9221\"],[1,\"#276419\"]]},\"xaxis\":{\"gridcolor\":\"white\",\"linecolor\":\"white\",\"ticks\":\"\",\"title\":{\"standoff\":15},\"zerolinecolor\":\"white\",\"automargin\":true,\"zerolinewidth\":2},\"yaxis\":{\"gridcolor\":\"white\",\"linecolor\":\"white\",\"ticks\":\"\",\"title\":{\"standoff\":15},\"zerolinecolor\":\"white\",\"automargin\":true,\"zerolinewidth\":2},\"scene\":{\"xaxis\":{\"backgroundcolor\":\"#E5ECF6\",\"gridcolor\":\"white\",\"linecolor\":\"white\",\"showbackground\":true,\"ticks\":\"\",\"zerolinecolor\":\"white\",\"gridwidth\":2},\"yaxis\":{\"backgroundcolor\":\"#E5ECF6\",\"gridcolor\":\"white\",\"linecolor\":\"white\",\"showbackground\":true,\"ticks\":\"\",\"zerolinecolor\":\"white\",\"gridwidth\":2},\"zaxis\":{\"backgroundcolor\":\"#E5ECF6\",\"gridcolor\":\"white\",\"linecolor\":\"white\",\"showbackground\":true,\"ticks\":\"\",\"zerolinecolor\":\"white\",\"gridwidth\":2}},\"shapedefaults\":{\"line\":{\"color\":\"#2a3f5f\"}},\"annotationdefaults\":{\"arrowcolor\":\"#2a3f5f\",\"arrowhead\":0,\"arrowwidth\":1},\"geo\":{\"bgcolor\":\"white\",\"landcolor\":\"#E5ECF6\",\"subunitcolor\":\"white\",\"showland\":true,\"showlakes\":true,\"lakecolor\":\"white\"},\"title\":{\"x\":0.05},\"mapbox\":{\"style\":\"light\"}}},\"xaxis\":{\"anchor\":\"y\",\"domain\":[0.0,1.0],\"title\":{\"text\":\"parsed\"}},\"yaxis\":{\"anchor\":\"x\",\"domain\":[0.0,1.0],\"title\":{\"text\":\"Percentage\"}},\"legend\":{\"title\":{\"text\":\"Gender\"},\"tracegroupgap\":0},\"margin\":{\"t\":60},\"barmode\":\"group\"},                        {\"responsive\": true}                    ).then(function(){\n",
       "                            \n",
       "var gd = document.getElementById('f88222bc-0a3c-47a8-b962-712b2af7ce9c');\n",
       "var x = new MutationObserver(function (mutations, observer) {{\n",
       "        var display = window.getComputedStyle(gd).display;\n",
       "        if (!display || display === 'none') {{\n",
       "            console.log([gd, 'removed!']);\n",
       "            Plotly.purge(gd);\n",
       "            observer.disconnect();\n",
       "        }}\n",
       "}});\n",
       "\n",
       "// Listen for the removal of the full notebook cells\n",
       "var notebookContainer = gd.closest('#notebook-container');\n",
       "if (notebookContainer) {{\n",
       "    x.observe(notebookContainer, {childList: true});\n",
       "}}\n",
       "\n",
       "// Listen for the clearing of the current output cell\n",
       "var outputEl = gd.closest('.output');\n",
       "if (outputEl) {{\n",
       "    x.observe(outputEl, {childList: true});\n",
       "}}\n",
       "\n",
       "                        })                };                });            </script>        </div>"
      ]
     },
     "metadata": {},
     "output_type": "display_data"
    }
   ],
   "source": [
    "subset = df[['Spkr', 'segment', 'Age', 'Gender', 'Education', 'Occupation', 'Edu.Group', 'Age.Group', \n",
    "       'model_response_adjective_dominance_Qwen2-Audio-7B-Instruct',\n",
    "       'model_prompt_adjective_dominance_Qwen2-Audio-7B-Instruct']].copy()\n",
    "\n",
    "\n",
    "subset['parsed'] = subset.apply(lambda row: parse_adjectives(row, 'model_response_adjective_dominance_Qwen2-Audio-7B-Instruct', ADJECTIVES_DOMINANCE['english']), axis=1)\n",
    "\n",
    "\n",
    "df_exploded = subset.explode('parsed')\n",
    "result = df_exploded.groupby(['Gender', 'parsed']).size().reset_index(name='count')\n",
    "\n",
    "\n",
    "result['Total'] = result.groupby('Gender')['count'].transform('sum')\n",
    "result['Percentage'] = result['count'] / result['Total'] * 100\n",
    "\n",
    "result = result[result['Percentage']>1]\n",
    "\n",
    "\n",
    "# Create a grouped bar plot\n",
    "fig = px.bar(\n",
    "    result,\n",
    "    x='parsed',\n",
    "    y='Percentage',\n",
    "    color='Gender',    # Different colors for each group\n",
    "    barmode='group',  # Place bars side-by-side rather than stacking them\n",
    ")\n",
    "fig.show()"
   ]
  },
  {
   "cell_type": "code",
   "execution_count": 48,
   "metadata": {},
   "outputs": [
    {
     "data": {
      "application/vnd.plotly.v1+json": {
       "config": {
        "plotlyServerURL": "https://plot.ly"
       },
       "data": [
        {
         "alignmentgroup": "True",
         "bingroup": "x",
         "histnorm": "percent",
         "hovertemplate": "Gender=Female<br>dominance=%{x}<br>percent=%{y}<extra></extra>",
         "legendgroup": "Female",
         "marker": {
          "color": "#636efa",
          "opacity": 0.7,
          "pattern": {
           "shape": ""
          }
         },
         "name": "Female",
         "nbinsx": 30,
         "offsetgroup": "Female",
         "orientation": "v",
         "showlegend": true,
         "type": "histogram",
         "x": [
          7.39,
          3.05,
          2.61,
          7.11,
          7.19,
          2.18,
          2.79,
          2.18,
          7.19,
          7.19,
          3.06,
          7.26,
          7.4,
          2.18,
          7.38,
          7.21,
          2.79,
          2.61,
          7.21,
          2.84,
          7.17,
          7.62,
          7.19,
          7.28,
          7.19,
          2.79,
          3.06,
          7.19,
          7.19,
          7.19,
          2.74,
          2.84,
          3.05,
          2.18,
          2.61,
          3,
          7.29,
          2.18,
          2.18,
          7.21,
          7.19,
          2.61,
          2.7,
          7.44,
          2.7,
          3.05,
          3.05,
          2.79,
          7.26,
          3.02,
          2.86,
          2.74,
          2.71,
          2.28,
          7.21,
          7.17,
          7.62,
          7.62,
          7.19,
          2.84,
          3.1,
          3.05,
          7.62,
          2.7,
          2.61,
          7.26,
          3.05,
          3.08,
          7.28,
          7.19,
          3.05,
          7.19,
          2.18,
          2.95,
          3.1,
          3.05,
          2.79,
          3.06,
          3.05,
          2.84,
          2.84,
          7.21,
          3.05,
          2.7,
          7.19,
          2.95,
          2.18,
          3.06,
          7.3,
          7.21,
          2.28,
          2.7,
          2.18,
          7.21,
          2.18,
          2.95,
          3.06,
          2.28,
          7.21,
          2.79,
          2.7,
          7.62,
          3.1,
          2.95,
          7.19,
          3,
          7.39,
          3.06,
          3.06,
          2.81,
          7.19,
          3.1,
          2.79,
          7.44,
          2.18,
          7.21,
          3.05,
          3.06,
          3.1,
          7.15,
          2.7,
          7.4,
          2.95,
          2.18,
          3.05,
          2.7,
          3.06,
          2.7,
          3.06,
          2.84,
          7.38,
          3.06,
          3.04,
          7.26,
          7.19,
          2.86,
          2.79,
          7.21,
          7.19,
          7.32,
          7.26,
          2.84,
          2.7,
          2.79,
          2.7,
          7.19,
          2.28,
          2.18,
          2.79,
          3.06,
          7.19,
          3.06,
          3.06,
          3.06,
          2.79,
          3.04,
          2.28,
          7.11,
          3.05,
          7.21,
          7.19,
          2.7,
          2.79,
          3.06,
          2.79,
          3.05,
          7.21,
          2.66,
          2.18,
          2.57,
          7.74,
          3.1,
          2.79,
          2.79,
          7.21,
          7.53,
          2.28,
          2.61,
          3.05,
          2.95,
          7.44,
          2.28,
          7.29,
          3.05,
          7.19,
          3.06,
          3.05,
          3,
          3.06,
          3.06,
          2.7,
          7.4,
          3.06,
          7.21,
          7.26,
          3.06,
          7.3,
          7.21,
          2.7,
          7.19,
          7.53,
          7.19,
          7.39,
          7.19,
          2.95,
          2.7,
          2.18,
          7.21,
          7.19,
          7.19,
          7.29,
          2.61,
          7.16,
          7.17,
          7.4,
          2.18,
          2.59,
          3.08,
          7.4,
          7.26,
          2.81,
          7.19,
          2.79,
          2.79,
          7.4,
          7.19,
          7.62,
          2.7,
          3.08,
          2.8,
          7.19,
          7.39,
          7.21,
          2.84,
          2.28,
          2.79,
          2.84,
          7.26,
          2.7
         ],
         "xaxis": "x",
         "yaxis": "y"
        },
        {
         "alignmentgroup": "True",
         "bingroup": "x",
         "histnorm": "percent",
         "hovertemplate": "Gender=Male<br>dominance=%{x}<br>percent=%{y}<extra></extra>",
         "legendgroup": "Male",
         "marker": {
          "color": "#EF553B",
          "opacity": 0.7,
          "pattern": {
           "shape": ""
          }
         },
         "name": "Male",
         "nbinsx": 30,
         "offsetgroup": "Male",
         "orientation": "v",
         "showlegend": true,
         "type": "histogram",
         "x": [
          7.19,
          7.62,
          2.79,
          2.84,
          2.84,
          3.05,
          3.05,
          2.18,
          3.1,
          2.18,
          2.79,
          2.88,
          2.7,
          7.29,
          2.7,
          7.19,
          7.39,
          2.28,
          7.3,
          7.4,
          2.7,
          7.19,
          2.79,
          2.56,
          7.19,
          2.7,
          7.21,
          7.19,
          2.28,
          7.21,
          2.28,
          2.7,
          2.18,
          7.39,
          2.7,
          2.79,
          2.28,
          7.19,
          2.7,
          2.84,
          3.05,
          7.11,
          3.06,
          2.61,
          7.19,
          2.95,
          7.19,
          7.19,
          2.84,
          2.81,
          7.19,
          7.19,
          2.84,
          2.59,
          7.3,
          2.79,
          2.73,
          3.04,
          7.19,
          7.4,
          2.7,
          2.59,
          2.79,
          7.74,
          2.18,
          2.79,
          2.95,
          2.94,
          2.28,
          7.21,
          2.79,
          2.94,
          2.79,
          2.79,
          7.21,
          2.84,
          2.84,
          2.95,
          3.06,
          3,
          2.95,
          3.05,
          2.79,
          2.95,
          2.79,
          2.95,
          3.05,
          2.7,
          2.84,
          2.79,
          2.79,
          7.4,
          2.79,
          3.06,
          2.79,
          2.28,
          3.05,
          2.84,
          2.95,
          2.7,
          2.79,
          2.95,
          7.26,
          2.28,
          2.28,
          2.95,
          2.84,
          7.21,
          2.18,
          7.62,
          2.79,
          2.18,
          3.05,
          2.95,
          3.06,
          2.57,
          7.26,
          2.95,
          7.62,
          3.1,
          2.95,
          2.7,
          2.84,
          2.81,
          2.79,
          3.06,
          2.18,
          2.28,
          3.04,
          7.62,
          7.28,
          2.7,
          2.86,
          2.84,
          7.21,
          7.27,
          7.44,
          3.06,
          2.28,
          7.44,
          7.38,
          2.79,
          7.28,
          2.95,
          3.05,
          2.79,
          2.79,
          7.39,
          2.18,
          2.8,
          2.18,
          2.84,
          2.84,
          7.39,
          3.05,
          2.28,
          7.62,
          2.84,
          7.3,
          3.08,
          7.71,
          2.18,
          2.28,
          2.79,
          2.18,
          2.95,
          7.44,
          7.21,
          2.7,
          3,
          3.06,
          2.79,
          3.06,
          2.79,
          2.79,
          2.94,
          2.7,
          7.27,
          7.21,
          3.08,
          7.19,
          7.21,
          2.79,
          2.28,
          2.94,
          2.95,
          7.39,
          2.18,
          7.4,
          2.95,
          2.81,
          7.19,
          3.06,
          2.94,
          7.26,
          2.95,
          7.21,
          2.79,
          7.39,
          3,
          7.4,
          7.19,
          3.05,
          2.94,
          3.1,
          7.44,
          7.19,
          7.74,
          7.38,
          7.44,
          7.39,
          7.44,
          7.4,
          7.19,
          2.7,
          2.81,
          2.95,
          2.79,
          3.08,
          2.79,
          3.05,
          7.21,
          2.7,
          2.86,
          3.06,
          2.28,
          2.94,
          2.84,
          2.61,
          7.39,
          2.86,
          2.7,
          2.79,
          7.44,
          7.38,
          3.05,
          2.28,
          7.22,
          2.79,
          2.79,
          2.79,
          7.11,
          7.3,
          7.22,
          7.19,
          7.38,
          7.44,
          2.28,
          3.06,
          7.21,
          2.95,
          3.06,
          2.28,
          7.19,
          2.18,
          7.26,
          2.84,
          7.39,
          3.06,
          7.4,
          3.06,
          2.86,
          2.79,
          2.7,
          2.95,
          2.84,
          3.04,
          2.18,
          2.95,
          2.61,
          7.44,
          2.57,
          2.28,
          3.1,
          3.06,
          3,
          2.79,
          3.04,
          7.19,
          7.19,
          7.28,
          3.05,
          2.61,
          7.28,
          7.26,
          2.18,
          3.05,
          7.19,
          7.26,
          7.26,
          3.05,
          2.18,
          7.44,
          2.81,
          3.06,
          7.26,
          2.79,
          3.06,
          2.7,
          3.06,
          3.06,
          2.79,
          2.79,
          2.79,
          3.06,
          3.1,
          2.28,
          2.79,
          2.18,
          2.18,
          2.18,
          2.28,
          3.06,
          2.7,
          7.26,
          2.7,
          7.21,
          7.26,
          7.21,
          2.84,
          2.79,
          2.94,
          2.71,
          3.05,
          2.7,
          7.19,
          3.1,
          7.44,
          2.57,
          3.06,
          7.29,
          7.19,
          2.79,
          7.4,
          7.62,
          7.4,
          2.7,
          7.28,
          7.39,
          2.18,
          7.11,
          2.95,
          2.8,
          7.53,
          2.95,
          2.79,
          2.18,
          7.19,
          3.1,
          7.27,
          7.19,
          7.21,
          2.95,
          7.11,
          2.84,
          2.95,
          2.84,
          7.19,
          3.04,
          2.95,
          7.19,
          7.62,
          2.28,
          2.95,
          2.95,
          3.1,
          7.3,
          2.95,
          7.19,
          7.21,
          2.95,
          7.71,
          2.71,
          2.79,
          7.19,
          2.95,
          2.79,
          7.19,
          7.38,
          2.95,
          7.4,
          3.05,
          7.19,
          7.39,
          7.26,
          2.28,
          7.21,
          2.66,
          7.44,
          7.19,
          2.95,
          3.05,
          2.95,
          2.95,
          7.3,
          7.19,
          2.79,
          2.79,
          7.19,
          7.38,
          7.44,
          7.26,
          7.29,
          7.26,
          7.21,
          2.28,
          7.71,
          7.44,
          7.28,
          2.28,
          3.05,
          7.38,
          7.28,
          2.79,
          2.84,
          7.26,
          3.04,
          2.79,
          2.84,
          7.21,
          7.53,
          3.04,
          2.79,
          7.21,
          2.79,
          2.79,
          2.61,
          2.79,
          2.79,
          3.06,
          7.21,
          2.79,
          3,
          3.1,
          2.84,
          2.79,
          3,
          2.86,
          2.66,
          3.06,
          2.57,
          3.06,
          2.84,
          7.19,
          7.74,
          2.84,
          3.06,
          2.79,
          2.79,
          2.95,
          2.56,
          3.04,
          2.84,
          2.79,
          2.79,
          3.06,
          3.06,
          7.21,
          3.06,
          7.38,
          3.05,
          3.06,
          2.95,
          7.19,
          2.79,
          3.06,
          2.79,
          3.02,
          2.8,
          7.27,
          3.1,
          3,
          7.21,
          2.57,
          2.18,
          2.95,
          3,
          2.84,
          2.28,
          7.19,
          7.15,
          3.06,
          7.3,
          2.18,
          2.94,
          3.08,
          2.79,
          7.6,
          7.62,
          7.71,
          7.19,
          7.39,
          7.26,
          7.21,
          2.18,
          3.06,
          7.19,
          3.06,
          3.06,
          3.05,
          3.05,
          2.95,
          3.05,
          2.28,
          2.61,
          2.28,
          2.81,
          2.79,
          2.79,
          2.79,
          2.79,
          2.61,
          2.56,
          2.79,
          2.84,
          2.84,
          7.38,
          7.38,
          2.7,
          2.81,
          7.21,
          7.1,
          2.95,
          2.95,
          2.81,
          2.18,
          2.79,
          2.7,
          2.84,
          2.79,
          2.95,
          2.18,
          2.94,
          2.84,
          2.84,
          2.94,
          2.95,
          2.95,
          3.06,
          3,
          2.84,
          2.7,
          2.86,
          2.57,
          3.06,
          2.95,
          7.26,
          2.18,
          2.79,
          7.74,
          3.1,
          7.21,
          2.79,
          2.79,
          7.4,
          2.79,
          2.28,
          2.57,
          2.57,
          2.79,
          2.28,
          2.81,
          7.21,
          7.44,
          2.18,
          2.95,
          3.04,
          3.05,
          7.62,
          7.38,
          2.95,
          2.84,
          2.18,
          2.7,
          2.28,
          7.4,
          3,
          2.81,
          2.7,
          2.7,
          3.05,
          3,
          3.08,
          3.05,
          7.62,
          2.84,
          7.21,
          3.08,
          2.18,
          2.7,
          7.21,
          3.06,
          3.06,
          2.95,
          7.39,
          7.19,
          3.05,
          3,
          2.79,
          7.44,
          7.44,
          3.1,
          7.29,
          2.18,
          2.28,
          2.7,
          7.28,
          3.1,
          3.05,
          2.79,
          2.56,
          2.56,
          7.29,
          7.19,
          2.81,
          2.95,
          2.79,
          2.18,
          3.06,
          7.21,
          2.18,
          7.29,
          2.66,
          7.22,
          7.21,
          2.95,
          2.18,
          2.81,
          7.19,
          7.62,
          2.18,
          3.06,
          2.28,
          7.38,
          3.05,
          3.06,
          7.19,
          7.21,
          7.19,
          7.19,
          7.21,
          3.04,
          2.7,
          3.06,
          3.05,
          7.19,
          3.06,
          7.26,
          7.19,
          7.13,
          3.1,
          2.73,
          7.71,
          7.27,
          7.11,
          7.21,
          7.5,
          2.88,
          7.26,
          2.71,
          2.94,
          2.28,
          7.21,
          7.19,
          2.79,
          2.95,
          3.06,
          7.39,
          7.11,
          2.28,
          2.84,
          2.84,
          2.81,
          7.21,
          2.61,
          7.19,
          7.11,
          3.05,
          7.29,
          2.79,
          2.7,
          7.29,
          7.19,
          7.62,
          7.28,
          7.62,
          3,
          2.81
         ],
         "xaxis": "x",
         "yaxis": "y"
        }
       ],
       "layout": {
        "barmode": "overlay",
        "legend": {
         "title": {
          "text": "Gender"
         },
         "tracegroupgap": 0
        },
        "template": {
         "data": {
          "bar": [
           {
            "error_x": {
             "color": "#2a3f5f"
            },
            "error_y": {
             "color": "#2a3f5f"
            },
            "marker": {
             "line": {
              "color": "#E5ECF6",
              "width": 0.5
             },
             "pattern": {
              "fillmode": "overlay",
              "size": 10,
              "solidity": 0.2
             }
            },
            "type": "bar"
           }
          ],
          "barpolar": [
           {
            "marker": {
             "line": {
              "color": "#E5ECF6",
              "width": 0.5
             },
             "pattern": {
              "fillmode": "overlay",
              "size": 10,
              "solidity": 0.2
             }
            },
            "type": "barpolar"
           }
          ],
          "carpet": [
           {
            "aaxis": {
             "endlinecolor": "#2a3f5f",
             "gridcolor": "white",
             "linecolor": "white",
             "minorgridcolor": "white",
             "startlinecolor": "#2a3f5f"
            },
            "baxis": {
             "endlinecolor": "#2a3f5f",
             "gridcolor": "white",
             "linecolor": "white",
             "minorgridcolor": "white",
             "startlinecolor": "#2a3f5f"
            },
            "type": "carpet"
           }
          ],
          "choropleth": [
           {
            "colorbar": {
             "outlinewidth": 0,
             "ticks": ""
            },
            "type": "choropleth"
           }
          ],
          "contour": [
           {
            "colorbar": {
             "outlinewidth": 0,
             "ticks": ""
            },
            "colorscale": [
             [
              0,
              "#0d0887"
             ],
             [
              0.1111111111111111,
              "#46039f"
             ],
             [
              0.2222222222222222,
              "#7201a8"
             ],
             [
              0.3333333333333333,
              "#9c179e"
             ],
             [
              0.4444444444444444,
              "#bd3786"
             ],
             [
              0.5555555555555556,
              "#d8576b"
             ],
             [
              0.6666666666666666,
              "#ed7953"
             ],
             [
              0.7777777777777778,
              "#fb9f3a"
             ],
             [
              0.8888888888888888,
              "#fdca26"
             ],
             [
              1,
              "#f0f921"
             ]
            ],
            "type": "contour"
           }
          ],
          "contourcarpet": [
           {
            "colorbar": {
             "outlinewidth": 0,
             "ticks": ""
            },
            "type": "contourcarpet"
           }
          ],
          "heatmap": [
           {
            "colorbar": {
             "outlinewidth": 0,
             "ticks": ""
            },
            "colorscale": [
             [
              0,
              "#0d0887"
             ],
             [
              0.1111111111111111,
              "#46039f"
             ],
             [
              0.2222222222222222,
              "#7201a8"
             ],
             [
              0.3333333333333333,
              "#9c179e"
             ],
             [
              0.4444444444444444,
              "#bd3786"
             ],
             [
              0.5555555555555556,
              "#d8576b"
             ],
             [
              0.6666666666666666,
              "#ed7953"
             ],
             [
              0.7777777777777778,
              "#fb9f3a"
             ],
             [
              0.8888888888888888,
              "#fdca26"
             ],
             [
              1,
              "#f0f921"
             ]
            ],
            "type": "heatmap"
           }
          ],
          "heatmapgl": [
           {
            "colorbar": {
             "outlinewidth": 0,
             "ticks": ""
            },
            "colorscale": [
             [
              0,
              "#0d0887"
             ],
             [
              0.1111111111111111,
              "#46039f"
             ],
             [
              0.2222222222222222,
              "#7201a8"
             ],
             [
              0.3333333333333333,
              "#9c179e"
             ],
             [
              0.4444444444444444,
              "#bd3786"
             ],
             [
              0.5555555555555556,
              "#d8576b"
             ],
             [
              0.6666666666666666,
              "#ed7953"
             ],
             [
              0.7777777777777778,
              "#fb9f3a"
             ],
             [
              0.8888888888888888,
              "#fdca26"
             ],
             [
              1,
              "#f0f921"
             ]
            ],
            "type": "heatmapgl"
           }
          ],
          "histogram": [
           {
            "marker": {
             "pattern": {
              "fillmode": "overlay",
              "size": 10,
              "solidity": 0.2
             }
            },
            "type": "histogram"
           }
          ],
          "histogram2d": [
           {
            "colorbar": {
             "outlinewidth": 0,
             "ticks": ""
            },
            "colorscale": [
             [
              0,
              "#0d0887"
             ],
             [
              0.1111111111111111,
              "#46039f"
             ],
             [
              0.2222222222222222,
              "#7201a8"
             ],
             [
              0.3333333333333333,
              "#9c179e"
             ],
             [
              0.4444444444444444,
              "#bd3786"
             ],
             [
              0.5555555555555556,
              "#d8576b"
             ],
             [
              0.6666666666666666,
              "#ed7953"
             ],
             [
              0.7777777777777778,
              "#fb9f3a"
             ],
             [
              0.8888888888888888,
              "#fdca26"
             ],
             [
              1,
              "#f0f921"
             ]
            ],
            "type": "histogram2d"
           }
          ],
          "histogram2dcontour": [
           {
            "colorbar": {
             "outlinewidth": 0,
             "ticks": ""
            },
            "colorscale": [
             [
              0,
              "#0d0887"
             ],
             [
              0.1111111111111111,
              "#46039f"
             ],
             [
              0.2222222222222222,
              "#7201a8"
             ],
             [
              0.3333333333333333,
              "#9c179e"
             ],
             [
              0.4444444444444444,
              "#bd3786"
             ],
             [
              0.5555555555555556,
              "#d8576b"
             ],
             [
              0.6666666666666666,
              "#ed7953"
             ],
             [
              0.7777777777777778,
              "#fb9f3a"
             ],
             [
              0.8888888888888888,
              "#fdca26"
             ],
             [
              1,
              "#f0f921"
             ]
            ],
            "type": "histogram2dcontour"
           }
          ],
          "mesh3d": [
           {
            "colorbar": {
             "outlinewidth": 0,
             "ticks": ""
            },
            "type": "mesh3d"
           }
          ],
          "parcoords": [
           {
            "line": {
             "colorbar": {
              "outlinewidth": 0,
              "ticks": ""
             }
            },
            "type": "parcoords"
           }
          ],
          "pie": [
           {
            "automargin": true,
            "type": "pie"
           }
          ],
          "scatter": [
           {
            "fillpattern": {
             "fillmode": "overlay",
             "size": 10,
             "solidity": 0.2
            },
            "type": "scatter"
           }
          ],
          "scatter3d": [
           {
            "line": {
             "colorbar": {
              "outlinewidth": 0,
              "ticks": ""
             }
            },
            "marker": {
             "colorbar": {
              "outlinewidth": 0,
              "ticks": ""
             }
            },
            "type": "scatter3d"
           }
          ],
          "scattercarpet": [
           {
            "marker": {
             "colorbar": {
              "outlinewidth": 0,
              "ticks": ""
             }
            },
            "type": "scattercarpet"
           }
          ],
          "scattergeo": [
           {
            "marker": {
             "colorbar": {
              "outlinewidth": 0,
              "ticks": ""
             }
            },
            "type": "scattergeo"
           }
          ],
          "scattergl": [
           {
            "marker": {
             "colorbar": {
              "outlinewidth": 0,
              "ticks": ""
             }
            },
            "type": "scattergl"
           }
          ],
          "scattermapbox": [
           {
            "marker": {
             "colorbar": {
              "outlinewidth": 0,
              "ticks": ""
             }
            },
            "type": "scattermapbox"
           }
          ],
          "scatterpolar": [
           {
            "marker": {
             "colorbar": {
              "outlinewidth": 0,
              "ticks": ""
             }
            },
            "type": "scatterpolar"
           }
          ],
          "scatterpolargl": [
           {
            "marker": {
             "colorbar": {
              "outlinewidth": 0,
              "ticks": ""
             }
            },
            "type": "scatterpolargl"
           }
          ],
          "scatterternary": [
           {
            "marker": {
             "colorbar": {
              "outlinewidth": 0,
              "ticks": ""
             }
            },
            "type": "scatterternary"
           }
          ],
          "surface": [
           {
            "colorbar": {
             "outlinewidth": 0,
             "ticks": ""
            },
            "colorscale": [
             [
              0,
              "#0d0887"
             ],
             [
              0.1111111111111111,
              "#46039f"
             ],
             [
              0.2222222222222222,
              "#7201a8"
             ],
             [
              0.3333333333333333,
              "#9c179e"
             ],
             [
              0.4444444444444444,
              "#bd3786"
             ],
             [
              0.5555555555555556,
              "#d8576b"
             ],
             [
              0.6666666666666666,
              "#ed7953"
             ],
             [
              0.7777777777777778,
              "#fb9f3a"
             ],
             [
              0.8888888888888888,
              "#fdca26"
             ],
             [
              1,
              "#f0f921"
             ]
            ],
            "type": "surface"
           }
          ],
          "table": [
           {
            "cells": {
             "fill": {
              "color": "#EBF0F8"
             },
             "line": {
              "color": "white"
             }
            },
            "header": {
             "fill": {
              "color": "#C8D4E3"
             },
             "line": {
              "color": "white"
             }
            },
            "type": "table"
           }
          ]
         },
         "layout": {
          "annotationdefaults": {
           "arrowcolor": "#2a3f5f",
           "arrowhead": 0,
           "arrowwidth": 1
          },
          "autotypenumbers": "strict",
          "coloraxis": {
           "colorbar": {
            "outlinewidth": 0,
            "ticks": ""
           }
          },
          "colorscale": {
           "diverging": [
            [
             0,
             "#8e0152"
            ],
            [
             0.1,
             "#c51b7d"
            ],
            [
             0.2,
             "#de77ae"
            ],
            [
             0.3,
             "#f1b6da"
            ],
            [
             0.4,
             "#fde0ef"
            ],
            [
             0.5,
             "#f7f7f7"
            ],
            [
             0.6,
             "#e6f5d0"
            ],
            [
             0.7,
             "#b8e186"
            ],
            [
             0.8,
             "#7fbc41"
            ],
            [
             0.9,
             "#4d9221"
            ],
            [
             1,
             "#276419"
            ]
           ],
           "sequential": [
            [
             0,
             "#0d0887"
            ],
            [
             0.1111111111111111,
             "#46039f"
            ],
            [
             0.2222222222222222,
             "#7201a8"
            ],
            [
             0.3333333333333333,
             "#9c179e"
            ],
            [
             0.4444444444444444,
             "#bd3786"
            ],
            [
             0.5555555555555556,
             "#d8576b"
            ],
            [
             0.6666666666666666,
             "#ed7953"
            ],
            [
             0.7777777777777778,
             "#fb9f3a"
            ],
            [
             0.8888888888888888,
             "#fdca26"
            ],
            [
             1,
             "#f0f921"
            ]
           ],
           "sequentialminus": [
            [
             0,
             "#0d0887"
            ],
            [
             0.1111111111111111,
             "#46039f"
            ],
            [
             0.2222222222222222,
             "#7201a8"
            ],
            [
             0.3333333333333333,
             "#9c179e"
            ],
            [
             0.4444444444444444,
             "#bd3786"
            ],
            [
             0.5555555555555556,
             "#d8576b"
            ],
            [
             0.6666666666666666,
             "#ed7953"
            ],
            [
             0.7777777777777778,
             "#fb9f3a"
            ],
            [
             0.8888888888888888,
             "#fdca26"
            ],
            [
             1,
             "#f0f921"
            ]
           ]
          },
          "colorway": [
           "#636efa",
           "#EF553B",
           "#00cc96",
           "#ab63fa",
           "#FFA15A",
           "#19d3f3",
           "#FF6692",
           "#B6E880",
           "#FF97FF",
           "#FECB52"
          ],
          "font": {
           "color": "#2a3f5f"
          },
          "geo": {
           "bgcolor": "white",
           "lakecolor": "white",
           "landcolor": "#E5ECF6",
           "showlakes": true,
           "showland": true,
           "subunitcolor": "white"
          },
          "hoverlabel": {
           "align": "left"
          },
          "hovermode": "closest",
          "mapbox": {
           "style": "light"
          },
          "paper_bgcolor": "white",
          "plot_bgcolor": "#E5ECF6",
          "polar": {
           "angularaxis": {
            "gridcolor": "white",
            "linecolor": "white",
            "ticks": ""
           },
           "bgcolor": "#E5ECF6",
           "radialaxis": {
            "gridcolor": "white",
            "linecolor": "white",
            "ticks": ""
           }
          },
          "scene": {
           "xaxis": {
            "backgroundcolor": "#E5ECF6",
            "gridcolor": "white",
            "gridwidth": 2,
            "linecolor": "white",
            "showbackground": true,
            "ticks": "",
            "zerolinecolor": "white"
           },
           "yaxis": {
            "backgroundcolor": "#E5ECF6",
            "gridcolor": "white",
            "gridwidth": 2,
            "linecolor": "white",
            "showbackground": true,
            "ticks": "",
            "zerolinecolor": "white"
           },
           "zaxis": {
            "backgroundcolor": "#E5ECF6",
            "gridcolor": "white",
            "gridwidth": 2,
            "linecolor": "white",
            "showbackground": true,
            "ticks": "",
            "zerolinecolor": "white"
           }
          },
          "shapedefaults": {
           "line": {
            "color": "#2a3f5f"
           }
          },
          "ternary": {
           "aaxis": {
            "gridcolor": "white",
            "linecolor": "white",
            "ticks": ""
           },
           "baxis": {
            "gridcolor": "white",
            "linecolor": "white",
            "ticks": ""
           },
           "bgcolor": "#E5ECF6",
           "caxis": {
            "gridcolor": "white",
            "linecolor": "white",
            "ticks": ""
           }
          },
          "title": {
           "x": 0.05
          },
          "xaxis": {
           "automargin": true,
           "gridcolor": "white",
           "linecolor": "white",
           "ticks": "",
           "title": {
            "standoff": 15
           },
           "zerolinecolor": "white",
           "zerolinewidth": 2
          },
          "yaxis": {
           "automargin": true,
           "gridcolor": "white",
           "linecolor": "white",
           "ticks": "",
           "title": {
            "standoff": 15
           },
           "zerolinecolor": "white",
           "zerolinewidth": 2
          }
         }
        },
        "title": {
         "text": "Histogram of dominance values extreme"
        },
        "xaxis": {
         "anchor": "y",
         "domain": [
          0,
          1
         ],
         "title": {
          "text": "dominance"
         }
        },
        "yaxis": {
         "anchor": "x",
         "domain": [
          0,
          1
         ],
         "title": {
          "text": "percent"
         }
        }
       }
      },
      "text/html": [
       "<div>                            <div id=\"2732bc1e-da99-45b8-ab10-2278f0fc906f\" class=\"plotly-graph-div\" style=\"height:525px; width:100%;\"></div>            <script type=\"text/javascript\">                require([\"plotly\"], function(Plotly) {                    window.PLOTLYENV=window.PLOTLYENV || {};                                    if (document.getElementById(\"2732bc1e-da99-45b8-ab10-2278f0fc906f\")) {                    Plotly.newPlot(                        \"2732bc1e-da99-45b8-ab10-2278f0fc906f\",                        [{\"alignmentgroup\":\"True\",\"bingroup\":\"x\",\"histnorm\":\"percent\",\"hovertemplate\":\"Gender=Female\\u003cbr\\u003edominance=%{x}\\u003cbr\\u003epercent=%{y}\\u003cextra\\u003e\\u003c\\u002fextra\\u003e\",\"legendgroup\":\"Female\",\"marker\":{\"color\":\"#636efa\",\"opacity\":0.7,\"pattern\":{\"shape\":\"\"}},\"name\":\"Female\",\"nbinsx\":30,\"offsetgroup\":\"Female\",\"orientation\":\"v\",\"showlegend\":true,\"x\":[7.39,3.05,2.61,7.11,7.19,2.18,2.79,2.18,7.19,7.19,3.06,7.26,7.4,2.18,7.38,7.21,2.79,2.61,7.21,2.84,7.17,7.62,7.19,7.28,7.19,2.79,3.06,7.19,7.19,7.19,2.74,2.84,3.05,2.18,2.61,3.0,7.29,2.18,2.18,7.21,7.19,2.61,2.7,7.44,2.7,3.05,3.05,2.79,7.26,3.02,2.86,2.74,2.71,2.28,7.21,7.17,7.62,7.62,7.19,2.84,3.1,3.05,7.62,2.7,2.61,7.26,3.05,3.08,7.28,7.19,3.05,7.19,2.18,2.95,3.1,3.05,2.79,3.06,3.05,2.84,2.84,7.21,3.05,2.7,7.19,2.95,2.18,3.06,7.3,7.21,2.28,2.7,2.18,7.21,2.18,2.95,3.06,2.28,7.21,2.79,2.7,7.62,3.1,2.95,7.19,3.0,7.39,3.06,3.06,2.81,7.19,3.1,2.79,7.44,2.18,7.21,3.05,3.06,3.1,7.15,2.7,7.4,2.95,2.18,3.05,2.7,3.06,2.7,3.06,2.84,7.38,3.06,3.04,7.26,7.19,2.86,2.79,7.21,7.19,7.32,7.26,2.84,2.7,2.79,2.7,7.19,2.28,2.18,2.79,3.06,7.19,3.06,3.06,3.06,2.79,3.04,2.28,7.11,3.05,7.21,7.19,2.7,2.79,3.06,2.79,3.05,7.21,2.66,2.18,2.57,7.74,3.1,2.79,2.79,7.21,7.53,2.28,2.61,3.05,2.95,7.44,2.28,7.29,3.05,7.19,3.06,3.05,3.0,3.06,3.06,2.7,7.4,3.06,7.21,7.26,3.06,7.3,7.21,2.7,7.19,7.53,7.19,7.39,7.19,2.95,2.7,2.18,7.21,7.19,7.19,7.29,2.61,7.16,7.17,7.4,2.18,2.59,3.08,7.4,7.26,2.81,7.19,2.79,2.79,7.4,7.19,7.62,2.7,3.08,2.8,7.19,7.39,7.21,2.84,2.28,2.79,2.84,7.26,2.7],\"xaxis\":\"x\",\"yaxis\":\"y\",\"type\":\"histogram\"},{\"alignmentgroup\":\"True\",\"bingroup\":\"x\",\"histnorm\":\"percent\",\"hovertemplate\":\"Gender=Male\\u003cbr\\u003edominance=%{x}\\u003cbr\\u003epercent=%{y}\\u003cextra\\u003e\\u003c\\u002fextra\\u003e\",\"legendgroup\":\"Male\",\"marker\":{\"color\":\"#EF553B\",\"opacity\":0.7,\"pattern\":{\"shape\":\"\"}},\"name\":\"Male\",\"nbinsx\":30,\"offsetgroup\":\"Male\",\"orientation\":\"v\",\"showlegend\":true,\"x\":[7.19,7.62,2.79,2.84,2.84,3.05,3.05,2.18,3.1,2.18,2.79,2.88,2.7,7.29,2.7,7.19,7.39,2.28,7.3,7.4,2.7,7.19,2.79,2.56,7.19,2.7,7.21,7.19,2.28,7.21,2.28,2.7,2.18,7.39,2.7,2.79,2.28,7.19,2.7,2.84,3.05,7.11,3.06,2.61,7.19,2.95,7.19,7.19,2.84,2.81,7.19,7.19,2.84,2.59,7.3,2.79,2.73,3.04,7.19,7.4,2.7,2.59,2.79,7.74,2.18,2.79,2.95,2.94,2.28,7.21,2.79,2.94,2.79,2.79,7.21,2.84,2.84,2.95,3.06,3.0,2.95,3.05,2.79,2.95,2.79,2.95,3.05,2.7,2.84,2.79,2.79,7.4,2.79,3.06,2.79,2.28,3.05,2.84,2.95,2.7,2.79,2.95,7.26,2.28,2.28,2.95,2.84,7.21,2.18,7.62,2.79,2.18,3.05,2.95,3.06,2.57,7.26,2.95,7.62,3.1,2.95,2.7,2.84,2.81,2.79,3.06,2.18,2.28,3.04,7.62,7.28,2.7,2.86,2.84,7.21,7.27,7.44,3.06,2.28,7.44,7.38,2.79,7.28,2.95,3.05,2.79,2.79,7.39,2.18,2.8,2.18,2.84,2.84,7.39,3.05,2.28,7.62,2.84,7.3,3.08,7.71,2.18,2.28,2.79,2.18,2.95,7.44,7.21,2.7,3.0,3.06,2.79,3.06,2.79,2.79,2.94,2.7,7.27,7.21,3.08,7.19,7.21,2.79,2.28,2.94,2.95,7.39,2.18,7.4,2.95,2.81,7.19,3.06,2.94,7.26,2.95,7.21,2.79,7.39,3.0,7.4,7.19,3.05,2.94,3.1,7.44,7.19,7.74,7.38,7.44,7.39,7.44,7.4,7.19,2.7,2.81,2.95,2.79,3.08,2.79,3.05,7.21,2.7,2.86,3.06,2.28,2.94,2.84,2.61,7.39,2.86,2.7,2.79,7.44,7.38,3.05,2.28,7.22,2.79,2.79,2.79,7.11,7.3,7.22,7.19,7.38,7.44,2.28,3.06,7.21,2.95,3.06,2.28,7.19,2.18,7.26,2.84,7.39,3.06,7.4,3.06,2.86,2.79,2.7,2.95,2.84,3.04,2.18,2.95,2.61,7.44,2.57,2.28,3.1,3.06,3.0,2.79,3.04,7.19,7.19,7.28,3.05,2.61,7.28,7.26,2.18,3.05,7.19,7.26,7.26,3.05,2.18,7.44,2.81,3.06,7.26,2.79,3.06,2.7,3.06,3.06,2.79,2.79,2.79,3.06,3.1,2.28,2.79,2.18,2.18,2.18,2.28,3.06,2.7,7.26,2.7,7.21,7.26,7.21,2.84,2.79,2.94,2.71,3.05,2.7,7.19,3.1,7.44,2.57,3.06,7.29,7.19,2.79,7.4,7.62,7.4,2.7,7.28,7.39,2.18,7.11,2.95,2.8,7.53,2.95,2.79,2.18,7.19,3.1,7.27,7.19,7.21,2.95,7.11,2.84,2.95,2.84,7.19,3.04,2.95,7.19,7.62,2.28,2.95,2.95,3.1,7.3,2.95,7.19,7.21,2.95,7.71,2.71,2.79,7.19,2.95,2.79,7.19,7.38,2.95,7.4,3.05,7.19,7.39,7.26,2.28,7.21,2.66,7.44,7.19,2.95,3.05,2.95,2.95,7.3,7.19,2.79,2.79,7.19,7.38,7.44,7.26,7.29,7.26,7.21,2.28,7.71,7.44,7.28,2.28,3.05,7.38,7.28,2.79,2.84,7.26,3.04,2.79,2.84,7.21,7.53,3.04,2.79,7.21,2.79,2.79,2.61,2.79,2.79,3.06,7.21,2.79,3.0,3.1,2.84,2.79,3.0,2.86,2.66,3.06,2.57,3.06,2.84,7.19,7.74,2.84,3.06,2.79,2.79,2.95,2.56,3.04,2.84,2.79,2.79,3.06,3.06,7.21,3.06,7.38,3.05,3.06,2.95,7.19,2.79,3.06,2.79,3.02,2.8,7.27,3.1,3.0,7.21,2.57,2.18,2.95,3.0,2.84,2.28,7.19,7.15,3.06,7.3,2.18,2.94,3.08,2.79,7.6,7.62,7.71,7.19,7.39,7.26,7.21,2.18,3.06,7.19,3.06,3.06,3.05,3.05,2.95,3.05,2.28,2.61,2.28,2.81,2.79,2.79,2.79,2.79,2.61,2.56,2.79,2.84,2.84,7.38,7.38,2.7,2.81,7.21,7.1,2.95,2.95,2.81,2.18,2.79,2.7,2.84,2.79,2.95,2.18,2.94,2.84,2.84,2.94,2.95,2.95,3.06,3.0,2.84,2.7,2.86,2.57,3.06,2.95,7.26,2.18,2.79,7.74,3.1,7.21,2.79,2.79,7.4,2.79,2.28,2.57,2.57,2.79,2.28,2.81,7.21,7.44,2.18,2.95,3.04,3.05,7.62,7.38,2.95,2.84,2.18,2.7,2.28,7.4,3.0,2.81,2.7,2.7,3.05,3.0,3.08,3.05,7.62,2.84,7.21,3.08,2.18,2.7,7.21,3.06,3.06,2.95,7.39,7.19,3.05,3.0,2.79,7.44,7.44,3.1,7.29,2.18,2.28,2.7,7.28,3.1,3.05,2.79,2.56,2.56,7.29,7.19,2.81,2.95,2.79,2.18,3.06,7.21,2.18,7.29,2.66,7.22,7.21,2.95,2.18,2.81,7.19,7.62,2.18,3.06,2.28,7.38,3.05,3.06,7.19,7.21,7.19,7.19,7.21,3.04,2.7,3.06,3.05,7.19,3.06,7.26,7.19,7.13,3.1,2.73,7.71,7.27,7.11,7.21,7.5,2.88,7.26,2.71,2.94,2.28,7.21,7.19,2.79,2.95,3.06,7.39,7.11,2.28,2.84,2.84,2.81,7.21,2.61,7.19,7.11,3.05,7.29,2.79,2.7,7.29,7.19,7.62,7.28,7.62,3.0,2.81],\"xaxis\":\"x\",\"yaxis\":\"y\",\"type\":\"histogram\"}],                        {\"template\":{\"data\":{\"histogram2dcontour\":[{\"type\":\"histogram2dcontour\",\"colorbar\":{\"outlinewidth\":0,\"ticks\":\"\"},\"colorscale\":[[0.0,\"#0d0887\"],[0.1111111111111111,\"#46039f\"],[0.2222222222222222,\"#7201a8\"],[0.3333333333333333,\"#9c179e\"],[0.4444444444444444,\"#bd3786\"],[0.5555555555555556,\"#d8576b\"],[0.6666666666666666,\"#ed7953\"],[0.7777777777777778,\"#fb9f3a\"],[0.8888888888888888,\"#fdca26\"],[1.0,\"#f0f921\"]]}],\"choropleth\":[{\"type\":\"choropleth\",\"colorbar\":{\"outlinewidth\":0,\"ticks\":\"\"}}],\"histogram2d\":[{\"type\":\"histogram2d\",\"colorbar\":{\"outlinewidth\":0,\"ticks\":\"\"},\"colorscale\":[[0.0,\"#0d0887\"],[0.1111111111111111,\"#46039f\"],[0.2222222222222222,\"#7201a8\"],[0.3333333333333333,\"#9c179e\"],[0.4444444444444444,\"#bd3786\"],[0.5555555555555556,\"#d8576b\"],[0.6666666666666666,\"#ed7953\"],[0.7777777777777778,\"#fb9f3a\"],[0.8888888888888888,\"#fdca26\"],[1.0,\"#f0f921\"]]}],\"heatmap\":[{\"type\":\"heatmap\",\"colorbar\":{\"outlinewidth\":0,\"ticks\":\"\"},\"colorscale\":[[0.0,\"#0d0887\"],[0.1111111111111111,\"#46039f\"],[0.2222222222222222,\"#7201a8\"],[0.3333333333333333,\"#9c179e\"],[0.4444444444444444,\"#bd3786\"],[0.5555555555555556,\"#d8576b\"],[0.6666666666666666,\"#ed7953\"],[0.7777777777777778,\"#fb9f3a\"],[0.8888888888888888,\"#fdca26\"],[1.0,\"#f0f921\"]]}],\"heatmapgl\":[{\"type\":\"heatmapgl\",\"colorbar\":{\"outlinewidth\":0,\"ticks\":\"\"},\"colorscale\":[[0.0,\"#0d0887\"],[0.1111111111111111,\"#46039f\"],[0.2222222222222222,\"#7201a8\"],[0.3333333333333333,\"#9c179e\"],[0.4444444444444444,\"#bd3786\"],[0.5555555555555556,\"#d8576b\"],[0.6666666666666666,\"#ed7953\"],[0.7777777777777778,\"#fb9f3a\"],[0.8888888888888888,\"#fdca26\"],[1.0,\"#f0f921\"]]}],\"contourcarpet\":[{\"type\":\"contourcarpet\",\"colorbar\":{\"outlinewidth\":0,\"ticks\":\"\"}}],\"contour\":[{\"type\":\"contour\",\"colorbar\":{\"outlinewidth\":0,\"ticks\":\"\"},\"colorscale\":[[0.0,\"#0d0887\"],[0.1111111111111111,\"#46039f\"],[0.2222222222222222,\"#7201a8\"],[0.3333333333333333,\"#9c179e\"],[0.4444444444444444,\"#bd3786\"],[0.5555555555555556,\"#d8576b\"],[0.6666666666666666,\"#ed7953\"],[0.7777777777777778,\"#fb9f3a\"],[0.8888888888888888,\"#fdca26\"],[1.0,\"#f0f921\"]]}],\"surface\":[{\"type\":\"surface\",\"colorbar\":{\"outlinewidth\":0,\"ticks\":\"\"},\"colorscale\":[[0.0,\"#0d0887\"],[0.1111111111111111,\"#46039f\"],[0.2222222222222222,\"#7201a8\"],[0.3333333333333333,\"#9c179e\"],[0.4444444444444444,\"#bd3786\"],[0.5555555555555556,\"#d8576b\"],[0.6666666666666666,\"#ed7953\"],[0.7777777777777778,\"#fb9f3a\"],[0.8888888888888888,\"#fdca26\"],[1.0,\"#f0f921\"]]}],\"mesh3d\":[{\"type\":\"mesh3d\",\"colorbar\":{\"outlinewidth\":0,\"ticks\":\"\"}}],\"scatter\":[{\"fillpattern\":{\"fillmode\":\"overlay\",\"size\":10,\"solidity\":0.2},\"type\":\"scatter\"}],\"parcoords\":[{\"type\":\"parcoords\",\"line\":{\"colorbar\":{\"outlinewidth\":0,\"ticks\":\"\"}}}],\"scatterpolargl\":[{\"type\":\"scatterpolargl\",\"marker\":{\"colorbar\":{\"outlinewidth\":0,\"ticks\":\"\"}}}],\"bar\":[{\"error_x\":{\"color\":\"#2a3f5f\"},\"error_y\":{\"color\":\"#2a3f5f\"},\"marker\":{\"line\":{\"color\":\"#E5ECF6\",\"width\":0.5},\"pattern\":{\"fillmode\":\"overlay\",\"size\":10,\"solidity\":0.2}},\"type\":\"bar\"}],\"scattergeo\":[{\"type\":\"scattergeo\",\"marker\":{\"colorbar\":{\"outlinewidth\":0,\"ticks\":\"\"}}}],\"scatterpolar\":[{\"type\":\"scatterpolar\",\"marker\":{\"colorbar\":{\"outlinewidth\":0,\"ticks\":\"\"}}}],\"histogram\":[{\"marker\":{\"pattern\":{\"fillmode\":\"overlay\",\"size\":10,\"solidity\":0.2}},\"type\":\"histogram\"}],\"scattergl\":[{\"type\":\"scattergl\",\"marker\":{\"colorbar\":{\"outlinewidth\":0,\"ticks\":\"\"}}}],\"scatter3d\":[{\"type\":\"scatter3d\",\"line\":{\"colorbar\":{\"outlinewidth\":0,\"ticks\":\"\"}},\"marker\":{\"colorbar\":{\"outlinewidth\":0,\"ticks\":\"\"}}}],\"scattermapbox\":[{\"type\":\"scattermapbox\",\"marker\":{\"colorbar\":{\"outlinewidth\":0,\"ticks\":\"\"}}}],\"scatterternary\":[{\"type\":\"scatterternary\",\"marker\":{\"colorbar\":{\"outlinewidth\":0,\"ticks\":\"\"}}}],\"scattercarpet\":[{\"type\":\"scattercarpet\",\"marker\":{\"colorbar\":{\"outlinewidth\":0,\"ticks\":\"\"}}}],\"carpet\":[{\"aaxis\":{\"endlinecolor\":\"#2a3f5f\",\"gridcolor\":\"white\",\"linecolor\":\"white\",\"minorgridcolor\":\"white\",\"startlinecolor\":\"#2a3f5f\"},\"baxis\":{\"endlinecolor\":\"#2a3f5f\",\"gridcolor\":\"white\",\"linecolor\":\"white\",\"minorgridcolor\":\"white\",\"startlinecolor\":\"#2a3f5f\"},\"type\":\"carpet\"}],\"table\":[{\"cells\":{\"fill\":{\"color\":\"#EBF0F8\"},\"line\":{\"color\":\"white\"}},\"header\":{\"fill\":{\"color\":\"#C8D4E3\"},\"line\":{\"color\":\"white\"}},\"type\":\"table\"}],\"barpolar\":[{\"marker\":{\"line\":{\"color\":\"#E5ECF6\",\"width\":0.5},\"pattern\":{\"fillmode\":\"overlay\",\"size\":10,\"solidity\":0.2}},\"type\":\"barpolar\"}],\"pie\":[{\"automargin\":true,\"type\":\"pie\"}]},\"layout\":{\"autotypenumbers\":\"strict\",\"colorway\":[\"#636efa\",\"#EF553B\",\"#00cc96\",\"#ab63fa\",\"#FFA15A\",\"#19d3f3\",\"#FF6692\",\"#B6E880\",\"#FF97FF\",\"#FECB52\"],\"font\":{\"color\":\"#2a3f5f\"},\"hovermode\":\"closest\",\"hoverlabel\":{\"align\":\"left\"},\"paper_bgcolor\":\"white\",\"plot_bgcolor\":\"#E5ECF6\",\"polar\":{\"bgcolor\":\"#E5ECF6\",\"angularaxis\":{\"gridcolor\":\"white\",\"linecolor\":\"white\",\"ticks\":\"\"},\"radialaxis\":{\"gridcolor\":\"white\",\"linecolor\":\"white\",\"ticks\":\"\"}},\"ternary\":{\"bgcolor\":\"#E5ECF6\",\"aaxis\":{\"gridcolor\":\"white\",\"linecolor\":\"white\",\"ticks\":\"\"},\"baxis\":{\"gridcolor\":\"white\",\"linecolor\":\"white\",\"ticks\":\"\"},\"caxis\":{\"gridcolor\":\"white\",\"linecolor\":\"white\",\"ticks\":\"\"}},\"coloraxis\":{\"colorbar\":{\"outlinewidth\":0,\"ticks\":\"\"}},\"colorscale\":{\"sequential\":[[0.0,\"#0d0887\"],[0.1111111111111111,\"#46039f\"],[0.2222222222222222,\"#7201a8\"],[0.3333333333333333,\"#9c179e\"],[0.4444444444444444,\"#bd3786\"],[0.5555555555555556,\"#d8576b\"],[0.6666666666666666,\"#ed7953\"],[0.7777777777777778,\"#fb9f3a\"],[0.8888888888888888,\"#fdca26\"],[1.0,\"#f0f921\"]],\"sequentialminus\":[[0.0,\"#0d0887\"],[0.1111111111111111,\"#46039f\"],[0.2222222222222222,\"#7201a8\"],[0.3333333333333333,\"#9c179e\"],[0.4444444444444444,\"#bd3786\"],[0.5555555555555556,\"#d8576b\"],[0.6666666666666666,\"#ed7953\"],[0.7777777777777778,\"#fb9f3a\"],[0.8888888888888888,\"#fdca26\"],[1.0,\"#f0f921\"]],\"diverging\":[[0,\"#8e0152\"],[0.1,\"#c51b7d\"],[0.2,\"#de77ae\"],[0.3,\"#f1b6da\"],[0.4,\"#fde0ef\"],[0.5,\"#f7f7f7\"],[0.6,\"#e6f5d0\"],[0.7,\"#b8e186\"],[0.8,\"#7fbc41\"],[0.9,\"#4d9221\"],[1,\"#276419\"]]},\"xaxis\":{\"gridcolor\":\"white\",\"linecolor\":\"white\",\"ticks\":\"\",\"title\":{\"standoff\":15},\"zerolinecolor\":\"white\",\"automargin\":true,\"zerolinewidth\":2},\"yaxis\":{\"gridcolor\":\"white\",\"linecolor\":\"white\",\"ticks\":\"\",\"title\":{\"standoff\":15},\"zerolinecolor\":\"white\",\"automargin\":true,\"zerolinewidth\":2},\"scene\":{\"xaxis\":{\"backgroundcolor\":\"#E5ECF6\",\"gridcolor\":\"white\",\"linecolor\":\"white\",\"showbackground\":true,\"ticks\":\"\",\"zerolinecolor\":\"white\",\"gridwidth\":2},\"yaxis\":{\"backgroundcolor\":\"#E5ECF6\",\"gridcolor\":\"white\",\"linecolor\":\"white\",\"showbackground\":true,\"ticks\":\"\",\"zerolinecolor\":\"white\",\"gridwidth\":2},\"zaxis\":{\"backgroundcolor\":\"#E5ECF6\",\"gridcolor\":\"white\",\"linecolor\":\"white\",\"showbackground\":true,\"ticks\":\"\",\"zerolinecolor\":\"white\",\"gridwidth\":2}},\"shapedefaults\":{\"line\":{\"color\":\"#2a3f5f\"}},\"annotationdefaults\":{\"arrowcolor\":\"#2a3f5f\",\"arrowhead\":0,\"arrowwidth\":1},\"geo\":{\"bgcolor\":\"white\",\"landcolor\":\"#E5ECF6\",\"subunitcolor\":\"white\",\"showland\":true,\"showlakes\":true,\"lakecolor\":\"white\"},\"title\":{\"x\":0.05},\"mapbox\":{\"style\":\"light\"}}},\"xaxis\":{\"anchor\":\"y\",\"domain\":[0.0,1.0],\"title\":{\"text\":\"dominance\"}},\"yaxis\":{\"anchor\":\"x\",\"domain\":[0.0,1.0],\"title\":{\"text\":\"percent\"}},\"legend\":{\"title\":{\"text\":\"Gender\"},\"tracegroupgap\":0},\"title\":{\"text\":\"Histogram of dominance values extreme\"},\"barmode\":\"overlay\"},                        {\"responsive\": true}                    ).then(function(){\n",
       "                            \n",
       "var gd = document.getElementById('2732bc1e-da99-45b8-ab10-2278f0fc906f');\n",
       "var x = new MutationObserver(function (mutations, observer) {{\n",
       "        var display = window.getComputedStyle(gd).display;\n",
       "        if (!display || display === 'none') {{\n",
       "            console.log([gd, 'removed!']);\n",
       "            Plotly.purge(gd);\n",
       "            observer.disconnect();\n",
       "        }}\n",
       "}});\n",
       "\n",
       "// Listen for the removal of the full notebook cells\n",
       "var notebookContainer = gd.closest('#notebook-container');\n",
       "if (notebookContainer) {{\n",
       "    x.observe(notebookContainer, {childList: true});\n",
       "}}\n",
       "\n",
       "// Listen for the clearing of the current output cell\n",
       "var outputEl = gd.closest('.output');\n",
       "if (outputEl) {{\n",
       "    x.observe(outputEl, {childList: true});\n",
       "}}\n",
       "\n",
       "                        })                };                });            </script>        </div>"
      ]
     },
     "metadata": {},
     "output_type": "display_data"
    }
   ],
   "source": [
    "df_exploded = subset.explode('parsed')\n",
    "merged_df = pd.merge(df_exploded[['parsed', 'Gender']], df_adjectives[['word', 'dominance']], left_on='parsed', right_on='word')\n",
    "\n",
    "fig = px.histogram(\n",
    "    merged_df,\n",
    "    x='dominance',\n",
    "    color='Gender',\n",
    "    barmode='overlay',    # use 'overlay' to display them on top of each other; use 'group' for side-by-side bars\n",
    "    nbins=30,             # adjust the number of bins as needed\n",
    "    opacity=0.7,          # set opacity to help with overlapping areas\n",
    "    histnorm='percent',\n",
    "    title=\"Histogram of dominance values extreme\"\n",
    ")\n",
    "fig.show()"
   ]
  },
  {
   "cell_type": "markdown",
   "metadata": {},
   "source": [
    "### Meralion"
   ]
  },
  {
   "cell_type": "code",
   "execution_count": 49,
   "metadata": {},
   "outputs": [
    {
     "data": {
      "application/vnd.plotly.v1+json": {
       "config": {
        "plotlyServerURL": "https://plot.ly"
       },
       "data": [
        {
         "alignmentgroup": "True",
         "hovertemplate": "Gender=Female<br>parsed=%{x}<br>Percentage=%{y}<extra></extra>",
         "legendgroup": "Female",
         "marker": {
          "color": "#636efa",
          "pattern": {
           "shape": ""
          }
         },
         "name": "Female",
         "offsetgroup": "Female",
         "orientation": "v",
         "showlegend": true,
         "textposition": "auto",
         "type": "bar",
         "x": [
          "awesome",
          "awful",
          "calm",
          "cheerful",
          "excellent",
          "expressive",
          "fabulous",
          "fantastic",
          "friendly",
          "genuine",
          "happy",
          "incurable",
          "jolly",
          "knowledgeable",
          "polite",
          "positive",
          "sincere",
          "spunky",
          "unconscious",
          "uncontrollable",
          "wonderful"
         ],
         "xaxis": "x",
         "y": [
          7.936507936507936,
          2.7777777777777777,
          3.7698412698412698,
          9.920634920634921,
          2.380952380952381,
          4.9603174603174605,
          1.7857142857142856,
          5.753968253968254,
          4.365079365079365,
          2.7777777777777777,
          8.333333333333332,
          1.5873015873015872,
          2.1825396825396823,
          1.984126984126984,
          1.5873015873015872,
          1.984126984126984,
          3.968253968253968,
          12.3015873015873,
          1.1904761904761905,
          3.571428571428571,
          2.1825396825396823
         ],
         "yaxis": "y"
        },
        {
         "alignmentgroup": "True",
         "hovertemplate": "Gender=Male<br>parsed=%{x}<br>Percentage=%{y}<extra></extra>",
         "legendgroup": "Male",
         "marker": {
          "color": "#EF553B",
          "pattern": {
           "shape": ""
          }
         },
         "name": "Male",
         "offsetgroup": "Male",
         "orientation": "v",
         "showlegend": true,
         "textposition": "auto",
         "type": "bar",
         "x": [
          "awesome",
          "awful",
          "calm",
          "cheerful",
          "drunk",
          "excellent",
          "expressive",
          "fantastic",
          "friendly",
          "frightened",
          "genuine",
          "happy",
          "helpless",
          "jolly",
          "knowledgeable",
          "positive",
          "psychopathic",
          "psychotic",
          "sick",
          "sincere",
          "spunky",
          "uncontrollable",
          "wonderful"
         ],
         "xaxis": "x",
         "y": [
          10.486322188449847,
          4.86322188449848,
          2.2796352583586628,
          7.674772036474165,
          1.3677811550151975,
          1.7477203647416413,
          4.711246200607903,
          5.623100303951368,
          4.86322188449848,
          1.4437689969604863,
          1.9756838905775076,
          7.218844984802432,
          1.1398176291793314,
          1.0638297872340425,
          4.331306990881459,
          1.3677811550151975,
          1.0638297872340425,
          1.4437689969604863,
          1.6717325227963524,
          4.027355623100304,
          10.106382978723403,
          4.103343465045593,
          1.7477203647416413
         ],
         "yaxis": "y"
        }
       ],
       "layout": {
        "barmode": "group",
        "legend": {
         "title": {
          "text": "Gender"
         },
         "tracegroupgap": 0
        },
        "margin": {
         "t": 60
        },
        "template": {
         "data": {
          "bar": [
           {
            "error_x": {
             "color": "#2a3f5f"
            },
            "error_y": {
             "color": "#2a3f5f"
            },
            "marker": {
             "line": {
              "color": "#E5ECF6",
              "width": 0.5
             },
             "pattern": {
              "fillmode": "overlay",
              "size": 10,
              "solidity": 0.2
             }
            },
            "type": "bar"
           }
          ],
          "barpolar": [
           {
            "marker": {
             "line": {
              "color": "#E5ECF6",
              "width": 0.5
             },
             "pattern": {
              "fillmode": "overlay",
              "size": 10,
              "solidity": 0.2
             }
            },
            "type": "barpolar"
           }
          ],
          "carpet": [
           {
            "aaxis": {
             "endlinecolor": "#2a3f5f",
             "gridcolor": "white",
             "linecolor": "white",
             "minorgridcolor": "white",
             "startlinecolor": "#2a3f5f"
            },
            "baxis": {
             "endlinecolor": "#2a3f5f",
             "gridcolor": "white",
             "linecolor": "white",
             "minorgridcolor": "white",
             "startlinecolor": "#2a3f5f"
            },
            "type": "carpet"
           }
          ],
          "choropleth": [
           {
            "colorbar": {
             "outlinewidth": 0,
             "ticks": ""
            },
            "type": "choropleth"
           }
          ],
          "contour": [
           {
            "colorbar": {
             "outlinewidth": 0,
             "ticks": ""
            },
            "colorscale": [
             [
              0,
              "#0d0887"
             ],
             [
              0.1111111111111111,
              "#46039f"
             ],
             [
              0.2222222222222222,
              "#7201a8"
             ],
             [
              0.3333333333333333,
              "#9c179e"
             ],
             [
              0.4444444444444444,
              "#bd3786"
             ],
             [
              0.5555555555555556,
              "#d8576b"
             ],
             [
              0.6666666666666666,
              "#ed7953"
             ],
             [
              0.7777777777777778,
              "#fb9f3a"
             ],
             [
              0.8888888888888888,
              "#fdca26"
             ],
             [
              1,
              "#f0f921"
             ]
            ],
            "type": "contour"
           }
          ],
          "contourcarpet": [
           {
            "colorbar": {
             "outlinewidth": 0,
             "ticks": ""
            },
            "type": "contourcarpet"
           }
          ],
          "heatmap": [
           {
            "colorbar": {
             "outlinewidth": 0,
             "ticks": ""
            },
            "colorscale": [
             [
              0,
              "#0d0887"
             ],
             [
              0.1111111111111111,
              "#46039f"
             ],
             [
              0.2222222222222222,
              "#7201a8"
             ],
             [
              0.3333333333333333,
              "#9c179e"
             ],
             [
              0.4444444444444444,
              "#bd3786"
             ],
             [
              0.5555555555555556,
              "#d8576b"
             ],
             [
              0.6666666666666666,
              "#ed7953"
             ],
             [
              0.7777777777777778,
              "#fb9f3a"
             ],
             [
              0.8888888888888888,
              "#fdca26"
             ],
             [
              1,
              "#f0f921"
             ]
            ],
            "type": "heatmap"
           }
          ],
          "heatmapgl": [
           {
            "colorbar": {
             "outlinewidth": 0,
             "ticks": ""
            },
            "colorscale": [
             [
              0,
              "#0d0887"
             ],
             [
              0.1111111111111111,
              "#46039f"
             ],
             [
              0.2222222222222222,
              "#7201a8"
             ],
             [
              0.3333333333333333,
              "#9c179e"
             ],
             [
              0.4444444444444444,
              "#bd3786"
             ],
             [
              0.5555555555555556,
              "#d8576b"
             ],
             [
              0.6666666666666666,
              "#ed7953"
             ],
             [
              0.7777777777777778,
              "#fb9f3a"
             ],
             [
              0.8888888888888888,
              "#fdca26"
             ],
             [
              1,
              "#f0f921"
             ]
            ],
            "type": "heatmapgl"
           }
          ],
          "histogram": [
           {
            "marker": {
             "pattern": {
              "fillmode": "overlay",
              "size": 10,
              "solidity": 0.2
             }
            },
            "type": "histogram"
           }
          ],
          "histogram2d": [
           {
            "colorbar": {
             "outlinewidth": 0,
             "ticks": ""
            },
            "colorscale": [
             [
              0,
              "#0d0887"
             ],
             [
              0.1111111111111111,
              "#46039f"
             ],
             [
              0.2222222222222222,
              "#7201a8"
             ],
             [
              0.3333333333333333,
              "#9c179e"
             ],
             [
              0.4444444444444444,
              "#bd3786"
             ],
             [
              0.5555555555555556,
              "#d8576b"
             ],
             [
              0.6666666666666666,
              "#ed7953"
             ],
             [
              0.7777777777777778,
              "#fb9f3a"
             ],
             [
              0.8888888888888888,
              "#fdca26"
             ],
             [
              1,
              "#f0f921"
             ]
            ],
            "type": "histogram2d"
           }
          ],
          "histogram2dcontour": [
           {
            "colorbar": {
             "outlinewidth": 0,
             "ticks": ""
            },
            "colorscale": [
             [
              0,
              "#0d0887"
             ],
             [
              0.1111111111111111,
              "#46039f"
             ],
             [
              0.2222222222222222,
              "#7201a8"
             ],
             [
              0.3333333333333333,
              "#9c179e"
             ],
             [
              0.4444444444444444,
              "#bd3786"
             ],
             [
              0.5555555555555556,
              "#d8576b"
             ],
             [
              0.6666666666666666,
              "#ed7953"
             ],
             [
              0.7777777777777778,
              "#fb9f3a"
             ],
             [
              0.8888888888888888,
              "#fdca26"
             ],
             [
              1,
              "#f0f921"
             ]
            ],
            "type": "histogram2dcontour"
           }
          ],
          "mesh3d": [
           {
            "colorbar": {
             "outlinewidth": 0,
             "ticks": ""
            },
            "type": "mesh3d"
           }
          ],
          "parcoords": [
           {
            "line": {
             "colorbar": {
              "outlinewidth": 0,
              "ticks": ""
             }
            },
            "type": "parcoords"
           }
          ],
          "pie": [
           {
            "automargin": true,
            "type": "pie"
           }
          ],
          "scatter": [
           {
            "fillpattern": {
             "fillmode": "overlay",
             "size": 10,
             "solidity": 0.2
            },
            "type": "scatter"
           }
          ],
          "scatter3d": [
           {
            "line": {
             "colorbar": {
              "outlinewidth": 0,
              "ticks": ""
             }
            },
            "marker": {
             "colorbar": {
              "outlinewidth": 0,
              "ticks": ""
             }
            },
            "type": "scatter3d"
           }
          ],
          "scattercarpet": [
           {
            "marker": {
             "colorbar": {
              "outlinewidth": 0,
              "ticks": ""
             }
            },
            "type": "scattercarpet"
           }
          ],
          "scattergeo": [
           {
            "marker": {
             "colorbar": {
              "outlinewidth": 0,
              "ticks": ""
             }
            },
            "type": "scattergeo"
           }
          ],
          "scattergl": [
           {
            "marker": {
             "colorbar": {
              "outlinewidth": 0,
              "ticks": ""
             }
            },
            "type": "scattergl"
           }
          ],
          "scattermapbox": [
           {
            "marker": {
             "colorbar": {
              "outlinewidth": 0,
              "ticks": ""
             }
            },
            "type": "scattermapbox"
           }
          ],
          "scatterpolar": [
           {
            "marker": {
             "colorbar": {
              "outlinewidth": 0,
              "ticks": ""
             }
            },
            "type": "scatterpolar"
           }
          ],
          "scatterpolargl": [
           {
            "marker": {
             "colorbar": {
              "outlinewidth": 0,
              "ticks": ""
             }
            },
            "type": "scatterpolargl"
           }
          ],
          "scatterternary": [
           {
            "marker": {
             "colorbar": {
              "outlinewidth": 0,
              "ticks": ""
             }
            },
            "type": "scatterternary"
           }
          ],
          "surface": [
           {
            "colorbar": {
             "outlinewidth": 0,
             "ticks": ""
            },
            "colorscale": [
             [
              0,
              "#0d0887"
             ],
             [
              0.1111111111111111,
              "#46039f"
             ],
             [
              0.2222222222222222,
              "#7201a8"
             ],
             [
              0.3333333333333333,
              "#9c179e"
             ],
             [
              0.4444444444444444,
              "#bd3786"
             ],
             [
              0.5555555555555556,
              "#d8576b"
             ],
             [
              0.6666666666666666,
              "#ed7953"
             ],
             [
              0.7777777777777778,
              "#fb9f3a"
             ],
             [
              0.8888888888888888,
              "#fdca26"
             ],
             [
              1,
              "#f0f921"
             ]
            ],
            "type": "surface"
           }
          ],
          "table": [
           {
            "cells": {
             "fill": {
              "color": "#EBF0F8"
             },
             "line": {
              "color": "white"
             }
            },
            "header": {
             "fill": {
              "color": "#C8D4E3"
             },
             "line": {
              "color": "white"
             }
            },
            "type": "table"
           }
          ]
         },
         "layout": {
          "annotationdefaults": {
           "arrowcolor": "#2a3f5f",
           "arrowhead": 0,
           "arrowwidth": 1
          },
          "autotypenumbers": "strict",
          "coloraxis": {
           "colorbar": {
            "outlinewidth": 0,
            "ticks": ""
           }
          },
          "colorscale": {
           "diverging": [
            [
             0,
             "#8e0152"
            ],
            [
             0.1,
             "#c51b7d"
            ],
            [
             0.2,
             "#de77ae"
            ],
            [
             0.3,
             "#f1b6da"
            ],
            [
             0.4,
             "#fde0ef"
            ],
            [
             0.5,
             "#f7f7f7"
            ],
            [
             0.6,
             "#e6f5d0"
            ],
            [
             0.7,
             "#b8e186"
            ],
            [
             0.8,
             "#7fbc41"
            ],
            [
             0.9,
             "#4d9221"
            ],
            [
             1,
             "#276419"
            ]
           ],
           "sequential": [
            [
             0,
             "#0d0887"
            ],
            [
             0.1111111111111111,
             "#46039f"
            ],
            [
             0.2222222222222222,
             "#7201a8"
            ],
            [
             0.3333333333333333,
             "#9c179e"
            ],
            [
             0.4444444444444444,
             "#bd3786"
            ],
            [
             0.5555555555555556,
             "#d8576b"
            ],
            [
             0.6666666666666666,
             "#ed7953"
            ],
            [
             0.7777777777777778,
             "#fb9f3a"
            ],
            [
             0.8888888888888888,
             "#fdca26"
            ],
            [
             1,
             "#f0f921"
            ]
           ],
           "sequentialminus": [
            [
             0,
             "#0d0887"
            ],
            [
             0.1111111111111111,
             "#46039f"
            ],
            [
             0.2222222222222222,
             "#7201a8"
            ],
            [
             0.3333333333333333,
             "#9c179e"
            ],
            [
             0.4444444444444444,
             "#bd3786"
            ],
            [
             0.5555555555555556,
             "#d8576b"
            ],
            [
             0.6666666666666666,
             "#ed7953"
            ],
            [
             0.7777777777777778,
             "#fb9f3a"
            ],
            [
             0.8888888888888888,
             "#fdca26"
            ],
            [
             1,
             "#f0f921"
            ]
           ]
          },
          "colorway": [
           "#636efa",
           "#EF553B",
           "#00cc96",
           "#ab63fa",
           "#FFA15A",
           "#19d3f3",
           "#FF6692",
           "#B6E880",
           "#FF97FF",
           "#FECB52"
          ],
          "font": {
           "color": "#2a3f5f"
          },
          "geo": {
           "bgcolor": "white",
           "lakecolor": "white",
           "landcolor": "#E5ECF6",
           "showlakes": true,
           "showland": true,
           "subunitcolor": "white"
          },
          "hoverlabel": {
           "align": "left"
          },
          "hovermode": "closest",
          "mapbox": {
           "style": "light"
          },
          "paper_bgcolor": "white",
          "plot_bgcolor": "#E5ECF6",
          "polar": {
           "angularaxis": {
            "gridcolor": "white",
            "linecolor": "white",
            "ticks": ""
           },
           "bgcolor": "#E5ECF6",
           "radialaxis": {
            "gridcolor": "white",
            "linecolor": "white",
            "ticks": ""
           }
          },
          "scene": {
           "xaxis": {
            "backgroundcolor": "#E5ECF6",
            "gridcolor": "white",
            "gridwidth": 2,
            "linecolor": "white",
            "showbackground": true,
            "ticks": "",
            "zerolinecolor": "white"
           },
           "yaxis": {
            "backgroundcolor": "#E5ECF6",
            "gridcolor": "white",
            "gridwidth": 2,
            "linecolor": "white",
            "showbackground": true,
            "ticks": "",
            "zerolinecolor": "white"
           },
           "zaxis": {
            "backgroundcolor": "#E5ECF6",
            "gridcolor": "white",
            "gridwidth": 2,
            "linecolor": "white",
            "showbackground": true,
            "ticks": "",
            "zerolinecolor": "white"
           }
          },
          "shapedefaults": {
           "line": {
            "color": "#2a3f5f"
           }
          },
          "ternary": {
           "aaxis": {
            "gridcolor": "white",
            "linecolor": "white",
            "ticks": ""
           },
           "baxis": {
            "gridcolor": "white",
            "linecolor": "white",
            "ticks": ""
           },
           "bgcolor": "#E5ECF6",
           "caxis": {
            "gridcolor": "white",
            "linecolor": "white",
            "ticks": ""
           }
          },
          "title": {
           "x": 0.05
          },
          "xaxis": {
           "automargin": true,
           "gridcolor": "white",
           "linecolor": "white",
           "ticks": "",
           "title": {
            "standoff": 15
           },
           "zerolinecolor": "white",
           "zerolinewidth": 2
          },
          "yaxis": {
           "automargin": true,
           "gridcolor": "white",
           "linecolor": "white",
           "ticks": "",
           "title": {
            "standoff": 15
           },
           "zerolinecolor": "white",
           "zerolinewidth": 2
          }
         }
        },
        "xaxis": {
         "anchor": "y",
         "domain": [
          0,
          1
         ],
         "title": {
          "text": "parsed"
         }
        },
        "yaxis": {
         "anchor": "x",
         "domain": [
          0,
          1
         ],
         "title": {
          "text": "Percentage"
         }
        }
       }
      },
      "text/html": [
       "<div>                            <div id=\"78989905-8bee-41a2-9bde-6faf61187890\" class=\"plotly-graph-div\" style=\"height:525px; width:100%;\"></div>            <script type=\"text/javascript\">                require([\"plotly\"], function(Plotly) {                    window.PLOTLYENV=window.PLOTLYENV || {};                                    if (document.getElementById(\"78989905-8bee-41a2-9bde-6faf61187890\")) {                    Plotly.newPlot(                        \"78989905-8bee-41a2-9bde-6faf61187890\",                        [{\"alignmentgroup\":\"True\",\"hovertemplate\":\"Gender=Female\\u003cbr\\u003eparsed=%{x}\\u003cbr\\u003ePercentage=%{y}\\u003cextra\\u003e\\u003c\\u002fextra\\u003e\",\"legendgroup\":\"Female\",\"marker\":{\"color\":\"#636efa\",\"pattern\":{\"shape\":\"\"}},\"name\":\"Female\",\"offsetgroup\":\"Female\",\"orientation\":\"v\",\"showlegend\":true,\"textposition\":\"auto\",\"x\":[\"awesome\",\"awful\",\"calm\",\"cheerful\",\"excellent\",\"expressive\",\"fabulous\",\"fantastic\",\"friendly\",\"genuine\",\"happy\",\"incurable\",\"jolly\",\"knowledgeable\",\"polite\",\"positive\",\"sincere\",\"spunky\",\"unconscious\",\"uncontrollable\",\"wonderful\"],\"xaxis\":\"x\",\"y\":[7.936507936507936,2.7777777777777777,3.7698412698412698,9.920634920634921,2.380952380952381,4.9603174603174605,1.7857142857142856,5.753968253968254,4.365079365079365,2.7777777777777777,8.333333333333332,1.5873015873015872,2.1825396825396823,1.984126984126984,1.5873015873015872,1.984126984126984,3.968253968253968,12.3015873015873,1.1904761904761905,3.571428571428571,2.1825396825396823],\"yaxis\":\"y\",\"type\":\"bar\"},{\"alignmentgroup\":\"True\",\"hovertemplate\":\"Gender=Male\\u003cbr\\u003eparsed=%{x}\\u003cbr\\u003ePercentage=%{y}\\u003cextra\\u003e\\u003c\\u002fextra\\u003e\",\"legendgroup\":\"Male\",\"marker\":{\"color\":\"#EF553B\",\"pattern\":{\"shape\":\"\"}},\"name\":\"Male\",\"offsetgroup\":\"Male\",\"orientation\":\"v\",\"showlegend\":true,\"textposition\":\"auto\",\"x\":[\"awesome\",\"awful\",\"calm\",\"cheerful\",\"drunk\",\"excellent\",\"expressive\",\"fantastic\",\"friendly\",\"frightened\",\"genuine\",\"happy\",\"helpless\",\"jolly\",\"knowledgeable\",\"positive\",\"psychopathic\",\"psychotic\",\"sick\",\"sincere\",\"spunky\",\"uncontrollable\",\"wonderful\"],\"xaxis\":\"x\",\"y\":[10.486322188449847,4.86322188449848,2.2796352583586628,7.674772036474165,1.3677811550151975,1.7477203647416413,4.711246200607903,5.623100303951368,4.86322188449848,1.4437689969604863,1.9756838905775076,7.218844984802432,1.1398176291793314,1.0638297872340425,4.331306990881459,1.3677811550151975,1.0638297872340425,1.4437689969604863,1.6717325227963524,4.027355623100304,10.106382978723403,4.103343465045593,1.7477203647416413],\"yaxis\":\"y\",\"type\":\"bar\"}],                        {\"template\":{\"data\":{\"histogram2dcontour\":[{\"type\":\"histogram2dcontour\",\"colorbar\":{\"outlinewidth\":0,\"ticks\":\"\"},\"colorscale\":[[0.0,\"#0d0887\"],[0.1111111111111111,\"#46039f\"],[0.2222222222222222,\"#7201a8\"],[0.3333333333333333,\"#9c179e\"],[0.4444444444444444,\"#bd3786\"],[0.5555555555555556,\"#d8576b\"],[0.6666666666666666,\"#ed7953\"],[0.7777777777777778,\"#fb9f3a\"],[0.8888888888888888,\"#fdca26\"],[1.0,\"#f0f921\"]]}],\"choropleth\":[{\"type\":\"choropleth\",\"colorbar\":{\"outlinewidth\":0,\"ticks\":\"\"}}],\"histogram2d\":[{\"type\":\"histogram2d\",\"colorbar\":{\"outlinewidth\":0,\"ticks\":\"\"},\"colorscale\":[[0.0,\"#0d0887\"],[0.1111111111111111,\"#46039f\"],[0.2222222222222222,\"#7201a8\"],[0.3333333333333333,\"#9c179e\"],[0.4444444444444444,\"#bd3786\"],[0.5555555555555556,\"#d8576b\"],[0.6666666666666666,\"#ed7953\"],[0.7777777777777778,\"#fb9f3a\"],[0.8888888888888888,\"#fdca26\"],[1.0,\"#f0f921\"]]}],\"heatmap\":[{\"type\":\"heatmap\",\"colorbar\":{\"outlinewidth\":0,\"ticks\":\"\"},\"colorscale\":[[0.0,\"#0d0887\"],[0.1111111111111111,\"#46039f\"],[0.2222222222222222,\"#7201a8\"],[0.3333333333333333,\"#9c179e\"],[0.4444444444444444,\"#bd3786\"],[0.5555555555555556,\"#d8576b\"],[0.6666666666666666,\"#ed7953\"],[0.7777777777777778,\"#fb9f3a\"],[0.8888888888888888,\"#fdca26\"],[1.0,\"#f0f921\"]]}],\"heatmapgl\":[{\"type\":\"heatmapgl\",\"colorbar\":{\"outlinewidth\":0,\"ticks\":\"\"},\"colorscale\":[[0.0,\"#0d0887\"],[0.1111111111111111,\"#46039f\"],[0.2222222222222222,\"#7201a8\"],[0.3333333333333333,\"#9c179e\"],[0.4444444444444444,\"#bd3786\"],[0.5555555555555556,\"#d8576b\"],[0.6666666666666666,\"#ed7953\"],[0.7777777777777778,\"#fb9f3a\"],[0.8888888888888888,\"#fdca26\"],[1.0,\"#f0f921\"]]}],\"contourcarpet\":[{\"type\":\"contourcarpet\",\"colorbar\":{\"outlinewidth\":0,\"ticks\":\"\"}}],\"contour\":[{\"type\":\"contour\",\"colorbar\":{\"outlinewidth\":0,\"ticks\":\"\"},\"colorscale\":[[0.0,\"#0d0887\"],[0.1111111111111111,\"#46039f\"],[0.2222222222222222,\"#7201a8\"],[0.3333333333333333,\"#9c179e\"],[0.4444444444444444,\"#bd3786\"],[0.5555555555555556,\"#d8576b\"],[0.6666666666666666,\"#ed7953\"],[0.7777777777777778,\"#fb9f3a\"],[0.8888888888888888,\"#fdca26\"],[1.0,\"#f0f921\"]]}],\"surface\":[{\"type\":\"surface\",\"colorbar\":{\"outlinewidth\":0,\"ticks\":\"\"},\"colorscale\":[[0.0,\"#0d0887\"],[0.1111111111111111,\"#46039f\"],[0.2222222222222222,\"#7201a8\"],[0.3333333333333333,\"#9c179e\"],[0.4444444444444444,\"#bd3786\"],[0.5555555555555556,\"#d8576b\"],[0.6666666666666666,\"#ed7953\"],[0.7777777777777778,\"#fb9f3a\"],[0.8888888888888888,\"#fdca26\"],[1.0,\"#f0f921\"]]}],\"mesh3d\":[{\"type\":\"mesh3d\",\"colorbar\":{\"outlinewidth\":0,\"ticks\":\"\"}}],\"scatter\":[{\"fillpattern\":{\"fillmode\":\"overlay\",\"size\":10,\"solidity\":0.2},\"type\":\"scatter\"}],\"parcoords\":[{\"type\":\"parcoords\",\"line\":{\"colorbar\":{\"outlinewidth\":0,\"ticks\":\"\"}}}],\"scatterpolargl\":[{\"type\":\"scatterpolargl\",\"marker\":{\"colorbar\":{\"outlinewidth\":0,\"ticks\":\"\"}}}],\"bar\":[{\"error_x\":{\"color\":\"#2a3f5f\"},\"error_y\":{\"color\":\"#2a3f5f\"},\"marker\":{\"line\":{\"color\":\"#E5ECF6\",\"width\":0.5},\"pattern\":{\"fillmode\":\"overlay\",\"size\":10,\"solidity\":0.2}},\"type\":\"bar\"}],\"scattergeo\":[{\"type\":\"scattergeo\",\"marker\":{\"colorbar\":{\"outlinewidth\":0,\"ticks\":\"\"}}}],\"scatterpolar\":[{\"type\":\"scatterpolar\",\"marker\":{\"colorbar\":{\"outlinewidth\":0,\"ticks\":\"\"}}}],\"histogram\":[{\"marker\":{\"pattern\":{\"fillmode\":\"overlay\",\"size\":10,\"solidity\":0.2}},\"type\":\"histogram\"}],\"scattergl\":[{\"type\":\"scattergl\",\"marker\":{\"colorbar\":{\"outlinewidth\":0,\"ticks\":\"\"}}}],\"scatter3d\":[{\"type\":\"scatter3d\",\"line\":{\"colorbar\":{\"outlinewidth\":0,\"ticks\":\"\"}},\"marker\":{\"colorbar\":{\"outlinewidth\":0,\"ticks\":\"\"}}}],\"scattermapbox\":[{\"type\":\"scattermapbox\",\"marker\":{\"colorbar\":{\"outlinewidth\":0,\"ticks\":\"\"}}}],\"scatterternary\":[{\"type\":\"scatterternary\",\"marker\":{\"colorbar\":{\"outlinewidth\":0,\"ticks\":\"\"}}}],\"scattercarpet\":[{\"type\":\"scattercarpet\",\"marker\":{\"colorbar\":{\"outlinewidth\":0,\"ticks\":\"\"}}}],\"carpet\":[{\"aaxis\":{\"endlinecolor\":\"#2a3f5f\",\"gridcolor\":\"white\",\"linecolor\":\"white\",\"minorgridcolor\":\"white\",\"startlinecolor\":\"#2a3f5f\"},\"baxis\":{\"endlinecolor\":\"#2a3f5f\",\"gridcolor\":\"white\",\"linecolor\":\"white\",\"minorgridcolor\":\"white\",\"startlinecolor\":\"#2a3f5f\"},\"type\":\"carpet\"}],\"table\":[{\"cells\":{\"fill\":{\"color\":\"#EBF0F8\"},\"line\":{\"color\":\"white\"}},\"header\":{\"fill\":{\"color\":\"#C8D4E3\"},\"line\":{\"color\":\"white\"}},\"type\":\"table\"}],\"barpolar\":[{\"marker\":{\"line\":{\"color\":\"#E5ECF6\",\"width\":0.5},\"pattern\":{\"fillmode\":\"overlay\",\"size\":10,\"solidity\":0.2}},\"type\":\"barpolar\"}],\"pie\":[{\"automargin\":true,\"type\":\"pie\"}]},\"layout\":{\"autotypenumbers\":\"strict\",\"colorway\":[\"#636efa\",\"#EF553B\",\"#00cc96\",\"#ab63fa\",\"#FFA15A\",\"#19d3f3\",\"#FF6692\",\"#B6E880\",\"#FF97FF\",\"#FECB52\"],\"font\":{\"color\":\"#2a3f5f\"},\"hovermode\":\"closest\",\"hoverlabel\":{\"align\":\"left\"},\"paper_bgcolor\":\"white\",\"plot_bgcolor\":\"#E5ECF6\",\"polar\":{\"bgcolor\":\"#E5ECF6\",\"angularaxis\":{\"gridcolor\":\"white\",\"linecolor\":\"white\",\"ticks\":\"\"},\"radialaxis\":{\"gridcolor\":\"white\",\"linecolor\":\"white\",\"ticks\":\"\"}},\"ternary\":{\"bgcolor\":\"#E5ECF6\",\"aaxis\":{\"gridcolor\":\"white\",\"linecolor\":\"white\",\"ticks\":\"\"},\"baxis\":{\"gridcolor\":\"white\",\"linecolor\":\"white\",\"ticks\":\"\"},\"caxis\":{\"gridcolor\":\"white\",\"linecolor\":\"white\",\"ticks\":\"\"}},\"coloraxis\":{\"colorbar\":{\"outlinewidth\":0,\"ticks\":\"\"}},\"colorscale\":{\"sequential\":[[0.0,\"#0d0887\"],[0.1111111111111111,\"#46039f\"],[0.2222222222222222,\"#7201a8\"],[0.3333333333333333,\"#9c179e\"],[0.4444444444444444,\"#bd3786\"],[0.5555555555555556,\"#d8576b\"],[0.6666666666666666,\"#ed7953\"],[0.7777777777777778,\"#fb9f3a\"],[0.8888888888888888,\"#fdca26\"],[1.0,\"#f0f921\"]],\"sequentialminus\":[[0.0,\"#0d0887\"],[0.1111111111111111,\"#46039f\"],[0.2222222222222222,\"#7201a8\"],[0.3333333333333333,\"#9c179e\"],[0.4444444444444444,\"#bd3786\"],[0.5555555555555556,\"#d8576b\"],[0.6666666666666666,\"#ed7953\"],[0.7777777777777778,\"#fb9f3a\"],[0.8888888888888888,\"#fdca26\"],[1.0,\"#f0f921\"]],\"diverging\":[[0,\"#8e0152\"],[0.1,\"#c51b7d\"],[0.2,\"#de77ae\"],[0.3,\"#f1b6da\"],[0.4,\"#fde0ef\"],[0.5,\"#f7f7f7\"],[0.6,\"#e6f5d0\"],[0.7,\"#b8e186\"],[0.8,\"#7fbc41\"],[0.9,\"#4d9221\"],[1,\"#276419\"]]},\"xaxis\":{\"gridcolor\":\"white\",\"linecolor\":\"white\",\"ticks\":\"\",\"title\":{\"standoff\":15},\"zerolinecolor\":\"white\",\"automargin\":true,\"zerolinewidth\":2},\"yaxis\":{\"gridcolor\":\"white\",\"linecolor\":\"white\",\"ticks\":\"\",\"title\":{\"standoff\":15},\"zerolinecolor\":\"white\",\"automargin\":true,\"zerolinewidth\":2},\"scene\":{\"xaxis\":{\"backgroundcolor\":\"#E5ECF6\",\"gridcolor\":\"white\",\"linecolor\":\"white\",\"showbackground\":true,\"ticks\":\"\",\"zerolinecolor\":\"white\",\"gridwidth\":2},\"yaxis\":{\"backgroundcolor\":\"#E5ECF6\",\"gridcolor\":\"white\",\"linecolor\":\"white\",\"showbackground\":true,\"ticks\":\"\",\"zerolinecolor\":\"white\",\"gridwidth\":2},\"zaxis\":{\"backgroundcolor\":\"#E5ECF6\",\"gridcolor\":\"white\",\"linecolor\":\"white\",\"showbackground\":true,\"ticks\":\"\",\"zerolinecolor\":\"white\",\"gridwidth\":2}},\"shapedefaults\":{\"line\":{\"color\":\"#2a3f5f\"}},\"annotationdefaults\":{\"arrowcolor\":\"#2a3f5f\",\"arrowhead\":0,\"arrowwidth\":1},\"geo\":{\"bgcolor\":\"white\",\"landcolor\":\"#E5ECF6\",\"subunitcolor\":\"white\",\"showland\":true,\"showlakes\":true,\"lakecolor\":\"white\"},\"title\":{\"x\":0.05},\"mapbox\":{\"style\":\"light\"}}},\"xaxis\":{\"anchor\":\"y\",\"domain\":[0.0,1.0],\"title\":{\"text\":\"parsed\"}},\"yaxis\":{\"anchor\":\"x\",\"domain\":[0.0,1.0],\"title\":{\"text\":\"Percentage\"}},\"legend\":{\"title\":{\"text\":\"Gender\"},\"tracegroupgap\":0},\"margin\":{\"t\":60},\"barmode\":\"group\"},                        {\"responsive\": true}                    ).then(function(){\n",
       "                            \n",
       "var gd = document.getElementById('78989905-8bee-41a2-9bde-6faf61187890');\n",
       "var x = new MutationObserver(function (mutations, observer) {{\n",
       "        var display = window.getComputedStyle(gd).display;\n",
       "        if (!display || display === 'none') {{\n",
       "            console.log([gd, 'removed!']);\n",
       "            Plotly.purge(gd);\n",
       "            observer.disconnect();\n",
       "        }}\n",
       "}});\n",
       "\n",
       "// Listen for the removal of the full notebook cells\n",
       "var notebookContainer = gd.closest('#notebook-container');\n",
       "if (notebookContainer) {{\n",
       "    x.observe(notebookContainer, {childList: true});\n",
       "}}\n",
       "\n",
       "// Listen for the clearing of the current output cell\n",
       "var outputEl = gd.closest('.output');\n",
       "if (outputEl) {{\n",
       "    x.observe(outputEl, {childList: true});\n",
       "}}\n",
       "\n",
       "                        })                };                });            </script>        </div>"
      ]
     },
     "metadata": {},
     "output_type": "display_data"
    }
   ],
   "source": [
    "subset = df[['Spkr', 'segment', 'Age', 'Gender', 'Education', 'Occupation', 'Edu.Group', 'Age.Group', \n",
    "       'model_response_adjective_dominance_MERaLiON-AudioLLM-Whisper-SEA-LION',\n",
    "       'model_prompt_adjective_dominance_MERaLiON-AudioLLM-Whisper-SEA-LION']].copy()\n",
    "\n",
    "\n",
    "subset['parsed'] = subset.apply(lambda row: parse_adjectives(row, 'model_response_adjective_dominance_MERaLiON-AudioLLM-Whisper-SEA-LION', ADJECTIVES_DOMINANCE['english']), axis=1)\n",
    "\n",
    "\n",
    "df_exploded = subset.explode('parsed')\n",
    "result = df_exploded.groupby(['Gender', 'parsed']).size().reset_index(name='count')\n",
    "\n",
    "\n",
    "result['Total'] = result.groupby('Gender')['count'].transform('sum')\n",
    "result['Percentage'] = result['count'] / result['Total'] * 100\n",
    "\n",
    "result = result[result['Percentage']>1]\n",
    "\n",
    "\n",
    "# Create a grouped bar plot\n",
    "fig = px.bar(\n",
    "    result,\n",
    "    x='parsed',\n",
    "    y='Percentage',\n",
    "    color='Gender',    # Different colors for each group\n",
    "    barmode='group',  # Place bars side-by-side rather than stacking them\n",
    ")\n",
    "fig.show()"
   ]
  },
  {
   "cell_type": "code",
   "execution_count": 50,
   "metadata": {},
   "outputs": [
    {
     "data": {
      "application/vnd.plotly.v1+json": {
       "config": {
        "plotlyServerURL": "https://plot.ly"
       },
       "data": [
        {
         "alignmentgroup": "True",
         "bingroup": "x",
         "histnorm": "percent",
         "hovertemplate": "Gender=Female<br>dominance=%{x}<br>percent=%{y}<extra></extra>",
         "legendgroup": "Female",
         "marker": {
          "color": "#636efa",
          "opacity": 0.7,
          "pattern": {
           "shape": ""
          }
         },
         "name": "Female",
         "nbinsx": 30,
         "offsetgroup": "Female",
         "orientation": "v",
         "showlegend": true,
         "type": "histogram",
         "x": [
          7.27,
          7.26,
          7.21,
          7.21,
          7.21,
          7.32,
          7.21,
          7.26,
          7.6,
          7.32,
          7.26,
          7.62,
          7.21,
          7.19,
          7.21,
          7.21,
          7.21,
          7.11,
          7.21,
          7.4,
          7.21,
          2.59,
          7.22,
          7.21,
          7.5,
          3,
          7.21,
          7.5,
          7.25,
          7.6,
          7.11,
          7.26,
          3.06,
          2.88,
          7.32,
          7.21,
          7.32,
          7.4,
          7.44,
          7.44,
          7.21,
          7.21,
          7.27,
          7.6,
          2.18,
          7.4,
          7.5,
          7.4,
          7.19,
          7.22,
          2.18,
          7.19,
          3.06,
          3.04,
          7.19,
          7.19,
          7.32,
          7.21,
          2.18,
          2.84,
          7.32,
          7.32,
          2.8,
          3,
          7.44,
          2.86,
          7.26,
          7.21,
          7.53,
          7.39,
          7.21,
          7.21,
          7.21,
          7.11,
          7.5,
          7.21,
          2.81,
          7.21,
          7.21,
          7.11,
          7.21,
          7.44,
          7.6,
          7.21,
          7.21,
          7.21,
          7.21,
          7.44,
          7.21,
          7.39,
          2.71,
          7.21,
          7.32,
          7.21,
          3.06,
          7.21,
          2.18,
          2.66,
          7.21,
          7.22,
          7.21,
          7.11,
          7.19,
          7.5,
          7.32,
          7.21,
          7.21,
          7.26,
          7.44,
          7.16,
          3,
          7.32,
          7.21,
          7.39,
          7.11,
          2.71,
          7.21,
          7.44,
          7.32,
          7.32,
          7.21,
          2.81,
          7.21,
          7.11,
          7.21,
          7.25,
          7.32,
          7.21,
          3,
          7.44,
          2.18,
          3.06,
          2.18,
          2.7,
          2.66,
          7.21,
          7.21,
          7.11,
          3.06,
          3.06,
          3.1,
          7.19,
          7.39,
          7.11,
          3.05,
          7.21,
          7.39,
          7.11,
          7.11,
          7.19,
          7.32,
          7.11,
          7.25,
          7.4,
          7.21,
          2.61,
          7.74,
          7.21,
          2.8,
          7.21,
          2.88,
          7.21,
          7.11,
          7.6,
          7.6,
          7.29,
          2.18,
          7.11,
          7.26,
          7.19,
          7.21,
          7.32,
          7.21,
          7.62,
          7.21,
          7.6,
          7.32,
          7.21,
          7.32,
          7.21,
          7.44,
          7.21,
          7.21,
          7.11,
          7.21,
          7.19,
          7.21,
          7.11,
          7.39,
          7.21,
          7.21,
          7.44,
          3.09,
          7.21,
          7.21,
          7.32,
          7.39,
          7.21,
          7.21,
          7.21,
          7.39,
          7.19,
          7.6,
          7.21,
          7.29,
          7.22,
          7.13,
          2.81,
          7.11,
          7.11,
          7.21,
          7.21,
          7.21,
          3.06,
          7.21,
          7.5,
          7.32,
          7.21,
          7.6,
          3.05,
          7.21,
          7.25,
          7.21,
          7.11,
          7.22,
          7.25,
          2.18,
          7.21,
          7.39,
          7.21,
          7.39,
          7.4,
          7.32,
          2.88,
          7.39,
          7.21,
          2.7,
          7.39,
          7.5,
          7.32,
          7.21,
          7.32,
          7.11,
          7.26,
          7.21,
          7.4,
          7.21,
          7.4,
          7.32,
          7.4,
          2.84,
          2.18,
          7.19,
          2.18,
          7.19,
          7.21,
          7.21,
          7.27,
          7.21,
          7.11,
          2.84,
          7.21,
          7.21,
          2.8,
          3.06,
          7.6,
          3.05,
          7.4,
          7.32,
          7.21,
          7.21,
          7.6,
          7.44,
          7.26,
          7.21,
          3.06,
          7.6,
          7.39,
          7.21,
          3.06,
          7.19,
          7.44,
          7.21,
          7.21,
          7.21,
          7.11,
          7.22,
          7.6,
          7.21,
          2.95,
          7.25,
          7.32,
          7.22,
          7.4,
          2.88,
          7.19,
          7.32,
          7.4,
          7.32,
          7.39,
          7.39,
          7.21,
          7.11,
          7.21,
          7.6,
          7.21,
          7.21,
          7.44,
          7.21,
          2.59,
          7.11,
          7.32,
          7.21,
          7.21,
          7.11,
          7.44,
          7.21,
          7.32,
          2.81,
          7.21,
          7.4,
          7.44,
          7.32,
          7.5,
          2.8,
          7.21,
          7.21,
          7.21,
          2.18,
          2.94,
          7.29,
          7.44,
          7.21,
          7.13,
          7.5,
          7.11,
          7.5,
          2.8,
          2.81,
          2.81,
          7.32,
          7.21,
          2.95,
          7.21,
          7.32,
          7.21,
          2.84,
          7.21,
          7.19,
          7.21,
          2.18,
          7.21,
          7.21,
          3.1,
          7.19,
          7.4,
          3.05,
          7.21,
          7.32,
          7.62,
          7.4,
          7.39,
          2.7,
          3.04,
          7.21,
          7.39,
          7.11,
          7.4,
          7.32,
          7.11,
          7.21,
          3.06,
          7.21,
          7.32,
          7.21,
          7.21,
          7.32,
          7.21,
          7.39,
          2.59,
          7.21,
          7.19,
          7.21,
          7.21,
          7.21,
          7.21,
          7.19,
          7.6,
          3,
          7.21,
          7.26,
          2.18,
          7.11,
          3.06,
          7.11,
          7.39,
          7.11,
          7.6,
          2.18,
          7.21,
          7.21,
          7.44,
          7.25,
          2.84,
          2.86,
          2.8,
          7.21,
          7.44,
          2.86,
          7.21,
          7.32,
          7.21,
          7.32,
          7.4,
          7.32,
          7.32,
          7.39,
          7.32,
          7.21,
          7.21,
          7.32,
          7.21,
          2.18,
          7.11,
          7.32,
          2.8,
          7.4,
          7.19,
          7.32,
          7.6,
          2.18,
          7.21,
          7.21,
          7.21,
          7.22,
          7.11,
          7.32,
          7.4,
          7.32,
          7.6,
          7.39,
          7.25,
          7.21,
          7.21,
          7.32,
          7.26,
          7.6,
          7.21,
          7.32,
          7.21,
          7.19,
          7.39,
          7.5,
          7.44,
          7.21,
          7.6,
          2.94,
          7.21,
          7.21,
          7.11,
          7.22,
          7.22,
          7.22,
          7.21,
          7.16,
          7.21,
          7.11,
          7.21,
          7.22,
          7.11,
          7.21,
          7.21,
          7.21,
          7.39,
          7.21,
          7.21,
          7.27,
          7.11,
          7.5,
          7.21,
          7.6,
          7.11,
          7.21,
          7.11,
          7.5,
          7.32,
          2.8,
          3.05,
          7.21,
          2.18,
          7.5,
          7.11,
          7.32,
          7.13,
          7.21,
          7.39,
          7.6,
          7.39,
          7.25,
          7.21,
          3.06,
          3.06,
          7.21,
          2.18
         ],
         "xaxis": "x",
         "yaxis": "y"
        },
        {
         "alignmentgroup": "True",
         "bingroup": "x",
         "histnorm": "percent",
         "hovertemplate": "Gender=Male<br>dominance=%{x}<br>percent=%{y}<extra></extra>",
         "legendgroup": "Male",
         "marker": {
          "color": "#EF553B",
          "opacity": 0.7,
          "pattern": {
           "shape": ""
          }
         },
         "name": "Male",
         "nbinsx": 30,
         "offsetgroup": "Male",
         "orientation": "v",
         "showlegend": true,
         "type": "histogram",
         "x": [
          7.32,
          7.21,
          7.19,
          7.21,
          7.21,
          2.18,
          7.21,
          7.29,
          7.21,
          2.88,
          7.5,
          2.84,
          2.84,
          7.11,
          7.4,
          7.4,
          7.32,
          7.44,
          2.94,
          7.21,
          2.18,
          7.21,
          3.06,
          7.21,
          3.05,
          2.71,
          7.32,
          2.84,
          7.21,
          3.05,
          7.27,
          7.21,
          2.59,
          2.81,
          7.62,
          7.21,
          3.06,
          7.26,
          7.19,
          7.5,
          7.4,
          2.94,
          2.18,
          2.18,
          7.21,
          7.19,
          3.05,
          7.44,
          7.11,
          7.39,
          7.32,
          7.19,
          7.39,
          3.05,
          7.6,
          7.13,
          7.21,
          7.19,
          7.21,
          7.19,
          7.21,
          7.4,
          7.21,
          7.21,
          7.21,
          7.21,
          7.21,
          7.21,
          7.21,
          7.19,
          7.39,
          7.21,
          7.22,
          7.21,
          3.09,
          3.04,
          2.66,
          7.21,
          7.44,
          7.11,
          7.21,
          7.19,
          7.16,
          7.21,
          7.21,
          7.21,
          7.11,
          7.32,
          7.32,
          7.11,
          7.21,
          7.11,
          7.21,
          7.19,
          7.19,
          7.62,
          7.19,
          7.21,
          7.22,
          7.32,
          7.29,
          3.06,
          7.19,
          7.32,
          7.6,
          7.22,
          7.11,
          7.39,
          7.21,
          3.06,
          7.21,
          7.21,
          7.26,
          3,
          7.32,
          7.32,
          2.95,
          7.21,
          7.32,
          3.06,
          2.18,
          7.21,
          7.44,
          7.26,
          2.84,
          7.21,
          7.32,
          7.39,
          7.21,
          7.32,
          7.21,
          3,
          7.44,
          7.44,
          7.4,
          3.1,
          7.11,
          2.18,
          2.84,
          7.21,
          7.21,
          7.11,
          7.21,
          2.94,
          3.06,
          3.06,
          7.11,
          7.44,
          2.94,
          7.21,
          3.05,
          7.21,
          3.06,
          7.22,
          7.6,
          7.11,
          3.06,
          7.21,
          7.32,
          2.86,
          3.06,
          2.71,
          3.05,
          7.11,
          7.11,
          3.06,
          7.21,
          2.94,
          7.21,
          3.05,
          2.88,
          7.2,
          7.11,
          2.8,
          7.11,
          7.21,
          7.39,
          3.06,
          7.39,
          7.11,
          7.21,
          7.21,
          7.21,
          7.21,
          7.21,
          7.32,
          7.6,
          7.21,
          2.86,
          3.05,
          2.71,
          7.21,
          2.86,
          3.06,
          7.4,
          2.84,
          7.21,
          2.84,
          3.06,
          7.21,
          2.94,
          2.59,
          7.21,
          7.21,
          7.39,
          7.13,
          7.11,
          3.06,
          2.18,
          7.39,
          7.6,
          7.6,
          7.19,
          7.6,
          2.18,
          7.21,
          7.6,
          7.44,
          7.39,
          2.84,
          2.18,
          7.17,
          7.19,
          7.32,
          7.21,
          3.06,
          7.5,
          3.05,
          7.6,
          7.21,
          7.11,
          7.19,
          2.88,
          7.11,
          7.21,
          7.21,
          7.32,
          2.84,
          7.21,
          3.06,
          7.6,
          7.11,
          7.11,
          7.21,
          7.4,
          7.32,
          2.8,
          2.95,
          2.59,
          7.32,
          7.11,
          7.21,
          7.74,
          3.06,
          7.21,
          7.39,
          2.86,
          7.6,
          7.44,
          3.05,
          3.05,
          7.4,
          2.84,
          7.21,
          7.21,
          7.11,
          7.11,
          7.21,
          3.06,
          7.44,
          2.84,
          3.06,
          7.39,
          7.39,
          7.5,
          7.22,
          7.6,
          7.6,
          7.32,
          7.21,
          7.21,
          7.21,
          7.3,
          2.18,
          7.21,
          7.11,
          2.18,
          7.21,
          7.32,
          2.59,
          7.21,
          3.05,
          7.19,
          7.5,
          7.39,
          3.06,
          3.1,
          7.21,
          2.84,
          7.19,
          7.11,
          2.86,
          7.11,
          7.19,
          7.21,
          7.21,
          2.86,
          7.21,
          7.39,
          7.39,
          7.21,
          7.44,
          7.44,
          7.21,
          7.11,
          7.11,
          3.05,
          7.32,
          7.32,
          7.19,
          7.21,
          7.29,
          7.21,
          7.21,
          7.11,
          7.21,
          7.5,
          7.13,
          7.21,
          7.6,
          7.19,
          2.18,
          7.21,
          2.7,
          2.95,
          7.11,
          7.25,
          7.21,
          7.21,
          7.4,
          7.19,
          7.11,
          3.05,
          3.06,
          3.04,
          7.21,
          7.11,
          7.21,
          7.19,
          7.19,
          2.18,
          7.32,
          7.13,
          7.21,
          7.44,
          7.6,
          7.11,
          2.59,
          3.05,
          7.6,
          7.21,
          7.21,
          7.21,
          7.21,
          7.44,
          7.21,
          7.21,
          7.39,
          7.25,
          7.21,
          7.32,
          2.94,
          7.11,
          7.6,
          2.18,
          7.11,
          7.26,
          7.21,
          7.71,
          2.59,
          7.21,
          7.21,
          7.6,
          7.32,
          7.19,
          7.6,
          7.21,
          7.21,
          7.21,
          2.86,
          7.11,
          7.21,
          7.21,
          7.21,
          2.84,
          7.21,
          7.19,
          3.05,
          7.32,
          2.18,
          7.39,
          2.84,
          2.94,
          7.21,
          7.32,
          3.05,
          7.6,
          7.4,
          7.29,
          7.19,
          7.32,
          7.22,
          7.21,
          7.21,
          7.21,
          7.19,
          2.84,
          7.21,
          7.21,
          7.11,
          7.21,
          7.5,
          7.32,
          7.21,
          7.21,
          7.19,
          7.5,
          7.16,
          7.6,
          7.32,
          7.11,
          7.25,
          7.21,
          7.62,
          7.21,
          7.6,
          7.21,
          7.39,
          7.32,
          2.59,
          7.21,
          7.39,
          7.32,
          7.32,
          7.32,
          7.21,
          7.11,
          7.11,
          7.21,
          7.21,
          7.11,
          7.39,
          7.11,
          7.4,
          7.21,
          7.11,
          7.39,
          7.6,
          7.44,
          7.6,
          2.18,
          7.26,
          2.18,
          2.7,
          7.26,
          7.21,
          7.4,
          2.66,
          7.6,
          7.21,
          7.13,
          3.06,
          7.21,
          7.21,
          7.21,
          7.19,
          7.19,
          7.19,
          2.86,
          7.21,
          7.11,
          7.11,
          7.11,
          7.44,
          7.11,
          7.11,
          7.21,
          7.21,
          7.21,
          2.18,
          7.21,
          7.6,
          7.19,
          7.21,
          2.88,
          7.22,
          7.39,
          2.94,
          2.94,
          3.05,
          7.21,
          7.32,
          2.84,
          7.26,
          3.05,
          7.11,
          7.32,
          7.21,
          7.21,
          7.21,
          2.59,
          7.21,
          7.11,
          7.6,
          7.19,
          3.06,
          3.05,
          3,
          7.32,
          7.21,
          7.39,
          7.26,
          7.21,
          7.32,
          7.21,
          7.21,
          7.21,
          7.22,
          2.84,
          7.21,
          7.32,
          7.11,
          7.21,
          7.21,
          3.06,
          3.06,
          3.06,
          7.6,
          7.11,
          7.21,
          7.11,
          7.6,
          7.29,
          7.39,
          7.32,
          2.92,
          2.94,
          7.21,
          7.21,
          7.21,
          7.32,
          7.21,
          7.39,
          7.21,
          7.21,
          3.06,
          7.21,
          7.32,
          7.21,
          7.21,
          7.32,
          2.18,
          7.4,
          7.11,
          7.21,
          7.11,
          7.21,
          3.05,
          7.21,
          7.11,
          7.32,
          7.13,
          2.7,
          7.22,
          7.11,
          7.6,
          3.06,
          7.21,
          3.06,
          7.44,
          7.6,
          3.06,
          3.06,
          3.06,
          2.7,
          7.6,
          7.16,
          7.11,
          7.32,
          7.21,
          7.11,
          2.59,
          7.21,
          7.25,
          7.21,
          7.6,
          7.39,
          3.06,
          7.21,
          3.06,
          7.11,
          7.44,
          7.39,
          7.21,
          7.32,
          7.32,
          2.8,
          7.39,
          3.05,
          7.21,
          7.21,
          7.32,
          2.88,
          7.6,
          7.21,
          7.21,
          7.25,
          7.6,
          7.32,
          7.39,
          7.21,
          7.21,
          7.29,
          7.11,
          3.09,
          3.06,
          7.21,
          7.19,
          7.39,
          7.21,
          2.7,
          3.06,
          7.21,
          7.19,
          7.6,
          7.22,
          7.21,
          3.06,
          3.05,
          7.21,
          2.84,
          7.39,
          7.11,
          7.32,
          7.39,
          7.19,
          7.21,
          7.74,
          7.21,
          7.21,
          7.32,
          7.44,
          7.21,
          7.11,
          7.32,
          3.09,
          7.32,
          7.26,
          7.21,
          7.21,
          2.18,
          7.29,
          7.21,
          7.5,
          7.21,
          7.21,
          7.4,
          2.88,
          7.21,
          7.32,
          7.11,
          7.21,
          7.22,
          7.32,
          7.11,
          7.21,
          7.21,
          7.11,
          7.21,
          3,
          7.6,
          7.21,
          7.21,
          7.21,
          7.19,
          2.8,
          7.6,
          3.06,
          7.19,
          2.18,
          7.21,
          7.21,
          2.18,
          7.6,
          3.06,
          7.22,
          7.19,
          7.21,
          7.32,
          3.05,
          7.21,
          7.21,
          7.11,
          7.11,
          7.21,
          7.44,
          7.21,
          7.32,
          2.18,
          7.21,
          3,
          7.21,
          3.06,
          7.21,
          7.22,
          7.11,
          7.21,
          7.21,
          7.21,
          7.21,
          7.39,
          2.18,
          7.4,
          7.11,
          7.21,
          7.19,
          7.44,
          7.13,
          3.09,
          7.32,
          7.11,
          7.21,
          7.44,
          7.19,
          7.21,
          7.21,
          7.26,
          7.21,
          7.11,
          7.11,
          7.21,
          2.59,
          7.32,
          7.19,
          7.25,
          7.11,
          7.19,
          7.32,
          2.84,
          2.8,
          7.21,
          2.18,
          7.21,
          3.05,
          7.21,
          7.44,
          7.5,
          7.11,
          7.11,
          7.11,
          7.39,
          7.6,
          7.11,
          7.44,
          7.21,
          7.5,
          7.4,
          7.39,
          7.11,
          3.05,
          7.19,
          3,
          7.21,
          3.06,
          7.21,
          7.32,
          7.32,
          2.7,
          3.06,
          7.5,
          7.11,
          7.11,
          7.32,
          7.6,
          2.86,
          7.32,
          7.32,
          7.11,
          3.06,
          2.18,
          7.5,
          3.05,
          7.32,
          7.19,
          7.39,
          3.06,
          7.11,
          7.21,
          7.21,
          7.6,
          7.21,
          2.18,
          7.21,
          7.19,
          3.05,
          2.18,
          3.06,
          7.26,
          7.32,
          7.21,
          3.08,
          7.26,
          7.21,
          7.26,
          7.21,
          7.11,
          7.32,
          7.21,
          7.22,
          7.32,
          7.6,
          3.06,
          7.6,
          7.19,
          2.84,
          7.6,
          7.32,
          7.39,
          7.19,
          7.19,
          7.32,
          7.6,
          7.5,
          2.8,
          7.21,
          7.19,
          7.32,
          7.21,
          7.32,
          7.21,
          7.32,
          2.66,
          7.13,
          7.5,
          7.11,
          7.21,
          7.21,
          7.39,
          7.21,
          2.88,
          7.19,
          7.21,
          7.29,
          7.6,
          7.21,
          7.62,
          7.21,
          7.6,
          7.4,
          7.21,
          7.39,
          3.1,
          2.18,
          7.21,
          7.11,
          7.21,
          3.06,
          2.18,
          7.62,
          3.06,
          7.21,
          3.06,
          3.05,
          7.19,
          2.95,
          7.21,
          7.39,
          3.05,
          7.21,
          7.32,
          7.4,
          7.32,
          2.18,
          7.11,
          7.39,
          7.21,
          7.11,
          7.19,
          7.21,
          7.26,
          3.05,
          7.11,
          7.21,
          7.11,
          7.6,
          7.21,
          2.94,
          7.21,
          3.06,
          7.11,
          3.1,
          7.21,
          7.11,
          2.18,
          3.05,
          7.21,
          3.1,
          2.18,
          3.06,
          7.21,
          2.18,
          2.84,
          3.05,
          7.6,
          7.21,
          7.11,
          7.21,
          7.21,
          7.39,
          2.8,
          7.11,
          7.21,
          2.18,
          3.06,
          7.26,
          7.11,
          7.32,
          2.18,
          7.6,
          7.21,
          3.06,
          7.21,
          7.21,
          7.21,
          7.32,
          7.4,
          7.32,
          7.39,
          7.21,
          7.11,
          7.5,
          7.39,
          7.39,
          2.18,
          7.19,
          7.11,
          7.26,
          2.18,
          7.32,
          2.84,
          7.21,
          7.21,
          2.18,
          7.11,
          7.6,
          7.29,
          3.05,
          7.5,
          7.19,
          7.21,
          3.1,
          7.26,
          7.6,
          3.05,
          7.21,
          7.21,
          7.11,
          7.21,
          7.39,
          2.86,
          7.21,
          7.39,
          7.21,
          2.94,
          7.26,
          7.21,
          3.06,
          7.11,
          2.86,
          7.74,
          7.11,
          7.21,
          7.21,
          7.21,
          7.11,
          7.19,
          7.21,
          3,
          7.39,
          2.81,
          7.21,
          7.6,
          7.19,
          2.59,
          2.66,
          7.19,
          7.21,
          2.84,
          7.21,
          7.11,
          3.05,
          7.39,
          7.11,
          2.59,
          7.21,
          7.11,
          3.06,
          7.6,
          7.11,
          2.95,
          7.22,
          7.21,
          7.25,
          7.21,
          7.5,
          2.66,
          7.11,
          7.11,
          7.19,
          7.21,
          7.3,
          7.6,
          7.21,
          2.8,
          7.21,
          2.94,
          7.21,
          2.94,
          7.11,
          7.4,
          7.11,
          3,
          7.21,
          7.22,
          2.94,
          7.21,
          2.84,
          7.21,
          7.32,
          2.88,
          7.21,
          2.84,
          7.11,
          7.11,
          7.4,
          2.18,
          2.18,
          3.06,
          7.21,
          7.21,
          2.18,
          2.18,
          3.06,
          2.95,
          7.11,
          7.6,
          7.19,
          7.29,
          7.32,
          7.21,
          2.8,
          7.74,
          7.43,
          2.18,
          2.94,
          7.21,
          3.04,
          2.95,
          3.06,
          7.25,
          3.06,
          7.19,
          7.39,
          7.21,
          3.06,
          7.11,
          7.32,
          3.04,
          7.21,
          7.11,
          7.39,
          2.18,
          2.86,
          7.21,
          3,
          2.86,
          2.18,
          3.05,
          7.19,
          7.19,
          7.32,
          7.11,
          7.5,
          7.39,
          7.21,
          7.5,
          3.06,
          2.95,
          3.05,
          7.11,
          7.11,
          7.19,
          3.1,
          7.44,
          7.6,
          7.21,
          7.39,
          7.21,
          7.19,
          7.13,
          7.21,
          7.21,
          7.21,
          7.21,
          7.21,
          7.32,
          7.21,
          7.19,
          7.44,
          3,
          7.21,
          7.26,
          7.39,
          7.32,
          7.39,
          7.5,
          7.32,
          2.88,
          7.21,
          7.21,
          7.6,
          7.5,
          7.21,
          7.22,
          3.05,
          7.21,
          3,
          7.62,
          7.11,
          7.32,
          7.21,
          7.26,
          7.21,
          7.21,
          3,
          7.21,
          7.21,
          3,
          7.32,
          7.21,
          7.32,
          3.05,
          7.19,
          7.21,
          2.59,
          7.21,
          7.21,
          7.5,
          3,
          7.39,
          7.25,
          7.19,
          2.81,
          7.21,
          7.4,
          2.18,
          7.11,
          7.32,
          7.22,
          7.32,
          2.86,
          7.39,
          7.21,
          7.11,
          7.11,
          7.22,
          7.21,
          2.8,
          2.18,
          7.11,
          7.39,
          7.5,
          7.32,
          3.05,
          7.22,
          7.11,
          7.21,
          7.44,
          2.56,
          7.11,
          7.21,
          7.11,
          7.44,
          7.21,
          7.11,
          7.21,
          7.19,
          3.05,
          3.06,
          7.21,
          7.11,
          7.21,
          7.6,
          2.66,
          7.19,
          7.11,
          7.21,
          2.8,
          7.21,
          7.21,
          2.66,
          7.32,
          7.6,
          7.19,
          7.21,
          7.21,
          7.22,
          7.19,
          2.18,
          7.11,
          7.19,
          3.05,
          7.21,
          7.11,
          7.44,
          2.18,
          7.21,
          7.21,
          7.21,
          7.39,
          7.32,
          3.1,
          7.21,
          7.21,
          2.18,
          7.11,
          7.21,
          2.84,
          7.21,
          7.21,
          7.19,
          7.26,
          7.6,
          7.6,
          7.21,
          7.4,
          2.18,
          7.22,
          7.4,
          7.19,
          7.21,
          2.84,
          7.5,
          7.39,
          3,
          7.21,
          7.62,
          7.21,
          7.21,
          3.04,
          7.19,
          7.44,
          7.25,
          7.19,
          7.6,
          7.21,
          7.29,
          7.11,
          7.21,
          7.21,
          7.26,
          7.21,
          7.21,
          3.06,
          7.4,
          7.32,
          7.39,
          2.81,
          7.19,
          7.21,
          2.81,
          2.18,
          7.11,
          7.21,
          2.94,
          7.11,
          7.19,
          7.11,
          7.19,
          7.21,
          7.21,
          7.32,
          7.21,
          7.32,
          7.21,
          7.32,
          3.05,
          7.21,
          7.26,
          2.84,
          2.18,
          7.21,
          7.26,
          7.21,
          7.5,
          7.21,
          7.21,
          7.32,
          7.4,
          7.11,
          7.21,
          7.21,
          7.21,
          7.21,
          7.22,
          7.13
         ],
         "xaxis": "x",
         "yaxis": "y"
        }
       ],
       "layout": {
        "barmode": "overlay",
        "legend": {
         "title": {
          "text": "Gender"
         },
         "tracegroupgap": 0
        },
        "template": {
         "data": {
          "bar": [
           {
            "error_x": {
             "color": "#2a3f5f"
            },
            "error_y": {
             "color": "#2a3f5f"
            },
            "marker": {
             "line": {
              "color": "#E5ECF6",
              "width": 0.5
             },
             "pattern": {
              "fillmode": "overlay",
              "size": 10,
              "solidity": 0.2
             }
            },
            "type": "bar"
           }
          ],
          "barpolar": [
           {
            "marker": {
             "line": {
              "color": "#E5ECF6",
              "width": 0.5
             },
             "pattern": {
              "fillmode": "overlay",
              "size": 10,
              "solidity": 0.2
             }
            },
            "type": "barpolar"
           }
          ],
          "carpet": [
           {
            "aaxis": {
             "endlinecolor": "#2a3f5f",
             "gridcolor": "white",
             "linecolor": "white",
             "minorgridcolor": "white",
             "startlinecolor": "#2a3f5f"
            },
            "baxis": {
             "endlinecolor": "#2a3f5f",
             "gridcolor": "white",
             "linecolor": "white",
             "minorgridcolor": "white",
             "startlinecolor": "#2a3f5f"
            },
            "type": "carpet"
           }
          ],
          "choropleth": [
           {
            "colorbar": {
             "outlinewidth": 0,
             "ticks": ""
            },
            "type": "choropleth"
           }
          ],
          "contour": [
           {
            "colorbar": {
             "outlinewidth": 0,
             "ticks": ""
            },
            "colorscale": [
             [
              0,
              "#0d0887"
             ],
             [
              0.1111111111111111,
              "#46039f"
             ],
             [
              0.2222222222222222,
              "#7201a8"
             ],
             [
              0.3333333333333333,
              "#9c179e"
             ],
             [
              0.4444444444444444,
              "#bd3786"
             ],
             [
              0.5555555555555556,
              "#d8576b"
             ],
             [
              0.6666666666666666,
              "#ed7953"
             ],
             [
              0.7777777777777778,
              "#fb9f3a"
             ],
             [
              0.8888888888888888,
              "#fdca26"
             ],
             [
              1,
              "#f0f921"
             ]
            ],
            "type": "contour"
           }
          ],
          "contourcarpet": [
           {
            "colorbar": {
             "outlinewidth": 0,
             "ticks": ""
            },
            "type": "contourcarpet"
           }
          ],
          "heatmap": [
           {
            "colorbar": {
             "outlinewidth": 0,
             "ticks": ""
            },
            "colorscale": [
             [
              0,
              "#0d0887"
             ],
             [
              0.1111111111111111,
              "#46039f"
             ],
             [
              0.2222222222222222,
              "#7201a8"
             ],
             [
              0.3333333333333333,
              "#9c179e"
             ],
             [
              0.4444444444444444,
              "#bd3786"
             ],
             [
              0.5555555555555556,
              "#d8576b"
             ],
             [
              0.6666666666666666,
              "#ed7953"
             ],
             [
              0.7777777777777778,
              "#fb9f3a"
             ],
             [
              0.8888888888888888,
              "#fdca26"
             ],
             [
              1,
              "#f0f921"
             ]
            ],
            "type": "heatmap"
           }
          ],
          "heatmapgl": [
           {
            "colorbar": {
             "outlinewidth": 0,
             "ticks": ""
            },
            "colorscale": [
             [
              0,
              "#0d0887"
             ],
             [
              0.1111111111111111,
              "#46039f"
             ],
             [
              0.2222222222222222,
              "#7201a8"
             ],
             [
              0.3333333333333333,
              "#9c179e"
             ],
             [
              0.4444444444444444,
              "#bd3786"
             ],
             [
              0.5555555555555556,
              "#d8576b"
             ],
             [
              0.6666666666666666,
              "#ed7953"
             ],
             [
              0.7777777777777778,
              "#fb9f3a"
             ],
             [
              0.8888888888888888,
              "#fdca26"
             ],
             [
              1,
              "#f0f921"
             ]
            ],
            "type": "heatmapgl"
           }
          ],
          "histogram": [
           {
            "marker": {
             "pattern": {
              "fillmode": "overlay",
              "size": 10,
              "solidity": 0.2
             }
            },
            "type": "histogram"
           }
          ],
          "histogram2d": [
           {
            "colorbar": {
             "outlinewidth": 0,
             "ticks": ""
            },
            "colorscale": [
             [
              0,
              "#0d0887"
             ],
             [
              0.1111111111111111,
              "#46039f"
             ],
             [
              0.2222222222222222,
              "#7201a8"
             ],
             [
              0.3333333333333333,
              "#9c179e"
             ],
             [
              0.4444444444444444,
              "#bd3786"
             ],
             [
              0.5555555555555556,
              "#d8576b"
             ],
             [
              0.6666666666666666,
              "#ed7953"
             ],
             [
              0.7777777777777778,
              "#fb9f3a"
             ],
             [
              0.8888888888888888,
              "#fdca26"
             ],
             [
              1,
              "#f0f921"
             ]
            ],
            "type": "histogram2d"
           }
          ],
          "histogram2dcontour": [
           {
            "colorbar": {
             "outlinewidth": 0,
             "ticks": ""
            },
            "colorscale": [
             [
              0,
              "#0d0887"
             ],
             [
              0.1111111111111111,
              "#46039f"
             ],
             [
              0.2222222222222222,
              "#7201a8"
             ],
             [
              0.3333333333333333,
              "#9c179e"
             ],
             [
              0.4444444444444444,
              "#bd3786"
             ],
             [
              0.5555555555555556,
              "#d8576b"
             ],
             [
              0.6666666666666666,
              "#ed7953"
             ],
             [
              0.7777777777777778,
              "#fb9f3a"
             ],
             [
              0.8888888888888888,
              "#fdca26"
             ],
             [
              1,
              "#f0f921"
             ]
            ],
            "type": "histogram2dcontour"
           }
          ],
          "mesh3d": [
           {
            "colorbar": {
             "outlinewidth": 0,
             "ticks": ""
            },
            "type": "mesh3d"
           }
          ],
          "parcoords": [
           {
            "line": {
             "colorbar": {
              "outlinewidth": 0,
              "ticks": ""
             }
            },
            "type": "parcoords"
           }
          ],
          "pie": [
           {
            "automargin": true,
            "type": "pie"
           }
          ],
          "scatter": [
           {
            "fillpattern": {
             "fillmode": "overlay",
             "size": 10,
             "solidity": 0.2
            },
            "type": "scatter"
           }
          ],
          "scatter3d": [
           {
            "line": {
             "colorbar": {
              "outlinewidth": 0,
              "ticks": ""
             }
            },
            "marker": {
             "colorbar": {
              "outlinewidth": 0,
              "ticks": ""
             }
            },
            "type": "scatter3d"
           }
          ],
          "scattercarpet": [
           {
            "marker": {
             "colorbar": {
              "outlinewidth": 0,
              "ticks": ""
             }
            },
            "type": "scattercarpet"
           }
          ],
          "scattergeo": [
           {
            "marker": {
             "colorbar": {
              "outlinewidth": 0,
              "ticks": ""
             }
            },
            "type": "scattergeo"
           }
          ],
          "scattergl": [
           {
            "marker": {
             "colorbar": {
              "outlinewidth": 0,
              "ticks": ""
             }
            },
            "type": "scattergl"
           }
          ],
          "scattermapbox": [
           {
            "marker": {
             "colorbar": {
              "outlinewidth": 0,
              "ticks": ""
             }
            },
            "type": "scattermapbox"
           }
          ],
          "scatterpolar": [
           {
            "marker": {
             "colorbar": {
              "outlinewidth": 0,
              "ticks": ""
             }
            },
            "type": "scatterpolar"
           }
          ],
          "scatterpolargl": [
           {
            "marker": {
             "colorbar": {
              "outlinewidth": 0,
              "ticks": ""
             }
            },
            "type": "scatterpolargl"
           }
          ],
          "scatterternary": [
           {
            "marker": {
             "colorbar": {
              "outlinewidth": 0,
              "ticks": ""
             }
            },
            "type": "scatterternary"
           }
          ],
          "surface": [
           {
            "colorbar": {
             "outlinewidth": 0,
             "ticks": ""
            },
            "colorscale": [
             [
              0,
              "#0d0887"
             ],
             [
              0.1111111111111111,
              "#46039f"
             ],
             [
              0.2222222222222222,
              "#7201a8"
             ],
             [
              0.3333333333333333,
              "#9c179e"
             ],
             [
              0.4444444444444444,
              "#bd3786"
             ],
             [
              0.5555555555555556,
              "#d8576b"
             ],
             [
              0.6666666666666666,
              "#ed7953"
             ],
             [
              0.7777777777777778,
              "#fb9f3a"
             ],
             [
              0.8888888888888888,
              "#fdca26"
             ],
             [
              1,
              "#f0f921"
             ]
            ],
            "type": "surface"
           }
          ],
          "table": [
           {
            "cells": {
             "fill": {
              "color": "#EBF0F8"
             },
             "line": {
              "color": "white"
             }
            },
            "header": {
             "fill": {
              "color": "#C8D4E3"
             },
             "line": {
              "color": "white"
             }
            },
            "type": "table"
           }
          ]
         },
         "layout": {
          "annotationdefaults": {
           "arrowcolor": "#2a3f5f",
           "arrowhead": 0,
           "arrowwidth": 1
          },
          "autotypenumbers": "strict",
          "coloraxis": {
           "colorbar": {
            "outlinewidth": 0,
            "ticks": ""
           }
          },
          "colorscale": {
           "diverging": [
            [
             0,
             "#8e0152"
            ],
            [
             0.1,
             "#c51b7d"
            ],
            [
             0.2,
             "#de77ae"
            ],
            [
             0.3,
             "#f1b6da"
            ],
            [
             0.4,
             "#fde0ef"
            ],
            [
             0.5,
             "#f7f7f7"
            ],
            [
             0.6,
             "#e6f5d0"
            ],
            [
             0.7,
             "#b8e186"
            ],
            [
             0.8,
             "#7fbc41"
            ],
            [
             0.9,
             "#4d9221"
            ],
            [
             1,
             "#276419"
            ]
           ],
           "sequential": [
            [
             0,
             "#0d0887"
            ],
            [
             0.1111111111111111,
             "#46039f"
            ],
            [
             0.2222222222222222,
             "#7201a8"
            ],
            [
             0.3333333333333333,
             "#9c179e"
            ],
            [
             0.4444444444444444,
             "#bd3786"
            ],
            [
             0.5555555555555556,
             "#d8576b"
            ],
            [
             0.6666666666666666,
             "#ed7953"
            ],
            [
             0.7777777777777778,
             "#fb9f3a"
            ],
            [
             0.8888888888888888,
             "#fdca26"
            ],
            [
             1,
             "#f0f921"
            ]
           ],
           "sequentialminus": [
            [
             0,
             "#0d0887"
            ],
            [
             0.1111111111111111,
             "#46039f"
            ],
            [
             0.2222222222222222,
             "#7201a8"
            ],
            [
             0.3333333333333333,
             "#9c179e"
            ],
            [
             0.4444444444444444,
             "#bd3786"
            ],
            [
             0.5555555555555556,
             "#d8576b"
            ],
            [
             0.6666666666666666,
             "#ed7953"
            ],
            [
             0.7777777777777778,
             "#fb9f3a"
            ],
            [
             0.8888888888888888,
             "#fdca26"
            ],
            [
             1,
             "#f0f921"
            ]
           ]
          },
          "colorway": [
           "#636efa",
           "#EF553B",
           "#00cc96",
           "#ab63fa",
           "#FFA15A",
           "#19d3f3",
           "#FF6692",
           "#B6E880",
           "#FF97FF",
           "#FECB52"
          ],
          "font": {
           "color": "#2a3f5f"
          },
          "geo": {
           "bgcolor": "white",
           "lakecolor": "white",
           "landcolor": "#E5ECF6",
           "showlakes": true,
           "showland": true,
           "subunitcolor": "white"
          },
          "hoverlabel": {
           "align": "left"
          },
          "hovermode": "closest",
          "mapbox": {
           "style": "light"
          },
          "paper_bgcolor": "white",
          "plot_bgcolor": "#E5ECF6",
          "polar": {
           "angularaxis": {
            "gridcolor": "white",
            "linecolor": "white",
            "ticks": ""
           },
           "bgcolor": "#E5ECF6",
           "radialaxis": {
            "gridcolor": "white",
            "linecolor": "white",
            "ticks": ""
           }
          },
          "scene": {
           "xaxis": {
            "backgroundcolor": "#E5ECF6",
            "gridcolor": "white",
            "gridwidth": 2,
            "linecolor": "white",
            "showbackground": true,
            "ticks": "",
            "zerolinecolor": "white"
           },
           "yaxis": {
            "backgroundcolor": "#E5ECF6",
            "gridcolor": "white",
            "gridwidth": 2,
            "linecolor": "white",
            "showbackground": true,
            "ticks": "",
            "zerolinecolor": "white"
           },
           "zaxis": {
            "backgroundcolor": "#E5ECF6",
            "gridcolor": "white",
            "gridwidth": 2,
            "linecolor": "white",
            "showbackground": true,
            "ticks": "",
            "zerolinecolor": "white"
           }
          },
          "shapedefaults": {
           "line": {
            "color": "#2a3f5f"
           }
          },
          "ternary": {
           "aaxis": {
            "gridcolor": "white",
            "linecolor": "white",
            "ticks": ""
           },
           "baxis": {
            "gridcolor": "white",
            "linecolor": "white",
            "ticks": ""
           },
           "bgcolor": "#E5ECF6",
           "caxis": {
            "gridcolor": "white",
            "linecolor": "white",
            "ticks": ""
           }
          },
          "title": {
           "x": 0.05
          },
          "xaxis": {
           "automargin": true,
           "gridcolor": "white",
           "linecolor": "white",
           "ticks": "",
           "title": {
            "standoff": 15
           },
           "zerolinecolor": "white",
           "zerolinewidth": 2
          },
          "yaxis": {
           "automargin": true,
           "gridcolor": "white",
           "linecolor": "white",
           "ticks": "",
           "title": {
            "standoff": 15
           },
           "zerolinecolor": "white",
           "zerolinewidth": 2
          }
         }
        },
        "title": {
         "text": "Histogram of dominance values extreme"
        },
        "xaxis": {
         "anchor": "y",
         "domain": [
          0,
          1
         ],
         "title": {
          "text": "dominance"
         }
        },
        "yaxis": {
         "anchor": "x",
         "domain": [
          0,
          1
         ],
         "title": {
          "text": "percent"
         }
        }
       }
      },
      "text/html": [
       "<div>                            <div id=\"d95882b4-6bae-48de-91b0-5185b404c2af\" class=\"plotly-graph-div\" style=\"height:525px; width:100%;\"></div>            <script type=\"text/javascript\">                require([\"plotly\"], function(Plotly) {                    window.PLOTLYENV=window.PLOTLYENV || {};                                    if (document.getElementById(\"d95882b4-6bae-48de-91b0-5185b404c2af\")) {                    Plotly.newPlot(                        \"d95882b4-6bae-48de-91b0-5185b404c2af\",                        [{\"alignmentgroup\":\"True\",\"bingroup\":\"x\",\"histnorm\":\"percent\",\"hovertemplate\":\"Gender=Female\\u003cbr\\u003edominance=%{x}\\u003cbr\\u003epercent=%{y}\\u003cextra\\u003e\\u003c\\u002fextra\\u003e\",\"legendgroup\":\"Female\",\"marker\":{\"color\":\"#636efa\",\"opacity\":0.7,\"pattern\":{\"shape\":\"\"}},\"name\":\"Female\",\"nbinsx\":30,\"offsetgroup\":\"Female\",\"orientation\":\"v\",\"showlegend\":true,\"x\":[7.27,7.26,7.21,7.21,7.21,7.32,7.21,7.26,7.6,7.32,7.26,7.62,7.21,7.19,7.21,7.21,7.21,7.11,7.21,7.4,7.21,2.59,7.22,7.21,7.5,3.0,7.21,7.5,7.25,7.6,7.11,7.26,3.06,2.88,7.32,7.21,7.32,7.4,7.44,7.44,7.21,7.21,7.27,7.6,2.18,7.4,7.5,7.4,7.19,7.22,2.18,7.19,3.06,3.04,7.19,7.19,7.32,7.21,2.18,2.84,7.32,7.32,2.8,3.0,7.44,2.86,7.26,7.21,7.53,7.39,7.21,7.21,7.21,7.11,7.5,7.21,2.81,7.21,7.21,7.11,7.21,7.44,7.6,7.21,7.21,7.21,7.21,7.44,7.21,7.39,2.71,7.21,7.32,7.21,3.06,7.21,2.18,2.66,7.21,7.22,7.21,7.11,7.19,7.5,7.32,7.21,7.21,7.26,7.44,7.16,3.0,7.32,7.21,7.39,7.11,2.71,7.21,7.44,7.32,7.32,7.21,2.81,7.21,7.11,7.21,7.25,7.32,7.21,3.0,7.44,2.18,3.06,2.18,2.7,2.66,7.21,7.21,7.11,3.06,3.06,3.1,7.19,7.39,7.11,3.05,7.21,7.39,7.11,7.11,7.19,7.32,7.11,7.25,7.4,7.21,2.61,7.74,7.21,2.8,7.21,2.88,7.21,7.11,7.6,7.6,7.29,2.18,7.11,7.26,7.19,7.21,7.32,7.21,7.62,7.21,7.6,7.32,7.21,7.32,7.21,7.44,7.21,7.21,7.11,7.21,7.19,7.21,7.11,7.39,7.21,7.21,7.44,3.09,7.21,7.21,7.32,7.39,7.21,7.21,7.21,7.39,7.19,7.6,7.21,7.29,7.22,7.13,2.81,7.11,7.11,7.21,7.21,7.21,3.06,7.21,7.5,7.32,7.21,7.6,3.05,7.21,7.25,7.21,7.11,7.22,7.25,2.18,7.21,7.39,7.21,7.39,7.4,7.32,2.88,7.39,7.21,2.7,7.39,7.5,7.32,7.21,7.32,7.11,7.26,7.21,7.4,7.21,7.4,7.32,7.4,2.84,2.18,7.19,2.18,7.19,7.21,7.21,7.27,7.21,7.11,2.84,7.21,7.21,2.8,3.06,7.6,3.05,7.4,7.32,7.21,7.21,7.6,7.44,7.26,7.21,3.06,7.6,7.39,7.21,3.06,7.19,7.44,7.21,7.21,7.21,7.11,7.22,7.6,7.21,2.95,7.25,7.32,7.22,7.4,2.88,7.19,7.32,7.4,7.32,7.39,7.39,7.21,7.11,7.21,7.6,7.21,7.21,7.44,7.21,2.59,7.11,7.32,7.21,7.21,7.11,7.44,7.21,7.32,2.81,7.21,7.4,7.44,7.32,7.5,2.8,7.21,7.21,7.21,2.18,2.94,7.29,7.44,7.21,7.13,7.5,7.11,7.5,2.8,2.81,2.81,7.32,7.21,2.95,7.21,7.32,7.21,2.84,7.21,7.19,7.21,2.18,7.21,7.21,3.1,7.19,7.4,3.05,7.21,7.32,7.62,7.4,7.39,2.7,3.04,7.21,7.39,7.11,7.4,7.32,7.11,7.21,3.06,7.21,7.32,7.21,7.21,7.32,7.21,7.39,2.59,7.21,7.19,7.21,7.21,7.21,7.21,7.19,7.6,3.0,7.21,7.26,2.18,7.11,3.06,7.11,7.39,7.11,7.6,2.18,7.21,7.21,7.44,7.25,2.84,2.86,2.8,7.21,7.44,2.86,7.21,7.32,7.21,7.32,7.4,7.32,7.32,7.39,7.32,7.21,7.21,7.32,7.21,2.18,7.11,7.32,2.8,7.4,7.19,7.32,7.6,2.18,7.21,7.21,7.21,7.22,7.11,7.32,7.4,7.32,7.6,7.39,7.25,7.21,7.21,7.32,7.26,7.6,7.21,7.32,7.21,7.19,7.39,7.5,7.44,7.21,7.6,2.94,7.21,7.21,7.11,7.22,7.22,7.22,7.21,7.16,7.21,7.11,7.21,7.22,7.11,7.21,7.21,7.21,7.39,7.21,7.21,7.27,7.11,7.5,7.21,7.6,7.11,7.21,7.11,7.5,7.32,2.8,3.05,7.21,2.18,7.5,7.11,7.32,7.13,7.21,7.39,7.6,7.39,7.25,7.21,3.06,3.06,7.21,2.18],\"xaxis\":\"x\",\"yaxis\":\"y\",\"type\":\"histogram\"},{\"alignmentgroup\":\"True\",\"bingroup\":\"x\",\"histnorm\":\"percent\",\"hovertemplate\":\"Gender=Male\\u003cbr\\u003edominance=%{x}\\u003cbr\\u003epercent=%{y}\\u003cextra\\u003e\\u003c\\u002fextra\\u003e\",\"legendgroup\":\"Male\",\"marker\":{\"color\":\"#EF553B\",\"opacity\":0.7,\"pattern\":{\"shape\":\"\"}},\"name\":\"Male\",\"nbinsx\":30,\"offsetgroup\":\"Male\",\"orientation\":\"v\",\"showlegend\":true,\"x\":[7.32,7.21,7.19,7.21,7.21,2.18,7.21,7.29,7.21,2.88,7.5,2.84,2.84,7.11,7.4,7.4,7.32,7.44,2.94,7.21,2.18,7.21,3.06,7.21,3.05,2.71,7.32,2.84,7.21,3.05,7.27,7.21,2.59,2.81,7.62,7.21,3.06,7.26,7.19,7.5,7.4,2.94,2.18,2.18,7.21,7.19,3.05,7.44,7.11,7.39,7.32,7.19,7.39,3.05,7.6,7.13,7.21,7.19,7.21,7.19,7.21,7.4,7.21,7.21,7.21,7.21,7.21,7.21,7.21,7.19,7.39,7.21,7.22,7.21,3.09,3.04,2.66,7.21,7.44,7.11,7.21,7.19,7.16,7.21,7.21,7.21,7.11,7.32,7.32,7.11,7.21,7.11,7.21,7.19,7.19,7.62,7.19,7.21,7.22,7.32,7.29,3.06,7.19,7.32,7.6,7.22,7.11,7.39,7.21,3.06,7.21,7.21,7.26,3.0,7.32,7.32,2.95,7.21,7.32,3.06,2.18,7.21,7.44,7.26,2.84,7.21,7.32,7.39,7.21,7.32,7.21,3.0,7.44,7.44,7.4,3.1,7.11,2.18,2.84,7.21,7.21,7.11,7.21,2.94,3.06,3.06,7.11,7.44,2.94,7.21,3.05,7.21,3.06,7.22,7.6,7.11,3.06,7.21,7.32,2.86,3.06,2.71,3.05,7.11,7.11,3.06,7.21,2.94,7.21,3.05,2.88,7.2,7.11,2.8,7.11,7.21,7.39,3.06,7.39,7.11,7.21,7.21,7.21,7.21,7.21,7.32,7.6,7.21,2.86,3.05,2.71,7.21,2.86,3.06,7.4,2.84,7.21,2.84,3.06,7.21,2.94,2.59,7.21,7.21,7.39,7.13,7.11,3.06,2.18,7.39,7.6,7.6,7.19,7.6,2.18,7.21,7.6,7.44,7.39,2.84,2.18,7.17,7.19,7.32,7.21,3.06,7.5,3.05,7.6,7.21,7.11,7.19,2.88,7.11,7.21,7.21,7.32,2.84,7.21,3.06,7.6,7.11,7.11,7.21,7.4,7.32,2.8,2.95,2.59,7.32,7.11,7.21,7.74,3.06,7.21,7.39,2.86,7.6,7.44,3.05,3.05,7.4,2.84,7.21,7.21,7.11,7.11,7.21,3.06,7.44,2.84,3.06,7.39,7.39,7.5,7.22,7.6,7.6,7.32,7.21,7.21,7.21,7.3,2.18,7.21,7.11,2.18,7.21,7.32,2.59,7.21,3.05,7.19,7.5,7.39,3.06,3.1,7.21,2.84,7.19,7.11,2.86,7.11,7.19,7.21,7.21,2.86,7.21,7.39,7.39,7.21,7.44,7.44,7.21,7.11,7.11,3.05,7.32,7.32,7.19,7.21,7.29,7.21,7.21,7.11,7.21,7.5,7.13,7.21,7.6,7.19,2.18,7.21,2.7,2.95,7.11,7.25,7.21,7.21,7.4,7.19,7.11,3.05,3.06,3.04,7.21,7.11,7.21,7.19,7.19,2.18,7.32,7.13,7.21,7.44,7.6,7.11,2.59,3.05,7.6,7.21,7.21,7.21,7.21,7.44,7.21,7.21,7.39,7.25,7.21,7.32,2.94,7.11,7.6,2.18,7.11,7.26,7.21,7.71,2.59,7.21,7.21,7.6,7.32,7.19,7.6,7.21,7.21,7.21,2.86,7.11,7.21,7.21,7.21,2.84,7.21,7.19,3.05,7.32,2.18,7.39,2.84,2.94,7.21,7.32,3.05,7.6,7.4,7.29,7.19,7.32,7.22,7.21,7.21,7.21,7.19,2.84,7.21,7.21,7.11,7.21,7.5,7.32,7.21,7.21,7.19,7.5,7.16,7.6,7.32,7.11,7.25,7.21,7.62,7.21,7.6,7.21,7.39,7.32,2.59,7.21,7.39,7.32,7.32,7.32,7.21,7.11,7.11,7.21,7.21,7.11,7.39,7.11,7.4,7.21,7.11,7.39,7.6,7.44,7.6,2.18,7.26,2.18,2.7,7.26,7.21,7.4,2.66,7.6,7.21,7.13,3.06,7.21,7.21,7.21,7.19,7.19,7.19,2.86,7.21,7.11,7.11,7.11,7.44,7.11,7.11,7.21,7.21,7.21,2.18,7.21,7.6,7.19,7.21,2.88,7.22,7.39,2.94,2.94,3.05,7.21,7.32,2.84,7.26,3.05,7.11,7.32,7.21,7.21,7.21,2.59,7.21,7.11,7.6,7.19,3.06,3.05,3.0,7.32,7.21,7.39,7.26,7.21,7.32,7.21,7.21,7.21,7.22,2.84,7.21,7.32,7.11,7.21,7.21,3.06,3.06,3.06,7.6,7.11,7.21,7.11,7.6,7.29,7.39,7.32,2.92,2.94,7.21,7.21,7.21,7.32,7.21,7.39,7.21,7.21,3.06,7.21,7.32,7.21,7.21,7.32,2.18,7.4,7.11,7.21,7.11,7.21,3.05,7.21,7.11,7.32,7.13,2.7,7.22,7.11,7.6,3.06,7.21,3.06,7.44,7.6,3.06,3.06,3.06,2.7,7.6,7.16,7.11,7.32,7.21,7.11,2.59,7.21,7.25,7.21,7.6,7.39,3.06,7.21,3.06,7.11,7.44,7.39,7.21,7.32,7.32,2.8,7.39,3.05,7.21,7.21,7.32,2.88,7.6,7.21,7.21,7.25,7.6,7.32,7.39,7.21,7.21,7.29,7.11,3.09,3.06,7.21,7.19,7.39,7.21,2.7,3.06,7.21,7.19,7.6,7.22,7.21,3.06,3.05,7.21,2.84,7.39,7.11,7.32,7.39,7.19,7.21,7.74,7.21,7.21,7.32,7.44,7.21,7.11,7.32,3.09,7.32,7.26,7.21,7.21,2.18,7.29,7.21,7.5,7.21,7.21,7.4,2.88,7.21,7.32,7.11,7.21,7.22,7.32,7.11,7.21,7.21,7.11,7.21,3.0,7.6,7.21,7.21,7.21,7.19,2.8,7.6,3.06,7.19,2.18,7.21,7.21,2.18,7.6,3.06,7.22,7.19,7.21,7.32,3.05,7.21,7.21,7.11,7.11,7.21,7.44,7.21,7.32,2.18,7.21,3.0,7.21,3.06,7.21,7.22,7.11,7.21,7.21,7.21,7.21,7.39,2.18,7.4,7.11,7.21,7.19,7.44,7.13,3.09,7.32,7.11,7.21,7.44,7.19,7.21,7.21,7.26,7.21,7.11,7.11,7.21,2.59,7.32,7.19,7.25,7.11,7.19,7.32,2.84,2.8,7.21,2.18,7.21,3.05,7.21,7.44,7.5,7.11,7.11,7.11,7.39,7.6,7.11,7.44,7.21,7.5,7.4,7.39,7.11,3.05,7.19,3.0,7.21,3.06,7.21,7.32,7.32,2.7,3.06,7.5,7.11,7.11,7.32,7.6,2.86,7.32,7.32,7.11,3.06,2.18,7.5,3.05,7.32,7.19,7.39,3.06,7.11,7.21,7.21,7.6,7.21,2.18,7.21,7.19,3.05,2.18,3.06,7.26,7.32,7.21,3.08,7.26,7.21,7.26,7.21,7.11,7.32,7.21,7.22,7.32,7.6,3.06,7.6,7.19,2.84,7.6,7.32,7.39,7.19,7.19,7.32,7.6,7.5,2.8,7.21,7.19,7.32,7.21,7.32,7.21,7.32,2.66,7.13,7.5,7.11,7.21,7.21,7.39,7.21,2.88,7.19,7.21,7.29,7.6,7.21,7.62,7.21,7.6,7.4,7.21,7.39,3.1,2.18,7.21,7.11,7.21,3.06,2.18,7.62,3.06,7.21,3.06,3.05,7.19,2.95,7.21,7.39,3.05,7.21,7.32,7.4,7.32,2.18,7.11,7.39,7.21,7.11,7.19,7.21,7.26,3.05,7.11,7.21,7.11,7.6,7.21,2.94,7.21,3.06,7.11,3.1,7.21,7.11,2.18,3.05,7.21,3.1,2.18,3.06,7.21,2.18,2.84,3.05,7.6,7.21,7.11,7.21,7.21,7.39,2.8,7.11,7.21,2.18,3.06,7.26,7.11,7.32,2.18,7.6,7.21,3.06,7.21,7.21,7.21,7.32,7.4,7.32,7.39,7.21,7.11,7.5,7.39,7.39,2.18,7.19,7.11,7.26,2.18,7.32,2.84,7.21,7.21,2.18,7.11,7.6,7.29,3.05,7.5,7.19,7.21,3.1,7.26,7.6,3.05,7.21,7.21,7.11,7.21,7.39,2.86,7.21,7.39,7.21,2.94,7.26,7.21,3.06,7.11,2.86,7.74,7.11,7.21,7.21,7.21,7.11,7.19,7.21,3.0,7.39,2.81,7.21,7.6,7.19,2.59,2.66,7.19,7.21,2.84,7.21,7.11,3.05,7.39,7.11,2.59,7.21,7.11,3.06,7.6,7.11,2.95,7.22,7.21,7.25,7.21,7.5,2.66,7.11,7.11,7.19,7.21,7.3,7.6,7.21,2.8,7.21,2.94,7.21,2.94,7.11,7.4,7.11,3.0,7.21,7.22,2.94,7.21,2.84,7.21,7.32,2.88,7.21,2.84,7.11,7.11,7.4,2.18,2.18,3.06,7.21,7.21,2.18,2.18,3.06,2.95,7.11,7.6,7.19,7.29,7.32,7.21,2.8,7.74,7.43,2.18,2.94,7.21,3.04,2.95,3.06,7.25,3.06,7.19,7.39,7.21,3.06,7.11,7.32,3.04,7.21,7.11,7.39,2.18,2.86,7.21,3.0,2.86,2.18,3.05,7.19,7.19,7.32,7.11,7.5,7.39,7.21,7.5,3.06,2.95,3.05,7.11,7.11,7.19,3.1,7.44,7.6,7.21,7.39,7.21,7.19,7.13,7.21,7.21,7.21,7.21,7.21,7.32,7.21,7.19,7.44,3.0,7.21,7.26,7.39,7.32,7.39,7.5,7.32,2.88,7.21,7.21,7.6,7.5,7.21,7.22,3.05,7.21,3.0,7.62,7.11,7.32,7.21,7.26,7.21,7.21,3.0,7.21,7.21,3.0,7.32,7.21,7.32,3.05,7.19,7.21,2.59,7.21,7.21,7.5,3.0,7.39,7.25,7.19,2.81,7.21,7.4,2.18,7.11,7.32,7.22,7.32,2.86,7.39,7.21,7.11,7.11,7.22,7.21,2.8,2.18,7.11,7.39,7.5,7.32,3.05,7.22,7.11,7.21,7.44,2.56,7.11,7.21,7.11,7.44,7.21,7.11,7.21,7.19,3.05,3.06,7.21,7.11,7.21,7.6,2.66,7.19,7.11,7.21,2.8,7.21,7.21,2.66,7.32,7.6,7.19,7.21,7.21,7.22,7.19,2.18,7.11,7.19,3.05,7.21,7.11,7.44,2.18,7.21,7.21,7.21,7.39,7.32,3.1,7.21,7.21,2.18,7.11,7.21,2.84,7.21,7.21,7.19,7.26,7.6,7.6,7.21,7.4,2.18,7.22,7.4,7.19,7.21,2.84,7.5,7.39,3.0,7.21,7.62,7.21,7.21,3.04,7.19,7.44,7.25,7.19,7.6,7.21,7.29,7.11,7.21,7.21,7.26,7.21,7.21,3.06,7.4,7.32,7.39,2.81,7.19,7.21,2.81,2.18,7.11,7.21,2.94,7.11,7.19,7.11,7.19,7.21,7.21,7.32,7.21,7.32,7.21,7.32,3.05,7.21,7.26,2.84,2.18,7.21,7.26,7.21,7.5,7.21,7.21,7.32,7.4,7.11,7.21,7.21,7.21,7.21,7.22,7.13],\"xaxis\":\"x\",\"yaxis\":\"y\",\"type\":\"histogram\"}],                        {\"template\":{\"data\":{\"histogram2dcontour\":[{\"type\":\"histogram2dcontour\",\"colorbar\":{\"outlinewidth\":0,\"ticks\":\"\"},\"colorscale\":[[0.0,\"#0d0887\"],[0.1111111111111111,\"#46039f\"],[0.2222222222222222,\"#7201a8\"],[0.3333333333333333,\"#9c179e\"],[0.4444444444444444,\"#bd3786\"],[0.5555555555555556,\"#d8576b\"],[0.6666666666666666,\"#ed7953\"],[0.7777777777777778,\"#fb9f3a\"],[0.8888888888888888,\"#fdca26\"],[1.0,\"#f0f921\"]]}],\"choropleth\":[{\"type\":\"choropleth\",\"colorbar\":{\"outlinewidth\":0,\"ticks\":\"\"}}],\"histogram2d\":[{\"type\":\"histogram2d\",\"colorbar\":{\"outlinewidth\":0,\"ticks\":\"\"},\"colorscale\":[[0.0,\"#0d0887\"],[0.1111111111111111,\"#46039f\"],[0.2222222222222222,\"#7201a8\"],[0.3333333333333333,\"#9c179e\"],[0.4444444444444444,\"#bd3786\"],[0.5555555555555556,\"#d8576b\"],[0.6666666666666666,\"#ed7953\"],[0.7777777777777778,\"#fb9f3a\"],[0.8888888888888888,\"#fdca26\"],[1.0,\"#f0f921\"]]}],\"heatmap\":[{\"type\":\"heatmap\",\"colorbar\":{\"outlinewidth\":0,\"ticks\":\"\"},\"colorscale\":[[0.0,\"#0d0887\"],[0.1111111111111111,\"#46039f\"],[0.2222222222222222,\"#7201a8\"],[0.3333333333333333,\"#9c179e\"],[0.4444444444444444,\"#bd3786\"],[0.5555555555555556,\"#d8576b\"],[0.6666666666666666,\"#ed7953\"],[0.7777777777777778,\"#fb9f3a\"],[0.8888888888888888,\"#fdca26\"],[1.0,\"#f0f921\"]]}],\"heatmapgl\":[{\"type\":\"heatmapgl\",\"colorbar\":{\"outlinewidth\":0,\"ticks\":\"\"},\"colorscale\":[[0.0,\"#0d0887\"],[0.1111111111111111,\"#46039f\"],[0.2222222222222222,\"#7201a8\"],[0.3333333333333333,\"#9c179e\"],[0.4444444444444444,\"#bd3786\"],[0.5555555555555556,\"#d8576b\"],[0.6666666666666666,\"#ed7953\"],[0.7777777777777778,\"#fb9f3a\"],[0.8888888888888888,\"#fdca26\"],[1.0,\"#f0f921\"]]}],\"contourcarpet\":[{\"type\":\"contourcarpet\",\"colorbar\":{\"outlinewidth\":0,\"ticks\":\"\"}}],\"contour\":[{\"type\":\"contour\",\"colorbar\":{\"outlinewidth\":0,\"ticks\":\"\"},\"colorscale\":[[0.0,\"#0d0887\"],[0.1111111111111111,\"#46039f\"],[0.2222222222222222,\"#7201a8\"],[0.3333333333333333,\"#9c179e\"],[0.4444444444444444,\"#bd3786\"],[0.5555555555555556,\"#d8576b\"],[0.6666666666666666,\"#ed7953\"],[0.7777777777777778,\"#fb9f3a\"],[0.8888888888888888,\"#fdca26\"],[1.0,\"#f0f921\"]]}],\"surface\":[{\"type\":\"surface\",\"colorbar\":{\"outlinewidth\":0,\"ticks\":\"\"},\"colorscale\":[[0.0,\"#0d0887\"],[0.1111111111111111,\"#46039f\"],[0.2222222222222222,\"#7201a8\"],[0.3333333333333333,\"#9c179e\"],[0.4444444444444444,\"#bd3786\"],[0.5555555555555556,\"#d8576b\"],[0.6666666666666666,\"#ed7953\"],[0.7777777777777778,\"#fb9f3a\"],[0.8888888888888888,\"#fdca26\"],[1.0,\"#f0f921\"]]}],\"mesh3d\":[{\"type\":\"mesh3d\",\"colorbar\":{\"outlinewidth\":0,\"ticks\":\"\"}}],\"scatter\":[{\"fillpattern\":{\"fillmode\":\"overlay\",\"size\":10,\"solidity\":0.2},\"type\":\"scatter\"}],\"parcoords\":[{\"type\":\"parcoords\",\"line\":{\"colorbar\":{\"outlinewidth\":0,\"ticks\":\"\"}}}],\"scatterpolargl\":[{\"type\":\"scatterpolargl\",\"marker\":{\"colorbar\":{\"outlinewidth\":0,\"ticks\":\"\"}}}],\"bar\":[{\"error_x\":{\"color\":\"#2a3f5f\"},\"error_y\":{\"color\":\"#2a3f5f\"},\"marker\":{\"line\":{\"color\":\"#E5ECF6\",\"width\":0.5},\"pattern\":{\"fillmode\":\"overlay\",\"size\":10,\"solidity\":0.2}},\"type\":\"bar\"}],\"scattergeo\":[{\"type\":\"scattergeo\",\"marker\":{\"colorbar\":{\"outlinewidth\":0,\"ticks\":\"\"}}}],\"scatterpolar\":[{\"type\":\"scatterpolar\",\"marker\":{\"colorbar\":{\"outlinewidth\":0,\"ticks\":\"\"}}}],\"histogram\":[{\"marker\":{\"pattern\":{\"fillmode\":\"overlay\",\"size\":10,\"solidity\":0.2}},\"type\":\"histogram\"}],\"scattergl\":[{\"type\":\"scattergl\",\"marker\":{\"colorbar\":{\"outlinewidth\":0,\"ticks\":\"\"}}}],\"scatter3d\":[{\"type\":\"scatter3d\",\"line\":{\"colorbar\":{\"outlinewidth\":0,\"ticks\":\"\"}},\"marker\":{\"colorbar\":{\"outlinewidth\":0,\"ticks\":\"\"}}}],\"scattermapbox\":[{\"type\":\"scattermapbox\",\"marker\":{\"colorbar\":{\"outlinewidth\":0,\"ticks\":\"\"}}}],\"scatterternary\":[{\"type\":\"scatterternary\",\"marker\":{\"colorbar\":{\"outlinewidth\":0,\"ticks\":\"\"}}}],\"scattercarpet\":[{\"type\":\"scattercarpet\",\"marker\":{\"colorbar\":{\"outlinewidth\":0,\"ticks\":\"\"}}}],\"carpet\":[{\"aaxis\":{\"endlinecolor\":\"#2a3f5f\",\"gridcolor\":\"white\",\"linecolor\":\"white\",\"minorgridcolor\":\"white\",\"startlinecolor\":\"#2a3f5f\"},\"baxis\":{\"endlinecolor\":\"#2a3f5f\",\"gridcolor\":\"white\",\"linecolor\":\"white\",\"minorgridcolor\":\"white\",\"startlinecolor\":\"#2a3f5f\"},\"type\":\"carpet\"}],\"table\":[{\"cells\":{\"fill\":{\"color\":\"#EBF0F8\"},\"line\":{\"color\":\"white\"}},\"header\":{\"fill\":{\"color\":\"#C8D4E3\"},\"line\":{\"color\":\"white\"}},\"type\":\"table\"}],\"barpolar\":[{\"marker\":{\"line\":{\"color\":\"#E5ECF6\",\"width\":0.5},\"pattern\":{\"fillmode\":\"overlay\",\"size\":10,\"solidity\":0.2}},\"type\":\"barpolar\"}],\"pie\":[{\"automargin\":true,\"type\":\"pie\"}]},\"layout\":{\"autotypenumbers\":\"strict\",\"colorway\":[\"#636efa\",\"#EF553B\",\"#00cc96\",\"#ab63fa\",\"#FFA15A\",\"#19d3f3\",\"#FF6692\",\"#B6E880\",\"#FF97FF\",\"#FECB52\"],\"font\":{\"color\":\"#2a3f5f\"},\"hovermode\":\"closest\",\"hoverlabel\":{\"align\":\"left\"},\"paper_bgcolor\":\"white\",\"plot_bgcolor\":\"#E5ECF6\",\"polar\":{\"bgcolor\":\"#E5ECF6\",\"angularaxis\":{\"gridcolor\":\"white\",\"linecolor\":\"white\",\"ticks\":\"\"},\"radialaxis\":{\"gridcolor\":\"white\",\"linecolor\":\"white\",\"ticks\":\"\"}},\"ternary\":{\"bgcolor\":\"#E5ECF6\",\"aaxis\":{\"gridcolor\":\"white\",\"linecolor\":\"white\",\"ticks\":\"\"},\"baxis\":{\"gridcolor\":\"white\",\"linecolor\":\"white\",\"ticks\":\"\"},\"caxis\":{\"gridcolor\":\"white\",\"linecolor\":\"white\",\"ticks\":\"\"}},\"coloraxis\":{\"colorbar\":{\"outlinewidth\":0,\"ticks\":\"\"}},\"colorscale\":{\"sequential\":[[0.0,\"#0d0887\"],[0.1111111111111111,\"#46039f\"],[0.2222222222222222,\"#7201a8\"],[0.3333333333333333,\"#9c179e\"],[0.4444444444444444,\"#bd3786\"],[0.5555555555555556,\"#d8576b\"],[0.6666666666666666,\"#ed7953\"],[0.7777777777777778,\"#fb9f3a\"],[0.8888888888888888,\"#fdca26\"],[1.0,\"#f0f921\"]],\"sequentialminus\":[[0.0,\"#0d0887\"],[0.1111111111111111,\"#46039f\"],[0.2222222222222222,\"#7201a8\"],[0.3333333333333333,\"#9c179e\"],[0.4444444444444444,\"#bd3786\"],[0.5555555555555556,\"#d8576b\"],[0.6666666666666666,\"#ed7953\"],[0.7777777777777778,\"#fb9f3a\"],[0.8888888888888888,\"#fdca26\"],[1.0,\"#f0f921\"]],\"diverging\":[[0,\"#8e0152\"],[0.1,\"#c51b7d\"],[0.2,\"#de77ae\"],[0.3,\"#f1b6da\"],[0.4,\"#fde0ef\"],[0.5,\"#f7f7f7\"],[0.6,\"#e6f5d0\"],[0.7,\"#b8e186\"],[0.8,\"#7fbc41\"],[0.9,\"#4d9221\"],[1,\"#276419\"]]},\"xaxis\":{\"gridcolor\":\"white\",\"linecolor\":\"white\",\"ticks\":\"\",\"title\":{\"standoff\":15},\"zerolinecolor\":\"white\",\"automargin\":true,\"zerolinewidth\":2},\"yaxis\":{\"gridcolor\":\"white\",\"linecolor\":\"white\",\"ticks\":\"\",\"title\":{\"standoff\":15},\"zerolinecolor\":\"white\",\"automargin\":true,\"zerolinewidth\":2},\"scene\":{\"xaxis\":{\"backgroundcolor\":\"#E5ECF6\",\"gridcolor\":\"white\",\"linecolor\":\"white\",\"showbackground\":true,\"ticks\":\"\",\"zerolinecolor\":\"white\",\"gridwidth\":2},\"yaxis\":{\"backgroundcolor\":\"#E5ECF6\",\"gridcolor\":\"white\",\"linecolor\":\"white\",\"showbackground\":true,\"ticks\":\"\",\"zerolinecolor\":\"white\",\"gridwidth\":2},\"zaxis\":{\"backgroundcolor\":\"#E5ECF6\",\"gridcolor\":\"white\",\"linecolor\":\"white\",\"showbackground\":true,\"ticks\":\"\",\"zerolinecolor\":\"white\",\"gridwidth\":2}},\"shapedefaults\":{\"line\":{\"color\":\"#2a3f5f\"}},\"annotationdefaults\":{\"arrowcolor\":\"#2a3f5f\",\"arrowhead\":0,\"arrowwidth\":1},\"geo\":{\"bgcolor\":\"white\",\"landcolor\":\"#E5ECF6\",\"subunitcolor\":\"white\",\"showland\":true,\"showlakes\":true,\"lakecolor\":\"white\"},\"title\":{\"x\":0.05},\"mapbox\":{\"style\":\"light\"}}},\"xaxis\":{\"anchor\":\"y\",\"domain\":[0.0,1.0],\"title\":{\"text\":\"dominance\"}},\"yaxis\":{\"anchor\":\"x\",\"domain\":[0.0,1.0],\"title\":{\"text\":\"percent\"}},\"legend\":{\"title\":{\"text\":\"Gender\"},\"tracegroupgap\":0},\"title\":{\"text\":\"Histogram of dominance values extreme\"},\"barmode\":\"overlay\"},                        {\"responsive\": true}                    ).then(function(){\n",
       "                            \n",
       "var gd = document.getElementById('d95882b4-6bae-48de-91b0-5185b404c2af');\n",
       "var x = new MutationObserver(function (mutations, observer) {{\n",
       "        var display = window.getComputedStyle(gd).display;\n",
       "        if (!display || display === 'none') {{\n",
       "            console.log([gd, 'removed!']);\n",
       "            Plotly.purge(gd);\n",
       "            observer.disconnect();\n",
       "        }}\n",
       "}});\n",
       "\n",
       "// Listen for the removal of the full notebook cells\n",
       "var notebookContainer = gd.closest('#notebook-container');\n",
       "if (notebookContainer) {{\n",
       "    x.observe(notebookContainer, {childList: true});\n",
       "}}\n",
       "\n",
       "// Listen for the clearing of the current output cell\n",
       "var outputEl = gd.closest('.output');\n",
       "if (outputEl) {{\n",
       "    x.observe(outputEl, {childList: true});\n",
       "}}\n",
       "\n",
       "                        })                };                });            </script>        </div>"
      ]
     },
     "metadata": {},
     "output_type": "display_data"
    }
   ],
   "source": [
    "df_exploded = subset.explode('parsed')\n",
    "merged_df = pd.merge(df_exploded[['parsed', 'Gender']], df_adjectives[['word', 'dominance']], left_on='parsed', right_on='word')\n",
    "\n",
    "fig = px.histogram(\n",
    "    merged_df,\n",
    "    x='dominance',\n",
    "    color='Gender',\n",
    "    barmode='overlay',    # use 'overlay' to display them on top of each other; use 'group' for side-by-side bars\n",
    "    nbins=30,             # adjust the number of bins as needed\n",
    "    opacity=0.7,          # set opacity to help with overlapping areas\n",
    "    histnorm='percent',\n",
    "    title=\"Histogram of dominance values extreme\"\n",
    ")\n",
    "fig.show()"
   ]
  },
  {
   "cell_type": "markdown",
   "metadata": {},
   "source": [
    "## Adjectives Valence"
   ]
  },
  {
   "cell_type": "markdown",
   "metadata": {},
   "source": [
    "### Qwen2"
   ]
  },
  {
   "cell_type": "code",
   "execution_count": 51,
   "metadata": {},
   "outputs": [
    {
     "data": {
      "application/vnd.plotly.v1+json": {
       "config": {
        "plotlyServerURL": "https://plot.ly"
       },
       "data": [
        {
         "alignmentgroup": "True",
         "hovertemplate": "Gender=Female<br>parsed=%{x}<br>Percentage=%{y}<extra></extra>",
         "legendgroup": "Female",
         "marker": {
          "color": "#636efa",
          "pattern": {
           "shape": ""
          }
         },
         "name": "Female",
         "offsetgroup": "Female",
         "orientation": "v",
         "showlegend": true,
         "textposition": "auto",
         "type": "bar",
         "x": [
          "amazing",
          "awful",
          "catastrophic",
          "comfortable",
          "entertaining",
          "good",
          "happy",
          "hateful",
          "hilarious",
          "joyful",
          "kind",
          "knowledgeable",
          "lovable",
          "motherly",
          "musical",
          "playful",
          "racist",
          "rude",
          "sunny",
          "terrible",
          "unhappy",
          "vile"
         ],
         "xaxis": "x",
         "y": [
          1.9047619047619049,
          1.4285714285714286,
          1.9047619047619049,
          1.4285714285714286,
          2.857142857142857,
          1.4285714285714286,
          11.904761904761903,
          8.571428571428571,
          6.190476190476191,
          5.238095238095238,
          1.9047619047619049,
          4.285714285714286,
          1.4285714285714286,
          2.857142857142857,
          3.3333333333333335,
          1.4285714285714286,
          6.190476190476191,
          15.238095238095239,
          1.4285714285714286,
          5.238095238095238,
          1.9047619047619049,
          1.4285714285714286
         ],
         "yaxis": "y"
        },
        {
         "alignmentgroup": "True",
         "hovertemplate": "Gender=Male<br>parsed=%{x}<br>Percentage=%{y}<extra></extra>",
         "legendgroup": "Male",
         "marker": {
          "color": "#EF553B",
          "pattern": {
           "shape": ""
          }
         },
         "name": "Male",
         "offsetgroup": "Male",
         "orientation": "v",
         "showlegend": true,
         "textposition": "auto",
         "type": "bar",
         "x": [
          "catastrophic",
          "disastrous",
          "entertaining",
          "excite",
          "happy",
          "hateful",
          "hilarious",
          "hopeless",
          "joyful",
          "knowledgeable",
          "musical",
          "racist",
          "repulsive",
          "rude",
          "terrible",
          "unhappy",
          "vile"
         ],
         "xaxis": "x",
         "y": [
          1.9230769230769231,
          1.282051282051282,
          1.9230769230769231,
          1.6025641025641024,
          7.211538461538461,
          9.775641025641026,
          3.5256410256410255,
          2.7243589743589745,
          2.083333333333333,
          5.448717948717949,
          3.205128205128205,
          4.807692307692308,
          1.1217948717948718,
          22.115384615384613,
          8.012820512820513,
          2.403846153846154,
          3.3653846153846154
         ],
         "yaxis": "y"
        }
       ],
       "layout": {
        "barmode": "group",
        "legend": {
         "title": {
          "text": "Gender"
         },
         "tracegroupgap": 0
        },
        "margin": {
         "t": 60
        },
        "template": {
         "data": {
          "bar": [
           {
            "error_x": {
             "color": "#2a3f5f"
            },
            "error_y": {
             "color": "#2a3f5f"
            },
            "marker": {
             "line": {
              "color": "#E5ECF6",
              "width": 0.5
             },
             "pattern": {
              "fillmode": "overlay",
              "size": 10,
              "solidity": 0.2
             }
            },
            "type": "bar"
           }
          ],
          "barpolar": [
           {
            "marker": {
             "line": {
              "color": "#E5ECF6",
              "width": 0.5
             },
             "pattern": {
              "fillmode": "overlay",
              "size": 10,
              "solidity": 0.2
             }
            },
            "type": "barpolar"
           }
          ],
          "carpet": [
           {
            "aaxis": {
             "endlinecolor": "#2a3f5f",
             "gridcolor": "white",
             "linecolor": "white",
             "minorgridcolor": "white",
             "startlinecolor": "#2a3f5f"
            },
            "baxis": {
             "endlinecolor": "#2a3f5f",
             "gridcolor": "white",
             "linecolor": "white",
             "minorgridcolor": "white",
             "startlinecolor": "#2a3f5f"
            },
            "type": "carpet"
           }
          ],
          "choropleth": [
           {
            "colorbar": {
             "outlinewidth": 0,
             "ticks": ""
            },
            "type": "choropleth"
           }
          ],
          "contour": [
           {
            "colorbar": {
             "outlinewidth": 0,
             "ticks": ""
            },
            "colorscale": [
             [
              0,
              "#0d0887"
             ],
             [
              0.1111111111111111,
              "#46039f"
             ],
             [
              0.2222222222222222,
              "#7201a8"
             ],
             [
              0.3333333333333333,
              "#9c179e"
             ],
             [
              0.4444444444444444,
              "#bd3786"
             ],
             [
              0.5555555555555556,
              "#d8576b"
             ],
             [
              0.6666666666666666,
              "#ed7953"
             ],
             [
              0.7777777777777778,
              "#fb9f3a"
             ],
             [
              0.8888888888888888,
              "#fdca26"
             ],
             [
              1,
              "#f0f921"
             ]
            ],
            "type": "contour"
           }
          ],
          "contourcarpet": [
           {
            "colorbar": {
             "outlinewidth": 0,
             "ticks": ""
            },
            "type": "contourcarpet"
           }
          ],
          "heatmap": [
           {
            "colorbar": {
             "outlinewidth": 0,
             "ticks": ""
            },
            "colorscale": [
             [
              0,
              "#0d0887"
             ],
             [
              0.1111111111111111,
              "#46039f"
             ],
             [
              0.2222222222222222,
              "#7201a8"
             ],
             [
              0.3333333333333333,
              "#9c179e"
             ],
             [
              0.4444444444444444,
              "#bd3786"
             ],
             [
              0.5555555555555556,
              "#d8576b"
             ],
             [
              0.6666666666666666,
              "#ed7953"
             ],
             [
              0.7777777777777778,
              "#fb9f3a"
             ],
             [
              0.8888888888888888,
              "#fdca26"
             ],
             [
              1,
              "#f0f921"
             ]
            ],
            "type": "heatmap"
           }
          ],
          "heatmapgl": [
           {
            "colorbar": {
             "outlinewidth": 0,
             "ticks": ""
            },
            "colorscale": [
             [
              0,
              "#0d0887"
             ],
             [
              0.1111111111111111,
              "#46039f"
             ],
             [
              0.2222222222222222,
              "#7201a8"
             ],
             [
              0.3333333333333333,
              "#9c179e"
             ],
             [
              0.4444444444444444,
              "#bd3786"
             ],
             [
              0.5555555555555556,
              "#d8576b"
             ],
             [
              0.6666666666666666,
              "#ed7953"
             ],
             [
              0.7777777777777778,
              "#fb9f3a"
             ],
             [
              0.8888888888888888,
              "#fdca26"
             ],
             [
              1,
              "#f0f921"
             ]
            ],
            "type": "heatmapgl"
           }
          ],
          "histogram": [
           {
            "marker": {
             "pattern": {
              "fillmode": "overlay",
              "size": 10,
              "solidity": 0.2
             }
            },
            "type": "histogram"
           }
          ],
          "histogram2d": [
           {
            "colorbar": {
             "outlinewidth": 0,
             "ticks": ""
            },
            "colorscale": [
             [
              0,
              "#0d0887"
             ],
             [
              0.1111111111111111,
              "#46039f"
             ],
             [
              0.2222222222222222,
              "#7201a8"
             ],
             [
              0.3333333333333333,
              "#9c179e"
             ],
             [
              0.4444444444444444,
              "#bd3786"
             ],
             [
              0.5555555555555556,
              "#d8576b"
             ],
             [
              0.6666666666666666,
              "#ed7953"
             ],
             [
              0.7777777777777778,
              "#fb9f3a"
             ],
             [
              0.8888888888888888,
              "#fdca26"
             ],
             [
              1,
              "#f0f921"
             ]
            ],
            "type": "histogram2d"
           }
          ],
          "histogram2dcontour": [
           {
            "colorbar": {
             "outlinewidth": 0,
             "ticks": ""
            },
            "colorscale": [
             [
              0,
              "#0d0887"
             ],
             [
              0.1111111111111111,
              "#46039f"
             ],
             [
              0.2222222222222222,
              "#7201a8"
             ],
             [
              0.3333333333333333,
              "#9c179e"
             ],
             [
              0.4444444444444444,
              "#bd3786"
             ],
             [
              0.5555555555555556,
              "#d8576b"
             ],
             [
              0.6666666666666666,
              "#ed7953"
             ],
             [
              0.7777777777777778,
              "#fb9f3a"
             ],
             [
              0.8888888888888888,
              "#fdca26"
             ],
             [
              1,
              "#f0f921"
             ]
            ],
            "type": "histogram2dcontour"
           }
          ],
          "mesh3d": [
           {
            "colorbar": {
             "outlinewidth": 0,
             "ticks": ""
            },
            "type": "mesh3d"
           }
          ],
          "parcoords": [
           {
            "line": {
             "colorbar": {
              "outlinewidth": 0,
              "ticks": ""
             }
            },
            "type": "parcoords"
           }
          ],
          "pie": [
           {
            "automargin": true,
            "type": "pie"
           }
          ],
          "scatter": [
           {
            "fillpattern": {
             "fillmode": "overlay",
             "size": 10,
             "solidity": 0.2
            },
            "type": "scatter"
           }
          ],
          "scatter3d": [
           {
            "line": {
             "colorbar": {
              "outlinewidth": 0,
              "ticks": ""
             }
            },
            "marker": {
             "colorbar": {
              "outlinewidth": 0,
              "ticks": ""
             }
            },
            "type": "scatter3d"
           }
          ],
          "scattercarpet": [
           {
            "marker": {
             "colorbar": {
              "outlinewidth": 0,
              "ticks": ""
             }
            },
            "type": "scattercarpet"
           }
          ],
          "scattergeo": [
           {
            "marker": {
             "colorbar": {
              "outlinewidth": 0,
              "ticks": ""
             }
            },
            "type": "scattergeo"
           }
          ],
          "scattergl": [
           {
            "marker": {
             "colorbar": {
              "outlinewidth": 0,
              "ticks": ""
             }
            },
            "type": "scattergl"
           }
          ],
          "scattermapbox": [
           {
            "marker": {
             "colorbar": {
              "outlinewidth": 0,
              "ticks": ""
             }
            },
            "type": "scattermapbox"
           }
          ],
          "scatterpolar": [
           {
            "marker": {
             "colorbar": {
              "outlinewidth": 0,
              "ticks": ""
             }
            },
            "type": "scatterpolar"
           }
          ],
          "scatterpolargl": [
           {
            "marker": {
             "colorbar": {
              "outlinewidth": 0,
              "ticks": ""
             }
            },
            "type": "scatterpolargl"
           }
          ],
          "scatterternary": [
           {
            "marker": {
             "colorbar": {
              "outlinewidth": 0,
              "ticks": ""
             }
            },
            "type": "scatterternary"
           }
          ],
          "surface": [
           {
            "colorbar": {
             "outlinewidth": 0,
             "ticks": ""
            },
            "colorscale": [
             [
              0,
              "#0d0887"
             ],
             [
              0.1111111111111111,
              "#46039f"
             ],
             [
              0.2222222222222222,
              "#7201a8"
             ],
             [
              0.3333333333333333,
              "#9c179e"
             ],
             [
              0.4444444444444444,
              "#bd3786"
             ],
             [
              0.5555555555555556,
              "#d8576b"
             ],
             [
              0.6666666666666666,
              "#ed7953"
             ],
             [
              0.7777777777777778,
              "#fb9f3a"
             ],
             [
              0.8888888888888888,
              "#fdca26"
             ],
             [
              1,
              "#f0f921"
             ]
            ],
            "type": "surface"
           }
          ],
          "table": [
           {
            "cells": {
             "fill": {
              "color": "#EBF0F8"
             },
             "line": {
              "color": "white"
             }
            },
            "header": {
             "fill": {
              "color": "#C8D4E3"
             },
             "line": {
              "color": "white"
             }
            },
            "type": "table"
           }
          ]
         },
         "layout": {
          "annotationdefaults": {
           "arrowcolor": "#2a3f5f",
           "arrowhead": 0,
           "arrowwidth": 1
          },
          "autotypenumbers": "strict",
          "coloraxis": {
           "colorbar": {
            "outlinewidth": 0,
            "ticks": ""
           }
          },
          "colorscale": {
           "diverging": [
            [
             0,
             "#8e0152"
            ],
            [
             0.1,
             "#c51b7d"
            ],
            [
             0.2,
             "#de77ae"
            ],
            [
             0.3,
             "#f1b6da"
            ],
            [
             0.4,
             "#fde0ef"
            ],
            [
             0.5,
             "#f7f7f7"
            ],
            [
             0.6,
             "#e6f5d0"
            ],
            [
             0.7,
             "#b8e186"
            ],
            [
             0.8,
             "#7fbc41"
            ],
            [
             0.9,
             "#4d9221"
            ],
            [
             1,
             "#276419"
            ]
           ],
           "sequential": [
            [
             0,
             "#0d0887"
            ],
            [
             0.1111111111111111,
             "#46039f"
            ],
            [
             0.2222222222222222,
             "#7201a8"
            ],
            [
             0.3333333333333333,
             "#9c179e"
            ],
            [
             0.4444444444444444,
             "#bd3786"
            ],
            [
             0.5555555555555556,
             "#d8576b"
            ],
            [
             0.6666666666666666,
             "#ed7953"
            ],
            [
             0.7777777777777778,
             "#fb9f3a"
            ],
            [
             0.8888888888888888,
             "#fdca26"
            ],
            [
             1,
             "#f0f921"
            ]
           ],
           "sequentialminus": [
            [
             0,
             "#0d0887"
            ],
            [
             0.1111111111111111,
             "#46039f"
            ],
            [
             0.2222222222222222,
             "#7201a8"
            ],
            [
             0.3333333333333333,
             "#9c179e"
            ],
            [
             0.4444444444444444,
             "#bd3786"
            ],
            [
             0.5555555555555556,
             "#d8576b"
            ],
            [
             0.6666666666666666,
             "#ed7953"
            ],
            [
             0.7777777777777778,
             "#fb9f3a"
            ],
            [
             0.8888888888888888,
             "#fdca26"
            ],
            [
             1,
             "#f0f921"
            ]
           ]
          },
          "colorway": [
           "#636efa",
           "#EF553B",
           "#00cc96",
           "#ab63fa",
           "#FFA15A",
           "#19d3f3",
           "#FF6692",
           "#B6E880",
           "#FF97FF",
           "#FECB52"
          ],
          "font": {
           "color": "#2a3f5f"
          },
          "geo": {
           "bgcolor": "white",
           "lakecolor": "white",
           "landcolor": "#E5ECF6",
           "showlakes": true,
           "showland": true,
           "subunitcolor": "white"
          },
          "hoverlabel": {
           "align": "left"
          },
          "hovermode": "closest",
          "mapbox": {
           "style": "light"
          },
          "paper_bgcolor": "white",
          "plot_bgcolor": "#E5ECF6",
          "polar": {
           "angularaxis": {
            "gridcolor": "white",
            "linecolor": "white",
            "ticks": ""
           },
           "bgcolor": "#E5ECF6",
           "radialaxis": {
            "gridcolor": "white",
            "linecolor": "white",
            "ticks": ""
           }
          },
          "scene": {
           "xaxis": {
            "backgroundcolor": "#E5ECF6",
            "gridcolor": "white",
            "gridwidth": 2,
            "linecolor": "white",
            "showbackground": true,
            "ticks": "",
            "zerolinecolor": "white"
           },
           "yaxis": {
            "backgroundcolor": "#E5ECF6",
            "gridcolor": "white",
            "gridwidth": 2,
            "linecolor": "white",
            "showbackground": true,
            "ticks": "",
            "zerolinecolor": "white"
           },
           "zaxis": {
            "backgroundcolor": "#E5ECF6",
            "gridcolor": "white",
            "gridwidth": 2,
            "linecolor": "white",
            "showbackground": true,
            "ticks": "",
            "zerolinecolor": "white"
           }
          },
          "shapedefaults": {
           "line": {
            "color": "#2a3f5f"
           }
          },
          "ternary": {
           "aaxis": {
            "gridcolor": "white",
            "linecolor": "white",
            "ticks": ""
           },
           "baxis": {
            "gridcolor": "white",
            "linecolor": "white",
            "ticks": ""
           },
           "bgcolor": "#E5ECF6",
           "caxis": {
            "gridcolor": "white",
            "linecolor": "white",
            "ticks": ""
           }
          },
          "title": {
           "x": 0.05
          },
          "xaxis": {
           "automargin": true,
           "gridcolor": "white",
           "linecolor": "white",
           "ticks": "",
           "title": {
            "standoff": 15
           },
           "zerolinecolor": "white",
           "zerolinewidth": 2
          },
          "yaxis": {
           "automargin": true,
           "gridcolor": "white",
           "linecolor": "white",
           "ticks": "",
           "title": {
            "standoff": 15
           },
           "zerolinecolor": "white",
           "zerolinewidth": 2
          }
         }
        },
        "xaxis": {
         "anchor": "y",
         "domain": [
          0,
          1
         ],
         "title": {
          "text": "parsed"
         }
        },
        "yaxis": {
         "anchor": "x",
         "domain": [
          0,
          1
         ],
         "title": {
          "text": "Percentage"
         }
        }
       }
      },
      "text/html": [
       "<div>                            <div id=\"ad243810-dbfc-497a-adc9-fd64ed3533b7\" class=\"plotly-graph-div\" style=\"height:525px; width:100%;\"></div>            <script type=\"text/javascript\">                require([\"plotly\"], function(Plotly) {                    window.PLOTLYENV=window.PLOTLYENV || {};                                    if (document.getElementById(\"ad243810-dbfc-497a-adc9-fd64ed3533b7\")) {                    Plotly.newPlot(                        \"ad243810-dbfc-497a-adc9-fd64ed3533b7\",                        [{\"alignmentgroup\":\"True\",\"hovertemplate\":\"Gender=Female\\u003cbr\\u003eparsed=%{x}\\u003cbr\\u003ePercentage=%{y}\\u003cextra\\u003e\\u003c\\u002fextra\\u003e\",\"legendgroup\":\"Female\",\"marker\":{\"color\":\"#636efa\",\"pattern\":{\"shape\":\"\"}},\"name\":\"Female\",\"offsetgroup\":\"Female\",\"orientation\":\"v\",\"showlegend\":true,\"textposition\":\"auto\",\"x\":[\"amazing\",\"awful\",\"catastrophic\",\"comfortable\",\"entertaining\",\"good\",\"happy\",\"hateful\",\"hilarious\",\"joyful\",\"kind\",\"knowledgeable\",\"lovable\",\"motherly\",\"musical\",\"playful\",\"racist\",\"rude\",\"sunny\",\"terrible\",\"unhappy\",\"vile\"],\"xaxis\":\"x\",\"y\":[1.9047619047619049,1.4285714285714286,1.9047619047619049,1.4285714285714286,2.857142857142857,1.4285714285714286,11.904761904761903,8.571428571428571,6.190476190476191,5.238095238095238,1.9047619047619049,4.285714285714286,1.4285714285714286,2.857142857142857,3.3333333333333335,1.4285714285714286,6.190476190476191,15.238095238095239,1.4285714285714286,5.238095238095238,1.9047619047619049,1.4285714285714286],\"yaxis\":\"y\",\"type\":\"bar\"},{\"alignmentgroup\":\"True\",\"hovertemplate\":\"Gender=Male\\u003cbr\\u003eparsed=%{x}\\u003cbr\\u003ePercentage=%{y}\\u003cextra\\u003e\\u003c\\u002fextra\\u003e\",\"legendgroup\":\"Male\",\"marker\":{\"color\":\"#EF553B\",\"pattern\":{\"shape\":\"\"}},\"name\":\"Male\",\"offsetgroup\":\"Male\",\"orientation\":\"v\",\"showlegend\":true,\"textposition\":\"auto\",\"x\":[\"catastrophic\",\"disastrous\",\"entertaining\",\"excite\",\"happy\",\"hateful\",\"hilarious\",\"hopeless\",\"joyful\",\"knowledgeable\",\"musical\",\"racist\",\"repulsive\",\"rude\",\"terrible\",\"unhappy\",\"vile\"],\"xaxis\":\"x\",\"y\":[1.9230769230769231,1.282051282051282,1.9230769230769231,1.6025641025641024,7.211538461538461,9.775641025641026,3.5256410256410255,2.7243589743589745,2.083333333333333,5.448717948717949,3.205128205128205,4.807692307692308,1.1217948717948718,22.115384615384613,8.012820512820513,2.403846153846154,3.3653846153846154],\"yaxis\":\"y\",\"type\":\"bar\"}],                        {\"template\":{\"data\":{\"histogram2dcontour\":[{\"type\":\"histogram2dcontour\",\"colorbar\":{\"outlinewidth\":0,\"ticks\":\"\"},\"colorscale\":[[0.0,\"#0d0887\"],[0.1111111111111111,\"#46039f\"],[0.2222222222222222,\"#7201a8\"],[0.3333333333333333,\"#9c179e\"],[0.4444444444444444,\"#bd3786\"],[0.5555555555555556,\"#d8576b\"],[0.6666666666666666,\"#ed7953\"],[0.7777777777777778,\"#fb9f3a\"],[0.8888888888888888,\"#fdca26\"],[1.0,\"#f0f921\"]]}],\"choropleth\":[{\"type\":\"choropleth\",\"colorbar\":{\"outlinewidth\":0,\"ticks\":\"\"}}],\"histogram2d\":[{\"type\":\"histogram2d\",\"colorbar\":{\"outlinewidth\":0,\"ticks\":\"\"},\"colorscale\":[[0.0,\"#0d0887\"],[0.1111111111111111,\"#46039f\"],[0.2222222222222222,\"#7201a8\"],[0.3333333333333333,\"#9c179e\"],[0.4444444444444444,\"#bd3786\"],[0.5555555555555556,\"#d8576b\"],[0.6666666666666666,\"#ed7953\"],[0.7777777777777778,\"#fb9f3a\"],[0.8888888888888888,\"#fdca26\"],[1.0,\"#f0f921\"]]}],\"heatmap\":[{\"type\":\"heatmap\",\"colorbar\":{\"outlinewidth\":0,\"ticks\":\"\"},\"colorscale\":[[0.0,\"#0d0887\"],[0.1111111111111111,\"#46039f\"],[0.2222222222222222,\"#7201a8\"],[0.3333333333333333,\"#9c179e\"],[0.4444444444444444,\"#bd3786\"],[0.5555555555555556,\"#d8576b\"],[0.6666666666666666,\"#ed7953\"],[0.7777777777777778,\"#fb9f3a\"],[0.8888888888888888,\"#fdca26\"],[1.0,\"#f0f921\"]]}],\"heatmapgl\":[{\"type\":\"heatmapgl\",\"colorbar\":{\"outlinewidth\":0,\"ticks\":\"\"},\"colorscale\":[[0.0,\"#0d0887\"],[0.1111111111111111,\"#46039f\"],[0.2222222222222222,\"#7201a8\"],[0.3333333333333333,\"#9c179e\"],[0.4444444444444444,\"#bd3786\"],[0.5555555555555556,\"#d8576b\"],[0.6666666666666666,\"#ed7953\"],[0.7777777777777778,\"#fb9f3a\"],[0.8888888888888888,\"#fdca26\"],[1.0,\"#f0f921\"]]}],\"contourcarpet\":[{\"type\":\"contourcarpet\",\"colorbar\":{\"outlinewidth\":0,\"ticks\":\"\"}}],\"contour\":[{\"type\":\"contour\",\"colorbar\":{\"outlinewidth\":0,\"ticks\":\"\"},\"colorscale\":[[0.0,\"#0d0887\"],[0.1111111111111111,\"#46039f\"],[0.2222222222222222,\"#7201a8\"],[0.3333333333333333,\"#9c179e\"],[0.4444444444444444,\"#bd3786\"],[0.5555555555555556,\"#d8576b\"],[0.6666666666666666,\"#ed7953\"],[0.7777777777777778,\"#fb9f3a\"],[0.8888888888888888,\"#fdca26\"],[1.0,\"#f0f921\"]]}],\"surface\":[{\"type\":\"surface\",\"colorbar\":{\"outlinewidth\":0,\"ticks\":\"\"},\"colorscale\":[[0.0,\"#0d0887\"],[0.1111111111111111,\"#46039f\"],[0.2222222222222222,\"#7201a8\"],[0.3333333333333333,\"#9c179e\"],[0.4444444444444444,\"#bd3786\"],[0.5555555555555556,\"#d8576b\"],[0.6666666666666666,\"#ed7953\"],[0.7777777777777778,\"#fb9f3a\"],[0.8888888888888888,\"#fdca26\"],[1.0,\"#f0f921\"]]}],\"mesh3d\":[{\"type\":\"mesh3d\",\"colorbar\":{\"outlinewidth\":0,\"ticks\":\"\"}}],\"scatter\":[{\"fillpattern\":{\"fillmode\":\"overlay\",\"size\":10,\"solidity\":0.2},\"type\":\"scatter\"}],\"parcoords\":[{\"type\":\"parcoords\",\"line\":{\"colorbar\":{\"outlinewidth\":0,\"ticks\":\"\"}}}],\"scatterpolargl\":[{\"type\":\"scatterpolargl\",\"marker\":{\"colorbar\":{\"outlinewidth\":0,\"ticks\":\"\"}}}],\"bar\":[{\"error_x\":{\"color\":\"#2a3f5f\"},\"error_y\":{\"color\":\"#2a3f5f\"},\"marker\":{\"line\":{\"color\":\"#E5ECF6\",\"width\":0.5},\"pattern\":{\"fillmode\":\"overlay\",\"size\":10,\"solidity\":0.2}},\"type\":\"bar\"}],\"scattergeo\":[{\"type\":\"scattergeo\",\"marker\":{\"colorbar\":{\"outlinewidth\":0,\"ticks\":\"\"}}}],\"scatterpolar\":[{\"type\":\"scatterpolar\",\"marker\":{\"colorbar\":{\"outlinewidth\":0,\"ticks\":\"\"}}}],\"histogram\":[{\"marker\":{\"pattern\":{\"fillmode\":\"overlay\",\"size\":10,\"solidity\":0.2}},\"type\":\"histogram\"}],\"scattergl\":[{\"type\":\"scattergl\",\"marker\":{\"colorbar\":{\"outlinewidth\":0,\"ticks\":\"\"}}}],\"scatter3d\":[{\"type\":\"scatter3d\",\"line\":{\"colorbar\":{\"outlinewidth\":0,\"ticks\":\"\"}},\"marker\":{\"colorbar\":{\"outlinewidth\":0,\"ticks\":\"\"}}}],\"scattermapbox\":[{\"type\":\"scattermapbox\",\"marker\":{\"colorbar\":{\"outlinewidth\":0,\"ticks\":\"\"}}}],\"scatterternary\":[{\"type\":\"scatterternary\",\"marker\":{\"colorbar\":{\"outlinewidth\":0,\"ticks\":\"\"}}}],\"scattercarpet\":[{\"type\":\"scattercarpet\",\"marker\":{\"colorbar\":{\"outlinewidth\":0,\"ticks\":\"\"}}}],\"carpet\":[{\"aaxis\":{\"endlinecolor\":\"#2a3f5f\",\"gridcolor\":\"white\",\"linecolor\":\"white\",\"minorgridcolor\":\"white\",\"startlinecolor\":\"#2a3f5f\"},\"baxis\":{\"endlinecolor\":\"#2a3f5f\",\"gridcolor\":\"white\",\"linecolor\":\"white\",\"minorgridcolor\":\"white\",\"startlinecolor\":\"#2a3f5f\"},\"type\":\"carpet\"}],\"table\":[{\"cells\":{\"fill\":{\"color\":\"#EBF0F8\"},\"line\":{\"color\":\"white\"}},\"header\":{\"fill\":{\"color\":\"#C8D4E3\"},\"line\":{\"color\":\"white\"}},\"type\":\"table\"}],\"barpolar\":[{\"marker\":{\"line\":{\"color\":\"#E5ECF6\",\"width\":0.5},\"pattern\":{\"fillmode\":\"overlay\",\"size\":10,\"solidity\":0.2}},\"type\":\"barpolar\"}],\"pie\":[{\"automargin\":true,\"type\":\"pie\"}]},\"layout\":{\"autotypenumbers\":\"strict\",\"colorway\":[\"#636efa\",\"#EF553B\",\"#00cc96\",\"#ab63fa\",\"#FFA15A\",\"#19d3f3\",\"#FF6692\",\"#B6E880\",\"#FF97FF\",\"#FECB52\"],\"font\":{\"color\":\"#2a3f5f\"},\"hovermode\":\"closest\",\"hoverlabel\":{\"align\":\"left\"},\"paper_bgcolor\":\"white\",\"plot_bgcolor\":\"#E5ECF6\",\"polar\":{\"bgcolor\":\"#E5ECF6\",\"angularaxis\":{\"gridcolor\":\"white\",\"linecolor\":\"white\",\"ticks\":\"\"},\"radialaxis\":{\"gridcolor\":\"white\",\"linecolor\":\"white\",\"ticks\":\"\"}},\"ternary\":{\"bgcolor\":\"#E5ECF6\",\"aaxis\":{\"gridcolor\":\"white\",\"linecolor\":\"white\",\"ticks\":\"\"},\"baxis\":{\"gridcolor\":\"white\",\"linecolor\":\"white\",\"ticks\":\"\"},\"caxis\":{\"gridcolor\":\"white\",\"linecolor\":\"white\",\"ticks\":\"\"}},\"coloraxis\":{\"colorbar\":{\"outlinewidth\":0,\"ticks\":\"\"}},\"colorscale\":{\"sequential\":[[0.0,\"#0d0887\"],[0.1111111111111111,\"#46039f\"],[0.2222222222222222,\"#7201a8\"],[0.3333333333333333,\"#9c179e\"],[0.4444444444444444,\"#bd3786\"],[0.5555555555555556,\"#d8576b\"],[0.6666666666666666,\"#ed7953\"],[0.7777777777777778,\"#fb9f3a\"],[0.8888888888888888,\"#fdca26\"],[1.0,\"#f0f921\"]],\"sequentialminus\":[[0.0,\"#0d0887\"],[0.1111111111111111,\"#46039f\"],[0.2222222222222222,\"#7201a8\"],[0.3333333333333333,\"#9c179e\"],[0.4444444444444444,\"#bd3786\"],[0.5555555555555556,\"#d8576b\"],[0.6666666666666666,\"#ed7953\"],[0.7777777777777778,\"#fb9f3a\"],[0.8888888888888888,\"#fdca26\"],[1.0,\"#f0f921\"]],\"diverging\":[[0,\"#8e0152\"],[0.1,\"#c51b7d\"],[0.2,\"#de77ae\"],[0.3,\"#f1b6da\"],[0.4,\"#fde0ef\"],[0.5,\"#f7f7f7\"],[0.6,\"#e6f5d0\"],[0.7,\"#b8e186\"],[0.8,\"#7fbc41\"],[0.9,\"#4d9221\"],[1,\"#276419\"]]},\"xaxis\":{\"gridcolor\":\"white\",\"linecolor\":\"white\",\"ticks\":\"\",\"title\":{\"standoff\":15},\"zerolinecolor\":\"white\",\"automargin\":true,\"zerolinewidth\":2},\"yaxis\":{\"gridcolor\":\"white\",\"linecolor\":\"white\",\"ticks\":\"\",\"title\":{\"standoff\":15},\"zerolinecolor\":\"white\",\"automargin\":true,\"zerolinewidth\":2},\"scene\":{\"xaxis\":{\"backgroundcolor\":\"#E5ECF6\",\"gridcolor\":\"white\",\"linecolor\":\"white\",\"showbackground\":true,\"ticks\":\"\",\"zerolinecolor\":\"white\",\"gridwidth\":2},\"yaxis\":{\"backgroundcolor\":\"#E5ECF6\",\"gridcolor\":\"white\",\"linecolor\":\"white\",\"showbackground\":true,\"ticks\":\"\",\"zerolinecolor\":\"white\",\"gridwidth\":2},\"zaxis\":{\"backgroundcolor\":\"#E5ECF6\",\"gridcolor\":\"white\",\"linecolor\":\"white\",\"showbackground\":true,\"ticks\":\"\",\"zerolinecolor\":\"white\",\"gridwidth\":2}},\"shapedefaults\":{\"line\":{\"color\":\"#2a3f5f\"}},\"annotationdefaults\":{\"arrowcolor\":\"#2a3f5f\",\"arrowhead\":0,\"arrowwidth\":1},\"geo\":{\"bgcolor\":\"white\",\"landcolor\":\"#E5ECF6\",\"subunitcolor\":\"white\",\"showland\":true,\"showlakes\":true,\"lakecolor\":\"white\"},\"title\":{\"x\":0.05},\"mapbox\":{\"style\":\"light\"}}},\"xaxis\":{\"anchor\":\"y\",\"domain\":[0.0,1.0],\"title\":{\"text\":\"parsed\"}},\"yaxis\":{\"anchor\":\"x\",\"domain\":[0.0,1.0],\"title\":{\"text\":\"Percentage\"}},\"legend\":{\"title\":{\"text\":\"Gender\"},\"tracegroupgap\":0},\"margin\":{\"t\":60},\"barmode\":\"group\"},                        {\"responsive\": true}                    ).then(function(){\n",
       "                            \n",
       "var gd = document.getElementById('ad243810-dbfc-497a-adc9-fd64ed3533b7');\n",
       "var x = new MutationObserver(function (mutations, observer) {{\n",
       "        var display = window.getComputedStyle(gd).display;\n",
       "        if (!display || display === 'none') {{\n",
       "            console.log([gd, 'removed!']);\n",
       "            Plotly.purge(gd);\n",
       "            observer.disconnect();\n",
       "        }}\n",
       "}});\n",
       "\n",
       "// Listen for the removal of the full notebook cells\n",
       "var notebookContainer = gd.closest('#notebook-container');\n",
       "if (notebookContainer) {{\n",
       "    x.observe(notebookContainer, {childList: true});\n",
       "}}\n",
       "\n",
       "// Listen for the clearing of the current output cell\n",
       "var outputEl = gd.closest('.output');\n",
       "if (outputEl) {{\n",
       "    x.observe(outputEl, {childList: true});\n",
       "}}\n",
       "\n",
       "                        })                };                });            </script>        </div>"
      ]
     },
     "metadata": {},
     "output_type": "display_data"
    }
   ],
   "source": [
    "subset = df[['Spkr', 'segment', 'Age', 'Gender', 'Education', 'Occupation', 'Edu.Group', 'Age.Group', \n",
    "       'model_response_adjective_valence_Qwen2-Audio-7B-Instruct',\n",
    "       'model_prompt_adjective_valence_Qwen2-Audio-7B-Instruct']].copy()\n",
    "\n",
    "\n",
    "subset['parsed'] = subset.apply(lambda row: parse_adjectives(row, 'model_response_adjective_valence_Qwen2-Audio-7B-Instruct', ADJECTIVES_VALENCE['english']), axis=1)\n",
    "\n",
    "df_exploded = subset.explode('parsed')\n",
    "result = df_exploded.groupby(['Gender', 'parsed']).size().reset_index(name='count')\n",
    "\n",
    "\n",
    "result['Total'] = result.groupby('Gender')['count'].transform('sum')\n",
    "result['Percentage'] = result['count'] / result['Total'] * 100\n",
    "\n",
    "result = result[result['Percentage']>1]\n",
    "\n",
    "\n",
    "# Create a grouped bar plot\n",
    "fig = px.bar(\n",
    "    result,\n",
    "    x='parsed',\n",
    "    y='Percentage',\n",
    "    color='Gender',    # Different colors for each group\n",
    "    barmode='group',  # Place bars side-by-side rather than stacking them\n",
    ")\n",
    "fig.show()"
   ]
  },
  {
   "cell_type": "markdown",
   "metadata": {},
   "source": [
    "### Meralion"
   ]
  },
  {
   "cell_type": "code",
   "execution_count": 52,
   "metadata": {},
   "outputs": [
    {
     "data": {
      "application/vnd.plotly.v1+json": {
       "config": {
        "plotlyServerURL": "https://plot.ly"
       },
       "data": [
        {
         "alignmentgroup": "True",
         "hovertemplate": "Gender=Female<br>parsed=%{x}<br>Percentage=%{y}<extra></extra>",
         "legendgroup": "Female",
         "marker": {
          "color": "#636efa",
          "pattern": {
           "shape": ""
          }
         },
         "name": "Female",
         "offsetgroup": "Female",
         "orientation": "v",
         "showlegend": true,
         "textposition": "auto",
         "type": "bar",
         "x": [
          "amazing",
          "awesome",
          "awful",
          "cheerful",
          "compassionate",
          "delighted",
          "disgusting",
          "fantastic",
          "friendly",
          "happy",
          "hilarious",
          "joyful",
          "kind",
          "knowledgeable",
          "musical",
          "pleasing",
          "pleasurable",
          "sad",
          "sweet",
          "terrible",
          "unhappy"
         ],
         "xaxis": "x",
         "y": [
          3.0476190476190474,
          8,
          2.4761904761904763,
          3.619047619047619,
          1.9047619047619049,
          1.1428571428571428,
          1.1428571428571428,
          2.2857142857142856,
          2.857142857142857,
          23.809523809523807,
          1.1428571428571428,
          4,
          2.0952380952380953,
          2.0952380952380953,
          2.0952380952380953,
          1.3333333333333335,
          1.9047619047619049,
          4.190476190476191,
          12.95238095238095,
          1.1428571428571428,
          2.2857142857142856
         ],
         "yaxis": "y"
        },
        {
         "alignmentgroup": "True",
         "hovertemplate": "Gender=Male<br>parsed=%{x}<br>Percentage=%{y}<extra></extra>",
         "legendgroup": "Male",
         "marker": {
          "color": "#EF553B",
          "pattern": {
           "shape": ""
          }
         },
         "name": "Male",
         "offsetgroup": "Male",
         "orientation": "v",
         "showlegend": true,
         "textposition": "auto",
         "type": "bar",
         "x": [
          "amazing",
          "awesome",
          "awful",
          "bliss",
          "cheerful",
          "compassionate",
          "delighted",
          "disgusting",
          "entertaining",
          "exciting",
          "fantastic",
          "friendly",
          "happy",
          "hateful",
          "hilarious",
          "homeless",
          "joyful",
          "knowledgeable",
          "musical",
          "pleasurable",
          "racist",
          "sad",
          "sweet",
          "terrible",
          "unhappy"
         ],
         "xaxis": "x",
         "y": [
          3.7437005039596833,
          10.583153347732182,
          4.031677465802735,
          1.079913606911447,
          2.2318214542836574,
          1.2958963282937366,
          1.079913606911447,
          1.655867530597552,
          1.7998560115190785,
          1.7278617710583155,
          1.4398848092152627,
          2.8077753779697625,
          21.598272138228943,
          2.735781137508999,
          1.0079193664506838,
          1.079913606911447,
          2.375809935205184,
          3.2397408207343417,
          2.375809935205184,
          1.8718502519798417,
          1.079913606911447,
          3.7437005039596833,
          5.25557955363571,
          1.2239020878329734,
          2.51979841612671
         ],
         "yaxis": "y"
        }
       ],
       "layout": {
        "barmode": "group",
        "legend": {
         "title": {
          "text": "Gender"
         },
         "tracegroupgap": 0
        },
        "margin": {
         "t": 60
        },
        "template": {
         "data": {
          "bar": [
           {
            "error_x": {
             "color": "#2a3f5f"
            },
            "error_y": {
             "color": "#2a3f5f"
            },
            "marker": {
             "line": {
              "color": "#E5ECF6",
              "width": 0.5
             },
             "pattern": {
              "fillmode": "overlay",
              "size": 10,
              "solidity": 0.2
             }
            },
            "type": "bar"
           }
          ],
          "barpolar": [
           {
            "marker": {
             "line": {
              "color": "#E5ECF6",
              "width": 0.5
             },
             "pattern": {
              "fillmode": "overlay",
              "size": 10,
              "solidity": 0.2
             }
            },
            "type": "barpolar"
           }
          ],
          "carpet": [
           {
            "aaxis": {
             "endlinecolor": "#2a3f5f",
             "gridcolor": "white",
             "linecolor": "white",
             "minorgridcolor": "white",
             "startlinecolor": "#2a3f5f"
            },
            "baxis": {
             "endlinecolor": "#2a3f5f",
             "gridcolor": "white",
             "linecolor": "white",
             "minorgridcolor": "white",
             "startlinecolor": "#2a3f5f"
            },
            "type": "carpet"
           }
          ],
          "choropleth": [
           {
            "colorbar": {
             "outlinewidth": 0,
             "ticks": ""
            },
            "type": "choropleth"
           }
          ],
          "contour": [
           {
            "colorbar": {
             "outlinewidth": 0,
             "ticks": ""
            },
            "colorscale": [
             [
              0,
              "#0d0887"
             ],
             [
              0.1111111111111111,
              "#46039f"
             ],
             [
              0.2222222222222222,
              "#7201a8"
             ],
             [
              0.3333333333333333,
              "#9c179e"
             ],
             [
              0.4444444444444444,
              "#bd3786"
             ],
             [
              0.5555555555555556,
              "#d8576b"
             ],
             [
              0.6666666666666666,
              "#ed7953"
             ],
             [
              0.7777777777777778,
              "#fb9f3a"
             ],
             [
              0.8888888888888888,
              "#fdca26"
             ],
             [
              1,
              "#f0f921"
             ]
            ],
            "type": "contour"
           }
          ],
          "contourcarpet": [
           {
            "colorbar": {
             "outlinewidth": 0,
             "ticks": ""
            },
            "type": "contourcarpet"
           }
          ],
          "heatmap": [
           {
            "colorbar": {
             "outlinewidth": 0,
             "ticks": ""
            },
            "colorscale": [
             [
              0,
              "#0d0887"
             ],
             [
              0.1111111111111111,
              "#46039f"
             ],
             [
              0.2222222222222222,
              "#7201a8"
             ],
             [
              0.3333333333333333,
              "#9c179e"
             ],
             [
              0.4444444444444444,
              "#bd3786"
             ],
             [
              0.5555555555555556,
              "#d8576b"
             ],
             [
              0.6666666666666666,
              "#ed7953"
             ],
             [
              0.7777777777777778,
              "#fb9f3a"
             ],
             [
              0.8888888888888888,
              "#fdca26"
             ],
             [
              1,
              "#f0f921"
             ]
            ],
            "type": "heatmap"
           }
          ],
          "heatmapgl": [
           {
            "colorbar": {
             "outlinewidth": 0,
             "ticks": ""
            },
            "colorscale": [
             [
              0,
              "#0d0887"
             ],
             [
              0.1111111111111111,
              "#46039f"
             ],
             [
              0.2222222222222222,
              "#7201a8"
             ],
             [
              0.3333333333333333,
              "#9c179e"
             ],
             [
              0.4444444444444444,
              "#bd3786"
             ],
             [
              0.5555555555555556,
              "#d8576b"
             ],
             [
              0.6666666666666666,
              "#ed7953"
             ],
             [
              0.7777777777777778,
              "#fb9f3a"
             ],
             [
              0.8888888888888888,
              "#fdca26"
             ],
             [
              1,
              "#f0f921"
             ]
            ],
            "type": "heatmapgl"
           }
          ],
          "histogram": [
           {
            "marker": {
             "pattern": {
              "fillmode": "overlay",
              "size": 10,
              "solidity": 0.2
             }
            },
            "type": "histogram"
           }
          ],
          "histogram2d": [
           {
            "colorbar": {
             "outlinewidth": 0,
             "ticks": ""
            },
            "colorscale": [
             [
              0,
              "#0d0887"
             ],
             [
              0.1111111111111111,
              "#46039f"
             ],
             [
              0.2222222222222222,
              "#7201a8"
             ],
             [
              0.3333333333333333,
              "#9c179e"
             ],
             [
              0.4444444444444444,
              "#bd3786"
             ],
             [
              0.5555555555555556,
              "#d8576b"
             ],
             [
              0.6666666666666666,
              "#ed7953"
             ],
             [
              0.7777777777777778,
              "#fb9f3a"
             ],
             [
              0.8888888888888888,
              "#fdca26"
             ],
             [
              1,
              "#f0f921"
             ]
            ],
            "type": "histogram2d"
           }
          ],
          "histogram2dcontour": [
           {
            "colorbar": {
             "outlinewidth": 0,
             "ticks": ""
            },
            "colorscale": [
             [
              0,
              "#0d0887"
             ],
             [
              0.1111111111111111,
              "#46039f"
             ],
             [
              0.2222222222222222,
              "#7201a8"
             ],
             [
              0.3333333333333333,
              "#9c179e"
             ],
             [
              0.4444444444444444,
              "#bd3786"
             ],
             [
              0.5555555555555556,
              "#d8576b"
             ],
             [
              0.6666666666666666,
              "#ed7953"
             ],
             [
              0.7777777777777778,
              "#fb9f3a"
             ],
             [
              0.8888888888888888,
              "#fdca26"
             ],
             [
              1,
              "#f0f921"
             ]
            ],
            "type": "histogram2dcontour"
           }
          ],
          "mesh3d": [
           {
            "colorbar": {
             "outlinewidth": 0,
             "ticks": ""
            },
            "type": "mesh3d"
           }
          ],
          "parcoords": [
           {
            "line": {
             "colorbar": {
              "outlinewidth": 0,
              "ticks": ""
             }
            },
            "type": "parcoords"
           }
          ],
          "pie": [
           {
            "automargin": true,
            "type": "pie"
           }
          ],
          "scatter": [
           {
            "fillpattern": {
             "fillmode": "overlay",
             "size": 10,
             "solidity": 0.2
            },
            "type": "scatter"
           }
          ],
          "scatter3d": [
           {
            "line": {
             "colorbar": {
              "outlinewidth": 0,
              "ticks": ""
             }
            },
            "marker": {
             "colorbar": {
              "outlinewidth": 0,
              "ticks": ""
             }
            },
            "type": "scatter3d"
           }
          ],
          "scattercarpet": [
           {
            "marker": {
             "colorbar": {
              "outlinewidth": 0,
              "ticks": ""
             }
            },
            "type": "scattercarpet"
           }
          ],
          "scattergeo": [
           {
            "marker": {
             "colorbar": {
              "outlinewidth": 0,
              "ticks": ""
             }
            },
            "type": "scattergeo"
           }
          ],
          "scattergl": [
           {
            "marker": {
             "colorbar": {
              "outlinewidth": 0,
              "ticks": ""
             }
            },
            "type": "scattergl"
           }
          ],
          "scattermapbox": [
           {
            "marker": {
             "colorbar": {
              "outlinewidth": 0,
              "ticks": ""
             }
            },
            "type": "scattermapbox"
           }
          ],
          "scatterpolar": [
           {
            "marker": {
             "colorbar": {
              "outlinewidth": 0,
              "ticks": ""
             }
            },
            "type": "scatterpolar"
           }
          ],
          "scatterpolargl": [
           {
            "marker": {
             "colorbar": {
              "outlinewidth": 0,
              "ticks": ""
             }
            },
            "type": "scatterpolargl"
           }
          ],
          "scatterternary": [
           {
            "marker": {
             "colorbar": {
              "outlinewidth": 0,
              "ticks": ""
             }
            },
            "type": "scatterternary"
           }
          ],
          "surface": [
           {
            "colorbar": {
             "outlinewidth": 0,
             "ticks": ""
            },
            "colorscale": [
             [
              0,
              "#0d0887"
             ],
             [
              0.1111111111111111,
              "#46039f"
             ],
             [
              0.2222222222222222,
              "#7201a8"
             ],
             [
              0.3333333333333333,
              "#9c179e"
             ],
             [
              0.4444444444444444,
              "#bd3786"
             ],
             [
              0.5555555555555556,
              "#d8576b"
             ],
             [
              0.6666666666666666,
              "#ed7953"
             ],
             [
              0.7777777777777778,
              "#fb9f3a"
             ],
             [
              0.8888888888888888,
              "#fdca26"
             ],
             [
              1,
              "#f0f921"
             ]
            ],
            "type": "surface"
           }
          ],
          "table": [
           {
            "cells": {
             "fill": {
              "color": "#EBF0F8"
             },
             "line": {
              "color": "white"
             }
            },
            "header": {
             "fill": {
              "color": "#C8D4E3"
             },
             "line": {
              "color": "white"
             }
            },
            "type": "table"
           }
          ]
         },
         "layout": {
          "annotationdefaults": {
           "arrowcolor": "#2a3f5f",
           "arrowhead": 0,
           "arrowwidth": 1
          },
          "autotypenumbers": "strict",
          "coloraxis": {
           "colorbar": {
            "outlinewidth": 0,
            "ticks": ""
           }
          },
          "colorscale": {
           "diverging": [
            [
             0,
             "#8e0152"
            ],
            [
             0.1,
             "#c51b7d"
            ],
            [
             0.2,
             "#de77ae"
            ],
            [
             0.3,
             "#f1b6da"
            ],
            [
             0.4,
             "#fde0ef"
            ],
            [
             0.5,
             "#f7f7f7"
            ],
            [
             0.6,
             "#e6f5d0"
            ],
            [
             0.7,
             "#b8e186"
            ],
            [
             0.8,
             "#7fbc41"
            ],
            [
             0.9,
             "#4d9221"
            ],
            [
             1,
             "#276419"
            ]
           ],
           "sequential": [
            [
             0,
             "#0d0887"
            ],
            [
             0.1111111111111111,
             "#46039f"
            ],
            [
             0.2222222222222222,
             "#7201a8"
            ],
            [
             0.3333333333333333,
             "#9c179e"
            ],
            [
             0.4444444444444444,
             "#bd3786"
            ],
            [
             0.5555555555555556,
             "#d8576b"
            ],
            [
             0.6666666666666666,
             "#ed7953"
            ],
            [
             0.7777777777777778,
             "#fb9f3a"
            ],
            [
             0.8888888888888888,
             "#fdca26"
            ],
            [
             1,
             "#f0f921"
            ]
           ],
           "sequentialminus": [
            [
             0,
             "#0d0887"
            ],
            [
             0.1111111111111111,
             "#46039f"
            ],
            [
             0.2222222222222222,
             "#7201a8"
            ],
            [
             0.3333333333333333,
             "#9c179e"
            ],
            [
             0.4444444444444444,
             "#bd3786"
            ],
            [
             0.5555555555555556,
             "#d8576b"
            ],
            [
             0.6666666666666666,
             "#ed7953"
            ],
            [
             0.7777777777777778,
             "#fb9f3a"
            ],
            [
             0.8888888888888888,
             "#fdca26"
            ],
            [
             1,
             "#f0f921"
            ]
           ]
          },
          "colorway": [
           "#636efa",
           "#EF553B",
           "#00cc96",
           "#ab63fa",
           "#FFA15A",
           "#19d3f3",
           "#FF6692",
           "#B6E880",
           "#FF97FF",
           "#FECB52"
          ],
          "font": {
           "color": "#2a3f5f"
          },
          "geo": {
           "bgcolor": "white",
           "lakecolor": "white",
           "landcolor": "#E5ECF6",
           "showlakes": true,
           "showland": true,
           "subunitcolor": "white"
          },
          "hoverlabel": {
           "align": "left"
          },
          "hovermode": "closest",
          "mapbox": {
           "style": "light"
          },
          "paper_bgcolor": "white",
          "plot_bgcolor": "#E5ECF6",
          "polar": {
           "angularaxis": {
            "gridcolor": "white",
            "linecolor": "white",
            "ticks": ""
           },
           "bgcolor": "#E5ECF6",
           "radialaxis": {
            "gridcolor": "white",
            "linecolor": "white",
            "ticks": ""
           }
          },
          "scene": {
           "xaxis": {
            "backgroundcolor": "#E5ECF6",
            "gridcolor": "white",
            "gridwidth": 2,
            "linecolor": "white",
            "showbackground": true,
            "ticks": "",
            "zerolinecolor": "white"
           },
           "yaxis": {
            "backgroundcolor": "#E5ECF6",
            "gridcolor": "white",
            "gridwidth": 2,
            "linecolor": "white",
            "showbackground": true,
            "ticks": "",
            "zerolinecolor": "white"
           },
           "zaxis": {
            "backgroundcolor": "#E5ECF6",
            "gridcolor": "white",
            "gridwidth": 2,
            "linecolor": "white",
            "showbackground": true,
            "ticks": "",
            "zerolinecolor": "white"
           }
          },
          "shapedefaults": {
           "line": {
            "color": "#2a3f5f"
           }
          },
          "ternary": {
           "aaxis": {
            "gridcolor": "white",
            "linecolor": "white",
            "ticks": ""
           },
           "baxis": {
            "gridcolor": "white",
            "linecolor": "white",
            "ticks": ""
           },
           "bgcolor": "#E5ECF6",
           "caxis": {
            "gridcolor": "white",
            "linecolor": "white",
            "ticks": ""
           }
          },
          "title": {
           "x": 0.05
          },
          "xaxis": {
           "automargin": true,
           "gridcolor": "white",
           "linecolor": "white",
           "ticks": "",
           "title": {
            "standoff": 15
           },
           "zerolinecolor": "white",
           "zerolinewidth": 2
          },
          "yaxis": {
           "automargin": true,
           "gridcolor": "white",
           "linecolor": "white",
           "ticks": "",
           "title": {
            "standoff": 15
           },
           "zerolinecolor": "white",
           "zerolinewidth": 2
          }
         }
        },
        "xaxis": {
         "anchor": "y",
         "domain": [
          0,
          1
         ],
         "title": {
          "text": "parsed"
         }
        },
        "yaxis": {
         "anchor": "x",
         "domain": [
          0,
          1
         ],
         "title": {
          "text": "Percentage"
         }
        }
       }
      },
      "text/html": [
       "<div>                            <div id=\"963f2e63-1015-46ce-a9c1-feb340756a9b\" class=\"plotly-graph-div\" style=\"height:525px; width:100%;\"></div>            <script type=\"text/javascript\">                require([\"plotly\"], function(Plotly) {                    window.PLOTLYENV=window.PLOTLYENV || {};                                    if (document.getElementById(\"963f2e63-1015-46ce-a9c1-feb340756a9b\")) {                    Plotly.newPlot(                        \"963f2e63-1015-46ce-a9c1-feb340756a9b\",                        [{\"alignmentgroup\":\"True\",\"hovertemplate\":\"Gender=Female\\u003cbr\\u003eparsed=%{x}\\u003cbr\\u003ePercentage=%{y}\\u003cextra\\u003e\\u003c\\u002fextra\\u003e\",\"legendgroup\":\"Female\",\"marker\":{\"color\":\"#636efa\",\"pattern\":{\"shape\":\"\"}},\"name\":\"Female\",\"offsetgroup\":\"Female\",\"orientation\":\"v\",\"showlegend\":true,\"textposition\":\"auto\",\"x\":[\"amazing\",\"awesome\",\"awful\",\"cheerful\",\"compassionate\",\"delighted\",\"disgusting\",\"fantastic\",\"friendly\",\"happy\",\"hilarious\",\"joyful\",\"kind\",\"knowledgeable\",\"musical\",\"pleasing\",\"pleasurable\",\"sad\",\"sweet\",\"terrible\",\"unhappy\"],\"xaxis\":\"x\",\"y\":[3.0476190476190474,8.0,2.4761904761904763,3.619047619047619,1.9047619047619049,1.1428571428571428,1.1428571428571428,2.2857142857142856,2.857142857142857,23.809523809523807,1.1428571428571428,4.0,2.0952380952380953,2.0952380952380953,2.0952380952380953,1.3333333333333335,1.9047619047619049,4.190476190476191,12.95238095238095,1.1428571428571428,2.2857142857142856],\"yaxis\":\"y\",\"type\":\"bar\"},{\"alignmentgroup\":\"True\",\"hovertemplate\":\"Gender=Male\\u003cbr\\u003eparsed=%{x}\\u003cbr\\u003ePercentage=%{y}\\u003cextra\\u003e\\u003c\\u002fextra\\u003e\",\"legendgroup\":\"Male\",\"marker\":{\"color\":\"#EF553B\",\"pattern\":{\"shape\":\"\"}},\"name\":\"Male\",\"offsetgroup\":\"Male\",\"orientation\":\"v\",\"showlegend\":true,\"textposition\":\"auto\",\"x\":[\"amazing\",\"awesome\",\"awful\",\"bliss\",\"cheerful\",\"compassionate\",\"delighted\",\"disgusting\",\"entertaining\",\"exciting\",\"fantastic\",\"friendly\",\"happy\",\"hateful\",\"hilarious\",\"homeless\",\"joyful\",\"knowledgeable\",\"musical\",\"pleasurable\",\"racist\",\"sad\",\"sweet\",\"terrible\",\"unhappy\"],\"xaxis\":\"x\",\"y\":[3.7437005039596833,10.583153347732182,4.031677465802735,1.079913606911447,2.2318214542836574,1.2958963282937366,1.079913606911447,1.655867530597552,1.7998560115190785,1.7278617710583155,1.4398848092152627,2.8077753779697625,21.598272138228943,2.735781137508999,1.0079193664506838,1.079913606911447,2.375809935205184,3.2397408207343417,2.375809935205184,1.8718502519798417,1.079913606911447,3.7437005039596833,5.25557955363571,1.2239020878329734,2.51979841612671],\"yaxis\":\"y\",\"type\":\"bar\"}],                        {\"template\":{\"data\":{\"histogram2dcontour\":[{\"type\":\"histogram2dcontour\",\"colorbar\":{\"outlinewidth\":0,\"ticks\":\"\"},\"colorscale\":[[0.0,\"#0d0887\"],[0.1111111111111111,\"#46039f\"],[0.2222222222222222,\"#7201a8\"],[0.3333333333333333,\"#9c179e\"],[0.4444444444444444,\"#bd3786\"],[0.5555555555555556,\"#d8576b\"],[0.6666666666666666,\"#ed7953\"],[0.7777777777777778,\"#fb9f3a\"],[0.8888888888888888,\"#fdca26\"],[1.0,\"#f0f921\"]]}],\"choropleth\":[{\"type\":\"choropleth\",\"colorbar\":{\"outlinewidth\":0,\"ticks\":\"\"}}],\"histogram2d\":[{\"type\":\"histogram2d\",\"colorbar\":{\"outlinewidth\":0,\"ticks\":\"\"},\"colorscale\":[[0.0,\"#0d0887\"],[0.1111111111111111,\"#46039f\"],[0.2222222222222222,\"#7201a8\"],[0.3333333333333333,\"#9c179e\"],[0.4444444444444444,\"#bd3786\"],[0.5555555555555556,\"#d8576b\"],[0.6666666666666666,\"#ed7953\"],[0.7777777777777778,\"#fb9f3a\"],[0.8888888888888888,\"#fdca26\"],[1.0,\"#f0f921\"]]}],\"heatmap\":[{\"type\":\"heatmap\",\"colorbar\":{\"outlinewidth\":0,\"ticks\":\"\"},\"colorscale\":[[0.0,\"#0d0887\"],[0.1111111111111111,\"#46039f\"],[0.2222222222222222,\"#7201a8\"],[0.3333333333333333,\"#9c179e\"],[0.4444444444444444,\"#bd3786\"],[0.5555555555555556,\"#d8576b\"],[0.6666666666666666,\"#ed7953\"],[0.7777777777777778,\"#fb9f3a\"],[0.8888888888888888,\"#fdca26\"],[1.0,\"#f0f921\"]]}],\"heatmapgl\":[{\"type\":\"heatmapgl\",\"colorbar\":{\"outlinewidth\":0,\"ticks\":\"\"},\"colorscale\":[[0.0,\"#0d0887\"],[0.1111111111111111,\"#46039f\"],[0.2222222222222222,\"#7201a8\"],[0.3333333333333333,\"#9c179e\"],[0.4444444444444444,\"#bd3786\"],[0.5555555555555556,\"#d8576b\"],[0.6666666666666666,\"#ed7953\"],[0.7777777777777778,\"#fb9f3a\"],[0.8888888888888888,\"#fdca26\"],[1.0,\"#f0f921\"]]}],\"contourcarpet\":[{\"type\":\"contourcarpet\",\"colorbar\":{\"outlinewidth\":0,\"ticks\":\"\"}}],\"contour\":[{\"type\":\"contour\",\"colorbar\":{\"outlinewidth\":0,\"ticks\":\"\"},\"colorscale\":[[0.0,\"#0d0887\"],[0.1111111111111111,\"#46039f\"],[0.2222222222222222,\"#7201a8\"],[0.3333333333333333,\"#9c179e\"],[0.4444444444444444,\"#bd3786\"],[0.5555555555555556,\"#d8576b\"],[0.6666666666666666,\"#ed7953\"],[0.7777777777777778,\"#fb9f3a\"],[0.8888888888888888,\"#fdca26\"],[1.0,\"#f0f921\"]]}],\"surface\":[{\"type\":\"surface\",\"colorbar\":{\"outlinewidth\":0,\"ticks\":\"\"},\"colorscale\":[[0.0,\"#0d0887\"],[0.1111111111111111,\"#46039f\"],[0.2222222222222222,\"#7201a8\"],[0.3333333333333333,\"#9c179e\"],[0.4444444444444444,\"#bd3786\"],[0.5555555555555556,\"#d8576b\"],[0.6666666666666666,\"#ed7953\"],[0.7777777777777778,\"#fb9f3a\"],[0.8888888888888888,\"#fdca26\"],[1.0,\"#f0f921\"]]}],\"mesh3d\":[{\"type\":\"mesh3d\",\"colorbar\":{\"outlinewidth\":0,\"ticks\":\"\"}}],\"scatter\":[{\"fillpattern\":{\"fillmode\":\"overlay\",\"size\":10,\"solidity\":0.2},\"type\":\"scatter\"}],\"parcoords\":[{\"type\":\"parcoords\",\"line\":{\"colorbar\":{\"outlinewidth\":0,\"ticks\":\"\"}}}],\"scatterpolargl\":[{\"type\":\"scatterpolargl\",\"marker\":{\"colorbar\":{\"outlinewidth\":0,\"ticks\":\"\"}}}],\"bar\":[{\"error_x\":{\"color\":\"#2a3f5f\"},\"error_y\":{\"color\":\"#2a3f5f\"},\"marker\":{\"line\":{\"color\":\"#E5ECF6\",\"width\":0.5},\"pattern\":{\"fillmode\":\"overlay\",\"size\":10,\"solidity\":0.2}},\"type\":\"bar\"}],\"scattergeo\":[{\"type\":\"scattergeo\",\"marker\":{\"colorbar\":{\"outlinewidth\":0,\"ticks\":\"\"}}}],\"scatterpolar\":[{\"type\":\"scatterpolar\",\"marker\":{\"colorbar\":{\"outlinewidth\":0,\"ticks\":\"\"}}}],\"histogram\":[{\"marker\":{\"pattern\":{\"fillmode\":\"overlay\",\"size\":10,\"solidity\":0.2}},\"type\":\"histogram\"}],\"scattergl\":[{\"type\":\"scattergl\",\"marker\":{\"colorbar\":{\"outlinewidth\":0,\"ticks\":\"\"}}}],\"scatter3d\":[{\"type\":\"scatter3d\",\"line\":{\"colorbar\":{\"outlinewidth\":0,\"ticks\":\"\"}},\"marker\":{\"colorbar\":{\"outlinewidth\":0,\"ticks\":\"\"}}}],\"scattermapbox\":[{\"type\":\"scattermapbox\",\"marker\":{\"colorbar\":{\"outlinewidth\":0,\"ticks\":\"\"}}}],\"scatterternary\":[{\"type\":\"scatterternary\",\"marker\":{\"colorbar\":{\"outlinewidth\":0,\"ticks\":\"\"}}}],\"scattercarpet\":[{\"type\":\"scattercarpet\",\"marker\":{\"colorbar\":{\"outlinewidth\":0,\"ticks\":\"\"}}}],\"carpet\":[{\"aaxis\":{\"endlinecolor\":\"#2a3f5f\",\"gridcolor\":\"white\",\"linecolor\":\"white\",\"minorgridcolor\":\"white\",\"startlinecolor\":\"#2a3f5f\"},\"baxis\":{\"endlinecolor\":\"#2a3f5f\",\"gridcolor\":\"white\",\"linecolor\":\"white\",\"minorgridcolor\":\"white\",\"startlinecolor\":\"#2a3f5f\"},\"type\":\"carpet\"}],\"table\":[{\"cells\":{\"fill\":{\"color\":\"#EBF0F8\"},\"line\":{\"color\":\"white\"}},\"header\":{\"fill\":{\"color\":\"#C8D4E3\"},\"line\":{\"color\":\"white\"}},\"type\":\"table\"}],\"barpolar\":[{\"marker\":{\"line\":{\"color\":\"#E5ECF6\",\"width\":0.5},\"pattern\":{\"fillmode\":\"overlay\",\"size\":10,\"solidity\":0.2}},\"type\":\"barpolar\"}],\"pie\":[{\"automargin\":true,\"type\":\"pie\"}]},\"layout\":{\"autotypenumbers\":\"strict\",\"colorway\":[\"#636efa\",\"#EF553B\",\"#00cc96\",\"#ab63fa\",\"#FFA15A\",\"#19d3f3\",\"#FF6692\",\"#B6E880\",\"#FF97FF\",\"#FECB52\"],\"font\":{\"color\":\"#2a3f5f\"},\"hovermode\":\"closest\",\"hoverlabel\":{\"align\":\"left\"},\"paper_bgcolor\":\"white\",\"plot_bgcolor\":\"#E5ECF6\",\"polar\":{\"bgcolor\":\"#E5ECF6\",\"angularaxis\":{\"gridcolor\":\"white\",\"linecolor\":\"white\",\"ticks\":\"\"},\"radialaxis\":{\"gridcolor\":\"white\",\"linecolor\":\"white\",\"ticks\":\"\"}},\"ternary\":{\"bgcolor\":\"#E5ECF6\",\"aaxis\":{\"gridcolor\":\"white\",\"linecolor\":\"white\",\"ticks\":\"\"},\"baxis\":{\"gridcolor\":\"white\",\"linecolor\":\"white\",\"ticks\":\"\"},\"caxis\":{\"gridcolor\":\"white\",\"linecolor\":\"white\",\"ticks\":\"\"}},\"coloraxis\":{\"colorbar\":{\"outlinewidth\":0,\"ticks\":\"\"}},\"colorscale\":{\"sequential\":[[0.0,\"#0d0887\"],[0.1111111111111111,\"#46039f\"],[0.2222222222222222,\"#7201a8\"],[0.3333333333333333,\"#9c179e\"],[0.4444444444444444,\"#bd3786\"],[0.5555555555555556,\"#d8576b\"],[0.6666666666666666,\"#ed7953\"],[0.7777777777777778,\"#fb9f3a\"],[0.8888888888888888,\"#fdca26\"],[1.0,\"#f0f921\"]],\"sequentialminus\":[[0.0,\"#0d0887\"],[0.1111111111111111,\"#46039f\"],[0.2222222222222222,\"#7201a8\"],[0.3333333333333333,\"#9c179e\"],[0.4444444444444444,\"#bd3786\"],[0.5555555555555556,\"#d8576b\"],[0.6666666666666666,\"#ed7953\"],[0.7777777777777778,\"#fb9f3a\"],[0.8888888888888888,\"#fdca26\"],[1.0,\"#f0f921\"]],\"diverging\":[[0,\"#8e0152\"],[0.1,\"#c51b7d\"],[0.2,\"#de77ae\"],[0.3,\"#f1b6da\"],[0.4,\"#fde0ef\"],[0.5,\"#f7f7f7\"],[0.6,\"#e6f5d0\"],[0.7,\"#b8e186\"],[0.8,\"#7fbc41\"],[0.9,\"#4d9221\"],[1,\"#276419\"]]},\"xaxis\":{\"gridcolor\":\"white\",\"linecolor\":\"white\",\"ticks\":\"\",\"title\":{\"standoff\":15},\"zerolinecolor\":\"white\",\"automargin\":true,\"zerolinewidth\":2},\"yaxis\":{\"gridcolor\":\"white\",\"linecolor\":\"white\",\"ticks\":\"\",\"title\":{\"standoff\":15},\"zerolinecolor\":\"white\",\"automargin\":true,\"zerolinewidth\":2},\"scene\":{\"xaxis\":{\"backgroundcolor\":\"#E5ECF6\",\"gridcolor\":\"white\",\"linecolor\":\"white\",\"showbackground\":true,\"ticks\":\"\",\"zerolinecolor\":\"white\",\"gridwidth\":2},\"yaxis\":{\"backgroundcolor\":\"#E5ECF6\",\"gridcolor\":\"white\",\"linecolor\":\"white\",\"showbackground\":true,\"ticks\":\"\",\"zerolinecolor\":\"white\",\"gridwidth\":2},\"zaxis\":{\"backgroundcolor\":\"#E5ECF6\",\"gridcolor\":\"white\",\"linecolor\":\"white\",\"showbackground\":true,\"ticks\":\"\",\"zerolinecolor\":\"white\",\"gridwidth\":2}},\"shapedefaults\":{\"line\":{\"color\":\"#2a3f5f\"}},\"annotationdefaults\":{\"arrowcolor\":\"#2a3f5f\",\"arrowhead\":0,\"arrowwidth\":1},\"geo\":{\"bgcolor\":\"white\",\"landcolor\":\"#E5ECF6\",\"subunitcolor\":\"white\",\"showland\":true,\"showlakes\":true,\"lakecolor\":\"white\"},\"title\":{\"x\":0.05},\"mapbox\":{\"style\":\"light\"}}},\"xaxis\":{\"anchor\":\"y\",\"domain\":[0.0,1.0],\"title\":{\"text\":\"parsed\"}},\"yaxis\":{\"anchor\":\"x\",\"domain\":[0.0,1.0],\"title\":{\"text\":\"Percentage\"}},\"legend\":{\"title\":{\"text\":\"Gender\"},\"tracegroupgap\":0},\"margin\":{\"t\":60},\"barmode\":\"group\"},                        {\"responsive\": true}                    ).then(function(){\n",
       "                            \n",
       "var gd = document.getElementById('963f2e63-1015-46ce-a9c1-feb340756a9b');\n",
       "var x = new MutationObserver(function (mutations, observer) {{\n",
       "        var display = window.getComputedStyle(gd).display;\n",
       "        if (!display || display === 'none') {{\n",
       "            console.log([gd, 'removed!']);\n",
       "            Plotly.purge(gd);\n",
       "            observer.disconnect();\n",
       "        }}\n",
       "}});\n",
       "\n",
       "// Listen for the removal of the full notebook cells\n",
       "var notebookContainer = gd.closest('#notebook-container');\n",
       "if (notebookContainer) {{\n",
       "    x.observe(notebookContainer, {childList: true});\n",
       "}}\n",
       "\n",
       "// Listen for the clearing of the current output cell\n",
       "var outputEl = gd.closest('.output');\n",
       "if (outputEl) {{\n",
       "    x.observe(outputEl, {childList: true});\n",
       "}}\n",
       "\n",
       "                        })                };                });            </script>        </div>"
      ]
     },
     "metadata": {},
     "output_type": "display_data"
    }
   ],
   "source": [
    "subset = df[['Spkr', 'segment', 'Age', 'Gender', 'Education', 'Occupation', 'Edu.Group', 'Age.Group', \n",
    "       'model_response_adjective_valence_MERaLiON-AudioLLM-Whisper-SEA-LION',\n",
    "       'model_prompt_adjective_valence_MERaLiON-AudioLLM-Whisper-SEA-LION']].copy()\n",
    "\n",
    "\n",
    "subset['parsed'] = subset.apply(lambda row: parse_adjectives(row, 'model_response_adjective_valence_MERaLiON-AudioLLM-Whisper-SEA-LION', ADJECTIVES_VALENCE['english']), axis=1)\n",
    "\n",
    "\n",
    "df_exploded = subset.explode('parsed')\n",
    "result = df_exploded.groupby(['Gender', 'parsed']).size().reset_index(name='count')\n",
    "\n",
    "\n",
    "result['Total'] = result.groupby('Gender')['count'].transform('sum')\n",
    "result['Percentage'] = result['count'] / result['Total'] * 100\n",
    "\n",
    "result = result[result['Percentage']>1]\n",
    "\n",
    "\n",
    "# Create a grouped bar plot\n",
    "fig = px.bar(\n",
    "    result,\n",
    "    x='parsed',\n",
    "    y='Percentage',\n",
    "    color='Gender',    # Different colors for each group\n",
    "    barmode='group',  # Place bars side-by-side rather than stacking them\n",
    ")\n",
    "fig.show()\n"
   ]
  },
  {
   "cell_type": "markdown",
   "metadata": {},
   "source": [
    "# Professions"
   ]
  },
  {
   "cell_type": "markdown",
   "metadata": {},
   "source": [
    "### Qwen2"
   ]
  },
  {
   "cell_type": "code",
   "execution_count": null,
   "metadata": {},
   "outputs": [
    {
     "data": {
      "application/vnd.plotly.v1+json": {
       "config": {
        "plotlyServerURL": "https://plot.ly"
       },
       "data": [
        {
         "alignmentgroup": "True",
         "hovertemplate": "Gender=Female<br>parsed=%{x}<br>Percentage=%{y}<extra></extra>",
         "legendgroup": "Female",
         "marker": {
          "color": "#636efa",
          "pattern": {
           "shape": ""
          }
         },
         "name": "Female",
         "offsetgroup": "Female",
         "orientation": "v",
         "showlegend": true,
         "textposition": "auto",
         "type": "bar",
         "x": [
          "accountant",
          "assistant",
          "carpenter",
          "cashier",
          "chief",
          "cleaner",
          "construction worker",
          "cook",
          "developer",
          "driver",
          "editor",
          "janitor",
          "laborer",
          "lawyer",
          "librarian",
          "manager",
          "mechanic",
          "nurse",
          "receptionist",
          "salesperson",
          "secretary",
          "software engineer",
          "supervisor",
          "teacher",
          "writer"
         ],
         "xaxis": "x",
         "y": [
          2.3054755043227666,
          1.1527377521613833,
          1.1527377521613833,
          2.0172910662824206,
          1.1527377521613833,
          2.5936599423631126,
          2.0172910662824206,
          2.0172910662824206,
          1.1527377521613833,
          4.322766570605188,
          3.170028818443804,
          2.0172910662824206,
          1.1527377521613833,
          1.440922190201729,
          3.45821325648415,
          2.5936599423631126,
          18.73198847262248,
          4.034582132564841,
          2.0172910662824206,
          2.5936599423631126,
          4.034582132564841,
          7.204610951008646,
          1.1527377521613833,
          8.069164265129682,
          10.662824207492795
         ],
         "yaxis": "y"
        },
        {
         "alignmentgroup": "True",
         "hovertemplate": "Gender=Male<br>parsed=%{x}<br>Percentage=%{y}<extra></extra>",
         "legendgroup": "Male",
         "marker": {
          "color": "#EF553B",
          "pattern": {
           "shape": ""
          }
         },
         "name": "Male",
         "offsetgroup": "Male",
         "orientation": "v",
         "showlegend": true,
         "textposition": "auto",
         "type": "bar",
         "x": [
          "accountant",
          "analyst",
          "carpenter",
          "cashier",
          "cleaner",
          "construction worker",
          "cook",
          "developer",
          "driver",
          "editor",
          "janitor",
          "laborer",
          "lawyer",
          "manager",
          "mechanic",
          "receptionist",
          "salesperson",
          "secretary",
          "software engineer",
          "supervisor",
          "teacher",
          "writer"
         ],
         "xaxis": "x",
         "y": [
          1.694915254237288,
          1.059322033898305,
          1.8008474576271187,
          2.754237288135593,
          2.4364406779661016,
          5.402542372881356,
          1.694915254237288,
          4.025423728813559,
          4.343220338983051,
          2.5423728813559325,
          1.2711864406779663,
          3.4957627118644066,
          1.4830508474576272,
          3.1779661016949152,
          26.906779661016948,
          1.3771186440677965,
          3.7076271186440675,
          2.2245762711864407,
          8.26271186440678,
          1.2711864406779663,
          4.13135593220339,
          6.3559322033898304
         ],
         "yaxis": "y"
        }
       ],
       "layout": {
        "barmode": "group",
        "legend": {
         "title": {
          "text": "Gender"
         },
         "tracegroupgap": 0
        },
        "margin": {
         "t": 60
        },
        "template": {
         "data": {
          "bar": [
           {
            "error_x": {
             "color": "#2a3f5f"
            },
            "error_y": {
             "color": "#2a3f5f"
            },
            "marker": {
             "line": {
              "color": "#E5ECF6",
              "width": 0.5
             },
             "pattern": {
              "fillmode": "overlay",
              "size": 10,
              "solidity": 0.2
             }
            },
            "type": "bar"
           }
          ],
          "barpolar": [
           {
            "marker": {
             "line": {
              "color": "#E5ECF6",
              "width": 0.5
             },
             "pattern": {
              "fillmode": "overlay",
              "size": 10,
              "solidity": 0.2
             }
            },
            "type": "barpolar"
           }
          ],
          "carpet": [
           {
            "aaxis": {
             "endlinecolor": "#2a3f5f",
             "gridcolor": "white",
             "linecolor": "white",
             "minorgridcolor": "white",
             "startlinecolor": "#2a3f5f"
            },
            "baxis": {
             "endlinecolor": "#2a3f5f",
             "gridcolor": "white",
             "linecolor": "white",
             "minorgridcolor": "white",
             "startlinecolor": "#2a3f5f"
            },
            "type": "carpet"
           }
          ],
          "choropleth": [
           {
            "colorbar": {
             "outlinewidth": 0,
             "ticks": ""
            },
            "type": "choropleth"
           }
          ],
          "contour": [
           {
            "colorbar": {
             "outlinewidth": 0,
             "ticks": ""
            },
            "colorscale": [
             [
              0,
              "#0d0887"
             ],
             [
              0.1111111111111111,
              "#46039f"
             ],
             [
              0.2222222222222222,
              "#7201a8"
             ],
             [
              0.3333333333333333,
              "#9c179e"
             ],
             [
              0.4444444444444444,
              "#bd3786"
             ],
             [
              0.5555555555555556,
              "#d8576b"
             ],
             [
              0.6666666666666666,
              "#ed7953"
             ],
             [
              0.7777777777777778,
              "#fb9f3a"
             ],
             [
              0.8888888888888888,
              "#fdca26"
             ],
             [
              1,
              "#f0f921"
             ]
            ],
            "type": "contour"
           }
          ],
          "contourcarpet": [
           {
            "colorbar": {
             "outlinewidth": 0,
             "ticks": ""
            },
            "type": "contourcarpet"
           }
          ],
          "heatmap": [
           {
            "colorbar": {
             "outlinewidth": 0,
             "ticks": ""
            },
            "colorscale": [
             [
              0,
              "#0d0887"
             ],
             [
              0.1111111111111111,
              "#46039f"
             ],
             [
              0.2222222222222222,
              "#7201a8"
             ],
             [
              0.3333333333333333,
              "#9c179e"
             ],
             [
              0.4444444444444444,
              "#bd3786"
             ],
             [
              0.5555555555555556,
              "#d8576b"
             ],
             [
              0.6666666666666666,
              "#ed7953"
             ],
             [
              0.7777777777777778,
              "#fb9f3a"
             ],
             [
              0.8888888888888888,
              "#fdca26"
             ],
             [
              1,
              "#f0f921"
             ]
            ],
            "type": "heatmap"
           }
          ],
          "heatmapgl": [
           {
            "colorbar": {
             "outlinewidth": 0,
             "ticks": ""
            },
            "colorscale": [
             [
              0,
              "#0d0887"
             ],
             [
              0.1111111111111111,
              "#46039f"
             ],
             [
              0.2222222222222222,
              "#7201a8"
             ],
             [
              0.3333333333333333,
              "#9c179e"
             ],
             [
              0.4444444444444444,
              "#bd3786"
             ],
             [
              0.5555555555555556,
              "#d8576b"
             ],
             [
              0.6666666666666666,
              "#ed7953"
             ],
             [
              0.7777777777777778,
              "#fb9f3a"
             ],
             [
              0.8888888888888888,
              "#fdca26"
             ],
             [
              1,
              "#f0f921"
             ]
            ],
            "type": "heatmapgl"
           }
          ],
          "histogram": [
           {
            "marker": {
             "pattern": {
              "fillmode": "overlay",
              "size": 10,
              "solidity": 0.2
             }
            },
            "type": "histogram"
           }
          ],
          "histogram2d": [
           {
            "colorbar": {
             "outlinewidth": 0,
             "ticks": ""
            },
            "colorscale": [
             [
              0,
              "#0d0887"
             ],
             [
              0.1111111111111111,
              "#46039f"
             ],
             [
              0.2222222222222222,
              "#7201a8"
             ],
             [
              0.3333333333333333,
              "#9c179e"
             ],
             [
              0.4444444444444444,
              "#bd3786"
             ],
             [
              0.5555555555555556,
              "#d8576b"
             ],
             [
              0.6666666666666666,
              "#ed7953"
             ],
             [
              0.7777777777777778,
              "#fb9f3a"
             ],
             [
              0.8888888888888888,
              "#fdca26"
             ],
             [
              1,
              "#f0f921"
             ]
            ],
            "type": "histogram2d"
           }
          ],
          "histogram2dcontour": [
           {
            "colorbar": {
             "outlinewidth": 0,
             "ticks": ""
            },
            "colorscale": [
             [
              0,
              "#0d0887"
             ],
             [
              0.1111111111111111,
              "#46039f"
             ],
             [
              0.2222222222222222,
              "#7201a8"
             ],
             [
              0.3333333333333333,
              "#9c179e"
             ],
             [
              0.4444444444444444,
              "#bd3786"
             ],
             [
              0.5555555555555556,
              "#d8576b"
             ],
             [
              0.6666666666666666,
              "#ed7953"
             ],
             [
              0.7777777777777778,
              "#fb9f3a"
             ],
             [
              0.8888888888888888,
              "#fdca26"
             ],
             [
              1,
              "#f0f921"
             ]
            ],
            "type": "histogram2dcontour"
           }
          ],
          "mesh3d": [
           {
            "colorbar": {
             "outlinewidth": 0,
             "ticks": ""
            },
            "type": "mesh3d"
           }
          ],
          "parcoords": [
           {
            "line": {
             "colorbar": {
              "outlinewidth": 0,
              "ticks": ""
             }
            },
            "type": "parcoords"
           }
          ],
          "pie": [
           {
            "automargin": true,
            "type": "pie"
           }
          ],
          "scatter": [
           {
            "fillpattern": {
             "fillmode": "overlay",
             "size": 10,
             "solidity": 0.2
            },
            "type": "scatter"
           }
          ],
          "scatter3d": [
           {
            "line": {
             "colorbar": {
              "outlinewidth": 0,
              "ticks": ""
             }
            },
            "marker": {
             "colorbar": {
              "outlinewidth": 0,
              "ticks": ""
             }
            },
            "type": "scatter3d"
           }
          ],
          "scattercarpet": [
           {
            "marker": {
             "colorbar": {
              "outlinewidth": 0,
              "ticks": ""
             }
            },
            "type": "scattercarpet"
           }
          ],
          "scattergeo": [
           {
            "marker": {
             "colorbar": {
              "outlinewidth": 0,
              "ticks": ""
             }
            },
            "type": "scattergeo"
           }
          ],
          "scattergl": [
           {
            "marker": {
             "colorbar": {
              "outlinewidth": 0,
              "ticks": ""
             }
            },
            "type": "scattergl"
           }
          ],
          "scattermapbox": [
           {
            "marker": {
             "colorbar": {
              "outlinewidth": 0,
              "ticks": ""
             }
            },
            "type": "scattermapbox"
           }
          ],
          "scatterpolar": [
           {
            "marker": {
             "colorbar": {
              "outlinewidth": 0,
              "ticks": ""
             }
            },
            "type": "scatterpolar"
           }
          ],
          "scatterpolargl": [
           {
            "marker": {
             "colorbar": {
              "outlinewidth": 0,
              "ticks": ""
             }
            },
            "type": "scatterpolargl"
           }
          ],
          "scatterternary": [
           {
            "marker": {
             "colorbar": {
              "outlinewidth": 0,
              "ticks": ""
             }
            },
            "type": "scatterternary"
           }
          ],
          "surface": [
           {
            "colorbar": {
             "outlinewidth": 0,
             "ticks": ""
            },
            "colorscale": [
             [
              0,
              "#0d0887"
             ],
             [
              0.1111111111111111,
              "#46039f"
             ],
             [
              0.2222222222222222,
              "#7201a8"
             ],
             [
              0.3333333333333333,
              "#9c179e"
             ],
             [
              0.4444444444444444,
              "#bd3786"
             ],
             [
              0.5555555555555556,
              "#d8576b"
             ],
             [
              0.6666666666666666,
              "#ed7953"
             ],
             [
              0.7777777777777778,
              "#fb9f3a"
             ],
             [
              0.8888888888888888,
              "#fdca26"
             ],
             [
              1,
              "#f0f921"
             ]
            ],
            "type": "surface"
           }
          ],
          "table": [
           {
            "cells": {
             "fill": {
              "color": "#EBF0F8"
             },
             "line": {
              "color": "white"
             }
            },
            "header": {
             "fill": {
              "color": "#C8D4E3"
             },
             "line": {
              "color": "white"
             }
            },
            "type": "table"
           }
          ]
         },
         "layout": {
          "annotationdefaults": {
           "arrowcolor": "#2a3f5f",
           "arrowhead": 0,
           "arrowwidth": 1
          },
          "autotypenumbers": "strict",
          "coloraxis": {
           "colorbar": {
            "outlinewidth": 0,
            "ticks": ""
           }
          },
          "colorscale": {
           "diverging": [
            [
             0,
             "#8e0152"
            ],
            [
             0.1,
             "#c51b7d"
            ],
            [
             0.2,
             "#de77ae"
            ],
            [
             0.3,
             "#f1b6da"
            ],
            [
             0.4,
             "#fde0ef"
            ],
            [
             0.5,
             "#f7f7f7"
            ],
            [
             0.6,
             "#e6f5d0"
            ],
            [
             0.7,
             "#b8e186"
            ],
            [
             0.8,
             "#7fbc41"
            ],
            [
             0.9,
             "#4d9221"
            ],
            [
             1,
             "#276419"
            ]
           ],
           "sequential": [
            [
             0,
             "#0d0887"
            ],
            [
             0.1111111111111111,
             "#46039f"
            ],
            [
             0.2222222222222222,
             "#7201a8"
            ],
            [
             0.3333333333333333,
             "#9c179e"
            ],
            [
             0.4444444444444444,
             "#bd3786"
            ],
            [
             0.5555555555555556,
             "#d8576b"
            ],
            [
             0.6666666666666666,
             "#ed7953"
            ],
            [
             0.7777777777777778,
             "#fb9f3a"
            ],
            [
             0.8888888888888888,
             "#fdca26"
            ],
            [
             1,
             "#f0f921"
            ]
           ],
           "sequentialminus": [
            [
             0,
             "#0d0887"
            ],
            [
             0.1111111111111111,
             "#46039f"
            ],
            [
             0.2222222222222222,
             "#7201a8"
            ],
            [
             0.3333333333333333,
             "#9c179e"
            ],
            [
             0.4444444444444444,
             "#bd3786"
            ],
            [
             0.5555555555555556,
             "#d8576b"
            ],
            [
             0.6666666666666666,
             "#ed7953"
            ],
            [
             0.7777777777777778,
             "#fb9f3a"
            ],
            [
             0.8888888888888888,
             "#fdca26"
            ],
            [
             1,
             "#f0f921"
            ]
           ]
          },
          "colorway": [
           "#636efa",
           "#EF553B",
           "#00cc96",
           "#ab63fa",
           "#FFA15A",
           "#19d3f3",
           "#FF6692",
           "#B6E880",
           "#FF97FF",
           "#FECB52"
          ],
          "font": {
           "color": "#2a3f5f"
          },
          "geo": {
           "bgcolor": "white",
           "lakecolor": "white",
           "landcolor": "#E5ECF6",
           "showlakes": true,
           "showland": true,
           "subunitcolor": "white"
          },
          "hoverlabel": {
           "align": "left"
          },
          "hovermode": "closest",
          "mapbox": {
           "style": "light"
          },
          "paper_bgcolor": "white",
          "plot_bgcolor": "#E5ECF6",
          "polar": {
           "angularaxis": {
            "gridcolor": "white",
            "linecolor": "white",
            "ticks": ""
           },
           "bgcolor": "#E5ECF6",
           "radialaxis": {
            "gridcolor": "white",
            "linecolor": "white",
            "ticks": ""
           }
          },
          "scene": {
           "xaxis": {
            "backgroundcolor": "#E5ECF6",
            "gridcolor": "white",
            "gridwidth": 2,
            "linecolor": "white",
            "showbackground": true,
            "ticks": "",
            "zerolinecolor": "white"
           },
           "yaxis": {
            "backgroundcolor": "#E5ECF6",
            "gridcolor": "white",
            "gridwidth": 2,
            "linecolor": "white",
            "showbackground": true,
            "ticks": "",
            "zerolinecolor": "white"
           },
           "zaxis": {
            "backgroundcolor": "#E5ECF6",
            "gridcolor": "white",
            "gridwidth": 2,
            "linecolor": "white",
            "showbackground": true,
            "ticks": "",
            "zerolinecolor": "white"
           }
          },
          "shapedefaults": {
           "line": {
            "color": "#2a3f5f"
           }
          },
          "ternary": {
           "aaxis": {
            "gridcolor": "white",
            "linecolor": "white",
            "ticks": ""
           },
           "baxis": {
            "gridcolor": "white",
            "linecolor": "white",
            "ticks": ""
           },
           "bgcolor": "#E5ECF6",
           "caxis": {
            "gridcolor": "white",
            "linecolor": "white",
            "ticks": ""
           }
          },
          "title": {
           "x": 0.05
          },
          "xaxis": {
           "automargin": true,
           "gridcolor": "white",
           "linecolor": "white",
           "ticks": "",
           "title": {
            "standoff": 15
           },
           "zerolinecolor": "white",
           "zerolinewidth": 2
          },
          "yaxis": {
           "automargin": true,
           "gridcolor": "white",
           "linecolor": "white",
           "ticks": "",
           "title": {
            "standoff": 15
           },
           "zerolinecolor": "white",
           "zerolinewidth": 2
          }
         }
        },
        "xaxis": {
         "anchor": "y",
         "domain": [
          0,
          1
         ],
         "title": {
          "text": "parsed"
         }
        },
        "yaxis": {
         "anchor": "x",
         "domain": [
          0,
          1
         ],
         "title": {
          "text": "Percentage"
         }
        }
       }
      },
      "text/html": [
       "<div>                            <div id=\"48c8a035-8b8f-46d0-80ef-a44a8ba48eea\" class=\"plotly-graph-div\" style=\"height:525px; width:100%;\"></div>            <script type=\"text/javascript\">                require([\"plotly\"], function(Plotly) {                    window.PLOTLYENV=window.PLOTLYENV || {};                                    if (document.getElementById(\"48c8a035-8b8f-46d0-80ef-a44a8ba48eea\")) {                    Plotly.newPlot(                        \"48c8a035-8b8f-46d0-80ef-a44a8ba48eea\",                        [{\"alignmentgroup\":\"True\",\"hovertemplate\":\"Gender=Female\\u003cbr\\u003eparsed=%{x}\\u003cbr\\u003ePercentage=%{y}\\u003cextra\\u003e\\u003c\\u002fextra\\u003e\",\"legendgroup\":\"Female\",\"marker\":{\"color\":\"#636efa\",\"pattern\":{\"shape\":\"\"}},\"name\":\"Female\",\"offsetgroup\":\"Female\",\"orientation\":\"v\",\"showlegend\":true,\"textposition\":\"auto\",\"x\":[\"accountant\",\"assistant\",\"carpenter\",\"cashier\",\"chief\",\"cleaner\",\"construction worker\",\"cook\",\"developer\",\"driver\",\"editor\",\"janitor\",\"laborer\",\"lawyer\",\"librarian\",\"manager\",\"mechanic\",\"nurse\",\"receptionist\",\"salesperson\",\"secretary\",\"software engineer\",\"supervisor\",\"teacher\",\"writer\"],\"xaxis\":\"x\",\"y\":[2.3054755043227666,1.1527377521613833,1.1527377521613833,2.0172910662824206,1.1527377521613833,2.5936599423631126,2.0172910662824206,2.0172910662824206,1.1527377521613833,4.322766570605188,3.170028818443804,2.0172910662824206,1.1527377521613833,1.440922190201729,3.45821325648415,2.5936599423631126,18.73198847262248,4.034582132564841,2.0172910662824206,2.5936599423631126,4.034582132564841,7.204610951008646,1.1527377521613833,8.069164265129682,10.662824207492795],\"yaxis\":\"y\",\"type\":\"bar\"},{\"alignmentgroup\":\"True\",\"hovertemplate\":\"Gender=Male\\u003cbr\\u003eparsed=%{x}\\u003cbr\\u003ePercentage=%{y}\\u003cextra\\u003e\\u003c\\u002fextra\\u003e\",\"legendgroup\":\"Male\",\"marker\":{\"color\":\"#EF553B\",\"pattern\":{\"shape\":\"\"}},\"name\":\"Male\",\"offsetgroup\":\"Male\",\"orientation\":\"v\",\"showlegend\":true,\"textposition\":\"auto\",\"x\":[\"accountant\",\"analyst\",\"carpenter\",\"cashier\",\"cleaner\",\"construction worker\",\"cook\",\"developer\",\"driver\",\"editor\",\"janitor\",\"laborer\",\"lawyer\",\"manager\",\"mechanic\",\"receptionist\",\"salesperson\",\"secretary\",\"software engineer\",\"supervisor\",\"teacher\",\"writer\"],\"xaxis\":\"x\",\"y\":[1.694915254237288,1.059322033898305,1.8008474576271187,2.754237288135593,2.4364406779661016,5.402542372881356,1.694915254237288,4.025423728813559,4.343220338983051,2.5423728813559325,1.2711864406779663,3.4957627118644066,1.4830508474576272,3.1779661016949152,26.906779661016948,1.3771186440677965,3.7076271186440675,2.2245762711864407,8.26271186440678,1.2711864406779663,4.13135593220339,6.3559322033898304],\"yaxis\":\"y\",\"type\":\"bar\"}],                        {\"template\":{\"data\":{\"histogram2dcontour\":[{\"type\":\"histogram2dcontour\",\"colorbar\":{\"outlinewidth\":0,\"ticks\":\"\"},\"colorscale\":[[0.0,\"#0d0887\"],[0.1111111111111111,\"#46039f\"],[0.2222222222222222,\"#7201a8\"],[0.3333333333333333,\"#9c179e\"],[0.4444444444444444,\"#bd3786\"],[0.5555555555555556,\"#d8576b\"],[0.6666666666666666,\"#ed7953\"],[0.7777777777777778,\"#fb9f3a\"],[0.8888888888888888,\"#fdca26\"],[1.0,\"#f0f921\"]]}],\"choropleth\":[{\"type\":\"choropleth\",\"colorbar\":{\"outlinewidth\":0,\"ticks\":\"\"}}],\"histogram2d\":[{\"type\":\"histogram2d\",\"colorbar\":{\"outlinewidth\":0,\"ticks\":\"\"},\"colorscale\":[[0.0,\"#0d0887\"],[0.1111111111111111,\"#46039f\"],[0.2222222222222222,\"#7201a8\"],[0.3333333333333333,\"#9c179e\"],[0.4444444444444444,\"#bd3786\"],[0.5555555555555556,\"#d8576b\"],[0.6666666666666666,\"#ed7953\"],[0.7777777777777778,\"#fb9f3a\"],[0.8888888888888888,\"#fdca26\"],[1.0,\"#f0f921\"]]}],\"heatmap\":[{\"type\":\"heatmap\",\"colorbar\":{\"outlinewidth\":0,\"ticks\":\"\"},\"colorscale\":[[0.0,\"#0d0887\"],[0.1111111111111111,\"#46039f\"],[0.2222222222222222,\"#7201a8\"],[0.3333333333333333,\"#9c179e\"],[0.4444444444444444,\"#bd3786\"],[0.5555555555555556,\"#d8576b\"],[0.6666666666666666,\"#ed7953\"],[0.7777777777777778,\"#fb9f3a\"],[0.8888888888888888,\"#fdca26\"],[1.0,\"#f0f921\"]]}],\"heatmapgl\":[{\"type\":\"heatmapgl\",\"colorbar\":{\"outlinewidth\":0,\"ticks\":\"\"},\"colorscale\":[[0.0,\"#0d0887\"],[0.1111111111111111,\"#46039f\"],[0.2222222222222222,\"#7201a8\"],[0.3333333333333333,\"#9c179e\"],[0.4444444444444444,\"#bd3786\"],[0.5555555555555556,\"#d8576b\"],[0.6666666666666666,\"#ed7953\"],[0.7777777777777778,\"#fb9f3a\"],[0.8888888888888888,\"#fdca26\"],[1.0,\"#f0f921\"]]}],\"contourcarpet\":[{\"type\":\"contourcarpet\",\"colorbar\":{\"outlinewidth\":0,\"ticks\":\"\"}}],\"contour\":[{\"type\":\"contour\",\"colorbar\":{\"outlinewidth\":0,\"ticks\":\"\"},\"colorscale\":[[0.0,\"#0d0887\"],[0.1111111111111111,\"#46039f\"],[0.2222222222222222,\"#7201a8\"],[0.3333333333333333,\"#9c179e\"],[0.4444444444444444,\"#bd3786\"],[0.5555555555555556,\"#d8576b\"],[0.6666666666666666,\"#ed7953\"],[0.7777777777777778,\"#fb9f3a\"],[0.8888888888888888,\"#fdca26\"],[1.0,\"#f0f921\"]]}],\"surface\":[{\"type\":\"surface\",\"colorbar\":{\"outlinewidth\":0,\"ticks\":\"\"},\"colorscale\":[[0.0,\"#0d0887\"],[0.1111111111111111,\"#46039f\"],[0.2222222222222222,\"#7201a8\"],[0.3333333333333333,\"#9c179e\"],[0.4444444444444444,\"#bd3786\"],[0.5555555555555556,\"#d8576b\"],[0.6666666666666666,\"#ed7953\"],[0.7777777777777778,\"#fb9f3a\"],[0.8888888888888888,\"#fdca26\"],[1.0,\"#f0f921\"]]}],\"mesh3d\":[{\"type\":\"mesh3d\",\"colorbar\":{\"outlinewidth\":0,\"ticks\":\"\"}}],\"scatter\":[{\"fillpattern\":{\"fillmode\":\"overlay\",\"size\":10,\"solidity\":0.2},\"type\":\"scatter\"}],\"parcoords\":[{\"type\":\"parcoords\",\"line\":{\"colorbar\":{\"outlinewidth\":0,\"ticks\":\"\"}}}],\"scatterpolargl\":[{\"type\":\"scatterpolargl\",\"marker\":{\"colorbar\":{\"outlinewidth\":0,\"ticks\":\"\"}}}],\"bar\":[{\"error_x\":{\"color\":\"#2a3f5f\"},\"error_y\":{\"color\":\"#2a3f5f\"},\"marker\":{\"line\":{\"color\":\"#E5ECF6\",\"width\":0.5},\"pattern\":{\"fillmode\":\"overlay\",\"size\":10,\"solidity\":0.2}},\"type\":\"bar\"}],\"scattergeo\":[{\"type\":\"scattergeo\",\"marker\":{\"colorbar\":{\"outlinewidth\":0,\"ticks\":\"\"}}}],\"scatterpolar\":[{\"type\":\"scatterpolar\",\"marker\":{\"colorbar\":{\"outlinewidth\":0,\"ticks\":\"\"}}}],\"histogram\":[{\"marker\":{\"pattern\":{\"fillmode\":\"overlay\",\"size\":10,\"solidity\":0.2}},\"type\":\"histogram\"}],\"scattergl\":[{\"type\":\"scattergl\",\"marker\":{\"colorbar\":{\"outlinewidth\":0,\"ticks\":\"\"}}}],\"scatter3d\":[{\"type\":\"scatter3d\",\"line\":{\"colorbar\":{\"outlinewidth\":0,\"ticks\":\"\"}},\"marker\":{\"colorbar\":{\"outlinewidth\":0,\"ticks\":\"\"}}}],\"scattermapbox\":[{\"type\":\"scattermapbox\",\"marker\":{\"colorbar\":{\"outlinewidth\":0,\"ticks\":\"\"}}}],\"scatterternary\":[{\"type\":\"scatterternary\",\"marker\":{\"colorbar\":{\"outlinewidth\":0,\"ticks\":\"\"}}}],\"scattercarpet\":[{\"type\":\"scattercarpet\",\"marker\":{\"colorbar\":{\"outlinewidth\":0,\"ticks\":\"\"}}}],\"carpet\":[{\"aaxis\":{\"endlinecolor\":\"#2a3f5f\",\"gridcolor\":\"white\",\"linecolor\":\"white\",\"minorgridcolor\":\"white\",\"startlinecolor\":\"#2a3f5f\"},\"baxis\":{\"endlinecolor\":\"#2a3f5f\",\"gridcolor\":\"white\",\"linecolor\":\"white\",\"minorgridcolor\":\"white\",\"startlinecolor\":\"#2a3f5f\"},\"type\":\"carpet\"}],\"table\":[{\"cells\":{\"fill\":{\"color\":\"#EBF0F8\"},\"line\":{\"color\":\"white\"}},\"header\":{\"fill\":{\"color\":\"#C8D4E3\"},\"line\":{\"color\":\"white\"}},\"type\":\"table\"}],\"barpolar\":[{\"marker\":{\"line\":{\"color\":\"#E5ECF6\",\"width\":0.5},\"pattern\":{\"fillmode\":\"overlay\",\"size\":10,\"solidity\":0.2}},\"type\":\"barpolar\"}],\"pie\":[{\"automargin\":true,\"type\":\"pie\"}]},\"layout\":{\"autotypenumbers\":\"strict\",\"colorway\":[\"#636efa\",\"#EF553B\",\"#00cc96\",\"#ab63fa\",\"#FFA15A\",\"#19d3f3\",\"#FF6692\",\"#B6E880\",\"#FF97FF\",\"#FECB52\"],\"font\":{\"color\":\"#2a3f5f\"},\"hovermode\":\"closest\",\"hoverlabel\":{\"align\":\"left\"},\"paper_bgcolor\":\"white\",\"plot_bgcolor\":\"#E5ECF6\",\"polar\":{\"bgcolor\":\"#E5ECF6\",\"angularaxis\":{\"gridcolor\":\"white\",\"linecolor\":\"white\",\"ticks\":\"\"},\"radialaxis\":{\"gridcolor\":\"white\",\"linecolor\":\"white\",\"ticks\":\"\"}},\"ternary\":{\"bgcolor\":\"#E5ECF6\",\"aaxis\":{\"gridcolor\":\"white\",\"linecolor\":\"white\",\"ticks\":\"\"},\"baxis\":{\"gridcolor\":\"white\",\"linecolor\":\"white\",\"ticks\":\"\"},\"caxis\":{\"gridcolor\":\"white\",\"linecolor\":\"white\",\"ticks\":\"\"}},\"coloraxis\":{\"colorbar\":{\"outlinewidth\":0,\"ticks\":\"\"}},\"colorscale\":{\"sequential\":[[0.0,\"#0d0887\"],[0.1111111111111111,\"#46039f\"],[0.2222222222222222,\"#7201a8\"],[0.3333333333333333,\"#9c179e\"],[0.4444444444444444,\"#bd3786\"],[0.5555555555555556,\"#d8576b\"],[0.6666666666666666,\"#ed7953\"],[0.7777777777777778,\"#fb9f3a\"],[0.8888888888888888,\"#fdca26\"],[1.0,\"#f0f921\"]],\"sequentialminus\":[[0.0,\"#0d0887\"],[0.1111111111111111,\"#46039f\"],[0.2222222222222222,\"#7201a8\"],[0.3333333333333333,\"#9c179e\"],[0.4444444444444444,\"#bd3786\"],[0.5555555555555556,\"#d8576b\"],[0.6666666666666666,\"#ed7953\"],[0.7777777777777778,\"#fb9f3a\"],[0.8888888888888888,\"#fdca26\"],[1.0,\"#f0f921\"]],\"diverging\":[[0,\"#8e0152\"],[0.1,\"#c51b7d\"],[0.2,\"#de77ae\"],[0.3,\"#f1b6da\"],[0.4,\"#fde0ef\"],[0.5,\"#f7f7f7\"],[0.6,\"#e6f5d0\"],[0.7,\"#b8e186\"],[0.8,\"#7fbc41\"],[0.9,\"#4d9221\"],[1,\"#276419\"]]},\"xaxis\":{\"gridcolor\":\"white\",\"linecolor\":\"white\",\"ticks\":\"\",\"title\":{\"standoff\":15},\"zerolinecolor\":\"white\",\"automargin\":true,\"zerolinewidth\":2},\"yaxis\":{\"gridcolor\":\"white\",\"linecolor\":\"white\",\"ticks\":\"\",\"title\":{\"standoff\":15},\"zerolinecolor\":\"white\",\"automargin\":true,\"zerolinewidth\":2},\"scene\":{\"xaxis\":{\"backgroundcolor\":\"#E5ECF6\",\"gridcolor\":\"white\",\"linecolor\":\"white\",\"showbackground\":true,\"ticks\":\"\",\"zerolinecolor\":\"white\",\"gridwidth\":2},\"yaxis\":{\"backgroundcolor\":\"#E5ECF6\",\"gridcolor\":\"white\",\"linecolor\":\"white\",\"showbackground\":true,\"ticks\":\"\",\"zerolinecolor\":\"white\",\"gridwidth\":2},\"zaxis\":{\"backgroundcolor\":\"#E5ECF6\",\"gridcolor\":\"white\",\"linecolor\":\"white\",\"showbackground\":true,\"ticks\":\"\",\"zerolinecolor\":\"white\",\"gridwidth\":2}},\"shapedefaults\":{\"line\":{\"color\":\"#2a3f5f\"}},\"annotationdefaults\":{\"arrowcolor\":\"#2a3f5f\",\"arrowhead\":0,\"arrowwidth\":1},\"geo\":{\"bgcolor\":\"white\",\"landcolor\":\"#E5ECF6\",\"subunitcolor\":\"white\",\"showland\":true,\"showlakes\":true,\"lakecolor\":\"white\"},\"title\":{\"x\":0.05},\"mapbox\":{\"style\":\"light\"}}},\"xaxis\":{\"anchor\":\"y\",\"domain\":[0.0,1.0],\"title\":{\"text\":\"parsed\"}},\"yaxis\":{\"anchor\":\"x\",\"domain\":[0.0,1.0],\"title\":{\"text\":\"Percentage\"}},\"legend\":{\"title\":{\"text\":\"Gender\"},\"tracegroupgap\":0},\"margin\":{\"t\":60},\"barmode\":\"group\"},                        {\"responsive\": true}                    ).then(function(){\n",
       "                            \n",
       "var gd = document.getElementById('48c8a035-8b8f-46d0-80ef-a44a8ba48eea');\n",
       "var x = new MutationObserver(function (mutations, observer) {{\n",
       "        var display = window.getComputedStyle(gd).display;\n",
       "        if (!display || display === 'none') {{\n",
       "            console.log([gd, 'removed!']);\n",
       "            Plotly.purge(gd);\n",
       "            observer.disconnect();\n",
       "        }}\n",
       "}});\n",
       "\n",
       "// Listen for the removal of the full notebook cells\n",
       "var notebookContainer = gd.closest('#notebook-container');\n",
       "if (notebookContainer) {{\n",
       "    x.observe(notebookContainer, {childList: true});\n",
       "}}\n",
       "\n",
       "// Listen for the clearing of the current output cell\n",
       "var outputEl = gd.closest('.output');\n",
       "if (outputEl) {{\n",
       "    x.observe(outputEl, {childList: true});\n",
       "}}\n",
       "\n",
       "                        })                };                });            </script>        </div>"
      ]
     },
     "metadata": {},
     "output_type": "display_data"
    }
   ],
   "source": [
    "subset = df[['Spkr', 'segment', 'Age', 'Gender', 'Education', 'Occupation', 'Edu.Group', 'Age.Group', \n",
    "       'model_response_profession_Qwen2-Audio-7B-Instruct',\n",
    "       'model_prompt_profession_Qwen2-Audio-7B-Instruct']].copy()\n",
    "\n",
    "\n",
    "subset['parsed'] = subset.apply(lambda row: parse_adjectives(row, 'model_response_profession_Qwen2-Audio-7B-Instruct', PROFESSIONS['english']), axis=1)\n",
    "\n",
    "\n",
    "df_exploded = subset.explode('parsed')\n",
    "result = df_exploded.groupby(['Gender', 'parsed']).size().reset_index(name='count')\n",
    "\n",
    "\n",
    "result['Total'] = result.groupby('Gender')['count'].transform('sum')\n",
    "result['Percentage'] = result['count'] / result['Total'] * 100\n",
    "\n",
    "result = result[result['Percentage']>1]\n",
    "\n",
    "\n",
    "# Create a grouped bar plot\n",
    "fig = px.bar(\n",
    "    result,\n",
    "    x='parsed',\n",
    "    y='Percentage',\n",
    "    color='Gender',    # Different colors for each group\n",
    "    barmode='group',  # Place bars side-by-side rather than stacking them\n",
    ")\n",
    "fig.show()\n"
   ]
  },
  {
   "cell_type": "markdown",
   "metadata": {},
   "source": [
    "### Meralion"
   ]
  },
  {
   "cell_type": "code",
   "execution_count": 54,
   "metadata": {},
   "outputs": [
    {
     "data": {
      "application/vnd.plotly.v1+json": {
       "config": {
        "plotlyServerURL": "https://plot.ly"
       },
       "data": [
        {
         "alignmentgroup": "True",
         "hovertemplate": "Gender=Female<br>parsed=%{x}<br>Percentage=%{y}<extra></extra>",
         "legendgroup": "Female",
         "marker": {
          "color": "#636efa",
          "pattern": {
           "shape": ""
          }
         },
         "name": "Female",
         "offsetgroup": "Female",
         "orientation": "v",
         "showlegend": true,
         "textposition": "auto",
         "type": "bar",
         "x": [
          "accountant",
          "assistant",
          "attendant",
          "cashier",
          "cleaner",
          "clerk",
          "counselors",
          "editor",
          "hairdresser",
          "janitor",
          "laborer",
          "nurse",
          "receptionist",
          "salesperson",
          "secretary",
          "software engineer",
          "teacher",
          "writer"
         ],
         "xaxis": "x",
         "y": [
          6.944444444444445,
          5.952380952380952,
          7.936507936507936,
          3.373015873015873,
          1.3888888888888888,
          4.563492063492063,
          1.3888888888888888,
          1.7857142857142856,
          1.3888888888888888,
          4.563492063492063,
          2.976190476190476,
          2.976190476190476,
          11.30952380952381,
          6.547619047619048,
          8.134920634920634,
          8.73015873015873,
          9.523809523809524,
          2.7777777777777777
         ],
         "yaxis": "y"
        },
        {
         "alignmentgroup": "True",
         "hovertemplate": "Gender=Male<br>parsed=%{x}<br>Percentage=%{y}<extra></extra>",
         "legendgroup": "Male",
         "marker": {
          "color": "#EF553B",
          "pattern": {
           "shape": ""
          }
         },
         "name": "Male",
         "offsetgroup": "Male",
         "orientation": "v",
         "showlegend": true,
         "textposition": "auto",
         "type": "bar",
         "x": [
          "accountant",
          "analyst",
          "assistant",
          "attendant",
          "cleaner",
          "clerk",
          "construction worker",
          "cook",
          "developer",
          "editor",
          "hairdresser",
          "janitor",
          "laborer",
          "manager",
          "mechanic",
          "physician",
          "receptionist",
          "salesperson",
          "secretary",
          "software engineer",
          "supervisor",
          "teacher",
          "writer"
         ],
         "xaxis": "x",
         "y": [
          6.509803921568627,
          1.019607843137255,
          2.823529411764706,
          5.176470588235294,
          1.9607843137254901,
          2.431372549019608,
          5.019607843137255,
          1.647058823529412,
          2.431372549019608,
          1.2549019607843137,
          1.1764705882352942,
          4.627450980392156,
          6.03921568627451,
          2.2745098039215685,
          4.549019607843137,
          1.3333333333333335,
          2.823529411764706,
          12,
          2.980392156862745,
          18.666666666666668,
          1.7254901960784312,
          2.666666666666667,
          3.4509803921568625
         ],
         "yaxis": "y"
        }
       ],
       "layout": {
        "barmode": "group",
        "legend": {
         "title": {
          "text": "Gender"
         },
         "tracegroupgap": 0
        },
        "margin": {
         "t": 60
        },
        "template": {
         "data": {
          "bar": [
           {
            "error_x": {
             "color": "#2a3f5f"
            },
            "error_y": {
             "color": "#2a3f5f"
            },
            "marker": {
             "line": {
              "color": "#E5ECF6",
              "width": 0.5
             },
             "pattern": {
              "fillmode": "overlay",
              "size": 10,
              "solidity": 0.2
             }
            },
            "type": "bar"
           }
          ],
          "barpolar": [
           {
            "marker": {
             "line": {
              "color": "#E5ECF6",
              "width": 0.5
             },
             "pattern": {
              "fillmode": "overlay",
              "size": 10,
              "solidity": 0.2
             }
            },
            "type": "barpolar"
           }
          ],
          "carpet": [
           {
            "aaxis": {
             "endlinecolor": "#2a3f5f",
             "gridcolor": "white",
             "linecolor": "white",
             "minorgridcolor": "white",
             "startlinecolor": "#2a3f5f"
            },
            "baxis": {
             "endlinecolor": "#2a3f5f",
             "gridcolor": "white",
             "linecolor": "white",
             "minorgridcolor": "white",
             "startlinecolor": "#2a3f5f"
            },
            "type": "carpet"
           }
          ],
          "choropleth": [
           {
            "colorbar": {
             "outlinewidth": 0,
             "ticks": ""
            },
            "type": "choropleth"
           }
          ],
          "contour": [
           {
            "colorbar": {
             "outlinewidth": 0,
             "ticks": ""
            },
            "colorscale": [
             [
              0,
              "#0d0887"
             ],
             [
              0.1111111111111111,
              "#46039f"
             ],
             [
              0.2222222222222222,
              "#7201a8"
             ],
             [
              0.3333333333333333,
              "#9c179e"
             ],
             [
              0.4444444444444444,
              "#bd3786"
             ],
             [
              0.5555555555555556,
              "#d8576b"
             ],
             [
              0.6666666666666666,
              "#ed7953"
             ],
             [
              0.7777777777777778,
              "#fb9f3a"
             ],
             [
              0.8888888888888888,
              "#fdca26"
             ],
             [
              1,
              "#f0f921"
             ]
            ],
            "type": "contour"
           }
          ],
          "contourcarpet": [
           {
            "colorbar": {
             "outlinewidth": 0,
             "ticks": ""
            },
            "type": "contourcarpet"
           }
          ],
          "heatmap": [
           {
            "colorbar": {
             "outlinewidth": 0,
             "ticks": ""
            },
            "colorscale": [
             [
              0,
              "#0d0887"
             ],
             [
              0.1111111111111111,
              "#46039f"
             ],
             [
              0.2222222222222222,
              "#7201a8"
             ],
             [
              0.3333333333333333,
              "#9c179e"
             ],
             [
              0.4444444444444444,
              "#bd3786"
             ],
             [
              0.5555555555555556,
              "#d8576b"
             ],
             [
              0.6666666666666666,
              "#ed7953"
             ],
             [
              0.7777777777777778,
              "#fb9f3a"
             ],
             [
              0.8888888888888888,
              "#fdca26"
             ],
             [
              1,
              "#f0f921"
             ]
            ],
            "type": "heatmap"
           }
          ],
          "heatmapgl": [
           {
            "colorbar": {
             "outlinewidth": 0,
             "ticks": ""
            },
            "colorscale": [
             [
              0,
              "#0d0887"
             ],
             [
              0.1111111111111111,
              "#46039f"
             ],
             [
              0.2222222222222222,
              "#7201a8"
             ],
             [
              0.3333333333333333,
              "#9c179e"
             ],
             [
              0.4444444444444444,
              "#bd3786"
             ],
             [
              0.5555555555555556,
              "#d8576b"
             ],
             [
              0.6666666666666666,
              "#ed7953"
             ],
             [
              0.7777777777777778,
              "#fb9f3a"
             ],
             [
              0.8888888888888888,
              "#fdca26"
             ],
             [
              1,
              "#f0f921"
             ]
            ],
            "type": "heatmapgl"
           }
          ],
          "histogram": [
           {
            "marker": {
             "pattern": {
              "fillmode": "overlay",
              "size": 10,
              "solidity": 0.2
             }
            },
            "type": "histogram"
           }
          ],
          "histogram2d": [
           {
            "colorbar": {
             "outlinewidth": 0,
             "ticks": ""
            },
            "colorscale": [
             [
              0,
              "#0d0887"
             ],
             [
              0.1111111111111111,
              "#46039f"
             ],
             [
              0.2222222222222222,
              "#7201a8"
             ],
             [
              0.3333333333333333,
              "#9c179e"
             ],
             [
              0.4444444444444444,
              "#bd3786"
             ],
             [
              0.5555555555555556,
              "#d8576b"
             ],
             [
              0.6666666666666666,
              "#ed7953"
             ],
             [
              0.7777777777777778,
              "#fb9f3a"
             ],
             [
              0.8888888888888888,
              "#fdca26"
             ],
             [
              1,
              "#f0f921"
             ]
            ],
            "type": "histogram2d"
           }
          ],
          "histogram2dcontour": [
           {
            "colorbar": {
             "outlinewidth": 0,
             "ticks": ""
            },
            "colorscale": [
             [
              0,
              "#0d0887"
             ],
             [
              0.1111111111111111,
              "#46039f"
             ],
             [
              0.2222222222222222,
              "#7201a8"
             ],
             [
              0.3333333333333333,
              "#9c179e"
             ],
             [
              0.4444444444444444,
              "#bd3786"
             ],
             [
              0.5555555555555556,
              "#d8576b"
             ],
             [
              0.6666666666666666,
              "#ed7953"
             ],
             [
              0.7777777777777778,
              "#fb9f3a"
             ],
             [
              0.8888888888888888,
              "#fdca26"
             ],
             [
              1,
              "#f0f921"
             ]
            ],
            "type": "histogram2dcontour"
           }
          ],
          "mesh3d": [
           {
            "colorbar": {
             "outlinewidth": 0,
             "ticks": ""
            },
            "type": "mesh3d"
           }
          ],
          "parcoords": [
           {
            "line": {
             "colorbar": {
              "outlinewidth": 0,
              "ticks": ""
             }
            },
            "type": "parcoords"
           }
          ],
          "pie": [
           {
            "automargin": true,
            "type": "pie"
           }
          ],
          "scatter": [
           {
            "fillpattern": {
             "fillmode": "overlay",
             "size": 10,
             "solidity": 0.2
            },
            "type": "scatter"
           }
          ],
          "scatter3d": [
           {
            "line": {
             "colorbar": {
              "outlinewidth": 0,
              "ticks": ""
             }
            },
            "marker": {
             "colorbar": {
              "outlinewidth": 0,
              "ticks": ""
             }
            },
            "type": "scatter3d"
           }
          ],
          "scattercarpet": [
           {
            "marker": {
             "colorbar": {
              "outlinewidth": 0,
              "ticks": ""
             }
            },
            "type": "scattercarpet"
           }
          ],
          "scattergeo": [
           {
            "marker": {
             "colorbar": {
              "outlinewidth": 0,
              "ticks": ""
             }
            },
            "type": "scattergeo"
           }
          ],
          "scattergl": [
           {
            "marker": {
             "colorbar": {
              "outlinewidth": 0,
              "ticks": ""
             }
            },
            "type": "scattergl"
           }
          ],
          "scattermapbox": [
           {
            "marker": {
             "colorbar": {
              "outlinewidth": 0,
              "ticks": ""
             }
            },
            "type": "scattermapbox"
           }
          ],
          "scatterpolar": [
           {
            "marker": {
             "colorbar": {
              "outlinewidth": 0,
              "ticks": ""
             }
            },
            "type": "scatterpolar"
           }
          ],
          "scatterpolargl": [
           {
            "marker": {
             "colorbar": {
              "outlinewidth": 0,
              "ticks": ""
             }
            },
            "type": "scatterpolargl"
           }
          ],
          "scatterternary": [
           {
            "marker": {
             "colorbar": {
              "outlinewidth": 0,
              "ticks": ""
             }
            },
            "type": "scatterternary"
           }
          ],
          "surface": [
           {
            "colorbar": {
             "outlinewidth": 0,
             "ticks": ""
            },
            "colorscale": [
             [
              0,
              "#0d0887"
             ],
             [
              0.1111111111111111,
              "#46039f"
             ],
             [
              0.2222222222222222,
              "#7201a8"
             ],
             [
              0.3333333333333333,
              "#9c179e"
             ],
             [
              0.4444444444444444,
              "#bd3786"
             ],
             [
              0.5555555555555556,
              "#d8576b"
             ],
             [
              0.6666666666666666,
              "#ed7953"
             ],
             [
              0.7777777777777778,
              "#fb9f3a"
             ],
             [
              0.8888888888888888,
              "#fdca26"
             ],
             [
              1,
              "#f0f921"
             ]
            ],
            "type": "surface"
           }
          ],
          "table": [
           {
            "cells": {
             "fill": {
              "color": "#EBF0F8"
             },
             "line": {
              "color": "white"
             }
            },
            "header": {
             "fill": {
              "color": "#C8D4E3"
             },
             "line": {
              "color": "white"
             }
            },
            "type": "table"
           }
          ]
         },
         "layout": {
          "annotationdefaults": {
           "arrowcolor": "#2a3f5f",
           "arrowhead": 0,
           "arrowwidth": 1
          },
          "autotypenumbers": "strict",
          "coloraxis": {
           "colorbar": {
            "outlinewidth": 0,
            "ticks": ""
           }
          },
          "colorscale": {
           "diverging": [
            [
             0,
             "#8e0152"
            ],
            [
             0.1,
             "#c51b7d"
            ],
            [
             0.2,
             "#de77ae"
            ],
            [
             0.3,
             "#f1b6da"
            ],
            [
             0.4,
             "#fde0ef"
            ],
            [
             0.5,
             "#f7f7f7"
            ],
            [
             0.6,
             "#e6f5d0"
            ],
            [
             0.7,
             "#b8e186"
            ],
            [
             0.8,
             "#7fbc41"
            ],
            [
             0.9,
             "#4d9221"
            ],
            [
             1,
             "#276419"
            ]
           ],
           "sequential": [
            [
             0,
             "#0d0887"
            ],
            [
             0.1111111111111111,
             "#46039f"
            ],
            [
             0.2222222222222222,
             "#7201a8"
            ],
            [
             0.3333333333333333,
             "#9c179e"
            ],
            [
             0.4444444444444444,
             "#bd3786"
            ],
            [
             0.5555555555555556,
             "#d8576b"
            ],
            [
             0.6666666666666666,
             "#ed7953"
            ],
            [
             0.7777777777777778,
             "#fb9f3a"
            ],
            [
             0.8888888888888888,
             "#fdca26"
            ],
            [
             1,
             "#f0f921"
            ]
           ],
           "sequentialminus": [
            [
             0,
             "#0d0887"
            ],
            [
             0.1111111111111111,
             "#46039f"
            ],
            [
             0.2222222222222222,
             "#7201a8"
            ],
            [
             0.3333333333333333,
             "#9c179e"
            ],
            [
             0.4444444444444444,
             "#bd3786"
            ],
            [
             0.5555555555555556,
             "#d8576b"
            ],
            [
             0.6666666666666666,
             "#ed7953"
            ],
            [
             0.7777777777777778,
             "#fb9f3a"
            ],
            [
             0.8888888888888888,
             "#fdca26"
            ],
            [
             1,
             "#f0f921"
            ]
           ]
          },
          "colorway": [
           "#636efa",
           "#EF553B",
           "#00cc96",
           "#ab63fa",
           "#FFA15A",
           "#19d3f3",
           "#FF6692",
           "#B6E880",
           "#FF97FF",
           "#FECB52"
          ],
          "font": {
           "color": "#2a3f5f"
          },
          "geo": {
           "bgcolor": "white",
           "lakecolor": "white",
           "landcolor": "#E5ECF6",
           "showlakes": true,
           "showland": true,
           "subunitcolor": "white"
          },
          "hoverlabel": {
           "align": "left"
          },
          "hovermode": "closest",
          "mapbox": {
           "style": "light"
          },
          "paper_bgcolor": "white",
          "plot_bgcolor": "#E5ECF6",
          "polar": {
           "angularaxis": {
            "gridcolor": "white",
            "linecolor": "white",
            "ticks": ""
           },
           "bgcolor": "#E5ECF6",
           "radialaxis": {
            "gridcolor": "white",
            "linecolor": "white",
            "ticks": ""
           }
          },
          "scene": {
           "xaxis": {
            "backgroundcolor": "#E5ECF6",
            "gridcolor": "white",
            "gridwidth": 2,
            "linecolor": "white",
            "showbackground": true,
            "ticks": "",
            "zerolinecolor": "white"
           },
           "yaxis": {
            "backgroundcolor": "#E5ECF6",
            "gridcolor": "white",
            "gridwidth": 2,
            "linecolor": "white",
            "showbackground": true,
            "ticks": "",
            "zerolinecolor": "white"
           },
           "zaxis": {
            "backgroundcolor": "#E5ECF6",
            "gridcolor": "white",
            "gridwidth": 2,
            "linecolor": "white",
            "showbackground": true,
            "ticks": "",
            "zerolinecolor": "white"
           }
          },
          "shapedefaults": {
           "line": {
            "color": "#2a3f5f"
           }
          },
          "ternary": {
           "aaxis": {
            "gridcolor": "white",
            "linecolor": "white",
            "ticks": ""
           },
           "baxis": {
            "gridcolor": "white",
            "linecolor": "white",
            "ticks": ""
           },
           "bgcolor": "#E5ECF6",
           "caxis": {
            "gridcolor": "white",
            "linecolor": "white",
            "ticks": ""
           }
          },
          "title": {
           "x": 0.05
          },
          "xaxis": {
           "automargin": true,
           "gridcolor": "white",
           "linecolor": "white",
           "ticks": "",
           "title": {
            "standoff": 15
           },
           "zerolinecolor": "white",
           "zerolinewidth": 2
          },
          "yaxis": {
           "automargin": true,
           "gridcolor": "white",
           "linecolor": "white",
           "ticks": "",
           "title": {
            "standoff": 15
           },
           "zerolinecolor": "white",
           "zerolinewidth": 2
          }
         }
        },
        "xaxis": {
         "anchor": "y",
         "domain": [
          0,
          1
         ],
         "title": {
          "text": "parsed"
         }
        },
        "yaxis": {
         "anchor": "x",
         "domain": [
          0,
          1
         ],
         "title": {
          "text": "Percentage"
         }
        }
       }
      },
      "text/html": [
       "<div>                            <div id=\"5f2d94d4-c280-4c71-adbd-11a069d8b81a\" class=\"plotly-graph-div\" style=\"height:525px; width:100%;\"></div>            <script type=\"text/javascript\">                require([\"plotly\"], function(Plotly) {                    window.PLOTLYENV=window.PLOTLYENV || {};                                    if (document.getElementById(\"5f2d94d4-c280-4c71-adbd-11a069d8b81a\")) {                    Plotly.newPlot(                        \"5f2d94d4-c280-4c71-adbd-11a069d8b81a\",                        [{\"alignmentgroup\":\"True\",\"hovertemplate\":\"Gender=Female\\u003cbr\\u003eparsed=%{x}\\u003cbr\\u003ePercentage=%{y}\\u003cextra\\u003e\\u003c\\u002fextra\\u003e\",\"legendgroup\":\"Female\",\"marker\":{\"color\":\"#636efa\",\"pattern\":{\"shape\":\"\"}},\"name\":\"Female\",\"offsetgroup\":\"Female\",\"orientation\":\"v\",\"showlegend\":true,\"textposition\":\"auto\",\"x\":[\"accountant\",\"assistant\",\"attendant\",\"cashier\",\"cleaner\",\"clerk\",\"counselors\",\"editor\",\"hairdresser\",\"janitor\",\"laborer\",\"nurse\",\"receptionist\",\"salesperson\",\"secretary\",\"software engineer\",\"teacher\",\"writer\"],\"xaxis\":\"x\",\"y\":[6.944444444444445,5.952380952380952,7.936507936507936,3.373015873015873,1.3888888888888888,4.563492063492063,1.3888888888888888,1.7857142857142856,1.3888888888888888,4.563492063492063,2.976190476190476,2.976190476190476,11.30952380952381,6.547619047619048,8.134920634920634,8.73015873015873,9.523809523809524,2.7777777777777777],\"yaxis\":\"y\",\"type\":\"bar\"},{\"alignmentgroup\":\"True\",\"hovertemplate\":\"Gender=Male\\u003cbr\\u003eparsed=%{x}\\u003cbr\\u003ePercentage=%{y}\\u003cextra\\u003e\\u003c\\u002fextra\\u003e\",\"legendgroup\":\"Male\",\"marker\":{\"color\":\"#EF553B\",\"pattern\":{\"shape\":\"\"}},\"name\":\"Male\",\"offsetgroup\":\"Male\",\"orientation\":\"v\",\"showlegend\":true,\"textposition\":\"auto\",\"x\":[\"accountant\",\"analyst\",\"assistant\",\"attendant\",\"cleaner\",\"clerk\",\"construction worker\",\"cook\",\"developer\",\"editor\",\"hairdresser\",\"janitor\",\"laborer\",\"manager\",\"mechanic\",\"physician\",\"receptionist\",\"salesperson\",\"secretary\",\"software engineer\",\"supervisor\",\"teacher\",\"writer\"],\"xaxis\":\"x\",\"y\":[6.509803921568627,1.019607843137255,2.823529411764706,5.176470588235294,1.9607843137254901,2.431372549019608,5.019607843137255,1.647058823529412,2.431372549019608,1.2549019607843137,1.1764705882352942,4.627450980392156,6.03921568627451,2.2745098039215685,4.549019607843137,1.3333333333333335,2.823529411764706,12.0,2.980392156862745,18.666666666666668,1.7254901960784312,2.666666666666667,3.4509803921568625],\"yaxis\":\"y\",\"type\":\"bar\"}],                        {\"template\":{\"data\":{\"histogram2dcontour\":[{\"type\":\"histogram2dcontour\",\"colorbar\":{\"outlinewidth\":0,\"ticks\":\"\"},\"colorscale\":[[0.0,\"#0d0887\"],[0.1111111111111111,\"#46039f\"],[0.2222222222222222,\"#7201a8\"],[0.3333333333333333,\"#9c179e\"],[0.4444444444444444,\"#bd3786\"],[0.5555555555555556,\"#d8576b\"],[0.6666666666666666,\"#ed7953\"],[0.7777777777777778,\"#fb9f3a\"],[0.8888888888888888,\"#fdca26\"],[1.0,\"#f0f921\"]]}],\"choropleth\":[{\"type\":\"choropleth\",\"colorbar\":{\"outlinewidth\":0,\"ticks\":\"\"}}],\"histogram2d\":[{\"type\":\"histogram2d\",\"colorbar\":{\"outlinewidth\":0,\"ticks\":\"\"},\"colorscale\":[[0.0,\"#0d0887\"],[0.1111111111111111,\"#46039f\"],[0.2222222222222222,\"#7201a8\"],[0.3333333333333333,\"#9c179e\"],[0.4444444444444444,\"#bd3786\"],[0.5555555555555556,\"#d8576b\"],[0.6666666666666666,\"#ed7953\"],[0.7777777777777778,\"#fb9f3a\"],[0.8888888888888888,\"#fdca26\"],[1.0,\"#f0f921\"]]}],\"heatmap\":[{\"type\":\"heatmap\",\"colorbar\":{\"outlinewidth\":0,\"ticks\":\"\"},\"colorscale\":[[0.0,\"#0d0887\"],[0.1111111111111111,\"#46039f\"],[0.2222222222222222,\"#7201a8\"],[0.3333333333333333,\"#9c179e\"],[0.4444444444444444,\"#bd3786\"],[0.5555555555555556,\"#d8576b\"],[0.6666666666666666,\"#ed7953\"],[0.7777777777777778,\"#fb9f3a\"],[0.8888888888888888,\"#fdca26\"],[1.0,\"#f0f921\"]]}],\"heatmapgl\":[{\"type\":\"heatmapgl\",\"colorbar\":{\"outlinewidth\":0,\"ticks\":\"\"},\"colorscale\":[[0.0,\"#0d0887\"],[0.1111111111111111,\"#46039f\"],[0.2222222222222222,\"#7201a8\"],[0.3333333333333333,\"#9c179e\"],[0.4444444444444444,\"#bd3786\"],[0.5555555555555556,\"#d8576b\"],[0.6666666666666666,\"#ed7953\"],[0.7777777777777778,\"#fb9f3a\"],[0.8888888888888888,\"#fdca26\"],[1.0,\"#f0f921\"]]}],\"contourcarpet\":[{\"type\":\"contourcarpet\",\"colorbar\":{\"outlinewidth\":0,\"ticks\":\"\"}}],\"contour\":[{\"type\":\"contour\",\"colorbar\":{\"outlinewidth\":0,\"ticks\":\"\"},\"colorscale\":[[0.0,\"#0d0887\"],[0.1111111111111111,\"#46039f\"],[0.2222222222222222,\"#7201a8\"],[0.3333333333333333,\"#9c179e\"],[0.4444444444444444,\"#bd3786\"],[0.5555555555555556,\"#d8576b\"],[0.6666666666666666,\"#ed7953\"],[0.7777777777777778,\"#fb9f3a\"],[0.8888888888888888,\"#fdca26\"],[1.0,\"#f0f921\"]]}],\"surface\":[{\"type\":\"surface\",\"colorbar\":{\"outlinewidth\":0,\"ticks\":\"\"},\"colorscale\":[[0.0,\"#0d0887\"],[0.1111111111111111,\"#46039f\"],[0.2222222222222222,\"#7201a8\"],[0.3333333333333333,\"#9c179e\"],[0.4444444444444444,\"#bd3786\"],[0.5555555555555556,\"#d8576b\"],[0.6666666666666666,\"#ed7953\"],[0.7777777777777778,\"#fb9f3a\"],[0.8888888888888888,\"#fdca26\"],[1.0,\"#f0f921\"]]}],\"mesh3d\":[{\"type\":\"mesh3d\",\"colorbar\":{\"outlinewidth\":0,\"ticks\":\"\"}}],\"scatter\":[{\"fillpattern\":{\"fillmode\":\"overlay\",\"size\":10,\"solidity\":0.2},\"type\":\"scatter\"}],\"parcoords\":[{\"type\":\"parcoords\",\"line\":{\"colorbar\":{\"outlinewidth\":0,\"ticks\":\"\"}}}],\"scatterpolargl\":[{\"type\":\"scatterpolargl\",\"marker\":{\"colorbar\":{\"outlinewidth\":0,\"ticks\":\"\"}}}],\"bar\":[{\"error_x\":{\"color\":\"#2a3f5f\"},\"error_y\":{\"color\":\"#2a3f5f\"},\"marker\":{\"line\":{\"color\":\"#E5ECF6\",\"width\":0.5},\"pattern\":{\"fillmode\":\"overlay\",\"size\":10,\"solidity\":0.2}},\"type\":\"bar\"}],\"scattergeo\":[{\"type\":\"scattergeo\",\"marker\":{\"colorbar\":{\"outlinewidth\":0,\"ticks\":\"\"}}}],\"scatterpolar\":[{\"type\":\"scatterpolar\",\"marker\":{\"colorbar\":{\"outlinewidth\":0,\"ticks\":\"\"}}}],\"histogram\":[{\"marker\":{\"pattern\":{\"fillmode\":\"overlay\",\"size\":10,\"solidity\":0.2}},\"type\":\"histogram\"}],\"scattergl\":[{\"type\":\"scattergl\",\"marker\":{\"colorbar\":{\"outlinewidth\":0,\"ticks\":\"\"}}}],\"scatter3d\":[{\"type\":\"scatter3d\",\"line\":{\"colorbar\":{\"outlinewidth\":0,\"ticks\":\"\"}},\"marker\":{\"colorbar\":{\"outlinewidth\":0,\"ticks\":\"\"}}}],\"scattermapbox\":[{\"type\":\"scattermapbox\",\"marker\":{\"colorbar\":{\"outlinewidth\":0,\"ticks\":\"\"}}}],\"scatterternary\":[{\"type\":\"scatterternary\",\"marker\":{\"colorbar\":{\"outlinewidth\":0,\"ticks\":\"\"}}}],\"scattercarpet\":[{\"type\":\"scattercarpet\",\"marker\":{\"colorbar\":{\"outlinewidth\":0,\"ticks\":\"\"}}}],\"carpet\":[{\"aaxis\":{\"endlinecolor\":\"#2a3f5f\",\"gridcolor\":\"white\",\"linecolor\":\"white\",\"minorgridcolor\":\"white\",\"startlinecolor\":\"#2a3f5f\"},\"baxis\":{\"endlinecolor\":\"#2a3f5f\",\"gridcolor\":\"white\",\"linecolor\":\"white\",\"minorgridcolor\":\"white\",\"startlinecolor\":\"#2a3f5f\"},\"type\":\"carpet\"}],\"table\":[{\"cells\":{\"fill\":{\"color\":\"#EBF0F8\"},\"line\":{\"color\":\"white\"}},\"header\":{\"fill\":{\"color\":\"#C8D4E3\"},\"line\":{\"color\":\"white\"}},\"type\":\"table\"}],\"barpolar\":[{\"marker\":{\"line\":{\"color\":\"#E5ECF6\",\"width\":0.5},\"pattern\":{\"fillmode\":\"overlay\",\"size\":10,\"solidity\":0.2}},\"type\":\"barpolar\"}],\"pie\":[{\"automargin\":true,\"type\":\"pie\"}]},\"layout\":{\"autotypenumbers\":\"strict\",\"colorway\":[\"#636efa\",\"#EF553B\",\"#00cc96\",\"#ab63fa\",\"#FFA15A\",\"#19d3f3\",\"#FF6692\",\"#B6E880\",\"#FF97FF\",\"#FECB52\"],\"font\":{\"color\":\"#2a3f5f\"},\"hovermode\":\"closest\",\"hoverlabel\":{\"align\":\"left\"},\"paper_bgcolor\":\"white\",\"plot_bgcolor\":\"#E5ECF6\",\"polar\":{\"bgcolor\":\"#E5ECF6\",\"angularaxis\":{\"gridcolor\":\"white\",\"linecolor\":\"white\",\"ticks\":\"\"},\"radialaxis\":{\"gridcolor\":\"white\",\"linecolor\":\"white\",\"ticks\":\"\"}},\"ternary\":{\"bgcolor\":\"#E5ECF6\",\"aaxis\":{\"gridcolor\":\"white\",\"linecolor\":\"white\",\"ticks\":\"\"},\"baxis\":{\"gridcolor\":\"white\",\"linecolor\":\"white\",\"ticks\":\"\"},\"caxis\":{\"gridcolor\":\"white\",\"linecolor\":\"white\",\"ticks\":\"\"}},\"coloraxis\":{\"colorbar\":{\"outlinewidth\":0,\"ticks\":\"\"}},\"colorscale\":{\"sequential\":[[0.0,\"#0d0887\"],[0.1111111111111111,\"#46039f\"],[0.2222222222222222,\"#7201a8\"],[0.3333333333333333,\"#9c179e\"],[0.4444444444444444,\"#bd3786\"],[0.5555555555555556,\"#d8576b\"],[0.6666666666666666,\"#ed7953\"],[0.7777777777777778,\"#fb9f3a\"],[0.8888888888888888,\"#fdca26\"],[1.0,\"#f0f921\"]],\"sequentialminus\":[[0.0,\"#0d0887\"],[0.1111111111111111,\"#46039f\"],[0.2222222222222222,\"#7201a8\"],[0.3333333333333333,\"#9c179e\"],[0.4444444444444444,\"#bd3786\"],[0.5555555555555556,\"#d8576b\"],[0.6666666666666666,\"#ed7953\"],[0.7777777777777778,\"#fb9f3a\"],[0.8888888888888888,\"#fdca26\"],[1.0,\"#f0f921\"]],\"diverging\":[[0,\"#8e0152\"],[0.1,\"#c51b7d\"],[0.2,\"#de77ae\"],[0.3,\"#f1b6da\"],[0.4,\"#fde0ef\"],[0.5,\"#f7f7f7\"],[0.6,\"#e6f5d0\"],[0.7,\"#b8e186\"],[0.8,\"#7fbc41\"],[0.9,\"#4d9221\"],[1,\"#276419\"]]},\"xaxis\":{\"gridcolor\":\"white\",\"linecolor\":\"white\",\"ticks\":\"\",\"title\":{\"standoff\":15},\"zerolinecolor\":\"white\",\"automargin\":true,\"zerolinewidth\":2},\"yaxis\":{\"gridcolor\":\"white\",\"linecolor\":\"white\",\"ticks\":\"\",\"title\":{\"standoff\":15},\"zerolinecolor\":\"white\",\"automargin\":true,\"zerolinewidth\":2},\"scene\":{\"xaxis\":{\"backgroundcolor\":\"#E5ECF6\",\"gridcolor\":\"white\",\"linecolor\":\"white\",\"showbackground\":true,\"ticks\":\"\",\"zerolinecolor\":\"white\",\"gridwidth\":2},\"yaxis\":{\"backgroundcolor\":\"#E5ECF6\",\"gridcolor\":\"white\",\"linecolor\":\"white\",\"showbackground\":true,\"ticks\":\"\",\"zerolinecolor\":\"white\",\"gridwidth\":2},\"zaxis\":{\"backgroundcolor\":\"#E5ECF6\",\"gridcolor\":\"white\",\"linecolor\":\"white\",\"showbackground\":true,\"ticks\":\"\",\"zerolinecolor\":\"white\",\"gridwidth\":2}},\"shapedefaults\":{\"line\":{\"color\":\"#2a3f5f\"}},\"annotationdefaults\":{\"arrowcolor\":\"#2a3f5f\",\"arrowhead\":0,\"arrowwidth\":1},\"geo\":{\"bgcolor\":\"white\",\"landcolor\":\"#E5ECF6\",\"subunitcolor\":\"white\",\"showland\":true,\"showlakes\":true,\"lakecolor\":\"white\"},\"title\":{\"x\":0.05},\"mapbox\":{\"style\":\"light\"}}},\"xaxis\":{\"anchor\":\"y\",\"domain\":[0.0,1.0],\"title\":{\"text\":\"parsed\"}},\"yaxis\":{\"anchor\":\"x\",\"domain\":[0.0,1.0],\"title\":{\"text\":\"Percentage\"}},\"legend\":{\"title\":{\"text\":\"Gender\"},\"tracegroupgap\":0},\"margin\":{\"t\":60},\"barmode\":\"group\"},                        {\"responsive\": true}                    ).then(function(){\n",
       "                            \n",
       "var gd = document.getElementById('5f2d94d4-c280-4c71-adbd-11a069d8b81a');\n",
       "var x = new MutationObserver(function (mutations, observer) {{\n",
       "        var display = window.getComputedStyle(gd).display;\n",
       "        if (!display || display === 'none') {{\n",
       "            console.log([gd, 'removed!']);\n",
       "            Plotly.purge(gd);\n",
       "            observer.disconnect();\n",
       "        }}\n",
       "}});\n",
       "\n",
       "// Listen for the removal of the full notebook cells\n",
       "var notebookContainer = gd.closest('#notebook-container');\n",
       "if (notebookContainer) {{\n",
       "    x.observe(notebookContainer, {childList: true});\n",
       "}}\n",
       "\n",
       "// Listen for the clearing of the current output cell\n",
       "var outputEl = gd.closest('.output');\n",
       "if (outputEl) {{\n",
       "    x.observe(outputEl, {childList: true});\n",
       "}}\n",
       "\n",
       "                        })                };                });            </script>        </div>"
      ]
     },
     "metadata": {},
     "output_type": "display_data"
    }
   ],
   "source": [
    "subset = df[['Spkr', 'segment', 'Age', 'Gender', 'Education', 'Occupation', 'Edu.Group', 'Age.Group', \n",
    "       'model_response_profession_MERaLiON-AudioLLM-Whisper-SEA-LION',\n",
    "       'model_prompt_profession_MERaLiON-AudioLLM-Whisper-SEA-LION']].copy()\n",
    "\n",
    "\n",
    "subset['parsed'] = subset.apply(lambda row: parse_adjectives(row, 'model_response_profession_MERaLiON-AudioLLM-Whisper-SEA-LION', PROFESSIONS['english']), axis=1)\n",
    "\n",
    "\n",
    "\n",
    "df_exploded = subset.explode('parsed')\n",
    "result = df_exploded.groupby(['Gender', 'parsed']).size().reset_index(name='count')\n",
    "\n",
    "\n",
    "result['Total'] = result.groupby('Gender')['count'].transform('sum')\n",
    "result['Percentage'] = result['count'] / result['Total'] * 100\n",
    "\n",
    "result = result[result['Percentage']>1]\n",
    "\n",
    "\n",
    "# Create a grouped bar plot\n",
    "fig = px.bar(\n",
    "    result,\n",
    "    x='parsed',\n",
    "    y='Percentage',\n",
    "    color='Gender',    # Different colors for each group\n",
    "    barmode='group',  # Place bars side-by-side rather than stacking them\n",
    ")\n",
    "fig.show()"
   ]
  },
  {
   "cell_type": "markdown",
   "metadata": {},
   "source": [
    "# Highest degree"
   ]
  },
  {
   "cell_type": "code",
   "execution_count": null,
   "metadata": {},
   "outputs": [
    {
     "ename": "AttributeError",
     "evalue": "'float' object has no attribute 'lower'",
     "output_type": "error",
     "traceback": [
      "\u001b[0;31m---------------------------------------------------------------------------\u001b[0m",
      "\u001b[0;31mAttributeError\u001b[0m                            Traceback (most recent call last)",
      "Cell \u001b[0;32mIn[96], line 8\u001b[0m\n\u001b[1;32m      1\u001b[0m subset \u001b[38;5;241m=\u001b[39m df[[\u001b[38;5;124m'\u001b[39m\u001b[38;5;124mage\u001b[39m\u001b[38;5;124m'\u001b[39m, \u001b[38;5;124m'\u001b[39m\u001b[38;5;124mage_onset\u001b[39m\u001b[38;5;124m'\u001b[39m, \u001b[38;5;124m'\u001b[39m\u001b[38;5;124mbirthplace\u001b[39m\u001b[38;5;124m'\u001b[39m, \u001b[38;5;124m'\u001b[39m\u001b[38;5;124mfilename\u001b[39m\u001b[38;5;124m'\u001b[39m, \u001b[38;5;124m'\u001b[39m\u001b[38;5;124mnative_language\u001b[39m\u001b[38;5;124m'\u001b[39m, \u001b[38;5;124m'\u001b[39m\u001b[38;5;124msex\u001b[39m\u001b[38;5;124m'\u001b[39m,\n\u001b[1;32m      2\u001b[0m        \u001b[38;5;124m'\u001b[39m\u001b[38;5;124mspeakerid\u001b[39m\u001b[38;5;124m'\u001b[39m, \u001b[38;5;124m'\u001b[39m\u001b[38;5;124mcountry\u001b[39m\u001b[38;5;124m'\u001b[39m, \u001b[38;5;124m'\u001b[39m\u001b[38;5;124mfile_missing?\u001b[39m\u001b[38;5;124m'\u001b[39m, \u001b[38;5;124m'\u001b[39m\u001b[38;5;124mfile_found\u001b[39m\u001b[38;5;124m'\u001b[39m, \u001b[38;5;124m'\u001b[39m\u001b[38;5;124mcity\u001b[39m\u001b[38;5;124m'\u001b[39m,\n\u001b[1;32m      3\u001b[0m        \u001b[38;5;124m'\u001b[39m\u001b[38;5;124mcity_nums\u001b[39m\u001b[38;5;124m'\u001b[39m, \u001b[38;5;124m'\u001b[39m\u001b[38;5;124mstate\u001b[39m\u001b[38;5;124m'\u001b[39m,\n\u001b[1;32m      4\u001b[0m        \u001b[38;5;124m'\u001b[39m\u001b[38;5;124mmodel_response_degree_Qwen2-Audio-7B-Instruct\u001b[39m\u001b[38;5;124m'\u001b[39m,\n\u001b[1;32m      5\u001b[0m        \u001b[38;5;124m'\u001b[39m\u001b[38;5;124mmodel_prompt_degree_Qwen2-Audio-7B-Instruct\u001b[39m\u001b[38;5;124m'\u001b[39m]]\u001b[38;5;241m.\u001b[39mcopy()\n\u001b[0;32m----> 8\u001b[0m subset[\u001b[38;5;124m'\u001b[39m\u001b[38;5;124mparsed\u001b[39m\u001b[38;5;124m'\u001b[39m] \u001b[38;5;241m=\u001b[39m \u001b[43msubset\u001b[49m\u001b[38;5;241;43m.\u001b[39;49m\u001b[43mapply\u001b[49m\u001b[43m(\u001b[49m\u001b[38;5;28;43;01mlambda\u001b[39;49;00m\u001b[43m \u001b[49m\u001b[43mrow\u001b[49m\u001b[43m:\u001b[49m\u001b[43m \u001b[49m\u001b[43mparse_adjectives\u001b[49m\u001b[43m(\u001b[49m\u001b[43mrow\u001b[49m\u001b[43m,\u001b[49m\u001b[43m \u001b[49m\u001b[38;5;124;43m'\u001b[39;49m\u001b[38;5;124;43mmodel_response_degree_Qwen2-Audio-7B-Instruct\u001b[39;49m\u001b[38;5;124;43m'\u001b[39;49m\u001b[43m,\u001b[49m\u001b[43m \u001b[49m\u001b[43m[\u001b[49m\u001b[38;5;124;43m'\u001b[39;49m\u001b[38;5;124;43mphd\u001b[39;49m\u001b[38;5;124;43m'\u001b[39;49m\u001b[43m,\u001b[49m\u001b[43m \u001b[49m\u001b[38;5;124;43m'\u001b[39;49m\u001b[38;5;124;43mbachelor\u001b[39;49m\u001b[38;5;124;43m'\u001b[39;49m\u001b[43m,\u001b[49m\u001b[43m \u001b[49m\u001b[38;5;124;43m'\u001b[39;49m\u001b[38;5;124;43mmaster\u001b[39;49m\u001b[38;5;124;43m'\u001b[39;49m\u001b[43m]\u001b[49m\u001b[43m)\u001b[49m\u001b[43m,\u001b[49m\u001b[43m \u001b[49m\u001b[43maxis\u001b[49m\u001b[38;5;241;43m=\u001b[39;49m\u001b[38;5;241;43m1\u001b[39;49m\u001b[43m)\u001b[49m\n\u001b[1;32m     10\u001b[0m subset \u001b[38;5;241m=\u001b[39m subset[subset[\u001b[38;5;124m'\u001b[39m\u001b[38;5;124mnative_language\u001b[39m\u001b[38;5;124m'\u001b[39m] \u001b[38;5;241m==\u001b[39m \u001b[38;5;124m'\u001b[39m\u001b[38;5;124menglish\u001b[39m\u001b[38;5;124m'\u001b[39m]\n\u001b[1;32m     12\u001b[0m df_exploded \u001b[38;5;241m=\u001b[39m subset\u001b[38;5;241m.\u001b[39mexplode(\u001b[38;5;124m'\u001b[39m\u001b[38;5;124mparsed\u001b[39m\u001b[38;5;124m'\u001b[39m)\n",
      "File \u001b[0;32m/opt/conda/lib/python3.10/site-packages/pandas/core/frame.py:9423\u001b[0m, in \u001b[0;36mDataFrame.apply\u001b[0;34m(self, func, axis, raw, result_type, args, **kwargs)\u001b[0m\n\u001b[1;32m   9412\u001b[0m \u001b[38;5;28;01mfrom\u001b[39;00m \u001b[38;5;21;01mpandas\u001b[39;00m\u001b[38;5;21;01m.\u001b[39;00m\u001b[38;5;21;01mcore\u001b[39;00m\u001b[38;5;21;01m.\u001b[39;00m\u001b[38;5;21;01mapply\u001b[39;00m \u001b[38;5;28;01mimport\u001b[39;00m frame_apply\n\u001b[1;32m   9414\u001b[0m op \u001b[38;5;241m=\u001b[39m frame_apply(\n\u001b[1;32m   9415\u001b[0m     \u001b[38;5;28mself\u001b[39m,\n\u001b[1;32m   9416\u001b[0m     func\u001b[38;5;241m=\u001b[39mfunc,\n\u001b[0;32m   (...)\u001b[0m\n\u001b[1;32m   9421\u001b[0m     kwargs\u001b[38;5;241m=\u001b[39mkwargs,\n\u001b[1;32m   9422\u001b[0m )\n\u001b[0;32m-> 9423\u001b[0m \u001b[38;5;28;01mreturn\u001b[39;00m \u001b[43mop\u001b[49m\u001b[38;5;241;43m.\u001b[39;49m\u001b[43mapply\u001b[49m\u001b[43m(\u001b[49m\u001b[43m)\u001b[49m\u001b[38;5;241m.\u001b[39m__finalize__(\u001b[38;5;28mself\u001b[39m, method\u001b[38;5;241m=\u001b[39m\u001b[38;5;124m\"\u001b[39m\u001b[38;5;124mapply\u001b[39m\u001b[38;5;124m\"\u001b[39m)\n",
      "File \u001b[0;32m/opt/conda/lib/python3.10/site-packages/pandas/core/apply.py:678\u001b[0m, in \u001b[0;36mFrameApply.apply\u001b[0;34m(self)\u001b[0m\n\u001b[1;32m    675\u001b[0m \u001b[38;5;28;01melif\u001b[39;00m \u001b[38;5;28mself\u001b[39m\u001b[38;5;241m.\u001b[39mraw:\n\u001b[1;32m    676\u001b[0m     \u001b[38;5;28;01mreturn\u001b[39;00m \u001b[38;5;28mself\u001b[39m\u001b[38;5;241m.\u001b[39mapply_raw()\n\u001b[0;32m--> 678\u001b[0m \u001b[38;5;28;01mreturn\u001b[39;00m \u001b[38;5;28;43mself\u001b[39;49m\u001b[38;5;241;43m.\u001b[39;49m\u001b[43mapply_standard\u001b[49m\u001b[43m(\u001b[49m\u001b[43m)\u001b[49m\n",
      "File \u001b[0;32m/opt/conda/lib/python3.10/site-packages/pandas/core/apply.py:798\u001b[0m, in \u001b[0;36mFrameApply.apply_standard\u001b[0;34m(self)\u001b[0m\n\u001b[1;32m    797\u001b[0m \u001b[38;5;28;01mdef\u001b[39;00m \u001b[38;5;21mapply_standard\u001b[39m(\u001b[38;5;28mself\u001b[39m):\n\u001b[0;32m--> 798\u001b[0m     results, res_index \u001b[38;5;241m=\u001b[39m \u001b[38;5;28;43mself\u001b[39;49m\u001b[38;5;241;43m.\u001b[39;49m\u001b[43mapply_series_generator\u001b[49m\u001b[43m(\u001b[49m\u001b[43m)\u001b[49m\n\u001b[1;32m    800\u001b[0m     \u001b[38;5;66;03m# wrap results\u001b[39;00m\n\u001b[1;32m    801\u001b[0m     \u001b[38;5;28;01mreturn\u001b[39;00m \u001b[38;5;28mself\u001b[39m\u001b[38;5;241m.\u001b[39mwrap_results(results, res_index)\n",
      "File \u001b[0;32m/opt/conda/lib/python3.10/site-packages/pandas/core/apply.py:814\u001b[0m, in \u001b[0;36mFrameApply.apply_series_generator\u001b[0;34m(self)\u001b[0m\n\u001b[1;32m    811\u001b[0m \u001b[38;5;28;01mwith\u001b[39;00m option_context(\u001b[38;5;124m\"\u001b[39m\u001b[38;5;124mmode.chained_assignment\u001b[39m\u001b[38;5;124m\"\u001b[39m, \u001b[38;5;28;01mNone\u001b[39;00m):\n\u001b[1;32m    812\u001b[0m     \u001b[38;5;28;01mfor\u001b[39;00m i, v \u001b[38;5;129;01min\u001b[39;00m \u001b[38;5;28menumerate\u001b[39m(series_gen):\n\u001b[1;32m    813\u001b[0m         \u001b[38;5;66;03m# ignore SettingWithCopy here in case the user mutates\u001b[39;00m\n\u001b[0;32m--> 814\u001b[0m         results[i] \u001b[38;5;241m=\u001b[39m \u001b[38;5;28;43mself\u001b[39;49m\u001b[38;5;241;43m.\u001b[39;49m\u001b[43mf\u001b[49m\u001b[43m(\u001b[49m\u001b[43mv\u001b[49m\u001b[43m)\u001b[49m\n\u001b[1;32m    815\u001b[0m         \u001b[38;5;28;01mif\u001b[39;00m \u001b[38;5;28misinstance\u001b[39m(results[i], ABCSeries):\n\u001b[1;32m    816\u001b[0m             \u001b[38;5;66;03m# If we have a view on v, we need to make a copy because\u001b[39;00m\n\u001b[1;32m    817\u001b[0m             \u001b[38;5;66;03m#  series_generator will swap out the underlying data\u001b[39;00m\n\u001b[1;32m    818\u001b[0m             results[i] \u001b[38;5;241m=\u001b[39m results[i]\u001b[38;5;241m.\u001b[39mcopy(deep\u001b[38;5;241m=\u001b[39m\u001b[38;5;28;01mFalse\u001b[39;00m)\n",
      "Cell \u001b[0;32mIn[96], line 8\u001b[0m, in \u001b[0;36m<lambda>\u001b[0;34m(row)\u001b[0m\n\u001b[1;32m      1\u001b[0m subset \u001b[38;5;241m=\u001b[39m df[[\u001b[38;5;124m'\u001b[39m\u001b[38;5;124mage\u001b[39m\u001b[38;5;124m'\u001b[39m, \u001b[38;5;124m'\u001b[39m\u001b[38;5;124mage_onset\u001b[39m\u001b[38;5;124m'\u001b[39m, \u001b[38;5;124m'\u001b[39m\u001b[38;5;124mbirthplace\u001b[39m\u001b[38;5;124m'\u001b[39m, \u001b[38;5;124m'\u001b[39m\u001b[38;5;124mfilename\u001b[39m\u001b[38;5;124m'\u001b[39m, \u001b[38;5;124m'\u001b[39m\u001b[38;5;124mnative_language\u001b[39m\u001b[38;5;124m'\u001b[39m, \u001b[38;5;124m'\u001b[39m\u001b[38;5;124msex\u001b[39m\u001b[38;5;124m'\u001b[39m,\n\u001b[1;32m      2\u001b[0m        \u001b[38;5;124m'\u001b[39m\u001b[38;5;124mspeakerid\u001b[39m\u001b[38;5;124m'\u001b[39m, \u001b[38;5;124m'\u001b[39m\u001b[38;5;124mcountry\u001b[39m\u001b[38;5;124m'\u001b[39m, \u001b[38;5;124m'\u001b[39m\u001b[38;5;124mfile_missing?\u001b[39m\u001b[38;5;124m'\u001b[39m, \u001b[38;5;124m'\u001b[39m\u001b[38;5;124mfile_found\u001b[39m\u001b[38;5;124m'\u001b[39m, \u001b[38;5;124m'\u001b[39m\u001b[38;5;124mcity\u001b[39m\u001b[38;5;124m'\u001b[39m,\n\u001b[1;32m      3\u001b[0m        \u001b[38;5;124m'\u001b[39m\u001b[38;5;124mcity_nums\u001b[39m\u001b[38;5;124m'\u001b[39m, \u001b[38;5;124m'\u001b[39m\u001b[38;5;124mstate\u001b[39m\u001b[38;5;124m'\u001b[39m,\n\u001b[1;32m      4\u001b[0m        \u001b[38;5;124m'\u001b[39m\u001b[38;5;124mmodel_response_degree_Qwen2-Audio-7B-Instruct\u001b[39m\u001b[38;5;124m'\u001b[39m,\n\u001b[1;32m      5\u001b[0m        \u001b[38;5;124m'\u001b[39m\u001b[38;5;124mmodel_prompt_degree_Qwen2-Audio-7B-Instruct\u001b[39m\u001b[38;5;124m'\u001b[39m]]\u001b[38;5;241m.\u001b[39mcopy()\n\u001b[0;32m----> 8\u001b[0m subset[\u001b[38;5;124m'\u001b[39m\u001b[38;5;124mparsed\u001b[39m\u001b[38;5;124m'\u001b[39m] \u001b[38;5;241m=\u001b[39m subset\u001b[38;5;241m.\u001b[39mapply(\u001b[38;5;28;01mlambda\u001b[39;00m row: \u001b[43mparse_adjectives\u001b[49m\u001b[43m(\u001b[49m\u001b[43mrow\u001b[49m\u001b[43m,\u001b[49m\u001b[43m \u001b[49m\u001b[38;5;124;43m'\u001b[39;49m\u001b[38;5;124;43mmodel_response_degree_Qwen2-Audio-7B-Instruct\u001b[39;49m\u001b[38;5;124;43m'\u001b[39;49m\u001b[43m,\u001b[49m\u001b[43m \u001b[49m\u001b[43m[\u001b[49m\u001b[38;5;124;43m'\u001b[39;49m\u001b[38;5;124;43mphd\u001b[39;49m\u001b[38;5;124;43m'\u001b[39;49m\u001b[43m,\u001b[49m\u001b[43m \u001b[49m\u001b[38;5;124;43m'\u001b[39;49m\u001b[38;5;124;43mbachelor\u001b[39;49m\u001b[38;5;124;43m'\u001b[39;49m\u001b[43m,\u001b[49m\u001b[43m \u001b[49m\u001b[38;5;124;43m'\u001b[39;49m\u001b[38;5;124;43mmaster\u001b[39;49m\u001b[38;5;124;43m'\u001b[39;49m\u001b[43m]\u001b[49m\u001b[43m)\u001b[49m, axis\u001b[38;5;241m=\u001b[39m\u001b[38;5;241m1\u001b[39m)\n\u001b[1;32m     10\u001b[0m subset \u001b[38;5;241m=\u001b[39m subset[subset[\u001b[38;5;124m'\u001b[39m\u001b[38;5;124mnative_language\u001b[39m\u001b[38;5;124m'\u001b[39m] \u001b[38;5;241m==\u001b[39m \u001b[38;5;124m'\u001b[39m\u001b[38;5;124menglish\u001b[39m\u001b[38;5;124m'\u001b[39m]\n\u001b[1;32m     12\u001b[0m df_exploded \u001b[38;5;241m=\u001b[39m subset\u001b[38;5;241m.\u001b[39mexplode(\u001b[38;5;124m'\u001b[39m\u001b[38;5;124mparsed\u001b[39m\u001b[38;5;124m'\u001b[39m)\n",
      "Cell \u001b[0;32mIn[46], line 4\u001b[0m, in \u001b[0;36mparse_adjectives\u001b[0;34m(row, col, adjectivelist)\u001b[0m\n\u001b[1;32m      2\u001b[0m adj_found \u001b[38;5;241m=\u001b[39m []\n\u001b[1;32m      3\u001b[0m \u001b[38;5;28;01mfor\u001b[39;00m adj \u001b[38;5;129;01min\u001b[39;00m \u001b[38;5;28mlist\u001b[39m(\u001b[38;5;28mset\u001b[39m(adjectivelist)):\n\u001b[0;32m----> 4\u001b[0m     \u001b[38;5;28;01mif\u001b[39;00m adj \u001b[38;5;129;01min\u001b[39;00m \u001b[43mrow\u001b[49m\u001b[43m[\u001b[49m\u001b[43mcol\u001b[49m\u001b[43m]\u001b[49m\u001b[38;5;241;43m.\u001b[39;49m\u001b[43mlower\u001b[49m():\n\u001b[1;32m      5\u001b[0m         adj_found\u001b[38;5;241m.\u001b[39mappend(adj)\n\u001b[1;32m      7\u001b[0m \u001b[38;5;28;01mreturn\u001b[39;00m adj_found\n",
      "\u001b[0;31mAttributeError\u001b[0m: 'float' object has no attribute 'lower'"
     ]
    }
   ],
   "source": [
    "subset = full_df[['area','sex', 'content', 'speaker_id',\n",
    "       'model_response_degree_Qwen2-Audio-7B-Instruct',\n",
    "       'model_prompt_degree_Qwen2-Audio-7B-Instruct']].copy()\n",
    "\n",
    "\n",
    "subset['parsed'] = subset.apply(lambda row: parse_adjectives(row, 'model_response_degree_Qwen2-Audio-7B-Instruct', ['phd', 'bachelor', 'master']), axis=1)\n",
    "\n",
    "subset = subset[subset['native_language'] == 'english']\n",
    "\n",
    "df_exploded = subset.explode('parsed')\n",
    "result = df_exploded.groupby(['country', 'parsed']).size().reset_index(name='count')\n",
    "\n",
    "result = result[result['count'] > 1]\n",
    "\n",
    "\n",
    "# Create a grouped bar plot\n",
    "fig = px.bar(\n",
    "    result,\n",
    "    x='country',\n",
    "    y='count',\n",
    "    color='parsed',    # Different colors for each group\n",
    "    barmode='group',  # Place bars side-by-side rather than stacking them\n",
    ")\n",
    "fig.show()\n"
   ]
  },
  {
   "cell_type": "code",
   "execution_count": null,
   "metadata": {},
   "outputs": [
    {
     "data": {
      "application/vnd.plotly.v1+json": {
       "config": {
        "plotlyServerURL": "https://plot.ly"
       },
       "data": [
        {
         "alignmentgroup": "True",
         "hovertemplate": "parsed=cashier<br>state=%{x}<br>count=%{y}<extra></extra>",
         "legendgroup": "cashier",
         "marker": {
          "color": "#636efa",
          "pattern": {
           "shape": ""
          }
         },
         "name": "cashier",
         "offsetgroup": "cashier",
         "orientation": "v",
         "showlegend": true,
         "textposition": "auto",
         "type": "bar",
         "x": [
          "alabama",
          "arkansas",
          "california",
          "connecticut",
          "district of columbia",
          "florida",
          "illinois",
          "indiana",
          "kansas",
          "kentucky",
          "louisiana",
          "maryland",
          "massachusetts",
          "minnesota",
          "new jersey",
          "new york",
          "ohio",
          "oregon",
          "pennsylvania",
          "texas",
          "vermont",
          "virginia",
          "wisconsin"
         ],
         "xaxis": "x",
         "y": [
          2,
          2,
          13,
          2,
          2,
          6,
          4,
          4,
          3,
          2,
          3,
          3,
          3,
          4,
          3,
          8,
          4,
          2,
          3,
          2,
          2,
          8,
          2
         ],
         "yaxis": "y"
        },
        {
         "alignmentgroup": "True",
         "hovertemplate": "parsed=clerk<br>state=%{x}<br>count=%{y}<extra></extra>",
         "legendgroup": "clerk",
         "marker": {
          "color": "#EF553B",
          "pattern": {
           "shape": ""
          }
         },
         "name": "clerk",
         "offsetgroup": "clerk",
         "orientation": "v",
         "showlegend": true,
         "textposition": "auto",
         "type": "bar",
         "x": [
          "california",
          "new hampshire",
          "new jersey",
          "new york",
          "ohio",
          "oregon",
          "rhode island",
          "virginia",
          "wisconsin"
         ],
         "xaxis": "x",
         "y": [
          4,
          2,
          2,
          2,
          2,
          3,
          2,
          5,
          2
         ],
         "yaxis": "y"
        },
        {
         "alignmentgroup": "True",
         "hovertemplate": "parsed=driver<br>state=%{x}<br>count=%{y}<extra></extra>",
         "legendgroup": "driver",
         "marker": {
          "color": "#00cc96",
          "pattern": {
           "shape": ""
          }
         },
         "name": "driver",
         "offsetgroup": "driver",
         "orientation": "v",
         "showlegend": true,
         "textposition": "auto",
         "type": "bar",
         "x": [
          "california",
          "illinois",
          "maryland",
          "michigan",
          "north carolina"
         ],
         "xaxis": "x",
         "y": [
          2,
          2,
          2,
          2,
          2
         ],
         "yaxis": "y"
        },
        {
         "alignmentgroup": "True",
         "hovertemplate": "parsed=farmer<br>state=%{x}<br>count=%{y}<extra></extra>",
         "legendgroup": "farmer",
         "marker": {
          "color": "#ab63fa",
          "pattern": {
           "shape": ""
          }
         },
         "name": "farmer",
         "offsetgroup": "farmer",
         "orientation": "v",
         "showlegend": true,
         "textposition": "auto",
         "type": "bar",
         "x": [
          "california"
         ],
         "xaxis": "x",
         "y": [
          2
         ],
         "yaxis": "y"
        },
        {
         "alignmentgroup": "True",
         "hovertemplate": "parsed=manager<br>state=%{x}<br>count=%{y}<extra></extra>",
         "legendgroup": "manager",
         "marker": {
          "color": "#FFA15A",
          "pattern": {
           "shape": ""
          }
         },
         "name": "manager",
         "offsetgroup": "manager",
         "orientation": "v",
         "showlegend": true,
         "textposition": "auto",
         "type": "bar",
         "x": [
          "california",
          "connecticut",
          "north carolina",
          "pennsylvania"
         ],
         "xaxis": "x",
         "y": [
          2,
          2,
          2,
          3
         ],
         "yaxis": "y"
        },
        {
         "alignmentgroup": "True",
         "hovertemplate": "parsed=salesperson<br>state=%{x}<br>count=%{y}<extra></extra>",
         "legendgroup": "salesperson",
         "marker": {
          "color": "#19d3f3",
          "pattern": {
           "shape": ""
          }
         },
         "name": "salesperson",
         "offsetgroup": "salesperson",
         "orientation": "v",
         "showlegend": true,
         "textposition": "auto",
         "type": "bar",
         "x": [
          "california",
          "florida",
          "georgia",
          "illinois",
          "maryland",
          "massachusetts",
          "michigan",
          "new york",
          "ohio",
          "oregon",
          "pennsylvania",
          "virginia"
         ],
         "xaxis": "x",
         "y": [
          4,
          4,
          2,
          3,
          2,
          2,
          2,
          5,
          3,
          2,
          3,
          3
         ],
         "yaxis": "y"
        },
        {
         "alignmentgroup": "True",
         "hovertemplate": "parsed=mechanic<br>state=%{x}<br>count=%{y}<extra></extra>",
         "legendgroup": "mechanic",
         "marker": {
          "color": "#FF6692",
          "pattern": {
           "shape": ""
          }
         },
         "name": "mechanic",
         "offsetgroup": "mechanic",
         "orientation": "v",
         "showlegend": true,
         "textposition": "auto",
         "type": "bar",
         "x": [
          "georgia",
          "virginia"
         ],
         "xaxis": "x",
         "y": [
          2,
          2
         ],
         "yaxis": "y"
        },
        {
         "alignmentgroup": "True",
         "hovertemplate": "parsed=assistant<br>state=%{x}<br>count=%{y}<extra></extra>",
         "legendgroup": "assistant",
         "marker": {
          "color": "#B6E880",
          "pattern": {
           "shape": ""
          }
         },
         "name": "assistant",
         "offsetgroup": "assistant",
         "orientation": "v",
         "showlegend": true,
         "textposition": "auto",
         "type": "bar",
         "x": [
          "massachusetts",
          "texas",
          "wisconsin"
         ],
         "xaxis": "x",
         "y": [
          2,
          2,
          2
         ],
         "yaxis": "y"
        },
        {
         "alignmentgroup": "True",
         "hovertemplate": "parsed=secretary<br>state=%{x}<br>count=%{y}<extra></extra>",
         "legendgroup": "secretary",
         "marker": {
          "color": "#FF97FF",
          "pattern": {
           "shape": ""
          }
         },
         "name": "secretary",
         "offsetgroup": "secretary",
         "orientation": "v",
         "showlegend": true,
         "textposition": "auto",
         "type": "bar",
         "x": [
          "pennsylvania",
          "wisconsin"
         ],
         "xaxis": "x",
         "y": [
          2,
          2
         ],
         "yaxis": "y"
        },
        {
         "alignmentgroup": "True",
         "hovertemplate": "parsed=writer<br>state=%{x}<br>count=%{y}<extra></extra>",
         "legendgroup": "writer",
         "marker": {
          "color": "#FECB52",
          "pattern": {
           "shape": ""
          }
         },
         "name": "writer",
         "offsetgroup": "writer",
         "orientation": "v",
         "showlegend": true,
         "textposition": "auto",
         "type": "bar",
         "x": [
          "south carolina"
         ],
         "xaxis": "x",
         "y": [
          2
         ],
         "yaxis": "y"
        }
       ],
       "layout": {
        "barmode": "group",
        "legend": {
         "title": {
          "text": "parsed"
         },
         "tracegroupgap": 0
        },
        "margin": {
         "t": 60
        },
        "template": {
         "data": {
          "bar": [
           {
            "error_x": {
             "color": "#2a3f5f"
            },
            "error_y": {
             "color": "#2a3f5f"
            },
            "marker": {
             "line": {
              "color": "#E5ECF6",
              "width": 0.5
             },
             "pattern": {
              "fillmode": "overlay",
              "size": 10,
              "solidity": 0.2
             }
            },
            "type": "bar"
           }
          ],
          "barpolar": [
           {
            "marker": {
             "line": {
              "color": "#E5ECF6",
              "width": 0.5
             },
             "pattern": {
              "fillmode": "overlay",
              "size": 10,
              "solidity": 0.2
             }
            },
            "type": "barpolar"
           }
          ],
          "carpet": [
           {
            "aaxis": {
             "endlinecolor": "#2a3f5f",
             "gridcolor": "white",
             "linecolor": "white",
             "minorgridcolor": "white",
             "startlinecolor": "#2a3f5f"
            },
            "baxis": {
             "endlinecolor": "#2a3f5f",
             "gridcolor": "white",
             "linecolor": "white",
             "minorgridcolor": "white",
             "startlinecolor": "#2a3f5f"
            },
            "type": "carpet"
           }
          ],
          "choropleth": [
           {
            "colorbar": {
             "outlinewidth": 0,
             "ticks": ""
            },
            "type": "choropleth"
           }
          ],
          "contour": [
           {
            "colorbar": {
             "outlinewidth": 0,
             "ticks": ""
            },
            "colorscale": [
             [
              0,
              "#0d0887"
             ],
             [
              0.1111111111111111,
              "#46039f"
             ],
             [
              0.2222222222222222,
              "#7201a8"
             ],
             [
              0.3333333333333333,
              "#9c179e"
             ],
             [
              0.4444444444444444,
              "#bd3786"
             ],
             [
              0.5555555555555556,
              "#d8576b"
             ],
             [
              0.6666666666666666,
              "#ed7953"
             ],
             [
              0.7777777777777778,
              "#fb9f3a"
             ],
             [
              0.8888888888888888,
              "#fdca26"
             ],
             [
              1,
              "#f0f921"
             ]
            ],
            "type": "contour"
           }
          ],
          "contourcarpet": [
           {
            "colorbar": {
             "outlinewidth": 0,
             "ticks": ""
            },
            "type": "contourcarpet"
           }
          ],
          "heatmap": [
           {
            "colorbar": {
             "outlinewidth": 0,
             "ticks": ""
            },
            "colorscale": [
             [
              0,
              "#0d0887"
             ],
             [
              0.1111111111111111,
              "#46039f"
             ],
             [
              0.2222222222222222,
              "#7201a8"
             ],
             [
              0.3333333333333333,
              "#9c179e"
             ],
             [
              0.4444444444444444,
              "#bd3786"
             ],
             [
              0.5555555555555556,
              "#d8576b"
             ],
             [
              0.6666666666666666,
              "#ed7953"
             ],
             [
              0.7777777777777778,
              "#fb9f3a"
             ],
             [
              0.8888888888888888,
              "#fdca26"
             ],
             [
              1,
              "#f0f921"
             ]
            ],
            "type": "heatmap"
           }
          ],
          "heatmapgl": [
           {
            "colorbar": {
             "outlinewidth": 0,
             "ticks": ""
            },
            "colorscale": [
             [
              0,
              "#0d0887"
             ],
             [
              0.1111111111111111,
              "#46039f"
             ],
             [
              0.2222222222222222,
              "#7201a8"
             ],
             [
              0.3333333333333333,
              "#9c179e"
             ],
             [
              0.4444444444444444,
              "#bd3786"
             ],
             [
              0.5555555555555556,
              "#d8576b"
             ],
             [
              0.6666666666666666,
              "#ed7953"
             ],
             [
              0.7777777777777778,
              "#fb9f3a"
             ],
             [
              0.8888888888888888,
              "#fdca26"
             ],
             [
              1,
              "#f0f921"
             ]
            ],
            "type": "heatmapgl"
           }
          ],
          "histogram": [
           {
            "marker": {
             "pattern": {
              "fillmode": "overlay",
              "size": 10,
              "solidity": 0.2
             }
            },
            "type": "histogram"
           }
          ],
          "histogram2d": [
           {
            "colorbar": {
             "outlinewidth": 0,
             "ticks": ""
            },
            "colorscale": [
             [
              0,
              "#0d0887"
             ],
             [
              0.1111111111111111,
              "#46039f"
             ],
             [
              0.2222222222222222,
              "#7201a8"
             ],
             [
              0.3333333333333333,
              "#9c179e"
             ],
             [
              0.4444444444444444,
              "#bd3786"
             ],
             [
              0.5555555555555556,
              "#d8576b"
             ],
             [
              0.6666666666666666,
              "#ed7953"
             ],
             [
              0.7777777777777778,
              "#fb9f3a"
             ],
             [
              0.8888888888888888,
              "#fdca26"
             ],
             [
              1,
              "#f0f921"
             ]
            ],
            "type": "histogram2d"
           }
          ],
          "histogram2dcontour": [
           {
            "colorbar": {
             "outlinewidth": 0,
             "ticks": ""
            },
            "colorscale": [
             [
              0,
              "#0d0887"
             ],
             [
              0.1111111111111111,
              "#46039f"
             ],
             [
              0.2222222222222222,
              "#7201a8"
             ],
             [
              0.3333333333333333,
              "#9c179e"
             ],
             [
              0.4444444444444444,
              "#bd3786"
             ],
             [
              0.5555555555555556,
              "#d8576b"
             ],
             [
              0.6666666666666666,
              "#ed7953"
             ],
             [
              0.7777777777777778,
              "#fb9f3a"
             ],
             [
              0.8888888888888888,
              "#fdca26"
             ],
             [
              1,
              "#f0f921"
             ]
            ],
            "type": "histogram2dcontour"
           }
          ],
          "mesh3d": [
           {
            "colorbar": {
             "outlinewidth": 0,
             "ticks": ""
            },
            "type": "mesh3d"
           }
          ],
          "parcoords": [
           {
            "line": {
             "colorbar": {
              "outlinewidth": 0,
              "ticks": ""
             }
            },
            "type": "parcoords"
           }
          ],
          "pie": [
           {
            "automargin": true,
            "type": "pie"
           }
          ],
          "scatter": [
           {
            "fillpattern": {
             "fillmode": "overlay",
             "size": 10,
             "solidity": 0.2
            },
            "type": "scatter"
           }
          ],
          "scatter3d": [
           {
            "line": {
             "colorbar": {
              "outlinewidth": 0,
              "ticks": ""
             }
            },
            "marker": {
             "colorbar": {
              "outlinewidth": 0,
              "ticks": ""
             }
            },
            "type": "scatter3d"
           }
          ],
          "scattercarpet": [
           {
            "marker": {
             "colorbar": {
              "outlinewidth": 0,
              "ticks": ""
             }
            },
            "type": "scattercarpet"
           }
          ],
          "scattergeo": [
           {
            "marker": {
             "colorbar": {
              "outlinewidth": 0,
              "ticks": ""
             }
            },
            "type": "scattergeo"
           }
          ],
          "scattergl": [
           {
            "marker": {
             "colorbar": {
              "outlinewidth": 0,
              "ticks": ""
             }
            },
            "type": "scattergl"
           }
          ],
          "scattermapbox": [
           {
            "marker": {
             "colorbar": {
              "outlinewidth": 0,
              "ticks": ""
             }
            },
            "type": "scattermapbox"
           }
          ],
          "scatterpolar": [
           {
            "marker": {
             "colorbar": {
              "outlinewidth": 0,
              "ticks": ""
             }
            },
            "type": "scatterpolar"
           }
          ],
          "scatterpolargl": [
           {
            "marker": {
             "colorbar": {
              "outlinewidth": 0,
              "ticks": ""
             }
            },
            "type": "scatterpolargl"
           }
          ],
          "scatterternary": [
           {
            "marker": {
             "colorbar": {
              "outlinewidth": 0,
              "ticks": ""
             }
            },
            "type": "scatterternary"
           }
          ],
          "surface": [
           {
            "colorbar": {
             "outlinewidth": 0,
             "ticks": ""
            },
            "colorscale": [
             [
              0,
              "#0d0887"
             ],
             [
              0.1111111111111111,
              "#46039f"
             ],
             [
              0.2222222222222222,
              "#7201a8"
             ],
             [
              0.3333333333333333,
              "#9c179e"
             ],
             [
              0.4444444444444444,
              "#bd3786"
             ],
             [
              0.5555555555555556,
              "#d8576b"
             ],
             [
              0.6666666666666666,
              "#ed7953"
             ],
             [
              0.7777777777777778,
              "#fb9f3a"
             ],
             [
              0.8888888888888888,
              "#fdca26"
             ],
             [
              1,
              "#f0f921"
             ]
            ],
            "type": "surface"
           }
          ],
          "table": [
           {
            "cells": {
             "fill": {
              "color": "#EBF0F8"
             },
             "line": {
              "color": "white"
             }
            },
            "header": {
             "fill": {
              "color": "#C8D4E3"
             },
             "line": {
              "color": "white"
             }
            },
            "type": "table"
           }
          ]
         },
         "layout": {
          "annotationdefaults": {
           "arrowcolor": "#2a3f5f",
           "arrowhead": 0,
           "arrowwidth": 1
          },
          "autotypenumbers": "strict",
          "coloraxis": {
           "colorbar": {
            "outlinewidth": 0,
            "ticks": ""
           }
          },
          "colorscale": {
           "diverging": [
            [
             0,
             "#8e0152"
            ],
            [
             0.1,
             "#c51b7d"
            ],
            [
             0.2,
             "#de77ae"
            ],
            [
             0.3,
             "#f1b6da"
            ],
            [
             0.4,
             "#fde0ef"
            ],
            [
             0.5,
             "#f7f7f7"
            ],
            [
             0.6,
             "#e6f5d0"
            ],
            [
             0.7,
             "#b8e186"
            ],
            [
             0.8,
             "#7fbc41"
            ],
            [
             0.9,
             "#4d9221"
            ],
            [
             1,
             "#276419"
            ]
           ],
           "sequential": [
            [
             0,
             "#0d0887"
            ],
            [
             0.1111111111111111,
             "#46039f"
            ],
            [
             0.2222222222222222,
             "#7201a8"
            ],
            [
             0.3333333333333333,
             "#9c179e"
            ],
            [
             0.4444444444444444,
             "#bd3786"
            ],
            [
             0.5555555555555556,
             "#d8576b"
            ],
            [
             0.6666666666666666,
             "#ed7953"
            ],
            [
             0.7777777777777778,
             "#fb9f3a"
            ],
            [
             0.8888888888888888,
             "#fdca26"
            ],
            [
             1,
             "#f0f921"
            ]
           ],
           "sequentialminus": [
            [
             0,
             "#0d0887"
            ],
            [
             0.1111111111111111,
             "#46039f"
            ],
            [
             0.2222222222222222,
             "#7201a8"
            ],
            [
             0.3333333333333333,
             "#9c179e"
            ],
            [
             0.4444444444444444,
             "#bd3786"
            ],
            [
             0.5555555555555556,
             "#d8576b"
            ],
            [
             0.6666666666666666,
             "#ed7953"
            ],
            [
             0.7777777777777778,
             "#fb9f3a"
            ],
            [
             0.8888888888888888,
             "#fdca26"
            ],
            [
             1,
             "#f0f921"
            ]
           ]
          },
          "colorway": [
           "#636efa",
           "#EF553B",
           "#00cc96",
           "#ab63fa",
           "#FFA15A",
           "#19d3f3",
           "#FF6692",
           "#B6E880",
           "#FF97FF",
           "#FECB52"
          ],
          "font": {
           "color": "#2a3f5f"
          },
          "geo": {
           "bgcolor": "white",
           "lakecolor": "white",
           "landcolor": "#E5ECF6",
           "showlakes": true,
           "showland": true,
           "subunitcolor": "white"
          },
          "hoverlabel": {
           "align": "left"
          },
          "hovermode": "closest",
          "mapbox": {
           "style": "light"
          },
          "paper_bgcolor": "white",
          "plot_bgcolor": "#E5ECF6",
          "polar": {
           "angularaxis": {
            "gridcolor": "white",
            "linecolor": "white",
            "ticks": ""
           },
           "bgcolor": "#E5ECF6",
           "radialaxis": {
            "gridcolor": "white",
            "linecolor": "white",
            "ticks": ""
           }
          },
          "scene": {
           "xaxis": {
            "backgroundcolor": "#E5ECF6",
            "gridcolor": "white",
            "gridwidth": 2,
            "linecolor": "white",
            "showbackground": true,
            "ticks": "",
            "zerolinecolor": "white"
           },
           "yaxis": {
            "backgroundcolor": "#E5ECF6",
            "gridcolor": "white",
            "gridwidth": 2,
            "linecolor": "white",
            "showbackground": true,
            "ticks": "",
            "zerolinecolor": "white"
           },
           "zaxis": {
            "backgroundcolor": "#E5ECF6",
            "gridcolor": "white",
            "gridwidth": 2,
            "linecolor": "white",
            "showbackground": true,
            "ticks": "",
            "zerolinecolor": "white"
           }
          },
          "shapedefaults": {
           "line": {
            "color": "#2a3f5f"
           }
          },
          "ternary": {
           "aaxis": {
            "gridcolor": "white",
            "linecolor": "white",
            "ticks": ""
           },
           "baxis": {
            "gridcolor": "white",
            "linecolor": "white",
            "ticks": ""
           },
           "bgcolor": "#E5ECF6",
           "caxis": {
            "gridcolor": "white",
            "linecolor": "white",
            "ticks": ""
           }
          },
          "title": {
           "x": 0.05
          },
          "xaxis": {
           "automargin": true,
           "gridcolor": "white",
           "linecolor": "white",
           "ticks": "",
           "title": {
            "standoff": 15
           },
           "zerolinecolor": "white",
           "zerolinewidth": 2
          },
          "yaxis": {
           "automargin": true,
           "gridcolor": "white",
           "linecolor": "white",
           "ticks": "",
           "title": {
            "standoff": 15
           },
           "zerolinecolor": "white",
           "zerolinewidth": 2
          }
         }
        },
        "xaxis": {
         "anchor": "y",
         "domain": [
          0,
          1
         ],
         "title": {
          "text": "state"
         }
        },
        "yaxis": {
         "anchor": "x",
         "domain": [
          0,
          1
         ],
         "title": {
          "text": "count"
         }
        }
       }
      },
      "text/html": [
       "<div>                            <div id=\"c5d2a985-a8c4-4f31-b1e7-d5c9a6d874e4\" class=\"plotly-graph-div\" style=\"height:525px; width:100%;\"></div>            <script type=\"text/javascript\">                require([\"plotly\"], function(Plotly) {                    window.PLOTLYENV=window.PLOTLYENV || {};                                    if (document.getElementById(\"c5d2a985-a8c4-4f31-b1e7-d5c9a6d874e4\")) {                    Plotly.newPlot(                        \"c5d2a985-a8c4-4f31-b1e7-d5c9a6d874e4\",                        [{\"alignmentgroup\":\"True\",\"hovertemplate\":\"parsed=cashier\\u003cbr\\u003estate=%{x}\\u003cbr\\u003ecount=%{y}\\u003cextra\\u003e\\u003c\\u002fextra\\u003e\",\"legendgroup\":\"cashier\",\"marker\":{\"color\":\"#636efa\",\"pattern\":{\"shape\":\"\"}},\"name\":\"cashier\",\"offsetgroup\":\"cashier\",\"orientation\":\"v\",\"showlegend\":true,\"textposition\":\"auto\",\"x\":[\"alabama\",\"arkansas\",\"california\",\"connecticut\",\"district of columbia\",\"florida\",\"illinois\",\"indiana\",\"kansas\",\"kentucky\",\"louisiana\",\"maryland\",\"massachusetts\",\"minnesota\",\"new jersey\",\"new york\",\"ohio\",\"oregon\",\"pennsylvania\",\"texas\",\"vermont\",\"virginia\",\"wisconsin\"],\"xaxis\":\"x\",\"y\":[2,2,13,2,2,6,4,4,3,2,3,3,3,4,3,8,4,2,3,2,2,8,2],\"yaxis\":\"y\",\"type\":\"bar\"},{\"alignmentgroup\":\"True\",\"hovertemplate\":\"parsed=clerk\\u003cbr\\u003estate=%{x}\\u003cbr\\u003ecount=%{y}\\u003cextra\\u003e\\u003c\\u002fextra\\u003e\",\"legendgroup\":\"clerk\",\"marker\":{\"color\":\"#EF553B\",\"pattern\":{\"shape\":\"\"}},\"name\":\"clerk\",\"offsetgroup\":\"clerk\",\"orientation\":\"v\",\"showlegend\":true,\"textposition\":\"auto\",\"x\":[\"california\",\"new hampshire\",\"new jersey\",\"new york\",\"ohio\",\"oregon\",\"rhode island\",\"virginia\",\"wisconsin\"],\"xaxis\":\"x\",\"y\":[4,2,2,2,2,3,2,5,2],\"yaxis\":\"y\",\"type\":\"bar\"},{\"alignmentgroup\":\"True\",\"hovertemplate\":\"parsed=driver\\u003cbr\\u003estate=%{x}\\u003cbr\\u003ecount=%{y}\\u003cextra\\u003e\\u003c\\u002fextra\\u003e\",\"legendgroup\":\"driver\",\"marker\":{\"color\":\"#00cc96\",\"pattern\":{\"shape\":\"\"}},\"name\":\"driver\",\"offsetgroup\":\"driver\",\"orientation\":\"v\",\"showlegend\":true,\"textposition\":\"auto\",\"x\":[\"california\",\"illinois\",\"maryland\",\"michigan\",\"north carolina\"],\"xaxis\":\"x\",\"y\":[2,2,2,2,2],\"yaxis\":\"y\",\"type\":\"bar\"},{\"alignmentgroup\":\"True\",\"hovertemplate\":\"parsed=farmer\\u003cbr\\u003estate=%{x}\\u003cbr\\u003ecount=%{y}\\u003cextra\\u003e\\u003c\\u002fextra\\u003e\",\"legendgroup\":\"farmer\",\"marker\":{\"color\":\"#ab63fa\",\"pattern\":{\"shape\":\"\"}},\"name\":\"farmer\",\"offsetgroup\":\"farmer\",\"orientation\":\"v\",\"showlegend\":true,\"textposition\":\"auto\",\"x\":[\"california\"],\"xaxis\":\"x\",\"y\":[2],\"yaxis\":\"y\",\"type\":\"bar\"},{\"alignmentgroup\":\"True\",\"hovertemplate\":\"parsed=manager\\u003cbr\\u003estate=%{x}\\u003cbr\\u003ecount=%{y}\\u003cextra\\u003e\\u003c\\u002fextra\\u003e\",\"legendgroup\":\"manager\",\"marker\":{\"color\":\"#FFA15A\",\"pattern\":{\"shape\":\"\"}},\"name\":\"manager\",\"offsetgroup\":\"manager\",\"orientation\":\"v\",\"showlegend\":true,\"textposition\":\"auto\",\"x\":[\"california\",\"connecticut\",\"north carolina\",\"pennsylvania\"],\"xaxis\":\"x\",\"y\":[2,2,2,3],\"yaxis\":\"y\",\"type\":\"bar\"},{\"alignmentgroup\":\"True\",\"hovertemplate\":\"parsed=salesperson\\u003cbr\\u003estate=%{x}\\u003cbr\\u003ecount=%{y}\\u003cextra\\u003e\\u003c\\u002fextra\\u003e\",\"legendgroup\":\"salesperson\",\"marker\":{\"color\":\"#19d3f3\",\"pattern\":{\"shape\":\"\"}},\"name\":\"salesperson\",\"offsetgroup\":\"salesperson\",\"orientation\":\"v\",\"showlegend\":true,\"textposition\":\"auto\",\"x\":[\"california\",\"florida\",\"georgia\",\"illinois\",\"maryland\",\"massachusetts\",\"michigan\",\"new york\",\"ohio\",\"oregon\",\"pennsylvania\",\"virginia\"],\"xaxis\":\"x\",\"y\":[4,4,2,3,2,2,2,5,3,2,3,3],\"yaxis\":\"y\",\"type\":\"bar\"},{\"alignmentgroup\":\"True\",\"hovertemplate\":\"parsed=mechanic\\u003cbr\\u003estate=%{x}\\u003cbr\\u003ecount=%{y}\\u003cextra\\u003e\\u003c\\u002fextra\\u003e\",\"legendgroup\":\"mechanic\",\"marker\":{\"color\":\"#FF6692\",\"pattern\":{\"shape\":\"\"}},\"name\":\"mechanic\",\"offsetgroup\":\"mechanic\",\"orientation\":\"v\",\"showlegend\":true,\"textposition\":\"auto\",\"x\":[\"georgia\",\"virginia\"],\"xaxis\":\"x\",\"y\":[2,2],\"yaxis\":\"y\",\"type\":\"bar\"},{\"alignmentgroup\":\"True\",\"hovertemplate\":\"parsed=assistant\\u003cbr\\u003estate=%{x}\\u003cbr\\u003ecount=%{y}\\u003cextra\\u003e\\u003c\\u002fextra\\u003e\",\"legendgroup\":\"assistant\",\"marker\":{\"color\":\"#B6E880\",\"pattern\":{\"shape\":\"\"}},\"name\":\"assistant\",\"offsetgroup\":\"assistant\",\"orientation\":\"v\",\"showlegend\":true,\"textposition\":\"auto\",\"x\":[\"massachusetts\",\"texas\",\"wisconsin\"],\"xaxis\":\"x\",\"y\":[2,2,2],\"yaxis\":\"y\",\"type\":\"bar\"},{\"alignmentgroup\":\"True\",\"hovertemplate\":\"parsed=secretary\\u003cbr\\u003estate=%{x}\\u003cbr\\u003ecount=%{y}\\u003cextra\\u003e\\u003c\\u002fextra\\u003e\",\"legendgroup\":\"secretary\",\"marker\":{\"color\":\"#FF97FF\",\"pattern\":{\"shape\":\"\"}},\"name\":\"secretary\",\"offsetgroup\":\"secretary\",\"orientation\":\"v\",\"showlegend\":true,\"textposition\":\"auto\",\"x\":[\"pennsylvania\",\"wisconsin\"],\"xaxis\":\"x\",\"y\":[2,2],\"yaxis\":\"y\",\"type\":\"bar\"},{\"alignmentgroup\":\"True\",\"hovertemplate\":\"parsed=writer\\u003cbr\\u003estate=%{x}\\u003cbr\\u003ecount=%{y}\\u003cextra\\u003e\\u003c\\u002fextra\\u003e\",\"legendgroup\":\"writer\",\"marker\":{\"color\":\"#FECB52\",\"pattern\":{\"shape\":\"\"}},\"name\":\"writer\",\"offsetgroup\":\"writer\",\"orientation\":\"v\",\"showlegend\":true,\"textposition\":\"auto\",\"x\":[\"south carolina\"],\"xaxis\":\"x\",\"y\":[2],\"yaxis\":\"y\",\"type\":\"bar\"}],                        {\"template\":{\"data\":{\"histogram2dcontour\":[{\"type\":\"histogram2dcontour\",\"colorbar\":{\"outlinewidth\":0,\"ticks\":\"\"},\"colorscale\":[[0.0,\"#0d0887\"],[0.1111111111111111,\"#46039f\"],[0.2222222222222222,\"#7201a8\"],[0.3333333333333333,\"#9c179e\"],[0.4444444444444444,\"#bd3786\"],[0.5555555555555556,\"#d8576b\"],[0.6666666666666666,\"#ed7953\"],[0.7777777777777778,\"#fb9f3a\"],[0.8888888888888888,\"#fdca26\"],[1.0,\"#f0f921\"]]}],\"choropleth\":[{\"type\":\"choropleth\",\"colorbar\":{\"outlinewidth\":0,\"ticks\":\"\"}}],\"histogram2d\":[{\"type\":\"histogram2d\",\"colorbar\":{\"outlinewidth\":0,\"ticks\":\"\"},\"colorscale\":[[0.0,\"#0d0887\"],[0.1111111111111111,\"#46039f\"],[0.2222222222222222,\"#7201a8\"],[0.3333333333333333,\"#9c179e\"],[0.4444444444444444,\"#bd3786\"],[0.5555555555555556,\"#d8576b\"],[0.6666666666666666,\"#ed7953\"],[0.7777777777777778,\"#fb9f3a\"],[0.8888888888888888,\"#fdca26\"],[1.0,\"#f0f921\"]]}],\"heatmap\":[{\"type\":\"heatmap\",\"colorbar\":{\"outlinewidth\":0,\"ticks\":\"\"},\"colorscale\":[[0.0,\"#0d0887\"],[0.1111111111111111,\"#46039f\"],[0.2222222222222222,\"#7201a8\"],[0.3333333333333333,\"#9c179e\"],[0.4444444444444444,\"#bd3786\"],[0.5555555555555556,\"#d8576b\"],[0.6666666666666666,\"#ed7953\"],[0.7777777777777778,\"#fb9f3a\"],[0.8888888888888888,\"#fdca26\"],[1.0,\"#f0f921\"]]}],\"heatmapgl\":[{\"type\":\"heatmapgl\",\"colorbar\":{\"outlinewidth\":0,\"ticks\":\"\"},\"colorscale\":[[0.0,\"#0d0887\"],[0.1111111111111111,\"#46039f\"],[0.2222222222222222,\"#7201a8\"],[0.3333333333333333,\"#9c179e\"],[0.4444444444444444,\"#bd3786\"],[0.5555555555555556,\"#d8576b\"],[0.6666666666666666,\"#ed7953\"],[0.7777777777777778,\"#fb9f3a\"],[0.8888888888888888,\"#fdca26\"],[1.0,\"#f0f921\"]]}],\"contourcarpet\":[{\"type\":\"contourcarpet\",\"colorbar\":{\"outlinewidth\":0,\"ticks\":\"\"}}],\"contour\":[{\"type\":\"contour\",\"colorbar\":{\"outlinewidth\":0,\"ticks\":\"\"},\"colorscale\":[[0.0,\"#0d0887\"],[0.1111111111111111,\"#46039f\"],[0.2222222222222222,\"#7201a8\"],[0.3333333333333333,\"#9c179e\"],[0.4444444444444444,\"#bd3786\"],[0.5555555555555556,\"#d8576b\"],[0.6666666666666666,\"#ed7953\"],[0.7777777777777778,\"#fb9f3a\"],[0.8888888888888888,\"#fdca26\"],[1.0,\"#f0f921\"]]}],\"surface\":[{\"type\":\"surface\",\"colorbar\":{\"outlinewidth\":0,\"ticks\":\"\"},\"colorscale\":[[0.0,\"#0d0887\"],[0.1111111111111111,\"#46039f\"],[0.2222222222222222,\"#7201a8\"],[0.3333333333333333,\"#9c179e\"],[0.4444444444444444,\"#bd3786\"],[0.5555555555555556,\"#d8576b\"],[0.6666666666666666,\"#ed7953\"],[0.7777777777777778,\"#fb9f3a\"],[0.8888888888888888,\"#fdca26\"],[1.0,\"#f0f921\"]]}],\"mesh3d\":[{\"type\":\"mesh3d\",\"colorbar\":{\"outlinewidth\":0,\"ticks\":\"\"}}],\"scatter\":[{\"fillpattern\":{\"fillmode\":\"overlay\",\"size\":10,\"solidity\":0.2},\"type\":\"scatter\"}],\"parcoords\":[{\"type\":\"parcoords\",\"line\":{\"colorbar\":{\"outlinewidth\":0,\"ticks\":\"\"}}}],\"scatterpolargl\":[{\"type\":\"scatterpolargl\",\"marker\":{\"colorbar\":{\"outlinewidth\":0,\"ticks\":\"\"}}}],\"bar\":[{\"error_x\":{\"color\":\"#2a3f5f\"},\"error_y\":{\"color\":\"#2a3f5f\"},\"marker\":{\"line\":{\"color\":\"#E5ECF6\",\"width\":0.5},\"pattern\":{\"fillmode\":\"overlay\",\"size\":10,\"solidity\":0.2}},\"type\":\"bar\"}],\"scattergeo\":[{\"type\":\"scattergeo\",\"marker\":{\"colorbar\":{\"outlinewidth\":0,\"ticks\":\"\"}}}],\"scatterpolar\":[{\"type\":\"scatterpolar\",\"marker\":{\"colorbar\":{\"outlinewidth\":0,\"ticks\":\"\"}}}],\"histogram\":[{\"marker\":{\"pattern\":{\"fillmode\":\"overlay\",\"size\":10,\"solidity\":0.2}},\"type\":\"histogram\"}],\"scattergl\":[{\"type\":\"scattergl\",\"marker\":{\"colorbar\":{\"outlinewidth\":0,\"ticks\":\"\"}}}],\"scatter3d\":[{\"type\":\"scatter3d\",\"line\":{\"colorbar\":{\"outlinewidth\":0,\"ticks\":\"\"}},\"marker\":{\"colorbar\":{\"outlinewidth\":0,\"ticks\":\"\"}}}],\"scattermapbox\":[{\"type\":\"scattermapbox\",\"marker\":{\"colorbar\":{\"outlinewidth\":0,\"ticks\":\"\"}}}],\"scatterternary\":[{\"type\":\"scatterternary\",\"marker\":{\"colorbar\":{\"outlinewidth\":0,\"ticks\":\"\"}}}],\"scattercarpet\":[{\"type\":\"scattercarpet\",\"marker\":{\"colorbar\":{\"outlinewidth\":0,\"ticks\":\"\"}}}],\"carpet\":[{\"aaxis\":{\"endlinecolor\":\"#2a3f5f\",\"gridcolor\":\"white\",\"linecolor\":\"white\",\"minorgridcolor\":\"white\",\"startlinecolor\":\"#2a3f5f\"},\"baxis\":{\"endlinecolor\":\"#2a3f5f\",\"gridcolor\":\"white\",\"linecolor\":\"white\",\"minorgridcolor\":\"white\",\"startlinecolor\":\"#2a3f5f\"},\"type\":\"carpet\"}],\"table\":[{\"cells\":{\"fill\":{\"color\":\"#EBF0F8\"},\"line\":{\"color\":\"white\"}},\"header\":{\"fill\":{\"color\":\"#C8D4E3\"},\"line\":{\"color\":\"white\"}},\"type\":\"table\"}],\"barpolar\":[{\"marker\":{\"line\":{\"color\":\"#E5ECF6\",\"width\":0.5},\"pattern\":{\"fillmode\":\"overlay\",\"size\":10,\"solidity\":0.2}},\"type\":\"barpolar\"}],\"pie\":[{\"automargin\":true,\"type\":\"pie\"}]},\"layout\":{\"autotypenumbers\":\"strict\",\"colorway\":[\"#636efa\",\"#EF553B\",\"#00cc96\",\"#ab63fa\",\"#FFA15A\",\"#19d3f3\",\"#FF6692\",\"#B6E880\",\"#FF97FF\",\"#FECB52\"],\"font\":{\"color\":\"#2a3f5f\"},\"hovermode\":\"closest\",\"hoverlabel\":{\"align\":\"left\"},\"paper_bgcolor\":\"white\",\"plot_bgcolor\":\"#E5ECF6\",\"polar\":{\"bgcolor\":\"#E5ECF6\",\"angularaxis\":{\"gridcolor\":\"white\",\"linecolor\":\"white\",\"ticks\":\"\"},\"radialaxis\":{\"gridcolor\":\"white\",\"linecolor\":\"white\",\"ticks\":\"\"}},\"ternary\":{\"bgcolor\":\"#E5ECF6\",\"aaxis\":{\"gridcolor\":\"white\",\"linecolor\":\"white\",\"ticks\":\"\"},\"baxis\":{\"gridcolor\":\"white\",\"linecolor\":\"white\",\"ticks\":\"\"},\"caxis\":{\"gridcolor\":\"white\",\"linecolor\":\"white\",\"ticks\":\"\"}},\"coloraxis\":{\"colorbar\":{\"outlinewidth\":0,\"ticks\":\"\"}},\"colorscale\":{\"sequential\":[[0.0,\"#0d0887\"],[0.1111111111111111,\"#46039f\"],[0.2222222222222222,\"#7201a8\"],[0.3333333333333333,\"#9c179e\"],[0.4444444444444444,\"#bd3786\"],[0.5555555555555556,\"#d8576b\"],[0.6666666666666666,\"#ed7953\"],[0.7777777777777778,\"#fb9f3a\"],[0.8888888888888888,\"#fdca26\"],[1.0,\"#f0f921\"]],\"sequentialminus\":[[0.0,\"#0d0887\"],[0.1111111111111111,\"#46039f\"],[0.2222222222222222,\"#7201a8\"],[0.3333333333333333,\"#9c179e\"],[0.4444444444444444,\"#bd3786\"],[0.5555555555555556,\"#d8576b\"],[0.6666666666666666,\"#ed7953\"],[0.7777777777777778,\"#fb9f3a\"],[0.8888888888888888,\"#fdca26\"],[1.0,\"#f0f921\"]],\"diverging\":[[0,\"#8e0152\"],[0.1,\"#c51b7d\"],[0.2,\"#de77ae\"],[0.3,\"#f1b6da\"],[0.4,\"#fde0ef\"],[0.5,\"#f7f7f7\"],[0.6,\"#e6f5d0\"],[0.7,\"#b8e186\"],[0.8,\"#7fbc41\"],[0.9,\"#4d9221\"],[1,\"#276419\"]]},\"xaxis\":{\"gridcolor\":\"white\",\"linecolor\":\"white\",\"ticks\":\"\",\"title\":{\"standoff\":15},\"zerolinecolor\":\"white\",\"automargin\":true,\"zerolinewidth\":2},\"yaxis\":{\"gridcolor\":\"white\",\"linecolor\":\"white\",\"ticks\":\"\",\"title\":{\"standoff\":15},\"zerolinecolor\":\"white\",\"automargin\":true,\"zerolinewidth\":2},\"scene\":{\"xaxis\":{\"backgroundcolor\":\"#E5ECF6\",\"gridcolor\":\"white\",\"linecolor\":\"white\",\"showbackground\":true,\"ticks\":\"\",\"zerolinecolor\":\"white\",\"gridwidth\":2},\"yaxis\":{\"backgroundcolor\":\"#E5ECF6\",\"gridcolor\":\"white\",\"linecolor\":\"white\",\"showbackground\":true,\"ticks\":\"\",\"zerolinecolor\":\"white\",\"gridwidth\":2},\"zaxis\":{\"backgroundcolor\":\"#E5ECF6\",\"gridcolor\":\"white\",\"linecolor\":\"white\",\"showbackground\":true,\"ticks\":\"\",\"zerolinecolor\":\"white\",\"gridwidth\":2}},\"shapedefaults\":{\"line\":{\"color\":\"#2a3f5f\"}},\"annotationdefaults\":{\"arrowcolor\":\"#2a3f5f\",\"arrowhead\":0,\"arrowwidth\":1},\"geo\":{\"bgcolor\":\"white\",\"landcolor\":\"#E5ECF6\",\"subunitcolor\":\"white\",\"showland\":true,\"showlakes\":true,\"lakecolor\":\"white\"},\"title\":{\"x\":0.05},\"mapbox\":{\"style\":\"light\"}}},\"xaxis\":{\"anchor\":\"y\",\"domain\":[0.0,1.0],\"title\":{\"text\":\"state\"}},\"yaxis\":{\"anchor\":\"x\",\"domain\":[0.0,1.0],\"title\":{\"text\":\"count\"}},\"legend\":{\"title\":{\"text\":\"parsed\"},\"tracegroupgap\":0},\"margin\":{\"t\":60},\"barmode\":\"group\"},                        {\"responsive\": true}                    ).then(function(){\n",
       "                            \n",
       "var gd = document.getElementById('c5d2a985-a8c4-4f31-b1e7-d5c9a6d874e4');\n",
       "var x = new MutationObserver(function (mutations, observer) {{\n",
       "        var display = window.getComputedStyle(gd).display;\n",
       "        if (!display || display === 'none') {{\n",
       "            console.log([gd, 'removed!']);\n",
       "            Plotly.purge(gd);\n",
       "            observer.disconnect();\n",
       "        }}\n",
       "}});\n",
       "\n",
       "// Listen for the removal of the full notebook cells\n",
       "var notebookContainer = gd.closest('#notebook-container');\n",
       "if (notebookContainer) {{\n",
       "    x.observe(notebookContainer, {childList: true});\n",
       "}}\n",
       "\n",
       "// Listen for the clearing of the current output cell\n",
       "var outputEl = gd.closest('.output');\n",
       "if (outputEl) {{\n",
       "    x.observe(outputEl, {childList: true});\n",
       "}}\n",
       "\n",
       "                        })                };                });            </script>        </div>"
      ]
     },
     "metadata": {},
     "output_type": "display_data"
    }
   ],
   "source": [
    "subset = subset[(subset['native_language'] == 'english') & (subset['country'] == 'usa')]\n",
    "\n",
    "df_exploded = subset.explode('parsed')\n",
    "result = df_exploded.groupby(['state', 'parsed']).size().reset_index(name='count')\n",
    "\n",
    "result = result[result['count'] > 1]\n",
    "\n",
    "\n",
    "# Create a grouped bar plot\n",
    "fig = px.bar(\n",
    "    result,\n",
    "    x='state',\n",
    "    y='count',\n",
    "    color='parsed',    # Different colors for each group\n",
    "    barmode='group',  # Place bars side-by-side rather than stacking them\n",
    ")\n",
    "fig.show()\n"
   ]
  },
  {
   "cell_type": "code",
   "execution_count": null,
   "metadata": {},
   "outputs": [
    {
     "data": {
      "application/vnd.plotly.v1+json": {
       "config": {
        "plotlyServerURL": "https://plot.ly"
       },
       "data": [
        {
         "alignmentgroup": "True",
         "hovertemplate": "sex=female<br>parsed=%{x}<br>Percentage=%{y}<extra></extra>",
         "legendgroup": "female",
         "marker": {
          "color": "#636efa",
          "pattern": {
           "shape": ""
          }
         },
         "name": "female",
         "offsetgroup": "female",
         "orientation": "v",
         "showlegend": true,
         "textposition": "auto",
         "type": "bar",
         "x": [
          "assistant",
          "carpenter",
          "cashier",
          "clerk",
          "cook",
          "driver",
          "farmer",
          "manager",
          "mechanic",
          "receptionist",
          "salesperson",
          "secretary",
          "writer"
         ],
         "xaxis": "x",
         "y": [
          6.0606060606060606,
          2.4242424242424243,
          34.54545454545455,
          12.727272727272727,
          1.2121212121212122,
          3.6363636363636362,
          1.2121212121212122,
          4.242424242424243,
          1.2121212121212122,
          1.2121212121212122,
          18.787878787878785,
          6.666666666666667,
          3.6363636363636362
         ],
         "yaxis": "y"
        },
        {
         "alignmentgroup": "True",
         "hovertemplate": "sex=male<br>parsed=%{x}<br>Percentage=%{y}<extra></extra>",
         "legendgroup": "male",
         "marker": {
          "color": "#EF553B",
          "pattern": {
           "shape": ""
          }
         },
         "name": "male",
         "offsetgroup": "male",
         "orientation": "v",
         "showlegend": true,
         "textposition": "auto",
         "type": "bar",
         "x": [
          "assistant",
          "carpenter",
          "cashier",
          "clerk",
          "driver",
          "farmer",
          "manager",
          "mechanic",
          "salesperson",
          "secretary",
          "supervisor",
          "writer"
         ],
         "xaxis": "x",
         "y": [
          4.635761589403973,
          1.3245033112582782,
          28.47682119205298,
          13.245033112582782,
          9.933774834437086,
          3.3112582781456954,
          8.609271523178808,
          4.635761589403973,
          17.218543046357617,
          1.9867549668874174,
          2.6490066225165565,
          2.6490066225165565
         ],
         "yaxis": "y"
        }
       ],
       "layout": {
        "barmode": "group",
        "legend": {
         "title": {
          "text": "sex"
         },
         "tracegroupgap": 0
        },
        "margin": {
         "t": 60
        },
        "template": {
         "data": {
          "bar": [
           {
            "error_x": {
             "color": "#2a3f5f"
            },
            "error_y": {
             "color": "#2a3f5f"
            },
            "marker": {
             "line": {
              "color": "#E5ECF6",
              "width": 0.5
             },
             "pattern": {
              "fillmode": "overlay",
              "size": 10,
              "solidity": 0.2
             }
            },
            "type": "bar"
           }
          ],
          "barpolar": [
           {
            "marker": {
             "line": {
              "color": "#E5ECF6",
              "width": 0.5
             },
             "pattern": {
              "fillmode": "overlay",
              "size": 10,
              "solidity": 0.2
             }
            },
            "type": "barpolar"
           }
          ],
          "carpet": [
           {
            "aaxis": {
             "endlinecolor": "#2a3f5f",
             "gridcolor": "white",
             "linecolor": "white",
             "minorgridcolor": "white",
             "startlinecolor": "#2a3f5f"
            },
            "baxis": {
             "endlinecolor": "#2a3f5f",
             "gridcolor": "white",
             "linecolor": "white",
             "minorgridcolor": "white",
             "startlinecolor": "#2a3f5f"
            },
            "type": "carpet"
           }
          ],
          "choropleth": [
           {
            "colorbar": {
             "outlinewidth": 0,
             "ticks": ""
            },
            "type": "choropleth"
           }
          ],
          "contour": [
           {
            "colorbar": {
             "outlinewidth": 0,
             "ticks": ""
            },
            "colorscale": [
             [
              0,
              "#0d0887"
             ],
             [
              0.1111111111111111,
              "#46039f"
             ],
             [
              0.2222222222222222,
              "#7201a8"
             ],
             [
              0.3333333333333333,
              "#9c179e"
             ],
             [
              0.4444444444444444,
              "#bd3786"
             ],
             [
              0.5555555555555556,
              "#d8576b"
             ],
             [
              0.6666666666666666,
              "#ed7953"
             ],
             [
              0.7777777777777778,
              "#fb9f3a"
             ],
             [
              0.8888888888888888,
              "#fdca26"
             ],
             [
              1,
              "#f0f921"
             ]
            ],
            "type": "contour"
           }
          ],
          "contourcarpet": [
           {
            "colorbar": {
             "outlinewidth": 0,
             "ticks": ""
            },
            "type": "contourcarpet"
           }
          ],
          "heatmap": [
           {
            "colorbar": {
             "outlinewidth": 0,
             "ticks": ""
            },
            "colorscale": [
             [
              0,
              "#0d0887"
             ],
             [
              0.1111111111111111,
              "#46039f"
             ],
             [
              0.2222222222222222,
              "#7201a8"
             ],
             [
              0.3333333333333333,
              "#9c179e"
             ],
             [
              0.4444444444444444,
              "#bd3786"
             ],
             [
              0.5555555555555556,
              "#d8576b"
             ],
             [
              0.6666666666666666,
              "#ed7953"
             ],
             [
              0.7777777777777778,
              "#fb9f3a"
             ],
             [
              0.8888888888888888,
              "#fdca26"
             ],
             [
              1,
              "#f0f921"
             ]
            ],
            "type": "heatmap"
           }
          ],
          "heatmapgl": [
           {
            "colorbar": {
             "outlinewidth": 0,
             "ticks": ""
            },
            "colorscale": [
             [
              0,
              "#0d0887"
             ],
             [
              0.1111111111111111,
              "#46039f"
             ],
             [
              0.2222222222222222,
              "#7201a8"
             ],
             [
              0.3333333333333333,
              "#9c179e"
             ],
             [
              0.4444444444444444,
              "#bd3786"
             ],
             [
              0.5555555555555556,
              "#d8576b"
             ],
             [
              0.6666666666666666,
              "#ed7953"
             ],
             [
              0.7777777777777778,
              "#fb9f3a"
             ],
             [
              0.8888888888888888,
              "#fdca26"
             ],
             [
              1,
              "#f0f921"
             ]
            ],
            "type": "heatmapgl"
           }
          ],
          "histogram": [
           {
            "marker": {
             "pattern": {
              "fillmode": "overlay",
              "size": 10,
              "solidity": 0.2
             }
            },
            "type": "histogram"
           }
          ],
          "histogram2d": [
           {
            "colorbar": {
             "outlinewidth": 0,
             "ticks": ""
            },
            "colorscale": [
             [
              0,
              "#0d0887"
             ],
             [
              0.1111111111111111,
              "#46039f"
             ],
             [
              0.2222222222222222,
              "#7201a8"
             ],
             [
              0.3333333333333333,
              "#9c179e"
             ],
             [
              0.4444444444444444,
              "#bd3786"
             ],
             [
              0.5555555555555556,
              "#d8576b"
             ],
             [
              0.6666666666666666,
              "#ed7953"
             ],
             [
              0.7777777777777778,
              "#fb9f3a"
             ],
             [
              0.8888888888888888,
              "#fdca26"
             ],
             [
              1,
              "#f0f921"
             ]
            ],
            "type": "histogram2d"
           }
          ],
          "histogram2dcontour": [
           {
            "colorbar": {
             "outlinewidth": 0,
             "ticks": ""
            },
            "colorscale": [
             [
              0,
              "#0d0887"
             ],
             [
              0.1111111111111111,
              "#46039f"
             ],
             [
              0.2222222222222222,
              "#7201a8"
             ],
             [
              0.3333333333333333,
              "#9c179e"
             ],
             [
              0.4444444444444444,
              "#bd3786"
             ],
             [
              0.5555555555555556,
              "#d8576b"
             ],
             [
              0.6666666666666666,
              "#ed7953"
             ],
             [
              0.7777777777777778,
              "#fb9f3a"
             ],
             [
              0.8888888888888888,
              "#fdca26"
             ],
             [
              1,
              "#f0f921"
             ]
            ],
            "type": "histogram2dcontour"
           }
          ],
          "mesh3d": [
           {
            "colorbar": {
             "outlinewidth": 0,
             "ticks": ""
            },
            "type": "mesh3d"
           }
          ],
          "parcoords": [
           {
            "line": {
             "colorbar": {
              "outlinewidth": 0,
              "ticks": ""
             }
            },
            "type": "parcoords"
           }
          ],
          "pie": [
           {
            "automargin": true,
            "type": "pie"
           }
          ],
          "scatter": [
           {
            "fillpattern": {
             "fillmode": "overlay",
             "size": 10,
             "solidity": 0.2
            },
            "type": "scatter"
           }
          ],
          "scatter3d": [
           {
            "line": {
             "colorbar": {
              "outlinewidth": 0,
              "ticks": ""
             }
            },
            "marker": {
             "colorbar": {
              "outlinewidth": 0,
              "ticks": ""
             }
            },
            "type": "scatter3d"
           }
          ],
          "scattercarpet": [
           {
            "marker": {
             "colorbar": {
              "outlinewidth": 0,
              "ticks": ""
             }
            },
            "type": "scattercarpet"
           }
          ],
          "scattergeo": [
           {
            "marker": {
             "colorbar": {
              "outlinewidth": 0,
              "ticks": ""
             }
            },
            "type": "scattergeo"
           }
          ],
          "scattergl": [
           {
            "marker": {
             "colorbar": {
              "outlinewidth": 0,
              "ticks": ""
             }
            },
            "type": "scattergl"
           }
          ],
          "scattermapbox": [
           {
            "marker": {
             "colorbar": {
              "outlinewidth": 0,
              "ticks": ""
             }
            },
            "type": "scattermapbox"
           }
          ],
          "scatterpolar": [
           {
            "marker": {
             "colorbar": {
              "outlinewidth": 0,
              "ticks": ""
             }
            },
            "type": "scatterpolar"
           }
          ],
          "scatterpolargl": [
           {
            "marker": {
             "colorbar": {
              "outlinewidth": 0,
              "ticks": ""
             }
            },
            "type": "scatterpolargl"
           }
          ],
          "scatterternary": [
           {
            "marker": {
             "colorbar": {
              "outlinewidth": 0,
              "ticks": ""
             }
            },
            "type": "scatterternary"
           }
          ],
          "surface": [
           {
            "colorbar": {
             "outlinewidth": 0,
             "ticks": ""
            },
            "colorscale": [
             [
              0,
              "#0d0887"
             ],
             [
              0.1111111111111111,
              "#46039f"
             ],
             [
              0.2222222222222222,
              "#7201a8"
             ],
             [
              0.3333333333333333,
              "#9c179e"
             ],
             [
              0.4444444444444444,
              "#bd3786"
             ],
             [
              0.5555555555555556,
              "#d8576b"
             ],
             [
              0.6666666666666666,
              "#ed7953"
             ],
             [
              0.7777777777777778,
              "#fb9f3a"
             ],
             [
              0.8888888888888888,
              "#fdca26"
             ],
             [
              1,
              "#f0f921"
             ]
            ],
            "type": "surface"
           }
          ],
          "table": [
           {
            "cells": {
             "fill": {
              "color": "#EBF0F8"
             },
             "line": {
              "color": "white"
             }
            },
            "header": {
             "fill": {
              "color": "#C8D4E3"
             },
             "line": {
              "color": "white"
             }
            },
            "type": "table"
           }
          ]
         },
         "layout": {
          "annotationdefaults": {
           "arrowcolor": "#2a3f5f",
           "arrowhead": 0,
           "arrowwidth": 1
          },
          "autotypenumbers": "strict",
          "coloraxis": {
           "colorbar": {
            "outlinewidth": 0,
            "ticks": ""
           }
          },
          "colorscale": {
           "diverging": [
            [
             0,
             "#8e0152"
            ],
            [
             0.1,
             "#c51b7d"
            ],
            [
             0.2,
             "#de77ae"
            ],
            [
             0.3,
             "#f1b6da"
            ],
            [
             0.4,
             "#fde0ef"
            ],
            [
             0.5,
             "#f7f7f7"
            ],
            [
             0.6,
             "#e6f5d0"
            ],
            [
             0.7,
             "#b8e186"
            ],
            [
             0.8,
             "#7fbc41"
            ],
            [
             0.9,
             "#4d9221"
            ],
            [
             1,
             "#276419"
            ]
           ],
           "sequential": [
            [
             0,
             "#0d0887"
            ],
            [
             0.1111111111111111,
             "#46039f"
            ],
            [
             0.2222222222222222,
             "#7201a8"
            ],
            [
             0.3333333333333333,
             "#9c179e"
            ],
            [
             0.4444444444444444,
             "#bd3786"
            ],
            [
             0.5555555555555556,
             "#d8576b"
            ],
            [
             0.6666666666666666,
             "#ed7953"
            ],
            [
             0.7777777777777778,
             "#fb9f3a"
            ],
            [
             0.8888888888888888,
             "#fdca26"
            ],
            [
             1,
             "#f0f921"
            ]
           ],
           "sequentialminus": [
            [
             0,
             "#0d0887"
            ],
            [
             0.1111111111111111,
             "#46039f"
            ],
            [
             0.2222222222222222,
             "#7201a8"
            ],
            [
             0.3333333333333333,
             "#9c179e"
            ],
            [
             0.4444444444444444,
             "#bd3786"
            ],
            [
             0.5555555555555556,
             "#d8576b"
            ],
            [
             0.6666666666666666,
             "#ed7953"
            ],
            [
             0.7777777777777778,
             "#fb9f3a"
            ],
            [
             0.8888888888888888,
             "#fdca26"
            ],
            [
             1,
             "#f0f921"
            ]
           ]
          },
          "colorway": [
           "#636efa",
           "#EF553B",
           "#00cc96",
           "#ab63fa",
           "#FFA15A",
           "#19d3f3",
           "#FF6692",
           "#B6E880",
           "#FF97FF",
           "#FECB52"
          ],
          "font": {
           "color": "#2a3f5f"
          },
          "geo": {
           "bgcolor": "white",
           "lakecolor": "white",
           "landcolor": "#E5ECF6",
           "showlakes": true,
           "showland": true,
           "subunitcolor": "white"
          },
          "hoverlabel": {
           "align": "left"
          },
          "hovermode": "closest",
          "mapbox": {
           "style": "light"
          },
          "paper_bgcolor": "white",
          "plot_bgcolor": "#E5ECF6",
          "polar": {
           "angularaxis": {
            "gridcolor": "white",
            "linecolor": "white",
            "ticks": ""
           },
           "bgcolor": "#E5ECF6",
           "radialaxis": {
            "gridcolor": "white",
            "linecolor": "white",
            "ticks": ""
           }
          },
          "scene": {
           "xaxis": {
            "backgroundcolor": "#E5ECF6",
            "gridcolor": "white",
            "gridwidth": 2,
            "linecolor": "white",
            "showbackground": true,
            "ticks": "",
            "zerolinecolor": "white"
           },
           "yaxis": {
            "backgroundcolor": "#E5ECF6",
            "gridcolor": "white",
            "gridwidth": 2,
            "linecolor": "white",
            "showbackground": true,
            "ticks": "",
            "zerolinecolor": "white"
           },
           "zaxis": {
            "backgroundcolor": "#E5ECF6",
            "gridcolor": "white",
            "gridwidth": 2,
            "linecolor": "white",
            "showbackground": true,
            "ticks": "",
            "zerolinecolor": "white"
           }
          },
          "shapedefaults": {
           "line": {
            "color": "#2a3f5f"
           }
          },
          "ternary": {
           "aaxis": {
            "gridcolor": "white",
            "linecolor": "white",
            "ticks": ""
           },
           "baxis": {
            "gridcolor": "white",
            "linecolor": "white",
            "ticks": ""
           },
           "bgcolor": "#E5ECF6",
           "caxis": {
            "gridcolor": "white",
            "linecolor": "white",
            "ticks": ""
           }
          },
          "title": {
           "x": 0.05
          },
          "xaxis": {
           "automargin": true,
           "gridcolor": "white",
           "linecolor": "white",
           "ticks": "",
           "title": {
            "standoff": 15
           },
           "zerolinecolor": "white",
           "zerolinewidth": 2
          },
          "yaxis": {
           "automargin": true,
           "gridcolor": "white",
           "linecolor": "white",
           "ticks": "",
           "title": {
            "standoff": 15
           },
           "zerolinecolor": "white",
           "zerolinewidth": 2
          }
         }
        },
        "xaxis": {
         "anchor": "y",
         "domain": [
          0,
          1
         ],
         "title": {
          "text": "parsed"
         }
        },
        "yaxis": {
         "anchor": "x",
         "domain": [
          0,
          1
         ],
         "title": {
          "text": "Percentage"
         }
        }
       }
      },
      "text/html": [
       "<div>                            <div id=\"68c73813-7ac5-4df5-9117-032059c3e0ca\" class=\"plotly-graph-div\" style=\"height:525px; width:100%;\"></div>            <script type=\"text/javascript\">                require([\"plotly\"], function(Plotly) {                    window.PLOTLYENV=window.PLOTLYENV || {};                                    if (document.getElementById(\"68c73813-7ac5-4df5-9117-032059c3e0ca\")) {                    Plotly.newPlot(                        \"68c73813-7ac5-4df5-9117-032059c3e0ca\",                        [{\"alignmentgroup\":\"True\",\"hovertemplate\":\"sex=female\\u003cbr\\u003eparsed=%{x}\\u003cbr\\u003ePercentage=%{y}\\u003cextra\\u003e\\u003c\\u002fextra\\u003e\",\"legendgroup\":\"female\",\"marker\":{\"color\":\"#636efa\",\"pattern\":{\"shape\":\"\"}},\"name\":\"female\",\"offsetgroup\":\"female\",\"orientation\":\"v\",\"showlegend\":true,\"textposition\":\"auto\",\"x\":[\"assistant\",\"carpenter\",\"cashier\",\"clerk\",\"cook\",\"driver\",\"farmer\",\"manager\",\"mechanic\",\"receptionist\",\"salesperson\",\"secretary\",\"writer\"],\"xaxis\":\"x\",\"y\":[6.0606060606060606,2.4242424242424243,34.54545454545455,12.727272727272727,1.2121212121212122,3.6363636363636362,1.2121212121212122,4.242424242424243,1.2121212121212122,1.2121212121212122,18.787878787878785,6.666666666666667,3.6363636363636362],\"yaxis\":\"y\",\"type\":\"bar\"},{\"alignmentgroup\":\"True\",\"hovertemplate\":\"sex=male\\u003cbr\\u003eparsed=%{x}\\u003cbr\\u003ePercentage=%{y}\\u003cextra\\u003e\\u003c\\u002fextra\\u003e\",\"legendgroup\":\"male\",\"marker\":{\"color\":\"#EF553B\",\"pattern\":{\"shape\":\"\"}},\"name\":\"male\",\"offsetgroup\":\"male\",\"orientation\":\"v\",\"showlegend\":true,\"textposition\":\"auto\",\"x\":[\"assistant\",\"carpenter\",\"cashier\",\"clerk\",\"driver\",\"farmer\",\"manager\",\"mechanic\",\"salesperson\",\"secretary\",\"supervisor\",\"writer\"],\"xaxis\":\"x\",\"y\":[4.635761589403973,1.3245033112582782,28.47682119205298,13.245033112582782,9.933774834437086,3.3112582781456954,8.609271523178808,4.635761589403973,17.218543046357617,1.9867549668874174,2.6490066225165565,2.6490066225165565],\"yaxis\":\"y\",\"type\":\"bar\"}],                        {\"template\":{\"data\":{\"histogram2dcontour\":[{\"type\":\"histogram2dcontour\",\"colorbar\":{\"outlinewidth\":0,\"ticks\":\"\"},\"colorscale\":[[0.0,\"#0d0887\"],[0.1111111111111111,\"#46039f\"],[0.2222222222222222,\"#7201a8\"],[0.3333333333333333,\"#9c179e\"],[0.4444444444444444,\"#bd3786\"],[0.5555555555555556,\"#d8576b\"],[0.6666666666666666,\"#ed7953\"],[0.7777777777777778,\"#fb9f3a\"],[0.8888888888888888,\"#fdca26\"],[1.0,\"#f0f921\"]]}],\"choropleth\":[{\"type\":\"choropleth\",\"colorbar\":{\"outlinewidth\":0,\"ticks\":\"\"}}],\"histogram2d\":[{\"type\":\"histogram2d\",\"colorbar\":{\"outlinewidth\":0,\"ticks\":\"\"},\"colorscale\":[[0.0,\"#0d0887\"],[0.1111111111111111,\"#46039f\"],[0.2222222222222222,\"#7201a8\"],[0.3333333333333333,\"#9c179e\"],[0.4444444444444444,\"#bd3786\"],[0.5555555555555556,\"#d8576b\"],[0.6666666666666666,\"#ed7953\"],[0.7777777777777778,\"#fb9f3a\"],[0.8888888888888888,\"#fdca26\"],[1.0,\"#f0f921\"]]}],\"heatmap\":[{\"type\":\"heatmap\",\"colorbar\":{\"outlinewidth\":0,\"ticks\":\"\"},\"colorscale\":[[0.0,\"#0d0887\"],[0.1111111111111111,\"#46039f\"],[0.2222222222222222,\"#7201a8\"],[0.3333333333333333,\"#9c179e\"],[0.4444444444444444,\"#bd3786\"],[0.5555555555555556,\"#d8576b\"],[0.6666666666666666,\"#ed7953\"],[0.7777777777777778,\"#fb9f3a\"],[0.8888888888888888,\"#fdca26\"],[1.0,\"#f0f921\"]]}],\"heatmapgl\":[{\"type\":\"heatmapgl\",\"colorbar\":{\"outlinewidth\":0,\"ticks\":\"\"},\"colorscale\":[[0.0,\"#0d0887\"],[0.1111111111111111,\"#46039f\"],[0.2222222222222222,\"#7201a8\"],[0.3333333333333333,\"#9c179e\"],[0.4444444444444444,\"#bd3786\"],[0.5555555555555556,\"#d8576b\"],[0.6666666666666666,\"#ed7953\"],[0.7777777777777778,\"#fb9f3a\"],[0.8888888888888888,\"#fdca26\"],[1.0,\"#f0f921\"]]}],\"contourcarpet\":[{\"type\":\"contourcarpet\",\"colorbar\":{\"outlinewidth\":0,\"ticks\":\"\"}}],\"contour\":[{\"type\":\"contour\",\"colorbar\":{\"outlinewidth\":0,\"ticks\":\"\"},\"colorscale\":[[0.0,\"#0d0887\"],[0.1111111111111111,\"#46039f\"],[0.2222222222222222,\"#7201a8\"],[0.3333333333333333,\"#9c179e\"],[0.4444444444444444,\"#bd3786\"],[0.5555555555555556,\"#d8576b\"],[0.6666666666666666,\"#ed7953\"],[0.7777777777777778,\"#fb9f3a\"],[0.8888888888888888,\"#fdca26\"],[1.0,\"#f0f921\"]]}],\"surface\":[{\"type\":\"surface\",\"colorbar\":{\"outlinewidth\":0,\"ticks\":\"\"},\"colorscale\":[[0.0,\"#0d0887\"],[0.1111111111111111,\"#46039f\"],[0.2222222222222222,\"#7201a8\"],[0.3333333333333333,\"#9c179e\"],[0.4444444444444444,\"#bd3786\"],[0.5555555555555556,\"#d8576b\"],[0.6666666666666666,\"#ed7953\"],[0.7777777777777778,\"#fb9f3a\"],[0.8888888888888888,\"#fdca26\"],[1.0,\"#f0f921\"]]}],\"mesh3d\":[{\"type\":\"mesh3d\",\"colorbar\":{\"outlinewidth\":0,\"ticks\":\"\"}}],\"scatter\":[{\"fillpattern\":{\"fillmode\":\"overlay\",\"size\":10,\"solidity\":0.2},\"type\":\"scatter\"}],\"parcoords\":[{\"type\":\"parcoords\",\"line\":{\"colorbar\":{\"outlinewidth\":0,\"ticks\":\"\"}}}],\"scatterpolargl\":[{\"type\":\"scatterpolargl\",\"marker\":{\"colorbar\":{\"outlinewidth\":0,\"ticks\":\"\"}}}],\"bar\":[{\"error_x\":{\"color\":\"#2a3f5f\"},\"error_y\":{\"color\":\"#2a3f5f\"},\"marker\":{\"line\":{\"color\":\"#E5ECF6\",\"width\":0.5},\"pattern\":{\"fillmode\":\"overlay\",\"size\":10,\"solidity\":0.2}},\"type\":\"bar\"}],\"scattergeo\":[{\"type\":\"scattergeo\",\"marker\":{\"colorbar\":{\"outlinewidth\":0,\"ticks\":\"\"}}}],\"scatterpolar\":[{\"type\":\"scatterpolar\",\"marker\":{\"colorbar\":{\"outlinewidth\":0,\"ticks\":\"\"}}}],\"histogram\":[{\"marker\":{\"pattern\":{\"fillmode\":\"overlay\",\"size\":10,\"solidity\":0.2}},\"type\":\"histogram\"}],\"scattergl\":[{\"type\":\"scattergl\",\"marker\":{\"colorbar\":{\"outlinewidth\":0,\"ticks\":\"\"}}}],\"scatter3d\":[{\"type\":\"scatter3d\",\"line\":{\"colorbar\":{\"outlinewidth\":0,\"ticks\":\"\"}},\"marker\":{\"colorbar\":{\"outlinewidth\":0,\"ticks\":\"\"}}}],\"scattermapbox\":[{\"type\":\"scattermapbox\",\"marker\":{\"colorbar\":{\"outlinewidth\":0,\"ticks\":\"\"}}}],\"scatterternary\":[{\"type\":\"scatterternary\",\"marker\":{\"colorbar\":{\"outlinewidth\":0,\"ticks\":\"\"}}}],\"scattercarpet\":[{\"type\":\"scattercarpet\",\"marker\":{\"colorbar\":{\"outlinewidth\":0,\"ticks\":\"\"}}}],\"carpet\":[{\"aaxis\":{\"endlinecolor\":\"#2a3f5f\",\"gridcolor\":\"white\",\"linecolor\":\"white\",\"minorgridcolor\":\"white\",\"startlinecolor\":\"#2a3f5f\"},\"baxis\":{\"endlinecolor\":\"#2a3f5f\",\"gridcolor\":\"white\",\"linecolor\":\"white\",\"minorgridcolor\":\"white\",\"startlinecolor\":\"#2a3f5f\"},\"type\":\"carpet\"}],\"table\":[{\"cells\":{\"fill\":{\"color\":\"#EBF0F8\"},\"line\":{\"color\":\"white\"}},\"header\":{\"fill\":{\"color\":\"#C8D4E3\"},\"line\":{\"color\":\"white\"}},\"type\":\"table\"}],\"barpolar\":[{\"marker\":{\"line\":{\"color\":\"#E5ECF6\",\"width\":0.5},\"pattern\":{\"fillmode\":\"overlay\",\"size\":10,\"solidity\":0.2}},\"type\":\"barpolar\"}],\"pie\":[{\"automargin\":true,\"type\":\"pie\"}]},\"layout\":{\"autotypenumbers\":\"strict\",\"colorway\":[\"#636efa\",\"#EF553B\",\"#00cc96\",\"#ab63fa\",\"#FFA15A\",\"#19d3f3\",\"#FF6692\",\"#B6E880\",\"#FF97FF\",\"#FECB52\"],\"font\":{\"color\":\"#2a3f5f\"},\"hovermode\":\"closest\",\"hoverlabel\":{\"align\":\"left\"},\"paper_bgcolor\":\"white\",\"plot_bgcolor\":\"#E5ECF6\",\"polar\":{\"bgcolor\":\"#E5ECF6\",\"angularaxis\":{\"gridcolor\":\"white\",\"linecolor\":\"white\",\"ticks\":\"\"},\"radialaxis\":{\"gridcolor\":\"white\",\"linecolor\":\"white\",\"ticks\":\"\"}},\"ternary\":{\"bgcolor\":\"#E5ECF6\",\"aaxis\":{\"gridcolor\":\"white\",\"linecolor\":\"white\",\"ticks\":\"\"},\"baxis\":{\"gridcolor\":\"white\",\"linecolor\":\"white\",\"ticks\":\"\"},\"caxis\":{\"gridcolor\":\"white\",\"linecolor\":\"white\",\"ticks\":\"\"}},\"coloraxis\":{\"colorbar\":{\"outlinewidth\":0,\"ticks\":\"\"}},\"colorscale\":{\"sequential\":[[0.0,\"#0d0887\"],[0.1111111111111111,\"#46039f\"],[0.2222222222222222,\"#7201a8\"],[0.3333333333333333,\"#9c179e\"],[0.4444444444444444,\"#bd3786\"],[0.5555555555555556,\"#d8576b\"],[0.6666666666666666,\"#ed7953\"],[0.7777777777777778,\"#fb9f3a\"],[0.8888888888888888,\"#fdca26\"],[1.0,\"#f0f921\"]],\"sequentialminus\":[[0.0,\"#0d0887\"],[0.1111111111111111,\"#46039f\"],[0.2222222222222222,\"#7201a8\"],[0.3333333333333333,\"#9c179e\"],[0.4444444444444444,\"#bd3786\"],[0.5555555555555556,\"#d8576b\"],[0.6666666666666666,\"#ed7953\"],[0.7777777777777778,\"#fb9f3a\"],[0.8888888888888888,\"#fdca26\"],[1.0,\"#f0f921\"]],\"diverging\":[[0,\"#8e0152\"],[0.1,\"#c51b7d\"],[0.2,\"#de77ae\"],[0.3,\"#f1b6da\"],[0.4,\"#fde0ef\"],[0.5,\"#f7f7f7\"],[0.6,\"#e6f5d0\"],[0.7,\"#b8e186\"],[0.8,\"#7fbc41\"],[0.9,\"#4d9221\"],[1,\"#276419\"]]},\"xaxis\":{\"gridcolor\":\"white\",\"linecolor\":\"white\",\"ticks\":\"\",\"title\":{\"standoff\":15},\"zerolinecolor\":\"white\",\"automargin\":true,\"zerolinewidth\":2},\"yaxis\":{\"gridcolor\":\"white\",\"linecolor\":\"white\",\"ticks\":\"\",\"title\":{\"standoff\":15},\"zerolinecolor\":\"white\",\"automargin\":true,\"zerolinewidth\":2},\"scene\":{\"xaxis\":{\"backgroundcolor\":\"#E5ECF6\",\"gridcolor\":\"white\",\"linecolor\":\"white\",\"showbackground\":true,\"ticks\":\"\",\"zerolinecolor\":\"white\",\"gridwidth\":2},\"yaxis\":{\"backgroundcolor\":\"#E5ECF6\",\"gridcolor\":\"white\",\"linecolor\":\"white\",\"showbackground\":true,\"ticks\":\"\",\"zerolinecolor\":\"white\",\"gridwidth\":2},\"zaxis\":{\"backgroundcolor\":\"#E5ECF6\",\"gridcolor\":\"white\",\"linecolor\":\"white\",\"showbackground\":true,\"ticks\":\"\",\"zerolinecolor\":\"white\",\"gridwidth\":2}},\"shapedefaults\":{\"line\":{\"color\":\"#2a3f5f\"}},\"annotationdefaults\":{\"arrowcolor\":\"#2a3f5f\",\"arrowhead\":0,\"arrowwidth\":1},\"geo\":{\"bgcolor\":\"white\",\"landcolor\":\"#E5ECF6\",\"subunitcolor\":\"white\",\"showland\":true,\"showlakes\":true,\"lakecolor\":\"white\"},\"title\":{\"x\":0.05},\"mapbox\":{\"style\":\"light\"}}},\"xaxis\":{\"anchor\":\"y\",\"domain\":[0.0,1.0],\"title\":{\"text\":\"parsed\"}},\"yaxis\":{\"anchor\":\"x\",\"domain\":[0.0,1.0],\"title\":{\"text\":\"Percentage\"}},\"legend\":{\"title\":{\"text\":\"sex\"},\"tracegroupgap\":0},\"margin\":{\"t\":60},\"barmode\":\"group\"},                        {\"responsive\": true}                    ).then(function(){\n",
       "                            \n",
       "var gd = document.getElementById('68c73813-7ac5-4df5-9117-032059c3e0ca');\n",
       "var x = new MutationObserver(function (mutations, observer) {{\n",
       "        var display = window.getComputedStyle(gd).display;\n",
       "        if (!display || display === 'none') {{\n",
       "            console.log([gd, 'removed!']);\n",
       "            Plotly.purge(gd);\n",
       "            observer.disconnect();\n",
       "        }}\n",
       "}});\n",
       "\n",
       "// Listen for the removal of the full notebook cells\n",
       "var notebookContainer = gd.closest('#notebook-container');\n",
       "if (notebookContainer) {{\n",
       "    x.observe(notebookContainer, {childList: true});\n",
       "}}\n",
       "\n",
       "// Listen for the clearing of the current output cell\n",
       "var outputEl = gd.closest('.output');\n",
       "if (outputEl) {{\n",
       "    x.observe(outputEl, {childList: true});\n",
       "}}\n",
       "\n",
       "                        })                };                });            </script>        </div>"
      ]
     },
     "metadata": {},
     "output_type": "display_data"
    }
   ],
   "source": [
    "subset = subset[(subset['native_language'] == 'english') & (subset['country'] == 'usa')]\n",
    "\n",
    "df_exploded = subset.explode('parsed')\n",
    "result = df_exploded.groupby(['sex', 'parsed']).size().reset_index(name='count')\n",
    "\n",
    "result['Total'] = result.groupby('sex')['count'].transform('sum')\n",
    "result['Percentage'] = result['count'] / result['Total'] * 100\n",
    "\n",
    "result = result[result['count'] > 1]\n",
    "\n",
    "\n",
    "# Create a grouped bar plot\n",
    "fig = px.bar(\n",
    "    result,\n",
    "    x='parsed',\n",
    "    y='Percentage',\n",
    "    color='sex',    # Different colors for each group\n",
    "    barmode='group',  # Place bars side-by-side rather than stacking them\n",
    ")\n",
    "fig.show()\n"
   ]
  },
  {
   "cell_type": "code",
   "execution_count": null,
   "metadata": {},
   "outputs": [],
   "source": []
  }
 ],
 "metadata": {
  "kernelspec": {
   "display_name": "cultural",
   "language": "python",
   "name": "python3"
  },
  "language_info": {
   "codemirror_mode": {
    "name": "ipython",
    "version": 3
   },
   "file_extension": ".py",
   "mimetype": "text/x-python",
   "name": "python",
   "nbconvert_exporter": "python",
   "pygments_lexer": "ipython3",
   "version": "3.10.15"
  }
 },
 "nbformat": 4,
 "nbformat_minor": 2
}
