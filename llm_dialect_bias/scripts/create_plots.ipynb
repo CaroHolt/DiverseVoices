{
 "cells": [
  {
   "cell_type": "code",
   "execution_count": 6,
   "id": "7471dcce",
   "metadata": {},
   "outputs": [],
   "source": [
    "import pandas as pd\n",
    "import plotly.graph_objects as go\n",
    "import plotly.io as pio\n",
    "from scipy import stats\n",
    "import numpy as np\n",
    "import glob\n",
    "\n",
    "\n",
    "diamond_template = go.layout.Template()\n",
    "pio.templates.default = diamond_template\n"
   ]
  },
  {
   "cell_type": "markdown",
   "id": "1cb2ba21",
   "metadata": {},
   "source": [
    "## Plot bias results"
   ]
  },
  {
   "cell_type": "code",
   "execution_count": 14,
   "id": "8be9bea3",
   "metadata": {},
   "outputs": [
    {
     "name": "stdout",
     "output_type": "stream",
     "text": [
      "Aya 8B\n"
     ]
    },
    {
     "data": {
      "application/vnd.plotly.v1+json": {
       "config": {
        "plotlyServerURL": "https://plot.ly"
       },
       "data": [
        {
         "error_y": {
          "array": [
           0.07505161155829546
          ],
          "type": "data",
          "visible": true
         },
         "marker": {
          "color": "#4A68D9"
         },
         "showlegend": false,
         "type": "scatter",
         "x": [
          "Temper"
         ],
         "y": [
          0.2396048109965636
         ]
        },
        {
         "error_y": {
          "array": [
           0.06445797121309818
          ],
          "type": "data",
          "visible": true
         },
         "marker": {
          "color": "#60B177"
         },
         "showlegend": false,
         "type": "scatter",
         "x": [
          "Careless"
         ],
         "y": [
          0.5451142737796874
         ]
        },
        {
         "error_y": {
          "array": [
           0.07152293347478597
          ],
          "type": "data",
          "visible": true
         },
         "marker": {
          "color": "#F09235"
         },
         "showlegend": false,
         "type": "scatter",
         "x": [
          "Uneducated"
         ],
         "y": [
          0.5799854227405249
         ]
        },
        {
         "error_y": {
          "array": [
           0.08755459299141016
          ],
          "type": "data",
          "visible": true
         },
         "marker": {
          "color": "#F9D949"
         },
         "showlegend": false,
         "type": "scatter",
         "x": [
          "Unfriendly"
         ],
         "y": [
          -0.06980506822612084
         ]
        },
        {
         "error_y": {
          "array": [
           0.0661794400204648
          ],
          "type": "data",
          "visible": true
         },
         "marker": {
          "color": "#377E7F"
         },
         "showlegend": false,
         "type": "scatter",
         "x": [
          "Closed-Minded"
         ],
         "y": [
          0.3330595652895305
         ]
        },
        {
         "error_y": {
          "array": [
           0.054480544961033404
          ],
          "type": "data",
          "visible": true
         },
         "marker": {
          "color": "#BFB5D7"
         },
         "showlegend": false,
         "type": "scatter",
         "x": [
          "Rural"
         ],
         "y": [
          0.4375744969611141
         ]
        }
       ],
       "layout": {
        "bargap": 0.3,
        "font": {
         "color": "black",
         "size": 14
        },
        "height": 350,
        "margin": {
         "b": 50,
         "l": 50,
         "r": 30,
         "t": 70
        },
        "shapes": [
         {
          "line": {
           "color": "red",
           "dash": "dash",
           "width": 2
          },
          "type": "line",
          "x0": "Temper",
          "x1": "Rural",
          "y0": 0,
          "y1": 0
         }
        ],
        "template": {},
        "title": {
         "text": "Aya 8B"
        },
        "width": 600,
        "xaxis": {
         "tickmode": "array",
         "ticktext": [
          "<span style='color:#4A68D9'>Temper</span>",
          "<span style='color:#60B177'>Careless</span>",
          "<span style='color:#F09235'>Uneducated</span>",
          "<span style='color:#F9D949'>Unfriendly</span>",
          "<span style='color:#377E7F'>Closed-Minded</span>",
          "<span style='color:#BFB5D7'>Rural</span>"
         ],
         "tickvals": [
          "Temper",
          "Careless",
          "Uneducated",
          "Unfriendly",
          "Closed-Minded",
          "Rural"
         ]
        },
        "yaxis": {
         "gridcolor": "lightgray",
         "range": [
          -1.15,
          1.15
         ],
         "showgrid": true,
         "zeroline": false
        }
       }
      },
      "text/html": [
       "<div>                            <div id=\"6fd07315-2c35-4ee6-92d2-5bd6f14b52ea\" class=\"plotly-graph-div\" style=\"height:350px; width:600px;\"></div>            <script type=\"text/javascript\">                require([\"plotly\"], function(Plotly) {                    window.PLOTLYENV=window.PLOTLYENV || {};                                    if (document.getElementById(\"6fd07315-2c35-4ee6-92d2-5bd6f14b52ea\")) {                    Plotly.newPlot(                        \"6fd07315-2c35-4ee6-92d2-5bd6f14b52ea\",                        [{\"error_y\":{\"array\":[0.07505161155829546],\"type\":\"data\",\"visible\":true},\"marker\":{\"color\":\"#4A68D9\"},\"showlegend\":false,\"x\":[\"Temper\"],\"y\":[0.2396048109965636],\"type\":\"scatter\"},{\"error_y\":{\"array\":[0.06445797121309818],\"type\":\"data\",\"visible\":true},\"marker\":{\"color\":\"#60B177\"},\"showlegend\":false,\"x\":[\"Careless\"],\"y\":[0.5451142737796874],\"type\":\"scatter\"},{\"error_y\":{\"array\":[0.07152293347478597],\"type\":\"data\",\"visible\":true},\"marker\":{\"color\":\"#F09235\"},\"showlegend\":false,\"x\":[\"Uneducated\"],\"y\":[0.5799854227405249],\"type\":\"scatter\"},{\"error_y\":{\"array\":[0.08755459299141016],\"type\":\"data\",\"visible\":true},\"marker\":{\"color\":\"#F9D949\"},\"showlegend\":false,\"x\":[\"Unfriendly\"],\"y\":[-0.06980506822612084],\"type\":\"scatter\"},{\"error_y\":{\"array\":[0.0661794400204648],\"type\":\"data\",\"visible\":true},\"marker\":{\"color\":\"#377E7F\"},\"showlegend\":false,\"x\":[\"Closed-Minded\"],\"y\":[0.3330595652895305],\"type\":\"scatter\"},{\"error_y\":{\"array\":[0.054480544961033404],\"type\":\"data\",\"visible\":true},\"marker\":{\"color\":\"#BFB5D7\"},\"showlegend\":false,\"x\":[\"Rural\"],\"y\":[0.4375744969611141],\"type\":\"scatter\"}],                        {\"template\":{},\"shapes\":[{\"line\":{\"color\":\"red\",\"dash\":\"dash\",\"width\":2},\"type\":\"line\",\"x0\":\"Temper\",\"x1\":\"Rural\",\"y0\":0,\"y1\":0}],\"font\":{\"size\":14,\"color\":\"black\"},\"margin\":{\"l\":50,\"r\":30,\"t\":70,\"b\":50},\"xaxis\":{\"tickmode\":\"array\",\"tickvals\":[\"Temper\",\"Careless\",\"Uneducated\",\"Unfriendly\",\"Closed-Minded\",\"Rural\"],\"ticktext\":[\"\\u003cspan style='color:#4A68D9'\\u003eTemper\\u003c\\u002fspan\\u003e\",\"\\u003cspan style='color:#60B177'\\u003eCareless\\u003c\\u002fspan\\u003e\",\"\\u003cspan style='color:#F09235'\\u003eUneducated\\u003c\\u002fspan\\u003e\",\"\\u003cspan style='color:#F9D949'\\u003eUnfriendly\\u003c\\u002fspan\\u003e\",\"\\u003cspan style='color:#377E7F'\\u003eClosed-Minded\\u003c\\u002fspan\\u003e\",\"\\u003cspan style='color:#BFB5D7'\\u003eRural\\u003c\\u002fspan\\u003e\"]},\"yaxis\":{\"range\":[-1.15,1.15],\"showgrid\":true,\"gridcolor\":\"lightgray\",\"zeroline\":false},\"title\":{\"text\":\"Aya 8B\"},\"width\":600,\"height\":350,\"bargap\":0.3},                        {\"responsive\": true}                    ).then(function(){\n",
       "                            \n",
       "var gd = document.getElementById('6fd07315-2c35-4ee6-92d2-5bd6f14b52ea');\n",
       "var x = new MutationObserver(function (mutations, observer) {{\n",
       "        var display = window.getComputedStyle(gd).display;\n",
       "        if (!display || display === 'none') {{\n",
       "            console.log([gd, 'removed!']);\n",
       "            Plotly.purge(gd);\n",
       "            observer.disconnect();\n",
       "        }}\n",
       "}});\n",
       "\n",
       "// Listen for the removal of the full notebook cells\n",
       "var notebookContainer = gd.closest('#notebook-container');\n",
       "if (notebookContainer) {{\n",
       "    x.observe(notebookContainer, {childList: true});\n",
       "}}\n",
       "\n",
       "// Listen for the clearing of the current output cell\n",
       "var outputEl = gd.closest('.output');\n",
       "if (outputEl) {{\n",
       "    x.observe(outputEl, {childList: true});\n",
       "}}\n",
       "\n",
       "                        })                };                });            </script>        </div>"
      ]
     },
     "metadata": {},
     "output_type": "display_data"
    }
   ],
   "source": [
    "dimension_dict = {'educated': 'Uneducated',\n",
    "                  'urban': 'Rural',\n",
    "                  'calm': 'Temper',\n",
    "                  'friendly': 'Unfriendly',\n",
    "                  'open_to_experience': 'Closed-Minded',\n",
    "                  'conscientiousness': 'Careless'\n",
    "                  }\n",
    "\n",
    "df = pd.read_csv('../output/implicit/eval/final.csv')\n",
    "df = df[df['nones'] == 0]\n",
    "\n",
    "\n",
    "group_stats = df.groupby(['model_name', 'dimension'])['bias'].agg(['mean', 'std', 'count']).reset_index()\n",
    "\n",
    "group_stats['se'] = group_stats['std'] / np.sqrt(group_stats['count'])\n",
    "group_stats['t_score'] = group_stats['count'].apply(lambda n: stats.t.ppf(0.95, df=n-1) if n > 1 else 0)\n",
    "group_stats['margin_of_error'] = group_stats['t_score'] * group_stats['se']\n",
    "group_stats['lower'] = group_stats['mean'] - group_stats['margin_of_error']\n",
    "group_stats['upper'] = group_stats['mean'] + group_stats['margin_of_error']\n",
    "\n",
    "\n",
    "\n",
    "for model in group_stats.model_name.unique():\n",
    "    colors = ['#4A68D9', '#60B177', '#F09235', '#F9D949', '#377E7F', '#BFB5D7']\n",
    "\n",
    "    fig = go.Figure()\n",
    "    print(model)\n",
    "\n",
    "    subset = group_stats[group_stats['model_name'] == model]\n",
    "    k = 0\n",
    "    for i, row in subset.iterrows():\n",
    "        fig.add_trace(go.Scatter(\n",
    "            x=[dimension_dict[row['dimension']]],\n",
    "            y=[row['mean']],\n",
    "            error_y=dict(type='data', array=[row['margin_of_error']], visible=True),\n",
    "            marker_color=colors[k],\n",
    "            showlegend=False  # Hide legend if you don't want duplicates\n",
    "        ))\n",
    "        k+=1\n",
    "\n",
    "    # Create color-coded tick labels\n",
    "    dimensions = subset['dimension'].unique()\n",
    "    dimensions = [dimension_dict[x] for x in dimensions]\n",
    "    colored_labels = [f\"<span style='color:{colors[i]}'>{dimensions[i]}</span>\" for i in range(len(dimensions))]\n",
    "\n",
    "    fig.add_shape(\n",
    "        type=\"line\",\n",
    "        y0=0,\n",
    "        x0=dimensions[0],\n",
    "        x1=dimensions[-1],\n",
    "        y1=0,\n",
    "        line=dict(color=\"red\", width=2, dash=\"dash\")\n",
    "    )\n",
    "\n",
    "    # Update layout\n",
    "    fig.update_layout(\n",
    "        title=model,\n",
    "        width=600,\n",
    "        height=350,\n",
    "        font=dict(size=14, color='black'),\n",
    "        margin=dict(\n",
    "        l=50,   # left\n",
    "        r=30,   # right\n",
    "        t=70,   # top\n",
    "        b=50    # bottom\n",
    "    ),\n",
    "        xaxis=dict(\n",
    "            tickmode='array',\n",
    "            tickvals=dimensions,\n",
    "            ticktext=colored_labels\n",
    "        ),\n",
    "        yaxis=dict(\n",
    "        range=[-1.15, 1.15],\n",
    "        showgrid=True,  # Enable grid\n",
    "        gridcolor='lightgray',  # Subtle grid lines\n",
    "        zeroline=False,  # Show axis zero line\n",
    "        #zerolinecolor='black'\n",
    "    ),\n",
    "        bargap=0.3,\n",
    "    )\n",
    "    fig.show()\n",
    "    fig.write_image(f\"../img/implicit_{model}.pdf\")\n",
    "\n"
   ]
  },
  {
   "cell_type": "code",
   "execution_count": 16,
   "id": "b4e1df77",
   "metadata": {},
   "outputs": [
    {
     "name": "stdout",
     "output_type": "stream",
     "text": [
      "Aya 32b\n"
     ]
    },
    {
     "data": {
      "application/vnd.plotly.v1+json": {
       "config": {
        "plotlyServerURL": "https://plot.ly"
       },
       "data": [
        {
         "error_y": {
          "array": [
           0.0488777141096762
          ],
          "type": "data",
          "visible": true
         },
         "marker": {
          "color": "#4A68D9"
         },
         "showlegend": false,
         "type": "scatter",
         "x": [
          "Temper"
         ],
         "y": [
          0.5143134804942385
         ]
        },
        {
         "error_y": {
          "array": [
           0.03162526844317135
          ],
          "type": "data",
          "visible": true
         },
         "marker": {
          "color": "#60B177"
         },
         "showlegend": false,
         "type": "scatter",
         "x": [
          "Careless"
         ],
         "y": [
          0.8295141406816533
         ]
        },
        {
         "error_y": {
          "array": [
           0.02585104931351196
          ],
          "type": "data",
          "visible": true
         },
         "marker": {
          "color": "#F09235"
         },
         "showlegend": false,
         "type": "scatter",
         "x": [
          "Uneducated"
         ],
         "y": [
          0.8648680524841516
         ]
        },
        {
         "error_y": {
          "array": [
           0.06462241477087169
          ],
          "type": "data",
          "visible": true
         },
         "marker": {
          "color": "#F9D949"
         },
         "showlegend": false,
         "type": "scatter",
         "x": [
          "Unfriendly"
         ],
         "y": [
          0.07651204159824851
         ]
        },
        {
         "error_y": {
          "array": [
           0.04910224258982862
          ],
          "type": "data",
          "visible": true
         },
         "marker": {
          "color": "#377E7F"
         },
         "showlegend": false,
         "type": "scatter",
         "x": [
          "Closed-Minded"
         ],
         "y": [
          0.4727861918406331
         ]
        },
        {
         "error_y": {
          "array": [
           0.014421129511325504
          ],
          "type": "data",
          "visible": true
         },
         "marker": {
          "color": "#BFB5D7"
         },
         "showlegend": false,
         "type": "scatter",
         "x": [
          "Rural"
         ],
         "y": [
          0.8886505622657227
         ]
        }
       ],
       "layout": {
        "bargap": 0.3,
        "font": {
         "color": "black",
         "size": 14
        },
        "height": 350,
        "margin": {
         "b": 50,
         "l": 50,
         "r": 30,
         "t": 70
        },
        "shapes": [
         {
          "line": {
           "color": "red",
           "dash": "dash",
           "width": 2
          },
          "type": "line",
          "x0": "Temper",
          "x1": "Rural",
          "y0": 0,
          "y1": 0
         }
        ],
        "template": {},
        "title": {
         "text": "Aya 32b"
        },
        "width": 600,
        "xaxis": {
         "tickmode": "array",
         "ticktext": [
          "<span style='color:#4A68D9'>Temper</span>",
          "<span style='color:#60B177'>Careless</span>",
          "<span style='color:#F09235'>Uneducated</span>",
          "<span style='color:#F9D949'>Unfriendly</span>",
          "<span style='color:#377E7F'>Closed-Minded</span>",
          "<span style='color:#BFB5D7'>Rural</span>"
         ],
         "tickvals": [
          "Temper",
          "Careless",
          "Uneducated",
          "Unfriendly",
          "Closed-Minded",
          "Rural"
         ]
        },
        "yaxis": {
         "gridcolor": "lightgray",
         "range": [
          -1.15,
          1.15
         ],
         "showgrid": true,
         "zeroline": false
        }
       }
      },
      "text/html": [
       "<div>                            <div id=\"8e74ee94-e366-4ce9-a3d9-e17485d83da6\" class=\"plotly-graph-div\" style=\"height:350px; width:600px;\"></div>            <script type=\"text/javascript\">                require([\"plotly\"], function(Plotly) {                    window.PLOTLYENV=window.PLOTLYENV || {};                                    if (document.getElementById(\"8e74ee94-e366-4ce9-a3d9-e17485d83da6\")) {                    Plotly.newPlot(                        \"8e74ee94-e366-4ce9-a3d9-e17485d83da6\",                        [{\"error_y\":{\"array\":[0.0488777141096762],\"type\":\"data\",\"visible\":true},\"marker\":{\"color\":\"#4A68D9\"},\"showlegend\":false,\"x\":[\"Temper\"],\"y\":[0.5143134804942385],\"type\":\"scatter\"},{\"error_y\":{\"array\":[0.03162526844317135],\"type\":\"data\",\"visible\":true},\"marker\":{\"color\":\"#60B177\"},\"showlegend\":false,\"x\":[\"Careless\"],\"y\":[0.8295141406816533],\"type\":\"scatter\"},{\"error_y\":{\"array\":[0.02585104931351196],\"type\":\"data\",\"visible\":true},\"marker\":{\"color\":\"#F09235\"},\"showlegend\":false,\"x\":[\"Uneducated\"],\"y\":[0.8648680524841516],\"type\":\"scatter\"},{\"error_y\":{\"array\":[0.06462241477087169],\"type\":\"data\",\"visible\":true},\"marker\":{\"color\":\"#F9D949\"},\"showlegend\":false,\"x\":[\"Unfriendly\"],\"y\":[0.07651204159824851],\"type\":\"scatter\"},{\"error_y\":{\"array\":[0.04910224258982862],\"type\":\"data\",\"visible\":true},\"marker\":{\"color\":\"#377E7F\"},\"showlegend\":false,\"x\":[\"Closed-Minded\"],\"y\":[0.4727861918406331],\"type\":\"scatter\"},{\"error_y\":{\"array\":[0.014421129511325504],\"type\":\"data\",\"visible\":true},\"marker\":{\"color\":\"#BFB5D7\"},\"showlegend\":false,\"x\":[\"Rural\"],\"y\":[0.8886505622657227],\"type\":\"scatter\"}],                        {\"template\":{},\"shapes\":[{\"line\":{\"color\":\"red\",\"dash\":\"dash\",\"width\":2},\"type\":\"line\",\"x0\":\"Temper\",\"x1\":\"Rural\",\"y0\":0,\"y1\":0}],\"font\":{\"size\":14,\"color\":\"black\"},\"margin\":{\"l\":50,\"r\":30,\"t\":70,\"b\":50},\"xaxis\":{\"tickmode\":\"array\",\"tickvals\":[\"Temper\",\"Careless\",\"Uneducated\",\"Unfriendly\",\"Closed-Minded\",\"Rural\"],\"ticktext\":[\"\\u003cspan style='color:#4A68D9'\\u003eTemper\\u003c\\u002fspan\\u003e\",\"\\u003cspan style='color:#60B177'\\u003eCareless\\u003c\\u002fspan\\u003e\",\"\\u003cspan style='color:#F09235'\\u003eUneducated\\u003c\\u002fspan\\u003e\",\"\\u003cspan style='color:#F9D949'\\u003eUnfriendly\\u003c\\u002fspan\\u003e\",\"\\u003cspan style='color:#377E7F'\\u003eClosed-Minded\\u003c\\u002fspan\\u003e\",\"\\u003cspan style='color:#BFB5D7'\\u003eRural\\u003c\\u002fspan\\u003e\"]},\"yaxis\":{\"range\":[-1.15,1.15],\"showgrid\":true,\"gridcolor\":\"lightgray\",\"zeroline\":false},\"title\":{\"text\":\"Aya 32b\"},\"width\":600,\"height\":350,\"bargap\":0.3},                        {\"responsive\": true}                    ).then(function(){\n",
       "                            \n",
       "var gd = document.getElementById('8e74ee94-e366-4ce9-a3d9-e17485d83da6');\n",
       "var x = new MutationObserver(function (mutations, observer) {{\n",
       "        var display = window.getComputedStyle(gd).display;\n",
       "        if (!display || display === 'none') {{\n",
       "            console.log([gd, 'removed!']);\n",
       "            Plotly.purge(gd);\n",
       "            observer.disconnect();\n",
       "        }}\n",
       "}});\n",
       "\n",
       "// Listen for the removal of the full notebook cells\n",
       "var notebookContainer = gd.closest('#notebook-container');\n",
       "if (notebookContainer) {{\n",
       "    x.observe(notebookContainer, {childList: true});\n",
       "}}\n",
       "\n",
       "// Listen for the clearing of the current output cell\n",
       "var outputEl = gd.closest('.output');\n",
       "if (outputEl) {{\n",
       "    x.observe(outputEl, {childList: true});\n",
       "}}\n",
       "\n",
       "                        })                };                });            </script>        </div>"
      ]
     },
     "metadata": {},
     "output_type": "display_data"
    }
   ],
   "source": [
    "dimension_dict = {'educated': 'Uneducated',\n",
    "                  'urban': 'Rural',\n",
    "                  'calm': 'Temper',\n",
    "                  'friendly': 'Unfriendly',\n",
    "                  'open_to_experience': 'Closed-Minded',\n",
    "                  'conscientiousness': 'Careless'\n",
    "                  }\n",
    "\n",
    "df = pd.read_csv('../output/implicit_explicit/eval/final.csv')\n",
    "df = df[df['nones'] == 0]\n",
    "\n",
    "\n",
    "group_stats = df.groupby(['model_name', 'dimension'])['bias'].agg(['mean', 'std', 'count']).reset_index()\n",
    "\n",
    "group_stats['se'] = group_stats['std'] / np.sqrt(group_stats['count'])\n",
    "group_stats['t_score'] = group_stats['count'].apply(lambda n: stats.t.ppf(0.95, df=n-1) if n > 1 else 0)\n",
    "group_stats['margin_of_error'] = group_stats['t_score'] * group_stats['se']\n",
    "group_stats['lower'] = group_stats['mean'] - group_stats['margin_of_error']\n",
    "group_stats['upper'] = group_stats['mean'] + group_stats['margin_of_error']\n",
    "\n",
    "\n",
    "\n",
    "for model in group_stats.model_name.unique():\n",
    "    colors = ['#4A68D9', '#60B177', '#F09235', '#F9D949', '#377E7F', '#BFB5D7']\n",
    "\n",
    "    fig = go.Figure()\n",
    "    print(model)\n",
    "\n",
    "    subset = group_stats[group_stats['model_name'] == model]\n",
    "    k = 0\n",
    "    for i, row in subset.iterrows():\n",
    "        fig.add_trace(go.Scatter(\n",
    "            x=[dimension_dict[row['dimension']]],\n",
    "            y=[row['mean']],\n",
    "            error_y=dict(type='data', array=[row['margin_of_error']], visible=True),\n",
    "            marker_color=colors[k],\n",
    "            showlegend=False  # Hide legend if you don't want duplicates\n",
    "        ))\n",
    "        k+=1\n",
    "\n",
    "    # Create color-coded tick labels\n",
    "    dimensions = subset['dimension'].unique()\n",
    "    dimensions = [dimension_dict[x] for x in dimensions]\n",
    "    colored_labels = [f\"<span style='color:{colors[i]}'>{dimensions[i]}</span>\" for i in range(len(dimensions))]\n",
    "\n",
    "    fig.add_shape(\n",
    "        type=\"line\",\n",
    "        y0=0,\n",
    "        x0=dimensions[0],\n",
    "        x1=dimensions[-1],\n",
    "        y1=0,\n",
    "        line=dict(color=\"red\", width=2, dash=\"dash\")\n",
    "    )\n",
    "\n",
    "    # Update layout\n",
    "    fig.update_layout(\n",
    "        title=model,\n",
    "        width=600,\n",
    "        height=350,\n",
    "        font=dict(size=14, color='black'),\n",
    "        margin=dict(\n",
    "        l=50,   # left\n",
    "        r=30,   # right\n",
    "        t=70,   # top\n",
    "        b=50    # bottom\n",
    "    ),\n",
    "        xaxis=dict(\n",
    "            tickmode='array',\n",
    "            tickvals=dimensions,\n",
    "            ticktext=colored_labels\n",
    "        ),\n",
    "        yaxis=dict(\n",
    "        range=[-1.15, 1.15],\n",
    "        showgrid=True,  # Enable grid\n",
    "        gridcolor='lightgray',  # Subtle grid lines\n",
    "        zeroline=False,  # Show axis zero line\n",
    "        #zerolinecolor='black'\n",
    "    ),\n",
    "        bargap=0.3,\n",
    "    )\n",
    "    fig.show()\n",
    "    fig.write_image(f\"../img/explicit_{model}.pdf\")\n"
   ]
  },
  {
   "cell_type": "code",
   "execution_count": 12,
   "id": "6f514d21",
   "metadata": {},
   "outputs": [
    {
     "name": "stdout",
     "output_type": "stream",
     "text": [
      "Llama-3.1-8B\n"
     ]
    },
    {
     "data": {
      "application/vnd.plotly.v1+json": {
       "config": {
        "plotlyServerURL": "https://plot.ly"
       },
       "data": [
        {
         "error_y": {
          "array": [
           0.04259677344533456
          ],
          "type": "data",
          "visible": true
         },
         "marker": {
          "color": "#4A68D9"
         },
         "showlegend": false,
         "type": "scatter",
         "x": [
          "Temper"
         ],
         "y": [
          0.34697004608294935
         ]
        },
        {
         "error_y": {
          "array": [
           0.044495724443092785
          ],
          "type": "data",
          "visible": true
         },
         "marker": {
          "color": "#60B177"
         },
         "showlegend": false,
         "type": "scatter",
         "x": [
          "Careless"
         ],
         "y": [
          0.4296942188246536
         ]
        },
        {
         "error_y": {
          "array": [
           0.04180107290712917
          ],
          "type": "data",
          "visible": true
         },
         "marker": {
          "color": "#F09235"
         },
         "showlegend": false,
         "type": "scatter",
         "x": [
          "Uneducated"
         ],
         "y": [
          0.4179189004520131
         ]
        },
        {
         "error_y": {
          "array": [
           0.04119543694724405
          ],
          "type": "data",
          "visible": true
         },
         "marker": {
          "color": "#F9D949"
         },
         "showlegend": false,
         "type": "scatter",
         "x": [
          "Unfriendly"
         ],
         "y": [
          -0.36335531135531135
         ]
        },
        {
         "error_y": {
          "array": [
           0.03979676386561869
          ],
          "type": "data",
          "visible": true
         },
         "marker": {
          "color": "#377E7F"
         },
         "showlegend": false,
         "type": "scatter",
         "x": [
          "Closed-Minded"
         ],
         "y": [
          0.3507784370404179
         ]
        },
        {
         "error_y": {
          "array": [
           0.028674941596032705
          ],
          "type": "data",
          "visible": true
         },
         "marker": {
          "color": "#BFB5D7"
         },
         "showlegend": false,
         "type": "scatter",
         "x": [
          "Rural"
         ],
         "y": [
          0.05859671302149178
         ]
        }
       ],
       "layout": {
        "bargap": 0.3,
        "font": {
         "color": "black",
         "size": 14
        },
        "height": 350,
        "margin": {
         "b": 50,
         "l": 50,
         "r": 30,
         "t": 70
        },
        "shapes": [
         {
          "line": {
           "color": "red",
           "dash": "dash",
           "width": 2
          },
          "type": "line",
          "x0": "Temper",
          "x1": "Rural",
          "y0": 0,
          "y1": 0
         }
        ],
        "template": {},
        "title": {
         "text": "Llama-3.1-8B"
        },
        "width": 600,
        "xaxis": {
         "tickmode": "array",
         "ticktext": [
          "<span style='color:#4A68D9'>Temper</span>",
          "<span style='color:#60B177'>Careless</span>",
          "<span style='color:#F09235'>Uneducated</span>",
          "<span style='color:#F9D949'>Unfriendly</span>",
          "<span style='color:#377E7F'>Closed-Minded</span>",
          "<span style='color:#BFB5D7'>Rural</span>"
         ],
         "tickvals": [
          "Temper",
          "Careless",
          "Uneducated",
          "Unfriendly",
          "Closed-Minded",
          "Rural"
         ]
        },
        "yaxis": {
         "gridcolor": "lightgray",
         "range": [
          -1.15,
          1.15
         ],
         "showgrid": true,
         "zeroline": false
        }
       }
      },
      "text/html": [
       "<div>                            <div id=\"02fdc098-8302-46d5-a5a7-e96b66821927\" class=\"plotly-graph-div\" style=\"height:350px; width:600px;\"></div>            <script type=\"text/javascript\">                require([\"plotly\"], function(Plotly) {                    window.PLOTLYENV=window.PLOTLYENV || {};                                    if (document.getElementById(\"02fdc098-8302-46d5-a5a7-e96b66821927\")) {                    Plotly.newPlot(                        \"02fdc098-8302-46d5-a5a7-e96b66821927\",                        [{\"error_y\":{\"array\":[0.04259677344533456],\"type\":\"data\",\"visible\":true},\"marker\":{\"color\":\"#4A68D9\"},\"showlegend\":false,\"x\":[\"Temper\"],\"y\":[0.34697004608294935],\"type\":\"scatter\"},{\"error_y\":{\"array\":[0.044495724443092785],\"type\":\"data\",\"visible\":true},\"marker\":{\"color\":\"#60B177\"},\"showlegend\":false,\"x\":[\"Careless\"],\"y\":[0.4296942188246536],\"type\":\"scatter\"},{\"error_y\":{\"array\":[0.04180107290712917],\"type\":\"data\",\"visible\":true},\"marker\":{\"color\":\"#F09235\"},\"showlegend\":false,\"x\":[\"Uneducated\"],\"y\":[0.4179189004520131],\"type\":\"scatter\"},{\"error_y\":{\"array\":[0.04119543694724405],\"type\":\"data\",\"visible\":true},\"marker\":{\"color\":\"#F9D949\"},\"showlegend\":false,\"x\":[\"Unfriendly\"],\"y\":[-0.36335531135531135],\"type\":\"scatter\"},{\"error_y\":{\"array\":[0.03979676386561869],\"type\":\"data\",\"visible\":true},\"marker\":{\"color\":\"#377E7F\"},\"showlegend\":false,\"x\":[\"Closed-Minded\"],\"y\":[0.3507784370404179],\"type\":\"scatter\"},{\"error_y\":{\"array\":[0.028674941596032705],\"type\":\"data\",\"visible\":true},\"marker\":{\"color\":\"#BFB5D7\"},\"showlegend\":false,\"x\":[\"Rural\"],\"y\":[0.05859671302149178],\"type\":\"scatter\"}],                        {\"template\":{},\"shapes\":[{\"line\":{\"color\":\"red\",\"dash\":\"dash\",\"width\":2},\"type\":\"line\",\"x0\":\"Temper\",\"x1\":\"Rural\",\"y0\":0,\"y1\":0}],\"font\":{\"size\":14,\"color\":\"black\"},\"margin\":{\"l\":50,\"r\":30,\"t\":70,\"b\":50},\"xaxis\":{\"tickmode\":\"array\",\"tickvals\":[\"Temper\",\"Careless\",\"Uneducated\",\"Unfriendly\",\"Closed-Minded\",\"Rural\"],\"ticktext\":[\"\\u003cspan style='color:#4A68D9'\\u003eTemper\\u003c\\u002fspan\\u003e\",\"\\u003cspan style='color:#60B177'\\u003eCareless\\u003c\\u002fspan\\u003e\",\"\\u003cspan style='color:#F09235'\\u003eUneducated\\u003c\\u002fspan\\u003e\",\"\\u003cspan style='color:#F9D949'\\u003eUnfriendly\\u003c\\u002fspan\\u003e\",\"\\u003cspan style='color:#377E7F'\\u003eClosed-Minded\\u003c\\u002fspan\\u003e\",\"\\u003cspan style='color:#BFB5D7'\\u003eRural\\u003c\\u002fspan\\u003e\"]},\"yaxis\":{\"range\":[-1.15,1.15],\"showgrid\":true,\"gridcolor\":\"lightgray\",\"zeroline\":false},\"title\":{\"text\":\"Llama-3.1-8B\"},\"width\":600,\"height\":350,\"bargap\":0.3},                        {\"responsive\": true}                    ).then(function(){\n",
       "                            \n",
       "var gd = document.getElementById('02fdc098-8302-46d5-a5a7-e96b66821927');\n",
       "var x = new MutationObserver(function (mutations, observer) {{\n",
       "        var display = window.getComputedStyle(gd).display;\n",
       "        if (!display || display === 'none') {{\n",
       "            console.log([gd, 'removed!']);\n",
       "            Plotly.purge(gd);\n",
       "            observer.disconnect();\n",
       "        }}\n",
       "}});\n",
       "\n",
       "// Listen for the removal of the full notebook cells\n",
       "var notebookContainer = gd.closest('#notebook-container');\n",
       "if (notebookContainer) {{\n",
       "    x.observe(notebookContainer, {childList: true});\n",
       "}}\n",
       "\n",
       "// Listen for the clearing of the current output cell\n",
       "var outputEl = gd.closest('.output');\n",
       "if (outputEl) {{\n",
       "    x.observe(outputEl, {childList: true});\n",
       "}}\n",
       "\n",
       "                        })                };                });            </script>        </div>"
      ]
     },
     "metadata": {},
     "output_type": "display_data"
    },
    {
     "name": "stdout",
     "output_type": "stream",
     "text": [
      "Qwen2.5-72B\n"
     ]
    },
    {
     "data": {
      "application/vnd.plotly.v1+json": {
       "config": {
        "plotlyServerURL": "https://plot.ly"
       },
       "data": [
        {
         "error_y": {
          "array": [
           0.18339176843667676
          ],
          "type": "data",
          "visible": true
         },
         "marker": {
          "color": "#4A68D9"
         },
         "showlegend": false,
         "type": "scatter",
         "x": [
          "Temper"
         ],
         "y": [
          0.6031746031746033
         ]
        },
        {
         "error_y": {
          "array": [
           0.1405122612772397
          ],
          "type": "data",
          "visible": true
         },
         "marker": {
          "color": "#60B177"
         },
         "showlegend": false,
         "type": "scatter",
         "x": [
          "Careless"
         ],
         "y": [
          0.6036414565826331
         ]
        },
        {
         "error_y": {
          "array": [
           0.10819160625725181
          ],
          "type": "data",
          "visible": true
         },
         "marker": {
          "color": "#F09235"
         },
         "showlegend": false,
         "type": "scatter",
         "x": [
          "Uneducated"
         ],
         "y": [
          0.5347054075867635
         ]
        },
        {
         "error_y": {
          "array": [
           0.12237225276318091
          ],
          "type": "data",
          "visible": true
         },
         "marker": {
          "color": "#F9D949"
         },
         "showlegend": false,
         "type": "scatter",
         "x": [
          "Unfriendly"
         ],
         "y": [
          -0.574468085106383
         ]
        },
        {
         "error_y": {
          "array": [
           0.1266474703086208
          ],
          "type": "data",
          "visible": true
         },
         "marker": {
          "color": "#377E7F"
         },
         "showlegend": false,
         "type": "scatter",
         "x": [
          "Closed-Minded"
         ],
         "y": [
          0.5290476190476191
         ]
        },
        {
         "error_y": {
          "array": [
           0.19232842004526315
          ],
          "type": "data",
          "visible": true
         },
         "marker": {
          "color": "#BFB5D7"
         },
         "showlegend": false,
         "type": "scatter",
         "x": [
          "Rural"
         ],
         "y": [
          0.1492063492063492
         ]
        }
       ],
       "layout": {
        "bargap": 0.3,
        "font": {
         "color": "black",
         "size": 14
        },
        "height": 350,
        "margin": {
         "b": 50,
         "l": 50,
         "r": 30,
         "t": 70
        },
        "shapes": [
         {
          "line": {
           "color": "red",
           "dash": "dash",
           "width": 2
          },
          "type": "line",
          "x0": "Temper",
          "x1": "Rural",
          "y0": 0,
          "y1": 0
         }
        ],
        "template": {},
        "title": {
         "text": "Qwen2.5-72B"
        },
        "width": 600,
        "xaxis": {
         "tickmode": "array",
         "ticktext": [
          "<span style='color:#4A68D9'>Temper</span>",
          "<span style='color:#60B177'>Careless</span>",
          "<span style='color:#F09235'>Uneducated</span>",
          "<span style='color:#F9D949'>Unfriendly</span>",
          "<span style='color:#377E7F'>Closed-Minded</span>",
          "<span style='color:#BFB5D7'>Rural</span>"
         ],
         "tickvals": [
          "Temper",
          "Careless",
          "Uneducated",
          "Unfriendly",
          "Closed-Minded",
          "Rural"
         ]
        },
        "yaxis": {
         "gridcolor": "lightgray",
         "range": [
          -1.15,
          1.15
         ],
         "showgrid": true,
         "zeroline": false
        }
       }
      },
      "text/html": [
       "<div>                            <div id=\"899e00c1-4892-45c6-9c96-04e4bb8e1558\" class=\"plotly-graph-div\" style=\"height:350px; width:600px;\"></div>            <script type=\"text/javascript\">                require([\"plotly\"], function(Plotly) {                    window.PLOTLYENV=window.PLOTLYENV || {};                                    if (document.getElementById(\"899e00c1-4892-45c6-9c96-04e4bb8e1558\")) {                    Plotly.newPlot(                        \"899e00c1-4892-45c6-9c96-04e4bb8e1558\",                        [{\"error_y\":{\"array\":[0.18339176843667676],\"type\":\"data\",\"visible\":true},\"marker\":{\"color\":\"#4A68D9\"},\"showlegend\":false,\"x\":[\"Temper\"],\"y\":[0.6031746031746033],\"type\":\"scatter\"},{\"error_y\":{\"array\":[0.1405122612772397],\"type\":\"data\",\"visible\":true},\"marker\":{\"color\":\"#60B177\"},\"showlegend\":false,\"x\":[\"Careless\"],\"y\":[0.6036414565826331],\"type\":\"scatter\"},{\"error_y\":{\"array\":[0.10819160625725181],\"type\":\"data\",\"visible\":true},\"marker\":{\"color\":\"#F09235\"},\"showlegend\":false,\"x\":[\"Uneducated\"],\"y\":[0.5347054075867635],\"type\":\"scatter\"},{\"error_y\":{\"array\":[0.12237225276318091],\"type\":\"data\",\"visible\":true},\"marker\":{\"color\":\"#F9D949\"},\"showlegend\":false,\"x\":[\"Unfriendly\"],\"y\":[-0.574468085106383],\"type\":\"scatter\"},{\"error_y\":{\"array\":[0.1266474703086208],\"type\":\"data\",\"visible\":true},\"marker\":{\"color\":\"#377E7F\"},\"showlegend\":false,\"x\":[\"Closed-Minded\"],\"y\":[0.5290476190476191],\"type\":\"scatter\"},{\"error_y\":{\"array\":[0.19232842004526315],\"type\":\"data\",\"visible\":true},\"marker\":{\"color\":\"#BFB5D7\"},\"showlegend\":false,\"x\":[\"Rural\"],\"y\":[0.1492063492063492],\"type\":\"scatter\"}],                        {\"template\":{},\"shapes\":[{\"line\":{\"color\":\"red\",\"dash\":\"dash\",\"width\":2},\"type\":\"line\",\"x0\":\"Temper\",\"x1\":\"Rural\",\"y0\":0,\"y1\":0}],\"font\":{\"size\":14,\"color\":\"black\"},\"margin\":{\"l\":50,\"r\":30,\"t\":70,\"b\":50},\"xaxis\":{\"tickmode\":\"array\",\"tickvals\":[\"Temper\",\"Careless\",\"Uneducated\",\"Unfriendly\",\"Closed-Minded\",\"Rural\"],\"ticktext\":[\"\\u003cspan style='color:#4A68D9'\\u003eTemper\\u003c\\u002fspan\\u003e\",\"\\u003cspan style='color:#60B177'\\u003eCareless\\u003c\\u002fspan\\u003e\",\"\\u003cspan style='color:#F09235'\\u003eUneducated\\u003c\\u002fspan\\u003e\",\"\\u003cspan style='color:#F9D949'\\u003eUnfriendly\\u003c\\u002fspan\\u003e\",\"\\u003cspan style='color:#377E7F'\\u003eClosed-Minded\\u003c\\u002fspan\\u003e\",\"\\u003cspan style='color:#BFB5D7'\\u003eRural\\u003c\\u002fspan\\u003e\"]},\"yaxis\":{\"range\":[-1.15,1.15],\"showgrid\":true,\"gridcolor\":\"lightgray\",\"zeroline\":false},\"title\":{\"text\":\"Qwen2.5-72B\"},\"width\":600,\"height\":350,\"bargap\":0.3},                        {\"responsive\": true}                    ).then(function(){\n",
       "                            \n",
       "var gd = document.getElementById('899e00c1-4892-45c6-9c96-04e4bb8e1558');\n",
       "var x = new MutationObserver(function (mutations, observer) {{\n",
       "        var display = window.getComputedStyle(gd).display;\n",
       "        if (!display || display === 'none') {{\n",
       "            console.log([gd, 'removed!']);\n",
       "            Plotly.purge(gd);\n",
       "            observer.disconnect();\n",
       "        }}\n",
       "}});\n",
       "\n",
       "// Listen for the removal of the full notebook cells\n",
       "var notebookContainer = gd.closest('#notebook-container');\n",
       "if (notebookContainer) {{\n",
       "    x.observe(notebookContainer, {childList: true});\n",
       "}}\n",
       "\n",
       "// Listen for the clearing of the current output cell\n",
       "var outputEl = gd.closest('.output');\n",
       "if (outputEl) {{\n",
       "    x.observe(outputEl, {childList: true});\n",
       "}}\n",
       "\n",
       "                        })                };                });            </script>        </div>"
      ]
     },
     "metadata": {},
     "output_type": "display_data"
    }
   ],
   "source": [
    "dimension_dict = {'educated': 'Uneducated',\n",
    "                  'urban': 'Rural',\n",
    "                  'calm': 'Temper',\n",
    "                  'friendly': 'Unfriendly',\n",
    "                  'open_to_experience': 'Closed-Minded',\n",
    "                  'conscientiousness': 'Careless'\n",
    "                  }\n",
    "\n",
    "df = pd.read_csv('../output/implicit_robustness_0.9/eval/final.csv')\n",
    "df = df[df['nones'] == 0]\n",
    "\n",
    "\n",
    "group_stats = df.groupby(['model_name', 'dimension'])['bias'].agg(['mean', 'std', 'count']).reset_index()\n",
    "\n",
    "group_stats['se'] = group_stats['std'] / np.sqrt(group_stats['count'])\n",
    "group_stats['t_score'] = group_stats['count'].apply(lambda n: stats.t.ppf(0.95, df=n-1) if n > 1 else 0)\n",
    "group_stats['margin_of_error'] = group_stats['t_score'] * group_stats['se']\n",
    "group_stats['lower'] = group_stats['mean'] - group_stats['margin_of_error']\n",
    "group_stats['upper'] = group_stats['mean'] + group_stats['margin_of_error']\n",
    "\n",
    "\n",
    "\n",
    "for model in group_stats.model_name.unique():\n",
    "    colors = ['#4A68D9', '#60B177', '#F09235', '#F9D949', '#377E7F', '#BFB5D7']\n",
    "\n",
    "    fig = go.Figure()\n",
    "    print(model)\n",
    "\n",
    "    subset = group_stats[group_stats['model_name'] == model]\n",
    "    k = 0\n",
    "    for i, row in subset.iterrows():\n",
    "        fig.add_trace(go.Scatter(\n",
    "            x=[dimension_dict[row['dimension']]],\n",
    "            y=[row['mean']],\n",
    "            error_y=dict(type='data', array=[row['margin_of_error']], visible=True),\n",
    "            marker_color=colors[k],\n",
    "            showlegend=False  # Hide legend if you don't want duplicates\n",
    "        ))\n",
    "        k+=1\n",
    "\n",
    "    # Create color-coded tick labels\n",
    "    dimensions = subset['dimension'].unique()\n",
    "    dimensions = [dimension_dict[x] for x in dimensions]\n",
    "    colored_labels = [f\"<span style='color:{colors[i]}'>{dimensions[i]}</span>\" for i in range(len(dimensions))]\n",
    "\n",
    "    fig.add_shape(\n",
    "        type=\"line\",\n",
    "        y0=0,\n",
    "        x0=dimensions[0],\n",
    "        x1=dimensions[-1],\n",
    "        y1=0,\n",
    "        line=dict(color=\"red\", width=2, dash=\"dash\")\n",
    "    )\n",
    "\n",
    "    # Update layout\n",
    "    fig.update_layout(\n",
    "        title=model,\n",
    "        width=600,\n",
    "        height=350,\n",
    "        font=dict(size=14, color='black'),\n",
    "        margin=dict(\n",
    "        l=50,   # left\n",
    "        r=30,   # right\n",
    "        t=70,   # top\n",
    "        b=50    # bottom\n",
    "    ),\n",
    "        xaxis=dict(\n",
    "            tickmode='array',\n",
    "            tickvals=dimensions,\n",
    "            ticktext=colored_labels\n",
    "        ),\n",
    "        yaxis=dict(\n",
    "        range=[-1.15, 1.15],\n",
    "        showgrid=True,  # Enable grid\n",
    "        gridcolor='lightgray',  # Subtle grid lines\n",
    "        zeroline=False,  # Show axis zero line\n",
    "        #zerolinecolor='black'\n",
    "    ),\n",
    "        bargap=0.3,\n",
    "    )\n",
    "    fig.show()\n",
    "    fig.write_image(f\"../img/robustness_{model}.pdf\")\n"
   ]
  },
  {
   "cell_type": "code",
   "execution_count": 21,
   "id": "254969a7",
   "metadata": {},
   "outputs": [],
   "source": [
    "df['dimension_cut'] = df['dimension'].str[:-2]"
   ]
  },
  {
   "cell_type": "code",
   "execution_count": 34,
   "id": "2e99cbb2",
   "metadata": {},
   "outputs": [
    {
     "data": {
      "text/plain": [
       "0        Qwen2.5-72B\n",
       "1        Qwen2.5-72B\n",
       "2        Qwen2.5-72B\n",
       "3        Qwen2.5-72B\n",
       "4        Qwen2.5-72B\n",
       "            ...     \n",
       "37795         Aya 8B\n",
       "37796         Aya 8B\n",
       "37797         Aya 8B\n",
       "37798         Aya 8B\n",
       "37799         Aya 8B\n",
       "Name: model_name, Length: 37800, dtype: object"
      ]
     },
     "execution_count": 34,
     "metadata": {},
     "output_type": "execute_result"
    }
   ],
   "source": [
    "df.model_name"
   ]
  },
  {
   "cell_type": "code",
   "execution_count": 37,
   "id": "9c4c2130",
   "metadata": {},
   "outputs": [],
   "source": [
    "df2 = pd.read_csv('../output/decision_extracted/Qwen2.5-7B-Instruct.csv')"
   ]
  },
  {
   "cell_type": "code",
   "execution_count": 38,
   "id": "04616524",
   "metadata": {},
   "outputs": [
    {
     "data": {
      "text/plain": [
       "6300"
      ]
     },
     "execution_count": 38,
     "metadata": {},
     "output_type": "execute_result"
    }
   ],
   "source": [
    "len(df2)"
   ]
  },
  {
   "cell_type": "code",
   "execution_count": 61,
   "id": "95b070e3",
   "metadata": {},
   "outputs": [
    {
     "name": "stdout",
     "output_type": "stream",
     "text": [
      "(np.float64(0.43671987404532103), np.float64(0.5423277450022981))\n",
      "0.4895238095238095\n",
      "0.8719899310825195\n",
      "0.026910193499849286\n",
      "1.9622280114330741\n"
     ]
    }
   ],
   "source": [
    "subset = df[(df['model_name'] == 'Qwen2.5-72B') & (df['nones'] == 0) & (df['dimension_cut'] == 'friendly')]\n",
    "\n",
    "biases = subset['bias'].tolist()\n",
    "t_stat, p_value = stats.ttest_1samp(biases, 0)\n",
    "mean_bias = np.mean(biases)\n",
    "std_bias = np.std(biases)#, ddof=1)\n",
    "# Compute the 95% confidence interval\n",
    "n = len(biases)\n",
    "se = std_bias / np.sqrt(n)  # Standard error\n",
    "confidence = 0.95\n",
    "t_score = stats.t.ppf((1 + confidence) / 2, df=n-1)  # t-score for 95% confidence interval\n",
    "margin_of_error = t_score * se\n",
    "confidence_interval = (mean_bias - margin_of_error, mean_bias + margin_of_error)\n",
    "print(confidence_interval)\n",
    "print(mean_bias)\n",
    "print(std_bias)\n",
    "print(se)\n",
    "print(t_score)\n",
    "\n"
   ]
  },
  {
   "cell_type": "code",
   "execution_count": 58,
   "id": "e77ab6db",
   "metadata": {},
   "outputs": [
    {
     "data": {
      "text/html": [
       "<div>\n",
       "<style scoped>\n",
       "    .dataframe tbody tr th:only-of-type {\n",
       "        vertical-align: middle;\n",
       "    }\n",
       "\n",
       "    .dataframe tbody tr th {\n",
       "        vertical-align: top;\n",
       "    }\n",
       "\n",
       "    .dataframe thead th {\n",
       "        text-align: right;\n",
       "    }\n",
       "</style>\n",
       "<table border=\"1\" class=\"dataframe\">\n",
       "  <thead>\n",
       "    <tr style=\"text-align: right;\">\n",
       "      <th></th>\n",
       "      <th>model_name</th>\n",
       "      <th>dimension_cut</th>\n",
       "      <th>mean</th>\n",
       "      <th>std</th>\n",
       "      <th>count</th>\n",
       "      <th>se</th>\n",
       "      <th>t_score</th>\n",
       "      <th>margin_of_error</th>\n",
       "      <th>lower</th>\n",
       "      <th>upper</th>\n",
       "    </tr>\n",
       "  </thead>\n",
       "  <tbody>\n",
       "    <tr>\n",
       "      <th>24</th>\n",
       "      <td>Qwen2.5-72B</td>\n",
       "      <td>calm</td>\n",
       "      <td>0.387035</td>\n",
       "      <td>0.921987</td>\n",
       "      <td>1049</td>\n",
       "      <td>0.028467</td>\n",
       "      <td>1.646309</td>\n",
       "      <td>0.046865</td>\n",
       "      <td>0.340170</td>\n",
       "      <td>0.433900</td>\n",
       "    </tr>\n",
       "    <tr>\n",
       "      <th>25</th>\n",
       "      <td>Qwen2.5-72B</td>\n",
       "      <td>conscientiousness</td>\n",
       "      <td>0.624762</td>\n",
       "      <td>0.748788</td>\n",
       "      <td>1050</td>\n",
       "      <td>0.023108</td>\n",
       "      <td>1.646308</td>\n",
       "      <td>0.038043</td>\n",
       "      <td>0.586719</td>\n",
       "      <td>0.662805</td>\n",
       "    </tr>\n",
       "    <tr>\n",
       "      <th>26</th>\n",
       "      <td>Qwen2.5-72B</td>\n",
       "      <td>educated</td>\n",
       "      <td>0.704918</td>\n",
       "      <td>0.652959</td>\n",
       "      <td>1037</td>\n",
       "      <td>0.020277</td>\n",
       "      <td>1.646326</td>\n",
       "      <td>0.033382</td>\n",
       "      <td>0.671536</td>\n",
       "      <td>0.738300</td>\n",
       "    </tr>\n",
       "    <tr>\n",
       "      <th>27</th>\n",
       "      <td>Qwen2.5-72B</td>\n",
       "      <td>friendly</td>\n",
       "      <td>0.489524</td>\n",
       "      <td>0.872405</td>\n",
       "      <td>1050</td>\n",
       "      <td>0.026923</td>\n",
       "      <td>1.646308</td>\n",
       "      <td>0.044324</td>\n",
       "      <td>0.445200</td>\n",
       "      <td>0.533847</td>\n",
       "    </tr>\n",
       "    <tr>\n",
       "      <th>28</th>\n",
       "      <td>Qwen2.5-72B</td>\n",
       "      <td>open_to_experience</td>\n",
       "      <td>0.266667</td>\n",
       "      <td>0.963259</td>\n",
       "      <td>1050</td>\n",
       "      <td>0.029727</td>\n",
       "      <td>1.646308</td>\n",
       "      <td>0.048939</td>\n",
       "      <td>0.217727</td>\n",
       "      <td>0.315606</td>\n",
       "    </tr>\n",
       "    <tr>\n",
       "      <th>29</th>\n",
       "      <td>Qwen2.5-72B</td>\n",
       "      <td>urban</td>\n",
       "      <td>0.613333</td>\n",
       "      <td>0.788993</td>\n",
       "      <td>1050</td>\n",
       "      <td>0.024349</td>\n",
       "      <td>1.646308</td>\n",
       "      <td>0.040086</td>\n",
       "      <td>0.573248</td>\n",
       "      <td>0.653419</td>\n",
       "    </tr>\n",
       "  </tbody>\n",
       "</table>\n",
       "</div>"
      ],
      "text/plain": [
       "     model_name       dimension_cut      mean       std  count        se  \\\n",
       "24  Qwen2.5-72B                calm  0.387035  0.921987   1049  0.028467   \n",
       "25  Qwen2.5-72B   conscientiousness  0.624762  0.748788   1050  0.023108   \n",
       "26  Qwen2.5-72B            educated  0.704918  0.652959   1037  0.020277   \n",
       "27  Qwen2.5-72B            friendly  0.489524  0.872405   1050  0.026923   \n",
       "28  Qwen2.5-72B  open_to_experience  0.266667  0.963259   1050  0.029727   \n",
       "29  Qwen2.5-72B               urban  0.613333  0.788993   1050  0.024349   \n",
       "\n",
       "     t_score  margin_of_error     lower     upper  \n",
       "24  1.646309         0.046865  0.340170  0.433900  \n",
       "25  1.646308         0.038043  0.586719  0.662805  \n",
       "26  1.646326         0.033382  0.671536  0.738300  \n",
       "27  1.646308         0.044324  0.445200  0.533847  \n",
       "28  1.646308         0.048939  0.217727  0.315606  \n",
       "29  1.646308         0.040086  0.573248  0.653419  "
      ]
     },
     "execution_count": 58,
     "metadata": {},
     "output_type": "execute_result"
    }
   ],
   "source": [
    "group_stats[group_stats['model_name'] == 'Qwen2.5-72B']"
   ]
  },
  {
   "cell_type": "code",
   "execution_count": 13,
   "id": "c134bb98",
   "metadata": {},
   "outputs": [
    {
     "name": "stdout",
     "output_type": "stream",
     "text": [
      "Aya 32b\n"
     ]
    },
    {
     "data": {
      "application/vnd.plotly.v1+json": {
       "config": {
        "plotlyServerURL": "https://plot.ly"
       },
       "data": [
        {
         "error_y": {
          "array": [
           0.048025030982403134
          ],
          "type": "data",
          "visible": true
         },
         "marker": {
          "color": "#4A68D9"
         },
         "showlegend": false,
         "type": "scatter",
         "x": [
          "Temper"
         ],
         "y": [
          0.32761904761904764
         ]
        },
        {
         "error_y": {
          "array": [
           0.042936470966004815
          ],
          "type": "data",
          "visible": true
         },
         "marker": {
          "color": "#60B177"
         },
         "showlegend": false,
         "type": "scatter",
         "x": [
          "Careless"
         ],
         "y": [
          0.5352380952380953
         ]
        },
        {
         "error_y": {
          "array": [
           0.04500468498230181
          ],
          "type": "data",
          "visible": true
         },
         "marker": {
          "color": "#F09235"
         },
         "showlegend": false,
         "type": "scatter",
         "x": [
          "Uneducated"
         ],
         "y": [
          0.43933463796477495
         ]
        },
        {
         "error_y": {
          "array": [
           0.04715518937332964
          ],
          "type": "data",
          "visible": true
         },
         "marker": {
          "color": "#F9D949"
         },
         "showlegend": false,
         "type": "scatter",
         "x": [
          "Unfriendly"
         ],
         "y": [
          0.37333333333333335
         ]
        },
        {
         "error_y": {
          "array": [
           0.048440009712032994
          ],
          "type": "data",
          "visible": true
         },
         "marker": {
          "color": "#377E7F"
         },
         "showlegend": false,
         "type": "scatter",
         "x": [
          "Closed-Minded"
         ],
         "y": [
          0.25812619502868067
         ]
        },
        {
         "error_y": {
          "array": [
           0.04330624779531132
          ],
          "type": "data",
          "visible": true
         },
         "marker": {
          "color": "#BFB5D7"
         },
         "showlegend": false,
         "type": "scatter",
         "x": [
          "Rural"
         ],
         "y": [
          0.518095238095238
         ]
        }
       ],
       "layout": {
        "bargap": 0.3,
        "font": {
         "color": "black",
         "size": 14
        },
        "height": 350,
        "margin": {
         "b": 50,
         "l": 50,
         "r": 30,
         "t": 70
        },
        "shapes": [
         {
          "line": {
           "color": "red",
           "dash": "dash",
           "width": 2
          },
          "type": "line",
          "x0": "Temper",
          "x1": "Rural",
          "y0": 0,
          "y1": 0
         }
        ],
        "template": {},
        "title": {
         "text": "Aya 32b"
        },
        "width": 600,
        "xaxis": {
         "tickmode": "array",
         "ticktext": [
          "<span style='color:#4A68D9'>Temper</span>",
          "<span style='color:#60B177'>Careless</span>",
          "<span style='color:#F09235'>Uneducated</span>",
          "<span style='color:#F9D949'>Unfriendly</span>",
          "<span style='color:#377E7F'>Closed-Minded</span>",
          "<span style='color:#BFB5D7'>Rural</span>"
         ],
         "tickvals": [
          "Temper",
          "Careless",
          "Uneducated",
          "Unfriendly",
          "Closed-Minded",
          "Rural"
         ]
        },
        "yaxis": {
         "gridcolor": "lightgray",
         "range": [
          -1.15,
          1.15
         ],
         "showgrid": true,
         "zeroline": false
        }
       }
      },
      "text/html": [
       "<div>                            <div id=\"325ee561-be2c-4cce-a4f2-e5e5c2eed2ea\" class=\"plotly-graph-div\" style=\"height:350px; width:600px;\"></div>            <script type=\"text/javascript\">                require([\"plotly\"], function(Plotly) {                    window.PLOTLYENV=window.PLOTLYENV || {};                                    if (document.getElementById(\"325ee561-be2c-4cce-a4f2-e5e5c2eed2ea\")) {                    Plotly.newPlot(                        \"325ee561-be2c-4cce-a4f2-e5e5c2eed2ea\",                        [{\"error_y\":{\"array\":[0.048025030982403134],\"type\":\"data\",\"visible\":true},\"marker\":{\"color\":\"#4A68D9\"},\"showlegend\":false,\"x\":[\"Temper\"],\"y\":[0.32761904761904764],\"type\":\"scatter\"},{\"error_y\":{\"array\":[0.042936470966004815],\"type\":\"data\",\"visible\":true},\"marker\":{\"color\":\"#60B177\"},\"showlegend\":false,\"x\":[\"Careless\"],\"y\":[0.5352380952380953],\"type\":\"scatter\"},{\"error_y\":{\"array\":[0.04500468498230181],\"type\":\"data\",\"visible\":true},\"marker\":{\"color\":\"#F09235\"},\"showlegend\":false,\"x\":[\"Uneducated\"],\"y\":[0.43933463796477495],\"type\":\"scatter\"},{\"error_y\":{\"array\":[0.04715518937332964],\"type\":\"data\",\"visible\":true},\"marker\":{\"color\":\"#F9D949\"},\"showlegend\":false,\"x\":[\"Unfriendly\"],\"y\":[0.37333333333333335],\"type\":\"scatter\"},{\"error_y\":{\"array\":[0.048440009712032994],\"type\":\"data\",\"visible\":true},\"marker\":{\"color\":\"#377E7F\"},\"showlegend\":false,\"x\":[\"Closed-Minded\"],\"y\":[0.25812619502868067],\"type\":\"scatter\"},{\"error_y\":{\"array\":[0.04330624779531132],\"type\":\"data\",\"visible\":true},\"marker\":{\"color\":\"#BFB5D7\"},\"showlegend\":false,\"x\":[\"Rural\"],\"y\":[0.518095238095238],\"type\":\"scatter\"}],                        {\"template\":{},\"shapes\":[{\"line\":{\"color\":\"red\",\"dash\":\"dash\",\"width\":2},\"type\":\"line\",\"x0\":\"Temper\",\"x1\":\"Rural\",\"y0\":0,\"y1\":0}],\"font\":{\"size\":14,\"color\":\"black\"},\"margin\":{\"l\":50,\"r\":30,\"t\":70,\"b\":50},\"xaxis\":{\"tickmode\":\"array\",\"tickvals\":[\"Temper\",\"Careless\",\"Uneducated\",\"Unfriendly\",\"Closed-Minded\",\"Rural\"],\"ticktext\":[\"\\u003cspan style='color:#4A68D9'\\u003eTemper\\u003c\\u002fspan\\u003e\",\"\\u003cspan style='color:#60B177'\\u003eCareless\\u003c\\u002fspan\\u003e\",\"\\u003cspan style='color:#F09235'\\u003eUneducated\\u003c\\u002fspan\\u003e\",\"\\u003cspan style='color:#F9D949'\\u003eUnfriendly\\u003c\\u002fspan\\u003e\",\"\\u003cspan style='color:#377E7F'\\u003eClosed-Minded\\u003c\\u002fspan\\u003e\",\"\\u003cspan style='color:#BFB5D7'\\u003eRural\\u003c\\u002fspan\\u003e\"]},\"yaxis\":{\"range\":[-1.15,1.15],\"showgrid\":true,\"gridcolor\":\"lightgray\",\"zeroline\":false},\"title\":{\"text\":\"Aya 32b\"},\"width\":600,\"height\":350,\"bargap\":0.3},                        {\"responsive\": true}                    ).then(function(){\n",
       "                            \n",
       "var gd = document.getElementById('325ee561-be2c-4cce-a4f2-e5e5c2eed2ea');\n",
       "var x = new MutationObserver(function (mutations, observer) {{\n",
       "        var display = window.getComputedStyle(gd).display;\n",
       "        if (!display || display === 'none') {{\n",
       "            console.log([gd, 'removed!']);\n",
       "            Plotly.purge(gd);\n",
       "            observer.disconnect();\n",
       "        }}\n",
       "}});\n",
       "\n",
       "// Listen for the removal of the full notebook cells\n",
       "var notebookContainer = gd.closest('#notebook-container');\n",
       "if (notebookContainer) {{\n",
       "    x.observe(notebookContainer, {childList: true});\n",
       "}}\n",
       "\n",
       "// Listen for the clearing of the current output cell\n",
       "var outputEl = gd.closest('.output');\n",
       "if (outputEl) {{\n",
       "    x.observe(outputEl, {childList: true});\n",
       "}}\n",
       "\n",
       "                        })                };                });            </script>        </div>"
      ]
     },
     "metadata": {},
     "output_type": "display_data"
    },
    {
     "name": "stdout",
     "output_type": "stream",
     "text": [
      "Aya 8B\n"
     ]
    },
    {
     "data": {
      "application/vnd.plotly.v1+json": {
       "config": {
        "plotlyServerURL": "https://plot.ly"
       },
       "data": [
        {
         "error_y": {
          "array": [
           0.05053139473097527
          ],
          "type": "data",
          "visible": true
         },
         "marker": {
          "color": "#4A68D9"
         },
         "showlegend": false,
         "type": "scatter",
         "x": [
          "Temper"
         ],
         "y": [
          0.10380952380952381
         ]
        },
        {
         "error_y": {
          "array": [
           0.04883327489075882
          ],
          "type": "data",
          "visible": true
         },
         "marker": {
          "color": "#60B177"
         },
         "showlegend": false,
         "type": "scatter",
         "x": [
          "Careless"
         ],
         "y": [
          0.24666666666666667
         ]
        },
        {
         "error_y": {
          "array": [
           0.04954882865103413
          ],
          "type": "data",
          "visible": true
         },
         "marker": {
          "color": "#F09235"
         },
         "showlegend": false,
         "type": "scatter",
         "x": [
          "Uneducated"
         ],
         "y": [
          0.20038167938931298
         ]
        },
        {
         "error_y": {
          "array": [
           0.0503409836295592
          ],
          "type": "data",
          "visible": true
         },
         "marker": {
          "color": "#F9D949"
         },
         "showlegend": false,
         "type": "scatter",
         "x": [
          "Unfriendly"
         ],
         "y": [
          0.1450381679389313
         ]
        },
        {
         "error_y": {
          "array": [
           0.05048361308062144
          ],
          "type": "data",
          "visible": true
         },
         "marker": {
          "color": "#377E7F"
         },
         "showlegend": false,
         "type": "scatter",
         "x": [
          "Closed-Minded"
         ],
         "y": [
          0.009578544061302681
         ]
        },
        {
         "error_y": {
          "array": [
           0.05033581179548092
          ],
          "type": "data",
          "visible": true
         },
         "marker": {
          "color": "#BFB5D7"
         },
         "showlegend": false,
         "type": "scatter",
         "x": [
          "Rural"
         ],
         "y": [
          0.11652340019102196
         ]
        }
       ],
       "layout": {
        "bargap": 0.3,
        "font": {
         "color": "black",
         "size": 14
        },
        "height": 350,
        "margin": {
         "b": 50,
         "l": 50,
         "r": 30,
         "t": 70
        },
        "shapes": [
         {
          "line": {
           "color": "red",
           "dash": "dash",
           "width": 2
          },
          "type": "line",
          "x0": "Temper",
          "x1": "Rural",
          "y0": 0,
          "y1": 0
         }
        ],
        "template": {},
        "title": {
         "text": "Aya 8B"
        },
        "width": 600,
        "xaxis": {
         "tickmode": "array",
         "ticktext": [
          "<span style='color:#4A68D9'>Temper</span>",
          "<span style='color:#60B177'>Careless</span>",
          "<span style='color:#F09235'>Uneducated</span>",
          "<span style='color:#F9D949'>Unfriendly</span>",
          "<span style='color:#377E7F'>Closed-Minded</span>",
          "<span style='color:#BFB5D7'>Rural</span>"
         ],
         "tickvals": [
          "Temper",
          "Careless",
          "Uneducated",
          "Unfriendly",
          "Closed-Minded",
          "Rural"
         ]
        },
        "yaxis": {
         "gridcolor": "lightgray",
         "range": [
          -1.15,
          1.15
         ],
         "showgrid": true,
         "zeroline": false
        }
       }
      },
      "text/html": [
       "<div>                            <div id=\"c36bcbf5-7080-4ad9-9fc3-3b14f4ff066b\" class=\"plotly-graph-div\" style=\"height:350px; width:600px;\"></div>            <script type=\"text/javascript\">                require([\"plotly\"], function(Plotly) {                    window.PLOTLYENV=window.PLOTLYENV || {};                                    if (document.getElementById(\"c36bcbf5-7080-4ad9-9fc3-3b14f4ff066b\")) {                    Plotly.newPlot(                        \"c36bcbf5-7080-4ad9-9fc3-3b14f4ff066b\",                        [{\"error_y\":{\"array\":[0.05053139473097527],\"type\":\"data\",\"visible\":true},\"marker\":{\"color\":\"#4A68D9\"},\"showlegend\":false,\"x\":[\"Temper\"],\"y\":[0.10380952380952381],\"type\":\"scatter\"},{\"error_y\":{\"array\":[0.04883327489075882],\"type\":\"data\",\"visible\":true},\"marker\":{\"color\":\"#60B177\"},\"showlegend\":false,\"x\":[\"Careless\"],\"y\":[0.24666666666666667],\"type\":\"scatter\"},{\"error_y\":{\"array\":[0.04954882865103413],\"type\":\"data\",\"visible\":true},\"marker\":{\"color\":\"#F09235\"},\"showlegend\":false,\"x\":[\"Uneducated\"],\"y\":[0.20038167938931298],\"type\":\"scatter\"},{\"error_y\":{\"array\":[0.0503409836295592],\"type\":\"data\",\"visible\":true},\"marker\":{\"color\":\"#F9D949\"},\"showlegend\":false,\"x\":[\"Unfriendly\"],\"y\":[0.1450381679389313],\"type\":\"scatter\"},{\"error_y\":{\"array\":[0.05048361308062144],\"type\":\"data\",\"visible\":true},\"marker\":{\"color\":\"#377E7F\"},\"showlegend\":false,\"x\":[\"Closed-Minded\"],\"y\":[0.009578544061302681],\"type\":\"scatter\"},{\"error_y\":{\"array\":[0.05033581179548092],\"type\":\"data\",\"visible\":true},\"marker\":{\"color\":\"#BFB5D7\"},\"showlegend\":false,\"x\":[\"Rural\"],\"y\":[0.11652340019102196],\"type\":\"scatter\"}],                        {\"template\":{},\"shapes\":[{\"line\":{\"color\":\"red\",\"dash\":\"dash\",\"width\":2},\"type\":\"line\",\"x0\":\"Temper\",\"x1\":\"Rural\",\"y0\":0,\"y1\":0}],\"font\":{\"size\":14,\"color\":\"black\"},\"margin\":{\"l\":50,\"r\":30,\"t\":70,\"b\":50},\"xaxis\":{\"tickmode\":\"array\",\"tickvals\":[\"Temper\",\"Careless\",\"Uneducated\",\"Unfriendly\",\"Closed-Minded\",\"Rural\"],\"ticktext\":[\"\\u003cspan style='color:#4A68D9'\\u003eTemper\\u003c\\u002fspan\\u003e\",\"\\u003cspan style='color:#60B177'\\u003eCareless\\u003c\\u002fspan\\u003e\",\"\\u003cspan style='color:#F09235'\\u003eUneducated\\u003c\\u002fspan\\u003e\",\"\\u003cspan style='color:#F9D949'\\u003eUnfriendly\\u003c\\u002fspan\\u003e\",\"\\u003cspan style='color:#377E7F'\\u003eClosed-Minded\\u003c\\u002fspan\\u003e\",\"\\u003cspan style='color:#BFB5D7'\\u003eRural\\u003c\\u002fspan\\u003e\"]},\"yaxis\":{\"range\":[-1.15,1.15],\"showgrid\":true,\"gridcolor\":\"lightgray\",\"zeroline\":false},\"title\":{\"text\":\"Aya 8B\"},\"width\":600,\"height\":350,\"bargap\":0.3},                        {\"responsive\": true}                    ).then(function(){\n",
       "                            \n",
       "var gd = document.getElementById('c36bcbf5-7080-4ad9-9fc3-3b14f4ff066b');\n",
       "var x = new MutationObserver(function (mutations, observer) {{\n",
       "        var display = window.getComputedStyle(gd).display;\n",
       "        if (!display || display === 'none') {{\n",
       "            console.log([gd, 'removed!']);\n",
       "            Plotly.purge(gd);\n",
       "            observer.disconnect();\n",
       "        }}\n",
       "}});\n",
       "\n",
       "// Listen for the removal of the full notebook cells\n",
       "var notebookContainer = gd.closest('#notebook-container');\n",
       "if (notebookContainer) {{\n",
       "    x.observe(notebookContainer, {childList: true});\n",
       "}}\n",
       "\n",
       "// Listen for the clearing of the current output cell\n",
       "var outputEl = gd.closest('.output');\n",
       "if (outputEl) {{\n",
       "    x.observe(outputEl, {childList: true});\n",
       "}}\n",
       "\n",
       "                        })                };                });            </script>        </div>"
      ]
     },
     "metadata": {},
     "output_type": "display_data"
    },
    {
     "name": "stdout",
     "output_type": "stream",
     "text": [
      "Gemma-3 12B\n"
     ]
    },
    {
     "data": {
      "application/vnd.plotly.v1+json": {
       "config": {
        "plotlyServerURL": "https://plot.ly"
       },
       "data": [
        {
         "error_y": {
          "array": [
           0.04997551844292592
          ],
          "type": "data",
          "visible": true
         },
         "marker": {
          "color": "#4A68D9"
         },
         "showlegend": false,
         "type": "scatter",
         "x": [
          "Temper"
         ],
         "y": [
          0.18
         ]
        },
        {
         "error_y": {
          "array": [
           0.04808494170189912
          ],
          "type": "data",
          "visible": true
         },
         "marker": {
          "color": "#60B177"
         },
         "showlegend": false,
         "type": "scatter",
         "x": [
          "Careless"
         ],
         "y": [
          0.3076190476190476
         ]
        },
        {
         "error_y": {
          "array": [
           0.03836534753975478
          ],
          "type": "data",
          "visible": true
         },
         "marker": {
          "color": "#F09235"
         },
         "showlegend": false,
         "type": "scatter",
         "x": [
          "Uneducated"
         ],
         "y": [
          0.5419479267116682
         ]
        },
        {
         "error_y": {
          "array": [
           0.04901642173476792
          ],
          "type": "data",
          "visible": true
         },
         "marker": {
          "color": "#F9D949"
         },
         "showlegend": false,
         "type": "scatter",
         "x": [
          "Unfriendly"
         ],
         "y": [
          0.26476190476190475
         ]
        },
        {
         "error_y": {
          "array": [
           0.048005922845149825
          ],
          "type": "data",
          "visible": true
         },
         "marker": {
          "color": "#377E7F"
         },
         "showlegend": false,
         "type": "scatter",
         "x": [
          "Closed-Minded"
         ],
         "y": [
          0.2733333333333333
         ]
        },
        {
         "error_y": {
          "array": [
           0.043274280813312735
          ],
          "type": "data",
          "visible": true
         },
         "marker": {
          "color": "#BFB5D7"
         },
         "showlegend": false,
         "type": "scatter",
         "x": [
          "Rural"
         ],
         "y": [
          0.5252621544327931
         ]
        }
       ],
       "layout": {
        "bargap": 0.3,
        "font": {
         "color": "black",
         "size": 14
        },
        "height": 350,
        "margin": {
         "b": 50,
         "l": 50,
         "r": 30,
         "t": 70
        },
        "shapes": [
         {
          "line": {
           "color": "red",
           "dash": "dash",
           "width": 2
          },
          "type": "line",
          "x0": "Temper",
          "x1": "Rural",
          "y0": 0,
          "y1": 0
         }
        ],
        "template": {},
        "title": {
         "text": "Gemma-3 12B"
        },
        "width": 600,
        "xaxis": {
         "tickmode": "array",
         "ticktext": [
          "<span style='color:#4A68D9'>Temper</span>",
          "<span style='color:#60B177'>Careless</span>",
          "<span style='color:#F09235'>Uneducated</span>",
          "<span style='color:#F9D949'>Unfriendly</span>",
          "<span style='color:#377E7F'>Closed-Minded</span>",
          "<span style='color:#BFB5D7'>Rural</span>"
         ],
         "tickvals": [
          "Temper",
          "Careless",
          "Uneducated",
          "Unfriendly",
          "Closed-Minded",
          "Rural"
         ]
        },
        "yaxis": {
         "gridcolor": "lightgray",
         "range": [
          -1.15,
          1.15
         ],
         "showgrid": true,
         "zeroline": false
        }
       }
      },
      "text/html": [
       "<div>                            <div id=\"4f5a7b79-f989-4977-86b9-ad94e2da0f0c\" class=\"plotly-graph-div\" style=\"height:350px; width:600px;\"></div>            <script type=\"text/javascript\">                require([\"plotly\"], function(Plotly) {                    window.PLOTLYENV=window.PLOTLYENV || {};                                    if (document.getElementById(\"4f5a7b79-f989-4977-86b9-ad94e2da0f0c\")) {                    Plotly.newPlot(                        \"4f5a7b79-f989-4977-86b9-ad94e2da0f0c\",                        [{\"error_y\":{\"array\":[0.04997551844292592],\"type\":\"data\",\"visible\":true},\"marker\":{\"color\":\"#4A68D9\"},\"showlegend\":false,\"x\":[\"Temper\"],\"y\":[0.18],\"type\":\"scatter\"},{\"error_y\":{\"array\":[0.04808494170189912],\"type\":\"data\",\"visible\":true},\"marker\":{\"color\":\"#60B177\"},\"showlegend\":false,\"x\":[\"Careless\"],\"y\":[0.3076190476190476],\"type\":\"scatter\"},{\"error_y\":{\"array\":[0.03836534753975478],\"type\":\"data\",\"visible\":true},\"marker\":{\"color\":\"#F09235\"},\"showlegend\":false,\"x\":[\"Uneducated\"],\"y\":[0.5419479267116682],\"type\":\"scatter\"},{\"error_y\":{\"array\":[0.04901642173476792],\"type\":\"data\",\"visible\":true},\"marker\":{\"color\":\"#F9D949\"},\"showlegend\":false,\"x\":[\"Unfriendly\"],\"y\":[0.26476190476190475],\"type\":\"scatter\"},{\"error_y\":{\"array\":[0.048005922845149825],\"type\":\"data\",\"visible\":true},\"marker\":{\"color\":\"#377E7F\"},\"showlegend\":false,\"x\":[\"Closed-Minded\"],\"y\":[0.2733333333333333],\"type\":\"scatter\"},{\"error_y\":{\"array\":[0.043274280813312735],\"type\":\"data\",\"visible\":true},\"marker\":{\"color\":\"#BFB5D7\"},\"showlegend\":false,\"x\":[\"Rural\"],\"y\":[0.5252621544327931],\"type\":\"scatter\"}],                        {\"template\":{},\"shapes\":[{\"line\":{\"color\":\"red\",\"dash\":\"dash\",\"width\":2},\"type\":\"line\",\"x0\":\"Temper\",\"x1\":\"Rural\",\"y0\":0,\"y1\":0}],\"font\":{\"size\":14,\"color\":\"black\"},\"margin\":{\"l\":50,\"r\":30,\"t\":70,\"b\":50},\"xaxis\":{\"tickmode\":\"array\",\"tickvals\":[\"Temper\",\"Careless\",\"Uneducated\",\"Unfriendly\",\"Closed-Minded\",\"Rural\"],\"ticktext\":[\"\\u003cspan style='color:#4A68D9'\\u003eTemper\\u003c\\u002fspan\\u003e\",\"\\u003cspan style='color:#60B177'\\u003eCareless\\u003c\\u002fspan\\u003e\",\"\\u003cspan style='color:#F09235'\\u003eUneducated\\u003c\\u002fspan\\u003e\",\"\\u003cspan style='color:#F9D949'\\u003eUnfriendly\\u003c\\u002fspan\\u003e\",\"\\u003cspan style='color:#377E7F'\\u003eClosed-Minded\\u003c\\u002fspan\\u003e\",\"\\u003cspan style='color:#BFB5D7'\\u003eRural\\u003c\\u002fspan\\u003e\"]},\"yaxis\":{\"range\":[-1.15,1.15],\"showgrid\":true,\"gridcolor\":\"lightgray\",\"zeroline\":false},\"title\":{\"text\":\"Gemma-3 12B\"},\"width\":600,\"height\":350,\"bargap\":0.3},                        {\"responsive\": true}                    ).then(function(){\n",
       "                            \n",
       "var gd = document.getElementById('4f5a7b79-f989-4977-86b9-ad94e2da0f0c');\n",
       "var x = new MutationObserver(function (mutations, observer) {{\n",
       "        var display = window.getComputedStyle(gd).display;\n",
       "        if (!display || display === 'none') {{\n",
       "            console.log([gd, 'removed!']);\n",
       "            Plotly.purge(gd);\n",
       "            observer.disconnect();\n",
       "        }}\n",
       "}});\n",
       "\n",
       "// Listen for the removal of the full notebook cells\n",
       "var notebookContainer = gd.closest('#notebook-container');\n",
       "if (notebookContainer) {{\n",
       "    x.observe(notebookContainer, {childList: true});\n",
       "}}\n",
       "\n",
       "// Listen for the clearing of the current output cell\n",
       "var outputEl = gd.closest('.output');\n",
       "if (outputEl) {{\n",
       "    x.observe(outputEl, {childList: true});\n",
       "}}\n",
       "\n",
       "                        })                };                });            </script>        </div>"
      ]
     },
     "metadata": {},
     "output_type": "display_data"
    },
    {
     "name": "stdout",
     "output_type": "stream",
     "text": [
      "Llama-3.1-8B\n"
     ]
    },
    {
     "data": {
      "application/vnd.plotly.v1+json": {
       "config": {
        "plotlyServerURL": "https://plot.ly"
       },
       "data": [
        {
         "error_y": {
          "array": [
           0.048372192449583316
          ],
          "type": "data",
          "visible": true
         },
         "marker": {
          "color": "#4A68D9"
         },
         "showlegend": false,
         "type": "scatter",
         "x": [
          "Temper"
         ],
         "y": [
          0.30095238095238097
         ]
        },
        {
         "error_y": {
          "array": [
           0.04422448554291558
          ],
          "type": "data",
          "visible": true
         },
         "marker": {
          "color": "#60B177"
         },
         "showlegend": false,
         "type": "scatter",
         "x": [
          "Careless"
         ],
         "y": [
          0.4699714013346044
         ]
        },
        {
         "error_y": {
          "array": [
           0.041712000454182815
          ],
          "type": "data",
          "visible": true
         },
         "marker": {
          "color": "#F09235"
         },
         "showlegend": false,
         "type": "scatter",
         "x": [
          "Uneducated"
         ],
         "y": [
          0.5430784123910939
         ]
        },
        {
         "error_y": {
          "array": [
           0.05050836309517173
          ],
          "type": "data",
          "visible": true
         },
         "marker": {
          "color": "#F9D949"
         },
         "showlegend": false,
         "type": "scatter",
         "x": [
          "Unfriendly"
         ],
         "y": [
          0.11238095238095239
         ]
        },
        {
         "error_y": {
          "array": [
           0.04914870035183494
          ],
          "type": "data",
          "visible": true
         },
         "marker": {
          "color": "#377E7F"
         },
         "showlegend": false,
         "type": "scatter",
         "x": [
          "Closed-Minded"
         ],
         "y": [
          0.223069590085796
         ]
        },
        {
         "error_y": {
          "array": [
           0.046415851892484754
          ],
          "type": "data",
          "visible": true
         },
         "marker": {
          "color": "#BFB5D7"
         },
         "showlegend": false,
         "type": "scatter",
         "x": [
          "Rural"
         ],
         "y": [
          0.4076190476190476
         ]
        }
       ],
       "layout": {
        "bargap": 0.3,
        "font": {
         "color": "black",
         "size": 14
        },
        "height": 350,
        "margin": {
         "b": 50,
         "l": 50,
         "r": 30,
         "t": 70
        },
        "shapes": [
         {
          "line": {
           "color": "red",
           "dash": "dash",
           "width": 2
          },
          "type": "line",
          "x0": "Temper",
          "x1": "Rural",
          "y0": 0,
          "y1": 0
         }
        ],
        "template": {},
        "title": {
         "text": "Llama-3.1-8B"
        },
        "width": 600,
        "xaxis": {
         "tickmode": "array",
         "ticktext": [
          "<span style='color:#4A68D9'>Temper</span>",
          "<span style='color:#60B177'>Careless</span>",
          "<span style='color:#F09235'>Uneducated</span>",
          "<span style='color:#F9D949'>Unfriendly</span>",
          "<span style='color:#377E7F'>Closed-Minded</span>",
          "<span style='color:#BFB5D7'>Rural</span>"
         ],
         "tickvals": [
          "Temper",
          "Careless",
          "Uneducated",
          "Unfriendly",
          "Closed-Minded",
          "Rural"
         ]
        },
        "yaxis": {
         "gridcolor": "lightgray",
         "range": [
          -1.15,
          1.15
         ],
         "showgrid": true,
         "zeroline": false
        }
       }
      },
      "text/html": [
       "<div>                            <div id=\"ce7af80a-bfc0-4e98-9288-a13f2e398da9\" class=\"plotly-graph-div\" style=\"height:350px; width:600px;\"></div>            <script type=\"text/javascript\">                require([\"plotly\"], function(Plotly) {                    window.PLOTLYENV=window.PLOTLYENV || {};                                    if (document.getElementById(\"ce7af80a-bfc0-4e98-9288-a13f2e398da9\")) {                    Plotly.newPlot(                        \"ce7af80a-bfc0-4e98-9288-a13f2e398da9\",                        [{\"error_y\":{\"array\":[0.048372192449583316],\"type\":\"data\",\"visible\":true},\"marker\":{\"color\":\"#4A68D9\"},\"showlegend\":false,\"x\":[\"Temper\"],\"y\":[0.30095238095238097],\"type\":\"scatter\"},{\"error_y\":{\"array\":[0.04422448554291558],\"type\":\"data\",\"visible\":true},\"marker\":{\"color\":\"#60B177\"},\"showlegend\":false,\"x\":[\"Careless\"],\"y\":[0.4699714013346044],\"type\":\"scatter\"},{\"error_y\":{\"array\":[0.041712000454182815],\"type\":\"data\",\"visible\":true},\"marker\":{\"color\":\"#F09235\"},\"showlegend\":false,\"x\":[\"Uneducated\"],\"y\":[0.5430784123910939],\"type\":\"scatter\"},{\"error_y\":{\"array\":[0.05050836309517173],\"type\":\"data\",\"visible\":true},\"marker\":{\"color\":\"#F9D949\"},\"showlegend\":false,\"x\":[\"Unfriendly\"],\"y\":[0.11238095238095239],\"type\":\"scatter\"},{\"error_y\":{\"array\":[0.04914870035183494],\"type\":\"data\",\"visible\":true},\"marker\":{\"color\":\"#377E7F\"},\"showlegend\":false,\"x\":[\"Closed-Minded\"],\"y\":[0.223069590085796],\"type\":\"scatter\"},{\"error_y\":{\"array\":[0.046415851892484754],\"type\":\"data\",\"visible\":true},\"marker\":{\"color\":\"#BFB5D7\"},\"showlegend\":false,\"x\":[\"Rural\"],\"y\":[0.4076190476190476],\"type\":\"scatter\"}],                        {\"template\":{},\"shapes\":[{\"line\":{\"color\":\"red\",\"dash\":\"dash\",\"width\":2},\"type\":\"line\",\"x0\":\"Temper\",\"x1\":\"Rural\",\"y0\":0,\"y1\":0}],\"font\":{\"size\":14,\"color\":\"black\"},\"margin\":{\"l\":50,\"r\":30,\"t\":70,\"b\":50},\"xaxis\":{\"tickmode\":\"array\",\"tickvals\":[\"Temper\",\"Careless\",\"Uneducated\",\"Unfriendly\",\"Closed-Minded\",\"Rural\"],\"ticktext\":[\"\\u003cspan style='color:#4A68D9'\\u003eTemper\\u003c\\u002fspan\\u003e\",\"\\u003cspan style='color:#60B177'\\u003eCareless\\u003c\\u002fspan\\u003e\",\"\\u003cspan style='color:#F09235'\\u003eUneducated\\u003c\\u002fspan\\u003e\",\"\\u003cspan style='color:#F9D949'\\u003eUnfriendly\\u003c\\u002fspan\\u003e\",\"\\u003cspan style='color:#377E7F'\\u003eClosed-Minded\\u003c\\u002fspan\\u003e\",\"\\u003cspan style='color:#BFB5D7'\\u003eRural\\u003c\\u002fspan\\u003e\"]},\"yaxis\":{\"range\":[-1.15,1.15],\"showgrid\":true,\"gridcolor\":\"lightgray\",\"zeroline\":false},\"title\":{\"text\":\"Llama-3.1-8B\"},\"width\":600,\"height\":350,\"bargap\":0.3},                        {\"responsive\": true}                    ).then(function(){\n",
       "                            \n",
       "var gd = document.getElementById('ce7af80a-bfc0-4e98-9288-a13f2e398da9');\n",
       "var x = new MutationObserver(function (mutations, observer) {{\n",
       "        var display = window.getComputedStyle(gd).display;\n",
       "        if (!display || display === 'none') {{\n",
       "            console.log([gd, 'removed!']);\n",
       "            Plotly.purge(gd);\n",
       "            observer.disconnect();\n",
       "        }}\n",
       "}});\n",
       "\n",
       "// Listen for the removal of the full notebook cells\n",
       "var notebookContainer = gd.closest('#notebook-container');\n",
       "if (notebookContainer) {{\n",
       "    x.observe(notebookContainer, {childList: true});\n",
       "}}\n",
       "\n",
       "// Listen for the clearing of the current output cell\n",
       "var outputEl = gd.closest('.output');\n",
       "if (outputEl) {{\n",
       "    x.observe(outputEl, {childList: true});\n",
       "}}\n",
       "\n",
       "                        })                };                });            </script>        </div>"
      ]
     },
     "metadata": {},
     "output_type": "display_data"
    },
    {
     "name": "stdout",
     "output_type": "stream",
     "text": [
      "Qwen2.5-72B\n"
     ]
    },
    {
     "data": {
      "application/vnd.plotly.v1+json": {
       "config": {
        "plotlyServerURL": "https://plot.ly"
       },
       "data": [
        {
         "error_y": {
          "array": [
           0.04686499412805697
          ],
          "type": "data",
          "visible": true
         },
         "marker": {
          "color": "#4A68D9"
         },
         "showlegend": false,
         "type": "scatter",
         "x": [
          "Temper"
         ],
         "y": [
          0.38703527168732127
         ]
        },
        {
         "error_y": {
          "array": [
           0.038043012682647113
          ],
          "type": "data",
          "visible": true
         },
         "marker": {
          "color": "#60B177"
         },
         "showlegend": false,
         "type": "scatter",
         "x": [
          "Careless"
         ],
         "y": [
          0.6247619047619047
         ]
        },
        {
         "error_y": {
          "array": [
           0.0333820219182658
          ],
          "type": "data",
          "visible": true
         },
         "marker": {
          "color": "#F09235"
         },
         "showlegend": false,
         "type": "scatter",
         "x": [
          "Uneducated"
         ],
         "y": [
          0.7049180327868853
         ]
        },
        {
         "error_y": {
          "array": [
           0.04432356515675441
          ],
          "type": "data",
          "visible": true
         },
         "marker": {
          "color": "#F9D949"
         },
         "showlegend": false,
         "type": "scatter",
         "x": [
          "Unfriendly"
         ],
         "y": [
          0.4895238095238095
         ]
        },
        {
         "error_y": {
          "array": [
           0.048939481543967885
          ],
          "type": "data",
          "visible": true
         },
         "marker": {
          "color": "#377E7F"
         },
         "showlegend": false,
         "type": "scatter",
         "x": [
          "Closed-Minded"
         ],
         "y": [
          0.26666666666666666
         ]
        },
        {
         "error_y": {
          "array": [
           0.04008571092514708
          ],
          "type": "data",
          "visible": true
         },
         "marker": {
          "color": "#BFB5D7"
         },
         "showlegend": false,
         "type": "scatter",
         "x": [
          "Rural"
         ],
         "y": [
          0.6133333333333333
         ]
        }
       ],
       "layout": {
        "bargap": 0.3,
        "font": {
         "color": "black",
         "size": 14
        },
        "height": 350,
        "margin": {
         "b": 50,
         "l": 50,
         "r": 30,
         "t": 70
        },
        "shapes": [
         {
          "line": {
           "color": "red",
           "dash": "dash",
           "width": 2
          },
          "type": "line",
          "x0": "Temper",
          "x1": "Rural",
          "y0": 0,
          "y1": 0
         }
        ],
        "template": {},
        "title": {
         "text": "Qwen2.5-72B"
        },
        "width": 600,
        "xaxis": {
         "tickmode": "array",
         "ticktext": [
          "<span style='color:#4A68D9'>Temper</span>",
          "<span style='color:#60B177'>Careless</span>",
          "<span style='color:#F09235'>Uneducated</span>",
          "<span style='color:#F9D949'>Unfriendly</span>",
          "<span style='color:#377E7F'>Closed-Minded</span>",
          "<span style='color:#BFB5D7'>Rural</span>"
         ],
         "tickvals": [
          "Temper",
          "Careless",
          "Uneducated",
          "Unfriendly",
          "Closed-Minded",
          "Rural"
         ]
        },
        "yaxis": {
         "gridcolor": "lightgray",
         "range": [
          -1.15,
          1.15
         ],
         "showgrid": true,
         "zeroline": false
        }
       }
      },
      "text/html": [
       "<div>                            <div id=\"3d56daa1-a5c6-41c1-aaea-4139e571ccb9\" class=\"plotly-graph-div\" style=\"height:350px; width:600px;\"></div>            <script type=\"text/javascript\">                require([\"plotly\"], function(Plotly) {                    window.PLOTLYENV=window.PLOTLYENV || {};                                    if (document.getElementById(\"3d56daa1-a5c6-41c1-aaea-4139e571ccb9\")) {                    Plotly.newPlot(                        \"3d56daa1-a5c6-41c1-aaea-4139e571ccb9\",                        [{\"error_y\":{\"array\":[0.04686499412805697],\"type\":\"data\",\"visible\":true},\"marker\":{\"color\":\"#4A68D9\"},\"showlegend\":false,\"x\":[\"Temper\"],\"y\":[0.38703527168732127],\"type\":\"scatter\"},{\"error_y\":{\"array\":[0.038043012682647113],\"type\":\"data\",\"visible\":true},\"marker\":{\"color\":\"#60B177\"},\"showlegend\":false,\"x\":[\"Careless\"],\"y\":[0.6247619047619047],\"type\":\"scatter\"},{\"error_y\":{\"array\":[0.0333820219182658],\"type\":\"data\",\"visible\":true},\"marker\":{\"color\":\"#F09235\"},\"showlegend\":false,\"x\":[\"Uneducated\"],\"y\":[0.7049180327868853],\"type\":\"scatter\"},{\"error_y\":{\"array\":[0.04432356515675441],\"type\":\"data\",\"visible\":true},\"marker\":{\"color\":\"#F9D949\"},\"showlegend\":false,\"x\":[\"Unfriendly\"],\"y\":[0.4895238095238095],\"type\":\"scatter\"},{\"error_y\":{\"array\":[0.048939481543967885],\"type\":\"data\",\"visible\":true},\"marker\":{\"color\":\"#377E7F\"},\"showlegend\":false,\"x\":[\"Closed-Minded\"],\"y\":[0.26666666666666666],\"type\":\"scatter\"},{\"error_y\":{\"array\":[0.04008571092514708],\"type\":\"data\",\"visible\":true},\"marker\":{\"color\":\"#BFB5D7\"},\"showlegend\":false,\"x\":[\"Rural\"],\"y\":[0.6133333333333333],\"type\":\"scatter\"}],                        {\"template\":{},\"shapes\":[{\"line\":{\"color\":\"red\",\"dash\":\"dash\",\"width\":2},\"type\":\"line\",\"x0\":\"Temper\",\"x1\":\"Rural\",\"y0\":0,\"y1\":0}],\"font\":{\"size\":14,\"color\":\"black\"},\"margin\":{\"l\":50,\"r\":30,\"t\":70,\"b\":50},\"xaxis\":{\"tickmode\":\"array\",\"tickvals\":[\"Temper\",\"Careless\",\"Uneducated\",\"Unfriendly\",\"Closed-Minded\",\"Rural\"],\"ticktext\":[\"\\u003cspan style='color:#4A68D9'\\u003eTemper\\u003c\\u002fspan\\u003e\",\"\\u003cspan style='color:#60B177'\\u003eCareless\\u003c\\u002fspan\\u003e\",\"\\u003cspan style='color:#F09235'\\u003eUneducated\\u003c\\u002fspan\\u003e\",\"\\u003cspan style='color:#F9D949'\\u003eUnfriendly\\u003c\\u002fspan\\u003e\",\"\\u003cspan style='color:#377E7F'\\u003eClosed-Minded\\u003c\\u002fspan\\u003e\",\"\\u003cspan style='color:#BFB5D7'\\u003eRural\\u003c\\u002fspan\\u003e\"]},\"yaxis\":{\"range\":[-1.15,1.15],\"showgrid\":true,\"gridcolor\":\"lightgray\",\"zeroline\":false},\"title\":{\"text\":\"Qwen2.5-72B\"},\"width\":600,\"height\":350,\"bargap\":0.3},                        {\"responsive\": true}                    ).then(function(){\n",
       "                            \n",
       "var gd = document.getElementById('3d56daa1-a5c6-41c1-aaea-4139e571ccb9');\n",
       "var x = new MutationObserver(function (mutations, observer) {{\n",
       "        var display = window.getComputedStyle(gd).display;\n",
       "        if (!display || display === 'none') {{\n",
       "            console.log([gd, 'removed!']);\n",
       "            Plotly.purge(gd);\n",
       "            observer.disconnect();\n",
       "        }}\n",
       "}});\n",
       "\n",
       "// Listen for the removal of the full notebook cells\n",
       "var notebookContainer = gd.closest('#notebook-container');\n",
       "if (notebookContainer) {{\n",
       "    x.observe(notebookContainer, {childList: true});\n",
       "}}\n",
       "\n",
       "// Listen for the clearing of the current output cell\n",
       "var outputEl = gd.closest('.output');\n",
       "if (outputEl) {{\n",
       "    x.observe(outputEl, {childList: true});\n",
       "}}\n",
       "\n",
       "                        })                };                });            </script>        </div>"
      ]
     },
     "metadata": {},
     "output_type": "display_data"
    },
    {
     "name": "stdout",
     "output_type": "stream",
     "text": [
      "Qwen2.5-7B\n"
     ]
    },
    {
     "data": {
      "application/vnd.plotly.v1+json": {
       "config": {
        "plotlyServerURL": "https://plot.ly"
       },
       "data": [
        {
         "error_y": {
          "array": [
           0.049905950748829725
          ],
          "type": "data",
          "visible": true
         },
         "marker": {
          "color": "#4A68D9"
         },
         "showlegend": false,
         "type": "scatter",
         "x": [
          "Temper"
         ],
         "y": [
          0.18476190476190477
         ]
        },
        {
         "error_y": {
          "array": [
           0.047534514446818096
          ],
          "type": "data",
          "visible": true
         },
         "marker": {
          "color": "#60B177"
         },
         "showlegend": false,
         "type": "scatter",
         "x": [
          "Careless"
         ],
         "y": [
          0.3260247855100095
         ]
        },
        {
         "error_y": {
          "array": [
           0.04632713392505109
          ],
          "type": "data",
          "visible": true
         },
         "marker": {
          "color": "#F09235"
         },
         "showlegend": false,
         "type": "scatter",
         "x": [
          "Uneducated"
         ],
         "y": [
          0.3856589147286822
         ]
        },
        {
         "error_y": {
          "array": [
           0.05065958163881158
          ],
          "type": "data",
          "visible": true
         },
         "marker": {
          "color": "#F9D949"
         },
         "showlegend": false,
         "type": "scatter",
         "x": [
          "Unfriendly"
         ],
         "y": [
          0.08190476190476191
         ]
        },
        {
         "error_y": {
          "array": [
           0.050613416189504
          ],
          "type": "data",
          "visible": true
         },
         "marker": {
          "color": "#377E7F"
         },
         "showlegend": false,
         "type": "scatter",
         "x": [
          "Closed-Minded"
         ],
         "y": [
          0.07523809523809524
         ]
        },
        {
         "error_y": {
          "array": [
           0.04980338159651408
          ],
          "type": "data",
          "visible": true
         },
         "marker": {
          "color": "#BFB5D7"
         },
         "showlegend": false,
         "type": "scatter",
         "x": [
          "Rural"
         ],
         "y": [
          0.2
         ]
        }
       ],
       "layout": {
        "bargap": 0.3,
        "font": {
         "color": "black",
         "size": 14
        },
        "height": 350,
        "margin": {
         "b": 50,
         "l": 50,
         "r": 30,
         "t": 70
        },
        "shapes": [
         {
          "line": {
           "color": "red",
           "dash": "dash",
           "width": 2
          },
          "type": "line",
          "x0": "Temper",
          "x1": "Rural",
          "y0": 0,
          "y1": 0
         }
        ],
        "template": {},
        "title": {
         "text": "Qwen2.5-7B"
        },
        "width": 600,
        "xaxis": {
         "tickmode": "array",
         "ticktext": [
          "<span style='color:#4A68D9'>Temper</span>",
          "<span style='color:#60B177'>Careless</span>",
          "<span style='color:#F09235'>Uneducated</span>",
          "<span style='color:#F9D949'>Unfriendly</span>",
          "<span style='color:#377E7F'>Closed-Minded</span>",
          "<span style='color:#BFB5D7'>Rural</span>"
         ],
         "tickvals": [
          "Temper",
          "Careless",
          "Uneducated",
          "Unfriendly",
          "Closed-Minded",
          "Rural"
         ]
        },
        "yaxis": {
         "gridcolor": "lightgray",
         "range": [
          -1.15,
          1.15
         ],
         "showgrid": true,
         "zeroline": false
        }
       }
      },
      "text/html": [
       "<div>                            <div id=\"8af724b6-2639-4038-9de8-160a462135e9\" class=\"plotly-graph-div\" style=\"height:350px; width:600px;\"></div>            <script type=\"text/javascript\">                require([\"plotly\"], function(Plotly) {                    window.PLOTLYENV=window.PLOTLYENV || {};                                    if (document.getElementById(\"8af724b6-2639-4038-9de8-160a462135e9\")) {                    Plotly.newPlot(                        \"8af724b6-2639-4038-9de8-160a462135e9\",                        [{\"error_y\":{\"array\":[0.049905950748829725],\"type\":\"data\",\"visible\":true},\"marker\":{\"color\":\"#4A68D9\"},\"showlegend\":false,\"x\":[\"Temper\"],\"y\":[0.18476190476190477],\"type\":\"scatter\"},{\"error_y\":{\"array\":[0.047534514446818096],\"type\":\"data\",\"visible\":true},\"marker\":{\"color\":\"#60B177\"},\"showlegend\":false,\"x\":[\"Careless\"],\"y\":[0.3260247855100095],\"type\":\"scatter\"},{\"error_y\":{\"array\":[0.04632713392505109],\"type\":\"data\",\"visible\":true},\"marker\":{\"color\":\"#F09235\"},\"showlegend\":false,\"x\":[\"Uneducated\"],\"y\":[0.3856589147286822],\"type\":\"scatter\"},{\"error_y\":{\"array\":[0.05065958163881158],\"type\":\"data\",\"visible\":true},\"marker\":{\"color\":\"#F9D949\"},\"showlegend\":false,\"x\":[\"Unfriendly\"],\"y\":[0.08190476190476191],\"type\":\"scatter\"},{\"error_y\":{\"array\":[0.050613416189504],\"type\":\"data\",\"visible\":true},\"marker\":{\"color\":\"#377E7F\"},\"showlegend\":false,\"x\":[\"Closed-Minded\"],\"y\":[0.07523809523809524],\"type\":\"scatter\"},{\"error_y\":{\"array\":[0.04980338159651408],\"type\":\"data\",\"visible\":true},\"marker\":{\"color\":\"#BFB5D7\"},\"showlegend\":false,\"x\":[\"Rural\"],\"y\":[0.2],\"type\":\"scatter\"}],                        {\"template\":{},\"shapes\":[{\"line\":{\"color\":\"red\",\"dash\":\"dash\",\"width\":2},\"type\":\"line\",\"x0\":\"Temper\",\"x1\":\"Rural\",\"y0\":0,\"y1\":0}],\"font\":{\"size\":14,\"color\":\"black\"},\"margin\":{\"l\":50,\"r\":30,\"t\":70,\"b\":50},\"xaxis\":{\"tickmode\":\"array\",\"tickvals\":[\"Temper\",\"Careless\",\"Uneducated\",\"Unfriendly\",\"Closed-Minded\",\"Rural\"],\"ticktext\":[\"\\u003cspan style='color:#4A68D9'\\u003eTemper\\u003c\\u002fspan\\u003e\",\"\\u003cspan style='color:#60B177'\\u003eCareless\\u003c\\u002fspan\\u003e\",\"\\u003cspan style='color:#F09235'\\u003eUneducated\\u003c\\u002fspan\\u003e\",\"\\u003cspan style='color:#F9D949'\\u003eUnfriendly\\u003c\\u002fspan\\u003e\",\"\\u003cspan style='color:#377E7F'\\u003eClosed-Minded\\u003c\\u002fspan\\u003e\",\"\\u003cspan style='color:#BFB5D7'\\u003eRural\\u003c\\u002fspan\\u003e\"]},\"yaxis\":{\"range\":[-1.15,1.15],\"showgrid\":true,\"gridcolor\":\"lightgray\",\"zeroline\":false},\"title\":{\"text\":\"Qwen2.5-7B\"},\"width\":600,\"height\":350,\"bargap\":0.3},                        {\"responsive\": true}                    ).then(function(){\n",
       "                            \n",
       "var gd = document.getElementById('8af724b6-2639-4038-9de8-160a462135e9');\n",
       "var x = new MutationObserver(function (mutations, observer) {{\n",
       "        var display = window.getComputedStyle(gd).display;\n",
       "        if (!display || display === 'none') {{\n",
       "            console.log([gd, 'removed!']);\n",
       "            Plotly.purge(gd);\n",
       "            observer.disconnect();\n",
       "        }}\n",
       "}});\n",
       "\n",
       "// Listen for the removal of the full notebook cells\n",
       "var notebookContainer = gd.closest('#notebook-container');\n",
       "if (notebookContainer) {{\n",
       "    x.observe(notebookContainer, {childList: true});\n",
       "}}\n",
       "\n",
       "// Listen for the clearing of the current output cell\n",
       "var outputEl = gd.closest('.output');\n",
       "if (outputEl) {{\n",
       "    x.observe(outputEl, {childList: true});\n",
       "}}\n",
       "\n",
       "                        })                };                });            </script>        </div>"
      ]
     },
     "metadata": {},
     "output_type": "display_data"
    }
   ],
   "source": [
    "import scipy.stats as stats\n",
    "\n",
    "dimension_dict = {'educated': 'Uneducated',\n",
    "                  'urban': 'Rural',\n",
    "                  'calm': 'Temper',\n",
    "                  'friendly': 'Unfriendly',\n",
    "                  'open_to_experience': 'Closed-Minded',\n",
    "                  'conscientiousness': 'Careless'\n",
    "                  }\n",
    "\n",
    "df = pd.read_csv('../output/decision_extracted/eval/final.csv')\n",
    "df['dimension_cut'] = df['dimension'].str[:-2]\n",
    "df = df[df['nones'] == 0]\n",
    "\n",
    "\n",
    "group_stats = df.groupby(['model_name', 'dimension_cut'])['bias'].agg(['mean', 'std', 'count']).reset_index()\n",
    "\n",
    "group_stats['se'] = group_stats['std'] / np.sqrt(group_stats['count'])\n",
    "group_stats['t_score'] = group_stats['count'].apply(lambda n: stats.t.ppf(0.95, df=n-1) if n > 1 else 0)\n",
    "group_stats['margin_of_error'] = group_stats['t_score'] * group_stats['se']\n",
    "group_stats['lower'] = group_stats['mean'] - group_stats['margin_of_error']\n",
    "group_stats['upper'] = group_stats['mean'] + group_stats['margin_of_error']\n",
    "\n",
    "\n",
    "\n",
    "for model in group_stats.model_name.unique():\n",
    "    colors = ['#4A68D9', '#60B177', '#F09235', '#F9D949', '#377E7F', '#BFB5D7']\n",
    "\n",
    "    fig = go.Figure()\n",
    "    print(model)\n",
    "\n",
    "    subset = group_stats[group_stats['model_name'] == model]\n",
    "    k = 0\n",
    "    for i, row in subset.iterrows():\n",
    "        fig.add_trace(go.Scatter(\n",
    "            x=[dimension_dict[row['dimension_cut']]],\n",
    "            y=[row['mean']],\n",
    "            error_y=dict(type='data', array=[row['margin_of_error']], visible=True),\n",
    "            marker_color=colors[k],\n",
    "            showlegend=False  # Hide legend if you don't want duplicates\n",
    "        ))\n",
    "        k+=1\n",
    "\n",
    "    # Create color-coded tick labels\n",
    "    dimensions = subset['dimension_cut'].unique()\n",
    "    dimensions = [dimension_dict[x] for x in dimensions]\n",
    "    colored_labels = [f\"<span style='color:{colors[i]}'>{dimensions[i]}</span>\" for i in range(len(dimensions))]\n",
    "\n",
    "    fig.add_shape(\n",
    "        type=\"line\",\n",
    "        y0=0,\n",
    "        x0=dimensions[0],\n",
    "        x1=dimensions[-1],\n",
    "        y1=0,\n",
    "        line=dict(color=\"red\", width=2, dash=\"dash\")\n",
    "    )\n",
    "\n",
    "    # Update layout\n",
    "    fig.update_layout(\n",
    "        title=model,\n",
    "        width=600,\n",
    "        height=350,\n",
    "        font=dict(size=14, color='black'),\n",
    "        margin=dict(\n",
    "        l=50,   # left\n",
    "        r=30,   # right\n",
    "        t=70,   # top\n",
    "        b=50    # bottom\n",
    "    ),\n",
    "        xaxis=dict(\n",
    "            tickmode='array',\n",
    "            tickvals=dimensions,\n",
    "            ticktext=colored_labels\n",
    "        ),\n",
    "        yaxis=dict(\n",
    "        range=[-1.15, 1.15],\n",
    "        showgrid=True,  # Enable grid\n",
    "        gridcolor='lightgray',  # Subtle grid lines\n",
    "        zeroline=False,  # Show axis zero line\n",
    "        #zerolinecolor='black'\n",
    "    ),\n",
    "        bargap=0.3,\n",
    "    )\n",
    "    fig.show()\n",
    "    fig.write_image(f\"../img/decision_{model}.pdf\")\n"
   ]
  },
  {
   "cell_type": "markdown",
   "id": "535c853c",
   "metadata": {},
   "source": [
    "## Plot marked personas results"
   ]
  },
  {
   "cell_type": "code",
   "execution_count": 12,
   "id": "3028239c",
   "metadata": {},
   "outputs": [],
   "source": [
    "df = pd.read_csv('../output/decision_stories/eval/results.csv')"
   ]
  },
  {
   "cell_type": "code",
   "execution_count": 13,
   "id": "255ed096",
   "metadata": {},
   "outputs": [],
   "source": [
    "df['dimension'] = df['Task'].str[:-2]"
   ]
  },
  {
   "cell_type": "code",
   "execution_count": 14,
   "id": "6dcb26c8",
   "metadata": {},
   "outputs": [],
   "source": [
    "group = df.groupby(['Target Group','Model', 'dimension'])['Word'].count()"
   ]
  },
  {
   "cell_type": "code",
   "execution_count": 15,
   "id": "ee06a430",
   "metadata": {},
   "outputs": [],
   "source": [
    "grouped = df.groupby(['Target Group','Model', 'dimension', 'Word']).agg(\n",
    "    Count=(\"Word\", \"count\"),\n",
    "    Total_Value=(\"Value\", \"sum\")\n",
    ").reset_index()"
   ]
  },
  {
   "cell_type": "code",
   "execution_count": 33,
   "id": "3ed75dda",
   "metadata": {},
   "outputs": [
    {
     "data": {
      "text/plain": [
       "array(['urban', 'open_to_experience', 'friendly', 'educated',\n",
       "       'conscientiousness', 'calm'], dtype=object)"
      ]
     },
     "execution_count": 33,
     "metadata": {},
     "output_type": "execute_result"
    }
   ],
   "source": [
    "df.dimension.unique()"
   ]
  },
  {
   "cell_type": "code",
   "execution_count": 40,
   "id": "48671d86",
   "metadata": {},
   "outputs": [
    {
     "data": {
      "application/vnd.plotly.v1+json": {
       "config": {
        "plotlyServerURL": "https://plot.ly"
       },
       "data": [
        {
         "marker": {
          "color": "rgba(173, 216, 230, 0.8)",
          "line": {
           "color": "rgba(0, 0, 139, 0.6)",
           "width": 1.5
          }
         },
         "name": "Standard",
         "orientation": "h",
         "text": [
          14.16,
          11.3,
          8.78,
          7.78,
          6.84,
          6.6,
          5.69,
          5.5,
          5.31,
          4.77,
          4.41,
          4.25,
          4.05
         ],
         "textposition": "auto",
         "type": "bar",
         "x": [
          -14.16,
          -11.3,
          -8.78,
          -7.78,
          -6.84,
          -6.6,
          -5.69,
          -5.5,
          -5.31,
          -4.77,
          -4.41,
          -4.25,
          -4.05
         ],
         "y": [
          "concise",
          "clear",
          "professional",
          "presents",
          "effectively",
          "clarity",
          "written",
          "standard",
          "requiring",
          "capable",
          "organizational",
          "factual",
          "effective"
         ]
        },
        {
         "marker": {
          "color": "rgba(255, 182, 193, 0.8)",
          "line": {
           "color": "rgba(139, 0, 0, 0.6)",
           "width": 1.5
          }
         },
         "name": "Dialect",
         "orientation": "h",
         "text": [
          5.03,
          5.03,
          5.41,
          5.59,
          5.78,
          5.88,
          6,
          6.43,
          6.69,
          7.13,
          7.91,
          8.66,
          8.94,
          9.17,
          9.39,
          9.6,
          10.42,
          11.12,
          11.27,
          11.6
         ],
         "textposition": "auto",
         "type": "bar",
         "x": [
          5.03,
          5.03,
          5.41,
          5.59,
          5.78,
          5.88,
          6,
          6.43,
          6.69,
          7.13,
          7.91,
          8.66,
          8.94,
          9.17,
          9.39,
          9.6,
          10.42,
          11.12,
          11.27,
          11.6
         ],
         "y": [
          "enthusiastic",
          "low",
          "friendly",
          "cultural",
          "interpersonal",
          "connect",
          "local",
          "linguistic",
          "distinctive",
          "adaptability",
          "engaging",
          "dialects",
          "colloquial",
          "approachable",
          "personable",
          "unique",
          "informal",
          "dialect",
          "regional",
          "conversational"
         ]
        }
       ],
       "layout": {
        "barcornerradius": 5,
        "barmode": "relative",
        "height": 550,
        "legend": {
         "orientation": "h",
         "x": 0.5,
         "xanchor": "center",
         "y": -0.2,
         "yanchor": "bottom"
        },
        "margin": {
         "b": 20,
         "l": 100,
         "r": 10,
         "t": 40
        },
        "template": {},
        "title": {
         "text": "gemma-3-12b-it"
        },
        "width": 400,
        "xaxis": {
         "zeroline": true,
         "zerolinecolor": "gray",
         "zerolinewidth": 2
        }
       }
      },
      "text/html": [
       "<div>                            <div id=\"1ddb9d61-39b2-4a90-ab7f-c77044566ff7\" class=\"plotly-graph-div\" style=\"height:550px; width:400px;\"></div>            <script type=\"text/javascript\">                require([\"plotly\"], function(Plotly) {                    window.PLOTLYENV=window.PLOTLYENV || {};                                    if (document.getElementById(\"1ddb9d61-39b2-4a90-ab7f-c77044566ff7\")) {                    Plotly.newPlot(                        \"1ddb9d61-39b2-4a90-ab7f-c77044566ff7\",                        [{\"marker\":{\"color\":\"rgba(173, 216, 230, 0.8)\",\"line\":{\"color\":\"rgba(0, 0, 139, 0.6)\",\"width\":1.5}},\"name\":\"Standard\",\"orientation\":\"h\",\"text\":[14.16,11.3,8.78,7.78,6.84,6.6,5.69,5.5,5.31,4.77,4.41,4.25,4.05],\"textposition\":\"auto\",\"x\":[-14.16,-11.3,-8.78,-7.78,-6.84,-6.6,-5.69,-5.5,-5.31,-4.77,-4.41,-4.25,-4.05],\"y\":[\"concise\",\"clear\",\"professional\",\"presents\",\"effectively\",\"clarity\",\"written\",\"standard\",\"requiring\",\"capable\",\"organizational\",\"factual\",\"effective\"],\"type\":\"bar\"},{\"marker\":{\"color\":\"rgba(255, 182, 193, 0.8)\",\"line\":{\"color\":\"rgba(139, 0, 0, 0.6)\",\"width\":1.5}},\"name\":\"Dialect\",\"orientation\":\"h\",\"text\":[5.03,5.03,5.41,5.59,5.78,5.88,6.0,6.43,6.69,7.13,7.91,8.66,8.94,9.17,9.39,9.6,10.42,11.12,11.27,11.6],\"textposition\":\"auto\",\"x\":[5.03,5.03,5.41,5.59,5.78,5.88,6.0,6.43,6.69,7.13,7.91,8.66,8.94,9.17,9.39,9.6,10.42,11.12,11.27,11.6],\"y\":[\"enthusiastic\",\"low\",\"friendly\",\"cultural\",\"interpersonal\",\"connect\",\"local\",\"linguistic\",\"distinctive\",\"adaptability\",\"engaging\",\"dialects\",\"colloquial\",\"approachable\",\"personable\",\"unique\",\"informal\",\"dialect\",\"regional\",\"conversational\"],\"type\":\"bar\"}],                        {\"template\":{},\"xaxis\":{\"zeroline\":true,\"zerolinewidth\":2,\"zerolinecolor\":\"gray\"},\"legend\":{\"orientation\":\"h\",\"yanchor\":\"bottom\",\"y\":-0.2,\"xanchor\":\"center\",\"x\":0.5},\"margin\":{\"l\":100,\"r\":10,\"t\":40,\"b\":20},\"title\":{\"text\":\"gemma-3-12b-it\"},\"width\":400,\"height\":550,\"barmode\":\"relative\",\"barcornerradius\":5},                        {\"responsive\": true}                    ).then(function(){\n",
       "                            \n",
       "var gd = document.getElementById('1ddb9d61-39b2-4a90-ab7f-c77044566ff7');\n",
       "var x = new MutationObserver(function (mutations, observer) {{\n",
       "        var display = window.getComputedStyle(gd).display;\n",
       "        if (!display || display === 'none') {{\n",
       "            console.log([gd, 'removed!']);\n",
       "            Plotly.purge(gd);\n",
       "            observer.disconnect();\n",
       "        }}\n",
       "}});\n",
       "\n",
       "// Listen for the removal of the full notebook cells\n",
       "var notebookContainer = gd.closest('#notebook-container');\n",
       "if (notebookContainer) {{\n",
       "    x.observe(notebookContainer, {childList: true});\n",
       "}}\n",
       "\n",
       "// Listen for the clearing of the current output cell\n",
       "var outputEl = gd.closest('.output');\n",
       "if (outputEl) {{\n",
       "    x.observe(outputEl, {childList: true});\n",
       "}}\n",
       "\n",
       "                        })                };                });            </script>        </div>"
      ]
     },
     "metadata": {},
     "output_type": "display_data"
    },
    {
     "data": {
      "application/vnd.plotly.v1+json": {
       "config": {
        "plotlyServerURL": "https://plot.ly"
       },
       "data": [
        {
         "marker": {
          "color": "rgba(173, 216, 230, 0.8)",
          "line": {
           "color": "rgba(0, 0, 139, 0.6)",
           "width": 1.5
          }
         },
         "name": "Standard",
         "orientation": "h",
         "text": [
          9.08,
          8.67,
          6.67,
          4.34
         ],
         "textposition": "auto",
         "type": "bar",
         "x": [
          -9.08,
          -8.67,
          -6.67,
          -4.34
         ],
         "y": [
          "concise",
          "clear",
          "communicator",
          "information"
         ]
        },
        {
         "marker": {
          "color": "rgba(255, 182, 193, 0.8)",
          "line": {
           "color": "rgba(139, 0, 0, 0.6)",
           "width": 1.5
          }
         },
         "name": "Dialect",
         "orientation": "h",
         "text": [
          4.33,
          4.42,
          4.86,
          5.12,
          5.16,
          5.31,
          5.74,
          7.66,
          8.31
         ],
         "textposition": "auto",
         "type": "bar",
         "x": [
          4.33,
          4.42,
          4.86,
          5.12,
          5.16,
          5.31,
          5.74,
          7.66,
          8.31
         ],
         "y": [
          "dialect",
          "use",
          "shares",
          "unique",
          "engagement",
          "informal",
          "enthusiasm",
          "playful",
          "conversational"
         ]
        }
       ],
       "layout": {
        "barcornerradius": 5,
        "barmode": "relative",
        "height": 550,
        "legend": {
         "orientation": "h",
         "x": 0.5,
         "xanchor": "center",
         "y": -0.2,
         "yanchor": "bottom"
        },
        "margin": {
         "b": 20,
         "l": 100,
         "r": 10,
         "t": 40
        },
        "template": {},
        "title": {
         "text": "aya-expanse-8b"
        },
        "width": 400,
        "xaxis": {
         "zeroline": true,
         "zerolinecolor": "gray",
         "zerolinewidth": 2
        }
       }
      },
      "text/html": [
       "<div>                            <div id=\"59c38ff1-3503-4261-9e12-fadfc4a05187\" class=\"plotly-graph-div\" style=\"height:550px; width:400px;\"></div>            <script type=\"text/javascript\">                require([\"plotly\"], function(Plotly) {                    window.PLOTLYENV=window.PLOTLYENV || {};                                    if (document.getElementById(\"59c38ff1-3503-4261-9e12-fadfc4a05187\")) {                    Plotly.newPlot(                        \"59c38ff1-3503-4261-9e12-fadfc4a05187\",                        [{\"marker\":{\"color\":\"rgba(173, 216, 230, 0.8)\",\"line\":{\"color\":\"rgba(0, 0, 139, 0.6)\",\"width\":1.5}},\"name\":\"Standard\",\"orientation\":\"h\",\"text\":[9.08,8.67,6.67,4.34],\"textposition\":\"auto\",\"x\":[-9.08,-8.67,-6.67,-4.34],\"y\":[\"concise\",\"clear\",\"communicator\",\"information\"],\"type\":\"bar\"},{\"marker\":{\"color\":\"rgba(255, 182, 193, 0.8)\",\"line\":{\"color\":\"rgba(139, 0, 0, 0.6)\",\"width\":1.5}},\"name\":\"Dialect\",\"orientation\":\"h\",\"text\":[4.33,4.42,4.86,5.12,5.16,5.31,5.74,7.66,8.31],\"textposition\":\"auto\",\"x\":[4.33,4.42,4.86,5.12,5.16,5.31,5.74,7.66,8.31],\"y\":[\"dialect\",\"use\",\"shares\",\"unique\",\"engagement\",\"informal\",\"enthusiasm\",\"playful\",\"conversational\"],\"type\":\"bar\"}],                        {\"template\":{},\"xaxis\":{\"zeroline\":true,\"zerolinewidth\":2,\"zerolinecolor\":\"gray\"},\"legend\":{\"orientation\":\"h\",\"yanchor\":\"bottom\",\"y\":-0.2,\"xanchor\":\"center\",\"x\":0.5},\"margin\":{\"l\":100,\"r\":10,\"t\":40,\"b\":20},\"title\":{\"text\":\"aya-expanse-8b\"},\"width\":400,\"height\":550,\"barmode\":\"relative\",\"barcornerradius\":5},                        {\"responsive\": true}                    ).then(function(){\n",
       "                            \n",
       "var gd = document.getElementById('59c38ff1-3503-4261-9e12-fadfc4a05187');\n",
       "var x = new MutationObserver(function (mutations, observer) {{\n",
       "        var display = window.getComputedStyle(gd).display;\n",
       "        if (!display || display === 'none') {{\n",
       "            console.log([gd, 'removed!']);\n",
       "            Plotly.purge(gd);\n",
       "            observer.disconnect();\n",
       "        }}\n",
       "}});\n",
       "\n",
       "// Listen for the removal of the full notebook cells\n",
       "var notebookContainer = gd.closest('#notebook-container');\n",
       "if (notebookContainer) {{\n",
       "    x.observe(notebookContainer, {childList: true});\n",
       "}}\n",
       "\n",
       "// Listen for the clearing of the current output cell\n",
       "var outputEl = gd.closest('.output');\n",
       "if (outputEl) {{\n",
       "    x.observe(outputEl, {childList: true});\n",
       "}}\n",
       "\n",
       "                        })                };                });            </script>        </div>"
      ]
     },
     "metadata": {},
     "output_type": "display_data"
    },
    {
     "data": {
      "application/vnd.plotly.v1+json": {
       "config": {
        "plotlyServerURL": "https://plot.ly"
       },
       "data": [
        {
         "marker": {
          "color": "rgba(173, 216, 230, 0.8)",
          "line": {
           "color": "rgba(0, 0, 139, 0.6)",
           "width": 1.5
          }
         },
         "name": "Standard",
         "orientation": "h",
         "text": [
          6.29,
          5.8,
          5.37,
          5.21,
          4.38
         ],
         "textposition": "auto",
         "type": "bar",
         "x": [
          -6.29,
          -5.8,
          -5.37,
          -5.21,
          -4.38
         ],
         "y": [
          "clear",
          "concise",
          "her",
          "informative",
          "structured"
         ]
        },
        {
         "marker": {
          "color": "rgba(255, 182, 193, 0.8)",
          "line": {
           "color": "rgba(139, 0, 0, 0.6)",
           "width": 1.5
          }
         },
         "name": "Dialect",
         "orientation": "h",
         "text": [
          4.38,
          4.81,
          5.33,
          5.51,
          5.79,
          6.28,
          6.3,
          6.73,
          7.2,
          8.35,
          8.51,
          10
         ],
         "textposition": "auto",
         "type": "bar",
         "x": [
          4.38,
          4.81,
          5.33,
          5.51,
          5.79,
          6.28,
          6.3,
          6.73,
          7.2,
          8.35,
          8.51,
          10
         ],
         "y": [
          "storytelling",
          "enthusiast",
          "conversational",
          "utilizes",
          "more",
          "bs",
          "colloquial",
          "regional",
          "creative",
          "less",
          "unique",
          "dialect"
         ]
        }
       ],
       "layout": {
        "barcornerradius": 5,
        "barmode": "relative",
        "height": 550,
        "legend": {
         "orientation": "h",
         "x": 0.5,
         "xanchor": "center",
         "y": -0.2,
         "yanchor": "bottom"
        },
        "margin": {
         "b": 20,
         "l": 100,
         "r": 10,
         "t": 40
        },
        "template": {},
        "title": {
         "text": "aya-expanse-32b"
        },
        "width": 400,
        "xaxis": {
         "zeroline": true,
         "zerolinecolor": "gray",
         "zerolinewidth": 2
        }
       }
      },
      "text/html": [
       "<div>                            <div id=\"3a6f5e83-d17e-4d50-9c14-7d8245c19465\" class=\"plotly-graph-div\" style=\"height:550px; width:400px;\"></div>            <script type=\"text/javascript\">                require([\"plotly\"], function(Plotly) {                    window.PLOTLYENV=window.PLOTLYENV || {};                                    if (document.getElementById(\"3a6f5e83-d17e-4d50-9c14-7d8245c19465\")) {                    Plotly.newPlot(                        \"3a6f5e83-d17e-4d50-9c14-7d8245c19465\",                        [{\"marker\":{\"color\":\"rgba(173, 216, 230, 0.8)\",\"line\":{\"color\":\"rgba(0, 0, 139, 0.6)\",\"width\":1.5}},\"name\":\"Standard\",\"orientation\":\"h\",\"text\":[6.29,5.8,5.37,5.21,4.38],\"textposition\":\"auto\",\"x\":[-6.29,-5.8,-5.37,-5.21,-4.38],\"y\":[\"clear\",\"concise\",\"her\",\"informative\",\"structured\"],\"type\":\"bar\"},{\"marker\":{\"color\":\"rgba(255, 182, 193, 0.8)\",\"line\":{\"color\":\"rgba(139, 0, 0, 0.6)\",\"width\":1.5}},\"name\":\"Dialect\",\"orientation\":\"h\",\"text\":[4.38,4.81,5.33,5.51,5.79,6.28,6.3,6.73,7.2,8.35,8.51,10.0],\"textposition\":\"auto\",\"x\":[4.38,4.81,5.33,5.51,5.79,6.28,6.3,6.73,7.2,8.35,8.51,10.0],\"y\":[\"storytelling\",\"enthusiast\",\"conversational\",\"utilizes\",\"more\",\"bs\",\"colloquial\",\"regional\",\"creative\",\"less\",\"unique\",\"dialect\"],\"type\":\"bar\"}],                        {\"template\":{},\"xaxis\":{\"zeroline\":true,\"zerolinewidth\":2,\"zerolinecolor\":\"gray\"},\"legend\":{\"orientation\":\"h\",\"yanchor\":\"bottom\",\"y\":-0.2,\"xanchor\":\"center\",\"x\":0.5},\"margin\":{\"l\":100,\"r\":10,\"t\":40,\"b\":20},\"title\":{\"text\":\"aya-expanse-32b\"},\"width\":400,\"height\":550,\"barmode\":\"relative\",\"barcornerradius\":5},                        {\"responsive\": true}                    ).then(function(){\n",
       "                            \n",
       "var gd = document.getElementById('3a6f5e83-d17e-4d50-9c14-7d8245c19465');\n",
       "var x = new MutationObserver(function (mutations, observer) {{\n",
       "        var display = window.getComputedStyle(gd).display;\n",
       "        if (!display || display === 'none') {{\n",
       "            console.log([gd, 'removed!']);\n",
       "            Plotly.purge(gd);\n",
       "            observer.disconnect();\n",
       "        }}\n",
       "}});\n",
       "\n",
       "// Listen for the removal of the full notebook cells\n",
       "var notebookContainer = gd.closest('#notebook-container');\n",
       "if (notebookContainer) {{\n",
       "    x.observe(notebookContainer, {childList: true});\n",
       "}}\n",
       "\n",
       "// Listen for the clearing of the current output cell\n",
       "var outputEl = gd.closest('.output');\n",
       "if (outputEl) {{\n",
       "    x.observe(outputEl, {childList: true});\n",
       "}}\n",
       "\n",
       "                        })                };                });            </script>        </div>"
      ]
     },
     "metadata": {},
     "output_type": "display_data"
    },
    {
     "data": {
      "application/vnd.plotly.v1+json": {
       "config": {
        "plotlyServerURL": "https://plot.ly"
       },
       "data": [
        {
         "marker": {
          "color": "rgba(173, 216, 230, 0.8)",
          "line": {
           "color": "rgba(0, 0, 139, 0.6)",
           "width": 1.5
          }
         },
         "name": "Standard",
         "orientation": "h",
         "text": [
          12.64,
          11.15,
          5.55,
          5.07,
          4.88,
          4.79,
          4.74,
          4.73,
          4.62,
          4.11
         ],
         "textposition": "auto",
         "type": "bar",
         "x": [
          -12.64,
          -11.15,
          -5.55,
          -5.07,
          -4.88,
          -4.79,
          -4.74,
          -4.73,
          -4.62,
          -4.11
         ],
         "y": [
          "concise",
          "clear",
          "professional",
          "straightforward",
          "strong",
          "expertise",
          "precise",
          "wellsuited",
          "communicator",
          "standard"
         ]
        },
        {
         "marker": {
          "color": "rgba(255, 182, 193, 0.8)",
          "line": {
           "color": "rgba(139, 0, 0, 0.6)",
           "width": 1.5
          }
         },
         "name": "Dialect",
         "orientation": "h",
         "text": [
          3.96,
          4.96,
          4.97,
          5.01,
          5.74,
          5.94,
          6.75,
          7.39,
          7.71,
          8.75,
          8.96
         ],
         "textposition": "auto",
         "type": "bar",
         "x": [
          3.96,
          4.96,
          4.97,
          5.01,
          5.74,
          5.94,
          6.75,
          7.39,
          7.71,
          8.75,
          8.96
         ],
         "y": [
          "linguistic",
          "engaging",
          "less",
          "though",
          "creative",
          "colloquial",
          "errors",
          "some",
          "bs",
          "unique",
          "enthusiasm"
         ]
        }
       ],
       "layout": {
        "barcornerradius": 5,
        "barmode": "relative",
        "height": 550,
        "legend": {
         "orientation": "h",
         "x": 0.5,
         "xanchor": "center",
         "y": -0.2,
         "yanchor": "bottom"
        },
        "margin": {
         "b": 20,
         "l": 100,
         "r": 10,
         "t": 40
        },
        "template": {},
        "title": {
         "text": "Qwen2.5-7B-Instruct"
        },
        "width": 400,
        "xaxis": {
         "zeroline": true,
         "zerolinecolor": "gray",
         "zerolinewidth": 2
        }
       }
      },
      "text/html": [
       "<div>                            <div id=\"eb7fe6f2-cd8d-462b-a5ce-a945eacad63a\" class=\"plotly-graph-div\" style=\"height:550px; width:400px;\"></div>            <script type=\"text/javascript\">                require([\"plotly\"], function(Plotly) {                    window.PLOTLYENV=window.PLOTLYENV || {};                                    if (document.getElementById(\"eb7fe6f2-cd8d-462b-a5ce-a945eacad63a\")) {                    Plotly.newPlot(                        \"eb7fe6f2-cd8d-462b-a5ce-a945eacad63a\",                        [{\"marker\":{\"color\":\"rgba(173, 216, 230, 0.8)\",\"line\":{\"color\":\"rgba(0, 0, 139, 0.6)\",\"width\":1.5}},\"name\":\"Standard\",\"orientation\":\"h\",\"text\":[12.64,11.15,5.55,5.07,4.88,4.79,4.74,4.73,4.62,4.11],\"textposition\":\"auto\",\"x\":[-12.64,-11.15,-5.55,-5.07,-4.88,-4.79,-4.74,-4.73,-4.62,-4.11],\"y\":[\"concise\",\"clear\",\"professional\",\"straightforward\",\"strong\",\"expertise\",\"precise\",\"wellsuited\",\"communicator\",\"standard\"],\"type\":\"bar\"},{\"marker\":{\"color\":\"rgba(255, 182, 193, 0.8)\",\"line\":{\"color\":\"rgba(139, 0, 0, 0.6)\",\"width\":1.5}},\"name\":\"Dialect\",\"orientation\":\"h\",\"text\":[3.96,4.96,4.97,5.01,5.74,5.94,6.75,7.39,7.71,8.75,8.96],\"textposition\":\"auto\",\"x\":[3.96,4.96,4.97,5.01,5.74,5.94,6.75,7.39,7.71,8.75,8.96],\"y\":[\"linguistic\",\"engaging\",\"less\",\"though\",\"creative\",\"colloquial\",\"errors\",\"some\",\"bs\",\"unique\",\"enthusiasm\"],\"type\":\"bar\"}],                        {\"template\":{},\"xaxis\":{\"zeroline\":true,\"zerolinewidth\":2,\"zerolinecolor\":\"gray\"},\"legend\":{\"orientation\":\"h\",\"yanchor\":\"bottom\",\"y\":-0.2,\"xanchor\":\"center\",\"x\":0.5},\"margin\":{\"l\":100,\"r\":10,\"t\":40,\"b\":20},\"title\":{\"text\":\"Qwen2.5-7B-Instruct\"},\"width\":400,\"height\":550,\"barmode\":\"relative\",\"barcornerradius\":5},                        {\"responsive\": true}                    ).then(function(){\n",
       "                            \n",
       "var gd = document.getElementById('eb7fe6f2-cd8d-462b-a5ce-a945eacad63a');\n",
       "var x = new MutationObserver(function (mutations, observer) {{\n",
       "        var display = window.getComputedStyle(gd).display;\n",
       "        if (!display || display === 'none') {{\n",
       "            console.log([gd, 'removed!']);\n",
       "            Plotly.purge(gd);\n",
       "            observer.disconnect();\n",
       "        }}\n",
       "}});\n",
       "\n",
       "// Listen for the removal of the full notebook cells\n",
       "var notebookContainer = gd.closest('#notebook-container');\n",
       "if (notebookContainer) {{\n",
       "    x.observe(notebookContainer, {childList: true});\n",
       "}}\n",
       "\n",
       "// Listen for the clearing of the current output cell\n",
       "var outputEl = gd.closest('.output');\n",
       "if (outputEl) {{\n",
       "    x.observe(outputEl, {childList: true});\n",
       "}}\n",
       "\n",
       "                        })                };                });            </script>        </div>"
      ]
     },
     "metadata": {},
     "output_type": "display_data"
    },
    {
     "data": {
      "application/vnd.plotly.v1+json": {
       "config": {
        "plotlyServerURL": "https://plot.ly"
       },
       "data": [
        {
         "marker": {
          "color": "rgba(173, 216, 230, 0.8)",
          "line": {
           "color": "rgba(0, 0, 139, 0.6)",
           "width": 1.5
          }
         },
         "name": "Standard",
         "orientation": "h",
         "text": [
          12.09,
          9.99,
          8.28,
          7.93,
          7.41,
          7.37,
          7.3,
          6.19,
          6.12,
          5.73,
          5.71,
          5.68,
          5.4,
          5.17,
          4.97,
          4.84,
          4.15
         ],
         "textposition": "auto",
         "type": "bar",
         "x": [
          -12.09,
          -9.99,
          -8.28,
          -7.93,
          -7.41,
          -7.37,
          -7.3,
          -6.19,
          -6.12,
          -5.73,
          -5.71,
          -5.68,
          -5.4,
          -5.17,
          -4.97,
          -4.84,
          -4.15
         ],
         "y": [
          "clear",
          "precise",
          "professional",
          "meticulous",
          "solid",
          "command",
          "communicator",
          "detail",
          "attention",
          "structured",
          "concise",
          "clarity",
          "accuracy",
          "effectively",
          "information",
          "medical",
          "and"
         ]
        },
        {
         "marker": {
          "color": "rgba(255, 182, 193, 0.8)",
          "line": {
           "color": "rgba(139, 0, 0, 0.6)",
           "width": 1.5
          }
         },
         "name": "Dialect",
         "orientation": "h",
         "text": [
          4.54,
          4.67,
          4.83,
          5.1,
          5.24,
          5.52,
          5.64,
          5.97,
          6.16,
          6.36,
          6.55,
          6.88,
          7.48,
          7.85,
          8.06,
          8.07,
          8.19,
          8.39,
          9.7,
          10.59,
          11.8,
          13.26
         ],
         "textposition": "auto",
         "type": "bar",
         "x": [
          4.54,
          4.67,
          4.83,
          5.1,
          5.24,
          5.52,
          5.64,
          5.97,
          6.16,
          6.36,
          6.55,
          6.88,
          7.48,
          7.85,
          8.06,
          8.07,
          8.19,
          8.39,
          9.7,
          10.59,
          11.8,
          13.26
         ],
         "y": [
          "low",
          "blending",
          "relatable",
          "blends",
          "personable",
          "has",
          "adaptable",
          "connection",
          "connect",
          "personal",
          "fresh",
          "perspective",
          "creativity",
          "local",
          "distinctive",
          "regional",
          "linguistic",
          "creative",
          "colloquial",
          "engaging",
          "dialect",
          "unique"
         ]
        }
       ],
       "layout": {
        "barcornerradius": 5,
        "barmode": "relative",
        "height": 550,
        "legend": {
         "orientation": "h",
         "x": 0.5,
         "xanchor": "center",
         "y": -0.2,
         "yanchor": "bottom"
        },
        "margin": {
         "b": 20,
         "l": 100,
         "r": 10,
         "t": 40
        },
        "template": {},
        "title": {
         "text": "Qwen2.5-72B-Instruct"
        },
        "width": 400,
        "xaxis": {
         "zeroline": true,
         "zerolinecolor": "gray",
         "zerolinewidth": 2
        }
       }
      },
      "text/html": [
       "<div>                            <div id=\"ee383c43-cca1-4a5b-85a6-f391f16e6c60\" class=\"plotly-graph-div\" style=\"height:550px; width:400px;\"></div>            <script type=\"text/javascript\">                require([\"plotly\"], function(Plotly) {                    window.PLOTLYENV=window.PLOTLYENV || {};                                    if (document.getElementById(\"ee383c43-cca1-4a5b-85a6-f391f16e6c60\")) {                    Plotly.newPlot(                        \"ee383c43-cca1-4a5b-85a6-f391f16e6c60\",                        [{\"marker\":{\"color\":\"rgba(173, 216, 230, 0.8)\",\"line\":{\"color\":\"rgba(0, 0, 139, 0.6)\",\"width\":1.5}},\"name\":\"Standard\",\"orientation\":\"h\",\"text\":[12.09,9.99,8.28,7.93,7.41,7.37,7.3,6.19,6.12,5.73,5.71,5.68,5.4,5.17,4.97,4.84,4.15],\"textposition\":\"auto\",\"x\":[-12.09,-9.99,-8.28,-7.93,-7.41,-7.37,-7.3,-6.19,-6.12,-5.73,-5.71,-5.68,-5.4,-5.17,-4.97,-4.84,-4.15],\"y\":[\"clear\",\"precise\",\"professional\",\"meticulous\",\"solid\",\"command\",\"communicator\",\"detail\",\"attention\",\"structured\",\"concise\",\"clarity\",\"accuracy\",\"effectively\",\"information\",\"medical\",\"and\"],\"type\":\"bar\"},{\"marker\":{\"color\":\"rgba(255, 182, 193, 0.8)\",\"line\":{\"color\":\"rgba(139, 0, 0, 0.6)\",\"width\":1.5}},\"name\":\"Dialect\",\"orientation\":\"h\",\"text\":[4.54,4.67,4.83,5.1,5.24,5.52,5.64,5.97,6.16,6.36,6.55,6.88,7.48,7.85,8.06,8.07,8.19,8.39,9.7,10.59,11.8,13.26],\"textposition\":\"auto\",\"x\":[4.54,4.67,4.83,5.1,5.24,5.52,5.64,5.97,6.16,6.36,6.55,6.88,7.48,7.85,8.06,8.07,8.19,8.39,9.7,10.59,11.8,13.26],\"y\":[\"low\",\"blending\",\"relatable\",\"blends\",\"personable\",\"has\",\"adaptable\",\"connection\",\"connect\",\"personal\",\"fresh\",\"perspective\",\"creativity\",\"local\",\"distinctive\",\"regional\",\"linguistic\",\"creative\",\"colloquial\",\"engaging\",\"dialect\",\"unique\"],\"type\":\"bar\"}],                        {\"template\":{},\"xaxis\":{\"zeroline\":true,\"zerolinewidth\":2,\"zerolinecolor\":\"gray\"},\"legend\":{\"orientation\":\"h\",\"yanchor\":\"bottom\",\"y\":-0.2,\"xanchor\":\"center\",\"x\":0.5},\"margin\":{\"l\":100,\"r\":10,\"t\":40,\"b\":20},\"title\":{\"text\":\"Qwen2.5-72B-Instruct\"},\"width\":400,\"height\":550,\"barmode\":\"relative\",\"barcornerradius\":5},                        {\"responsive\": true}                    ).then(function(){\n",
       "                            \n",
       "var gd = document.getElementById('ee383c43-cca1-4a5b-85a6-f391f16e6c60');\n",
       "var x = new MutationObserver(function (mutations, observer) {{\n",
       "        var display = window.getComputedStyle(gd).display;\n",
       "        if (!display || display === 'none') {{\n",
       "            console.log([gd, 'removed!']);\n",
       "            Plotly.purge(gd);\n",
       "            observer.disconnect();\n",
       "        }}\n",
       "}});\n",
       "\n",
       "// Listen for the removal of the full notebook cells\n",
       "var notebookContainer = gd.closest('#notebook-container');\n",
       "if (notebookContainer) {{\n",
       "    x.observe(notebookContainer, {childList: true});\n",
       "}}\n",
       "\n",
       "// Listen for the clearing of the current output cell\n",
       "var outputEl = gd.closest('.output');\n",
       "if (outputEl) {{\n",
       "    x.observe(outputEl, {childList: true});\n",
       "}}\n",
       "\n",
       "                        })                };                });            </script>        </div>"
      ]
     },
     "metadata": {},
     "output_type": "display_data"
    },
    {
     "data": {
      "application/vnd.plotly.v1+json": {
       "config": {
        "plotlyServerURL": "https://plot.ly"
       },
       "data": [
        {
         "marker": {
          "color": "rgba(173, 216, 230, 0.8)",
          "line": {
           "color": "rgba(0, 0, 139, 0.6)",
           "width": 1.5
          }
         },
         "name": "Standard",
         "orientation": "h",
         "text": [
          10.98,
          7.09
         ],
         "textposition": "auto",
         "type": "bar",
         "x": [
          -10.98,
          -7.09
         ],
         "y": [
          "standard",
          "b"
         ]
        },
        {
         "marker": {
          "color": "rgba(255, 182, 193, 0.8)",
          "line": {
           "color": "rgba(139, 0, 0, 0.6)",
           "width": 1.5
          }
         },
         "name": "Dialect",
         "orientation": "h",
         "text": [
          4.59,
          4.92,
          4.99,
          5.53,
          7.71,
          8.03
         ],
         "textposition": "auto",
         "type": "bar",
         "x": [
          4.59,
          4.92,
          4.99,
          5.53,
          7.71,
          8.03
         ],
         "y": [
          "unique",
          "bernd",
          "dialects",
          "selftaught",
          "low",
          "dialect"
         ]
        }
       ],
       "layout": {
        "barcornerradius": 5,
        "barmode": "relative",
        "height": 550,
        "legend": {
         "orientation": "h",
         "x": 0.5,
         "xanchor": "center",
         "y": -0.2,
         "yanchor": "bottom"
        },
        "margin": {
         "b": 20,
         "l": 100,
         "r": 10,
         "t": 40
        },
        "template": {},
        "title": {
         "text": "Meta-Llama-3.1-8B-Instruct"
        },
        "width": 400,
        "xaxis": {
         "zeroline": true,
         "zerolinecolor": "gray",
         "zerolinewidth": 2
        }
       }
      },
      "text/html": [
       "<div>                            <div id=\"7dc2fd47-b8e4-442c-bb03-0b75a01316ee\" class=\"plotly-graph-div\" style=\"height:550px; width:400px;\"></div>            <script type=\"text/javascript\">                require([\"plotly\"], function(Plotly) {                    window.PLOTLYENV=window.PLOTLYENV || {};                                    if (document.getElementById(\"7dc2fd47-b8e4-442c-bb03-0b75a01316ee\")) {                    Plotly.newPlot(                        \"7dc2fd47-b8e4-442c-bb03-0b75a01316ee\",                        [{\"marker\":{\"color\":\"rgba(173, 216, 230, 0.8)\",\"line\":{\"color\":\"rgba(0, 0, 139, 0.6)\",\"width\":1.5}},\"name\":\"Standard\",\"orientation\":\"h\",\"text\":[10.98,7.09],\"textposition\":\"auto\",\"x\":[-10.98,-7.09],\"y\":[\"standard\",\"b\"],\"type\":\"bar\"},{\"marker\":{\"color\":\"rgba(255, 182, 193, 0.8)\",\"line\":{\"color\":\"rgba(139, 0, 0, 0.6)\",\"width\":1.5}},\"name\":\"Dialect\",\"orientation\":\"h\",\"text\":[4.59,4.92,4.99,5.53,7.71,8.03],\"textposition\":\"auto\",\"x\":[4.59,4.92,4.99,5.53,7.71,8.03],\"y\":[\"unique\",\"bernd\",\"dialects\",\"selftaught\",\"low\",\"dialect\"],\"type\":\"bar\"}],                        {\"template\":{},\"xaxis\":{\"zeroline\":true,\"zerolinewidth\":2,\"zerolinecolor\":\"gray\"},\"legend\":{\"orientation\":\"h\",\"yanchor\":\"bottom\",\"y\":-0.2,\"xanchor\":\"center\",\"x\":0.5},\"margin\":{\"l\":100,\"r\":10,\"t\":40,\"b\":20},\"title\":{\"text\":\"Meta-Llama-3.1-8B-Instruct\"},\"width\":400,\"height\":550,\"barmode\":\"relative\",\"barcornerradius\":5},                        {\"responsive\": true}                    ).then(function(){\n",
       "                            \n",
       "var gd = document.getElementById('7dc2fd47-b8e4-442c-bb03-0b75a01316ee');\n",
       "var x = new MutationObserver(function (mutations, observer) {{\n",
       "        var display = window.getComputedStyle(gd).display;\n",
       "        if (!display || display === 'none') {{\n",
       "            console.log([gd, 'removed!']);\n",
       "            Plotly.purge(gd);\n",
       "            observer.disconnect();\n",
       "        }}\n",
       "}});\n",
       "\n",
       "// Listen for the removal of the full notebook cells\n",
       "var notebookContainer = gd.closest('#notebook-container');\n",
       "if (notebookContainer) {{\n",
       "    x.observe(notebookContainer, {childList: true});\n",
       "}}\n",
       "\n",
       "// Listen for the clearing of the current output cell\n",
       "var outputEl = gd.closest('.output');\n",
       "if (outputEl) {{\n",
       "    x.observe(outputEl, {childList: true});\n",
       "}}\n",
       "\n",
       "                        })                };                });            </script>        </div>"
      ]
     },
     "metadata": {},
     "output_type": "display_data"
    },
    {
     "data": {
      "application/vnd.plotly.v1+json": {
       "config": {
        "plotlyServerURL": "https://plot.ly"
       },
       "data": [
        {
         "marker": {
          "color": "rgba(173, 216, 230, 0.8)",
          "line": {
           "color": "rgba(0, 0, 139, 0.6)",
           "width": 1.5
          }
         },
         "name": "Standard",
         "orientation": "h",
         "text": [],
         "textposition": "auto",
         "type": "bar",
         "x": [],
         "y": []
        },
        {
         "marker": {
          "color": "rgba(255, 182, 193, 0.8)",
          "line": {
           "color": "rgba(139, 0, 0, 0.6)",
           "width": 1.5
          }
         },
         "name": "Dialect",
         "orientation": "h",
         "text": [],
         "textposition": "auto",
         "type": "bar",
         "x": [],
         "y": []
        }
       ],
       "layout": {
        "barcornerradius": 5,
        "barmode": "relative",
        "height": 550,
        "legend": {
         "orientation": "h",
         "x": 0.5,
         "xanchor": "center",
         "y": -0.2,
         "yanchor": "bottom"
        },
        "margin": {
         "b": 20,
         "l": 100,
         "r": 10,
         "t": 40
        },
        "template": {},
        "title": {
         "text": "Meta-Llama-3.1-70B-Instruct"
        },
        "width": 400,
        "xaxis": {
         "zeroline": true,
         "zerolinecolor": "gray",
         "zerolinewidth": 2
        }
       }
      },
      "text/html": [
       "<div>                            <div id=\"229495c2-3cdb-46cc-bccc-57f8078cb074\" class=\"plotly-graph-div\" style=\"height:550px; width:400px;\"></div>            <script type=\"text/javascript\">                require([\"plotly\"], function(Plotly) {                    window.PLOTLYENV=window.PLOTLYENV || {};                                    if (document.getElementById(\"229495c2-3cdb-46cc-bccc-57f8078cb074\")) {                    Plotly.newPlot(                        \"229495c2-3cdb-46cc-bccc-57f8078cb074\",                        [{\"marker\":{\"color\":\"rgba(173, 216, 230, 0.8)\",\"line\":{\"color\":\"rgba(0, 0, 139, 0.6)\",\"width\":1.5}},\"name\":\"Standard\",\"orientation\":\"h\",\"text\":[],\"textposition\":\"auto\",\"x\":[],\"y\":[],\"type\":\"bar\"},{\"marker\":{\"color\":\"rgba(255, 182, 193, 0.8)\",\"line\":{\"color\":\"rgba(139, 0, 0, 0.6)\",\"width\":1.5}},\"name\":\"Dialect\",\"orientation\":\"h\",\"text\":[],\"textposition\":\"auto\",\"x\":[],\"y\":[],\"type\":\"bar\"}],                        {\"template\":{},\"xaxis\":{\"zeroline\":true,\"zerolinewidth\":2,\"zerolinecolor\":\"gray\"},\"legend\":{\"orientation\":\"h\",\"yanchor\":\"bottom\",\"y\":-0.2,\"xanchor\":\"center\",\"x\":0.5},\"margin\":{\"l\":100,\"r\":10,\"t\":40,\"b\":20},\"title\":{\"text\":\"Meta-Llama-3.1-70B-Instruct\"},\"width\":400,\"height\":550,\"barmode\":\"relative\",\"barcornerradius\":5},                        {\"responsive\": true}                    ).then(function(){\n",
       "                            \n",
       "var gd = document.getElementById('229495c2-3cdb-46cc-bccc-57f8078cb074');\n",
       "var x = new MutationObserver(function (mutations, observer) {{\n",
       "        var display = window.getComputedStyle(gd).display;\n",
       "        if (!display || display === 'none') {{\n",
       "            console.log([gd, 'removed!']);\n",
       "            Plotly.purge(gd);\n",
       "            observer.disconnect();\n",
       "        }}\n",
       "}});\n",
       "\n",
       "// Listen for the removal of the full notebook cells\n",
       "var notebookContainer = gd.closest('#notebook-container');\n",
       "if (notebookContainer) {{\n",
       "    x.observe(notebookContainer, {childList: true});\n",
       "}}\n",
       "\n",
       "// Listen for the clearing of the current output cell\n",
       "var outputEl = gd.closest('.output');\n",
       "if (outputEl) {{\n",
       "    x.observe(outputEl, {childList: true});\n",
       "}}\n",
       "\n",
       "                        })                };                });            </script>        </div>"
      ]
     },
     "metadata": {},
     "output_type": "display_data"
    },
    {
     "data": {
      "application/vnd.plotly.v1+json": {
       "config": {
        "plotlyServerURL": "https://plot.ly"
       },
       "data": [
        {
         "marker": {
          "color": "rgba(173, 216, 230, 0.8)",
          "line": {
           "color": "rgba(0, 0, 139, 0.6)",
           "width": 1.5
          }
         },
         "name": "Standard",
         "orientation": "h",
         "text": [
          10.43,
          5.2
         ],
         "textposition": "auto",
         "type": "bar",
         "x": [
          -10.43,
          -5.2
         ],
         "y": [
          "standard",
          "b"
         ]
        },
        {
         "marker": {
          "color": "rgba(255, 182, 193, 0.8)",
          "line": {
           "color": "rgba(139, 0, 0, 0.6)",
           "width": 1.5
          }
         },
         "name": "Dialect",
         "orientation": "h",
         "text": [
          4.95,
          5.46,
          5.6,
          6.59
         ],
         "textposition": "auto",
         "type": "bar",
         "x": [
          4.95,
          5.46,
          5.6,
          6.59
         ],
         "y": [
          "bernd",
          "selftaught",
          "low",
          "dialects"
         ]
        }
       ],
       "layout": {
        "barcornerradius": 5,
        "barmode": "relative",
        "height": 550,
        "legend": {
         "orientation": "h",
         "x": 0.5,
         "xanchor": "center",
         "y": -0.2,
         "yanchor": "bottom"
        },
        "margin": {
         "b": 20,
         "l": 100,
         "r": 10,
         "t": 40
        },
        "template": {},
        "title": {
         "text": "Llama-3.1-8B-Instruct"
        },
        "width": 400,
        "xaxis": {
         "zeroline": true,
         "zerolinecolor": "gray",
         "zerolinewidth": 2
        }
       }
      },
      "text/html": [
       "<div>                            <div id=\"8b86817c-bf2c-4556-97ab-8d315e3f5d01\" class=\"plotly-graph-div\" style=\"height:550px; width:400px;\"></div>            <script type=\"text/javascript\">                require([\"plotly\"], function(Plotly) {                    window.PLOTLYENV=window.PLOTLYENV || {};                                    if (document.getElementById(\"8b86817c-bf2c-4556-97ab-8d315e3f5d01\")) {                    Plotly.newPlot(                        \"8b86817c-bf2c-4556-97ab-8d315e3f5d01\",                        [{\"marker\":{\"color\":\"rgba(173, 216, 230, 0.8)\",\"line\":{\"color\":\"rgba(0, 0, 139, 0.6)\",\"width\":1.5}},\"name\":\"Standard\",\"orientation\":\"h\",\"text\":[10.43,5.2],\"textposition\":\"auto\",\"x\":[-10.43,-5.2],\"y\":[\"standard\",\"b\"],\"type\":\"bar\"},{\"marker\":{\"color\":\"rgba(255, 182, 193, 0.8)\",\"line\":{\"color\":\"rgba(139, 0, 0, 0.6)\",\"width\":1.5}},\"name\":\"Dialect\",\"orientation\":\"h\",\"text\":[4.95,5.46,5.6,6.59],\"textposition\":\"auto\",\"x\":[4.95,5.46,5.6,6.59],\"y\":[\"bernd\",\"selftaught\",\"low\",\"dialects\"],\"type\":\"bar\"}],                        {\"template\":{},\"xaxis\":{\"zeroline\":true,\"zerolinewidth\":2,\"zerolinecolor\":\"gray\"},\"legend\":{\"orientation\":\"h\",\"yanchor\":\"bottom\",\"y\":-0.2,\"xanchor\":\"center\",\"x\":0.5},\"margin\":{\"l\":100,\"r\":10,\"t\":40,\"b\":20},\"title\":{\"text\":\"Llama-3.1-8B-Instruct\"},\"width\":400,\"height\":550,\"barmode\":\"relative\",\"barcornerradius\":5},                        {\"responsive\": true}                    ).then(function(){\n",
       "                            \n",
       "var gd = document.getElementById('8b86817c-bf2c-4556-97ab-8d315e3f5d01');\n",
       "var x = new MutationObserver(function (mutations, observer) {{\n",
       "        var display = window.getComputedStyle(gd).display;\n",
       "        if (!display || display === 'none') {{\n",
       "            console.log([gd, 'removed!']);\n",
       "            Plotly.purge(gd);\n",
       "            observer.disconnect();\n",
       "        }}\n",
       "}});\n",
       "\n",
       "// Listen for the removal of the full notebook cells\n",
       "var notebookContainer = gd.closest('#notebook-container');\n",
       "if (notebookContainer) {{\n",
       "    x.observe(notebookContainer, {childList: true});\n",
       "}}\n",
       "\n",
       "// Listen for the clearing of the current output cell\n",
       "var outputEl = gd.closest('.output');\n",
       "if (outputEl) {{\n",
       "    x.observe(outputEl, {childList: true});\n",
       "}}\n",
       "\n",
       "                        })                };                });            </script>        </div>"
      ]
     },
     "metadata": {},
     "output_type": "display_data"
    }
   ],
   "source": [
    "for model in df['Model'].unique():\n",
    "    for dimension in ['educated']:\n",
    "        subset = grouped[(grouped['Model'] == model) & (grouped['dimension'] == dimension)]\n",
    "        subset = subset[subset['Count'] > 1]\n",
    "        subset['Total_Value'] = subset['Total_Value'].round(2)\n",
    "\n",
    "        # Create traces\n",
    "        fig = go.Figure()\n",
    "\n",
    "        # Group 1 → bars to the right\n",
    "        group1 = subset[subset[\"Target Group\"] == 'standard']\n",
    "        group1 = group1.sort_values(by='Total_Value', ascending=False)\n",
    "        fig.add_trace(go.Bar(\n",
    "            y=group1[\"Word\"],\n",
    "            x=-group1[\"Total_Value\"],\n",
    "            name=\"Standard\",\n",
    "            orientation='h',\n",
    "            marker=dict(\n",
    "                color='rgba(173, 216, 230, 0.8)',  # pastel blue with opacity\n",
    "                line=dict(color='rgba(0, 0, 139, 0.6)', width=1.5),\n",
    "            ),\n",
    "            text=group1[\"Total_Value\"],\n",
    "            textposition='auto'\n",
    "        ))\n",
    "\n",
    "        # Group 2 → bars to the left (negated values)\n",
    "        group2 = subset[subset[\"Target Group\"] == 'dialect']\n",
    "        group2 = group2.sort_values(by='Total_Value')\n",
    "        fig.add_trace(go.Bar(\n",
    "            y=group2[\"Word\"],\n",
    "            x=group2[\"Total_Value\"],  # Negative for left direction\n",
    "            name=\"Dialect\",\n",
    "            orientation='h',\n",
    "            marker=dict(\n",
    "                color='rgba(255, 182, 193, 0.8)',  # pastel red with opacity\n",
    "                line=dict(color='rgba(139, 0, 0, 0.6)', width=1.5),\n",
    "            ),\n",
    "            text=group2[\"Total_Value\"],  # Still show positive value\n",
    "            textposition='auto'\n",
    "        ))\n",
    "\n",
    "        # Layout tweaks\n",
    "        fig.update_layout(\n",
    "            title=model,\n",
    "            width=400,\n",
    "            height=550,\n",
    "            barmode='relative',\n",
    "            barcornerradius=5,\n",
    "            xaxis=dict(\n",
    "                zeroline=True,\n",
    "                zerolinewidth=2,\n",
    "                zerolinecolor='gray'\n",
    "            ),\n",
    "            legend=dict(\n",
    "                orientation=\"h\",     # Horizontal legend\n",
    "                yanchor=\"bottom\",\n",
    "                y=-0.2,              # Push legend below the plot\n",
    "                xanchor=\"center\",\n",
    "                x=0.5\n",
    "            ),\n",
    "            margin=dict(l=100, r=10, t=40, b=20),\n",
    "        )\n",
    "\n",
    "        fig.show()"
   ]
  },
  {
   "cell_type": "code",
   "execution_count": 30,
   "id": "d9cee363",
   "metadata": {},
   "outputs": [
    {
     "data": {
      "text/html": [
       "<div>\n",
       "<style scoped>\n",
       "    .dataframe tbody tr th:only-of-type {\n",
       "        vertical-align: middle;\n",
       "    }\n",
       "\n",
       "    .dataframe tbody tr th {\n",
       "        vertical-align: top;\n",
       "    }\n",
       "\n",
       "    .dataframe thead th {\n",
       "        text-align: right;\n",
       "    }\n",
       "</style>\n",
       "<table border=\"1\" class=\"dataframe\">\n",
       "  <thead>\n",
       "    <tr style=\"text-align: right;\">\n",
       "      <th></th>\n",
       "      <th>Target Group</th>\n",
       "      <th>Model</th>\n",
       "      <th>Task</th>\n",
       "      <th>Word</th>\n",
       "      <th>Value</th>\n",
       "      <th>Word+Value</th>\n",
       "      <th>dimension</th>\n",
       "    </tr>\n",
       "  </thead>\n",
       "  <tbody>\n",
       "    <tr>\n",
       "      <th>0</th>\n",
       "      <td>standard</td>\n",
       "      <td>gemma-3-12b-it</td>\n",
       "      <td>urban-3</td>\n",
       "      <td>concise</td>\n",
       "      <td>5.55</td>\n",
       "      <td>concise (5.55),</td>\n",
       "      <td>urban</td>\n",
       "    </tr>\n",
       "    <tr>\n",
       "      <th>1</th>\n",
       "      <td>standard</td>\n",
       "      <td>gemma-3-12b-it</td>\n",
       "      <td>urban-3</td>\n",
       "      <td>technical</td>\n",
       "      <td>5.11</td>\n",
       "      <td>technical (5.11),</td>\n",
       "      <td>urban</td>\n",
       "    </tr>\n",
       "    <tr>\n",
       "      <th>2</th>\n",
       "      <td>standard</td>\n",
       "      <td>gemma-3-12b-it</td>\n",
       "      <td>urban-3</td>\n",
       "      <td>standard</td>\n",
       "      <td>4.86</td>\n",
       "      <td>standard (4.86),</td>\n",
       "      <td>urban</td>\n",
       "    </tr>\n",
       "    <tr>\n",
       "      <th>3</th>\n",
       "      <td>standard</td>\n",
       "      <td>gemma-3-12b-it</td>\n",
       "      <td>urban-3</td>\n",
       "      <td>suitable</td>\n",
       "      <td>4.57</td>\n",
       "      <td>suitable (4.57),</td>\n",
       "      <td>urban</td>\n",
       "    </tr>\n",
       "    <tr>\n",
       "      <th>4</th>\n",
       "      <td>standard</td>\n",
       "      <td>gemma-3-12b-it</td>\n",
       "      <td>urban-3</td>\n",
       "      <td>clear</td>\n",
       "      <td>4.48</td>\n",
       "      <td>clear (4.48),</td>\n",
       "      <td>urban</td>\n",
       "    </tr>\n",
       "  </tbody>\n",
       "</table>\n",
       "</div>"
      ],
      "text/plain": [
       "  Target Group           Model     Task       Word  Value          Word+Value  \\\n",
       "0     standard  gemma-3-12b-it  urban-3    concise   5.55    concise (5.55),    \n",
       "1     standard  gemma-3-12b-it  urban-3  technical   5.11  technical (5.11),    \n",
       "2     standard  gemma-3-12b-it  urban-3   standard   4.86   standard (4.86),    \n",
       "3     standard  gemma-3-12b-it  urban-3   suitable   4.57   suitable (4.57),    \n",
       "4     standard  gemma-3-12b-it  urban-3      clear   4.48      clear (4.48),    \n",
       "\n",
       "  dimension  \n",
       "0     urban  \n",
       "1     urban  \n",
       "2     urban  \n",
       "3     urban  \n",
       "4     urban  "
      ]
     },
     "execution_count": 30,
     "metadata": {},
     "output_type": "execute_result"
    }
   ],
   "source": [
    "df.head()"
   ]
  },
  {
   "cell_type": "code",
   "execution_count": 31,
   "id": "2a4af62d",
   "metadata": {},
   "outputs": [
    {
     "data": {
      "application/vnd.plotly.v1+json": {
       "config": {
        "plotlyServerURL": "https://plot.ly"
       },
       "data": [
        {
         "marker": {
          "color": "rgba(173, 216, 230, 0.8)",
          "line": {
           "color": "rgba(0, 0, 139, 0.6)",
           "width": 1.5
          }
         },
         "name": "Standard",
         "orientation": "h",
         "text": [
          4.8,
          4.36,
          4.08,
          4,
          3.99,
          3.95,
          3.92,
          3.85,
          3.73,
          3.63,
          3.4,
          3,
          2.95,
          2.9,
          2.88,
          2.81,
          2.81,
          2.67,
          2.62,
          2.62,
          2.61,
          2.61,
          2.52,
          2.47,
          2.39,
          2.36,
          2.33,
          2.23,
          2.22,
          2.15,
          2.14,
          2.11,
          2.08,
          2.07,
          2.07,
          2.06,
          2,
          1.98,
          1.96
         ],
         "textposition": "auto",
         "type": "bar",
         "x": [
          -4.8,
          -4.36,
          -4.08,
          -4,
          -3.99,
          -3.95,
          -3.92,
          -3.85,
          -3.73,
          -3.63,
          -3.4,
          -3,
          -2.95,
          -2.9,
          -2.88,
          -2.81,
          -2.81,
          -2.67,
          -2.62,
          -2.62,
          -2.61,
          -2.61,
          -2.52,
          -2.47,
          -2.39,
          -2.36,
          -2.33,
          -2.23,
          -2.22,
          -2.15,
          -2.14,
          -2.11,
          -2.08,
          -2.07,
          -2.07,
          -2.06,
          -2,
          -1.98,
          -1.96
         ],
         "y": [
          "straightforward",
          "concise",
          "manner",
          "standard",
          "accessible",
          "easily",
          "communicator",
          "readability",
          "universally",
          "clear",
          "professional",
          "information",
          "clarity",
          "understandable",
          "effectively",
          "conventions",
          "wider",
          "understood",
          "grammatically",
          "broad",
          "presents",
          "ease",
          "avoiding",
          "comprehension",
          "readership",
          "correct",
          "and",
          "efficient",
          "opting",
          "streamlined",
          "presenting",
          "efficiently",
          "reaching",
          "factual",
          "present",
          "producing",
          "polished",
          "message",
          "effective"
         ]
        },
        {
         "marker": {
          "color": "rgba(255, 182, 193, 0.8)",
          "line": {
           "color": "rgba(139, 0, 0, 0.6)",
           "width": 1.5
          }
         },
         "name": "Dialect",
         "orientation": "h",
         "text": [
          1.98,
          1.99,
          2.03,
          2.1,
          2.12,
          2.23,
          2.28,
          2.3,
          2.39,
          2.39,
          2.39,
          2.41,
          2.43,
          2.51,
          2.54,
          2.56,
          2.59,
          2.6,
          2.76,
          2.81,
          2.87,
          2.92,
          3.38,
          3.4,
          3.48,
          3.54,
          3.91,
          3.97,
          4.41,
          4.47,
          4.51,
          4.62,
          4.86,
          4.88,
          5.61,
          5.89,
          6.28
         ],
         "textposition": "auto",
         "type": "bar",
         "x": [
          1.98,
          1.99,
          2.03,
          2.1,
          2.12,
          2.23,
          2.28,
          2.3,
          2.39,
          2.39,
          2.39,
          2.41,
          2.43,
          2.51,
          2.54,
          2.56,
          2.59,
          2.6,
          2.76,
          2.81,
          2.87,
          2.92,
          3.38,
          3.4,
          3.48,
          3.54,
          3.91,
          3.97,
          4.41,
          4.47,
          4.51,
          4.62,
          4.86,
          4.88,
          5.61,
          5.89,
          6.28
         ],
         "y": [
          "incorporating",
          "do",
          "alsatian",
          "utilizing",
          "dialectical",
          "over",
          "deviating",
          "bs",
          "while",
          "personality",
          "tone",
          "expense",
          "formality",
          "deviate",
          "employs",
          "willingness",
          "characterized",
          "relatable",
          "flavor",
          "unique",
          "exhibits",
          "expressive",
          "less",
          "regional",
          "distinctive",
          "friendly",
          "personable",
          "connection",
          "strict",
          "distinct",
          "colloquial",
          "more",
          "dialect",
          "approachable",
          "informal",
          "relaxed",
          "conversational"
         ]
        }
       ],
       "layout": {
        "barcornerradius": 5,
        "barmode": "relative",
        "height": 550,
        "template": {},
        "title": {
         "text": "gemma-3-12b-it"
        },
        "width": 400,
        "xaxis": {
         "zeroline": true,
         "zerolinecolor": "gray",
         "zerolinewidth": 2
        }
       }
      },
      "text/html": [
       "<div>                            <div id=\"4710c32a-a89e-4657-b26c-20a3f119a7ce\" class=\"plotly-graph-div\" style=\"height:550px; width:400px;\"></div>            <script type=\"text/javascript\">                require([\"plotly\"], function(Plotly) {                    window.PLOTLYENV=window.PLOTLYENV || {};                                    if (document.getElementById(\"4710c32a-a89e-4657-b26c-20a3f119a7ce\")) {                    Plotly.newPlot(                        \"4710c32a-a89e-4657-b26c-20a3f119a7ce\",                        [{\"marker\":{\"color\":\"rgba(173, 216, 230, 0.8)\",\"line\":{\"color\":\"rgba(0, 0, 139, 0.6)\",\"width\":1.5}},\"name\":\"Standard\",\"orientation\":\"h\",\"text\":[4.8,4.36,4.08,4.0,3.99,3.95,3.92,3.85,3.73,3.63,3.4,3.0,2.95,2.9,2.88,2.81,2.81,2.67,2.62,2.62,2.61,2.61,2.52,2.47,2.39,2.36,2.33,2.23,2.22,2.15,2.14,2.11,2.08,2.07,2.07,2.06,2.0,1.98,1.96],\"textposition\":\"auto\",\"x\":[-4.8,-4.36,-4.08,-4.0,-3.99,-3.95,-3.92,-3.85,-3.73,-3.63,-3.4,-3.0,-2.95,-2.9,-2.88,-2.81,-2.81,-2.67,-2.62,-2.62,-2.61,-2.61,-2.52,-2.47,-2.39,-2.36,-2.33,-2.23,-2.22,-2.15,-2.14,-2.11,-2.08,-2.07,-2.07,-2.06,-2.0,-1.98,-1.96],\"y\":[\"straightforward\",\"concise\",\"manner\",\"standard\",\"accessible\",\"easily\",\"communicator\",\"readability\",\"universally\",\"clear\",\"professional\",\"information\",\"clarity\",\"understandable\",\"effectively\",\"conventions\",\"wider\",\"understood\",\"grammatically\",\"broad\",\"presents\",\"ease\",\"avoiding\",\"comprehension\",\"readership\",\"correct\",\"and\",\"efficient\",\"opting\",\"streamlined\",\"presenting\",\"efficiently\",\"reaching\",\"factual\",\"present\",\"producing\",\"polished\",\"message\",\"effective\"],\"type\":\"bar\"},{\"marker\":{\"color\":\"rgba(255, 182, 193, 0.8)\",\"line\":{\"color\":\"rgba(139, 0, 0, 0.6)\",\"width\":1.5}},\"name\":\"Dialect\",\"orientation\":\"h\",\"text\":[1.98,1.99,2.03,2.1,2.12,2.23,2.28,2.3,2.39,2.39,2.39,2.41,2.43,2.51,2.54,2.56,2.59,2.6,2.76,2.81,2.87,2.92,3.38,3.4,3.48,3.54,3.91,3.97,4.41,4.47,4.51,4.62,4.86,4.88,5.61,5.89,6.28],\"textposition\":\"auto\",\"x\":[1.98,1.99,2.03,2.1,2.12,2.23,2.28,2.3,2.39,2.39,2.39,2.41,2.43,2.51,2.54,2.56,2.59,2.6,2.76,2.81,2.87,2.92,3.38,3.4,3.48,3.54,3.91,3.97,4.41,4.47,4.51,4.62,4.86,4.88,5.61,5.89,6.28],\"y\":[\"incorporating\",\"do\",\"alsatian\",\"utilizing\",\"dialectical\",\"over\",\"deviating\",\"bs\",\"while\",\"personality\",\"tone\",\"expense\",\"formality\",\"deviate\",\"employs\",\"willingness\",\"characterized\",\"relatable\",\"flavor\",\"unique\",\"exhibits\",\"expressive\",\"less\",\"regional\",\"distinctive\",\"friendly\",\"personable\",\"connection\",\"strict\",\"distinct\",\"colloquial\",\"more\",\"dialect\",\"approachable\",\"informal\",\"relaxed\",\"conversational\"],\"type\":\"bar\"}],                        {\"template\":{},\"xaxis\":{\"zeroline\":true,\"zerolinewidth\":2,\"zerolinecolor\":\"gray\"},\"title\":{\"text\":\"gemma-3-12b-it\"},\"width\":400,\"height\":550,\"barmode\":\"relative\",\"barcornerradius\":5},                        {\"responsive\": true}                    ).then(function(){\n",
       "                            \n",
       "var gd = document.getElementById('4710c32a-a89e-4657-b26c-20a3f119a7ce');\n",
       "var x = new MutationObserver(function (mutations, observer) {{\n",
       "        var display = window.getComputedStyle(gd).display;\n",
       "        if (!display || display === 'none') {{\n",
       "            console.log([gd, 'removed!']);\n",
       "            Plotly.purge(gd);\n",
       "            observer.disconnect();\n",
       "        }}\n",
       "}});\n",
       "\n",
       "// Listen for the removal of the full notebook cells\n",
       "var notebookContainer = gd.closest('#notebook-container');\n",
       "if (notebookContainer) {{\n",
       "    x.observe(notebookContainer, {childList: true});\n",
       "}}\n",
       "\n",
       "// Listen for the clearing of the current output cell\n",
       "var outputEl = gd.closest('.output');\n",
       "if (outputEl) {{\n",
       "    x.observe(outputEl, {childList: true});\n",
       "}}\n",
       "\n",
       "                        })                };                });            </script>        </div>"
      ]
     },
     "metadata": {},
     "output_type": "display_data"
    },
    {
     "data": {
      "application/vnd.plotly.v1+json": {
       "config": {
        "plotlyServerURL": "https://plot.ly"
       },
       "data": [
        {
         "marker": {
          "color": "rgba(173, 216, 230, 0.8)",
          "line": {
           "color": "rgba(0, 0, 139, 0.6)",
           "width": 1.5
          }
         },
         "name": "Standard",
         "orientation": "h",
         "text": [
          3.63,
          3.46,
          3.42,
          2.62,
          2.6,
          2.55,
          2.48,
          2.34,
          2.17,
          2.14,
          2.13,
          2.05,
          2.02
         ],
         "textposition": "auto",
         "type": "bar",
         "x": [
          -3.63,
          -3.46,
          -3.42,
          -2.62,
          -2.6,
          -2.55,
          -2.48,
          -2.34,
          -2.17,
          -2.14,
          -2.13,
          -2.05,
          -2.02
         ],
         "y": [
          "concise",
          "straightforward",
          "clear",
          "logical",
          "follows",
          "understandable",
          "providing",
          "information",
          "effectively",
          "ensuring",
          "inclusive",
          "manner",
          "approachable"
         ]
        },
        {
         "marker": {
          "color": "rgba(255, 182, 193, 0.8)",
          "line": {
           "color": "rgba(139, 0, 0, 0.6)",
           "width": 1.5
          }
         },
         "name": "Dialect",
         "orientation": "h",
         "text": [
          2.04,
          2.05,
          2.06,
          2.11,
          2.12,
          2.16,
          2.24,
          2.31,
          2.35,
          2.55,
          2.57,
          2.61,
          2.66,
          2.68,
          2.84,
          3.29,
          3.72,
          3.85,
          4.14,
          4.17,
          5.27
         ],
         "textposition": "auto",
         "type": "bar",
         "x": [
          2.04,
          2.05,
          2.06,
          2.11,
          2.12,
          2.16,
          2.24,
          2.31,
          2.35,
          2.55,
          2.57,
          2.61,
          2.66,
          2.68,
          2.84,
          3.29,
          3.72,
          3.85,
          4.14,
          4.17,
          5.27
         ],
         "y": [
          "lively",
          "engaging",
          "colleague",
          "adds",
          "relaxed",
          "unique",
          "flavor",
          "colloquial",
          "adding",
          "use",
          "using",
          "touch",
          "playful",
          "slang",
          "casual",
          "brings",
          "more",
          "creative",
          "informal",
          "conversational",
          "expressive"
         ]
        }
       ],
       "layout": {
        "barcornerradius": 5,
        "barmode": "relative",
        "height": 550,
        "template": {},
        "title": {
         "text": "aya-expanse-8b"
        },
        "width": 400,
        "xaxis": {
         "zeroline": true,
         "zerolinecolor": "gray",
         "zerolinewidth": 2
        }
       }
      },
      "text/html": [
       "<div>                            <div id=\"96a658f3-b4d3-4a91-a173-8c2655ee4334\" class=\"plotly-graph-div\" style=\"height:550px; width:400px;\"></div>            <script type=\"text/javascript\">                require([\"plotly\"], function(Plotly) {                    window.PLOTLYENV=window.PLOTLYENV || {};                                    if (document.getElementById(\"96a658f3-b4d3-4a91-a173-8c2655ee4334\")) {                    Plotly.newPlot(                        \"96a658f3-b4d3-4a91-a173-8c2655ee4334\",                        [{\"marker\":{\"color\":\"rgba(173, 216, 230, 0.8)\",\"line\":{\"color\":\"rgba(0, 0, 139, 0.6)\",\"width\":1.5}},\"name\":\"Standard\",\"orientation\":\"h\",\"text\":[3.63,3.46,3.42,2.62,2.6,2.55,2.48,2.34,2.17,2.14,2.13,2.05,2.02],\"textposition\":\"auto\",\"x\":[-3.63,-3.46,-3.42,-2.62,-2.6,-2.55,-2.48,-2.34,-2.17,-2.14,-2.13,-2.05,-2.02],\"y\":[\"concise\",\"straightforward\",\"clear\",\"logical\",\"follows\",\"understandable\",\"providing\",\"information\",\"effectively\",\"ensuring\",\"inclusive\",\"manner\",\"approachable\"],\"type\":\"bar\"},{\"marker\":{\"color\":\"rgba(255, 182, 193, 0.8)\",\"line\":{\"color\":\"rgba(139, 0, 0, 0.6)\",\"width\":1.5}},\"name\":\"Dialect\",\"orientation\":\"h\",\"text\":[2.04,2.05,2.06,2.11,2.12,2.16,2.24,2.31,2.35,2.55,2.57,2.61,2.66,2.68,2.84,3.29,3.72,3.85,4.14,4.17,5.27],\"textposition\":\"auto\",\"x\":[2.04,2.05,2.06,2.11,2.12,2.16,2.24,2.31,2.35,2.55,2.57,2.61,2.66,2.68,2.84,3.29,3.72,3.85,4.14,4.17,5.27],\"y\":[\"lively\",\"engaging\",\"colleague\",\"adds\",\"relaxed\",\"unique\",\"flavor\",\"colloquial\",\"adding\",\"use\",\"using\",\"touch\",\"playful\",\"slang\",\"casual\",\"brings\",\"more\",\"creative\",\"informal\",\"conversational\",\"expressive\"],\"type\":\"bar\"}],                        {\"template\":{},\"xaxis\":{\"zeroline\":true,\"zerolinewidth\":2,\"zerolinecolor\":\"gray\"},\"title\":{\"text\":\"aya-expanse-8b\"},\"width\":400,\"height\":550,\"barmode\":\"relative\",\"barcornerradius\":5},                        {\"responsive\": true}                    ).then(function(){\n",
       "                            \n",
       "var gd = document.getElementById('96a658f3-b4d3-4a91-a173-8c2655ee4334');\n",
       "var x = new MutationObserver(function (mutations, observer) {{\n",
       "        var display = window.getComputedStyle(gd).display;\n",
       "        if (!display || display === 'none') {{\n",
       "            console.log([gd, 'removed!']);\n",
       "            Plotly.purge(gd);\n",
       "            observer.disconnect();\n",
       "        }}\n",
       "}});\n",
       "\n",
       "// Listen for the removal of the full notebook cells\n",
       "var notebookContainer = gd.closest('#notebook-container');\n",
       "if (notebookContainer) {{\n",
       "    x.observe(notebookContainer, {childList: true});\n",
       "}}\n",
       "\n",
       "// Listen for the clearing of the current output cell\n",
       "var outputEl = gd.closest('.output');\n",
       "if (outputEl) {{\n",
       "    x.observe(outputEl, {childList: true});\n",
       "}}\n",
       "\n",
       "                        })                };                });            </script>        </div>"
      ]
     },
     "metadata": {},
     "output_type": "display_data"
    },
    {
     "data": {
      "application/vnd.plotly.v1+json": {
       "config": {
        "plotlyServerURL": "https://plot.ly"
       },
       "data": [
        {
         "marker": {
          "color": "rgba(173, 216, 230, 0.8)",
          "line": {
           "color": "rgba(0, 0, 139, 0.6)",
           "width": 1.5
          }
         },
         "name": "Standard",
         "orientation": "h",
         "text": [
          5.05,
          4.17,
          4.11,
          3.78,
          3.35,
          3.13,
          3.06,
          2.98,
          2.85,
          2.84,
          2.55,
          2.52,
          2.52,
          2.49,
          2.43,
          2.3,
          2.16,
          2.16,
          2.06,
          1.99,
          1.96,
          1.96
         ],
         "textposition": "auto",
         "type": "bar",
         "x": [
          -5.05,
          -4.17,
          -4.11,
          -3.78,
          -3.35,
          -3.13,
          -3.06,
          -2.98,
          -2.85,
          -2.84,
          -2.55,
          -2.52,
          -2.52,
          -2.49,
          -2.43,
          -2.3,
          -2.16,
          -2.16,
          -2.06,
          -1.99,
          -1.96,
          -1.96
         ],
         "y": [
          "b",
          "easily",
          "standard",
          "clear",
          "understandable",
          "structured",
          "formal",
          "concise",
          "informative",
          "straightforward",
          "adheres",
          "suitable",
          "produces",
          "information",
          "meticulous",
          "clarity",
          "digestible",
          "adhering",
          "readership",
          "reliable",
          "precise",
          "making"
         ]
        },
        {
         "marker": {
          "color": "rgba(255, 182, 193, 0.8)",
          "line": {
           "color": "rgba(139, 0, 0, 0.6)",
           "width": 1.5
          }
         },
         "name": "Dialect",
         "orientation": "h",
         "text": [
          1.97,
          1.98,
          1.98,
          2.02,
          2.03,
          2.04,
          2.09,
          2.12,
          2.14,
          2.14,
          2.17,
          2.2,
          2.25,
          2.33,
          2.33,
          2.34,
          2.34,
          2.36,
          2.37,
          2.38,
          2.42,
          2.51,
          2.53,
          2.56,
          2.56,
          2.7,
          2.71,
          2.78,
          2.94,
          3.05,
          3.21,
          3.31,
          3.36,
          3.54,
          3.82,
          3.85,
          4.07,
          4.47,
          4.53,
          4.64,
          4.65,
          5.07,
          5.29,
          6.6
         ],
         "textposition": "auto",
         "type": "bar",
         "x": [
          1.97,
          1.98,
          1.98,
          2.02,
          2.03,
          2.04,
          2.09,
          2.12,
          2.14,
          2.14,
          2.17,
          2.2,
          2.25,
          2.33,
          2.33,
          2.34,
          2.34,
          2.36,
          2.37,
          2.38,
          2.42,
          2.51,
          2.53,
          2.56,
          2.56,
          2.7,
          2.71,
          2.78,
          2.94,
          3.05,
          3.21,
          3.31,
          3.36,
          3.54,
          3.82,
          3.85,
          4.07,
          4.47,
          4.53,
          4.64,
          4.65,
          5.07,
          5.29,
          6.6
         ],
         "y": [
          "editing",
          "while",
          "despite",
          "which",
          "broader",
          "desire",
          "colloquialisms",
          "potentially",
          "employing",
          "require",
          "comfortable",
          "flavor",
          "relatable",
          "creative",
          "be",
          "local",
          "almost",
          "appeal",
          "might",
          "regional",
          "personal",
          "distinct",
          "unique",
          "using",
          "comfort",
          "friendly",
          "nonstandard",
          "expressive",
          "some",
          "touch",
          "approachable",
          "benefit",
          "engaging",
          "but",
          "may",
          "informal",
          "dialect",
          "bs",
          "more",
          "colloquial",
          "relaxed",
          "conversational",
          "less",
          "casual"
         ]
        }
       ],
       "layout": {
        "barcornerradius": 5,
        "barmode": "relative",
        "height": 550,
        "template": {},
        "title": {
         "text": "aya-expanse-32b"
        },
        "width": 400,
        "xaxis": {
         "zeroline": true,
         "zerolinecolor": "gray",
         "zerolinewidth": 2
        }
       }
      },
      "text/html": [
       "<div>                            <div id=\"b1e45d49-318c-4bc8-bad6-e6cf5a9a1fd2\" class=\"plotly-graph-div\" style=\"height:550px; width:400px;\"></div>            <script type=\"text/javascript\">                require([\"plotly\"], function(Plotly) {                    window.PLOTLYENV=window.PLOTLYENV || {};                                    if (document.getElementById(\"b1e45d49-318c-4bc8-bad6-e6cf5a9a1fd2\")) {                    Plotly.newPlot(                        \"b1e45d49-318c-4bc8-bad6-e6cf5a9a1fd2\",                        [{\"marker\":{\"color\":\"rgba(173, 216, 230, 0.8)\",\"line\":{\"color\":\"rgba(0, 0, 139, 0.6)\",\"width\":1.5}},\"name\":\"Standard\",\"orientation\":\"h\",\"text\":[5.05,4.17,4.11,3.78,3.35,3.13,3.06,2.98,2.85,2.84,2.55,2.52,2.52,2.49,2.43,2.3,2.16,2.16,2.06,1.99,1.96,1.96],\"textposition\":\"auto\",\"x\":[-5.05,-4.17,-4.11,-3.78,-3.35,-3.13,-3.06,-2.98,-2.85,-2.84,-2.55,-2.52,-2.52,-2.49,-2.43,-2.3,-2.16,-2.16,-2.06,-1.99,-1.96,-1.96],\"y\":[\"b\",\"easily\",\"standard\",\"clear\",\"understandable\",\"structured\",\"formal\",\"concise\",\"informative\",\"straightforward\",\"adheres\",\"suitable\",\"produces\",\"information\",\"meticulous\",\"clarity\",\"digestible\",\"adhering\",\"readership\",\"reliable\",\"precise\",\"making\"],\"type\":\"bar\"},{\"marker\":{\"color\":\"rgba(255, 182, 193, 0.8)\",\"line\":{\"color\":\"rgba(139, 0, 0, 0.6)\",\"width\":1.5}},\"name\":\"Dialect\",\"orientation\":\"h\",\"text\":[1.97,1.98,1.98,2.02,2.03,2.04,2.09,2.12,2.14,2.14,2.17,2.2,2.25,2.33,2.33,2.34,2.34,2.36,2.37,2.38,2.42,2.51,2.53,2.56,2.56,2.7,2.71,2.78,2.94,3.05,3.21,3.31,3.36,3.54,3.82,3.85,4.07,4.47,4.53,4.64,4.65,5.07,5.29,6.6],\"textposition\":\"auto\",\"x\":[1.97,1.98,1.98,2.02,2.03,2.04,2.09,2.12,2.14,2.14,2.17,2.2,2.25,2.33,2.33,2.34,2.34,2.36,2.37,2.38,2.42,2.51,2.53,2.56,2.56,2.7,2.71,2.78,2.94,3.05,3.21,3.31,3.36,3.54,3.82,3.85,4.07,4.47,4.53,4.64,4.65,5.07,5.29,6.6],\"y\":[\"editing\",\"while\",\"despite\",\"which\",\"broader\",\"desire\",\"colloquialisms\",\"potentially\",\"employing\",\"require\",\"comfortable\",\"flavor\",\"relatable\",\"creative\",\"be\",\"local\",\"almost\",\"appeal\",\"might\",\"regional\",\"personal\",\"distinct\",\"unique\",\"using\",\"comfort\",\"friendly\",\"nonstandard\",\"expressive\",\"some\",\"touch\",\"approachable\",\"benefit\",\"engaging\",\"but\",\"may\",\"informal\",\"dialect\",\"bs\",\"more\",\"colloquial\",\"relaxed\",\"conversational\",\"less\",\"casual\"],\"type\":\"bar\"}],                        {\"template\":{},\"xaxis\":{\"zeroline\":true,\"zerolinewidth\":2,\"zerolinecolor\":\"gray\"},\"title\":{\"text\":\"aya-expanse-32b\"},\"width\":400,\"height\":550,\"barmode\":\"relative\",\"barcornerradius\":5},                        {\"responsive\": true}                    ).then(function(){\n",
       "                            \n",
       "var gd = document.getElementById('b1e45d49-318c-4bc8-bad6-e6cf5a9a1fd2');\n",
       "var x = new MutationObserver(function (mutations, observer) {{\n",
       "        var display = window.getComputedStyle(gd).display;\n",
       "        if (!display || display === 'none') {{\n",
       "            console.log([gd, 'removed!']);\n",
       "            Plotly.purge(gd);\n",
       "            observer.disconnect();\n",
       "        }}\n",
       "}});\n",
       "\n",
       "// Listen for the removal of the full notebook cells\n",
       "var notebookContainer = gd.closest('#notebook-container');\n",
       "if (notebookContainer) {{\n",
       "    x.observe(notebookContainer, {childList: true});\n",
       "}}\n",
       "\n",
       "// Listen for the clearing of the current output cell\n",
       "var outputEl = gd.closest('.output');\n",
       "if (outputEl) {{\n",
       "    x.observe(outputEl, {childList: true});\n",
       "}}\n",
       "\n",
       "                        })                };                });            </script>        </div>"
      ]
     },
     "metadata": {},
     "output_type": "display_data"
    },
    {
     "data": {
      "application/vnd.plotly.v1+json": {
       "config": {
        "plotlyServerURL": "https://plot.ly"
       },
       "data": [
        {
         "marker": {
          "color": "rgba(173, 216, 230, 0.8)",
          "line": {
           "color": "rgba(0, 0, 139, 0.6)",
           "width": 1.5
          }
         },
         "name": "Standard",
         "orientation": "h",
         "text": [
          4.81,
          4.47,
          4.42,
          4.36,
          3.83,
          3.82,
          3.49,
          3.37,
          3.27,
          2.88,
          2.8,
          2.66,
          2.47,
          2.34,
          2.3,
          2.3,
          2.13,
          2,
          1.98,
          1.98
         ],
         "textposition": "auto",
         "type": "bar",
         "x": [
          -4.81,
          -4.47,
          -4.42,
          -4.36,
          -3.83,
          -3.82,
          -3.49,
          -3.37,
          -3.27,
          -2.88,
          -2.8,
          -2.66,
          -2.47,
          -2.34,
          -2.3,
          -2.3,
          -2.13,
          -2,
          -1.98,
          -1.98
         ],
         "y": [
          "easy",
          "straightforward",
          "reliable",
          "clear",
          "concise",
          "standard",
          "precise",
          "meticulous",
          "source",
          "easily",
          "individual",
          "unnecessary",
          "accuracy",
          "factual",
          "information",
          "accurate",
          "is",
          "detail",
          "clarity",
          "efficient"
         ]
        },
        {
         "marker": {
          "color": "rgba(255, 182, 193, 0.8)",
          "line": {
           "color": "rgba(139, 0, 0, 0.6)",
           "width": 1.5
          }
         },
         "name": "Dialect",
         "orientation": "h",
         "text": [
          1.98,
          2,
          2.04,
          2.06,
          2.17,
          2.23,
          2.33,
          2.37,
          2.41,
          2.58,
          2.63,
          2.64,
          2.71,
          2.8,
          2.86,
          2.88,
          2.92,
          3.08,
          3.39,
          3.4,
          3.67,
          4.02,
          4.08,
          4.3,
          4.35,
          4.71,
          5.07,
          5.36,
          5.76
         ],
         "textposition": "auto",
         "type": "bar",
         "x": [
          1.98,
          2,
          2.04,
          2.06,
          2.17,
          2.23,
          2.33,
          2.37,
          2.41,
          2.58,
          2.63,
          2.64,
          2.71,
          2.8,
          2.86,
          2.88,
          2.92,
          3.08,
          3.39,
          3.4,
          3.67,
          4.02,
          4.08,
          4.3,
          4.35,
          4.71,
          5.07,
          5.36,
          5.76
         ],
         "y": [
          "creative",
          "knack",
          "adds",
          "leading",
          "be",
          "colleague",
          "informal",
          "make",
          "lack",
          "unique",
          "errors",
          "other",
          "conversational",
          "relatable",
          "relaxed",
          "enthusiasm",
          "challenging",
          "lively",
          "but",
          "hand",
          "colloquial",
          "fluid",
          "engaging",
          "despite",
          "less",
          "can",
          "casual",
          "sometimes",
          "more"
         ]
        }
       ],
       "layout": {
        "barcornerradius": 5,
        "barmode": "relative",
        "height": 550,
        "template": {},
        "title": {
         "text": "Qwen2.5-7B-Instruct"
        },
        "width": 400,
        "xaxis": {
         "zeroline": true,
         "zerolinecolor": "gray",
         "zerolinewidth": 2
        }
       }
      },
      "text/html": [
       "<div>                            <div id=\"29540e6a-33db-4768-9031-1dfdfcb0d508\" class=\"plotly-graph-div\" style=\"height:550px; width:400px;\"></div>            <script type=\"text/javascript\">                require([\"plotly\"], function(Plotly) {                    window.PLOTLYENV=window.PLOTLYENV || {};                                    if (document.getElementById(\"29540e6a-33db-4768-9031-1dfdfcb0d508\")) {                    Plotly.newPlot(                        \"29540e6a-33db-4768-9031-1dfdfcb0d508\",                        [{\"marker\":{\"color\":\"rgba(173, 216, 230, 0.8)\",\"line\":{\"color\":\"rgba(0, 0, 139, 0.6)\",\"width\":1.5}},\"name\":\"Standard\",\"orientation\":\"h\",\"text\":[4.81,4.47,4.42,4.36,3.83,3.82,3.49,3.37,3.27,2.88,2.8,2.66,2.47,2.34,2.3,2.3,2.13,2.0,1.98,1.98],\"textposition\":\"auto\",\"x\":[-4.81,-4.47,-4.42,-4.36,-3.83,-3.82,-3.49,-3.37,-3.27,-2.88,-2.8,-2.66,-2.47,-2.34,-2.3,-2.3,-2.13,-2.0,-1.98,-1.98],\"y\":[\"easy\",\"straightforward\",\"reliable\",\"clear\",\"concise\",\"standard\",\"precise\",\"meticulous\",\"source\",\"easily\",\"individual\",\"unnecessary\",\"accuracy\",\"factual\",\"information\",\"accurate\",\"is\",\"detail\",\"clarity\",\"efficient\"],\"type\":\"bar\"},{\"marker\":{\"color\":\"rgba(255, 182, 193, 0.8)\",\"line\":{\"color\":\"rgba(139, 0, 0, 0.6)\",\"width\":1.5}},\"name\":\"Dialect\",\"orientation\":\"h\",\"text\":[1.98,2.0,2.04,2.06,2.17,2.23,2.33,2.37,2.41,2.58,2.63,2.64,2.71,2.8,2.86,2.88,2.92,3.08,3.39,3.4,3.67,4.02,4.08,4.3,4.35,4.71,5.07,5.36,5.76],\"textposition\":\"auto\",\"x\":[1.98,2.0,2.04,2.06,2.17,2.23,2.33,2.37,2.41,2.58,2.63,2.64,2.71,2.8,2.86,2.88,2.92,3.08,3.39,3.4,3.67,4.02,4.08,4.3,4.35,4.71,5.07,5.36,5.76],\"y\":[\"creative\",\"knack\",\"adds\",\"leading\",\"be\",\"colleague\",\"informal\",\"make\",\"lack\",\"unique\",\"errors\",\"other\",\"conversational\",\"relatable\",\"relaxed\",\"enthusiasm\",\"challenging\",\"lively\",\"but\",\"hand\",\"colloquial\",\"fluid\",\"engaging\",\"despite\",\"less\",\"can\",\"casual\",\"sometimes\",\"more\"],\"type\":\"bar\"}],                        {\"template\":{},\"xaxis\":{\"zeroline\":true,\"zerolinewidth\":2,\"zerolinecolor\":\"gray\"},\"title\":{\"text\":\"Qwen2.5-7B-Instruct\"},\"width\":400,\"height\":550,\"barmode\":\"relative\",\"barcornerradius\":5},                        {\"responsive\": true}                    ).then(function(){\n",
       "                            \n",
       "var gd = document.getElementById('29540e6a-33db-4768-9031-1dfdfcb0d508');\n",
       "var x = new MutationObserver(function (mutations, observer) {{\n",
       "        var display = window.getComputedStyle(gd).display;\n",
       "        if (!display || display === 'none') {{\n",
       "            console.log([gd, 'removed!']);\n",
       "            Plotly.purge(gd);\n",
       "            observer.disconnect();\n",
       "        }}\n",
       "}});\n",
       "\n",
       "// Listen for the removal of the full notebook cells\n",
       "var notebookContainer = gd.closest('#notebook-container');\n",
       "if (notebookContainer) {{\n",
       "    x.observe(notebookContainer, {childList: true});\n",
       "}}\n",
       "\n",
       "// Listen for the clearing of the current output cell\n",
       "var outputEl = gd.closest('.output');\n",
       "if (outputEl) {{\n",
       "    x.observe(outputEl, {childList: true});\n",
       "}}\n",
       "\n",
       "                        })                };                });            </script>        </div>"
      ]
     },
     "metadata": {},
     "output_type": "display_data"
    },
    {
     "data": {
      "application/vnd.plotly.v1+json": {
       "config": {
        "plotlyServerURL": "https://plot.ly"
       },
       "data": [
        {
         "marker": {
          "color": "rgba(173, 216, 230, 0.8)",
          "line": {
           "color": "rgba(0, 0, 139, 0.6)",
           "width": 1.5
          }
         },
         "name": "Standard",
         "orientation": "h",
         "text": [
          5.92,
          5.49,
          5.34,
          5.15,
          4.76,
          4.63,
          4.02,
          3.86,
          3.45,
          3.39,
          3.32,
          3.14,
          3.1,
          3.09,
          3.07,
          2.99,
          2.94,
          2.93,
          2.92,
          2.91,
          2.86,
          2.83,
          2.8,
          2.75,
          2.74,
          2.7,
          2.69,
          2.67,
          2.6,
          2.52,
          2.48,
          2.45,
          2.42,
          2.35,
          2.35,
          2.3,
          2.27,
          2.25,
          2.24,
          2.2,
          2.13,
          2.12,
          2.06,
          2.05,
          2.03,
          2.01,
          2.01,
          2,
          2,
          1.99,
          1.97
         ],
         "textposition": "auto",
         "type": "bar",
         "x": [
          -5.92,
          -5.49,
          -5.34,
          -5.15,
          -4.76,
          -4.63,
          -4.02,
          -3.86,
          -3.45,
          -3.39,
          -3.32,
          -3.14,
          -3.1,
          -3.09,
          -3.07,
          -2.99,
          -2.94,
          -2.93,
          -2.92,
          -2.91,
          -2.86,
          -2.83,
          -2.8,
          -2.75,
          -2.74,
          -2.7,
          -2.69,
          -2.67,
          -2.6,
          -2.52,
          -2.48,
          -2.45,
          -2.42,
          -2.35,
          -2.35,
          -2.3,
          -2.27,
          -2.25,
          -2.24,
          -2.2,
          -2.13,
          -2.12,
          -2.06,
          -2.05,
          -2.03,
          -2.01,
          -2.01,
          -2,
          -2,
          -1.99,
          -1.97
         ],
         "y": [
          "professional",
          "closely",
          "easy",
          "reliable",
          "clear",
          "adhering",
          "straightforward",
          "adheres",
          "concise",
          "precise",
          "standard",
          "accuracy",
          "official",
          "understandable",
          "wide",
          "workshop",
          "considering",
          "producing",
          "source",
          "clarity",
          "encourage",
          "information",
          "documents",
          "suitable",
          "understand",
          "structured",
          "easily",
          "wellstructured",
          "presented",
          "composed",
          "and",
          "is",
          "overly",
          "formal",
          "conventions",
          "reducing",
          "universally",
          "making",
          "communicator",
          "lacking",
          "factual",
          "widely",
          "grammar",
          "accurate",
          "high",
          "detail",
          "correct",
          "syntax",
          "rigid",
          "professionalism",
          "without"
         ]
        },
        {
         "marker": {
          "color": "rgba(255, 182, 193, 0.8)",
          "line": {
           "color": "rgba(139, 0, 0, 0.6)",
           "width": 1.5
          }
         },
         "name": "Dialect",
         "orientation": "h",
         "text": [
          1.97,
          2.01,
          2.03,
          2.04,
          2.09,
          2.14,
          2.24,
          2.25,
          2.26,
          2.27,
          2.3,
          2.31,
          2.32,
          2.34,
          2.36,
          2.42,
          2.46,
          2.55,
          2.63,
          2.73,
          2.92,
          2.95,
          3,
          3.06,
          3.23,
          3.26,
          3.27,
          3.67,
          3.77,
          3.8,
          3.87,
          3.88,
          3.95,
          3.95,
          4.01,
          4.04,
          4.17,
          4.23,
          4.33,
          4.46,
          4.58,
          4.73,
          5.4
         ],
         "textposition": "auto",
         "type": "bar",
         "x": [
          1.97,
          2.01,
          2.03,
          2.04,
          2.09,
          2.14,
          2.24,
          2.25,
          2.26,
          2.27,
          2.3,
          2.31,
          2.32,
          2.34,
          2.36,
          2.42,
          2.46,
          2.55,
          2.63,
          2.73,
          2.92,
          2.95,
          3,
          3.06,
          3.23,
          3.26,
          3.27,
          3.67,
          3.77,
          3.8,
          3.87,
          3.88,
          3.95,
          3.95,
          4.01,
          4.04,
          4.17,
          4.23,
          4.33,
          4.46,
          4.58,
          4.73,
          5.4
         ],
         "y": [
          "standardization",
          "connection",
          "incorporating",
          "distinctive",
          "make",
          "bringing",
          "challenging",
          "blending",
          "additional",
          "this",
          "broader",
          "adaptable",
          "while",
          "distinct",
          "character",
          "dialects",
          "readers",
          "expressive",
          "sometimes",
          "local",
          "out",
          "conversational",
          "regional",
          "stand",
          "may",
          "dialect",
          "touch",
          "adds",
          "but",
          "more",
          "can",
          "has",
          "flavor",
          "less",
          "unique",
          "engaging",
          "relatable",
          "casual",
          "personal",
          "informal",
          "creative",
          "relaxed",
          "colloquial"
         ]
        }
       ],
       "layout": {
        "barcornerradius": 5,
        "barmode": "relative",
        "height": 550,
        "template": {},
        "title": {
         "text": "Qwen2.5-72B-Instruct"
        },
        "width": 400,
        "xaxis": {
         "zeroline": true,
         "zerolinecolor": "gray",
         "zerolinewidth": 2
        }
       }
      },
      "text/html": [
       "<div>                            <div id=\"62ca5cd6-08e3-4e29-b8f6-7dbf6f5f23f7\" class=\"plotly-graph-div\" style=\"height:550px; width:400px;\"></div>            <script type=\"text/javascript\">                require([\"plotly\"], function(Plotly) {                    window.PLOTLYENV=window.PLOTLYENV || {};                                    if (document.getElementById(\"62ca5cd6-08e3-4e29-b8f6-7dbf6f5f23f7\")) {                    Plotly.newPlot(                        \"62ca5cd6-08e3-4e29-b8f6-7dbf6f5f23f7\",                        [{\"marker\":{\"color\":\"rgba(173, 216, 230, 0.8)\",\"line\":{\"color\":\"rgba(0, 0, 139, 0.6)\",\"width\":1.5}},\"name\":\"Standard\",\"orientation\":\"h\",\"text\":[5.92,5.49,5.34,5.15,4.76,4.63,4.02,3.86,3.45,3.39,3.32,3.14,3.1,3.09,3.07,2.99,2.94,2.93,2.92,2.91,2.86,2.83,2.8,2.75,2.74,2.7,2.69,2.67,2.6,2.52,2.48,2.45,2.42,2.35,2.35,2.3,2.27,2.25,2.24,2.2,2.13,2.12,2.06,2.05,2.03,2.01,2.01,2.0,2.0,1.99,1.97],\"textposition\":\"auto\",\"x\":[-5.92,-5.49,-5.34,-5.15,-4.76,-4.63,-4.02,-3.86,-3.45,-3.39,-3.32,-3.14,-3.1,-3.09,-3.07,-2.99,-2.94,-2.93,-2.92,-2.91,-2.86,-2.83,-2.8,-2.75,-2.74,-2.7,-2.69,-2.67,-2.6,-2.52,-2.48,-2.45,-2.42,-2.35,-2.35,-2.3,-2.27,-2.25,-2.24,-2.2,-2.13,-2.12,-2.06,-2.05,-2.03,-2.01,-2.01,-2.0,-2.0,-1.99,-1.97],\"y\":[\"professional\",\"closely\",\"easy\",\"reliable\",\"clear\",\"adhering\",\"straightforward\",\"adheres\",\"concise\",\"precise\",\"standard\",\"accuracy\",\"official\",\"understandable\",\"wide\",\"workshop\",\"considering\",\"producing\",\"source\",\"clarity\",\"encourage\",\"information\",\"documents\",\"suitable\",\"understand\",\"structured\",\"easily\",\"wellstructured\",\"presented\",\"composed\",\"and\",\"is\",\"overly\",\"formal\",\"conventions\",\"reducing\",\"universally\",\"making\",\"communicator\",\"lacking\",\"factual\",\"widely\",\"grammar\",\"accurate\",\"high\",\"detail\",\"correct\",\"syntax\",\"rigid\",\"professionalism\",\"without\"],\"type\":\"bar\"},{\"marker\":{\"color\":\"rgba(255, 182, 193, 0.8)\",\"line\":{\"color\":\"rgba(139, 0, 0, 0.6)\",\"width\":1.5}},\"name\":\"Dialect\",\"orientation\":\"h\",\"text\":[1.97,2.01,2.03,2.04,2.09,2.14,2.24,2.25,2.26,2.27,2.3,2.31,2.32,2.34,2.36,2.42,2.46,2.55,2.63,2.73,2.92,2.95,3.0,3.06,3.23,3.26,3.27,3.67,3.77,3.8,3.87,3.88,3.95,3.95,4.01,4.04,4.17,4.23,4.33,4.46,4.58,4.73,5.4],\"textposition\":\"auto\",\"x\":[1.97,2.01,2.03,2.04,2.09,2.14,2.24,2.25,2.26,2.27,2.3,2.31,2.32,2.34,2.36,2.42,2.46,2.55,2.63,2.73,2.92,2.95,3.0,3.06,3.23,3.26,3.27,3.67,3.77,3.8,3.87,3.88,3.95,3.95,4.01,4.04,4.17,4.23,4.33,4.46,4.58,4.73,5.4],\"y\":[\"standardization\",\"connection\",\"incorporating\",\"distinctive\",\"make\",\"bringing\",\"challenging\",\"blending\",\"additional\",\"this\",\"broader\",\"adaptable\",\"while\",\"distinct\",\"character\",\"dialects\",\"readers\",\"expressive\",\"sometimes\",\"local\",\"out\",\"conversational\",\"regional\",\"stand\",\"may\",\"dialect\",\"touch\",\"adds\",\"but\",\"more\",\"can\",\"has\",\"flavor\",\"less\",\"unique\",\"engaging\",\"relatable\",\"casual\",\"personal\",\"informal\",\"creative\",\"relaxed\",\"colloquial\"],\"type\":\"bar\"}],                        {\"template\":{},\"xaxis\":{\"zeroline\":true,\"zerolinewidth\":2,\"zerolinecolor\":\"gray\"},\"title\":{\"text\":\"Qwen2.5-72B-Instruct\"},\"width\":400,\"height\":550,\"barmode\":\"relative\",\"barcornerradius\":5},                        {\"responsive\": true}                    ).then(function(){\n",
       "                            \n",
       "var gd = document.getElementById('62ca5cd6-08e3-4e29-b8f6-7dbf6f5f23f7');\n",
       "var x = new MutationObserver(function (mutations, observer) {{\n",
       "        var display = window.getComputedStyle(gd).display;\n",
       "        if (!display || display === 'none') {{\n",
       "            console.log([gd, 'removed!']);\n",
       "            Plotly.purge(gd);\n",
       "            observer.disconnect();\n",
       "        }}\n",
       "}});\n",
       "\n",
       "// Listen for the removal of the full notebook cells\n",
       "var notebookContainer = gd.closest('#notebook-container');\n",
       "if (notebookContainer) {{\n",
       "    x.observe(notebookContainer, {childList: true});\n",
       "}}\n",
       "\n",
       "// Listen for the clearing of the current output cell\n",
       "var outputEl = gd.closest('.output');\n",
       "if (outputEl) {{\n",
       "    x.observe(outputEl, {childList: true});\n",
       "}}\n",
       "\n",
       "                        })                };                });            </script>        </div>"
      ]
     },
     "metadata": {},
     "output_type": "display_data"
    },
    {
     "data": {
      "application/vnd.plotly.v1+json": {
       "config": {
        "plotlyServerURL": "https://plot.ly"
       },
       "data": [
        {
         "marker": {
          "color": "rgba(173, 216, 230, 0.8)",
          "line": {
           "color": "rgba(0, 0, 139, 0.6)",
           "width": 1.5
          }
         },
         "name": "Standard",
         "orientation": "h",
         "text": [
          5.13,
          4.41,
          4.19,
          3.82,
          3.55,
          3.51,
          3.03,
          2.96,
          2.7,
          2.69,
          2.69,
          2.65,
          2.63,
          2.6,
          2.42,
          2.41,
          2.37,
          2.3,
          2.2,
          2.17,
          2.13,
          2.11,
          2.1,
          2.08,
          2,
          2,
          2,
          2,
          1.97
         ],
         "textposition": "auto",
         "type": "bar",
         "x": [
          -5.13,
          -4.41,
          -4.19,
          -3.82,
          -3.55,
          -3.51,
          -3.03,
          -2.96,
          -2.7,
          -2.69,
          -2.69,
          -2.65,
          -2.63,
          -2.6,
          -2.42,
          -2.41,
          -2.37,
          -2.3,
          -2.2,
          -2.17,
          -2.13,
          -2.11,
          -2.1,
          -2.08,
          -2,
          -2,
          -2,
          -2,
          -1.97
         ],
         "y": [
          "standard",
          "clear",
          "concise",
          "formal",
          "command",
          "easy",
          "wellstructured",
          "level",
          "neutral",
          "professional",
          "polished",
          "conventional",
          "proper",
          "correct",
          "information",
          "standardized",
          "indicating",
          "easier",
          "higher",
          "follow",
          "making",
          "accuracy",
          "precise",
          "wellversed",
          "understand",
          "follows",
          "typical",
          "perfectionists",
          "detailoriented"
         ]
        },
        {
         "marker": {
          "color": "rgba(255, 182, 193, 0.8)",
          "line": {
           "color": "rgba(139, 0, 0, 0.6)",
           "width": 1.5
          }
         },
         "name": "Dialect",
         "orientation": "h",
         "text": [
          1.98,
          2.04,
          2.06,
          2.1,
          2.13,
          2.21,
          2.26,
          2.29,
          2.3,
          2.33,
          2.44,
          2.56,
          2.7,
          2.91,
          2.97,
          3.06,
          3.06,
          3.06,
          3.28,
          3.3,
          3.5,
          3.54,
          3.68,
          4.12,
          4.18,
          4.5,
          5.37,
          5.76,
          5.91,
          6.92
         ],
         "textposition": "auto",
         "type": "bar",
         "x": [
          1.98,
          2.04,
          2.06,
          2.1,
          2.13,
          2.21,
          2.26,
          2.29,
          2.3,
          2.33,
          2.44,
          2.56,
          2.7,
          2.91,
          2.97,
          3.06,
          3.06,
          3.06,
          3.28,
          3.3,
          3.5,
          3.54,
          3.68,
          4.12,
          4.18,
          4.5,
          5.37,
          5.76,
          5.91,
          6.92
         ],
         "y": [
          "appears",
          "noticeable",
          "prone",
          "adds",
          "creative",
          "conveys",
          "grammatical",
          "dialectical",
          "spellings",
          "informality",
          "be",
          "connection",
          "despite",
          "while",
          "benefit",
          "regional",
          "unique",
          "less",
          "nonstandard",
          "expressions",
          "still",
          "dialect",
          "colloquial",
          "instead",
          "may",
          "distinct",
          "relaxed",
          "casual",
          "conversational",
          "informal"
         ]
        }
       ],
       "layout": {
        "barcornerradius": 5,
        "barmode": "relative",
        "height": 550,
        "template": {},
        "title": {
         "text": "Meta-Llama-3.1-8B-Instruct"
        },
        "width": 400,
        "xaxis": {
         "zeroline": true,
         "zerolinecolor": "gray",
         "zerolinewidth": 2
        }
       }
      },
      "text/html": [
       "<div>                            <div id=\"122204bd-3801-4b46-83f2-cf6f5f22d3d3\" class=\"plotly-graph-div\" style=\"height:550px; width:400px;\"></div>            <script type=\"text/javascript\">                require([\"plotly\"], function(Plotly) {                    window.PLOTLYENV=window.PLOTLYENV || {};                                    if (document.getElementById(\"122204bd-3801-4b46-83f2-cf6f5f22d3d3\")) {                    Plotly.newPlot(                        \"122204bd-3801-4b46-83f2-cf6f5f22d3d3\",                        [{\"marker\":{\"color\":\"rgba(173, 216, 230, 0.8)\",\"line\":{\"color\":\"rgba(0, 0, 139, 0.6)\",\"width\":1.5}},\"name\":\"Standard\",\"orientation\":\"h\",\"text\":[5.13,4.41,4.19,3.82,3.55,3.51,3.03,2.96,2.7,2.69,2.69,2.65,2.63,2.6,2.42,2.41,2.37,2.3,2.2,2.17,2.13,2.11,2.1,2.08,2.0,2.0,2.0,2.0,1.97],\"textposition\":\"auto\",\"x\":[-5.13,-4.41,-4.19,-3.82,-3.55,-3.51,-3.03,-2.96,-2.7,-2.69,-2.69,-2.65,-2.63,-2.6,-2.42,-2.41,-2.37,-2.3,-2.2,-2.17,-2.13,-2.11,-2.1,-2.08,-2.0,-2.0,-2.0,-2.0,-1.97],\"y\":[\"standard\",\"clear\",\"concise\",\"formal\",\"command\",\"easy\",\"wellstructured\",\"level\",\"neutral\",\"professional\",\"polished\",\"conventional\",\"proper\",\"correct\",\"information\",\"standardized\",\"indicating\",\"easier\",\"higher\",\"follow\",\"making\",\"accuracy\",\"precise\",\"wellversed\",\"understand\",\"follows\",\"typical\",\"perfectionists\",\"detailoriented\"],\"type\":\"bar\"},{\"marker\":{\"color\":\"rgba(255, 182, 193, 0.8)\",\"line\":{\"color\":\"rgba(139, 0, 0, 0.6)\",\"width\":1.5}},\"name\":\"Dialect\",\"orientation\":\"h\",\"text\":[1.98,2.04,2.06,2.1,2.13,2.21,2.26,2.29,2.3,2.33,2.44,2.56,2.7,2.91,2.97,3.06,3.06,3.06,3.28,3.3,3.5,3.54,3.68,4.12,4.18,4.5,5.37,5.76,5.91,6.92],\"textposition\":\"auto\",\"x\":[1.98,2.04,2.06,2.1,2.13,2.21,2.26,2.29,2.3,2.33,2.44,2.56,2.7,2.91,2.97,3.06,3.06,3.06,3.28,3.3,3.5,3.54,3.68,4.12,4.18,4.5,5.37,5.76,5.91,6.92],\"y\":[\"appears\",\"noticeable\",\"prone\",\"adds\",\"creative\",\"conveys\",\"grammatical\",\"dialectical\",\"spellings\",\"informality\",\"be\",\"connection\",\"despite\",\"while\",\"benefit\",\"regional\",\"unique\",\"less\",\"nonstandard\",\"expressions\",\"still\",\"dialect\",\"colloquial\",\"instead\",\"may\",\"distinct\",\"relaxed\",\"casual\",\"conversational\",\"informal\"],\"type\":\"bar\"}],                        {\"template\":{},\"xaxis\":{\"zeroline\":true,\"zerolinewidth\":2,\"zerolinecolor\":\"gray\"},\"title\":{\"text\":\"Meta-Llama-3.1-8B-Instruct\"},\"width\":400,\"height\":550,\"barmode\":\"relative\",\"barcornerradius\":5},                        {\"responsive\": true}                    ).then(function(){\n",
       "                            \n",
       "var gd = document.getElementById('122204bd-3801-4b46-83f2-cf6f5f22d3d3');\n",
       "var x = new MutationObserver(function (mutations, observer) {{\n",
       "        var display = window.getComputedStyle(gd).display;\n",
       "        if (!display || display === 'none') {{\n",
       "            console.log([gd, 'removed!']);\n",
       "            Plotly.purge(gd);\n",
       "            observer.disconnect();\n",
       "        }}\n",
       "}});\n",
       "\n",
       "// Listen for the removal of the full notebook cells\n",
       "var notebookContainer = gd.closest('#notebook-container');\n",
       "if (notebookContainer) {{\n",
       "    x.observe(notebookContainer, {childList: true});\n",
       "}}\n",
       "\n",
       "// Listen for the clearing of the current output cell\n",
       "var outputEl = gd.closest('.output');\n",
       "if (outputEl) {{\n",
       "    x.observe(outputEl, {childList: true});\n",
       "}}\n",
       "\n",
       "                        })                };                });            </script>        </div>"
      ]
     },
     "metadata": {},
     "output_type": "display_data"
    },
    {
     "data": {
      "application/vnd.plotly.v1+json": {
       "config": {
        "plotlyServerURL": "https://plot.ly"
       },
       "data": [
        {
         "marker": {
          "color": "rgba(173, 216, 230, 0.8)",
          "line": {
           "color": "rgba(0, 0, 139, 0.6)",
           "width": 1.5
          }
         },
         "name": "Standard",
         "orientation": "h",
         "text": [],
         "textposition": "auto",
         "type": "bar",
         "x": [],
         "y": []
        },
        {
         "marker": {
          "color": "rgba(255, 182, 193, 0.8)",
          "line": {
           "color": "rgba(139, 0, 0, 0.6)",
           "width": 1.5
          }
         },
         "name": "Dialect",
         "orientation": "h",
         "text": [],
         "textposition": "auto",
         "type": "bar",
         "x": [],
         "y": []
        }
       ],
       "layout": {
        "barcornerradius": 5,
        "barmode": "relative",
        "height": 550,
        "template": {},
        "title": {
         "text": "Meta-Llama-3.1-70B-Instruct"
        },
        "width": 400,
        "xaxis": {
         "zeroline": true,
         "zerolinecolor": "gray",
         "zerolinewidth": 2
        }
       }
      },
      "text/html": [
       "<div>                            <div id=\"94781618-b30c-4990-8ad6-8e676d9ad361\" class=\"plotly-graph-div\" style=\"height:550px; width:400px;\"></div>            <script type=\"text/javascript\">                require([\"plotly\"], function(Plotly) {                    window.PLOTLYENV=window.PLOTLYENV || {};                                    if (document.getElementById(\"94781618-b30c-4990-8ad6-8e676d9ad361\")) {                    Plotly.newPlot(                        \"94781618-b30c-4990-8ad6-8e676d9ad361\",                        [{\"marker\":{\"color\":\"rgba(173, 216, 230, 0.8)\",\"line\":{\"color\":\"rgba(0, 0, 139, 0.6)\",\"width\":1.5}},\"name\":\"Standard\",\"orientation\":\"h\",\"text\":[],\"textposition\":\"auto\",\"x\":[],\"y\":[],\"type\":\"bar\"},{\"marker\":{\"color\":\"rgba(255, 182, 193, 0.8)\",\"line\":{\"color\":\"rgba(139, 0, 0, 0.6)\",\"width\":1.5}},\"name\":\"Dialect\",\"orientation\":\"h\",\"text\":[],\"textposition\":\"auto\",\"x\":[],\"y\":[],\"type\":\"bar\"}],                        {\"template\":{},\"xaxis\":{\"zeroline\":true,\"zerolinewidth\":2,\"zerolinecolor\":\"gray\"},\"title\":{\"text\":\"Meta-Llama-3.1-70B-Instruct\"},\"width\":400,\"height\":550,\"barmode\":\"relative\",\"barcornerradius\":5},                        {\"responsive\": true}                    ).then(function(){\n",
       "                            \n",
       "var gd = document.getElementById('94781618-b30c-4990-8ad6-8e676d9ad361');\n",
       "var x = new MutationObserver(function (mutations, observer) {{\n",
       "        var display = window.getComputedStyle(gd).display;\n",
       "        if (!display || display === 'none') {{\n",
       "            console.log([gd, 'removed!']);\n",
       "            Plotly.purge(gd);\n",
       "            observer.disconnect();\n",
       "        }}\n",
       "}});\n",
       "\n",
       "// Listen for the removal of the full notebook cells\n",
       "var notebookContainer = gd.closest('#notebook-container');\n",
       "if (notebookContainer) {{\n",
       "    x.observe(notebookContainer, {childList: true});\n",
       "}}\n",
       "\n",
       "// Listen for the clearing of the current output cell\n",
       "var outputEl = gd.closest('.output');\n",
       "if (outputEl) {{\n",
       "    x.observe(outputEl, {childList: true});\n",
       "}}\n",
       "\n",
       "                        })                };                });            </script>        </div>"
      ]
     },
     "metadata": {},
     "output_type": "display_data"
    },
    {
     "data": {
      "application/vnd.plotly.v1+json": {
       "config": {
        "plotlyServerURL": "https://plot.ly"
       },
       "data": [
        {
         "marker": {
          "color": "rgba(173, 216, 230, 0.8)",
          "line": {
           "color": "rgba(0, 0, 139, 0.6)",
           "width": 1.5
          }
         },
         "name": "Standard",
         "orientation": "h",
         "text": [
          4.8,
          4.53,
          4.47,
          3.89,
          3.26,
          3.2,
          3.2,
          3.05,
          2.98,
          2.93,
          2.83,
          2.7,
          2.62,
          2.52,
          2.36,
          2.33,
          2.19,
          2.18,
          2.15,
          2.11,
          2.07,
          2.05,
          2.03,
          2,
          2
         ],
         "textposition": "auto",
         "type": "bar",
         "x": [
          -4.8,
          -4.53,
          -4.47,
          -3.89,
          -3.26,
          -3.2,
          -3.2,
          -3.05,
          -2.98,
          -2.93,
          -2.83,
          -2.7,
          -2.62,
          -2.52,
          -2.36,
          -2.33,
          -2.19,
          -2.18,
          -2.15,
          -2.11,
          -2.07,
          -2.05,
          -2.03,
          -2,
          -2
         ],
         "y": [
          "clear",
          "concise",
          "standard",
          "formal",
          "proper",
          "professional",
          "easy",
          "command",
          "polished",
          "conventional",
          "clarity",
          "making",
          "standardized",
          "wellversed",
          "easily",
          "correct",
          "neutral",
          "accuracy",
          "adhere",
          "precision",
          "indicating",
          "range",
          "precise",
          "understandable",
          "aware"
         ]
        },
        {
         "marker": {
          "color": "rgba(255, 182, 193, 0.8)",
          "line": {
           "color": "rgba(139, 0, 0, 0.6)",
           "width": 1.5
          }
         },
         "name": "Dialect",
         "orientation": "h",
         "text": [
          1.97,
          2.03,
          2.05,
          2.09,
          2.09,
          2.09,
          2.12,
          2.15,
          2.15,
          2.33,
          2.35,
          2.4,
          2.45,
          2.51,
          2.58,
          2.69,
          2.7,
          2.7,
          2.76,
          2.77,
          3.02,
          3.03,
          3.12,
          3.12,
          3.13,
          3.6,
          3.62,
          3.95,
          4.21,
          4.94,
          5.04,
          5.57,
          5.72,
          6.57
         ],
         "textposition": "auto",
         "type": "bar",
         "x": [
          1.97,
          2.03,
          2.05,
          2.09,
          2.09,
          2.09,
          2.12,
          2.15,
          2.15,
          2.33,
          2.35,
          2.4,
          2.45,
          2.51,
          2.58,
          2.69,
          2.7,
          2.7,
          2.76,
          2.77,
          3.02,
          3.03,
          3.12,
          3.12,
          3.13,
          3.6,
          3.62,
          3.95,
          4.21,
          4.94,
          5.04,
          5.57,
          5.72,
          6.57
         ],
         "y": [
          "strict",
          "conveys",
          "effort",
          "dialectical",
          "nonnative",
          "while",
          "noticeable",
          "distinctive",
          "somewhat",
          "connection",
          "this",
          "instead",
          "creative",
          "still",
          "more",
          "less",
          "be",
          "grammatical",
          "benefit",
          "regional",
          "spellings",
          "unique",
          "despite",
          "expressions",
          "expressive",
          "nonstandard",
          "dialect",
          "colloquial",
          "may",
          "distinct",
          "relaxed",
          "casual",
          "conversational",
          "informal"
         ]
        }
       ],
       "layout": {
        "barcornerradius": 5,
        "barmode": "relative",
        "height": 550,
        "template": {},
        "title": {
         "text": "Llama-3.1-8B-Instruct"
        },
        "width": 400,
        "xaxis": {
         "zeroline": true,
         "zerolinecolor": "gray",
         "zerolinewidth": 2
        }
       }
      },
      "text/html": [
       "<div>                            <div id=\"e8b55067-155d-4012-8963-aeace1942fba\" class=\"plotly-graph-div\" style=\"height:550px; width:400px;\"></div>            <script type=\"text/javascript\">                require([\"plotly\"], function(Plotly) {                    window.PLOTLYENV=window.PLOTLYENV || {};                                    if (document.getElementById(\"e8b55067-155d-4012-8963-aeace1942fba\")) {                    Plotly.newPlot(                        \"e8b55067-155d-4012-8963-aeace1942fba\",                        [{\"marker\":{\"color\":\"rgba(173, 216, 230, 0.8)\",\"line\":{\"color\":\"rgba(0, 0, 139, 0.6)\",\"width\":1.5}},\"name\":\"Standard\",\"orientation\":\"h\",\"text\":[4.8,4.53,4.47,3.89,3.26,3.2,3.2,3.05,2.98,2.93,2.83,2.7,2.62,2.52,2.36,2.33,2.19,2.18,2.15,2.11,2.07,2.05,2.03,2.0,2.0],\"textposition\":\"auto\",\"x\":[-4.8,-4.53,-4.47,-3.89,-3.26,-3.2,-3.2,-3.05,-2.98,-2.93,-2.83,-2.7,-2.62,-2.52,-2.36,-2.33,-2.19,-2.18,-2.15,-2.11,-2.07,-2.05,-2.03,-2.0,-2.0],\"y\":[\"clear\",\"concise\",\"standard\",\"formal\",\"proper\",\"professional\",\"easy\",\"command\",\"polished\",\"conventional\",\"clarity\",\"making\",\"standardized\",\"wellversed\",\"easily\",\"correct\",\"neutral\",\"accuracy\",\"adhere\",\"precision\",\"indicating\",\"range\",\"precise\",\"understandable\",\"aware\"],\"type\":\"bar\"},{\"marker\":{\"color\":\"rgba(255, 182, 193, 0.8)\",\"line\":{\"color\":\"rgba(139, 0, 0, 0.6)\",\"width\":1.5}},\"name\":\"Dialect\",\"orientation\":\"h\",\"text\":[1.97,2.03,2.05,2.09,2.09,2.09,2.12,2.15,2.15,2.33,2.35,2.4,2.45,2.51,2.58,2.69,2.7,2.7,2.76,2.77,3.02,3.03,3.12,3.12,3.13,3.6,3.62,3.95,4.21,4.94,5.04,5.57,5.72,6.57],\"textposition\":\"auto\",\"x\":[1.97,2.03,2.05,2.09,2.09,2.09,2.12,2.15,2.15,2.33,2.35,2.4,2.45,2.51,2.58,2.69,2.7,2.7,2.76,2.77,3.02,3.03,3.12,3.12,3.13,3.6,3.62,3.95,4.21,4.94,5.04,5.57,5.72,6.57],\"y\":[\"strict\",\"conveys\",\"effort\",\"dialectical\",\"nonnative\",\"while\",\"noticeable\",\"distinctive\",\"somewhat\",\"connection\",\"this\",\"instead\",\"creative\",\"still\",\"more\",\"less\",\"be\",\"grammatical\",\"benefit\",\"regional\",\"spellings\",\"unique\",\"despite\",\"expressions\",\"expressive\",\"nonstandard\",\"dialect\",\"colloquial\",\"may\",\"distinct\",\"relaxed\",\"casual\",\"conversational\",\"informal\"],\"type\":\"bar\"}],                        {\"template\":{},\"xaxis\":{\"zeroline\":true,\"zerolinewidth\":2,\"zerolinecolor\":\"gray\"},\"title\":{\"text\":\"Llama-3.1-8B-Instruct\"},\"width\":400,\"height\":550,\"barmode\":\"relative\",\"barcornerradius\":5},                        {\"responsive\": true}                    ).then(function(){\n",
       "                            \n",
       "var gd = document.getElementById('e8b55067-155d-4012-8963-aeace1942fba');\n",
       "var x = new MutationObserver(function (mutations, observer) {{\n",
       "        var display = window.getComputedStyle(gd).display;\n",
       "        if (!display || display === 'none') {{\n",
       "            console.log([gd, 'removed!']);\n",
       "            Plotly.purge(gd);\n",
       "            observer.disconnect();\n",
       "        }}\n",
       "}});\n",
       "\n",
       "// Listen for the removal of the full notebook cells\n",
       "var notebookContainer = gd.closest('#notebook-container');\n",
       "if (notebookContainer) {{\n",
       "    x.observe(notebookContainer, {childList: true});\n",
       "}}\n",
       "\n",
       "// Listen for the clearing of the current output cell\n",
       "var outputEl = gd.closest('.output');\n",
       "if (outputEl) {{\n",
       "    x.observe(outputEl, {childList: true});\n",
       "}}\n",
       "\n",
       "                        })                };                });            </script>        </div>"
      ]
     },
     "metadata": {},
     "output_type": "display_data"
    }
   ],
   "source": [
    "for model in df['Model'].unique():\n",
    "    for task in ['calm-1']:\n",
    "        subset = df[(df['Model'] == model) & (df['Task'] == task)]\n",
    "        #subset = subset[subset['Count'] > 1]\n",
    "\n",
    "        # Create traces\n",
    "        fig = go.Figure()\n",
    "\n",
    "        # Group 1 → bars to the right\n",
    "        group1 = subset[subset[\"Target Group\"] == 'standard']\n",
    "        group1 = group1.sort_values(by='Value', ascending=False)\n",
    "        fig.add_trace(go.Bar(\n",
    "            y=group1[\"Word\"],\n",
    "            x=-group1[\"Value\"],\n",
    "            name=\"Standard\",\n",
    "            orientation='h',\n",
    "            marker=dict(\n",
    "                color='rgba(173, 216, 230, 0.8)',  # pastel blue with opacity\n",
    "                line=dict(color='rgba(0, 0, 139, 0.6)', width=1.5),\n",
    "            ),\n",
    "            text=group1[\"Value\"],\n",
    "            textposition='auto'\n",
    "        ))\n",
    "\n",
    "        # Group 2 → bars to the left (negated values)\n",
    "        group2 = subset[subset[\"Target Group\"] == 'dialect']\n",
    "        group2 = group2.sort_values(by='Value')\n",
    "        fig.add_trace(go.Bar(\n",
    "            y=group2[\"Word\"],\n",
    "            x=group2[\"Value\"],  # Negative for left direction\n",
    "            name=\"Dialect\",\n",
    "            orientation='h',\n",
    "            marker=dict(\n",
    "                color='rgba(255, 182, 193, 0.8)',  # pastel red with opacity\n",
    "                line=dict(color='rgba(139, 0, 0, 0.6)', width=1.5),\n",
    "            ),\n",
    "            text=group2[\"Value\"],  # Still show positive value\n",
    "            textposition='auto'\n",
    "        ))\n",
    "\n",
    "        # Layout tweaks\n",
    "        fig.update_layout(\n",
    "            title=model,\n",
    "            width=400,\n",
    "            height=550,\n",
    "            barmode='relative',\n",
    "            barcornerradius=5,\n",
    "            xaxis=dict(\n",
    "                zeroline=True,\n",
    "                zerolinewidth=2,\n",
    "                zerolinecolor='gray'\n",
    "            )\n",
    "        )\n",
    "\n",
    "        fig.show()"
   ]
  },
  {
   "cell_type": "code",
   "execution_count": null,
   "id": "af7f692a",
   "metadata": {},
   "outputs": [],
   "source": []
  }
 ],
 "metadata": {
  "kernelspec": {
   "display_name": "cultural",
   "language": "python",
   "name": "python3"
  },
  "language_info": {
   "codemirror_mode": {
    "name": "ipython",
    "version": 3
   },
   "file_extension": ".py",
   "mimetype": "text/x-python",
   "name": "python",
   "nbconvert_exporter": "python",
   "pygments_lexer": "ipython3",
   "version": "3.10.15"
  }
 },
 "nbformat": 4,
 "nbformat_minor": 5
}
