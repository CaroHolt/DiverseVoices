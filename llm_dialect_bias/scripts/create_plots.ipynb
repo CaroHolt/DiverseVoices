{
 "cells": [
  {
   "cell_type": "code",
   "execution_count": 1,
   "id": "7471dcce",
   "metadata": {},
   "outputs": [],
   "source": [
    "import pandas as pd\n",
    "import plotly.graph_objects as go\n",
    "import plotly.io as pio\n",
    "from scipy import stats\n",
    "import numpy as np\n",
    "import glob\n",
    "\n",
    "\n",
    "diamond_template = go.layout.Template()\n",
    "pio.templates.default = diamond_template\n"
   ]
  },
  {
   "cell_type": "code",
   "execution_count": 14,
   "id": "8be9bea3",
   "metadata": {},
   "outputs": [
    {
     "name": "stdout",
     "output_type": "stream",
     "text": [
      "Aya 8B\n"
     ]
    },
    {
     "data": {
      "application/vnd.plotly.v1+json": {
       "config": {
        "plotlyServerURL": "https://plot.ly"
       },
       "data": [
        {
         "error_y": {
          "array": [
           0.07505161155829546
          ],
          "type": "data",
          "visible": true
         },
         "marker": {
          "color": "#4A68D9"
         },
         "showlegend": false,
         "type": "scatter",
         "x": [
          "Temper"
         ],
         "y": [
          0.2396048109965636
         ]
        },
        {
         "error_y": {
          "array": [
           0.06445797121309818
          ],
          "type": "data",
          "visible": true
         },
         "marker": {
          "color": "#60B177"
         },
         "showlegend": false,
         "type": "scatter",
         "x": [
          "Careless"
         ],
         "y": [
          0.5451142737796874
         ]
        },
        {
         "error_y": {
          "array": [
           0.07152293347478597
          ],
          "type": "data",
          "visible": true
         },
         "marker": {
          "color": "#F09235"
         },
         "showlegend": false,
         "type": "scatter",
         "x": [
          "Uneducated"
         ],
         "y": [
          0.5799854227405249
         ]
        },
        {
         "error_y": {
          "array": [
           0.08755459299141016
          ],
          "type": "data",
          "visible": true
         },
         "marker": {
          "color": "#F9D949"
         },
         "showlegend": false,
         "type": "scatter",
         "x": [
          "Unfriendly"
         ],
         "y": [
          -0.06980506822612084
         ]
        },
        {
         "error_y": {
          "array": [
           0.0661794400204648
          ],
          "type": "data",
          "visible": true
         },
         "marker": {
          "color": "#377E7F"
         },
         "showlegend": false,
         "type": "scatter",
         "x": [
          "Closed-Minded"
         ],
         "y": [
          0.3330595652895305
         ]
        },
        {
         "error_y": {
          "array": [
           0.054480544961033404
          ],
          "type": "data",
          "visible": true
         },
         "marker": {
          "color": "#BFB5D7"
         },
         "showlegend": false,
         "type": "scatter",
         "x": [
          "Rural"
         ],
         "y": [
          0.4375744969611141
         ]
        }
       ],
       "layout": {
        "bargap": 0.3,
        "font": {
         "color": "black",
         "size": 14
        },
        "height": 350,
        "margin": {
         "b": 50,
         "l": 50,
         "r": 30,
         "t": 70
        },
        "shapes": [
         {
          "line": {
           "color": "red",
           "dash": "dash",
           "width": 2
          },
          "type": "line",
          "x0": "Temper",
          "x1": "Rural",
          "y0": 0,
          "y1": 0
         }
        ],
        "template": {},
        "title": {
         "text": "Aya 8B"
        },
        "width": 600,
        "xaxis": {
         "tickmode": "array",
         "ticktext": [
          "<span style='color:#4A68D9'>Temper</span>",
          "<span style='color:#60B177'>Careless</span>",
          "<span style='color:#F09235'>Uneducated</span>",
          "<span style='color:#F9D949'>Unfriendly</span>",
          "<span style='color:#377E7F'>Closed-Minded</span>",
          "<span style='color:#BFB5D7'>Rural</span>"
         ],
         "tickvals": [
          "Temper",
          "Careless",
          "Uneducated",
          "Unfriendly",
          "Closed-Minded",
          "Rural"
         ]
        },
        "yaxis": {
         "gridcolor": "lightgray",
         "range": [
          -1.15,
          1.15
         ],
         "showgrid": true,
         "zeroline": false
        }
       }
      },
      "text/html": [
       "<div>                            <div id=\"6fd07315-2c35-4ee6-92d2-5bd6f14b52ea\" class=\"plotly-graph-div\" style=\"height:350px; width:600px;\"></div>            <script type=\"text/javascript\">                require([\"plotly\"], function(Plotly) {                    window.PLOTLYENV=window.PLOTLYENV || {};                                    if (document.getElementById(\"6fd07315-2c35-4ee6-92d2-5bd6f14b52ea\")) {                    Plotly.newPlot(                        \"6fd07315-2c35-4ee6-92d2-5bd6f14b52ea\",                        [{\"error_y\":{\"array\":[0.07505161155829546],\"type\":\"data\",\"visible\":true},\"marker\":{\"color\":\"#4A68D9\"},\"showlegend\":false,\"x\":[\"Temper\"],\"y\":[0.2396048109965636],\"type\":\"scatter\"},{\"error_y\":{\"array\":[0.06445797121309818],\"type\":\"data\",\"visible\":true},\"marker\":{\"color\":\"#60B177\"},\"showlegend\":false,\"x\":[\"Careless\"],\"y\":[0.5451142737796874],\"type\":\"scatter\"},{\"error_y\":{\"array\":[0.07152293347478597],\"type\":\"data\",\"visible\":true},\"marker\":{\"color\":\"#F09235\"},\"showlegend\":false,\"x\":[\"Uneducated\"],\"y\":[0.5799854227405249],\"type\":\"scatter\"},{\"error_y\":{\"array\":[0.08755459299141016],\"type\":\"data\",\"visible\":true},\"marker\":{\"color\":\"#F9D949\"},\"showlegend\":false,\"x\":[\"Unfriendly\"],\"y\":[-0.06980506822612084],\"type\":\"scatter\"},{\"error_y\":{\"array\":[0.0661794400204648],\"type\":\"data\",\"visible\":true},\"marker\":{\"color\":\"#377E7F\"},\"showlegend\":false,\"x\":[\"Closed-Minded\"],\"y\":[0.3330595652895305],\"type\":\"scatter\"},{\"error_y\":{\"array\":[0.054480544961033404],\"type\":\"data\",\"visible\":true},\"marker\":{\"color\":\"#BFB5D7\"},\"showlegend\":false,\"x\":[\"Rural\"],\"y\":[0.4375744969611141],\"type\":\"scatter\"}],                        {\"template\":{},\"shapes\":[{\"line\":{\"color\":\"red\",\"dash\":\"dash\",\"width\":2},\"type\":\"line\",\"x0\":\"Temper\",\"x1\":\"Rural\",\"y0\":0,\"y1\":0}],\"font\":{\"size\":14,\"color\":\"black\"},\"margin\":{\"l\":50,\"r\":30,\"t\":70,\"b\":50},\"xaxis\":{\"tickmode\":\"array\",\"tickvals\":[\"Temper\",\"Careless\",\"Uneducated\",\"Unfriendly\",\"Closed-Minded\",\"Rural\"],\"ticktext\":[\"\\u003cspan style='color:#4A68D9'\\u003eTemper\\u003c\\u002fspan\\u003e\",\"\\u003cspan style='color:#60B177'\\u003eCareless\\u003c\\u002fspan\\u003e\",\"\\u003cspan style='color:#F09235'\\u003eUneducated\\u003c\\u002fspan\\u003e\",\"\\u003cspan style='color:#F9D949'\\u003eUnfriendly\\u003c\\u002fspan\\u003e\",\"\\u003cspan style='color:#377E7F'\\u003eClosed-Minded\\u003c\\u002fspan\\u003e\",\"\\u003cspan style='color:#BFB5D7'\\u003eRural\\u003c\\u002fspan\\u003e\"]},\"yaxis\":{\"range\":[-1.15,1.15],\"showgrid\":true,\"gridcolor\":\"lightgray\",\"zeroline\":false},\"title\":{\"text\":\"Aya 8B\"},\"width\":600,\"height\":350,\"bargap\":0.3},                        {\"responsive\": true}                    ).then(function(){\n",
       "                            \n",
       "var gd = document.getElementById('6fd07315-2c35-4ee6-92d2-5bd6f14b52ea');\n",
       "var x = new MutationObserver(function (mutations, observer) {{\n",
       "        var display = window.getComputedStyle(gd).display;\n",
       "        if (!display || display === 'none') {{\n",
       "            console.log([gd, 'removed!']);\n",
       "            Plotly.purge(gd);\n",
       "            observer.disconnect();\n",
       "        }}\n",
       "}});\n",
       "\n",
       "// Listen for the removal of the full notebook cells\n",
       "var notebookContainer = gd.closest('#notebook-container');\n",
       "if (notebookContainer) {{\n",
       "    x.observe(notebookContainer, {childList: true});\n",
       "}}\n",
       "\n",
       "// Listen for the clearing of the current output cell\n",
       "var outputEl = gd.closest('.output');\n",
       "if (outputEl) {{\n",
       "    x.observe(outputEl, {childList: true});\n",
       "}}\n",
       "\n",
       "                        })                };                });            </script>        </div>"
      ]
     },
     "metadata": {},
     "output_type": "display_data"
    }
   ],
   "source": [
    "dimension_dict = {'educated': 'Uneducated',\n",
    "                  'urban': 'Rural',\n",
    "                  'calm': 'Temper',\n",
    "                  'friendly': 'Unfriendly',\n",
    "                  'open_to_experience': 'Closed-Minded',\n",
    "                  'conscientiousness': 'Careless'\n",
    "                  }\n",
    "\n",
    "df = pd.read_csv('../output/implicit/eval/final.csv')\n",
    "df = df[df['nones'] == 0]\n",
    "\n",
    "\n",
    "group_stats = df.groupby(['model_name', 'dimension'])['bias'].agg(['mean', 'std', 'count']).reset_index()\n",
    "\n",
    "group_stats['se'] = group_stats['std'] / np.sqrt(group_stats['count'])\n",
    "group_stats['t_score'] = group_stats['count'].apply(lambda n: stats.t.ppf(0.95, df=n-1) if n > 1 else 0)\n",
    "group_stats['margin_of_error'] = group_stats['t_score'] * group_stats['se']\n",
    "group_stats['lower'] = group_stats['mean'] - group_stats['margin_of_error']\n",
    "group_stats['upper'] = group_stats['mean'] + group_stats['margin_of_error']\n",
    "\n",
    "\n",
    "\n",
    "for model in group_stats.model_name.unique():\n",
    "    colors = ['#4A68D9', '#60B177', '#F09235', '#F9D949', '#377E7F', '#BFB5D7']\n",
    "\n",
    "    fig = go.Figure()\n",
    "    print(model)\n",
    "\n",
    "    subset = group_stats[group_stats['model_name'] == model]\n",
    "    k = 0\n",
    "    for i, row in subset.iterrows():\n",
    "        fig.add_trace(go.Scatter(\n",
    "            x=[dimension_dict[row['dimension']]],\n",
    "            y=[row['mean']],\n",
    "            error_y=dict(type='data', array=[row['margin_of_error']], visible=True),\n",
    "            marker_color=colors[k],\n",
    "            showlegend=False  # Hide legend if you don't want duplicates\n",
    "        ))\n",
    "        k+=1\n",
    "\n",
    "    # Create color-coded tick labels\n",
    "    dimensions = subset['dimension'].unique()\n",
    "    dimensions = [dimension_dict[x] for x in dimensions]\n",
    "    colored_labels = [f\"<span style='color:{colors[i]}'>{dimensions[i]}</span>\" for i in range(len(dimensions))]\n",
    "\n",
    "    fig.add_shape(\n",
    "        type=\"line\",\n",
    "        y0=0,\n",
    "        x0=dimensions[0],\n",
    "        x1=dimensions[-1],\n",
    "        y1=0,\n",
    "        line=dict(color=\"red\", width=2, dash=\"dash\")\n",
    "    )\n",
    "\n",
    "    # Update layout\n",
    "    fig.update_layout(\n",
    "        title=model,\n",
    "        width=600,\n",
    "        height=350,\n",
    "        font=dict(size=14, color='black'),\n",
    "        margin=dict(\n",
    "        l=50,   # left\n",
    "        r=30,   # right\n",
    "        t=70,   # top\n",
    "        b=50    # bottom\n",
    "    ),\n",
    "        xaxis=dict(\n",
    "            tickmode='array',\n",
    "            tickvals=dimensions,\n",
    "            ticktext=colored_labels\n",
    "        ),\n",
    "        yaxis=dict(\n",
    "        range=[-1.15, 1.15],\n",
    "        showgrid=True,  # Enable grid\n",
    "        gridcolor='lightgray',  # Subtle grid lines\n",
    "        zeroline=False,  # Show axis zero line\n",
    "        #zerolinecolor='black'\n",
    "    ),\n",
    "        bargap=0.3,\n",
    "    )\n",
    "    fig.show()\n",
    "    fig.write_image(f\"../img/implicit_{model}.pdf\")\n",
    "\n"
   ]
  },
  {
   "cell_type": "code",
   "execution_count": 16,
   "id": "b4e1df77",
   "metadata": {},
   "outputs": [
    {
     "name": "stdout",
     "output_type": "stream",
     "text": [
      "Aya 32b\n"
     ]
    },
    {
     "data": {
      "application/vnd.plotly.v1+json": {
       "config": {
        "plotlyServerURL": "https://plot.ly"
       },
       "data": [
        {
         "error_y": {
          "array": [
           0.0488777141096762
          ],
          "type": "data",
          "visible": true
         },
         "marker": {
          "color": "#4A68D9"
         },
         "showlegend": false,
         "type": "scatter",
         "x": [
          "Temper"
         ],
         "y": [
          0.5143134804942385
         ]
        },
        {
         "error_y": {
          "array": [
           0.03162526844317135
          ],
          "type": "data",
          "visible": true
         },
         "marker": {
          "color": "#60B177"
         },
         "showlegend": false,
         "type": "scatter",
         "x": [
          "Careless"
         ],
         "y": [
          0.8295141406816533
         ]
        },
        {
         "error_y": {
          "array": [
           0.02585104931351196
          ],
          "type": "data",
          "visible": true
         },
         "marker": {
          "color": "#F09235"
         },
         "showlegend": false,
         "type": "scatter",
         "x": [
          "Uneducated"
         ],
         "y": [
          0.8648680524841516
         ]
        },
        {
         "error_y": {
          "array": [
           0.06462241477087169
          ],
          "type": "data",
          "visible": true
         },
         "marker": {
          "color": "#F9D949"
         },
         "showlegend": false,
         "type": "scatter",
         "x": [
          "Unfriendly"
         ],
         "y": [
          0.07651204159824851
         ]
        },
        {
         "error_y": {
          "array": [
           0.04910224258982862
          ],
          "type": "data",
          "visible": true
         },
         "marker": {
          "color": "#377E7F"
         },
         "showlegend": false,
         "type": "scatter",
         "x": [
          "Closed-Minded"
         ],
         "y": [
          0.4727861918406331
         ]
        },
        {
         "error_y": {
          "array": [
           0.014421129511325504
          ],
          "type": "data",
          "visible": true
         },
         "marker": {
          "color": "#BFB5D7"
         },
         "showlegend": false,
         "type": "scatter",
         "x": [
          "Rural"
         ],
         "y": [
          0.8886505622657227
         ]
        }
       ],
       "layout": {
        "bargap": 0.3,
        "font": {
         "color": "black",
         "size": 14
        },
        "height": 350,
        "margin": {
         "b": 50,
         "l": 50,
         "r": 30,
         "t": 70
        },
        "shapes": [
         {
          "line": {
           "color": "red",
           "dash": "dash",
           "width": 2
          },
          "type": "line",
          "x0": "Temper",
          "x1": "Rural",
          "y0": 0,
          "y1": 0
         }
        ],
        "template": {},
        "title": {
         "text": "Aya 32b"
        },
        "width": 600,
        "xaxis": {
         "tickmode": "array",
         "ticktext": [
          "<span style='color:#4A68D9'>Temper</span>",
          "<span style='color:#60B177'>Careless</span>",
          "<span style='color:#F09235'>Uneducated</span>",
          "<span style='color:#F9D949'>Unfriendly</span>",
          "<span style='color:#377E7F'>Closed-Minded</span>",
          "<span style='color:#BFB5D7'>Rural</span>"
         ],
         "tickvals": [
          "Temper",
          "Careless",
          "Uneducated",
          "Unfriendly",
          "Closed-Minded",
          "Rural"
         ]
        },
        "yaxis": {
         "gridcolor": "lightgray",
         "range": [
          -1.15,
          1.15
         ],
         "showgrid": true,
         "zeroline": false
        }
       }
      },
      "text/html": [
       "<div>                            <div id=\"8e74ee94-e366-4ce9-a3d9-e17485d83da6\" class=\"plotly-graph-div\" style=\"height:350px; width:600px;\"></div>            <script type=\"text/javascript\">                require([\"plotly\"], function(Plotly) {                    window.PLOTLYENV=window.PLOTLYENV || {};                                    if (document.getElementById(\"8e74ee94-e366-4ce9-a3d9-e17485d83da6\")) {                    Plotly.newPlot(                        \"8e74ee94-e366-4ce9-a3d9-e17485d83da6\",                        [{\"error_y\":{\"array\":[0.0488777141096762],\"type\":\"data\",\"visible\":true},\"marker\":{\"color\":\"#4A68D9\"},\"showlegend\":false,\"x\":[\"Temper\"],\"y\":[0.5143134804942385],\"type\":\"scatter\"},{\"error_y\":{\"array\":[0.03162526844317135],\"type\":\"data\",\"visible\":true},\"marker\":{\"color\":\"#60B177\"},\"showlegend\":false,\"x\":[\"Careless\"],\"y\":[0.8295141406816533],\"type\":\"scatter\"},{\"error_y\":{\"array\":[0.02585104931351196],\"type\":\"data\",\"visible\":true},\"marker\":{\"color\":\"#F09235\"},\"showlegend\":false,\"x\":[\"Uneducated\"],\"y\":[0.8648680524841516],\"type\":\"scatter\"},{\"error_y\":{\"array\":[0.06462241477087169],\"type\":\"data\",\"visible\":true},\"marker\":{\"color\":\"#F9D949\"},\"showlegend\":false,\"x\":[\"Unfriendly\"],\"y\":[0.07651204159824851],\"type\":\"scatter\"},{\"error_y\":{\"array\":[0.04910224258982862],\"type\":\"data\",\"visible\":true},\"marker\":{\"color\":\"#377E7F\"},\"showlegend\":false,\"x\":[\"Closed-Minded\"],\"y\":[0.4727861918406331],\"type\":\"scatter\"},{\"error_y\":{\"array\":[0.014421129511325504],\"type\":\"data\",\"visible\":true},\"marker\":{\"color\":\"#BFB5D7\"},\"showlegend\":false,\"x\":[\"Rural\"],\"y\":[0.8886505622657227],\"type\":\"scatter\"}],                        {\"template\":{},\"shapes\":[{\"line\":{\"color\":\"red\",\"dash\":\"dash\",\"width\":2},\"type\":\"line\",\"x0\":\"Temper\",\"x1\":\"Rural\",\"y0\":0,\"y1\":0}],\"font\":{\"size\":14,\"color\":\"black\"},\"margin\":{\"l\":50,\"r\":30,\"t\":70,\"b\":50},\"xaxis\":{\"tickmode\":\"array\",\"tickvals\":[\"Temper\",\"Careless\",\"Uneducated\",\"Unfriendly\",\"Closed-Minded\",\"Rural\"],\"ticktext\":[\"\\u003cspan style='color:#4A68D9'\\u003eTemper\\u003c\\u002fspan\\u003e\",\"\\u003cspan style='color:#60B177'\\u003eCareless\\u003c\\u002fspan\\u003e\",\"\\u003cspan style='color:#F09235'\\u003eUneducated\\u003c\\u002fspan\\u003e\",\"\\u003cspan style='color:#F9D949'\\u003eUnfriendly\\u003c\\u002fspan\\u003e\",\"\\u003cspan style='color:#377E7F'\\u003eClosed-Minded\\u003c\\u002fspan\\u003e\",\"\\u003cspan style='color:#BFB5D7'\\u003eRural\\u003c\\u002fspan\\u003e\"]},\"yaxis\":{\"range\":[-1.15,1.15],\"showgrid\":true,\"gridcolor\":\"lightgray\",\"zeroline\":false},\"title\":{\"text\":\"Aya 32b\"},\"width\":600,\"height\":350,\"bargap\":0.3},                        {\"responsive\": true}                    ).then(function(){\n",
       "                            \n",
       "var gd = document.getElementById('8e74ee94-e366-4ce9-a3d9-e17485d83da6');\n",
       "var x = new MutationObserver(function (mutations, observer) {{\n",
       "        var display = window.getComputedStyle(gd).display;\n",
       "        if (!display || display === 'none') {{\n",
       "            console.log([gd, 'removed!']);\n",
       "            Plotly.purge(gd);\n",
       "            observer.disconnect();\n",
       "        }}\n",
       "}});\n",
       "\n",
       "// Listen for the removal of the full notebook cells\n",
       "var notebookContainer = gd.closest('#notebook-container');\n",
       "if (notebookContainer) {{\n",
       "    x.observe(notebookContainer, {childList: true});\n",
       "}}\n",
       "\n",
       "// Listen for the clearing of the current output cell\n",
       "var outputEl = gd.closest('.output');\n",
       "if (outputEl) {{\n",
       "    x.observe(outputEl, {childList: true});\n",
       "}}\n",
       "\n",
       "                        })                };                });            </script>        </div>"
      ]
     },
     "metadata": {},
     "output_type": "display_data"
    }
   ],
   "source": [
    "dimension_dict = {'educated': 'Uneducated',\n",
    "                  'urban': 'Rural',\n",
    "                  'calm': 'Temper',\n",
    "                  'friendly': 'Unfriendly',\n",
    "                  'open_to_experience': 'Closed-Minded',\n",
    "                  'conscientiousness': 'Careless'\n",
    "                  }\n",
    "\n",
    "df = pd.read_csv('../output/implicit_explicit/eval/final.csv')\n",
    "df = df[df['nones'] == 0]\n",
    "\n",
    "\n",
    "group_stats = df.groupby(['model_name', 'dimension'])['bias'].agg(['mean', 'std', 'count']).reset_index()\n",
    "\n",
    "group_stats['se'] = group_stats['std'] / np.sqrt(group_stats['count'])\n",
    "group_stats['t_score'] = group_stats['count'].apply(lambda n: stats.t.ppf(0.95, df=n-1) if n > 1 else 0)\n",
    "group_stats['margin_of_error'] = group_stats['t_score'] * group_stats['se']\n",
    "group_stats['lower'] = group_stats['mean'] - group_stats['margin_of_error']\n",
    "group_stats['upper'] = group_stats['mean'] + group_stats['margin_of_error']\n",
    "\n",
    "\n",
    "\n",
    "for model in group_stats.model_name.unique():\n",
    "    colors = ['#4A68D9', '#60B177', '#F09235', '#F9D949', '#377E7F', '#BFB5D7']\n",
    "\n",
    "    fig = go.Figure()\n",
    "    print(model)\n",
    "\n",
    "    subset = group_stats[group_stats['model_name'] == model]\n",
    "    k = 0\n",
    "    for i, row in subset.iterrows():\n",
    "        fig.add_trace(go.Scatter(\n",
    "            x=[dimension_dict[row['dimension']]],\n",
    "            y=[row['mean']],\n",
    "            error_y=dict(type='data', array=[row['margin_of_error']], visible=True),\n",
    "            marker_color=colors[k],\n",
    "            showlegend=False  # Hide legend if you don't want duplicates\n",
    "        ))\n",
    "        k+=1\n",
    "\n",
    "    # Create color-coded tick labels\n",
    "    dimensions = subset['dimension'].unique()\n",
    "    dimensions = [dimension_dict[x] for x in dimensions]\n",
    "    colored_labels = [f\"<span style='color:{colors[i]}'>{dimensions[i]}</span>\" for i in range(len(dimensions))]\n",
    "\n",
    "    fig.add_shape(\n",
    "        type=\"line\",\n",
    "        y0=0,\n",
    "        x0=dimensions[0],\n",
    "        x1=dimensions[-1],\n",
    "        y1=0,\n",
    "        line=dict(color=\"red\", width=2, dash=\"dash\")\n",
    "    )\n",
    "\n",
    "    # Update layout\n",
    "    fig.update_layout(\n",
    "        title=model,\n",
    "        width=600,\n",
    "        height=350,\n",
    "        font=dict(size=14, color='black'),\n",
    "        margin=dict(\n",
    "        l=50,   # left\n",
    "        r=30,   # right\n",
    "        t=70,   # top\n",
    "        b=50    # bottom\n",
    "    ),\n",
    "        xaxis=dict(\n",
    "            tickmode='array',\n",
    "            tickvals=dimensions,\n",
    "            ticktext=colored_labels\n",
    "        ),\n",
    "        yaxis=dict(\n",
    "        range=[-1.15, 1.15],\n",
    "        showgrid=True,  # Enable grid\n",
    "        gridcolor='lightgray',  # Subtle grid lines\n",
    "        zeroline=False,  # Show axis zero line\n",
    "        #zerolinecolor='black'\n",
    "    ),\n",
    "        bargap=0.3,\n",
    "    )\n",
    "    fig.show()\n",
    "    fig.write_image(f\"../img/explicit_{model}.pdf\")\n"
   ]
  },
  {
   "cell_type": "code",
   "execution_count": 12,
   "id": "6f514d21",
   "metadata": {},
   "outputs": [
    {
     "name": "stdout",
     "output_type": "stream",
     "text": [
      "Llama-3.1-8B\n"
     ]
    },
    {
     "data": {
      "application/vnd.plotly.v1+json": {
       "config": {
        "plotlyServerURL": "https://plot.ly"
       },
       "data": [
        {
         "error_y": {
          "array": [
           0.04259677344533456
          ],
          "type": "data",
          "visible": true
         },
         "marker": {
          "color": "#4A68D9"
         },
         "showlegend": false,
         "type": "scatter",
         "x": [
          "Temper"
         ],
         "y": [
          0.34697004608294935
         ]
        },
        {
         "error_y": {
          "array": [
           0.044495724443092785
          ],
          "type": "data",
          "visible": true
         },
         "marker": {
          "color": "#60B177"
         },
         "showlegend": false,
         "type": "scatter",
         "x": [
          "Careless"
         ],
         "y": [
          0.4296942188246536
         ]
        },
        {
         "error_y": {
          "array": [
           0.04180107290712917
          ],
          "type": "data",
          "visible": true
         },
         "marker": {
          "color": "#F09235"
         },
         "showlegend": false,
         "type": "scatter",
         "x": [
          "Uneducated"
         ],
         "y": [
          0.4179189004520131
         ]
        },
        {
         "error_y": {
          "array": [
           0.04119543694724405
          ],
          "type": "data",
          "visible": true
         },
         "marker": {
          "color": "#F9D949"
         },
         "showlegend": false,
         "type": "scatter",
         "x": [
          "Unfriendly"
         ],
         "y": [
          -0.36335531135531135
         ]
        },
        {
         "error_y": {
          "array": [
           0.03979676386561869
          ],
          "type": "data",
          "visible": true
         },
         "marker": {
          "color": "#377E7F"
         },
         "showlegend": false,
         "type": "scatter",
         "x": [
          "Closed-Minded"
         ],
         "y": [
          0.3507784370404179
         ]
        },
        {
         "error_y": {
          "array": [
           0.028674941596032705
          ],
          "type": "data",
          "visible": true
         },
         "marker": {
          "color": "#BFB5D7"
         },
         "showlegend": false,
         "type": "scatter",
         "x": [
          "Rural"
         ],
         "y": [
          0.05859671302149178
         ]
        }
       ],
       "layout": {
        "bargap": 0.3,
        "font": {
         "color": "black",
         "size": 14
        },
        "height": 350,
        "margin": {
         "b": 50,
         "l": 50,
         "r": 30,
         "t": 70
        },
        "shapes": [
         {
          "line": {
           "color": "red",
           "dash": "dash",
           "width": 2
          },
          "type": "line",
          "x0": "Temper",
          "x1": "Rural",
          "y0": 0,
          "y1": 0
         }
        ],
        "template": {},
        "title": {
         "text": "Llama-3.1-8B"
        },
        "width": 600,
        "xaxis": {
         "tickmode": "array",
         "ticktext": [
          "<span style='color:#4A68D9'>Temper</span>",
          "<span style='color:#60B177'>Careless</span>",
          "<span style='color:#F09235'>Uneducated</span>",
          "<span style='color:#F9D949'>Unfriendly</span>",
          "<span style='color:#377E7F'>Closed-Minded</span>",
          "<span style='color:#BFB5D7'>Rural</span>"
         ],
         "tickvals": [
          "Temper",
          "Careless",
          "Uneducated",
          "Unfriendly",
          "Closed-Minded",
          "Rural"
         ]
        },
        "yaxis": {
         "gridcolor": "lightgray",
         "range": [
          -1.15,
          1.15
         ],
         "showgrid": true,
         "zeroline": false
        }
       }
      },
      "text/html": [
       "<div>                            <div id=\"02fdc098-8302-46d5-a5a7-e96b66821927\" class=\"plotly-graph-div\" style=\"height:350px; width:600px;\"></div>            <script type=\"text/javascript\">                require([\"plotly\"], function(Plotly) {                    window.PLOTLYENV=window.PLOTLYENV || {};                                    if (document.getElementById(\"02fdc098-8302-46d5-a5a7-e96b66821927\")) {                    Plotly.newPlot(                        \"02fdc098-8302-46d5-a5a7-e96b66821927\",                        [{\"error_y\":{\"array\":[0.04259677344533456],\"type\":\"data\",\"visible\":true},\"marker\":{\"color\":\"#4A68D9\"},\"showlegend\":false,\"x\":[\"Temper\"],\"y\":[0.34697004608294935],\"type\":\"scatter\"},{\"error_y\":{\"array\":[0.044495724443092785],\"type\":\"data\",\"visible\":true},\"marker\":{\"color\":\"#60B177\"},\"showlegend\":false,\"x\":[\"Careless\"],\"y\":[0.4296942188246536],\"type\":\"scatter\"},{\"error_y\":{\"array\":[0.04180107290712917],\"type\":\"data\",\"visible\":true},\"marker\":{\"color\":\"#F09235\"},\"showlegend\":false,\"x\":[\"Uneducated\"],\"y\":[0.4179189004520131],\"type\":\"scatter\"},{\"error_y\":{\"array\":[0.04119543694724405],\"type\":\"data\",\"visible\":true},\"marker\":{\"color\":\"#F9D949\"},\"showlegend\":false,\"x\":[\"Unfriendly\"],\"y\":[-0.36335531135531135],\"type\":\"scatter\"},{\"error_y\":{\"array\":[0.03979676386561869],\"type\":\"data\",\"visible\":true},\"marker\":{\"color\":\"#377E7F\"},\"showlegend\":false,\"x\":[\"Closed-Minded\"],\"y\":[0.3507784370404179],\"type\":\"scatter\"},{\"error_y\":{\"array\":[0.028674941596032705],\"type\":\"data\",\"visible\":true},\"marker\":{\"color\":\"#BFB5D7\"},\"showlegend\":false,\"x\":[\"Rural\"],\"y\":[0.05859671302149178],\"type\":\"scatter\"}],                        {\"template\":{},\"shapes\":[{\"line\":{\"color\":\"red\",\"dash\":\"dash\",\"width\":2},\"type\":\"line\",\"x0\":\"Temper\",\"x1\":\"Rural\",\"y0\":0,\"y1\":0}],\"font\":{\"size\":14,\"color\":\"black\"},\"margin\":{\"l\":50,\"r\":30,\"t\":70,\"b\":50},\"xaxis\":{\"tickmode\":\"array\",\"tickvals\":[\"Temper\",\"Careless\",\"Uneducated\",\"Unfriendly\",\"Closed-Minded\",\"Rural\"],\"ticktext\":[\"\\u003cspan style='color:#4A68D9'\\u003eTemper\\u003c\\u002fspan\\u003e\",\"\\u003cspan style='color:#60B177'\\u003eCareless\\u003c\\u002fspan\\u003e\",\"\\u003cspan style='color:#F09235'\\u003eUneducated\\u003c\\u002fspan\\u003e\",\"\\u003cspan style='color:#F9D949'\\u003eUnfriendly\\u003c\\u002fspan\\u003e\",\"\\u003cspan style='color:#377E7F'\\u003eClosed-Minded\\u003c\\u002fspan\\u003e\",\"\\u003cspan style='color:#BFB5D7'\\u003eRural\\u003c\\u002fspan\\u003e\"]},\"yaxis\":{\"range\":[-1.15,1.15],\"showgrid\":true,\"gridcolor\":\"lightgray\",\"zeroline\":false},\"title\":{\"text\":\"Llama-3.1-8B\"},\"width\":600,\"height\":350,\"bargap\":0.3},                        {\"responsive\": true}                    ).then(function(){\n",
       "                            \n",
       "var gd = document.getElementById('02fdc098-8302-46d5-a5a7-e96b66821927');\n",
       "var x = new MutationObserver(function (mutations, observer) {{\n",
       "        var display = window.getComputedStyle(gd).display;\n",
       "        if (!display || display === 'none') {{\n",
       "            console.log([gd, 'removed!']);\n",
       "            Plotly.purge(gd);\n",
       "            observer.disconnect();\n",
       "        }}\n",
       "}});\n",
       "\n",
       "// Listen for the removal of the full notebook cells\n",
       "var notebookContainer = gd.closest('#notebook-container');\n",
       "if (notebookContainer) {{\n",
       "    x.observe(notebookContainer, {childList: true});\n",
       "}}\n",
       "\n",
       "// Listen for the clearing of the current output cell\n",
       "var outputEl = gd.closest('.output');\n",
       "if (outputEl) {{\n",
       "    x.observe(outputEl, {childList: true});\n",
       "}}\n",
       "\n",
       "                        })                };                });            </script>        </div>"
      ]
     },
     "metadata": {},
     "output_type": "display_data"
    },
    {
     "name": "stdout",
     "output_type": "stream",
     "text": [
      "Qwen2.5-72B\n"
     ]
    },
    {
     "data": {
      "application/vnd.plotly.v1+json": {
       "config": {
        "plotlyServerURL": "https://plot.ly"
       },
       "data": [
        {
         "error_y": {
          "array": [
           0.18339176843667676
          ],
          "type": "data",
          "visible": true
         },
         "marker": {
          "color": "#4A68D9"
         },
         "showlegend": false,
         "type": "scatter",
         "x": [
          "Temper"
         ],
         "y": [
          0.6031746031746033
         ]
        },
        {
         "error_y": {
          "array": [
           0.1405122612772397
          ],
          "type": "data",
          "visible": true
         },
         "marker": {
          "color": "#60B177"
         },
         "showlegend": false,
         "type": "scatter",
         "x": [
          "Careless"
         ],
         "y": [
          0.6036414565826331
         ]
        },
        {
         "error_y": {
          "array": [
           0.10819160625725181
          ],
          "type": "data",
          "visible": true
         },
         "marker": {
          "color": "#F09235"
         },
         "showlegend": false,
         "type": "scatter",
         "x": [
          "Uneducated"
         ],
         "y": [
          0.5347054075867635
         ]
        },
        {
         "error_y": {
          "array": [
           0.12237225276318091
          ],
          "type": "data",
          "visible": true
         },
         "marker": {
          "color": "#F9D949"
         },
         "showlegend": false,
         "type": "scatter",
         "x": [
          "Unfriendly"
         ],
         "y": [
          -0.574468085106383
         ]
        },
        {
         "error_y": {
          "array": [
           0.1266474703086208
          ],
          "type": "data",
          "visible": true
         },
         "marker": {
          "color": "#377E7F"
         },
         "showlegend": false,
         "type": "scatter",
         "x": [
          "Closed-Minded"
         ],
         "y": [
          0.5290476190476191
         ]
        },
        {
         "error_y": {
          "array": [
           0.19232842004526315
          ],
          "type": "data",
          "visible": true
         },
         "marker": {
          "color": "#BFB5D7"
         },
         "showlegend": false,
         "type": "scatter",
         "x": [
          "Rural"
         ],
         "y": [
          0.1492063492063492
         ]
        }
       ],
       "layout": {
        "bargap": 0.3,
        "font": {
         "color": "black",
         "size": 14
        },
        "height": 350,
        "margin": {
         "b": 50,
         "l": 50,
         "r": 30,
         "t": 70
        },
        "shapes": [
         {
          "line": {
           "color": "red",
           "dash": "dash",
           "width": 2
          },
          "type": "line",
          "x0": "Temper",
          "x1": "Rural",
          "y0": 0,
          "y1": 0
         }
        ],
        "template": {},
        "title": {
         "text": "Qwen2.5-72B"
        },
        "width": 600,
        "xaxis": {
         "tickmode": "array",
         "ticktext": [
          "<span style='color:#4A68D9'>Temper</span>",
          "<span style='color:#60B177'>Careless</span>",
          "<span style='color:#F09235'>Uneducated</span>",
          "<span style='color:#F9D949'>Unfriendly</span>",
          "<span style='color:#377E7F'>Closed-Minded</span>",
          "<span style='color:#BFB5D7'>Rural</span>"
         ],
         "tickvals": [
          "Temper",
          "Careless",
          "Uneducated",
          "Unfriendly",
          "Closed-Minded",
          "Rural"
         ]
        },
        "yaxis": {
         "gridcolor": "lightgray",
         "range": [
          -1.15,
          1.15
         ],
         "showgrid": true,
         "zeroline": false
        }
       }
      },
      "text/html": [
       "<div>                            <div id=\"899e00c1-4892-45c6-9c96-04e4bb8e1558\" class=\"plotly-graph-div\" style=\"height:350px; width:600px;\"></div>            <script type=\"text/javascript\">                require([\"plotly\"], function(Plotly) {                    window.PLOTLYENV=window.PLOTLYENV || {};                                    if (document.getElementById(\"899e00c1-4892-45c6-9c96-04e4bb8e1558\")) {                    Plotly.newPlot(                        \"899e00c1-4892-45c6-9c96-04e4bb8e1558\",                        [{\"error_y\":{\"array\":[0.18339176843667676],\"type\":\"data\",\"visible\":true},\"marker\":{\"color\":\"#4A68D9\"},\"showlegend\":false,\"x\":[\"Temper\"],\"y\":[0.6031746031746033],\"type\":\"scatter\"},{\"error_y\":{\"array\":[0.1405122612772397],\"type\":\"data\",\"visible\":true},\"marker\":{\"color\":\"#60B177\"},\"showlegend\":false,\"x\":[\"Careless\"],\"y\":[0.6036414565826331],\"type\":\"scatter\"},{\"error_y\":{\"array\":[0.10819160625725181],\"type\":\"data\",\"visible\":true},\"marker\":{\"color\":\"#F09235\"},\"showlegend\":false,\"x\":[\"Uneducated\"],\"y\":[0.5347054075867635],\"type\":\"scatter\"},{\"error_y\":{\"array\":[0.12237225276318091],\"type\":\"data\",\"visible\":true},\"marker\":{\"color\":\"#F9D949\"},\"showlegend\":false,\"x\":[\"Unfriendly\"],\"y\":[-0.574468085106383],\"type\":\"scatter\"},{\"error_y\":{\"array\":[0.1266474703086208],\"type\":\"data\",\"visible\":true},\"marker\":{\"color\":\"#377E7F\"},\"showlegend\":false,\"x\":[\"Closed-Minded\"],\"y\":[0.5290476190476191],\"type\":\"scatter\"},{\"error_y\":{\"array\":[0.19232842004526315],\"type\":\"data\",\"visible\":true},\"marker\":{\"color\":\"#BFB5D7\"},\"showlegend\":false,\"x\":[\"Rural\"],\"y\":[0.1492063492063492],\"type\":\"scatter\"}],                        {\"template\":{},\"shapes\":[{\"line\":{\"color\":\"red\",\"dash\":\"dash\",\"width\":2},\"type\":\"line\",\"x0\":\"Temper\",\"x1\":\"Rural\",\"y0\":0,\"y1\":0}],\"font\":{\"size\":14,\"color\":\"black\"},\"margin\":{\"l\":50,\"r\":30,\"t\":70,\"b\":50},\"xaxis\":{\"tickmode\":\"array\",\"tickvals\":[\"Temper\",\"Careless\",\"Uneducated\",\"Unfriendly\",\"Closed-Minded\",\"Rural\"],\"ticktext\":[\"\\u003cspan style='color:#4A68D9'\\u003eTemper\\u003c\\u002fspan\\u003e\",\"\\u003cspan style='color:#60B177'\\u003eCareless\\u003c\\u002fspan\\u003e\",\"\\u003cspan style='color:#F09235'\\u003eUneducated\\u003c\\u002fspan\\u003e\",\"\\u003cspan style='color:#F9D949'\\u003eUnfriendly\\u003c\\u002fspan\\u003e\",\"\\u003cspan style='color:#377E7F'\\u003eClosed-Minded\\u003c\\u002fspan\\u003e\",\"\\u003cspan style='color:#BFB5D7'\\u003eRural\\u003c\\u002fspan\\u003e\"]},\"yaxis\":{\"range\":[-1.15,1.15],\"showgrid\":true,\"gridcolor\":\"lightgray\",\"zeroline\":false},\"title\":{\"text\":\"Qwen2.5-72B\"},\"width\":600,\"height\":350,\"bargap\":0.3},                        {\"responsive\": true}                    ).then(function(){\n",
       "                            \n",
       "var gd = document.getElementById('899e00c1-4892-45c6-9c96-04e4bb8e1558');\n",
       "var x = new MutationObserver(function (mutations, observer) {{\n",
       "        var display = window.getComputedStyle(gd).display;\n",
       "        if (!display || display === 'none') {{\n",
       "            console.log([gd, 'removed!']);\n",
       "            Plotly.purge(gd);\n",
       "            observer.disconnect();\n",
       "        }}\n",
       "}});\n",
       "\n",
       "// Listen for the removal of the full notebook cells\n",
       "var notebookContainer = gd.closest('#notebook-container');\n",
       "if (notebookContainer) {{\n",
       "    x.observe(notebookContainer, {childList: true});\n",
       "}}\n",
       "\n",
       "// Listen for the clearing of the current output cell\n",
       "var outputEl = gd.closest('.output');\n",
       "if (outputEl) {{\n",
       "    x.observe(outputEl, {childList: true});\n",
       "}}\n",
       "\n",
       "                        })                };                });            </script>        </div>"
      ]
     },
     "metadata": {},
     "output_type": "display_data"
    }
   ],
   "source": [
    "dimension_dict = {'educated': 'Uneducated',\n",
    "                  'urban': 'Rural',\n",
    "                  'calm': 'Temper',\n",
    "                  'friendly': 'Unfriendly',\n",
    "                  'open_to_experience': 'Closed-Minded',\n",
    "                  'conscientiousness': 'Careless'\n",
    "                  }\n",
    "\n",
    "df = pd.read_csv('../output/implicit_robustness_0.9/eval/final.csv')\n",
    "df = df[df['nones'] == 0]\n",
    "\n",
    "\n",
    "group_stats = df.groupby(['model_name', 'dimension'])['bias'].agg(['mean', 'std', 'count']).reset_index()\n",
    "\n",
    "group_stats['se'] = group_stats['std'] / np.sqrt(group_stats['count'])\n",
    "group_stats['t_score'] = group_stats['count'].apply(lambda n: stats.t.ppf(0.95, df=n-1) if n > 1 else 0)\n",
    "group_stats['margin_of_error'] = group_stats['t_score'] * group_stats['se']\n",
    "group_stats['lower'] = group_stats['mean'] - group_stats['margin_of_error']\n",
    "group_stats['upper'] = group_stats['mean'] + group_stats['margin_of_error']\n",
    "\n",
    "\n",
    "\n",
    "for model in group_stats.model_name.unique():\n",
    "    colors = ['#4A68D9', '#60B177', '#F09235', '#F9D949', '#377E7F', '#BFB5D7']\n",
    "\n",
    "    fig = go.Figure()\n",
    "    print(model)\n",
    "\n",
    "    subset = group_stats[group_stats['model_name'] == model]\n",
    "    k = 0\n",
    "    for i, row in subset.iterrows():\n",
    "        fig.add_trace(go.Scatter(\n",
    "            x=[dimension_dict[row['dimension']]],\n",
    "            y=[row['mean']],\n",
    "            error_y=dict(type='data', array=[row['margin_of_error']], visible=True),\n",
    "            marker_color=colors[k],\n",
    "            showlegend=False  # Hide legend if you don't want duplicates\n",
    "        ))\n",
    "        k+=1\n",
    "\n",
    "    # Create color-coded tick labels\n",
    "    dimensions = subset['dimension'].unique()\n",
    "    dimensions = [dimension_dict[x] for x in dimensions]\n",
    "    colored_labels = [f\"<span style='color:{colors[i]}'>{dimensions[i]}</span>\" for i in range(len(dimensions))]\n",
    "\n",
    "    fig.add_shape(\n",
    "        type=\"line\",\n",
    "        y0=0,\n",
    "        x0=dimensions[0],\n",
    "        x1=dimensions[-1],\n",
    "        y1=0,\n",
    "        line=dict(color=\"red\", width=2, dash=\"dash\")\n",
    "    )\n",
    "\n",
    "    # Update layout\n",
    "    fig.update_layout(\n",
    "        title=model,\n",
    "        width=600,\n",
    "        height=350,\n",
    "        font=dict(size=14, color='black'),\n",
    "        margin=dict(\n",
    "        l=50,   # left\n",
    "        r=30,   # right\n",
    "        t=70,   # top\n",
    "        b=50    # bottom\n",
    "    ),\n",
    "        xaxis=dict(\n",
    "            tickmode='array',\n",
    "            tickvals=dimensions,\n",
    "            ticktext=colored_labels\n",
    "        ),\n",
    "        yaxis=dict(\n",
    "        range=[-1.15, 1.15],\n",
    "        showgrid=True,  # Enable grid\n",
    "        gridcolor='lightgray',  # Subtle grid lines\n",
    "        zeroline=False,  # Show axis zero line\n",
    "        #zerolinecolor='black'\n",
    "    ),\n",
    "        bargap=0.3,\n",
    "    )\n",
    "    fig.show()\n",
    "    fig.write_image(f\"../img/robustness_{model}.pdf\")\n"
   ]
  },
  {
   "cell_type": "code",
   "execution_count": 21,
   "id": "254969a7",
   "metadata": {},
   "outputs": [],
   "source": [
    "df['dimension_cut'] = df['dimension'].str[:-2]"
   ]
  },
  {
   "cell_type": "code",
   "execution_count": 34,
   "id": "2e99cbb2",
   "metadata": {},
   "outputs": [
    {
     "data": {
      "text/plain": [
       "0        Qwen2.5-72B\n",
       "1        Qwen2.5-72B\n",
       "2        Qwen2.5-72B\n",
       "3        Qwen2.5-72B\n",
       "4        Qwen2.5-72B\n",
       "            ...     \n",
       "37795         Aya 8B\n",
       "37796         Aya 8B\n",
       "37797         Aya 8B\n",
       "37798         Aya 8B\n",
       "37799         Aya 8B\n",
       "Name: model_name, Length: 37800, dtype: object"
      ]
     },
     "execution_count": 34,
     "metadata": {},
     "output_type": "execute_result"
    }
   ],
   "source": [
    "df.model_name"
   ]
  },
  {
   "cell_type": "code",
   "execution_count": 37,
   "id": "9c4c2130",
   "metadata": {},
   "outputs": [],
   "source": [
    "df2 = pd.read_csv('../output/decision_extracted/Qwen2.5-7B-Instruct.csv')"
   ]
  },
  {
   "cell_type": "code",
   "execution_count": 38,
   "id": "04616524",
   "metadata": {},
   "outputs": [
    {
     "data": {
      "text/plain": [
       "6300"
      ]
     },
     "execution_count": 38,
     "metadata": {},
     "output_type": "execute_result"
    }
   ],
   "source": [
    "len(df2)"
   ]
  },
  {
   "cell_type": "code",
   "execution_count": 61,
   "id": "95b070e3",
   "metadata": {},
   "outputs": [
    {
     "name": "stdout",
     "output_type": "stream",
     "text": [
      "(np.float64(0.43671987404532103), np.float64(0.5423277450022981))\n",
      "0.4895238095238095\n",
      "0.8719899310825195\n",
      "0.026910193499849286\n",
      "1.9622280114330741\n"
     ]
    }
   ],
   "source": [
    "subset = df[(df['model_name'] == 'Qwen2.5-72B') & (df['nones'] == 0) & (df['dimension_cut'] == 'friendly')]\n",
    "\n",
    "biases = subset['bias'].tolist()\n",
    "t_stat, p_value = stats.ttest_1samp(biases, 0)\n",
    "mean_bias = np.mean(biases)\n",
    "std_bias = np.std(biases)#, ddof=1)\n",
    "# Compute the 95% confidence interval\n",
    "n = len(biases)\n",
    "se = std_bias / np.sqrt(n)  # Standard error\n",
    "confidence = 0.95\n",
    "t_score = stats.t.ppf((1 + confidence) / 2, df=n-1)  # t-score for 95% confidence interval\n",
    "margin_of_error = t_score * se\n",
    "confidence_interval = (mean_bias - margin_of_error, mean_bias + margin_of_error)\n",
    "print(confidence_interval)\n",
    "print(mean_bias)\n",
    "print(std_bias)\n",
    "print(se)\n",
    "print(t_score)\n",
    "\n"
   ]
  },
  {
   "cell_type": "code",
   "execution_count": 58,
   "id": "e77ab6db",
   "metadata": {},
   "outputs": [
    {
     "data": {
      "text/html": [
       "<div>\n",
       "<style scoped>\n",
       "    .dataframe tbody tr th:only-of-type {\n",
       "        vertical-align: middle;\n",
       "    }\n",
       "\n",
       "    .dataframe tbody tr th {\n",
       "        vertical-align: top;\n",
       "    }\n",
       "\n",
       "    .dataframe thead th {\n",
       "        text-align: right;\n",
       "    }\n",
       "</style>\n",
       "<table border=\"1\" class=\"dataframe\">\n",
       "  <thead>\n",
       "    <tr style=\"text-align: right;\">\n",
       "      <th></th>\n",
       "      <th>model_name</th>\n",
       "      <th>dimension_cut</th>\n",
       "      <th>mean</th>\n",
       "      <th>std</th>\n",
       "      <th>count</th>\n",
       "      <th>se</th>\n",
       "      <th>t_score</th>\n",
       "      <th>margin_of_error</th>\n",
       "      <th>lower</th>\n",
       "      <th>upper</th>\n",
       "    </tr>\n",
       "  </thead>\n",
       "  <tbody>\n",
       "    <tr>\n",
       "      <th>24</th>\n",
       "      <td>Qwen2.5-72B</td>\n",
       "      <td>calm</td>\n",
       "      <td>0.387035</td>\n",
       "      <td>0.921987</td>\n",
       "      <td>1049</td>\n",
       "      <td>0.028467</td>\n",
       "      <td>1.646309</td>\n",
       "      <td>0.046865</td>\n",
       "      <td>0.340170</td>\n",
       "      <td>0.433900</td>\n",
       "    </tr>\n",
       "    <tr>\n",
       "      <th>25</th>\n",
       "      <td>Qwen2.5-72B</td>\n",
       "      <td>conscientiousness</td>\n",
       "      <td>0.624762</td>\n",
       "      <td>0.748788</td>\n",
       "      <td>1050</td>\n",
       "      <td>0.023108</td>\n",
       "      <td>1.646308</td>\n",
       "      <td>0.038043</td>\n",
       "      <td>0.586719</td>\n",
       "      <td>0.662805</td>\n",
       "    </tr>\n",
       "    <tr>\n",
       "      <th>26</th>\n",
       "      <td>Qwen2.5-72B</td>\n",
       "      <td>educated</td>\n",
       "      <td>0.704918</td>\n",
       "      <td>0.652959</td>\n",
       "      <td>1037</td>\n",
       "      <td>0.020277</td>\n",
       "      <td>1.646326</td>\n",
       "      <td>0.033382</td>\n",
       "      <td>0.671536</td>\n",
       "      <td>0.738300</td>\n",
       "    </tr>\n",
       "    <tr>\n",
       "      <th>27</th>\n",
       "      <td>Qwen2.5-72B</td>\n",
       "      <td>friendly</td>\n",
       "      <td>0.489524</td>\n",
       "      <td>0.872405</td>\n",
       "      <td>1050</td>\n",
       "      <td>0.026923</td>\n",
       "      <td>1.646308</td>\n",
       "      <td>0.044324</td>\n",
       "      <td>0.445200</td>\n",
       "      <td>0.533847</td>\n",
       "    </tr>\n",
       "    <tr>\n",
       "      <th>28</th>\n",
       "      <td>Qwen2.5-72B</td>\n",
       "      <td>open_to_experience</td>\n",
       "      <td>0.266667</td>\n",
       "      <td>0.963259</td>\n",
       "      <td>1050</td>\n",
       "      <td>0.029727</td>\n",
       "      <td>1.646308</td>\n",
       "      <td>0.048939</td>\n",
       "      <td>0.217727</td>\n",
       "      <td>0.315606</td>\n",
       "    </tr>\n",
       "    <tr>\n",
       "      <th>29</th>\n",
       "      <td>Qwen2.5-72B</td>\n",
       "      <td>urban</td>\n",
       "      <td>0.613333</td>\n",
       "      <td>0.788993</td>\n",
       "      <td>1050</td>\n",
       "      <td>0.024349</td>\n",
       "      <td>1.646308</td>\n",
       "      <td>0.040086</td>\n",
       "      <td>0.573248</td>\n",
       "      <td>0.653419</td>\n",
       "    </tr>\n",
       "  </tbody>\n",
       "</table>\n",
       "</div>"
      ],
      "text/plain": [
       "     model_name       dimension_cut      mean       std  count        se  \\\n",
       "24  Qwen2.5-72B                calm  0.387035  0.921987   1049  0.028467   \n",
       "25  Qwen2.5-72B   conscientiousness  0.624762  0.748788   1050  0.023108   \n",
       "26  Qwen2.5-72B            educated  0.704918  0.652959   1037  0.020277   \n",
       "27  Qwen2.5-72B            friendly  0.489524  0.872405   1050  0.026923   \n",
       "28  Qwen2.5-72B  open_to_experience  0.266667  0.963259   1050  0.029727   \n",
       "29  Qwen2.5-72B               urban  0.613333  0.788993   1050  0.024349   \n",
       "\n",
       "     t_score  margin_of_error     lower     upper  \n",
       "24  1.646309         0.046865  0.340170  0.433900  \n",
       "25  1.646308         0.038043  0.586719  0.662805  \n",
       "26  1.646326         0.033382  0.671536  0.738300  \n",
       "27  1.646308         0.044324  0.445200  0.533847  \n",
       "28  1.646308         0.048939  0.217727  0.315606  \n",
       "29  1.646308         0.040086  0.573248  0.653419  "
      ]
     },
     "execution_count": 58,
     "metadata": {},
     "output_type": "execute_result"
    }
   ],
   "source": [
    "group_stats[group_stats['model_name'] == 'Qwen2.5-72B']"
   ]
  },
  {
   "cell_type": "code",
   "execution_count": 13,
   "id": "c134bb98",
   "metadata": {},
   "outputs": [
    {
     "name": "stdout",
     "output_type": "stream",
     "text": [
      "Aya 32b\n"
     ]
    },
    {
     "data": {
      "application/vnd.plotly.v1+json": {
       "config": {
        "plotlyServerURL": "https://plot.ly"
       },
       "data": [
        {
         "error_y": {
          "array": [
           0.048025030982403134
          ],
          "type": "data",
          "visible": true
         },
         "marker": {
          "color": "#4A68D9"
         },
         "showlegend": false,
         "type": "scatter",
         "x": [
          "Temper"
         ],
         "y": [
          0.32761904761904764
         ]
        },
        {
         "error_y": {
          "array": [
           0.042936470966004815
          ],
          "type": "data",
          "visible": true
         },
         "marker": {
          "color": "#60B177"
         },
         "showlegend": false,
         "type": "scatter",
         "x": [
          "Careless"
         ],
         "y": [
          0.5352380952380953
         ]
        },
        {
         "error_y": {
          "array": [
           0.04500468498230181
          ],
          "type": "data",
          "visible": true
         },
         "marker": {
          "color": "#F09235"
         },
         "showlegend": false,
         "type": "scatter",
         "x": [
          "Uneducated"
         ],
         "y": [
          0.43933463796477495
         ]
        },
        {
         "error_y": {
          "array": [
           0.04715518937332964
          ],
          "type": "data",
          "visible": true
         },
         "marker": {
          "color": "#F9D949"
         },
         "showlegend": false,
         "type": "scatter",
         "x": [
          "Unfriendly"
         ],
         "y": [
          0.37333333333333335
         ]
        },
        {
         "error_y": {
          "array": [
           0.048440009712032994
          ],
          "type": "data",
          "visible": true
         },
         "marker": {
          "color": "#377E7F"
         },
         "showlegend": false,
         "type": "scatter",
         "x": [
          "Closed-Minded"
         ],
         "y": [
          0.25812619502868067
         ]
        },
        {
         "error_y": {
          "array": [
           0.04330624779531132
          ],
          "type": "data",
          "visible": true
         },
         "marker": {
          "color": "#BFB5D7"
         },
         "showlegend": false,
         "type": "scatter",
         "x": [
          "Rural"
         ],
         "y": [
          0.518095238095238
         ]
        }
       ],
       "layout": {
        "bargap": 0.3,
        "font": {
         "color": "black",
         "size": 14
        },
        "height": 350,
        "margin": {
         "b": 50,
         "l": 50,
         "r": 30,
         "t": 70
        },
        "shapes": [
         {
          "line": {
           "color": "red",
           "dash": "dash",
           "width": 2
          },
          "type": "line",
          "x0": "Temper",
          "x1": "Rural",
          "y0": 0,
          "y1": 0
         }
        ],
        "template": {},
        "title": {
         "text": "Aya 32b"
        },
        "width": 600,
        "xaxis": {
         "tickmode": "array",
         "ticktext": [
          "<span style='color:#4A68D9'>Temper</span>",
          "<span style='color:#60B177'>Careless</span>",
          "<span style='color:#F09235'>Uneducated</span>",
          "<span style='color:#F9D949'>Unfriendly</span>",
          "<span style='color:#377E7F'>Closed-Minded</span>",
          "<span style='color:#BFB5D7'>Rural</span>"
         ],
         "tickvals": [
          "Temper",
          "Careless",
          "Uneducated",
          "Unfriendly",
          "Closed-Minded",
          "Rural"
         ]
        },
        "yaxis": {
         "gridcolor": "lightgray",
         "range": [
          -1.15,
          1.15
         ],
         "showgrid": true,
         "zeroline": false
        }
       }
      },
      "text/html": [
       "<div>                            <div id=\"325ee561-be2c-4cce-a4f2-e5e5c2eed2ea\" class=\"plotly-graph-div\" style=\"height:350px; width:600px;\"></div>            <script type=\"text/javascript\">                require([\"plotly\"], function(Plotly) {                    window.PLOTLYENV=window.PLOTLYENV || {};                                    if (document.getElementById(\"325ee561-be2c-4cce-a4f2-e5e5c2eed2ea\")) {                    Plotly.newPlot(                        \"325ee561-be2c-4cce-a4f2-e5e5c2eed2ea\",                        [{\"error_y\":{\"array\":[0.048025030982403134],\"type\":\"data\",\"visible\":true},\"marker\":{\"color\":\"#4A68D9\"},\"showlegend\":false,\"x\":[\"Temper\"],\"y\":[0.32761904761904764],\"type\":\"scatter\"},{\"error_y\":{\"array\":[0.042936470966004815],\"type\":\"data\",\"visible\":true},\"marker\":{\"color\":\"#60B177\"},\"showlegend\":false,\"x\":[\"Careless\"],\"y\":[0.5352380952380953],\"type\":\"scatter\"},{\"error_y\":{\"array\":[0.04500468498230181],\"type\":\"data\",\"visible\":true},\"marker\":{\"color\":\"#F09235\"},\"showlegend\":false,\"x\":[\"Uneducated\"],\"y\":[0.43933463796477495],\"type\":\"scatter\"},{\"error_y\":{\"array\":[0.04715518937332964],\"type\":\"data\",\"visible\":true},\"marker\":{\"color\":\"#F9D949\"},\"showlegend\":false,\"x\":[\"Unfriendly\"],\"y\":[0.37333333333333335],\"type\":\"scatter\"},{\"error_y\":{\"array\":[0.048440009712032994],\"type\":\"data\",\"visible\":true},\"marker\":{\"color\":\"#377E7F\"},\"showlegend\":false,\"x\":[\"Closed-Minded\"],\"y\":[0.25812619502868067],\"type\":\"scatter\"},{\"error_y\":{\"array\":[0.04330624779531132],\"type\":\"data\",\"visible\":true},\"marker\":{\"color\":\"#BFB5D7\"},\"showlegend\":false,\"x\":[\"Rural\"],\"y\":[0.518095238095238],\"type\":\"scatter\"}],                        {\"template\":{},\"shapes\":[{\"line\":{\"color\":\"red\",\"dash\":\"dash\",\"width\":2},\"type\":\"line\",\"x0\":\"Temper\",\"x1\":\"Rural\",\"y0\":0,\"y1\":0}],\"font\":{\"size\":14,\"color\":\"black\"},\"margin\":{\"l\":50,\"r\":30,\"t\":70,\"b\":50},\"xaxis\":{\"tickmode\":\"array\",\"tickvals\":[\"Temper\",\"Careless\",\"Uneducated\",\"Unfriendly\",\"Closed-Minded\",\"Rural\"],\"ticktext\":[\"\\u003cspan style='color:#4A68D9'\\u003eTemper\\u003c\\u002fspan\\u003e\",\"\\u003cspan style='color:#60B177'\\u003eCareless\\u003c\\u002fspan\\u003e\",\"\\u003cspan style='color:#F09235'\\u003eUneducated\\u003c\\u002fspan\\u003e\",\"\\u003cspan style='color:#F9D949'\\u003eUnfriendly\\u003c\\u002fspan\\u003e\",\"\\u003cspan style='color:#377E7F'\\u003eClosed-Minded\\u003c\\u002fspan\\u003e\",\"\\u003cspan style='color:#BFB5D7'\\u003eRural\\u003c\\u002fspan\\u003e\"]},\"yaxis\":{\"range\":[-1.15,1.15],\"showgrid\":true,\"gridcolor\":\"lightgray\",\"zeroline\":false},\"title\":{\"text\":\"Aya 32b\"},\"width\":600,\"height\":350,\"bargap\":0.3},                        {\"responsive\": true}                    ).then(function(){\n",
       "                            \n",
       "var gd = document.getElementById('325ee561-be2c-4cce-a4f2-e5e5c2eed2ea');\n",
       "var x = new MutationObserver(function (mutations, observer) {{\n",
       "        var display = window.getComputedStyle(gd).display;\n",
       "        if (!display || display === 'none') {{\n",
       "            console.log([gd, 'removed!']);\n",
       "            Plotly.purge(gd);\n",
       "            observer.disconnect();\n",
       "        }}\n",
       "}});\n",
       "\n",
       "// Listen for the removal of the full notebook cells\n",
       "var notebookContainer = gd.closest('#notebook-container');\n",
       "if (notebookContainer) {{\n",
       "    x.observe(notebookContainer, {childList: true});\n",
       "}}\n",
       "\n",
       "// Listen for the clearing of the current output cell\n",
       "var outputEl = gd.closest('.output');\n",
       "if (outputEl) {{\n",
       "    x.observe(outputEl, {childList: true});\n",
       "}}\n",
       "\n",
       "                        })                };                });            </script>        </div>"
      ]
     },
     "metadata": {},
     "output_type": "display_data"
    },
    {
     "name": "stdout",
     "output_type": "stream",
     "text": [
      "Aya 8B\n"
     ]
    },
    {
     "data": {
      "application/vnd.plotly.v1+json": {
       "config": {
        "plotlyServerURL": "https://plot.ly"
       },
       "data": [
        {
         "error_y": {
          "array": [
           0.05053139473097527
          ],
          "type": "data",
          "visible": true
         },
         "marker": {
          "color": "#4A68D9"
         },
         "showlegend": false,
         "type": "scatter",
         "x": [
          "Temper"
         ],
         "y": [
          0.10380952380952381
         ]
        },
        {
         "error_y": {
          "array": [
           0.04883327489075882
          ],
          "type": "data",
          "visible": true
         },
         "marker": {
          "color": "#60B177"
         },
         "showlegend": false,
         "type": "scatter",
         "x": [
          "Careless"
         ],
         "y": [
          0.24666666666666667
         ]
        },
        {
         "error_y": {
          "array": [
           0.04954882865103413
          ],
          "type": "data",
          "visible": true
         },
         "marker": {
          "color": "#F09235"
         },
         "showlegend": false,
         "type": "scatter",
         "x": [
          "Uneducated"
         ],
         "y": [
          0.20038167938931298
         ]
        },
        {
         "error_y": {
          "array": [
           0.0503409836295592
          ],
          "type": "data",
          "visible": true
         },
         "marker": {
          "color": "#F9D949"
         },
         "showlegend": false,
         "type": "scatter",
         "x": [
          "Unfriendly"
         ],
         "y": [
          0.1450381679389313
         ]
        },
        {
         "error_y": {
          "array": [
           0.05048361308062144
          ],
          "type": "data",
          "visible": true
         },
         "marker": {
          "color": "#377E7F"
         },
         "showlegend": false,
         "type": "scatter",
         "x": [
          "Closed-Minded"
         ],
         "y": [
          0.009578544061302681
         ]
        },
        {
         "error_y": {
          "array": [
           0.05033581179548092
          ],
          "type": "data",
          "visible": true
         },
         "marker": {
          "color": "#BFB5D7"
         },
         "showlegend": false,
         "type": "scatter",
         "x": [
          "Rural"
         ],
         "y": [
          0.11652340019102196
         ]
        }
       ],
       "layout": {
        "bargap": 0.3,
        "font": {
         "color": "black",
         "size": 14
        },
        "height": 350,
        "margin": {
         "b": 50,
         "l": 50,
         "r": 30,
         "t": 70
        },
        "shapes": [
         {
          "line": {
           "color": "red",
           "dash": "dash",
           "width": 2
          },
          "type": "line",
          "x0": "Temper",
          "x1": "Rural",
          "y0": 0,
          "y1": 0
         }
        ],
        "template": {},
        "title": {
         "text": "Aya 8B"
        },
        "width": 600,
        "xaxis": {
         "tickmode": "array",
         "ticktext": [
          "<span style='color:#4A68D9'>Temper</span>",
          "<span style='color:#60B177'>Careless</span>",
          "<span style='color:#F09235'>Uneducated</span>",
          "<span style='color:#F9D949'>Unfriendly</span>",
          "<span style='color:#377E7F'>Closed-Minded</span>",
          "<span style='color:#BFB5D7'>Rural</span>"
         ],
         "tickvals": [
          "Temper",
          "Careless",
          "Uneducated",
          "Unfriendly",
          "Closed-Minded",
          "Rural"
         ]
        },
        "yaxis": {
         "gridcolor": "lightgray",
         "range": [
          -1.15,
          1.15
         ],
         "showgrid": true,
         "zeroline": false
        }
       }
      },
      "text/html": [
       "<div>                            <div id=\"c36bcbf5-7080-4ad9-9fc3-3b14f4ff066b\" class=\"plotly-graph-div\" style=\"height:350px; width:600px;\"></div>            <script type=\"text/javascript\">                require([\"plotly\"], function(Plotly) {                    window.PLOTLYENV=window.PLOTLYENV || {};                                    if (document.getElementById(\"c36bcbf5-7080-4ad9-9fc3-3b14f4ff066b\")) {                    Plotly.newPlot(                        \"c36bcbf5-7080-4ad9-9fc3-3b14f4ff066b\",                        [{\"error_y\":{\"array\":[0.05053139473097527],\"type\":\"data\",\"visible\":true},\"marker\":{\"color\":\"#4A68D9\"},\"showlegend\":false,\"x\":[\"Temper\"],\"y\":[0.10380952380952381],\"type\":\"scatter\"},{\"error_y\":{\"array\":[0.04883327489075882],\"type\":\"data\",\"visible\":true},\"marker\":{\"color\":\"#60B177\"},\"showlegend\":false,\"x\":[\"Careless\"],\"y\":[0.24666666666666667],\"type\":\"scatter\"},{\"error_y\":{\"array\":[0.04954882865103413],\"type\":\"data\",\"visible\":true},\"marker\":{\"color\":\"#F09235\"},\"showlegend\":false,\"x\":[\"Uneducated\"],\"y\":[0.20038167938931298],\"type\":\"scatter\"},{\"error_y\":{\"array\":[0.0503409836295592],\"type\":\"data\",\"visible\":true},\"marker\":{\"color\":\"#F9D949\"},\"showlegend\":false,\"x\":[\"Unfriendly\"],\"y\":[0.1450381679389313],\"type\":\"scatter\"},{\"error_y\":{\"array\":[0.05048361308062144],\"type\":\"data\",\"visible\":true},\"marker\":{\"color\":\"#377E7F\"},\"showlegend\":false,\"x\":[\"Closed-Minded\"],\"y\":[0.009578544061302681],\"type\":\"scatter\"},{\"error_y\":{\"array\":[0.05033581179548092],\"type\":\"data\",\"visible\":true},\"marker\":{\"color\":\"#BFB5D7\"},\"showlegend\":false,\"x\":[\"Rural\"],\"y\":[0.11652340019102196],\"type\":\"scatter\"}],                        {\"template\":{},\"shapes\":[{\"line\":{\"color\":\"red\",\"dash\":\"dash\",\"width\":2},\"type\":\"line\",\"x0\":\"Temper\",\"x1\":\"Rural\",\"y0\":0,\"y1\":0}],\"font\":{\"size\":14,\"color\":\"black\"},\"margin\":{\"l\":50,\"r\":30,\"t\":70,\"b\":50},\"xaxis\":{\"tickmode\":\"array\",\"tickvals\":[\"Temper\",\"Careless\",\"Uneducated\",\"Unfriendly\",\"Closed-Minded\",\"Rural\"],\"ticktext\":[\"\\u003cspan style='color:#4A68D9'\\u003eTemper\\u003c\\u002fspan\\u003e\",\"\\u003cspan style='color:#60B177'\\u003eCareless\\u003c\\u002fspan\\u003e\",\"\\u003cspan style='color:#F09235'\\u003eUneducated\\u003c\\u002fspan\\u003e\",\"\\u003cspan style='color:#F9D949'\\u003eUnfriendly\\u003c\\u002fspan\\u003e\",\"\\u003cspan style='color:#377E7F'\\u003eClosed-Minded\\u003c\\u002fspan\\u003e\",\"\\u003cspan style='color:#BFB5D7'\\u003eRural\\u003c\\u002fspan\\u003e\"]},\"yaxis\":{\"range\":[-1.15,1.15],\"showgrid\":true,\"gridcolor\":\"lightgray\",\"zeroline\":false},\"title\":{\"text\":\"Aya 8B\"},\"width\":600,\"height\":350,\"bargap\":0.3},                        {\"responsive\": true}                    ).then(function(){\n",
       "                            \n",
       "var gd = document.getElementById('c36bcbf5-7080-4ad9-9fc3-3b14f4ff066b');\n",
       "var x = new MutationObserver(function (mutations, observer) {{\n",
       "        var display = window.getComputedStyle(gd).display;\n",
       "        if (!display || display === 'none') {{\n",
       "            console.log([gd, 'removed!']);\n",
       "            Plotly.purge(gd);\n",
       "            observer.disconnect();\n",
       "        }}\n",
       "}});\n",
       "\n",
       "// Listen for the removal of the full notebook cells\n",
       "var notebookContainer = gd.closest('#notebook-container');\n",
       "if (notebookContainer) {{\n",
       "    x.observe(notebookContainer, {childList: true});\n",
       "}}\n",
       "\n",
       "// Listen for the clearing of the current output cell\n",
       "var outputEl = gd.closest('.output');\n",
       "if (outputEl) {{\n",
       "    x.observe(outputEl, {childList: true});\n",
       "}}\n",
       "\n",
       "                        })                };                });            </script>        </div>"
      ]
     },
     "metadata": {},
     "output_type": "display_data"
    },
    {
     "name": "stdout",
     "output_type": "stream",
     "text": [
      "Gemma-3 12B\n"
     ]
    },
    {
     "data": {
      "application/vnd.plotly.v1+json": {
       "config": {
        "plotlyServerURL": "https://plot.ly"
       },
       "data": [
        {
         "error_y": {
          "array": [
           0.04997551844292592
          ],
          "type": "data",
          "visible": true
         },
         "marker": {
          "color": "#4A68D9"
         },
         "showlegend": false,
         "type": "scatter",
         "x": [
          "Temper"
         ],
         "y": [
          0.18
         ]
        },
        {
         "error_y": {
          "array": [
           0.04808494170189912
          ],
          "type": "data",
          "visible": true
         },
         "marker": {
          "color": "#60B177"
         },
         "showlegend": false,
         "type": "scatter",
         "x": [
          "Careless"
         ],
         "y": [
          0.3076190476190476
         ]
        },
        {
         "error_y": {
          "array": [
           0.03836534753975478
          ],
          "type": "data",
          "visible": true
         },
         "marker": {
          "color": "#F09235"
         },
         "showlegend": false,
         "type": "scatter",
         "x": [
          "Uneducated"
         ],
         "y": [
          0.5419479267116682
         ]
        },
        {
         "error_y": {
          "array": [
           0.04901642173476792
          ],
          "type": "data",
          "visible": true
         },
         "marker": {
          "color": "#F9D949"
         },
         "showlegend": false,
         "type": "scatter",
         "x": [
          "Unfriendly"
         ],
         "y": [
          0.26476190476190475
         ]
        },
        {
         "error_y": {
          "array": [
           0.048005922845149825
          ],
          "type": "data",
          "visible": true
         },
         "marker": {
          "color": "#377E7F"
         },
         "showlegend": false,
         "type": "scatter",
         "x": [
          "Closed-Minded"
         ],
         "y": [
          0.2733333333333333
         ]
        },
        {
         "error_y": {
          "array": [
           0.043274280813312735
          ],
          "type": "data",
          "visible": true
         },
         "marker": {
          "color": "#BFB5D7"
         },
         "showlegend": false,
         "type": "scatter",
         "x": [
          "Rural"
         ],
         "y": [
          0.5252621544327931
         ]
        }
       ],
       "layout": {
        "bargap": 0.3,
        "font": {
         "color": "black",
         "size": 14
        },
        "height": 350,
        "margin": {
         "b": 50,
         "l": 50,
         "r": 30,
         "t": 70
        },
        "shapes": [
         {
          "line": {
           "color": "red",
           "dash": "dash",
           "width": 2
          },
          "type": "line",
          "x0": "Temper",
          "x1": "Rural",
          "y0": 0,
          "y1": 0
         }
        ],
        "template": {},
        "title": {
         "text": "Gemma-3 12B"
        },
        "width": 600,
        "xaxis": {
         "tickmode": "array",
         "ticktext": [
          "<span style='color:#4A68D9'>Temper</span>",
          "<span style='color:#60B177'>Careless</span>",
          "<span style='color:#F09235'>Uneducated</span>",
          "<span style='color:#F9D949'>Unfriendly</span>",
          "<span style='color:#377E7F'>Closed-Minded</span>",
          "<span style='color:#BFB5D7'>Rural</span>"
         ],
         "tickvals": [
          "Temper",
          "Careless",
          "Uneducated",
          "Unfriendly",
          "Closed-Minded",
          "Rural"
         ]
        },
        "yaxis": {
         "gridcolor": "lightgray",
         "range": [
          -1.15,
          1.15
         ],
         "showgrid": true,
         "zeroline": false
        }
       }
      },
      "text/html": [
       "<div>                            <div id=\"4f5a7b79-f989-4977-86b9-ad94e2da0f0c\" class=\"plotly-graph-div\" style=\"height:350px; width:600px;\"></div>            <script type=\"text/javascript\">                require([\"plotly\"], function(Plotly) {                    window.PLOTLYENV=window.PLOTLYENV || {};                                    if (document.getElementById(\"4f5a7b79-f989-4977-86b9-ad94e2da0f0c\")) {                    Plotly.newPlot(                        \"4f5a7b79-f989-4977-86b9-ad94e2da0f0c\",                        [{\"error_y\":{\"array\":[0.04997551844292592],\"type\":\"data\",\"visible\":true},\"marker\":{\"color\":\"#4A68D9\"},\"showlegend\":false,\"x\":[\"Temper\"],\"y\":[0.18],\"type\":\"scatter\"},{\"error_y\":{\"array\":[0.04808494170189912],\"type\":\"data\",\"visible\":true},\"marker\":{\"color\":\"#60B177\"},\"showlegend\":false,\"x\":[\"Careless\"],\"y\":[0.3076190476190476],\"type\":\"scatter\"},{\"error_y\":{\"array\":[0.03836534753975478],\"type\":\"data\",\"visible\":true},\"marker\":{\"color\":\"#F09235\"},\"showlegend\":false,\"x\":[\"Uneducated\"],\"y\":[0.5419479267116682],\"type\":\"scatter\"},{\"error_y\":{\"array\":[0.04901642173476792],\"type\":\"data\",\"visible\":true},\"marker\":{\"color\":\"#F9D949\"},\"showlegend\":false,\"x\":[\"Unfriendly\"],\"y\":[0.26476190476190475],\"type\":\"scatter\"},{\"error_y\":{\"array\":[0.048005922845149825],\"type\":\"data\",\"visible\":true},\"marker\":{\"color\":\"#377E7F\"},\"showlegend\":false,\"x\":[\"Closed-Minded\"],\"y\":[0.2733333333333333],\"type\":\"scatter\"},{\"error_y\":{\"array\":[0.043274280813312735],\"type\":\"data\",\"visible\":true},\"marker\":{\"color\":\"#BFB5D7\"},\"showlegend\":false,\"x\":[\"Rural\"],\"y\":[0.5252621544327931],\"type\":\"scatter\"}],                        {\"template\":{},\"shapes\":[{\"line\":{\"color\":\"red\",\"dash\":\"dash\",\"width\":2},\"type\":\"line\",\"x0\":\"Temper\",\"x1\":\"Rural\",\"y0\":0,\"y1\":0}],\"font\":{\"size\":14,\"color\":\"black\"},\"margin\":{\"l\":50,\"r\":30,\"t\":70,\"b\":50},\"xaxis\":{\"tickmode\":\"array\",\"tickvals\":[\"Temper\",\"Careless\",\"Uneducated\",\"Unfriendly\",\"Closed-Minded\",\"Rural\"],\"ticktext\":[\"\\u003cspan style='color:#4A68D9'\\u003eTemper\\u003c\\u002fspan\\u003e\",\"\\u003cspan style='color:#60B177'\\u003eCareless\\u003c\\u002fspan\\u003e\",\"\\u003cspan style='color:#F09235'\\u003eUneducated\\u003c\\u002fspan\\u003e\",\"\\u003cspan style='color:#F9D949'\\u003eUnfriendly\\u003c\\u002fspan\\u003e\",\"\\u003cspan style='color:#377E7F'\\u003eClosed-Minded\\u003c\\u002fspan\\u003e\",\"\\u003cspan style='color:#BFB5D7'\\u003eRural\\u003c\\u002fspan\\u003e\"]},\"yaxis\":{\"range\":[-1.15,1.15],\"showgrid\":true,\"gridcolor\":\"lightgray\",\"zeroline\":false},\"title\":{\"text\":\"Gemma-3 12B\"},\"width\":600,\"height\":350,\"bargap\":0.3},                        {\"responsive\": true}                    ).then(function(){\n",
       "                            \n",
       "var gd = document.getElementById('4f5a7b79-f989-4977-86b9-ad94e2da0f0c');\n",
       "var x = new MutationObserver(function (mutations, observer) {{\n",
       "        var display = window.getComputedStyle(gd).display;\n",
       "        if (!display || display === 'none') {{\n",
       "            console.log([gd, 'removed!']);\n",
       "            Plotly.purge(gd);\n",
       "            observer.disconnect();\n",
       "        }}\n",
       "}});\n",
       "\n",
       "// Listen for the removal of the full notebook cells\n",
       "var notebookContainer = gd.closest('#notebook-container');\n",
       "if (notebookContainer) {{\n",
       "    x.observe(notebookContainer, {childList: true});\n",
       "}}\n",
       "\n",
       "// Listen for the clearing of the current output cell\n",
       "var outputEl = gd.closest('.output');\n",
       "if (outputEl) {{\n",
       "    x.observe(outputEl, {childList: true});\n",
       "}}\n",
       "\n",
       "                        })                };                });            </script>        </div>"
      ]
     },
     "metadata": {},
     "output_type": "display_data"
    },
    {
     "name": "stdout",
     "output_type": "stream",
     "text": [
      "Llama-3.1-8B\n"
     ]
    },
    {
     "data": {
      "application/vnd.plotly.v1+json": {
       "config": {
        "plotlyServerURL": "https://plot.ly"
       },
       "data": [
        {
         "error_y": {
          "array": [
           0.048372192449583316
          ],
          "type": "data",
          "visible": true
         },
         "marker": {
          "color": "#4A68D9"
         },
         "showlegend": false,
         "type": "scatter",
         "x": [
          "Temper"
         ],
         "y": [
          0.30095238095238097
         ]
        },
        {
         "error_y": {
          "array": [
           0.04422448554291558
          ],
          "type": "data",
          "visible": true
         },
         "marker": {
          "color": "#60B177"
         },
         "showlegend": false,
         "type": "scatter",
         "x": [
          "Careless"
         ],
         "y": [
          0.4699714013346044
         ]
        },
        {
         "error_y": {
          "array": [
           0.041712000454182815
          ],
          "type": "data",
          "visible": true
         },
         "marker": {
          "color": "#F09235"
         },
         "showlegend": false,
         "type": "scatter",
         "x": [
          "Uneducated"
         ],
         "y": [
          0.5430784123910939
         ]
        },
        {
         "error_y": {
          "array": [
           0.05050836309517173
          ],
          "type": "data",
          "visible": true
         },
         "marker": {
          "color": "#F9D949"
         },
         "showlegend": false,
         "type": "scatter",
         "x": [
          "Unfriendly"
         ],
         "y": [
          0.11238095238095239
         ]
        },
        {
         "error_y": {
          "array": [
           0.04914870035183494
          ],
          "type": "data",
          "visible": true
         },
         "marker": {
          "color": "#377E7F"
         },
         "showlegend": false,
         "type": "scatter",
         "x": [
          "Closed-Minded"
         ],
         "y": [
          0.223069590085796
         ]
        },
        {
         "error_y": {
          "array": [
           0.046415851892484754
          ],
          "type": "data",
          "visible": true
         },
         "marker": {
          "color": "#BFB5D7"
         },
         "showlegend": false,
         "type": "scatter",
         "x": [
          "Rural"
         ],
         "y": [
          0.4076190476190476
         ]
        }
       ],
       "layout": {
        "bargap": 0.3,
        "font": {
         "color": "black",
         "size": 14
        },
        "height": 350,
        "margin": {
         "b": 50,
         "l": 50,
         "r": 30,
         "t": 70
        },
        "shapes": [
         {
          "line": {
           "color": "red",
           "dash": "dash",
           "width": 2
          },
          "type": "line",
          "x0": "Temper",
          "x1": "Rural",
          "y0": 0,
          "y1": 0
         }
        ],
        "template": {},
        "title": {
         "text": "Llama-3.1-8B"
        },
        "width": 600,
        "xaxis": {
         "tickmode": "array",
         "ticktext": [
          "<span style='color:#4A68D9'>Temper</span>",
          "<span style='color:#60B177'>Careless</span>",
          "<span style='color:#F09235'>Uneducated</span>",
          "<span style='color:#F9D949'>Unfriendly</span>",
          "<span style='color:#377E7F'>Closed-Minded</span>",
          "<span style='color:#BFB5D7'>Rural</span>"
         ],
         "tickvals": [
          "Temper",
          "Careless",
          "Uneducated",
          "Unfriendly",
          "Closed-Minded",
          "Rural"
         ]
        },
        "yaxis": {
         "gridcolor": "lightgray",
         "range": [
          -1.15,
          1.15
         ],
         "showgrid": true,
         "zeroline": false
        }
       }
      },
      "text/html": [
       "<div>                            <div id=\"ce7af80a-bfc0-4e98-9288-a13f2e398da9\" class=\"plotly-graph-div\" style=\"height:350px; width:600px;\"></div>            <script type=\"text/javascript\">                require([\"plotly\"], function(Plotly) {                    window.PLOTLYENV=window.PLOTLYENV || {};                                    if (document.getElementById(\"ce7af80a-bfc0-4e98-9288-a13f2e398da9\")) {                    Plotly.newPlot(                        \"ce7af80a-bfc0-4e98-9288-a13f2e398da9\",                        [{\"error_y\":{\"array\":[0.048372192449583316],\"type\":\"data\",\"visible\":true},\"marker\":{\"color\":\"#4A68D9\"},\"showlegend\":false,\"x\":[\"Temper\"],\"y\":[0.30095238095238097],\"type\":\"scatter\"},{\"error_y\":{\"array\":[0.04422448554291558],\"type\":\"data\",\"visible\":true},\"marker\":{\"color\":\"#60B177\"},\"showlegend\":false,\"x\":[\"Careless\"],\"y\":[0.4699714013346044],\"type\":\"scatter\"},{\"error_y\":{\"array\":[0.041712000454182815],\"type\":\"data\",\"visible\":true},\"marker\":{\"color\":\"#F09235\"},\"showlegend\":false,\"x\":[\"Uneducated\"],\"y\":[0.5430784123910939],\"type\":\"scatter\"},{\"error_y\":{\"array\":[0.05050836309517173],\"type\":\"data\",\"visible\":true},\"marker\":{\"color\":\"#F9D949\"},\"showlegend\":false,\"x\":[\"Unfriendly\"],\"y\":[0.11238095238095239],\"type\":\"scatter\"},{\"error_y\":{\"array\":[0.04914870035183494],\"type\":\"data\",\"visible\":true},\"marker\":{\"color\":\"#377E7F\"},\"showlegend\":false,\"x\":[\"Closed-Minded\"],\"y\":[0.223069590085796],\"type\":\"scatter\"},{\"error_y\":{\"array\":[0.046415851892484754],\"type\":\"data\",\"visible\":true},\"marker\":{\"color\":\"#BFB5D7\"},\"showlegend\":false,\"x\":[\"Rural\"],\"y\":[0.4076190476190476],\"type\":\"scatter\"}],                        {\"template\":{},\"shapes\":[{\"line\":{\"color\":\"red\",\"dash\":\"dash\",\"width\":2},\"type\":\"line\",\"x0\":\"Temper\",\"x1\":\"Rural\",\"y0\":0,\"y1\":0}],\"font\":{\"size\":14,\"color\":\"black\"},\"margin\":{\"l\":50,\"r\":30,\"t\":70,\"b\":50},\"xaxis\":{\"tickmode\":\"array\",\"tickvals\":[\"Temper\",\"Careless\",\"Uneducated\",\"Unfriendly\",\"Closed-Minded\",\"Rural\"],\"ticktext\":[\"\\u003cspan style='color:#4A68D9'\\u003eTemper\\u003c\\u002fspan\\u003e\",\"\\u003cspan style='color:#60B177'\\u003eCareless\\u003c\\u002fspan\\u003e\",\"\\u003cspan style='color:#F09235'\\u003eUneducated\\u003c\\u002fspan\\u003e\",\"\\u003cspan style='color:#F9D949'\\u003eUnfriendly\\u003c\\u002fspan\\u003e\",\"\\u003cspan style='color:#377E7F'\\u003eClosed-Minded\\u003c\\u002fspan\\u003e\",\"\\u003cspan style='color:#BFB5D7'\\u003eRural\\u003c\\u002fspan\\u003e\"]},\"yaxis\":{\"range\":[-1.15,1.15],\"showgrid\":true,\"gridcolor\":\"lightgray\",\"zeroline\":false},\"title\":{\"text\":\"Llama-3.1-8B\"},\"width\":600,\"height\":350,\"bargap\":0.3},                        {\"responsive\": true}                    ).then(function(){\n",
       "                            \n",
       "var gd = document.getElementById('ce7af80a-bfc0-4e98-9288-a13f2e398da9');\n",
       "var x = new MutationObserver(function (mutations, observer) {{\n",
       "        var display = window.getComputedStyle(gd).display;\n",
       "        if (!display || display === 'none') {{\n",
       "            console.log([gd, 'removed!']);\n",
       "            Plotly.purge(gd);\n",
       "            observer.disconnect();\n",
       "        }}\n",
       "}});\n",
       "\n",
       "// Listen for the removal of the full notebook cells\n",
       "var notebookContainer = gd.closest('#notebook-container');\n",
       "if (notebookContainer) {{\n",
       "    x.observe(notebookContainer, {childList: true});\n",
       "}}\n",
       "\n",
       "// Listen for the clearing of the current output cell\n",
       "var outputEl = gd.closest('.output');\n",
       "if (outputEl) {{\n",
       "    x.observe(outputEl, {childList: true});\n",
       "}}\n",
       "\n",
       "                        })                };                });            </script>        </div>"
      ]
     },
     "metadata": {},
     "output_type": "display_data"
    },
    {
     "name": "stdout",
     "output_type": "stream",
     "text": [
      "Qwen2.5-72B\n"
     ]
    },
    {
     "data": {
      "application/vnd.plotly.v1+json": {
       "config": {
        "plotlyServerURL": "https://plot.ly"
       },
       "data": [
        {
         "error_y": {
          "array": [
           0.04686499412805697
          ],
          "type": "data",
          "visible": true
         },
         "marker": {
          "color": "#4A68D9"
         },
         "showlegend": false,
         "type": "scatter",
         "x": [
          "Temper"
         ],
         "y": [
          0.38703527168732127
         ]
        },
        {
         "error_y": {
          "array": [
           0.038043012682647113
          ],
          "type": "data",
          "visible": true
         },
         "marker": {
          "color": "#60B177"
         },
         "showlegend": false,
         "type": "scatter",
         "x": [
          "Careless"
         ],
         "y": [
          0.6247619047619047
         ]
        },
        {
         "error_y": {
          "array": [
           0.0333820219182658
          ],
          "type": "data",
          "visible": true
         },
         "marker": {
          "color": "#F09235"
         },
         "showlegend": false,
         "type": "scatter",
         "x": [
          "Uneducated"
         ],
         "y": [
          0.7049180327868853
         ]
        },
        {
         "error_y": {
          "array": [
           0.04432356515675441
          ],
          "type": "data",
          "visible": true
         },
         "marker": {
          "color": "#F9D949"
         },
         "showlegend": false,
         "type": "scatter",
         "x": [
          "Unfriendly"
         ],
         "y": [
          0.4895238095238095
         ]
        },
        {
         "error_y": {
          "array": [
           0.048939481543967885
          ],
          "type": "data",
          "visible": true
         },
         "marker": {
          "color": "#377E7F"
         },
         "showlegend": false,
         "type": "scatter",
         "x": [
          "Closed-Minded"
         ],
         "y": [
          0.26666666666666666
         ]
        },
        {
         "error_y": {
          "array": [
           0.04008571092514708
          ],
          "type": "data",
          "visible": true
         },
         "marker": {
          "color": "#BFB5D7"
         },
         "showlegend": false,
         "type": "scatter",
         "x": [
          "Rural"
         ],
         "y": [
          0.6133333333333333
         ]
        }
       ],
       "layout": {
        "bargap": 0.3,
        "font": {
         "color": "black",
         "size": 14
        },
        "height": 350,
        "margin": {
         "b": 50,
         "l": 50,
         "r": 30,
         "t": 70
        },
        "shapes": [
         {
          "line": {
           "color": "red",
           "dash": "dash",
           "width": 2
          },
          "type": "line",
          "x0": "Temper",
          "x1": "Rural",
          "y0": 0,
          "y1": 0
         }
        ],
        "template": {},
        "title": {
         "text": "Qwen2.5-72B"
        },
        "width": 600,
        "xaxis": {
         "tickmode": "array",
         "ticktext": [
          "<span style='color:#4A68D9'>Temper</span>",
          "<span style='color:#60B177'>Careless</span>",
          "<span style='color:#F09235'>Uneducated</span>",
          "<span style='color:#F9D949'>Unfriendly</span>",
          "<span style='color:#377E7F'>Closed-Minded</span>",
          "<span style='color:#BFB5D7'>Rural</span>"
         ],
         "tickvals": [
          "Temper",
          "Careless",
          "Uneducated",
          "Unfriendly",
          "Closed-Minded",
          "Rural"
         ]
        },
        "yaxis": {
         "gridcolor": "lightgray",
         "range": [
          -1.15,
          1.15
         ],
         "showgrid": true,
         "zeroline": false
        }
       }
      },
      "text/html": [
       "<div>                            <div id=\"3d56daa1-a5c6-41c1-aaea-4139e571ccb9\" class=\"plotly-graph-div\" style=\"height:350px; width:600px;\"></div>            <script type=\"text/javascript\">                require([\"plotly\"], function(Plotly) {                    window.PLOTLYENV=window.PLOTLYENV || {};                                    if (document.getElementById(\"3d56daa1-a5c6-41c1-aaea-4139e571ccb9\")) {                    Plotly.newPlot(                        \"3d56daa1-a5c6-41c1-aaea-4139e571ccb9\",                        [{\"error_y\":{\"array\":[0.04686499412805697],\"type\":\"data\",\"visible\":true},\"marker\":{\"color\":\"#4A68D9\"},\"showlegend\":false,\"x\":[\"Temper\"],\"y\":[0.38703527168732127],\"type\":\"scatter\"},{\"error_y\":{\"array\":[0.038043012682647113],\"type\":\"data\",\"visible\":true},\"marker\":{\"color\":\"#60B177\"},\"showlegend\":false,\"x\":[\"Careless\"],\"y\":[0.6247619047619047],\"type\":\"scatter\"},{\"error_y\":{\"array\":[0.0333820219182658],\"type\":\"data\",\"visible\":true},\"marker\":{\"color\":\"#F09235\"},\"showlegend\":false,\"x\":[\"Uneducated\"],\"y\":[0.7049180327868853],\"type\":\"scatter\"},{\"error_y\":{\"array\":[0.04432356515675441],\"type\":\"data\",\"visible\":true},\"marker\":{\"color\":\"#F9D949\"},\"showlegend\":false,\"x\":[\"Unfriendly\"],\"y\":[0.4895238095238095],\"type\":\"scatter\"},{\"error_y\":{\"array\":[0.048939481543967885],\"type\":\"data\",\"visible\":true},\"marker\":{\"color\":\"#377E7F\"},\"showlegend\":false,\"x\":[\"Closed-Minded\"],\"y\":[0.26666666666666666],\"type\":\"scatter\"},{\"error_y\":{\"array\":[0.04008571092514708],\"type\":\"data\",\"visible\":true},\"marker\":{\"color\":\"#BFB5D7\"},\"showlegend\":false,\"x\":[\"Rural\"],\"y\":[0.6133333333333333],\"type\":\"scatter\"}],                        {\"template\":{},\"shapes\":[{\"line\":{\"color\":\"red\",\"dash\":\"dash\",\"width\":2},\"type\":\"line\",\"x0\":\"Temper\",\"x1\":\"Rural\",\"y0\":0,\"y1\":0}],\"font\":{\"size\":14,\"color\":\"black\"},\"margin\":{\"l\":50,\"r\":30,\"t\":70,\"b\":50},\"xaxis\":{\"tickmode\":\"array\",\"tickvals\":[\"Temper\",\"Careless\",\"Uneducated\",\"Unfriendly\",\"Closed-Minded\",\"Rural\"],\"ticktext\":[\"\\u003cspan style='color:#4A68D9'\\u003eTemper\\u003c\\u002fspan\\u003e\",\"\\u003cspan style='color:#60B177'\\u003eCareless\\u003c\\u002fspan\\u003e\",\"\\u003cspan style='color:#F09235'\\u003eUneducated\\u003c\\u002fspan\\u003e\",\"\\u003cspan style='color:#F9D949'\\u003eUnfriendly\\u003c\\u002fspan\\u003e\",\"\\u003cspan style='color:#377E7F'\\u003eClosed-Minded\\u003c\\u002fspan\\u003e\",\"\\u003cspan style='color:#BFB5D7'\\u003eRural\\u003c\\u002fspan\\u003e\"]},\"yaxis\":{\"range\":[-1.15,1.15],\"showgrid\":true,\"gridcolor\":\"lightgray\",\"zeroline\":false},\"title\":{\"text\":\"Qwen2.5-72B\"},\"width\":600,\"height\":350,\"bargap\":0.3},                        {\"responsive\": true}                    ).then(function(){\n",
       "                            \n",
       "var gd = document.getElementById('3d56daa1-a5c6-41c1-aaea-4139e571ccb9');\n",
       "var x = new MutationObserver(function (mutations, observer) {{\n",
       "        var display = window.getComputedStyle(gd).display;\n",
       "        if (!display || display === 'none') {{\n",
       "            console.log([gd, 'removed!']);\n",
       "            Plotly.purge(gd);\n",
       "            observer.disconnect();\n",
       "        }}\n",
       "}});\n",
       "\n",
       "// Listen for the removal of the full notebook cells\n",
       "var notebookContainer = gd.closest('#notebook-container');\n",
       "if (notebookContainer) {{\n",
       "    x.observe(notebookContainer, {childList: true});\n",
       "}}\n",
       "\n",
       "// Listen for the clearing of the current output cell\n",
       "var outputEl = gd.closest('.output');\n",
       "if (outputEl) {{\n",
       "    x.observe(outputEl, {childList: true});\n",
       "}}\n",
       "\n",
       "                        })                };                });            </script>        </div>"
      ]
     },
     "metadata": {},
     "output_type": "display_data"
    },
    {
     "name": "stdout",
     "output_type": "stream",
     "text": [
      "Qwen2.5-7B\n"
     ]
    },
    {
     "data": {
      "application/vnd.plotly.v1+json": {
       "config": {
        "plotlyServerURL": "https://plot.ly"
       },
       "data": [
        {
         "error_y": {
          "array": [
           0.049905950748829725
          ],
          "type": "data",
          "visible": true
         },
         "marker": {
          "color": "#4A68D9"
         },
         "showlegend": false,
         "type": "scatter",
         "x": [
          "Temper"
         ],
         "y": [
          0.18476190476190477
         ]
        },
        {
         "error_y": {
          "array": [
           0.047534514446818096
          ],
          "type": "data",
          "visible": true
         },
         "marker": {
          "color": "#60B177"
         },
         "showlegend": false,
         "type": "scatter",
         "x": [
          "Careless"
         ],
         "y": [
          0.3260247855100095
         ]
        },
        {
         "error_y": {
          "array": [
           0.04632713392505109
          ],
          "type": "data",
          "visible": true
         },
         "marker": {
          "color": "#F09235"
         },
         "showlegend": false,
         "type": "scatter",
         "x": [
          "Uneducated"
         ],
         "y": [
          0.3856589147286822
         ]
        },
        {
         "error_y": {
          "array": [
           0.05065958163881158
          ],
          "type": "data",
          "visible": true
         },
         "marker": {
          "color": "#F9D949"
         },
         "showlegend": false,
         "type": "scatter",
         "x": [
          "Unfriendly"
         ],
         "y": [
          0.08190476190476191
         ]
        },
        {
         "error_y": {
          "array": [
           0.050613416189504
          ],
          "type": "data",
          "visible": true
         },
         "marker": {
          "color": "#377E7F"
         },
         "showlegend": false,
         "type": "scatter",
         "x": [
          "Closed-Minded"
         ],
         "y": [
          0.07523809523809524
         ]
        },
        {
         "error_y": {
          "array": [
           0.04980338159651408
          ],
          "type": "data",
          "visible": true
         },
         "marker": {
          "color": "#BFB5D7"
         },
         "showlegend": false,
         "type": "scatter",
         "x": [
          "Rural"
         ],
         "y": [
          0.2
         ]
        }
       ],
       "layout": {
        "bargap": 0.3,
        "font": {
         "color": "black",
         "size": 14
        },
        "height": 350,
        "margin": {
         "b": 50,
         "l": 50,
         "r": 30,
         "t": 70
        },
        "shapes": [
         {
          "line": {
           "color": "red",
           "dash": "dash",
           "width": 2
          },
          "type": "line",
          "x0": "Temper",
          "x1": "Rural",
          "y0": 0,
          "y1": 0
         }
        ],
        "template": {},
        "title": {
         "text": "Qwen2.5-7B"
        },
        "width": 600,
        "xaxis": {
         "tickmode": "array",
         "ticktext": [
          "<span style='color:#4A68D9'>Temper</span>",
          "<span style='color:#60B177'>Careless</span>",
          "<span style='color:#F09235'>Uneducated</span>",
          "<span style='color:#F9D949'>Unfriendly</span>",
          "<span style='color:#377E7F'>Closed-Minded</span>",
          "<span style='color:#BFB5D7'>Rural</span>"
         ],
         "tickvals": [
          "Temper",
          "Careless",
          "Uneducated",
          "Unfriendly",
          "Closed-Minded",
          "Rural"
         ]
        },
        "yaxis": {
         "gridcolor": "lightgray",
         "range": [
          -1.15,
          1.15
         ],
         "showgrid": true,
         "zeroline": false
        }
       }
      },
      "text/html": [
       "<div>                            <div id=\"8af724b6-2639-4038-9de8-160a462135e9\" class=\"plotly-graph-div\" style=\"height:350px; width:600px;\"></div>            <script type=\"text/javascript\">                require([\"plotly\"], function(Plotly) {                    window.PLOTLYENV=window.PLOTLYENV || {};                                    if (document.getElementById(\"8af724b6-2639-4038-9de8-160a462135e9\")) {                    Plotly.newPlot(                        \"8af724b6-2639-4038-9de8-160a462135e9\",                        [{\"error_y\":{\"array\":[0.049905950748829725],\"type\":\"data\",\"visible\":true},\"marker\":{\"color\":\"#4A68D9\"},\"showlegend\":false,\"x\":[\"Temper\"],\"y\":[0.18476190476190477],\"type\":\"scatter\"},{\"error_y\":{\"array\":[0.047534514446818096],\"type\":\"data\",\"visible\":true},\"marker\":{\"color\":\"#60B177\"},\"showlegend\":false,\"x\":[\"Careless\"],\"y\":[0.3260247855100095],\"type\":\"scatter\"},{\"error_y\":{\"array\":[0.04632713392505109],\"type\":\"data\",\"visible\":true},\"marker\":{\"color\":\"#F09235\"},\"showlegend\":false,\"x\":[\"Uneducated\"],\"y\":[0.3856589147286822],\"type\":\"scatter\"},{\"error_y\":{\"array\":[0.05065958163881158],\"type\":\"data\",\"visible\":true},\"marker\":{\"color\":\"#F9D949\"},\"showlegend\":false,\"x\":[\"Unfriendly\"],\"y\":[0.08190476190476191],\"type\":\"scatter\"},{\"error_y\":{\"array\":[0.050613416189504],\"type\":\"data\",\"visible\":true},\"marker\":{\"color\":\"#377E7F\"},\"showlegend\":false,\"x\":[\"Closed-Minded\"],\"y\":[0.07523809523809524],\"type\":\"scatter\"},{\"error_y\":{\"array\":[0.04980338159651408],\"type\":\"data\",\"visible\":true},\"marker\":{\"color\":\"#BFB5D7\"},\"showlegend\":false,\"x\":[\"Rural\"],\"y\":[0.2],\"type\":\"scatter\"}],                        {\"template\":{},\"shapes\":[{\"line\":{\"color\":\"red\",\"dash\":\"dash\",\"width\":2},\"type\":\"line\",\"x0\":\"Temper\",\"x1\":\"Rural\",\"y0\":0,\"y1\":0}],\"font\":{\"size\":14,\"color\":\"black\"},\"margin\":{\"l\":50,\"r\":30,\"t\":70,\"b\":50},\"xaxis\":{\"tickmode\":\"array\",\"tickvals\":[\"Temper\",\"Careless\",\"Uneducated\",\"Unfriendly\",\"Closed-Minded\",\"Rural\"],\"ticktext\":[\"\\u003cspan style='color:#4A68D9'\\u003eTemper\\u003c\\u002fspan\\u003e\",\"\\u003cspan style='color:#60B177'\\u003eCareless\\u003c\\u002fspan\\u003e\",\"\\u003cspan style='color:#F09235'\\u003eUneducated\\u003c\\u002fspan\\u003e\",\"\\u003cspan style='color:#F9D949'\\u003eUnfriendly\\u003c\\u002fspan\\u003e\",\"\\u003cspan style='color:#377E7F'\\u003eClosed-Minded\\u003c\\u002fspan\\u003e\",\"\\u003cspan style='color:#BFB5D7'\\u003eRural\\u003c\\u002fspan\\u003e\"]},\"yaxis\":{\"range\":[-1.15,1.15],\"showgrid\":true,\"gridcolor\":\"lightgray\",\"zeroline\":false},\"title\":{\"text\":\"Qwen2.5-7B\"},\"width\":600,\"height\":350,\"bargap\":0.3},                        {\"responsive\": true}                    ).then(function(){\n",
       "                            \n",
       "var gd = document.getElementById('8af724b6-2639-4038-9de8-160a462135e9');\n",
       "var x = new MutationObserver(function (mutations, observer) {{\n",
       "        var display = window.getComputedStyle(gd).display;\n",
       "        if (!display || display === 'none') {{\n",
       "            console.log([gd, 'removed!']);\n",
       "            Plotly.purge(gd);\n",
       "            observer.disconnect();\n",
       "        }}\n",
       "}});\n",
       "\n",
       "// Listen for the removal of the full notebook cells\n",
       "var notebookContainer = gd.closest('#notebook-container');\n",
       "if (notebookContainer) {{\n",
       "    x.observe(notebookContainer, {childList: true});\n",
       "}}\n",
       "\n",
       "// Listen for the clearing of the current output cell\n",
       "var outputEl = gd.closest('.output');\n",
       "if (outputEl) {{\n",
       "    x.observe(outputEl, {childList: true});\n",
       "}}\n",
       "\n",
       "                        })                };                });            </script>        </div>"
      ]
     },
     "metadata": {},
     "output_type": "display_data"
    }
   ],
   "source": [
    "import scipy.stats as stats\n",
    "\n",
    "dimension_dict = {'educated': 'Uneducated',\n",
    "                  'urban': 'Rural',\n",
    "                  'calm': 'Temper',\n",
    "                  'friendly': 'Unfriendly',\n",
    "                  'open_to_experience': 'Closed-Minded',\n",
    "                  'conscientiousness': 'Careless'\n",
    "                  }\n",
    "\n",
    "df = pd.read_csv('../output/decision_extracted/eval/final.csv')\n",
    "df['dimension_cut'] = df['dimension'].str[:-2]\n",
    "df = df[df['nones'] == 0]\n",
    "\n",
    "\n",
    "group_stats = df.groupby(['model_name', 'dimension_cut'])['bias'].agg(['mean', 'std', 'count']).reset_index()\n",
    "\n",
    "group_stats['se'] = group_stats['std'] / np.sqrt(group_stats['count'])\n",
    "group_stats['t_score'] = group_stats['count'].apply(lambda n: stats.t.ppf(0.95, df=n-1) if n > 1 else 0)\n",
    "group_stats['margin_of_error'] = group_stats['t_score'] * group_stats['se']\n",
    "group_stats['lower'] = group_stats['mean'] - group_stats['margin_of_error']\n",
    "group_stats['upper'] = group_stats['mean'] + group_stats['margin_of_error']\n",
    "\n",
    "\n",
    "\n",
    "for model in group_stats.model_name.unique():\n",
    "    colors = ['#4A68D9', '#60B177', '#F09235', '#F9D949', '#377E7F', '#BFB5D7']\n",
    "\n",
    "    fig = go.Figure()\n",
    "    print(model)\n",
    "\n",
    "    subset = group_stats[group_stats['model_name'] == model]\n",
    "    k = 0\n",
    "    for i, row in subset.iterrows():\n",
    "        fig.add_trace(go.Scatter(\n",
    "            x=[dimension_dict[row['dimension_cut']]],\n",
    "            y=[row['mean']],\n",
    "            error_y=dict(type='data', array=[row['margin_of_error']], visible=True),\n",
    "            marker_color=colors[k],\n",
    "            showlegend=False  # Hide legend if you don't want duplicates\n",
    "        ))\n",
    "        k+=1\n",
    "\n",
    "    # Create color-coded tick labels\n",
    "    dimensions = subset['dimension_cut'].unique()\n",
    "    dimensions = [dimension_dict[x] for x in dimensions]\n",
    "    colored_labels = [f\"<span style='color:{colors[i]}'>{dimensions[i]}</span>\" for i in range(len(dimensions))]\n",
    "\n",
    "    fig.add_shape(\n",
    "        type=\"line\",\n",
    "        y0=0,\n",
    "        x0=dimensions[0],\n",
    "        x1=dimensions[-1],\n",
    "        y1=0,\n",
    "        line=dict(color=\"red\", width=2, dash=\"dash\")\n",
    "    )\n",
    "\n",
    "    # Update layout\n",
    "    fig.update_layout(\n",
    "        title=model,\n",
    "        width=600,\n",
    "        height=350,\n",
    "        font=dict(size=14, color='black'),\n",
    "        margin=dict(\n",
    "        l=50,   # left\n",
    "        r=30,   # right\n",
    "        t=70,   # top\n",
    "        b=50    # bottom\n",
    "    ),\n",
    "        xaxis=dict(\n",
    "            tickmode='array',\n",
    "            tickvals=dimensions,\n",
    "            ticktext=colored_labels\n",
    "        ),\n",
    "        yaxis=dict(\n",
    "        range=[-1.15, 1.15],\n",
    "        showgrid=True,  # Enable grid\n",
    "        gridcolor='lightgray',  # Subtle grid lines\n",
    "        zeroline=False,  # Show axis zero line\n",
    "        #zerolinecolor='black'\n",
    "    ),\n",
    "        bargap=0.3,\n",
    "    )\n",
    "    fig.show()\n",
    "    fig.write_image(f\"../img/decision_{model}.pdf\")\n"
   ]
  },
  {
   "cell_type": "code",
   "execution_count": 26,
   "id": "a3fd8c5f",
   "metadata": {},
   "outputs": [
    {
     "data": {
      "text/plain": [
       "array([ 1., -1.,  0., nan])"
      ]
     },
     "execution_count": 26,
     "metadata": {},
     "output_type": "execute_result"
    }
   ],
   "source": [
    "df.bias.unique()"
   ]
  },
  {
   "cell_type": "code",
   "execution_count": 29,
   "id": "074dd1f1",
   "metadata": {},
   "outputs": [
    {
     "data": {
      "text/plain": [
       "array([        nan, -0.83333333, -1.        ,  0.2       ,  0.83333333,\n",
       "        1.        , -0.2       ,  0.6       ,  0.        ,  0.23809524,\n",
       "       -0.6       , -0.71428571, -0.23809524,  0.41666667, -0.41666667,\n",
       "        0.71428571, -0.625     ,  0.55555556,  0.625     ,  0.58333333,\n",
       "        0.8       ,  0.85714286, -0.55555556, -0.58333333,  0.66666667,\n",
       "       -0.66666667])"
      ]
     },
     "execution_count": 29,
     "metadata": {},
     "output_type": "execute_result"
    }
   ],
   "source": [
    "df.bias.unique()"
   ]
  },
  {
   "cell_type": "code",
   "execution_count": null,
   "id": "3028239c",
   "metadata": {},
   "outputs": [],
   "source": []
  }
 ],
 "metadata": {
  "kernelspec": {
   "display_name": "cultural",
   "language": "python",
   "name": "python3"
  },
  "language_info": {
   "codemirror_mode": {
    "name": "ipython",
    "version": 3
   },
   "file_extension": ".py",
   "mimetype": "text/x-python",
   "name": "python",
   "nbconvert_exporter": "python",
   "pygments_lexer": "ipython3",
   "version": "3.10.15"
  }
 },
 "nbformat": 4,
 "nbformat_minor": 5
}
