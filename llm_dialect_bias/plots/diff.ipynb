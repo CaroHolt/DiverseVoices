{
 "cells": [
  {
   "cell_type": "code",
   "execution_count": null,
   "id": "8acf4bfd",
   "metadata": {},
   "outputs": [],
   "source": [
    "import pandas as pd\n",
    "\n",
    "df_robust = pd.read_csv(\"../output/implicit_robustness_0.25/eval/final.csv\")\n",
    "\n",
    "df_default = pd.read_csv(\"../output/implicit/eval/final.csv\")\n",
    "\n",
    "friendly = \"Friendly\"\n",
    "educated = \"Uneducated\"\n",
    "urban = \"Rural\"\n",
    "#religious = \"Religious\"\n",
    "calm = \"Temper\"\n",
    "open_to_experience = \"Closed-Minded\"\n",
    "conscientiousness = \"Careless\"\n",
    "\n",
    "df_robust[\"dimension\"] = df_robust[\"dimension\"].replace({\n",
    "    \"friendly\": friendly,\n",
    "    \"educated\": educated,\n",
    "    \"urban\": urban,\n",
    "    #\"religious\": religious,\n",
    "    \"calm\": calm,\n",
    "    \"open_to_experience\": open_to_experience,\n",
    "    \"conscientiousness\": conscientiousness\n",
    "})\n",
    "\n",
    "df_default[\"dimension\"] = df_default[\"dimension\"].replace({\n",
    "    \"friendly\": friendly,\n",
    "    \"educated\": educated,\n",
    "    \"urban\": urban,\n",
    "    #\"religious\": religious,\n",
    "    \"calm\": calm,\n",
    "    \"open_to_experience\": open_to_experience,\n",
    "    \"conscientiousness\": conscientiousness\n",
    "})\n",
    "\n",
    "\n"
   ]
  },
  {
   "cell_type": "code",
   "execution_count": 2,
   "id": "ce281732",
   "metadata": {},
   "outputs": [],
   "source": [
    "friendly = \"Friendly\"\n",
    "educated = \"Uneducated\"\n",
    "urban = \"Rural\"\n",
    "#religious = \"Religious\"\n",
    "calm = \"Temper\"\n",
    "open_to_experience = \"Closed-Minded\"\n",
    "conscientiousness = \"Careless\"\n",
    "\n",
    "df_robust[\"dimension\"] = df_robust[\"dimension\"].replace({\n",
    "    \"friendly\": friendly,\n",
    "    \"educated\": educated,\n",
    "    \"urban\": urban,\n",
    "    #\"religious\": religious,\n",
    "    \"calm\": calm,\n",
    "    \"open_to_experience\": open_to_experience,\n",
    "    \"conscientiousness\": conscientiousness\n",
    "})\n",
    "\n",
    "df_default[\"dimension\"] = df_default[\"dimension\"].replace({\n",
    "    \"friendly\": friendly,\n",
    "    \"educated\": educated,\n",
    "    \"urban\": urban,\n",
    "    #\"religious\": religious,\n",
    "    \"calm\": calm,\n",
    "    \"open_to_experience\": open_to_experience,\n",
    "    \"conscientiousness\": conscientiousness\n",
    "})\n",
    "\n"
   ]
  },
  {
   "cell_type": "code",
   "execution_count": 3,
   "id": "9c994296",
   "metadata": {},
   "outputs": [],
   "source": [
    "categories = df_robust[\"dimension\"].unique()\n",
    "models = df_robust[\"model_name\"].unique()\n",
    "\n",
    "def preproces_data(df, categories, models, name):\n",
    "    print(df)\n",
    "    data_raw = dict(df.groupby([\"dimension\", \"model_name\"])[\"bias\"].mean())\n",
    "    data = {}\n",
    "\n",
    "    for model in models:\n",
    "        data[model] = {}\n",
    "        data[model][name] = []\n",
    "        print(data_raw)\n",
    "        for category in categories:\n",
    "            data[model][name].append(abs(data_raw[category, model]))\n",
    "\n",
    "    return data"
   ]
  },
  {
   "cell_type": "code",
   "execution_count": 9,
   "id": "78fe0541",
   "metadata": {},
   "outputs": [
    {
     "name": "stdout",
     "output_type": "stream",
     "text": [
      "       Unnamed: 0      bias     model_name dimension  nones language\n",
      "0               0  0.000000  Llama-3.1 70B  Friendly      0      als\n",
      "1               1 -1.000000  Llama-3.1 70B  Friendly      0      als\n",
      "2               2 -0.833333  Llama-3.1 70B  Friendly      0      als\n",
      "3               3  0.000000  Llama-3.1 70B  Friendly      0      als\n",
      "4               4 -0.600000  Llama-3.1 70B  Friendly      0      als\n",
      "...           ...       ...            ...       ...    ...      ...\n",
      "16795       16795  0.000000         Aya 8B  Careless      0      stq\n",
      "16796       16796  0.000000         Aya 8B  Careless      0      stq\n",
      "16797       16797  0.000000         Aya 8B  Careless      0      stq\n",
      "16798       16798  0.000000         Aya 8B  Careless      0      stq\n",
      "16799       16799  0.000000         Aya 8B  Careless      0      stq\n",
      "\n",
      "[16800 rows x 6 columns]\n",
      "{('Careless', 'Aya 32b'): np.float64(0.4364965006175381), ('Careless', 'Aya 8B'): np.float64(0.3904295051353875), ('Careless', 'Gemma-3 12B'): np.float64(0.4950793650793651), ('Careless', 'Gemma-3 27B'): np.float64(0.46396396396396394), ('Careless', 'Llama-3.1 70B'): np.float64(0.5243553008595988), ('Careless', 'Llama-3.1 8B'): np.float64(0.452217784043442), ('Careless', 'Qwen2.5 72B'): np.float64(0.5181470869149952), ('Careless', 'Qwen2.5 7B'): np.float64(0.5060837971552258), ('Closed-Minded', 'Aya 32b'): np.float64(0.24621428571428575), ('Closed-Minded', 'Aya 8B'): np.float64(0.22439413265306124), ('Closed-Minded', 'Gemma-3 12B'): np.float64(0.3015622149242839), ('Closed-Minded', 'Gemma-3 27B'): np.float64(0.3713528138528139), ('Closed-Minded', 'Llama-3.1 70B'): np.float64(0.3994252873563218), ('Closed-Minded', 'Llama-3.1 8B'): np.float64(0.3246929327286471), ('Closed-Minded', 'Qwen2.5 72B'): np.float64(0.42320408163265305), ('Closed-Minded', 'Qwen2.5 7B'): np.float64(0.3274551363572135), ('Friendly', 'Aya 32b'): np.float64(-0.3304611816073134), ('Friendly', 'Aya 8B'): np.float64(-0.07340029761904761), ('Friendly', 'Gemma-3 12B'): np.float64(-0.2965762273901809), ('Friendly', 'Gemma-3 27B'): np.float64(-0.4459511077158136), ('Friendly', 'Llama-3.1 70B'): np.float64(-0.3086482921726475), ('Friendly', 'Llama-3.1 8B'): np.float64(-0.2970605972885608), ('Friendly', 'Qwen2.5 72B'): np.float64(-0.47954296661193213), ('Friendly', 'Qwen2.5 7B'): np.float64(-0.356100510980648), ('Rural', 'Aya 32b'): np.float64(0.16245183044315992), ('Rural', 'Aya 8B'): np.float64(0.12669671435103536), ('Rural', 'Gemma-3 12B'): np.float64(0.22951547966125224), ('Rural', 'Gemma-3 27B'): np.float64(0.2463696227283184), ('Rural', 'Llama-3.1 70B'): np.float64(0.08735380116959066), ('Rural', 'Llama-3.1 8B'): np.float64(0.06460200746965454), ('Rural', 'Qwen2.5 72B'): np.float64(0.29354277527629963), ('Rural', 'Qwen2.5 7B'): np.float64(0.16949620427881298), ('Temper', 'Aya 32b'): np.float64(0.32743894119252287), ('Temper', 'Aya 8B'): np.float64(0.25634418324291747), ('Temper', 'Gemma-3 12B'): np.float64(0.4669637188208617), ('Temper', 'Gemma-3 27B'): np.float64(0.46805555555555556), ('Temper', 'Llama-3.1 70B'): np.float64(0.48047068538398013), ('Temper', 'Llama-3.1 8B'): np.float64(0.32082661782661787), ('Temper', 'Qwen2.5 72B'): np.float64(0.4918815663801337), ('Temper', 'Qwen2.5 7B'): np.float64(0.45398608881754954), ('Uneducated', 'Aya 32b'): np.float64(0.39852216748768476), ('Uneducated', 'Aya 8B'): np.float64(0.256655328798186), ('Uneducated', 'Gemma-3 12B'): np.float64(0.4513918326974707), ('Uneducated', 'Gemma-3 27B'): np.float64(0.4454339311482169), ('Uneducated', 'Llama-3.1 70B'): np.float64(0.4743156544054748), ('Uneducated', 'Llama-3.1 8B'): np.float64(0.39390307999579527), ('Uneducated', 'Qwen2.5 72B'): np.float64(0.499047619047619), ('Uneducated', 'Qwen2.5 7B'): np.float64(0.4723639455782313)}\n",
      "{('Careless', 'Aya 32b'): np.float64(0.4364965006175381), ('Careless', 'Aya 8B'): np.float64(0.3904295051353875), ('Careless', 'Gemma-3 12B'): np.float64(0.4950793650793651), ('Careless', 'Gemma-3 27B'): np.float64(0.46396396396396394), ('Careless', 'Llama-3.1 70B'): np.float64(0.5243553008595988), ('Careless', 'Llama-3.1 8B'): np.float64(0.452217784043442), ('Careless', 'Qwen2.5 72B'): np.float64(0.5181470869149952), ('Careless', 'Qwen2.5 7B'): np.float64(0.5060837971552258), ('Closed-Minded', 'Aya 32b'): np.float64(0.24621428571428575), ('Closed-Minded', 'Aya 8B'): np.float64(0.22439413265306124), ('Closed-Minded', 'Gemma-3 12B'): np.float64(0.3015622149242839), ('Closed-Minded', 'Gemma-3 27B'): np.float64(0.3713528138528139), ('Closed-Minded', 'Llama-3.1 70B'): np.float64(0.3994252873563218), ('Closed-Minded', 'Llama-3.1 8B'): np.float64(0.3246929327286471), ('Closed-Minded', 'Qwen2.5 72B'): np.float64(0.42320408163265305), ('Closed-Minded', 'Qwen2.5 7B'): np.float64(0.3274551363572135), ('Friendly', 'Aya 32b'): np.float64(-0.3304611816073134), ('Friendly', 'Aya 8B'): np.float64(-0.07340029761904761), ('Friendly', 'Gemma-3 12B'): np.float64(-0.2965762273901809), ('Friendly', 'Gemma-3 27B'): np.float64(-0.4459511077158136), ('Friendly', 'Llama-3.1 70B'): np.float64(-0.3086482921726475), ('Friendly', 'Llama-3.1 8B'): np.float64(-0.2970605972885608), ('Friendly', 'Qwen2.5 72B'): np.float64(-0.47954296661193213), ('Friendly', 'Qwen2.5 7B'): np.float64(-0.356100510980648), ('Rural', 'Aya 32b'): np.float64(0.16245183044315992), ('Rural', 'Aya 8B'): np.float64(0.12669671435103536), ('Rural', 'Gemma-3 12B'): np.float64(0.22951547966125224), ('Rural', 'Gemma-3 27B'): np.float64(0.2463696227283184), ('Rural', 'Llama-3.1 70B'): np.float64(0.08735380116959066), ('Rural', 'Llama-3.1 8B'): np.float64(0.06460200746965454), ('Rural', 'Qwen2.5 72B'): np.float64(0.29354277527629963), ('Rural', 'Qwen2.5 7B'): np.float64(0.16949620427881298), ('Temper', 'Aya 32b'): np.float64(0.32743894119252287), ('Temper', 'Aya 8B'): np.float64(0.25634418324291747), ('Temper', 'Gemma-3 12B'): np.float64(0.4669637188208617), ('Temper', 'Gemma-3 27B'): np.float64(0.46805555555555556), ('Temper', 'Llama-3.1 70B'): np.float64(0.48047068538398013), ('Temper', 'Llama-3.1 8B'): np.float64(0.32082661782661787), ('Temper', 'Qwen2.5 72B'): np.float64(0.4918815663801337), ('Temper', 'Qwen2.5 7B'): np.float64(0.45398608881754954), ('Uneducated', 'Aya 32b'): np.float64(0.39852216748768476), ('Uneducated', 'Aya 8B'): np.float64(0.256655328798186), ('Uneducated', 'Gemma-3 12B'): np.float64(0.4513918326974707), ('Uneducated', 'Gemma-3 27B'): np.float64(0.4454339311482169), ('Uneducated', 'Llama-3.1 70B'): np.float64(0.4743156544054748), ('Uneducated', 'Llama-3.1 8B'): np.float64(0.39390307999579527), ('Uneducated', 'Qwen2.5 72B'): np.float64(0.499047619047619), ('Uneducated', 'Qwen2.5 7B'): np.float64(0.4723639455782313)}\n",
      "{('Careless', 'Aya 32b'): np.float64(0.4364965006175381), ('Careless', 'Aya 8B'): np.float64(0.3904295051353875), ('Careless', 'Gemma-3 12B'): np.float64(0.4950793650793651), ('Careless', 'Gemma-3 27B'): np.float64(0.46396396396396394), ('Careless', 'Llama-3.1 70B'): np.float64(0.5243553008595988), ('Careless', 'Llama-3.1 8B'): np.float64(0.452217784043442), ('Careless', 'Qwen2.5 72B'): np.float64(0.5181470869149952), ('Careless', 'Qwen2.5 7B'): np.float64(0.5060837971552258), ('Closed-Minded', 'Aya 32b'): np.float64(0.24621428571428575), ('Closed-Minded', 'Aya 8B'): np.float64(0.22439413265306124), ('Closed-Minded', 'Gemma-3 12B'): np.float64(0.3015622149242839), ('Closed-Minded', 'Gemma-3 27B'): np.float64(0.3713528138528139), ('Closed-Minded', 'Llama-3.1 70B'): np.float64(0.3994252873563218), ('Closed-Minded', 'Llama-3.1 8B'): np.float64(0.3246929327286471), ('Closed-Minded', 'Qwen2.5 72B'): np.float64(0.42320408163265305), ('Closed-Minded', 'Qwen2.5 7B'): np.float64(0.3274551363572135), ('Friendly', 'Aya 32b'): np.float64(-0.3304611816073134), ('Friendly', 'Aya 8B'): np.float64(-0.07340029761904761), ('Friendly', 'Gemma-3 12B'): np.float64(-0.2965762273901809), ('Friendly', 'Gemma-3 27B'): np.float64(-0.4459511077158136), ('Friendly', 'Llama-3.1 70B'): np.float64(-0.3086482921726475), ('Friendly', 'Llama-3.1 8B'): np.float64(-0.2970605972885608), ('Friendly', 'Qwen2.5 72B'): np.float64(-0.47954296661193213), ('Friendly', 'Qwen2.5 7B'): np.float64(-0.356100510980648), ('Rural', 'Aya 32b'): np.float64(0.16245183044315992), ('Rural', 'Aya 8B'): np.float64(0.12669671435103536), ('Rural', 'Gemma-3 12B'): np.float64(0.22951547966125224), ('Rural', 'Gemma-3 27B'): np.float64(0.2463696227283184), ('Rural', 'Llama-3.1 70B'): np.float64(0.08735380116959066), ('Rural', 'Llama-3.1 8B'): np.float64(0.06460200746965454), ('Rural', 'Qwen2.5 72B'): np.float64(0.29354277527629963), ('Rural', 'Qwen2.5 7B'): np.float64(0.16949620427881298), ('Temper', 'Aya 32b'): np.float64(0.32743894119252287), ('Temper', 'Aya 8B'): np.float64(0.25634418324291747), ('Temper', 'Gemma-3 12B'): np.float64(0.4669637188208617), ('Temper', 'Gemma-3 27B'): np.float64(0.46805555555555556), ('Temper', 'Llama-3.1 70B'): np.float64(0.48047068538398013), ('Temper', 'Llama-3.1 8B'): np.float64(0.32082661782661787), ('Temper', 'Qwen2.5 72B'): np.float64(0.4918815663801337), ('Temper', 'Qwen2.5 7B'): np.float64(0.45398608881754954), ('Uneducated', 'Aya 32b'): np.float64(0.39852216748768476), ('Uneducated', 'Aya 8B'): np.float64(0.256655328798186), ('Uneducated', 'Gemma-3 12B'): np.float64(0.4513918326974707), ('Uneducated', 'Gemma-3 27B'): np.float64(0.4454339311482169), ('Uneducated', 'Llama-3.1 70B'): np.float64(0.4743156544054748), ('Uneducated', 'Llama-3.1 8B'): np.float64(0.39390307999579527), ('Uneducated', 'Qwen2.5 72B'): np.float64(0.499047619047619), ('Uneducated', 'Qwen2.5 7B'): np.float64(0.4723639455782313)}\n",
      "{('Careless', 'Aya 32b'): np.float64(0.4364965006175381), ('Careless', 'Aya 8B'): np.float64(0.3904295051353875), ('Careless', 'Gemma-3 12B'): np.float64(0.4950793650793651), ('Careless', 'Gemma-3 27B'): np.float64(0.46396396396396394), ('Careless', 'Llama-3.1 70B'): np.float64(0.5243553008595988), ('Careless', 'Llama-3.1 8B'): np.float64(0.452217784043442), ('Careless', 'Qwen2.5 72B'): np.float64(0.5181470869149952), ('Careless', 'Qwen2.5 7B'): np.float64(0.5060837971552258), ('Closed-Minded', 'Aya 32b'): np.float64(0.24621428571428575), ('Closed-Minded', 'Aya 8B'): np.float64(0.22439413265306124), ('Closed-Minded', 'Gemma-3 12B'): np.float64(0.3015622149242839), ('Closed-Minded', 'Gemma-3 27B'): np.float64(0.3713528138528139), ('Closed-Minded', 'Llama-3.1 70B'): np.float64(0.3994252873563218), ('Closed-Minded', 'Llama-3.1 8B'): np.float64(0.3246929327286471), ('Closed-Minded', 'Qwen2.5 72B'): np.float64(0.42320408163265305), ('Closed-Minded', 'Qwen2.5 7B'): np.float64(0.3274551363572135), ('Friendly', 'Aya 32b'): np.float64(-0.3304611816073134), ('Friendly', 'Aya 8B'): np.float64(-0.07340029761904761), ('Friendly', 'Gemma-3 12B'): np.float64(-0.2965762273901809), ('Friendly', 'Gemma-3 27B'): np.float64(-0.4459511077158136), ('Friendly', 'Llama-3.1 70B'): np.float64(-0.3086482921726475), ('Friendly', 'Llama-3.1 8B'): np.float64(-0.2970605972885608), ('Friendly', 'Qwen2.5 72B'): np.float64(-0.47954296661193213), ('Friendly', 'Qwen2.5 7B'): np.float64(-0.356100510980648), ('Rural', 'Aya 32b'): np.float64(0.16245183044315992), ('Rural', 'Aya 8B'): np.float64(0.12669671435103536), ('Rural', 'Gemma-3 12B'): np.float64(0.22951547966125224), ('Rural', 'Gemma-3 27B'): np.float64(0.2463696227283184), ('Rural', 'Llama-3.1 70B'): np.float64(0.08735380116959066), ('Rural', 'Llama-3.1 8B'): np.float64(0.06460200746965454), ('Rural', 'Qwen2.5 72B'): np.float64(0.29354277527629963), ('Rural', 'Qwen2.5 7B'): np.float64(0.16949620427881298), ('Temper', 'Aya 32b'): np.float64(0.32743894119252287), ('Temper', 'Aya 8B'): np.float64(0.25634418324291747), ('Temper', 'Gemma-3 12B'): np.float64(0.4669637188208617), ('Temper', 'Gemma-3 27B'): np.float64(0.46805555555555556), ('Temper', 'Llama-3.1 70B'): np.float64(0.48047068538398013), ('Temper', 'Llama-3.1 8B'): np.float64(0.32082661782661787), ('Temper', 'Qwen2.5 72B'): np.float64(0.4918815663801337), ('Temper', 'Qwen2.5 7B'): np.float64(0.45398608881754954), ('Uneducated', 'Aya 32b'): np.float64(0.39852216748768476), ('Uneducated', 'Aya 8B'): np.float64(0.256655328798186), ('Uneducated', 'Gemma-3 12B'): np.float64(0.4513918326974707), ('Uneducated', 'Gemma-3 27B'): np.float64(0.4454339311482169), ('Uneducated', 'Llama-3.1 70B'): np.float64(0.4743156544054748), ('Uneducated', 'Llama-3.1 8B'): np.float64(0.39390307999579527), ('Uneducated', 'Qwen2.5 72B'): np.float64(0.499047619047619), ('Uneducated', 'Qwen2.5 7B'): np.float64(0.4723639455782313)}\n",
      "{('Careless', 'Aya 32b'): np.float64(0.4364965006175381), ('Careless', 'Aya 8B'): np.float64(0.3904295051353875), ('Careless', 'Gemma-3 12B'): np.float64(0.4950793650793651), ('Careless', 'Gemma-3 27B'): np.float64(0.46396396396396394), ('Careless', 'Llama-3.1 70B'): np.float64(0.5243553008595988), ('Careless', 'Llama-3.1 8B'): np.float64(0.452217784043442), ('Careless', 'Qwen2.5 72B'): np.float64(0.5181470869149952), ('Careless', 'Qwen2.5 7B'): np.float64(0.5060837971552258), ('Closed-Minded', 'Aya 32b'): np.float64(0.24621428571428575), ('Closed-Minded', 'Aya 8B'): np.float64(0.22439413265306124), ('Closed-Minded', 'Gemma-3 12B'): np.float64(0.3015622149242839), ('Closed-Minded', 'Gemma-3 27B'): np.float64(0.3713528138528139), ('Closed-Minded', 'Llama-3.1 70B'): np.float64(0.3994252873563218), ('Closed-Minded', 'Llama-3.1 8B'): np.float64(0.3246929327286471), ('Closed-Minded', 'Qwen2.5 72B'): np.float64(0.42320408163265305), ('Closed-Minded', 'Qwen2.5 7B'): np.float64(0.3274551363572135), ('Friendly', 'Aya 32b'): np.float64(-0.3304611816073134), ('Friendly', 'Aya 8B'): np.float64(-0.07340029761904761), ('Friendly', 'Gemma-3 12B'): np.float64(-0.2965762273901809), ('Friendly', 'Gemma-3 27B'): np.float64(-0.4459511077158136), ('Friendly', 'Llama-3.1 70B'): np.float64(-0.3086482921726475), ('Friendly', 'Llama-3.1 8B'): np.float64(-0.2970605972885608), ('Friendly', 'Qwen2.5 72B'): np.float64(-0.47954296661193213), ('Friendly', 'Qwen2.5 7B'): np.float64(-0.356100510980648), ('Rural', 'Aya 32b'): np.float64(0.16245183044315992), ('Rural', 'Aya 8B'): np.float64(0.12669671435103536), ('Rural', 'Gemma-3 12B'): np.float64(0.22951547966125224), ('Rural', 'Gemma-3 27B'): np.float64(0.2463696227283184), ('Rural', 'Llama-3.1 70B'): np.float64(0.08735380116959066), ('Rural', 'Llama-3.1 8B'): np.float64(0.06460200746965454), ('Rural', 'Qwen2.5 72B'): np.float64(0.29354277527629963), ('Rural', 'Qwen2.5 7B'): np.float64(0.16949620427881298), ('Temper', 'Aya 32b'): np.float64(0.32743894119252287), ('Temper', 'Aya 8B'): np.float64(0.25634418324291747), ('Temper', 'Gemma-3 12B'): np.float64(0.4669637188208617), ('Temper', 'Gemma-3 27B'): np.float64(0.46805555555555556), ('Temper', 'Llama-3.1 70B'): np.float64(0.48047068538398013), ('Temper', 'Llama-3.1 8B'): np.float64(0.32082661782661787), ('Temper', 'Qwen2.5 72B'): np.float64(0.4918815663801337), ('Temper', 'Qwen2.5 7B'): np.float64(0.45398608881754954), ('Uneducated', 'Aya 32b'): np.float64(0.39852216748768476), ('Uneducated', 'Aya 8B'): np.float64(0.256655328798186), ('Uneducated', 'Gemma-3 12B'): np.float64(0.4513918326974707), ('Uneducated', 'Gemma-3 27B'): np.float64(0.4454339311482169), ('Uneducated', 'Llama-3.1 70B'): np.float64(0.4743156544054748), ('Uneducated', 'Llama-3.1 8B'): np.float64(0.39390307999579527), ('Uneducated', 'Qwen2.5 72B'): np.float64(0.499047619047619), ('Uneducated', 'Qwen2.5 7B'): np.float64(0.4723639455782313)}\n",
      "{('Careless', 'Aya 32b'): np.float64(0.4364965006175381), ('Careless', 'Aya 8B'): np.float64(0.3904295051353875), ('Careless', 'Gemma-3 12B'): np.float64(0.4950793650793651), ('Careless', 'Gemma-3 27B'): np.float64(0.46396396396396394), ('Careless', 'Llama-3.1 70B'): np.float64(0.5243553008595988), ('Careless', 'Llama-3.1 8B'): np.float64(0.452217784043442), ('Careless', 'Qwen2.5 72B'): np.float64(0.5181470869149952), ('Careless', 'Qwen2.5 7B'): np.float64(0.5060837971552258), ('Closed-Minded', 'Aya 32b'): np.float64(0.24621428571428575), ('Closed-Minded', 'Aya 8B'): np.float64(0.22439413265306124), ('Closed-Minded', 'Gemma-3 12B'): np.float64(0.3015622149242839), ('Closed-Minded', 'Gemma-3 27B'): np.float64(0.3713528138528139), ('Closed-Minded', 'Llama-3.1 70B'): np.float64(0.3994252873563218), ('Closed-Minded', 'Llama-3.1 8B'): np.float64(0.3246929327286471), ('Closed-Minded', 'Qwen2.5 72B'): np.float64(0.42320408163265305), ('Closed-Minded', 'Qwen2.5 7B'): np.float64(0.3274551363572135), ('Friendly', 'Aya 32b'): np.float64(-0.3304611816073134), ('Friendly', 'Aya 8B'): np.float64(-0.07340029761904761), ('Friendly', 'Gemma-3 12B'): np.float64(-0.2965762273901809), ('Friendly', 'Gemma-3 27B'): np.float64(-0.4459511077158136), ('Friendly', 'Llama-3.1 70B'): np.float64(-0.3086482921726475), ('Friendly', 'Llama-3.1 8B'): np.float64(-0.2970605972885608), ('Friendly', 'Qwen2.5 72B'): np.float64(-0.47954296661193213), ('Friendly', 'Qwen2.5 7B'): np.float64(-0.356100510980648), ('Rural', 'Aya 32b'): np.float64(0.16245183044315992), ('Rural', 'Aya 8B'): np.float64(0.12669671435103536), ('Rural', 'Gemma-3 12B'): np.float64(0.22951547966125224), ('Rural', 'Gemma-3 27B'): np.float64(0.2463696227283184), ('Rural', 'Llama-3.1 70B'): np.float64(0.08735380116959066), ('Rural', 'Llama-3.1 8B'): np.float64(0.06460200746965454), ('Rural', 'Qwen2.5 72B'): np.float64(0.29354277527629963), ('Rural', 'Qwen2.5 7B'): np.float64(0.16949620427881298), ('Temper', 'Aya 32b'): np.float64(0.32743894119252287), ('Temper', 'Aya 8B'): np.float64(0.25634418324291747), ('Temper', 'Gemma-3 12B'): np.float64(0.4669637188208617), ('Temper', 'Gemma-3 27B'): np.float64(0.46805555555555556), ('Temper', 'Llama-3.1 70B'): np.float64(0.48047068538398013), ('Temper', 'Llama-3.1 8B'): np.float64(0.32082661782661787), ('Temper', 'Qwen2.5 72B'): np.float64(0.4918815663801337), ('Temper', 'Qwen2.5 7B'): np.float64(0.45398608881754954), ('Uneducated', 'Aya 32b'): np.float64(0.39852216748768476), ('Uneducated', 'Aya 8B'): np.float64(0.256655328798186), ('Uneducated', 'Gemma-3 12B'): np.float64(0.4513918326974707), ('Uneducated', 'Gemma-3 27B'): np.float64(0.4454339311482169), ('Uneducated', 'Llama-3.1 70B'): np.float64(0.4743156544054748), ('Uneducated', 'Llama-3.1 8B'): np.float64(0.39390307999579527), ('Uneducated', 'Qwen2.5 72B'): np.float64(0.499047619047619), ('Uneducated', 'Qwen2.5 7B'): np.float64(0.4723639455782313)}\n",
      "{('Careless', 'Aya 32b'): np.float64(0.4364965006175381), ('Careless', 'Aya 8B'): np.float64(0.3904295051353875), ('Careless', 'Gemma-3 12B'): np.float64(0.4950793650793651), ('Careless', 'Gemma-3 27B'): np.float64(0.46396396396396394), ('Careless', 'Llama-3.1 70B'): np.float64(0.5243553008595988), ('Careless', 'Llama-3.1 8B'): np.float64(0.452217784043442), ('Careless', 'Qwen2.5 72B'): np.float64(0.5181470869149952), ('Careless', 'Qwen2.5 7B'): np.float64(0.5060837971552258), ('Closed-Minded', 'Aya 32b'): np.float64(0.24621428571428575), ('Closed-Minded', 'Aya 8B'): np.float64(0.22439413265306124), ('Closed-Minded', 'Gemma-3 12B'): np.float64(0.3015622149242839), ('Closed-Minded', 'Gemma-3 27B'): np.float64(0.3713528138528139), ('Closed-Minded', 'Llama-3.1 70B'): np.float64(0.3994252873563218), ('Closed-Minded', 'Llama-3.1 8B'): np.float64(0.3246929327286471), ('Closed-Minded', 'Qwen2.5 72B'): np.float64(0.42320408163265305), ('Closed-Minded', 'Qwen2.5 7B'): np.float64(0.3274551363572135), ('Friendly', 'Aya 32b'): np.float64(-0.3304611816073134), ('Friendly', 'Aya 8B'): np.float64(-0.07340029761904761), ('Friendly', 'Gemma-3 12B'): np.float64(-0.2965762273901809), ('Friendly', 'Gemma-3 27B'): np.float64(-0.4459511077158136), ('Friendly', 'Llama-3.1 70B'): np.float64(-0.3086482921726475), ('Friendly', 'Llama-3.1 8B'): np.float64(-0.2970605972885608), ('Friendly', 'Qwen2.5 72B'): np.float64(-0.47954296661193213), ('Friendly', 'Qwen2.5 7B'): np.float64(-0.356100510980648), ('Rural', 'Aya 32b'): np.float64(0.16245183044315992), ('Rural', 'Aya 8B'): np.float64(0.12669671435103536), ('Rural', 'Gemma-3 12B'): np.float64(0.22951547966125224), ('Rural', 'Gemma-3 27B'): np.float64(0.2463696227283184), ('Rural', 'Llama-3.1 70B'): np.float64(0.08735380116959066), ('Rural', 'Llama-3.1 8B'): np.float64(0.06460200746965454), ('Rural', 'Qwen2.5 72B'): np.float64(0.29354277527629963), ('Rural', 'Qwen2.5 7B'): np.float64(0.16949620427881298), ('Temper', 'Aya 32b'): np.float64(0.32743894119252287), ('Temper', 'Aya 8B'): np.float64(0.25634418324291747), ('Temper', 'Gemma-3 12B'): np.float64(0.4669637188208617), ('Temper', 'Gemma-3 27B'): np.float64(0.46805555555555556), ('Temper', 'Llama-3.1 70B'): np.float64(0.48047068538398013), ('Temper', 'Llama-3.1 8B'): np.float64(0.32082661782661787), ('Temper', 'Qwen2.5 72B'): np.float64(0.4918815663801337), ('Temper', 'Qwen2.5 7B'): np.float64(0.45398608881754954), ('Uneducated', 'Aya 32b'): np.float64(0.39852216748768476), ('Uneducated', 'Aya 8B'): np.float64(0.256655328798186), ('Uneducated', 'Gemma-3 12B'): np.float64(0.4513918326974707), ('Uneducated', 'Gemma-3 27B'): np.float64(0.4454339311482169), ('Uneducated', 'Llama-3.1 70B'): np.float64(0.4743156544054748), ('Uneducated', 'Llama-3.1 8B'): np.float64(0.39390307999579527), ('Uneducated', 'Qwen2.5 72B'): np.float64(0.499047619047619), ('Uneducated', 'Qwen2.5 7B'): np.float64(0.4723639455782313)}\n",
      "{('Careless', 'Aya 32b'): np.float64(0.4364965006175381), ('Careless', 'Aya 8B'): np.float64(0.3904295051353875), ('Careless', 'Gemma-3 12B'): np.float64(0.4950793650793651), ('Careless', 'Gemma-3 27B'): np.float64(0.46396396396396394), ('Careless', 'Llama-3.1 70B'): np.float64(0.5243553008595988), ('Careless', 'Llama-3.1 8B'): np.float64(0.452217784043442), ('Careless', 'Qwen2.5 72B'): np.float64(0.5181470869149952), ('Careless', 'Qwen2.5 7B'): np.float64(0.5060837971552258), ('Closed-Minded', 'Aya 32b'): np.float64(0.24621428571428575), ('Closed-Minded', 'Aya 8B'): np.float64(0.22439413265306124), ('Closed-Minded', 'Gemma-3 12B'): np.float64(0.3015622149242839), ('Closed-Minded', 'Gemma-3 27B'): np.float64(0.3713528138528139), ('Closed-Minded', 'Llama-3.1 70B'): np.float64(0.3994252873563218), ('Closed-Minded', 'Llama-3.1 8B'): np.float64(0.3246929327286471), ('Closed-Minded', 'Qwen2.5 72B'): np.float64(0.42320408163265305), ('Closed-Minded', 'Qwen2.5 7B'): np.float64(0.3274551363572135), ('Friendly', 'Aya 32b'): np.float64(-0.3304611816073134), ('Friendly', 'Aya 8B'): np.float64(-0.07340029761904761), ('Friendly', 'Gemma-3 12B'): np.float64(-0.2965762273901809), ('Friendly', 'Gemma-3 27B'): np.float64(-0.4459511077158136), ('Friendly', 'Llama-3.1 70B'): np.float64(-0.3086482921726475), ('Friendly', 'Llama-3.1 8B'): np.float64(-0.2970605972885608), ('Friendly', 'Qwen2.5 72B'): np.float64(-0.47954296661193213), ('Friendly', 'Qwen2.5 7B'): np.float64(-0.356100510980648), ('Rural', 'Aya 32b'): np.float64(0.16245183044315992), ('Rural', 'Aya 8B'): np.float64(0.12669671435103536), ('Rural', 'Gemma-3 12B'): np.float64(0.22951547966125224), ('Rural', 'Gemma-3 27B'): np.float64(0.2463696227283184), ('Rural', 'Llama-3.1 70B'): np.float64(0.08735380116959066), ('Rural', 'Llama-3.1 8B'): np.float64(0.06460200746965454), ('Rural', 'Qwen2.5 72B'): np.float64(0.29354277527629963), ('Rural', 'Qwen2.5 7B'): np.float64(0.16949620427881298), ('Temper', 'Aya 32b'): np.float64(0.32743894119252287), ('Temper', 'Aya 8B'): np.float64(0.25634418324291747), ('Temper', 'Gemma-3 12B'): np.float64(0.4669637188208617), ('Temper', 'Gemma-3 27B'): np.float64(0.46805555555555556), ('Temper', 'Llama-3.1 70B'): np.float64(0.48047068538398013), ('Temper', 'Llama-3.1 8B'): np.float64(0.32082661782661787), ('Temper', 'Qwen2.5 72B'): np.float64(0.4918815663801337), ('Temper', 'Qwen2.5 7B'): np.float64(0.45398608881754954), ('Uneducated', 'Aya 32b'): np.float64(0.39852216748768476), ('Uneducated', 'Aya 8B'): np.float64(0.256655328798186), ('Uneducated', 'Gemma-3 12B'): np.float64(0.4513918326974707), ('Uneducated', 'Gemma-3 27B'): np.float64(0.4454339311482169), ('Uneducated', 'Llama-3.1 70B'): np.float64(0.4743156544054748), ('Uneducated', 'Llama-3.1 8B'): np.float64(0.39390307999579527), ('Uneducated', 'Qwen2.5 72B'): np.float64(0.499047619047619), ('Uneducated', 'Qwen2.5 7B'): np.float64(0.4723639455782313)}\n",
      "       Unnamed: 0      bias     model_name dimension  nones language\n",
      "0               0  0.000000  Llama-3.1 70B  Friendly      0      als\n",
      "1               1  0.833333  Llama-3.1 70B  Friendly      0      als\n",
      "2               2  0.238095  Llama-3.1 70B  Friendly      0      als\n",
      "3               3 -0.625000  Llama-3.1 70B  Friendly      0      als\n",
      "4               4  0.833333  Llama-3.1 70B  Friendly      0      als\n",
      "...           ...       ...            ...       ...    ...      ...\n",
      "16795       16795  1.000000         Aya 8B  Careless      0      stq\n",
      "16796       16796       NaN         Aya 8B  Careless      1      stq\n",
      "16797       16797       NaN         Aya 8B  Careless      1      stq\n",
      "16798       16798  1.000000         Aya 8B  Careless      0      stq\n",
      "16799       16799 -0.833333         Aya 8B  Careless      0      stq\n",
      "\n",
      "[16800 rows x 6 columns]\n",
      "{('Careless', 'Aya 32b'): np.float64(0.6356972789115646), ('Careless', 'Aya 8B'): np.float64(0.4596194301013578), ('Careless', 'Gemma-3 12B'): np.float64(0.7265534547152195), ('Careless', 'Gemma-3 27B'): np.float64(0.924541331684189), ('Careless', 'Llama-3.1 70B'): np.float64(0.8590756704980844), ('Careless', 'Llama-3.1 8B'): np.float64(0.5748782899741367), ('Careless', 'Qwen2.5 72B'): np.float64(0.9813333333333334), ('Careless', 'Qwen2.5 7B'): np.float64(0.8433428279287175), ('Closed-Minded', 'Aya 32b'): np.float64(0.31958843537414966), ('Closed-Minded', 'Aya 8B'): np.float64(0.4204289349327518), ('Closed-Minded', 'Gemma-3 12B'): np.float64(0.4059569160997733), ('Closed-Minded', 'Gemma-3 27B'): np.float64(0.33645382395382395), ('Closed-Minded', 'Llama-3.1 70B'): np.float64(0.650546485260771), ('Closed-Minded', 'Llama-3.1 8B'): np.float64(0.4085064935064936), ('Closed-Minded', 'Qwen2.5 72B'): np.float64(0.7119945877109201), ('Closed-Minded', 'Qwen2.5 7B'): np.float64(0.4911535510478109), ('Friendly', 'Aya 32b'): np.float64(-0.2301485260770975), ('Friendly', 'Aya 8B'): np.float64(-0.14458941017981608), ('Friendly', 'Gemma-3 12B'): np.float64(0.04570802005012532), ('Friendly', 'Gemma-3 27B'): np.float64(-0.28685428849902533), ('Friendly', 'Llama-3.1 70B'): np.float64(-0.05341246635106283), ('Friendly', 'Llama-3.1 8B'): np.float64(-0.29323940585408476), ('Friendly', 'Qwen2.5 72B'): np.float64(-0.6674102878973939), ('Friendly', 'Qwen2.5 7B'): np.float64(-0.5724297126257911), ('Rural', 'Aya 32b'): np.float64(0.44979641131815046), ('Rural', 'Aya 8B'): np.float64(0.49597756691852635), ('Rural', 'Gemma-3 12B'): np.float64(0.49164462081128746), ('Rural', 'Gemma-3 27B'): np.float64(0.7912534643487025), ('Rural', 'Llama-3.1 70B'): np.float64(0.5373459316869059), ('Rural', 'Llama-3.1 8B'): np.float64(0.3842156862745098), ('Rural', 'Qwen2.5 72B'): np.float64(0.8574285714285715), ('Rural', 'Qwen2.5 7B'): np.float64(0.38145043731778433), ('Temper', 'Aya 32b'): np.float64(0.512405653904213), ('Temper', 'Aya 8B'): np.float64(0.3002020202020202), ('Temper', 'Gemma-3 12B'): np.float64(0.5398189839450585), ('Temper', 'Gemma-3 27B'): np.float64(0.8296535517280198), ('Temper', 'Llama-3.1 70B'): np.float64(0.6466881661406157), ('Temper', 'Llama-3.1 8B'): np.float64(0.39058259476240553), ('Temper', 'Qwen2.5 72B'): np.float64(0.8940305635148041), ('Temper', 'Qwen2.5 7B'): np.float64(0.5921570402558997), ('Uneducated', 'Aya 32b'): np.float64(0.8075218075218076), ('Uneducated', 'Aya 8B'): np.float64(0.6064539007092199), ('Uneducated', 'Gemma-3 12B'): np.float64(0.7719376185848489), ('Uneducated', 'Gemma-3 27B'): np.float64(0.9498795627200296), ('Uneducated', 'Llama-3.1 70B'): np.float64(0.8972007075922739), ('Uneducated', 'Llama-3.1 8B'): np.float64(0.7387969094922737), ('Uneducated', 'Qwen2.5 72B'): np.float64(0.9921768707482993), ('Uneducated', 'Qwen2.5 7B'): np.float64(0.821023619914405)}\n",
      "{('Careless', 'Aya 32b'): np.float64(0.6356972789115646), ('Careless', 'Aya 8B'): np.float64(0.4596194301013578), ('Careless', 'Gemma-3 12B'): np.float64(0.7265534547152195), ('Careless', 'Gemma-3 27B'): np.float64(0.924541331684189), ('Careless', 'Llama-3.1 70B'): np.float64(0.8590756704980844), ('Careless', 'Llama-3.1 8B'): np.float64(0.5748782899741367), ('Careless', 'Qwen2.5 72B'): np.float64(0.9813333333333334), ('Careless', 'Qwen2.5 7B'): np.float64(0.8433428279287175), ('Closed-Minded', 'Aya 32b'): np.float64(0.31958843537414966), ('Closed-Minded', 'Aya 8B'): np.float64(0.4204289349327518), ('Closed-Minded', 'Gemma-3 12B'): np.float64(0.4059569160997733), ('Closed-Minded', 'Gemma-3 27B'): np.float64(0.33645382395382395), ('Closed-Minded', 'Llama-3.1 70B'): np.float64(0.650546485260771), ('Closed-Minded', 'Llama-3.1 8B'): np.float64(0.4085064935064936), ('Closed-Minded', 'Qwen2.5 72B'): np.float64(0.7119945877109201), ('Closed-Minded', 'Qwen2.5 7B'): np.float64(0.4911535510478109), ('Friendly', 'Aya 32b'): np.float64(-0.2301485260770975), ('Friendly', 'Aya 8B'): np.float64(-0.14458941017981608), ('Friendly', 'Gemma-3 12B'): np.float64(0.04570802005012532), ('Friendly', 'Gemma-3 27B'): np.float64(-0.28685428849902533), ('Friendly', 'Llama-3.1 70B'): np.float64(-0.05341246635106283), ('Friendly', 'Llama-3.1 8B'): np.float64(-0.29323940585408476), ('Friendly', 'Qwen2.5 72B'): np.float64(-0.6674102878973939), ('Friendly', 'Qwen2.5 7B'): np.float64(-0.5724297126257911), ('Rural', 'Aya 32b'): np.float64(0.44979641131815046), ('Rural', 'Aya 8B'): np.float64(0.49597756691852635), ('Rural', 'Gemma-3 12B'): np.float64(0.49164462081128746), ('Rural', 'Gemma-3 27B'): np.float64(0.7912534643487025), ('Rural', 'Llama-3.1 70B'): np.float64(0.5373459316869059), ('Rural', 'Llama-3.1 8B'): np.float64(0.3842156862745098), ('Rural', 'Qwen2.5 72B'): np.float64(0.8574285714285715), ('Rural', 'Qwen2.5 7B'): np.float64(0.38145043731778433), ('Temper', 'Aya 32b'): np.float64(0.512405653904213), ('Temper', 'Aya 8B'): np.float64(0.3002020202020202), ('Temper', 'Gemma-3 12B'): np.float64(0.5398189839450585), ('Temper', 'Gemma-3 27B'): np.float64(0.8296535517280198), ('Temper', 'Llama-3.1 70B'): np.float64(0.6466881661406157), ('Temper', 'Llama-3.1 8B'): np.float64(0.39058259476240553), ('Temper', 'Qwen2.5 72B'): np.float64(0.8940305635148041), ('Temper', 'Qwen2.5 7B'): np.float64(0.5921570402558997), ('Uneducated', 'Aya 32b'): np.float64(0.8075218075218076), ('Uneducated', 'Aya 8B'): np.float64(0.6064539007092199), ('Uneducated', 'Gemma-3 12B'): np.float64(0.7719376185848489), ('Uneducated', 'Gemma-3 27B'): np.float64(0.9498795627200296), ('Uneducated', 'Llama-3.1 70B'): np.float64(0.8972007075922739), ('Uneducated', 'Llama-3.1 8B'): np.float64(0.7387969094922737), ('Uneducated', 'Qwen2.5 72B'): np.float64(0.9921768707482993), ('Uneducated', 'Qwen2.5 7B'): np.float64(0.821023619914405)}\n",
      "{('Careless', 'Aya 32b'): np.float64(0.6356972789115646), ('Careless', 'Aya 8B'): np.float64(0.4596194301013578), ('Careless', 'Gemma-3 12B'): np.float64(0.7265534547152195), ('Careless', 'Gemma-3 27B'): np.float64(0.924541331684189), ('Careless', 'Llama-3.1 70B'): np.float64(0.8590756704980844), ('Careless', 'Llama-3.1 8B'): np.float64(0.5748782899741367), ('Careless', 'Qwen2.5 72B'): np.float64(0.9813333333333334), ('Careless', 'Qwen2.5 7B'): np.float64(0.8433428279287175), ('Closed-Minded', 'Aya 32b'): np.float64(0.31958843537414966), ('Closed-Minded', 'Aya 8B'): np.float64(0.4204289349327518), ('Closed-Minded', 'Gemma-3 12B'): np.float64(0.4059569160997733), ('Closed-Minded', 'Gemma-3 27B'): np.float64(0.33645382395382395), ('Closed-Minded', 'Llama-3.1 70B'): np.float64(0.650546485260771), ('Closed-Minded', 'Llama-3.1 8B'): np.float64(0.4085064935064936), ('Closed-Minded', 'Qwen2.5 72B'): np.float64(0.7119945877109201), ('Closed-Minded', 'Qwen2.5 7B'): np.float64(0.4911535510478109), ('Friendly', 'Aya 32b'): np.float64(-0.2301485260770975), ('Friendly', 'Aya 8B'): np.float64(-0.14458941017981608), ('Friendly', 'Gemma-3 12B'): np.float64(0.04570802005012532), ('Friendly', 'Gemma-3 27B'): np.float64(-0.28685428849902533), ('Friendly', 'Llama-3.1 70B'): np.float64(-0.05341246635106283), ('Friendly', 'Llama-3.1 8B'): np.float64(-0.29323940585408476), ('Friendly', 'Qwen2.5 72B'): np.float64(-0.6674102878973939), ('Friendly', 'Qwen2.5 7B'): np.float64(-0.5724297126257911), ('Rural', 'Aya 32b'): np.float64(0.44979641131815046), ('Rural', 'Aya 8B'): np.float64(0.49597756691852635), ('Rural', 'Gemma-3 12B'): np.float64(0.49164462081128746), ('Rural', 'Gemma-3 27B'): np.float64(0.7912534643487025), ('Rural', 'Llama-3.1 70B'): np.float64(0.5373459316869059), ('Rural', 'Llama-3.1 8B'): np.float64(0.3842156862745098), ('Rural', 'Qwen2.5 72B'): np.float64(0.8574285714285715), ('Rural', 'Qwen2.5 7B'): np.float64(0.38145043731778433), ('Temper', 'Aya 32b'): np.float64(0.512405653904213), ('Temper', 'Aya 8B'): np.float64(0.3002020202020202), ('Temper', 'Gemma-3 12B'): np.float64(0.5398189839450585), ('Temper', 'Gemma-3 27B'): np.float64(0.8296535517280198), ('Temper', 'Llama-3.1 70B'): np.float64(0.6466881661406157), ('Temper', 'Llama-3.1 8B'): np.float64(0.39058259476240553), ('Temper', 'Qwen2.5 72B'): np.float64(0.8940305635148041), ('Temper', 'Qwen2.5 7B'): np.float64(0.5921570402558997), ('Uneducated', 'Aya 32b'): np.float64(0.8075218075218076), ('Uneducated', 'Aya 8B'): np.float64(0.6064539007092199), ('Uneducated', 'Gemma-3 12B'): np.float64(0.7719376185848489), ('Uneducated', 'Gemma-3 27B'): np.float64(0.9498795627200296), ('Uneducated', 'Llama-3.1 70B'): np.float64(0.8972007075922739), ('Uneducated', 'Llama-3.1 8B'): np.float64(0.7387969094922737), ('Uneducated', 'Qwen2.5 72B'): np.float64(0.9921768707482993), ('Uneducated', 'Qwen2.5 7B'): np.float64(0.821023619914405)}\n",
      "{('Careless', 'Aya 32b'): np.float64(0.6356972789115646), ('Careless', 'Aya 8B'): np.float64(0.4596194301013578), ('Careless', 'Gemma-3 12B'): np.float64(0.7265534547152195), ('Careless', 'Gemma-3 27B'): np.float64(0.924541331684189), ('Careless', 'Llama-3.1 70B'): np.float64(0.8590756704980844), ('Careless', 'Llama-3.1 8B'): np.float64(0.5748782899741367), ('Careless', 'Qwen2.5 72B'): np.float64(0.9813333333333334), ('Careless', 'Qwen2.5 7B'): np.float64(0.8433428279287175), ('Closed-Minded', 'Aya 32b'): np.float64(0.31958843537414966), ('Closed-Minded', 'Aya 8B'): np.float64(0.4204289349327518), ('Closed-Minded', 'Gemma-3 12B'): np.float64(0.4059569160997733), ('Closed-Minded', 'Gemma-3 27B'): np.float64(0.33645382395382395), ('Closed-Minded', 'Llama-3.1 70B'): np.float64(0.650546485260771), ('Closed-Minded', 'Llama-3.1 8B'): np.float64(0.4085064935064936), ('Closed-Minded', 'Qwen2.5 72B'): np.float64(0.7119945877109201), ('Closed-Minded', 'Qwen2.5 7B'): np.float64(0.4911535510478109), ('Friendly', 'Aya 32b'): np.float64(-0.2301485260770975), ('Friendly', 'Aya 8B'): np.float64(-0.14458941017981608), ('Friendly', 'Gemma-3 12B'): np.float64(0.04570802005012532), ('Friendly', 'Gemma-3 27B'): np.float64(-0.28685428849902533), ('Friendly', 'Llama-3.1 70B'): np.float64(-0.05341246635106283), ('Friendly', 'Llama-3.1 8B'): np.float64(-0.29323940585408476), ('Friendly', 'Qwen2.5 72B'): np.float64(-0.6674102878973939), ('Friendly', 'Qwen2.5 7B'): np.float64(-0.5724297126257911), ('Rural', 'Aya 32b'): np.float64(0.44979641131815046), ('Rural', 'Aya 8B'): np.float64(0.49597756691852635), ('Rural', 'Gemma-3 12B'): np.float64(0.49164462081128746), ('Rural', 'Gemma-3 27B'): np.float64(0.7912534643487025), ('Rural', 'Llama-3.1 70B'): np.float64(0.5373459316869059), ('Rural', 'Llama-3.1 8B'): np.float64(0.3842156862745098), ('Rural', 'Qwen2.5 72B'): np.float64(0.8574285714285715), ('Rural', 'Qwen2.5 7B'): np.float64(0.38145043731778433), ('Temper', 'Aya 32b'): np.float64(0.512405653904213), ('Temper', 'Aya 8B'): np.float64(0.3002020202020202), ('Temper', 'Gemma-3 12B'): np.float64(0.5398189839450585), ('Temper', 'Gemma-3 27B'): np.float64(0.8296535517280198), ('Temper', 'Llama-3.1 70B'): np.float64(0.6466881661406157), ('Temper', 'Llama-3.1 8B'): np.float64(0.39058259476240553), ('Temper', 'Qwen2.5 72B'): np.float64(0.8940305635148041), ('Temper', 'Qwen2.5 7B'): np.float64(0.5921570402558997), ('Uneducated', 'Aya 32b'): np.float64(0.8075218075218076), ('Uneducated', 'Aya 8B'): np.float64(0.6064539007092199), ('Uneducated', 'Gemma-3 12B'): np.float64(0.7719376185848489), ('Uneducated', 'Gemma-3 27B'): np.float64(0.9498795627200296), ('Uneducated', 'Llama-3.1 70B'): np.float64(0.8972007075922739), ('Uneducated', 'Llama-3.1 8B'): np.float64(0.7387969094922737), ('Uneducated', 'Qwen2.5 72B'): np.float64(0.9921768707482993), ('Uneducated', 'Qwen2.5 7B'): np.float64(0.821023619914405)}\n",
      "{('Careless', 'Aya 32b'): np.float64(0.6356972789115646), ('Careless', 'Aya 8B'): np.float64(0.4596194301013578), ('Careless', 'Gemma-3 12B'): np.float64(0.7265534547152195), ('Careless', 'Gemma-3 27B'): np.float64(0.924541331684189), ('Careless', 'Llama-3.1 70B'): np.float64(0.8590756704980844), ('Careless', 'Llama-3.1 8B'): np.float64(0.5748782899741367), ('Careless', 'Qwen2.5 72B'): np.float64(0.9813333333333334), ('Careless', 'Qwen2.5 7B'): np.float64(0.8433428279287175), ('Closed-Minded', 'Aya 32b'): np.float64(0.31958843537414966), ('Closed-Minded', 'Aya 8B'): np.float64(0.4204289349327518), ('Closed-Minded', 'Gemma-3 12B'): np.float64(0.4059569160997733), ('Closed-Minded', 'Gemma-3 27B'): np.float64(0.33645382395382395), ('Closed-Minded', 'Llama-3.1 70B'): np.float64(0.650546485260771), ('Closed-Minded', 'Llama-3.1 8B'): np.float64(0.4085064935064936), ('Closed-Minded', 'Qwen2.5 72B'): np.float64(0.7119945877109201), ('Closed-Minded', 'Qwen2.5 7B'): np.float64(0.4911535510478109), ('Friendly', 'Aya 32b'): np.float64(-0.2301485260770975), ('Friendly', 'Aya 8B'): np.float64(-0.14458941017981608), ('Friendly', 'Gemma-3 12B'): np.float64(0.04570802005012532), ('Friendly', 'Gemma-3 27B'): np.float64(-0.28685428849902533), ('Friendly', 'Llama-3.1 70B'): np.float64(-0.05341246635106283), ('Friendly', 'Llama-3.1 8B'): np.float64(-0.29323940585408476), ('Friendly', 'Qwen2.5 72B'): np.float64(-0.6674102878973939), ('Friendly', 'Qwen2.5 7B'): np.float64(-0.5724297126257911), ('Rural', 'Aya 32b'): np.float64(0.44979641131815046), ('Rural', 'Aya 8B'): np.float64(0.49597756691852635), ('Rural', 'Gemma-3 12B'): np.float64(0.49164462081128746), ('Rural', 'Gemma-3 27B'): np.float64(0.7912534643487025), ('Rural', 'Llama-3.1 70B'): np.float64(0.5373459316869059), ('Rural', 'Llama-3.1 8B'): np.float64(0.3842156862745098), ('Rural', 'Qwen2.5 72B'): np.float64(0.8574285714285715), ('Rural', 'Qwen2.5 7B'): np.float64(0.38145043731778433), ('Temper', 'Aya 32b'): np.float64(0.512405653904213), ('Temper', 'Aya 8B'): np.float64(0.3002020202020202), ('Temper', 'Gemma-3 12B'): np.float64(0.5398189839450585), ('Temper', 'Gemma-3 27B'): np.float64(0.8296535517280198), ('Temper', 'Llama-3.1 70B'): np.float64(0.6466881661406157), ('Temper', 'Llama-3.1 8B'): np.float64(0.39058259476240553), ('Temper', 'Qwen2.5 72B'): np.float64(0.8940305635148041), ('Temper', 'Qwen2.5 7B'): np.float64(0.5921570402558997), ('Uneducated', 'Aya 32b'): np.float64(0.8075218075218076), ('Uneducated', 'Aya 8B'): np.float64(0.6064539007092199), ('Uneducated', 'Gemma-3 12B'): np.float64(0.7719376185848489), ('Uneducated', 'Gemma-3 27B'): np.float64(0.9498795627200296), ('Uneducated', 'Llama-3.1 70B'): np.float64(0.8972007075922739), ('Uneducated', 'Llama-3.1 8B'): np.float64(0.7387969094922737), ('Uneducated', 'Qwen2.5 72B'): np.float64(0.9921768707482993), ('Uneducated', 'Qwen2.5 7B'): np.float64(0.821023619914405)}\n",
      "{('Careless', 'Aya 32b'): np.float64(0.6356972789115646), ('Careless', 'Aya 8B'): np.float64(0.4596194301013578), ('Careless', 'Gemma-3 12B'): np.float64(0.7265534547152195), ('Careless', 'Gemma-3 27B'): np.float64(0.924541331684189), ('Careless', 'Llama-3.1 70B'): np.float64(0.8590756704980844), ('Careless', 'Llama-3.1 8B'): np.float64(0.5748782899741367), ('Careless', 'Qwen2.5 72B'): np.float64(0.9813333333333334), ('Careless', 'Qwen2.5 7B'): np.float64(0.8433428279287175), ('Closed-Minded', 'Aya 32b'): np.float64(0.31958843537414966), ('Closed-Minded', 'Aya 8B'): np.float64(0.4204289349327518), ('Closed-Minded', 'Gemma-3 12B'): np.float64(0.4059569160997733), ('Closed-Minded', 'Gemma-3 27B'): np.float64(0.33645382395382395), ('Closed-Minded', 'Llama-3.1 70B'): np.float64(0.650546485260771), ('Closed-Minded', 'Llama-3.1 8B'): np.float64(0.4085064935064936), ('Closed-Minded', 'Qwen2.5 72B'): np.float64(0.7119945877109201), ('Closed-Minded', 'Qwen2.5 7B'): np.float64(0.4911535510478109), ('Friendly', 'Aya 32b'): np.float64(-0.2301485260770975), ('Friendly', 'Aya 8B'): np.float64(-0.14458941017981608), ('Friendly', 'Gemma-3 12B'): np.float64(0.04570802005012532), ('Friendly', 'Gemma-3 27B'): np.float64(-0.28685428849902533), ('Friendly', 'Llama-3.1 70B'): np.float64(-0.05341246635106283), ('Friendly', 'Llama-3.1 8B'): np.float64(-0.29323940585408476), ('Friendly', 'Qwen2.5 72B'): np.float64(-0.6674102878973939), ('Friendly', 'Qwen2.5 7B'): np.float64(-0.5724297126257911), ('Rural', 'Aya 32b'): np.float64(0.44979641131815046), ('Rural', 'Aya 8B'): np.float64(0.49597756691852635), ('Rural', 'Gemma-3 12B'): np.float64(0.49164462081128746), ('Rural', 'Gemma-3 27B'): np.float64(0.7912534643487025), ('Rural', 'Llama-3.1 70B'): np.float64(0.5373459316869059), ('Rural', 'Llama-3.1 8B'): np.float64(0.3842156862745098), ('Rural', 'Qwen2.5 72B'): np.float64(0.8574285714285715), ('Rural', 'Qwen2.5 7B'): np.float64(0.38145043731778433), ('Temper', 'Aya 32b'): np.float64(0.512405653904213), ('Temper', 'Aya 8B'): np.float64(0.3002020202020202), ('Temper', 'Gemma-3 12B'): np.float64(0.5398189839450585), ('Temper', 'Gemma-3 27B'): np.float64(0.8296535517280198), ('Temper', 'Llama-3.1 70B'): np.float64(0.6466881661406157), ('Temper', 'Llama-3.1 8B'): np.float64(0.39058259476240553), ('Temper', 'Qwen2.5 72B'): np.float64(0.8940305635148041), ('Temper', 'Qwen2.5 7B'): np.float64(0.5921570402558997), ('Uneducated', 'Aya 32b'): np.float64(0.8075218075218076), ('Uneducated', 'Aya 8B'): np.float64(0.6064539007092199), ('Uneducated', 'Gemma-3 12B'): np.float64(0.7719376185848489), ('Uneducated', 'Gemma-3 27B'): np.float64(0.9498795627200296), ('Uneducated', 'Llama-3.1 70B'): np.float64(0.8972007075922739), ('Uneducated', 'Llama-3.1 8B'): np.float64(0.7387969094922737), ('Uneducated', 'Qwen2.5 72B'): np.float64(0.9921768707482993), ('Uneducated', 'Qwen2.5 7B'): np.float64(0.821023619914405)}\n",
      "{('Careless', 'Aya 32b'): np.float64(0.6356972789115646), ('Careless', 'Aya 8B'): np.float64(0.4596194301013578), ('Careless', 'Gemma-3 12B'): np.float64(0.7265534547152195), ('Careless', 'Gemma-3 27B'): np.float64(0.924541331684189), ('Careless', 'Llama-3.1 70B'): np.float64(0.8590756704980844), ('Careless', 'Llama-3.1 8B'): np.float64(0.5748782899741367), ('Careless', 'Qwen2.5 72B'): np.float64(0.9813333333333334), ('Careless', 'Qwen2.5 7B'): np.float64(0.8433428279287175), ('Closed-Minded', 'Aya 32b'): np.float64(0.31958843537414966), ('Closed-Minded', 'Aya 8B'): np.float64(0.4204289349327518), ('Closed-Minded', 'Gemma-3 12B'): np.float64(0.4059569160997733), ('Closed-Minded', 'Gemma-3 27B'): np.float64(0.33645382395382395), ('Closed-Minded', 'Llama-3.1 70B'): np.float64(0.650546485260771), ('Closed-Minded', 'Llama-3.1 8B'): np.float64(0.4085064935064936), ('Closed-Minded', 'Qwen2.5 72B'): np.float64(0.7119945877109201), ('Closed-Minded', 'Qwen2.5 7B'): np.float64(0.4911535510478109), ('Friendly', 'Aya 32b'): np.float64(-0.2301485260770975), ('Friendly', 'Aya 8B'): np.float64(-0.14458941017981608), ('Friendly', 'Gemma-3 12B'): np.float64(0.04570802005012532), ('Friendly', 'Gemma-3 27B'): np.float64(-0.28685428849902533), ('Friendly', 'Llama-3.1 70B'): np.float64(-0.05341246635106283), ('Friendly', 'Llama-3.1 8B'): np.float64(-0.29323940585408476), ('Friendly', 'Qwen2.5 72B'): np.float64(-0.6674102878973939), ('Friendly', 'Qwen2.5 7B'): np.float64(-0.5724297126257911), ('Rural', 'Aya 32b'): np.float64(0.44979641131815046), ('Rural', 'Aya 8B'): np.float64(0.49597756691852635), ('Rural', 'Gemma-3 12B'): np.float64(0.49164462081128746), ('Rural', 'Gemma-3 27B'): np.float64(0.7912534643487025), ('Rural', 'Llama-3.1 70B'): np.float64(0.5373459316869059), ('Rural', 'Llama-3.1 8B'): np.float64(0.3842156862745098), ('Rural', 'Qwen2.5 72B'): np.float64(0.8574285714285715), ('Rural', 'Qwen2.5 7B'): np.float64(0.38145043731778433), ('Temper', 'Aya 32b'): np.float64(0.512405653904213), ('Temper', 'Aya 8B'): np.float64(0.3002020202020202), ('Temper', 'Gemma-3 12B'): np.float64(0.5398189839450585), ('Temper', 'Gemma-3 27B'): np.float64(0.8296535517280198), ('Temper', 'Llama-3.1 70B'): np.float64(0.6466881661406157), ('Temper', 'Llama-3.1 8B'): np.float64(0.39058259476240553), ('Temper', 'Qwen2.5 72B'): np.float64(0.8940305635148041), ('Temper', 'Qwen2.5 7B'): np.float64(0.5921570402558997), ('Uneducated', 'Aya 32b'): np.float64(0.8075218075218076), ('Uneducated', 'Aya 8B'): np.float64(0.6064539007092199), ('Uneducated', 'Gemma-3 12B'): np.float64(0.7719376185848489), ('Uneducated', 'Gemma-3 27B'): np.float64(0.9498795627200296), ('Uneducated', 'Llama-3.1 70B'): np.float64(0.8972007075922739), ('Uneducated', 'Llama-3.1 8B'): np.float64(0.7387969094922737), ('Uneducated', 'Qwen2.5 72B'): np.float64(0.9921768707482993), ('Uneducated', 'Qwen2.5 7B'): np.float64(0.821023619914405)}\n",
      "{('Careless', 'Aya 32b'): np.float64(0.6356972789115646), ('Careless', 'Aya 8B'): np.float64(0.4596194301013578), ('Careless', 'Gemma-3 12B'): np.float64(0.7265534547152195), ('Careless', 'Gemma-3 27B'): np.float64(0.924541331684189), ('Careless', 'Llama-3.1 70B'): np.float64(0.8590756704980844), ('Careless', 'Llama-3.1 8B'): np.float64(0.5748782899741367), ('Careless', 'Qwen2.5 72B'): np.float64(0.9813333333333334), ('Careless', 'Qwen2.5 7B'): np.float64(0.8433428279287175), ('Closed-Minded', 'Aya 32b'): np.float64(0.31958843537414966), ('Closed-Minded', 'Aya 8B'): np.float64(0.4204289349327518), ('Closed-Minded', 'Gemma-3 12B'): np.float64(0.4059569160997733), ('Closed-Minded', 'Gemma-3 27B'): np.float64(0.33645382395382395), ('Closed-Minded', 'Llama-3.1 70B'): np.float64(0.650546485260771), ('Closed-Minded', 'Llama-3.1 8B'): np.float64(0.4085064935064936), ('Closed-Minded', 'Qwen2.5 72B'): np.float64(0.7119945877109201), ('Closed-Minded', 'Qwen2.5 7B'): np.float64(0.4911535510478109), ('Friendly', 'Aya 32b'): np.float64(-0.2301485260770975), ('Friendly', 'Aya 8B'): np.float64(-0.14458941017981608), ('Friendly', 'Gemma-3 12B'): np.float64(0.04570802005012532), ('Friendly', 'Gemma-3 27B'): np.float64(-0.28685428849902533), ('Friendly', 'Llama-3.1 70B'): np.float64(-0.05341246635106283), ('Friendly', 'Llama-3.1 8B'): np.float64(-0.29323940585408476), ('Friendly', 'Qwen2.5 72B'): np.float64(-0.6674102878973939), ('Friendly', 'Qwen2.5 7B'): np.float64(-0.5724297126257911), ('Rural', 'Aya 32b'): np.float64(0.44979641131815046), ('Rural', 'Aya 8B'): np.float64(0.49597756691852635), ('Rural', 'Gemma-3 12B'): np.float64(0.49164462081128746), ('Rural', 'Gemma-3 27B'): np.float64(0.7912534643487025), ('Rural', 'Llama-3.1 70B'): np.float64(0.5373459316869059), ('Rural', 'Llama-3.1 8B'): np.float64(0.3842156862745098), ('Rural', 'Qwen2.5 72B'): np.float64(0.8574285714285715), ('Rural', 'Qwen2.5 7B'): np.float64(0.38145043731778433), ('Temper', 'Aya 32b'): np.float64(0.512405653904213), ('Temper', 'Aya 8B'): np.float64(0.3002020202020202), ('Temper', 'Gemma-3 12B'): np.float64(0.5398189839450585), ('Temper', 'Gemma-3 27B'): np.float64(0.8296535517280198), ('Temper', 'Llama-3.1 70B'): np.float64(0.6466881661406157), ('Temper', 'Llama-3.1 8B'): np.float64(0.39058259476240553), ('Temper', 'Qwen2.5 72B'): np.float64(0.8940305635148041), ('Temper', 'Qwen2.5 7B'): np.float64(0.5921570402558997), ('Uneducated', 'Aya 32b'): np.float64(0.8075218075218076), ('Uneducated', 'Aya 8B'): np.float64(0.6064539007092199), ('Uneducated', 'Gemma-3 12B'): np.float64(0.7719376185848489), ('Uneducated', 'Gemma-3 27B'): np.float64(0.9498795627200296), ('Uneducated', 'Llama-3.1 70B'): np.float64(0.8972007075922739), ('Uneducated', 'Llama-3.1 8B'): np.float64(0.7387969094922737), ('Uneducated', 'Qwen2.5 72B'): np.float64(0.9921768707482993), ('Uneducated', 'Qwen2.5 7B'): np.float64(0.821023619914405)}\n"
     ]
    }
   ],
   "source": [
    "data_robust = preproces_data(df_robust, categories, models, \"robust\")\n",
    "\n",
    "data_default = preproces_data(df_default, categories, models, \"default\")"
   ]
  },
  {
   "cell_type": "code",
   "execution_count": 10,
   "id": "3dd165cd",
   "metadata": {},
   "outputs": [],
   "source": [
    "data = {}\n",
    "for model in models:\n",
    "    data[model] = {}\n",
    "    data[model][\"default\"] = data_default[model][\"default\"]\n",
    "    data[model][\"robust\"] = data_robust[model][\"robust\"]"
   ]
  },
  {
   "cell_type": "code",
   "execution_count": 12,
   "id": "62aaa2eb",
   "metadata": {},
   "outputs": [],
   "source": [
    "import matplotlib.pyplot as plt\n",
    "import numpy as np\n",
    "\n",
    "\n",
    "def plot_comparison(data, models, categories):\n",
    "    fig, axes = plt.subplots(1, len(models), figsize=(18, 5), sharey=True)\n",
    "    #fig.suptitle(\"Testing Language:\", fontsize=14)\n",
    "\n",
    "    for i, model in enumerate(models):\n",
    "        print(model)\n",
    "        ax = axes[i]\n",
    "        default_scores = data[model]['default']\n",
    "        robust_scores = data[model]['robust']\n",
    "\n",
    "        y_pos = np.arange(len(categories))\n",
    "\n",
    "        # Draw lines between language points\n",
    "        for j in range(len(categories)):\n",
    "            ax.plot([default_scores[j], robust_scores[j]], [j, j], 'k-', linewidth=0.5)\n",
    "\n",
    "        # Plot points\n",
    "        ax.scatter(default_scores, y_pos, color='orange', label='Dialect')\n",
    "        ax.scatter(robust_scores, y_pos, color='deepskyblue', label='Noisy')\n",
    "\n",
    "        # Titles and axes\n",
    "        ax.set_title(model, fontsize=12, fontweight='bold')\n",
    "        ax.set_xlim(-0.1, 1.1)\n",
    "        ax.set_xticks([0, 0.5, 1])\n",
    "        if i == 0:\n",
    "            ax.set_yticks(y_pos)\n",
    "            ax.set_yticklabels(categories)\n",
    "        #else:\n",
    "        #    ax.set_yticks([])\n",
    "        if i == len(models) - 1:\n",
    "            ax.legend(loc='upper center', bbox_to_anchor=(1.2, 1.1), fontsize=14)\n",
    "\n",
    "        ax.set_xlabel(\"(Absolute) Bias\")\n",
    "        #ax.set_ylabel(\"Dimension\")\n",
    "\n",
    "    plt.tight_layout()\n",
    "    plt.subplots_adjust(top=0.5)\n",
    "    plt.show()\n"
   ]
  },
  {
   "cell_type": "code",
   "execution_count": 13,
   "id": "0e3982b7",
   "metadata": {},
   "outputs": [
    {
     "name": "stdout",
     "output_type": "stream",
     "text": [
      "Llama-3.1 70B\n",
      "Qwen2.5 72B\n",
      "Aya 32b\n",
      "Gemma-3 27B\n",
      "Llama-3.1 8B\n",
      "Qwen2.5 7B\n",
      "Aya 8B\n",
      "Gemma-3 12B\n"
     ]
    },
    {
     "data": {
      "image/png": "[encoded data removed]",
      "text/plain": [
       "<Figure size 1800x500 with 8 Axes>"
      ]
     },
     "metadata": {},
     "output_type": "display_data"
    }
   ],
   "source": [
    "plot_comparison(data, models, categories)\n"
   ]
  },
  {
   "cell_type": "code",
   "execution_count": null,
   "id": "1629f701",
   "metadata": {},
   "outputs": [],
   "source": [
    "from scipy import stats\n",
    "import numpy as np\n",
    "\n",
    "\n",
    "def preproces_data(df):\n",
    "    df = df[df['nones'] == 0]\n",
    "\n",
    "    group_stats = df.groupby(['model_name', 'dimension'])['bias'].agg(['mean', 'std', 'count']).reset_index()\n",
    "\n",
    "    group_stats['se'] = group_stats['std'] / np.sqrt(group_stats['count'])\n",
    "    group_stats['t_score'] = group_stats['count'].apply(lambda n: stats.t.ppf(0.95, df=n-1) if n > 1 else 0)\n",
    "    group_stats['margin_of_error'] = group_stats['t_score'] * group_stats['se']\n",
    "    group_stats['lower'] = group_stats['mean'] - group_stats['margin_of_error']\n",
    "    group_stats['upper'] = group_stats['mean'] + group_stats['margin_of_error']\n",
    "\n",
    "    return group_stats\n",
    "\n",
    "\n",
    "data_robust = preproces_data(df_robust)\n",
    "\n",
    "data_default = preproces_data(df_default)"
   ]
  },
  {
   "cell_type": "code",
   "execution_count": 17,
   "id": "515f4d87",
   "metadata": {},
   "outputs": [
    {
     "data": {
      "text/html": [
       "<div>\n",
       "<style scoped>\n",
       "    .dataframe tbody tr th:only-of-type {\n",
       "        vertical-align: middle;\n",
       "    }\n",
       "\n",
       "    .dataframe tbody tr th {\n",
       "        vertical-align: top;\n",
       "    }\n",
       "\n",
       "    .dataframe thead th {\n",
       "        text-align: right;\n",
       "    }\n",
       "</style>\n",
       "<table border=\"1\" class=\"dataframe\">\n",
       "  <thead>\n",
       "    <tr style=\"text-align: right;\">\n",
       "      <th></th>\n",
       "      <th>model_name</th>\n",
       "      <th>dimension</th>\n",
       "      <th>mean</th>\n",
       "      <th>std</th>\n",
       "      <th>count</th>\n",
       "      <th>se</th>\n",
       "      <th>t_score</th>\n",
       "      <th>margin_of_error</th>\n",
       "      <th>lower</th>\n",
       "      <th>upper</th>\n",
       "    </tr>\n",
       "  </thead>\n",
       "  <tbody>\n",
       "    <tr>\n",
       "      <th>0</th>\n",
       "      <td>Aya 32b</td>\n",
       "      <td>Careless</td>\n",
       "      <td>0.436497</td>\n",
       "      <td>0.468449</td>\n",
       "      <td>347</td>\n",
       "      <td>0.025148</td>\n",
       "      <td>1.649269</td>\n",
       "      <td>0.041475</td>\n",
       "      <td>0.395021</td>\n",
       "      <td>0.477972</td>\n",
       "    </tr>\n",
       "    <tr>\n",
       "      <th>1</th>\n",
       "      <td>Aya 32b</td>\n",
       "      <td>Closed-Minded</td>\n",
       "      <td>0.246214</td>\n",
       "      <td>0.462212</td>\n",
       "      <td>350</td>\n",
       "      <td>0.024706</td>\n",
       "      <td>1.649231</td>\n",
       "      <td>0.040746</td>\n",
       "      <td>0.205468</td>\n",
       "      <td>0.286961</td>\n",
       "    </tr>\n",
       "    <tr>\n",
       "      <th>2</th>\n",
       "      <td>Aya 32b</td>\n",
       "      <td>Friendly</td>\n",
       "      <td>-0.330461</td>\n",
       "      <td>0.468256</td>\n",
       "      <td>349</td>\n",
       "      <td>0.025065</td>\n",
       "      <td>1.649244</td>\n",
       "      <td>0.041339</td>\n",
       "      <td>-0.371800</td>\n",
       "      <td>-0.289123</td>\n",
       "    </tr>\n",
       "    <tr>\n",
       "      <th>3</th>\n",
       "      <td>Aya 32b</td>\n",
       "      <td>Rural</td>\n",
       "      <td>0.162452</td>\n",
       "      <td>0.411488</td>\n",
       "      <td>346</td>\n",
       "      <td>0.022122</td>\n",
       "      <td>1.649282</td>\n",
       "      <td>0.036485</td>\n",
       "      <td>0.125967</td>\n",
       "      <td>0.198937</td>\n",
       "    </tr>\n",
       "    <tr>\n",
       "      <th>4</th>\n",
       "      <td>Aya 32b</td>\n",
       "      <td>Temper</td>\n",
       "      <td>0.327439</td>\n",
       "      <td>0.435211</td>\n",
       "      <td>349</td>\n",
       "      <td>0.023296</td>\n",
       "      <td>1.649244</td>\n",
       "      <td>0.038421</td>\n",
       "      <td>0.289018</td>\n",
       "      <td>0.365860</td>\n",
       "    </tr>\n",
       "    <tr>\n",
       "      <th>5</th>\n",
       "      <td>Aya 32b</td>\n",
       "      <td>Uneducated</td>\n",
       "      <td>0.398522</td>\n",
       "      <td>0.456868</td>\n",
       "      <td>319</td>\n",
       "      <td>0.025580</td>\n",
       "      <td>1.649659</td>\n",
       "      <td>0.042198</td>\n",
       "      <td>0.356324</td>\n",
       "      <td>0.440720</td>\n",
       "    </tr>\n",
       "    <tr>\n",
       "      <th>6</th>\n",
       "      <td>Aya 8B</td>\n",
       "      <td>Careless</td>\n",
       "      <td>0.390430</td>\n",
       "      <td>0.496793</td>\n",
       "      <td>204</td>\n",
       "      <td>0.034782</td>\n",
       "      <td>1.652394</td>\n",
       "      <td>0.057474</td>\n",
       "      <td>0.332955</td>\n",
       "      <td>0.447904</td>\n",
       "    </tr>\n",
       "    <tr>\n",
       "      <th>7</th>\n",
       "      <td>Aya 8B</td>\n",
       "      <td>Closed-Minded</td>\n",
       "      <td>0.224394</td>\n",
       "      <td>0.471949</td>\n",
       "      <td>224</td>\n",
       "      <td>0.031533</td>\n",
       "      <td>1.651715</td>\n",
       "      <td>0.052084</td>\n",
       "      <td>0.172310</td>\n",
       "      <td>0.276478</td>\n",
       "    </tr>\n",
       "    <tr>\n",
       "      <th>8</th>\n",
       "      <td>Aya 8B</td>\n",
       "      <td>Friendly</td>\n",
       "      <td>-0.073400</td>\n",
       "      <td>0.604667</td>\n",
       "      <td>256</td>\n",
       "      <td>0.037792</td>\n",
       "      <td>1.650851</td>\n",
       "      <td>0.062388</td>\n",
       "      <td>-0.135789</td>\n",
       "      <td>-0.011012</td>\n",
       "    </tr>\n",
       "    <tr>\n",
       "      <th>9</th>\n",
       "      <td>Aya 8B</td>\n",
       "      <td>Rural</td>\n",
       "      <td>0.126697</td>\n",
       "      <td>0.452541</td>\n",
       "      <td>243</td>\n",
       "      <td>0.029031</td>\n",
       "      <td>1.651175</td>\n",
       "      <td>0.047934</td>\n",
       "      <td>0.078762</td>\n",
       "      <td>0.174631</td>\n",
       "    </tr>\n",
       "    <tr>\n",
       "      <th>10</th>\n",
       "      <td>Aya 8B</td>\n",
       "      <td>Temper</td>\n",
       "      <td>0.256344</td>\n",
       "      <td>0.518672</td>\n",
       "      <td>237</td>\n",
       "      <td>0.033691</td>\n",
       "      <td>1.651336</td>\n",
       "      <td>0.055636</td>\n",
       "      <td>0.200708</td>\n",
       "      <td>0.311980</td>\n",
       "    </tr>\n",
       "    <tr>\n",
       "      <th>11</th>\n",
       "      <td>Aya 8B</td>\n",
       "      <td>Uneducated</td>\n",
       "      <td>0.256655</td>\n",
       "      <td>0.573928</td>\n",
       "      <td>210</td>\n",
       "      <td>0.039605</td>\n",
       "      <td>1.652177</td>\n",
       "      <td>0.065434</td>\n",
       "      <td>0.191221</td>\n",
       "      <td>0.322089</td>\n",
       "    </tr>\n",
       "    <tr>\n",
       "      <th>12</th>\n",
       "      <td>Gemma-3 12B</td>\n",
       "      <td>Careless</td>\n",
       "      <td>0.495079</td>\n",
       "      <td>0.489048</td>\n",
       "      <td>340</td>\n",
       "      <td>0.026522</td>\n",
       "      <td>1.649361</td>\n",
       "      <td>0.043745</td>\n",
       "      <td>0.451334</td>\n",
       "      <td>0.538824</td>\n",
       "    </tr>\n",
       "    <tr>\n",
       "      <th>13</th>\n",
       "      <td>Gemma-3 12B</td>\n",
       "      <td>Closed-Minded</td>\n",
       "      <td>0.301562</td>\n",
       "      <td>0.432775</td>\n",
       "      <td>348</td>\n",
       "      <td>0.023199</td>\n",
       "      <td>1.649257</td>\n",
       "      <td>0.038261</td>\n",
       "      <td>0.263301</td>\n",
       "      <td>0.339824</td>\n",
       "    </tr>\n",
       "    <tr>\n",
       "      <th>14</th>\n",
       "      <td>Gemma-3 12B</td>\n",
       "      <td>Friendly</td>\n",
       "      <td>-0.296576</td>\n",
       "      <td>0.436863</td>\n",
       "      <td>344</td>\n",
       "      <td>0.023554</td>\n",
       "      <td>1.649308</td>\n",
       "      <td>0.038848</td>\n",
       "      <td>-0.335424</td>\n",
       "      <td>-0.257728</td>\n",
       "    </tr>\n",
       "    <tr>\n",
       "      <th>15</th>\n",
       "      <td>Gemma-3 12B</td>\n",
       "      <td>Rural</td>\n",
       "      <td>0.229515</td>\n",
       "      <td>0.384551</td>\n",
       "      <td>343</td>\n",
       "      <td>0.020764</td>\n",
       "      <td>1.649321</td>\n",
       "      <td>0.034246</td>\n",
       "      <td>0.195269</td>\n",
       "      <td>0.263762</td>\n",
       "    </tr>\n",
       "    <tr>\n",
       "      <th>16</th>\n",
       "      <td>Gemma-3 12B</td>\n",
       "      <td>Temper</td>\n",
       "      <td>0.466964</td>\n",
       "      <td>0.490349</td>\n",
       "      <td>350</td>\n",
       "      <td>0.026210</td>\n",
       "      <td>1.649231</td>\n",
       "      <td>0.043227</td>\n",
       "      <td>0.423737</td>\n",
       "      <td>0.510190</td>\n",
       "    </tr>\n",
       "    <tr>\n",
       "      <th>17</th>\n",
       "      <td>Gemma-3 12B</td>\n",
       "      <td>Uneducated</td>\n",
       "      <td>0.451392</td>\n",
       "      <td>0.481473</td>\n",
       "      <td>337</td>\n",
       "      <td>0.026228</td>\n",
       "      <td>1.649401</td>\n",
       "      <td>0.043260</td>\n",
       "      <td>0.408132</td>\n",
       "      <td>0.494652</td>\n",
       "    </tr>\n",
       "    <tr>\n",
       "      <th>18</th>\n",
       "      <td>Gemma-3 27B</td>\n",
       "      <td>Careless</td>\n",
       "      <td>0.463964</td>\n",
       "      <td>0.506074</td>\n",
       "      <td>222</td>\n",
       "      <td>0.033965</td>\n",
       "      <td>1.651778</td>\n",
       "      <td>0.056103</td>\n",
       "      <td>0.407861</td>\n",
       "      <td>0.520067</td>\n",
       "    </tr>\n",
       "    <tr>\n",
       "      <th>19</th>\n",
       "      <td>Gemma-3 27B</td>\n",
       "      <td>Closed-Minded</td>\n",
       "      <td>0.371353</td>\n",
       "      <td>0.422017</td>\n",
       "      <td>220</td>\n",
       "      <td>0.028452</td>\n",
       "      <td>1.651841</td>\n",
       "      <td>0.046999</td>\n",
       "      <td>0.324354</td>\n",
       "      <td>0.418352</td>\n",
       "    </tr>\n",
       "    <tr>\n",
       "      <th>20</th>\n",
       "      <td>Gemma-3 27B</td>\n",
       "      <td>Friendly</td>\n",
       "      <td>-0.445951</td>\n",
       "      <td>0.478552</td>\n",
       "      <td>187</td>\n",
       "      <td>0.034995</td>\n",
       "      <td>1.653087</td>\n",
       "      <td>0.057850</td>\n",
       "      <td>-0.503801</td>\n",
       "      <td>-0.388101</td>\n",
       "    </tr>\n",
       "    <tr>\n",
       "      <th>21</th>\n",
       "      <td>Gemma-3 27B</td>\n",
       "      <td>Rural</td>\n",
       "      <td>0.246370</td>\n",
       "      <td>0.434365</td>\n",
       "      <td>276</td>\n",
       "      <td>0.026146</td>\n",
       "      <td>1.650413</td>\n",
       "      <td>0.043151</td>\n",
       "      <td>0.203218</td>\n",
       "      <td>0.289521</td>\n",
       "    </tr>\n",
       "    <tr>\n",
       "      <th>22</th>\n",
       "      <td>Gemma-3 27B</td>\n",
       "      <td>Temper</td>\n",
       "      <td>0.468056</td>\n",
       "      <td>0.497691</td>\n",
       "      <td>240</td>\n",
       "      <td>0.032126</td>\n",
       "      <td>1.651254</td>\n",
       "      <td>0.053048</td>\n",
       "      <td>0.415008</td>\n",
       "      <td>0.521103</td>\n",
       "    </tr>\n",
       "    <tr>\n",
       "      <th>23</th>\n",
       "      <td>Gemma-3 27B</td>\n",
       "      <td>Uneducated</td>\n",
       "      <td>0.445434</td>\n",
       "      <td>0.483269</td>\n",
       "      <td>231</td>\n",
       "      <td>0.031797</td>\n",
       "      <td>1.651506</td>\n",
       "      <td>0.052513</td>\n",
       "      <td>0.392921</td>\n",
       "      <td>0.497946</td>\n",
       "    </tr>\n",
       "    <tr>\n",
       "      <th>24</th>\n",
       "      <td>Llama-3.1 70B</td>\n",
       "      <td>Careless</td>\n",
       "      <td>0.524355</td>\n",
       "      <td>0.497724</td>\n",
       "      <td>349</td>\n",
       "      <td>0.026643</td>\n",
       "      <td>1.649244</td>\n",
       "      <td>0.043940</td>\n",
       "      <td>0.480415</td>\n",
       "      <td>0.568295</td>\n",
       "    </tr>\n",
       "    <tr>\n",
       "      <th>25</th>\n",
       "      <td>Llama-3.1 70B</td>\n",
       "      <td>Closed-Minded</td>\n",
       "      <td>0.399425</td>\n",
       "      <td>0.444493</td>\n",
       "      <td>348</td>\n",
       "      <td>0.023827</td>\n",
       "      <td>1.649257</td>\n",
       "      <td>0.039297</td>\n",
       "      <td>0.360128</td>\n",
       "      <td>0.438723</td>\n",
       "    </tr>\n",
       "    <tr>\n",
       "      <th>26</th>\n",
       "      <td>Llama-3.1 70B</td>\n",
       "      <td>Friendly</td>\n",
       "      <td>-0.308648</td>\n",
       "      <td>0.498541</td>\n",
       "      <td>349</td>\n",
       "      <td>0.026686</td>\n",
       "      <td>1.649244</td>\n",
       "      <td>0.044012</td>\n",
       "      <td>-0.352660</td>\n",
       "      <td>-0.264636</td>\n",
       "    </tr>\n",
       "    <tr>\n",
       "      <th>27</th>\n",
       "      <td>Llama-3.1 70B</td>\n",
       "      <td>Rural</td>\n",
       "      <td>0.087354</td>\n",
       "      <td>0.394333</td>\n",
       "      <td>342</td>\n",
       "      <td>0.021323</td>\n",
       "      <td>1.649334</td>\n",
       "      <td>0.035169</td>\n",
       "      <td>0.052185</td>\n",
       "      <td>0.122523</td>\n",
       "    </tr>\n",
       "    <tr>\n",
       "      <th>28</th>\n",
       "      <td>Llama-3.1 70B</td>\n",
       "      <td>Temper</td>\n",
       "      <td>0.480471</td>\n",
       "      <td>0.493017</td>\n",
       "      <td>346</td>\n",
       "      <td>0.026505</td>\n",
       "      <td>1.649282</td>\n",
       "      <td>0.043714</td>\n",
       "      <td>0.436757</td>\n",
       "      <td>0.524184</td>\n",
       "    </tr>\n",
       "    <tr>\n",
       "      <th>29</th>\n",
       "      <td>Llama-3.1 70B</td>\n",
       "      <td>Uneducated</td>\n",
       "      <td>0.474316</td>\n",
       "      <td>0.479731</td>\n",
       "      <td>334</td>\n",
       "      <td>0.026250</td>\n",
       "      <td>1.649442</td>\n",
       "      <td>0.043297</td>\n",
       "      <td>0.431018</td>\n",
       "      <td>0.517613</td>\n",
       "    </tr>\n",
       "    <tr>\n",
       "      <th>30</th>\n",
       "      <td>Llama-3.1 8B</td>\n",
       "      <td>Careless</td>\n",
       "      <td>0.452218</td>\n",
       "      <td>0.452229</td>\n",
       "      <td>304</td>\n",
       "      <td>0.025937</td>\n",
       "      <td>1.649898</td>\n",
       "      <td>0.042794</td>\n",
       "      <td>0.409424</td>\n",
       "      <td>0.495011</td>\n",
       "    </tr>\n",
       "    <tr>\n",
       "      <th>31</th>\n",
       "      <td>Llama-3.1 8B</td>\n",
       "      <td>Closed-Minded</td>\n",
       "      <td>0.324693</td>\n",
       "      <td>0.425218</td>\n",
       "      <td>336</td>\n",
       "      <td>0.023198</td>\n",
       "      <td>1.649415</td>\n",
       "      <td>0.038262</td>\n",
       "      <td>0.286431</td>\n",
       "      <td>0.362955</td>\n",
       "    </tr>\n",
       "    <tr>\n",
       "      <th>32</th>\n",
       "      <td>Llama-3.1 8B</td>\n",
       "      <td>Friendly</td>\n",
       "      <td>-0.297061</td>\n",
       "      <td>0.448691</td>\n",
       "      <td>329</td>\n",
       "      <td>0.024737</td>\n",
       "      <td>1.649512</td>\n",
       "      <td>0.040804</td>\n",
       "      <td>-0.337865</td>\n",
       "      <td>-0.256256</td>\n",
       "    </tr>\n",
       "    <tr>\n",
       "      <th>33</th>\n",
       "      <td>Llama-3.1 8B</td>\n",
       "      <td>Rural</td>\n",
       "      <td>0.064602</td>\n",
       "      <td>0.354901</td>\n",
       "      <td>340</td>\n",
       "      <td>0.019247</td>\n",
       "      <td>1.649361</td>\n",
       "      <td>0.031746</td>\n",
       "      <td>0.032856</td>\n",
       "      <td>0.096348</td>\n",
       "    </tr>\n",
       "    <tr>\n",
       "      <th>34</th>\n",
       "      <td>Llama-3.1 8B</td>\n",
       "      <td>Temper</td>\n",
       "      <td>0.320827</td>\n",
       "      <td>0.426253</td>\n",
       "      <td>325</td>\n",
       "      <td>0.023644</td>\n",
       "      <td>1.649570</td>\n",
       "      <td>0.039003</td>\n",
       "      <td>0.281824</td>\n",
       "      <td>0.359829</td>\n",
       "    </tr>\n",
       "    <tr>\n",
       "      <th>35</th>\n",
       "      <td>Llama-3.1 8B</td>\n",
       "      <td>Uneducated</td>\n",
       "      <td>0.393903</td>\n",
       "      <td>0.451186</td>\n",
       "      <td>302</td>\n",
       "      <td>0.025963</td>\n",
       "      <td>1.649932</td>\n",
       "      <td>0.042837</td>\n",
       "      <td>0.351066</td>\n",
       "      <td>0.436740</td>\n",
       "    </tr>\n",
       "    <tr>\n",
       "      <th>36</th>\n",
       "      <td>Qwen2.5 72B</td>\n",
       "      <td>Careless</td>\n",
       "      <td>0.518147</td>\n",
       "      <td>0.505704</td>\n",
       "      <td>349</td>\n",
       "      <td>0.027070</td>\n",
       "      <td>1.649244</td>\n",
       "      <td>0.044645</td>\n",
       "      <td>0.473503</td>\n",
       "      <td>0.562792</td>\n",
       "    </tr>\n",
       "    <tr>\n",
       "      <th>37</th>\n",
       "      <td>Qwen2.5 72B</td>\n",
       "      <td>Closed-Minded</td>\n",
       "      <td>0.423204</td>\n",
       "      <td>0.456949</td>\n",
       "      <td>350</td>\n",
       "      <td>0.024425</td>\n",
       "      <td>1.649231</td>\n",
       "      <td>0.040282</td>\n",
       "      <td>0.382922</td>\n",
       "      <td>0.463486</td>\n",
       "    </tr>\n",
       "    <tr>\n",
       "      <th>38</th>\n",
       "      <td>Qwen2.5 72B</td>\n",
       "      <td>Friendly</td>\n",
       "      <td>-0.479543</td>\n",
       "      <td>0.497706</td>\n",
       "      <td>348</td>\n",
       "      <td>0.026680</td>\n",
       "      <td>1.649257</td>\n",
       "      <td>0.044002</td>\n",
       "      <td>-0.523545</td>\n",
       "      <td>-0.435541</td>\n",
       "    </tr>\n",
       "    <tr>\n",
       "      <th>39</th>\n",
       "      <td>Qwen2.5 72B</td>\n",
       "      <td>Rural</td>\n",
       "      <td>0.293543</td>\n",
       "      <td>0.488301</td>\n",
       "      <td>349</td>\n",
       "      <td>0.026138</td>\n",
       "      <td>1.649244</td>\n",
       "      <td>0.043108</td>\n",
       "      <td>0.250435</td>\n",
       "      <td>0.336651</td>\n",
       "    </tr>\n",
       "    <tr>\n",
       "      <th>40</th>\n",
       "      <td>Qwen2.5 72B</td>\n",
       "      <td>Temper</td>\n",
       "      <td>0.491882</td>\n",
       "      <td>0.499854</td>\n",
       "      <td>349</td>\n",
       "      <td>0.026757</td>\n",
       "      <td>1.649244</td>\n",
       "      <td>0.044128</td>\n",
       "      <td>0.447753</td>\n",
       "      <td>0.536010</td>\n",
       "    </tr>\n",
       "    <tr>\n",
       "      <th>41</th>\n",
       "      <td>Qwen2.5 72B</td>\n",
       "      <td>Uneducated</td>\n",
       "      <td>0.499048</td>\n",
       "      <td>0.495120</td>\n",
       "      <td>350</td>\n",
       "      <td>0.026465</td>\n",
       "      <td>1.649231</td>\n",
       "      <td>0.043647</td>\n",
       "      <td>0.455400</td>\n",
       "      <td>0.542695</td>\n",
       "    </tr>\n",
       "    <tr>\n",
       "      <th>42</th>\n",
       "      <td>Qwen2.5 7B</td>\n",
       "      <td>Careless</td>\n",
       "      <td>0.506084</td>\n",
       "      <td>0.482672</td>\n",
       "      <td>308</td>\n",
       "      <td>0.027503</td>\n",
       "      <td>1.649832</td>\n",
       "      <td>0.045375</td>\n",
       "      <td>0.460709</td>\n",
       "      <td>0.551459</td>\n",
       "    </tr>\n",
       "    <tr>\n",
       "      <th>43</th>\n",
       "      <td>Qwen2.5 7B</td>\n",
       "      <td>Closed-Minded</td>\n",
       "      <td>0.327455</td>\n",
       "      <td>0.446963</td>\n",
       "      <td>337</td>\n",
       "      <td>0.024348</td>\n",
       "      <td>1.649401</td>\n",
       "      <td>0.040159</td>\n",
       "      <td>0.287296</td>\n",
       "      <td>0.367614</td>\n",
       "    </tr>\n",
       "    <tr>\n",
       "      <th>44</th>\n",
       "      <td>Qwen2.5 7B</td>\n",
       "      <td>Friendly</td>\n",
       "      <td>-0.356101</td>\n",
       "      <td>0.503400</td>\n",
       "      <td>292</td>\n",
       "      <td>0.029459</td>\n",
       "      <td>1.650107</td>\n",
       "      <td>0.048611</td>\n",
       "      <td>-0.404711</td>\n",
       "      <td>-0.307490</td>\n",
       "    </tr>\n",
       "    <tr>\n",
       "      <th>45</th>\n",
       "      <td>Qwen2.5 7B</td>\n",
       "      <td>Rural</td>\n",
       "      <td>0.169496</td>\n",
       "      <td>0.437837</td>\n",
       "      <td>299</td>\n",
       "      <td>0.025321</td>\n",
       "      <td>1.649983</td>\n",
       "      <td>0.041779</td>\n",
       "      <td>0.127717</td>\n",
       "      <td>0.211275</td>\n",
       "    </tr>\n",
       "    <tr>\n",
       "      <th>46</th>\n",
       "      <td>Qwen2.5 7B</td>\n",
       "      <td>Temper</td>\n",
       "      <td>0.453986</td>\n",
       "      <td>0.488859</td>\n",
       "      <td>267</td>\n",
       "      <td>0.029918</td>\n",
       "      <td>1.650602</td>\n",
       "      <td>0.049382</td>\n",
       "      <td>0.404604</td>\n",
       "      <td>0.503368</td>\n",
       "    </tr>\n",
       "    <tr>\n",
       "      <th>47</th>\n",
       "      <td>Qwen2.5 7B</td>\n",
       "      <td>Uneducated</td>\n",
       "      <td>0.472364</td>\n",
       "      <td>0.481268</td>\n",
       "      <td>308</td>\n",
       "      <td>0.027423</td>\n",
       "      <td>1.649832</td>\n",
       "      <td>0.045243</td>\n",
       "      <td>0.427121</td>\n",
       "      <td>0.517607</td>\n",
       "    </tr>\n",
       "  </tbody>\n",
       "</table>\n",
       "</div>"
      ],
      "text/plain": [
       "       model_name      dimension      mean       std  count        se  \\\n",
       "0         Aya 32b       Careless  0.436497  0.468449    347  0.025148   \n",
       "1         Aya 32b  Closed-Minded  0.246214  0.462212    350  0.024706   \n",
       "2         Aya 32b       Friendly -0.330461  0.468256    349  0.025065   \n",
       "3         Aya 32b          Rural  0.162452  0.411488    346  0.022122   \n",
       "4         Aya 32b         Temper  0.327439  0.435211    349  0.023296   \n",
       "5         Aya 32b     Uneducated  0.398522  0.456868    319  0.025580   \n",
       "6          Aya 8B       Careless  0.390430  0.496793    204  0.034782   \n",
       "7          Aya 8B  Closed-Minded  0.224394  0.471949    224  0.031533   \n",
       "8          Aya 8B       Friendly -0.073400  0.604667    256  0.037792   \n",
       "9          Aya 8B          Rural  0.126697  0.452541    243  0.029031   \n",
       "10         Aya 8B         Temper  0.256344  0.518672    237  0.033691   \n",
       "11         Aya 8B     Uneducated  0.256655  0.573928    210  0.039605   \n",
       "12    Gemma-3 12B       Careless  0.495079  0.489048    340  0.026522   \n",
       "13    Gemma-3 12B  Closed-Minded  0.301562  0.432775    348  0.023199   \n",
       "14    Gemma-3 12B       Friendly -0.296576  0.436863    344  0.023554   \n",
       "15    Gemma-3 12B          Rural  0.229515  0.384551    343  0.020764   \n",
       "16    Gemma-3 12B         Temper  0.466964  0.490349    350  0.026210   \n",
       "17    Gemma-3 12B     Uneducated  0.451392  0.481473    337  0.026228   \n",
       "18    Gemma-3 27B       Careless  0.463964  0.506074    222  0.033965   \n",
       "19    Gemma-3 27B  Closed-Minded  0.371353  0.422017    220  0.028452   \n",
       "20    Gemma-3 27B       Friendly -0.445951  0.478552    187  0.034995   \n",
       "21    Gemma-3 27B          Rural  0.246370  0.434365    276  0.026146   \n",
       "22    Gemma-3 27B         Temper  0.468056  0.497691    240  0.032126   \n",
       "23    Gemma-3 27B     Uneducated  0.445434  0.483269    231  0.031797   \n",
       "24  Llama-3.1 70B       Careless  0.524355  0.497724    349  0.026643   \n",
       "25  Llama-3.1 70B  Closed-Minded  0.399425  0.444493    348  0.023827   \n",
       "26  Llama-3.1 70B       Friendly -0.308648  0.498541    349  0.026686   \n",
       "27  Llama-3.1 70B          Rural  0.087354  0.394333    342  0.021323   \n",
       "28  Llama-3.1 70B         Temper  0.480471  0.493017    346  0.026505   \n",
       "29  Llama-3.1 70B     Uneducated  0.474316  0.479731    334  0.026250   \n",
       "30   Llama-3.1 8B       Careless  0.452218  0.452229    304  0.025937   \n",
       "31   Llama-3.1 8B  Closed-Minded  0.324693  0.425218    336  0.023198   \n",
       "32   Llama-3.1 8B       Friendly -0.297061  0.448691    329  0.024737   \n",
       "33   Llama-3.1 8B          Rural  0.064602  0.354901    340  0.019247   \n",
       "34   Llama-3.1 8B         Temper  0.320827  0.426253    325  0.023644   \n",
       "35   Llama-3.1 8B     Uneducated  0.393903  0.451186    302  0.025963   \n",
       "36    Qwen2.5 72B       Careless  0.518147  0.505704    349  0.027070   \n",
       "37    Qwen2.5 72B  Closed-Minded  0.423204  0.456949    350  0.024425   \n",
       "38    Qwen2.5 72B       Friendly -0.479543  0.497706    348  0.026680   \n",
       "39    Qwen2.5 72B          Rural  0.293543  0.488301    349  0.026138   \n",
       "40    Qwen2.5 72B         Temper  0.491882  0.499854    349  0.026757   \n",
       "41    Qwen2.5 72B     Uneducated  0.499048  0.495120    350  0.026465   \n",
       "42     Qwen2.5 7B       Careless  0.506084  0.482672    308  0.027503   \n",
       "43     Qwen2.5 7B  Closed-Minded  0.327455  0.446963    337  0.024348   \n",
       "44     Qwen2.5 7B       Friendly -0.356101  0.503400    292  0.029459   \n",
       "45     Qwen2.5 7B          Rural  0.169496  0.437837    299  0.025321   \n",
       "46     Qwen2.5 7B         Temper  0.453986  0.488859    267  0.029918   \n",
       "47     Qwen2.5 7B     Uneducated  0.472364  0.481268    308  0.027423   \n",
       "\n",
       "     t_score  margin_of_error     lower     upper  \n",
       "0   1.649269         0.041475  0.395021  0.477972  \n",
       "1   1.649231         0.040746  0.205468  0.286961  \n",
       "2   1.649244         0.041339 -0.371800 -0.289123  \n",
       "3   1.649282         0.036485  0.125967  0.198937  \n",
       "4   1.649244         0.038421  0.289018  0.365860  \n",
       "5   1.649659         0.042198  0.356324  0.440720  \n",
       "6   1.652394         0.057474  0.332955  0.447904  \n",
       "7   1.651715         0.052084  0.172310  0.276478  \n",
       "8   1.650851         0.062388 -0.135789 -0.011012  \n",
       "9   1.651175         0.047934  0.078762  0.174631  \n",
       "10  1.651336         0.055636  0.200708  0.311980  \n",
       "11  1.652177         0.065434  0.191221  0.322089  \n",
       "12  1.649361         0.043745  0.451334  0.538824  \n",
       "13  1.649257         0.038261  0.263301  0.339824  \n",
       "14  1.649308         0.038848 -0.335424 -0.257728  \n",
       "15  1.649321         0.034246  0.195269  0.263762  \n",
       "16  1.649231         0.043227  0.423737  0.510190  \n",
       "17  1.649401         0.043260  0.408132  0.494652  \n",
       "18  1.651778         0.056103  0.407861  0.520067  \n",
       "19  1.651841         0.046999  0.324354  0.418352  \n",
       "20  1.653087         0.057850 -0.503801 -0.388101  \n",
       "21  1.650413         0.043151  0.203218  0.289521  \n",
       "22  1.651254         0.053048  0.415008  0.521103  \n",
       "23  1.651506         0.052513  0.392921  0.497946  \n",
       "24  1.649244         0.043940  0.480415  0.568295  \n",
       "25  1.649257         0.039297  0.360128  0.438723  \n",
       "26  1.649244         0.044012 -0.352660 -0.264636  \n",
       "27  1.649334         0.035169  0.052185  0.122523  \n",
       "28  1.649282         0.043714  0.436757  0.524184  \n",
       "29  1.649442         0.043297  0.431018  0.517613  \n",
       "30  1.649898         0.042794  0.409424  0.495011  \n",
       "31  1.649415         0.038262  0.286431  0.362955  \n",
       "32  1.649512         0.040804 -0.337865 -0.256256  \n",
       "33  1.649361         0.031746  0.032856  0.096348  \n",
       "34  1.649570         0.039003  0.281824  0.359829  \n",
       "35  1.649932         0.042837  0.351066  0.436740  \n",
       "36  1.649244         0.044645  0.473503  0.562792  \n",
       "37  1.649231         0.040282  0.382922  0.463486  \n",
       "38  1.649257         0.044002 -0.523545 -0.435541  \n",
       "39  1.649244         0.043108  0.250435  0.336651  \n",
       "40  1.649244         0.044128  0.447753  0.536010  \n",
       "41  1.649231         0.043647  0.455400  0.542695  \n",
       "42  1.649832         0.045375  0.460709  0.551459  \n",
       "43  1.649401         0.040159  0.287296  0.367614  \n",
       "44  1.650107         0.048611 -0.404711 -0.307490  \n",
       "45  1.649983         0.041779  0.127717  0.211275  \n",
       "46  1.650602         0.049382  0.404604  0.503368  \n",
       "47  1.649832         0.045243  0.427121  0.517607  "
      ]
     },
     "execution_count": 17,
     "metadata": {},
     "output_type": "execute_result"
    }
   ],
   "source": [
    "data_robust"
   ]
  },
  {
   "cell_type": "code",
   "execution_count": 56,
   "id": "fe7562d5",
   "metadata": {},
   "outputs": [
    {
     "data": {
      "application/vnd.plotly.v1+json": {
       "config": {
        "plotlyServerURL": "https://plot.ly"
       },
       "data": [
        {
         "marker": {
          "color": "orange",
          "size": 10
         },
         "mode": "markers",
         "name": "Dialect",
         "showlegend": true,
         "type": "scatter",
         "x": [
          0.6356972789115646,
          0.31958843537414966,
          0.2301485260770975,
          0.44979641131815046,
          0.512405653904213,
          0.8075218075218076
         ],
         "xaxis": "x",
         "y": [
          0,
          1,
          2,
          3,
          4,
          5
         ],
         "yaxis": "y"
        },
        {
         "marker": {
          "color": "deepskyblue",
          "size": 10
         },
         "mode": "markers",
         "name": "Noisy",
         "showlegend": true,
         "type": "scatter",
         "x": [
          0.4364965006175381,
          0.24621428571428575,
          0.3304611816073134,
          0.16245183044315992,
          0.32743894119252287,
          0.39852216748768476
         ],
         "xaxis": "x",
         "y": [
          0,
          1,
          2,
          3,
          4,
          5
         ],
         "yaxis": "y"
        },
        {
         "marker": {
          "color": "orange",
          "size": 10
         },
         "mode": "markers",
         "showlegend": false,
         "type": "scatter",
         "x": [
          0.4596194301013578,
          0.4204289349327518,
          0.14458941017981608,
          0.49597756691852635,
          0.3002020202020202,
          0.6064539007092199
         ],
         "xaxis": "x2",
         "y": [
          0,
          1,
          2,
          3,
          4,
          5
         ],
         "yaxis": "y2"
        },
        {
         "marker": {
          "color": "deepskyblue",
          "size": 10
         },
         "mode": "markers",
         "showlegend": false,
         "type": "scatter",
         "x": [
          0.3904295051353875,
          0.22439413265306124,
          0.07340029761904761,
          0.12669671435103536,
          0.25634418324291747,
          0.256655328798186
         ],
         "xaxis": "x2",
         "y": [
          0,
          1,
          2,
          3,
          4,
          5
         ],
         "yaxis": "y2"
        },
        {
         "marker": {
          "color": "orange",
          "size": 10
         },
         "mode": "markers",
         "showlegend": false,
         "type": "scatter",
         "x": [
          0.7265534547152195,
          0.4059569160997733,
          0.04570802005012532,
          0.49164462081128746,
          0.5398189839450585,
          0.7719376185848489
         ],
         "xaxis": "x3",
         "y": [
          0,
          1,
          2,
          3,
          4,
          5
         ],
         "yaxis": "y3"
        },
        {
         "marker": {
          "color": "deepskyblue",
          "size": 10
         },
         "mode": "markers",
         "showlegend": false,
         "type": "scatter",
         "x": [
          0.4950793650793651,
          0.3015622149242839,
          0.2965762273901809,
          0.22951547966125224,
          0.4669637188208617,
          0.4513918326974707
         ],
         "xaxis": "x3",
         "y": [
          0,
          1,
          2,
          3,
          4,
          5
         ],
         "yaxis": "y3"
        },
        {
         "marker": {
          "color": "orange",
          "size": 10
         },
         "mode": "markers",
         "showlegend": false,
         "type": "scatter",
         "x": [
          0.924541331684189,
          0.33645382395382395,
          0.28685428849902533,
          0.7912534643487025,
          0.8296535517280198,
          0.9498795627200296
         ],
         "xaxis": "x4",
         "y": [
          0,
          1,
          2,
          3,
          4,
          5
         ],
         "yaxis": "y4"
        },
        {
         "marker": {
          "color": "deepskyblue",
          "size": 10
         },
         "mode": "markers",
         "showlegend": false,
         "type": "scatter",
         "x": [
          0.46396396396396394,
          0.3713528138528139,
          0.4459511077158136,
          0.2463696227283184,
          0.46805555555555556,
          0.4454339311482169
         ],
         "xaxis": "x4",
         "y": [
          0,
          1,
          2,
          3,
          4,
          5
         ],
         "yaxis": "y4"
        },
        {
         "marker": {
          "color": "orange",
          "size": 10
         },
         "mode": "markers",
         "showlegend": false,
         "type": "scatter",
         "x": [
          0.8590756704980844,
          0.650546485260771,
          0.05341246635106283,
          0.5373459316869059,
          0.6466881661406157,
          0.8972007075922739
         ],
         "xaxis": "x5",
         "y": [
          0,
          1,
          2,
          3,
          4,
          5
         ],
         "yaxis": "y5"
        },
        {
         "marker": {
          "color": "deepskyblue",
          "size": 10
         },
         "mode": "markers",
         "showlegend": false,
         "type": "scatter",
         "x": [
          0.5243553008595988,
          0.3994252873563218,
          0.3086482921726475,
          0.08735380116959066,
          0.48047068538398013,
          0.4743156544054748
         ],
         "xaxis": "x5",
         "y": [
          0,
          1,
          2,
          3,
          4,
          5
         ],
         "yaxis": "y5"
        },
        {
         "marker": {
          "color": "orange",
          "size": 10
         },
         "mode": "markers",
         "showlegend": false,
         "type": "scatter",
         "x": [
          0.5748782899741367,
          0.4085064935064936,
          0.29323940585408476,
          0.3842156862745098,
          0.39058259476240553,
          0.7387969094922737
         ],
         "xaxis": "x6",
         "y": [
          0,
          1,
          2,
          3,
          4,
          5
         ],
         "yaxis": "y6"
        },
        {
         "marker": {
          "color": "deepskyblue",
          "size": 10
         },
         "mode": "markers",
         "showlegend": false,
         "type": "scatter",
         "x": [
          0.452217784043442,
          0.3246929327286471,
          0.2970605972885608,
          0.06460200746965454,
          0.32082661782661787,
          0.39390307999579527
         ],
         "xaxis": "x6",
         "y": [
          0,
          1,
          2,
          3,
          4,
          5
         ],
         "yaxis": "y6"
        },
        {
         "marker": {
          "color": "orange",
          "size": 10
         },
         "mode": "markers",
         "showlegend": false,
         "type": "scatter",
         "x": [
          0.9813333333333334,
          0.7119945877109201,
          0.6674102878973939,
          0.8574285714285715,
          0.8940305635148041,
          0.9921768707482993
         ],
         "xaxis": "x7",
         "y": [
          0,
          1,
          2,
          3,
          4,
          5
         ],
         "yaxis": "y7"
        },
        {
         "marker": {
          "color": "deepskyblue",
          "size": 10
         },
         "mode": "markers",
         "showlegend": false,
         "type": "scatter",
         "x": [
          0.5181470869149952,
          0.42320408163265305,
          0.47954296661193213,
          0.29354277527629963,
          0.4918815663801337,
          0.499047619047619
         ],
         "xaxis": "x7",
         "y": [
          0,
          1,
          2,
          3,
          4,
          5
         ],
         "yaxis": "y7"
        },
        {
         "marker": {
          "color": "orange",
          "size": 10
         },
         "mode": "markers",
         "showlegend": false,
         "type": "scatter",
         "x": [
          0.8433428279287175,
          0.4911535510478109,
          0.5724297126257911,
          0.38145043731778433,
          0.5921570402558997,
          0.821023619914405
         ],
         "xaxis": "x8",
         "y": [
          0,
          1,
          2,
          3,
          4,
          5
         ],
         "yaxis": "y8"
        },
        {
         "marker": {
          "color": "deepskyblue",
          "size": 10
         },
         "mode": "markers",
         "showlegend": false,
         "type": "scatter",
         "x": [
          0.5060837971552258,
          0.3274551363572135,
          0.356100510980648,
          0.16949620427881298,
          0.45398608881754954,
          0.4723639455782313
         ],
         "xaxis": "x8",
         "y": [
          0,
          1,
          2,
          3,
          4,
          5
         ],
         "yaxis": "y8"
        }
       ],
       "layout": {
        "annotations": [
         {
          "font": {
           "size": 16
          },
          "showarrow": false,
          "text": "Aya 32b",
          "x": 0.058124999999999996,
          "xanchor": "center",
          "xref": "paper",
          "y": 1,
          "yanchor": "bottom",
          "yref": "paper"
         },
         {
          "font": {
           "size": 16
          },
          "showarrow": false,
          "text": "Aya 8B",
          "x": 0.184375,
          "xanchor": "center",
          "xref": "paper",
          "y": 1,
          "yanchor": "bottom",
          "yref": "paper"
         },
         {
          "font": {
           "size": 16
          },
          "showarrow": false,
          "text": "Gemma-3 12B",
          "x": 0.31062500000000004,
          "xanchor": "center",
          "xref": "paper",
          "y": 1,
          "yanchor": "bottom",
          "yref": "paper"
         },
         {
          "font": {
           "size": 16
          },
          "showarrow": false,
          "text": "Gemma-3 27B",
          "x": 0.436875,
          "xanchor": "center",
          "xref": "paper",
          "y": 1,
          "yanchor": "bottom",
          "yref": "paper"
         },
         {
          "font": {
           "size": 16
          },
          "showarrow": false,
          "text": "Llama-3.1 70B",
          "x": 0.563125,
          "xanchor": "center",
          "xref": "paper",
          "y": 1,
          "yanchor": "bottom",
          "yref": "paper"
         },
         {
          "font": {
           "size": 16
          },
          "showarrow": false,
          "text": "Llama-3.1 8B",
          "x": 0.689375,
          "xanchor": "center",
          "xref": "paper",
          "y": 1,
          "yanchor": "bottom",
          "yref": "paper"
         },
         {
          "font": {
           "size": 16
          },
          "showarrow": false,
          "text": "Qwen2.5 72B",
          "x": 0.8156249999999998,
          "xanchor": "center",
          "xref": "paper",
          "y": 1,
          "yanchor": "bottom",
          "yref": "paper"
         },
         {
          "font": {
           "size": 16
          },
          "showarrow": false,
          "text": "Qwen2.5 7B",
          "x": 0.9418749999999998,
          "xanchor": "center",
          "xref": "paper",
          "y": 1,
          "yanchor": "bottom",
          "yref": "paper"
         },
         {
          "arrowhead": 3,
          "arrowsize": 2,
          "arrowwidth": 1,
          "ax": 0.6356972789115646,
          "axref": "x",
          "ay": 0,
          "ayref": "y",
          "opacity": 0.8,
          "showarrow": true,
          "x": 0.4364965006175381,
          "xref": "x",
          "y": 0,
          "yref": "y"
         },
         {
          "arrowhead": 3,
          "arrowsize": 2,
          "arrowwidth": 1,
          "ax": 0.44979641131815046,
          "axref": "x",
          "ay": 3,
          "ayref": "y",
          "opacity": 0.8,
          "showarrow": true,
          "x": 0.16245183044315992,
          "xref": "x",
          "y": 3,
          "yref": "y"
         },
         {
          "arrowhead": 3,
          "arrowsize": 2,
          "arrowwidth": 1,
          "ax": 0.512405653904213,
          "axref": "x",
          "ay": 4,
          "ayref": "y",
          "opacity": 0.8,
          "showarrow": true,
          "x": 0.32743894119252287,
          "xref": "x",
          "y": 4,
          "yref": "y"
         },
         {
          "arrowhead": 3,
          "arrowsize": 2,
          "arrowwidth": 1,
          "ax": 0.8075218075218076,
          "axref": "x",
          "ay": 5,
          "ayref": "y",
          "opacity": 0.8,
          "showarrow": true,
          "x": 0.39852216748768476,
          "xref": "x",
          "y": 5,
          "yref": "y"
         },
         {
          "arrowhead": 3,
          "arrowsize": 2,
          "arrowwidth": 1,
          "ax": 0.4204289349327518,
          "axref": "x2",
          "ay": 1,
          "ayref": "y",
          "opacity": 0.8,
          "showarrow": true,
          "x": 0.22439413265306124,
          "xref": "x2",
          "y": 1,
          "yref": "y"
         },
         {
          "arrowhead": 3,
          "arrowsize": 2,
          "arrowwidth": 1,
          "ax": 0.49597756691852635,
          "axref": "x2",
          "ay": 3,
          "ayref": "y",
          "opacity": 0.8,
          "showarrow": true,
          "x": 0.12669671435103536,
          "xref": "x2",
          "y": 3,
          "yref": "y"
         },
         {
          "arrowhead": 3,
          "arrowsize": 2,
          "arrowwidth": 1,
          "ax": 0.6064539007092199,
          "axref": "x2",
          "ay": 5,
          "ayref": "y",
          "opacity": 0.8,
          "showarrow": true,
          "x": 0.256655328798186,
          "xref": "x2",
          "y": 5,
          "yref": "y"
         },
         {
          "arrowhead": 3,
          "arrowsize": 2,
          "arrowwidth": 1,
          "ax": 0.7265534547152195,
          "axref": "x3",
          "ay": 0,
          "ayref": "y",
          "opacity": 0.8,
          "showarrow": true,
          "x": 0.4950793650793651,
          "xref": "x3",
          "y": 0,
          "yref": "y"
         },
         {
          "arrowhead": 3,
          "arrowsize": 2,
          "arrowwidth": 1,
          "ax": 0.4059569160997733,
          "axref": "x3",
          "ay": 1,
          "ayref": "y",
          "opacity": 0.8,
          "showarrow": true,
          "x": 0.3015622149242839,
          "xref": "x3",
          "y": 1,
          "yref": "y"
         },
         {
          "arrowhead": 3,
          "arrowsize": 2,
          "arrowwidth": 1,
          "ax": 0.04570802005012532,
          "axref": "x3",
          "ay": 2,
          "ayref": "y",
          "opacity": 0.8,
          "showarrow": true,
          "x": 0.2965762273901809,
          "xref": "x3",
          "y": 2,
          "yref": "y"
         },
         {
          "arrowhead": 3,
          "arrowsize": 2,
          "arrowwidth": 1,
          "ax": 0.49164462081128746,
          "axref": "x3",
          "ay": 3,
          "ayref": "y",
          "opacity": 0.8,
          "showarrow": true,
          "x": 0.22951547966125224,
          "xref": "x3",
          "y": 3,
          "yref": "y"
         },
         {
          "arrowhead": 3,
          "arrowsize": 2,
          "arrowwidth": 1,
          "ax": 0.7719376185848489,
          "axref": "x3",
          "ay": 5,
          "ayref": "y",
          "opacity": 0.8,
          "showarrow": true,
          "x": 0.4513918326974707,
          "xref": "x3",
          "y": 5,
          "yref": "y"
         },
         {
          "arrowhead": 3,
          "arrowsize": 2,
          "arrowwidth": 1,
          "ax": 0.924541331684189,
          "axref": "x4",
          "ay": 0,
          "ayref": "y",
          "opacity": 0.8,
          "showarrow": true,
          "x": 0.46396396396396394,
          "xref": "x4",
          "y": 0,
          "yref": "y"
         },
         {
          "arrowhead": 3,
          "arrowsize": 2,
          "arrowwidth": 1,
          "ax": 0.28685428849902533,
          "axref": "x4",
          "ay": 2,
          "ayref": "y",
          "opacity": 0.8,
          "showarrow": true,
          "x": 0.4459511077158136,
          "xref": "x4",
          "y": 2,
          "yref": "y"
         },
         {
          "arrowhead": 3,
          "arrowsize": 2,
          "arrowwidth": 1,
          "ax": 0.7912534643487025,
          "axref": "x4",
          "ay": 3,
          "ayref": "y",
          "opacity": 0.8,
          "showarrow": true,
          "x": 0.2463696227283184,
          "xref": "x4",
          "y": 3,
          "yref": "y"
         },
         {
          "arrowhead": 3,
          "arrowsize": 2,
          "arrowwidth": 1,
          "ax": 0.8296535517280198,
          "axref": "x4",
          "ay": 4,
          "ayref": "y",
          "opacity": 0.8,
          "showarrow": true,
          "x": 0.46805555555555556,
          "xref": "x4",
          "y": 4,
          "yref": "y"
         },
         {
          "arrowhead": 3,
          "arrowsize": 2,
          "arrowwidth": 1,
          "ax": 0.9498795627200296,
          "axref": "x4",
          "ay": 5,
          "ayref": "y",
          "opacity": 0.8,
          "showarrow": true,
          "x": 0.4454339311482169,
          "xref": "x4",
          "y": 5,
          "yref": "y"
         },
         {
          "arrowhead": 3,
          "arrowsize": 2,
          "arrowwidth": 1,
          "ax": 0.8590756704980844,
          "axref": "x5",
          "ay": 0,
          "ayref": "y",
          "opacity": 0.8,
          "showarrow": true,
          "x": 0.5243553008595988,
          "xref": "x5",
          "y": 0,
          "yref": "y"
         },
         {
          "arrowhead": 3,
          "arrowsize": 2,
          "arrowwidth": 1,
          "ax": 0.650546485260771,
          "axref": "x5",
          "ay": 1,
          "ayref": "y",
          "opacity": 0.8,
          "showarrow": true,
          "x": 0.3994252873563218,
          "xref": "x5",
          "y": 1,
          "yref": "y"
         },
         {
          "arrowhead": 3,
          "arrowsize": 2,
          "arrowwidth": 1,
          "ax": 0.05341246635106283,
          "axref": "x5",
          "ay": 2,
          "ayref": "y",
          "opacity": 0.8,
          "showarrow": true,
          "x": 0.3086482921726475,
          "xref": "x5",
          "y": 2,
          "yref": "y"
         },
         {
          "arrowhead": 3,
          "arrowsize": 2,
          "arrowwidth": 1,
          "ax": 0.5373459316869059,
          "axref": "x5",
          "ay": 3,
          "ayref": "y",
          "opacity": 0.8,
          "showarrow": true,
          "x": 0.08735380116959066,
          "xref": "x5",
          "y": 3,
          "yref": "y"
         },
         {
          "arrowhead": 3,
          "arrowsize": 2,
          "arrowwidth": 1,
          "ax": 0.6466881661406157,
          "axref": "x5",
          "ay": 4,
          "ayref": "y",
          "opacity": 0.8,
          "showarrow": true,
          "x": 0.48047068538398013,
          "xref": "x5",
          "y": 4,
          "yref": "y"
         },
         {
          "arrowhead": 3,
          "arrowsize": 2,
          "arrowwidth": 1,
          "ax": 0.8972007075922739,
          "axref": "x5",
          "ay": 5,
          "ayref": "y",
          "opacity": 0.8,
          "showarrow": true,
          "x": 0.4743156544054748,
          "xref": "x5",
          "y": 5,
          "yref": "y"
         },
         {
          "arrowhead": 3,
          "arrowsize": 2,
          "arrowwidth": 1,
          "ax": 0.5748782899741367,
          "axref": "x6",
          "ay": 0,
          "ayref": "y",
          "opacity": 0.8,
          "showarrow": true,
          "x": 0.452217784043442,
          "xref": "x6",
          "y": 0,
          "yref": "y"
         },
         {
          "arrowhead": 3,
          "arrowsize": 2,
          "arrowwidth": 1,
          "ax": 0.3842156862745098,
          "axref": "x6",
          "ay": 3,
          "ayref": "y",
          "opacity": 0.8,
          "showarrow": true,
          "x": 0.06460200746965454,
          "xref": "x6",
          "y": 3,
          "yref": "y"
         },
         {
          "arrowhead": 3,
          "arrowsize": 2,
          "arrowwidth": 1,
          "ax": 0.7387969094922737,
          "axref": "x6",
          "ay": 5,
          "ayref": "y",
          "opacity": 0.8,
          "showarrow": true,
          "x": 0.39390307999579527,
          "xref": "x6",
          "y": 5,
          "yref": "y"
         },
         {
          "arrowhead": 3,
          "arrowsize": 2,
          "arrowwidth": 1,
          "ax": 0.9813333333333334,
          "axref": "x7",
          "ay": 0,
          "ayref": "y",
          "opacity": 0.8,
          "showarrow": true,
          "x": 0.5181470869149952,
          "xref": "x7",
          "y": 0,
          "yref": "y"
         },
         {
          "arrowhead": 3,
          "arrowsize": 2,
          "arrowwidth": 1,
          "ax": 0.7119945877109201,
          "axref": "x7",
          "ay": 1,
          "ayref": "y",
          "opacity": 0.8,
          "showarrow": true,
          "x": 0.42320408163265305,
          "xref": "x7",
          "y": 1,
          "yref": "y"
         },
         {
          "arrowhead": 3,
          "arrowsize": 2,
          "arrowwidth": 1,
          "ax": 0.8574285714285715,
          "axref": "x7",
          "ay": 3,
          "ayref": "y",
          "opacity": 0.8,
          "showarrow": true,
          "x": 0.29354277527629963,
          "xref": "x7",
          "y": 3,
          "yref": "y"
         },
         {
          "arrowhead": 3,
          "arrowsize": 2,
          "arrowwidth": 1,
          "ax": 0.8940305635148041,
          "axref": "x7",
          "ay": 4,
          "ayref": "y",
          "opacity": 0.8,
          "showarrow": true,
          "x": 0.4918815663801337,
          "xref": "x7",
          "y": 4,
          "yref": "y"
         },
         {
          "arrowhead": 3,
          "arrowsize": 2,
          "arrowwidth": 1,
          "ax": 0.9921768707482993,
          "axref": "x7",
          "ay": 5,
          "ayref": "y",
          "opacity": 0.8,
          "showarrow": true,
          "x": 0.499047619047619,
          "xref": "x7",
          "y": 5,
          "yref": "y"
         },
         {
          "arrowhead": 3,
          "arrowsize": 2,
          "arrowwidth": 1,
          "ax": 0.8433428279287175,
          "axref": "x8",
          "ay": 0,
          "ayref": "y",
          "opacity": 0.8,
          "showarrow": true,
          "x": 0.5060837971552258,
          "xref": "x8",
          "y": 0,
          "yref": "y"
         },
         {
          "arrowhead": 3,
          "arrowsize": 2,
          "arrowwidth": 1,
          "ax": 0.4911535510478109,
          "axref": "x8",
          "ay": 1,
          "ayref": "y",
          "opacity": 0.8,
          "showarrow": true,
          "x": 0.3274551363572135,
          "xref": "x8",
          "y": 1,
          "yref": "y"
         },
         {
          "arrowhead": 3,
          "arrowsize": 2,
          "arrowwidth": 1,
          "ax": 0.38145043731778433,
          "axref": "x8",
          "ay": 3,
          "ayref": "y",
          "opacity": 0.8,
          "showarrow": true,
          "x": 0.16949620427881298,
          "xref": "x8",
          "y": 3,
          "yref": "y"
         },
         {
          "arrowhead": 3,
          "arrowsize": 2,
          "arrowwidth": 1,
          "ax": 0.5921570402558997,
          "axref": "x8",
          "ay": 4,
          "ayref": "y",
          "opacity": 0.8,
          "showarrow": true,
          "x": 0.45398608881754954,
          "xref": "x8",
          "y": 4,
          "yref": "y"
         },
         {
          "arrowhead": 3,
          "arrowsize": 2,
          "arrowwidth": 1,
          "ax": 0.821023619914405,
          "axref": "x8",
          "ay": 5,
          "ayref": "y",
          "opacity": 0.8,
          "showarrow": true,
          "x": 0.4723639455782313,
          "xref": "x8",
          "y": 5,
          "yref": "y"
         }
        ],
        "font": {
         "color": "black",
         "size": 14
        },
        "height": 320,
        "legend": {
         "orientation": "h",
         "x": 0.5,
         "xanchor": "center",
         "y": 1.15,
         "yanchor": "bottom"
        },
        "margin": {
         "b": 50,
         "l": 110,
         "r": 5,
         "t": 40
        },
        "paper_bgcolor": "white",
        "plot_bgcolor": "white",
        "template": {},
        "width": 1600,
        "xaxis": {
         "anchor": "y",
         "domain": [
          0,
          0.11624999999999999
         ],
         "gridcolor": "lightgray",
         "linecolor": "black",
         "mirror": true,
         "range": [
          -0.1,
          1.1
         ],
         "showgrid": true,
         "tickvals": [
          0,
          0.5,
          1
         ],
         "title": {
          "text": "(Absolute) Bias"
         }
        },
        "xaxis2": {
         "anchor": "y2",
         "domain": [
          0.12625,
          0.2425
         ],
         "gridcolor": "lightgray",
         "linecolor": "black",
         "mirror": true,
         "range": [
          -0.1,
          1.1
         ],
         "showgrid": true,
         "tickvals": [
          0,
          0.5,
          1
         ],
         "title": {
          "text": "(Absolute) Bias"
         }
        },
        "xaxis3": {
         "anchor": "y3",
         "domain": [
          0.2525,
          0.36875
         ],
         "gridcolor": "lightgray",
         "linecolor": "black",
         "mirror": true,
         "range": [
          -0.1,
          1.1
         ],
         "showgrid": true,
         "tickvals": [
          0,
          0.5,
          1
         ],
         "title": {
          "text": "(Absolute) Bias"
         }
        },
        "xaxis4": {
         "anchor": "y4",
         "domain": [
          0.37875000000000003,
          0.495
         ],
         "gridcolor": "lightgray",
         "linecolor": "black",
         "mirror": true,
         "range": [
          -0.1,
          1.1
         ],
         "showgrid": true,
         "tickvals": [
          0,
          0.5,
          1
         ],
         "title": {
          "text": "(Absolute) Bias"
         }
        },
        "xaxis5": {
         "anchor": "y5",
         "domain": [
          0.505,
          0.62125
         ],
         "gridcolor": "lightgray",
         "linecolor": "black",
         "mirror": true,
         "range": [
          -0.1,
          1.1
         ],
         "showgrid": true,
         "tickvals": [
          0,
          0.5,
          1
         ],
         "title": {
          "text": "(Absolute) Bias"
         }
        },
        "xaxis6": {
         "anchor": "y6",
         "domain": [
          0.63125,
          0.7474999999999999
         ],
         "gridcolor": "lightgray",
         "linecolor": "black",
         "mirror": true,
         "range": [
          -0.1,
          1.1
         ],
         "showgrid": true,
         "tickvals": [
          0,
          0.5,
          1
         ],
         "title": {
          "text": "(Absolute) Bias"
         }
        },
        "xaxis7": {
         "anchor": "y7",
         "domain": [
          0.7574999999999998,
          0.8737499999999998
         ],
         "gridcolor": "lightgray",
         "linecolor": "black",
         "mirror": true,
         "range": [
          -0.1,
          1.1
         ],
         "showgrid": true,
         "tickvals": [
          0,
          0.5,
          1
         ],
         "title": {
          "text": "(Absolute) Bias"
         }
        },
        "xaxis8": {
         "anchor": "y8",
         "domain": [
          0.8837499999999998,
          0.9999999999999998
         ],
         "gridcolor": "lightgray",
         "linecolor": "black",
         "mirror": true,
         "range": [
          -0.1,
          1.1
         ],
         "showgrid": true,
         "tickvals": [
          0,
          0.5,
          1
         ],
         "title": {
          "text": "(Absolute) Bias"
         }
        },
        "yaxis": {
         "anchor": "x",
         "domain": [
          0,
          1
         ],
         "gridcolor": "lightgray",
         "linecolor": "black",
         "mirror": true,
         "showgrid": true,
         "showticklabels": true,
         "ticktext": [
          "Careless",
          "Closed-Minded",
          "Friendly",
          "Rural",
          "Temper",
          "Uneducated"
         ],
         "tickvals": [
          0,
          1,
          2,
          3,
          4,
          5
         ],
         "title": {
          "text": ""
         }
        },
        "yaxis2": {
         "anchor": "x2",
         "domain": [
          0,
          1
         ],
         "gridcolor": "lightgray",
         "linecolor": "black",
         "matches": "y",
         "mirror": true,
         "showgrid": true,
         "showticklabels": false,
         "tickvals": [
          0,
          1,
          2,
          3,
          4,
          5
         ]
        },
        "yaxis3": {
         "anchor": "x3",
         "domain": [
          0,
          1
         ],
         "gridcolor": "lightgray",
         "linecolor": "black",
         "matches": "y",
         "mirror": true,
         "showgrid": true,
         "showticklabels": false,
         "tickvals": [
          0,
          1,
          2,
          3,
          4,
          5
         ]
        },
        "yaxis4": {
         "anchor": "x4",
         "domain": [
          0,
          1
         ],
         "gridcolor": "lightgray",
         "linecolor": "black",
         "matches": "y",
         "mirror": true,
         "showgrid": true,
         "showticklabels": false,
         "tickvals": [
          0,
          1,
          2,
          3,
          4,
          5
         ]
        },
        "yaxis5": {
         "anchor": "x5",
         "domain": [
          0,
          1
         ],
         "gridcolor": "lightgray",
         "linecolor": "black",
         "matches": "y",
         "mirror": true,
         "showgrid": true,
         "showticklabels": false,
         "tickvals": [
          0,
          1,
          2,
          3,
          4,
          5
         ]
        },
        "yaxis6": {
         "anchor": "x6",
         "domain": [
          0,
          1
         ],
         "gridcolor": "lightgray",
         "linecolor": "black",
         "matches": "y",
         "mirror": true,
         "showgrid": true,
         "showticklabels": false,
         "tickvals": [
          0,
          1,
          2,
          3,
          4,
          5
         ]
        },
        "yaxis7": {
         "anchor": "x7",
         "domain": [
          0,
          1
         ],
         "gridcolor": "lightgray",
         "linecolor": "black",
         "matches": "y",
         "mirror": true,
         "showgrid": true,
         "showticklabels": false,
         "tickvals": [
          0,
          1,
          2,
          3,
          4,
          5
         ]
        },
        "yaxis8": {
         "anchor": "x8",
         "domain": [
          0,
          1
         ],
         "gridcolor": "lightgray",
         "linecolor": "black",
         "matches": "y",
         "mirror": true,
         "showgrid": true,
         "showticklabels": false,
         "tickvals": [
          0,
          1,
          2,
          3,
          4,
          5
         ]
        }
       }
      },
      "text/html": [
       "<div>                            <div id=\"9f8ddf6a-e6d9-4bc9-a313-bb30b9e00d9c\" class=\"plotly-graph-div\" style=\"height:320px; width:1600px;\"></div>            <script type=\"text/javascript\">                require([\"plotly\"], function(Plotly) {                    window.PLOTLYENV=window.PLOTLYENV || {};                                    if (document.getElementById(\"9f8ddf6a-e6d9-4bc9-a313-bb30b9e00d9c\")) {                    Plotly.newPlot(                        \"9f8ddf6a-e6d9-4bc9-a313-bb30b9e00d9c\",                        [{\"marker\":{\"color\":\"orange\",\"size\":10},\"mode\":\"markers\",\"name\":\"Dialect\",\"showlegend\":true,\"x\":[0.6356972789115646,0.31958843537414966,0.2301485260770975,0.44979641131815046,0.512405653904213,0.8075218075218076],\"y\":[0,1,2,3,4,5],\"type\":\"scatter\",\"xaxis\":\"x\",\"yaxis\":\"y\"},{\"marker\":{\"color\":\"deepskyblue\",\"size\":10},\"mode\":\"markers\",\"name\":\"Noisy\",\"showlegend\":true,\"x\":[0.4364965006175381,0.24621428571428575,0.3304611816073134,0.16245183044315992,0.32743894119252287,0.39852216748768476],\"y\":[0,1,2,3,4,5],\"type\":\"scatter\",\"xaxis\":\"x\",\"yaxis\":\"y\"},{\"marker\":{\"color\":\"orange\",\"size\":10},\"mode\":\"markers\",\"showlegend\":false,\"x\":[0.4596194301013578,0.4204289349327518,0.14458941017981608,0.49597756691852635,0.3002020202020202,0.6064539007092199],\"y\":[0,1,2,3,4,5],\"type\":\"scatter\",\"xaxis\":\"x2\",\"yaxis\":\"y2\"},{\"marker\":{\"color\":\"deepskyblue\",\"size\":10},\"mode\":\"markers\",\"showlegend\":false,\"x\":[0.3904295051353875,0.22439413265306124,0.07340029761904761,0.12669671435103536,0.25634418324291747,0.256655328798186],\"y\":[0,1,2,3,4,5],\"type\":\"scatter\",\"xaxis\":\"x2\",\"yaxis\":\"y2\"},{\"marker\":{\"color\":\"orange\",\"size\":10},\"mode\":\"markers\",\"showlegend\":false,\"x\":[0.7265534547152195,0.4059569160997733,0.04570802005012532,0.49164462081128746,0.5398189839450585,0.7719376185848489],\"y\":[0,1,2,3,4,5],\"type\":\"scatter\",\"xaxis\":\"x3\",\"yaxis\":\"y3\"},{\"marker\":{\"color\":\"deepskyblue\",\"size\":10},\"mode\":\"markers\",\"showlegend\":false,\"x\":[0.4950793650793651,0.3015622149242839,0.2965762273901809,0.22951547966125224,0.4669637188208617,0.4513918326974707],\"y\":[0,1,2,3,4,5],\"type\":\"scatter\",\"xaxis\":\"x3\",\"yaxis\":\"y3\"},{\"marker\":{\"color\":\"orange\",\"size\":10},\"mode\":\"markers\",\"showlegend\":false,\"x\":[0.924541331684189,0.33645382395382395,0.28685428849902533,0.7912534643487025,0.8296535517280198,0.9498795627200296],\"y\":[0,1,2,3,4,5],\"type\":\"scatter\",\"xaxis\":\"x4\",\"yaxis\":\"y4\"},{\"marker\":{\"color\":\"deepskyblue\",\"size\":10},\"mode\":\"markers\",\"showlegend\":false,\"x\":[0.46396396396396394,0.3713528138528139,0.4459511077158136,0.2463696227283184,0.46805555555555556,0.4454339311482169],\"y\":[0,1,2,3,4,5],\"type\":\"scatter\",\"xaxis\":\"x4\",\"yaxis\":\"y4\"},{\"marker\":{\"color\":\"orange\",\"size\":10},\"mode\":\"markers\",\"showlegend\":false,\"x\":[0.8590756704980844,0.650546485260771,0.05341246635106283,0.5373459316869059,0.6466881661406157,0.8972007075922739],\"y\":[0,1,2,3,4,5],\"type\":\"scatter\",\"xaxis\":\"x5\",\"yaxis\":\"y5\"},{\"marker\":{\"color\":\"deepskyblue\",\"size\":10},\"mode\":\"markers\",\"showlegend\":false,\"x\":[0.5243553008595988,0.3994252873563218,0.3086482921726475,0.08735380116959066,0.48047068538398013,0.4743156544054748],\"y\":[0,1,2,3,4,5],\"type\":\"scatter\",\"xaxis\":\"x5\",\"yaxis\":\"y5\"},{\"marker\":{\"color\":\"orange\",\"size\":10},\"mode\":\"markers\",\"showlegend\":false,\"x\":[0.5748782899741367,0.4085064935064936,0.29323940585408476,0.3842156862745098,0.39058259476240553,0.7387969094922737],\"y\":[0,1,2,3,4,5],\"type\":\"scatter\",\"xaxis\":\"x6\",\"yaxis\":\"y6\"},{\"marker\":{\"color\":\"deepskyblue\",\"size\":10},\"mode\":\"markers\",\"showlegend\":false,\"x\":[0.452217784043442,0.3246929327286471,0.2970605972885608,0.06460200746965454,0.32082661782661787,0.39390307999579527],\"y\":[0,1,2,3,4,5],\"type\":\"scatter\",\"xaxis\":\"x6\",\"yaxis\":\"y6\"},{\"marker\":{\"color\":\"orange\",\"size\":10},\"mode\":\"markers\",\"showlegend\":false,\"x\":[0.9813333333333334,0.7119945877109201,0.6674102878973939,0.8574285714285715,0.8940305635148041,0.9921768707482993],\"y\":[0,1,2,3,4,5],\"type\":\"scatter\",\"xaxis\":\"x7\",\"yaxis\":\"y7\"},{\"marker\":{\"color\":\"deepskyblue\",\"size\":10},\"mode\":\"markers\",\"showlegend\":false,\"x\":[0.5181470869149952,0.42320408163265305,0.47954296661193213,0.29354277527629963,0.4918815663801337,0.499047619047619],\"y\":[0,1,2,3,4,5],\"type\":\"scatter\",\"xaxis\":\"x7\",\"yaxis\":\"y7\"},{\"marker\":{\"color\":\"orange\",\"size\":10},\"mode\":\"markers\",\"showlegend\":false,\"x\":[0.8433428279287175,0.4911535510478109,0.5724297126257911,0.38145043731778433,0.5921570402558997,0.821023619914405],\"y\":[0,1,2,3,4,5],\"type\":\"scatter\",\"xaxis\":\"x8\",\"yaxis\":\"y8\"},{\"marker\":{\"color\":\"deepskyblue\",\"size\":10},\"mode\":\"markers\",\"showlegend\":false,\"x\":[0.5060837971552258,0.3274551363572135,0.356100510980648,0.16949620427881298,0.45398608881754954,0.4723639455782313],\"y\":[0,1,2,3,4,5],\"type\":\"scatter\",\"xaxis\":\"x8\",\"yaxis\":\"y8\"}],                        {\"template\":{},\"xaxis\":{\"anchor\":\"y\",\"domain\":[0.0,0.11624999999999999],\"title\":{\"text\":\"(Absolute) Bias\"},\"range\":[-0.1,1.1],\"tickvals\":[0,0.5,1],\"showgrid\":true,\"gridcolor\":\"lightgray\",\"linecolor\":\"black\",\"mirror\":true},\"yaxis\":{\"anchor\":\"x\",\"domain\":[0.0,1.0],\"title\":{\"text\":\"\"},\"tickvals\":[0,1,2,3,4,5],\"ticktext\":[\"Careless\",\"Closed-Minded\",\"Friendly\",\"Rural\",\"Temper\",\"Uneducated\"],\"showticklabels\":true,\"showgrid\":true,\"gridcolor\":\"lightgray\",\"linecolor\":\"black\",\"mirror\":true},\"xaxis2\":{\"anchor\":\"y2\",\"domain\":[0.12625,0.2425],\"title\":{\"text\":\"(Absolute) Bias\"},\"range\":[-0.1,1.1],\"tickvals\":[0,0.5,1],\"showgrid\":true,\"gridcolor\":\"lightgray\",\"linecolor\":\"black\",\"mirror\":true},\"yaxis2\":{\"anchor\":\"x2\",\"domain\":[0.0,1.0],\"matches\":\"y\",\"showticklabels\":false,\"tickvals\":[0,1,2,3,4,5],\"showgrid\":true,\"gridcolor\":\"lightgray\",\"linecolor\":\"black\",\"mirror\":true},\"xaxis3\":{\"anchor\":\"y3\",\"domain\":[0.2525,0.36875],\"title\":{\"text\":\"(Absolute) Bias\"},\"range\":[-0.1,1.1],\"tickvals\":[0,0.5,1],\"showgrid\":true,\"gridcolor\":\"lightgray\",\"linecolor\":\"black\",\"mirror\":true},\"yaxis3\":{\"anchor\":\"x3\",\"domain\":[0.0,1.0],\"matches\":\"y\",\"showticklabels\":false,\"tickvals\":[0,1,2,3,4,5],\"showgrid\":true,\"gridcolor\":\"lightgray\",\"linecolor\":\"black\",\"mirror\":true},\"xaxis4\":{\"anchor\":\"y4\",\"domain\":[0.37875000000000003,0.495],\"title\":{\"text\":\"(Absolute) Bias\"},\"range\":[-0.1,1.1],\"tickvals\":[0,0.5,1],\"showgrid\":true,\"gridcolor\":\"lightgray\",\"linecolor\":\"black\",\"mirror\":true},\"yaxis4\":{\"anchor\":\"x4\",\"domain\":[0.0,1.0],\"matches\":\"y\",\"showticklabels\":false,\"tickvals\":[0,1,2,3,4,5],\"showgrid\":true,\"gridcolor\":\"lightgray\",\"linecolor\":\"black\",\"mirror\":true},\"xaxis5\":{\"anchor\":\"y5\",\"domain\":[0.505,0.62125],\"title\":{\"text\":\"(Absolute) Bias\"},\"range\":[-0.1,1.1],\"tickvals\":[0,0.5,1],\"showgrid\":true,\"gridcolor\":\"lightgray\",\"linecolor\":\"black\",\"mirror\":true},\"yaxis5\":{\"anchor\":\"x5\",\"domain\":[0.0,1.0],\"matches\":\"y\",\"showticklabels\":false,\"tickvals\":[0,1,2,3,4,5],\"showgrid\":true,\"gridcolor\":\"lightgray\",\"linecolor\":\"black\",\"mirror\":true},\"xaxis6\":{\"anchor\":\"y6\",\"domain\":[0.63125,0.7474999999999999],\"title\":{\"text\":\"(Absolute) Bias\"},\"range\":[-0.1,1.1],\"tickvals\":[0,0.5,1],\"showgrid\":true,\"gridcolor\":\"lightgray\",\"linecolor\":\"black\",\"mirror\":true},\"yaxis6\":{\"anchor\":\"x6\",\"domain\":[0.0,1.0],\"matches\":\"y\",\"showticklabels\":false,\"tickvals\":[0,1,2,3,4,5],\"showgrid\":true,\"gridcolor\":\"lightgray\",\"linecolor\":\"black\",\"mirror\":true},\"xaxis7\":{\"anchor\":\"y7\",\"domain\":[0.7574999999999998,0.8737499999999998],\"title\":{\"text\":\"(Absolute) Bias\"},\"range\":[-0.1,1.1],\"tickvals\":[0,0.5,1],\"showgrid\":true,\"gridcolor\":\"lightgray\",\"linecolor\":\"black\",\"mirror\":true},\"yaxis7\":{\"anchor\":\"x7\",\"domain\":[0.0,1.0],\"matches\":\"y\",\"showticklabels\":false,\"tickvals\":[0,1,2,3,4,5],\"showgrid\":true,\"gridcolor\":\"lightgray\",\"linecolor\":\"black\",\"mirror\":true},\"xaxis8\":{\"anchor\":\"y8\",\"domain\":[0.8837499999999998,0.9999999999999998],\"title\":{\"text\":\"(Absolute) Bias\"},\"range\":[-0.1,1.1],\"tickvals\":[0,0.5,1],\"showgrid\":true,\"gridcolor\":\"lightgray\",\"linecolor\":\"black\",\"mirror\":true},\"yaxis8\":{\"anchor\":\"x8\",\"domain\":[0.0,1.0],\"matches\":\"y\",\"showticklabels\":false,\"tickvals\":[0,1,2,3,4,5],\"showgrid\":true,\"gridcolor\":\"lightgray\",\"linecolor\":\"black\",\"mirror\":true},\"annotations\":[{\"font\":{\"size\":16},\"showarrow\":false,\"text\":\"Aya 32b\",\"x\":0.058124999999999996,\"xanchor\":\"center\",\"xref\":\"paper\",\"y\":1.0,\"yanchor\":\"bottom\",\"yref\":\"paper\"},{\"font\":{\"size\":16},\"showarrow\":false,\"text\":\"Aya 8B\",\"x\":0.184375,\"xanchor\":\"center\",\"xref\":\"paper\",\"y\":1.0,\"yanchor\":\"bottom\",\"yref\":\"paper\"},{\"font\":{\"size\":16},\"showarrow\":false,\"text\":\"Gemma-3 12B\",\"x\":0.31062500000000004,\"xanchor\":\"center\",\"xref\":\"paper\",\"y\":1.0,\"yanchor\":\"bottom\",\"yref\":\"paper\"},{\"font\":{\"size\":16},\"showarrow\":false,\"text\":\"Gemma-3 27B\",\"x\":0.436875,\"xanchor\":\"center\",\"xref\":\"paper\",\"y\":1.0,\"yanchor\":\"bottom\",\"yref\":\"paper\"},{\"font\":{\"size\":16},\"showarrow\":false,\"text\":\"Llama-3.1 70B\",\"x\":0.563125,\"xanchor\":\"center\",\"xref\":\"paper\",\"y\":1.0,\"yanchor\":\"bottom\",\"yref\":\"paper\"},{\"font\":{\"size\":16},\"showarrow\":false,\"text\":\"Llama-3.1 8B\",\"x\":0.689375,\"xanchor\":\"center\",\"xref\":\"paper\",\"y\":1.0,\"yanchor\":\"bottom\",\"yref\":\"paper\"},{\"font\":{\"size\":16},\"showarrow\":false,\"text\":\"Qwen2.5 72B\",\"x\":0.8156249999999998,\"xanchor\":\"center\",\"xref\":\"paper\",\"y\":1.0,\"yanchor\":\"bottom\",\"yref\":\"paper\"},{\"font\":{\"size\":16},\"showarrow\":false,\"text\":\"Qwen2.5 7B\",\"x\":0.9418749999999998,\"xanchor\":\"center\",\"xref\":\"paper\",\"y\":1.0,\"yanchor\":\"bottom\",\"yref\":\"paper\"},{\"arrowhead\":3,\"arrowsize\":2,\"arrowwidth\":1,\"ax\":0.6356972789115646,\"axref\":\"x\",\"ay\":0,\"ayref\":\"y\",\"opacity\":0.8,\"showarrow\":true,\"x\":0.4364965006175381,\"xref\":\"x\",\"y\":0,\"yref\":\"y\"},{\"arrowhead\":3,\"arrowsize\":2,\"arrowwidth\":1,\"ax\":0.44979641131815046,\"axref\":\"x\",\"ay\":3,\"ayref\":\"y\",\"opacity\":0.8,\"showarrow\":true,\"x\":0.16245183044315992,\"xref\":\"x\",\"y\":3,\"yref\":\"y\"},{\"arrowhead\":3,\"arrowsize\":2,\"arrowwidth\":1,\"ax\":0.512405653904213,\"axref\":\"x\",\"ay\":4,\"ayref\":\"y\",\"opacity\":0.8,\"showarrow\":true,\"x\":0.32743894119252287,\"xref\":\"x\",\"y\":4,\"yref\":\"y\"},{\"arrowhead\":3,\"arrowsize\":2,\"arrowwidth\":1,\"ax\":0.8075218075218076,\"axref\":\"x\",\"ay\":5,\"ayref\":\"y\",\"opacity\":0.8,\"showarrow\":true,\"x\":0.39852216748768476,\"xref\":\"x\",\"y\":5,\"yref\":\"y\"},{\"arrowhead\":3,\"arrowsize\":2,\"arrowwidth\":1,\"ax\":0.4204289349327518,\"axref\":\"x2\",\"ay\":1,\"ayref\":\"y\",\"opacity\":0.8,\"showarrow\":true,\"x\":0.22439413265306124,\"xref\":\"x2\",\"y\":1,\"yref\":\"y\"},{\"arrowhead\":3,\"arrowsize\":2,\"arrowwidth\":1,\"ax\":0.49597756691852635,\"axref\":\"x2\",\"ay\":3,\"ayref\":\"y\",\"opacity\":0.8,\"showarrow\":true,\"x\":0.12669671435103536,\"xref\":\"x2\",\"y\":3,\"yref\":\"y\"},{\"arrowhead\":3,\"arrowsize\":2,\"arrowwidth\":1,\"ax\":0.6064539007092199,\"axref\":\"x2\",\"ay\":5,\"ayref\":\"y\",\"opacity\":0.8,\"showarrow\":true,\"x\":0.256655328798186,\"xref\":\"x2\",\"y\":5,\"yref\":\"y\"},{\"arrowhead\":3,\"arrowsize\":2,\"arrowwidth\":1,\"ax\":0.7265534547152195,\"axref\":\"x3\",\"ay\":0,\"ayref\":\"y\",\"opacity\":0.8,\"showarrow\":true,\"x\":0.4950793650793651,\"xref\":\"x3\",\"y\":0,\"yref\":\"y\"},{\"arrowhead\":3,\"arrowsize\":2,\"arrowwidth\":1,\"ax\":0.4059569160997733,\"axref\":\"x3\",\"ay\":1,\"ayref\":\"y\",\"opacity\":0.8,\"showarrow\":true,\"x\":0.3015622149242839,\"xref\":\"x3\",\"y\":1,\"yref\":\"y\"},{\"arrowhead\":3,\"arrowsize\":2,\"arrowwidth\":1,\"ax\":0.04570802005012532,\"axref\":\"x3\",\"ay\":2,\"ayref\":\"y\",\"opacity\":0.8,\"showarrow\":true,\"x\":0.2965762273901809,\"xref\":\"x3\",\"y\":2,\"yref\":\"y\"},{\"arrowhead\":3,\"arrowsize\":2,\"arrowwidth\":1,\"ax\":0.49164462081128746,\"axref\":\"x3\",\"ay\":3,\"ayref\":\"y\",\"opacity\":0.8,\"showarrow\":true,\"x\":0.22951547966125224,\"xref\":\"x3\",\"y\":3,\"yref\":\"y\"},{\"arrowhead\":3,\"arrowsize\":2,\"arrowwidth\":1,\"ax\":0.7719376185848489,\"axref\":\"x3\",\"ay\":5,\"ayref\":\"y\",\"opacity\":0.8,\"showarrow\":true,\"x\":0.4513918326974707,\"xref\":\"x3\",\"y\":5,\"yref\":\"y\"},{\"arrowhead\":3,\"arrowsize\":2,\"arrowwidth\":1,\"ax\":0.924541331684189,\"axref\":\"x4\",\"ay\":0,\"ayref\":\"y\",\"opacity\":0.8,\"showarrow\":true,\"x\":0.46396396396396394,\"xref\":\"x4\",\"y\":0,\"yref\":\"y\"},{\"arrowhead\":3,\"arrowsize\":2,\"arrowwidth\":1,\"ax\":0.28685428849902533,\"axref\":\"x4\",\"ay\":2,\"ayref\":\"y\",\"opacity\":0.8,\"showarrow\":true,\"x\":0.4459511077158136,\"xref\":\"x4\",\"y\":2,\"yref\":\"y\"},{\"arrowhead\":3,\"arrowsize\":2,\"arrowwidth\":1,\"ax\":0.7912534643487025,\"axref\":\"x4\",\"ay\":3,\"ayref\":\"y\",\"opacity\":0.8,\"showarrow\":true,\"x\":0.2463696227283184,\"xref\":\"x4\",\"y\":3,\"yref\":\"y\"},{\"arrowhead\":3,\"arrowsize\":2,\"arrowwidth\":1,\"ax\":0.8296535517280198,\"axref\":\"x4\",\"ay\":4,\"ayref\":\"y\",\"opacity\":0.8,\"showarrow\":true,\"x\":0.46805555555555556,\"xref\":\"x4\",\"y\":4,\"yref\":\"y\"},{\"arrowhead\":3,\"arrowsize\":2,\"arrowwidth\":1,\"ax\":0.9498795627200296,\"axref\":\"x4\",\"ay\":5,\"ayref\":\"y\",\"opacity\":0.8,\"showarrow\":true,\"x\":0.4454339311482169,\"xref\":\"x4\",\"y\":5,\"yref\":\"y\"},{\"arrowhead\":3,\"arrowsize\":2,\"arrowwidth\":1,\"ax\":0.8590756704980844,\"axref\":\"x5\",\"ay\":0,\"ayref\":\"y\",\"opacity\":0.8,\"showarrow\":true,\"x\":0.5243553008595988,\"xref\":\"x5\",\"y\":0,\"yref\":\"y\"},{\"arrowhead\":3,\"arrowsize\":2,\"arrowwidth\":1,\"ax\":0.650546485260771,\"axref\":\"x5\",\"ay\":1,\"ayref\":\"y\",\"opacity\":0.8,\"showarrow\":true,\"x\":0.3994252873563218,\"xref\":\"x5\",\"y\":1,\"yref\":\"y\"},{\"arrowhead\":3,\"arrowsize\":2,\"arrowwidth\":1,\"ax\":0.05341246635106283,\"axref\":\"x5\",\"ay\":2,\"ayref\":\"y\",\"opacity\":0.8,\"showarrow\":true,\"x\":0.3086482921726475,\"xref\":\"x5\",\"y\":2,\"yref\":\"y\"},{\"arrowhead\":3,\"arrowsize\":2,\"arrowwidth\":1,\"ax\":0.5373459316869059,\"axref\":\"x5\",\"ay\":3,\"ayref\":\"y\",\"opacity\":0.8,\"showarrow\":true,\"x\":0.08735380116959066,\"xref\":\"x5\",\"y\":3,\"yref\":\"y\"},{\"arrowhead\":3,\"arrowsize\":2,\"arrowwidth\":1,\"ax\":0.6466881661406157,\"axref\":\"x5\",\"ay\":4,\"ayref\":\"y\",\"opacity\":0.8,\"showarrow\":true,\"x\":0.48047068538398013,\"xref\":\"x5\",\"y\":4,\"yref\":\"y\"},{\"arrowhead\":3,\"arrowsize\":2,\"arrowwidth\":1,\"ax\":0.8972007075922739,\"axref\":\"x5\",\"ay\":5,\"ayref\":\"y\",\"opacity\":0.8,\"showarrow\":true,\"x\":0.4743156544054748,\"xref\":\"x5\",\"y\":5,\"yref\":\"y\"},{\"arrowhead\":3,\"arrowsize\":2,\"arrowwidth\":1,\"ax\":0.5748782899741367,\"axref\":\"x6\",\"ay\":0,\"ayref\":\"y\",\"opacity\":0.8,\"showarrow\":true,\"x\":0.452217784043442,\"xref\":\"x6\",\"y\":0,\"yref\":\"y\"},{\"arrowhead\":3,\"arrowsize\":2,\"arrowwidth\":1,\"ax\":0.3842156862745098,\"axref\":\"x6\",\"ay\":3,\"ayref\":\"y\",\"opacity\":0.8,\"showarrow\":true,\"x\":0.06460200746965454,\"xref\":\"x6\",\"y\":3,\"yref\":\"y\"},{\"arrowhead\":3,\"arrowsize\":2,\"arrowwidth\":1,\"ax\":0.7387969094922737,\"axref\":\"x6\",\"ay\":5,\"ayref\":\"y\",\"opacity\":0.8,\"showarrow\":true,\"x\":0.39390307999579527,\"xref\":\"x6\",\"y\":5,\"yref\":\"y\"},{\"arrowhead\":3,\"arrowsize\":2,\"arrowwidth\":1,\"ax\":0.9813333333333334,\"axref\":\"x7\",\"ay\":0,\"ayref\":\"y\",\"opacity\":0.8,\"showarrow\":true,\"x\":0.5181470869149952,\"xref\":\"x7\",\"y\":0,\"yref\":\"y\"},{\"arrowhead\":3,\"arrowsize\":2,\"arrowwidth\":1,\"ax\":0.7119945877109201,\"axref\":\"x7\",\"ay\":1,\"ayref\":\"y\",\"opacity\":0.8,\"showarrow\":true,\"x\":0.42320408163265305,\"xref\":\"x7\",\"y\":1,\"yref\":\"y\"},{\"arrowhead\":3,\"arrowsize\":2,\"arrowwidth\":1,\"ax\":0.8574285714285715,\"axref\":\"x7\",\"ay\":3,\"ayref\":\"y\",\"opacity\":0.8,\"showarrow\":true,\"x\":0.29354277527629963,\"xref\":\"x7\",\"y\":3,\"yref\":\"y\"},{\"arrowhead\":3,\"arrowsize\":2,\"arrowwidth\":1,\"ax\":0.8940305635148041,\"axref\":\"x7\",\"ay\":4,\"ayref\":\"y\",\"opacity\":0.8,\"showarrow\":true,\"x\":0.4918815663801337,\"xref\":\"x7\",\"y\":4,\"yref\":\"y\"},{\"arrowhead\":3,\"arrowsize\":2,\"arrowwidth\":1,\"ax\":0.9921768707482993,\"axref\":\"x7\",\"ay\":5,\"ayref\":\"y\",\"opacity\":0.8,\"showarrow\":true,\"x\":0.499047619047619,\"xref\":\"x7\",\"y\":5,\"yref\":\"y\"},{\"arrowhead\":3,\"arrowsize\":2,\"arrowwidth\":1,\"ax\":0.8433428279287175,\"axref\":\"x8\",\"ay\":0,\"ayref\":\"y\",\"opacity\":0.8,\"showarrow\":true,\"x\":0.5060837971552258,\"xref\":\"x8\",\"y\":0,\"yref\":\"y\"},{\"arrowhead\":3,\"arrowsize\":2,\"arrowwidth\":1,\"ax\":0.4911535510478109,\"axref\":\"x8\",\"ay\":1,\"ayref\":\"y\",\"opacity\":0.8,\"showarrow\":true,\"x\":0.3274551363572135,\"xref\":\"x8\",\"y\":1,\"yref\":\"y\"},{\"arrowhead\":3,\"arrowsize\":2,\"arrowwidth\":1,\"ax\":0.38145043731778433,\"axref\":\"x8\",\"ay\":3,\"ayref\":\"y\",\"opacity\":0.8,\"showarrow\":true,\"x\":0.16949620427881298,\"xref\":\"x8\",\"y\":3,\"yref\":\"y\"},{\"arrowhead\":3,\"arrowsize\":2,\"arrowwidth\":1,\"ax\":0.5921570402558997,\"axref\":\"x8\",\"ay\":4,\"ayref\":\"y\",\"opacity\":0.8,\"showarrow\":true,\"x\":0.45398608881754954,\"xref\":\"x8\",\"y\":4,\"yref\":\"y\"},{\"arrowhead\":3,\"arrowsize\":2,\"arrowwidth\":1,\"ax\":0.821023619914405,\"axref\":\"x8\",\"ay\":5,\"ayref\":\"y\",\"opacity\":0.8,\"showarrow\":true,\"x\":0.4723639455782313,\"xref\":\"x8\",\"y\":5,\"yref\":\"y\"}],\"font\":{\"size\":14,\"color\":\"black\"},\"legend\":{\"orientation\":\"h\",\"yanchor\":\"bottom\",\"y\":1.15,\"xanchor\":\"center\",\"x\":0.5},\"margin\":{\"t\":40,\"l\":110,\"r\":5,\"b\":50},\"height\":320,\"width\":1600,\"paper_bgcolor\":\"white\",\"plot_bgcolor\":\"white\"},                        {\"responsive\": true}                    ).then(function(){\n",
       "                            \n",
       "var gd = document.getElementById('9f8ddf6a-e6d9-4bc9-a313-bb30b9e00d9c');\n",
       "var x = new MutationObserver(function (mutations, observer) {{\n",
       "        var display = window.getComputedStyle(gd).display;\n",
       "        if (!display || display === 'none') {{\n",
       "            console.log([gd, 'removed!']);\n",
       "            Plotly.purge(gd);\n",
       "            observer.disconnect();\n",
       "        }}\n",
       "}});\n",
       "\n",
       "// Listen for the removal of the full notebook cells\n",
       "var notebookContainer = gd.closest('#notebook-container');\n",
       "if (notebookContainer) {{\n",
       "    x.observe(notebookContainer, {childList: true});\n",
       "}}\n",
       "\n",
       "// Listen for the clearing of the current output cell\n",
       "var outputEl = gd.closest('.output');\n",
       "if (outputEl) {{\n",
       "    x.observe(outputEl, {childList: true});\n",
       "}}\n",
       "\n",
       "                        })                };                });            </script>        </div>"
      ]
     },
     "metadata": {},
     "output_type": "display_data"
    }
   ],
   "source": [
    "import plotly.graph_objects as go\n",
    "from plotly.subplots import make_subplots\n",
    "\n",
    "df1 = data_default.copy()\n",
    "df2 = data_robust.copy()\n",
    "\n",
    "# Prepare unique categories and models\n",
    "categories = df2.sort_values(by='dimension')[\"dimension\"].unique()\n",
    "y_pos = list(range(len(categories)))\n",
    "models = df2[\"model_name\"].unique()\n",
    "num_models = len(models)\n",
    "\n",
    "# Create subplot figure\n",
    "fig = make_subplots(\n",
    "    rows=1,\n",
    "    cols=num_models,\n",
    "    shared_yaxes=True,\n",
    "    subplot_titles=models,\n",
    "    horizontal_spacing=0.01\n",
    ")\n",
    "\n",
    "# Loop through each model\n",
    "for i, model in enumerate(models):\n",
    "    # Filter and sort data once per model\n",
    "    d1 = df1[df1['model_name'] == model].sort_values(by='dimension')\n",
    "    d2 = df2[df2['model_name'] == model].sort_values(by='dimension')\n",
    "\n",
    "    default_scores = d1['mean'].abs().tolist()\n",
    "    robust_scores = d2['mean'].abs().tolist()\n",
    "\n",
    "    default_lower = d1['lower'].tolist()\n",
    "    robust_upper = d2['upper'].tolist()\n",
    "\n",
    "    # Add default (orange) points\n",
    "    fig.add_trace(go.Scatter(\n",
    "        x=default_scores,\n",
    "        y=y_pos,\n",
    "        mode='markers',\n",
    "        marker=dict(color='orange', size=10),\n",
    "        name='Dialect' if i == 0 else None,\n",
    "        showlegend=(i == 0)\n",
    "    ), row=1, col=i+1)\n",
    "\n",
    "    # Add robust (blue) points\n",
    "    fig.add_trace(go.Scatter(\n",
    "        x=robust_scores,\n",
    "        y=y_pos,\n",
    "        mode='markers',\n",
    "        marker=dict(color='deepskyblue', size=10),\n",
    "        name='Noisy' if i == 0 else None,\n",
    "        showlegend=(i == 0)\n",
    "    ), row=1, col=i+1)\n",
    "\n",
    "    # Add arrows for significant difference\n",
    "    for j, (x0, x1, l0, u1) in enumerate(zip(default_scores, robust_scores, default_lower, robust_upper)):\n",
    "        if u1 < l0:\n",
    "            fig.add_annotation(\n",
    "                x=x1, y=j,\n",
    "                ax=x0, ay=j,\n",
    "                xref=f'x{i+1}', yref='y',\n",
    "                axref=f'x{i+1}', ayref='y',\n",
    "                showarrow=True,\n",
    "                arrowhead=3,\n",
    "                arrowsize=2,\n",
    "                arrowwidth=1,\n",
    "                #arrowcolor='gray',\n",
    "                opacity=0.8\n",
    "            )\n",
    "\n",
    "    # X-axis config\n",
    "    fig.update_xaxes(\n",
    "        title_text=\"(Absolute) Bias\",\n",
    "        range=[-0.1, 1.1],\n",
    "        tickvals=[0, 0.5, 1],\n",
    "        showgrid=True,\n",
    "        gridcolor='lightgray',\n",
    "        linecolor='black',\n",
    "        mirror=True,\n",
    "        row=1, col=i+1\n",
    "    )\n",
    "\n",
    "    # Y-axis only on first column\n",
    "    fig.update_yaxes(\n",
    "        tickvals=y_pos,\n",
    "        ticktext=categories if i == 0 else None,\n",
    "        showticklabels=(i == 0),\n",
    "        title_text=\"Dimension\" if i == 0 else None,\n",
    "        showgrid=True,\n",
    "        gridcolor='lightgray',\n",
    "        linecolor='black',\n",
    "        mirror=True,\n",
    "        row=1, col=i+1\n",
    "    )\n",
    "\n",
    "# Final layout tweaks\n",
    "fig.update_layout(\n",
    "    height=320,\n",
    "    width=200 * num_models,\n",
    "    font=dict(size=14, color='black'),\n",
    "    legend=dict(orientation=\"h\", yanchor=\"bottom\", y=1.15, xanchor=\"center\", x=0.5),\n",
    "    margin=dict(t=40, l=110, r=5,b=50),\n",
    "    yaxis_title='',\n",
    "    paper_bgcolor='white',\n",
    "    plot_bgcolor='white'\n",
    ")\n",
    "\n",
    "fig.show()\n",
    "fig.write_image(f\"../img/noisy_diff.pdf\")"
   ]
  },
  {
   "cell_type": "code",
   "execution_count": 57,
   "id": "fa901ab0",
   "metadata": {},
   "outputs": [
    {
     "data": {
      "text/plain": [
       "array(['Aya 32b', 'Aya 8B', 'Gemma-3 12B', 'Gemma-3 27B', 'Llama-3.1 70B',\n",
       "       'Llama-3.1 8B', 'Qwen2.5 72B', 'Qwen2.5 7B'], dtype=object)"
      ]
     },
     "execution_count": 57,
     "metadata": {},
     "output_type": "execute_result"
    }
   ],
   "source": [
    "models"
   ]
  },
  {
   "cell_type": "code",
   "execution_count": 81,
   "id": "3d07893c",
   "metadata": {},
   "outputs": [
    {
     "data": {
      "application/vnd.plotly.v1+json": {
       "config": {
        "plotlyServerURL": "https://plot.ly"
       },
       "data": [
        {
         "marker": {
          "color": "orange",
          "size": 10
         },
         "mode": "markers",
         "name": "Dialect",
         "showlegend": true,
         "type": "scatter",
         "x": [
          0.4596194301013578,
          0.4204289349327518,
          0.14458941017981608,
          0.49597756691852635,
          0.3002020202020202,
          0.6064539007092199
         ],
         "xaxis": "x",
         "y": [
          0,
          1,
          2,
          3,
          4,
          5
         ],
         "yaxis": "y"
        },
        {
         "marker": {
          "color": "deepskyblue",
          "size": 10
         },
         "mode": "markers",
         "name": "Noisy",
         "showlegend": true,
         "type": "scatter",
         "x": [
          0.3904295051353875,
          0.22439413265306124,
          0.07340029761904761,
          0.12669671435103536,
          0.25634418324291747,
          0.256655328798186
         ],
         "xaxis": "x",
         "y": [
          0,
          1,
          2,
          3,
          4,
          5
         ],
         "yaxis": "y"
        },
        {
         "marker": {
          "color": "orange",
          "size": 10
         },
         "mode": "markers",
         "showlegend": false,
         "type": "scatter",
         "x": [
          0.6356972789115646,
          0.31958843537414966,
          0.2301485260770975,
          0.44979641131815046,
          0.512405653904213,
          0.8075218075218076
         ],
         "xaxis": "x2",
         "y": [
          0,
          1,
          2,
          3,
          4,
          5
         ],
         "yaxis": "y2"
        },
        {
         "marker": {
          "color": "deepskyblue",
          "size": 10
         },
         "mode": "markers",
         "showlegend": false,
         "type": "scatter",
         "x": [
          0.4364965006175381,
          0.24621428571428575,
          0.3304611816073134,
          0.16245183044315992,
          0.32743894119252287,
          0.39852216748768476
         ],
         "xaxis": "x2",
         "y": [
          0,
          1,
          2,
          3,
          4,
          5
         ],
         "yaxis": "y2"
        },
        {
         "marker": {
          "color": "orange",
          "size": 10
         },
         "mode": "markers",
         "showlegend": false,
         "type": "scatter",
         "x": [
          0.7265534547152195,
          0.4059569160997733,
          0.04570802005012532,
          0.49164462081128746,
          0.5398189839450585,
          0.7719376185848489
         ],
         "xaxis": "x3",
         "y": [
          0,
          1,
          2,
          3,
          4,
          5
         ],
         "yaxis": "y3"
        },
        {
         "marker": {
          "color": "deepskyblue",
          "size": 10
         },
         "mode": "markers",
         "showlegend": false,
         "type": "scatter",
         "x": [
          0.4950793650793651,
          0.3015622149242839,
          0.2965762273901809,
          0.22951547966125224,
          0.4669637188208617,
          0.4513918326974707
         ],
         "xaxis": "x3",
         "y": [
          0,
          1,
          2,
          3,
          4,
          5
         ],
         "yaxis": "y3"
        },
        {
         "marker": {
          "color": "orange",
          "size": 10
         },
         "mode": "markers",
         "showlegend": false,
         "type": "scatter",
         "x": [
          0.924541331684189,
          0.33645382395382395,
          0.28685428849902533,
          0.7912534643487025,
          0.8296535517280198,
          0.9498795627200296
         ],
         "xaxis": "x4",
         "y": [
          0,
          1,
          2,
          3,
          4,
          5
         ],
         "yaxis": "y4"
        },
        {
         "marker": {
          "color": "deepskyblue",
          "size": 10
         },
         "mode": "markers",
         "showlegend": false,
         "type": "scatter",
         "x": [
          0.46396396396396394,
          0.3713528138528139,
          0.4459511077158136,
          0.2463696227283184,
          0.46805555555555556,
          0.4454339311482169
         ],
         "xaxis": "x4",
         "y": [
          0,
          1,
          2,
          3,
          4,
          5
         ],
         "yaxis": "y4"
        },
        {
         "marker": {
          "color": "orange",
          "size": 10
         },
         "mode": "markers",
         "showlegend": false,
         "type": "scatter",
         "x": [
          0.5748782899741367,
          0.4085064935064936,
          0.29323940585408476,
          0.3842156862745098,
          0.39058259476240553,
          0.7387969094922737
         ],
         "xaxis": "x5",
         "y": [
          0,
          1,
          2,
          3,
          4,
          5
         ],
         "yaxis": "y5"
        },
        {
         "marker": {
          "color": "deepskyblue",
          "size": 10
         },
         "mode": "markers",
         "showlegend": false,
         "type": "scatter",
         "x": [
          0.452217784043442,
          0.3246929327286471,
          0.2970605972885608,
          0.06460200746965454,
          0.32082661782661787,
          0.39390307999579527
         ],
         "xaxis": "x5",
         "y": [
          0,
          1,
          2,
          3,
          4,
          5
         ],
         "yaxis": "y5"
        },
        {
         "marker": {
          "color": "orange",
          "size": 10
         },
         "mode": "markers",
         "showlegend": false,
         "type": "scatter",
         "x": [
          0.8590756704980844,
          0.650546485260771,
          0.05341246635106283,
          0.5373459316869059,
          0.6466881661406157,
          0.8972007075922739
         ],
         "xaxis": "x6",
         "y": [
          0,
          1,
          2,
          3,
          4,
          5
         ],
         "yaxis": "y6"
        },
        {
         "marker": {
          "color": "deepskyblue",
          "size": 10
         },
         "mode": "markers",
         "showlegend": false,
         "type": "scatter",
         "x": [
          0.5243553008595988,
          0.3994252873563218,
          0.3086482921726475,
          0.08735380116959066,
          0.48047068538398013,
          0.4743156544054748
         ],
         "xaxis": "x6",
         "y": [
          0,
          1,
          2,
          3,
          4,
          5
         ],
         "yaxis": "y6"
        },
        {
         "marker": {
          "color": "orange",
          "size": 10
         },
         "mode": "markers",
         "showlegend": false,
         "type": "scatter",
         "x": [
          0.8433428279287175,
          0.4911535510478109,
          0.5724297126257911,
          0.38145043731778433,
          0.5921570402558997,
          0.821023619914405
         ],
         "xaxis": "x7",
         "y": [
          0,
          1,
          2,
          3,
          4,
          5
         ],
         "yaxis": "y7"
        },
        {
         "marker": {
          "color": "deepskyblue",
          "size": 10
         },
         "mode": "markers",
         "showlegend": false,
         "type": "scatter",
         "x": [
          0.5060837971552258,
          0.3274551363572135,
          0.356100510980648,
          0.16949620427881298,
          0.45398608881754954,
          0.4723639455782313
         ],
         "xaxis": "x7",
         "y": [
          0,
          1,
          2,
          3,
          4,
          5
         ],
         "yaxis": "y7"
        },
        {
         "marker": {
          "color": "orange",
          "size": 10
         },
         "mode": "markers",
         "showlegend": false,
         "type": "scatter",
         "x": [
          0.9813333333333334,
          0.7119945877109201,
          0.6674102878973939,
          0.8574285714285715,
          0.8940305635148041,
          0.9921768707482993
         ],
         "xaxis": "x8",
         "y": [
          0,
          1,
          2,
          3,
          4,
          5
         ],
         "yaxis": "y8"
        },
        {
         "marker": {
          "color": "deepskyblue",
          "size": 10
         },
         "mode": "markers",
         "showlegend": false,
         "type": "scatter",
         "x": [
          0.5181470869149952,
          0.42320408163265305,
          0.47954296661193213,
          0.29354277527629963,
          0.4918815663801337,
          0.499047619047619
         ],
         "xaxis": "x8",
         "y": [
          0,
          1,
          2,
          3,
          4,
          5
         ],
         "yaxis": "y8"
        }
       ],
       "layout": {
        "annotations": [
         {
          "font": {
           "size": 16
          },
          "showarrow": false,
          "text": "Aya 8B",
          "x": 0.1175,
          "xanchor": "center",
          "xref": "paper",
          "y": 1,
          "yanchor": "bottom",
          "yref": "paper"
         },
         {
          "font": {
           "size": 16
          },
          "showarrow": false,
          "text": "Aya 32b",
          "x": 0.3725,
          "xanchor": "center",
          "xref": "paper",
          "y": 1,
          "yanchor": "bottom",
          "yref": "paper"
         },
         {
          "font": {
           "size": 16
          },
          "showarrow": false,
          "text": "Gemma-3 12B",
          "x": 0.6275,
          "xanchor": "center",
          "xref": "paper",
          "y": 1,
          "yanchor": "bottom",
          "yref": "paper"
         },
         {
          "font": {
           "size": 16
          },
          "showarrow": false,
          "text": "Gemma-3 27B",
          "x": 0.8824999999999998,
          "xanchor": "center",
          "xref": "paper",
          "y": 1,
          "yanchor": "bottom",
          "yref": "paper"
         },
         {
          "font": {
           "size": 16
          },
          "showarrow": false,
          "text": "Llama-3.1 8B",
          "x": 0.1175,
          "xanchor": "center",
          "xref": "paper",
          "y": 0.425,
          "yanchor": "bottom",
          "yref": "paper"
         },
         {
          "font": {
           "size": 16
          },
          "showarrow": false,
          "text": "Llama-3.1 70B",
          "x": 0.3725,
          "xanchor": "center",
          "xref": "paper",
          "y": 0.425,
          "yanchor": "bottom",
          "yref": "paper"
         },
         {
          "font": {
           "size": 16
          },
          "showarrow": false,
          "text": "Qwen2.5 7B",
          "x": 0.6275,
          "xanchor": "center",
          "xref": "paper",
          "y": 0.425,
          "yanchor": "bottom",
          "yref": "paper"
         },
         {
          "font": {
           "size": 16
          },
          "showarrow": false,
          "text": "Qwen2.5 72B",
          "x": 0.8824999999999998,
          "xanchor": "center",
          "xref": "paper",
          "y": 0.425,
          "yanchor": "bottom",
          "yref": "paper"
         },
         {
          "arrowhead": 3,
          "arrowsize": 2,
          "arrowwidth": 1,
          "ax": 0.4204289349327518,
          "axref": "x",
          "ay": 1,
          "ayref": "y",
          "opacity": 0.8,
          "showarrow": true,
          "x": 0.22439413265306124,
          "xref": "x",
          "y": 1,
          "yref": "y"
         },
         {
          "arrowhead": 3,
          "arrowsize": 2,
          "arrowwidth": 1,
          "ax": 0.49597756691852635,
          "axref": "x",
          "ay": 3,
          "ayref": "y",
          "opacity": 0.8,
          "showarrow": true,
          "x": 0.12669671435103536,
          "xref": "x",
          "y": 3,
          "yref": "y"
         },
         {
          "arrowhead": 3,
          "arrowsize": 2,
          "arrowwidth": 1,
          "ax": 0.6064539007092199,
          "axref": "x",
          "ay": 5,
          "ayref": "y",
          "opacity": 0.8,
          "showarrow": true,
          "x": 0.256655328798186,
          "xref": "x",
          "y": 5,
          "yref": "y"
         },
         {
          "arrowhead": 3,
          "arrowsize": 2,
          "arrowwidth": 1,
          "ax": 0.6356972789115646,
          "axref": "x2",
          "ay": 0,
          "ayref": "y2",
          "opacity": 0.8,
          "showarrow": true,
          "x": 0.4364965006175381,
          "xref": "x2",
          "y": 0,
          "yref": "y2"
         },
         {
          "arrowhead": 3,
          "arrowsize": 2,
          "arrowwidth": 1,
          "ax": 0.44979641131815046,
          "axref": "x2",
          "ay": 3,
          "ayref": "y2",
          "opacity": 0.8,
          "showarrow": true,
          "x": 0.16245183044315992,
          "xref": "x2",
          "y": 3,
          "yref": "y2"
         },
         {
          "arrowhead": 3,
          "arrowsize": 2,
          "arrowwidth": 1,
          "ax": 0.512405653904213,
          "axref": "x2",
          "ay": 4,
          "ayref": "y2",
          "opacity": 0.8,
          "showarrow": true,
          "x": 0.32743894119252287,
          "xref": "x2",
          "y": 4,
          "yref": "y2"
         },
         {
          "arrowhead": 3,
          "arrowsize": 2,
          "arrowwidth": 1,
          "ax": 0.8075218075218076,
          "axref": "x2",
          "ay": 5,
          "ayref": "y2",
          "opacity": 0.8,
          "showarrow": true,
          "x": 0.39852216748768476,
          "xref": "x2",
          "y": 5,
          "yref": "y2"
         },
         {
          "arrowhead": 3,
          "arrowsize": 2,
          "arrowwidth": 1,
          "ax": 0.7265534547152195,
          "axref": "x3",
          "ay": 0,
          "ayref": "y3",
          "opacity": 0.8,
          "showarrow": true,
          "x": 0.4950793650793651,
          "xref": "x3",
          "y": 0,
          "yref": "y3"
         },
         {
          "arrowhead": 3,
          "arrowsize": 2,
          "arrowwidth": 1,
          "ax": 0.4059569160997733,
          "axref": "x3",
          "ay": 1,
          "ayref": "y3",
          "opacity": 0.8,
          "showarrow": true,
          "x": 0.3015622149242839,
          "xref": "x3",
          "y": 1,
          "yref": "y3"
         },
         {
          "arrowhead": 3,
          "arrowsize": 2,
          "arrowwidth": 1,
          "ax": 0.04570802005012532,
          "axref": "x3",
          "ay": 2,
          "ayref": "y3",
          "opacity": 0.8,
          "showarrow": true,
          "x": 0.2965762273901809,
          "xref": "x3",
          "y": 2,
          "yref": "y3"
         },
         {
          "arrowhead": 3,
          "arrowsize": 2,
          "arrowwidth": 1,
          "ax": 0.49164462081128746,
          "axref": "x3",
          "ay": 3,
          "ayref": "y3",
          "opacity": 0.8,
          "showarrow": true,
          "x": 0.22951547966125224,
          "xref": "x3",
          "y": 3,
          "yref": "y3"
         },
         {
          "arrowhead": 3,
          "arrowsize": 2,
          "arrowwidth": 1,
          "ax": 0.7719376185848489,
          "axref": "x3",
          "ay": 5,
          "ayref": "y3",
          "opacity": 0.8,
          "showarrow": true,
          "x": 0.4513918326974707,
          "xref": "x3",
          "y": 5,
          "yref": "y3"
         },
         {
          "arrowhead": 3,
          "arrowsize": 2,
          "arrowwidth": 1,
          "ax": 0.924541331684189,
          "axref": "x4",
          "ay": 0,
          "ayref": "y4",
          "opacity": 0.8,
          "showarrow": true,
          "x": 0.46396396396396394,
          "xref": "x4",
          "y": 0,
          "yref": "y4"
         },
         {
          "arrowhead": 3,
          "arrowsize": 2,
          "arrowwidth": 1,
          "ax": 0.28685428849902533,
          "axref": "x4",
          "ay": 2,
          "ayref": "y4",
          "opacity": 0.8,
          "showarrow": true,
          "x": 0.4459511077158136,
          "xref": "x4",
          "y": 2,
          "yref": "y4"
         },
         {
          "arrowhead": 3,
          "arrowsize": 2,
          "arrowwidth": 1,
          "ax": 0.7912534643487025,
          "axref": "x4",
          "ay": 3,
          "ayref": "y4",
          "opacity": 0.8,
          "showarrow": true,
          "x": 0.2463696227283184,
          "xref": "x4",
          "y": 3,
          "yref": "y4"
         },
         {
          "arrowhead": 3,
          "arrowsize": 2,
          "arrowwidth": 1,
          "ax": 0.8296535517280198,
          "axref": "x4",
          "ay": 4,
          "ayref": "y4",
          "opacity": 0.8,
          "showarrow": true,
          "x": 0.46805555555555556,
          "xref": "x4",
          "y": 4,
          "yref": "y4"
         },
         {
          "arrowhead": 3,
          "arrowsize": 2,
          "arrowwidth": 1,
          "ax": 0.9498795627200296,
          "axref": "x4",
          "ay": 5,
          "ayref": "y4",
          "opacity": 0.8,
          "showarrow": true,
          "x": 0.4454339311482169,
          "xref": "x4",
          "y": 5,
          "yref": "y4"
         },
         {
          "arrowhead": 3,
          "arrowsize": 2,
          "arrowwidth": 1,
          "ax": 0.5748782899741367,
          "axref": "x5",
          "ay": 0,
          "ayref": "y5",
          "opacity": 0.8,
          "showarrow": true,
          "x": 0.452217784043442,
          "xref": "x5",
          "y": 0,
          "yref": "y5"
         },
         {
          "arrowhead": 3,
          "arrowsize": 2,
          "arrowwidth": 1,
          "ax": 0.3842156862745098,
          "axref": "x5",
          "ay": 3,
          "ayref": "y5",
          "opacity": 0.8,
          "showarrow": true,
          "x": 0.06460200746965454,
          "xref": "x5",
          "y": 3,
          "yref": "y5"
         },
         {
          "arrowhead": 3,
          "arrowsize": 2,
          "arrowwidth": 1,
          "ax": 0.7387969094922737,
          "axref": "x5",
          "ay": 5,
          "ayref": "y5",
          "opacity": 0.8,
          "showarrow": true,
          "x": 0.39390307999579527,
          "xref": "x5",
          "y": 5,
          "yref": "y5"
         },
         {
          "arrowhead": 3,
          "arrowsize": 2,
          "arrowwidth": 1,
          "ax": 0.8590756704980844,
          "axref": "x6",
          "ay": 0,
          "ayref": "y6",
          "opacity": 0.8,
          "showarrow": true,
          "x": 0.5243553008595988,
          "xref": "x6",
          "y": 0,
          "yref": "y6"
         },
         {
          "arrowhead": 3,
          "arrowsize": 2,
          "arrowwidth": 1,
          "ax": 0.650546485260771,
          "axref": "x6",
          "ay": 1,
          "ayref": "y6",
          "opacity": 0.8,
          "showarrow": true,
          "x": 0.3994252873563218,
          "xref": "x6",
          "y": 1,
          "yref": "y6"
         },
         {
          "arrowhead": 3,
          "arrowsize": 2,
          "arrowwidth": 1,
          "ax": 0.05341246635106283,
          "axref": "x6",
          "ay": 2,
          "ayref": "y6",
          "opacity": 0.8,
          "showarrow": true,
          "x": 0.3086482921726475,
          "xref": "x6",
          "y": 2,
          "yref": "y6"
         },
         {
          "arrowhead": 3,
          "arrowsize": 2,
          "arrowwidth": 1,
          "ax": 0.5373459316869059,
          "axref": "x6",
          "ay": 3,
          "ayref": "y6",
          "opacity": 0.8,
          "showarrow": true,
          "x": 0.08735380116959066,
          "xref": "x6",
          "y": 3,
          "yref": "y6"
         },
         {
          "arrowhead": 3,
          "arrowsize": 2,
          "arrowwidth": 1,
          "ax": 0.6466881661406157,
          "axref": "x6",
          "ay": 4,
          "ayref": "y6",
          "opacity": 0.8,
          "showarrow": true,
          "x": 0.48047068538398013,
          "xref": "x6",
          "y": 4,
          "yref": "y6"
         },
         {
          "arrowhead": 3,
          "arrowsize": 2,
          "arrowwidth": 1,
          "ax": 0.8972007075922739,
          "axref": "x6",
          "ay": 5,
          "ayref": "y6",
          "opacity": 0.8,
          "showarrow": true,
          "x": 0.4743156544054748,
          "xref": "x6",
          "y": 5,
          "yref": "y6"
         },
         {
          "arrowhead": 3,
          "arrowsize": 2,
          "arrowwidth": 1,
          "ax": 0.8433428279287175,
          "axref": "x7",
          "ay": 0,
          "ayref": "y7",
          "opacity": 0.8,
          "showarrow": true,
          "x": 0.5060837971552258,
          "xref": "x7",
          "y": 0,
          "yref": "y7"
         },
         {
          "arrowhead": 3,
          "arrowsize": 2,
          "arrowwidth": 1,
          "ax": 0.4911535510478109,
          "axref": "x7",
          "ay": 1,
          "ayref": "y7",
          "opacity": 0.8,
          "showarrow": true,
          "x": 0.3274551363572135,
          "xref": "x7",
          "y": 1,
          "yref": "y7"
         },
         {
          "arrowhead": 3,
          "arrowsize": 2,
          "arrowwidth": 1,
          "ax": 0.38145043731778433,
          "axref": "x7",
          "ay": 3,
          "ayref": "y7",
          "opacity": 0.8,
          "showarrow": true,
          "x": 0.16949620427881298,
          "xref": "x7",
          "y": 3,
          "yref": "y7"
         },
         {
          "arrowhead": 3,
          "arrowsize": 2,
          "arrowwidth": 1,
          "ax": 0.5921570402558997,
          "axref": "x7",
          "ay": 4,
          "ayref": "y7",
          "opacity": 0.8,
          "showarrow": true,
          "x": 0.45398608881754954,
          "xref": "x7",
          "y": 4,
          "yref": "y7"
         },
         {
          "arrowhead": 3,
          "arrowsize": 2,
          "arrowwidth": 1,
          "ax": 0.821023619914405,
          "axref": "x7",
          "ay": 5,
          "ayref": "y7",
          "opacity": 0.8,
          "showarrow": true,
          "x": 0.4723639455782313,
          "xref": "x7",
          "y": 5,
          "yref": "y7"
         },
         {
          "arrowhead": 3,
          "arrowsize": 2,
          "arrowwidth": 1,
          "ax": 0.9813333333333334,
          "axref": "x8",
          "ay": 0,
          "ayref": "y8",
          "opacity": 0.8,
          "showarrow": true,
          "x": 0.5181470869149952,
          "xref": "x8",
          "y": 0,
          "yref": "y8"
         },
         {
          "arrowhead": 3,
          "arrowsize": 2,
          "arrowwidth": 1,
          "ax": 0.7119945877109201,
          "axref": "x8",
          "ay": 1,
          "ayref": "y8",
          "opacity": 0.8,
          "showarrow": true,
          "x": 0.42320408163265305,
          "xref": "x8",
          "y": 1,
          "yref": "y8"
         },
         {
          "arrowhead": 3,
          "arrowsize": 2,
          "arrowwidth": 1,
          "ax": 0.8574285714285715,
          "axref": "x8",
          "ay": 3,
          "ayref": "y8",
          "opacity": 0.8,
          "showarrow": true,
          "x": 0.29354277527629963,
          "xref": "x8",
          "y": 3,
          "yref": "y8"
         },
         {
          "arrowhead": 3,
          "arrowsize": 2,
          "arrowwidth": 1,
          "ax": 0.8940305635148041,
          "axref": "x8",
          "ay": 4,
          "ayref": "y8",
          "opacity": 0.8,
          "showarrow": true,
          "x": 0.4918815663801337,
          "xref": "x8",
          "y": 4,
          "yref": "y8"
         },
         {
          "arrowhead": 3,
          "arrowsize": 2,
          "arrowwidth": 1,
          "ax": 0.9921768707482993,
          "axref": "x8",
          "ay": 5,
          "ayref": "y8",
          "opacity": 0.8,
          "showarrow": true,
          "x": 0.499047619047619,
          "xref": "x8",
          "y": 5,
          "yref": "y8"
         }
        ],
        "font": {
         "color": "black",
         "size": 14
        },
        "height": 480,
        "legend": {
         "orientation": "h",
         "x": 0.45,
         "xanchor": "center",
         "y": 1.05,
         "yanchor": "bottom"
        },
        "margin": {
         "b": 50,
         "l": 110,
         "r": 5,
         "t": 0
        },
        "paper_bgcolor": "white",
        "plot_bgcolor": "white",
        "template": {},
        "width": 800,
        "xaxis": {
         "anchor": "y",
         "domain": [
          0,
          0.235
         ],
         "gridcolor": "lightgray",
         "linecolor": "black",
         "mirror": true,
         "range": [
          -0.1,
          1.1
         ],
         "showgrid": true,
         "tickvals": [
          0,
          0.5,
          1
         ]
        },
        "xaxis2": {
         "anchor": "y2",
         "domain": [
          0.255,
          0.49
         ],
         "gridcolor": "lightgray",
         "linecolor": "black",
         "mirror": true,
         "range": [
          -0.1,
          1.1
         ],
         "showgrid": true,
         "tickvals": [
          0,
          0.5,
          1
         ]
        },
        "xaxis3": {
         "anchor": "y3",
         "domain": [
          0.51,
          0.745
         ],
         "gridcolor": "lightgray",
         "linecolor": "black",
         "mirror": true,
         "range": [
          -0.1,
          1.1
         ],
         "showgrid": true,
         "tickvals": [
          0,
          0.5,
          1
         ]
        },
        "xaxis4": {
         "anchor": "y4",
         "domain": [
          0.7649999999999999,
          0.9999999999999999
         ],
         "gridcolor": "lightgray",
         "linecolor": "black",
         "mirror": true,
         "range": [
          -0.1,
          1.1
         ],
         "showgrid": true,
         "tickvals": [
          0,
          0.5,
          1
         ]
        },
        "xaxis5": {
         "anchor": "y5",
         "domain": [
          0,
          0.235
         ],
         "gridcolor": "lightgray",
         "linecolor": "black",
         "mirror": true,
         "range": [
          -0.1,
          1.1
         ],
         "showgrid": true,
         "tickvals": [
          0,
          0.5,
          1
         ],
         "title": {
          "text": "(Absolute) Bias"
         }
        },
        "xaxis6": {
         "anchor": "y6",
         "domain": [
          0.255,
          0.49
         ],
         "gridcolor": "lightgray",
         "linecolor": "black",
         "mirror": true,
         "range": [
          -0.1,
          1.1
         ],
         "showgrid": true,
         "tickvals": [
          0,
          0.5,
          1
         ],
         "title": {
          "text": "(Absolute) Bias"
         }
        },
        "xaxis7": {
         "anchor": "y7",
         "domain": [
          0.51,
          0.745
         ],
         "gridcolor": "lightgray",
         "linecolor": "black",
         "mirror": true,
         "range": [
          -0.1,
          1.1
         ],
         "showgrid": true,
         "tickvals": [
          0,
          0.5,
          1
         ],
         "title": {
          "text": "(Absolute) Bias"
         }
        },
        "xaxis8": {
         "anchor": "y8",
         "domain": [
          0.7649999999999999,
          0.9999999999999999
         ],
         "gridcolor": "lightgray",
         "linecolor": "black",
         "mirror": true,
         "range": [
          -0.1,
          1.1
         ],
         "showgrid": true,
         "tickvals": [
          0,
          0.5,
          1
         ],
         "title": {
          "text": "(Absolute) Bias"
         }
        },
        "yaxis": {
         "anchor": "x",
         "domain": [
          0.575,
          1
         ],
         "gridcolor": "lightgray",
         "linecolor": "black",
         "mirror": true,
         "showgrid": true,
         "showticklabels": true,
         "ticktext": [
          "Careless",
          "Closed-Minded",
          "Friendly",
          "Rural",
          "Temper",
          "Uneducated"
         ],
         "tickvals": [
          0,
          1,
          2,
          3,
          4,
          5
         ],
         "title": {
          "text": ""
         }
        },
        "yaxis2": {
         "anchor": "x2",
         "domain": [
          0.575,
          1
         ],
         "gridcolor": "lightgray",
         "linecolor": "black",
         "matches": "y",
         "mirror": true,
         "showgrid": true,
         "showticklabels": false,
         "tickvals": [
          0,
          1,
          2,
          3,
          4,
          5
         ]
        },
        "yaxis3": {
         "anchor": "x3",
         "domain": [
          0.575,
          1
         ],
         "gridcolor": "lightgray",
         "linecolor": "black",
         "matches": "y",
         "mirror": true,
         "showgrid": true,
         "showticklabels": false,
         "tickvals": [
          0,
          1,
          2,
          3,
          4,
          5
         ]
        },
        "yaxis4": {
         "anchor": "x4",
         "domain": [
          0.575,
          1
         ],
         "gridcolor": "lightgray",
         "linecolor": "black",
         "matches": "y",
         "mirror": true,
         "showgrid": true,
         "showticklabels": false,
         "tickvals": [
          0,
          1,
          2,
          3,
          4,
          5
         ]
        },
        "yaxis5": {
         "anchor": "x5",
         "domain": [
          0,
          0.425
         ],
         "gridcolor": "lightgray",
         "linecolor": "black",
         "mirror": true,
         "showgrid": true,
         "showticklabels": true,
         "ticktext": [
          "Careless",
          "Closed-Minded",
          "Friendly",
          "Rural",
          "Temper",
          "Uneducated"
         ],
         "tickvals": [
          0,
          1,
          2,
          3,
          4,
          5
         ]
        },
        "yaxis6": {
         "anchor": "x6",
         "domain": [
          0,
          0.425
         ],
         "gridcolor": "lightgray",
         "linecolor": "black",
         "matches": "y5",
         "mirror": true,
         "showgrid": true,
         "showticklabels": false,
         "tickvals": [
          0,
          1,
          2,
          3,
          4,
          5
         ]
        },
        "yaxis7": {
         "anchor": "x7",
         "domain": [
          0,
          0.425
         ],
         "gridcolor": "lightgray",
         "linecolor": "black",
         "matches": "y5",
         "mirror": true,
         "showgrid": true,
         "showticklabels": false,
         "tickvals": [
          0,
          1,
          2,
          3,
          4,
          5
         ]
        },
        "yaxis8": {
         "anchor": "x8",
         "domain": [
          0,
          0.425
         ],
         "gridcolor": "lightgray",
         "linecolor": "black",
         "matches": "y5",
         "mirror": true,
         "showgrid": true,
         "showticklabels": false,
         "tickvals": [
          0,
          1,
          2,
          3,
          4,
          5
         ]
        }
       }
      },
      "text/html": [
       "<div>                            <div id=\"c3f53cee-0986-45d6-aefd-b4c09f1d49a7\" class=\"plotly-graph-div\" style=\"height:480px; width:800px;\"></div>            <script type=\"text/javascript\">                require([\"plotly\"], function(Plotly) {                    window.PLOTLYENV=window.PLOTLYENV || {};                                    if (document.getElementById(\"c3f53cee-0986-45d6-aefd-b4c09f1d49a7\")) {                    Plotly.newPlot(                        \"c3f53cee-0986-45d6-aefd-b4c09f1d49a7\",                        [{\"marker\":{\"color\":\"orange\",\"size\":10},\"mode\":\"markers\",\"name\":\"Dialect\",\"showlegend\":true,\"x\":[0.4596194301013578,0.4204289349327518,0.14458941017981608,0.49597756691852635,0.3002020202020202,0.6064539007092199],\"y\":[0,1,2,3,4,5],\"type\":\"scatter\",\"xaxis\":\"x\",\"yaxis\":\"y\"},{\"marker\":{\"color\":\"deepskyblue\",\"size\":10},\"mode\":\"markers\",\"name\":\"Noisy\",\"showlegend\":true,\"x\":[0.3904295051353875,0.22439413265306124,0.07340029761904761,0.12669671435103536,0.25634418324291747,0.256655328798186],\"y\":[0,1,2,3,4,5],\"type\":\"scatter\",\"xaxis\":\"x\",\"yaxis\":\"y\"},{\"marker\":{\"color\":\"orange\",\"size\":10},\"mode\":\"markers\",\"showlegend\":false,\"x\":[0.6356972789115646,0.31958843537414966,0.2301485260770975,0.44979641131815046,0.512405653904213,0.8075218075218076],\"y\":[0,1,2,3,4,5],\"type\":\"scatter\",\"xaxis\":\"x2\",\"yaxis\":\"y2\"},{\"marker\":{\"color\":\"deepskyblue\",\"size\":10},\"mode\":\"markers\",\"showlegend\":false,\"x\":[0.4364965006175381,0.24621428571428575,0.3304611816073134,0.16245183044315992,0.32743894119252287,0.39852216748768476],\"y\":[0,1,2,3,4,5],\"type\":\"scatter\",\"xaxis\":\"x2\",\"yaxis\":\"y2\"},{\"marker\":{\"color\":\"orange\",\"size\":10},\"mode\":\"markers\",\"showlegend\":false,\"x\":[0.7265534547152195,0.4059569160997733,0.04570802005012532,0.49164462081128746,0.5398189839450585,0.7719376185848489],\"y\":[0,1,2,3,4,5],\"type\":\"scatter\",\"xaxis\":\"x3\",\"yaxis\":\"y3\"},{\"marker\":{\"color\":\"deepskyblue\",\"size\":10},\"mode\":\"markers\",\"showlegend\":false,\"x\":[0.4950793650793651,0.3015622149242839,0.2965762273901809,0.22951547966125224,0.4669637188208617,0.4513918326974707],\"y\":[0,1,2,3,4,5],\"type\":\"scatter\",\"xaxis\":\"x3\",\"yaxis\":\"y3\"},{\"marker\":{\"color\":\"orange\",\"size\":10},\"mode\":\"markers\",\"showlegend\":false,\"x\":[0.924541331684189,0.33645382395382395,0.28685428849902533,0.7912534643487025,0.8296535517280198,0.9498795627200296],\"y\":[0,1,2,3,4,5],\"type\":\"scatter\",\"xaxis\":\"x4\",\"yaxis\":\"y4\"},{\"marker\":{\"color\":\"deepskyblue\",\"size\":10},\"mode\":\"markers\",\"showlegend\":false,\"x\":[0.46396396396396394,0.3713528138528139,0.4459511077158136,0.2463696227283184,0.46805555555555556,0.4454339311482169],\"y\":[0,1,2,3,4,5],\"type\":\"scatter\",\"xaxis\":\"x4\",\"yaxis\":\"y4\"},{\"marker\":{\"color\":\"orange\",\"size\":10},\"mode\":\"markers\",\"showlegend\":false,\"x\":[0.5748782899741367,0.4085064935064936,0.29323940585408476,0.3842156862745098,0.39058259476240553,0.7387969094922737],\"y\":[0,1,2,3,4,5],\"type\":\"scatter\",\"xaxis\":\"x5\",\"yaxis\":\"y5\"},{\"marker\":{\"color\":\"deepskyblue\",\"size\":10},\"mode\":\"markers\",\"showlegend\":false,\"x\":[0.452217784043442,0.3246929327286471,0.2970605972885608,0.06460200746965454,0.32082661782661787,0.39390307999579527],\"y\":[0,1,2,3,4,5],\"type\":\"scatter\",\"xaxis\":\"x5\",\"yaxis\":\"y5\"},{\"marker\":{\"color\":\"orange\",\"size\":10},\"mode\":\"markers\",\"showlegend\":false,\"x\":[0.8590756704980844,0.650546485260771,0.05341246635106283,0.5373459316869059,0.6466881661406157,0.8972007075922739],\"y\":[0,1,2,3,4,5],\"type\":\"scatter\",\"xaxis\":\"x6\",\"yaxis\":\"y6\"},{\"marker\":{\"color\":\"deepskyblue\",\"size\":10},\"mode\":\"markers\",\"showlegend\":false,\"x\":[0.5243553008595988,0.3994252873563218,0.3086482921726475,0.08735380116959066,0.48047068538398013,0.4743156544054748],\"y\":[0,1,2,3,4,5],\"type\":\"scatter\",\"xaxis\":\"x6\",\"yaxis\":\"y6\"},{\"marker\":{\"color\":\"orange\",\"size\":10},\"mode\":\"markers\",\"showlegend\":false,\"x\":[0.8433428279287175,0.4911535510478109,0.5724297126257911,0.38145043731778433,0.5921570402558997,0.821023619914405],\"y\":[0,1,2,3,4,5],\"type\":\"scatter\",\"xaxis\":\"x7\",\"yaxis\":\"y7\"},{\"marker\":{\"color\":\"deepskyblue\",\"size\":10},\"mode\":\"markers\",\"showlegend\":false,\"x\":[0.5060837971552258,0.3274551363572135,0.356100510980648,0.16949620427881298,0.45398608881754954,0.4723639455782313],\"y\":[0,1,2,3,4,5],\"type\":\"scatter\",\"xaxis\":\"x7\",\"yaxis\":\"y7\"},{\"marker\":{\"color\":\"orange\",\"size\":10},\"mode\":\"markers\",\"showlegend\":false,\"x\":[0.9813333333333334,0.7119945877109201,0.6674102878973939,0.8574285714285715,0.8940305635148041,0.9921768707482993],\"y\":[0,1,2,3,4,5],\"type\":\"scatter\",\"xaxis\":\"x8\",\"yaxis\":\"y8\"},{\"marker\":{\"color\":\"deepskyblue\",\"size\":10},\"mode\":\"markers\",\"showlegend\":false,\"x\":[0.5181470869149952,0.42320408163265305,0.47954296661193213,0.29354277527629963,0.4918815663801337,0.499047619047619],\"y\":[0,1,2,3,4,5],\"type\":\"scatter\",\"xaxis\":\"x8\",\"yaxis\":\"y8\"}],                        {\"template\":{},\"xaxis\":{\"anchor\":\"y\",\"domain\":[0.0,0.235],\"range\":[-0.1,1.1],\"tickvals\":[0,0.5,1],\"showgrid\":true,\"gridcolor\":\"lightgray\",\"linecolor\":\"black\",\"mirror\":true},\"yaxis\":{\"anchor\":\"x\",\"domain\":[0.575,1.0],\"tickvals\":[0,1,2,3,4,5],\"ticktext\":[\"Careless\",\"Closed-Minded\",\"Friendly\",\"Rural\",\"Temper\",\"Uneducated\"],\"showticklabels\":true,\"showgrid\":true,\"gridcolor\":\"lightgray\",\"linecolor\":\"black\",\"mirror\":true,\"title\":{\"text\":\"\"}},\"xaxis2\":{\"anchor\":\"y2\",\"domain\":[0.255,0.49],\"range\":[-0.1,1.1],\"tickvals\":[0,0.5,1],\"showgrid\":true,\"gridcolor\":\"lightgray\",\"linecolor\":\"black\",\"mirror\":true},\"yaxis2\":{\"anchor\":\"x2\",\"domain\":[0.575,1.0],\"matches\":\"y\",\"showticklabels\":false,\"tickvals\":[0,1,2,3,4,5],\"showgrid\":true,\"gridcolor\":\"lightgray\",\"linecolor\":\"black\",\"mirror\":true},\"xaxis3\":{\"anchor\":\"y3\",\"domain\":[0.51,0.745],\"range\":[-0.1,1.1],\"tickvals\":[0,0.5,1],\"showgrid\":true,\"gridcolor\":\"lightgray\",\"linecolor\":\"black\",\"mirror\":true},\"yaxis3\":{\"anchor\":\"x3\",\"domain\":[0.575,1.0],\"matches\":\"y\",\"showticklabels\":false,\"tickvals\":[0,1,2,3,4,5],\"showgrid\":true,\"gridcolor\":\"lightgray\",\"linecolor\":\"black\",\"mirror\":true},\"xaxis4\":{\"anchor\":\"y4\",\"domain\":[0.7649999999999999,0.9999999999999999],\"range\":[-0.1,1.1],\"tickvals\":[0,0.5,1],\"showgrid\":true,\"gridcolor\":\"lightgray\",\"linecolor\":\"black\",\"mirror\":true},\"yaxis4\":{\"anchor\":\"x4\",\"domain\":[0.575,1.0],\"matches\":\"y\",\"showticklabels\":false,\"tickvals\":[0,1,2,3,4,5],\"showgrid\":true,\"gridcolor\":\"lightgray\",\"linecolor\":\"black\",\"mirror\":true},\"xaxis5\":{\"anchor\":\"y5\",\"domain\":[0.0,0.235],\"title\":{\"text\":\"(Absolute) Bias\"},\"range\":[-0.1,1.1],\"tickvals\":[0,0.5,1],\"showgrid\":true,\"gridcolor\":\"lightgray\",\"linecolor\":\"black\",\"mirror\":true},\"yaxis5\":{\"anchor\":\"x5\",\"domain\":[0.0,0.425],\"tickvals\":[0,1,2,3,4,5],\"ticktext\":[\"Careless\",\"Closed-Minded\",\"Friendly\",\"Rural\",\"Temper\",\"Uneducated\"],\"showticklabels\":true,\"showgrid\":true,\"gridcolor\":\"lightgray\",\"linecolor\":\"black\",\"mirror\":true},\"xaxis6\":{\"anchor\":\"y6\",\"domain\":[0.255,0.49],\"title\":{\"text\":\"(Absolute) Bias\"},\"range\":[-0.1,1.1],\"tickvals\":[0,0.5,1],\"showgrid\":true,\"gridcolor\":\"lightgray\",\"linecolor\":\"black\",\"mirror\":true},\"yaxis6\":{\"anchor\":\"x6\",\"domain\":[0.0,0.425],\"matches\":\"y5\",\"showticklabels\":false,\"tickvals\":[0,1,2,3,4,5],\"showgrid\":true,\"gridcolor\":\"lightgray\",\"linecolor\":\"black\",\"mirror\":true},\"xaxis7\":{\"anchor\":\"y7\",\"domain\":[0.51,0.745],\"title\":{\"text\":\"(Absolute) Bias\"},\"range\":[-0.1,1.1],\"tickvals\":[0,0.5,1],\"showgrid\":true,\"gridcolor\":\"lightgray\",\"linecolor\":\"black\",\"mirror\":true},\"yaxis7\":{\"anchor\":\"x7\",\"domain\":[0.0,0.425],\"matches\":\"y5\",\"showticklabels\":false,\"tickvals\":[0,1,2,3,4,5],\"showgrid\":true,\"gridcolor\":\"lightgray\",\"linecolor\":\"black\",\"mirror\":true},\"xaxis8\":{\"anchor\":\"y8\",\"domain\":[0.7649999999999999,0.9999999999999999],\"title\":{\"text\":\"(Absolute) Bias\"},\"range\":[-0.1,1.1],\"tickvals\":[0,0.5,1],\"showgrid\":true,\"gridcolor\":\"lightgray\",\"linecolor\":\"black\",\"mirror\":true},\"yaxis8\":{\"anchor\":\"x8\",\"domain\":[0.0,0.425],\"matches\":\"y5\",\"showticklabels\":false,\"tickvals\":[0,1,2,3,4,5],\"showgrid\":true,\"gridcolor\":\"lightgray\",\"linecolor\":\"black\",\"mirror\":true},\"annotations\":[{\"font\":{\"size\":16},\"showarrow\":false,\"text\":\"Aya 8B\",\"x\":0.1175,\"xanchor\":\"center\",\"xref\":\"paper\",\"y\":1.0,\"yanchor\":\"bottom\",\"yref\":\"paper\"},{\"font\":{\"size\":16},\"showarrow\":false,\"text\":\"Aya 32b\",\"x\":0.3725,\"xanchor\":\"center\",\"xref\":\"paper\",\"y\":1.0,\"yanchor\":\"bottom\",\"yref\":\"paper\"},{\"font\":{\"size\":16},\"showarrow\":false,\"text\":\"Gemma-3 12B\",\"x\":0.6275,\"xanchor\":\"center\",\"xref\":\"paper\",\"y\":1.0,\"yanchor\":\"bottom\",\"yref\":\"paper\"},{\"font\":{\"size\":16},\"showarrow\":false,\"text\":\"Gemma-3 27B\",\"x\":0.8824999999999998,\"xanchor\":\"center\",\"xref\":\"paper\",\"y\":1.0,\"yanchor\":\"bottom\",\"yref\":\"paper\"},{\"font\":{\"size\":16},\"showarrow\":false,\"text\":\"Llama-3.1 8B\",\"x\":0.1175,\"xanchor\":\"center\",\"xref\":\"paper\",\"y\":0.425,\"yanchor\":\"bottom\",\"yref\":\"paper\"},{\"font\":{\"size\":16},\"showarrow\":false,\"text\":\"Llama-3.1 70B\",\"x\":0.3725,\"xanchor\":\"center\",\"xref\":\"paper\",\"y\":0.425,\"yanchor\":\"bottom\",\"yref\":\"paper\"},{\"font\":{\"size\":16},\"showarrow\":false,\"text\":\"Qwen2.5 7B\",\"x\":0.6275,\"xanchor\":\"center\",\"xref\":\"paper\",\"y\":0.425,\"yanchor\":\"bottom\",\"yref\":\"paper\"},{\"font\":{\"size\":16},\"showarrow\":false,\"text\":\"Qwen2.5 72B\",\"x\":0.8824999999999998,\"xanchor\":\"center\",\"xref\":\"paper\",\"y\":0.425,\"yanchor\":\"bottom\",\"yref\":\"paper\"},{\"arrowhead\":3,\"arrowsize\":2,\"arrowwidth\":1,\"ax\":0.4204289349327518,\"axref\":\"x\",\"ay\":1,\"ayref\":\"y\",\"opacity\":0.8,\"showarrow\":true,\"x\":0.22439413265306124,\"xref\":\"x\",\"y\":1,\"yref\":\"y\"},{\"arrowhead\":3,\"arrowsize\":2,\"arrowwidth\":1,\"ax\":0.49597756691852635,\"axref\":\"x\",\"ay\":3,\"ayref\":\"y\",\"opacity\":0.8,\"showarrow\":true,\"x\":0.12669671435103536,\"xref\":\"x\",\"y\":3,\"yref\":\"y\"},{\"arrowhead\":3,\"arrowsize\":2,\"arrowwidth\":1,\"ax\":0.6064539007092199,\"axref\":\"x\",\"ay\":5,\"ayref\":\"y\",\"opacity\":0.8,\"showarrow\":true,\"x\":0.256655328798186,\"xref\":\"x\",\"y\":5,\"yref\":\"y\"},{\"arrowhead\":3,\"arrowsize\":2,\"arrowwidth\":1,\"ax\":0.6356972789115646,\"axref\":\"x2\",\"ay\":0,\"ayref\":\"y2\",\"opacity\":0.8,\"showarrow\":true,\"x\":0.4364965006175381,\"xref\":\"x2\",\"y\":0,\"yref\":\"y2\"},{\"arrowhead\":3,\"arrowsize\":2,\"arrowwidth\":1,\"ax\":0.44979641131815046,\"axref\":\"x2\",\"ay\":3,\"ayref\":\"y2\",\"opacity\":0.8,\"showarrow\":true,\"x\":0.16245183044315992,\"xref\":\"x2\",\"y\":3,\"yref\":\"y2\"},{\"arrowhead\":3,\"arrowsize\":2,\"arrowwidth\":1,\"ax\":0.512405653904213,\"axref\":\"x2\",\"ay\":4,\"ayref\":\"y2\",\"opacity\":0.8,\"showarrow\":true,\"x\":0.32743894119252287,\"xref\":\"x2\",\"y\":4,\"yref\":\"y2\"},{\"arrowhead\":3,\"arrowsize\":2,\"arrowwidth\":1,\"ax\":0.8075218075218076,\"axref\":\"x2\",\"ay\":5,\"ayref\":\"y2\",\"opacity\":0.8,\"showarrow\":true,\"x\":0.39852216748768476,\"xref\":\"x2\",\"y\":5,\"yref\":\"y2\"},{\"arrowhead\":3,\"arrowsize\":2,\"arrowwidth\":1,\"ax\":0.7265534547152195,\"axref\":\"x3\",\"ay\":0,\"ayref\":\"y3\",\"opacity\":0.8,\"showarrow\":true,\"x\":0.4950793650793651,\"xref\":\"x3\",\"y\":0,\"yref\":\"y3\"},{\"arrowhead\":3,\"arrowsize\":2,\"arrowwidth\":1,\"ax\":0.4059569160997733,\"axref\":\"x3\",\"ay\":1,\"ayref\":\"y3\",\"opacity\":0.8,\"showarrow\":true,\"x\":0.3015622149242839,\"xref\":\"x3\",\"y\":1,\"yref\":\"y3\"},{\"arrowhead\":3,\"arrowsize\":2,\"arrowwidth\":1,\"ax\":0.04570802005012532,\"axref\":\"x3\",\"ay\":2,\"ayref\":\"y3\",\"opacity\":0.8,\"showarrow\":true,\"x\":0.2965762273901809,\"xref\":\"x3\",\"y\":2,\"yref\":\"y3\"},{\"arrowhead\":3,\"arrowsize\":2,\"arrowwidth\":1,\"ax\":0.49164462081128746,\"axref\":\"x3\",\"ay\":3,\"ayref\":\"y3\",\"opacity\":0.8,\"showarrow\":true,\"x\":0.22951547966125224,\"xref\":\"x3\",\"y\":3,\"yref\":\"y3\"},{\"arrowhead\":3,\"arrowsize\":2,\"arrowwidth\":1,\"ax\":0.7719376185848489,\"axref\":\"x3\",\"ay\":5,\"ayref\":\"y3\",\"opacity\":0.8,\"showarrow\":true,\"x\":0.4513918326974707,\"xref\":\"x3\",\"y\":5,\"yref\":\"y3\"},{\"arrowhead\":3,\"arrowsize\":2,\"arrowwidth\":1,\"ax\":0.924541331684189,\"axref\":\"x4\",\"ay\":0,\"ayref\":\"y4\",\"opacity\":0.8,\"showarrow\":true,\"x\":0.46396396396396394,\"xref\":\"x4\",\"y\":0,\"yref\":\"y4\"},{\"arrowhead\":3,\"arrowsize\":2,\"arrowwidth\":1,\"ax\":0.28685428849902533,\"axref\":\"x4\",\"ay\":2,\"ayref\":\"y4\",\"opacity\":0.8,\"showarrow\":true,\"x\":0.4459511077158136,\"xref\":\"x4\",\"y\":2,\"yref\":\"y4\"},{\"arrowhead\":3,\"arrowsize\":2,\"arrowwidth\":1,\"ax\":0.7912534643487025,\"axref\":\"x4\",\"ay\":3,\"ayref\":\"y4\",\"opacity\":0.8,\"showarrow\":true,\"x\":0.2463696227283184,\"xref\":\"x4\",\"y\":3,\"yref\":\"y4\"},{\"arrowhead\":3,\"arrowsize\":2,\"arrowwidth\":1,\"ax\":0.8296535517280198,\"axref\":\"x4\",\"ay\":4,\"ayref\":\"y4\",\"opacity\":0.8,\"showarrow\":true,\"x\":0.46805555555555556,\"xref\":\"x4\",\"y\":4,\"yref\":\"y4\"},{\"arrowhead\":3,\"arrowsize\":2,\"arrowwidth\":1,\"ax\":0.9498795627200296,\"axref\":\"x4\",\"ay\":5,\"ayref\":\"y4\",\"opacity\":0.8,\"showarrow\":true,\"x\":0.4454339311482169,\"xref\":\"x4\",\"y\":5,\"yref\":\"y4\"},{\"arrowhead\":3,\"arrowsize\":2,\"arrowwidth\":1,\"ax\":0.5748782899741367,\"axref\":\"x5\",\"ay\":0,\"ayref\":\"y5\",\"opacity\":0.8,\"showarrow\":true,\"x\":0.452217784043442,\"xref\":\"x5\",\"y\":0,\"yref\":\"y5\"},{\"arrowhead\":3,\"arrowsize\":2,\"arrowwidth\":1,\"ax\":0.3842156862745098,\"axref\":\"x5\",\"ay\":3,\"ayref\":\"y5\",\"opacity\":0.8,\"showarrow\":true,\"x\":0.06460200746965454,\"xref\":\"x5\",\"y\":3,\"yref\":\"y5\"},{\"arrowhead\":3,\"arrowsize\":2,\"arrowwidth\":1,\"ax\":0.7387969094922737,\"axref\":\"x5\",\"ay\":5,\"ayref\":\"y5\",\"opacity\":0.8,\"showarrow\":true,\"x\":0.39390307999579527,\"xref\":\"x5\",\"y\":5,\"yref\":\"y5\"},{\"arrowhead\":3,\"arrowsize\":2,\"arrowwidth\":1,\"ax\":0.8590756704980844,\"axref\":\"x6\",\"ay\":0,\"ayref\":\"y6\",\"opacity\":0.8,\"showarrow\":true,\"x\":0.5243553008595988,\"xref\":\"x6\",\"y\":0,\"yref\":\"y6\"},{\"arrowhead\":3,\"arrowsize\":2,\"arrowwidth\":1,\"ax\":0.650546485260771,\"axref\":\"x6\",\"ay\":1,\"ayref\":\"y6\",\"opacity\":0.8,\"showarrow\":true,\"x\":0.3994252873563218,\"xref\":\"x6\",\"y\":1,\"yref\":\"y6\"},{\"arrowhead\":3,\"arrowsize\":2,\"arrowwidth\":1,\"ax\":0.05341246635106283,\"axref\":\"x6\",\"ay\":2,\"ayref\":\"y6\",\"opacity\":0.8,\"showarrow\":true,\"x\":0.3086482921726475,\"xref\":\"x6\",\"y\":2,\"yref\":\"y6\"},{\"arrowhead\":3,\"arrowsize\":2,\"arrowwidth\":1,\"ax\":0.5373459316869059,\"axref\":\"x6\",\"ay\":3,\"ayref\":\"y6\",\"opacity\":0.8,\"showarrow\":true,\"x\":0.08735380116959066,\"xref\":\"x6\",\"y\":3,\"yref\":\"y6\"},{\"arrowhead\":3,\"arrowsize\":2,\"arrowwidth\":1,\"ax\":0.6466881661406157,\"axref\":\"x6\",\"ay\":4,\"ayref\":\"y6\",\"opacity\":0.8,\"showarrow\":true,\"x\":0.48047068538398013,\"xref\":\"x6\",\"y\":4,\"yref\":\"y6\"},{\"arrowhead\":3,\"arrowsize\":2,\"arrowwidth\":1,\"ax\":0.8972007075922739,\"axref\":\"x6\",\"ay\":5,\"ayref\":\"y6\",\"opacity\":0.8,\"showarrow\":true,\"x\":0.4743156544054748,\"xref\":\"x6\",\"y\":5,\"yref\":\"y6\"},{\"arrowhead\":3,\"arrowsize\":2,\"arrowwidth\":1,\"ax\":0.8433428279287175,\"axref\":\"x7\",\"ay\":0,\"ayref\":\"y7\",\"opacity\":0.8,\"showarrow\":true,\"x\":0.5060837971552258,\"xref\":\"x7\",\"y\":0,\"yref\":\"y7\"},{\"arrowhead\":3,\"arrowsize\":2,\"arrowwidth\":1,\"ax\":0.4911535510478109,\"axref\":\"x7\",\"ay\":1,\"ayref\":\"y7\",\"opacity\":0.8,\"showarrow\":true,\"x\":0.3274551363572135,\"xref\":\"x7\",\"y\":1,\"yref\":\"y7\"},{\"arrowhead\":3,\"arrowsize\":2,\"arrowwidth\":1,\"ax\":0.38145043731778433,\"axref\":\"x7\",\"ay\":3,\"ayref\":\"y7\",\"opacity\":0.8,\"showarrow\":true,\"x\":0.16949620427881298,\"xref\":\"x7\",\"y\":3,\"yref\":\"y7\"},{\"arrowhead\":3,\"arrowsize\":2,\"arrowwidth\":1,\"ax\":0.5921570402558997,\"axref\":\"x7\",\"ay\":4,\"ayref\":\"y7\",\"opacity\":0.8,\"showarrow\":true,\"x\":0.45398608881754954,\"xref\":\"x7\",\"y\":4,\"yref\":\"y7\"},{\"arrowhead\":3,\"arrowsize\":2,\"arrowwidth\":1,\"ax\":0.821023619914405,\"axref\":\"x7\",\"ay\":5,\"ayref\":\"y7\",\"opacity\":0.8,\"showarrow\":true,\"x\":0.4723639455782313,\"xref\":\"x7\",\"y\":5,\"yref\":\"y7\"},{\"arrowhead\":3,\"arrowsize\":2,\"arrowwidth\":1,\"ax\":0.9813333333333334,\"axref\":\"x8\",\"ay\":0,\"ayref\":\"y8\",\"opacity\":0.8,\"showarrow\":true,\"x\":0.5181470869149952,\"xref\":\"x8\",\"y\":0,\"yref\":\"y8\"},{\"arrowhead\":3,\"arrowsize\":2,\"arrowwidth\":1,\"ax\":0.7119945877109201,\"axref\":\"x8\",\"ay\":1,\"ayref\":\"y8\",\"opacity\":0.8,\"showarrow\":true,\"x\":0.42320408163265305,\"xref\":\"x8\",\"y\":1,\"yref\":\"y8\"},{\"arrowhead\":3,\"arrowsize\":2,\"arrowwidth\":1,\"ax\":0.8574285714285715,\"axref\":\"x8\",\"ay\":3,\"ayref\":\"y8\",\"opacity\":0.8,\"showarrow\":true,\"x\":0.29354277527629963,\"xref\":\"x8\",\"y\":3,\"yref\":\"y8\"},{\"arrowhead\":3,\"arrowsize\":2,\"arrowwidth\":1,\"ax\":0.8940305635148041,\"axref\":\"x8\",\"ay\":4,\"ayref\":\"y8\",\"opacity\":0.8,\"showarrow\":true,\"x\":0.4918815663801337,\"xref\":\"x8\",\"y\":4,\"yref\":\"y8\"},{\"arrowhead\":3,\"arrowsize\":2,\"arrowwidth\":1,\"ax\":0.9921768707482993,\"axref\":\"x8\",\"ay\":5,\"ayref\":\"y8\",\"opacity\":0.8,\"showarrow\":true,\"x\":0.499047619047619,\"xref\":\"x8\",\"y\":5,\"yref\":\"y8\"}],\"font\":{\"size\":14,\"color\":\"black\"},\"legend\":{\"orientation\":\"h\",\"yanchor\":\"bottom\",\"y\":1.05,\"xanchor\":\"center\",\"x\":0.45},\"margin\":{\"t\":0,\"l\":110,\"r\":5,\"b\":50},\"height\":480,\"width\":800,\"paper_bgcolor\":\"white\",\"plot_bgcolor\":\"white\"},                        {\"responsive\": true}                    ).then(function(){\n",
       "                            \n",
       "var gd = document.getElementById('c3f53cee-0986-45d6-aefd-b4c09f1d49a7');\n",
       "var x = new MutationObserver(function (mutations, observer) {{\n",
       "        var display = window.getComputedStyle(gd).display;\n",
       "        if (!display || display === 'none') {{\n",
       "            console.log([gd, 'removed!']);\n",
       "            Plotly.purge(gd);\n",
       "            observer.disconnect();\n",
       "        }}\n",
       "}});\n",
       "\n",
       "// Listen for the removal of the full notebook cells\n",
       "var notebookContainer = gd.closest('#notebook-container');\n",
       "if (notebookContainer) {{\n",
       "    x.observe(notebookContainer, {childList: true});\n",
       "}}\n",
       "\n",
       "// Listen for the clearing of the current output cell\n",
       "var outputEl = gd.closest('.output');\n",
       "if (outputEl) {{\n",
       "    x.observe(outputEl, {childList: true});\n",
       "}}\n",
       "\n",
       "                        })                };                });            </script>        </div>"
      ]
     },
     "metadata": {},
     "output_type": "display_data"
    }
   ],
   "source": [
    "import plotly.graph_objects as go\n",
    "from plotly.subplots import make_subplots\n",
    "\n",
    "df1 = data_default.copy()\n",
    "df2 = data_robust.copy()\n",
    "\n",
    "# Category labels and Y positions\n",
    "categories = df2.sort_values(by='dimension')[\"dimension\"].unique()\n",
    "y_pos = list(range(len(categories)))\n",
    "\n",
    "# Model groups: row number → list of models\n",
    "model_groups = {\n",
    "    1: ['Aya 8B', 'Aya 32b', 'Gemma-3 12B', 'Gemma-3 27B'],\n",
    "    2: ['Llama-3.1 8B', 'Llama-3.1 70B', 'Qwen2.5 7B', 'Qwen2.5 72B']\n",
    "}\n",
    "num_rows = len(model_groups)\n",
    "num_cols = len(next(iter(model_groups.values())))\n",
    "\n",
    "# Flatten titles in row-major order\n",
    "subplot_titles = [model for row in model_groups.values() for model in row]\n",
    "\n",
    "# Create subplots\n",
    "fig = make_subplots(\n",
    "    rows=num_rows,\n",
    "    cols=num_cols,\n",
    "    shared_yaxes=True,\n",
    "    subplot_titles=subplot_titles,\n",
    "    horizontal_spacing=0.02,\n",
    "    vertical_spacing=0.15\n",
    ")\n",
    "\n",
    "# Helper function to plot one model into a subplot\n",
    "def plot_model(model, row, col, show_legend):\n",
    "    d1 = df1[df1['model_name'] == model].sort_values(by='dimension')\n",
    "    d2 = df2[df2['model_name'] == model].sort_values(by='dimension')\n",
    "\n",
    "    default_scores = d1['mean'].abs().tolist()\n",
    "    robust_scores = d2['mean'].abs().tolist()\n",
    "    default_lower = d1['lower'].tolist()\n",
    "    robust_upper = d2['upper'].tolist()\n",
    "\n",
    "    # Add default (orange)\n",
    "    fig.add_trace(go.Scatter(\n",
    "        x=default_scores,\n",
    "        y=y_pos,\n",
    "        mode='markers',\n",
    "        marker=dict(color='orange', size=10),\n",
    "        name='Dialect' if show_legend else None,\n",
    "        showlegend=show_legend\n",
    "    ), row=row, col=col)\n",
    "\n",
    "    # Add robust (blue)\n",
    "    fig.add_trace(go.Scatter(\n",
    "        x=robust_scores,\n",
    "        y=y_pos,\n",
    "        mode='markers',\n",
    "        marker=dict(color='deepskyblue', size=10),\n",
    "        name='Noisy' if show_legend else None,\n",
    "        showlegend=show_legend\n",
    "    ), row=row, col=col)\n",
    "\n",
    "    # Correct arrow placement with subplot axis IDs\n",
    "    xaxis = f'x{(col + (row - 1) * num_cols)}' if not (row == 1 and col == 1) else 'x'\n",
    "    yaxis = f'y{(col + (row - 1) * num_cols)}' if not (row == 1 and col == 1) else 'y'\n",
    "\n",
    "    for j, (x0, x1, l0, u1) in enumerate(zip(default_scores, robust_scores, default_lower, robust_upper)):\n",
    "        if u1 < l0:\n",
    "            fig.add_annotation(\n",
    "                x=x1, y=j,\n",
    "                ax=x0, ay=j,\n",
    "                xref=xaxis, yref=yaxis,\n",
    "                axref=xaxis, ayref=yaxis,\n",
    "                showarrow=True,\n",
    "                arrowhead=3,\n",
    "                arrowsize=2,\n",
    "                arrowwidth=1,\n",
    "                #arrowcolor='gray',\n",
    "                opacity=0.8\n",
    "            )\n",
    "\n",
    "    # Axes setup\n",
    "    fig.update_xaxes(\n",
    "        title_text=\"(Absolute) Bias\" if row == 2 else None,\n",
    "        range=[-0.1, 1.1],\n",
    "        tickvals=[0, 0.5, 1],\n",
    "        showgrid=True,\n",
    "        gridcolor='lightgray',\n",
    "        linecolor='black',\n",
    "        mirror=True,\n",
    "        row=row, col=col\n",
    "    )\n",
    "\n",
    "    fig.update_yaxes(\n",
    "        tickvals=y_pos,\n",
    "        ticktext=categories if col == 1 else None,\n",
    "        showticklabels=(col == 1),\n",
    "        showgrid=True,\n",
    "        gridcolor='lightgray',\n",
    "        linecolor='black',\n",
    "        mirror=True,\n",
    "        row=row, col=col\n",
    "    )\n",
    "\n",
    "# Add each model to the figure\n",
    "for row, models in model_groups.items():\n",
    "    for col, model in enumerate(models, start=1):\n",
    "        plot_model(model, row, col, show_legend=(row == 1 and col == 1))\n",
    "\n",
    "# Layout tweaks\n",
    "fig.update_layout(\n",
    "    height=240 * num_rows,\n",
    "    width=200 * num_cols,\n",
    "    yaxis_title='',\n",
    "    font=dict(size=14, color='black'),\n",
    "    legend=dict(orientation=\"h\", yanchor=\"bottom\", y=1.05, xanchor=\"center\", x=0.45),\n",
    "    margin=dict(t=0, l=110, r=5, b=50),\n",
    "    paper_bgcolor='white',\n",
    "    plot_bgcolor='white'\n",
    ")\n",
    "\n",
    "fig.show()\n",
    "fig.write_image(\"../img/noisy_diff_two_rows.pdf\")\n"
   ]
  },
  {
   "cell_type": "code",
   "execution_count": 15,
   "id": "cc87279d",
   "metadata": {},
   "outputs": [
    {
     "data": {
      "application/vnd.plotly.v1+json": {
       "config": {
        "plotlyServerURL": "https://plot.ly"
       },
       "data": [
        {
         "marker": {
          "color": "orange",
          "size": 10
         },
         "mode": "markers",
         "name": "Dialect",
         "showlegend": true,
         "type": "scatter",
         "x": [
          0.4596194301013578,
          0.4204289349327518,
          0.14458941017981608,
          0.49597756691852635,
          0.3002020202020202,
          0.6064539007092199
         ],
         "xaxis": "x",
         "y": [
          0,
          1,
          2,
          3,
          4,
          5
         ],
         "yaxis": "y"
        },
        {
         "marker": {
          "color": "deepskyblue",
          "size": 10
         },
         "mode": "markers",
         "name": "Noisy",
         "showlegend": true,
         "type": "scatter",
         "x": [
          0.42036693465264896,
          0.24784627543963647,
          0.19538003663003664,
          0.13862266425557568,
          0.27425535951432367,
          0.33337804605410243
         ],
         "xaxis": "x",
         "y": [
          0,
          1,
          2,
          3,
          4,
          5
         ],
         "yaxis": "y"
        },
        {
         "marker": {
          "color": "orange",
          "size": 10
         },
         "mode": "markers",
         "showlegend": false,
         "type": "scatter",
         "x": [
          0.6356972789115646,
          0.31958843537414966,
          0.2301485260770975,
          0.44979641131815046,
          0.512405653904213,
          0.8075218075218076
         ],
         "xaxis": "x2",
         "y": [
          0,
          1,
          2,
          3,
          4,
          5
         ],
         "yaxis": "y2"
        },
        {
         "marker": {
          "color": "deepskyblue",
          "size": 10
         },
         "mode": "markers",
         "showlegend": false,
         "type": "scatter",
         "x": [
          0.39389025725232624,
          0.25676530612244897,
          0.31815986394557827,
          0.16551518487934674,
          0.3477623140946923,
          0.4074130879345603
         ],
         "xaxis": "x2",
         "y": [
          0,
          1,
          2,
          3,
          4,
          5
         ],
         "yaxis": "y2"
        },
        {
         "marker": {
          "color": "orange",
          "size": 10
         },
         "mode": "markers",
         "showlegend": false,
         "type": "scatter",
         "x": [
          0.7265534547152195,
          0.4059569160997733,
          0.04570802005012532,
          0.49164462081128746,
          0.5398189839450585,
          0.7719376185848489
         ],
         "xaxis": "x3",
         "y": [
          0,
          1,
          2,
          3,
          4,
          5
         ],
         "yaxis": "y3"
        },
        {
         "marker": {
          "color": "deepskyblue",
          "size": 10
         },
         "mode": "markers",
         "showlegend": false,
         "type": "scatter",
         "x": [
          0.4759331686565116,
          0.31471201814058963,
          0.2820293146160198,
          0.1640428297755884,
          0.4664648526077098,
          0.45428921568627456
         ],
         "xaxis": "x3",
         "y": [
          0,
          1,
          2,
          3,
          4,
          5
         ],
         "yaxis": "y3"
        },
        {
         "marker": {
          "color": "orange",
          "size": 10
         },
         "mode": "markers",
         "showlegend": false,
         "type": "scatter",
         "x": [
          0.924541331684189,
          0.33645382395382395,
          0.28685428849902533,
          0.7912534643487025,
          0.8296535517280198,
          0.9498795627200296
         ],
         "xaxis": "x4",
         "y": [
          0,
          1,
          2,
          3,
          4,
          5
         ],
         "yaxis": "y4"
        },
        {
         "marker": {
          "color": "deepskyblue",
          "size": 10
         },
         "mode": "markers",
         "showlegend": false,
         "type": "scatter",
         "x": [
          0.4864864864864865,
          0.3157042510490787,
          0.4500453995157385,
          0.2714512853401742,
          0.5024968789013733,
          0.45442708333333337
         ],
         "xaxis": "x4",
         "y": [
          0,
          1,
          2,
          3,
          4,
          5
         ],
         "yaxis": "y4"
        },
        {
         "marker": {
          "color": "orange",
          "size": 10
         },
         "mode": "markers",
         "showlegend": false,
         "type": "scatter",
         "x": [
          0.5748782899741367,
          0.4085064935064936,
          0.29323940585408476,
          0.3842156862745098,
          0.39058259476240553,
          0.7387969094922737
         ],
         "xaxis": "x5",
         "y": [
          0,
          1,
          2,
          3,
          4,
          5
         ],
         "yaxis": "y5"
        },
        {
         "marker": {
          "color": "deepskyblue",
          "size": 10
         },
         "mode": "markers",
         "showlegend": false,
         "type": "scatter",
         "x": [
          0.42375135722041263,
          0.35397421230754567,
          0.35291776219690335,
          0.08569321533923303,
          0.3790457123790457,
          0.4091139306599833
         ],
         "xaxis": "x5",
         "y": [
          0,
          1,
          2,
          3,
          4,
          5
         ],
         "yaxis": "y5"
        },
        {
         "marker": {
          "color": "orange",
          "size": 10
         },
         "mode": "markers",
         "showlegend": false,
         "type": "scatter",
         "x": [
          0.8590756704980844,
          0.650546485260771,
          0.05341246635106283,
          0.5373459316869059,
          0.6466881661406157,
          0.8972007075922739
         ],
         "xaxis": "x6",
         "y": [
          0,
          1,
          2,
          3,
          4,
          5
         ],
         "yaxis": "y6"
        },
        {
         "marker": {
          "color": "deepskyblue",
          "size": 10
         },
         "mode": "markers",
         "showlegend": false,
         "type": "scatter",
         "x": [
          0.49013605442176866,
          0.41307142857142864,
          0.371148056923919,
          0.07341952062582435,
          0.5148979591836735,
          0.4678994870305846
         ],
         "xaxis": "x6",
         "y": [
          0,
          1,
          2,
          3,
          4,
          5
         ],
         "yaxis": "y6"
        },
        {
         "marker": {
          "color": "orange",
          "size": 10
         },
         "mode": "markers",
         "showlegend": false,
         "type": "scatter",
         "x": [
          0.8433428279287175,
          0.4911535510478109,
          0.5724297126257911,
          0.38145043731778433,
          0.5921570402558997,
          0.821023619914405
         ],
         "xaxis": "x7",
         "y": [
          0,
          1,
          2,
          3,
          4,
          5
         ],
         "yaxis": "y7"
        },
        {
         "marker": {
          "color": "deepskyblue",
          "size": 10
         },
         "mode": "markers",
         "showlegend": false,
         "type": "scatter",
         "x": [
          0.46751437417072095,
          0.34463003663003666,
          0.38389830508474576,
          0.16082823895323897,
          0.4630001810610176,
          0.48690075356742024
         ],
         "xaxis": "x7",
         "y": [
          0,
          1,
          2,
          3,
          4,
          5
         ],
         "yaxis": "y7"
        },
        {
         "marker": {
          "color": "orange",
          "size": 10
         },
         "mode": "markers",
         "showlegend": false,
         "type": "scatter",
         "x": [
          0.9813333333333334,
          0.7119945877109201,
          0.6674102878973939,
          0.8574285714285715,
          0.8940305635148041,
          0.9921768707482993
         ],
         "xaxis": "x8",
         "y": [
          0,
          1,
          2,
          3,
          4,
          5
         ],
         "yaxis": "y8"
        },
        {
         "marker": {
          "color": "deepskyblue",
          "size": 10
         },
         "mode": "markers",
         "showlegend": false,
         "type": "scatter",
         "x": [
          0.497134670487106,
          0.4004580498866213,
          0.4907945736434109,
          0.2528334925183063,
          0.5209881640517479,
          0.4880611270296084
         ],
         "xaxis": "x8",
         "y": [
          0,
          1,
          2,
          3,
          4,
          5
         ],
         "yaxis": "y8"
        }
       ],
       "layout": {
        "annotations": [
         {
          "font": {
           "size": 16
          },
          "showarrow": false,
          "text": "Aya 8B",
          "x": 0.1175,
          "xanchor": "center",
          "xref": "paper",
          "y": 1,
          "yanchor": "bottom",
          "yref": "paper"
         },
         {
          "font": {
           "size": 16
          },
          "showarrow": false,
          "text": "Aya 32b",
          "x": 0.3725,
          "xanchor": "center",
          "xref": "paper",
          "y": 1,
          "yanchor": "bottom",
          "yref": "paper"
         },
         {
          "font": {
           "size": 16
          },
          "showarrow": false,
          "text": "Gemma-3 12B",
          "x": 0.6275,
          "xanchor": "center",
          "xref": "paper",
          "y": 1,
          "yanchor": "bottom",
          "yref": "paper"
         },
         {
          "font": {
           "size": 16
          },
          "showarrow": false,
          "text": "Gemma-3 27B",
          "x": 0.8824999999999998,
          "xanchor": "center",
          "xref": "paper",
          "y": 1,
          "yanchor": "bottom",
          "yref": "paper"
         },
         {
          "font": {
           "size": 16
          },
          "showarrow": false,
          "text": "Llama-3.1 8B",
          "x": 0.1175,
          "xanchor": "center",
          "xref": "paper",
          "y": 0.425,
          "yanchor": "bottom",
          "yref": "paper"
         },
         {
          "font": {
           "size": 16
          },
          "showarrow": false,
          "text": "Llama-3.1 70B",
          "x": 0.3725,
          "xanchor": "center",
          "xref": "paper",
          "y": 0.425,
          "yanchor": "bottom",
          "yref": "paper"
         },
         {
          "font": {
           "size": 16
          },
          "showarrow": false,
          "text": "Qwen2.5 7B",
          "x": 0.6275,
          "xanchor": "center",
          "xref": "paper",
          "y": 0.425,
          "yanchor": "bottom",
          "yref": "paper"
         },
         {
          "font": {
           "size": 16
          },
          "showarrow": false,
          "text": "Qwen2.5 72B",
          "x": 0.8824999999999998,
          "xanchor": "center",
          "xref": "paper",
          "y": 0.425,
          "yanchor": "bottom",
          "yref": "paper"
         },
         {
          "arrowhead": 3,
          "arrowsize": 2,
          "arrowwidth": 1,
          "ax": 0.4204289349327518,
          "axref": "x",
          "ay": 1,
          "ayref": "y",
          "opacity": 0.8,
          "showarrow": true,
          "x": 0.24784627543963647,
          "xref": "x",
          "y": 1,
          "yref": "y"
         },
         {
          "arrowhead": 3,
          "arrowsize": 2,
          "arrowwidth": 1,
          "ax": 0.49597756691852635,
          "axref": "x",
          "ay": 3,
          "ayref": "y",
          "opacity": 0.8,
          "showarrow": true,
          "x": 0.13862266425557568,
          "xref": "x",
          "y": 3,
          "yref": "y"
         },
         {
          "arrowhead": 3,
          "arrowsize": 2,
          "arrowwidth": 1,
          "ax": 0.6064539007092199,
          "axref": "x",
          "ay": 5,
          "ayref": "y",
          "opacity": 0.8,
          "showarrow": true,
          "x": 0.33337804605410243,
          "xref": "x",
          "y": 5,
          "yref": "y"
         },
         {
          "arrowhead": 3,
          "arrowsize": 2,
          "arrowwidth": 1,
          "ax": 0.6356972789115646,
          "axref": "x2",
          "ay": 0,
          "ayref": "y2",
          "opacity": 0.8,
          "showarrow": true,
          "x": 0.39389025725232624,
          "xref": "x2",
          "y": 0,
          "yref": "y2"
         },
         {
          "arrowhead": 3,
          "arrowsize": 2,
          "arrowwidth": 1,
          "ax": 0.44979641131815046,
          "axref": "x2",
          "ay": 3,
          "ayref": "y2",
          "opacity": 0.8,
          "showarrow": true,
          "x": 0.16551518487934674,
          "xref": "x2",
          "y": 3,
          "yref": "y2"
         },
         {
          "arrowhead": 3,
          "arrowsize": 2,
          "arrowwidth": 1,
          "ax": 0.512405653904213,
          "axref": "x2",
          "ay": 4,
          "ayref": "y2",
          "opacity": 0.8,
          "showarrow": true,
          "x": 0.3477623140946923,
          "xref": "x2",
          "y": 4,
          "yref": "y2"
         },
         {
          "arrowhead": 3,
          "arrowsize": 2,
          "arrowwidth": 1,
          "ax": 0.8075218075218076,
          "axref": "x2",
          "ay": 5,
          "ayref": "y2",
          "opacity": 0.8,
          "showarrow": true,
          "x": 0.4074130879345603,
          "xref": "x2",
          "y": 5,
          "yref": "y2"
         },
         {
          "arrowhead": 3,
          "arrowsize": 2,
          "arrowwidth": 1,
          "ax": 0.7265534547152195,
          "axref": "x3",
          "ay": 0,
          "ayref": "y3",
          "opacity": 0.8,
          "showarrow": true,
          "x": 0.4759331686565116,
          "xref": "x3",
          "y": 0,
          "yref": "y3"
         },
         {
          "arrowhead": 3,
          "arrowsize": 2,
          "arrowwidth": 1,
          "ax": 0.4059569160997733,
          "axref": "x3",
          "ay": 1,
          "ayref": "y3",
          "opacity": 0.8,
          "showarrow": true,
          "x": 0.31471201814058963,
          "xref": "x3",
          "y": 1,
          "yref": "y3"
         },
         {
          "arrowhead": 3,
          "arrowsize": 2,
          "arrowwidth": 1,
          "ax": 0.04570802005012532,
          "axref": "x3",
          "ay": 2,
          "ayref": "y3",
          "opacity": 0.8,
          "showarrow": true,
          "x": 0.2820293146160198,
          "xref": "x3",
          "y": 2,
          "yref": "y3"
         },
         {
          "arrowhead": 3,
          "arrowsize": 2,
          "arrowwidth": 1,
          "ax": 0.49164462081128746,
          "axref": "x3",
          "ay": 3,
          "ayref": "y3",
          "opacity": 0.8,
          "showarrow": true,
          "x": 0.1640428297755884,
          "xref": "x3",
          "y": 3,
          "yref": "y3"
         },
         {
          "arrowhead": 3,
          "arrowsize": 2,
          "arrowwidth": 1,
          "ax": 0.7719376185848489,
          "axref": "x3",
          "ay": 5,
          "ayref": "y3",
          "opacity": 0.8,
          "showarrow": true,
          "x": 0.45428921568627456,
          "xref": "x3",
          "y": 5,
          "yref": "y3"
         },
         {
          "arrowhead": 3,
          "arrowsize": 2,
          "arrowwidth": 1,
          "ax": 0.924541331684189,
          "axref": "x4",
          "ay": 0,
          "ayref": "y4",
          "opacity": 0.8,
          "showarrow": true,
          "x": 0.4864864864864865,
          "xref": "x4",
          "y": 0,
          "yref": "y4"
         },
         {
          "arrowhead": 3,
          "arrowsize": 2,
          "arrowwidth": 1,
          "ax": 0.28685428849902533,
          "axref": "x4",
          "ay": 2,
          "ayref": "y4",
          "opacity": 0.8,
          "showarrow": true,
          "x": 0.4500453995157385,
          "xref": "x4",
          "y": 2,
          "yref": "y4"
         },
         {
          "arrowhead": 3,
          "arrowsize": 2,
          "arrowwidth": 1,
          "ax": 0.7912534643487025,
          "axref": "x4",
          "ay": 3,
          "ayref": "y4",
          "opacity": 0.8,
          "showarrow": true,
          "x": 0.2714512853401742,
          "xref": "x4",
          "y": 3,
          "yref": "y4"
         },
         {
          "arrowhead": 3,
          "arrowsize": 2,
          "arrowwidth": 1,
          "ax": 0.8296535517280198,
          "axref": "x4",
          "ay": 4,
          "ayref": "y4",
          "opacity": 0.8,
          "showarrow": true,
          "x": 0.5024968789013733,
          "xref": "x4",
          "y": 4,
          "yref": "y4"
         },
         {
          "arrowhead": 3,
          "arrowsize": 2,
          "arrowwidth": 1,
          "ax": 0.9498795627200296,
          "axref": "x4",
          "ay": 5,
          "ayref": "y4",
          "opacity": 0.8,
          "showarrow": true,
          "x": 0.45442708333333337,
          "xref": "x4",
          "y": 5,
          "yref": "y4"
         },
         {
          "arrowhead": 3,
          "arrowsize": 2,
          "arrowwidth": 1,
          "ax": 0.5748782899741367,
          "axref": "x5",
          "ay": 0,
          "ayref": "y5",
          "opacity": 0.8,
          "showarrow": true,
          "x": 0.42375135722041263,
          "xref": "x5",
          "y": 0,
          "yref": "y5"
         },
         {
          "arrowhead": 3,
          "arrowsize": 2,
          "arrowwidth": 1,
          "ax": 0.3842156862745098,
          "axref": "x5",
          "ay": 3,
          "ayref": "y5",
          "opacity": 0.8,
          "showarrow": true,
          "x": 0.08569321533923303,
          "xref": "x5",
          "y": 3,
          "yref": "y5"
         },
         {
          "arrowhead": 3,
          "arrowsize": 2,
          "arrowwidth": 1,
          "ax": 0.7387969094922737,
          "axref": "x5",
          "ay": 5,
          "ayref": "y5",
          "opacity": 0.8,
          "showarrow": true,
          "x": 0.4091139306599833,
          "xref": "x5",
          "y": 5,
          "yref": "y5"
         },
         {
          "arrowhead": 3,
          "arrowsize": 2,
          "arrowwidth": 1,
          "ax": 0.8590756704980844,
          "axref": "x6",
          "ay": 0,
          "ayref": "y6",
          "opacity": 0.8,
          "showarrow": true,
          "x": 0.49013605442176866,
          "xref": "x6",
          "y": 0,
          "yref": "y6"
         },
         {
          "arrowhead": 3,
          "arrowsize": 2,
          "arrowwidth": 1,
          "ax": 0.650546485260771,
          "axref": "x6",
          "ay": 1,
          "ayref": "y6",
          "opacity": 0.8,
          "showarrow": true,
          "x": 0.41307142857142864,
          "xref": "x6",
          "y": 1,
          "yref": "y6"
         },
         {
          "arrowhead": 3,
          "arrowsize": 2,
          "arrowwidth": 1,
          "ax": 0.05341246635106283,
          "axref": "x6",
          "ay": 2,
          "ayref": "y6",
          "opacity": 0.8,
          "showarrow": true,
          "x": 0.371148056923919,
          "xref": "x6",
          "y": 2,
          "yref": "y6"
         },
         {
          "arrowhead": 3,
          "arrowsize": 2,
          "arrowwidth": 1,
          "ax": 0.5373459316869059,
          "axref": "x6",
          "ay": 3,
          "ayref": "y6",
          "opacity": 0.8,
          "showarrow": true,
          "x": 0.07341952062582435,
          "xref": "x6",
          "y": 3,
          "yref": "y6"
         },
         {
          "arrowhead": 3,
          "arrowsize": 2,
          "arrowwidth": 1,
          "ax": 0.6466881661406157,
          "axref": "x6",
          "ay": 4,
          "ayref": "y6",
          "opacity": 0.8,
          "showarrow": true,
          "x": 0.5148979591836735,
          "xref": "x6",
          "y": 4,
          "yref": "y6"
         },
         {
          "arrowhead": 3,
          "arrowsize": 2,
          "arrowwidth": 1,
          "ax": 0.8972007075922739,
          "axref": "x6",
          "ay": 5,
          "ayref": "y6",
          "opacity": 0.8,
          "showarrow": true,
          "x": 0.4678994870305846,
          "xref": "x6",
          "y": 5,
          "yref": "y6"
         },
         {
          "arrowhead": 3,
          "arrowsize": 2,
          "arrowwidth": 1,
          "ax": 0.8433428279287175,
          "axref": "x7",
          "ay": 0,
          "ayref": "y7",
          "opacity": 0.8,
          "showarrow": true,
          "x": 0.46751437417072095,
          "xref": "x7",
          "y": 0,
          "yref": "y7"
         },
         {
          "arrowhead": 3,
          "arrowsize": 2,
          "arrowwidth": 1,
          "ax": 0.4911535510478109,
          "axref": "x7",
          "ay": 1,
          "ayref": "y7",
          "opacity": 0.8,
          "showarrow": true,
          "x": 0.34463003663003666,
          "xref": "x7",
          "y": 1,
          "yref": "y7"
         },
         {
          "arrowhead": 3,
          "arrowsize": 2,
          "arrowwidth": 1,
          "ax": 0.38145043731778433,
          "axref": "x7",
          "ay": 3,
          "ayref": "y7",
          "opacity": 0.8,
          "showarrow": true,
          "x": 0.16082823895323897,
          "xref": "x7",
          "y": 3,
          "yref": "y7"
         },
         {
          "arrowhead": 3,
          "arrowsize": 2,
          "arrowwidth": 1,
          "ax": 0.5921570402558997,
          "axref": "x7",
          "ay": 4,
          "ayref": "y7",
          "opacity": 0.8,
          "showarrow": true,
          "x": 0.4630001810610176,
          "xref": "x7",
          "y": 4,
          "yref": "y7"
         },
         {
          "arrowhead": 3,
          "arrowsize": 2,
          "arrowwidth": 1,
          "ax": 0.821023619914405,
          "axref": "x7",
          "ay": 5,
          "ayref": "y7",
          "opacity": 0.8,
          "showarrow": true,
          "x": 0.48690075356742024,
          "xref": "x7",
          "y": 5,
          "yref": "y7"
         },
         {
          "arrowhead": 3,
          "arrowsize": 2,
          "arrowwidth": 1,
          "ax": 0.9813333333333334,
          "axref": "x8",
          "ay": 0,
          "ayref": "y8",
          "opacity": 0.8,
          "showarrow": true,
          "x": 0.497134670487106,
          "xref": "x8",
          "y": 0,
          "yref": "y8"
         },
         {
          "arrowhead": 3,
          "arrowsize": 2,
          "arrowwidth": 1,
          "ax": 0.7119945877109201,
          "axref": "x8",
          "ay": 1,
          "ayref": "y8",
          "opacity": 0.8,
          "showarrow": true,
          "x": 0.4004580498866213,
          "xref": "x8",
          "y": 1,
          "yref": "y8"
         },
         {
          "arrowhead": 3,
          "arrowsize": 2,
          "arrowwidth": 1,
          "ax": 0.8574285714285715,
          "axref": "x8",
          "ay": 3,
          "ayref": "y8",
          "opacity": 0.8,
          "showarrow": true,
          "x": 0.2528334925183063,
          "xref": "x8",
          "y": 3,
          "yref": "y8"
         },
         {
          "arrowhead": 3,
          "arrowsize": 2,
          "arrowwidth": 1,
          "ax": 0.8940305635148041,
          "axref": "x8",
          "ay": 4,
          "ayref": "y8",
          "opacity": 0.8,
          "showarrow": true,
          "x": 0.5209881640517479,
          "xref": "x8",
          "y": 4,
          "yref": "y8"
         },
         {
          "arrowhead": 3,
          "arrowsize": 2,
          "arrowwidth": 1,
          "ax": 0.9921768707482993,
          "axref": "x8",
          "ay": 5,
          "ayref": "y8",
          "opacity": 0.8,
          "showarrow": true,
          "x": 0.4880611270296084,
          "xref": "x8",
          "y": 5,
          "yref": "y8"
         }
        ],
        "font": {
         "color": "black",
         "size": 14
        },
        "height": 480,
        "legend": {
         "orientation": "h",
         "x": 0.45,
         "xanchor": "center",
         "y": 1.05,
         "yanchor": "bottom"
        },
        "margin": {
         "b": 50,
         "l": 110,
         "r": 5,
         "t": 0
        },
        "paper_bgcolor": "white",
        "plot_bgcolor": "white",
        "template": {
         "data": {
          "bar": [
           {
            "error_x": {
             "color": "#2a3f5f"
            },
            "error_y": {
             "color": "#2a3f5f"
            },
            "marker": {
             "line": {
              "color": "#E5ECF6",
              "width": 0.5
             },
             "pattern": {
              "fillmode": "overlay",
              "size": 10,
              "solidity": 0.2
             }
            },
            "type": "bar"
           }
          ],
          "barpolar": [
           {
            "marker": {
             "line": {
              "color": "#E5ECF6",
              "width": 0.5
             },
             "pattern": {
              "fillmode": "overlay",
              "size": 10,
              "solidity": 0.2
             }
            },
            "type": "barpolar"
           }
          ],
          "carpet": [
           {
            "aaxis": {
             "endlinecolor": "#2a3f5f",
             "gridcolor": "white",
             "linecolor": "white",
             "minorgridcolor": "white",
             "startlinecolor": "#2a3f5f"
            },
            "baxis": {
             "endlinecolor": "#2a3f5f",
             "gridcolor": "white",
             "linecolor": "white",
             "minorgridcolor": "white",
             "startlinecolor": "#2a3f5f"
            },
            "type": "carpet"
           }
          ],
          "choropleth": [
           {
            "colorbar": {
             "outlinewidth": 0,
             "ticks": ""
            },
            "type": "choropleth"
           }
          ],
          "contour": [
           {
            "colorbar": {
             "outlinewidth": 0,
             "ticks": ""
            },
            "colorscale": [
             [
              0,
              "#0d0887"
             ],
             [
              0.1111111111111111,
              "#46039f"
             ],
             [
              0.2222222222222222,
              "#7201a8"
             ],
             [
              0.3333333333333333,
              "#9c179e"
             ],
             [
              0.4444444444444444,
              "#bd3786"
             ],
             [
              0.5555555555555556,
              "#d8576b"
             ],
             [
              0.6666666666666666,
              "#ed7953"
             ],
             [
              0.7777777777777778,
              "#fb9f3a"
             ],
             [
              0.8888888888888888,
              "#fdca26"
             ],
             [
              1,
              "#f0f921"
             ]
            ],
            "type": "contour"
           }
          ],
          "contourcarpet": [
           {
            "colorbar": {
             "outlinewidth": 0,
             "ticks": ""
            },
            "type": "contourcarpet"
           }
          ],
          "heatmap": [
           {
            "colorbar": {
             "outlinewidth": 0,
             "ticks": ""
            },
            "colorscale": [
             [
              0,
              "#0d0887"
             ],
             [
              0.1111111111111111,
              "#46039f"
             ],
             [
              0.2222222222222222,
              "#7201a8"
             ],
             [
              0.3333333333333333,
              "#9c179e"
             ],
             [
              0.4444444444444444,
              "#bd3786"
             ],
             [
              0.5555555555555556,
              "#d8576b"
             ],
             [
              0.6666666666666666,
              "#ed7953"
             ],
             [
              0.7777777777777778,
              "#fb9f3a"
             ],
             [
              0.8888888888888888,
              "#fdca26"
             ],
             [
              1,
              "#f0f921"
             ]
            ],
            "type": "heatmap"
           }
          ],
          "heatmapgl": [
           {
            "colorbar": {
             "outlinewidth": 0,
             "ticks": ""
            },
            "colorscale": [
             [
              0,
              "#0d0887"
             ],
             [
              0.1111111111111111,
              "#46039f"
             ],
             [
              0.2222222222222222,
              "#7201a8"
             ],
             [
              0.3333333333333333,
              "#9c179e"
             ],
             [
              0.4444444444444444,
              "#bd3786"
             ],
             [
              0.5555555555555556,
              "#d8576b"
             ],
             [
              0.6666666666666666,
              "#ed7953"
             ],
             [
              0.7777777777777778,
              "#fb9f3a"
             ],
             [
              0.8888888888888888,
              "#fdca26"
             ],
             [
              1,
              "#f0f921"
             ]
            ],
            "type": "heatmapgl"
           }
          ],
          "histogram": [
           {
            "marker": {
             "pattern": {
              "fillmode": "overlay",
              "size": 10,
              "solidity": 0.2
             }
            },
            "type": "histogram"
           }
          ],
          "histogram2d": [
           {
            "colorbar": {
             "outlinewidth": 0,
             "ticks": ""
            },
            "colorscale": [
             [
              0,
              "#0d0887"
             ],
             [
              0.1111111111111111,
              "#46039f"
             ],
             [
              0.2222222222222222,
              "#7201a8"
             ],
             [
              0.3333333333333333,
              "#9c179e"
             ],
             [
              0.4444444444444444,
              "#bd3786"
             ],
             [
              0.5555555555555556,
              "#d8576b"
             ],
             [
              0.6666666666666666,
              "#ed7953"
             ],
             [
              0.7777777777777778,
              "#fb9f3a"
             ],
             [
              0.8888888888888888,
              "#fdca26"
             ],
             [
              1,
              "#f0f921"
             ]
            ],
            "type": "histogram2d"
           }
          ],
          "histogram2dcontour": [
           {
            "colorbar": {
             "outlinewidth": 0,
             "ticks": ""
            },
            "colorscale": [
             [
              0,
              "#0d0887"
             ],
             [
              0.1111111111111111,
              "#46039f"
             ],
             [
              0.2222222222222222,
              "#7201a8"
             ],
             [
              0.3333333333333333,
              "#9c179e"
             ],
             [
              0.4444444444444444,
              "#bd3786"
             ],
             [
              0.5555555555555556,
              "#d8576b"
             ],
             [
              0.6666666666666666,
              "#ed7953"
             ],
             [
              0.7777777777777778,
              "#fb9f3a"
             ],
             [
              0.8888888888888888,
              "#fdca26"
             ],
             [
              1,
              "#f0f921"
             ]
            ],
            "type": "histogram2dcontour"
           }
          ],
          "mesh3d": [
           {
            "colorbar": {
             "outlinewidth": 0,
             "ticks": ""
            },
            "type": "mesh3d"
           }
          ],
          "parcoords": [
           {
            "line": {
             "colorbar": {
              "outlinewidth": 0,
              "ticks": ""
             }
            },
            "type": "parcoords"
           }
          ],
          "pie": [
           {
            "automargin": true,
            "type": "pie"
           }
          ],
          "scatter": [
           {
            "fillpattern": {
             "fillmode": "overlay",
             "size": 10,
             "solidity": 0.2
            },
            "type": "scatter"
           }
          ],
          "scatter3d": [
           {
            "line": {
             "colorbar": {
              "outlinewidth": 0,
              "ticks": ""
             }
            },
            "marker": {
             "colorbar": {
              "outlinewidth": 0,
              "ticks": ""
             }
            },
            "type": "scatter3d"
           }
          ],
          "scattercarpet": [
           {
            "marker": {
             "colorbar": {
              "outlinewidth": 0,
              "ticks": ""
             }
            },
            "type": "scattercarpet"
           }
          ],
          "scattergeo": [
           {
            "marker": {
             "colorbar": {
              "outlinewidth": 0,
              "ticks": ""
             }
            },
            "type": "scattergeo"
           }
          ],
          "scattergl": [
           {
            "marker": {
             "colorbar": {
              "outlinewidth": 0,
              "ticks": ""
             }
            },
            "type": "scattergl"
           }
          ],
          "scattermapbox": [
           {
            "marker": {
             "colorbar": {
              "outlinewidth": 0,
              "ticks": ""
             }
            },
            "type": "scattermapbox"
           }
          ],
          "scatterpolar": [
           {
            "marker": {
             "colorbar": {
              "outlinewidth": 0,
              "ticks": ""
             }
            },
            "type": "scatterpolar"
           }
          ],
          "scatterpolargl": [
           {
            "marker": {
             "colorbar": {
              "outlinewidth": 0,
              "ticks": ""
             }
            },
            "type": "scatterpolargl"
           }
          ],
          "scatterternary": [
           {
            "marker": {
             "colorbar": {
              "outlinewidth": 0,
              "ticks": ""
             }
            },
            "type": "scatterternary"
           }
          ],
          "surface": [
           {
            "colorbar": {
             "outlinewidth": 0,
             "ticks": ""
            },
            "colorscale": [
             [
              0,
              "#0d0887"
             ],
             [
              0.1111111111111111,
              "#46039f"
             ],
             [
              0.2222222222222222,
              "#7201a8"
             ],
             [
              0.3333333333333333,
              "#9c179e"
             ],
             [
              0.4444444444444444,
              "#bd3786"
             ],
             [
              0.5555555555555556,
              "#d8576b"
             ],
             [
              0.6666666666666666,
              "#ed7953"
             ],
             [
              0.7777777777777778,
              "#fb9f3a"
             ],
             [
              0.8888888888888888,
              "#fdca26"
             ],
             [
              1,
              "#f0f921"
             ]
            ],
            "type": "surface"
           }
          ],
          "table": [
           {
            "cells": {
             "fill": {
              "color": "#EBF0F8"
             },
             "line": {
              "color": "white"
             }
            },
            "header": {
             "fill": {
              "color": "#C8D4E3"
             },
             "line": {
              "color": "white"
             }
            },
            "type": "table"
           }
          ]
         },
         "layout": {
          "annotationdefaults": {
           "arrowcolor": "#2a3f5f",
           "arrowhead": 0,
           "arrowwidth": 1
          },
          "autotypenumbers": "strict",
          "coloraxis": {
           "colorbar": {
            "outlinewidth": 0,
            "ticks": ""
           }
          },
          "colorscale": {
           "diverging": [
            [
             0,
             "#8e0152"
            ],
            [
             0.1,
             "#c51b7d"
            ],
            [
             0.2,
             "#de77ae"
            ],
            [
             0.3,
             "#f1b6da"
            ],
            [
             0.4,
             "#fde0ef"
            ],
            [
             0.5,
             "#f7f7f7"
            ],
            [
             0.6,
             "#e6f5d0"
            ],
            [
             0.7,
             "#b8e186"
            ],
            [
             0.8,
             "#7fbc41"
            ],
            [
             0.9,
             "#4d9221"
            ],
            [
             1,
             "#276419"
            ]
           ],
           "sequential": [
            [
             0,
             "#0d0887"
            ],
            [
             0.1111111111111111,
             "#46039f"
            ],
            [
             0.2222222222222222,
             "#7201a8"
            ],
            [
             0.3333333333333333,
             "#9c179e"
            ],
            [
             0.4444444444444444,
             "#bd3786"
            ],
            [
             0.5555555555555556,
             "#d8576b"
            ],
            [
             0.6666666666666666,
             "#ed7953"
            ],
            [
             0.7777777777777778,
             "#fb9f3a"
            ],
            [
             0.8888888888888888,
             "#fdca26"
            ],
            [
             1,
             "#f0f921"
            ]
           ],
           "sequentialminus": [
            [
             0,
             "#0d0887"
            ],
            [
             0.1111111111111111,
             "#46039f"
            ],
            [
             0.2222222222222222,
             "#7201a8"
            ],
            [
             0.3333333333333333,
             "#9c179e"
            ],
            [
             0.4444444444444444,
             "#bd3786"
            ],
            [
             0.5555555555555556,
             "#d8576b"
            ],
            [
             0.6666666666666666,
             "#ed7953"
            ],
            [
             0.7777777777777778,
             "#fb9f3a"
            ],
            [
             0.8888888888888888,
             "#fdca26"
            ],
            [
             1,
             "#f0f921"
            ]
           ]
          },
          "colorway": [
           "#636efa",
           "#EF553B",
           "#00cc96",
           "#ab63fa",
           "#FFA15A",
           "#19d3f3",
           "#FF6692",
           "#B6E880",
           "#FF97FF",
           "#FECB52"
          ],
          "font": {
           "color": "#2a3f5f"
          },
          "geo": {
           "bgcolor": "white",
           "lakecolor": "white",
           "landcolor": "#E5ECF6",
           "showlakes": true,
           "showland": true,
           "subunitcolor": "white"
          },
          "hoverlabel": {
           "align": "left"
          },
          "hovermode": "closest",
          "mapbox": {
           "style": "light"
          },
          "paper_bgcolor": "white",
          "plot_bgcolor": "#E5ECF6",
          "polar": {
           "angularaxis": {
            "gridcolor": "white",
            "linecolor": "white",
            "ticks": ""
           },
           "bgcolor": "#E5ECF6",
           "radialaxis": {
            "gridcolor": "white",
            "linecolor": "white",
            "ticks": ""
           }
          },
          "scene": {
           "xaxis": {
            "backgroundcolor": "#E5ECF6",
            "gridcolor": "white",
            "gridwidth": 2,
            "linecolor": "white",
            "showbackground": true,
            "ticks": "",
            "zerolinecolor": "white"
           },
           "yaxis": {
            "backgroundcolor": "#E5ECF6",
            "gridcolor": "white",
            "gridwidth": 2,
            "linecolor": "white",
            "showbackground": true,
            "ticks": "",
            "zerolinecolor": "white"
           },
           "zaxis": {
            "backgroundcolor": "#E5ECF6",
            "gridcolor": "white",
            "gridwidth": 2,
            "linecolor": "white",
            "showbackground": true,
            "ticks": "",
            "zerolinecolor": "white"
           }
          },
          "shapedefaults": {
           "line": {
            "color": "#2a3f5f"
           }
          },
          "ternary": {
           "aaxis": {
            "gridcolor": "white",
            "linecolor": "white",
            "ticks": ""
           },
           "baxis": {
            "gridcolor": "white",
            "linecolor": "white",
            "ticks": ""
           },
           "bgcolor": "#E5ECF6",
           "caxis": {
            "gridcolor": "white",
            "linecolor": "white",
            "ticks": ""
           }
          },
          "title": {
           "x": 0.05
          },
          "xaxis": {
           "automargin": true,
           "gridcolor": "white",
           "linecolor": "white",
           "ticks": "",
           "title": {
            "standoff": 15
           },
           "zerolinecolor": "white",
           "zerolinewidth": 2
          },
          "yaxis": {
           "automargin": true,
           "gridcolor": "white",
           "linecolor": "white",
           "ticks": "",
           "title": {
            "standoff": 15
           },
           "zerolinecolor": "white",
           "zerolinewidth": 2
          }
         }
        },
        "width": 800,
        "xaxis": {
         "anchor": "y",
         "domain": [
          0,
          0.235
         ],
         "gridcolor": "lightgray",
         "linecolor": "black",
         "mirror": true,
         "range": [
          -0.1,
          1.1
         ],
         "showgrid": true,
         "tickvals": [
          0,
          0.5,
          1
         ]
        },
        "xaxis2": {
         "anchor": "y2",
         "domain": [
          0.255,
          0.49
         ],
         "gridcolor": "lightgray",
         "linecolor": "black",
         "mirror": true,
         "range": [
          -0.1,
          1.1
         ],
         "showgrid": true,
         "tickvals": [
          0,
          0.5,
          1
         ]
        },
        "xaxis3": {
         "anchor": "y3",
         "domain": [
          0.51,
          0.745
         ],
         "gridcolor": "lightgray",
         "linecolor": "black",
         "mirror": true,
         "range": [
          -0.1,
          1.1
         ],
         "showgrid": true,
         "tickvals": [
          0,
          0.5,
          1
         ]
        },
        "xaxis4": {
         "anchor": "y4",
         "domain": [
          0.7649999999999999,
          0.9999999999999999
         ],
         "gridcolor": "lightgray",
         "linecolor": "black",
         "mirror": true,
         "range": [
          -0.1,
          1.1
         ],
         "showgrid": true,
         "tickvals": [
          0,
          0.5,
          1
         ]
        },
        "xaxis5": {
         "anchor": "y5",
         "domain": [
          0,
          0.235
         ],
         "gridcolor": "lightgray",
         "linecolor": "black",
         "mirror": true,
         "range": [
          -0.1,
          1.1
         ],
         "showgrid": true,
         "tickvals": [
          0,
          0.5,
          1
         ],
         "title": {
          "text": "(Absolute) Bias"
         }
        },
        "xaxis6": {
         "anchor": "y6",
         "domain": [
          0.255,
          0.49
         ],
         "gridcolor": "lightgray",
         "linecolor": "black",
         "mirror": true,
         "range": [
          -0.1,
          1.1
         ],
         "showgrid": true,
         "tickvals": [
          0,
          0.5,
          1
         ],
         "title": {
          "text": "(Absolute) Bias"
         }
        },
        "xaxis7": {
         "anchor": "y7",
         "domain": [
          0.51,
          0.745
         ],
         "gridcolor": "lightgray",
         "linecolor": "black",
         "mirror": true,
         "range": [
          -0.1,
          1.1
         ],
         "showgrid": true,
         "tickvals": [
          0,
          0.5,
          1
         ],
         "title": {
          "text": "(Absolute) Bias"
         }
        },
        "xaxis8": {
         "anchor": "y8",
         "domain": [
          0.7649999999999999,
          0.9999999999999999
         ],
         "gridcolor": "lightgray",
         "linecolor": "black",
         "mirror": true,
         "range": [
          -0.1,
          1.1
         ],
         "showgrid": true,
         "tickvals": [
          0,
          0.5,
          1
         ],
         "title": {
          "text": "(Absolute) Bias"
         }
        },
        "yaxis": {
         "anchor": "x",
         "domain": [
          0.575,
          1
         ],
         "gridcolor": "lightgray",
         "linecolor": "black",
         "mirror": true,
         "showgrid": true,
         "showticklabels": true,
         "ticktext": [
          "Careless",
          "Closed-Minded",
          "Friendly",
          "Rural",
          "Temper",
          "Uneducated"
         ],
         "tickvals": [
          0,
          1,
          2,
          3,
          4,
          5
         ],
         "title": {
          "text": ""
         }
        },
        "yaxis2": {
         "anchor": "x2",
         "domain": [
          0.575,
          1
         ],
         "gridcolor": "lightgray",
         "linecolor": "black",
         "matches": "y",
         "mirror": true,
         "showgrid": true,
         "showticklabels": false,
         "tickvals": [
          0,
          1,
          2,
          3,
          4,
          5
         ]
        },
        "yaxis3": {
         "anchor": "x3",
         "domain": [
          0.575,
          1
         ],
         "gridcolor": "lightgray",
         "linecolor": "black",
         "matches": "y",
         "mirror": true,
         "showgrid": true,
         "showticklabels": false,
         "tickvals": [
          0,
          1,
          2,
          3,
          4,
          5
         ]
        },
        "yaxis4": {
         "anchor": "x4",
         "domain": [
          0.575,
          1
         ],
         "gridcolor": "lightgray",
         "linecolor": "black",
         "matches": "y",
         "mirror": true,
         "showgrid": true,
         "showticklabels": false,
         "tickvals": [
          0,
          1,
          2,
          3,
          4,
          5
         ]
        },
        "yaxis5": {
         "anchor": "x5",
         "domain": [
          0,
          0.425
         ],
         "gridcolor": "lightgray",
         "linecolor": "black",
         "mirror": true,
         "showgrid": true,
         "showticklabels": true,
         "ticktext": [
          "Careless",
          "Closed-Minded",
          "Friendly",
          "Rural",
          "Temper",
          "Uneducated"
         ],
         "tickvals": [
          0,
          1,
          2,
          3,
          4,
          5
         ]
        },
        "yaxis6": {
         "anchor": "x6",
         "domain": [
          0,
          0.425
         ],
         "gridcolor": "lightgray",
         "linecolor": "black",
         "matches": "y5",
         "mirror": true,
         "showgrid": true,
         "showticklabels": false,
         "tickvals": [
          0,
          1,
          2,
          3,
          4,
          5
         ]
        },
        "yaxis7": {
         "anchor": "x7",
         "domain": [
          0,
          0.425
         ],
         "gridcolor": "lightgray",
         "linecolor": "black",
         "matches": "y5",
         "mirror": true,
         "showgrid": true,
         "showticklabels": false,
         "tickvals": [
          0,
          1,
          2,
          3,
          4,
          5
         ]
        },
        "yaxis8": {
         "anchor": "x8",
         "domain": [
          0,
          0.425
         ],
         "gridcolor": "lightgray",
         "linecolor": "black",
         "matches": "y5",
         "mirror": true,
         "showgrid": true,
         "showticklabels": false,
         "tickvals": [
          0,
          1,
          2,
          3,
          4,
          5
         ]
        }
       }
      },
      "text/html": [
       "<div>                            <div id=\"a6f29671-96fa-4fef-a065-4f1fdb878a9f\" class=\"plotly-graph-div\" style=\"height:480px; width:800px;\"></div>            <script type=\"text/javascript\">                require([\"plotly\"], function(Plotly) {                    window.PLOTLYENV=window.PLOTLYENV || {};                                    if (document.getElementById(\"a6f29671-96fa-4fef-a065-4f1fdb878a9f\")) {                    Plotly.newPlot(                        \"a6f29671-96fa-4fef-a065-4f1fdb878a9f\",                        [{\"marker\":{\"color\":\"orange\",\"size\":10},\"mode\":\"markers\",\"name\":\"Dialect\",\"showlegend\":true,\"x\":[0.4596194301013578,0.4204289349327518,0.14458941017981608,0.49597756691852635,0.3002020202020202,0.6064539007092199],\"y\":[0,1,2,3,4,5],\"type\":\"scatter\",\"xaxis\":\"x\",\"yaxis\":\"y\"},{\"marker\":{\"color\":\"deepskyblue\",\"size\":10},\"mode\":\"markers\",\"name\":\"Noisy\",\"showlegend\":true,\"x\":[0.42036693465264896,0.24784627543963647,0.19538003663003664,0.13862266425557568,0.27425535951432367,0.33337804605410243],\"y\":[0,1,2,3,4,5],\"type\":\"scatter\",\"xaxis\":\"x\",\"yaxis\":\"y\"},{\"marker\":{\"color\":\"orange\",\"size\":10},\"mode\":\"markers\",\"showlegend\":false,\"x\":[0.6356972789115646,0.31958843537414966,0.2301485260770975,0.44979641131815046,0.512405653904213,0.8075218075218076],\"y\":[0,1,2,3,4,5],\"type\":\"scatter\",\"xaxis\":\"x2\",\"yaxis\":\"y2\"},{\"marker\":{\"color\":\"deepskyblue\",\"size\":10},\"mode\":\"markers\",\"showlegend\":false,\"x\":[0.39389025725232624,0.25676530612244897,0.31815986394557827,0.16551518487934674,0.3477623140946923,0.4074130879345603],\"y\":[0,1,2,3,4,5],\"type\":\"scatter\",\"xaxis\":\"x2\",\"yaxis\":\"y2\"},{\"marker\":{\"color\":\"orange\",\"size\":10},\"mode\":\"markers\",\"showlegend\":false,\"x\":[0.7265534547152195,0.4059569160997733,0.04570802005012532,0.49164462081128746,0.5398189839450585,0.7719376185848489],\"y\":[0,1,2,3,4,5],\"type\":\"scatter\",\"xaxis\":\"x3\",\"yaxis\":\"y3\"},{\"marker\":{\"color\":\"deepskyblue\",\"size\":10},\"mode\":\"markers\",\"showlegend\":false,\"x\":[0.4759331686565116,0.31471201814058963,0.2820293146160198,0.1640428297755884,0.4664648526077098,0.45428921568627456],\"y\":[0,1,2,3,4,5],\"type\":\"scatter\",\"xaxis\":\"x3\",\"yaxis\":\"y3\"},{\"marker\":{\"color\":\"orange\",\"size\":10},\"mode\":\"markers\",\"showlegend\":false,\"x\":[0.924541331684189,0.33645382395382395,0.28685428849902533,0.7912534643487025,0.8296535517280198,0.9498795627200296],\"y\":[0,1,2,3,4,5],\"type\":\"scatter\",\"xaxis\":\"x4\",\"yaxis\":\"y4\"},{\"marker\":{\"color\":\"deepskyblue\",\"size\":10},\"mode\":\"markers\",\"showlegend\":false,\"x\":[0.4864864864864865,0.3157042510490787,0.4500453995157385,0.2714512853401742,0.5024968789013733,0.45442708333333337],\"y\":[0,1,2,3,4,5],\"type\":\"scatter\",\"xaxis\":\"x4\",\"yaxis\":\"y4\"},{\"marker\":{\"color\":\"orange\",\"size\":10},\"mode\":\"markers\",\"showlegend\":false,\"x\":[0.5748782899741367,0.4085064935064936,0.29323940585408476,0.3842156862745098,0.39058259476240553,0.7387969094922737],\"y\":[0,1,2,3,4,5],\"type\":\"scatter\",\"xaxis\":\"x5\",\"yaxis\":\"y5\"},{\"marker\":{\"color\":\"deepskyblue\",\"size\":10},\"mode\":\"markers\",\"showlegend\":false,\"x\":[0.42375135722041263,0.35397421230754567,0.35291776219690335,0.08569321533923303,0.3790457123790457,0.4091139306599833],\"y\":[0,1,2,3,4,5],\"type\":\"scatter\",\"xaxis\":\"x5\",\"yaxis\":\"y5\"},{\"marker\":{\"color\":\"orange\",\"size\":10},\"mode\":\"markers\",\"showlegend\":false,\"x\":[0.8590756704980844,0.650546485260771,0.05341246635106283,0.5373459316869059,0.6466881661406157,0.8972007075922739],\"y\":[0,1,2,3,4,5],\"type\":\"scatter\",\"xaxis\":\"x6\",\"yaxis\":\"y6\"},{\"marker\":{\"color\":\"deepskyblue\",\"size\":10},\"mode\":\"markers\",\"showlegend\":false,\"x\":[0.49013605442176866,0.41307142857142864,0.371148056923919,0.07341952062582435,0.5148979591836735,0.4678994870305846],\"y\":[0,1,2,3,4,5],\"type\":\"scatter\",\"xaxis\":\"x6\",\"yaxis\":\"y6\"},{\"marker\":{\"color\":\"orange\",\"size\":10},\"mode\":\"markers\",\"showlegend\":false,\"x\":[0.8433428279287175,0.4911535510478109,0.5724297126257911,0.38145043731778433,0.5921570402558997,0.821023619914405],\"y\":[0,1,2,3,4,5],\"type\":\"scatter\",\"xaxis\":\"x7\",\"yaxis\":\"y7\"},{\"marker\":{\"color\":\"deepskyblue\",\"size\":10},\"mode\":\"markers\",\"showlegend\":false,\"x\":[0.46751437417072095,0.34463003663003666,0.38389830508474576,0.16082823895323897,0.4630001810610176,0.48690075356742024],\"y\":[0,1,2,3,4,5],\"type\":\"scatter\",\"xaxis\":\"x7\",\"yaxis\":\"y7\"},{\"marker\":{\"color\":\"orange\",\"size\":10},\"mode\":\"markers\",\"showlegend\":false,\"x\":[0.9813333333333334,0.7119945877109201,0.6674102878973939,0.8574285714285715,0.8940305635148041,0.9921768707482993],\"y\":[0,1,2,3,4,5],\"type\":\"scatter\",\"xaxis\":\"x8\",\"yaxis\":\"y8\"},{\"marker\":{\"color\":\"deepskyblue\",\"size\":10},\"mode\":\"markers\",\"showlegend\":false,\"x\":[0.497134670487106,0.4004580498866213,0.4907945736434109,0.2528334925183063,0.5209881640517479,0.4880611270296084],\"y\":[0,1,2,3,4,5],\"type\":\"scatter\",\"xaxis\":\"x8\",\"yaxis\":\"y8\"}],                        {\"template\":{\"data\":{\"histogram2dcontour\":[{\"type\":\"histogram2dcontour\",\"colorbar\":{\"outlinewidth\":0,\"ticks\":\"\"},\"colorscale\":[[0.0,\"#0d0887\"],[0.1111111111111111,\"#46039f\"],[0.2222222222222222,\"#7201a8\"],[0.3333333333333333,\"#9c179e\"],[0.4444444444444444,\"#bd3786\"],[0.5555555555555556,\"#d8576b\"],[0.6666666666666666,\"#ed7953\"],[0.7777777777777778,\"#fb9f3a\"],[0.8888888888888888,\"#fdca26\"],[1.0,\"#f0f921\"]]}],\"choropleth\":[{\"type\":\"choropleth\",\"colorbar\":{\"outlinewidth\":0,\"ticks\":\"\"}}],\"histogram2d\":[{\"type\":\"histogram2d\",\"colorbar\":{\"outlinewidth\":0,\"ticks\":\"\"},\"colorscale\":[[0.0,\"#0d0887\"],[0.1111111111111111,\"#46039f\"],[0.2222222222222222,\"#7201a8\"],[0.3333333333333333,\"#9c179e\"],[0.4444444444444444,\"#bd3786\"],[0.5555555555555556,\"#d8576b\"],[0.6666666666666666,\"#ed7953\"],[0.7777777777777778,\"#fb9f3a\"],[0.8888888888888888,\"#fdca26\"],[1.0,\"#f0f921\"]]}],\"heatmap\":[{\"type\":\"heatmap\",\"colorbar\":{\"outlinewidth\":0,\"ticks\":\"\"},\"colorscale\":[[0.0,\"#0d0887\"],[0.1111111111111111,\"#46039f\"],[0.2222222222222222,\"#7201a8\"],[0.3333333333333333,\"#9c179e\"],[0.4444444444444444,\"#bd3786\"],[0.5555555555555556,\"#d8576b\"],[0.6666666666666666,\"#ed7953\"],[0.7777777777777778,\"#fb9f3a\"],[0.8888888888888888,\"#fdca26\"],[1.0,\"#f0f921\"]]}],\"heatmapgl\":[{\"type\":\"heatmapgl\",\"colorbar\":{\"outlinewidth\":0,\"ticks\":\"\"},\"colorscale\":[[0.0,\"#0d0887\"],[0.1111111111111111,\"#46039f\"],[0.2222222222222222,\"#7201a8\"],[0.3333333333333333,\"#9c179e\"],[0.4444444444444444,\"#bd3786\"],[0.5555555555555556,\"#d8576b\"],[0.6666666666666666,\"#ed7953\"],[0.7777777777777778,\"#fb9f3a\"],[0.8888888888888888,\"#fdca26\"],[1.0,\"#f0f921\"]]}],\"contourcarpet\":[{\"type\":\"contourcarpet\",\"colorbar\":{\"outlinewidth\":0,\"ticks\":\"\"}}],\"contour\":[{\"type\":\"contour\",\"colorbar\":{\"outlinewidth\":0,\"ticks\":\"\"},\"colorscale\":[[0.0,\"#0d0887\"],[0.1111111111111111,\"#46039f\"],[0.2222222222222222,\"#7201a8\"],[0.3333333333333333,\"#9c179e\"],[0.4444444444444444,\"#bd3786\"],[0.5555555555555556,\"#d8576b\"],[0.6666666666666666,\"#ed7953\"],[0.7777777777777778,\"#fb9f3a\"],[0.8888888888888888,\"#fdca26\"],[1.0,\"#f0f921\"]]}],\"surface\":[{\"type\":\"surface\",\"colorbar\":{\"outlinewidth\":0,\"ticks\":\"\"},\"colorscale\":[[0.0,\"#0d0887\"],[0.1111111111111111,\"#46039f\"],[0.2222222222222222,\"#7201a8\"],[0.3333333333333333,\"#9c179e\"],[0.4444444444444444,\"#bd3786\"],[0.5555555555555556,\"#d8576b\"],[0.6666666666666666,\"#ed7953\"],[0.7777777777777778,\"#fb9f3a\"],[0.8888888888888888,\"#fdca26\"],[1.0,\"#f0f921\"]]}],\"mesh3d\":[{\"type\":\"mesh3d\",\"colorbar\":{\"outlinewidth\":0,\"ticks\":\"\"}}],\"scatter\":[{\"fillpattern\":{\"fillmode\":\"overlay\",\"size\":10,\"solidity\":0.2},\"type\":\"scatter\"}],\"parcoords\":[{\"type\":\"parcoords\",\"line\":{\"colorbar\":{\"outlinewidth\":0,\"ticks\":\"\"}}}],\"scatterpolargl\":[{\"type\":\"scatterpolargl\",\"marker\":{\"colorbar\":{\"outlinewidth\":0,\"ticks\":\"\"}}}],\"bar\":[{\"error_x\":{\"color\":\"#2a3f5f\"},\"error_y\":{\"color\":\"#2a3f5f\"},\"marker\":{\"line\":{\"color\":\"#E5ECF6\",\"width\":0.5},\"pattern\":{\"fillmode\":\"overlay\",\"size\":10,\"solidity\":0.2}},\"type\":\"bar\"}],\"scattergeo\":[{\"type\":\"scattergeo\",\"marker\":{\"colorbar\":{\"outlinewidth\":0,\"ticks\":\"\"}}}],\"scatterpolar\":[{\"type\":\"scatterpolar\",\"marker\":{\"colorbar\":{\"outlinewidth\":0,\"ticks\":\"\"}}}],\"histogram\":[{\"marker\":{\"pattern\":{\"fillmode\":\"overlay\",\"size\":10,\"solidity\":0.2}},\"type\":\"histogram\"}],\"scattergl\":[{\"type\":\"scattergl\",\"marker\":{\"colorbar\":{\"outlinewidth\":0,\"ticks\":\"\"}}}],\"scatter3d\":[{\"type\":\"scatter3d\",\"line\":{\"colorbar\":{\"outlinewidth\":0,\"ticks\":\"\"}},\"marker\":{\"colorbar\":{\"outlinewidth\":0,\"ticks\":\"\"}}}],\"scattermapbox\":[{\"type\":\"scattermapbox\",\"marker\":{\"colorbar\":{\"outlinewidth\":0,\"ticks\":\"\"}}}],\"scatterternary\":[{\"type\":\"scatterternary\",\"marker\":{\"colorbar\":{\"outlinewidth\":0,\"ticks\":\"\"}}}],\"scattercarpet\":[{\"type\":\"scattercarpet\",\"marker\":{\"colorbar\":{\"outlinewidth\":0,\"ticks\":\"\"}}}],\"carpet\":[{\"aaxis\":{\"endlinecolor\":\"#2a3f5f\",\"gridcolor\":\"white\",\"linecolor\":\"white\",\"minorgridcolor\":\"white\",\"startlinecolor\":\"#2a3f5f\"},\"baxis\":{\"endlinecolor\":\"#2a3f5f\",\"gridcolor\":\"white\",\"linecolor\":\"white\",\"minorgridcolor\":\"white\",\"startlinecolor\":\"#2a3f5f\"},\"type\":\"carpet\"}],\"table\":[{\"cells\":{\"fill\":{\"color\":\"#EBF0F8\"},\"line\":{\"color\":\"white\"}},\"header\":{\"fill\":{\"color\":\"#C8D4E3\"},\"line\":{\"color\":\"white\"}},\"type\":\"table\"}],\"barpolar\":[{\"marker\":{\"line\":{\"color\":\"#E5ECF6\",\"width\":0.5},\"pattern\":{\"fillmode\":\"overlay\",\"size\":10,\"solidity\":0.2}},\"type\":\"barpolar\"}],\"pie\":[{\"automargin\":true,\"type\":\"pie\"}]},\"layout\":{\"autotypenumbers\":\"strict\",\"colorway\":[\"#636efa\",\"#EF553B\",\"#00cc96\",\"#ab63fa\",\"#FFA15A\",\"#19d3f3\",\"#FF6692\",\"#B6E880\",\"#FF97FF\",\"#FECB52\"],\"font\":{\"color\":\"#2a3f5f\"},\"hovermode\":\"closest\",\"hoverlabel\":{\"align\":\"left\"},\"paper_bgcolor\":\"white\",\"plot_bgcolor\":\"#E5ECF6\",\"polar\":{\"bgcolor\":\"#E5ECF6\",\"angularaxis\":{\"gridcolor\":\"white\",\"linecolor\":\"white\",\"ticks\":\"\"},\"radialaxis\":{\"gridcolor\":\"white\",\"linecolor\":\"white\",\"ticks\":\"\"}},\"ternary\":{\"bgcolor\":\"#E5ECF6\",\"aaxis\":{\"gridcolor\":\"white\",\"linecolor\":\"white\",\"ticks\":\"\"},\"baxis\":{\"gridcolor\":\"white\",\"linecolor\":\"white\",\"ticks\":\"\"},\"caxis\":{\"gridcolor\":\"white\",\"linecolor\":\"white\",\"ticks\":\"\"}},\"coloraxis\":{\"colorbar\":{\"outlinewidth\":0,\"ticks\":\"\"}},\"colorscale\":{\"sequential\":[[0.0,\"#0d0887\"],[0.1111111111111111,\"#46039f\"],[0.2222222222222222,\"#7201a8\"],[0.3333333333333333,\"#9c179e\"],[0.4444444444444444,\"#bd3786\"],[0.5555555555555556,\"#d8576b\"],[0.6666666666666666,\"#ed7953\"],[0.7777777777777778,\"#fb9f3a\"],[0.8888888888888888,\"#fdca26\"],[1.0,\"#f0f921\"]],\"sequentialminus\":[[0.0,\"#0d0887\"],[0.1111111111111111,\"#46039f\"],[0.2222222222222222,\"#7201a8\"],[0.3333333333333333,\"#9c179e\"],[0.4444444444444444,\"#bd3786\"],[0.5555555555555556,\"#d8576b\"],[0.6666666666666666,\"#ed7953\"],[0.7777777777777778,\"#fb9f3a\"],[0.8888888888888888,\"#fdca26\"],[1.0,\"#f0f921\"]],\"diverging\":[[0,\"#8e0152\"],[0.1,\"#c51b7d\"],[0.2,\"#de77ae\"],[0.3,\"#f1b6da\"],[0.4,\"#fde0ef\"],[0.5,\"#f7f7f7\"],[0.6,\"#e6f5d0\"],[0.7,\"#b8e186\"],[0.8,\"#7fbc41\"],[0.9,\"#4d9221\"],[1,\"#276419\"]]},\"xaxis\":{\"gridcolor\":\"white\",\"linecolor\":\"white\",\"ticks\":\"\",\"title\":{\"standoff\":15},\"zerolinecolor\":\"white\",\"automargin\":true,\"zerolinewidth\":2},\"yaxis\":{\"gridcolor\":\"white\",\"linecolor\":\"white\",\"ticks\":\"\",\"title\":{\"standoff\":15},\"zerolinecolor\":\"white\",\"automargin\":true,\"zerolinewidth\":2},\"scene\":{\"xaxis\":{\"backgroundcolor\":\"#E5ECF6\",\"gridcolor\":\"white\",\"linecolor\":\"white\",\"showbackground\":true,\"ticks\":\"\",\"zerolinecolor\":\"white\",\"gridwidth\":2},\"yaxis\":{\"backgroundcolor\":\"#E5ECF6\",\"gridcolor\":\"white\",\"linecolor\":\"white\",\"showbackground\":true,\"ticks\":\"\",\"zerolinecolor\":\"white\",\"gridwidth\":2},\"zaxis\":{\"backgroundcolor\":\"#E5ECF6\",\"gridcolor\":\"white\",\"linecolor\":\"white\",\"showbackground\":true,\"ticks\":\"\",\"zerolinecolor\":\"white\",\"gridwidth\":2}},\"shapedefaults\":{\"line\":{\"color\":\"#2a3f5f\"}},\"annotationdefaults\":{\"arrowcolor\":\"#2a3f5f\",\"arrowhead\":0,\"arrowwidth\":1},\"geo\":{\"bgcolor\":\"white\",\"landcolor\":\"#E5ECF6\",\"subunitcolor\":\"white\",\"showland\":true,\"showlakes\":true,\"lakecolor\":\"white\"},\"title\":{\"x\":0.05},\"mapbox\":{\"style\":\"light\"}}},\"xaxis\":{\"anchor\":\"y\",\"domain\":[0.0,0.235],\"range\":[-0.1,1.1],\"tickvals\":[0,0.5,1],\"showgrid\":true,\"gridcolor\":\"lightgray\",\"linecolor\":\"black\",\"mirror\":true},\"yaxis\":{\"anchor\":\"x\",\"domain\":[0.575,1.0],\"tickvals\":[0,1,2,3,4,5],\"ticktext\":[\"Careless\",\"Closed-Minded\",\"Friendly\",\"Rural\",\"Temper\",\"Uneducated\"],\"showticklabels\":true,\"showgrid\":true,\"gridcolor\":\"lightgray\",\"linecolor\":\"black\",\"mirror\":true,\"title\":{\"text\":\"\"}},\"xaxis2\":{\"anchor\":\"y2\",\"domain\":[0.255,0.49],\"range\":[-0.1,1.1],\"tickvals\":[0,0.5,1],\"showgrid\":true,\"gridcolor\":\"lightgray\",\"linecolor\":\"black\",\"mirror\":true},\"yaxis2\":{\"anchor\":\"x2\",\"domain\":[0.575,1.0],\"matches\":\"y\",\"showticklabels\":false,\"tickvals\":[0,1,2,3,4,5],\"showgrid\":true,\"gridcolor\":\"lightgray\",\"linecolor\":\"black\",\"mirror\":true},\"xaxis3\":{\"anchor\":\"y3\",\"domain\":[0.51,0.745],\"range\":[-0.1,1.1],\"tickvals\":[0,0.5,1],\"showgrid\":true,\"gridcolor\":\"lightgray\",\"linecolor\":\"black\",\"mirror\":true},\"yaxis3\":{\"anchor\":\"x3\",\"domain\":[0.575,1.0],\"matches\":\"y\",\"showticklabels\":false,\"tickvals\":[0,1,2,3,4,5],\"showgrid\":true,\"gridcolor\":\"lightgray\",\"linecolor\":\"black\",\"mirror\":true},\"xaxis4\":{\"anchor\":\"y4\",\"domain\":[0.7649999999999999,0.9999999999999999],\"range\":[-0.1,1.1],\"tickvals\":[0,0.5,1],\"showgrid\":true,\"gridcolor\":\"lightgray\",\"linecolor\":\"black\",\"mirror\":true},\"yaxis4\":{\"anchor\":\"x4\",\"domain\":[0.575,1.0],\"matches\":\"y\",\"showticklabels\":false,\"tickvals\":[0,1,2,3,4,5],\"showgrid\":true,\"gridcolor\":\"lightgray\",\"linecolor\":\"black\",\"mirror\":true},\"xaxis5\":{\"anchor\":\"y5\",\"domain\":[0.0,0.235],\"title\":{\"text\":\"(Absolute) Bias\"},\"range\":[-0.1,1.1],\"tickvals\":[0,0.5,1],\"showgrid\":true,\"gridcolor\":\"lightgray\",\"linecolor\":\"black\",\"mirror\":true},\"yaxis5\":{\"anchor\":\"x5\",\"domain\":[0.0,0.425],\"tickvals\":[0,1,2,3,4,5],\"ticktext\":[\"Careless\",\"Closed-Minded\",\"Friendly\",\"Rural\",\"Temper\",\"Uneducated\"],\"showticklabels\":true,\"showgrid\":true,\"gridcolor\":\"lightgray\",\"linecolor\":\"black\",\"mirror\":true},\"xaxis6\":{\"anchor\":\"y6\",\"domain\":[0.255,0.49],\"title\":{\"text\":\"(Absolute) Bias\"},\"range\":[-0.1,1.1],\"tickvals\":[0,0.5,1],\"showgrid\":true,\"gridcolor\":\"lightgray\",\"linecolor\":\"black\",\"mirror\":true},\"yaxis6\":{\"anchor\":\"x6\",\"domain\":[0.0,0.425],\"matches\":\"y5\",\"showticklabels\":false,\"tickvals\":[0,1,2,3,4,5],\"showgrid\":true,\"gridcolor\":\"lightgray\",\"linecolor\":\"black\",\"mirror\":true},\"xaxis7\":{\"anchor\":\"y7\",\"domain\":[0.51,0.745],\"title\":{\"text\":\"(Absolute) Bias\"},\"range\":[-0.1,1.1],\"tickvals\":[0,0.5,1],\"showgrid\":true,\"gridcolor\":\"lightgray\",\"linecolor\":\"black\",\"mirror\":true},\"yaxis7\":{\"anchor\":\"x7\",\"domain\":[0.0,0.425],\"matches\":\"y5\",\"showticklabels\":false,\"tickvals\":[0,1,2,3,4,5],\"showgrid\":true,\"gridcolor\":\"lightgray\",\"linecolor\":\"black\",\"mirror\":true},\"xaxis8\":{\"anchor\":\"y8\",\"domain\":[0.7649999999999999,0.9999999999999999],\"title\":{\"text\":\"(Absolute) Bias\"},\"range\":[-0.1,1.1],\"tickvals\":[0,0.5,1],\"showgrid\":true,\"gridcolor\":\"lightgray\",\"linecolor\":\"black\",\"mirror\":true},\"yaxis8\":{\"anchor\":\"x8\",\"domain\":[0.0,0.425],\"matches\":\"y5\",\"showticklabels\":false,\"tickvals\":[0,1,2,3,4,5],\"showgrid\":true,\"gridcolor\":\"lightgray\",\"linecolor\":\"black\",\"mirror\":true},\"annotations\":[{\"font\":{\"size\":16},\"showarrow\":false,\"text\":\"Aya 8B\",\"x\":0.1175,\"xanchor\":\"center\",\"xref\":\"paper\",\"y\":1.0,\"yanchor\":\"bottom\",\"yref\":\"paper\"},{\"font\":{\"size\":16},\"showarrow\":false,\"text\":\"Aya 32b\",\"x\":0.3725,\"xanchor\":\"center\",\"xref\":\"paper\",\"y\":1.0,\"yanchor\":\"bottom\",\"yref\":\"paper\"},{\"font\":{\"size\":16},\"showarrow\":false,\"text\":\"Gemma-3 12B\",\"x\":0.6275,\"xanchor\":\"center\",\"xref\":\"paper\",\"y\":1.0,\"yanchor\":\"bottom\",\"yref\":\"paper\"},{\"font\":{\"size\":16},\"showarrow\":false,\"text\":\"Gemma-3 27B\",\"x\":0.8824999999999998,\"xanchor\":\"center\",\"xref\":\"paper\",\"y\":1.0,\"yanchor\":\"bottom\",\"yref\":\"paper\"},{\"font\":{\"size\":16},\"showarrow\":false,\"text\":\"Llama-3.1 8B\",\"x\":0.1175,\"xanchor\":\"center\",\"xref\":\"paper\",\"y\":0.425,\"yanchor\":\"bottom\",\"yref\":\"paper\"},{\"font\":{\"size\":16},\"showarrow\":false,\"text\":\"Llama-3.1 70B\",\"x\":0.3725,\"xanchor\":\"center\",\"xref\":\"paper\",\"y\":0.425,\"yanchor\":\"bottom\",\"yref\":\"paper\"},{\"font\":{\"size\":16},\"showarrow\":false,\"text\":\"Qwen2.5 7B\",\"x\":0.6275,\"xanchor\":\"center\",\"xref\":\"paper\",\"y\":0.425,\"yanchor\":\"bottom\",\"yref\":\"paper\"},{\"font\":{\"size\":16},\"showarrow\":false,\"text\":\"Qwen2.5 72B\",\"x\":0.8824999999999998,\"xanchor\":\"center\",\"xref\":\"paper\",\"y\":0.425,\"yanchor\":\"bottom\",\"yref\":\"paper\"},{\"arrowhead\":3,\"arrowsize\":2,\"arrowwidth\":1,\"ax\":0.4204289349327518,\"axref\":\"x\",\"ay\":1,\"ayref\":\"y\",\"opacity\":0.8,\"showarrow\":true,\"x\":0.24784627543963647,\"xref\":\"x\",\"y\":1,\"yref\":\"y\"},{\"arrowhead\":3,\"arrowsize\":2,\"arrowwidth\":1,\"ax\":0.49597756691852635,\"axref\":\"x\",\"ay\":3,\"ayref\":\"y\",\"opacity\":0.8,\"showarrow\":true,\"x\":0.13862266425557568,\"xref\":\"x\",\"y\":3,\"yref\":\"y\"},{\"arrowhead\":3,\"arrowsize\":2,\"arrowwidth\":1,\"ax\":0.6064539007092199,\"axref\":\"x\",\"ay\":5,\"ayref\":\"y\",\"opacity\":0.8,\"showarrow\":true,\"x\":0.33337804605410243,\"xref\":\"x\",\"y\":5,\"yref\":\"y\"},{\"arrowhead\":3,\"arrowsize\":2,\"arrowwidth\":1,\"ax\":0.6356972789115646,\"axref\":\"x2\",\"ay\":0,\"ayref\":\"y2\",\"opacity\":0.8,\"showarrow\":true,\"x\":0.39389025725232624,\"xref\":\"x2\",\"y\":0,\"yref\":\"y2\"},{\"arrowhead\":3,\"arrowsize\":2,\"arrowwidth\":1,\"ax\":0.44979641131815046,\"axref\":\"x2\",\"ay\":3,\"ayref\":\"y2\",\"opacity\":0.8,\"showarrow\":true,\"x\":0.16551518487934674,\"xref\":\"x2\",\"y\":3,\"yref\":\"y2\"},{\"arrowhead\":3,\"arrowsize\":2,\"arrowwidth\":1,\"ax\":0.512405653904213,\"axref\":\"x2\",\"ay\":4,\"ayref\":\"y2\",\"opacity\":0.8,\"showarrow\":true,\"x\":0.3477623140946923,\"xref\":\"x2\",\"y\":4,\"yref\":\"y2\"},{\"arrowhead\":3,\"arrowsize\":2,\"arrowwidth\":1,\"ax\":0.8075218075218076,\"axref\":\"x2\",\"ay\":5,\"ayref\":\"y2\",\"opacity\":0.8,\"showarrow\":true,\"x\":0.4074130879345603,\"xref\":\"x2\",\"y\":5,\"yref\":\"y2\"},{\"arrowhead\":3,\"arrowsize\":2,\"arrowwidth\":1,\"ax\":0.7265534547152195,\"axref\":\"x3\",\"ay\":0,\"ayref\":\"y3\",\"opacity\":0.8,\"showarrow\":true,\"x\":0.4759331686565116,\"xref\":\"x3\",\"y\":0,\"yref\":\"y3\"},{\"arrowhead\":3,\"arrowsize\":2,\"arrowwidth\":1,\"ax\":0.4059569160997733,\"axref\":\"x3\",\"ay\":1,\"ayref\":\"y3\",\"opacity\":0.8,\"showarrow\":true,\"x\":0.31471201814058963,\"xref\":\"x3\",\"y\":1,\"yref\":\"y3\"},{\"arrowhead\":3,\"arrowsize\":2,\"arrowwidth\":1,\"ax\":0.04570802005012532,\"axref\":\"x3\",\"ay\":2,\"ayref\":\"y3\",\"opacity\":0.8,\"showarrow\":true,\"x\":0.2820293146160198,\"xref\":\"x3\",\"y\":2,\"yref\":\"y3\"},{\"arrowhead\":3,\"arrowsize\":2,\"arrowwidth\":1,\"ax\":0.49164462081128746,\"axref\":\"x3\",\"ay\":3,\"ayref\":\"y3\",\"opacity\":0.8,\"showarrow\":true,\"x\":0.1640428297755884,\"xref\":\"x3\",\"y\":3,\"yref\":\"y3\"},{\"arrowhead\":3,\"arrowsize\":2,\"arrowwidth\":1,\"ax\":0.7719376185848489,\"axref\":\"x3\",\"ay\":5,\"ayref\":\"y3\",\"opacity\":0.8,\"showarrow\":true,\"x\":0.45428921568627456,\"xref\":\"x3\",\"y\":5,\"yref\":\"y3\"},{\"arrowhead\":3,\"arrowsize\":2,\"arrowwidth\":1,\"ax\":0.924541331684189,\"axref\":\"x4\",\"ay\":0,\"ayref\":\"y4\",\"opacity\":0.8,\"showarrow\":true,\"x\":0.4864864864864865,\"xref\":\"x4\",\"y\":0,\"yref\":\"y4\"},{\"arrowhead\":3,\"arrowsize\":2,\"arrowwidth\":1,\"ax\":0.28685428849902533,\"axref\":\"x4\",\"ay\":2,\"ayref\":\"y4\",\"opacity\":0.8,\"showarrow\":true,\"x\":0.4500453995157385,\"xref\":\"x4\",\"y\":2,\"yref\":\"y4\"},{\"arrowhead\":3,\"arrowsize\":2,\"arrowwidth\":1,\"ax\":0.7912534643487025,\"axref\":\"x4\",\"ay\":3,\"ayref\":\"y4\",\"opacity\":0.8,\"showarrow\":true,\"x\":0.2714512853401742,\"xref\":\"x4\",\"y\":3,\"yref\":\"y4\"},{\"arrowhead\":3,\"arrowsize\":2,\"arrowwidth\":1,\"ax\":0.8296535517280198,\"axref\":\"x4\",\"ay\":4,\"ayref\":\"y4\",\"opacity\":0.8,\"showarrow\":true,\"x\":0.5024968789013733,\"xref\":\"x4\",\"y\":4,\"yref\":\"y4\"},{\"arrowhead\":3,\"arrowsize\":2,\"arrowwidth\":1,\"ax\":0.9498795627200296,\"axref\":\"x4\",\"ay\":5,\"ayref\":\"y4\",\"opacity\":0.8,\"showarrow\":true,\"x\":0.45442708333333337,\"xref\":\"x4\",\"y\":5,\"yref\":\"y4\"},{\"arrowhead\":3,\"arrowsize\":2,\"arrowwidth\":1,\"ax\":0.5748782899741367,\"axref\":\"x5\",\"ay\":0,\"ayref\":\"y5\",\"opacity\":0.8,\"showarrow\":true,\"x\":0.42375135722041263,\"xref\":\"x5\",\"y\":0,\"yref\":\"y5\"},{\"arrowhead\":3,\"arrowsize\":2,\"arrowwidth\":1,\"ax\":0.3842156862745098,\"axref\":\"x5\",\"ay\":3,\"ayref\":\"y5\",\"opacity\":0.8,\"showarrow\":true,\"x\":0.08569321533923303,\"xref\":\"x5\",\"y\":3,\"yref\":\"y5\"},{\"arrowhead\":3,\"arrowsize\":2,\"arrowwidth\":1,\"ax\":0.7387969094922737,\"axref\":\"x5\",\"ay\":5,\"ayref\":\"y5\",\"opacity\":0.8,\"showarrow\":true,\"x\":0.4091139306599833,\"xref\":\"x5\",\"y\":5,\"yref\":\"y5\"},{\"arrowhead\":3,\"arrowsize\":2,\"arrowwidth\":1,\"ax\":0.8590756704980844,\"axref\":\"x6\",\"ay\":0,\"ayref\":\"y6\",\"opacity\":0.8,\"showarrow\":true,\"x\":0.49013605442176866,\"xref\":\"x6\",\"y\":0,\"yref\":\"y6\"},{\"arrowhead\":3,\"arrowsize\":2,\"arrowwidth\":1,\"ax\":0.650546485260771,\"axref\":\"x6\",\"ay\":1,\"ayref\":\"y6\",\"opacity\":0.8,\"showarrow\":true,\"x\":0.41307142857142864,\"xref\":\"x6\",\"y\":1,\"yref\":\"y6\"},{\"arrowhead\":3,\"arrowsize\":2,\"arrowwidth\":1,\"ax\":0.05341246635106283,\"axref\":\"x6\",\"ay\":2,\"ayref\":\"y6\",\"opacity\":0.8,\"showarrow\":true,\"x\":0.371148056923919,\"xref\":\"x6\",\"y\":2,\"yref\":\"y6\"},{\"arrowhead\":3,\"arrowsize\":2,\"arrowwidth\":1,\"ax\":0.5373459316869059,\"axref\":\"x6\",\"ay\":3,\"ayref\":\"y6\",\"opacity\":0.8,\"showarrow\":true,\"x\":0.07341952062582435,\"xref\":\"x6\",\"y\":3,\"yref\":\"y6\"},{\"arrowhead\":3,\"arrowsize\":2,\"arrowwidth\":1,\"ax\":0.6466881661406157,\"axref\":\"x6\",\"ay\":4,\"ayref\":\"y6\",\"opacity\":0.8,\"showarrow\":true,\"x\":0.5148979591836735,\"xref\":\"x6\",\"y\":4,\"yref\":\"y6\"},{\"arrowhead\":3,\"arrowsize\":2,\"arrowwidth\":1,\"ax\":0.8972007075922739,\"axref\":\"x6\",\"ay\":5,\"ayref\":\"y6\",\"opacity\":0.8,\"showarrow\":true,\"x\":0.4678994870305846,\"xref\":\"x6\",\"y\":5,\"yref\":\"y6\"},{\"arrowhead\":3,\"arrowsize\":2,\"arrowwidth\":1,\"ax\":0.8433428279287175,\"axref\":\"x7\",\"ay\":0,\"ayref\":\"y7\",\"opacity\":0.8,\"showarrow\":true,\"x\":0.46751437417072095,\"xref\":\"x7\",\"y\":0,\"yref\":\"y7\"},{\"arrowhead\":3,\"arrowsize\":2,\"arrowwidth\":1,\"ax\":0.4911535510478109,\"axref\":\"x7\",\"ay\":1,\"ayref\":\"y7\",\"opacity\":0.8,\"showarrow\":true,\"x\":0.34463003663003666,\"xref\":\"x7\",\"y\":1,\"yref\":\"y7\"},{\"arrowhead\":3,\"arrowsize\":2,\"arrowwidth\":1,\"ax\":0.38145043731778433,\"axref\":\"x7\",\"ay\":3,\"ayref\":\"y7\",\"opacity\":0.8,\"showarrow\":true,\"x\":0.16082823895323897,\"xref\":\"x7\",\"y\":3,\"yref\":\"y7\"},{\"arrowhead\":3,\"arrowsize\":2,\"arrowwidth\":1,\"ax\":0.5921570402558997,\"axref\":\"x7\",\"ay\":4,\"ayref\":\"y7\",\"opacity\":0.8,\"showarrow\":true,\"x\":0.4630001810610176,\"xref\":\"x7\",\"y\":4,\"yref\":\"y7\"},{\"arrowhead\":3,\"arrowsize\":2,\"arrowwidth\":1,\"ax\":0.821023619914405,\"axref\":\"x7\",\"ay\":5,\"ayref\":\"y7\",\"opacity\":0.8,\"showarrow\":true,\"x\":0.48690075356742024,\"xref\":\"x7\",\"y\":5,\"yref\":\"y7\"},{\"arrowhead\":3,\"arrowsize\":2,\"arrowwidth\":1,\"ax\":0.9813333333333334,\"axref\":\"x8\",\"ay\":0,\"ayref\":\"y8\",\"opacity\":0.8,\"showarrow\":true,\"x\":0.497134670487106,\"xref\":\"x8\",\"y\":0,\"yref\":\"y8\"},{\"arrowhead\":3,\"arrowsize\":2,\"arrowwidth\":1,\"ax\":0.7119945877109201,\"axref\":\"x8\",\"ay\":1,\"ayref\":\"y8\",\"opacity\":0.8,\"showarrow\":true,\"x\":0.4004580498866213,\"xref\":\"x8\",\"y\":1,\"yref\":\"y8\"},{\"arrowhead\":3,\"arrowsize\":2,\"arrowwidth\":1,\"ax\":0.8574285714285715,\"axref\":\"x8\",\"ay\":3,\"ayref\":\"y8\",\"opacity\":0.8,\"showarrow\":true,\"x\":0.2528334925183063,\"xref\":\"x8\",\"y\":3,\"yref\":\"y8\"},{\"arrowhead\":3,\"arrowsize\":2,\"arrowwidth\":1,\"ax\":0.8940305635148041,\"axref\":\"x8\",\"ay\":4,\"ayref\":\"y8\",\"opacity\":0.8,\"showarrow\":true,\"x\":0.5209881640517479,\"xref\":\"x8\",\"y\":4,\"yref\":\"y8\"},{\"arrowhead\":3,\"arrowsize\":2,\"arrowwidth\":1,\"ax\":0.9921768707482993,\"axref\":\"x8\",\"ay\":5,\"ayref\":\"y8\",\"opacity\":0.8,\"showarrow\":true,\"x\":0.4880611270296084,\"xref\":\"x8\",\"y\":5,\"yref\":\"y8\"}],\"font\":{\"size\":14,\"color\":\"black\"},\"legend\":{\"orientation\":\"h\",\"yanchor\":\"bottom\",\"y\":1.05,\"xanchor\":\"center\",\"x\":0.45},\"margin\":{\"t\":0,\"l\":110,\"r\":5,\"b\":50},\"height\":480,\"width\":800,\"paper_bgcolor\":\"white\",\"plot_bgcolor\":\"white\"},                        {\"responsive\": true}                    ).then(function(){\n",
       "                            \n",
       "var gd = document.getElementById('a6f29671-96fa-4fef-a065-4f1fdb878a9f');\n",
       "var x = new MutationObserver(function (mutations, observer) {{\n",
       "        var display = window.getComputedStyle(gd).display;\n",
       "        if (!display || display === 'none') {{\n",
       "            console.log([gd, 'removed!']);\n",
       "            Plotly.purge(gd);\n",
       "            observer.disconnect();\n",
       "        }}\n",
       "}});\n",
       "\n",
       "// Listen for the removal of the full notebook cells\n",
       "var notebookContainer = gd.closest('#notebook-container');\n",
       "if (notebookContainer) {{\n",
       "    x.observe(notebookContainer, {childList: true});\n",
       "}}\n",
       "\n",
       "// Listen for the clearing of the current output cell\n",
       "var outputEl = gd.closest('.output');\n",
       "if (outputEl) {{\n",
       "    x.observe(outputEl, {childList: true});\n",
       "}}\n",
       "\n",
       "                        })                };                });            </script>        </div>"
      ]
     },
     "metadata": {},
     "output_type": "display_data"
    }
   ],
   "source": [
    "import pandas as pd\n",
    "from scipy import stats\n",
    "import numpy as np\n",
    "\n",
    "df_robust = pd.read_csv(\"../output/implicit_robustness_0.5/eval/final.csv\")\n",
    "\n",
    "df_default = pd.read_csv(\"../output/implicit/eval/final.csv\")\n",
    "\n",
    "friendly = \"Friendly\"\n",
    "educated = \"Uneducated\"\n",
    "urban = \"Rural\"\n",
    "#religious = \"Religious\"\n",
    "calm = \"Temper\"\n",
    "open_to_experience = \"Closed-Minded\"\n",
    "conscientiousness = \"Careless\"\n",
    "\n",
    "df_robust[\"dimension\"] = df_robust[\"dimension\"].replace({\n",
    "    \"friendly\": friendly,\n",
    "    \"educated\": educated,\n",
    "    \"urban\": urban,\n",
    "    #\"religious\": religious,\n",
    "    \"calm\": calm,\n",
    "    \"open_to_experience\": open_to_experience,\n",
    "    \"conscientiousness\": conscientiousness\n",
    "})\n",
    "\n",
    "df_default[\"dimension\"] = df_default[\"dimension\"].replace({\n",
    "    \"friendly\": friendly,\n",
    "    \"educated\": educated,\n",
    "    \"urban\": urban,\n",
    "    #\"religious\": religious,\n",
    "    \"calm\": calm,\n",
    "    \"open_to_experience\": open_to_experience,\n",
    "    \"conscientiousness\": conscientiousness\n",
    "})\n",
    "\n",
    "\n",
    "def preproces_data(df):\n",
    "    df = df[df['nones'] == 0]\n",
    "\n",
    "    group_stats = df.groupby(['model_name', 'dimension'])['bias'].agg(['mean', 'std', 'count']).reset_index()\n",
    "\n",
    "    group_stats['se'] = group_stats['std'] / np.sqrt(group_stats['count'])\n",
    "    group_stats['t_score'] = group_stats['count'].apply(lambda n: stats.t.ppf(0.95, df=n-1) if n > 1 else 0)\n",
    "    group_stats['margin_of_error'] = group_stats['t_score'] * group_stats['se']\n",
    "    group_stats['lower'] = group_stats['mean'] - group_stats['margin_of_error']\n",
    "    group_stats['upper'] = group_stats['mean'] + group_stats['margin_of_error']\n",
    "\n",
    "    return group_stats\n",
    "\n",
    "\n",
    "data_robust = preproces_data(df_robust)\n",
    "\n",
    "data_default = preproces_data(df_default)\n",
    "\n",
    "df1 = data_default.copy()\n",
    "df2 = data_robust.copy()\n",
    "\n",
    "# Category labels and Y positions\n",
    "categories = df2.sort_values(by='dimension', ascending=True)[\"dimension\"].unique()\n",
    "y_pos = list(range(len(categories)))\n",
    "\n",
    "# Model groups: row number → list of models\n",
    "model_groups = {\n",
    "    1: ['Aya 8B', 'Aya 32b', 'Gemma-3 12B', 'Gemma-3 27B'],\n",
    "    2: ['Llama-3.1 8B', 'Llama-3.1 70B', 'Qwen2.5 7B', 'Qwen2.5 72B']\n",
    "}\n",
    "num_rows = len(model_groups)\n",
    "num_cols = len(next(iter(model_groups.values())))\n",
    "\n",
    "# Flatten titles in row-major order\n",
    "subplot_titles = [model for row in model_groups.values() for model in row]\n",
    "\n",
    "# Create subplots\n",
    "fig = make_subplots(\n",
    "    rows=num_rows,\n",
    "    cols=num_cols,\n",
    "    shared_yaxes=True,\n",
    "    subplot_titles=subplot_titles,\n",
    "    horizontal_spacing=0.02,\n",
    "    vertical_spacing=0.15\n",
    ")\n",
    "\n",
    "# Helper function to plot one model into a subplot\n",
    "def plot_model(model, row, col, show_legend):\n",
    "    d1 = df1[df1['model_name'] == model].sort_values(by='dimension', ascending=True)\n",
    "    d2 = df2[df2['model_name'] == model].sort_values(by='dimension', ascending=True)\n",
    "\n",
    "    default_scores = d1['mean'].abs().tolist()\n",
    "    robust_scores = d2['mean'].abs().tolist()\n",
    "    default_lower = d1['lower'].tolist()\n",
    "    robust_upper = d2['upper'].tolist()\n",
    "\n",
    "    # Add default (orange)\n",
    "    fig.add_trace(go.Scatter(\n",
    "        x=default_scores,\n",
    "        y=y_pos,\n",
    "        mode='markers',\n",
    "        marker=dict(color='orange', size=10),\n",
    "        name='Dialect' if show_legend else None,\n",
    "        showlegend=show_legend\n",
    "    ), row=row, col=col)\n",
    "\n",
    "    # Add robust (blue)\n",
    "    fig.add_trace(go.Scatter(\n",
    "        x=robust_scores,\n",
    "        y=y_pos,\n",
    "        mode='markers',\n",
    "        marker=dict(color='deepskyblue', size=10),\n",
    "        name='Noisy' if show_legend else None,\n",
    "        showlegend=show_legend\n",
    "    ), row=row, col=col)\n",
    "\n",
    "    # Correct arrow placement with subplot axis IDs\n",
    "    xaxis = f'x{(col + (row - 1) * num_cols)}' if not (row == 1 and col == 1) else 'x'\n",
    "    yaxis = f'y{(col + (row - 1) * num_cols)}' if not (row == 1 and col == 1) else 'y'\n",
    "\n",
    "    for j, (x0, x1, l0, u1) in enumerate(zip(default_scores, robust_scores, default_lower, robust_upper)):\n",
    "        if u1 < l0:\n",
    "            fig.add_annotation(\n",
    "                x=x1, y=j,\n",
    "                ax=x0, ay=j,\n",
    "                xref=xaxis, yref=yaxis,\n",
    "                axref=xaxis, ayref=yaxis,\n",
    "                showarrow=True,\n",
    "                arrowhead=3,\n",
    "                arrowsize=2,\n",
    "                arrowwidth=1,\n",
    "                #arrowcolor='gray',\n",
    "                opacity=0.8\n",
    "            )\n",
    "\n",
    "    # Axes setup\n",
    "    fig.update_xaxes(\n",
    "        title_text=\"(Absolute) Bias\" if row == 2 else None,\n",
    "        range=[-0.1, 1.1],\n",
    "        tickvals=[0, 0.5, 1],\n",
    "        showgrid=True,\n",
    "        gridcolor='lightgray',\n",
    "        linecolor='black',\n",
    "        mirror=True,\n",
    "        row=row, col=col\n",
    "    )\n",
    "\n",
    "    fig.update_yaxes(\n",
    "        tickvals=y_pos,\n",
    "        ticktext=categories if col == 1 else None,\n",
    "        showticklabels=(col == 1),\n",
    "        showgrid=True,\n",
    "        gridcolor='lightgray',\n",
    "        linecolor='black',\n",
    "        mirror=True,\n",
    "        row=row, col=col\n",
    "    )\n",
    "\n",
    "# Add each model to the figure\n",
    "for row, models in model_groups.items():\n",
    "    for col, model in enumerate(models, start=1):\n",
    "        plot_model(model, row, col, show_legend=(row == 1 and col == 1))\n",
    "\n",
    "# Layout tweaks\n",
    "fig.update_layout(\n",
    "    height=240 * num_rows,\n",
    "    width=200 * num_cols,\n",
    "    yaxis_title='',\n",
    "    font=dict(size=14, color='black'),\n",
    "    legend=dict(orientation=\"h\", yanchor=\"bottom\", y=1.05, xanchor=\"center\", x=0.45),\n",
    "    margin=dict(t=0, l=110, r=5, b=50),\n",
    "    paper_bgcolor='white',\n",
    "    plot_bgcolor='white'\n",
    ")\n",
    "\n",
    "fig.show()\n",
    "fig.write_image(\"../img/noisy_diff_two_rows_0.5.pdf\")\n"
   ]
  },
  {
   "cell_type": "code",
   "execution_count": 16,
   "id": "6c1ef53c",
   "metadata": {},
   "outputs": [
    {
     "data": {
      "text/plain": [
       "array(['Careless', 'Closed-Minded', 'Friendly', 'Rural', 'Temper',\n",
       "       'Uneducated'], dtype=object)"
      ]
     },
     "execution_count": 16,
     "metadata": {},
     "output_type": "execute_result"
    }
   ],
   "source": [
    "categories"
   ]
  },
  {
   "cell_type": "code",
   "execution_count": 13,
   "id": "9cf90487",
   "metadata": {},
   "outputs": [
    {
     "data": {
      "text/plain": [
       "[0, 1, 2, 3, 4, 5]"
      ]
     },
     "execution_count": 13,
     "metadata": {},
     "output_type": "execute_result"
    }
   ],
   "source": [
    "y_pos"
   ]
  },
  {
   "cell_type": "code",
   "execution_count": 14,
   "id": "180fdb3d",
   "metadata": {},
   "outputs": [
    {
     "data": {
      "text/plain": [
       "array(['Careless', 'Closed-Minded', 'Friendly', 'Rural', 'Temper',\n",
       "       'Uneducated'], dtype=object)"
      ]
     },
     "execution_count": 14,
     "metadata": {},
     "output_type": "execute_result"
    }
   ],
   "source": [
    "categories"
   ]
  },
  {
   "cell_type": "code",
   "execution_count": null,
   "id": "585c785c",
   "metadata": {},
   "outputs": [],
   "source": []
  }
 ],
 "metadata": {
  "kernelspec": {
   "display_name": "cultural",
   "language": "python",
   "name": "python3"
  },
  "language_info": {
   "codemirror_mode": {
    "name": "ipython",
    "version": 3
   },
   "file_extension": ".py",
   "mimetype": "text/x-python",
   "name": "python",
   "nbconvert_exporter": "python",
   "pygments_lexer": "ipython3",
   "version": "3.10.15"
  }
 },
 "nbformat": 4,
 "nbformat_minor": 5
}
